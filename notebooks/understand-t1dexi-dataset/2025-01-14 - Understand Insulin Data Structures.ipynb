{
 "cells": [
  {
   "cell_type": "markdown",
   "metadata": {},
   "source": [
    "**Problem**:\n",
    "\n",
    "We need a good understanding of the T1DExi data. After having assessed the netiob script, and the study documentation some questions remain about how the columns relate. Especially the script often uses equivalent columns which makes it difficult. The analysis of the script output also leads to strong concerns about the validity of the output.\n",
    "\n",
    "Questions we want to answer:\n",
    "Do we need all the columns or are they mostly redundant?\n",
    "Can we rely on the table as presented in T1DEXI ACRF_15Sept2022.pdf? or rather on the script?\n",
    "The script sometimes uses FATEST (test) and FACAT (category) depending on which pump is being looked at 670g and 770g?\n",
    "The script does not extract extended boluses in 770g, why?\n",
    "Is FASTRESN just a copy of the value in INSEXBOL or INSNMBOL and FAORRES (Basal)?\n",
    "\n",
    "we want to take a close look at the data itself.\n",
    "\n",
    "**Goal**: Load xpt file into pandas in jupyter. Identify relevant columns and verify how they relate to another. For now, only for Insulin Data."
   ]
  },
  {
   "cell_type": "code",
   "execution_count": 1,
   "metadata": {},
   "outputs": [],
   "source": [
    "import os\n",
    "import sys\n",
    "sys.path.append('../..')\n",
    "\n",
    "import matplotlib.pyplot as plt\n",
    "\n",
    "from src import cdf"
   ]
  },
  {
   "cell_type": "code",
   "execution_count": 2,
   "metadata": {},
   "outputs": [],
   "source": [
    "import numpy as np\n",
    "import pandas as pd\n",
    "from datetime import datetime, timedelta\n",
    "import isodate"
   ]
  },
  {
   "cell_type": "markdown",
   "metadata": {},
   "source": [
    "## Load the data\n",
    "1. How many patients\n",
    "2. Fraction per pump system"
   ]
  },
  {
   "cell_type": "code",
   "execution_count": 30,
   "metadata": {},
   "outputs": [],
   "source": [
    "#define path\n",
    "t1dexi_path = os.path.join(os.getcwd(),'..','..','data','raw','T1DEXI')"
   ]
  },
  {
   "cell_type": "markdown",
   "metadata": {},
   "source": [
    "### load device file"
   ]
  },
  {
   "cell_type": "code",
   "execution_count": 31,
   "metadata": {},
   "outputs": [
    {
     "data": {
      "text/html": [
       "<div>\n",
       "<style scoped>\n",
       "    .dataframe tbody tr th:only-of-type {\n",
       "        vertical-align: middle;\n",
       "    }\n",
       "\n",
       "    .dataframe tbody tr th {\n",
       "        vertical-align: top;\n",
       "    }\n",
       "\n",
       "    .dataframe thead th {\n",
       "        text-align: right;\n",
       "    }\n",
       "</style>\n",
       "<table border=\"1\" class=\"dataframe\">\n",
       "  <thead>\n",
       "    <tr style=\"text-align: right;\">\n",
       "      <th></th>\n",
       "      <th>USUBJID</th>\n",
       "      <th>DXTRT</th>\n",
       "    </tr>\n",
       "  </thead>\n",
       "  <tbody>\n",
       "    <tr>\n",
       "      <th>690</th>\n",
       "      <td>60</td>\n",
       "      <td>CLOSED LOOP INSULIN PUMP</td>\n",
       "    </tr>\n",
       "    <tr>\n",
       "      <th>680</th>\n",
       "      <td>576</td>\n",
       "      <td>MEDTRONIC 670G IN AUTO MODE</td>\n",
       "    </tr>\n",
       "    <tr>\n",
       "      <th>635</th>\n",
       "      <td>498</td>\n",
       "      <td>CLOSED LOOP INSULIN PUMP</td>\n",
       "    </tr>\n",
       "  </tbody>\n",
       "</table>\n",
       "</div>"
      ],
      "text/plain": [
       "    USUBJID                        DXTRT\n",
       "690      60     CLOSED LOOP INSULIN PUMP\n",
       "680     576  MEDTRONIC 670G IN AUTO MODE\n",
       "635     498     CLOSED LOOP INSULIN PUMP"
      ]
     },
     "metadata": {},
     "output_type": "display_data"
    }
   ],
   "source": [
    "#load and preprocess dx file\n",
    "dx = pd.read_sas(os.path.join(t1dexi_path,'DX.xpt'),encoding='latin-1').replace('', np.nan)\n",
    "dx = dx.drop(columns=['DXSCAT','DXPRESP','STUDYID','DOMAIN','SPDEVID','DXSEQ','DXCAT','DXSCAT','DXSTRTPT','DXDTC','DXENRTPT','DXEVINTX','VISIT'])\n",
    "display(dx.sample(3))\n",
    "#drop generic device codes that are duplicates of the true pump\n",
    "#dx = dx.loc[dx.DXTRT.isin(['INSULIN PUMP','CLOSED LOOP INSULIN PUMP'])]"
   ]
  },
  {
   "cell_type": "markdown",
   "metadata": {},
   "source": [
    "### assess device counts and treatment types"
   ]
  },
  {
   "cell_type": "code",
   "execution_count": 32,
   "metadata": {},
   "outputs": [
    {
     "name": "stdout",
     "output_type": "stream",
     "text": [
      "There are 502 unique subjects in the dx dataset\n",
      "These are broken down by devices as follows:\n"
     ]
    },
    {
     "data": {
      "text/plain": [
       "DXTRT\n",
       "CLOSED LOOP INSULIN PUMP                     225\n",
       "TANDEM T:SLIM X2 WITH CONTROL IQ             190\n",
       "INSULIN PUMP                                 189\n",
       "INSULET OMNIPOD INSULIN MANAGEMENT SYSTEM    106\n",
       "MULTIPLE DAILY INJECTIONS                     88\n",
       "MEDTRONIC 670G IN AUTO MODE                   33\n",
       "TANDEM T:SLIM X2 WITH BASAL IQ                23\n",
       "MEDTRONIC 670G IN MANUAL MODE                 21\n",
       "MEDTRONIC 630G                                 9\n",
       "TANDEM T:SLIM X2                               8\n",
       "TANDEM T:SLIM                                  5\n",
       "MEDTRONIC PARADIGM 723 (REVEL)                 4\n",
       "MEDTRONIC 670G                                 3\n",
       "MEDTRONIC 770G                                 2\n",
       "MEDTRONIC 770G IN AUTO MODE                    2\n",
       "MEDTRONIC 551 (530G)                           2\n",
       "MEDTRONIC 751 (530G)                           2\n",
       "MEDTRONIC PARADIGM 523 (REVEL)                 1\n",
       "MEDTRONIC PARADIGM 522                         1\n",
       "INSULET OMNIPOD DASH                           1\n",
       "MEDTRONIC 640G                                 1\n",
       "Name: count, dtype: int64"
      ]
     },
     "metadata": {},
     "output_type": "display_data"
    },
    {
     "name": "stdout",
     "output_type": "stream",
     "text": [
      "Pump: 414, MDI: 88, Other: 414\n"
     ]
    },
    {
     "data": {
      "text/plain": [
       "TRTMNT  DXTRT                                    \n",
       "AID     MEDTRONIC 670G IN AUTO MODE                   32\n",
       "        MEDTRONIC 770G                                 1\n",
       "        MEDTRONIC 770G IN AUTO MODE                    2\n",
       "        TANDEM T:SLIM X2 WITH CONTROL IQ             190\n",
       "CSII    INSULET OMNIPOD DASH                           1\n",
       "        INSULET OMNIPOD INSULIN MANAGEMENT SYSTEM    106\n",
       "        MEDTRONIC 551 (530G)                           2\n",
       "        MEDTRONIC 630G                                 9\n",
       "        MEDTRONIC 640G                                 1\n",
       "        MEDTRONIC 670G                                 3\n",
       "        MEDTRONIC 670G IN AUTO MODE                    1\n",
       "        MEDTRONIC 670G IN MANUAL MODE                 21\n",
       "        MEDTRONIC 751 (530G)                           2\n",
       "        MEDTRONIC 770G                                 1\n",
       "        MEDTRONIC PARADIGM 522                         1\n",
       "        MEDTRONIC PARADIGM 523 (REVEL)                 1\n",
       "        MEDTRONIC PARADIGM 723 (REVEL)                 4\n",
       "        TANDEM T:SLIM                                  5\n",
       "        TANDEM T:SLIM X2                               8\n",
       "        TANDEM T:SLIM X2 WITH BASAL IQ                23\n",
       "MDI     MULTIPLE DAILY INJECTIONS                     88\n",
       "Name: count, dtype: int64"
      ]
     },
     "execution_count": 32,
     "metadata": {},
     "output_type": "execute_result"
    }
   ],
   "source": [
    "#assess device counts and treatment types\n",
    "\n",
    "#print dx value counts (subjects, devices)\n",
    "print(f'There are {dx.USUBJID.nunique()} unique subjects in the dx dataset')\n",
    "print('These are broken down by devices as follows:')\n",
    "display(dx.value_counts('DXTRT'))\n",
    "\n",
    "\n",
    "#the duplicated 'INSULIN PUMP' or 'CLOSED LOOP INSULIN PUMP' values can be used to specify the pump type\n",
    "pump_type = dx.loc[dx.DXTRT.isin(['INSULIN PUMP','CLOSED LOOP INSULIN PUMP'])][['USUBJID','DXTRT']]\n",
    "mdi_type = dx.loc[dx.DXTRT.isin(['MULTIPLE DAILY INJECTIONS'])]\n",
    "other_type = dx.loc[~dx.DXTRT.isin(['INSULIN PUMP','CLOSED LOOP INSULIN PUMP','MULTIPLE DAILY INJECTIONS'])]\n",
    "print(f'Pump: {len(pump_type)}, MDI: {len(mdi_type)}, Other: {len(other_type)}')\n",
    "\n",
    "#use the redundant rows as treatment type and add those to new TRTMNT Colum (CSII, AID, MDI)\n",
    "treatment_type = dx.loc[dx.DXTRT.isin(['INSULIN PUMP','CLOSED LOOP INSULIN PUMP','MULTIPLE DAILY INJECTIONS'])][['USUBJID','DXTRT']].rename(columns={'DXTRT':'TRTMNT'})\n",
    "treatment_type['TRTMNT'] = treatment_type.TRTMNT.replace({'INSULIN PUMP':'CSII','CLOSED LOOP INSULIN PUMP':'AID','MULTIPLE DAILY INJECTIONS':'MDI'})\n",
    "treatment = pd.merge(dx.loc[~dx.DXTRT.isin(['INSULIN PUMP','CLOSED LOOP INSULIN PUMP'])], treatment_type, on='USUBJID',how='inner')\n",
    "treatment.value_counts(['TRTMNT','DXTRT'],sort=False)"
   ]
  },
  {
   "cell_type": "markdown",
   "metadata": {},
   "source": [
    "\n",
    "We can see some inconsistent classificaitons:  \n",
    " - 770G in the AID section is probably a 770G in Auto MODE\n",
    " - TANDEM T:SLIM X2 WITH BASAL IQ in the CSII are probably AID\n",
    " - MEDTRONIC 670G IN AUTO MODE in CSII are probably AID instead\n",
    "\n",
    "So, can we trust this list? The netiob scripts made the following observation:  \n",
    ">[Discretional]. We observed that subject ID: 766 device type should be 'MEDTRONIC 770G IN AUTO MODE' and we updated as such\n",
    "        device_data.loc[device_data['USUBJID'] == '766', 'DXTRT'] = 'MEDTRONIC 770G IN AUTO MODE'\n",
    "\n",
    "However, there are also many TANDEM with BASAL IQ, these could probbaly also be considered to be AID. Ultimately, the netiob script assigned the treatment based on the DXTRT name alone.   \n",
    "\n",
    "**Conclusion**: ATM we don't know which one to use."
   ]
  },
  {
   "cell_type": "markdown",
   "metadata": {},
   "source": [
    "### Load FACM file"
   ]
  },
  {
   "cell_type": "code",
   "execution_count": 36,
   "metadata": {},
   "outputs": [
    {
     "name": "stdout",
     "output_type": "stream",
     "text": [
      "Number of % in facm: 0, dx: 0\n"
     ]
    },
    {
     "data": {
      "text/html": [
       "<div>\n",
       "<style scoped>\n",
       "    .dataframe tbody tr th:only-of-type {\n",
       "        vertical-align: middle;\n",
       "    }\n",
       "\n",
       "    .dataframe tbody tr th {\n",
       "        vertical-align: top;\n",
       "    }\n",
       "\n",
       "    .dataframe thead th {\n",
       "        text-align: right;\n",
       "    }\n",
       "</style>\n",
       "<table border=\"1\" class=\"dataframe\">\n",
       "  <thead>\n",
       "    <tr style=\"text-align: right;\">\n",
       "      <th></th>\n",
       "      <th>USUBJID</th>\n",
       "      <th>FATESTCD</th>\n",
       "      <th>FATEST</th>\n",
       "      <th>FAOBJ</th>\n",
       "      <th>FACAT</th>\n",
       "      <th>FAORRES</th>\n",
       "      <th>FAORRESU</th>\n",
       "      <th>FADTC</th>\n",
       "      <th>FADUR</th>\n",
       "      <th>INSDVSRC</th>\n",
       "      <th>INSSTYPE</th>\n",
       "      <th>INSNMBOL</th>\n",
       "      <th>INSEXBOL</th>\n",
       "    </tr>\n",
       "  </thead>\n",
       "  <tbody>\n",
       "    <tr>\n",
       "      <th>1938100</th>\n",
       "      <td>773</td>\n",
       "      <td>INSBOLUS</td>\n",
       "      <td>BOLUS INSULIN</td>\n",
       "      <td>INSULIN</td>\n",
       "      <td>BOLUS</td>\n",
       "      <td>1.200</td>\n",
       "      <td>U</td>\n",
       "      <td>2020-09-09 19:37:06</td>\n",
       "      <td>NaT</td>\n",
       "      <td>Pump</td>\n",
       "      <td>normal</td>\n",
       "      <td>1.2</td>\n",
       "      <td>NaN</td>\n",
       "    </tr>\n",
       "    <tr>\n",
       "      <th>1423250</th>\n",
       "      <td>434</td>\n",
       "      <td>BASFLRT</td>\n",
       "      <td>BASAL FLOW RATE</td>\n",
       "      <td>INSULIN</td>\n",
       "      <td>BASAL</td>\n",
       "      <td>0.276</td>\n",
       "      <td>U/hr</td>\n",
       "      <td>2020-05-21 04:45:49</td>\n",
       "      <td>0 days 00:05:01</td>\n",
       "      <td>NaN</td>\n",
       "      <td>NaN</td>\n",
       "      <td>NaN</td>\n",
       "      <td>NaN</td>\n",
       "    </tr>\n",
       "    <tr>\n",
       "      <th>1681410</th>\n",
       "      <td>614</td>\n",
       "      <td>INSBASAL</td>\n",
       "      <td>BASAL INSULIN</td>\n",
       "      <td>INSULIN</td>\n",
       "      <td>BASAL</td>\n",
       "      <td>0.018</td>\n",
       "      <td>U</td>\n",
       "      <td>2020-02-29 09:12:32</td>\n",
       "      <td>0 days 00:05:00</td>\n",
       "      <td>Pump</td>\n",
       "      <td>temp</td>\n",
       "      <td>NaN</td>\n",
       "      <td>NaN</td>\n",
       "    </tr>\n",
       "    <tr>\n",
       "      <th>1294945</th>\n",
       "      <td>334</td>\n",
       "      <td>BASFLRT</td>\n",
       "      <td>BASAL FLOW RATE</td>\n",
       "      <td>INSULIN</td>\n",
       "      <td>BASAL</td>\n",
       "      <td>0.459</td>\n",
       "      <td>U/hr</td>\n",
       "      <td>2019-12-05 06:15:52</td>\n",
       "      <td>0 days 00:05:02</td>\n",
       "      <td>NaN</td>\n",
       "      <td>NaN</td>\n",
       "      <td>NaN</td>\n",
       "      <td>NaN</td>\n",
       "    </tr>\n",
       "    <tr>\n",
       "      <th>346692</th>\n",
       "      <td>1230</td>\n",
       "      <td>BASFLRT</td>\n",
       "      <td>BASAL FLOW RATE</td>\n",
       "      <td>INSULIN</td>\n",
       "      <td>BASAL</td>\n",
       "      <td>0.600</td>\n",
       "      <td>U/hr</td>\n",
       "      <td>2021-02-25 22:19:17</td>\n",
       "      <td>0 days 00:04:59</td>\n",
       "      <td>NaN</td>\n",
       "      <td>NaN</td>\n",
       "      <td>NaN</td>\n",
       "      <td>NaN</td>\n",
       "    </tr>\n",
       "  </tbody>\n",
       "</table>\n",
       "</div>"
      ],
      "text/plain": [
       "        USUBJID  FATESTCD           FATEST    FAOBJ  FACAT  FAORRES FAORRESU  \\\n",
       "1938100     773  INSBOLUS    BOLUS INSULIN  INSULIN  BOLUS    1.200        U   \n",
       "1423250     434   BASFLRT  BASAL FLOW RATE  INSULIN  BASAL    0.276     U/hr   \n",
       "1681410     614  INSBASAL    BASAL INSULIN  INSULIN  BASAL    0.018        U   \n",
       "1294945     334   BASFLRT  BASAL FLOW RATE  INSULIN  BASAL    0.459     U/hr   \n",
       "346692     1230   BASFLRT  BASAL FLOW RATE  INSULIN  BASAL    0.600     U/hr   \n",
       "\n",
       "                      FADTC           FADUR INSDVSRC INSSTYPE  INSNMBOL  \\\n",
       "1938100 2020-09-09 19:37:06             NaT     Pump   normal       1.2   \n",
       "1423250 2020-05-21 04:45:49 0 days 00:05:01      NaN      NaN       NaN   \n",
       "1681410 2020-02-29 09:12:32 0 days 00:05:00     Pump     temp       NaN   \n",
       "1294945 2019-12-05 06:15:52 0 days 00:05:02      NaN      NaN       NaN   \n",
       "346692  2021-02-25 22:19:17 0 days 00:04:59      NaN      NaN       NaN   \n",
       "\n",
       "         INSEXBOL  \n",
       "1938100       NaN  \n",
       "1423250       NaN  \n",
       "1681410       NaN  \n",
       "1294945       NaN  \n",
       "346692        NaN  "
      ]
     },
     "metadata": {},
     "output_type": "display_data"
    }
   ],
   "source": [
    "#load and preprocess facm file\n",
    "facm = pd.read_sas(os.path.join(t1dexi_path,'FACM.xpt'),encoding='latin-1',).replace('', np.nan)\n",
    "\n",
    "#'FAORRES','FASTRESC' and FASTRESN all show the finding (result) (however, 0 values show up as 5.397605e-79 in FASTRESN)\n",
    "#`FAORRES`: Result or Finding in Original Units\n",
    "#`FASTRESC`: Character Result/Finding in Std Format\n",
    "#`FASTRESN`: Numeric Result/Finding in Standard Unit\n",
    "facm['FAORRES'] = facm['FAORRES'].astype(float)\n",
    "\n",
    "#FAORRESU and FASTRESU refer to the Unit but since U/hr is not a standard unit it is NaN in FASTRESU\n",
    "#`FAORRESU`: Original Units\n",
    "#`FASTRESU`: Standard Units\n",
    "facm = facm.drop(columns=['STUDYID','DOMAIN','FASEQ',\n",
    "                          'FASTRESN','FASTRESC',# Numeric results are 5.397605e-79 for 0 values, therefore use FAORRES (original units),FASTRESC is just a string duplicated\n",
    "                          'FASTRESU', #standard units are NaN for U/hr , therefore use FAORRESU (original units)\n",
    "                          ]) \n",
    "\n",
    "#alternatively we could use \n",
    "facm['FADTC'] = facm['FADTC'].apply(lambda x: datetime(1960, 1, 1) + timedelta(seconds=x) if pd.notnull(x) else pd.NaT)\n",
    "facm['FADUR'] = facm.FADUR.dropna().apply(isodate.parse_duration, as_timedelta_if_possible=True)\n",
    "\n",
    "#note, we didn't need to replace % signs and we didn't need xport as in the scripts\n",
    "percent_count_facm = facm.apply(lambda x: x.astype(str).str.contains('%').sum()).sum()\n",
    "percent_count_dx = dx.apply(lambda x: x.astype(str).str.contains('%').sum()).sum()\n",
    "print(f'Number of % in facm: {percent_count_facm}, dx: {percent_count_dx}')\n",
    "\n",
    "display(facm.sample(5))"
   ]
  },
  {
   "cell_type": "code",
   "execution_count": 172,
   "metadata": {},
   "outputs": [
    {
     "data": {
      "text/plain": [
       "USUBJID           0\n",
       "FATESTCD          0\n",
       "FATEST            0\n",
       "FAOBJ             0\n",
       "FACAT             0\n",
       "FAORRES      -30248\n",
       "FAORRESU          0\n",
       "FADTC             0\n",
       "FADUR       -114473\n",
       "INSDVSRC   -1053401\n",
       "INSSTYPE   -1068093\n",
       "INSNMBOL   -2136615\n",
       "INSEXBOL   -2216541\n",
       "DXTRT            -1\n",
       "ISMDI             0\n",
       "day               0\n",
       "dtype: int64"
      ]
     },
     "execution_count": 172,
     "metadata": {},
     "output_type": "execute_result"
    }
   ],
   "source": [
    "facm.count()-len(facm)"
   ]
  },
  {
   "cell_type": "markdown",
   "metadata": {},
   "source": [
    "- FAORRES has less values, this is because it is a \"standard unit\" which is Nan for non standard stuff like U/here\n",
    "- FADUR is missing for boluses and basal deliveries (basal deliveries (non flow rates) are mostly set to 5 minutes)\n",
    "- insulin type and source are often missing\n",
    "- INSNMBOL and INSEXBOL are often missing (probably mostly for all the basal values)"
   ]
  },
  {
   "cell_type": "markdown",
   "metadata": {},
   "source": [
    "### Merge devices to facm"
   ]
  },
  {
   "cell_type": "code",
   "execution_count": 37,
   "metadata": {},
   "outputs": [
    {
     "data": {
      "text/html": [
       "<div>\n",
       "<style scoped>\n",
       "    .dataframe tbody tr th:only-of-type {\n",
       "        vertical-align: middle;\n",
       "    }\n",
       "\n",
       "    .dataframe tbody tr th {\n",
       "        vertical-align: top;\n",
       "    }\n",
       "\n",
       "    .dataframe thead th {\n",
       "        text-align: right;\n",
       "    }\n",
       "</style>\n",
       "<table border=\"1\" class=\"dataframe\">\n",
       "  <thead>\n",
       "    <tr style=\"text-align: right;\">\n",
       "      <th></th>\n",
       "      <th>USUBJID</th>\n",
       "      <th>FATESTCD</th>\n",
       "      <th>FATEST</th>\n",
       "      <th>FAOBJ</th>\n",
       "      <th>FACAT</th>\n",
       "      <th>FAORRES</th>\n",
       "      <th>FAORRESU</th>\n",
       "      <th>FADTC</th>\n",
       "      <th>FADUR</th>\n",
       "      <th>INSDVSRC</th>\n",
       "      <th>INSSTYPE</th>\n",
       "      <th>INSNMBOL</th>\n",
       "      <th>INSEXBOL</th>\n",
       "      <th>DXTRT</th>\n",
       "    </tr>\n",
       "  </thead>\n",
       "  <tbody>\n",
       "    <tr>\n",
       "      <th>858458</th>\n",
       "      <td>1559</td>\n",
       "      <td>INSBASAL</td>\n",
       "      <td>BASAL INSULIN</td>\n",
       "      <td>INSULIN</td>\n",
       "      <td>BASAL</td>\n",
       "      <td>0.000</td>\n",
       "      <td>U</td>\n",
       "      <td>2019-09-21 12:23:20</td>\n",
       "      <td>0 days 00:24:55</td>\n",
       "      <td>Pump</td>\n",
       "      <td>temp</td>\n",
       "      <td>NaN</td>\n",
       "      <td>NaN</td>\n",
       "      <td>TANDEM T:SLIM X2 WITH CONTROL IQ</td>\n",
       "    </tr>\n",
       "    <tr>\n",
       "      <th>1369037</th>\n",
       "      <td>389</td>\n",
       "      <td>INSBASAL</td>\n",
       "      <td>BASAL INSULIN</td>\n",
       "      <td>INSULIN</td>\n",
       "      <td>BASAL</td>\n",
       "      <td>0.032</td>\n",
       "      <td>U</td>\n",
       "      <td>2019-10-18 09:21:03</td>\n",
       "      <td>0 days 00:05:01</td>\n",
       "      <td>Pump</td>\n",
       "      <td>temp</td>\n",
       "      <td>NaN</td>\n",
       "      <td>NaN</td>\n",
       "      <td>TANDEM T:SLIM X2 WITH CONTROL IQ</td>\n",
       "    </tr>\n",
       "  </tbody>\n",
       "</table>\n",
       "</div>"
      ],
      "text/plain": [
       "        USUBJID  FATESTCD         FATEST    FAOBJ  FACAT  FAORRES FAORRESU  \\\n",
       "858458     1559  INSBASAL  BASAL INSULIN  INSULIN  BASAL    0.000        U   \n",
       "1369037     389  INSBASAL  BASAL INSULIN  INSULIN  BASAL    0.032        U   \n",
       "\n",
       "                      FADTC           FADUR INSDVSRC INSSTYPE  INSNMBOL  \\\n",
       "858458  2019-09-21 12:23:20 0 days 00:24:55     Pump     temp       NaN   \n",
       "1369037 2019-10-18 09:21:03 0 days 00:05:01     Pump     temp       NaN   \n",
       "\n",
       "         INSEXBOL                             DXTRT  \n",
       "858458        NaN  TANDEM T:SLIM X2 WITH CONTROL IQ  \n",
       "1369037       NaN  TANDEM T:SLIM X2 WITH CONTROL IQ  "
      ]
     },
     "metadata": {},
     "output_type": "display_data"
    }
   ],
   "source": [
    "## merge devices to facm \n",
    "\n",
    "#drop the generic device codes that are duplicates of the true pump before merging\n",
    "temp = dx.loc[~dx.DXTRT.isin(['INSULIN PUMP','CLOSED LOOP INSULIN PUMP'])]\n",
    "facm = pd.merge(facm, temp, on='USUBJID',how='left')\n",
    "display(facm.sample(2))"
   ]
  },
  {
   "cell_type": "markdown",
   "metadata": {},
   "source": [
    "## Understand Basal and Boluses"
   ]
  },
  {
   "cell_type": "markdown",
   "metadata": {},
   "source": [
    "### Inspect column hiarchy"
   ]
  },
  {
   "cell_type": "code",
   "execution_count": 38,
   "metadata": {},
   "outputs": [
    {
     "name": "stdout",
     "output_type": "stream",
     "text": [
      "Overall number of rows in FACM 2219524\n"
     ]
    },
    {
     "data": {
      "text/plain": [
       "FAOBJ    FACAT  FATESTCD  FATEST           INSDVSRC    INSSTYPE                  \n",
       "INSULIN  BASAL  BASFLRT   BASAL FLOW RATE  NaN         NaN                           1053401\n",
       "                INSBASAL  BASAL INSULIN    Injections  NaN                              2365\n",
       "                                           Pump        automated                      237033\n",
       "                                                       scheduled                      258749\n",
       "                                                       suspend                         14457\n",
       "                                                       temp                           537986\n",
       "                                                       NaN                              2811\n",
       "         BOLUS  INSBOLUS  BOLUS INSULIN    Injections  NaN                              9516\n",
       "                                           Pump        automated                        1619\n",
       "                                                       automatic bolus/correction         26\n",
       "                                                       combination                        48\n",
       "                                                       dual (normal part)                  1\n",
       "                                                       dual (square part)                  1\n",
       "                                                       dual/square                      2631\n",
       "                                                       normal                          98456\n",
       "                                                       square                            351\n",
       "                                                       standard                           27\n",
       "                                                       standard/correction                46\n",
       "Name: count, dtype: int64"
      ]
     },
     "metadata": {},
     "output_type": "display_data"
    },
    {
     "data": {
      "text/plain": [
       "FATEST           INSDVSRC    FAORRESU\n",
       "BASAL FLOW RATE  NaN         U/hr        1053401\n",
       "BASAL INSULIN    Injections  U              2365\n",
       "                 Pump        U           1051036\n",
       "BOLUS INSULIN    Injections  U              9516\n",
       "                 Pump        U            103206\n",
       "Name: count, dtype: int64"
      ]
     },
     "metadata": {},
     "output_type": "display_data"
    }
   ],
   "source": [
    "#print hierachical value counts of relevant columns\n",
    "print(f'Overall number of rows in FACM {facm.shape[0]}')\n",
    "\n",
    "vcounts= facm.value_counts(subset=['FAOBJ','FACAT','FATESTCD','FATEST','INSDVSRC','INSSTYPE'],sort=False,dropna=False)\n",
    "display(vcounts)\n",
    "\n",
    "#We see that source and sub type are NaN when fatest is basal flow rate. So do the units differ?\n",
    "vcounts = facm.value_counts(subset=['FATEST','INSDVSRC','FAORRESU'],sort=False,dropna=False)\n",
    "display(vcounts)"
   ]
  },
  {
   "cell_type": "markdown",
   "metadata": {},
   "source": [
    "Observations\n",
    " 1. `FAOBJ` is always INSULIN and can be ignored\n",
    " 2. `FACAT` separates between BOLUS and BASAL\n",
    " 3. `FATESTCD` and `FATEST` have the same meaning (basal, basal flow rate and bolus), Use FATEST because it is more explicit\n",
    " 3. `INSTYPE` is *NaN* when device Source (`INSDVSRC`) is *NaN* or *Injections* and for some Basals with Pump source"
   ]
  },
  {
   "cell_type": "markdown",
   "metadata": {},
   "source": [
    "### Basal Rates vs. Basal Flow Rates"
   ]
  },
  {
   "cell_type": "markdown",
   "metadata": {},
   "source": [
    "**Observations:**  \n",
    "1. We see that there are Basal Rates and Basal Flow Rates. \n",
    "2. It is unclear if these are duplicates or if both need to be considered. \n",
    "3. The netiob script only considers FATEST == 'BASAL INSULIN' thus ignoring BASAL FLOW RATE. \n",
    "  - Is this correct?  \n",
    "4. Also, we see that there Are Basal Flow Rates in MDI. \n",
    "\n",
    "**We want to check.**  \n",
    "1. How often these are available (by device)\n",
    "   - when dropping Nan FASTRESN rows\n",
    "2. Do deliveries (U) modulate the flow rates (U/hr)?\n",
    " - Comparing sums (flow rates* duration  vs. basal deliveries)\n",
    "3. Why there are BASAL FLOW Rates in MDI?"
   ]
  },
  {
   "cell_type": "markdown",
   "metadata": {},
   "source": [
    "We start by checking if basal flow rates exist for all insulin pumps:"
   ]
  },
  {
   "cell_type": "code",
   "execution_count": 51,
   "metadata": {},
   "outputs": [],
   "source": [
    "#Add MDI label for further analysis\n",
    "facm['ISMDI']=facm.DXTRT=='MULTIPLE DAILY INJECTIONS'"
   ]
  },
  {
   "cell_type": "code",
   "execution_count": null,
   "metadata": {},
   "outputs": [
    {
     "name": "stdout",
     "output_type": "stream",
     "text": [
      "BASAL FLOW RATE by pump:\n"
     ]
    },
    {
     "data": {
      "text/plain": [
       "DXTRT\n",
       "TANDEM T:SLIM X2 WITH CONTROL IQ             852614\n",
       "MEDTRONIC 670G IN AUTO MODE                  150612\n",
       "INSULET OMNIPOD INSULIN MANAGEMENT SYSTEM     17425\n",
       "TANDEM T:SLIM X2 WITH BASAL IQ                13761\n",
       "MEDTRONIC 670G IN MANUAL MODE                  6370\n",
       "TANDEM T:SLIM X2                               2347\n",
       "MEDTRONIC 630G                                 1862\n",
       "MEDTRONIC 770G                                 1122\n",
       "TANDEM T:SLIM                                  1093\n",
       "MEDTRONIC PARADIGM 723 (REVEL)                  966\n",
       "MEDTRONIC 640G                                  503\n",
       "MEDTRONIC 670G                                  493\n",
       "MEDTRONIC 751 (530G)                            472\n",
       "MEDTRONIC 551 (530G)                            448\n",
       "MEDTRONIC 770G IN AUTO MODE                     416\n",
       "INSULET OMNIPOD DASH                            198\n",
       "MEDTRONIC PARADIGM 522                          188\n",
       "MEDTRONIC PARADIGM 523 (REVEL)                  146\n",
       "Name: count, dtype: int64"
      ]
     },
     "metadata": {},
     "output_type": "display_data"
    },
    {
     "name": "stdout",
     "output_type": "stream",
     "text": [
      "Number of basal flow rate rows for which the insulin amount (FASTRESN) is NaN\n",
      "1.33% overall\n",
      "0.00% of durations are NaN\n",
      "\n",
      "Breakdown of NaN insulin doses (FAORRES):\n"
     ]
    },
    {
     "data": {
      "text/plain": [
       "FATEST\n",
       "BASAL FLOW RATE    16306\n",
       "BASAL INSULIN      13942\n",
       "Name: count, dtype: int64"
      ]
     },
     "metadata": {},
     "output_type": "display_data"
    }
   ],
   "source": [
    "#print value counts for pump FLOW RATE\n",
    "\n",
    "#Are BASAL FLOW RATEs and BASAL present in all devices?\n",
    "print('BASAL FLOW RATE by pump:')\n",
    "flow_rates = facm.loc[(facm.FATEST=='BASAL FLOW RATE') & ~facm.ISMDI]\n",
    "display(flow_rates.DXTRT.value_counts(sort=True, dropna=False))\n",
    "\n",
    "#NaN counts\n",
    "print('Number of basal flow rate rows for which the insulin amount (FASTRESN) is NaN')\n",
    "print(f'{flow_rates.FAORRES.isna().sum()/len(flow_rates)*100:.2f}% overall')\n",
    "print(f'{flow_rates.FADUR.isna().sum()/len(flow_rates)*100:.2f}% of durations are NaN')"
   ]
  },
  {
   "cell_type": "markdown",
   "metadata": {},
   "source": [
    " **Observations:**  \n",
    " - NaN flow rates are the exception in pumps\n",
    " - In rare cases the duration is NaN as well"
   ]
  },
  {
   "cell_type": "markdown",
   "metadata": {},
   "source": [
    "#### Basal Flow Rate Modulation\n",
    "Now we check if basal deliveries (U) modulate the basal delivery rates (U/hr). \n",
    "We know that there are some NaN flow rates and we will check if these could reflect 0 flow rates."
   ]
  },
  {
   "cell_type": "code",
   "execution_count": 40,
   "metadata": {},
   "outputs": [
    {
     "data": {
      "image/png": "[encoded data removed]",
      "text/plain": [
       "<Figure size 800x200 with 1 Axes>"
      ]
     },
     "metadata": {},
     "output_type": "display_data"
    }
   ],
   "source": [
    "#what is the difference between basals in units and units/h, is there any diff?\n",
    "plt.figure(figsize=(8,2));ax=plt.gca()\n",
    "cdf.plot_cdf(facm.loc[facm.FATEST=='BASAL INSULIN'].FAORRES,ax=ax,color='blue',label='U')\n",
    "cdf.plot_cdf(facm.loc[facm.FATEST=='BASAL FLOW RATE'].FAORRES,ax=ax,color='red',label='U/hr')\n",
    "ax.set_xlim(-.2,4)\n",
    "plt.title('BASAL INSULIN vs. BASAL FLOW RATE'); ax.legend()\n",
    "plt.show()"
   ]
  },
  {
   "cell_type": "markdown",
   "metadata": {},
   "source": [
    "We see that the deliveries are much smaller indicating that these are the actual deliveries."
   ]
  },
  {
   "cell_type": "code",
   "execution_count": 59,
   "metadata": {},
   "outputs": [
    {
     "data": {
      "image/png": "[encoded data removed]",
      "text/plain": [
       "<Figure size 2000x300 with 2 Axes>"
      ]
     },
     "metadata": {},
     "output_type": "display_data"
    },
    {
     "data": {
      "image/png": "[encoded data removed]",
      "text/plain": [
       "<Figure size 2000x300 with 2 Axes>"
      ]
     },
     "metadata": {},
     "output_type": "display_data"
    }
   ],
   "source": [
    "#plot examples for basal flow rates and basal deliveries for \n",
    "from src import drawing\n",
    "from importlib import reload\n",
    "reload(drawing)\n",
    "\n",
    "#show an example of a flow rate and a basal within the same subject\n",
    "#patient_id = np.random.choice(['1542', '1550','1286','389'])\n",
    "patient_ids = facm.loc[~facm.DXTRT.isin(['MULTIPLE DAILY INJECTIONS'])].USUBJID.sample(2).values\n",
    "for patient_id in patient_ids:#['1542', '389']:\n",
    "\n",
    "    sub = facm.loc[(facm.USUBJID==patient_id)&(facm.FATEST.notna())].sort_values('FADTC')\n",
    "    start = sub.FADTC.min()+timedelta(days=1)\n",
    "    dur = timedelta(hours=48)\n",
    "    sub = sub.loc[(sub.FADTC>=start)&(sub.FADTC<=start+dur)]\n",
    "\n",
    "    sub_flow_rates = sub.loc[sub.FATEST=='BASAL FLOW RATE']\n",
    "    sub_basals = sub.loc[sub.FATEST=='BASAL INSULIN']\n",
    "    \n",
    "    #draw basal delivery rates\n",
    "    plt.figure(figsize=(20,3)); ax=plt.gca()\n",
    "    drawing.drawAbsoluteBasalRates(ax,sub_flow_rates.FADTC.values, sub_flow_rates.FAORRES.values,label='U/hr',hatch=None)\n",
    "    \n",
    "    #draw individual basal deliveries\n",
    "    twinx = ax.twinx()\n",
    "    drawing.drawBoluses(twinx,sub_basals.FADTC, sub_basals.FAORRES,label='U',width=timedelta(minutes=1))\n",
    "    plt.title(f'Basals rates of {patient_id} from {start} to {start+dur}'); \n",
    "    \n",
    "    # draw Nan deliveries as red xs at zero\n",
    "    nan_flow_rates = sub_flow_rates.loc[sub_flow_rates.FAORRES.isna()]\n",
    "    plt.scatter(nan_flow_rates.FADTC, [0]*len(nan_flow_rates), color='red', marker='v', s=100)\n",
    "    \n",
    "    # Set ylim to current limits but reduce minimum by 0.1\n",
    "    ylim = ax.get_ylim()\n",
    "    ax.set_ylim(ylim[0] - 0.1, ylim[1])"
   ]
  },
  {
   "cell_type": "markdown",
   "metadata": {},
   "source": [
    "Above we saw that the NaN values happen in regions where flow rates are 0. Let's look at a few examples."
   ]
  },
  {
   "cell_type": "code",
   "execution_count": 68,
   "metadata": {},
   "outputs": [
    {
     "data": {
      "text/html": [
       "<div>\n",
       "<style scoped>\n",
       "    .dataframe tbody tr th:only-of-type {\n",
       "        vertical-align: middle;\n",
       "    }\n",
       "\n",
       "    .dataframe tbody tr th {\n",
       "        vertical-align: top;\n",
       "    }\n",
       "\n",
       "    .dataframe thead th {\n",
       "        text-align: right;\n",
       "    }\n",
       "</style>\n",
       "<table border=\"1\" class=\"dataframe\">\n",
       "  <thead>\n",
       "    <tr style=\"text-align: right;\">\n",
       "      <th></th>\n",
       "      <th>USUBJID</th>\n",
       "      <th>FATESTCD</th>\n",
       "      <th>FATEST</th>\n",
       "      <th>FAOBJ</th>\n",
       "      <th>FACAT</th>\n",
       "      <th>FAORRES</th>\n",
       "      <th>FAORRESU</th>\n",
       "      <th>FADTC</th>\n",
       "      <th>FADUR</th>\n",
       "      <th>INSDVSRC</th>\n",
       "      <th>INSSTYPE</th>\n",
       "      <th>INSNMBOL</th>\n",
       "      <th>INSEXBOL</th>\n",
       "      <th>DXTRT</th>\n",
       "      <th>ISMDI</th>\n",
       "    </tr>\n",
       "  </thead>\n",
       "  <tbody>\n",
       "    <tr>\n",
       "      <th>1343077</th>\n",
       "      <td>374</td>\n",
       "      <td>BASFLRT</td>\n",
       "      <td>BASAL FLOW RATE</td>\n",
       "      <td>INSULIN</td>\n",
       "      <td>BASAL</td>\n",
       "      <td>0.7</td>\n",
       "      <td>U/hr</td>\n",
       "      <td>2019-12-26 12:12:43</td>\n",
       "      <td>0 days 01:09:57</td>\n",
       "      <td>NaN</td>\n",
       "      <td>NaN</td>\n",
       "      <td>NaN</td>\n",
       "      <td>NaN</td>\n",
       "      <td>TANDEM T:SLIM X2 WITH BASAL IQ</td>\n",
       "      <td>False</td>\n",
       "    </tr>\n",
       "    <tr>\n",
       "      <th>1343078</th>\n",
       "      <td>374</td>\n",
       "      <td>BASFLRT</td>\n",
       "      <td>BASAL FLOW RATE</td>\n",
       "      <td>INSULIN</td>\n",
       "      <td>BASAL</td>\n",
       "      <td>NaN</td>\n",
       "      <td>U/hr</td>\n",
       "      <td>2019-12-26 13:22:40</td>\n",
       "      <td>0 days 00:10:00</td>\n",
       "      <td>NaN</td>\n",
       "      <td>NaN</td>\n",
       "      <td>NaN</td>\n",
       "      <td>NaN</td>\n",
       "      <td>TANDEM T:SLIM X2 WITH BASAL IQ</td>\n",
       "      <td>False</td>\n",
       "    </tr>\n",
       "    <tr>\n",
       "      <th>1343079</th>\n",
       "      <td>374</td>\n",
       "      <td>BASFLRT</td>\n",
       "      <td>BASAL FLOW RATE</td>\n",
       "      <td>INSULIN</td>\n",
       "      <td>BASAL</td>\n",
       "      <td>0.7</td>\n",
       "      <td>U/hr</td>\n",
       "      <td>2019-12-26 13:32:40</td>\n",
       "      <td>0 days 02:30:07</td>\n",
       "      <td>NaN</td>\n",
       "      <td>NaN</td>\n",
       "      <td>NaN</td>\n",
       "      <td>NaN</td>\n",
       "      <td>TANDEM T:SLIM X2 WITH BASAL IQ</td>\n",
       "      <td>False</td>\n",
       "    </tr>\n",
       "  </tbody>\n",
       "</table>\n",
       "</div>"
      ],
      "text/plain": [
       "        USUBJID FATESTCD           FATEST    FAOBJ  FACAT  FAORRES FAORRESU  \\\n",
       "1343077     374  BASFLRT  BASAL FLOW RATE  INSULIN  BASAL      0.7     U/hr   \n",
       "1343078     374  BASFLRT  BASAL FLOW RATE  INSULIN  BASAL      NaN     U/hr   \n",
       "1343079     374  BASFLRT  BASAL FLOW RATE  INSULIN  BASAL      0.7     U/hr   \n",
       "\n",
       "                      FADTC           FADUR INSDVSRC INSSTYPE  INSNMBOL  \\\n",
       "1343077 2019-12-26 12:12:43 0 days 01:09:57      NaN      NaN       NaN   \n",
       "1343078 2019-12-26 13:22:40 0 days 00:10:00      NaN      NaN       NaN   \n",
       "1343079 2019-12-26 13:32:40 0 days 02:30:07      NaN      NaN       NaN   \n",
       "\n",
       "         INSEXBOL                           DXTRT  ISMDI  \n",
       "1343077       NaN  TANDEM T:SLIM X2 WITH BASAL IQ  False  \n",
       "1343078       NaN  TANDEM T:SLIM X2 WITH BASAL IQ  False  \n",
       "1343079       NaN  TANDEM T:SLIM X2 WITH BASAL IQ  False  "
      ]
     },
     "metadata": {},
     "output_type": "display_data"
    }
   ],
   "source": [
    "#draw examples of rows surrounding nan basal deliveries\n",
    "sample_nan_delivery_rates = facm.loc[(facm.FATEST=='BASAL FLOW RATE') & (facm.FAORRES.isna())].sample(1)\n",
    "\n",
    "for row in sample_nan_delivery_rates.itertuples():\n",
    "    sub = facm.loc[(facm.FATEST=='BASAL FLOW RATE') & (facm.USUBJID == row.USUBJID)].sort_values('FADTC')\n",
    "    #use iloc to make sure we get the temporal neighbors\n",
    "    i_loc = sub.index.get_loc(row.Index)\n",
    "    display(sub.iloc[i_loc-1:i_loc+2])#[['FADTC','FADUR', 'FAORRES']])"
   ]
  },
  {
   "cell_type": "markdown",
   "metadata": {},
   "source": [
    "**Observations:**  \n",
    "- The basal deliveries happen every 5 minutes and module the basal rate (U/hr) (at least in the example above).\n",
    "- The NaN values happen in regions where flow rates are 0 and likely mark temporal suspensions.\n",
    "\n",
    "So, are the delivery rates and individual deliveries equivalent?\n",
    "  - We can check by calculating the sum (using U/hr and duration) and compare it to the sum obtained on all basal values (U)"
   ]
  },
  {
   "cell_type": "markdown",
   "metadata": {},
   "source": [
    "##### Comparing basal flow rate and deliveries sums"
   ]
  },
  {
   "cell_type": "code",
   "execution_count": 67,
   "metadata": {},
   "outputs": [
    {
     "name": "stdout",
     "output_type": "stream",
     "text": [
      "For 100.00% of flow rates (pump only) rows have a duration\n",
      "Total Daily Basal doses are 225440.01U (flow rates) 225465.93U (deliveries)\n",
      "The error is:\n"
     ]
    },
    {
     "data": {
      "text/plain": [
       "mean    -0.002374\n",
       "std      0.007212\n",
       "min     -0.073941\n",
       "max      0.074593\n",
       "sum    -25.922600\n",
       "dtype: float64"
      ]
     },
     "metadata": {},
     "output_type": "display_data"
    }
   ],
   "source": [
    "#compare sums of total basal doses between deliveries and flow rates\n",
    "\n",
    "# Check if for all Basal flow rates, there is a duration\n",
    "pump_rows = facm.loc[~facm.ISMDI].copy()\n",
    "pump_rows['day'] = pump_rows.FADTC.dt.date\n",
    "\n",
    "print(f\"For {100*pump_rows.loc[facm.FATEST=='BASAL FLOW RATE'].FADUR.notna().mean():.2f}% of flow rates (pump only) rows have a duration\")\n",
    "\n",
    "rates_with_dur = pump_rows.loc[pump_rows.FATEST=='BASAL FLOW RATE'].dropna(subset=['FADUR'])\n",
    "pump_rows['basal_rate'] =  rates_with_dur.FAORRES * rates_with_dur.FADUR.dt.total_seconds()/3600\n",
    "\n",
    "#compare total daily basal doses\n",
    "daily_flowrate_sums = pump_rows.groupby(['USUBJID','day'])['basal_rate'].sum()\n",
    "daily_delivery_sums = pump_rows.loc[pump_rows.FATEST=='BASAL INSULIN'].groupby(['USUBJID','day'])['FAORRES'].sum()\n",
    "\n",
    "print(f'Total Daily Basal doses are {daily_flowrate_sums.sum():.2f}U (flow rates) {daily_delivery_sums.sum():.2f}U (deliveries)')\n",
    "\n",
    "#compare daily sum distribution\n",
    "print(f\"The error is:\")\n",
    "display((daily_flowrate_sums-daily_delivery_sums).agg(['mean','std','min','max','sum']))"
   ]
  },
  {
   "cell_type": "markdown",
   "metadata": {},
   "source": [
    "### ... Summary\n",
    "- Basal deliveries and flow rates are equivalent\n",
    "- NaN flow rates likely mark 0 flow rates and should be replaced"
   ]
  },
  {
   "cell_type": "markdown",
   "metadata": {},
   "source": [
    "### BASAL in MDI patients.\n",
    "1. Check: Are BASAL FLOW RATES always zero in MDI? \n",
    "2. Check: Are BASAL in MDI much larger than in Pump?\n",
    "3. Check: all BASAL in MDI injections?"
   ]
  },
  {
   "cell_type": "code",
   "execution_count": 97,
   "metadata": {},
   "outputs": [
    {
     "name": "stdout",
     "output_type": "stream",
     "text": [
      "Which MDI columns contain valid values?\n"
     ]
    },
    {
     "data": {
      "text/html": [
       "<div>\n",
       "<style scoped>\n",
       "    .dataframe tbody tr th:only-of-type {\n",
       "        vertical-align: middle;\n",
       "    }\n",
       "\n",
       "    .dataframe tbody tr th {\n",
       "        vertical-align: top;\n",
       "    }\n",
       "\n",
       "    .dataframe thead tr th {\n",
       "        text-align: left;\n",
       "    }\n",
       "\n",
       "    .dataframe thead tr:last-of-type th {\n",
       "        text-align: right;\n",
       "    }\n",
       "</style>\n",
       "<table border=\"1\" class=\"dataframe\">\n",
       "  <thead>\n",
       "    <tr>\n",
       "      <th></th>\n",
       "      <th></th>\n",
       "      <th>FADTC</th>\n",
       "      <th>FADUR</th>\n",
       "      <th>INSSTYPE</th>\n",
       "      <th>INSNMBOL</th>\n",
       "      <th>INSEXBOL</th>\n",
       "      <th>FAORRES</th>\n",
       "    </tr>\n",
       "    <tr>\n",
       "      <th></th>\n",
       "      <th></th>\n",
       "      <th>count</th>\n",
       "      <th>count</th>\n",
       "      <th>count</th>\n",
       "      <th>count</th>\n",
       "      <th>count</th>\n",
       "      <th>count</th>\n",
       "    </tr>\n",
       "    <tr>\n",
       "      <th>FATEST</th>\n",
       "      <th>FAORRESU</th>\n",
       "      <th></th>\n",
       "      <th></th>\n",
       "      <th></th>\n",
       "      <th></th>\n",
       "      <th></th>\n",
       "      <th></th>\n",
       "    </tr>\n",
       "  </thead>\n",
       "  <tbody>\n",
       "    <tr>\n",
       "      <th>BASAL FLOW RATE</th>\n",
       "      <th>U/hr</th>\n",
       "      <td>2365</td>\n",
       "      <td>0</td>\n",
       "      <td>0</td>\n",
       "      <td>0</td>\n",
       "      <td>0</td>\n",
       "      <td>0</td>\n",
       "    </tr>\n",
       "    <tr>\n",
       "      <th>BASAL INSULIN</th>\n",
       "      <th>U</th>\n",
       "      <td>2365</td>\n",
       "      <td>0</td>\n",
       "      <td>0</td>\n",
       "      <td>0</td>\n",
       "      <td>0</td>\n",
       "      <td>2365</td>\n",
       "    </tr>\n",
       "    <tr>\n",
       "      <th>BOLUS INSULIN</th>\n",
       "      <th>U</th>\n",
       "      <td>9515</td>\n",
       "      <td>0</td>\n",
       "      <td>0</td>\n",
       "      <td>0</td>\n",
       "      <td>0</td>\n",
       "      <td>9515</td>\n",
       "    </tr>\n",
       "  </tbody>\n",
       "</table>\n",
       "</div>"
      ],
      "text/plain": [
       "                         FADTC FADUR INSSTYPE INSNMBOL INSEXBOL FAORRES\n",
       "                         count count    count    count    count   count\n",
       "FATEST          FAORRESU                                               \n",
       "BASAL FLOW RATE U/hr      2365     0        0        0        0       0\n",
       "BASAL INSULIN   U         2365     0        0        0        0    2365\n",
       "BOLUS INSULIN   U         9515     0        0        0        0    9515"
      ]
     },
     "metadata": {},
     "output_type": "display_data"
    },
    {
     "name": "stdout",
     "output_type": "stream",
     "text": [
      "There are 84 MDI patients with flow rates\n",
      " wich are 16.60% of the MDI data\n",
      " from these, 0 are not NaN\n"
     ]
    }
   ],
   "source": [
    "#Where does the data sit in MDI\n",
    "print(\"Which MDI columns contain valid values?\")\n",
    "def isna(x):\n",
    "    return x.isna().sum()\n",
    "r = facm.loc[facm.ISMDI].groupby(['FATEST','FAORRESU'])[['FADTC','FADUR','INSSTYPE','INSNMBOL','INSEXBOL','FAORRES']].agg(['count'])\n",
    "display(r)\n",
    "del r\n",
    "\n",
    "\n",
    "#Check how many BASAL FLOW RATES exists in MDI\n",
    "mdi_with_flow_rates= facm.loc[facm.ISMDI &(facm.FATEST=='BASAL FLOW RATE')]\n",
    "print(f'There are {len(mdi_with_flow_rates.USUBJID.unique())} MDI patients with flow rates')\n",
    "print(f\" wich are {100*len(mdi_with_flow_rates)/len(facm.loc[(facm.DXTRT=='MULTIPLE DAILY INJECTIONS')]):.2f}% of the MDI data\")\n",
    "print(f\" from these, {mdi_with_flow_rates.FAORRES.count()} are not NaN\")\n"
   ]
  },
  {
   "cell_type": "markdown",
   "metadata": {},
   "source": [
    "**Observation**: \n",
    "- All flow rates in MDI are NaN? \n",
    "- It is unclear where these come from\n",
    "- Values in all other insulin relevant columns are also NaN\n",
    "\n",
    "\n",
    "Assumption: We can probably drop the FLOW rates for MDI.\n",
    "\n",
    "\n",
    "Let's check if the total bolus and basal doses match are similar between pump and mdi users "
   ]
  },
  {
   "cell_type": "markdown",
   "metadata": {},
   "source": [
    "#### MDI vs. Pump Doses"
   ]
  },
  {
   "cell_type": "code",
   "execution_count": 101,
   "metadata": {},
   "outputs": [
    {
     "data": {
      "text/plain": [
       "ISMDI  FATEST       \n",
       "False  BASAL INSULIN    20.650845\n",
       "       BOLUS INSULIN    20.226764\n",
       "True   BASAL INSULIN    19.176018\n",
       "       BOLUS INSULIN    18.187278\n",
       "dtype: float64"
      ]
     },
     "metadata": {},
     "output_type": "display_data"
    }
   ],
   "source": [
    "#calculate average total daily bolus and basal dose per group\n",
    "\n",
    "facm['day'] = facm.FADTC.dt.date\n",
    "\n",
    "#sum per FATEST type\n",
    "#remove BASAL FLOW RATES from the dataset assuming that they reflect the same as the sum of BASAL INSULIN deliveries for Pump users (they are Nan for MDI any way)\n",
    "temp = facm.loc[facm.FATEST!='BASAL FLOW RATE']\n",
    "r = temp.groupby(['ISMDI','FATEST','USUBJID','day'])[['FAORRES']].agg('sum')\n",
    "#bolus, basal per day\n",
    "#display(r.sample(3))\n",
    "\n",
    "#sum per day\n",
    "daily_sum = r.sum(axis=1)\n",
    "#display(daily_sum.sample(3))\n",
    "\n",
    "#mean basal/bolus\n",
    "group_mean = daily_sum.groupby(level=[0, 1]).mean()\n",
    "display(group_mean)"
   ]
  },
  {
   "cell_type": "code",
   "execution_count": 100,
   "metadata": {},
   "outputs": [
    {
     "data": {
      "text/plain": [
       "(-1.0, 50.0)"
      ]
     },
     "execution_count": 100,
     "metadata": {},
     "output_type": "execute_result"
    },
    {
     "data": {
      "image/png": "[encoded data removed]",
      "text/plain": [
       "<Figure size 800x200 with 1 Axes>"
      ]
     },
     "metadata": {},
     "output_type": "display_data"
    },
    {
     "data": {
      "image/png": "[encoded data removed]",
      "text/plain": [
       "<Figure size 800x200 with 1 Axes>"
      ]
     },
     "metadata": {},
     "output_type": "display_data"
    }
   ],
   "source": [
    "#let's compare the dose sizes\n",
    "daily_sum_patient = daily_sum.groupby(level=[0,1,2]).mean()\n",
    "plt.figure(figsize=(8,2)); ax=plt.gca()\n",
    "cdf.plot_cdf(facm.loc[(~facm.ISMDI)&(facm.FATEST=='BOLUS INSULIN')].FAORRES,ax=ax,label='Pump',color='red')\n",
    "cdf.plot_cdf(facm.loc[(facm.ISMDI)&(facm.FATEST=='BOLUS INSULIN')].FAORRES,ax=ax,label='MDI',color='blue')\n",
    "\n",
    "ax.legend(); ax.set_title('Boluses MDI vs. Pump')\n",
    "plt.figure(figsize=(8,2)); ax=plt.gca()\n",
    "cdf.plot_cdf(facm.loc[(~facm.ISMDI)&(facm.FATEST=='BASAL INSULIN')].FAORRES,ax=ax,label='Pump',color='red')\n",
    "cdf.plot_cdf(facm.loc[(facm.ISMDI)&(facm.FATEST=='BASAL INSULIN')].FAORRES,ax=ax,label='MDI',color='blue')\n",
    "ax.legend(); ax.set_title('Basals MDI vs. Pump');ax.set_xlim(-1,50)"
   ]
  },
  {
   "cell_type": "markdown",
   "metadata": {},
   "source": [
    "- All BASAL in MDI are of much larger value (indicating injections)"
   ]
  },
  {
   "cell_type": "markdown",
   "metadata": {},
   "source": [
    "#### Bolus Columns\n",
    "\n",
    "We know that insulin boluses can end up in FAORRES but also in INSNMBOL (normal boluses) and INSEXBOL (extended boluses).\n",
    "\n",
    "The expectation is that FAORRES carries the sum of the INMBOL and INSEXBOL.  \n",
    "Can we rely on this or do some boluses not end up in here?"
   ]
  },
  {
   "cell_type": "code",
   "execution_count": 114,
   "metadata": {},
   "outputs": [
    {
     "name": "stdout",
     "output_type": "stream",
     "text": [
      "Number of values with values in more than one of the columns INSEXBOL, INSNMBOL, FAORRES\n",
      "\n",
      "PUMP:\n"
     ]
    },
    {
     "data": {
      "text/plain": [
       "1    29463\n",
       "2    80626\n",
       "3     2633\n",
       "Name: count, dtype: int64"
      ]
     },
     "metadata": {},
     "output_type": "display_data"
    },
    {
     "name": "stdout",
     "output_type": "stream",
     "text": [
      "\n",
      "MDI:\n"
     ]
    },
    {
     "data": {
      "text/plain": [
       "1    29463\n",
       "2    80626\n",
       "3     2633\n",
       "Name: count, dtype: int64"
      ]
     },
     "metadata": {},
     "output_type": "display_data"
    }
   ],
   "source": [
    "#How many of the 3 columns INSEXBOL INSNMBOL FAORRES carry values?\n",
    "print('Number of values with values in more than one of the columns INSEXBOL, INSNMBOL, FAORRES')\n",
    "\n",
    "bolus_rows = facm.loc[(facm.FATEST=='BOLUS INSULIN')]\n",
    "print('\\nPUMP:')\n",
    "display(bolus_rows[['INSEXBOL','INSNMBOL','FAORRES']].notna().sum(axis=1).value_counts().sort_index())\n",
    "\n",
    "print('\\nMDI:')\n",
    "display(bolus_rows[['INSEXBOL','INSNMBOL','FAORRES']].notna().sum(axis=1).value_counts().sort_index())"
   ]
  },
  {
   "cell_type": "markdown",
   "metadata": {},
   "source": [
    "We see that for pump values, we often have only 1 value. So the assumption that FAORRESS is the sum of the other two must be wrong or at least there are exceptions."
   ]
  },
  {
   "cell_type": "code",
   "execution_count": 167,
   "metadata": {},
   "outputs": [
    {
     "name": "stdout",
     "output_type": "stream",
     "text": [
      "26.14% of rows have 1 columns with values\n"
     ]
    },
    {
     "data": {
      "text/plain": [
       "INSEXBOL        0\n",
       "INSNMBOL        0\n",
       "FAORRES     29463\n",
       "dtype: int64"
      ]
     },
     "metadata": {},
     "output_type": "display_data"
    },
    {
     "name": "stdout",
     "output_type": "stream",
     "text": [
      "71.53% of rows have 2 columns with values\n"
     ]
    },
    {
     "data": {
      "text/plain": [
       "INSEXBOL      350\n",
       "INSNMBOL    80276\n",
       "FAORRES     80626\n",
       "dtype: int64"
      ]
     },
     "metadata": {},
     "output_type": "display_data"
    },
    {
     "name": "stdout",
     "output_type": "stream",
     "text": [
      "2.34% of rows have 3 columns with values\n"
     ]
    },
    {
     "data": {
      "text/plain": [
       "INSEXBOL    2633\n",
       "INSNMBOL    2633\n",
       "FAORRES     2633\n",
       "dtype: int64"
      ]
     },
     "metadata": {},
     "output_type": "display_data"
    }
   ],
   "source": [
    "#check for Rows with only 1 value\n",
    "for num_vals in [1,2,3]:\n",
    "    temp = bolus_rows.loc[bolus_rows[['INSEXBOL','INSNMBOL','FAORRES']].notna().sum(axis=1) == num_vals]\n",
    "    print(f'{100*len(temp)/len(bolus_rows):.2f}% of rows have {num_vals} columns with values')\n",
    "    display(temp[['INSEXBOL','INSNMBOL','FAORRES']].count())"
   ]
  },
  {
   "cell_type": "markdown",
   "metadata": {},
   "source": [
    "Let's check if there is a difference in insulin types between these cases"
   ]
  },
  {
   "cell_type": "code",
   "execution_count": 169,
   "metadata": {},
   "outputs": [
    {
     "name": "stdout",
     "output_type": "stream",
     "text": [
      "\n",
      "\n",
      "Rows with 1 columns carrying values: ..\n"
     ]
    },
    {
     "data": {
      "text/plain": [
       "FATEST         INSDVSRC    INSSTYPE                  \n",
       "BOLUS INSULIN  Injections  NaN                            9516\n",
       "               Pump        automatic bolus/correction       26\n",
       "                           combination                      46\n",
       "                           dual (normal part)                1\n",
       "                           dual (square part)                1\n",
       "                           normal                        19799\n",
       "                           square                            1\n",
       "                           standard                         27\n",
       "                           standard/correction              46\n",
       "Name: count, dtype: int64"
      ]
     },
     "metadata": {},
     "output_type": "display_data"
    },
    {
     "name": "stdout",
     "output_type": "stream",
     "text": [
      "\n",
      "\n",
      "Rows with 2 columns carrying values: ..\n"
     ]
    },
    {
     "data": {
      "text/plain": [
       "FATEST         INSDVSRC  INSSTYPE \n",
       "BOLUS INSULIN  Pump      automated     1619\n",
       "                         normal       78657\n",
       "                         square         350\n",
       "Name: count, dtype: int64"
      ]
     },
     "metadata": {},
     "output_type": "display_data"
    },
    {
     "name": "stdout",
     "output_type": "stream",
     "text": [
      "\n",
      "\n",
      "Rows with 3 columns carrying values: ..\n"
     ]
    },
    {
     "data": {
      "text/plain": [
       "FATEST         INSDVSRC  INSSTYPE   \n",
       "BOLUS INSULIN  Pump      combination       2\n",
       "                         dual/square    2631\n",
       "Name: count, dtype: int64"
      ]
     },
     "metadata": {},
     "output_type": "display_data"
    }
   ],
   "source": [
    "#check breakdown of source and insulin types\n",
    "for num_vals in [1,2,3]:\n",
    "    print(f'\\n\\nRows with {num_vals} columns carrying values: ..')\n",
    "    temp = bolus_rows.loc[bolus_rows[['INSEXBOL','INSNMBOL','FAORRES']].notna().sum(axis=1) == num_vals]\n",
    "    #display(temp.FATEST.value_counts())\n",
    "    display(temp.value_counts(['FATEST','INSDVSRC','INSSTYPE'],dropna=False,sort=False))"
   ]
  },
  {
   "cell_type": "markdown",
   "metadata": {},
   "source": [
    "Not clear, now let's check if at least the sums match up."
   ]
  },
  {
   "cell_type": "code",
   "execution_count": 156,
   "metadata": {},
   "outputs": [
    {
     "name": "stdout",
     "output_type": "stream",
     "text": [
      "count    8.325900e+04\n",
      "mean     7.214836e-07\n",
      "std      1.192128e-04\n",
      "min     -4.900000e-04\n",
      "max      5.000000e-04\n",
      "sum      6.007000e-02\n",
      "dtype: float64\n"
     ]
    }
   ],
   "source": [
    "#Let's check if the sums match if there is at least one other value in the other columns\n",
    "temp = bolus_rows.loc[bolus_rows[['INSEXBOL','INSNMBOL','FAORRES']].notna().sum(axis=1) > 1].copy()\n",
    "temp = temp[['INSEXBOL','INSNMBOL','FAORRES']].fillna(0) # this makes sure the sum does not result in NaN if only ISNMBOL or INSEXBOL has a value\n",
    "r = temp.FAORRES - (temp.INSEXBOL+temp.INSNMBOL)\n",
    "print(r.agg(['count','mean','std','min','max','sum']))"
   ]
  },
  {
   "cell_type": "markdown",
   "metadata": {},
   "source": [
    "Yes, they match exactly. \n",
    "Last thought: could the rows that have only values in FAORRES be duplicated reports?"
   ]
  },
  {
   "cell_type": "code",
   "execution_count": 163,
   "metadata": {},
   "outputs": [
    {
     "name": "stdout",
     "output_type": "stream",
     "text": [
      "0 duplicated boluses\n"
     ]
    }
   ],
   "source": [
    "#check if there are any boluses reported multiple times. Since we know that FAORRESS always contians the sum, we need to check for duplicates on that column\n",
    "print(f\"{bolus_rows.duplicated(subset=['USUBJID','FADTC','FAORRES']).sum()} duplicated boluses\")"
   ]
  },
  {
   "cell_type": "markdown",
   "metadata": {},
   "source": [
    "**Findings**\n",
    "- faorres always contains a value (total dose)\n",
    "- often these are spolit into the other two columns INSEXBOL or INSMBOL however not always!\n",
    "-  Many boluses don't end up in the INMBOL and INSEXBOL columns\n",
    "    - The insulin types are not decisive for this, it probably depends on the pump.\n",
    "- There are no duplicated boluses\n"
   ]
  },
  {
   "cell_type": "markdown",
   "metadata": {},
   "source": [
    "## Collected Questions & Answers\n",
    "\n",
    "**Answered Questions**  \n",
    "- The script only considers FATEST == 'BASAL INSULIN' thus ignoring BASAL FLOW RATE. Is this correct?\n",
    "      - This is because flow rates are equivalent to the deliveries\n",
    "- Why is FASTRES Nan when FAORRESU is U/hr but not when it is U?\n",
    "  - This is because FASTRES represents a standard unit and U/hr is not supported, use the original unit FAORRESU instead.\n",
    "- There are no 0 FASTRESN values but many NaN. How are 0 basal rates reported?\n",
    "  - It appears as if NaN Basal Flow Rates (at least for Pump users) mark zero values. \n",
    "\n",
    "- Why are some boluses only in FAORRES but not in INSNMBOL and INSEXBOL\n",
    "  - It appears as if these boluses were not properly classified. This is true for at least 26% of the boluses\n",
    "  - However, it is unclear why.\n",
    "\n",
    "\n",
    "**Open Questions:**  \n",
    "- AID\n",
    "  - Why are `TANDEM T:SLIM X2 WITH BASAL IQ` not considered AID?\n",
    "  - How do we know if Pump was running AID or not?\n",
    "- BASAL\n",
    "    - Why are there many rows with NaN values in `FASTRESN` for FATEST being BASAL INSULIN or BASAL FLOW RATE?\n",
    "- Why are there MDI patients with basal flow Rates\n",
    "  - The values are NaN but we don't know why there are these empty rows.\n"
   ]
  },
  {
   "cell_type": "markdown",
   "metadata": {},
   "source": []
  }
 ],
 "metadata": {
  "kernelspec": {
   "display_name": "babelbetes",
   "language": "python",
   "name": "python3"
  },
  "language_info": {
   "codemirror_mode": {
    "name": "ipython",
    "version": 3
   },
   "file_extension": ".py",
   "mimetype": "text/x-python",
   "name": "python",
   "nbconvert_exporter": "python",
   "pygments_lexer": "ipython3",
   "version": "3.11.0"
  }
 },
 "nbformat": 4,
 "nbformat_minor": 2
}
