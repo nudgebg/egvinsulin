{
 "cells": [
  {
   "cell_type": "code",
   "execution_count": 212,
   "metadata": {},
   "outputs": [],
   "source": [
    "import os\n",
    "import sys\n",
    "sys.path.append('../..')\n",
    "\n",
    "import matplotlib.pyplot as plt\n",
    "\n",
    "from src import cdf"
   ]
  },
  {
   "cell_type": "code",
   "execution_count": 213,
   "metadata": {},
   "outputs": [],
   "source": [
    "import numpy as np\n",
    "import pandas as pd\n",
    "from datetime import datetime, timedelta\n",
    "import isodate"
   ]
  },
  {
   "cell_type": "markdown",
   "metadata": {},
   "source": [
    "**Problem**: We don’t fully understand the structure of these files and how columns relate. Therefore, after having read the netiob script, and the documentation we want to take a close look at the data itself.\n",
    "\n",
    "**Goal**: Load xpt file into pandas in jupyter. Identify relevant columns and verify how they relate to another. For now, only for Insulin Data.\n",
    "\n",
    "**Detailed Questions:**\n",
    "\n",
    "1. How many patients\n",
    "2. Fraction per pump system\n",
    "3. Can we rely on the table as presented in T1DEXI ACRF_15Sept2022.pdf? or rather on the script?\n",
    "   1. Do we have BASAL when the Bolus column is not empty?\n",
    "   2. Are FATEST (test) and FACAT (category) really inconsistent between overall, 670g and 770g?\n",
    "   3. Are there really no extended boluses in 770g?\n",
    "   4. Is FASTRESN just a copy of the value in INSEXBOL or INSNMBOL and FAORRES (Basal)?\n",
    "\n",
    "\n",
    "**How:**\n",
    "\n",
    "- Load DX using pandas\n",
    "  - unique count on USUBJID (subject counts)\n",
    "  - value counts on DXTRT (patients/pump)\n",
    "- Load FA (FACM) dataset\n",
    "  - value counts on relevant columns\n",
    "    - FATEST (insulin type)\n",
    "      - INSSTYPE (subtype)\n",
    "    - FATESTCD (bolus or basal category)\n",
    "      - should only contain INSBASAL, INSBOLUS and BASFLRt\n",
    "    - Comapre FATESTCD vs. INSDVSRC\n",
    "  - Check if FAORRES (or rather FASTRESN (numeric)) result\n",
    "    - is the same as either INSNMBOL, INSEXBOL\n",
    "\n",
    "**Success:** jupyter notebook with analysis on the different columns and how they relate. Summary on where bolus, basal data is stored and differences between pumps."
   ]
  },
  {
   "cell_type": "markdown",
   "metadata": {},
   "source": [
    "## Load the xpt data file"
   ]
  },
  {
   "cell_type": "code",
   "execution_count": 387,
   "metadata": {},
   "outputs": [
    {
     "data": {
      "text/html": [
       "<div>\n",
       "<style scoped>\n",
       "    .dataframe tbody tr th:only-of-type {\n",
       "        vertical-align: middle;\n",
       "    }\n",
       "\n",
       "    .dataframe tbody tr th {\n",
       "        vertical-align: top;\n",
       "    }\n",
       "\n",
       "    .dataframe thead th {\n",
       "        text-align: right;\n",
       "    }\n",
       "</style>\n",
       "<table border=\"1\" class=\"dataframe\">\n",
       "  <thead>\n",
       "    <tr style=\"text-align: right;\">\n",
       "      <th></th>\n",
       "      <th>USUBJID</th>\n",
       "      <th>DXTRT</th>\n",
       "    </tr>\n",
       "  </thead>\n",
       "  <tbody>\n",
       "    <tr>\n",
       "      <th>0</th>\n",
       "      <td>1</td>\n",
       "      <td>MULTIPLE DAILY INJECTIONS</td>\n",
       "    </tr>\n",
       "    <tr>\n",
       "      <th>1</th>\n",
       "      <td>1000</td>\n",
       "      <td>INSULET OMNIPOD INSULIN MANAGEMENT SYSTEM</td>\n",
       "    </tr>\n",
       "    <tr>\n",
       "      <th>2</th>\n",
       "      <td>1000</td>\n",
       "      <td>INSULIN PUMP</td>\n",
       "    </tr>\n",
       "    <tr>\n",
       "      <th>3</th>\n",
       "      <td>1004</td>\n",
       "      <td>INSULET OMNIPOD INSULIN MANAGEMENT SYSTEM</td>\n",
       "    </tr>\n",
       "    <tr>\n",
       "      <th>4</th>\n",
       "      <td>1004</td>\n",
       "      <td>INSULIN PUMP</td>\n",
       "    </tr>\n",
       "  </tbody>\n",
       "</table>\n",
       "</div>"
      ],
      "text/plain": [
       "  USUBJID                                      DXTRT\n",
       "0       1                  MULTIPLE DAILY INJECTIONS\n",
       "1    1000  INSULET OMNIPOD INSULIN MANAGEMENT SYSTEM\n",
       "2    1000                               INSULIN PUMP\n",
       "3    1004  INSULET OMNIPOD INSULIN MANAGEMENT SYSTEM\n",
       "4    1004                               INSULIN PUMP"
      ]
     },
     "metadata": {},
     "output_type": "display_data"
    }
   ],
   "source": [
    "t1dexi_path = os.path.join(os.getcwd(),'..','..','data','raw','T1DEXI')\n",
    "dx = pd.read_sas(os.path.join(t1dexi_path,'DX.xpt'),encoding='latin-1').replace('', np.nan)\n",
    "dx = dx.drop(columns=['DXSCAT','DXPRESP','STUDYID','DOMAIN','SPDEVID','DXSEQ','DXCAT','DXSCAT','DXSTRTPT','DXDTC','DXENRTPT','DXEVINTX','VISIT'])\n",
    "display(dx.head())\n",
    "\n",
    "#drop generic device codes that are duplicates of the true pump\n",
    "#dx = dx.loc[dx.DXTRT.isin(['INSULIN PUMP','CLOSED LOOP INSULIN PUMP'])]"
   ]
  },
  {
   "cell_type": "code",
   "execution_count": 382,
   "metadata": {},
   "outputs": [
    {
     "name": "stdout",
     "output_type": "stream",
     "text": [
      "Number of % in facm: 0, dx: 0\n"
     ]
    },
    {
     "data": {
      "text/html": [
       "<div>\n",
       "<style scoped>\n",
       "    .dataframe tbody tr th:only-of-type {\n",
       "        vertical-align: middle;\n",
       "    }\n",
       "\n",
       "    .dataframe tbody tr th {\n",
       "        vertical-align: top;\n",
       "    }\n",
       "\n",
       "    .dataframe thead th {\n",
       "        text-align: right;\n",
       "    }\n",
       "</style>\n",
       "<table border=\"1\" class=\"dataframe\">\n",
       "  <thead>\n",
       "    <tr style=\"text-align: right;\">\n",
       "      <th></th>\n",
       "      <th>USUBJID</th>\n",
       "      <th>FATESTCD</th>\n",
       "      <th>FATEST</th>\n",
       "      <th>FAOBJ</th>\n",
       "      <th>FACAT</th>\n",
       "      <th>FAORRES</th>\n",
       "      <th>FAORRESU</th>\n",
       "      <th>FADTC</th>\n",
       "      <th>FADUR</th>\n",
       "      <th>INSDVSRC</th>\n",
       "      <th>INSSTYPE</th>\n",
       "      <th>INSNMBOL</th>\n",
       "      <th>INSEXBOL</th>\n",
       "    </tr>\n",
       "  </thead>\n",
       "  <tbody>\n",
       "    <tr>\n",
       "      <th>1499635</th>\n",
       "      <td>48</td>\n",
       "      <td>BASFLRT</td>\n",
       "      <td>BASAL FLOW RATE</td>\n",
       "      <td>INSULIN</td>\n",
       "      <td>BASAL</td>\n",
       "      <td>1.190</td>\n",
       "      <td>U/hr</td>\n",
       "      <td>2019-12-21 10:41:17</td>\n",
       "      <td>0 days 00:05:00</td>\n",
       "      <td>NaN</td>\n",
       "      <td>NaN</td>\n",
       "      <td>NaN</td>\n",
       "      <td>NaN</td>\n",
       "    </tr>\n",
       "    <tr>\n",
       "      <th>1061</th>\n",
       "      <td>1004</td>\n",
       "      <td>INSBASAL</td>\n",
       "      <td>BASAL INSULIN</td>\n",
       "      <td>INSULIN</td>\n",
       "      <td>BASAL</td>\n",
       "      <td>0.206</td>\n",
       "      <td>U</td>\n",
       "      <td>2020-12-13 04:54:09</td>\n",
       "      <td>0 days 00:24:44</td>\n",
       "      <td>Pump</td>\n",
       "      <td>scheduled</td>\n",
       "      <td>NaN</td>\n",
       "      <td>NaN</td>\n",
       "    </tr>\n",
       "    <tr>\n",
       "      <th>119537</th>\n",
       "      <td>1077</td>\n",
       "      <td>BASFLRT</td>\n",
       "      <td>BASAL FLOW RATE</td>\n",
       "      <td>INSULIN</td>\n",
       "      <td>BASAL</td>\n",
       "      <td>1.885</td>\n",
       "      <td>U/hr</td>\n",
       "      <td>2019-12-19 03:10:45</td>\n",
       "      <td>0 days 00:05:02</td>\n",
       "      <td>NaN</td>\n",
       "      <td>NaN</td>\n",
       "      <td>NaN</td>\n",
       "      <td>NaN</td>\n",
       "    </tr>\n",
       "    <tr>\n",
       "      <th>2054821</th>\n",
       "      <td>870</td>\n",
       "      <td>BASFLRT</td>\n",
       "      <td>BASAL FLOW RATE</td>\n",
       "      <td>INSULIN</td>\n",
       "      <td>BASAL</td>\n",
       "      <td>3.111</td>\n",
       "      <td>U/hr</td>\n",
       "      <td>2020-06-04 02:05:31</td>\n",
       "      <td>0 days 00:05:01</td>\n",
       "      <td>NaN</td>\n",
       "      <td>NaN</td>\n",
       "      <td>NaN</td>\n",
       "      <td>NaN</td>\n",
       "    </tr>\n",
       "    <tr>\n",
       "      <th>1811785</th>\n",
       "      <td>702</td>\n",
       "      <td>INSBASAL</td>\n",
       "      <td>BASAL INSULIN</td>\n",
       "      <td>INSULIN</td>\n",
       "      <td>BASAL</td>\n",
       "      <td>0.189</td>\n",
       "      <td>U</td>\n",
       "      <td>2019-12-07 08:27:31</td>\n",
       "      <td>0 days 00:05:01</td>\n",
       "      <td>Pump</td>\n",
       "      <td>temp</td>\n",
       "      <td>NaN</td>\n",
       "      <td>NaN</td>\n",
       "    </tr>\n",
       "  </tbody>\n",
       "</table>\n",
       "</div>"
      ],
      "text/plain": [
       "        USUBJID  FATESTCD           FATEST    FAOBJ  FACAT  FAORRES FAORRESU  \\\n",
       "1499635      48   BASFLRT  BASAL FLOW RATE  INSULIN  BASAL    1.190     U/hr   \n",
       "1061       1004  INSBASAL    BASAL INSULIN  INSULIN  BASAL    0.206        U   \n",
       "119537     1077   BASFLRT  BASAL FLOW RATE  INSULIN  BASAL    1.885     U/hr   \n",
       "2054821     870   BASFLRT  BASAL FLOW RATE  INSULIN  BASAL    3.111     U/hr   \n",
       "1811785     702  INSBASAL    BASAL INSULIN  INSULIN  BASAL    0.189        U   \n",
       "\n",
       "                      FADTC           FADUR INSDVSRC   INSSTYPE  INSNMBOL  \\\n",
       "1499635 2019-12-21 10:41:17 0 days 00:05:00      NaN        NaN       NaN   \n",
       "1061    2020-12-13 04:54:09 0 days 00:24:44     Pump  scheduled       NaN   \n",
       "119537  2019-12-19 03:10:45 0 days 00:05:02      NaN        NaN       NaN   \n",
       "2054821 2020-06-04 02:05:31 0 days 00:05:01      NaN        NaN       NaN   \n",
       "1811785 2019-12-07 08:27:31 0 days 00:05:01     Pump       temp       NaN   \n",
       "\n",
       "         INSEXBOL  \n",
       "1499635       NaN  \n",
       "1061          NaN  \n",
       "119537        NaN  \n",
       "2054821       NaN  \n",
       "1811785       NaN  "
      ]
     },
     "metadata": {},
     "output_type": "display_data"
    }
   ],
   "source": [
    "facm = pd.read_sas(os.path.join(t1dexi_path,'FACM.xpt'),encoding='latin-1',).replace('', np.nan)\n",
    "\n",
    "#'FAORRES','FASTRESC' and FASTRESN all show the finding (result) (however, 0 values show up as 5.397605e-79 in FASTRESN)\n",
    "#`FAORRES`: Result or Finding in Original Units\n",
    "#`FASTRESC`: Character Result/Finding in Std Format\n",
    "#`FASTRESN`: Numeric Result/Finding in Standard Unit\n",
    "facm['FAORRES'] = facm['FAORRES'].astype(float)\n",
    "\n",
    "#FAORRESU and FASTRESU refer to the Unit but since U/hr is not a standard unit it is NaN in FASTRESU\n",
    "#`FAORRESU`: Original Units\n",
    "#`FASTRESU`: Standard Units\n",
    "facm = facm.drop(columns=['STUDYID','DOMAIN','FASEQ',\n",
    "                          'FASTRESN','FASTRESC',# Numeric results are 5.397605e-79 for 0 values, therefore use FAORRES (original units),FASTRESC is just a string duplicated\n",
    "                          'FASTRESU', #standard units are NaN for U/hr , therefore use FAORRESU (original units)\n",
    "                          ]) \n",
    "\n",
    "#alternatively we could use \n",
    "facm['FADTC'] = facm['FADTC'].apply(lambda x: datetime(1960, 1, 1) + timedelta(seconds=x) if pd.notnull(x) else pd.NaT)\n",
    "facm['FADUR'] = facm.FADUR.dropna().apply(isodate.parse_duration, as_timedelta_if_possible=True)\n",
    "\n",
    "#note, we didn't need to replace % signs and we didn't need xport as in the scripts\n",
    "percent_count_facm = facm.apply(lambda x: x.astype(str).str.contains('%').sum()).sum()\n",
    "percent_count_dx = dx.apply(lambda x: x.astype(str).str.contains('%').sum()).sum()\n",
    "print(f'Number of % in facm: {percent_count_facm}, dx: {percent_count_dx}')\n",
    "\n",
    "display(facm.sample(5))"
   ]
  },
  {
   "cell_type": "markdown",
   "metadata": {},
   "source": [
    "## Inspect DX (Patients and Pumps)"
   ]
  },
  {
   "cell_type": "code",
   "execution_count": 388,
   "metadata": {},
   "outputs": [
    {
     "name": "stdout",
     "output_type": "stream",
     "text": [
      "Pump: 414, MDI: 88, Other: 414\n"
     ]
    },
    {
     "data": {
      "text/html": [
       "<div>\n",
       "<style scoped>\n",
       "    .dataframe tbody tr th:only-of-type {\n",
       "        vertical-align: middle;\n",
       "    }\n",
       "\n",
       "    .dataframe tbody tr th {\n",
       "        vertical-align: top;\n",
       "    }\n",
       "\n",
       "    .dataframe thead th {\n",
       "        text-align: right;\n",
       "    }\n",
       "</style>\n",
       "<table border=\"1\" class=\"dataframe\">\n",
       "  <thead>\n",
       "    <tr style=\"text-align: right;\">\n",
       "      <th></th>\n",
       "      <th>USUBJID</th>\n",
       "      <th>TRTMNT</th>\n",
       "      <th>DXTRT</th>\n",
       "    </tr>\n",
       "  </thead>\n",
       "  <tbody>\n",
       "    <tr>\n",
       "      <th>0</th>\n",
       "      <td>1</td>\n",
       "      <td>MDI</td>\n",
       "      <td>MULTIPLE DAILY INJECTIONS</td>\n",
       "    </tr>\n",
       "    <tr>\n",
       "      <th>1</th>\n",
       "      <td>1000</td>\n",
       "      <td>CSII</td>\n",
       "      <td>INSULET OMNIPOD INSULIN MANAGEMENT SYSTEM</td>\n",
       "    </tr>\n",
       "    <tr>\n",
       "      <th>2</th>\n",
       "      <td>1004</td>\n",
       "      <td>CSII</td>\n",
       "      <td>INSULET OMNIPOD INSULIN MANAGEMENT SYSTEM</td>\n",
       "    </tr>\n",
       "    <tr>\n",
       "      <th>3</th>\n",
       "      <td>1010</td>\n",
       "      <td>CSII</td>\n",
       "      <td>MEDTRONIC 670G IN MANUAL MODE</td>\n",
       "    </tr>\n",
       "    <tr>\n",
       "      <th>4</th>\n",
       "      <td>1012</td>\n",
       "      <td>AID</td>\n",
       "      <td>TANDEM T:SLIM X2 WITH CONTROL IQ</td>\n",
       "    </tr>\n",
       "  </tbody>\n",
       "</table>\n",
       "</div>"
      ],
      "text/plain": [
       "  USUBJID TRTMNT                                      DXTRT\n",
       "0       1    MDI                  MULTIPLE DAILY INJECTIONS\n",
       "1    1000   CSII  INSULET OMNIPOD INSULIN MANAGEMENT SYSTEM\n",
       "2    1004   CSII  INSULET OMNIPOD INSULIN MANAGEMENT SYSTEM\n",
       "3    1010   CSII              MEDTRONIC 670G IN MANUAL MODE\n",
       "4    1012    AID           TANDEM T:SLIM X2 WITH CONTROL IQ"
      ]
     },
     "metadata": {},
     "output_type": "display_data"
    }
   ],
   "source": [
    "#the duplicated 'INSULIN PUMP' or 'CLOSED LOOP INSULIN PUMP' values can be used to specify the pump type\n",
    "pump_type = dx.loc[dx.DXTRT.isin(['INSULIN PUMP','CLOSED LOOP INSULIN PUMP'])][['USUBJID','DXTRT']]\n",
    "mdi_type = dx.loc[dx.DXTRT.isin(['MULTIPLE DAILY INJECTIONS'])]\n",
    "other_type = dx.loc[~dx.DXTRT.isin(['INSULIN PUMP','CLOSED LOOP INSULIN PUMP','MULTIPLE DAILY INJECTIONS'])]\n",
    "#print lentths of each\n",
    "print(f'Pump: {len(pump_type)}, MDI: {len(mdi_type)}, Other: {len(other_type)}')\n",
    "\n",
    "#use the redundant rows as treatment type and add those to new TRTMNT Colum (CSII, AID, MDI)\n",
    "treatment_type = dx.loc[dx.DXTRT.isin(['INSULIN PUMP','CLOSED LOOP INSULIN PUMP','MULTIPLE DAILY INJECTIONS'])][['USUBJID','DXTRT']].rename(columns={'DXTRT':'TRTMNT'})\n",
    "treatment_type['TRTMNT'] = treatment_type.TRTMNT.replace({'INSULIN PUMP':'CSII','CLOSED LOOP INSULIN PUMP':'AID','MULTIPLE DAILY INJECTIONS':'MDI'})\n",
    "dx = pd.merge(dx.loc[~dx.DXTRT.isin(['INSULIN PUMP','CLOSED LOOP INSULIN PUMP'])], treatment_type, on='USUBJID',how='inner')\n",
    "#display(dx.head())\n",
    "\n",
    "#reduce\n",
    "dx = dx[['USUBJID','TRTMNT','DXTRT']]\n",
    "display(dx.head())"
   ]
  },
  {
   "cell_type": "code",
   "execution_count": 389,
   "metadata": {},
   "outputs": [
    {
     "name": "stdout",
     "output_type": "stream",
     "text": [
      "There are 502 unique subjects in the dx dataset\n",
      "These are broken down by devices as follows:\n"
     ]
    },
    {
     "data": {
      "text/plain": [
       "DXTRT\n",
       "TANDEM T:SLIM X2 WITH CONTROL IQ             190\n",
       "INSULET OMNIPOD INSULIN MANAGEMENT SYSTEM    106\n",
       "MULTIPLE DAILY INJECTIONS                     88\n",
       "MEDTRONIC 670G IN AUTO MODE                   33\n",
       "TANDEM T:SLIM X2 WITH BASAL IQ                23\n",
       "MEDTRONIC 670G IN MANUAL MODE                 21\n",
       "MEDTRONIC 630G                                 9\n",
       "TANDEM T:SLIM X2                               8\n",
       "TANDEM T:SLIM                                  5\n",
       "MEDTRONIC PARADIGM 723 (REVEL)                 4\n",
       "MEDTRONIC 670G                                 3\n",
       "MEDTRONIC 770G                                 2\n",
       "MEDTRONIC 770G IN AUTO MODE                    2\n",
       "MEDTRONIC 751 (530G)                           2\n",
       "MEDTRONIC 551 (530G)                           2\n",
       "MEDTRONIC PARADIGM 523 (REVEL)                 1\n",
       "MEDTRONIC PARADIGM 522                         1\n",
       "MEDTRONIC 640G                                 1\n",
       "INSULET OMNIPOD DASH                           1\n",
       "Name: count, dtype: int64"
      ]
     },
     "metadata": {},
     "output_type": "display_data"
    },
    {
     "data": {
      "text/plain": [
       "TRTMNT  DXTRT                                    \n",
       "AID     MEDTRONIC 670G IN AUTO MODE                   32\n",
       "        MEDTRONIC 770G                                 1\n",
       "        MEDTRONIC 770G IN AUTO MODE                    2\n",
       "        TANDEM T:SLIM X2 WITH CONTROL IQ             190\n",
       "CSII    INSULET OMNIPOD DASH                           1\n",
       "        INSULET OMNIPOD INSULIN MANAGEMENT SYSTEM    106\n",
       "        MEDTRONIC 551 (530G)                           2\n",
       "        MEDTRONIC 630G                                 9\n",
       "        MEDTRONIC 640G                                 1\n",
       "        MEDTRONIC 670G                                 3\n",
       "        MEDTRONIC 670G IN AUTO MODE                    1\n",
       "        MEDTRONIC 670G IN MANUAL MODE                 21\n",
       "        MEDTRONIC 751 (530G)                           2\n",
       "        MEDTRONIC 770G                                 1\n",
       "        MEDTRONIC PARADIGM 522                         1\n",
       "        MEDTRONIC PARADIGM 523 (REVEL)                 1\n",
       "        MEDTRONIC PARADIGM 723 (REVEL)                 4\n",
       "        TANDEM T:SLIM                                  5\n",
       "        TANDEM T:SLIM X2                               8\n",
       "        TANDEM T:SLIM X2 WITH BASAL IQ                23\n",
       "MDI     MULTIPLE DAILY INJECTIONS                     88\n",
       "Name: count, dtype: int64"
      ]
     },
     "execution_count": 389,
     "metadata": {},
     "output_type": "execute_result"
    }
   ],
   "source": [
    "#There are duplicated generic INSULIN PUMP rows\n",
    "print(f'There are {dx.USUBJID.nunique()} unique subjects in the dx dataset')\n",
    "print('These are broken down by devices as follows:')\n",
    "#dx.groupby('DXTRT').agg({'USUBJID':'nunique'}).sort_values(by='USUBJID',ascending=False)\n",
    "display(dx.value_counts('DXTRT'))\n",
    "dx.value_counts(['TRTMNT','DXTRT'],sort=False)"
   ]
  },
  {
   "cell_type": "code",
   "execution_count": 390,
   "metadata": {},
   "outputs": [],
   "source": [
    "## merge with dx\n",
    "facm = pd.merge(facm, dx, on='USUBJID',how='left')"
   ]
  },
  {
   "cell_type": "markdown",
   "metadata": {},
   "source": [
    "We can see some inconsistent classificaitons:  \n",
    " - 770G in the AID section is probably a 770G in Auto MODE\n",
    " - TANDEM T:SLIM X2 WITH BASAL IQ in the CSII are probably AID\n",
    " - MEDTRONIC 670G IN AUTO MODE in CSII are probably AID instead\n",
    "\n",
    "So, can we trust this list? The netiob scripts made the following observation:  \n",
    ">[Discretional]. We observed that subject ID: 766 device type should be 'MEDTRONIC 770G IN AUTO MODE' and we updated as such\n",
    "        device_data.loc[device_data['USUBJID'] == '766', 'DXTRT'] = 'MEDTRONIC 770G IN AUTO MODE'\n",
    "\n",
    "However, there are also many TANDEM with BASAL IQ, these could probbaly also be considered to be AID. Ultimately, the netiob script assigned the treatment based on the DXTRT name alone.   \n",
    "\n",
    "**Conclusion**: ATM we don't know which one to use."
   ]
  },
  {
   "cell_type": "markdown",
   "metadata": {},
   "source": [
    "## FACM\n",
    "\n",
    "- Load FA (FACM) dataset\n",
    "  - value counts on relevant columns\n",
    "    - FATEST (insulin type)\n",
    "      - INSSTYPE (subtype)\n",
    "    - FATESTCD (bolus or basal category)\n",
    "      - should only contain INSBASAL, INSBOLUS and BASFLRt\n",
    "    - Comapre FATESTCD vs. INSDVSRC\n",
    "  - Check if FAORRES (or rather FASTRESN (numeric)) result\n",
    "    - is the same as either INSNMBOL, INSEXBOL"
   ]
  },
  {
   "cell_type": "markdown",
   "metadata": {},
   "source": [
    "Inspect Overall relationship between relevant columns"
   ]
  },
  {
   "cell_type": "code",
   "execution_count": 393,
   "metadata": {},
   "outputs": [
    {
     "name": "stdout",
     "output_type": "stream",
     "text": [
      "Overall number of rows in FACM 2219524\n"
     ]
    },
    {
     "data": {
      "text/plain": [
       "FAOBJ    FACAT  FATESTCD  FATEST           INSDVSRC    INSSTYPE                  \n",
       "INSULIN  BASAL  BASFLRT   BASAL FLOW RATE  NaN         NaN                           1053401\n",
       "                INSBASAL  BASAL INSULIN    Injections  NaN                              2365\n",
       "                                           Pump        automated                      237033\n",
       "                                                       scheduled                      258749\n",
       "                                                       suspend                         14457\n",
       "                                                       temp                           537986\n",
       "                                                       NaN                              2811\n",
       "         BOLUS  INSBOLUS  BOLUS INSULIN    Injections  NaN                              9516\n",
       "                                           Pump        automated                        1619\n",
       "                                                       automatic bolus/correction         26\n",
       "                                                       combination                        48\n",
       "                                                       dual (normal part)                  1\n",
       "                                                       dual (square part)                  1\n",
       "                                                       dual/square                      2631\n",
       "                                                       normal                          98456\n",
       "                                                       square                            351\n",
       "                                                       standard                           27\n",
       "                                                       standard/correction                46\n",
       "Name: count, dtype: int64"
      ]
     },
     "metadata": {},
     "output_type": "display_data"
    },
    {
     "data": {
      "text/plain": [
       "FATEST           INSDVSRC    FAORRESU\n",
       "BASAL FLOW RATE  NaN         U/hr        1053401\n",
       "BASAL INSULIN    Injections  U              2365\n",
       "                 Pump        U           1051036\n",
       "BOLUS INSULIN    Injections  U              9516\n",
       "                 Pump        U            103206\n",
       "Name: count, dtype: int64"
      ]
     },
     "metadata": {},
     "output_type": "display_data"
    }
   ],
   "source": [
    "print(f'Overall number of rows in FACM {facm.shape[0]}')\n",
    "\n",
    "vcounts= facm.value_counts(subset=['FAOBJ','FACAT','FATESTCD','FATEST','INSDVSRC','INSSTYPE'],sort=False,dropna=False)\n",
    "display(vcounts)\n",
    "\n",
    "#We see that source and sub type are NaN when fatest is basal flow rate. So do the units differ?\n",
    "vcounts = facm.value_counts(subset=['FATEST','INSDVSRC','FAORRESU'],sort=False,dropna=False)\n",
    "display(vcounts)"
   ]
  },
  {
   "cell_type": "markdown",
   "metadata": {},
   "source": [
    "Observations\n",
    " 1. `FAOBJ` is always INSULIN and can be ignored\n",
    " 2. `FACAT` separates between BOLUS and BASAL\n",
    " 3. `FATESTCD` and `FATEST` have the same meaning (basal, basal flow rate and bolus), Use FATEST because it is more explicit\n",
    " 3. `INSTYPE` is *NaN* when device Source (`INSDVSRC`) is *NaN* or *Injections* and for some Basals with Pump source"
   ]
  },
  {
   "cell_type": "markdown",
   "metadata": {},
   "source": [
    "### Basal Rates"
   ]
  },
  {
   "cell_type": "markdown",
   "metadata": {},
   "source": [
    "We see that there are Basal Rates and Basal Flow Rates. The script only considers FATEST == 'BASAL INSULIN' thus ignoring BASAL FLOW RATE. Is this correct?  It is unclear if these are duplicates or if both need to be considered. Also, we see that there Are Basal Flow Rates in MDI. We want to check.\n",
    "\n",
    "1. Checking how often these are available (by device)\n",
    "   - when dropping Nan FASTRESN rows\n",
    "2. Checking why there are BASAL FLOW Rates in MDI\n",
    "3. Plotting BASAL FLOW Rates vs. BASAL INSULIN\n",
    "4. Check if basal deliveries (U) modulate the basal delivery rates (U/hr)\n",
    " - Comparing sums (flow rates* duration  vs. basal deliveries)\n",
    "\n",
    "**Success**: The above analysis were completed and a conclusion is drawn"
   ]
  },
  {
   "cell_type": "markdown",
   "metadata": {},
   "source": [
    "#### Basal by Device Type"
   ]
  },
  {
   "cell_type": "code",
   "execution_count": 403,
   "metadata": {},
   "outputs": [
    {
     "name": "stdout",
     "output_type": "stream",
     "text": [
      "Number of entries per device type for which FATEST==BASAL FLOW RATE:\n"
     ]
    },
    {
     "data": {
      "text/plain": [
       "DXTRT\n",
       "TANDEM T:SLIM X2 WITH CONTROL IQ             852614\n",
       "MEDTRONIC 670G IN AUTO MODE                  150612\n",
       "INSULET OMNIPOD INSULIN MANAGEMENT SYSTEM     17425\n",
       "TANDEM T:SLIM X2 WITH BASAL IQ                13761\n",
       "MEDTRONIC 670G IN MANUAL MODE                  6370\n",
       "MULTIPLE DAILY INJECTIONS                      2365\n",
       "TANDEM T:SLIM X2                               2347\n",
       "MEDTRONIC 630G                                 1862\n",
       "MEDTRONIC 770G                                 1122\n",
       "TANDEM T:SLIM                                  1093\n",
       "MEDTRONIC PARADIGM 723 (REVEL)                  966\n",
       "MEDTRONIC 640G                                  503\n",
       "MEDTRONIC 670G                                  493\n",
       "MEDTRONIC 751 (530G)                            472\n",
       "MEDTRONIC 551 (530G)                            448\n",
       "MEDTRONIC 770G IN AUTO MODE                     416\n",
       "INSULET OMNIPOD DASH                            198\n",
       "MEDTRONIC PARADIGM 522                          188\n",
       "MEDTRONIC PARADIGM 523 (REVEL)                  146\n",
       "Name: count, dtype: int64"
      ]
     },
     "metadata": {},
     "output_type": "display_data"
    },
    {
     "name": "stdout",
     "output_type": "stream",
     "text": [
      "show examples for rows where FAORRES (amount) is NaN:...\n"
     ]
    },
    {
     "data": {
      "text/html": [
       "<div>\n",
       "<style scoped>\n",
       "    .dataframe tbody tr th:only-of-type {\n",
       "        vertical-align: middle;\n",
       "    }\n",
       "\n",
       "    .dataframe tbody tr th {\n",
       "        vertical-align: top;\n",
       "    }\n",
       "\n",
       "    .dataframe thead th {\n",
       "        text-align: right;\n",
       "    }\n",
       "</style>\n",
       "<table border=\"1\" class=\"dataframe\">\n",
       "  <thead>\n",
       "    <tr style=\"text-align: right;\">\n",
       "      <th></th>\n",
       "      <th>USUBJID</th>\n",
       "      <th>FATESTCD</th>\n",
       "      <th>FATEST</th>\n",
       "      <th>FAOBJ</th>\n",
       "      <th>FACAT</th>\n",
       "      <th>FAORRES</th>\n",
       "      <th>FAORRESU</th>\n",
       "      <th>FADTC</th>\n",
       "      <th>FADUR</th>\n",
       "      <th>INSDVSRC</th>\n",
       "      <th>INSSTYPE</th>\n",
       "      <th>INSNMBOL</th>\n",
       "      <th>INSEXBOL</th>\n",
       "      <th>TRTMNT</th>\n",
       "      <th>DXTRT</th>\n",
       "    </tr>\n",
       "  </thead>\n",
       "  <tbody>\n",
       "    <tr>\n",
       "      <th>1779353</th>\n",
       "      <td>683</td>\n",
       "      <td>BASFLRT</td>\n",
       "      <td>BASAL FLOW RATE</td>\n",
       "      <td>INSULIN</td>\n",
       "      <td>BASAL</td>\n",
       "      <td>NaN</td>\n",
       "      <td>U/hr</td>\n",
       "      <td>2019-08-15 08:20:54</td>\n",
       "      <td>NaT</td>\n",
       "      <td>NaN</td>\n",
       "      <td>NaN</td>\n",
       "      <td>NaN</td>\n",
       "      <td>NaN</td>\n",
       "      <td>MDI</td>\n",
       "      <td>MULTIPLE DAILY INJECTIONS</td>\n",
       "    </tr>\n",
       "    <tr>\n",
       "      <th>722421</th>\n",
       "      <td>1500</td>\n",
       "      <td>BASFLRT</td>\n",
       "      <td>BASAL FLOW RATE</td>\n",
       "      <td>INSULIN</td>\n",
       "      <td>BASAL</td>\n",
       "      <td>NaN</td>\n",
       "      <td>U/hr</td>\n",
       "      <td>2020-08-13 08:53:10</td>\n",
       "      <td>NaT</td>\n",
       "      <td>NaN</td>\n",
       "      <td>NaN</td>\n",
       "      <td>NaN</td>\n",
       "      <td>NaN</td>\n",
       "      <td>MDI</td>\n",
       "      <td>MULTIPLE DAILY INJECTIONS</td>\n",
       "    </tr>\n",
       "  </tbody>\n",
       "</table>\n",
       "</div>"
      ],
      "text/plain": [
       "        USUBJID FATESTCD           FATEST    FAOBJ  FACAT  FAORRES FAORRESU  \\\n",
       "1779353     683  BASFLRT  BASAL FLOW RATE  INSULIN  BASAL      NaN     U/hr   \n",
       "722421     1500  BASFLRT  BASAL FLOW RATE  INSULIN  BASAL      NaN     U/hr   \n",
       "\n",
       "                      FADTC FADUR INSDVSRC INSSTYPE  INSNMBOL  INSEXBOL  \\\n",
       "1779353 2019-08-15 08:20:54   NaT      NaN      NaN       NaN       NaN   \n",
       "722421  2020-08-13 08:53:10   NaT      NaN      NaN       NaN       NaN   \n",
       "\n",
       "        TRTMNT                      DXTRT  \n",
       "1779353    MDI  MULTIPLE DAILY INJECTIONS  \n",
       "722421     MDI  MULTIPLE DAILY INJECTIONS  "
      ]
     },
     "metadata": {},
     "output_type": "display_data"
    },
    {
     "name": "stdout",
     "output_type": "stream",
     "text": [
      "Number of basal flow rate rows for which the insulin amount (FASTRESN) is NaN\n",
      "1.55% overall\n",
      "0.22% of durations are NaN\n",
      "\n",
      "Breakdown of NaN insulin doses (FAORRES):\n"
     ]
    },
    {
     "data": {
      "text/plain": [
       "FATEST\n",
       "BASAL FLOW RATE    16306\n",
       "BASAL INSULIN      13942\n",
       "Name: count, dtype: int64"
      ]
     },
     "metadata": {},
     "output_type": "display_data"
    },
    {
     "name": "stdout",
     "output_type": "stream",
     "text": [
      "159157 FAORRES values are 0:\n"
     ]
    }
   ],
   "source": [
    "#as we see here, BASAL FLOW RATE and BASAL are present in all pumps\n",
    "print('Number of entries per device type for which FATEST==BASAL FLOW RATE:')\n",
    "flow_rates = facm.loc[facm.FATEST=='BASAL FLOW RATE']\n",
    "\n",
    "#inspect NaN values in FAORRES\n",
    "display(flow_rates.DXTRT.value_counts(sort=True, dropna=False))\n",
    "\n",
    "print('show examples for rows where FAORRES (amount) is NaN:...')\n",
    "display(flow_rates.loc[flow_rates.FAORRES.isna()].sample(2))\n",
    "print('Number of basal flow rate rows for which the insulin amount (FASTRESN) is NaN')\n",
    "print(f'{flow_rates.FAORRES.isna().sum()/len(flow_rates)*100:.2f}% overall')\n",
    "print(f'{flow_rates.FADUR.isna().sum()/len(flow_rates)*100:.2f}% of durations are NaN')\n",
    "\n",
    "#check if this is unique to basal flow rates\n",
    "print(''); print('Breakdown of NaN insulin doses (FAORRES):')\n",
    "display(facm.loc[facm.FAORRES.isna()].value_counts('FATEST'))\n",
    "print(f'{(facm.FAORRES==0).sum()} FAORRES values are 0')"
   ]
  },
  {
   "cell_type": "markdown",
   "metadata": {},
   "source": [
    " Observations:\n",
    " - We see that there are even basal flow rates for MDI, are these valid?\n",
    " - There are some rows for which the amount and duration are NaN, what does this mean?"
   ]
  },
  {
   "cell_type": "markdown",
   "metadata": {},
   "source": [
    "#### Understand Basal Modulation and NaN Values\n",
    "Now we check if basal deliveries (U) modulate the basal delivery rates (U/hr). We already know that there are no 0 Basal rates reported, so we check if NaN values could reflect 0 basal rates."
   ]
  },
  {
   "cell_type": "code",
   "execution_count": 410,
   "metadata": {},
   "outputs": [
    {
     "data": {
      "image/png": "[encoded data removed]",
      "text/plain": [
       "<Figure size 800x200 with 1 Axes>"
      ]
     },
     "metadata": {},
     "output_type": "display_data"
    }
   ],
   "source": [
    "#what is the difference between basals in units and units/h, is there any diff?\n",
    "plt.figure(figsize=(8,2));ax=plt.gca()\n",
    "cdf.plot_cdf(facm.loc[facm.FATEST=='BASAL INSULIN'].FAORRES,ax=ax,color='blue',label='U')\n",
    "cdf.plot_cdf(facm.loc[facm.FATEST=='BASAL FLOW RATE'].FAORRES,ax=ax,color='red',label='U/hr')\n",
    "ax.set_xlim(-.2,4)\n",
    "plt.title('BASAL INSULIN vs. BASAL FLOW RATE'); ax.legend()\n",
    "plt.show()"
   ]
  },
  {
   "cell_type": "code",
   "execution_count": 405,
   "metadata": {},
   "outputs": [
    {
     "data": {
      "image/png": "[encoded data removed]",
      "text/plain": [
       "<Figure size 2000x300 with 2 Axes>"
      ]
     },
     "metadata": {},
     "output_type": "display_data"
    },
    {
     "data": {
      "image/png": "[encoded data removed]",
      "text/plain": [
       "<Figure size 2000x300 with 2 Axes>"
      ]
     },
     "metadata": {},
     "output_type": "display_data"
    }
   ],
   "source": [
    "from src import drawing\n",
    "from importlib import reload\n",
    "reload(drawing)\n",
    "\n",
    "#show an example of a flow rate and a basal within the same subject\n",
    "#patient_id = np.random.choice(['1542', '1550','1286','389'])\n",
    "for patient_id in ['1542', '389']:\n",
    "    #patient_id = facm.loc[~facm.DXTRT.isin(['MULTIPLE DAILY INJECTIONS'])].USUBJID.sample(1).values[0]\n",
    "\n",
    "    sub = facm.loc[(facm.USUBJID==patient_id)&(facm.FATEST.notna())].sort_values('FADTC')\n",
    "    start = sub.FADTC.min()+timedelta(days=1)\n",
    "    dur = timedelta(hours=48)\n",
    "    sub = sub.loc[(sub.FADTC>=start)&(sub.FADTC<=start+dur)]\n",
    "\n",
    "    #display(sub.head(3))\n",
    "    #display(sub.groupby('FATEST')['FAORRES'].agg(['count', lambda x: x.isna().sum()]))\n",
    "\n",
    "    sub_flow_rates = sub.loc[sub.FATEST=='BASAL FLOW RATE']\n",
    "    sub_basals = sub.loc[sub.FATEST=='BASAL INSULIN']\n",
    "    nan_flow_rates = sub_flow_rates.loc[sub_flow_rates.FAORRES.isna()]\n",
    "\n",
    "    plt.figure(figsize=(20,3)); ax=plt.gca()\n",
    "    #drawing.drawAbsoluteBasalRates()\n",
    "    drawing.drawAbsoluteBasalRates(ax,sub_flow_rates.FADTC.values, sub_flow_rates.FAORRES.values,label='U/hr',hatch=None)\n",
    "    #draw Nan Values as red xs at zero\n",
    "    plt.scatter(nan_flow_rates.FADTC, [0]*len(nan_flow_rates), color='red', marker='v', s=100)\n",
    "    twinx = ax.twinx()\n",
    "    drawing.drawBoluses(twinx,sub_basals.FADTC, sub_basals.FAORRES,label='U',width=timedelta(minutes=1))\n",
    "    plt.title(f'Basals rates of {patient_id} from {start} to {start+dur}'); \n",
    "    # Set ylim to current limits but reduce minimum by 0.1\n",
    "    ylim = ax.get_ylim()\n",
    "    ax.set_ylim(ylim[0] - 0.1, ylim[1])\n",
    "    ax.hlines(0,start,start+dur,linestyles='dashed',colors='black',linewidth=0.5)\n",
    "    #plt.show()\n",
    "    #twinx.set_ylim(0,1)"
   ]
  },
  {
   "cell_type": "markdown",
   "metadata": {},
   "source": [
    "Observations:\n",
    " 1. Basal values seem to modulate the basal flow rate\n",
    " 2. Nan values seem to mark 0 basal rates (at least in some cases) \n",
    "\n",
    " The basal deliveries seem to happen every 5 minutes and module the basal rate (U/hr) (at least in the example above)\n",
    "TODO: we can check by calculating the sum (using U/hr and duration) and compare it to the sum obtained on all basal values (U)\n"
   ]
  },
  {
   "cell_type": "markdown",
   "metadata": {},
   "source": [
    "#### Check Why there are BASAL Rates in MDI patients.\n",
    "#TODO:  "
   ]
  },
  {
   "cell_type": "code",
   "execution_count": 411,
   "metadata": {},
   "outputs": [
    {
     "name": "stdout",
     "output_type": "stream",
     "text": [
      "There are 84 MDI patients with flow rates\n",
      "These make only 0.64 of the whole dataset\n"
     ]
    }
   ],
   "source": [
    "mdi_patients_with_flow_rates= facm.loc[(facm.DXTRT=='MULTIPLE DAILY INJECTIONS')&(facm.FATEST=='BASAL FLOW RATE')].USUBJID.unique()\n",
    "print(f'There are {len(mdi_patients_with_flow_rates)} MDI patients with flow rates')\n",
    "print(f'These make only {100*len(facm.loc[facm.USUBJID.isin(mdi_patients_with_flow_rates)])/len(facm):.2f} of the whole dataset')"
   ]
  },
  {
   "cell_type": "code",
   "execution_count": 412,
   "metadata": {},
   "outputs": [
    {
     "data": {
      "text/html": [
       "<div>\n",
       "<style scoped>\n",
       "    .dataframe tbody tr th:only-of-type {\n",
       "        vertical-align: middle;\n",
       "    }\n",
       "\n",
       "    .dataframe tbody tr th {\n",
       "        vertical-align: top;\n",
       "    }\n",
       "\n",
       "    .dataframe thead tr th {\n",
       "        text-align: left;\n",
       "    }\n",
       "\n",
       "    .dataframe thead tr:last-of-type th {\n",
       "        text-align: right;\n",
       "    }\n",
       "</style>\n",
       "<table border=\"1\" class=\"dataframe\">\n",
       "  <thead>\n",
       "    <tr>\n",
       "      <th></th>\n",
       "      <th></th>\n",
       "      <th colspan=\"2\" halign=\"left\">FADTC</th>\n",
       "      <th colspan=\"2\" halign=\"left\">FADUR</th>\n",
       "      <th colspan=\"2\" halign=\"left\">INSSTYPE</th>\n",
       "      <th colspan=\"2\" halign=\"left\">INSNMBOL</th>\n",
       "      <th colspan=\"2\" halign=\"left\">INSEXBOL</th>\n",
       "      <th colspan=\"2\" halign=\"left\">FAORRES</th>\n",
       "    </tr>\n",
       "    <tr>\n",
       "      <th></th>\n",
       "      <th></th>\n",
       "      <th>count</th>\n",
       "      <th>isna</th>\n",
       "      <th>count</th>\n",
       "      <th>isna</th>\n",
       "      <th>count</th>\n",
       "      <th>isna</th>\n",
       "      <th>count</th>\n",
       "      <th>isna</th>\n",
       "      <th>count</th>\n",
       "      <th>isna</th>\n",
       "      <th>count</th>\n",
       "      <th>isna</th>\n",
       "    </tr>\n",
       "    <tr>\n",
       "      <th>FATEST</th>\n",
       "      <th>FAORRESU</th>\n",
       "      <th></th>\n",
       "      <th></th>\n",
       "      <th></th>\n",
       "      <th></th>\n",
       "      <th></th>\n",
       "      <th></th>\n",
       "      <th></th>\n",
       "      <th></th>\n",
       "      <th></th>\n",
       "      <th></th>\n",
       "      <th></th>\n",
       "      <th></th>\n",
       "    </tr>\n",
       "  </thead>\n",
       "  <tbody>\n",
       "    <tr>\n",
       "      <th>BASAL FLOW RATE</th>\n",
       "      <th>U/hr</th>\n",
       "      <td>2365</td>\n",
       "      <td>0</td>\n",
       "      <td>0</td>\n",
       "      <td>2365</td>\n",
       "      <td>0</td>\n",
       "      <td>2365</td>\n",
       "      <td>0</td>\n",
       "      <td>2365</td>\n",
       "      <td>0</td>\n",
       "      <td>2365</td>\n",
       "      <td>0</td>\n",
       "      <td>2365</td>\n",
       "    </tr>\n",
       "    <tr>\n",
       "      <th>BASAL INSULIN</th>\n",
       "      <th>U</th>\n",
       "      <td>2365</td>\n",
       "      <td>0</td>\n",
       "      <td>0</td>\n",
       "      <td>2365</td>\n",
       "      <td>0</td>\n",
       "      <td>2365</td>\n",
       "      <td>0</td>\n",
       "      <td>2365</td>\n",
       "      <td>0</td>\n",
       "      <td>2365</td>\n",
       "      <td>2365</td>\n",
       "      <td>0</td>\n",
       "    </tr>\n",
       "    <tr>\n",
       "      <th>BOLUS INSULIN</th>\n",
       "      <th>U</th>\n",
       "      <td>9515</td>\n",
       "      <td>0</td>\n",
       "      <td>0</td>\n",
       "      <td>9515</td>\n",
       "      <td>0</td>\n",
       "      <td>9515</td>\n",
       "      <td>0</td>\n",
       "      <td>9515</td>\n",
       "      <td>0</td>\n",
       "      <td>9515</td>\n",
       "      <td>9515</td>\n",
       "      <td>0</td>\n",
       "    </tr>\n",
       "  </tbody>\n",
       "</table>\n",
       "</div>"
      ],
      "text/plain": [
       "                         FADTC      FADUR       INSSTYPE       INSNMBOL        \\\n",
       "                         count isna count  isna    count  isna    count  isna   \n",
       "FATEST          FAORRESU                                                        \n",
       "BASAL FLOW RATE U/hr      2365    0     0  2365        0  2365        0  2365   \n",
       "BASAL INSULIN   U         2365    0     0  2365        0  2365        0  2365   \n",
       "BOLUS INSULIN   U         9515    0     0  9515        0  9515        0  9515   \n",
       "\n",
       "                         INSEXBOL       FAORRES        \n",
       "                            count  isna   count  isna  \n",
       "FATEST          FAORRESU                               \n",
       "BASAL FLOW RATE U/hr            0  2365       0  2365  \n",
       "BASAL INSULIN   U               0  2365    2365     0  \n",
       "BOLUS INSULIN   U               0  9515    9515     0  "
      ]
     },
     "execution_count": 412,
     "metadata": {},
     "output_type": "execute_result"
    }
   ],
   "source": [
    "#Where does the data sit in MDI\n",
    "def isna(x):\n",
    "    return x.isna().sum()\n",
    "facm.loc[(facm.DXTRT=='MULTIPLE DAILY INJECTIONS')].groupby(['FATEST','FAORRESU'])[['FADTC','FADUR','INSSTYPE','INSNMBOL','INSEXBOL','FAORRES']].agg(['count',isna])"
   ]
  },
  {
   "cell_type": "markdown",
   "metadata": {},
   "source": [
    "**Observation**: Even though there are BASAL FLOW RATE rows in MDI, there are only NaN values in all the insulin relevant columns\n",
    "\n",
    "Now, let's check if the bolus and basal doses match between the two populations (in average)"
   ]
  },
  {
   "cell_type": "code",
   "execution_count": null,
   "metadata": {},
   "outputs": [
    {
     "data": {
      "text/html": [
       "<div>\n",
       "<style scoped>\n",
       "    .dataframe tbody tr th:only-of-type {\n",
       "        vertical-align: middle;\n",
       "    }\n",
       "\n",
       "    .dataframe tbody tr th {\n",
       "        vertical-align: top;\n",
       "    }\n",
       "\n",
       "    .dataframe thead th {\n",
       "        text-align: right;\n",
       "    }\n",
       "</style>\n",
       "<table border=\"1\" class=\"dataframe\">\n",
       "  <thead>\n",
       "    <tr style=\"text-align: right;\">\n",
       "      <th></th>\n",
       "      <th></th>\n",
       "      <th></th>\n",
       "      <th></th>\n",
       "      <th>INSEXBOL</th>\n",
       "      <th>INSNMBOL</th>\n",
       "      <th>FAORRES</th>\n",
       "    </tr>\n",
       "    <tr>\n",
       "      <th>ISMDI</th>\n",
       "      <th>FATEST</th>\n",
       "      <th>USUBJID</th>\n",
       "      <th>day</th>\n",
       "      <th></th>\n",
       "      <th></th>\n",
       "      <th></th>\n",
       "    </tr>\n",
       "  </thead>\n",
       "  <tbody>\n",
       "    <tr>\n",
       "      <th>False</th>\n",
       "      <th>BASAL INSULIN</th>\n",
       "      <th>1010</th>\n",
       "      <th>2019-12-26</th>\n",
       "      <td>0.0</td>\n",
       "      <td>0.0</td>\n",
       "      <td>33.808</td>\n",
       "    </tr>\n",
       "    <tr>\n",
       "      <th>True</th>\n",
       "      <th>BASAL INSULIN</th>\n",
       "      <th>174</th>\n",
       "      <th>2020-06-03</th>\n",
       "      <td>0.0</td>\n",
       "      <td>0.0</td>\n",
       "      <td>19.000</td>\n",
       "    </tr>\n",
       "    <tr>\n",
       "      <th>False</th>\n",
       "      <th>BOLUS INSULIN</th>\n",
       "      <th>1291</th>\n",
       "      <th>2020-03-11</th>\n",
       "      <td>0.0</td>\n",
       "      <td>7.1</td>\n",
       "      <td>7.100</td>\n",
       "    </tr>\n",
       "  </tbody>\n",
       "</table>\n",
       "</div>"
      ],
      "text/plain": [
       "                                        INSEXBOL  INSNMBOL  FAORRES\n",
       "ISMDI FATEST        USUBJID day                                    \n",
       "False BASAL INSULIN 1010    2019-12-26       0.0       0.0   33.808\n",
       "True  BASAL INSULIN 174     2020-06-03       0.0       0.0   19.000\n",
       "False BOLUS INSULIN 1291    2020-03-11       0.0       7.1    7.100"
      ]
     },
     "metadata": {},
     "output_type": "display_data"
    },
    {
     "data": {
      "text/plain": [
       "ISMDI  FATEST         USUBJID  day       \n",
       "True   BASAL INSULIN  410      2020-06-02     6.00000\n",
       "False  BASAL INSULIN  674      2020-03-27    11.89400\n",
       "       BOLUS INSULIN  1107     2019-12-28    96.10073\n",
       "dtype: float64"
      ]
     },
     "metadata": {},
     "output_type": "display_data"
    },
    {
     "data": {
      "text/plain": [
       "ISMDI  FATEST       \n",
       "False  BASAL INSULIN    20.650845\n",
       "       BOLUS INSULIN    39.630819\n",
       "True   BASAL INSULIN    19.176018\n",
       "       BOLUS INSULIN    18.187278\n",
       "dtype: float64"
      ]
     },
     "metadata": {},
     "output_type": "display_data"
    }
   ],
   "source": [
    "#Compare daily averages\n",
    "facm['ISMDI']=facm.DXTRT=='MULTIPLE DAILY INJECTIONS'\n",
    "facm['day'] = facm.FADTC.dt.date\n",
    "\n",
    "#remove BASAL FLOW RATES from the dataset assuming that they reflect the same as the sum of BASAL INSULIN deliveries for Pump users (they are Nan for MDI any way)\n",
    "temp = facm.loc[facm.FATEST!='BASAL FLOW RATE']\n",
    "r = temp.groupby(['ISMDI','FATEST','USUBJID','day'])[['INSEXBOL','INSNMBOL','FAORRES']].agg('sum')\n",
    "#bolus, basal per day\n",
    "display(r.sample(3))\n",
    "#sum per day\n",
    "r = r.sum(axis=1)\n",
    "display(r.sample(3))\n",
    "#mean basal/bolus\n",
    "r = r.groupby(level=[0, 1]).mean()\n",
    "display(r)"
   ]
  },
  {
   "cell_type": "markdown",
   "metadata": {},
   "source": [
    "Why would MDI patients have 2x the bolus amount? Are there duplicates?"
   ]
  },
  {
   "cell_type": "code",
   "execution_count": 448,
   "metadata": {},
   "outputs": [
    {
     "name": "stdout",
     "output_type": "stream",
     "text": [
      "Number of values with values in more than one of the columns INSEXBOL, INSNMBOL, FAORRES\n"
     ]
    },
    {
     "data": {
      "text/plain": [
       "0      30248\n",
       "1    2106017\n",
       "2      80626\n",
       "3       2633\n",
       "Name: count, dtype: int64"
      ]
     },
     "metadata": {},
     "output_type": "display_data"
    }
   ],
   "source": [
    "#How many rows are there that have values in more than one of the columns INSEXBOL\tINSNMBOL\tFAORRES\n",
    "print('Number of values with values in more than one of the columns INSEXBOL, INSNMBOL, FAORRES')\n",
    "display(facm[['INSEXBOL','INSNMBOL','FAORRES']].notna().sum(axis=1).value_counts().sort_index())"
   ]
  },
  {
   "cell_type": "code",
   "execution_count": 449,
   "metadata": {},
   "outputs": [
    {
     "name": "stdout",
     "output_type": "stream",
     "text": [
      "Rows with values in only 1 of the columns\n"
     ]
    },
    {
     "data": {
      "text/html": [
       "<div>\n",
       "<style scoped>\n",
       "    .dataframe tbody tr th:only-of-type {\n",
       "        vertical-align: middle;\n",
       "    }\n",
       "\n",
       "    .dataframe tbody tr th {\n",
       "        vertical-align: top;\n",
       "    }\n",
       "\n",
       "    .dataframe thead th {\n",
       "        text-align: right;\n",
       "    }\n",
       "</style>\n",
       "<table border=\"1\" class=\"dataframe\">\n",
       "  <thead>\n",
       "    <tr style=\"text-align: right;\">\n",
       "      <th></th>\n",
       "      <th>USUBJID</th>\n",
       "      <th>FATESTCD</th>\n",
       "      <th>FATEST</th>\n",
       "      <th>FAOBJ</th>\n",
       "      <th>FACAT</th>\n",
       "      <th>FAORRES</th>\n",
       "      <th>FAORRESU</th>\n",
       "      <th>FADTC</th>\n",
       "      <th>FADUR</th>\n",
       "      <th>INSDVSRC</th>\n",
       "      <th>INSSTYPE</th>\n",
       "      <th>INSNMBOL</th>\n",
       "      <th>INSEXBOL</th>\n",
       "      <th>TRTMNT</th>\n",
       "      <th>DXTRT</th>\n",
       "      <th>ISMDI</th>\n",
       "      <th>day</th>\n",
       "    </tr>\n",
       "  </thead>\n",
       "  <tbody>\n",
       "    <tr>\n",
       "      <th>2169025</th>\n",
       "      <td>974</td>\n",
       "      <td>BASFLRT</td>\n",
       "      <td>BASAL FLOW RATE</td>\n",
       "      <td>INSULIN</td>\n",
       "      <td>BASAL</td>\n",
       "      <td>0.352</td>\n",
       "      <td>U/hr</td>\n",
       "      <td>2019-08-26 19:59:02</td>\n",
       "      <td>0 days 00:04:59</td>\n",
       "      <td>NaN</td>\n",
       "      <td>NaN</td>\n",
       "      <td>NaN</td>\n",
       "      <td>NaN</td>\n",
       "      <td>AID</td>\n",
       "      <td>TANDEM T:SLIM X2 WITH CONTROL IQ</td>\n",
       "      <td>False</td>\n",
       "      <td>2019-08-26</td>\n",
       "    </tr>\n",
       "  </tbody>\n",
       "</table>\n",
       "</div>"
      ],
      "text/plain": [
       "        USUBJID FATESTCD           FATEST    FAOBJ  FACAT  FAORRES FAORRESU  \\\n",
       "2169025     974  BASFLRT  BASAL FLOW RATE  INSULIN  BASAL    0.352     U/hr   \n",
       "\n",
       "                      FADTC           FADUR INSDVSRC INSSTYPE  INSNMBOL  \\\n",
       "2169025 2019-08-26 19:59:02 0 days 00:04:59      NaN      NaN       NaN   \n",
       "\n",
       "         INSEXBOL TRTMNT                             DXTRT  ISMDI         day  \n",
       "2169025       NaN    AID  TANDEM T:SLIM X2 WITH CONTROL IQ  False  2019-08-26  "
      ]
     },
     "metadata": {},
     "output_type": "display_data"
    },
    {
     "data": {
      "text/html": [
       "<div>\n",
       "<style scoped>\n",
       "    .dataframe tbody tr th:only-of-type {\n",
       "        vertical-align: middle;\n",
       "    }\n",
       "\n",
       "    .dataframe tbody tr th {\n",
       "        vertical-align: top;\n",
       "    }\n",
       "\n",
       "    .dataframe thead th {\n",
       "        text-align: right;\n",
       "    }\n",
       "</style>\n",
       "<table border=\"1\" class=\"dataframe\">\n",
       "  <thead>\n",
       "    <tr style=\"text-align: right;\">\n",
       "      <th></th>\n",
       "      <th>USUBJID</th>\n",
       "      <th>FATESTCD</th>\n",
       "      <th>FATEST</th>\n",
       "      <th>FAOBJ</th>\n",
       "      <th>FACAT</th>\n",
       "      <th>FAORRES</th>\n",
       "      <th>FAORRESU</th>\n",
       "      <th>FADTC</th>\n",
       "      <th>FADUR</th>\n",
       "      <th>INSDVSRC</th>\n",
       "      <th>INSSTYPE</th>\n",
       "      <th>INSNMBOL</th>\n",
       "      <th>INSEXBOL</th>\n",
       "      <th>TRTMNT</th>\n",
       "      <th>DXTRT</th>\n",
       "      <th>ISMDI</th>\n",
       "      <th>day</th>\n",
       "    </tr>\n",
       "  </thead>\n",
       "  <tbody>\n",
       "    <tr>\n",
       "      <th>1110298</th>\n",
       "      <td>174</td>\n",
       "      <td>INSBOLUS</td>\n",
       "      <td>BOLUS INSULIN</td>\n",
       "      <td>INSULIN</td>\n",
       "      <td>BOLUS</td>\n",
       "      <td>6.0</td>\n",
       "      <td>U</td>\n",
       "      <td>2020-05-31 23:02:19</td>\n",
       "      <td>NaT</td>\n",
       "      <td>Injections</td>\n",
       "      <td>NaN</td>\n",
       "      <td>NaN</td>\n",
       "      <td>NaN</td>\n",
       "      <td>MDI</td>\n",
       "      <td>MULTIPLE DAILY INJECTIONS</td>\n",
       "      <td>True</td>\n",
       "      <td>2020-05-31</td>\n",
       "    </tr>\n",
       "  </tbody>\n",
       "</table>\n",
       "</div>"
      ],
      "text/plain": [
       "        USUBJID  FATESTCD         FATEST    FAOBJ  FACAT  FAORRES FAORRESU  \\\n",
       "1110298     174  INSBOLUS  BOLUS INSULIN  INSULIN  BOLUS      6.0        U   \n",
       "\n",
       "                      FADTC FADUR    INSDVSRC INSSTYPE  INSNMBOL  INSEXBOL  \\\n",
       "1110298 2020-05-31 23:02:19   NaT  Injections      NaN       NaN       NaN   \n",
       "\n",
       "        TRTMNT                      DXTRT  ISMDI         day  \n",
       "1110298    MDI  MULTIPLE DAILY INJECTIONS   True  2020-05-31  "
      ]
     },
     "metadata": {},
     "output_type": "display_data"
    },
    {
     "data": {
      "text/plain": [
       "INSEXBOL          0\n",
       "INSNMBOL          0\n",
       "FAORRES     2106017\n",
       "dtype: int64"
      ]
     },
     "metadata": {},
     "output_type": "display_data"
    },
    {
     "data": {
      "text/plain": [
       "FATEST\n",
       "BASAL INSULIN      1039459\n",
       "BASAL FLOW RATE    1037095\n",
       "BOLUS INSULIN        29463\n",
       "Name: count, dtype: int64"
      ]
     },
     "metadata": {},
     "output_type": "display_data"
    },
    {
     "data": {
      "text/plain": [
       "FATEST           INSDVSRC    INSSTYPE                  \n",
       "BASAL FLOW RATE  NaN         NaN                           1037095\n",
       "BASAL INSULIN    Injections  NaN                              2365\n",
       "                 Pump        automated                      237033\n",
       "                             scheduled                      258749\n",
       "                             suspend                           517\n",
       "                             temp                           537985\n",
       "                             NaN                              2810\n",
       "BOLUS INSULIN    Injections  NaN                              9516\n",
       "                 Pump        automatic bolus/correction         26\n",
       "                             combination                        46\n",
       "                             dual (normal part)                  1\n",
       "                             dual (square part)                  1\n",
       "                             normal                          19799\n",
       "                             square                              1\n",
       "                             standard                           27\n",
       "                             standard/correction                46\n",
       "Name: count, dtype: int64"
      ]
     },
     "metadata": {},
     "output_type": "display_data"
    },
    {
     "name": "stdout",
     "output_type": "stream",
     "text": [
      "Breakdown of columns used for Injections:\n"
     ]
    },
    {
     "data": {
      "text/plain": [
       "FAORRES     11881\n",
       "INSNMBOL        0\n",
       "dtype: int64"
      ]
     },
     "metadata": {},
     "output_type": "display_data"
    }
   ],
   "source": [
    "#check for Rows with only 1 value\n",
    "print('Rows with values in only 1 of the columns')\n",
    "temp = facm.loc[facm[['INSEXBOL','INSNMBOL','FAORRES']].notna().sum(axis=1) == 1]\n",
    "display(temp.sample(1))\n",
    "display(temp.loc[temp.FATEST=='BOLUS INSULIN'].sample(1))\n",
    "display(temp[['INSEXBOL','INSNMBOL','FAORRES']].count())\n",
    "display(temp.FATEST.value_counts())\n",
    "display(temp.value_counts(['FATEST','INSDVSRC','INSSTYPE'],dropna=False,sort=False))\n",
    "\n",
    "#All injections end up in FAORRES only\n",
    "print('Breakdown of columns used for Injections:')\n",
    "display(facm.loc[facm.INSDVSRC=='Injections'][['FAORRES','INSNMBOL']].count())\n"
   ]
  },
  {
   "cell_type": "code",
   "execution_count": 450,
   "metadata": {},
   "outputs": [
    {
     "name": "stdout",
     "output_type": "stream",
     "text": [
      "Rows with values in 2 columns\n"
     ]
    },
    {
     "data": {
      "text/html": [
       "<div>\n",
       "<style scoped>\n",
       "    .dataframe tbody tr th:only-of-type {\n",
       "        vertical-align: middle;\n",
       "    }\n",
       "\n",
       "    .dataframe tbody tr th {\n",
       "        vertical-align: top;\n",
       "    }\n",
       "\n",
       "    .dataframe thead th {\n",
       "        text-align: right;\n",
       "    }\n",
       "</style>\n",
       "<table border=\"1\" class=\"dataframe\">\n",
       "  <thead>\n",
       "    <tr style=\"text-align: right;\">\n",
       "      <th></th>\n",
       "      <th>USUBJID</th>\n",
       "      <th>FATESTCD</th>\n",
       "      <th>FATEST</th>\n",
       "      <th>FAOBJ</th>\n",
       "      <th>FACAT</th>\n",
       "      <th>FAORRES</th>\n",
       "      <th>FAORRESU</th>\n",
       "      <th>FADTC</th>\n",
       "      <th>FADUR</th>\n",
       "      <th>INSDVSRC</th>\n",
       "      <th>INSSTYPE</th>\n",
       "      <th>INSNMBOL</th>\n",
       "      <th>INSEXBOL</th>\n",
       "      <th>TRTMNT</th>\n",
       "      <th>DXTRT</th>\n",
       "      <th>ISMDI</th>\n",
       "      <th>day</th>\n",
       "    </tr>\n",
       "  </thead>\n",
       "  <tbody>\n",
       "    <tr>\n",
       "      <th>489004</th>\n",
       "      <td>1336</td>\n",
       "      <td>INSBOLUS</td>\n",
       "      <td>BOLUS INSULIN</td>\n",
       "      <td>INSULIN</td>\n",
       "      <td>BOLUS</td>\n",
       "      <td>0.549</td>\n",
       "      <td>U</td>\n",
       "      <td>2019-11-10 17:16:34</td>\n",
       "      <td>NaT</td>\n",
       "      <td>Pump</td>\n",
       "      <td>normal</td>\n",
       "      <td>0.54887</td>\n",
       "      <td>NaN</td>\n",
       "      <td>AID</td>\n",
       "      <td>TANDEM T:SLIM X2 WITH CONTROL IQ</td>\n",
       "      <td>False</td>\n",
       "      <td>2019-11-10</td>\n",
       "    </tr>\n",
       "    <tr>\n",
       "      <th>627163</th>\n",
       "      <td>1422</td>\n",
       "      <td>INSBOLUS</td>\n",
       "      <td>BOLUS INSULIN</td>\n",
       "      <td>INSULIN</td>\n",
       "      <td>BOLUS</td>\n",
       "      <td>1.300</td>\n",
       "      <td>U</td>\n",
       "      <td>2020-05-24 19:06:17</td>\n",
       "      <td>NaT</td>\n",
       "      <td>Pump</td>\n",
       "      <td>normal</td>\n",
       "      <td>1.30000</td>\n",
       "      <td>NaN</td>\n",
       "      <td>CSII</td>\n",
       "      <td>INSULET OMNIPOD INSULIN MANAGEMENT SYSTEM</td>\n",
       "      <td>False</td>\n",
       "      <td>2020-05-24</td>\n",
       "    </tr>\n",
       "  </tbody>\n",
       "</table>\n",
       "</div>"
      ],
      "text/plain": [
       "       USUBJID  FATESTCD         FATEST    FAOBJ  FACAT  FAORRES FAORRESU  \\\n",
       "489004    1336  INSBOLUS  BOLUS INSULIN  INSULIN  BOLUS    0.549        U   \n",
       "627163    1422  INSBOLUS  BOLUS INSULIN  INSULIN  BOLUS    1.300        U   \n",
       "\n",
       "                     FADTC FADUR INSDVSRC INSSTYPE  INSNMBOL  INSEXBOL TRTMNT  \\\n",
       "489004 2019-11-10 17:16:34   NaT     Pump   normal   0.54887       NaN    AID   \n",
       "627163 2020-05-24 19:06:17   NaT     Pump   normal   1.30000       NaN   CSII   \n",
       "\n",
       "                                            DXTRT  ISMDI         day  \n",
       "489004           TANDEM T:SLIM X2 WITH CONTROL IQ  False  2019-11-10  \n",
       "627163  INSULET OMNIPOD INSULIN MANAGEMENT SYSTEM  False  2020-05-24  "
      ]
     },
     "metadata": {},
     "output_type": "display_data"
    },
    {
     "data": {
      "text/plain": [
       "(INSNMBOL, FAORRES)    80276\n",
       "(INSEXBOL, FAORRES)      350\n",
       "Name: count, dtype: int64"
      ]
     },
     "metadata": {},
     "output_type": "display_data"
    },
    {
     "data": {
      "text/plain": [
       "FATEST\n",
       "BOLUS INSULIN    80626\n",
       "Name: count, dtype: int64"
      ]
     },
     "metadata": {},
     "output_type": "display_data"
    }
   ],
   "source": [
    "#Check rows with values in 2 columns\n",
    "print('Rows with values in 2 columns')\n",
    "temp = facm.loc[facm[['INSEXBOL','INSNMBOL','FAORRES']].notna().sum(axis=1) == 2]\n",
    "display(temp.sample(2))\n",
    "combination_counts = temp[['INSEXBOL','INSNMBOL','FAORRES']].apply(lambda row: tuple(row.dropna().index), axis=1).value_counts()\n",
    "display(combination_counts)\n",
    "display(temp.FATEST.value_counts())"
   ]
  },
  {
   "cell_type": "code",
   "execution_count": 451,
   "metadata": {},
   "outputs": [
    {
     "name": "stdout",
     "output_type": "stream",
     "text": [
      "Rows with values in all 3 columns\n"
     ]
    },
    {
     "data": {
      "text/html": [
       "<div>\n",
       "<style scoped>\n",
       "    .dataframe tbody tr th:only-of-type {\n",
       "        vertical-align: middle;\n",
       "    }\n",
       "\n",
       "    .dataframe tbody tr th {\n",
       "        vertical-align: top;\n",
       "    }\n",
       "\n",
       "    .dataframe thead th {\n",
       "        text-align: right;\n",
       "    }\n",
       "</style>\n",
       "<table border=\"1\" class=\"dataframe\">\n",
       "  <thead>\n",
       "    <tr style=\"text-align: right;\">\n",
       "      <th></th>\n",
       "      <th>USUBJID</th>\n",
       "      <th>FATESTCD</th>\n",
       "      <th>FATEST</th>\n",
       "      <th>FAOBJ</th>\n",
       "      <th>FACAT</th>\n",
       "      <th>FAORRES</th>\n",
       "      <th>FAORRESU</th>\n",
       "      <th>FADTC</th>\n",
       "      <th>FADUR</th>\n",
       "      <th>INSDVSRC</th>\n",
       "      <th>INSSTYPE</th>\n",
       "      <th>INSNMBOL</th>\n",
       "      <th>INSEXBOL</th>\n",
       "      <th>TRTMNT</th>\n",
       "      <th>DXTRT</th>\n",
       "      <th>ISMDI</th>\n",
       "      <th>day</th>\n",
       "    </tr>\n",
       "  </thead>\n",
       "  <tbody>\n",
       "    <tr>\n",
       "      <th>408314</th>\n",
       "      <td>127</td>\n",
       "      <td>INSBOLUS</td>\n",
       "      <td>BOLUS INSULIN</td>\n",
       "      <td>INSULIN</td>\n",
       "      <td>BOLUS</td>\n",
       "      <td>0.375</td>\n",
       "      <td>U</td>\n",
       "      <td>2020-01-17 16:25:47</td>\n",
       "      <td>0 days 00:17:35</td>\n",
       "      <td>Pump</td>\n",
       "      <td>dual/square</td>\n",
       "      <td>0.2725</td>\n",
       "      <td>0.10219</td>\n",
       "      <td>AID</td>\n",
       "      <td>TANDEM T:SLIM X2 WITH CONTROL IQ</td>\n",
       "      <td>False</td>\n",
       "      <td>2020-01-17</td>\n",
       "    </tr>\n",
       "    <tr>\n",
       "      <th>93818</th>\n",
       "      <td>1067</td>\n",
       "      <td>INSBOLUS</td>\n",
       "      <td>BOLUS INSULIN</td>\n",
       "      <td>INSULIN</td>\n",
       "      <td>BOLUS</td>\n",
       "      <td>4.820</td>\n",
       "      <td>U</td>\n",
       "      <td>2020-02-09 15:42:38</td>\n",
       "      <td>0 days 02:00:00</td>\n",
       "      <td>Pump</td>\n",
       "      <td>dual/square</td>\n",
       "      <td>2.4750</td>\n",
       "      <td>2.34500</td>\n",
       "      <td>AID</td>\n",
       "      <td>TANDEM T:SLIM X2 WITH CONTROL IQ</td>\n",
       "      <td>False</td>\n",
       "      <td>2020-02-09</td>\n",
       "    </tr>\n",
       "  </tbody>\n",
       "</table>\n",
       "</div>"
      ],
      "text/plain": [
       "       USUBJID  FATESTCD         FATEST    FAOBJ  FACAT  FAORRES FAORRESU  \\\n",
       "408314     127  INSBOLUS  BOLUS INSULIN  INSULIN  BOLUS    0.375        U   \n",
       "93818     1067  INSBOLUS  BOLUS INSULIN  INSULIN  BOLUS    4.820        U   \n",
       "\n",
       "                     FADTC           FADUR INSDVSRC     INSSTYPE  INSNMBOL  \\\n",
       "408314 2020-01-17 16:25:47 0 days 00:17:35     Pump  dual/square    0.2725   \n",
       "93818  2020-02-09 15:42:38 0 days 02:00:00     Pump  dual/square    2.4750   \n",
       "\n",
       "        INSEXBOL TRTMNT                             DXTRT  ISMDI         day  \n",
       "408314   0.10219    AID  TANDEM T:SLIM X2 WITH CONTROL IQ  False  2020-01-17  \n",
       "93818    2.34500    AID  TANDEM T:SLIM X2 WITH CONTROL IQ  False  2020-02-09  "
      ]
     },
     "metadata": {},
     "output_type": "display_data"
    },
    {
     "data": {
      "text/plain": [
       "(INSEXBOL, INSNMBOL, FAORRES)    2633\n",
       "Name: count, dtype: int64"
      ]
     },
     "metadata": {},
     "output_type": "display_data"
    },
    {
     "data": {
      "text/plain": [
       "FATEST\n",
       "BOLUS INSULIN    2633\n",
       "Name: count, dtype: int64"
      ]
     },
     "metadata": {},
     "output_type": "display_data"
    }
   ],
   "source": [
    "#Check rows with values in 3 columns\n",
    "print('Rows with values in all 3 columns')\n",
    "temp = facm.loc[facm[['INSEXBOL','INSNMBOL','FAORRES']].notna().sum(axis=1) == 3]\n",
    "display(temp.sample(2))\n",
    "combination_counts = temp[['INSEXBOL','INSNMBOL','FAORRES']].apply(lambda row: tuple(row.dropna().index), axis=1).value_counts()\n",
    "display(combination_counts)\n",
    "display(temp.FATEST.value_counts())"
   ]
  },
  {
   "cell_type": "code",
   "execution_count": 452,
   "metadata": {},
   "outputs": [
    {
     "data": {
      "text/plain": [
       "INSEXBOL      6373.89908\n",
       "INSNMBOL    204936.26185\n",
       "FAORRES     261099.89600\n",
       "dtype: float64"
      ]
     },
     "execution_count": 452,
     "metadata": {},
     "output_type": "execute_result"
    }
   ],
   "source": [
    "# we see that the sums don't match up for boluses, so if there are duplicates then the other row would have the bolus in both columns\n",
    "facm.loc[facm.FATEST=='BOLUS INSULIN',['INSEXBOL','INSNMBOL','FAORRES']].sum()"
   ]
  },
  {
   "cell_type": "markdown",
   "metadata": {},
   "source": [
    "**Findings**\n",
    "- The FAORRES mostly seems to be the sum of all deliveries\n",
    "    - However, for 29463 BOluses, there is no value in INSMBOL and INSEXBOL\n",
    "- When BASAL, INSMBOL, INSEXBOL are zero as expected\n",
    "- When there is only one value, it is in FAORRESS, these are mostly BASAL but also some BOLUSES\n",
    "  - All injections only show up in FAORRESS\n",
    "  - But we also see pump boluses\n",
    "  - TODO: Maybe, these are duplicates? Let's check if we see them reported twince\n"
   ]
  },
  {
   "cell_type": "code",
   "execution_count": null,
   "metadata": {},
   "outputs": [],
   "source": [
    "facm[['FAORRES','INSNMBOL','INSEXBOL']].sum().plot(kind='bar',figsize=(5,2))"
   ]
  },
  {
   "cell_type": "markdown",
   "metadata": {},
   "source": [
    "## Collected Questions\n",
    "- Why are `TANDEM T:SLIM X2 WITH BASAL IQ` not considered AID?\n",
    "- How do we know if Pump was running AID or not?\n",
    "- The script only considers FATEST == 'BASAL INSULIN' thus ignoring BASAL FLOW RATE. Is this correct?\n",
    "- Why are there many rows with NaN values in `FASTRESN` despite FATEST being BASAL INSULIN or BASAL FLOW RATE?  \n",
    "- Why is FASTRES Nan when FAORRESU is U/hr but not when it is U?\n",
    "- There are no 0 FASTRESN values but many NaN. How are 0 basal rates reported?\n",
    "- Why are some boluses only in FAORRES but not in INSNMBOL and INSEXBOL"
   ]
  }
 ],
 "metadata": {
  "kernelspec": {
   "display_name": "babelbetes",
   "language": "python",
   "name": "python3"
  },
  "language_info": {
   "codemirror_mode": {
    "name": "ipython",
    "version": 3
   },
   "file_extension": ".py",
   "mimetype": "text/x-python",
   "name": "python",
   "nbconvert_exporter": "python",
   "pygments_lexer": "ipython3",
   "version": "3.11.0"
  }
 },
 "nbformat": 4,
 "nbformat_minor": 2
}
