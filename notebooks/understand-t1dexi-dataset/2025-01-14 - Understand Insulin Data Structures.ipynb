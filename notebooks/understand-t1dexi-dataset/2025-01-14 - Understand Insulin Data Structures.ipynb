{
 "cells": [
  {
   "cell_type": "markdown",
   "metadata": {},
   "source": [
    "**Problem**:\n",
    "\n",
    "We need a good understanding of the T1DExi data. After having assessed the netiob script, and the study documentation some questions remain about how the columns relate. Especially the script often uses equivalent columns which makes it difficult. The analysis of the script output also leads to strong concerns about the validity of the output.\n",
    "\n",
    "- Do we need all the columns or are they mostly redundant?\n",
    "- Can we rely on the table as presented in T1DEXI ACRF_15Sept2022.pdf? or rather on the script?\n",
    "- The script sometimes uses FATEST (test) and FACAT (category) depending on which pump is being looked at 670g and 770g?\n",
    "- The script does not extract extended boluses in 770g, why?\n",
    "- Is FASTRESN just a copy of the value in INSEXBOL or INSNMBOL and FAORRES (Basal)?\n",
    "-  ...\n",
    "\n",
    "We want to take a close look at the data itself.\n",
    "\n",
    "**Goal**: Load xpt file into pandas in jupyter. Identify relevant columns and verify how they relate to another."
   ]
  },
  {
   "cell_type": "code",
   "execution_count": 1,
   "metadata": {},
   "outputs": [],
   "source": [
    "#imports\n",
    "\n",
    "#notebook\n",
    "import os\n",
    "import sys\n",
    "sys.path.append('../..')\n",
    "import matplotlib.pyplot as plt\n",
    "from src import cdf\n",
    "\n",
    "# relevant for the class\n",
    "import numpy as np\n",
    "import pandas as pd\n",
    "from datetime import datetime, timedelta\n",
    "import isodate"
   ]
  },
  {
   "cell_type": "markdown",
   "metadata": {},
   "source": [
    "## Load the data"
   ]
  },
  {
   "cell_type": "code",
   "execution_count": 2,
   "metadata": {},
   "outputs": [],
   "source": [
    "#define path\n",
    "t1dexi_path = os.path.join(os.getcwd(),'..','..','data','raw','T1DEXI')"
   ]
  },
  {
   "cell_type": "markdown",
   "metadata": {},
   "source": [
    "### load device file"
   ]
  },
  {
   "cell_type": "code",
   "execution_count": 3,
   "metadata": {},
   "outputs": [
    {
     "data": {
      "text/html": [
       "<div>\n",
       "<style scoped>\n",
       "    .dataframe tbody tr th:only-of-type {\n",
       "        vertical-align: middle;\n",
       "    }\n",
       "\n",
       "    .dataframe tbody tr th {\n",
       "        vertical-align: top;\n",
       "    }\n",
       "\n",
       "    .dataframe thead th {\n",
       "        text-align: right;\n",
       "    }\n",
       "</style>\n",
       "<table border=\"1\" class=\"dataframe\">\n",
       "  <thead>\n",
       "    <tr style=\"text-align: right;\">\n",
       "      <th></th>\n",
       "      <th>USUBJID</th>\n",
       "      <th>DXTRT</th>\n",
       "    </tr>\n",
       "  </thead>\n",
       "  <tbody>\n",
       "    <tr>\n",
       "      <th>410</th>\n",
       "      <td>1660</td>\n",
       "      <td>CLOSED LOOP INSULIN PUMP</td>\n",
       "    </tr>\n",
       "    <tr>\n",
       "      <th>156</th>\n",
       "      <td>1257</td>\n",
       "      <td>TANDEM T:SLIM X2 WITH CONTROL IQ</td>\n",
       "    </tr>\n",
       "    <tr>\n",
       "      <th>191</th>\n",
       "      <td>1311</td>\n",
       "      <td>INSULIN PUMP</td>\n",
       "    </tr>\n",
       "  </tbody>\n",
       "</table>\n",
       "</div>"
      ],
      "text/plain": [
       "    USUBJID                             DXTRT\n",
       "410    1660          CLOSED LOOP INSULIN PUMP\n",
       "156    1257  TANDEM T:SLIM X2 WITH CONTROL IQ\n",
       "191    1311                      INSULIN PUMP"
      ]
     },
     "metadata": {},
     "output_type": "display_data"
    }
   ],
   "source": [
    "#load and preprocess dx file\n",
    "dx = pd.read_sas(os.path.join(t1dexi_path,'DX.xpt'),encoding='latin-1').replace('', np.nan)\n",
    "dx = dx.drop(columns=['DXSCAT','DXPRESP','STUDYID','DOMAIN','SPDEVID','DXSEQ','DXCAT','DXSCAT','DXSTRTPT','DXDTC','DXENRTPT','DXEVINTX','VISIT'])\n",
    "display(dx.sample(3))\n",
    "#drop generic device codes that are duplicates of the true pump\n",
    "#dx = dx.loc[dx.DXTRT.isin(['INSULIN PUMP','CLOSED LOOP INSULIN PUMP'])]"
   ]
  },
  {
   "cell_type": "markdown",
   "metadata": {},
   "source": [
    "### assess device counts and treatment types"
   ]
  },
  {
   "cell_type": "code",
   "execution_count": 4,
   "metadata": {},
   "outputs": [
    {
     "name": "stdout",
     "output_type": "stream",
     "text": [
      "There are 502 unique subjects in the dx dataset\n",
      "These are broken down by devices as follows:\n"
     ]
    },
    {
     "data": {
      "text/plain": [
       "DXTRT\n",
       "CLOSED LOOP INSULIN PUMP                     225\n",
       "TANDEM T:SLIM X2 WITH CONTROL IQ             190\n",
       "INSULIN PUMP                                 189\n",
       "INSULET OMNIPOD INSULIN MANAGEMENT SYSTEM    106\n",
       "MULTIPLE DAILY INJECTIONS                     88\n",
       "MEDTRONIC 670G IN AUTO MODE                   33\n",
       "TANDEM T:SLIM X2 WITH BASAL IQ                23\n",
       "MEDTRONIC 670G IN MANUAL MODE                 21\n",
       "MEDTRONIC 630G                                 9\n",
       "TANDEM T:SLIM X2                               8\n",
       "TANDEM T:SLIM                                  5\n",
       "MEDTRONIC PARADIGM 723 (REVEL)                 4\n",
       "MEDTRONIC 670G                                 3\n",
       "MEDTRONIC 770G                                 2\n",
       "MEDTRONIC 770G IN AUTO MODE                    2\n",
       "MEDTRONIC 551 (530G)                           2\n",
       "MEDTRONIC 751 (530G)                           2\n",
       "MEDTRONIC PARADIGM 523 (REVEL)                 1\n",
       "MEDTRONIC PARADIGM 522                         1\n",
       "INSULET OMNIPOD DASH                           1\n",
       "MEDTRONIC 640G                                 1\n",
       "Name: count, dtype: int64"
      ]
     },
     "metadata": {},
     "output_type": "display_data"
    },
    {
     "name": "stdout",
     "output_type": "stream",
     "text": [
      "Pump: 414, MDI: 88, Other: 414\n"
     ]
    },
    {
     "data": {
      "text/plain": [
       "TRTMNT  DXTRT                                    \n",
       "AID     MEDTRONIC 670G IN AUTO MODE                   32\n",
       "        MEDTRONIC 770G                                 1\n",
       "        MEDTRONIC 770G IN AUTO MODE                    2\n",
       "        TANDEM T:SLIM X2 WITH CONTROL IQ             190\n",
       "CSII    INSULET OMNIPOD DASH                           1\n",
       "        INSULET OMNIPOD INSULIN MANAGEMENT SYSTEM    106\n",
       "        MEDTRONIC 551 (530G)                           2\n",
       "        MEDTRONIC 630G                                 9\n",
       "        MEDTRONIC 640G                                 1\n",
       "        MEDTRONIC 670G                                 3\n",
       "        MEDTRONIC 670G IN AUTO MODE                    1\n",
       "        MEDTRONIC 670G IN MANUAL MODE                 21\n",
       "        MEDTRONIC 751 (530G)                           2\n",
       "        MEDTRONIC 770G                                 1\n",
       "        MEDTRONIC PARADIGM 522                         1\n",
       "        MEDTRONIC PARADIGM 523 (REVEL)                 1\n",
       "        MEDTRONIC PARADIGM 723 (REVEL)                 4\n",
       "        TANDEM T:SLIM                                  5\n",
       "        TANDEM T:SLIM X2                               8\n",
       "        TANDEM T:SLIM X2 WITH BASAL IQ                23\n",
       "MDI     MULTIPLE DAILY INJECTIONS                     88\n",
       "Name: count, dtype: int64"
      ]
     },
     "execution_count": 4,
     "metadata": {},
     "output_type": "execute_result"
    }
   ],
   "source": [
    "#assess device counts and treatment types\n",
    "\n",
    "#print dx value counts (subjects, devices)\n",
    "print(f'There are {dx.USUBJID.nunique()} unique subjects in the dx dataset')\n",
    "print('These are broken down by devices as follows:')\n",
    "display(dx.value_counts('DXTRT'))\n",
    "\n",
    "\n",
    "#the duplicated 'INSULIN PUMP' or 'CLOSED LOOP INSULIN PUMP' values can be used to specify the pump type\n",
    "pump_type = dx.loc[dx.DXTRT.isin(['INSULIN PUMP','CLOSED LOOP INSULIN PUMP'])][['USUBJID','DXTRT']]\n",
    "mdi_type = dx.loc[dx.DXTRT.isin(['MULTIPLE DAILY INJECTIONS'])]\n",
    "other_type = dx.loc[~dx.DXTRT.isin(['INSULIN PUMP','CLOSED LOOP INSULIN PUMP','MULTIPLE DAILY INJECTIONS'])]\n",
    "print(f'Pump: {len(pump_type)}, MDI: {len(mdi_type)}, Other: {len(other_type)}')\n",
    "\n",
    "#use the redundant rows as treatment type and add those to new TRTMNT Colum (CSII, AID, MDI)\n",
    "treatment_type = dx.loc[dx.DXTRT.isin(['INSULIN PUMP','CLOSED LOOP INSULIN PUMP','MULTIPLE DAILY INJECTIONS'])][['USUBJID','DXTRT']].rename(columns={'DXTRT':'TRTMNT'})\n",
    "treatment_type['TRTMNT'] = treatment_type.TRTMNT.replace({'INSULIN PUMP':'CSII','CLOSED LOOP INSULIN PUMP':'AID','MULTIPLE DAILY INJECTIONS':'MDI'})\n",
    "treatment = pd.merge(dx.loc[~dx.DXTRT.isin(['INSULIN PUMP','CLOSED LOOP INSULIN PUMP'])], treatment_type, on='USUBJID',how='inner')\n",
    "treatment.value_counts(['TRTMNT','DXTRT'],sort=False)"
   ]
  },
  {
   "cell_type": "markdown",
   "metadata": {},
   "source": [
    "\n",
    "We can see some inconsistent classificaitons:  \n",
    " - 770G in the AID section is probably a 770G in Auto MODE\n",
    " - TANDEM T:SLIM X2 WITH BASAL IQ in the CSII are probably AID\n",
    " - MEDTRONIC 670G IN AUTO MODE in CSII are probably AID instead\n",
    "\n",
    "So, can we trust this list? The netiob scripts made the following observation:  \n",
    ">[Discretional]. We observed that subject ID: 766 device type should be 'MEDTRONIC 770G IN AUTO MODE' and we updated as such\n",
    "        device_data.loc[device_data['USUBJID'] == '766', 'DXTRT'] = 'MEDTRONIC 770G IN AUTO MODE'\n",
    "\n",
    "However, there are also many TANDEM with BASAL IQ, these could probbaly also be considered to be AID. Ultimately, the netiob script assigned the treatment based on the DXTRT name alone.   \n",
    "\n",
    "**Conclusion**: ATM we don't know which one to use."
   ]
  },
  {
   "cell_type": "markdown",
   "metadata": {},
   "source": [
    "### Load FACM file"
   ]
  },
  {
   "cell_type": "code",
   "execution_count": 5,
   "metadata": {},
   "outputs": [
    {
     "name": "stdout",
     "output_type": "stream",
     "text": [
      "Number of % in facm: 0, dx: 0\n"
     ]
    },
    {
     "data": {
      "text/html": [
       "<div>\n",
       "<style scoped>\n",
       "    .dataframe tbody tr th:only-of-type {\n",
       "        vertical-align: middle;\n",
       "    }\n",
       "\n",
       "    .dataframe tbody tr th {\n",
       "        vertical-align: top;\n",
       "    }\n",
       "\n",
       "    .dataframe thead th {\n",
       "        text-align: right;\n",
       "    }\n",
       "</style>\n",
       "<table border=\"1\" class=\"dataframe\">\n",
       "  <thead>\n",
       "    <tr style=\"text-align: right;\">\n",
       "      <th></th>\n",
       "      <th>USUBJID</th>\n",
       "      <th>FATESTCD</th>\n",
       "      <th>FATEST</th>\n",
       "      <th>FAOBJ</th>\n",
       "      <th>FACAT</th>\n",
       "      <th>FAORRES</th>\n",
       "      <th>FAORRESU</th>\n",
       "      <th>FADTC</th>\n",
       "      <th>FADUR</th>\n",
       "      <th>INSDVSRC</th>\n",
       "      <th>INSSTYPE</th>\n",
       "      <th>INSNMBOL</th>\n",
       "      <th>INSEXBOL</th>\n",
       "    </tr>\n",
       "  </thead>\n",
       "  <tbody>\n",
       "    <tr>\n",
       "      <th>882388</th>\n",
       "      <td>1586</td>\n",
       "      <td>BASFLRT</td>\n",
       "      <td>BASAL FLOW RATE</td>\n",
       "      <td>INSULIN</td>\n",
       "      <td>BASAL</td>\n",
       "      <td>0.111</td>\n",
       "      <td>U/hr</td>\n",
       "      <td>2020-05-01 06:13:19</td>\n",
       "      <td>0 days 00:05:01</td>\n",
       "      <td>NaN</td>\n",
       "      <td>NaN</td>\n",
       "      <td>NaN</td>\n",
       "      <td>NaN</td>\n",
       "    </tr>\n",
       "    <tr>\n",
       "      <th>1731961</th>\n",
       "      <td>66</td>\n",
       "      <td>BASFLRT</td>\n",
       "      <td>BASAL FLOW RATE</td>\n",
       "      <td>INSULIN</td>\n",
       "      <td>BASAL</td>\n",
       "      <td>1.450</td>\n",
       "      <td>U/hr</td>\n",
       "      <td>2020-08-02 06:19:40</td>\n",
       "      <td>0 days 00:05:00</td>\n",
       "      <td>NaN</td>\n",
       "      <td>NaN</td>\n",
       "      <td>NaN</td>\n",
       "      <td>NaN</td>\n",
       "    </tr>\n",
       "    <tr>\n",
       "      <th>77404</th>\n",
       "      <td>1043</td>\n",
       "      <td>BASFLRT</td>\n",
       "      <td>BASAL FLOW RATE</td>\n",
       "      <td>INSULIN</td>\n",
       "      <td>BASAL</td>\n",
       "      <td>0.156</td>\n",
       "      <td>U/hr</td>\n",
       "      <td>2019-07-06 09:41:24</td>\n",
       "      <td>0 days 00:05:00</td>\n",
       "      <td>NaN</td>\n",
       "      <td>NaN</td>\n",
       "      <td>NaN</td>\n",
       "      <td>NaN</td>\n",
       "    </tr>\n",
       "    <tr>\n",
       "      <th>144817</th>\n",
       "      <td>1100</td>\n",
       "      <td>BASFLRT</td>\n",
       "      <td>BASAL FLOW RATE</td>\n",
       "      <td>INSULIN</td>\n",
       "      <td>BASAL</td>\n",
       "      <td>1.173</td>\n",
       "      <td>U/hr</td>\n",
       "      <td>2020-02-22 01:31:26</td>\n",
       "      <td>0 days 00:05:01</td>\n",
       "      <td>NaN</td>\n",
       "      <td>NaN</td>\n",
       "      <td>NaN</td>\n",
       "      <td>NaN</td>\n",
       "    </tr>\n",
       "    <tr>\n",
       "      <th>1526097</th>\n",
       "      <td>498</td>\n",
       "      <td>BASFLRT</td>\n",
       "      <td>BASAL FLOW RATE</td>\n",
       "      <td>INSULIN</td>\n",
       "      <td>BASAL</td>\n",
       "      <td>0.896</td>\n",
       "      <td>U/hr</td>\n",
       "      <td>2020-05-11 23:24:24</td>\n",
       "      <td>0 days 00:05:01</td>\n",
       "      <td>NaN</td>\n",
       "      <td>NaN</td>\n",
       "      <td>NaN</td>\n",
       "      <td>NaN</td>\n",
       "    </tr>\n",
       "  </tbody>\n",
       "</table>\n",
       "</div>"
      ],
      "text/plain": [
       "        USUBJID FATESTCD           FATEST    FAOBJ  FACAT  FAORRES FAORRESU  \\\n",
       "882388     1586  BASFLRT  BASAL FLOW RATE  INSULIN  BASAL    0.111     U/hr   \n",
       "1731961      66  BASFLRT  BASAL FLOW RATE  INSULIN  BASAL    1.450     U/hr   \n",
       "77404      1043  BASFLRT  BASAL FLOW RATE  INSULIN  BASAL    0.156     U/hr   \n",
       "144817     1100  BASFLRT  BASAL FLOW RATE  INSULIN  BASAL    1.173     U/hr   \n",
       "1526097     498  BASFLRT  BASAL FLOW RATE  INSULIN  BASAL    0.896     U/hr   \n",
       "\n",
       "                      FADTC           FADUR INSDVSRC INSSTYPE  INSNMBOL  \\\n",
       "882388  2020-05-01 06:13:19 0 days 00:05:01      NaN      NaN       NaN   \n",
       "1731961 2020-08-02 06:19:40 0 days 00:05:00      NaN      NaN       NaN   \n",
       "77404   2019-07-06 09:41:24 0 days 00:05:00      NaN      NaN       NaN   \n",
       "144817  2020-02-22 01:31:26 0 days 00:05:01      NaN      NaN       NaN   \n",
       "1526097 2020-05-11 23:24:24 0 days 00:05:01      NaN      NaN       NaN   \n",
       "\n",
       "         INSEXBOL  \n",
       "882388        NaN  \n",
       "1731961       NaN  \n",
       "77404         NaN  \n",
       "144817        NaN  \n",
       "1526097       NaN  "
      ]
     },
     "metadata": {},
     "output_type": "display_data"
    }
   ],
   "source": [
    "#load and preprocess facm file\n",
    "facm = pd.read_sas(os.path.join(t1dexi_path,'FACM.xpt'),encoding='latin-1',).replace('', np.nan)\n",
    "\n",
    "#'FAORRES','FASTRESC' and FASTRESN all show the finding (result) (however, 0 values show up as 5.397605e-79 in FASTRESN)\n",
    "#`FAORRES`: Result or Finding in Original Units\n",
    "#`FASTRESC`: Character Result/Finding in Std Format\n",
    "#`FASTRESN`: Numeric Result/Finding in Standard Unit\n",
    "facm['FAORRES'] = facm['FAORRES'].astype(float)\n",
    "\n",
    "#FAORRESU and FASTRESU refer to the Unit but since U/hr is not a standard unit it is NaN in FASTRESU\n",
    "#`FAORRESU`: Original Units\n",
    "#`FASTRESU`: Standard Units\n",
    "facm = facm.drop(columns=['STUDYID','DOMAIN','FASEQ',\n",
    "                          'FASTRESN','FASTRESC',# Numeric results are 5.397605e-79 for 0 values, therefore use FAORRES (original units),FASTRESC is just a string duplicated\n",
    "                          'FASTRESU', #standard units are NaN for U/hr , therefore use FAORRESU (original units)\n",
    "                          ]) \n",
    "\n",
    "#alternatively we could use \n",
    "facm['FADTC'] = facm['FADTC'].apply(lambda x: datetime(1960, 1, 1) + timedelta(seconds=x) if pd.notnull(x) else pd.NaT)\n",
    "facm['FADUR'] = facm.FADUR.dropna().apply(isodate.parse_duration, as_timedelta_if_possible=True)\n",
    "\n",
    "#note, we didn't need to replace % signs and we didn't need xport as in the scripts\n",
    "percent_count_facm = facm.apply(lambda x: x.astype(str).str.contains('%').sum()).sum()\n",
    "percent_count_dx = dx.apply(lambda x: x.astype(str).str.contains('%').sum()).sum()\n",
    "print(f'Number of % in facm: {percent_count_facm}, dx: {percent_count_dx}')\n",
    "\n",
    "display(facm.sample(5))"
   ]
  },
  {
   "cell_type": "code",
   "execution_count": 6,
   "metadata": {},
   "outputs": [
    {
     "data": {
      "text/plain": [
       "USUBJID           0\n",
       "FATESTCD          0\n",
       "FATEST            0\n",
       "FAOBJ             0\n",
       "FACAT             0\n",
       "FAORRES      -30248\n",
       "FAORRESU          0\n",
       "FADTC             0\n",
       "FADUR       -114473\n",
       "INSDVSRC   -1053401\n",
       "INSSTYPE   -1068093\n",
       "INSNMBOL   -2136615\n",
       "INSEXBOL   -2216541\n",
       "dtype: int64"
      ]
     },
     "execution_count": 6,
     "metadata": {},
     "output_type": "execute_result"
    }
   ],
   "source": [
    "facm.count()-len(facm)"
   ]
  },
  {
   "cell_type": "markdown",
   "metadata": {},
   "source": [
    "- FAORRES has less values, this is because it is a \"standard unit\" which is Nan for non standard stuff like U/here\n",
    "- FADUR is missing for boluses and basal deliveries (basal deliveries (non flow rates) are mostly set to 5 minutes)\n",
    "- insulin type and source are often missing\n",
    "- INSNMBOL and INSEXBOL are often missing (probably mostly for all the basal values)"
   ]
  },
  {
   "cell_type": "markdown",
   "metadata": {},
   "source": [
    "### Merge devices to facm"
   ]
  },
  {
   "cell_type": "code",
   "execution_count": 7,
   "metadata": {},
   "outputs": [
    {
     "data": {
      "text/html": [
       "<div>\n",
       "<style scoped>\n",
       "    .dataframe tbody tr th:only-of-type {\n",
       "        vertical-align: middle;\n",
       "    }\n",
       "\n",
       "    .dataframe tbody tr th {\n",
       "        vertical-align: top;\n",
       "    }\n",
       "\n",
       "    .dataframe thead th {\n",
       "        text-align: right;\n",
       "    }\n",
       "</style>\n",
       "<table border=\"1\" class=\"dataframe\">\n",
       "  <thead>\n",
       "    <tr style=\"text-align: right;\">\n",
       "      <th></th>\n",
       "      <th>USUBJID</th>\n",
       "      <th>FATESTCD</th>\n",
       "      <th>FATEST</th>\n",
       "      <th>FAOBJ</th>\n",
       "      <th>FACAT</th>\n",
       "      <th>FAORRES</th>\n",
       "      <th>FAORRESU</th>\n",
       "      <th>FADTC</th>\n",
       "      <th>FADUR</th>\n",
       "      <th>INSDVSRC</th>\n",
       "      <th>INSSTYPE</th>\n",
       "      <th>INSNMBOL</th>\n",
       "      <th>INSEXBOL</th>\n",
       "      <th>DXTRT</th>\n",
       "    </tr>\n",
       "  </thead>\n",
       "  <tbody>\n",
       "    <tr>\n",
       "      <th>1364146</th>\n",
       "      <td>389</td>\n",
       "      <td>BASFLRT</td>\n",
       "      <td>BASAL FLOW RATE</td>\n",
       "      <td>INSULIN</td>\n",
       "      <td>BASAL</td>\n",
       "      <td>0.585</td>\n",
       "      <td>U/hr</td>\n",
       "      <td>2019-10-11 00:00:00</td>\n",
       "      <td>0 days 00:04:20</td>\n",
       "      <td>NaN</td>\n",
       "      <td>NaN</td>\n",
       "      <td>NaN</td>\n",
       "      <td>NaN</td>\n",
       "      <td>TANDEM T:SLIM X2 WITH CONTROL IQ</td>\n",
       "    </tr>\n",
       "    <tr>\n",
       "      <th>854618</th>\n",
       "      <td>1558</td>\n",
       "      <td>INSBOLUS</td>\n",
       "      <td>BOLUS INSULIN</td>\n",
       "      <td>INSULIN</td>\n",
       "      <td>BOLUS</td>\n",
       "      <td>3.130</td>\n",
       "      <td>U</td>\n",
       "      <td>2020-11-30 11:28:00</td>\n",
       "      <td>NaT</td>\n",
       "      <td>Pump</td>\n",
       "      <td>normal</td>\n",
       "      <td>3.13</td>\n",
       "      <td>NaN</td>\n",
       "      <td>TANDEM T:SLIM X2 WITH CONTROL IQ</td>\n",
       "    </tr>\n",
       "  </tbody>\n",
       "</table>\n",
       "</div>"
      ],
      "text/plain": [
       "        USUBJID  FATESTCD           FATEST    FAOBJ  FACAT  FAORRES FAORRESU  \\\n",
       "1364146     389   BASFLRT  BASAL FLOW RATE  INSULIN  BASAL    0.585     U/hr   \n",
       "854618     1558  INSBOLUS    BOLUS INSULIN  INSULIN  BOLUS    3.130        U   \n",
       "\n",
       "                      FADTC           FADUR INSDVSRC INSSTYPE  INSNMBOL  \\\n",
       "1364146 2019-10-11 00:00:00 0 days 00:04:20      NaN      NaN       NaN   \n",
       "854618  2020-11-30 11:28:00             NaT     Pump   normal      3.13   \n",
       "\n",
       "         INSEXBOL                             DXTRT  \n",
       "1364146       NaN  TANDEM T:SLIM X2 WITH CONTROL IQ  \n",
       "854618        NaN  TANDEM T:SLIM X2 WITH CONTROL IQ  "
      ]
     },
     "metadata": {},
     "output_type": "display_data"
    }
   ],
   "source": [
    "## merge devices to facm \n",
    "\n",
    "#drop the generic device codes that are duplicates of the true pump before merging\n",
    "temp = dx.loc[~dx.DXTRT.isin(['INSULIN PUMP','CLOSED LOOP INSULIN PUMP'])]\n",
    "facm = pd.merge(facm, temp, on='USUBJID',how='left')\n",
    "display(facm.sample(2))"
   ]
  },
  {
   "cell_type": "code",
   "execution_count": null,
   "metadata": {},
   "outputs": [],
   "source": [
    "#add treatment type to facm\n",
    "facm = pd.merge(facm,treatment.drop(columns=['DXTRT']), on='USUBJID', how='inner')"
   ]
  },
  {
   "cell_type": "markdown",
   "metadata": {},
   "source": [
    "## Understand Basal and Boluses"
   ]
  },
  {
   "cell_type": "markdown",
   "metadata": {},
   "source": [
    "### Inspect column hiarchy"
   ]
  },
  {
   "cell_type": "code",
   "execution_count": 8,
   "metadata": {},
   "outputs": [
    {
     "name": "stdout",
     "output_type": "stream",
     "text": [
      "Overall number of rows in FACM 2219524\n"
     ]
    },
    {
     "data": {
      "text/plain": [
       "FAOBJ    FACAT  FATESTCD  FATEST           INSDVSRC    INSSTYPE                  \n",
       "INSULIN  BASAL  BASFLRT   BASAL FLOW RATE  NaN         NaN                           1053401\n",
       "                INSBASAL  BASAL INSULIN    Injections  NaN                              2365\n",
       "                                           Pump        automated                      237033\n",
       "                                                       scheduled                      258749\n",
       "                                                       suspend                         14457\n",
       "                                                       temp                           537986\n",
       "                                                       NaN                              2811\n",
       "         BOLUS  INSBOLUS  BOLUS INSULIN    Injections  NaN                              9516\n",
       "                                           Pump        automated                        1619\n",
       "                                                       automatic bolus/correction         26\n",
       "                                                       combination                        48\n",
       "                                                       dual (normal part)                  1\n",
       "                                                       dual (square part)                  1\n",
       "                                                       dual/square                      2631\n",
       "                                                       normal                          98456\n",
       "                                                       square                            351\n",
       "                                                       standard                           27\n",
       "                                                       standard/correction                46\n",
       "Name: count, dtype: int64"
      ]
     },
     "metadata": {},
     "output_type": "display_data"
    },
    {
     "data": {
      "text/plain": [
       "FATEST           INSDVSRC    FAORRESU\n",
       "BASAL FLOW RATE  NaN         U/hr        1053401\n",
       "BASAL INSULIN    Injections  U              2365\n",
       "                 Pump        U           1051036\n",
       "BOLUS INSULIN    Injections  U              9516\n",
       "                 Pump        U            103206\n",
       "Name: count, dtype: int64"
      ]
     },
     "metadata": {},
     "output_type": "display_data"
    }
   ],
   "source": [
    "#print hierachical value counts of relevant columns\n",
    "print(f'Overall number of rows in FACM {facm.shape[0]}')\n",
    "\n",
    "vcounts= facm.value_counts(subset=['FAOBJ','FACAT','FATESTCD','FATEST','INSDVSRC','INSSTYPE'],sort=False,dropna=False)\n",
    "display(vcounts)\n",
    "\n",
    "#We see that source and sub type are NaN when fatest is basal flow rate. So do the units differ?\n",
    "vcounts = facm.value_counts(subset=['FATEST','INSDVSRC','FAORRESU'],sort=False,dropna=False)\n",
    "display(vcounts)"
   ]
  },
  {
   "cell_type": "markdown",
   "metadata": {},
   "source": [
    "### ... summary\n",
    " 1. `FAOBJ` is always INSULIN and can be ignored\n",
    " 2. `FACAT` separates between BOLUS and BASAL\n",
    " 3. `FATESTCD` and `FATEST` have the same meaning (basal, basal flow rate and bolus), Use FATEST because it is more explicit\n",
    " 3. `INSTYPE` is *NaN* when device Source (`INSDVSRC`) is *NaN* or *Injections* and for some Basals with Pump source"
   ]
  },
  {
   "cell_type": "markdown",
   "metadata": {},
   "source": [
    "### Basal Rates vs. Basal Flow Rates"
   ]
  },
  {
   "cell_type": "markdown",
   "metadata": {},
   "source": [
    "**Observations:**  \n",
    "1. We see that there are Basal Rates and Basal Flow Rates. \n",
    "2. It is unclear if these are duplicates or if both need to be considered. \n",
    "3. The netiob script only considers FATEST == 'BASAL INSULIN' thus ignoring BASAL FLOW RATE. \n",
    "  - Is this correct?  \n",
    "4. Also, we see that there Are Basal Flow Rates in MDI. \n",
    "\n",
    "**We want to check.**  \n",
    "1. How often these are available (by device)\n",
    "   - when dropping Nan FASTRESN rows\n",
    "2. Do deliveries (U) modulate the flow rates (U/hr)?\n",
    " - Comparing sums (flow rates* duration  vs. basal deliveries)\n",
    "3. Why there are BASAL FLOW Rates in MDI?"
   ]
  },
  {
   "cell_type": "markdown",
   "metadata": {},
   "source": [
    "We start by checking if basal flow rates exist for all insulin pumps:"
   ]
  },
  {
   "cell_type": "code",
   "execution_count": 9,
   "metadata": {},
   "outputs": [],
   "source": [
    "#Add MDI label for further analysis\n",
    "facm['ISMDI']=facm.DXTRT=='MULTIPLE DAILY INJECTIONS'"
   ]
  },
  {
   "cell_type": "code",
   "execution_count": 10,
   "metadata": {},
   "outputs": [
    {
     "name": "stdout",
     "output_type": "stream",
     "text": [
      "BASAL FLOW RATE by pump:\n"
     ]
    },
    {
     "data": {
      "text/plain": [
       "DXTRT\n",
       "TANDEM T:SLIM X2 WITH CONTROL IQ             852614\n",
       "MEDTRONIC 670G IN AUTO MODE                  150612\n",
       "INSULET OMNIPOD INSULIN MANAGEMENT SYSTEM     17425\n",
       "TANDEM T:SLIM X2 WITH BASAL IQ                13761\n",
       "MEDTRONIC 670G IN MANUAL MODE                  6370\n",
       "TANDEM T:SLIM X2                               2347\n",
       "MEDTRONIC 630G                                 1862\n",
       "MEDTRONIC 770G                                 1122\n",
       "TANDEM T:SLIM                                  1093\n",
       "MEDTRONIC PARADIGM 723 (REVEL)                  966\n",
       "MEDTRONIC 640G                                  503\n",
       "MEDTRONIC 670G                                  493\n",
       "MEDTRONIC 751 (530G)                            472\n",
       "MEDTRONIC 551 (530G)                            448\n",
       "MEDTRONIC 770G IN AUTO MODE                     416\n",
       "INSULET OMNIPOD DASH                            198\n",
       "MEDTRONIC PARADIGM 522                          188\n",
       "MEDTRONIC PARADIGM 523 (REVEL)                  146\n",
       "Name: count, dtype: int64"
      ]
     },
     "metadata": {},
     "output_type": "display_data"
    },
    {
     "name": "stdout",
     "output_type": "stream",
     "text": [
      "Number of basal flow rate rows for which the insulin amount (FASTRESN) is NaN\n",
      "1.33% overall\n",
      "0.00% of durations are NaN\n"
     ]
    }
   ],
   "source": [
    "#print value counts for pump FLOW RATE\n",
    "\n",
    "#Are BASAL FLOW RATEs and BASAL present in all devices?\n",
    "print('BASAL FLOW RATE by pump:')\n",
    "flow_rates = facm.loc[(facm.FATEST=='BASAL FLOW RATE') & ~facm.ISMDI]\n",
    "display(flow_rates.DXTRT.value_counts(sort=True, dropna=False))\n",
    "\n",
    "#NaN counts\n",
    "print('Number of basal flow rate rows for which the insulin amount (FASTRESN) is NaN')\n",
    "print(f'{flow_rates.FAORRES.isna().sum()/len(flow_rates)*100:.2f}% overall')\n",
    "print(f'{flow_rates.FADUR.isna().sum()/len(flow_rates)*100:.2f}% of durations are NaN')"
   ]
  },
  {
   "cell_type": "markdown",
   "metadata": {},
   "source": [
    " **Observations:**  \n",
    " - NaN flow rates are the exception in pumps\n",
    " - In rare cases the duration is NaN as well"
   ]
  },
  {
   "cell_type": "markdown",
   "metadata": {},
   "source": [
    "#### Basal Flow Rate Modulation\n",
    "Now we check if basal deliveries (U) modulate the basal delivery rates (U/hr). \n",
    "We know that there are some NaN flow rates and we will check if these could reflect 0 flow rates."
   ]
  },
  {
   "cell_type": "code",
   "execution_count": 11,
   "metadata": {},
   "outputs": [
    {
     "data": {
      "image/png": "[encoded data removed]",
      "text/plain": [
       "<Figure size 800x200 with 1 Axes>"
      ]
     },
     "metadata": {},
     "output_type": "display_data"
    }
   ],
   "source": [
    "#what is the difference between basals in units and units/h, is there any diff?\n",
    "plt.figure(figsize=(8,2));ax=plt.gca()\n",
    "cdf.plot_cdf(facm.loc[facm.FATEST=='BASAL INSULIN'].FAORRES,ax=ax,color='blue',label='U')\n",
    "cdf.plot_cdf(facm.loc[facm.FATEST=='BASAL FLOW RATE'].FAORRES,ax=ax,color='red',label='U/hr')\n",
    "ax.set_xlim(-.2,4)\n",
    "plt.title('BASAL INSULIN vs. BASAL FLOW RATE'); ax.legend()\n",
    "plt.show()"
   ]
  },
  {
   "cell_type": "markdown",
   "metadata": {},
   "source": [
    "We see that the deliveries are much smaller indicating that these are the actual deliveries."
   ]
  },
  {
   "cell_type": "code",
   "execution_count": 12,
   "metadata": {},
   "outputs": [
    {
     "data": {
      "image/png": "[encoded data removed]",
      "text/plain": [
       "<Figure size 2000x300 with 2 Axes>"
      ]
     },
     "metadata": {},
     "output_type": "display_data"
    },
    {
     "data": {
      "image/png": "[encoded data removed]",
      "text/plain": [
       "<Figure size 2000x300 with 2 Axes>"
      ]
     },
     "metadata": {},
     "output_type": "display_data"
    }
   ],
   "source": [
    "#plot examples for basal flow rates and basal deliveries for \n",
    "from src import drawing\n",
    "from importlib import reload\n",
    "reload(drawing)\n",
    "\n",
    "#show an example of a flow rate and a basal within the same subject\n",
    "#patient_id = np.random.choice(['1542', '1550','1286','389'])\n",
    "patient_ids = facm.loc[~facm.DXTRT.isin(['MULTIPLE DAILY INJECTIONS'])].USUBJID.sample(2).values\n",
    "for patient_id in patient_ids:#['1542', '389']:\n",
    "\n",
    "    sub = facm.loc[(facm.USUBJID==patient_id)&(facm.FATEST.notna())].sort_values('FADTC')\n",
    "    start = sub.FADTC.min()+timedelta(days=1)\n",
    "    dur = timedelta(hours=48)\n",
    "    sub = sub.loc[(sub.FADTC>=start)&(sub.FADTC<=start+dur)]\n",
    "\n",
    "    sub_flow_rates = sub.loc[sub.FATEST=='BASAL FLOW RATE']\n",
    "    sub_basals = sub.loc[sub.FATEST=='BASAL INSULIN']\n",
    "    \n",
    "    #draw basal delivery rates\n",
    "    plt.figure(figsize=(20,3)); ax=plt.gca()\n",
    "    drawing.drawAbsoluteBasalRates(ax,sub_flow_rates.FADTC.values, sub_flow_rates.FAORRES.values,label='U/hr',hatch=None)\n",
    "    \n",
    "    #draw individual basal deliveries\n",
    "    twinx = ax.twinx()\n",
    "    drawing.drawBoluses(twinx,sub_basals.FADTC, sub_basals.FAORRES,label='U',width=timedelta(minutes=1))\n",
    "    plt.title(f'Basals rates of {patient_id} from {start} to {start+dur}'); \n",
    "    \n",
    "    # draw Nan deliveries as red xs at zero\n",
    "    nan_flow_rates = sub_flow_rates.loc[sub_flow_rates.FAORRES.isna()]\n",
    "    plt.scatter(nan_flow_rates.FADTC, [0]*len(nan_flow_rates), color='red', marker='v', s=100)\n",
    "    \n",
    "    # Set ylim to current limits but reduce minimum by 0.1\n",
    "    ylim = ax.get_ylim()\n",
    "    ax.set_ylim(ylim[0] - 0.1, ylim[1])"
   ]
  },
  {
   "cell_type": "markdown",
   "metadata": {},
   "source": [
    "Above we saw that the NaN values happen in regions where flow rates are 0. Let's look at a few examples."
   ]
  },
  {
   "cell_type": "code",
   "execution_count": 13,
   "metadata": {},
   "outputs": [
    {
     "data": {
      "text/html": [
       "<div>\n",
       "<style scoped>\n",
       "    .dataframe tbody tr th:only-of-type {\n",
       "        vertical-align: middle;\n",
       "    }\n",
       "\n",
       "    .dataframe tbody tr th {\n",
       "        vertical-align: top;\n",
       "    }\n",
       "\n",
       "    .dataframe thead th {\n",
       "        text-align: right;\n",
       "    }\n",
       "</style>\n",
       "<table border=\"1\" class=\"dataframe\">\n",
       "  <thead>\n",
       "    <tr style=\"text-align: right;\">\n",
       "      <th></th>\n",
       "      <th>USUBJID</th>\n",
       "      <th>FATESTCD</th>\n",
       "      <th>FATEST</th>\n",
       "      <th>FAOBJ</th>\n",
       "      <th>FACAT</th>\n",
       "      <th>FAORRES</th>\n",
       "      <th>FAORRESU</th>\n",
       "      <th>FADTC</th>\n",
       "      <th>FADUR</th>\n",
       "      <th>INSDVSRC</th>\n",
       "      <th>INSSTYPE</th>\n",
       "      <th>INSNMBOL</th>\n",
       "      <th>INSEXBOL</th>\n",
       "      <th>DXTRT</th>\n",
       "      <th>ISMDI</th>\n",
       "    </tr>\n",
       "  </thead>\n",
       "  <tbody>\n",
       "    <tr>\n",
       "      <th>191096</th>\n",
       "      <td>1121</td>\n",
       "      <td>BASFLRT</td>\n",
       "      <td>BASAL FLOW RATE</td>\n",
       "      <td>INSULIN</td>\n",
       "      <td>BASAL</td>\n",
       "      <td>1.25</td>\n",
       "      <td>U/hr</td>\n",
       "      <td>2019-09-14 21:26:11</td>\n",
       "      <td>0 days 00:04:33</td>\n",
       "      <td>NaN</td>\n",
       "      <td>NaN</td>\n",
       "      <td>NaN</td>\n",
       "      <td>NaN</td>\n",
       "      <td>TANDEM T:SLIM X2 WITH BASAL IQ</td>\n",
       "      <td>False</td>\n",
       "    </tr>\n",
       "    <tr>\n",
       "      <th>191097</th>\n",
       "      <td>1121</td>\n",
       "      <td>BASFLRT</td>\n",
       "      <td>BASAL FLOW RATE</td>\n",
       "      <td>INSULIN</td>\n",
       "      <td>BASAL</td>\n",
       "      <td>NaN</td>\n",
       "      <td>U/hr</td>\n",
       "      <td>2019-09-14 21:30:44</td>\n",
       "      <td>0 days 00:30:54</td>\n",
       "      <td>NaN</td>\n",
       "      <td>NaN</td>\n",
       "      <td>NaN</td>\n",
       "      <td>NaN</td>\n",
       "      <td>TANDEM T:SLIM X2 WITH BASAL IQ</td>\n",
       "      <td>False</td>\n",
       "    </tr>\n",
       "    <tr>\n",
       "      <th>191098</th>\n",
       "      <td>1121</td>\n",
       "      <td>BASFLRT</td>\n",
       "      <td>BASAL FLOW RATE</td>\n",
       "      <td>INSULIN</td>\n",
       "      <td>BASAL</td>\n",
       "      <td>1.25</td>\n",
       "      <td>U/hr</td>\n",
       "      <td>2019-09-14 22:01:38</td>\n",
       "      <td>0 days 01:58:22</td>\n",
       "      <td>NaN</td>\n",
       "      <td>NaN</td>\n",
       "      <td>NaN</td>\n",
       "      <td>NaN</td>\n",
       "      <td>TANDEM T:SLIM X2 WITH BASAL IQ</td>\n",
       "      <td>False</td>\n",
       "    </tr>\n",
       "  </tbody>\n",
       "</table>\n",
       "</div>"
      ],
      "text/plain": [
       "       USUBJID FATESTCD           FATEST    FAOBJ  FACAT  FAORRES FAORRESU  \\\n",
       "191096    1121  BASFLRT  BASAL FLOW RATE  INSULIN  BASAL     1.25     U/hr   \n",
       "191097    1121  BASFLRT  BASAL FLOW RATE  INSULIN  BASAL      NaN     U/hr   \n",
       "191098    1121  BASFLRT  BASAL FLOW RATE  INSULIN  BASAL     1.25     U/hr   \n",
       "\n",
       "                     FADTC           FADUR INSDVSRC INSSTYPE  INSNMBOL  \\\n",
       "191096 2019-09-14 21:26:11 0 days 00:04:33      NaN      NaN       NaN   \n",
       "191097 2019-09-14 21:30:44 0 days 00:30:54      NaN      NaN       NaN   \n",
       "191098 2019-09-14 22:01:38 0 days 01:58:22      NaN      NaN       NaN   \n",
       "\n",
       "        INSEXBOL                           DXTRT  ISMDI  \n",
       "191096       NaN  TANDEM T:SLIM X2 WITH BASAL IQ  False  \n",
       "191097       NaN  TANDEM T:SLIM X2 WITH BASAL IQ  False  \n",
       "191098       NaN  TANDEM T:SLIM X2 WITH BASAL IQ  False  "
      ]
     },
     "metadata": {},
     "output_type": "display_data"
    }
   ],
   "source": [
    "#draw examples of rows surrounding nan basal deliveries\n",
    "sample_nan_delivery_rates = facm.loc[(facm.FATEST=='BASAL FLOW RATE') & (facm.FAORRES.isna())].sample(1)\n",
    "\n",
    "for row in sample_nan_delivery_rates.itertuples():\n",
    "    sub = facm.loc[(facm.FATEST=='BASAL FLOW RATE') & (facm.USUBJID == row.USUBJID)].sort_values('FADTC')\n",
    "    #use iloc to make sure we get the temporal neighbors\n",
    "    i_loc = sub.index.get_loc(row.Index)\n",
    "    display(sub.iloc[i_loc-1:i_loc+2])#[['FADTC','FADUR', 'FAORRES']])"
   ]
  },
  {
   "cell_type": "markdown",
   "metadata": {},
   "source": [
    "**Observations:**  \n",
    "- The basal deliveries happen every 5 minutes and module the basal rate (U/hr) (at least in the example above).\n",
    "- The NaN values happen in regions where flow rates are 0 and likely mark temporal suspensions.\n",
    "\n",
    "So, are the delivery rates and individual deliveries equivalent?\n",
    "  - We can check by calculating the sum (using U/hr and duration) and compare it to the sum obtained on all basal values (U)"
   ]
  },
  {
   "cell_type": "markdown",
   "metadata": {},
   "source": [
    "##### Comparing basal flow rate and deliveries sums"
   ]
  },
  {
   "cell_type": "code",
   "execution_count": 14,
   "metadata": {},
   "outputs": [
    {
     "name": "stdout",
     "output_type": "stream",
     "text": [
      "For 100.00% of flow rates (pump only) rows have a duration\n",
      "Total Daily Basal doses are 225440.01U (flow rates) 225465.93U (deliveries)\n",
      "The error is:\n"
     ]
    },
    {
     "data": {
      "text/plain": [
       "mean    -0.002375\n",
       "std      0.007214\n",
       "min     -0.073941\n",
       "max      0.074593\n",
       "sum    -25.922600\n",
       "dtype: float64"
      ]
     },
     "metadata": {},
     "output_type": "display_data"
    }
   ],
   "source": [
    "#compare sums of total basal doses between deliveries and flow rates\n",
    "\n",
    "pump_rows = facm.loc[~facm.ISMDI].copy()\n",
    "pump_rows['day'] = pump_rows.FADTC.dt.date\n",
    "\n",
    "# Check if for all Basal flow rates, there is a duration\n",
    "print(f\"For {100*pump_rows.loc[facm.FATEST=='BASAL FLOW RATE'].FADUR.notna().mean():.2f}% of flow rates (pump only) rows have a duration\")\n",
    "\n",
    "#calculate daily basal delivery as the product of duration and flow rate\n",
    "flow_rates_with_dur = pump_rows.loc[pump_rows.FATEST=='BASAL FLOW RATE'].dropna(subset=['FADUR'])\n",
    "pump_rows['basal_rate'] =  flow_rates_with_dur.FAORRES * flow_rates_with_dur.FADUR.dt.total_seconds()/3600\n",
    "daily_flowrate_sums = pump_rows.groupby(['USUBJID','day'])['basal_rate'].sum(min_count=1)\n",
    "\n",
    "#calculate daily basal delivery as the sum of all deliveries\n",
    "daily_delivery_sums = pump_rows.loc[pump_rows.FATEST=='BASAL INSULIN'].groupby(['USUBJID','day'])['FAORRES'].sum(min_count=1)\n",
    "\n",
    "#compare the daily deliveries\n",
    "print(f'Total Daily Basal doses are {daily_flowrate_sums.sum():.2f}U (flow rates) {daily_delivery_sums.sum():.2f}U (deliveries)')\n",
    "print(f\"The error is:\")\n",
    "display((daily_flowrate_sums-daily_delivery_sums).agg(['mean','std','min','max','sum']))"
   ]
  },
  {
   "cell_type": "code",
   "execution_count": 15,
   "metadata": {},
   "outputs": [
    {
     "data": {
      "text/plain": [
       "1168185"
      ]
     },
     "execution_count": 15,
     "metadata": {},
     "output_type": "execute_result"
    }
   ],
   "source": [
    "#TODO: But do all pumps have flow rates? we need to include missing data! right now we don't check if we have data at all\n",
    "pump_rows['basal_rate'].isna().sum()"
   ]
  },
  {
   "cell_type": "markdown",
   "metadata": {},
   "source": [
    "### ... summary\n",
    "- Basal deliveries and flow rates are equivalent\n",
    "- NaN flow rates likely mark 0 flow rates and should be replaced"
   ]
  },
  {
   "cell_type": "markdown",
   "metadata": {},
   "source": [
    "### BASAL in MDI patients.\n",
    "1. Check: Are BASAL FLOW RATES always zero in MDI? \n",
    "2. Check: Are BASAL in MDI much larger than in Pump?\n",
    "3. Check: all BASAL in MDI injections?"
   ]
  },
  {
   "cell_type": "code",
   "execution_count": 16,
   "metadata": {},
   "outputs": [
    {
     "name": "stdout",
     "output_type": "stream",
     "text": [
      "Which MDI columns contain valid values?\n"
     ]
    },
    {
     "data": {
      "text/html": [
       "<div>\n",
       "<style scoped>\n",
       "    .dataframe tbody tr th:only-of-type {\n",
       "        vertical-align: middle;\n",
       "    }\n",
       "\n",
       "    .dataframe tbody tr th {\n",
       "        vertical-align: top;\n",
       "    }\n",
       "\n",
       "    .dataframe thead tr th {\n",
       "        text-align: left;\n",
       "    }\n",
       "\n",
       "    .dataframe thead tr:last-of-type th {\n",
       "        text-align: right;\n",
       "    }\n",
       "</style>\n",
       "<table border=\"1\" class=\"dataframe\">\n",
       "  <thead>\n",
       "    <tr>\n",
       "      <th></th>\n",
       "      <th></th>\n",
       "      <th>FADTC</th>\n",
       "      <th>FADUR</th>\n",
       "      <th>INSSTYPE</th>\n",
       "      <th>INSNMBOL</th>\n",
       "      <th>INSEXBOL</th>\n",
       "      <th>FAORRES</th>\n",
       "    </tr>\n",
       "    <tr>\n",
       "      <th></th>\n",
       "      <th></th>\n",
       "      <th>count</th>\n",
       "      <th>count</th>\n",
       "      <th>count</th>\n",
       "      <th>count</th>\n",
       "      <th>count</th>\n",
       "      <th>count</th>\n",
       "    </tr>\n",
       "    <tr>\n",
       "      <th>FATEST</th>\n",
       "      <th>FAORRESU</th>\n",
       "      <th></th>\n",
       "      <th></th>\n",
       "      <th></th>\n",
       "      <th></th>\n",
       "      <th></th>\n",
       "      <th></th>\n",
       "    </tr>\n",
       "  </thead>\n",
       "  <tbody>\n",
       "    <tr>\n",
       "      <th>BASAL FLOW RATE</th>\n",
       "      <th>U/hr</th>\n",
       "      <td>2365</td>\n",
       "      <td>0</td>\n",
       "      <td>0</td>\n",
       "      <td>0</td>\n",
       "      <td>0</td>\n",
       "      <td>0</td>\n",
       "    </tr>\n",
       "    <tr>\n",
       "      <th>BASAL INSULIN</th>\n",
       "      <th>U</th>\n",
       "      <td>2365</td>\n",
       "      <td>0</td>\n",
       "      <td>0</td>\n",
       "      <td>0</td>\n",
       "      <td>0</td>\n",
       "      <td>2365</td>\n",
       "    </tr>\n",
       "    <tr>\n",
       "      <th>BOLUS INSULIN</th>\n",
       "      <th>U</th>\n",
       "      <td>9515</td>\n",
       "      <td>0</td>\n",
       "      <td>0</td>\n",
       "      <td>0</td>\n",
       "      <td>0</td>\n",
       "      <td>9515</td>\n",
       "    </tr>\n",
       "  </tbody>\n",
       "</table>\n",
       "</div>"
      ],
      "text/plain": [
       "                         FADTC FADUR INSSTYPE INSNMBOL INSEXBOL FAORRES\n",
       "                         count count    count    count    count   count\n",
       "FATEST          FAORRESU                                               \n",
       "BASAL FLOW RATE U/hr      2365     0        0        0        0       0\n",
       "BASAL INSULIN   U         2365     0        0        0        0    2365\n",
       "BOLUS INSULIN   U         9515     0        0        0        0    9515"
      ]
     },
     "metadata": {},
     "output_type": "display_data"
    },
    {
     "name": "stdout",
     "output_type": "stream",
     "text": [
      "There are 84 MDI patients with flow rates\n",
      " wich are 16.60% of the MDI data\n",
      " from these, 0 are not NaN\n"
     ]
    }
   ],
   "source": [
    "#Where does the data sit in MDI\n",
    "print(\"Which MDI columns contain valid values?\")\n",
    "def isna(x):\n",
    "    return x.isna().sum()\n",
    "r = facm.loc[facm.ISMDI].groupby(['FATEST','FAORRESU'])[['FADTC','FADUR','INSSTYPE','INSNMBOL','INSEXBOL','FAORRES']].agg(['count'])\n",
    "display(r)\n",
    "del r\n",
    "\n",
    "\n",
    "#Check how many BASAL FLOW RATES exists in MDI\n",
    "mdi_with_flow_rates= facm.loc[facm.ISMDI &(facm.FATEST=='BASAL FLOW RATE')]\n",
    "print(f'There are {len(mdi_with_flow_rates.USUBJID.unique())} MDI patients with flow rates')\n",
    "print(f\" wich are {100*len(mdi_with_flow_rates)/len(facm.loc[(facm.DXTRT=='MULTIPLE DAILY INJECTIONS')]):.2f}% of the MDI data\")\n",
    "print(f\" from these, {mdi_with_flow_rates.FAORRES.count()} are not NaN\")\n"
   ]
  },
  {
   "cell_type": "markdown",
   "metadata": {},
   "source": [
    "**Observation**: \n",
    "- All flow rates in MDI are NaN? \n",
    "- It is unclear where these come from\n",
    "- Values in all other insulin relevant columns are also NaN\n",
    "\n",
    "\n",
    "Assumption: We can probably drop the FLOW rates for MDI.\n",
    "\n",
    "\n",
    "Let's check if the total bolus and basal doses match are similar between pump and mdi users "
   ]
  },
  {
   "cell_type": "markdown",
   "metadata": {},
   "source": [
    "#### MDI vs. Pump Doses"
   ]
  },
  {
   "cell_type": "code",
   "execution_count": 17,
   "metadata": {},
   "outputs": [
    {
     "data": {
      "text/plain": [
       "ISMDI  FATEST       \n",
       "False  BASAL INSULIN    20.650845\n",
       "       BOLUS INSULIN    20.226764\n",
       "True   BASAL INSULIN    19.176018\n",
       "       BOLUS INSULIN    18.187278\n",
       "dtype: float64"
      ]
     },
     "metadata": {},
     "output_type": "display_data"
    }
   ],
   "source": [
    "#calculate average total daily bolus and basal dose per group\n",
    "\n",
    "facm['day'] = facm.FADTC.dt.date\n",
    "\n",
    "#sum per FATEST type\n",
    "#remove BASAL FLOW RATES from the dataset assuming that they reflect the same as the sum of BASAL INSULIN deliveries for Pump users (they are Nan for MDI any way)\n",
    "temp = facm.loc[facm.FATEST!='BASAL FLOW RATE']\n",
    "r = temp.groupby(['ISMDI','FATEST','USUBJID','day'])[['FAORRES']].agg('sum')\n",
    "#bolus, basal per day\n",
    "#display(r.sample(3))\n",
    "\n",
    "#sum per day\n",
    "daily_sum = r.sum(axis=1)\n",
    "#display(daily_sum.sample(3))\n",
    "\n",
    "#mean basal/bolus\n",
    "group_mean = daily_sum.groupby(level=[0, 1]).mean()\n",
    "display(group_mean)"
   ]
  },
  {
   "cell_type": "code",
   "execution_count": 18,
   "metadata": {},
   "outputs": [
    {
     "data": {
      "text/plain": [
       "(-1.0, 50.0)"
      ]
     },
     "execution_count": 18,
     "metadata": {},
     "output_type": "execute_result"
    },
    {
     "data": {
      "image/png": "[encoded data removed]",
      "text/plain": [
       "<Figure size 800x200 with 1 Axes>"
      ]
     },
     "metadata": {},
     "output_type": "display_data"
    },
    {
     "data": {
      "image/png": "[encoded data removed]",
      "text/plain": [
       "<Figure size 800x200 with 1 Axes>"
      ]
     },
     "metadata": {},
     "output_type": "display_data"
    }
   ],
   "source": [
    "#let's compare the dose sizes\n",
    "daily_sum_patient = daily_sum.groupby(level=[0,1,2]).mean()\n",
    "plt.figure(figsize=(8,2)); ax=plt.gca()\n",
    "cdf.plot_cdf(facm.loc[(~facm.ISMDI)&(facm.FATEST=='BOLUS INSULIN')].FAORRES,ax=ax,label='Pump',color='red')\n",
    "cdf.plot_cdf(facm.loc[(facm.ISMDI)&(facm.FATEST=='BOLUS INSULIN')].FAORRES,ax=ax,label='MDI',color='blue')\n",
    "\n",
    "ax.legend(); ax.set_title('Boluses MDI vs. Pump')\n",
    "plt.figure(figsize=(8,2)); ax=plt.gca()\n",
    "cdf.plot_cdf(facm.loc[(~facm.ISMDI)&(facm.FATEST=='BASAL INSULIN')].FAORRES,ax=ax,label='Pump',color='red')\n",
    "cdf.plot_cdf(facm.loc[(facm.ISMDI)&(facm.FATEST=='BASAL INSULIN')].FAORRES,ax=ax,label='MDI',color='blue')\n",
    "ax.legend(); ax.set_title('Basals MDI vs. Pump');ax.set_xlim(-1,50)"
   ]
  },
  {
   "cell_type": "markdown",
   "metadata": {},
   "source": [
    "#### ... summary\n",
    "- All BASAL in MDI are of much larger value (indicating injections)"
   ]
  },
  {
   "cell_type": "markdown",
   "metadata": {},
   "source": [
    "#### Bolus Columns\n",
    "\n",
    "We know that insulin boluses can end up in FAORRES but also in INSNMBOL (normal boluses) and INSEXBOL (extended boluses).\n",
    "\n",
    "The expectation is that FAORRES carries the sum of the INMBOL and INSEXBOL.  \n",
    "Can we rely on this or do some boluses not end up in here?"
   ]
  },
  {
   "cell_type": "code",
   "execution_count": 19,
   "metadata": {},
   "outputs": [
    {
     "name": "stdout",
     "output_type": "stream",
     "text": [
      "Number of values with values in more than one of the columns INSEXBOL, INSNMBOL, FAORRES\n",
      "\n",
      "PUMP:\n"
     ]
    },
    {
     "data": {
      "text/plain": [
       "1    29463\n",
       "2    80626\n",
       "3     2633\n",
       "Name: count, dtype: int64"
      ]
     },
     "metadata": {},
     "output_type": "display_data"
    },
    {
     "name": "stdout",
     "output_type": "stream",
     "text": [
      "\n",
      "MDI:\n"
     ]
    },
    {
     "data": {
      "text/plain": [
       "1    29463\n",
       "2    80626\n",
       "3     2633\n",
       "Name: count, dtype: int64"
      ]
     },
     "metadata": {},
     "output_type": "display_data"
    }
   ],
   "source": [
    "#How many of the 3 columns INSEXBOL INSNMBOL FAORRES carry values?\n",
    "print('Number of values with values in more than one of the columns INSEXBOL, INSNMBOL, FAORRES')\n",
    "\n",
    "bolus_rows = facm.loc[(facm.FATEST=='BOLUS INSULIN')]\n",
    "print('\\nPUMP:')\n",
    "display(bolus_rows[['INSEXBOL','INSNMBOL','FAORRES']].notna().sum(axis=1).value_counts().sort_index())\n",
    "\n",
    "print('\\nMDI:')\n",
    "display(bolus_rows[['INSEXBOL','INSNMBOL','FAORRES']].notna().sum(axis=1).value_counts().sort_index())"
   ]
  },
  {
   "cell_type": "markdown",
   "metadata": {},
   "source": [
    "We see that for pump values, we often have only 1 value. So the assumption that FAORRESS is the sum of the other two must be wrong or at least there are exceptions."
   ]
  },
  {
   "cell_type": "code",
   "execution_count": 20,
   "metadata": {},
   "outputs": [
    {
     "name": "stdout",
     "output_type": "stream",
     "text": [
      "26.14% of rows have 1 columns with values\n"
     ]
    },
    {
     "data": {
      "text/plain": [
       "INSEXBOL        0\n",
       "INSNMBOL        0\n",
       "FAORRES     29463\n",
       "dtype: int64"
      ]
     },
     "metadata": {},
     "output_type": "display_data"
    },
    {
     "name": "stdout",
     "output_type": "stream",
     "text": [
      "71.53% of rows have 2 columns with values\n"
     ]
    },
    {
     "data": {
      "text/plain": [
       "INSEXBOL      350\n",
       "INSNMBOL    80276\n",
       "FAORRES     80626\n",
       "dtype: int64"
      ]
     },
     "metadata": {},
     "output_type": "display_data"
    },
    {
     "name": "stdout",
     "output_type": "stream",
     "text": [
      "2.34% of rows have 3 columns with values\n"
     ]
    },
    {
     "data": {
      "text/plain": [
       "INSEXBOL    2633\n",
       "INSNMBOL    2633\n",
       "FAORRES     2633\n",
       "dtype: int64"
      ]
     },
     "metadata": {},
     "output_type": "display_data"
    }
   ],
   "source": [
    "#check for Rows with only 1 value\n",
    "for num_vals in [1,2,3]:\n",
    "    temp = bolus_rows.loc[bolus_rows[['INSEXBOL','INSNMBOL','FAORRES']].notna().sum(axis=1) == num_vals]\n",
    "    print(f'{100*len(temp)/len(bolus_rows):.2f}% of rows have {num_vals} columns with values')\n",
    "    display(temp[['INSEXBOL','INSNMBOL','FAORRES']].count())"
   ]
  },
  {
   "cell_type": "markdown",
   "metadata": {},
   "source": [
    "Let's check if there is a difference in insulin types between these cases"
   ]
  },
  {
   "cell_type": "code",
   "execution_count": 21,
   "metadata": {},
   "outputs": [
    {
     "name": "stdout",
     "output_type": "stream",
     "text": [
      "\n",
      "\n",
      "Rows with 1 columns carrying values: ..\n"
     ]
    },
    {
     "data": {
      "text/plain": [
       "FATEST         INSDVSRC    INSSTYPE                  \n",
       "BOLUS INSULIN  Injections  NaN                            9516\n",
       "               Pump        automatic bolus/correction       26\n",
       "                           combination                      46\n",
       "                           dual (normal part)                1\n",
       "                           dual (square part)                1\n",
       "                           normal                        19799\n",
       "                           square                            1\n",
       "                           standard                         27\n",
       "                           standard/correction              46\n",
       "Name: count, dtype: int64"
      ]
     },
     "metadata": {},
     "output_type": "display_data"
    },
    {
     "name": "stdout",
     "output_type": "stream",
     "text": [
      "\n",
      "\n",
      "Rows with 2 columns carrying values: ..\n"
     ]
    },
    {
     "data": {
      "text/plain": [
       "FATEST         INSDVSRC  INSSTYPE \n",
       "BOLUS INSULIN  Pump      automated     1619\n",
       "                         normal       78657\n",
       "                         square         350\n",
       "Name: count, dtype: int64"
      ]
     },
     "metadata": {},
     "output_type": "display_data"
    },
    {
     "name": "stdout",
     "output_type": "stream",
     "text": [
      "\n",
      "\n",
      "Rows with 3 columns carrying values: ..\n"
     ]
    },
    {
     "data": {
      "text/plain": [
       "FATEST         INSDVSRC  INSSTYPE   \n",
       "BOLUS INSULIN  Pump      combination       2\n",
       "                         dual/square    2631\n",
       "Name: count, dtype: int64"
      ]
     },
     "metadata": {},
     "output_type": "display_data"
    }
   ],
   "source": [
    "#check breakdown of source and insulin types\n",
    "for num_vals in [1,2,3]:\n",
    "    print(f'\\n\\nRows with {num_vals} columns carrying values: ..')\n",
    "    temp = bolus_rows.loc[bolus_rows[['INSEXBOL','INSNMBOL','FAORRES']].notna().sum(axis=1) == num_vals]\n",
    "    #display(temp.FATEST.value_counts())\n",
    "    display(temp.value_counts(['FATEST','INSDVSRC','INSSTYPE'],dropna=False,sort=False))"
   ]
  },
  {
   "cell_type": "markdown",
   "metadata": {},
   "source": [
    "Not clear, now let's check if at least the sums match up."
   ]
  },
  {
   "cell_type": "code",
   "execution_count": 22,
   "metadata": {},
   "outputs": [
    {
     "name": "stdout",
     "output_type": "stream",
     "text": [
      "count    8.325900e+04\n",
      "mean     7.214836e-07\n",
      "std      1.192128e-04\n",
      "min     -4.900000e-04\n",
      "max      5.000000e-04\n",
      "sum      6.007000e-02\n",
      "dtype: float64\n"
     ]
    }
   ],
   "source": [
    "#Let's check if the sums match if there is at least one other value in the other columns\n",
    "temp = bolus_rows.loc[bolus_rows[['INSEXBOL','INSNMBOL','FAORRES']].notna().sum(axis=1) > 1].copy()\n",
    "temp = temp[['INSEXBOL','INSNMBOL','FAORRES']].fillna(0) # this makes sure the sum does not result in NaN if only ISNMBOL or INSEXBOL has a value\n",
    "r = temp.FAORRES - (temp.INSEXBOL+temp.INSNMBOL)\n",
    "print(r.agg(['count','mean','std','min','max','sum']))"
   ]
  },
  {
   "cell_type": "markdown",
   "metadata": {},
   "source": [
    "Yes, they match exactly. \n",
    "Last thought: could the rows that have only values in FAORRES be duplicated reports?"
   ]
  },
  {
   "cell_type": "code",
   "execution_count": 23,
   "metadata": {},
   "outputs": [
    {
     "name": "stdout",
     "output_type": "stream",
     "text": [
      "0 duplicated boluses\n"
     ]
    }
   ],
   "source": [
    "#check if there are any boluses reported multiple times. Since we know that FAORRESS always contians the sum, we need to check for duplicates on that column\n",
    "print(f\"{bolus_rows.duplicated(subset=['USUBJID','FADTC','FAORRES']).sum()} duplicated boluses\")"
   ]
  },
  {
   "cell_type": "code",
   "execution_count": 24,
   "metadata": {},
   "outputs": [
    {
     "data": {
      "text/plain": [
       "FAORRES     29463\n",
       "INSEXBOL        0\n",
       "INSNMBOL        0\n",
       "FADUR           0\n",
       "dtype: int64"
      ]
     },
     "execution_count": 24,
     "metadata": {},
     "output_type": "execute_result"
    }
   ],
   "source": [
    "#check if for those rows with only a value in FAORRES the duration is always NaN\n",
    "temp = bolus_rows.loc[bolus_rows[['INSEXBOL','INSNMBOL']].notna().sum(axis=1) ==0]\n",
    "temp[['FAORRES','INSEXBOL','INSNMBOL','FADUR']].count()"
   ]
  },
  {
   "cell_type": "markdown",
   "metadata": {},
   "source": [
    "### ... summary\n",
    "- faorres always contains a value (total dose)\n",
    "- often these are split into the other two columns INSEXBOL or INSMBOL however not always!\n",
    "-  Many boluses don't end up in the INMBOL and INSEXBOL columns\n",
    "  - then only FAORRES contains a value\n",
    "  - the duration for these boluses is always Nan\n",
    "  - close to 100% are normal boluses (based on instype) \n",
    "    - (only 2 square part and 46 combination whatever those are)\n",
    "- There are no duplicated boluses"
   ]
  },
  {
   "cell_type": "markdown",
   "metadata": {},
   "source": [
    "## Applying learnings so far"
   ]
  },
  {
   "cell_type": "code",
   "execution_count": 25,
   "metadata": {},
   "outputs": [],
   "source": [
    "#drop the 2 duplicated rows\n",
    "facm = facm.loc[~facm.duplicated()]\n",
    "#drop MDI flow rates\n",
    "facm = facm.loc[~ ((facm.FATEST=='BASAL FLOW RATE') & (facm.DXTRT=='MULTIPLE DAILY INJECTIONS'))]\n",
    "#assign FAORRES values to INSNMBOL if there are no values in INSMBOL and INSEXBOL\n",
    "facm.loc[(facm.FATEST=='BOLUS INSULIN') & facm[['INSEXBOL','INSNMBOL']].isna().all(axis=1),'INSMNBL'] = facm.FAORRES"
   ]
  },
  {
   "cell_type": "markdown",
   "metadata": {},
   "source": [
    "## Open Questions to answer\n",
    "Baed on the script analysis, we found more inconsistencies that we need to check before moving forward.\n",
    "\n",
    " - We see that sometimes, FATEST and sometimes FACAT are used to to identify BASAL or BOLUS: \n",
    "  - Are there difference between FATEST and FACAT\n",
    "- We see that there are different rules used between 670G and Tandem vs. 770G to select basal and boluses. \n",
    "  - Are there differences between the pumps and which column conditions to use?\n",
    "- The script removes some patient and date combinations. \n",
    " - Which subjects and dates are being removed and why?\n",
    "- Basal Overlaps: We see that basal overlaps are removed. \n",
    "  - How do they remove basal overlaps? \n",
    "  - Why do these occur at all?\n",
    "  - How often do they occur?\n",
    "- Are there differences between pumps?\n",
    "- How should suspends be treated?\n"
   ]
  },
  {
   "cell_type": "markdown",
   "metadata": {},
   "source": [
    "### FASTEST vs. FACAT?\n",
    "We see that sometimes, FATEST and sometimes FACAT are used to to identify BASAL or BOLUS: \n",
    "  - Are there difference between FATEST and FACAT\n",
    "\n",
    "In the script the cunking procedure filters boluses using FACAT for 670G and Tandem: `(main_df['FACAT'] == 'BOLUS')`\n",
    "In our previous analysis *Inspect Column Hierachy* we've already seen that FACAT and FATEST are perfectly aligned.\n",
    "Let's check again if we would get the same rows:"
   ]
  },
  {
   "cell_type": "code",
   "execution_count": 26,
   "metadata": {},
   "outputs": [
    {
     "name": "stdout",
     "output_type": "stream",
     "text": [
      "FATEST==BOLUS INSULIN is equivalent to FACAT==BOLUS\n"
     ]
    }
   ],
   "source": [
    "#check if FATEST==BOLUS INSULIN is equivalent to FACAT==BOLUS\n",
    "sub1 = facm.loc[facm.FACAT=='BOLUS']\n",
    "sub2 = facm.loc[facm.FATEST=='BOLUS INSULIN']\n",
    "if sub1.equals(sub2):\n",
    "    print('FATEST==BOLUS INSULIN is equivalent to FACAT==BOLUS')\n",
    "else:\n",
    "    print(\"FATEST==BOLUS INSULIN is not equivalent to FACAT==BOLUS\")"
   ]
  },
  {
   "cell_type": "markdown",
   "metadata": {},
   "source": [
    "### ... Summary:\n",
    "\n",
    "FATEST and FACAT are equivalent, use only one"
   ]
  },
  {
   "cell_type": "markdown",
   "metadata": {},
   "source": [
    "### Pump Column Rules?\n",
    "We see that there are different rules used between 670G and Tandem vs. 770G to select basal and boluses. Are there differences between the pumps and which column conditions to use?\n",
    "\n",
    "Example from the netiob script (here code from the cunking method) showing differences in selecting basal based on pump type\n",
    "\n",
    "**Tandem and 670G basal:** ```(main_df['FATEST'] == 'BASAL INSULIN') & (main_df['INSSTYPE'].isin(['scheduled', 'suspend', 'temp', 'automated']))```\n",
    "**770G basal:** ```(main_df['FATEST'] == 'BASAL INSULIN')```"
   ]
  },
  {
   "cell_type": "code",
   "execution_count": 27,
   "metadata": {},
   "outputs": [
    {
     "name": "stdout",
     "output_type": "stream",
     "text": [
      "FATEST==BOLUS INSULIN is not equivalent to FACAT==BOLUS\n",
      "There are 5176 more rows when only looking at BASAL INSULIN\n",
      "The excluded rows amount to 43155.545U or 16.54% of the total basal insulin\n",
      "Some example rows:\n"
     ]
    },
    {
     "data": {
      "text/html": [
       "<div>\n",
       "<style scoped>\n",
       "    .dataframe tbody tr th:only-of-type {\n",
       "        vertical-align: middle;\n",
       "    }\n",
       "\n",
       "    .dataframe tbody tr th {\n",
       "        vertical-align: top;\n",
       "    }\n",
       "\n",
       "    .dataframe thead th {\n",
       "        text-align: right;\n",
       "    }\n",
       "</style>\n",
       "<table border=\"1\" class=\"dataframe\">\n",
       "  <thead>\n",
       "    <tr style=\"text-align: right;\">\n",
       "      <th></th>\n",
       "      <th>USUBJID</th>\n",
       "      <th>FATESTCD</th>\n",
       "      <th>FATEST</th>\n",
       "      <th>FAOBJ</th>\n",
       "      <th>FACAT</th>\n",
       "      <th>FAORRES</th>\n",
       "      <th>FAORRESU</th>\n",
       "      <th>FADTC</th>\n",
       "      <th>FADUR</th>\n",
       "      <th>INSDVSRC</th>\n",
       "      <th>INSSTYPE</th>\n",
       "      <th>INSNMBOL</th>\n",
       "      <th>INSEXBOL</th>\n",
       "      <th>DXTRT</th>\n",
       "      <th>ISMDI</th>\n",
       "      <th>day</th>\n",
       "      <th>INSMNBL</th>\n",
       "    </tr>\n",
       "  </thead>\n",
       "  <tbody>\n",
       "    <tr>\n",
       "      <th>29</th>\n",
       "      <td>1</td>\n",
       "      <td>INSBASAL</td>\n",
       "      <td>BASAL INSULIN</td>\n",
       "      <td>INSULIN</td>\n",
       "      <td>BASAL</td>\n",
       "      <td>28.0</td>\n",
       "      <td>U</td>\n",
       "      <td>2020-05-11 23:12:21</td>\n",
       "      <td>NaT</td>\n",
       "      <td>Injections</td>\n",
       "      <td>NaN</td>\n",
       "      <td>NaN</td>\n",
       "      <td>NaN</td>\n",
       "      <td>MULTIPLE DAILY INJECTIONS</td>\n",
       "      <td>True</td>\n",
       "      <td>2020-05-11</td>\n",
       "      <td>NaN</td>\n",
       "    </tr>\n",
       "    <tr>\n",
       "      <th>30</th>\n",
       "      <td>1</td>\n",
       "      <td>INSBASAL</td>\n",
       "      <td>BASAL INSULIN</td>\n",
       "      <td>INSULIN</td>\n",
       "      <td>BASAL</td>\n",
       "      <td>1.0</td>\n",
       "      <td>U</td>\n",
       "      <td>2020-05-12 07:09:22</td>\n",
       "      <td>NaT</td>\n",
       "      <td>Injections</td>\n",
       "      <td>NaN</td>\n",
       "      <td>NaN</td>\n",
       "      <td>NaN</td>\n",
       "      <td>MULTIPLE DAILY INJECTIONS</td>\n",
       "      <td>True</td>\n",
       "      <td>2020-05-12</td>\n",
       "      <td>NaN</td>\n",
       "    </tr>\n",
       "    <tr>\n",
       "      <th>31</th>\n",
       "      <td>1</td>\n",
       "      <td>INSBASAL</td>\n",
       "      <td>BASAL INSULIN</td>\n",
       "      <td>INSULIN</td>\n",
       "      <td>BASAL</td>\n",
       "      <td>1.0</td>\n",
       "      <td>U</td>\n",
       "      <td>2020-05-13 08:35:47</td>\n",
       "      <td>NaT</td>\n",
       "      <td>Injections</td>\n",
       "      <td>NaN</td>\n",
       "      <td>NaN</td>\n",
       "      <td>NaN</td>\n",
       "      <td>MULTIPLE DAILY INJECTIONS</td>\n",
       "      <td>True</td>\n",
       "      <td>2020-05-13</td>\n",
       "      <td>NaN</td>\n",
       "    </tr>\n",
       "    <tr>\n",
       "      <th>32</th>\n",
       "      <td>1</td>\n",
       "      <td>INSBASAL</td>\n",
       "      <td>BASAL INSULIN</td>\n",
       "      <td>INSULIN</td>\n",
       "      <td>BASAL</td>\n",
       "      <td>1.0</td>\n",
       "      <td>U</td>\n",
       "      <td>2020-05-14 06:50:24</td>\n",
       "      <td>NaT</td>\n",
       "      <td>Injections</td>\n",
       "      <td>NaN</td>\n",
       "      <td>NaN</td>\n",
       "      <td>NaN</td>\n",
       "      <td>MULTIPLE DAILY INJECTIONS</td>\n",
       "      <td>True</td>\n",
       "      <td>2020-05-14</td>\n",
       "      <td>NaN</td>\n",
       "    </tr>\n",
       "  </tbody>\n",
       "</table>\n",
       "</div>"
      ],
      "text/plain": [
       "   USUBJID  FATESTCD         FATEST    FAOBJ  FACAT  FAORRES FAORRESU  \\\n",
       "29       1  INSBASAL  BASAL INSULIN  INSULIN  BASAL     28.0        U   \n",
       "30       1  INSBASAL  BASAL INSULIN  INSULIN  BASAL      1.0        U   \n",
       "31       1  INSBASAL  BASAL INSULIN  INSULIN  BASAL      1.0        U   \n",
       "32       1  INSBASAL  BASAL INSULIN  INSULIN  BASAL      1.0        U   \n",
       "\n",
       "                 FADTC FADUR    INSDVSRC INSSTYPE  INSNMBOL  INSEXBOL  \\\n",
       "29 2020-05-11 23:12:21   NaT  Injections      NaN       NaN       NaN   \n",
       "30 2020-05-12 07:09:22   NaT  Injections      NaN       NaN       NaN   \n",
       "31 2020-05-13 08:35:47   NaT  Injections      NaN       NaN       NaN   \n",
       "32 2020-05-14 06:50:24   NaT  Injections      NaN       NaN       NaN   \n",
       "\n",
       "                        DXTRT  ISMDI         day  INSMNBL  \n",
       "29  MULTIPLE DAILY INJECTIONS   True  2020-05-11      NaN  \n",
       "30  MULTIPLE DAILY INJECTIONS   True  2020-05-12      NaN  \n",
       "31  MULTIPLE DAILY INJECTIONS   True  2020-05-13      NaN  \n",
       "32  MULTIPLE DAILY INJECTIONS   True  2020-05-14      NaN  "
      ]
     },
     "metadata": {},
     "output_type": "display_data"
    },
    {
     "name": "stdout",
     "output_type": "stream",
     "text": [
      "INSSTYPEs: \n"
     ]
    },
    {
     "data": {
      "text/plain": [
       "INSSTYPE\n",
       "NaN         5176\n",
       "Name: count, dtype: int64"
      ]
     },
     "metadata": {},
     "output_type": "display_data"
    },
    {
     "name": "stdout",
     "output_type": "stream",
     "text": [
      "Sum of \"missed\" basal insulin by device\n"
     ]
    },
    {
     "data": {
      "text/plain": [
       "DXTRT\n",
       "MULTIPLE DAILY INJECTIONS                    35398.930\n",
       "INSULET OMNIPOD INSULIN MANAGEMENT SYSTEM     3540.258\n",
       "MEDTRONIC 770G IN AUTO MODE                   1532.443\n",
       "MEDTRONIC 670G IN MANUAL MODE                 1219.853\n",
       "MEDTRONIC 770G                                 926.055\n",
       "MEDTRONIC 670G IN AUTO MODE                    467.797\n",
       "TANDEM T:SLIM X2 WITH BASAL IQ                  70.209\n",
       "Name: FAORRES, dtype: float64"
      ]
     },
     "execution_count": 27,
     "metadata": {},
     "output_type": "execute_result"
    }
   ],
   "source": [
    "#check if FATEST==BASAL INSULIN gives the same rows as FATEST==BASAL INSULIN & main_df['INSSTYPE'].isin(['scheduled', 'suspend', 'temp', 'automated'])\n",
    "sub1 = facm.loc[(facm.FATEST=='BASAL INSULIN')]\n",
    "sub2 = facm.loc[(facm.FATEST=='BASAL INSULIN') & (facm.INSSTYPE.isin(['scheduled', 'suspend', 'temp', 'automated']))]\n",
    "excluded = sub1.loc[~sub1.index.isin(sub2.index)]\n",
    "\n",
    "if sub1.equals(sub2):\n",
    "    print('FATEST==BOLUS INSULIN is equivalent to FACAT==BOLUS')\n",
    "else:\n",
    "    print(\"FATEST==BOLUS INSULIN is not equivalent to FACAT==BOLUS\")\n",
    "\n",
    "print(f\"There are {len(excluded)} more rows when only looking at BASAL INSULIN\")\n",
    "print(f'The excluded rows amount to {excluded.FAORRES.sum()}U or {excluded.FAORRES.sum()/sub1.FAORRES.sum()*100:.2f}% of the total basal insulin')\n",
    "\n",
    "#examples\n",
    "print(\"Some example rows:\")\n",
    "display(excluded.head(4))\n",
    "\n",
    "#INSTYPE value counts\n",
    "print('INSSTYPEs: ')\n",
    "display(excluded.value_counts(subset=['INSSTYPE'],dropna=False))\n",
    "\n",
    "#basal dose sum by device\n",
    "print('Sum of \"missed\" basal insulin by device')\n",
    "excluded.groupby(['DXTRT'])['FAORRES'].sum().sort_values(ascending=False)"
   ]
  },
  {
   "cell_type": "code",
   "execution_count": 28,
   "metadata": {},
   "outputs": [
    {
     "data": {
      "text/html": [
       "<div>\n",
       "<style scoped>\n",
       "    .dataframe tbody tr th:only-of-type {\n",
       "        vertical-align: middle;\n",
       "    }\n",
       "\n",
       "    .dataframe tbody tr th {\n",
       "        vertical-align: top;\n",
       "    }\n",
       "\n",
       "    .dataframe thead th {\n",
       "        text-align: right;\n",
       "    }\n",
       "</style>\n",
       "<table border=\"1\" class=\"dataframe\">\n",
       "  <thead>\n",
       "    <tr style=\"text-align: right;\">\n",
       "      <th></th>\n",
       "      <th>USUBJID</th>\n",
       "      <th>FATESTCD</th>\n",
       "      <th>FATEST</th>\n",
       "      <th>FAOBJ</th>\n",
       "      <th>FACAT</th>\n",
       "      <th>FAORRES</th>\n",
       "      <th>FAORRESU</th>\n",
       "      <th>FADTC</th>\n",
       "      <th>FADUR</th>\n",
       "      <th>INSDVSRC</th>\n",
       "      <th>INSSTYPE</th>\n",
       "      <th>INSNMBOL</th>\n",
       "      <th>INSEXBOL</th>\n",
       "      <th>DXTRT</th>\n",
       "      <th>ISMDI</th>\n",
       "      <th>day</th>\n",
       "      <th>INSMNBL</th>\n",
       "    </tr>\n",
       "  </thead>\n",
       "  <tbody>\n",
       "    <tr>\n",
       "      <th>2053046</th>\n",
       "      <td>856</td>\n",
       "      <td>INSBASAL</td>\n",
       "      <td>BASAL INSULIN</td>\n",
       "      <td>INSULIN</td>\n",
       "      <td>BASAL</td>\n",
       "      <td>2.45</td>\n",
       "      <td>U</td>\n",
       "      <td>2020-12-30 18:30:00</td>\n",
       "      <td>0 days 03:30:00</td>\n",
       "      <td>Pump</td>\n",
       "      <td>NaN</td>\n",
       "      <td>NaN</td>\n",
       "      <td>NaN</td>\n",
       "      <td>MEDTRONIC 770G</td>\n",
       "      <td>False</td>\n",
       "      <td>2020-12-30</td>\n",
       "      <td>NaN</td>\n",
       "    </tr>\n",
       "  </tbody>\n",
       "</table>\n",
       "</div>"
      ],
      "text/plain": [
       "        USUBJID  FATESTCD         FATEST    FAOBJ  FACAT  FAORRES FAORRESU  \\\n",
       "2053046     856  INSBASAL  BASAL INSULIN  INSULIN  BASAL     2.45        U   \n",
       "\n",
       "                      FADTC           FADUR INSDVSRC INSSTYPE  INSNMBOL  \\\n",
       "2053046 2020-12-30 18:30:00 0 days 03:30:00     Pump      NaN       NaN   \n",
       "\n",
       "         INSEXBOL           DXTRT  ISMDI         day  INSMNBL  \n",
       "2053046       NaN  MEDTRONIC 770G  False  2020-12-30      NaN  "
      ]
     },
     "metadata": {},
     "output_type": "display_data"
    },
    {
     "data": {
      "text/html": [
       "<div>\n",
       "<style scoped>\n",
       "    .dataframe tbody tr th:only-of-type {\n",
       "        vertical-align: middle;\n",
       "    }\n",
       "\n",
       "    .dataframe tbody tr th {\n",
       "        vertical-align: top;\n",
       "    }\n",
       "\n",
       "    .dataframe thead th {\n",
       "        text-align: right;\n",
       "    }\n",
       "</style>\n",
       "<table border=\"1\" class=\"dataframe\">\n",
       "  <thead>\n",
       "    <tr style=\"text-align: right;\">\n",
       "      <th></th>\n",
       "      <th>USUBJID</th>\n",
       "      <th>FATESTCD</th>\n",
       "      <th>FATEST</th>\n",
       "      <th>FAOBJ</th>\n",
       "      <th>FACAT</th>\n",
       "      <th>FAORRES</th>\n",
       "      <th>FAORRESU</th>\n",
       "      <th>FADTC</th>\n",
       "      <th>FADUR</th>\n",
       "      <th>INSDVSRC</th>\n",
       "      <th>INSSTYPE</th>\n",
       "      <th>INSNMBOL</th>\n",
       "      <th>INSEXBOL</th>\n",
       "      <th>DXTRT</th>\n",
       "      <th>ISMDI</th>\n",
       "      <th>day</th>\n",
       "      <th>INSMNBL</th>\n",
       "    </tr>\n",
       "  </thead>\n",
       "  <tbody>\n",
       "    <tr>\n",
       "      <th>2053044</th>\n",
       "      <td>856</td>\n",
       "      <td>INSBASAL</td>\n",
       "      <td>BASAL INSULIN</td>\n",
       "      <td>INSULIN</td>\n",
       "      <td>BASAL</td>\n",
       "      <td>0.575</td>\n",
       "      <td>U</td>\n",
       "      <td>2020-12-30 16:00:00</td>\n",
       "      <td>0 days 02:30:00</td>\n",
       "      <td>Pump</td>\n",
       "      <td>NaN</td>\n",
       "      <td>NaN</td>\n",
       "      <td>NaN</td>\n",
       "      <td>MEDTRONIC 770G</td>\n",
       "      <td>False</td>\n",
       "      <td>2020-12-30</td>\n",
       "      <td>NaN</td>\n",
       "    </tr>\n",
       "    <tr>\n",
       "      <th>2053045</th>\n",
       "      <td>856</td>\n",
       "      <td>INSBASAL</td>\n",
       "      <td>BASAL INSULIN</td>\n",
       "      <td>INSULIN</td>\n",
       "      <td>BASAL</td>\n",
       "      <td>0.000</td>\n",
       "      <td>U</td>\n",
       "      <td>2020-12-30 18:30:00</td>\n",
       "      <td>0 days 00:00:00</td>\n",
       "      <td>Pump</td>\n",
       "      <td>NaN</td>\n",
       "      <td>NaN</td>\n",
       "      <td>NaN</td>\n",
       "      <td>MEDTRONIC 770G</td>\n",
       "      <td>False</td>\n",
       "      <td>2020-12-30</td>\n",
       "      <td>NaN</td>\n",
       "    </tr>\n",
       "    <tr>\n",
       "      <th>2053046</th>\n",
       "      <td>856</td>\n",
       "      <td>INSBASAL</td>\n",
       "      <td>BASAL INSULIN</td>\n",
       "      <td>INSULIN</td>\n",
       "      <td>BASAL</td>\n",
       "      <td>2.450</td>\n",
       "      <td>U</td>\n",
       "      <td>2020-12-30 18:30:00</td>\n",
       "      <td>0 days 03:30:00</td>\n",
       "      <td>Pump</td>\n",
       "      <td>NaN</td>\n",
       "      <td>NaN</td>\n",
       "      <td>NaN</td>\n",
       "      <td>MEDTRONIC 770G</td>\n",
       "      <td>False</td>\n",
       "      <td>2020-12-30</td>\n",
       "      <td>NaN</td>\n",
       "    </tr>\n",
       "    <tr>\n",
       "      <th>2053047</th>\n",
       "      <td>856</td>\n",
       "      <td>INSBASAL</td>\n",
       "      <td>BASAL INSULIN</td>\n",
       "      <td>INSULIN</td>\n",
       "      <td>BASAL</td>\n",
       "      <td>0.000</td>\n",
       "      <td>U</td>\n",
       "      <td>2020-12-30 22:00:00</td>\n",
       "      <td>0 days 00:00:00</td>\n",
       "      <td>Pump</td>\n",
       "      <td>NaN</td>\n",
       "      <td>NaN</td>\n",
       "      <td>NaN</td>\n",
       "      <td>MEDTRONIC 770G</td>\n",
       "      <td>False</td>\n",
       "      <td>2020-12-30</td>\n",
       "      <td>NaN</td>\n",
       "    </tr>\n",
       "    <tr>\n",
       "      <th>2053048</th>\n",
       "      <td>856</td>\n",
       "      <td>INSBASAL</td>\n",
       "      <td>BASAL INSULIN</td>\n",
       "      <td>INSULIN</td>\n",
       "      <td>BASAL</td>\n",
       "      <td>1.260</td>\n",
       "      <td>U</td>\n",
       "      <td>2020-12-30 22:00:00</td>\n",
       "      <td>0 days 02:00:00</td>\n",
       "      <td>Pump</td>\n",
       "      <td>NaN</td>\n",
       "      <td>NaN</td>\n",
       "      <td>NaN</td>\n",
       "      <td>MEDTRONIC 770G</td>\n",
       "      <td>False</td>\n",
       "      <td>2020-12-30</td>\n",
       "      <td>NaN</td>\n",
       "    </tr>\n",
       "  </tbody>\n",
       "</table>\n",
       "</div>"
      ],
      "text/plain": [
       "        USUBJID  FATESTCD         FATEST    FAOBJ  FACAT  FAORRES FAORRESU  \\\n",
       "2053044     856  INSBASAL  BASAL INSULIN  INSULIN  BASAL    0.575        U   \n",
       "2053045     856  INSBASAL  BASAL INSULIN  INSULIN  BASAL    0.000        U   \n",
       "2053046     856  INSBASAL  BASAL INSULIN  INSULIN  BASAL    2.450        U   \n",
       "2053047     856  INSBASAL  BASAL INSULIN  INSULIN  BASAL    0.000        U   \n",
       "2053048     856  INSBASAL  BASAL INSULIN  INSULIN  BASAL    1.260        U   \n",
       "\n",
       "                      FADTC           FADUR INSDVSRC INSSTYPE  INSNMBOL  \\\n",
       "2053044 2020-12-30 16:00:00 0 days 02:30:00     Pump      NaN       NaN   \n",
       "2053045 2020-12-30 18:30:00 0 days 00:00:00     Pump      NaN       NaN   \n",
       "2053046 2020-12-30 18:30:00 0 days 03:30:00     Pump      NaN       NaN   \n",
       "2053047 2020-12-30 22:00:00 0 days 00:00:00     Pump      NaN       NaN   \n",
       "2053048 2020-12-30 22:00:00 0 days 02:00:00     Pump      NaN       NaN   \n",
       "\n",
       "         INSEXBOL           DXTRT  ISMDI         day  INSMNBL  \n",
       "2053044       NaN  MEDTRONIC 770G  False  2020-12-30      NaN  \n",
       "2053045       NaN  MEDTRONIC 770G  False  2020-12-30      NaN  \n",
       "2053046       NaN  MEDTRONIC 770G  False  2020-12-30      NaN  \n",
       "2053047       NaN  MEDTRONIC 770G  False  2020-12-30      NaN  \n",
       "2053048       NaN  MEDTRONIC 770G  False  2020-12-30      NaN  "
      ]
     },
     "execution_count": 28,
     "metadata": {},
     "output_type": "execute_result"
    }
   ],
   "source": [
    "#show surrounding rows of NaN insulin type basal\n",
    "#this analysis assumes sorted by user and time\n",
    "#facm = facm.sort_values(['USUBJID','FADTC'])\n",
    "sample = excluded.sample(1)\n",
    "display(sample)\n",
    "iloc = facm.index.get_loc(sample.index[0])\n",
    "facm.iloc[iloc-2:iloc+3]"
   ]
  },
  {
   "cell_type": "code",
   "execution_count": 29,
   "metadata": {},
   "outputs": [
    {
     "data": {
      "text/plain": [
       "(-1.0, 50.0)"
      ]
     },
     "execution_count": 29,
     "metadata": {},
     "output_type": "execute_result"
    },
    {
     "data": {
      "image/png": "[encoded data removed]",
      "text/plain": [
       "<Figure size 800x200 with 1 Axes>"
      ]
     },
     "metadata": {},
     "output_type": "display_data"
    }
   ],
   "source": [
    "#compare distriubtion of basal insulin with and without insulin type\n",
    "plt.figure(figsize=(8,2)); ax=plt.gca()\n",
    "cdf.plot_cdf(excluded.FAORRES,ax=ax,label='NaN Insulin Type',color='red')\n",
    "cdf.plot_cdf(sub2.FAORRES,ax=ax,label='with Insulin Type',color='blue')\n",
    "plt.title('Basal Insulin'); plt.legend();plt.xlim(-1,50)"
   ]
  },
  {
   "cell_type": "markdown",
   "metadata": {},
   "source": [
    "### ... Summary:\n",
    " - There are rows with INSTYPE == NaN which would have been excludede in the netiob script.\n",
    " - >16% of all basal insulin would have been missed\n",
    " - Of those, most are MDI\n",
    " - The distribution confirms that these are mostly bigger mdi injections\n",
    " - The examples don't give reason to believe that they should be excluded (e.g. no duplicates)\n",
    "\n",
    " Conclusion: It appears that NaN Insulin Types should be includede (no filtering based on insulin type)"
   ]
  },
  {
   "cell_type": "markdown",
   "metadata": {},
   "source": [
    "### Basal Overlaps\n",
    "4. Basal Overlaps: We see that basal overlaps are removed. \n",
    "  - How do they remove basal overlaps? \n",
    "  - Why do these occur at all?\n",
    "  - How often do they occur?"
   ]
  },
  {
   "cell_type": "code",
   "execution_count": 31,
   "metadata": {},
   "outputs": [
    {
     "name": "stdout",
     "output_type": "stream",
     "text": [
      "721 overlapping basal flow rates\n",
      "0.07% the next flow rate starts before the previous ends\n"
     ]
    },
    {
     "data": {
      "text/plain": [
       "DXTRT\n",
       "INSULET OMNIPOD INSULIN MANAGEMENT SYSTEM    340\n",
       "TANDEM T:SLIM X2 WITH CONTROL IQ             264\n",
       "MEDTRONIC 670G IN AUTO MODE                   87\n",
       "MEDTRONIC 670G IN MANUAL MODE                 19\n",
       "TANDEM T:SLIM X2 WITH BASAL IQ                 8\n",
       "MEDTRONIC PARADIGM 723 (REVEL)                 2\n",
       "MEDTRONIC 630G                                 1\n",
       "Name: count, dtype: int64"
      ]
     },
     "execution_count": 31,
     "metadata": {},
     "output_type": "execute_result"
    }
   ],
   "source": [
    "#identify overlapping basal flow rates (here, we check only if one of the two next rows overlap)\n",
    "\n",
    "def overlaps(df):\n",
    "    assert df.FADTC.is_monotonic_increasing\n",
    "    end = df.FADTC + df.FADUR  \n",
    "    next = df.FADTC.shift(-1)\n",
    "    overlap = (next < end) & (next >= df.FADTC)\n",
    "    return overlap\n",
    "\n",
    "flow_rows = facm.loc[facm.FATEST=='BASAL FLOW RATE'].copy()\n",
    "flow_rows['overlaps'] = flow_rows.groupby('USUBJID').apply(overlaps, include_groups=False).droplevel(0)\n",
    "flow_rows['END'] = flow_rows.FADTC + flow_rows.FADUR\n",
    "\n",
    "print(f'{flow_rows.overlaps.sum()} overlapping basal flow rates')\n",
    "#how often does it happen?\n",
    "print(f'{flow_rows.overlaps.mean()*100:.2f}% the next flow rate starts before the previous ends')\n",
    "#which pumps are affected?\n",
    "flow_rows.loc[flow_rows.overlaps].DXTRT.value_counts()"
   ]
  },
  {
   "cell_type": "code",
   "execution_count": 32,
   "metadata": {},
   "outputs": [
    {
     "data": {
      "text/html": [
       "<div>\n",
       "<style scoped>\n",
       "    .dataframe tbody tr th:only-of-type {\n",
       "        vertical-align: middle;\n",
       "    }\n",
       "\n",
       "    .dataframe tbody tr th {\n",
       "        vertical-align: top;\n",
       "    }\n",
       "\n",
       "    .dataframe thead th {\n",
       "        text-align: right;\n",
       "    }\n",
       "</style>\n",
       "<table border=\"1\" class=\"dataframe\">\n",
       "  <thead>\n",
       "    <tr style=\"text-align: right;\">\n",
       "      <th></th>\n",
       "      <th>USUBJID</th>\n",
       "      <th>FATEST</th>\n",
       "      <th>FAORRES</th>\n",
       "      <th>FADTC</th>\n",
       "      <th>END</th>\n",
       "      <th>DXTRT</th>\n",
       "    </tr>\n",
       "  </thead>\n",
       "  <tbody>\n",
       "    <tr>\n",
       "      <th>1996821</th>\n",
       "      <td>830</td>\n",
       "      <td>BASAL FLOW RATE</td>\n",
       "      <td>1.000</td>\n",
       "      <td>2019-10-08 11:04:36</td>\n",
       "      <td>2019-10-08 13:04:59</td>\n",
       "      <td>TANDEM T:SLIM X2 WITH CONTROL IQ</td>\n",
       "    </tr>\n",
       "    <tr>\n",
       "      <th>1996822</th>\n",
       "      <td>830</td>\n",
       "      <td>BASAL FLOW RATE</td>\n",
       "      <td>1.000</td>\n",
       "      <td>2019-10-08 11:04:46</td>\n",
       "      <td>2019-10-08 12:04:40</td>\n",
       "      <td>TANDEM T:SLIM X2 WITH CONTROL IQ</td>\n",
       "    </tr>\n",
       "    <tr>\n",
       "      <th>1996823</th>\n",
       "      <td>830</td>\n",
       "      <td>BASAL FLOW RATE</td>\n",
       "      <td>0.886</td>\n",
       "      <td>2019-10-08 12:04:40</td>\n",
       "      <td>2019-10-08 12:09:39</td>\n",
       "      <td>TANDEM T:SLIM X2 WITH CONTROL IQ</td>\n",
       "    </tr>\n",
       "  </tbody>\n",
       "</table>\n",
       "</div>"
      ],
      "text/plain": [
       "        USUBJID           FATEST  FAORRES               FADTC  \\\n",
       "1996821     830  BASAL FLOW RATE    1.000 2019-10-08 11:04:36   \n",
       "1996822     830  BASAL FLOW RATE    1.000 2019-10-08 11:04:46   \n",
       "1996823     830  BASAL FLOW RATE    0.886 2019-10-08 12:04:40   \n",
       "\n",
       "                        END                             DXTRT  \n",
       "1996821 2019-10-08 13:04:59  TANDEM T:SLIM X2 WITH CONTROL IQ  \n",
       "1996822 2019-10-08 12:04:40  TANDEM T:SLIM X2 WITH CONTROL IQ  \n",
       "1996823 2019-10-08 12:09:39  TANDEM T:SLIM X2 WITH CONTROL IQ  "
      ]
     },
     "metadata": {},
     "output_type": "display_data"
    }
   ],
   "source": [
    "#show examples\n",
    "def display_neighboring_rows_of_row(df, row,iprev,inext):\n",
    "    iloc = df.index.get_loc(row.Index)\n",
    "    display(df.iloc[iloc-iprev:iloc+inext+1])\n",
    "\n",
    "sample = flow_rows.loc[flow_rows.overlaps].sample(1)\n",
    "\n",
    "for row in sample.itertuples():\n",
    "    display_neighboring_rows_of_row(flow_rows[['USUBJID','FATEST','FAORRES','FADTC','END','DXTRT']], row, 0,2)"
   ]
  },
  {
   "cell_type": "code",
   "execution_count": 33,
   "metadata": {},
   "outputs": [
    {
     "data": {
      "text/html": [
       "<div>\n",
       "<style scoped>\n",
       "    .dataframe tbody tr th:only-of-type {\n",
       "        vertical-align: middle;\n",
       "    }\n",
       "\n",
       "    .dataframe tbody tr th {\n",
       "        vertical-align: top;\n",
       "    }\n",
       "\n",
       "    .dataframe thead th {\n",
       "        text-align: right;\n",
       "    }\n",
       "</style>\n",
       "<table border=\"1\" class=\"dataframe\">\n",
       "  <thead>\n",
       "    <tr style=\"text-align: right;\">\n",
       "      <th></th>\n",
       "      <th>USUBJID</th>\n",
       "      <th>FATESTCD</th>\n",
       "      <th>FATEST</th>\n",
       "      <th>FAOBJ</th>\n",
       "      <th>FACAT</th>\n",
       "      <th>FAORRES</th>\n",
       "      <th>FAORRESU</th>\n",
       "      <th>FADTC</th>\n",
       "      <th>FADUR</th>\n",
       "      <th>INSDVSRC</th>\n",
       "      <th>INSSTYPE</th>\n",
       "      <th>INSNMBOL</th>\n",
       "      <th>INSEXBOL</th>\n",
       "      <th>DXTRT</th>\n",
       "      <th>ISMDI</th>\n",
       "      <th>day</th>\n",
       "      <th>INSMNBL</th>\n",
       "    </tr>\n",
       "  </thead>\n",
       "  <tbody>\n",
       "    <tr>\n",
       "      <th>1108780</th>\n",
       "      <td>1722</td>\n",
       "      <td>BASFLRT</td>\n",
       "      <td>BASAL FLOW RATE</td>\n",
       "      <td>INSULIN</td>\n",
       "      <td>BASAL</td>\n",
       "      <td>1.100</td>\n",
       "      <td>U/hr</td>\n",
       "      <td>2020-10-01 05:02:57</td>\n",
       "      <td>0 days 10:00:00</td>\n",
       "      <td>NaN</td>\n",
       "      <td>NaN</td>\n",
       "      <td>NaN</td>\n",
       "      <td>NaN</td>\n",
       "      <td>INSULET OMNIPOD INSULIN MANAGEMENT SYSTEM</td>\n",
       "      <td>False</td>\n",
       "      <td>2020-10-01</td>\n",
       "      <td>NaN</td>\n",
       "    </tr>\n",
       "    <tr>\n",
       "      <th>1109023</th>\n",
       "      <td>1722</td>\n",
       "      <td>INSBASAL</td>\n",
       "      <td>BASAL INSULIN</td>\n",
       "      <td>INSULIN</td>\n",
       "      <td>BASAL</td>\n",
       "      <td>11.000</td>\n",
       "      <td>U</td>\n",
       "      <td>2020-10-01 05:02:57</td>\n",
       "      <td>0 days 10:00:00</td>\n",
       "      <td>Pump</td>\n",
       "      <td>scheduled</td>\n",
       "      <td>NaN</td>\n",
       "      <td>NaN</td>\n",
       "      <td>INSULET OMNIPOD INSULIN MANAGEMENT SYSTEM</td>\n",
       "      <td>False</td>\n",
       "      <td>2020-10-01</td>\n",
       "      <td>NaN</td>\n",
       "    </tr>\n",
       "    <tr>\n",
       "      <th>1108781</th>\n",
       "      <td>1722</td>\n",
       "      <td>BASFLRT</td>\n",
       "      <td>BASAL FLOW RATE</td>\n",
       "      <td>INSULIN</td>\n",
       "      <td>BASAL</td>\n",
       "      <td>1.000</td>\n",
       "      <td>U/hr</td>\n",
       "      <td>2020-10-01 15:00:00</td>\n",
       "      <td>0 days 01:45:32</td>\n",
       "      <td>NaN</td>\n",
       "      <td>NaN</td>\n",
       "      <td>NaN</td>\n",
       "      <td>NaN</td>\n",
       "      <td>INSULET OMNIPOD INSULIN MANAGEMENT SYSTEM</td>\n",
       "      <td>False</td>\n",
       "      <td>2020-10-01</td>\n",
       "      <td>NaN</td>\n",
       "    </tr>\n",
       "    <tr>\n",
       "      <th>1109024</th>\n",
       "      <td>1722</td>\n",
       "      <td>INSBASAL</td>\n",
       "      <td>BASAL INSULIN</td>\n",
       "      <td>INSULIN</td>\n",
       "      <td>BASAL</td>\n",
       "      <td>1.759</td>\n",
       "      <td>U</td>\n",
       "      <td>2020-10-01 15:00:00</td>\n",
       "      <td>0 days 01:45:32</td>\n",
       "      <td>Pump</td>\n",
       "      <td>scheduled</td>\n",
       "      <td>NaN</td>\n",
       "      <td>NaN</td>\n",
       "      <td>INSULET OMNIPOD INSULIN MANAGEMENT SYSTEM</td>\n",
       "      <td>False</td>\n",
       "      <td>2020-10-01</td>\n",
       "      <td>NaN</td>\n",
       "    </tr>\n",
       "  </tbody>\n",
       "</table>\n",
       "</div>"
      ],
      "text/plain": [
       "        USUBJID  FATESTCD           FATEST    FAOBJ  FACAT  FAORRES FAORRESU  \\\n",
       "1108780    1722   BASFLRT  BASAL FLOW RATE  INSULIN  BASAL    1.100     U/hr   \n",
       "1109023    1722  INSBASAL    BASAL INSULIN  INSULIN  BASAL   11.000        U   \n",
       "1108781    1722   BASFLRT  BASAL FLOW RATE  INSULIN  BASAL    1.000     U/hr   \n",
       "1109024    1722  INSBASAL    BASAL INSULIN  INSULIN  BASAL    1.759        U   \n",
       "\n",
       "                      FADTC           FADUR INSDVSRC   INSSTYPE  INSNMBOL  \\\n",
       "1108780 2020-10-01 05:02:57 0 days 10:00:00      NaN        NaN       NaN   \n",
       "1109023 2020-10-01 05:02:57 0 days 10:00:00     Pump  scheduled       NaN   \n",
       "1108781 2020-10-01 15:00:00 0 days 01:45:32      NaN        NaN       NaN   \n",
       "1109024 2020-10-01 15:00:00 0 days 01:45:32     Pump  scheduled       NaN   \n",
       "\n",
       "         INSEXBOL                                      DXTRT  ISMDI  \\\n",
       "1108780       NaN  INSULET OMNIPOD INSULIN MANAGEMENT SYSTEM  False   \n",
       "1109023       NaN  INSULET OMNIPOD INSULIN MANAGEMENT SYSTEM  False   \n",
       "1108781       NaN  INSULET OMNIPOD INSULIN MANAGEMENT SYSTEM  False   \n",
       "1109024       NaN  INSULET OMNIPOD INSULIN MANAGEMENT SYSTEM  False   \n",
       "\n",
       "                day  INSMNBL  \n",
       "1108780  2020-10-01      NaN  \n",
       "1109023  2020-10-01      NaN  \n",
       "1108781  2020-10-01      NaN  \n",
       "1109024  2020-10-01      NaN  "
      ]
     },
     "execution_count": 33,
     "metadata": {},
     "output_type": "execute_result"
    }
   ],
   "source": [
    "#Example for a patient with Omnipod and overlapping basal flow rates\n",
    "#Here we see that relying on the BASAL INSULIN would be wrong because the duration is not correct\n",
    "#instead, we need to take the flow rate and modify the duration until the next flow rate starts\n",
    "facm.loc[(facm.USUBJID=='1722') & (facm.FADTC.dt.date == datetime(2020, 10, 1).date()) & (facm.FACAT=='BASAL')].sort_values('FADTC').iloc[8:12]"
   ]
  },
  {
   "cell_type": "markdown",
   "metadata": {},
   "source": [
    "### ... summary\n",
    "Basal overlaps happen extremely rarely. \n",
    "Why that is we don't know.\n",
    "In 0.07% of the cases, the next basal rate starts before the duration expires.\n",
    "Assuming that this is true (next basal rate replaces the previous one), we should recalculate the duration. However, we don't use the method from the netiob script which is overly complicated."
   ]
  },
  {
   "cell_type": "markdown",
   "metadata": {},
   "source": [
    "### Consistency between pumps\n",
    " - In 770G, the Basal (FACAT == Basal) duration (FADUR) is calculated as if it is missing.\n",
    " - Medtronic pumps have pump suspends, are these events factored in or need speacial treatment?\n"
   ]
  },
  {
   "cell_type": "code",
   "execution_count": 34,
   "metadata": {},
   "outputs": [],
   "source": [
    "pump_rows = facm.loc[~facm.ISMDI].copy()"
   ]
  },
  {
   "cell_type": "code",
   "execution_count": 35,
   "metadata": {},
   "outputs": [
    {
     "data": {
      "text/plain": [
       "DXTRT\n",
       "INSULET OMNIPOD DASH                           1\n",
       "MEDTRONIC PARADIGM 523 (REVEL)                 1\n",
       "MEDTRONIC PARADIGM 522                         1\n",
       "MEDTRONIC 640G                                 1\n",
       "MEDTRONIC 770G IN AUTO MODE                    2\n",
       "MEDTRONIC 770G                                 2\n",
       "MEDTRONIC 751 (530G)                           2\n",
       "MEDTRONIC 551 (530G)                           2\n",
       "MEDTRONIC 670G                                 3\n",
       "MEDTRONIC PARADIGM 723 (REVEL)                 4\n",
       "TANDEM T:SLIM                                  5\n",
       "TANDEM T:SLIM X2                               7\n",
       "MEDTRONIC 630G                                 9\n",
       "MEDTRONIC 670G IN MANUAL MODE                 21\n",
       "TANDEM T:SLIM X2 WITH BASAL IQ                23\n",
       "MEDTRONIC 670G IN AUTO MODE                   33\n",
       "INSULET OMNIPOD INSULIN MANAGEMENT SYSTEM    101\n",
       "TANDEM T:SLIM X2 WITH CONTROL IQ             187\n",
       "Name: USUBJID, dtype: int64"
      ]
     },
     "execution_count": 35,
     "metadata": {},
     "output_type": "execute_result"
    }
   ],
   "source": [
    "# patients per platform\n",
    "patients_per_platform = pump_rows.groupby(['DXTRT']).USUBJID.nunique().sort_values()\n",
    "patients_per_platform"
   ]
  },
  {
   "cell_type": "code",
   "execution_count": 36,
   "metadata": {},
   "outputs": [
    {
     "name": "stdout",
     "output_type": "stream",
     "text": [
      "Percentage of suspend basal insulin by device\n"
     ]
    },
    {
     "data": {
      "image/png": "[encoded data removed]",
      "text/plain": [
       "<Figure size 800x200 with 1 Axes>"
      ]
     },
     "metadata": {},
     "output_type": "display_data"
    }
   ],
   "source": [
    "# insulin type per device\n",
    "#pump_rows = facm.loc[~facm.ISMDI].copy()\n",
    "r = pump_rows.value_counts(['DXTRT','FATEST'],sort=False)\n",
    "print(\"Percentage of suspend basal insulin by device\")\n",
    "r = r.unstack(level=1)\n",
    "r = 100*r.div(r.sum(axis=1), axis=0)\n",
    "\n",
    "#sort by number of patients per platform\n",
    "r = r.loc[patients_per_platform.index]\n",
    "\n",
    "plt.figure(figsize=(8,2)); ax=plt.gca()\n",
    "r.plot(kind='bar', stacked=True, ax=ax)\n",
    "plt.title('Percentage of Insulin Types by Device')\n",
    "plt.ylabel('Percentage')\n",
    "plt.xlabel('Device')\n",
    "plt.legend(title='Insulin Type', loc='upper left', bbox_to_anchor=(1,1))\n",
    "plt.xticks(fontsize='x-small')\n",
    "\n",
    "# Make the font bold for the last five x-tick labels\n",
    "xticks = ax.get_xticklabels()\n",
    "for label in xticks[-5:]:\n",
    "    label.set_fontweight('bold')\n",
    "plt.show()\n"
   ]
  },
  {
   "cell_type": "code",
   "execution_count": 37,
   "metadata": {},
   "outputs": [
    {
     "name": "stderr",
     "output_type": "stream",
     "text": [
      "/var/folders/m4/5d02b2xs0l52lbxzbk0t3vym0000gp/T/ipykernel_44548/3537144212.py:6: DeprecationWarning: DataFrameGroupBy.apply operated on the grouping columns. This behavior is deprecated, and in a future version of pandas the grouping columns will be excluded from the operation. Either pass `include_groups=False` to exclude the groupings or explicitly select the grouping columns after groupby to silence this warning.\n",
      "  tdds = pump_rows.groupby(['DXTRT','USUBJID','day']).apply(tdd)\n"
     ]
    },
    {
     "data": {
      "image/png": "[encoded data removed]",
      "text/plain": [
       "<Figure size 800x200 with 1 Axes>"
      ]
     },
     "metadata": {},
     "output_type": "display_data"
    }
   ],
   "source": [
    "#TDDs\n",
    "def tdd(df):\n",
    "    bolus_tdd = df.loc[df.FATEST=='BOLUS INSULIN'].FAORRES.sum()\n",
    "    basal_tdd = df.loc[df.FATEST=='BASAL INSULIN'].FAORRES.sum()\n",
    "    return pd.Series({'Bolus TDD':bolus_tdd,'Basal TDD':basal_tdd})\n",
    "tdds = pump_rows.groupby(['DXTRT','USUBJID','day']).apply(tdd)\n",
    "mean_tdds_by_pump = tdds.sum(axis=1).groupby('DXTRT').agg(['mean'])\n",
    "\n",
    "# Sort by the order of patients_per_platform\n",
    "mean_tdds_by_pump = mean_tdds_by_pump.loc[patients_per_platform.index]\n",
    "#display(mean_tdds_by_pump)\n",
    "\n",
    "#draw as bar char\n",
    "plt.figure(figsize=(8,2)); ax=plt.gca()\n",
    "mean_tdds_by_pump.plot(kind='bar',ax=ax)\n",
    "# draw std\n",
    "plt.title('Mean Total Daily Dose by Device')\n",
    "plt.ylabel('Mean TDD')\n",
    "plt.xlabel('Device')\n",
    "\n",
    "\n",
    "# Make the font bold for the last five x-tick labels\n",
    "xticks = ax.get_xticklabels()\n",
    "for label in xticks[-5:]:\n",
    "    label.set_fontweight('bold')\n",
    "plt.show()\n"
   ]
  },
  {
   "cell_type": "markdown",
   "metadata": {},
   "source": [
    "### ... summary\n",
    "- All pumps have basal flow rates, and boluses\n",
    "- TDDs vary significantly\n",
    "    - Many pumps have less than a handful of subjects \n",
    "- 770g has no insulin subtype\n",
    "    - mostly boluses (does the AID system modulate it differently?)\n",
    "    - Even 770g without \"IN AUTO MODE\" suffix (also in AID)?\n",
    "- percentage of suspends is drastically different\n",
    "    - highest in Tandem \"with Basal IQ\""
   ]
  },
  {
   "cell_type": "markdown",
   "metadata": {},
   "source": [
    "### Inocrrect Pump Labels?\n",
    "\n",
    "The inconsistency observed above could also indicate incorret labeling of the pumps.\n",
    "Let's look at the distributions."
   ]
  },
  {
   "cell_type": "code",
   "execution_count": 404,
   "metadata": {},
   "outputs": [
    {
     "data": {
      "text/plain": [
       "<matplotlib.collections.LineCollection at 0x3cfe713d0>"
      ]
     },
     "execution_count": 404,
     "metadata": {},
     "output_type": "execute_result"
    },
    {
     "data": {
      "image/png": "[encoded data removed]",
      "text/plain": [
       "<Figure size 1200x600 with 1 Axes>"
      ]
     },
     "metadata": {},
     "output_type": "display_data"
    }
   ],
   "source": [
    "# Draw patients average daily event counts per device\n",
    "num_events = facm.groupby(['DXTRT', 'USUBJID','day']).size()\n",
    "num_events = num_events.groupby(level=[0,1]).mean()\n",
    "\n",
    "plt.figure(figsize=(12, 6))\n",
    "for i,dxtrt in enumerate(num_events.index.levels[0]):\n",
    "    subset = num_events.loc[dxtrt]\n",
    "    pump_type = pump_type.loc[pump_type.USUBJID.isin(subset.index)]\n",
    "    plt.scatter([dxtrt] * len(subset), subset, label=f'{i}:{dxtrt}',alpha=0.5)\n",
    "\n",
    "plt.xlabel('DXTRT')\n",
    "plt.ylabel('Number of Events')\n",
    "plt.title('Patients average number of daily events by DXTRT')\n",
    "#plt.xticks(rotation=90)\n",
    "xticks = np.arange(len(num_events.index.levels[0]))\n",
    "plt.xticks(xticks, xticks)\n",
    "plt.legend(title='DXTRT', bbox_to_anchor=(1.05, 1), loc='upper left')\n",
    "plt.yscale('log')\n",
    "\n",
    "plt.hlines([100],0,18)"
   ]
  },
  {
   "cell_type": "code",
   "execution_count": 406,
   "metadata": {},
   "outputs": [
    {
     "data": {
      "text/html": [
       "<div>\n",
       "<style scoped>\n",
       "    .dataframe tbody tr th:only-of-type {\n",
       "        vertical-align: middle;\n",
       "    }\n",
       "\n",
       "    .dataframe tbody tr th {\n",
       "        vertical-align: top;\n",
       "    }\n",
       "\n",
       "    .dataframe thead th {\n",
       "        text-align: right;\n",
       "    }\n",
       "</style>\n",
       "<table border=\"1\" class=\"dataframe\">\n",
       "  <thead>\n",
       "    <tr style=\"text-align: right;\">\n",
       "      <th></th>\n",
       "      <th>DXTRT</th>\n",
       "      <th>USUBJID</th>\n",
       "      <th>EVENTS</th>\n",
       "      <th>TRTMNT</th>\n",
       "    </tr>\n",
       "  </thead>\n",
       "  <tbody>\n",
       "    <tr>\n",
       "      <th>134</th>\n",
       "      <td>MEDTRONIC 670G IN AUTO MODE</td>\n",
       "      <td>304</td>\n",
       "      <td>369.035714</td>\n",
       "      <td>CSII</td>\n",
       "    </tr>\n",
       "    <tr>\n",
       "      <th>159</th>\n",
       "      <td>MEDTRONIC 670G IN MANUAL MODE</td>\n",
       "      <td>1656</td>\n",
       "      <td>108.642857</td>\n",
       "      <td>CSII</td>\n",
       "    </tr>\n",
       "  </tbody>\n",
       "</table>\n",
       "</div>"
      ],
      "text/plain": [
       "                             DXTRT USUBJID      EVENTS TRTMNT\n",
       "134    MEDTRONIC 670G IN AUTO MODE     304  369.035714   CSII\n",
       "159  MEDTRONIC 670G IN MANUAL MODE    1656  108.642857   CSII"
      ]
     },
     "metadata": {},
     "output_type": "display_data"
    },
    {
     "data": {
      "text/html": [
       "<div>\n",
       "<style scoped>\n",
       "    .dataframe tbody tr th:only-of-type {\n",
       "        vertical-align: middle;\n",
       "    }\n",
       "\n",
       "    .dataframe tbody tr th {\n",
       "        vertical-align: top;\n",
       "    }\n",
       "\n",
       "    .dataframe thead th {\n",
       "        text-align: right;\n",
       "    }\n",
       "</style>\n",
       "<table border=\"1\" class=\"dataframe\">\n",
       "  <thead>\n",
       "    <tr style=\"text-align: right;\">\n",
       "      <th></th>\n",
       "      <th>DXTRT</th>\n",
       "      <th>USUBJID</th>\n",
       "      <th>EVENTS</th>\n",
       "      <th>TRTMNT</th>\n",
       "    </tr>\n",
       "  </thead>\n",
       "  <tbody>\n",
       "    <tr>\n",
       "      <th>332</th>\n",
       "      <td>TANDEM T:SLIM X2 WITH CONTROL IQ</td>\n",
       "      <td>1193</td>\n",
       "      <td>13.678571</td>\n",
       "      <td>AID</td>\n",
       "    </tr>\n",
       "    <tr>\n",
       "      <th>362</th>\n",
       "      <td>TANDEM T:SLIM X2 WITH CONTROL IQ</td>\n",
       "      <td>1444</td>\n",
       "      <td>87.357143</td>\n",
       "      <td>AID</td>\n",
       "    </tr>\n",
       "    <tr>\n",
       "      <th>444</th>\n",
       "      <td>TANDEM T:SLIM X2 WITH CONTROL IQ</td>\n",
       "      <td>558</td>\n",
       "      <td>90.892857</td>\n",
       "      <td>AID</td>\n",
       "    </tr>\n",
       "    <tr>\n",
       "      <th>456</th>\n",
       "      <td>TANDEM T:SLIM X2 WITH CONTROL IQ</td>\n",
       "      <td>677</td>\n",
       "      <td>49.214286</td>\n",
       "      <td>AID</td>\n",
       "    </tr>\n",
       "  </tbody>\n",
       "</table>\n",
       "</div>"
      ],
      "text/plain": [
       "                                DXTRT USUBJID     EVENTS TRTMNT\n",
       "332  TANDEM T:SLIM X2 WITH CONTROL IQ    1193  13.678571    AID\n",
       "362  TANDEM T:SLIM X2 WITH CONTROL IQ    1444  87.357143    AID\n",
       "444  TANDEM T:SLIM X2 WITH CONTROL IQ     558  90.892857    AID\n",
       "456  TANDEM T:SLIM X2 WITH CONTROL IQ     677  49.214286    AID"
      ]
     },
     "metadata": {},
     "output_type": "display_data"
    }
   ],
   "source": [
    "#show non AID patients with more than 100 events (potential mislabels)\n",
    "temp = pd.merge(num_events.reset_index().rename(columns={0:'EVENTS'}),treatment.drop(columns='DXTRT'),on='USUBJID')\n",
    "\n",
    "display(temp.loc[(temp.EVENTS>100) & (temp.TRTMNT!='AID')])\n",
    "display(temp.loc[(temp.EVENTS<100) & (temp.TRTMNT=='AID')])"
   ]
  },
  {
   "cell_type": "markdown",
   "metadata": {},
   "source": [
    "We see that there are many pumps that seem to fall in both categories.\n",
    "- Tandem with Basal IQ shows much less events than other AIDs but more than CSII (this makes sens because it has comes with additional suspend events)\n",
    "- Some Tandem with Control IQ seem to be not in AID (1193,1444,5558,677 with <100 events/day)\n",
    "- One 770G outlier could be AID (subject 304 with 369 events/day in average)\n",
    "\n",
    "The netiob script reassigns one subject. However, we saw that this subject was already correctly assigned in our copy of the data.\n",
    ">        # [Discretional]. We observed that subject ID: 766 device type should be 'MEDTRONIC 770G IN AUTO MODE' and we updated as such\n",
    ">        device_data.loc[device_data['USUBJID'] == '766', 'DXTRT'] = 'MEDTRONIC 770G IN AUTO MODE'\n"
   ]
  },
  {
   "cell_type": "code",
   "execution_count": 39,
   "metadata": {},
   "outputs": [
    {
     "data": {
      "text/plain": [
       "DXTRT\n",
       "MEDTRONIC 670G IN AUTO MODE    194.785714\n",
       "dtype: float64"
      ]
     },
     "metadata": {},
     "output_type": "display_data"
    },
    {
     "data": {
      "text/plain": [
       "USUBJID\n",
       "354    159.571429\n",
       "856     54.464286\n",
       "dtype: float64"
      ]
     },
     "metadata": {},
     "output_type": "display_data"
    },
    {
     "data": {
      "text/plain": [
       "Text(0.5, 0, 'bolus dose (U)')"
      ]
     },
     "execution_count": 39,
     "metadata": {},
     "output_type": "execute_result"
    },
    {
     "data": {
      "image/png": "[encoded data removed]",
      "text/plain": [
       "<Figure size 800x200 with 1 Axes>"
      ]
     },
     "metadata": {},
     "output_type": "display_data"
    }
   ],
   "source": [
    "#look at rows for 770G patients of interes\n",
    "display(num_events.loc[:,'766'])\n",
    "display(num_events.loc['MEDTRONIC 770G'])\n",
    "\n",
    "#compare patients 354 and 856\n",
    "plt.figure(figsize=(8,2)); ax=plt.gca()\n",
    "#cdf.plot_cdf(facm.loc[facm.USUBJID == '354'].FATEST,ax=ax)\n",
    "cdf.plot_cdf(facm.loc[(facm.USUBJID == '354') & (facm.FATEST =='BOLUS INSULIN')].FAORRES,ax=ax, label='patient 354')\n",
    "cdf.plot_cdf(facm.loc[(facm.USUBJID == '856') & (facm.FATEST =='BOLUS INSULIN')].FAORRES,ax=ax, label='patient 856',color='red')\n",
    "plt.xlim(-.2,5); plt.legend(); plt.title('Bolus dose comparison'); plt.xlabel('bolus dose (U)')\n",
    "#This looks like micro bolusing."
   ]
  },
  {
   "cell_type": "markdown",
   "metadata": {},
   "source": [
    "Looks like patient 354 has many more small boluses indicating AID use (micro boluses).\n",
    "Lets's compare the three AID pumps:"
   ]
  },
  {
   "cell_type": "code",
   "execution_count": 40,
   "metadata": {},
   "outputs": [
    {
     "data": {
      "text/plain": [
       "(-1.0, 12.0)"
      ]
     },
     "execution_count": 40,
     "metadata": {},
     "output_type": "execute_result"
    },
    {
     "data": {
      "image/png": "[encoded data removed]",
      "text/plain": [
       "<Figure size 800x200 with 1 Axes>"
      ]
     },
     "metadata": {},
     "output_type": "display_data"
    },
    {
     "data": {
      "image/png": "[encoded data removed]",
      "text/plain": [
       "<Figure size 800x200 with 1 Axes>"
      ]
     },
     "metadata": {},
     "output_type": "display_data"
    }
   ],
   "source": [
    "#CDF for 770g, 670g and tandem\n",
    "df_77g = facm.loc[facm.DXTRT=='MEDTRONIC 770G IN AUTO MODE']\n",
    "df_tandem = facm.loc[facm.DXTRT=='TANDEM T:SLIM X2 WITH CONTROL IQ']\n",
    "df_670g = facm.loc[facm.DXTRT=='MEDTRONIC 670G IN AUTO MODE']\n",
    "\n",
    "# print(f'Number of rows for 770G: {len(df_77g)}')\n",
    "# print(f'Number of rows for Tandem: {len(df_tandem)}')\n",
    "# print(f'Number of rows for 670G: {len(df_670g)}')\n",
    "\n",
    "# display(100*df_77g.FATEST.value_counts()/len(df_77g))   \n",
    "# display(100*df_tandem.FATEST.value_counts()/len(df_tandem))\n",
    "# display(100*df_670g.FATEST.value_counts()/len(df_670g))\n",
    "\n",
    "#compare cdf for boluses of both pumps\n",
    "plt.figure(figsize=(8,2)); ax=plt.gca()\n",
    "cdf.plot_cdf(df_77g.loc[df_77g.FATEST=='BOLUS INSULIN'].FAORRES,ax=ax,label='770G',color='red')\n",
    "cdf.plot_cdf(df_tandem.loc[df_tandem.FATEST=='BOLUS INSULIN'].FAORRES,ax=ax,label='Tandem',color='blue')\n",
    "cdf.plot_cdf(df_670g.loc[df_670g.FATEST=='BOLUS INSULIN'].FAORRES,ax=ax,label='670G',color='green')\n",
    "plt.title('Bolus Amounts'); ax.legend();ax.set_xlim(-1,10)    \n",
    "\n",
    "#compare basals\n",
    "plt.figure(figsize=(8,2)); ax=plt.gca()\n",
    "cdf.plot_cdf(df_77g.loc[df_77g.FATEST=='BASAL FLOW RATE'].FAORRES,ax=ax,label='770G',color='red')\n",
    "cdf.plot_cdf(df_tandem.loc[df_tandem.FATEST=='BASAL FLOW RATE'].FAORRES,ax=ax,label='Tandem',color='blue')\n",
    "cdf.plot_cdf(df_670g.loc[df_670g.FATEST=='BASAL FLOW RATE'].FAORRES,ax=ax,label='670G',color='green')\n",
    "plt.title('Basal Flow Rates'); ax.legend(); ax.set_xlim(-1,12)    "
   ]
  },
  {
   "cell_type": "markdown",
   "metadata": {},
   "source": [
    "While there are big differences between the pumps. These are likely due to different implementaitons of AID. While 770g does a lot of micro bolusing, tandem uses variable flow rates."
   ]
  },
  {
   "cell_type": "markdown",
   "metadata": {},
   "source": [
    "### ... summary\n",
    " - While the script re-assigns user=766 to 'MEDTRONIC 770G IN AUTO MODE', this was already correctly assigned in our dataset.\n",
    " - The average daily events varies significantly\n",
    " - Some pumps are potential candidates for incorrect assignment\n",
    "    - e.g. patient 354 could be AID\n",
    "    - some tandem pumps might actually be in manual mode  (1193,1444,5558,677 with <100 events/day)"
   ]
  },
  {
   "cell_type": "markdown",
   "metadata": {},
   "source": [
    "### Suspends?\n",
    "Now, we want to check how to deal with suspend events.\n",
    "\n",
    "We will look at how the suspend events look in context by plotting the surrounding data."
   ]
  },
  {
   "cell_type": "code",
   "execution_count": 41,
   "metadata": {},
   "outputs": [
    {
     "name": "stdout",
     "output_type": "stream",
     "text": [
      "Percentage of basal suspends\n"
     ]
    },
    {
     "name": "stderr",
     "output_type": "stream",
     "text": [
      "/var/folders/m4/5d02b2xs0l52lbxzbk0t3vym0000gp/T/ipykernel_44548/1070934506.py:3: DeprecationWarning: DataFrameGroupBy.apply operated on the grouping columns. This behavior is deprecated, and in a future version of pandas the grouping columns will be excluded from the operation. Either pass `include_groups=False` to exclude the groupings or explicitly select the grouping columns after groupby to silence this warning.\n",
      "  r = pump_rows.groupby('DXTRT').apply(lambda x: 100*x.INSSTYPE.str.contains('suspend', na=False).sum()/(x.FACAT=='BASAL').sum())#.sort_values('INSSTYPE',ascending=False)\n"
     ]
    },
    {
     "data": {
      "image/png": "[encoded data removed]",
      "text/plain": [
       "<Figure size 800x200 with 1 Axes>"
      ]
     },
     "metadata": {},
     "output_type": "display_data"
    }
   ],
   "source": [
    "#suspends\n",
    "pump_rows = facm.loc[~facm.ISMDI].copy()\n",
    "r = pump_rows.groupby('DXTRT').apply(lambda x: 100*x.INSSTYPE.str.contains('suspend', na=False).sum()/(x.FACAT=='BASAL').sum())#.sort_values('INSSTYPE',ascending=False)\n",
    "\n",
    "print(\"Percentage of basal suspends\")\n",
    "\n",
    "#sort by number of patients per platform\n",
    "r  = r.loc[patients_per_platform.index]\n",
    "\n",
    "plt.figure(figsize=(8,2)); ax=plt.gca()\n",
    "r.plot(kind='bar', legend=False,ax=ax)\n",
    "plt.ylabel('Percentage')\n",
    "plt.title('Percentage of basal suspends')\n",
    "\n",
    "\n",
    "# Make the font bold for the last five x-tick labels\n",
    "xticks = ax.get_xticklabels()\n",
    "for label in xticks[-5:]:\n",
    "    label.set_fontweight('bold')\n",
    "plt.show()"
   ]
  },
  {
   "cell_type": "code",
   "execution_count": 42,
   "metadata": {},
   "outputs": [],
   "source": [
    "suspend_rows = facm.loc[facm.INSSTYPE.str.contains('suspend',na=False)]"
   ]
  },
  {
   "cell_type": "code",
   "execution_count": 43,
   "metadata": {},
   "outputs": [
    {
     "data": {
      "text/plain": [
       "FATEST         INSSTYPE\n",
       "BASAL INSULIN  suspend     14457\n",
       "Name: count, dtype: int64"
      ]
     },
     "metadata": {},
     "output_type": "display_data"
    }
   ],
   "source": [
    "#do we have suspends in deliveries and flow rates?\n",
    "display(suspend_rows.value_counts(['FATEST','INSSTYPE'],sort=False))"
   ]
  },
  {
   "cell_type": "code",
   "execution_count": 44,
   "metadata": {},
   "outputs": [
    {
     "data": {
      "text/plain": [
       "FATEST         FAORRES\n",
       "BASAL INSULIN  NaN        13940\n",
       "               0.0          517\n",
       "Name: count, dtype: int64"
      ]
     },
     "execution_count": 44,
     "metadata": {},
     "output_type": "execute_result"
    }
   ],
   "source": [
    "#what are the values for suspends?\n",
    "suspend_rows.value_counts(subset=['FATEST','FAORRES'],dropna=False)"
   ]
  },
  {
   "cell_type": "code",
   "execution_count": 45,
   "metadata": {},
   "outputs": [
    {
     "data": {
      "text/html": [
       "<div>\n",
       "<style scoped>\n",
       "    .dataframe tbody tr th:only-of-type {\n",
       "        vertical-align: middle;\n",
       "    }\n",
       "\n",
       "    .dataframe tbody tr th {\n",
       "        vertical-align: top;\n",
       "    }\n",
       "\n",
       "    .dataframe thead th {\n",
       "        text-align: right;\n",
       "    }\n",
       "</style>\n",
       "<table border=\"1\" class=\"dataframe\">\n",
       "  <thead>\n",
       "    <tr style=\"text-align: right;\">\n",
       "      <th></th>\n",
       "      <th>USUBJID</th>\n",
       "      <th>FATESTCD</th>\n",
       "      <th>FATEST</th>\n",
       "      <th>FAOBJ</th>\n",
       "      <th>FACAT</th>\n",
       "      <th>FAORRES</th>\n",
       "      <th>FAORRESU</th>\n",
       "      <th>FADTC</th>\n",
       "      <th>FADUR</th>\n",
       "      <th>INSDVSRC</th>\n",
       "      <th>INSSTYPE</th>\n",
       "      <th>INSNMBOL</th>\n",
       "      <th>INSEXBOL</th>\n",
       "      <th>DXTRT</th>\n",
       "      <th>ISMDI</th>\n",
       "      <th>day</th>\n",
       "      <th>INSMNBL</th>\n",
       "    </tr>\n",
       "  </thead>\n",
       "  <tbody>\n",
       "    <tr>\n",
       "      <th>475</th>\n",
       "      <td>1000</td>\n",
       "      <td>INSBASAL</td>\n",
       "      <td>BASAL INSULIN</td>\n",
       "      <td>INSULIN</td>\n",
       "      <td>BASAL</td>\n",
       "      <td>NaN</td>\n",
       "      <td>U</td>\n",
       "      <td>2020-10-06 17:17:28</td>\n",
       "      <td>0 days 00:03:03</td>\n",
       "      <td>Pump</td>\n",
       "      <td>suspend</td>\n",
       "      <td>NaN</td>\n",
       "      <td>NaN</td>\n",
       "      <td>INSULET OMNIPOD INSULIN MANAGEMENT SYSTEM</td>\n",
       "      <td>False</td>\n",
       "      <td>2020-10-06</td>\n",
       "      <td>NaN</td>\n",
       "    </tr>\n",
       "    <tr>\n",
       "      <th>500</th>\n",
       "      <td>1000</td>\n",
       "      <td>INSBASAL</td>\n",
       "      <td>BASAL INSULIN</td>\n",
       "      <td>INSULIN</td>\n",
       "      <td>BASAL</td>\n",
       "      <td>NaN</td>\n",
       "      <td>U</td>\n",
       "      <td>2020-10-09 22:01:35</td>\n",
       "      <td>0 days 00:03:19</td>\n",
       "      <td>Pump</td>\n",
       "      <td>suspend</td>\n",
       "      <td>NaN</td>\n",
       "      <td>NaN</td>\n",
       "      <td>INSULET OMNIPOD INSULIN MANAGEMENT SYSTEM</td>\n",
       "      <td>False</td>\n",
       "      <td>2020-10-09</td>\n",
       "      <td>NaN</td>\n",
       "    </tr>\n",
       "    <tr>\n",
       "      <th>527</th>\n",
       "      <td>1000</td>\n",
       "      <td>INSBASAL</td>\n",
       "      <td>BASAL INSULIN</td>\n",
       "      <td>INSULIN</td>\n",
       "      <td>BASAL</td>\n",
       "      <td>NaN</td>\n",
       "      <td>U</td>\n",
       "      <td>2020-10-12 23:29:27</td>\n",
       "      <td>0 days 00:03:06</td>\n",
       "      <td>Pump</td>\n",
       "      <td>suspend</td>\n",
       "      <td>NaN</td>\n",
       "      <td>NaN</td>\n",
       "      <td>INSULET OMNIPOD INSULIN MANAGEMENT SYSTEM</td>\n",
       "      <td>False</td>\n",
       "      <td>2020-10-12</td>\n",
       "      <td>NaN</td>\n",
       "    </tr>\n",
       "    <tr>\n",
       "      <th>550</th>\n",
       "      <td>1000</td>\n",
       "      <td>INSBASAL</td>\n",
       "      <td>BASAL INSULIN</td>\n",
       "      <td>INSULIN</td>\n",
       "      <td>BASAL</td>\n",
       "      <td>NaN</td>\n",
       "      <td>U</td>\n",
       "      <td>2020-10-15 23:02:25</td>\n",
       "      <td>0 days 00:02:12</td>\n",
       "      <td>Pump</td>\n",
       "      <td>suspend</td>\n",
       "      <td>NaN</td>\n",
       "      <td>NaN</td>\n",
       "      <td>INSULET OMNIPOD INSULIN MANAGEMENT SYSTEM</td>\n",
       "      <td>False</td>\n",
       "      <td>2020-10-15</td>\n",
       "      <td>NaN</td>\n",
       "    </tr>\n",
       "    <tr>\n",
       "      <th>575</th>\n",
       "      <td>1000</td>\n",
       "      <td>INSBASAL</td>\n",
       "      <td>BASAL INSULIN</td>\n",
       "      <td>INSULIN</td>\n",
       "      <td>BASAL</td>\n",
       "      <td>NaN</td>\n",
       "      <td>U</td>\n",
       "      <td>2020-10-18 23:01:29</td>\n",
       "      <td>0 days 00:03:28</td>\n",
       "      <td>Pump</td>\n",
       "      <td>suspend</td>\n",
       "      <td>NaN</td>\n",
       "      <td>NaN</td>\n",
       "      <td>INSULET OMNIPOD INSULIN MANAGEMENT SYSTEM</td>\n",
       "      <td>False</td>\n",
       "      <td>2020-10-18</td>\n",
       "      <td>NaN</td>\n",
       "    </tr>\n",
       "    <tr>\n",
       "      <th>...</th>\n",
       "      <td>...</td>\n",
       "      <td>...</td>\n",
       "      <td>...</td>\n",
       "      <td>...</td>\n",
       "      <td>...</td>\n",
       "      <td>...</td>\n",
       "      <td>...</td>\n",
       "      <td>...</td>\n",
       "      <td>...</td>\n",
       "      <td>...</td>\n",
       "      <td>...</td>\n",
       "      <td>...</td>\n",
       "      <td>...</td>\n",
       "      <td>...</td>\n",
       "      <td>...</td>\n",
       "      <td>...</td>\n",
       "      <td>...</td>\n",
       "    </tr>\n",
       "    <tr>\n",
       "      <th>2217889</th>\n",
       "      <td>988</td>\n",
       "      <td>INSBASAL</td>\n",
       "      <td>BASAL INSULIN</td>\n",
       "      <td>INSULIN</td>\n",
       "      <td>BASAL</td>\n",
       "      <td>NaN</td>\n",
       "      <td>U</td>\n",
       "      <td>2021-04-12 10:07:21</td>\n",
       "      <td>0 days 00:20:57</td>\n",
       "      <td>Pump</td>\n",
       "      <td>suspend</td>\n",
       "      <td>NaN</td>\n",
       "      <td>NaN</td>\n",
       "      <td>TANDEM T:SLIM X2 WITH CONTROL IQ</td>\n",
       "      <td>False</td>\n",
       "      <td>2021-04-12</td>\n",
       "      <td>NaN</td>\n",
       "    </tr>\n",
       "    <tr>\n",
       "      <th>2218176</th>\n",
       "      <td>988</td>\n",
       "      <td>INSBASAL</td>\n",
       "      <td>BASAL INSULIN</td>\n",
       "      <td>INSULIN</td>\n",
       "      <td>BASAL</td>\n",
       "      <td>NaN</td>\n",
       "      <td>U</td>\n",
       "      <td>2021-04-13 10:19:05</td>\n",
       "      <td>0 days 00:29:56</td>\n",
       "      <td>Pump</td>\n",
       "      <td>suspend</td>\n",
       "      <td>NaN</td>\n",
       "      <td>NaN</td>\n",
       "      <td>TANDEM T:SLIM X2 WITH CONTROL IQ</td>\n",
       "      <td>False</td>\n",
       "      <td>2021-04-13</td>\n",
       "      <td>NaN</td>\n",
       "    </tr>\n",
       "    <tr>\n",
       "      <th>2218454</th>\n",
       "      <td>988</td>\n",
       "      <td>INSBASAL</td>\n",
       "      <td>BASAL INSULIN</td>\n",
       "      <td>INSULIN</td>\n",
       "      <td>BASAL</td>\n",
       "      <td>NaN</td>\n",
       "      <td>U</td>\n",
       "      <td>2021-04-14 09:56:00</td>\n",
       "      <td>0 days 00:23:41</td>\n",
       "      <td>Pump</td>\n",
       "      <td>suspend</td>\n",
       "      <td>NaN</td>\n",
       "      <td>NaN</td>\n",
       "      <td>TANDEM T:SLIM X2 WITH CONTROL IQ</td>\n",
       "      <td>False</td>\n",
       "      <td>2021-04-14</td>\n",
       "      <td>NaN</td>\n",
       "    </tr>\n",
       "    <tr>\n",
       "      <th>2218722</th>\n",
       "      <td>988</td>\n",
       "      <td>INSBASAL</td>\n",
       "      <td>BASAL INSULIN</td>\n",
       "      <td>INSULIN</td>\n",
       "      <td>BASAL</td>\n",
       "      <td>NaN</td>\n",
       "      <td>U</td>\n",
       "      <td>2021-04-15 08:30:44</td>\n",
       "      <td>0 days 00:23:28</td>\n",
       "      <td>Pump</td>\n",
       "      <td>suspend</td>\n",
       "      <td>NaN</td>\n",
       "      <td>NaN</td>\n",
       "      <td>TANDEM T:SLIM X2 WITH CONTROL IQ</td>\n",
       "      <td>False</td>\n",
       "      <td>2021-04-15</td>\n",
       "      <td>NaN</td>\n",
       "    </tr>\n",
       "    <tr>\n",
       "      <th>2219025</th>\n",
       "      <td>988</td>\n",
       "      <td>INSBASAL</td>\n",
       "      <td>BASAL INSULIN</td>\n",
       "      <td>INSULIN</td>\n",
       "      <td>BASAL</td>\n",
       "      <td>NaN</td>\n",
       "      <td>U</td>\n",
       "      <td>2021-04-16 10:00:14</td>\n",
       "      <td>0 days 00:31:53</td>\n",
       "      <td>Pump</td>\n",
       "      <td>suspend</td>\n",
       "      <td>NaN</td>\n",
       "      <td>NaN</td>\n",
       "      <td>TANDEM T:SLIM X2 WITH CONTROL IQ</td>\n",
       "      <td>False</td>\n",
       "      <td>2021-04-16</td>\n",
       "      <td>NaN</td>\n",
       "    </tr>\n",
       "  </tbody>\n",
       "</table>\n",
       "<p>14457 rows × 17 columns</p>\n",
       "</div>"
      ],
      "text/plain": [
       "        USUBJID  FATESTCD         FATEST    FAOBJ  FACAT  FAORRES FAORRESU  \\\n",
       "475        1000  INSBASAL  BASAL INSULIN  INSULIN  BASAL      NaN        U   \n",
       "500        1000  INSBASAL  BASAL INSULIN  INSULIN  BASAL      NaN        U   \n",
       "527        1000  INSBASAL  BASAL INSULIN  INSULIN  BASAL      NaN        U   \n",
       "550        1000  INSBASAL  BASAL INSULIN  INSULIN  BASAL      NaN        U   \n",
       "575        1000  INSBASAL  BASAL INSULIN  INSULIN  BASAL      NaN        U   \n",
       "...         ...       ...            ...      ...    ...      ...      ...   \n",
       "2217889     988  INSBASAL  BASAL INSULIN  INSULIN  BASAL      NaN        U   \n",
       "2218176     988  INSBASAL  BASAL INSULIN  INSULIN  BASAL      NaN        U   \n",
       "2218454     988  INSBASAL  BASAL INSULIN  INSULIN  BASAL      NaN        U   \n",
       "2218722     988  INSBASAL  BASAL INSULIN  INSULIN  BASAL      NaN        U   \n",
       "2219025     988  INSBASAL  BASAL INSULIN  INSULIN  BASAL      NaN        U   \n",
       "\n",
       "                      FADTC           FADUR INSDVSRC INSSTYPE  INSNMBOL  \\\n",
       "475     2020-10-06 17:17:28 0 days 00:03:03     Pump  suspend       NaN   \n",
       "500     2020-10-09 22:01:35 0 days 00:03:19     Pump  suspend       NaN   \n",
       "527     2020-10-12 23:29:27 0 days 00:03:06     Pump  suspend       NaN   \n",
       "550     2020-10-15 23:02:25 0 days 00:02:12     Pump  suspend       NaN   \n",
       "575     2020-10-18 23:01:29 0 days 00:03:28     Pump  suspend       NaN   \n",
       "...                     ...             ...      ...      ...       ...   \n",
       "2217889 2021-04-12 10:07:21 0 days 00:20:57     Pump  suspend       NaN   \n",
       "2218176 2021-04-13 10:19:05 0 days 00:29:56     Pump  suspend       NaN   \n",
       "2218454 2021-04-14 09:56:00 0 days 00:23:41     Pump  suspend       NaN   \n",
       "2218722 2021-04-15 08:30:44 0 days 00:23:28     Pump  suspend       NaN   \n",
       "2219025 2021-04-16 10:00:14 0 days 00:31:53     Pump  suspend       NaN   \n",
       "\n",
       "         INSEXBOL                                      DXTRT  ISMDI  \\\n",
       "475           NaN  INSULET OMNIPOD INSULIN MANAGEMENT SYSTEM  False   \n",
       "500           NaN  INSULET OMNIPOD INSULIN MANAGEMENT SYSTEM  False   \n",
       "527           NaN  INSULET OMNIPOD INSULIN MANAGEMENT SYSTEM  False   \n",
       "550           NaN  INSULET OMNIPOD INSULIN MANAGEMENT SYSTEM  False   \n",
       "575           NaN  INSULET OMNIPOD INSULIN MANAGEMENT SYSTEM  False   \n",
       "...           ...                                        ...    ...   \n",
       "2217889       NaN           TANDEM T:SLIM X2 WITH CONTROL IQ  False   \n",
       "2218176       NaN           TANDEM T:SLIM X2 WITH CONTROL IQ  False   \n",
       "2218454       NaN           TANDEM T:SLIM X2 WITH CONTROL IQ  False   \n",
       "2218722       NaN           TANDEM T:SLIM X2 WITH CONTROL IQ  False   \n",
       "2219025       NaN           TANDEM T:SLIM X2 WITH CONTROL IQ  False   \n",
       "\n",
       "                day  INSMNBL  \n",
       "475      2020-10-06      NaN  \n",
       "500      2020-10-09      NaN  \n",
       "527      2020-10-12      NaN  \n",
       "550      2020-10-15      NaN  \n",
       "575      2020-10-18      NaN  \n",
       "...             ...      ...  \n",
       "2217889  2021-04-12      NaN  \n",
       "2218176  2021-04-13      NaN  \n",
       "2218454  2021-04-14      NaN  \n",
       "2218722  2021-04-15      NaN  \n",
       "2219025  2021-04-16      NaN  \n",
       "\n",
       "[14457 rows x 17 columns]"
      ]
     },
     "execution_count": 45,
     "metadata": {},
     "output_type": "execute_result"
    }
   ],
   "source": [
    "# are flow rates reset always?\n",
    "suspend_rows"
   ]
  },
  {
   "cell_type": "code",
   "execution_count": 46,
   "metadata": {},
   "outputs": [
    {
     "data": {
      "text/html": [
       "<div>\n",
       "<style scoped>\n",
       "    .dataframe tbody tr th:only-of-type {\n",
       "        vertical-align: middle;\n",
       "    }\n",
       "\n",
       "    .dataframe tbody tr th {\n",
       "        vertical-align: top;\n",
       "    }\n",
       "\n",
       "    .dataframe thead th {\n",
       "        text-align: right;\n",
       "    }\n",
       "</style>\n",
       "<table border=\"1\" class=\"dataframe\">\n",
       "  <thead>\n",
       "    <tr style=\"text-align: right;\">\n",
       "      <th></th>\n",
       "      <th>FATEST</th>\n",
       "      <th>INSSTYPE</th>\n",
       "      <th>FADTC</th>\n",
       "      <th>FADUR</th>\n",
       "      <th>FAORRES</th>\n",
       "    </tr>\n",
       "  </thead>\n",
       "  <tbody>\n",
       "  </tbody>\n",
       "</table>\n",
       "</div>"
      ],
      "text/plain": [
       "Empty DataFrame\n",
       "Columns: [FATEST, INSSTYPE, FADTC, FADUR, FAORRES]\n",
       "Index: []"
      ]
     },
     "metadata": {},
     "output_type": "display_data"
    },
    {
     "data": {
      "image/png": "[encoded data removed]",
      "text/plain": [
       "<Figure size 2000x400 with 2 Axes>"
      ]
     },
     "metadata": {},
     "output_type": "display_data"
    }
   ],
   "source": [
    "sample = suspend_rows.sample(1)\n",
    "#display(sample)\n",
    "\n",
    "subject = sample.USUBJID.values[0]\n",
    "datetime = pd.to_datetime(sample.FADTC.values[0])\n",
    "window = timedelta(hours=4)\n",
    "\n",
    "context = facm.loc[(facm.USUBJID==subject) & (facm.FACAT == 'BASAL') & (facm.FADTC >= (datetime-window)) & (facm.FADTC<=(datetime+window))].sort_values('FADTC')\n",
    "\n",
    "#plt.figure(figsize=(20,4)); ax=plt.gca(); twinx = ax.twinx()\n",
    "fig, AX = plt.subplots(2,1,figsize=(20, 4))\n",
    "ax=AX[0]; twinx = AX[1]\n",
    "\n",
    "#draw flow rates\n",
    "temp = context.loc[context.FATEST=='BASAL FLOW RATE']\n",
    "drawing.drawBasal(ax,temp.FADTC, temp.FAORRES,label='U/hr')\n",
    "\n",
    "# draw individual basal deliveries\n",
    "temp = context.loc[context.FATEST=='BASAL INSULIN']\n",
    "drawing.drawBasal(twinx,temp.FADTC, temp.FAORRES,label='U',color='red')\n",
    "\n",
    "#add suspend markers\n",
    "temp = temp.loc[temp.INSSTYPE.str.contains('suspend',na=False)]\n",
    "twinx.scatter(temp.FADTC, [0]*len(temp), color='red', marker='v', s=100)\n",
    "ax.legend(); twinx.legend()\n",
    "\n",
    "#show the events before and after the suspend\n",
    "iloc = context.index.get_loc(sample.index[0])\n",
    "display(context.iloc[iloc-4:iloc+4][['FATEST','INSSTYPE','FADTC','FADUR','FAORRES']].sort_values(['FATEST','FADTC']))"
   ]
  },
  {
   "cell_type": "code",
   "execution_count": 47,
   "metadata": {},
   "outputs": [
    {
     "data": {
      "text/plain": [
       "FAORRES\n",
       "NaN      13944\n",
       "0.000      517\n",
       "0.675        1\n",
       "Name: count, dtype: int64"
      ]
     },
     "execution_count": 47,
     "metadata": {},
     "output_type": "execute_result"
    }
   ],
   "source": [
    "## show the FAORRES for the BASAL FLOW RATES at the same time\n",
    "flow_rate_suspends = pd.merge(suspend_rows[['USUBJID','FADTC']], facm.loc[facm.FATEST=='BASAL FLOW RATE'], \n",
    "                              on=['USUBJID','FADTC'])#,suffixes=('','_flow_rate'))\n",
    "flow_rate_suspends.value_counts('FAORRES',dropna=False)"
   ]
  },
  {
   "cell_type": "markdown",
   "metadata": {},
   "source": [
    "### ... summary\n",
    "- insulin type is suspend only in the deliveries, not the flow rates\n",
    "- suspend FAORRESS values are are NaN or 0\n",
    "- suspends are equally reflected in flow rates\n",
    "\n",
    "How to work with Suspends:  \n",
    "1. Don't need to be manually calculated\n",
    "2. NaN values need to be replaced with zeros"
   ]
  },
  {
   "cell_type": "markdown",
   "metadata": {},
   "source": [
    "### Duplicates\n",
    "we did see that often there are duplicated rows (in basal also with different durations altnerating between 0 and a bigger value). Let;s check how to get rid of them\n",
    "#inspect duplicates"
   ]
  },
  {
   "cell_type": "code",
   "execution_count": 48,
   "metadata": {},
   "outputs": [
    {
     "name": "stdout",
     "output_type": "stream",
     "text": [
      "0.10% of rows are duplicates\n"
     ]
    },
    {
     "data": {
      "text/plain": [
       "FATEST\n",
       "BASAL FLOW RATE    1109\n",
       "BASAL INSULIN      1109\n",
       "BOLUS INSULIN         2\n",
       "Name: count, dtype: int64"
      ]
     },
     "metadata": {},
     "output_type": "display_data"
    },
    {
     "data": {
      "text/plain": [
       "USUBJID\n",
       "856     1068\n",
       "862      600\n",
       "354      284\n",
       "1335     108\n",
       "953       48\n",
       "1224      14\n",
       "80        12\n",
       "312       12\n",
       "1434       8\n",
       "716        8\n",
       "576        8\n",
       "1647       8\n",
       "1139       8\n",
       "556        4\n",
       "1072       4\n",
       "1603       4\n",
       "159        4\n",
       "1568       4\n",
       "1426       4\n",
       "1385       4\n",
       "1714       4\n",
       "71         2\n",
       "Name: count, dtype: int64"
      ]
     },
     "metadata": {},
     "output_type": "display_data"
    },
    {
     "name": "stdout",
     "output_type": "stream",
     "text": [
      "There are 2220 duplicated rows\n",
      "The number of differences in each column are:\n"
     ]
    },
    {
     "data": {
      "text/plain": [
       "FATESTCD    554\n",
       "FATEST      554\n",
       "FAOBJ         0\n",
       "FACAT         0\n",
       "FAORRES     859\n",
       "FAORRESU    554\n",
       "FADUR       555\n",
       "INSDVSRC      0\n",
       "INSSTYPE      4\n",
       "INSNMBOL      0\n",
       "INSEXBOL      0\n",
       "DXTRT         0\n",
       "ISMDI         0\n",
       "day           0\n",
       "INSMNBL       1\n",
       "dtype: int64"
      ]
     },
     "metadata": {},
     "output_type": "display_data"
    }
   ],
   "source": [
    "#inspect duplicates\n",
    "dup_rows = facm.loc[facm.duplicated(subset=['USUBJID','FADTC','FATEST'],keep=False)]\n",
    "print(f\"{100*len(dup_rows)/len(facm):.2f}% of rows are duplicates\")\n",
    "\n",
    "#type counts\n",
    "display(dup_rows.FATEST.value_counts())\n",
    "\n",
    "#patient counts\n",
    "#compare against those being removed by netiob scripts: usubjid_to_remove = ['1039', '1046', '1439', '317', '422', '956'] # List of subjects t be removed\n",
    "display(dup_rows.USUBJID.value_counts())\n",
    "\n",
    "#check how many differences exist in each column\n",
    "print(f\"There are {len(dup_rows)} duplicated rows\")\n",
    "print(\"The number of differences in each column are:\")\n",
    "numDiffs = (dup_rows.groupby(['USUBJID','FADTC']).nunique().map(lambda x: max(x-1,0)))#.drop(columns=['USUBJID','FADTC'])\n",
    "display(numDiffs.sum())"
   ]
  },
  {
   "cell_type": "code",
   "execution_count": 49,
   "metadata": {},
   "outputs": [
    {
     "data": {
      "text/html": [
       "<div>\n",
       "<style scoped>\n",
       "    .dataframe tbody tr th:only-of-type {\n",
       "        vertical-align: middle;\n",
       "    }\n",
       "\n",
       "    .dataframe tbody tr th {\n",
       "        vertical-align: top;\n",
       "    }\n",
       "\n",
       "    .dataframe thead th {\n",
       "        text-align: right;\n",
       "    }\n",
       "</style>\n",
       "<table border=\"1\" class=\"dataframe\">\n",
       "  <thead>\n",
       "    <tr style=\"text-align: right;\">\n",
       "      <th></th>\n",
       "      <th>USUBJID</th>\n",
       "      <th>FATESTCD</th>\n",
       "      <th>FATEST</th>\n",
       "      <th>FAOBJ</th>\n",
       "      <th>FACAT</th>\n",
       "      <th>FAORRES</th>\n",
       "      <th>FAORRESU</th>\n",
       "      <th>FADTC</th>\n",
       "      <th>FADUR</th>\n",
       "      <th>INSDVSRC</th>\n",
       "      <th>INSSTYPE</th>\n",
       "      <th>INSNMBOL</th>\n",
       "      <th>INSEXBOL</th>\n",
       "      <th>DXTRT</th>\n",
       "      <th>ISMDI</th>\n",
       "      <th>day</th>\n",
       "      <th>INSMNBL</th>\n",
       "    </tr>\n",
       "  </thead>\n",
       "  <tbody>\n",
       "    <tr>\n",
       "      <th>1814493</th>\n",
       "      <td>71</td>\n",
       "      <td>INSBOLUS</td>\n",
       "      <td>BOLUS INSULIN</td>\n",
       "      <td>INSULIN</td>\n",
       "      <td>BOLUS</td>\n",
       "      <td>0.20</td>\n",
       "      <td>U</td>\n",
       "      <td>2020-07-31 07:43:00</td>\n",
       "      <td>NaT</td>\n",
       "      <td>Pump</td>\n",
       "      <td>normal</td>\n",
       "      <td>NaN</td>\n",
       "      <td>NaN</td>\n",
       "      <td>INSULET OMNIPOD INSULIN MANAGEMENT SYSTEM</td>\n",
       "      <td>False</td>\n",
       "      <td>2020-07-31</td>\n",
       "      <td>0.20</td>\n",
       "    </tr>\n",
       "    <tr>\n",
       "      <th>1814494</th>\n",
       "      <td>71</td>\n",
       "      <td>INSBOLUS</td>\n",
       "      <td>BOLUS INSULIN</td>\n",
       "      <td>INSULIN</td>\n",
       "      <td>BOLUS</td>\n",
       "      <td>0.15</td>\n",
       "      <td>U</td>\n",
       "      <td>2020-07-31 07:43:00</td>\n",
       "      <td>NaT</td>\n",
       "      <td>Pump</td>\n",
       "      <td>normal</td>\n",
       "      <td>NaN</td>\n",
       "      <td>NaN</td>\n",
       "      <td>INSULET OMNIPOD INSULIN MANAGEMENT SYSTEM</td>\n",
       "      <td>False</td>\n",
       "      <td>2020-07-31</td>\n",
       "      <td>0.15</td>\n",
       "    </tr>\n",
       "  </tbody>\n",
       "</table>\n",
       "</div>"
      ],
      "text/plain": [
       "        USUBJID  FATESTCD         FATEST    FAOBJ  FACAT  FAORRES FAORRESU  \\\n",
       "1814493      71  INSBOLUS  BOLUS INSULIN  INSULIN  BOLUS     0.20        U   \n",
       "1814494      71  INSBOLUS  BOLUS INSULIN  INSULIN  BOLUS     0.15        U   \n",
       "\n",
       "                      FADTC FADUR INSDVSRC INSSTYPE  INSNMBOL  INSEXBOL  \\\n",
       "1814493 2020-07-31 07:43:00   NaT     Pump   normal       NaN       NaN   \n",
       "1814494 2020-07-31 07:43:00   NaT     Pump   normal       NaN       NaN   \n",
       "\n",
       "                                             DXTRT  ISMDI         day  INSMNBL  \n",
       "1814493  INSULET OMNIPOD INSULIN MANAGEMENT SYSTEM  False  2020-07-31     0.20  \n",
       "1814494  INSULET OMNIPOD INSULIN MANAGEMENT SYSTEM  False  2020-07-31     0.15  "
      ]
     },
     "execution_count": 49,
     "metadata": {},
     "output_type": "execute_result"
    }
   ],
   "source": [
    "#Let's look at the two bolusses\n",
    "dup_rows.loc[dup_rows.FATEST=='BOLUS INSULIN']"
   ]
  },
  {
   "cell_type": "code",
   "execution_count": 50,
   "metadata": {},
   "outputs": [
    {
     "name": "stdout",
     "output_type": "stream",
     "text": [
      "476077\n"
     ]
    },
    {
     "data": {
      "text/html": [
       "<div>\n",
       "<style scoped>\n",
       "    .dataframe tbody tr th:only-of-type {\n",
       "        vertical-align: middle;\n",
       "    }\n",
       "\n",
       "    .dataframe tbody tr th {\n",
       "        vertical-align: top;\n",
       "    }\n",
       "\n",
       "    .dataframe thead th {\n",
       "        text-align: right;\n",
       "    }\n",
       "</style>\n",
       "<table border=\"1\" class=\"dataframe\">\n",
       "  <thead>\n",
       "    <tr style=\"text-align: right;\">\n",
       "      <th></th>\n",
       "      <th>USUBJID</th>\n",
       "      <th>FATESTCD</th>\n",
       "      <th>FATEST</th>\n",
       "      <th>FAOBJ</th>\n",
       "      <th>FACAT</th>\n",
       "      <th>FAORRES</th>\n",
       "      <th>FAORRESU</th>\n",
       "      <th>FADTC</th>\n",
       "      <th>FADUR</th>\n",
       "      <th>INSDVSRC</th>\n",
       "      <th>INSSTYPE</th>\n",
       "      <th>INSNMBOL</th>\n",
       "      <th>INSEXBOL</th>\n",
       "      <th>DXTRT</th>\n",
       "      <th>ISMDI</th>\n",
       "      <th>day</th>\n",
       "      <th>INSMNBL</th>\n",
       "    </tr>\n",
       "  </thead>\n",
       "  <tbody>\n",
       "    <tr>\n",
       "      <th>476252</th>\n",
       "      <td>1335</td>\n",
       "      <td>INSBASAL</td>\n",
       "      <td>BASAL INSULIN</td>\n",
       "      <td>INSULIN</td>\n",
       "      <td>BASAL</td>\n",
       "      <td>0.000</td>\n",
       "      <td>U</td>\n",
       "      <td>2020-10-22 04:00:00</td>\n",
       "      <td>0 days 00:00:00</td>\n",
       "      <td>Pump</td>\n",
       "      <td>NaN</td>\n",
       "      <td>NaN</td>\n",
       "      <td>NaN</td>\n",
       "      <td>MEDTRONIC 770G IN AUTO MODE</td>\n",
       "      <td>False</td>\n",
       "      <td>2020-10-22</td>\n",
       "      <td>NaN</td>\n",
       "    </tr>\n",
       "    <tr>\n",
       "      <th>476253</th>\n",
       "      <td>1335</td>\n",
       "      <td>INSBASAL</td>\n",
       "      <td>BASAL INSULIN</td>\n",
       "      <td>INSULIN</td>\n",
       "      <td>BASAL</td>\n",
       "      <td>2.625</td>\n",
       "      <td>U</td>\n",
       "      <td>2020-10-22 04:00:00</td>\n",
       "      <td>0 days 03:30:00</td>\n",
       "      <td>Pump</td>\n",
       "      <td>NaN</td>\n",
       "      <td>NaN</td>\n",
       "      <td>NaN</td>\n",
       "      <td>MEDTRONIC 770G IN AUTO MODE</td>\n",
       "      <td>False</td>\n",
       "      <td>2020-10-22</td>\n",
       "      <td>NaN</td>\n",
       "    </tr>\n",
       "    <tr>\n",
       "      <th>476076</th>\n",
       "      <td>1335</td>\n",
       "      <td>BASFLRT</td>\n",
       "      <td>BASAL FLOW RATE</td>\n",
       "      <td>INSULIN</td>\n",
       "      <td>BASAL</td>\n",
       "      <td>0.800</td>\n",
       "      <td>U/hr</td>\n",
       "      <td>2020-10-22 07:30:00</td>\n",
       "      <td>0 days 00:00:00</td>\n",
       "      <td>NaN</td>\n",
       "      <td>NaN</td>\n",
       "      <td>NaN</td>\n",
       "      <td>NaN</td>\n",
       "      <td>MEDTRONIC 770G IN AUTO MODE</td>\n",
       "      <td>False</td>\n",
       "      <td>2020-10-22</td>\n",
       "      <td>NaN</td>\n",
       "    </tr>\n",
       "    <tr>\n",
       "      <th>476077</th>\n",
       "      <td>1335</td>\n",
       "      <td>BASFLRT</td>\n",
       "      <td>BASAL FLOW RATE</td>\n",
       "      <td>INSULIN</td>\n",
       "      <td>BASAL</td>\n",
       "      <td>0.800</td>\n",
       "      <td>U/hr</td>\n",
       "      <td>2020-10-22 07:30:00</td>\n",
       "      <td>0 days 07:20:00</td>\n",
       "      <td>NaN</td>\n",
       "      <td>NaN</td>\n",
       "      <td>NaN</td>\n",
       "      <td>NaN</td>\n",
       "      <td>MEDTRONIC 770G IN AUTO MODE</td>\n",
       "      <td>False</td>\n",
       "      <td>2020-10-22</td>\n",
       "      <td>NaN</td>\n",
       "    </tr>\n",
       "    <tr>\n",
       "      <th>476255</th>\n",
       "      <td>1335</td>\n",
       "      <td>INSBASAL</td>\n",
       "      <td>BASAL INSULIN</td>\n",
       "      <td>INSULIN</td>\n",
       "      <td>BASAL</td>\n",
       "      <td>5.867</td>\n",
       "      <td>U</td>\n",
       "      <td>2020-10-22 07:30:00</td>\n",
       "      <td>0 days 07:20:00</td>\n",
       "      <td>Pump</td>\n",
       "      <td>NaN</td>\n",
       "      <td>NaN</td>\n",
       "      <td>NaN</td>\n",
       "      <td>MEDTRONIC 770G IN AUTO MODE</td>\n",
       "      <td>False</td>\n",
       "      <td>2020-10-22</td>\n",
       "      <td>NaN</td>\n",
       "    </tr>\n",
       "    <tr>\n",
       "      <th>476254</th>\n",
       "      <td>1335</td>\n",
       "      <td>INSBASAL</td>\n",
       "      <td>BASAL INSULIN</td>\n",
       "      <td>INSULIN</td>\n",
       "      <td>BASAL</td>\n",
       "      <td>0.000</td>\n",
       "      <td>U</td>\n",
       "      <td>2020-10-22 07:30:00</td>\n",
       "      <td>0 days 00:00:00</td>\n",
       "      <td>Pump</td>\n",
       "      <td>NaN</td>\n",
       "      <td>NaN</td>\n",
       "      <td>NaN</td>\n",
       "      <td>MEDTRONIC 770G IN AUTO MODE</td>\n",
       "      <td>False</td>\n",
       "      <td>2020-10-22</td>\n",
       "      <td>NaN</td>\n",
       "    </tr>\n",
       "    <tr>\n",
       "      <th>476078</th>\n",
       "      <td>1335</td>\n",
       "      <td>BASFLRT</td>\n",
       "      <td>BASAL FLOW RATE</td>\n",
       "      <td>INSULIN</td>\n",
       "      <td>BASAL</td>\n",
       "      <td>0.800</td>\n",
       "      <td>U/hr</td>\n",
       "      <td>2020-10-22 14:50:00</td>\n",
       "      <td>0 days 00:10:00</td>\n",
       "      <td>NaN</td>\n",
       "      <td>NaN</td>\n",
       "      <td>NaN</td>\n",
       "      <td>NaN</td>\n",
       "      <td>MEDTRONIC 770G IN AUTO MODE</td>\n",
       "      <td>False</td>\n",
       "      <td>2020-10-22</td>\n",
       "      <td>NaN</td>\n",
       "    </tr>\n",
       "  </tbody>\n",
       "</table>\n",
       "</div>"
      ],
      "text/plain": [
       "       USUBJID  FATESTCD           FATEST    FAOBJ  FACAT  FAORRES FAORRESU  \\\n",
       "476252    1335  INSBASAL    BASAL INSULIN  INSULIN  BASAL    0.000        U   \n",
       "476253    1335  INSBASAL    BASAL INSULIN  INSULIN  BASAL    2.625        U   \n",
       "476076    1335   BASFLRT  BASAL FLOW RATE  INSULIN  BASAL    0.800     U/hr   \n",
       "476077    1335   BASFLRT  BASAL FLOW RATE  INSULIN  BASAL    0.800     U/hr   \n",
       "476255    1335  INSBASAL    BASAL INSULIN  INSULIN  BASAL    5.867        U   \n",
       "476254    1335  INSBASAL    BASAL INSULIN  INSULIN  BASAL    0.000        U   \n",
       "476078    1335   BASFLRT  BASAL FLOW RATE  INSULIN  BASAL    0.800     U/hr   \n",
       "\n",
       "                     FADTC           FADUR INSDVSRC INSSTYPE  INSNMBOL  \\\n",
       "476252 2020-10-22 04:00:00 0 days 00:00:00     Pump      NaN       NaN   \n",
       "476253 2020-10-22 04:00:00 0 days 03:30:00     Pump      NaN       NaN   \n",
       "476076 2020-10-22 07:30:00 0 days 00:00:00      NaN      NaN       NaN   \n",
       "476077 2020-10-22 07:30:00 0 days 07:20:00      NaN      NaN       NaN   \n",
       "476255 2020-10-22 07:30:00 0 days 07:20:00     Pump      NaN       NaN   \n",
       "476254 2020-10-22 07:30:00 0 days 00:00:00     Pump      NaN       NaN   \n",
       "476078 2020-10-22 14:50:00 0 days 00:10:00      NaN      NaN       NaN   \n",
       "\n",
       "        INSEXBOL                        DXTRT  ISMDI         day  INSMNBL  \n",
       "476252       NaN  MEDTRONIC 770G IN AUTO MODE  False  2020-10-22      NaN  \n",
       "476253       NaN  MEDTRONIC 770G IN AUTO MODE  False  2020-10-22      NaN  \n",
       "476076       NaN  MEDTRONIC 770G IN AUTO MODE  False  2020-10-22      NaN  \n",
       "476077       NaN  MEDTRONIC 770G IN AUTO MODE  False  2020-10-22      NaN  \n",
       "476255       NaN  MEDTRONIC 770G IN AUTO MODE  False  2020-10-22      NaN  \n",
       "476254       NaN  MEDTRONIC 770G IN AUTO MODE  False  2020-10-22      NaN  \n",
       "476078       NaN  MEDTRONIC 770G IN AUTO MODE  False  2020-10-22      NaN  "
      ]
     },
     "metadata": {},
     "output_type": "display_data"
    }
   ],
   "source": [
    "#show examples for the basal flow rates\n",
    "\n",
    "#let's focus on basal flow rates\n",
    "#dup_basal_flows = dup_rows.loc[dup_rows.FATEST=='BASAL FLOW RATE']\n",
    "row = dup_rows.sample()\n",
    "\n",
    "subject = row.USUBJID.values[0]\n",
    "date = row.FADTC.dt.date.values[0]\n",
    "index = row.index[0]\n",
    "print(index)\n",
    "\n",
    "#display rows surrounding the duplicate\n",
    "context = facm.loc[(facm.USUBJID==subject) & (facm.FADTC.dt.date == date) & (facm.FACAT=='BASAL')].sort_values('FADTC')\n",
    "i = context.index.get_loc(index)\n",
    "display(context.iloc[i-3:i+4])"
   ]
  },
  {
   "cell_type": "code",
   "execution_count": 51,
   "metadata": {},
   "outputs": [
    {
     "data": {
      "image/png": "[encoded data removed]",
      "text/plain": [
       "<Figure size 800x200 with 1 Axes>"
      ]
     },
     "metadata": {},
     "output_type": "display_data"
    }
   ],
   "source": [
    "#let's compare how the maximum and non-maximum durations differ\n",
    "from src import pandas_helper\n",
    "from src import cdf\n",
    "dup_rows_flow_rates = dup_rows.loc[dup_rows.FATEST=='BASAL FLOW RATE']\n",
    "(i,i_max,i_drop) = pandas_helper.get_duplicated_max_indexes(dup_rows_flow_rates, ['USUBJID','FADTC','FATEST'],'FADUR')\n",
    "\n",
    "plt.figure(figsize=(8,2)); ax=plt.gca()\n",
    "cdf.plot_cdf(dup_rows_flow_rates.drop(i_drop).FADUR, label='max durs', color='red',ax=ax)\n",
    "cdf.plot_cdf(dup_rows_flow_rates.drop(i_max).FADUR, label='non max durs',color='blue',ax=ax)"
   ]
  },
  {
   "cell_type": "markdown",
   "metadata": {},
   "source": [
    "Yes, the non maximum values are mostly zero."
   ]
  },
  {
   "cell_type": "markdown",
   "metadata": {},
   "source": [
    "### ... summary\n",
    " - ~0.1 % duplicates\n",
    "    - domindated by a handful of patients\n",
    " - Only basal duplicates (2 bolus exceptions) to be ignored\n",
    " - When duplciates exist, they exist for deliveries and flow rates\n",
    "   - Assumption: once a incorrect flow rate was reported, the delivery was also incorrectly duplicated\n",
    "- Duplciates show a pattern:\n",
    "    - Duration: One row comes with 0 duration (probbaly wrong), the other row with a larger duration (that fits the start of the  next value)\n",
    "    - Dose: The BASAL deliveries then also have a wrong entry with a zero FAORRES (amount) value (cant divide by zero)\n",
    "\n",
    "How to deal with duplicates?\n",
    " - Use the row with the maximum duration"
   ]
  },
  {
   "cell_type": "markdown",
   "metadata": {},
   "source": [
    "### Corrupt data?\n",
    "The netiob script removes some patient and date combinations. \n",
    " - Which subjects and dates are being removed and why?\n"
   ]
  },
  {
   "cell_type": "markdown",
   "metadata": {},
   "source": [
    "#### Dropped patients\n",
    "\n",
    "The netiob script removes some patients. \n",
    "> usubjid_to_remove = ['1039', '1046', '1439', '317', '422', '956'] # List of subjects t be removed\n",
    "> df = df[~df['USUBJID'].isin(usubjid_to_remove)]   \n",
    "Unfortunately, we don't know why they are removed. Let's check if we should do the same.\n"
   ]
  },
  {
   "cell_type": "code",
   "execution_count": 397,
   "metadata": {},
   "outputs": [],
   "source": [
    "usubjid_to_remove = ['1039', '1046', '1439', '317', '422', '956'] # List of subjects t be removed"
   ]
  },
  {
   "cell_type": "code",
   "execution_count": 266,
   "metadata": {},
   "outputs": [
    {
     "name": "stdout",
     "output_type": "stream",
     "text": [
      "Number of events for patients to remove\n"
     ]
    },
    {
     "name": "stderr",
     "output_type": "stream",
     "text": [
      "/var/folders/m4/5d02b2xs0l52lbxzbk0t3vym0000gp/T/ipykernel_44548/2219275089.py:17: FutureWarning: Series.__getitem__ treating keys as positions is deprecated. In a future version, integer keys will always be treated as labels (consistent with DataFrame behavior). To access a value by position, use `ser.iloc[pos]`\n",
      "  ax.annotate(txt, (temp[i], np.random.choice([0.2,0.4,.6])), fontsize=8)\n"
     ]
    },
    {
     "data": {
      "text/plain": [
       "Text(0, 0.5, 'Patients')"
      ]
     },
     "execution_count": 266,
     "metadata": {},
     "output_type": "execute_result"
    },
    {
     "data": {
      "image/png": "[encoded data removed]",
      "text/plain": [
       "<Figure size 800x150 with 1 Axes>"
      ]
     },
     "metadata": {},
     "output_type": "display_data"
    }
   ],
   "source": [
    "#number of events overall\n",
    "\n",
    "#number of events (overall)\n",
    "plt.figure(figsize=(8,1.5)); ax=plt.gca()\n",
    "print('Number of events for patients to remove')\n",
    "num_events_overall = facm.groupby('USUBJID').size()\n",
    "#display(num_events_overall[usubjid_to_remove])\n",
    "\n",
    "#draw distribution \n",
    "#plt.scatter(num_events_overall,[1]*len(num_events_overall), color='gray',alpha=0.1,label='all')\n",
    "cdf.plot_cdf(num_events_overall, ax=ax,color='blue',label='all')\n",
    "plt.scatter(num_events_overall.loc[usubjid_to_remove], [0]*len(usubjid_to_remove),label='to remove', color='red', marker ='x')\n",
    "#plt.ylim(0.8,1.2); plt.xscale('log');\n",
    "#add subject name as text\n",
    "temp = num_events_overall.loc[usubjid_to_remove]\n",
    "for i, txt in enumerate(temp.index):\n",
    "    ax.annotate(txt, (temp[i], np.random.choice([0.2,0.4,.6])), fontsize=8)\n",
    "plt.legend()\n",
    "plt.xscale('log')\n",
    "plt.title('Number of events per patient'); plt.xlabel('Number of events'); plt.ylabel('Patients')"
   ]
  },
  {
   "cell_type": "markdown",
   "metadata": {},
   "source": [
    "Except for patient 1039, none of the patients stand out."
   ]
  },
  {
   "cell_type": "code",
   "execution_count": null,
   "metadata": {},
   "outputs": [
    {
     "name": "stdout",
     "output_type": "stream",
     "text": [
      "Maximum Basal Gap:\n"
     ]
    },
    {
     "data": {
      "image/png": "[encoded data removed]",
      "text/plain": [
       "<Figure size 800x150 with 1 Axes>"
      ]
     },
     "metadata": {},
     "output_type": "display_data"
    }
   ],
   "source": [
    "#check for basal gaps\n",
    "basal_gaps = facm.sort_values('FADTC').groupby(['USUBJID','day']).FADTC.agg(lambda x: x.diff().max())\n",
    "basal_gaps = basal_gaps.dropna().dt.total_seconds()/3600\n",
    "\n",
    "print('Maximum Basal Gap:')\n",
    "plt.figure(figsize=(8,1.5)); ax=plt.gca()\n",
    "cdf.plot_cdf(basal_gaps, ax=ax)\n",
    "temp = basal_gaps.loc[usubjid_to_remove]\n",
    "plt.scatter(temp,[0]*len(temp),marker='x', color='red')\n",
    "plt.xscale('log')"
   ]
  },
  {
   "cell_type": "markdown",
   "metadata": {},
   "source": [
    "The daily maximum gaps are not particularly large for the users to be removed. "
   ]
  },
  {
   "cell_type": "code",
   "execution_count": 272,
   "metadata": {},
   "outputs": [
    {
     "name": "stdout",
     "output_type": "stream",
     "text": [
      "Number of days for patients to remove\n"
     ]
    },
    {
     "name": "stderr",
     "output_type": "stream",
     "text": [
      "/var/folders/m4/5d02b2xs0l52lbxzbk0t3vym0000gp/T/ipykernel_44548/18416551.py:11: FutureWarning: Series.__getitem__ treating keys as positions is deprecated. In a future version, integer keys will always be treated as labels (consistent with DataFrame behavior). To access a value by position, use `ser.iloc[pos]`\n",
      "  ax.annotate(txt, (temp[i], np.random.choice([0.2,0.4,.6])), fontsize=8)\n",
      "/var/folders/m4/5d02b2xs0l52lbxzbk0t3vym0000gp/T/ipykernel_44548/18416551.py:12: UserWarning: No artists with labels found to put in legend.  Note that artists whose label start with an underscore are ignored when legend() is called with no argument.\n",
      "  plt.legend(); plt.title('Number of days per patient');\n"
     ]
    },
    {
     "data": {
      "image/png": "[encoded data removed]",
      "text/plain": [
       "<Figure size 800x150 with 1 Axes>"
      ]
     },
     "metadata": {},
     "output_type": "display_data"
    }
   ],
   "source": [
    "#number of days\n",
    "plt.figure(figsize=(8,1.5)); ax=plt.gca()\n",
    "print('Number of days for patients to remove')\n",
    "num_days = facm.groupby(['USUBJID']).day.nunique()\n",
    "\n",
    "#draw distribution \n",
    "cdf.plot_cdf(num_days,ax=ax)\n",
    "temp = num_days.loc[usubjid_to_remove]\n",
    "plt.scatter(temp,[0]*len(temp),marker='x', color='red');\n",
    "for i, txt in enumerate(temp.index):\n",
    "    ax.annotate(txt, (temp[i], np.random.choice([0.2,0.4,.6])), fontsize=8)\n",
    "plt.legend(); plt.title('Number of days per patient');"
   ]
  },
  {
   "cell_type": "markdown",
   "metadata": {},
   "source": [
    "The number of days are very short. THis might be a better criterion!"
   ]
  },
  {
   "cell_type": "code",
   "execution_count": 276,
   "metadata": {},
   "outputs": [
    {
     "name": "stdout",
     "output_type": "stream",
     "text": [
      "Total Daily Dose for patients to remove\n"
     ]
    },
    {
     "data": {
      "text/html": [
       "<div>\n",
       "<style scoped>\n",
       "    .dataframe tbody tr th:only-of-type {\n",
       "        vertical-align: middle;\n",
       "    }\n",
       "\n",
       "    .dataframe tbody tr th {\n",
       "        vertical-align: top;\n",
       "    }\n",
       "\n",
       "    .dataframe thead th {\n",
       "        text-align: right;\n",
       "    }\n",
       "</style>\n",
       "<table border=\"1\" class=\"dataframe\">\n",
       "  <thead>\n",
       "    <tr style=\"text-align: right;\">\n",
       "      <th></th>\n",
       "      <th></th>\n",
       "      <th></th>\n",
       "      <th>Bolus TDD</th>\n",
       "      <th>Basal TDD</th>\n",
       "    </tr>\n",
       "    <tr>\n",
       "      <th>DXTRT</th>\n",
       "      <th>USUBJID</th>\n",
       "      <th>day</th>\n",
       "      <th></th>\n",
       "      <th></th>\n",
       "    </tr>\n",
       "  </thead>\n",
       "  <tbody>\n",
       "    <tr>\n",
       "      <th>INSULET OMNIPOD INSULIN MANAGEMENT SYSTEM</th>\n",
       "      <th>1046</th>\n",
       "      <th>2021-01-18</th>\n",
       "      <td>3.75</td>\n",
       "      <td>187.380</td>\n",
       "    </tr>\n",
       "    <tr>\n",
       "      <th>TANDEM T:SLIM X2</th>\n",
       "      <th>317</th>\n",
       "      <th>2019-03-01</th>\n",
       "      <td>7.47</td>\n",
       "      <td>324.298</td>\n",
       "    </tr>\n",
       "  </tbody>\n",
       "</table>\n",
       "</div>"
      ],
      "text/plain": [
       "                                                              Bolus TDD  \\\n",
       "DXTRT                                     USUBJID day                     \n",
       "INSULET OMNIPOD INSULIN MANAGEMENT SYSTEM 1046    2021-01-18       3.75   \n",
       "TANDEM T:SLIM X2                          317     2019-03-01       7.47   \n",
       "\n",
       "                                                              Basal TDD  \n",
       "DXTRT                                     USUBJID day                    \n",
       "INSULET OMNIPOD INSULIN MANAGEMENT SYSTEM 1046    2021-01-18    187.380  \n",
       "TANDEM T:SLIM X2                          317     2019-03-01    324.298  "
      ]
     },
     "metadata": {},
     "output_type": "display_data"
    },
    {
     "data": {
      "image/png": "[encoded data removed]",
      "text/plain": [
       "<Figure size 800x150 with 1 Axes>"
      ]
     },
     "metadata": {},
     "output_type": "display_data"
    }
   ],
   "source": [
    "#draw tdd distribution\n",
    "plt.figure(figsize=(8,1.5)); ax=plt.gca()\n",
    "\n",
    "print('Total Daily Dose for patients to remove')\n",
    "cdf.plot_cdf(tdds.sum(axis=1),color='gray',alpha=0.1,ax=ax)\n",
    "#plt.hexbin(tdds['Bolus TDD'],tdds['Basal TDD'],xscale='log',yscale='log',gridsize=100)\n",
    "#plt.yscale('log'); plt.xscale('log')\n",
    "\n",
    "#add markers for patients to remove\n",
    "temp = tdds.loc[:,usubjid_to_remove,:].copy()\n",
    "display(temp.loc[temp.sum(axis=1)>150])\n",
    "plt.scatter(temp.sum(axis=1),[0]*len(temp), marker='x',color='red')\n",
    "plt.xlabel('Bolus TDD'); plt.ylabel('Basal TDD');\n",
    "#plt.xscale('log') \n",
    "#add text "
   ]
  },
  {
   "cell_type": "markdown",
   "metadata": {},
   "source": [
    "Two strong outliers >200 Units, some very small values. "
   ]
  },
  {
   "cell_type": "code",
   "execution_count": 151,
   "metadata": {},
   "outputs": [
    {
     "data": {
      "text/html": [
       "<div>\n",
       "<style scoped>\n",
       "    .dataframe tbody tr th:only-of-type {\n",
       "        vertical-align: middle;\n",
       "    }\n",
       "\n",
       "    .dataframe tbody tr th {\n",
       "        vertical-align: top;\n",
       "    }\n",
       "\n",
       "    .dataframe thead th {\n",
       "        text-align: right;\n",
       "    }\n",
       "</style>\n",
       "<table border=\"1\" class=\"dataframe\">\n",
       "  <thead>\n",
       "    <tr style=\"text-align: right;\">\n",
       "      <th></th>\n",
       "      <th>USUBJID</th>\n",
       "      <th>FATESTCD</th>\n",
       "      <th>FATEST</th>\n",
       "      <th>FAOBJ</th>\n",
       "      <th>FACAT</th>\n",
       "      <th>FAORRES</th>\n",
       "      <th>FAORRESU</th>\n",
       "      <th>FADTC</th>\n",
       "      <th>FADUR</th>\n",
       "      <th>INSDVSRC</th>\n",
       "      <th>INSSTYPE</th>\n",
       "      <th>INSNMBOL</th>\n",
       "      <th>INSEXBOL</th>\n",
       "      <th>DXTRT</th>\n",
       "      <th>ISMDI</th>\n",
       "      <th>day</th>\n",
       "      <th>INSMNBL</th>\n",
       "    </tr>\n",
       "  </thead>\n",
       "  <tbody>\n",
       "    <tr>\n",
       "      <th>1282022</th>\n",
       "      <td>317</td>\n",
       "      <td>BASFLRT</td>\n",
       "      <td>BASAL FLOW RATE</td>\n",
       "      <td>INSULIN</td>\n",
       "      <td>BASAL</td>\n",
       "      <td>0.460</td>\n",
       "      <td>U/hr</td>\n",
       "      <td>2019-03-01 12:40:42</td>\n",
       "      <td>28 days 19:41:01</td>\n",
       "      <td>NaN</td>\n",
       "      <td>NaN</td>\n",
       "      <td>NaN</td>\n",
       "      <td>NaN</td>\n",
       "      <td>TANDEM T:SLIM X2</td>\n",
       "      <td>False</td>\n",
       "      <td>2019-03-01</td>\n",
       "      <td>NaN</td>\n",
       "    </tr>\n",
       "    <tr>\n",
       "      <th>1282083</th>\n",
       "      <td>317</td>\n",
       "      <td>INSBASAL</td>\n",
       "      <td>BASAL INSULIN</td>\n",
       "      <td>INSULIN</td>\n",
       "      <td>BASAL</td>\n",
       "      <td>318.174</td>\n",
       "      <td>U</td>\n",
       "      <td>2019-03-01 12:40:42</td>\n",
       "      <td>28 days 19:41:01</td>\n",
       "      <td>Pump</td>\n",
       "      <td>scheduled</td>\n",
       "      <td>NaN</td>\n",
       "      <td>NaN</td>\n",
       "      <td>TANDEM T:SLIM X2</td>\n",
       "      <td>False</td>\n",
       "      <td>2019-03-01</td>\n",
       "      <td>NaN</td>\n",
       "    </tr>\n",
       "  </tbody>\n",
       "</table>\n",
       "</div>"
      ],
      "text/plain": [
       "        USUBJID  FATESTCD           FATEST    FAOBJ  FACAT  FAORRES FAORRESU  \\\n",
       "1282022     317   BASFLRT  BASAL FLOW RATE  INSULIN  BASAL    0.460     U/hr   \n",
       "1282083     317  INSBASAL    BASAL INSULIN  INSULIN  BASAL  318.174        U   \n",
       "\n",
       "                      FADTC            FADUR INSDVSRC   INSSTYPE  INSNMBOL  \\\n",
       "1282022 2019-03-01 12:40:42 28 days 19:41:01      NaN        NaN       NaN   \n",
       "1282083 2019-03-01 12:40:42 28 days 19:41:01     Pump  scheduled       NaN   \n",
       "\n",
       "         INSEXBOL             DXTRT  ISMDI         day  INSMNBL  \n",
       "1282022       NaN  TANDEM T:SLIM X2  False  2019-03-01      NaN  \n",
       "1282083       NaN  TANDEM T:SLIM X2  False  2019-03-01      NaN  "
      ]
     },
     "metadata": {},
     "output_type": "display_data"
    },
    {
     "data": {
      "image/png": "[encoded data removed]",
      "text/plain": [
       "<Figure size 800x150 with 1 Axes>"
      ]
     },
     "metadata": {},
     "output_type": "display_data"
    }
   ],
   "source": [
    "#inspect patient 317 on day 2019-03-01\n",
    "from datetime import datetime\n",
    "plt.figure(figsize=(8,1.5)); ax=plt.gca()\n",
    "temp = facm.loc[(facm.USUBJID=='317') & (facm.day==datetime(2019,3,1).date())]\n",
    "basals= temp.loc[temp.FATEST=='BASAL INSULIN'].sort_values('FADTC')\n",
    "display(temp.loc[temp.FACAT=='BASAL'].sort_values('FADTC').tail(2))\n",
    "drawing.drawBasal(ax,basals.FADTC,basals.FAORRES)\n",
    "plt.yscale('log')"
   ]
  },
  {
   "cell_type": "markdown",
   "metadata": {},
   "source": [
    "The last value is obviously wrong, it is calculated off of a basal rate with a very long duration.\n",
    "Let's check if the long durations are always the very last reported basal rate."
   ]
  },
  {
   "cell_type": "code",
   "execution_count": 165,
   "metadata": {},
   "outputs": [
    {
     "name": "stderr",
     "output_type": "stream",
     "text": [
      "/var/folders/m4/5d02b2xs0l52lbxzbk0t3vym0000gp/T/ipykernel_44548/3218986515.py:2: DeprecationWarning: DataFrameGroupBy.apply operated on the grouping columns. This behavior is deprecated, and in a future version of pandas the grouping columns will be excluded from the operation. Either pass `include_groups=False` to exclude the groupings or explicitly select the grouping columns after groupby to silence this warning.\n",
      "  max_durs = high_durations.groupby(['USUBJID']).apply(lambda x: x.loc[x.FADUR==x.FADUR.max()].FADTC.values[0]-x.FADTC.max())\n"
     ]
    },
    {
     "data": {
      "text/plain": [
       "USUBJID\n",
       "1046      0 days 00:00:00\n",
       "1161      0 days 00:00:00\n",
       "1283      0 days 00:00:00\n",
       "1649      0 days 00:00:00\n",
       "313       0 days 00:00:00\n",
       "317       0 days 00:00:00\n",
       "504       0 days 00:00:00\n",
       "556    -13 days +12:46:00\n",
       "897       0 days 00:00:00\n",
       "95        0 days 00:00:00\n",
       "dtype: timedelta64[ns]"
      ]
     },
     "execution_count": 165,
     "metadata": {},
     "output_type": "execute_result"
    }
   ],
   "source": [
    "#for max durations, check distance to last basal event\n",
    "high_durations = facm.loc[facm.FADUR>timedelta(hours=24)]\n",
    "max_durs = high_durations.groupby(['USUBJID']).apply(lambda x: x.loc[x.FADUR==x.FADUR.max()].FADTC.values[0]-x.FADTC.max())\n",
    "max_durs.dropna()"
   ]
  },
  {
   "cell_type": "markdown",
   "metadata": {},
   "source": [
    "We see that for most patients, the last duration is the max duration with one exception."
   ]
  },
  {
   "cell_type": "code",
   "execution_count": 195,
   "metadata": {},
   "outputs": [
    {
     "data": {
      "text/html": [
       "<div>\n",
       "<style scoped>\n",
       "    .dataframe tbody tr th:only-of-type {\n",
       "        vertical-align: middle;\n",
       "    }\n",
       "\n",
       "    .dataframe tbody tr th {\n",
       "        vertical-align: top;\n",
       "    }\n",
       "\n",
       "    .dataframe thead th {\n",
       "        text-align: right;\n",
       "    }\n",
       "</style>\n",
       "<table border=\"1\" class=\"dataframe\">\n",
       "  <thead>\n",
       "    <tr style=\"text-align: right;\">\n",
       "      <th></th>\n",
       "      <th>USUBJID</th>\n",
       "      <th>FATESTCD</th>\n",
       "      <th>FATEST</th>\n",
       "      <th>FAOBJ</th>\n",
       "      <th>FACAT</th>\n",
       "      <th>FAORRES</th>\n",
       "      <th>FAORRESU</th>\n",
       "      <th>FADTC</th>\n",
       "      <th>FADUR</th>\n",
       "      <th>INSDVSRC</th>\n",
       "      <th>INSSTYPE</th>\n",
       "      <th>INSNMBOL</th>\n",
       "      <th>INSEXBOL</th>\n",
       "      <th>DXTRT</th>\n",
       "      <th>ISMDI</th>\n",
       "      <th>day</th>\n",
       "      <th>INSMNBL</th>\n",
       "    </tr>\n",
       "  </thead>\n",
       "  <tbody>\n",
       "    <tr>\n",
       "      <th>1619999</th>\n",
       "      <td>556</td>\n",
       "      <td>BASFLRT</td>\n",
       "      <td>BASAL FLOW RATE</td>\n",
       "      <td>INSULIN</td>\n",
       "      <td>BASAL</td>\n",
       "      <td>0.95</td>\n",
       "      <td>U/hr</td>\n",
       "      <td>2021-01-13 06:00:00</td>\n",
       "      <td>14 days 18:00:00</td>\n",
       "      <td>NaN</td>\n",
       "      <td>NaN</td>\n",
       "      <td>NaN</td>\n",
       "      <td>NaN</td>\n",
       "      <td>INSULET OMNIPOD INSULIN MANAGEMENT SYSTEM</td>\n",
       "      <td>False</td>\n",
       "      <td>2021-01-13</td>\n",
       "      <td>NaN</td>\n",
       "    </tr>\n",
       "    <tr>\n",
       "      <th>1620028</th>\n",
       "      <td>556</td>\n",
       "      <td>BASFLRT</td>\n",
       "      <td>BASAL FLOW RATE</td>\n",
       "      <td>INSULIN</td>\n",
       "      <td>BASAL</td>\n",
       "      <td>0.51</td>\n",
       "      <td>U/hr</td>\n",
       "      <td>2021-01-25 17:14:00</td>\n",
       "      <td>2 days 02:21:00</td>\n",
       "      <td>NaN</td>\n",
       "      <td>NaN</td>\n",
       "      <td>NaN</td>\n",
       "      <td>NaN</td>\n",
       "      <td>INSULET OMNIPOD INSULIN MANAGEMENT SYSTEM</td>\n",
       "      <td>False</td>\n",
       "      <td>2021-01-25</td>\n",
       "      <td>NaN</td>\n",
       "    </tr>\n",
       "  </tbody>\n",
       "</table>\n",
       "</div>"
      ],
      "text/plain": [
       "        USUBJID FATESTCD           FATEST    FAOBJ  FACAT  FAORRES FAORRESU  \\\n",
       "1619999     556  BASFLRT  BASAL FLOW RATE  INSULIN  BASAL     0.95     U/hr   \n",
       "1620028     556  BASFLRT  BASAL FLOW RATE  INSULIN  BASAL     0.51     U/hr   \n",
       "\n",
       "                      FADTC            FADUR INSDVSRC INSSTYPE  INSNMBOL  \\\n",
       "1619999 2021-01-13 06:00:00 14 days 18:00:00      NaN      NaN       NaN   \n",
       "1620028 2021-01-25 17:14:00  2 days 02:21:00      NaN      NaN       NaN   \n",
       "\n",
       "         INSEXBOL                                      DXTRT  ISMDI  \\\n",
       "1619999       NaN  INSULET OMNIPOD INSULIN MANAGEMENT SYSTEM  False   \n",
       "1620028       NaN  INSULET OMNIPOD INSULIN MANAGEMENT SYSTEM  False   \n",
       "\n",
       "                day  INSMNBL  \n",
       "1619999  2021-01-13      NaN  \n",
       "1620028  2021-01-25      NaN  "
      ]
     },
     "metadata": {},
     "output_type": "display_data"
    },
    {
     "data": {
      "image/png": "[encoded data removed]",
      "text/plain": [
       "<Figure size 800x200 with 1 Axes>"
      ]
     },
     "metadata": {},
     "output_type": "display_data"
    },
    {
     "data": {
      "image/png": "[encoded data removed]",
      "text/plain": [
       "<Figure size 800x200 with 1 Axes>"
      ]
     },
     "metadata": {},
     "output_type": "display_data"
    }
   ],
   "source": [
    "#let's look at the exception:\n",
    "def draw_data_in_context(df,datetime,subject,hours, fatest_type='BASAL FLOW RATE',ax=None):\n",
    "    if ax is None:\n",
    "        plt.figure(figsize=(8,2)); ax=plt.gca()\n",
    "\n",
    "    sub_frame = df.loc[(df.USUBJID==subject) \n",
    "                       & (df.FATEST == fatest_type)\n",
    "                       & (df.FADTC < datetime+timedelta(hours=hours)) \n",
    "                       & (df.FADTC > datetime-timedelta(hours=hours))].sort_values('FADTC')\n",
    "    sub_frame.sort_values('FADTC')\n",
    "    if fatest_type == 'BASAL FLOW RATE' or fatest_type == 'BASAL INSULIN':\n",
    "        drawing.drawBasal(ax,sub_frame.FADTC, sub_frame.FAORRES)\n",
    "        # draw the durations as horizontal lines\n",
    "        for i, row in sub_frame.iterrows():\n",
    "            ax.hlines(row.FAORRES, row.FADTC, row.FADTC+row.FADUR, color='red')\n",
    "    ax.set_xlim((datetime-timedelta(hours=hours),datetime+timedelta(hours=hours)))\n",
    "    return ax\n",
    "\n",
    "#get the rows for which the maximum duration is greater than 24 hours\n",
    "temp = facm.loc[(facm.USUBJID=='556') & (facm.FATEST=='BASAL FLOW RATE')].sort_values('FADTC')\n",
    "sample = temp.loc[temp.FADUR>timedelta(hours=24)]\n",
    "display(sample)\n",
    "\n",
    "for row in sample.itertuples():\n",
    "    draw_data_in_context(facm, row.FADTC, row.USUBJID, 36, fatest_type='BASAL FLOW RATE')\n",
    "    plt.yscale('log')\n",
    "    plt.title(f'Basal for p={row.USUBJID} around {row.FADTC}')\n"
   ]
  },
  {
   "cell_type": "markdown",
   "metadata": {},
   "source": [
    "#### Dropped dates\n",
    "The netiob script drops certain dates, lets take a look at them "
   ]
  },
  {
   "cell_type": "code",
   "execution_count": 213,
   "metadata": {},
   "outputs": [
    {
     "name": "stdout",
     "output_type": "stream",
     "text": [
      "Subject 1193 on 2020-04-13 has no basal flow rates\n",
      "Subject 1611 on 2019-07-30 has no boluses\n",
      "Subject 550 on 2021-02-15 has no basal flow rates\n",
      "Subject 576 on 2019-02-20 has no boluses\n"
     ]
    },
    {
     "data": {
      "image/png": "[encoded data removed]",
      "text/plain": [
       "<Figure size 1500x1400 with 28 Axes>"
      ]
     },
     "metadata": {},
     "output_type": "display_data"
    }
   ],
   "source": [
    "items_to_be_tossed = {\n",
    "    '1016': ['2020-05-20'], \n",
    "    '946': ['2019-11-29', '2019-11-28'],\n",
    "    '1076': ['2019-12-17'], \n",
    "    '1127': ['2019-07-23'], \n",
    "    '1193': ['2020-04-13', '2020-04-14'],\n",
    "    '1248': ['2020-02-11'],\n",
    "    '1542': ['2020-08-02'],\n",
    "    '1611': ['2019-07-30'],\n",
    "    '1615': ['2019-08-16'],\n",
    "    '183': ['2020-03-10'],\n",
    "    '550': ['2021-02-15', '2021-02-16', '2021-02-17', '2021-02-18', '2021-02-19', \n",
    "            '2021-02-20', '2021-02-21', '2021-02-22'],\n",
    "    '576': ['2019-02-20', '2019-02-21'],\n",
    "    '692': ['2020-08-15'],\n",
    "    '945': ['2019-08-24']}\n",
    "\n",
    "f, AX = plt.subplots(len(items_to_be_tossed),1,figsize=(15, 1*len(items_to_be_tossed)))#,sharey=True)\n",
    "for i,(subject, date_strings) in enumerate(items_to_be_tossed.items()):\n",
    "    ax = AX[i]; twinx = ax.twinx()\n",
    "    date = datetime.strptime(date_strings[0],'%Y-%m-%d').date()\n",
    "    #print(f\"Subject {subject} on {date}\")\n",
    "    sub_frame = facm.loc[(facm.USUBJID==subject) & (facm.day == date)].sort_values('FADTC')\n",
    "    basal = sub_frame.loc[sub_frame.FATEST=='BASAL INSULIN']\n",
    "    bolus = sub_frame.loc[sub_frame.FATEST=='BOLUS INSULIN']\n",
    "    if len(basal)>0:\n",
    "        drawing.drawBasal(ax,basal.FADTC, basal.FAORRES)\n",
    "        for i, row in basal.iterrows():\n",
    "            ax.hlines(row.FAORRES, row.FADTC, row.FADTC+row.FADUR, color='red')\n",
    "    else: \n",
    "        print(f\"Subject {subject} on {date} has no basal flow rates\")\n",
    "    \n",
    "    if len(bolus)>0:\n",
    "        drawing.drawBoluses(twinx, bolus.FADTC, bolus.FAORRES)\n",
    "    else:\n",
    "        print(f\"Subject {subject} on {date} has no boluses\")\n",
    "    ax.set_xlim((date,date+timedelta(days=1)))"
   ]
  },
  {
   "cell_type": "markdown",
   "metadata": {},
   "source": [
    "### ...summary \n",
    "**Patients**:  \n",
    "- The distributions show\n",
    "- number of events:\n",
    "    - not vastly different\n",
    "    - 1039 has very few, but other users affected too\n",
    "- Maximum Basal Gaps\n",
    "    - very normal\n",
    "- TDDs\n",
    "    - two extreme exceptions\n",
    "- Durations\n",
    "    - On further inspection, we saw that some patients have extremely high durations \n",
    "    - This causes wrong high basal deliveries\n",
    "    - High durations often happen as last basal value\n",
    "    - however, 556 is an exception from this rule (here, one example actually causes overlaps, which we haven't removed yet)\n",
    "\n",
    "**Dates:**\n",
    " - The days have either no basal or only limited basal, some have a few boluses.\n",
    "\n",
    "**Conclusion**\n",
    " - There is no general trend that would support removing these patients\n",
    " - Number of days might be a better criterion\n",
    " - Extremely long durations might need to be removed!\n",
    " - Some might be automatically resolved by using the overlap-removal discussed earlier\n"
   ]
  },
  {
   "cell_type": "markdown",
   "metadata": {},
   "source": [
    "## Collected Questions & Answers\n",
    "\n",
    "**Answered Questions**  \n",
    "- The script only considers FATEST == 'BASAL INSULIN' thus ignoring BASAL FLOW RATE. Is this correct?\n",
    "      - This is because flow rates are equivalent to the deliveries\n",
    "- Why is FASTRES Nan when FAORRESU is U/hr but not when it is U?\n",
    "  - This is because FASTRES represents a standard unit and U/hr is not supported, use the original unit FAORRESU instead.\n",
    "- There are no 0 FASTRESN values but many NaN. How are 0 basal rates reported?\n",
    "  - It appears as if NaN Basal Flow Rates (at least for Pump users) mark zero values. \n",
    "- Why are some boluses only in FAORRES but not in INSNMBOL and INSEXBOL\n",
    "  - It appears as if these boluses were not properly classified. This is true for at least 26% of the boluses\n",
    "  - However, it is unclear why.\n",
    "- We see that sometimes, FATEST and sometimes FACAT are used to to identify BASAL or BOLUS. Are there difference between FATEST and FACAT? \n",
    "    - No, the columns are identical. \n",
    "- We see that there are different rules used between 670G and Tandem vs. 770G to select basal and boluses. Are there differences between the pumps and which column conditions to use?\n",
    "    - No, specifying specific INSTYPE does not seem to make much sense. In fact it would exclude 16% NaN rows (most of which are MDI). We don't know why they are NaN but don;t see eveidence that these rows are wrong. \n",
    "    - Recommendation: Do not use INSTYPE to sub-select basal rows. \n",
    "- We see temporal Boluses and Basal duplicates, what should we do?\n",
    "    - Only two bolsues, ignore.\n",
    "    - 0.1% basal duplicates. It appears as if there are incorrect rows with zero delivery duration. Therefore, keep those with maximum duration. \n",
    "\n",
    "\n",
    "**Open Questions:**  \n",
    "3. The script removes some patient and date combinations. \n",
    " - Which subjects and dates are being removed and why?\n",
    "\n",
    "\n",
    "5. In 770G, the Basal (FACAT == Basal) duration (FADUR) is calculated as it it is missing for other pumps.\n",
    "\n",
    "- AID\n",
    "  - Why are `TANDEM T:SLIM X2 WITH BASAL IQ` not considered AID?\n",
    "  - How do we know if Pump was running AID or not?\n",
    "- BASAL\n",
    "    - Why are there many rows with NaN values in `FASTRESN` for FATEST being BASAL INSULIN or BASAL FLOW RATE?\n",
    "- Why are there MDI patients with basal flow Rates\n",
    "  - The values are NaN but we don't know why there are these empty rows.\n",
    "\n",
    "netiob specific:\n",
    "    - Why did netiob excluded basal rows without INSTYPE ? These are 16% of all basals, mostly MDI\n",
    "\n",
    "\n",
    "learnings\n",
    "1. FACAT and FATEST, are identical (they use different acronyms but are consistent), use only one of them.\n",
    "2. Do not use INSTYPE to sub-select basal rows because some INSTYPE are NaN and we don't want to miss them. Use FATEST or FACAT instead. \n"
   ]
  },
  {
   "cell_type": "markdown",
   "metadata": {},
   "source": []
  }
 ],
 "metadata": {
  "kernelspec": {
   "display_name": "babelbetes",
   "language": "python",
   "name": "python3"
  },
  "language_info": {
   "codemirror_mode": {
    "name": "ipython",
    "version": 3
   },
   "file_extension": ".py",
   "mimetype": "text/x-python",
   "name": "python",
   "nbconvert_exporter": "python",
   "pygments_lexer": "ipython3",
   "version": "3.11.0"
  }
 },
 "nbformat": 4,
 "nbformat_minor": 2
}
