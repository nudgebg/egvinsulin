{
 "cells": [
  {
   "cell_type": "markdown",
   "metadata": {},
   "source": [
    "**Problem**:\n",
    "\n",
    "We need a good understanding of the T1DExi data. After having assessed the netiob script, and the study documentation some questions remain about how the columns relate. Especially the script often uses equivalent columns which makes it difficult. The analysis of the script output also leads to strong concerns about the validity of the output.\n",
    "\n",
    "- Do we need all the columns or are they mostly redundant?\n",
    "- Can we rely on the table as presented in T1DEXI ACRF_15Sept2022.pdf? or rather on the script?\n",
    "- The script sometimes uses FATEST (test) and FACAT (category) depending on which pump is being looked at 670g and 770g?\n",
    "- The script does not extract extended boluses in 770g, why?\n",
    "- Is FASTRESN just a copy of the value in INSEXBOL or INSNMBOL and FAORRES (Basal)?\n",
    "-  ...\n",
    "\n",
    "We want to take a close look at the data itself.\n",
    "\n",
    "**Goal**: Load xpt file into pandas in jupyter. Identify relevant columns and verify how they relate to another."
   ]
  },
  {
   "cell_type": "code",
   "execution_count": 1,
   "metadata": {},
   "outputs": [],
   "source": [
    "#imports\n",
    "\n",
    "#notebook\n",
    "import os\n",
    "import sys\n",
    "sys.path.append('../..')\n",
    "import matplotlib.pyplot as plt\n",
    "from src import cdf\n",
    "\n",
    "# relevant for the class\n",
    "import numpy as np\n",
    "import pandas as pd\n",
    "from datetime import datetime, timedelta\n",
    "import isodate"
   ]
  },
  {
   "cell_type": "markdown",
   "metadata": {},
   "source": [
    "## Load the data"
   ]
  },
  {
   "cell_type": "code",
   "execution_count": 2,
   "metadata": {},
   "outputs": [],
   "source": [
    "#define path\n",
    "t1dexi_path = os.path.join(os.getcwd(),'..','..','data','raw','T1DEXI')"
   ]
  },
  {
   "cell_type": "markdown",
   "metadata": {},
   "source": [
    "### load device file"
   ]
  },
  {
   "cell_type": "code",
   "execution_count": 3,
   "metadata": {},
   "outputs": [
    {
     "data": {
      "text/html": [
       "<div>\n",
       "<style scoped>\n",
       "    .dataframe tbody tr th:only-of-type {\n",
       "        vertical-align: middle;\n",
       "    }\n",
       "\n",
       "    .dataframe tbody tr th {\n",
       "        vertical-align: top;\n",
       "    }\n",
       "\n",
       "    .dataframe thead th {\n",
       "        text-align: right;\n",
       "    }\n",
       "</style>\n",
       "<table border=\"1\" class=\"dataframe\">\n",
       "  <thead>\n",
       "    <tr style=\"text-align: right;\">\n",
       "      <th></th>\n",
       "      <th>USUBJID</th>\n",
       "      <th>DXTRT</th>\n",
       "    </tr>\n",
       "  </thead>\n",
       "  <tbody>\n",
       "    <tr>\n",
       "      <th>781</th>\n",
       "      <td>749</td>\n",
       "      <td>TANDEM T:SLIM X2 WITH CONTROL IQ</td>\n",
       "    </tr>\n",
       "    <tr>\n",
       "      <th>554</th>\n",
       "      <td>378</td>\n",
       "      <td>INSULIN PUMP</td>\n",
       "    </tr>\n",
       "    <tr>\n",
       "      <th>894</th>\n",
       "      <td>963</td>\n",
       "      <td>MEDTRONIC 630G</td>\n",
       "    </tr>\n",
       "  </tbody>\n",
       "</table>\n",
       "</div>"
      ],
      "text/plain": [
       "    USUBJID                             DXTRT\n",
       "781     749  TANDEM T:SLIM X2 WITH CONTROL IQ\n",
       "554     378                      INSULIN PUMP\n",
       "894     963                    MEDTRONIC 630G"
      ]
     },
     "metadata": {},
     "output_type": "display_data"
    }
   ],
   "source": [
    "#load and preprocess dx file\n",
    "dx = pd.read_sas(os.path.join(t1dexi_path,'DX.xpt'),encoding='latin-1').replace('', np.nan)\n",
    "dx = dx.drop(columns=['DXSCAT','DXPRESP','STUDYID','DOMAIN','SPDEVID','DXSEQ','DXCAT','DXSCAT','DXSTRTPT','DXDTC','DXENRTPT','DXEVINTX','VISIT'])\n",
    "display(dx.sample(3))\n",
    "#drop generic device codes that are duplicates of the true pump\n",
    "#dx = dx.loc[dx.DXTRT.isin(['INSULIN PUMP','CLOSED LOOP INSULIN PUMP'])]"
   ]
  },
  {
   "cell_type": "markdown",
   "metadata": {},
   "source": [
    "### assess device counts and treatment types"
   ]
  },
  {
   "cell_type": "code",
   "execution_count": 4,
   "metadata": {},
   "outputs": [
    {
     "name": "stdout",
     "output_type": "stream",
     "text": [
      "There are 502 unique subjects in the dx dataset\n",
      "These are broken down by devices as follows:\n"
     ]
    },
    {
     "data": {
      "text/plain": [
       "DXTRT\n",
       "CLOSED LOOP INSULIN PUMP                     225\n",
       "TANDEM T:SLIM X2 WITH CONTROL IQ             190\n",
       "INSULIN PUMP                                 189\n",
       "INSULET OMNIPOD INSULIN MANAGEMENT SYSTEM    106\n",
       "MULTIPLE DAILY INJECTIONS                     88\n",
       "MEDTRONIC 670G IN AUTO MODE                   33\n",
       "TANDEM T:SLIM X2 WITH BASAL IQ                23\n",
       "MEDTRONIC 670G IN MANUAL MODE                 21\n",
       "MEDTRONIC 630G                                 9\n",
       "TANDEM T:SLIM X2                               8\n",
       "TANDEM T:SLIM                                  5\n",
       "MEDTRONIC PARADIGM 723 (REVEL)                 4\n",
       "MEDTRONIC 670G                                 3\n",
       "MEDTRONIC 770G                                 2\n",
       "MEDTRONIC 770G IN AUTO MODE                    2\n",
       "MEDTRONIC 551 (530G)                           2\n",
       "MEDTRONIC 751 (530G)                           2\n",
       "MEDTRONIC PARADIGM 523 (REVEL)                 1\n",
       "MEDTRONIC PARADIGM 522                         1\n",
       "INSULET OMNIPOD DASH                           1\n",
       "MEDTRONIC 640G                                 1\n",
       "Name: count, dtype: int64"
      ]
     },
     "metadata": {},
     "output_type": "display_data"
    },
    {
     "name": "stdout",
     "output_type": "stream",
     "text": [
      "Pump: 414, MDI: 88, Other: 414\n"
     ]
    },
    {
     "data": {
      "text/plain": [
       "TRTMNT  DXTRT                                    \n",
       "AID     MEDTRONIC 670G IN AUTO MODE                   32\n",
       "        MEDTRONIC 770G                                 1\n",
       "        MEDTRONIC 770G IN AUTO MODE                    2\n",
       "        TANDEM T:SLIM X2 WITH CONTROL IQ             190\n",
       "CSII    INSULET OMNIPOD DASH                           1\n",
       "        INSULET OMNIPOD INSULIN MANAGEMENT SYSTEM    106\n",
       "        MEDTRONIC 551 (530G)                           2\n",
       "        MEDTRONIC 630G                                 9\n",
       "        MEDTRONIC 640G                                 1\n",
       "        MEDTRONIC 670G                                 3\n",
       "        MEDTRONIC 670G IN AUTO MODE                    1\n",
       "        MEDTRONIC 670G IN MANUAL MODE                 21\n",
       "        MEDTRONIC 751 (530G)                           2\n",
       "        MEDTRONIC 770G                                 1\n",
       "        MEDTRONIC PARADIGM 522                         1\n",
       "        MEDTRONIC PARADIGM 523 (REVEL)                 1\n",
       "        MEDTRONIC PARADIGM 723 (REVEL)                 4\n",
       "        TANDEM T:SLIM                                  5\n",
       "        TANDEM T:SLIM X2                               8\n",
       "        TANDEM T:SLIM X2 WITH BASAL IQ                23\n",
       "MDI     MULTIPLE DAILY INJECTIONS                     88\n",
       "Name: count, dtype: int64"
      ]
     },
     "execution_count": 4,
     "metadata": {},
     "output_type": "execute_result"
    }
   ],
   "source": [
    "#assess device counts and treatment types\n",
    "\n",
    "#print dx value counts (subjects, devices)\n",
    "print(f'There are {dx.USUBJID.nunique()} unique subjects in the dx dataset')\n",
    "print('These are broken down by devices as follows:')\n",
    "display(dx.value_counts('DXTRT'))\n",
    "\n",
    "\n",
    "#the duplicated 'INSULIN PUMP' or 'CLOSED LOOP INSULIN PUMP' values can be used to specify the pump type\n",
    "pump_type = dx.loc[dx.DXTRT.isin(['INSULIN PUMP','CLOSED LOOP INSULIN PUMP'])][['USUBJID','DXTRT']]\n",
    "mdi_type = dx.loc[dx.DXTRT.isin(['MULTIPLE DAILY INJECTIONS'])]\n",
    "other_type = dx.loc[~dx.DXTRT.isin(['INSULIN PUMP','CLOSED LOOP INSULIN PUMP','MULTIPLE DAILY INJECTIONS'])]\n",
    "print(f'Pump: {len(pump_type)}, MDI: {len(mdi_type)}, Other: {len(other_type)}')\n",
    "\n",
    "#use the redundant rows as treatment type and add those to new TRTMNT Colum (CSII, AID, MDI)\n",
    "treatment_type = dx.loc[dx.DXTRT.isin(['INSULIN PUMP','CLOSED LOOP INSULIN PUMP','MULTIPLE DAILY INJECTIONS'])][['USUBJID','DXTRT']].rename(columns={'DXTRT':'TRTMNT'})\n",
    "treatment_type['TRTMNT'] = treatment_type.TRTMNT.replace({'INSULIN PUMP':'CSII','CLOSED LOOP INSULIN PUMP':'AID','MULTIPLE DAILY INJECTIONS':'MDI'})\n",
    "treatment = pd.merge(dx.loc[~dx.DXTRT.isin(['INSULIN PUMP','CLOSED LOOP INSULIN PUMP'])], treatment_type, on='USUBJID',how='inner')\n",
    "treatment.value_counts(['TRTMNT','DXTRT'],sort=False)"
   ]
  },
  {
   "cell_type": "markdown",
   "metadata": {},
   "source": [
    "\n",
    "We can see some inconsistent classificaitons:  \n",
    " - 770G in the AID section is probably a 770G in Auto MODE\n",
    " - TANDEM T:SLIM X2 WITH BASAL IQ in the CSII are probably AID\n",
    " - MEDTRONIC 670G IN AUTO MODE in CSII are probably AID instead\n",
    "\n",
    "So, can we trust this list? The netiob scripts made the following observation:  \n",
    ">[Discretional]. We observed that subject ID: 766 device type should be 'MEDTRONIC 770G IN AUTO MODE' and we updated as such\n",
    "        device_data.loc[device_data['USUBJID'] == '766', 'DXTRT'] = 'MEDTRONIC 770G IN AUTO MODE'\n",
    "\n",
    "However, there are also many TANDEM with BASAL IQ, these could probbaly also be considered to be AID. Ultimately, the netiob script assigned the treatment based on the DXTRT name alone.   \n",
    "\n",
    "**Conclusion**: ATM we don't know which one to use."
   ]
  },
  {
   "cell_type": "markdown",
   "metadata": {},
   "source": [
    "### Load FACM file"
   ]
  },
  {
   "cell_type": "code",
   "execution_count": 5,
   "metadata": {},
   "outputs": [
    {
     "name": "stdout",
     "output_type": "stream",
     "text": [
      "Number of % in facm: 0, dx: 0\n"
     ]
    },
    {
     "data": {
      "text/html": [
       "<div>\n",
       "<style scoped>\n",
       "    .dataframe tbody tr th:only-of-type {\n",
       "        vertical-align: middle;\n",
       "    }\n",
       "\n",
       "    .dataframe tbody tr th {\n",
       "        vertical-align: top;\n",
       "    }\n",
       "\n",
       "    .dataframe thead th {\n",
       "        text-align: right;\n",
       "    }\n",
       "</style>\n",
       "<table border=\"1\" class=\"dataframe\">\n",
       "  <thead>\n",
       "    <tr style=\"text-align: right;\">\n",
       "      <th></th>\n",
       "      <th>USUBJID</th>\n",
       "      <th>FATESTCD</th>\n",
       "      <th>FATEST</th>\n",
       "      <th>FAOBJ</th>\n",
       "      <th>FACAT</th>\n",
       "      <th>FAORRES</th>\n",
       "      <th>FAORRESU</th>\n",
       "      <th>FADTC</th>\n",
       "      <th>FADUR</th>\n",
       "      <th>INSDVSRC</th>\n",
       "      <th>INSSTYPE</th>\n",
       "      <th>INSNMBOL</th>\n",
       "      <th>INSEXBOL</th>\n",
       "    </tr>\n",
       "  </thead>\n",
       "  <tbody>\n",
       "    <tr>\n",
       "      <th>600715</th>\n",
       "      <td>1400</td>\n",
       "      <td>BASFLRT</td>\n",
       "      <td>BASAL FLOW RATE</td>\n",
       "      <td>INSULIN</td>\n",
       "      <td>BASAL</td>\n",
       "      <td>0.667</td>\n",
       "      <td>U/hr</td>\n",
       "      <td>2020-11-05 19:03:45</td>\n",
       "      <td>0 days 00:05:00</td>\n",
       "      <td>NaN</td>\n",
       "      <td>NaN</td>\n",
       "      <td>NaN</td>\n",
       "      <td>NaN</td>\n",
       "    </tr>\n",
       "    <tr>\n",
       "      <th>458410</th>\n",
       "      <td>1328</td>\n",
       "      <td>INSBASAL</td>\n",
       "      <td>BASAL INSULIN</td>\n",
       "      <td>INSULIN</td>\n",
       "      <td>BASAL</td>\n",
       "      <td>0.169</td>\n",
       "      <td>U</td>\n",
       "      <td>2020-08-18 06:17:54</td>\n",
       "      <td>0 days 00:05:00</td>\n",
       "      <td>Pump</td>\n",
       "      <td>temp</td>\n",
       "      <td>NaN</td>\n",
       "      <td>NaN</td>\n",
       "    </tr>\n",
       "    <tr>\n",
       "      <th>526401</th>\n",
       "      <td>1354</td>\n",
       "      <td>INSBASAL</td>\n",
       "      <td>BASAL INSULIN</td>\n",
       "      <td>INSULIN</td>\n",
       "      <td>BASAL</td>\n",
       "      <td>0.391</td>\n",
       "      <td>U</td>\n",
       "      <td>2020-02-18 23:43:14</td>\n",
       "      <td>0 days 00:16:46</td>\n",
       "      <td>Pump</td>\n",
       "      <td>scheduled</td>\n",
       "      <td>NaN</td>\n",
       "      <td>NaN</td>\n",
       "    </tr>\n",
       "    <tr>\n",
       "      <th>2138476</th>\n",
       "      <td>945</td>\n",
       "      <td>INSBASAL</td>\n",
       "      <td>BASAL INSULIN</td>\n",
       "      <td>INSULIN</td>\n",
       "      <td>BASAL</td>\n",
       "      <td>0.423</td>\n",
       "      <td>U</td>\n",
       "      <td>2019-08-28 18:46:30</td>\n",
       "      <td>0 days 00:05:00</td>\n",
       "      <td>Pump</td>\n",
       "      <td>temp</td>\n",
       "      <td>NaN</td>\n",
       "      <td>NaN</td>\n",
       "    </tr>\n",
       "    <tr>\n",
       "      <th>264910</th>\n",
       "      <td>1161</td>\n",
       "      <td>INSBASAL</td>\n",
       "      <td>BASAL INSULIN</td>\n",
       "      <td>INSULIN</td>\n",
       "      <td>BASAL</td>\n",
       "      <td>7.016</td>\n",
       "      <td>U</td>\n",
       "      <td>2020-12-12 07:22:12</td>\n",
       "      <td>0 days 04:40:39</td>\n",
       "      <td>Pump</td>\n",
       "      <td>scheduled</td>\n",
       "      <td>NaN</td>\n",
       "      <td>NaN</td>\n",
       "    </tr>\n",
       "  </tbody>\n",
       "</table>\n",
       "</div>"
      ],
      "text/plain": [
       "        USUBJID  FATESTCD           FATEST    FAOBJ  FACAT  FAORRES FAORRESU  \\\n",
       "600715     1400   BASFLRT  BASAL FLOW RATE  INSULIN  BASAL    0.667     U/hr   \n",
       "458410     1328  INSBASAL    BASAL INSULIN  INSULIN  BASAL    0.169        U   \n",
       "526401     1354  INSBASAL    BASAL INSULIN  INSULIN  BASAL    0.391        U   \n",
       "2138476     945  INSBASAL    BASAL INSULIN  INSULIN  BASAL    0.423        U   \n",
       "264910     1161  INSBASAL    BASAL INSULIN  INSULIN  BASAL    7.016        U   \n",
       "\n",
       "                      FADTC           FADUR INSDVSRC   INSSTYPE  INSNMBOL  \\\n",
       "600715  2020-11-05 19:03:45 0 days 00:05:00      NaN        NaN       NaN   \n",
       "458410  2020-08-18 06:17:54 0 days 00:05:00     Pump       temp       NaN   \n",
       "526401  2020-02-18 23:43:14 0 days 00:16:46     Pump  scheduled       NaN   \n",
       "2138476 2019-08-28 18:46:30 0 days 00:05:00     Pump       temp       NaN   \n",
       "264910  2020-12-12 07:22:12 0 days 04:40:39     Pump  scheduled       NaN   \n",
       "\n",
       "         INSEXBOL  \n",
       "600715        NaN  \n",
       "458410        NaN  \n",
       "526401        NaN  \n",
       "2138476       NaN  \n",
       "264910        NaN  "
      ]
     },
     "metadata": {},
     "output_type": "display_data"
    }
   ],
   "source": [
    "#load and preprocess facm file\n",
    "facm = pd.read_sas(os.path.join(t1dexi_path,'FACM.xpt'),encoding='latin-1',).replace('', np.nan)\n",
    "\n",
    "#'FAORRES','FASTRESC' and FASTRESN all show the finding (result) (however, 0 values show up as 5.397605e-79 in FASTRESN)\n",
    "#`FAORRES`: Result or Finding in Original Units\n",
    "#`FASTRESC`: Character Result/Finding in Std Format\n",
    "#`FASTRESN`: Numeric Result/Finding in Standard Unit\n",
    "facm['FAORRES'] = facm['FAORRES'].astype(float)\n",
    "\n",
    "#FAORRESU and FASTRESU refer to the Unit but since U/hr is not a standard unit it is NaN in FASTRESU\n",
    "#`FAORRESU`: Original Units\n",
    "#`FASTRESU`: Standard Units\n",
    "facm = facm.drop(columns=['STUDYID','DOMAIN','FASEQ',\n",
    "                          'FASTRESN','FASTRESC',# Numeric results are 5.397605e-79 for 0 values, therefore use FAORRES (original units),FASTRESC is just a string duplicated\n",
    "                          'FASTRESU', #standard units are NaN for U/hr , therefore use FAORRESU (original units)\n",
    "                          ]) \n",
    "\n",
    "#alternatively we could use \n",
    "facm['FADTC'] = facm['FADTC'].apply(lambda x: datetime(1960, 1, 1) + timedelta(seconds=x) if pd.notnull(x) else pd.NaT)\n",
    "facm['FADUR'] = facm.FADUR.dropna().apply(isodate.parse_duration, as_timedelta_if_possible=True)\n",
    "\n",
    "#note, we didn't need to replace % signs and we didn't need xport as in the scripts\n",
    "percent_count_facm = facm.apply(lambda x: x.astype(str).str.contains('%').sum()).sum()\n",
    "percent_count_dx = dx.apply(lambda x: x.astype(str).str.contains('%').sum()).sum()\n",
    "print(f'Number of % in facm: {percent_count_facm}, dx: {percent_count_dx}')\n",
    "\n",
    "display(facm.sample(5))"
   ]
  },
  {
   "cell_type": "code",
   "execution_count": 6,
   "metadata": {},
   "outputs": [
    {
     "data": {
      "text/plain": [
       "USUBJID           0\n",
       "FATESTCD          0\n",
       "FATEST            0\n",
       "FAOBJ             0\n",
       "FACAT             0\n",
       "FAORRES      -30248\n",
       "FAORRESU          0\n",
       "FADTC             0\n",
       "FADUR       -114473\n",
       "INSDVSRC   -1053401\n",
       "INSSTYPE   -1068093\n",
       "INSNMBOL   -2136615\n",
       "INSEXBOL   -2216541\n",
       "dtype: int64"
      ]
     },
     "execution_count": 6,
     "metadata": {},
     "output_type": "execute_result"
    }
   ],
   "source": [
    "facm.count()-len(facm)"
   ]
  },
  {
   "cell_type": "markdown",
   "metadata": {},
   "source": [
    "- FAORRES has less values, this is because it is a \"standard unit\" which is Nan for non standard stuff like U/here\n",
    "- FADUR is missing for boluses and basal deliveries (basal deliveries (non flow rates) are mostly set to 5 minutes)\n",
    "- insulin type and source are often missing\n",
    "- INSNMBOL and INSEXBOL are often missing (probably mostly for all the basal values)"
   ]
  },
  {
   "cell_type": "markdown",
   "metadata": {},
   "source": [
    "### Merge devices to facm"
   ]
  },
  {
   "cell_type": "code",
   "execution_count": 7,
   "metadata": {},
   "outputs": [
    {
     "data": {
      "text/html": [
       "<div>\n",
       "<style scoped>\n",
       "    .dataframe tbody tr th:only-of-type {\n",
       "        vertical-align: middle;\n",
       "    }\n",
       "\n",
       "    .dataframe tbody tr th {\n",
       "        vertical-align: top;\n",
       "    }\n",
       "\n",
       "    .dataframe thead th {\n",
       "        text-align: right;\n",
       "    }\n",
       "</style>\n",
       "<table border=\"1\" class=\"dataframe\">\n",
       "  <thead>\n",
       "    <tr style=\"text-align: right;\">\n",
       "      <th></th>\n",
       "      <th>USUBJID</th>\n",
       "      <th>FATESTCD</th>\n",
       "      <th>FATEST</th>\n",
       "      <th>FAOBJ</th>\n",
       "      <th>FACAT</th>\n",
       "      <th>FAORRES</th>\n",
       "      <th>FAORRESU</th>\n",
       "      <th>FADTC</th>\n",
       "      <th>FADUR</th>\n",
       "      <th>INSDVSRC</th>\n",
       "      <th>INSSTYPE</th>\n",
       "      <th>INSNMBOL</th>\n",
       "      <th>INSEXBOL</th>\n",
       "      <th>DXTRT</th>\n",
       "    </tr>\n",
       "  </thead>\n",
       "  <tbody>\n",
       "    <tr>\n",
       "      <th>2130675</th>\n",
       "      <td>943</td>\n",
       "      <td>BASFLRT</td>\n",
       "      <td>BASAL FLOW RATE</td>\n",
       "      <td>INSULIN</td>\n",
       "      <td>BASAL</td>\n",
       "      <td>3.139</td>\n",
       "      <td>U/hr</td>\n",
       "      <td>2021-04-23 04:33:47</td>\n",
       "      <td>0 days 00:05:00</td>\n",
       "      <td>NaN</td>\n",
       "      <td>NaN</td>\n",
       "      <td>NaN</td>\n",
       "      <td>NaN</td>\n",
       "      <td>TANDEM T:SLIM X2 WITH CONTROL IQ</td>\n",
       "    </tr>\n",
       "    <tr>\n",
       "      <th>1938843</th>\n",
       "      <td>78</td>\n",
       "      <td>BASFLRT</td>\n",
       "      <td>BASAL FLOW RATE</td>\n",
       "      <td>INSULIN</td>\n",
       "      <td>BASAL</td>\n",
       "      <td>0.300</td>\n",
       "      <td>U/hr</td>\n",
       "      <td>2020-12-27 14:21:46</td>\n",
       "      <td>0 days 00:05:01</td>\n",
       "      <td>NaN</td>\n",
       "      <td>NaN</td>\n",
       "      <td>NaN</td>\n",
       "      <td>NaN</td>\n",
       "      <td>TANDEM T:SLIM X2 WITH CONTROL IQ</td>\n",
       "    </tr>\n",
       "  </tbody>\n",
       "</table>\n",
       "</div>"
      ],
      "text/plain": [
       "        USUBJID FATESTCD           FATEST    FAOBJ  FACAT  FAORRES FAORRESU  \\\n",
       "2130675     943  BASFLRT  BASAL FLOW RATE  INSULIN  BASAL    3.139     U/hr   \n",
       "1938843      78  BASFLRT  BASAL FLOW RATE  INSULIN  BASAL    0.300     U/hr   \n",
       "\n",
       "                      FADTC           FADUR INSDVSRC INSSTYPE  INSNMBOL  \\\n",
       "2130675 2021-04-23 04:33:47 0 days 00:05:00      NaN      NaN       NaN   \n",
       "1938843 2020-12-27 14:21:46 0 days 00:05:01      NaN      NaN       NaN   \n",
       "\n",
       "         INSEXBOL                             DXTRT  \n",
       "2130675       NaN  TANDEM T:SLIM X2 WITH CONTROL IQ  \n",
       "1938843       NaN  TANDEM T:SLIM X2 WITH CONTROL IQ  "
      ]
     },
     "metadata": {},
     "output_type": "display_data"
    }
   ],
   "source": [
    "## merge devices to facm \n",
    "\n",
    "#drop the generic device codes that are duplicates of the true pump before merging\n",
    "temp = dx.loc[~dx.DXTRT.isin(['INSULIN PUMP','CLOSED LOOP INSULIN PUMP'])]\n",
    "facm = pd.merge(facm, temp, on='USUBJID',how='left')\n",
    "display(facm.sample(2))"
   ]
  },
  {
   "cell_type": "markdown",
   "metadata": {},
   "source": [
    "## Understand Basal and Boluses"
   ]
  },
  {
   "cell_type": "markdown",
   "metadata": {},
   "source": [
    "### Inspect column hiarchy"
   ]
  },
  {
   "cell_type": "code",
   "execution_count": 8,
   "metadata": {},
   "outputs": [
    {
     "name": "stdout",
     "output_type": "stream",
     "text": [
      "Overall number of rows in FACM 2219524\n"
     ]
    },
    {
     "data": {
      "text/plain": [
       "FAOBJ    FACAT  FATESTCD  FATEST           INSDVSRC    INSSTYPE                  \n",
       "INSULIN  BASAL  BASFLRT   BASAL FLOW RATE  NaN         NaN                           1053401\n",
       "                INSBASAL  BASAL INSULIN    Injections  NaN                              2365\n",
       "                                           Pump        automated                      237033\n",
       "                                                       scheduled                      258749\n",
       "                                                       suspend                         14457\n",
       "                                                       temp                           537986\n",
       "                                                       NaN                              2811\n",
       "         BOLUS  INSBOLUS  BOLUS INSULIN    Injections  NaN                              9516\n",
       "                                           Pump        automated                        1619\n",
       "                                                       automatic bolus/correction         26\n",
       "                                                       combination                        48\n",
       "                                                       dual (normal part)                  1\n",
       "                                                       dual (square part)                  1\n",
       "                                                       dual/square                      2631\n",
       "                                                       normal                          98456\n",
       "                                                       square                            351\n",
       "                                                       standard                           27\n",
       "                                                       standard/correction                46\n",
       "Name: count, dtype: int64"
      ]
     },
     "metadata": {},
     "output_type": "display_data"
    },
    {
     "data": {
      "text/plain": [
       "FATEST           INSDVSRC    FAORRESU\n",
       "BASAL FLOW RATE  NaN         U/hr        1053401\n",
       "BASAL INSULIN    Injections  U              2365\n",
       "                 Pump        U           1051036\n",
       "BOLUS INSULIN    Injections  U              9516\n",
       "                 Pump        U            103206\n",
       "Name: count, dtype: int64"
      ]
     },
     "metadata": {},
     "output_type": "display_data"
    }
   ],
   "source": [
    "#print hierachical value counts of relevant columns\n",
    "print(f'Overall number of rows in FACM {facm.shape[0]}')\n",
    "\n",
    "vcounts= facm.value_counts(subset=['FAOBJ','FACAT','FATESTCD','FATEST','INSDVSRC','INSSTYPE'],sort=False,dropna=False)\n",
    "display(vcounts)\n",
    "\n",
    "#We see that source and sub type are NaN when fatest is basal flow rate. So do the units differ?\n",
    "vcounts = facm.value_counts(subset=['FATEST','INSDVSRC','FAORRESU'],sort=False,dropna=False)\n",
    "display(vcounts)"
   ]
  },
  {
   "cell_type": "markdown",
   "metadata": {},
   "source": [
    "Observations\n",
    " 1. `FAOBJ` is always INSULIN and can be ignored\n",
    " 2. `FACAT` separates between BOLUS and BASAL\n",
    " 3. `FATESTCD` and `FATEST` have the same meaning (basal, basal flow rate and bolus), Use FATEST because it is more explicit\n",
    " 3. `INSTYPE` is *NaN* when device Source (`INSDVSRC`) is *NaN* or *Injections* and for some Basals with Pump source"
   ]
  },
  {
   "cell_type": "markdown",
   "metadata": {},
   "source": [
    "### Basal Rates vs. Basal Flow Rates"
   ]
  },
  {
   "cell_type": "markdown",
   "metadata": {},
   "source": [
    "**Observations:**  \n",
    "1. We see that there are Basal Rates and Basal Flow Rates. \n",
    "2. It is unclear if these are duplicates or if both need to be considered. \n",
    "3. The netiob script only considers FATEST == 'BASAL INSULIN' thus ignoring BASAL FLOW RATE. \n",
    "  - Is this correct?  \n",
    "4. Also, we see that there Are Basal Flow Rates in MDI. \n",
    "\n",
    "**We want to check.**  \n",
    "1. How often these are available (by device)\n",
    "   - when dropping Nan FASTRESN rows\n",
    "2. Do deliveries (U) modulate the flow rates (U/hr)?\n",
    " - Comparing sums (flow rates* duration  vs. basal deliveries)\n",
    "3. Why there are BASAL FLOW Rates in MDI?"
   ]
  },
  {
   "cell_type": "markdown",
   "metadata": {},
   "source": [
    "We start by checking if basal flow rates exist for all insulin pumps:"
   ]
  },
  {
   "cell_type": "code",
   "execution_count": 9,
   "metadata": {},
   "outputs": [],
   "source": [
    "#Add MDI label for further analysis\n",
    "facm['ISMDI']=facm.DXTRT=='MULTIPLE DAILY INJECTIONS'"
   ]
  },
  {
   "cell_type": "code",
   "execution_count": 10,
   "metadata": {},
   "outputs": [
    {
     "name": "stdout",
     "output_type": "stream",
     "text": [
      "BASAL FLOW RATE by pump:\n"
     ]
    },
    {
     "data": {
      "text/plain": [
       "DXTRT\n",
       "TANDEM T:SLIM X2 WITH CONTROL IQ             852614\n",
       "MEDTRONIC 670G IN AUTO MODE                  150612\n",
       "INSULET OMNIPOD INSULIN MANAGEMENT SYSTEM     17425\n",
       "TANDEM T:SLIM X2 WITH BASAL IQ                13761\n",
       "MEDTRONIC 670G IN MANUAL MODE                  6370\n",
       "TANDEM T:SLIM X2                               2347\n",
       "MEDTRONIC 630G                                 1862\n",
       "MEDTRONIC 770G                                 1122\n",
       "TANDEM T:SLIM                                  1093\n",
       "MEDTRONIC PARADIGM 723 (REVEL)                  966\n",
       "MEDTRONIC 640G                                  503\n",
       "MEDTRONIC 670G                                  493\n",
       "MEDTRONIC 751 (530G)                            472\n",
       "MEDTRONIC 551 (530G)                            448\n",
       "MEDTRONIC 770G IN AUTO MODE                     416\n",
       "INSULET OMNIPOD DASH                            198\n",
       "MEDTRONIC PARADIGM 522                          188\n",
       "MEDTRONIC PARADIGM 523 (REVEL)                  146\n",
       "Name: count, dtype: int64"
      ]
     },
     "metadata": {},
     "output_type": "display_data"
    },
    {
     "name": "stdout",
     "output_type": "stream",
     "text": [
      "Number of basal flow rate rows for which the insulin amount (FASTRESN) is NaN\n",
      "1.33% overall\n",
      "0.00% of durations are NaN\n"
     ]
    }
   ],
   "source": [
    "#print value counts for pump FLOW RATE\n",
    "\n",
    "#Are BASAL FLOW RATEs and BASAL present in all devices?\n",
    "print('BASAL FLOW RATE by pump:')\n",
    "flow_rates = facm.loc[(facm.FATEST=='BASAL FLOW RATE') & ~facm.ISMDI]\n",
    "display(flow_rates.DXTRT.value_counts(sort=True, dropna=False))\n",
    "\n",
    "#NaN counts\n",
    "print('Number of basal flow rate rows for which the insulin amount (FASTRESN) is NaN')\n",
    "print(f'{flow_rates.FAORRES.isna().sum()/len(flow_rates)*100:.2f}% overall')\n",
    "print(f'{flow_rates.FADUR.isna().sum()/len(flow_rates)*100:.2f}% of durations are NaN')"
   ]
  },
  {
   "cell_type": "markdown",
   "metadata": {},
   "source": [
    " **Observations:**  \n",
    " - NaN flow rates are the exception in pumps\n",
    " - In rare cases the duration is NaN as well"
   ]
  },
  {
   "cell_type": "markdown",
   "metadata": {},
   "source": [
    "#### Basal Flow Rate Modulation\n",
    "Now we check if basal deliveries (U) modulate the basal delivery rates (U/hr). \n",
    "We know that there are some NaN flow rates and we will check if these could reflect 0 flow rates."
   ]
  },
  {
   "cell_type": "code",
   "execution_count": 11,
   "metadata": {},
   "outputs": [
    {
     "data": {
      "image/png": "[encoded data removed]",
      "text/plain": [
       "<Figure size 800x200 with 1 Axes>"
      ]
     },
     "metadata": {},
     "output_type": "display_data"
    }
   ],
   "source": [
    "#what is the difference between basals in units and units/h, is there any diff?\n",
    "plt.figure(figsize=(8,2));ax=plt.gca()\n",
    "cdf.plot_cdf(facm.loc[facm.FATEST=='BASAL INSULIN'].FAORRES,ax=ax,color='blue',label='U')\n",
    "cdf.plot_cdf(facm.loc[facm.FATEST=='BASAL FLOW RATE'].FAORRES,ax=ax,color='red',label='U/hr')\n",
    "ax.set_xlim(-.2,4)\n",
    "plt.title('BASAL INSULIN vs. BASAL FLOW RATE'); ax.legend()\n",
    "plt.show()"
   ]
  },
  {
   "cell_type": "markdown",
   "metadata": {},
   "source": [
    "We see that the deliveries are much smaller indicating that these are the actual deliveries."
   ]
  },
  {
   "cell_type": "code",
   "execution_count": 12,
   "metadata": {},
   "outputs": [
    {
     "data": {
      "image/png": "[encoded data removed]",
      "text/plain": [
       "<Figure size 2000x300 with 2 Axes>"
      ]
     },
     "metadata": {},
     "output_type": "display_data"
    },
    {
     "data": {
      "image/png": "[encoded data removed]",
      "text/plain": [
       "<Figure size 2000x300 with 2 Axes>"
      ]
     },
     "metadata": {},
     "output_type": "display_data"
    }
   ],
   "source": [
    "#plot examples for basal flow rates and basal deliveries for \n",
    "from src import drawing\n",
    "from importlib import reload\n",
    "reload(drawing)\n",
    "\n",
    "#show an example of a flow rate and a basal within the same subject\n",
    "#patient_id = np.random.choice(['1542', '1550','1286','389'])\n",
    "patient_ids = facm.loc[~facm.DXTRT.isin(['MULTIPLE DAILY INJECTIONS'])].USUBJID.sample(2).values\n",
    "for patient_id in patient_ids:#['1542', '389']:\n",
    "\n",
    "    sub = facm.loc[(facm.USUBJID==patient_id)&(facm.FATEST.notna())].sort_values('FADTC')\n",
    "    start = sub.FADTC.min()+timedelta(days=1)\n",
    "    dur = timedelta(hours=48)\n",
    "    sub = sub.loc[(sub.FADTC>=start)&(sub.FADTC<=start+dur)]\n",
    "\n",
    "    sub_flow_rates = sub.loc[sub.FATEST=='BASAL FLOW RATE']\n",
    "    sub_basals = sub.loc[sub.FATEST=='BASAL INSULIN']\n",
    "    \n",
    "    #draw basal delivery rates\n",
    "    plt.figure(figsize=(20,3)); ax=plt.gca()\n",
    "    drawing.drawAbsoluteBasalRates(ax,sub_flow_rates.FADTC.values, sub_flow_rates.FAORRES.values,label='U/hr',hatch=None)\n",
    "    \n",
    "    #draw individual basal deliveries\n",
    "    twinx = ax.twinx()\n",
    "    drawing.drawBoluses(twinx,sub_basals.FADTC, sub_basals.FAORRES,label='U',width=timedelta(minutes=1))\n",
    "    plt.title(f'Basals rates of {patient_id} from {start} to {start+dur}'); \n",
    "    \n",
    "    # draw Nan deliveries as red xs at zero\n",
    "    nan_flow_rates = sub_flow_rates.loc[sub_flow_rates.FAORRES.isna()]\n",
    "    plt.scatter(nan_flow_rates.FADTC, [0]*len(nan_flow_rates), color='red', marker='v', s=100)\n",
    "    \n",
    "    # Set ylim to current limits but reduce minimum by 0.1\n",
    "    ylim = ax.get_ylim()\n",
    "    ax.set_ylim(ylim[0] - 0.1, ylim[1])"
   ]
  },
  {
   "cell_type": "markdown",
   "metadata": {},
   "source": [
    "Above we saw that the NaN values happen in regions where flow rates are 0. Let's look at a few examples."
   ]
  },
  {
   "cell_type": "code",
   "execution_count": 13,
   "metadata": {},
   "outputs": [
    {
     "data": {
      "text/html": [
       "<div>\n",
       "<style scoped>\n",
       "    .dataframe tbody tr th:only-of-type {\n",
       "        vertical-align: middle;\n",
       "    }\n",
       "\n",
       "    .dataframe tbody tr th {\n",
       "        vertical-align: top;\n",
       "    }\n",
       "\n",
       "    .dataframe thead th {\n",
       "        text-align: right;\n",
       "    }\n",
       "</style>\n",
       "<table border=\"1\" class=\"dataframe\">\n",
       "  <thead>\n",
       "    <tr style=\"text-align: right;\">\n",
       "      <th></th>\n",
       "      <th>USUBJID</th>\n",
       "      <th>FATESTCD</th>\n",
       "      <th>FATEST</th>\n",
       "      <th>FAOBJ</th>\n",
       "      <th>FACAT</th>\n",
       "      <th>FAORRES</th>\n",
       "      <th>FAORRESU</th>\n",
       "      <th>FADTC</th>\n",
       "      <th>FADUR</th>\n",
       "      <th>INSDVSRC</th>\n",
       "      <th>INSSTYPE</th>\n",
       "      <th>INSNMBOL</th>\n",
       "      <th>INSEXBOL</th>\n",
       "      <th>DXTRT</th>\n",
       "      <th>ISMDI</th>\n",
       "    </tr>\n",
       "  </thead>\n",
       "  <tbody>\n",
       "    <tr>\n",
       "      <th>888309</th>\n",
       "      <td>159</td>\n",
       "      <td>BASFLRT</td>\n",
       "      <td>BASAL FLOW RATE</td>\n",
       "      <td>INSULIN</td>\n",
       "      <td>BASAL</td>\n",
       "      <td>0.95</td>\n",
       "      <td>U/hr</td>\n",
       "      <td>2019-11-11 16:00:00</td>\n",
       "      <td>0 days 03:22:08</td>\n",
       "      <td>NaN</td>\n",
       "      <td>NaN</td>\n",
       "      <td>NaN</td>\n",
       "      <td>NaN</td>\n",
       "      <td>INSULET OMNIPOD INSULIN MANAGEMENT SYSTEM</td>\n",
       "      <td>False</td>\n",
       "    </tr>\n",
       "    <tr>\n",
       "      <th>888310</th>\n",
       "      <td>159</td>\n",
       "      <td>BASFLRT</td>\n",
       "      <td>BASAL FLOW RATE</td>\n",
       "      <td>INSULIN</td>\n",
       "      <td>BASAL</td>\n",
       "      <td>NaN</td>\n",
       "      <td>U/hr</td>\n",
       "      <td>2019-11-11 19:22:08</td>\n",
       "      <td>0 days 00:02:49</td>\n",
       "      <td>NaN</td>\n",
       "      <td>NaN</td>\n",
       "      <td>NaN</td>\n",
       "      <td>NaN</td>\n",
       "      <td>INSULET OMNIPOD INSULIN MANAGEMENT SYSTEM</td>\n",
       "      <td>False</td>\n",
       "    </tr>\n",
       "    <tr>\n",
       "      <th>888311</th>\n",
       "      <td>159</td>\n",
       "      <td>BASFLRT</td>\n",
       "      <td>BASAL FLOW RATE</td>\n",
       "      <td>INSULIN</td>\n",
       "      <td>BASAL</td>\n",
       "      <td>0.95</td>\n",
       "      <td>U/hr</td>\n",
       "      <td>2019-11-11 19:24:57</td>\n",
       "      <td>0 days 00:35:03</td>\n",
       "      <td>NaN</td>\n",
       "      <td>NaN</td>\n",
       "      <td>NaN</td>\n",
       "      <td>NaN</td>\n",
       "      <td>INSULET OMNIPOD INSULIN MANAGEMENT SYSTEM</td>\n",
       "      <td>False</td>\n",
       "    </tr>\n",
       "  </tbody>\n",
       "</table>\n",
       "</div>"
      ],
      "text/plain": [
       "       USUBJID FATESTCD           FATEST    FAOBJ  FACAT  FAORRES FAORRESU  \\\n",
       "888309     159  BASFLRT  BASAL FLOW RATE  INSULIN  BASAL     0.95     U/hr   \n",
       "888310     159  BASFLRT  BASAL FLOW RATE  INSULIN  BASAL      NaN     U/hr   \n",
       "888311     159  BASFLRT  BASAL FLOW RATE  INSULIN  BASAL     0.95     U/hr   \n",
       "\n",
       "                     FADTC           FADUR INSDVSRC INSSTYPE  INSNMBOL  \\\n",
       "888309 2019-11-11 16:00:00 0 days 03:22:08      NaN      NaN       NaN   \n",
       "888310 2019-11-11 19:22:08 0 days 00:02:49      NaN      NaN       NaN   \n",
       "888311 2019-11-11 19:24:57 0 days 00:35:03      NaN      NaN       NaN   \n",
       "\n",
       "        INSEXBOL                                      DXTRT  ISMDI  \n",
       "888309       NaN  INSULET OMNIPOD INSULIN MANAGEMENT SYSTEM  False  \n",
       "888310       NaN  INSULET OMNIPOD INSULIN MANAGEMENT SYSTEM  False  \n",
       "888311       NaN  INSULET OMNIPOD INSULIN MANAGEMENT SYSTEM  False  "
      ]
     },
     "metadata": {},
     "output_type": "display_data"
    }
   ],
   "source": [
    "#draw examples of rows surrounding nan basal deliveries\n",
    "sample_nan_delivery_rates = facm.loc[(facm.FATEST=='BASAL FLOW RATE') & (facm.FAORRES.isna())].sample(1)\n",
    "\n",
    "for row in sample_nan_delivery_rates.itertuples():\n",
    "    sub = facm.loc[(facm.FATEST=='BASAL FLOW RATE') & (facm.USUBJID == row.USUBJID)].sort_values('FADTC')\n",
    "    #use iloc to make sure we get the temporal neighbors\n",
    "    i_loc = sub.index.get_loc(row.Index)\n",
    "    display(sub.iloc[i_loc-1:i_loc+2])#[['FADTC','FADUR', 'FAORRES']])"
   ]
  },
  {
   "cell_type": "markdown",
   "metadata": {},
   "source": [
    "**Observations:**  \n",
    "- The basal deliveries happen every 5 minutes and module the basal rate (U/hr) (at least in the example above).\n",
    "- The NaN values happen in regions where flow rates are 0 and likely mark temporal suspensions.\n",
    "\n",
    "So, are the delivery rates and individual deliveries equivalent?\n",
    "  - We can check by calculating the sum (using U/hr and duration) and compare it to the sum obtained on all basal values (U)"
   ]
  },
  {
   "cell_type": "markdown",
   "metadata": {},
   "source": [
    "##### Comparing basal flow rate and deliveries sums"
   ]
  },
  {
   "cell_type": "code",
   "execution_count": 14,
   "metadata": {},
   "outputs": [
    {
     "name": "stdout",
     "output_type": "stream",
     "text": [
      "For 100.00% of flow rates (pump only) rows have a duration\n",
      "Total Daily Basal doses are 225440.01U (flow rates) 225465.93U (deliveries)\n",
      "The error is:\n"
     ]
    },
    {
     "data": {
      "text/plain": [
       "mean    -0.002375\n",
       "std      0.007214\n",
       "min     -0.073941\n",
       "max      0.074593\n",
       "sum    -25.922600\n",
       "dtype: float64"
      ]
     },
     "metadata": {},
     "output_type": "display_data"
    }
   ],
   "source": [
    "#compare sums of total basal doses between deliveries and flow rates\n",
    "\n",
    "pump_rows = facm.loc[~facm.ISMDI].copy()\n",
    "pump_rows['day'] = pump_rows.FADTC.dt.date\n",
    "\n",
    "# Check if for all Basal flow rates, there is a duration\n",
    "print(f\"For {100*pump_rows.loc[facm.FATEST=='BASAL FLOW RATE'].FADUR.notna().mean():.2f}% of flow rates (pump only) rows have a duration\")\n",
    "\n",
    "#calculate daily basal delivery as the product of duration and flow rate\n",
    "flow_rates_with_dur = pump_rows.loc[pump_rows.FATEST=='BASAL FLOW RATE'].dropna(subset=['FADUR'])\n",
    "pump_rows['basal_rate'] =  flow_rates_with_dur.FAORRES * flow_rates_with_dur.FADUR.dt.total_seconds()/3600\n",
    "daily_flowrate_sums = pump_rows.groupby(['USUBJID','day'])['basal_rate'].sum(min_count=1)\n",
    "\n",
    "#calculate daily basal delivery as the sum of all deliveries\n",
    "daily_delivery_sums = pump_rows.loc[pump_rows.FATEST=='BASAL INSULIN'].groupby(['USUBJID','day'])['FAORRES'].sum(min_count=1)\n",
    "\n",
    "#compare the daily deliveries\n",
    "print(f'Total Daily Basal doses are {daily_flowrate_sums.sum():.2f}U (flow rates) {daily_delivery_sums.sum():.2f}U (deliveries)')\n",
    "print(f\"The error is:\")\n",
    "display((daily_flowrate_sums-daily_delivery_sums).agg(['mean','std','min','max','sum']))"
   ]
  },
  {
   "cell_type": "code",
   "execution_count": 15,
   "metadata": {},
   "outputs": [
    {
     "data": {
      "text/plain": [
       "1168185"
      ]
     },
     "execution_count": 15,
     "metadata": {},
     "output_type": "execute_result"
    }
   ],
   "source": [
    "#TODO: But do all pumps have flow rates? we need to include missing data! right now we don't check if we have data at all\n",
    "pump_rows['basal_rate'].isna().sum()"
   ]
  },
  {
   "cell_type": "markdown",
   "metadata": {},
   "source": [
    "### ... Summary\n",
    "- Basal deliveries and flow rates are equivalent\n",
    "- NaN flow rates likely mark 0 flow rates and should be replaced"
   ]
  },
  {
   "cell_type": "markdown",
   "metadata": {},
   "source": [
    "### BASAL in MDI patients.\n",
    "1. Check: Are BASAL FLOW RATES always zero in MDI? \n",
    "2. Check: Are BASAL in MDI much larger than in Pump?\n",
    "3. Check: all BASAL in MDI injections?"
   ]
  },
  {
   "cell_type": "code",
   "execution_count": 16,
   "metadata": {},
   "outputs": [
    {
     "name": "stdout",
     "output_type": "stream",
     "text": [
      "Which MDI columns contain valid values?\n"
     ]
    },
    {
     "data": {
      "text/html": [
       "<div>\n",
       "<style scoped>\n",
       "    .dataframe tbody tr th:only-of-type {\n",
       "        vertical-align: middle;\n",
       "    }\n",
       "\n",
       "    .dataframe tbody tr th {\n",
       "        vertical-align: top;\n",
       "    }\n",
       "\n",
       "    .dataframe thead tr th {\n",
       "        text-align: left;\n",
       "    }\n",
       "\n",
       "    .dataframe thead tr:last-of-type th {\n",
       "        text-align: right;\n",
       "    }\n",
       "</style>\n",
       "<table border=\"1\" class=\"dataframe\">\n",
       "  <thead>\n",
       "    <tr>\n",
       "      <th></th>\n",
       "      <th></th>\n",
       "      <th>FADTC</th>\n",
       "      <th>FADUR</th>\n",
       "      <th>INSSTYPE</th>\n",
       "      <th>INSNMBOL</th>\n",
       "      <th>INSEXBOL</th>\n",
       "      <th>FAORRES</th>\n",
       "    </tr>\n",
       "    <tr>\n",
       "      <th></th>\n",
       "      <th></th>\n",
       "      <th>count</th>\n",
       "      <th>count</th>\n",
       "      <th>count</th>\n",
       "      <th>count</th>\n",
       "      <th>count</th>\n",
       "      <th>count</th>\n",
       "    </tr>\n",
       "    <tr>\n",
       "      <th>FATEST</th>\n",
       "      <th>FAORRESU</th>\n",
       "      <th></th>\n",
       "      <th></th>\n",
       "      <th></th>\n",
       "      <th></th>\n",
       "      <th></th>\n",
       "      <th></th>\n",
       "    </tr>\n",
       "  </thead>\n",
       "  <tbody>\n",
       "    <tr>\n",
       "      <th>BASAL FLOW RATE</th>\n",
       "      <th>U/hr</th>\n",
       "      <td>2365</td>\n",
       "      <td>0</td>\n",
       "      <td>0</td>\n",
       "      <td>0</td>\n",
       "      <td>0</td>\n",
       "      <td>0</td>\n",
       "    </tr>\n",
       "    <tr>\n",
       "      <th>BASAL INSULIN</th>\n",
       "      <th>U</th>\n",
       "      <td>2365</td>\n",
       "      <td>0</td>\n",
       "      <td>0</td>\n",
       "      <td>0</td>\n",
       "      <td>0</td>\n",
       "      <td>2365</td>\n",
       "    </tr>\n",
       "    <tr>\n",
       "      <th>BOLUS INSULIN</th>\n",
       "      <th>U</th>\n",
       "      <td>9515</td>\n",
       "      <td>0</td>\n",
       "      <td>0</td>\n",
       "      <td>0</td>\n",
       "      <td>0</td>\n",
       "      <td>9515</td>\n",
       "    </tr>\n",
       "  </tbody>\n",
       "</table>\n",
       "</div>"
      ],
      "text/plain": [
       "                         FADTC FADUR INSSTYPE INSNMBOL INSEXBOL FAORRES\n",
       "                         count count    count    count    count   count\n",
       "FATEST          FAORRESU                                               \n",
       "BASAL FLOW RATE U/hr      2365     0        0        0        0       0\n",
       "BASAL INSULIN   U         2365     0        0        0        0    2365\n",
       "BOLUS INSULIN   U         9515     0        0        0        0    9515"
      ]
     },
     "metadata": {},
     "output_type": "display_data"
    },
    {
     "name": "stdout",
     "output_type": "stream",
     "text": [
      "There are 84 MDI patients with flow rates\n",
      " wich are 16.60% of the MDI data\n",
      " from these, 0 are not NaN\n"
     ]
    }
   ],
   "source": [
    "#Where does the data sit in MDI\n",
    "print(\"Which MDI columns contain valid values?\")\n",
    "def isna(x):\n",
    "    return x.isna().sum()\n",
    "r = facm.loc[facm.ISMDI].groupby(['FATEST','FAORRESU'])[['FADTC','FADUR','INSSTYPE','INSNMBOL','INSEXBOL','FAORRES']].agg(['count'])\n",
    "display(r)\n",
    "del r\n",
    "\n",
    "\n",
    "#Check how many BASAL FLOW RATES exists in MDI\n",
    "mdi_with_flow_rates= facm.loc[facm.ISMDI &(facm.FATEST=='BASAL FLOW RATE')]\n",
    "print(f'There are {len(mdi_with_flow_rates.USUBJID.unique())} MDI patients with flow rates')\n",
    "print(f\" wich are {100*len(mdi_with_flow_rates)/len(facm.loc[(facm.DXTRT=='MULTIPLE DAILY INJECTIONS')]):.2f}% of the MDI data\")\n",
    "print(f\" from these, {mdi_with_flow_rates.FAORRES.count()} are not NaN\")\n"
   ]
  },
  {
   "cell_type": "markdown",
   "metadata": {},
   "source": [
    "**Observation**: \n",
    "- All flow rates in MDI are NaN? \n",
    "- It is unclear where these come from\n",
    "- Values in all other insulin relevant columns are also NaN\n",
    "\n",
    "\n",
    "Assumption: We can probably drop the FLOW rates for MDI.\n",
    "\n",
    "\n",
    "Let's check if the total bolus and basal doses match are similar between pump and mdi users "
   ]
  },
  {
   "cell_type": "markdown",
   "metadata": {},
   "source": [
    "#### MDI vs. Pump Doses"
   ]
  },
  {
   "cell_type": "code",
   "execution_count": 17,
   "metadata": {},
   "outputs": [
    {
     "data": {
      "text/plain": [
       "ISMDI  FATEST       \n",
       "False  BASAL INSULIN    20.650845\n",
       "       BOLUS INSULIN    20.226764\n",
       "True   BASAL INSULIN    19.176018\n",
       "       BOLUS INSULIN    18.187278\n",
       "dtype: float64"
      ]
     },
     "metadata": {},
     "output_type": "display_data"
    }
   ],
   "source": [
    "#calculate average total daily bolus and basal dose per group\n",
    "\n",
    "facm['day'] = facm.FADTC.dt.date\n",
    "\n",
    "#sum per FATEST type\n",
    "#remove BASAL FLOW RATES from the dataset assuming that they reflect the same as the sum of BASAL INSULIN deliveries for Pump users (they are Nan for MDI any way)\n",
    "temp = facm.loc[facm.FATEST!='BASAL FLOW RATE']\n",
    "r = temp.groupby(['ISMDI','FATEST','USUBJID','day'])[['FAORRES']].agg('sum')\n",
    "#bolus, basal per day\n",
    "#display(r.sample(3))\n",
    "\n",
    "#sum per day\n",
    "daily_sum = r.sum(axis=1)\n",
    "#display(daily_sum.sample(3))\n",
    "\n",
    "#mean basal/bolus\n",
    "group_mean = daily_sum.groupby(level=[0, 1]).mean()\n",
    "display(group_mean)"
   ]
  },
  {
   "cell_type": "code",
   "execution_count": 18,
   "metadata": {},
   "outputs": [
    {
     "data": {
      "text/plain": [
       "(-1.0, 50.0)"
      ]
     },
     "execution_count": 18,
     "metadata": {},
     "output_type": "execute_result"
    },
    {
     "data": {
      "image/png": "[encoded data removed]",
      "text/plain": [
       "<Figure size 800x200 with 1 Axes>"
      ]
     },
     "metadata": {},
     "output_type": "display_data"
    },
    {
     "data": {
      "image/png": "[encoded data removed]",
      "text/plain": [
       "<Figure size 800x200 with 1 Axes>"
      ]
     },
     "metadata": {},
     "output_type": "display_data"
    }
   ],
   "source": [
    "#let's compare the dose sizes\n",
    "daily_sum_patient = daily_sum.groupby(level=[0,1,2]).mean()\n",
    "plt.figure(figsize=(8,2)); ax=plt.gca()\n",
    "cdf.plot_cdf(facm.loc[(~facm.ISMDI)&(facm.FATEST=='BOLUS INSULIN')].FAORRES,ax=ax,label='Pump',color='red')\n",
    "cdf.plot_cdf(facm.loc[(facm.ISMDI)&(facm.FATEST=='BOLUS INSULIN')].FAORRES,ax=ax,label='MDI',color='blue')\n",
    "\n",
    "ax.legend(); ax.set_title('Boluses MDI vs. Pump')\n",
    "plt.figure(figsize=(8,2)); ax=plt.gca()\n",
    "cdf.plot_cdf(facm.loc[(~facm.ISMDI)&(facm.FATEST=='BASAL INSULIN')].FAORRES,ax=ax,label='Pump',color='red')\n",
    "cdf.plot_cdf(facm.loc[(facm.ISMDI)&(facm.FATEST=='BASAL INSULIN')].FAORRES,ax=ax,label='MDI',color='blue')\n",
    "ax.legend(); ax.set_title('Basals MDI vs. Pump');ax.set_xlim(-1,50)"
   ]
  },
  {
   "cell_type": "markdown",
   "metadata": {},
   "source": [
    "- All BASAL in MDI are of much larger value (indicating injections)"
   ]
  },
  {
   "cell_type": "markdown",
   "metadata": {},
   "source": [
    "#### Bolus Columns\n",
    "\n",
    "We know that insulin boluses can end up in FAORRES but also in INSNMBOL (normal boluses) and INSEXBOL (extended boluses).\n",
    "\n",
    "The expectation is that FAORRES carries the sum of the INMBOL and INSEXBOL.  \n",
    "Can we rely on this or do some boluses not end up in here?"
   ]
  },
  {
   "cell_type": "code",
   "execution_count": 19,
   "metadata": {},
   "outputs": [
    {
     "name": "stdout",
     "output_type": "stream",
     "text": [
      "Number of values with values in more than one of the columns INSEXBOL, INSNMBOL, FAORRES\n",
      "\n",
      "PUMP:\n"
     ]
    },
    {
     "data": {
      "text/plain": [
       "1    29463\n",
       "2    80626\n",
       "3     2633\n",
       "Name: count, dtype: int64"
      ]
     },
     "metadata": {},
     "output_type": "display_data"
    },
    {
     "name": "stdout",
     "output_type": "stream",
     "text": [
      "\n",
      "MDI:\n"
     ]
    },
    {
     "data": {
      "text/plain": [
       "1    29463\n",
       "2    80626\n",
       "3     2633\n",
       "Name: count, dtype: int64"
      ]
     },
     "metadata": {},
     "output_type": "display_data"
    }
   ],
   "source": [
    "#How many of the 3 columns INSEXBOL INSNMBOL FAORRES carry values?\n",
    "print('Number of values with values in more than one of the columns INSEXBOL, INSNMBOL, FAORRES')\n",
    "\n",
    "bolus_rows = facm.loc[(facm.FATEST=='BOLUS INSULIN')]\n",
    "print('\\nPUMP:')\n",
    "display(bolus_rows[['INSEXBOL','INSNMBOL','FAORRES']].notna().sum(axis=1).value_counts().sort_index())\n",
    "\n",
    "print('\\nMDI:')\n",
    "display(bolus_rows[['INSEXBOL','INSNMBOL','FAORRES']].notna().sum(axis=1).value_counts().sort_index())"
   ]
  },
  {
   "cell_type": "markdown",
   "metadata": {},
   "source": [
    "We see that for pump values, we often have only 1 value. So the assumption that FAORRESS is the sum of the other two must be wrong or at least there are exceptions."
   ]
  },
  {
   "cell_type": "code",
   "execution_count": 20,
   "metadata": {},
   "outputs": [
    {
     "name": "stdout",
     "output_type": "stream",
     "text": [
      "26.14% of rows have 1 columns with values\n"
     ]
    },
    {
     "data": {
      "text/plain": [
       "INSEXBOL        0\n",
       "INSNMBOL        0\n",
       "FAORRES     29463\n",
       "dtype: int64"
      ]
     },
     "metadata": {},
     "output_type": "display_data"
    },
    {
     "name": "stdout",
     "output_type": "stream",
     "text": [
      "71.53% of rows have 2 columns with values\n"
     ]
    },
    {
     "data": {
      "text/plain": [
       "INSEXBOL      350\n",
       "INSNMBOL    80276\n",
       "FAORRES     80626\n",
       "dtype: int64"
      ]
     },
     "metadata": {},
     "output_type": "display_data"
    },
    {
     "name": "stdout",
     "output_type": "stream",
     "text": [
      "2.34% of rows have 3 columns with values\n"
     ]
    },
    {
     "data": {
      "text/plain": [
       "INSEXBOL    2633\n",
       "INSNMBOL    2633\n",
       "FAORRES     2633\n",
       "dtype: int64"
      ]
     },
     "metadata": {},
     "output_type": "display_data"
    }
   ],
   "source": [
    "#check for Rows with only 1 value\n",
    "for num_vals in [1,2,3]:\n",
    "    temp = bolus_rows.loc[bolus_rows[['INSEXBOL','INSNMBOL','FAORRES']].notna().sum(axis=1) == num_vals]\n",
    "    print(f'{100*len(temp)/len(bolus_rows):.2f}% of rows have {num_vals} columns with values')\n",
    "    display(temp[['INSEXBOL','INSNMBOL','FAORRES']].count())"
   ]
  },
  {
   "cell_type": "markdown",
   "metadata": {},
   "source": [
    "Let's check if there is a difference in insulin types between these cases"
   ]
  },
  {
   "cell_type": "code",
   "execution_count": 21,
   "metadata": {},
   "outputs": [
    {
     "name": "stdout",
     "output_type": "stream",
     "text": [
      "\n",
      "\n",
      "Rows with 1 columns carrying values: ..\n"
     ]
    },
    {
     "data": {
      "text/plain": [
       "FATEST         INSDVSRC    INSSTYPE                  \n",
       "BOLUS INSULIN  Injections  NaN                            9516\n",
       "               Pump        automatic bolus/correction       26\n",
       "                           combination                      46\n",
       "                           dual (normal part)                1\n",
       "                           dual (square part)                1\n",
       "                           normal                        19799\n",
       "                           square                            1\n",
       "                           standard                         27\n",
       "                           standard/correction              46\n",
       "Name: count, dtype: int64"
      ]
     },
     "metadata": {},
     "output_type": "display_data"
    },
    {
     "name": "stdout",
     "output_type": "stream",
     "text": [
      "\n",
      "\n",
      "Rows with 2 columns carrying values: ..\n"
     ]
    },
    {
     "data": {
      "text/plain": [
       "FATEST         INSDVSRC  INSSTYPE \n",
       "BOLUS INSULIN  Pump      automated     1619\n",
       "                         normal       78657\n",
       "                         square         350\n",
       "Name: count, dtype: int64"
      ]
     },
     "metadata": {},
     "output_type": "display_data"
    },
    {
     "name": "stdout",
     "output_type": "stream",
     "text": [
      "\n",
      "\n",
      "Rows with 3 columns carrying values: ..\n"
     ]
    },
    {
     "data": {
      "text/plain": [
       "FATEST         INSDVSRC  INSSTYPE   \n",
       "BOLUS INSULIN  Pump      combination       2\n",
       "                         dual/square    2631\n",
       "Name: count, dtype: int64"
      ]
     },
     "metadata": {},
     "output_type": "display_data"
    }
   ],
   "source": [
    "#check breakdown of source and insulin types\n",
    "for num_vals in [1,2,3]:\n",
    "    print(f'\\n\\nRows with {num_vals} columns carrying values: ..')\n",
    "    temp = bolus_rows.loc[bolus_rows[['INSEXBOL','INSNMBOL','FAORRES']].notna().sum(axis=1) == num_vals]\n",
    "    #display(temp.FATEST.value_counts())\n",
    "    display(temp.value_counts(['FATEST','INSDVSRC','INSSTYPE'],dropna=False,sort=False))"
   ]
  },
  {
   "cell_type": "markdown",
   "metadata": {},
   "source": [
    "Not clear, now let's check if at least the sums match up."
   ]
  },
  {
   "cell_type": "code",
   "execution_count": 22,
   "metadata": {},
   "outputs": [
    {
     "name": "stdout",
     "output_type": "stream",
     "text": [
      "count    8.325900e+04\n",
      "mean     7.214836e-07\n",
      "std      1.192128e-04\n",
      "min     -4.900000e-04\n",
      "max      5.000000e-04\n",
      "sum      6.007000e-02\n",
      "dtype: float64\n"
     ]
    }
   ],
   "source": [
    "#Let's check if the sums match if there is at least one other value in the other columns\n",
    "temp = bolus_rows.loc[bolus_rows[['INSEXBOL','INSNMBOL','FAORRES']].notna().sum(axis=1) > 1].copy()\n",
    "temp = temp[['INSEXBOL','INSNMBOL','FAORRES']].fillna(0) # this makes sure the sum does not result in NaN if only ISNMBOL or INSEXBOL has a value\n",
    "r = temp.FAORRES - (temp.INSEXBOL+temp.INSNMBOL)\n",
    "print(r.agg(['count','mean','std','min','max','sum']))"
   ]
  },
  {
   "cell_type": "markdown",
   "metadata": {},
   "source": [
    "Yes, they match exactly. \n",
    "Last thought: could the rows that have only values in FAORRES be duplicated reports?"
   ]
  },
  {
   "cell_type": "code",
   "execution_count": 23,
   "metadata": {},
   "outputs": [
    {
     "name": "stdout",
     "output_type": "stream",
     "text": [
      "0 duplicated boluses\n"
     ]
    }
   ],
   "source": [
    "#check if there are any boluses reported multiple times. Since we know that FAORRESS always contians the sum, we need to check for duplicates on that column\n",
    "print(f\"{bolus_rows.duplicated(subset=['USUBJID','FADTC','FAORRES']).sum()} duplicated boluses\")"
   ]
  },
  {
   "cell_type": "code",
   "execution_count": 24,
   "metadata": {},
   "outputs": [
    {
     "data": {
      "text/plain": [
       "FAORRES     29463\n",
       "INSEXBOL        0\n",
       "INSNMBOL        0\n",
       "FADUR           0\n",
       "dtype: int64"
      ]
     },
     "execution_count": 24,
     "metadata": {},
     "output_type": "execute_result"
    }
   ],
   "source": [
    "#check if for those rows with only a value in FAORRES the duration is always NaN\n",
    "temp = bolus_rows.loc[bolus_rows[['INSEXBOL','INSNMBOL']].notna().sum(axis=1) ==0]\n",
    "temp[['FAORRES','INSEXBOL','INSNMBOL','FADUR']].count()"
   ]
  },
  {
   "cell_type": "markdown",
   "metadata": {},
   "source": [
    "**Findings**\n",
    "- faorres always contains a value (total dose)\n",
    "- often these are split into the other two columns INSEXBOL or INSMBOL however not always!\n",
    "-  Many boluses don't end up in the INMBOL and INSEXBOL columns\n",
    "  - then only FAORRES contains a value\n",
    "  - the duration for these boluses is always Nan\n",
    "  - close to 100% are normal boluses (based on instype) \n",
    "    - (only 2 square part and 46 combination whatever those are)\n",
    "- There are no duplicated boluses"
   ]
  },
  {
   "cell_type": "markdown",
   "metadata": {},
   "source": [
    "## Applying learnings so far"
   ]
  },
  {
   "cell_type": "code",
   "execution_count": 25,
   "metadata": {},
   "outputs": [],
   "source": [
    "#drop the 2 duplicated rows\n",
    "facm = facm.loc[~facm.duplicated()]\n",
    "#drop MDI flow rates\n",
    "facm = facm.loc[~ ((facm.FATEST=='BASAL FLOW RATE') & (facm.DXTRT=='MULTIPLE DAILY INJECTIONS'))]\n",
    "#assign FAORRES values to INSNMBOL if there are no values in INSMBOL and INSEXBOL\n",
    "facm.loc[(facm.FATEST=='BOLUS INSULIN') & facm[['INSEXBOL','INSNMBOL']].isna().all(axis=1),'INSMNBL'] = facm.FAORRES"
   ]
  },
  {
   "cell_type": "markdown",
   "metadata": {},
   "source": [
    "## Open Questions to answer\n",
    "Baed on the script analysis, we found more inconsistencies that we need to check before moving forward.\n",
    "\n",
    "1. We see that sometimes, FATEST and sometimes FACAT are used to to identify BASAL or BOLUS: \n",
    "  - Are there difference between FATEST and FACAT\n",
    "2. We see that there are different rules used between 670G and Tandem vs. 770G to select basal and boluses. \n",
    "  - Are there differences between the pumps and which column conditions to use?\n",
    "3. The script removes some patient and date combinations. \n",
    " - Which subjects and dates are being removed and why?\n",
    "4. Basal Overlaps: We see that basal overlaps are removed. \n",
    "  - How do they remove basal overlaps? \n",
    "  - Why do these occur at all?\n",
    "  - How often do they occur?\n",
    "5. In 770G, the Basal (FACAT == Basal) duration (FADUR) is calculated as it it is missing for other pumps."
   ]
  },
  {
   "cell_type": "markdown",
   "metadata": {},
   "source": [
    "### 1. FASTEST vs. FACAT?\n",
    "1. We see that sometimes, FATEST and sometimes FACAT are used to to identify BASAL or BOLUS: \n",
    "  - Are there difference between FATEST and FACAT\n",
    "\n",
    "In the script the cunking procedure filters boluses using FACAT for 670G and Tandem: `(main_df['FACAT'] == 'BOLUS')`\n",
    "In our previous analysis *Inspect Column Hierachy* we've already seen that FACAT and FATEST are perfectly aligned.\n",
    "Let's check again if we would get the same rows:"
   ]
  },
  {
   "cell_type": "code",
   "execution_count": 26,
   "metadata": {},
   "outputs": [
    {
     "name": "stdout",
     "output_type": "stream",
     "text": [
      "FATEST==BOLUS INSULIN is equivalent to FACAT==BOLUS\n"
     ]
    }
   ],
   "source": [
    "#check if FATEST==BOLUS INSULIN is equivalent to FACAT==BOLUS\n",
    "sub1 = facm.loc[facm.FACAT=='BOLUS']\n",
    "sub2 = facm.loc[facm.FATEST=='BOLUS INSULIN']\n",
    "if sub1.equals(sub2):\n",
    "    print('FATEST==BOLUS INSULIN is equivalent to FACAT==BOLUS')\n",
    "else:\n",
    "    print(\"FATEST==BOLUS INSULIN is not equivalent to FACAT==BOLUS\")"
   ]
  },
  {
   "cell_type": "markdown",
   "metadata": {},
   "source": [
    "### ... Summary:\n",
    "\n",
    "FATEST and FACAT are equivalent, use only one"
   ]
  },
  {
   "cell_type": "markdown",
   "metadata": {},
   "source": [
    "### 2. Pump Column Rules?\n",
    "2. We see that there are different rules used between 670G and Tandem vs. 770G to select basal and boluses. \n",
    "  - Are there differences between the pumps and which column conditions to use?\n",
    "\n",
    "Example from the netiob script (here code from the cunking method) showing differences in selecting basal based on pump type\n",
    "\n",
    "**Tandem and 670G basal:** ```(main_df['FATEST'] == 'BASAL INSULIN') & (main_df['INSSTYPE'].isin(['scheduled', 'suspend', 'temp', 'automated']))```\n",
    "**770G basal:** ```(main_df['FATEST'] == 'BASAL INSULIN')```"
   ]
  },
  {
   "cell_type": "code",
   "execution_count": 27,
   "metadata": {},
   "outputs": [
    {
     "name": "stdout",
     "output_type": "stream",
     "text": [
      "FATEST==BOLUS INSULIN is not equivalent to FACAT==BOLUS\n",
      "There are 5176 more rows when only looking at BASAL INSULIN\n",
      "The excluded rows amount to 43155.545U or 16.54% of the total basal insulin\n",
      "Some example rows:\n"
     ]
    },
    {
     "data": {
      "text/html": [
       "<div>\n",
       "<style scoped>\n",
       "    .dataframe tbody tr th:only-of-type {\n",
       "        vertical-align: middle;\n",
       "    }\n",
       "\n",
       "    .dataframe tbody tr th {\n",
       "        vertical-align: top;\n",
       "    }\n",
       "\n",
       "    .dataframe thead th {\n",
       "        text-align: right;\n",
       "    }\n",
       "</style>\n",
       "<table border=\"1\" class=\"dataframe\">\n",
       "  <thead>\n",
       "    <tr style=\"text-align: right;\">\n",
       "      <th></th>\n",
       "      <th>USUBJID</th>\n",
       "      <th>FATESTCD</th>\n",
       "      <th>FATEST</th>\n",
       "      <th>FAOBJ</th>\n",
       "      <th>FACAT</th>\n",
       "      <th>FAORRES</th>\n",
       "      <th>FAORRESU</th>\n",
       "      <th>FADTC</th>\n",
       "      <th>FADUR</th>\n",
       "      <th>INSDVSRC</th>\n",
       "      <th>INSSTYPE</th>\n",
       "      <th>INSNMBOL</th>\n",
       "      <th>INSEXBOL</th>\n",
       "      <th>DXTRT</th>\n",
       "      <th>ISMDI</th>\n",
       "      <th>day</th>\n",
       "      <th>INSMNBL</th>\n",
       "    </tr>\n",
       "  </thead>\n",
       "  <tbody>\n",
       "    <tr>\n",
       "      <th>29</th>\n",
       "      <td>1</td>\n",
       "      <td>INSBASAL</td>\n",
       "      <td>BASAL INSULIN</td>\n",
       "      <td>INSULIN</td>\n",
       "      <td>BASAL</td>\n",
       "      <td>28.0</td>\n",
       "      <td>U</td>\n",
       "      <td>2020-05-11 23:12:21</td>\n",
       "      <td>NaT</td>\n",
       "      <td>Injections</td>\n",
       "      <td>NaN</td>\n",
       "      <td>NaN</td>\n",
       "      <td>NaN</td>\n",
       "      <td>MULTIPLE DAILY INJECTIONS</td>\n",
       "      <td>True</td>\n",
       "      <td>2020-05-11</td>\n",
       "      <td>NaN</td>\n",
       "    </tr>\n",
       "    <tr>\n",
       "      <th>30</th>\n",
       "      <td>1</td>\n",
       "      <td>INSBASAL</td>\n",
       "      <td>BASAL INSULIN</td>\n",
       "      <td>INSULIN</td>\n",
       "      <td>BASAL</td>\n",
       "      <td>1.0</td>\n",
       "      <td>U</td>\n",
       "      <td>2020-05-12 07:09:22</td>\n",
       "      <td>NaT</td>\n",
       "      <td>Injections</td>\n",
       "      <td>NaN</td>\n",
       "      <td>NaN</td>\n",
       "      <td>NaN</td>\n",
       "      <td>MULTIPLE DAILY INJECTIONS</td>\n",
       "      <td>True</td>\n",
       "      <td>2020-05-12</td>\n",
       "      <td>NaN</td>\n",
       "    </tr>\n",
       "    <tr>\n",
       "      <th>31</th>\n",
       "      <td>1</td>\n",
       "      <td>INSBASAL</td>\n",
       "      <td>BASAL INSULIN</td>\n",
       "      <td>INSULIN</td>\n",
       "      <td>BASAL</td>\n",
       "      <td>1.0</td>\n",
       "      <td>U</td>\n",
       "      <td>2020-05-13 08:35:47</td>\n",
       "      <td>NaT</td>\n",
       "      <td>Injections</td>\n",
       "      <td>NaN</td>\n",
       "      <td>NaN</td>\n",
       "      <td>NaN</td>\n",
       "      <td>MULTIPLE DAILY INJECTIONS</td>\n",
       "      <td>True</td>\n",
       "      <td>2020-05-13</td>\n",
       "      <td>NaN</td>\n",
       "    </tr>\n",
       "    <tr>\n",
       "      <th>32</th>\n",
       "      <td>1</td>\n",
       "      <td>INSBASAL</td>\n",
       "      <td>BASAL INSULIN</td>\n",
       "      <td>INSULIN</td>\n",
       "      <td>BASAL</td>\n",
       "      <td>1.0</td>\n",
       "      <td>U</td>\n",
       "      <td>2020-05-14 06:50:24</td>\n",
       "      <td>NaT</td>\n",
       "      <td>Injections</td>\n",
       "      <td>NaN</td>\n",
       "      <td>NaN</td>\n",
       "      <td>NaN</td>\n",
       "      <td>MULTIPLE DAILY INJECTIONS</td>\n",
       "      <td>True</td>\n",
       "      <td>2020-05-14</td>\n",
       "      <td>NaN</td>\n",
       "    </tr>\n",
       "  </tbody>\n",
       "</table>\n",
       "</div>"
      ],
      "text/plain": [
       "   USUBJID  FATESTCD         FATEST    FAOBJ  FACAT  FAORRES FAORRESU  \\\n",
       "29       1  INSBASAL  BASAL INSULIN  INSULIN  BASAL     28.0        U   \n",
       "30       1  INSBASAL  BASAL INSULIN  INSULIN  BASAL      1.0        U   \n",
       "31       1  INSBASAL  BASAL INSULIN  INSULIN  BASAL      1.0        U   \n",
       "32       1  INSBASAL  BASAL INSULIN  INSULIN  BASAL      1.0        U   \n",
       "\n",
       "                 FADTC FADUR    INSDVSRC INSSTYPE  INSNMBOL  INSEXBOL  \\\n",
       "29 2020-05-11 23:12:21   NaT  Injections      NaN       NaN       NaN   \n",
       "30 2020-05-12 07:09:22   NaT  Injections      NaN       NaN       NaN   \n",
       "31 2020-05-13 08:35:47   NaT  Injections      NaN       NaN       NaN   \n",
       "32 2020-05-14 06:50:24   NaT  Injections      NaN       NaN       NaN   \n",
       "\n",
       "                        DXTRT  ISMDI         day  INSMNBL  \n",
       "29  MULTIPLE DAILY INJECTIONS   True  2020-05-11      NaN  \n",
       "30  MULTIPLE DAILY INJECTIONS   True  2020-05-12      NaN  \n",
       "31  MULTIPLE DAILY INJECTIONS   True  2020-05-13      NaN  \n",
       "32  MULTIPLE DAILY INJECTIONS   True  2020-05-14      NaN  "
      ]
     },
     "metadata": {},
     "output_type": "display_data"
    },
    {
     "name": "stdout",
     "output_type": "stream",
     "text": [
      "INSSTYPEs: \n"
     ]
    },
    {
     "data": {
      "text/plain": [
       "INSSTYPE\n",
       "NaN         5176\n",
       "Name: count, dtype: int64"
      ]
     },
     "metadata": {},
     "output_type": "display_data"
    },
    {
     "name": "stdout",
     "output_type": "stream",
     "text": [
      "Sum of \"missed\" basal insulin by device\n"
     ]
    },
    {
     "data": {
      "text/plain": [
       "DXTRT\n",
       "MULTIPLE DAILY INJECTIONS                    35398.930\n",
       "INSULET OMNIPOD INSULIN MANAGEMENT SYSTEM     3540.258\n",
       "MEDTRONIC 770G IN AUTO MODE                   1532.443\n",
       "MEDTRONIC 670G IN MANUAL MODE                 1219.853\n",
       "MEDTRONIC 770G                                 926.055\n",
       "MEDTRONIC 670G IN AUTO MODE                    467.797\n",
       "TANDEM T:SLIM X2 WITH BASAL IQ                  70.209\n",
       "Name: FAORRES, dtype: float64"
      ]
     },
     "execution_count": 27,
     "metadata": {},
     "output_type": "execute_result"
    }
   ],
   "source": [
    "#check if FATEST==BASAL INSULIN gives the same rows as FATEST==BASAL INSULIN & main_df['INSSTYPE'].isin(['scheduled', 'suspend', 'temp', 'automated'])\n",
    "sub1 = facm.loc[(facm.FATEST=='BASAL INSULIN')]\n",
    "sub2 = facm.loc[(facm.FATEST=='BASAL INSULIN') & (facm.INSSTYPE.isin(['scheduled', 'suspend', 'temp', 'automated']))]\n",
    "excluded = sub1.loc[~sub1.index.isin(sub2.index)]\n",
    "\n",
    "if sub1.equals(sub2):\n",
    "    print('FATEST==BOLUS INSULIN is equivalent to FACAT==BOLUS')\n",
    "else:\n",
    "    print(\"FATEST==BOLUS INSULIN is not equivalent to FACAT==BOLUS\")\n",
    "\n",
    "print(f\"There are {len(excluded)} more rows when only looking at BASAL INSULIN\")\n",
    "print(f'The excluded rows amount to {excluded.FAORRES.sum()}U or {excluded.FAORRES.sum()/sub1.FAORRES.sum()*100:.2f}% of the total basal insulin')\n",
    "\n",
    "#examples\n",
    "print(\"Some example rows:\")\n",
    "display(excluded.head(4))\n",
    "\n",
    "#INSTYPE value counts\n",
    "print('INSSTYPEs: ')\n",
    "display(excluded.value_counts(subset=['INSSTYPE'],dropna=False))\n",
    "\n",
    "#basal dose sum by device\n",
    "print('Sum of \"missed\" basal insulin by device')\n",
    "excluded.groupby(['DXTRT'])['FAORRES'].sum().sort_values(ascending=False)"
   ]
  },
  {
   "cell_type": "code",
   "execution_count": 28,
   "metadata": {},
   "outputs": [
    {
     "data": {
      "text/html": [
       "<div>\n",
       "<style scoped>\n",
       "    .dataframe tbody tr th:only-of-type {\n",
       "        vertical-align: middle;\n",
       "    }\n",
       "\n",
       "    .dataframe tbody tr th {\n",
       "        vertical-align: top;\n",
       "    }\n",
       "\n",
       "    .dataframe thead th {\n",
       "        text-align: right;\n",
       "    }\n",
       "</style>\n",
       "<table border=\"1\" class=\"dataframe\">\n",
       "  <thead>\n",
       "    <tr style=\"text-align: right;\">\n",
       "      <th></th>\n",
       "      <th>USUBJID</th>\n",
       "      <th>FATESTCD</th>\n",
       "      <th>FATEST</th>\n",
       "      <th>FAOBJ</th>\n",
       "      <th>FACAT</th>\n",
       "      <th>FAORRES</th>\n",
       "      <th>FAORRESU</th>\n",
       "      <th>FADTC</th>\n",
       "      <th>FADUR</th>\n",
       "      <th>INSDVSRC</th>\n",
       "      <th>INSSTYPE</th>\n",
       "      <th>INSNMBOL</th>\n",
       "      <th>INSEXBOL</th>\n",
       "      <th>DXTRT</th>\n",
       "      <th>ISMDI</th>\n",
       "      <th>day</th>\n",
       "      <th>INSMNBL</th>\n",
       "    </tr>\n",
       "  </thead>\n",
       "  <tbody>\n",
       "    <tr>\n",
       "      <th>2116442</th>\n",
       "      <td>920</td>\n",
       "      <td>INSBASAL</td>\n",
       "      <td>BASAL INSULIN</td>\n",
       "      <td>INSULIN</td>\n",
       "      <td>BASAL</td>\n",
       "      <td>12.0</td>\n",
       "      <td>U</td>\n",
       "      <td>2020-05-25 09:46:47</td>\n",
       "      <td>NaT</td>\n",
       "      <td>Injections</td>\n",
       "      <td>NaN</td>\n",
       "      <td>NaN</td>\n",
       "      <td>NaN</td>\n",
       "      <td>MULTIPLE DAILY INJECTIONS</td>\n",
       "      <td>True</td>\n",
       "      <td>2020-05-25</td>\n",
       "      <td>NaN</td>\n",
       "    </tr>\n",
       "  </tbody>\n",
       "</table>\n",
       "</div>"
      ],
      "text/plain": [
       "        USUBJID  FATESTCD         FATEST    FAOBJ  FACAT  FAORRES FAORRESU  \\\n",
       "2116442     920  INSBASAL  BASAL INSULIN  INSULIN  BASAL     12.0        U   \n",
       "\n",
       "                      FADTC FADUR    INSDVSRC INSSTYPE  INSNMBOL  INSEXBOL  \\\n",
       "2116442 2020-05-25 09:46:47   NaT  Injections      NaN       NaN       NaN   \n",
       "\n",
       "                             DXTRT  ISMDI         day  INSMNBL  \n",
       "2116442  MULTIPLE DAILY INJECTIONS   True  2020-05-25      NaN  "
      ]
     },
     "metadata": {},
     "output_type": "display_data"
    },
    {
     "data": {
      "text/html": [
       "<div>\n",
       "<style scoped>\n",
       "    .dataframe tbody tr th:only-of-type {\n",
       "        vertical-align: middle;\n",
       "    }\n",
       "\n",
       "    .dataframe tbody tr th {\n",
       "        vertical-align: top;\n",
       "    }\n",
       "\n",
       "    .dataframe thead th {\n",
       "        text-align: right;\n",
       "    }\n",
       "</style>\n",
       "<table border=\"1\" class=\"dataframe\">\n",
       "  <thead>\n",
       "    <tr style=\"text-align: right;\">\n",
       "      <th></th>\n",
       "      <th>USUBJID</th>\n",
       "      <th>FATESTCD</th>\n",
       "      <th>FATEST</th>\n",
       "      <th>FAOBJ</th>\n",
       "      <th>FACAT</th>\n",
       "      <th>FAORRES</th>\n",
       "      <th>FAORRESU</th>\n",
       "      <th>FADTC</th>\n",
       "      <th>FADUR</th>\n",
       "      <th>INSDVSRC</th>\n",
       "      <th>INSSTYPE</th>\n",
       "      <th>INSNMBOL</th>\n",
       "      <th>INSEXBOL</th>\n",
       "      <th>DXTRT</th>\n",
       "      <th>ISMDI</th>\n",
       "      <th>day</th>\n",
       "      <th>INSMNBL</th>\n",
       "    </tr>\n",
       "  </thead>\n",
       "  <tbody>\n",
       "    <tr>\n",
       "      <th>2116440</th>\n",
       "      <td>920</td>\n",
       "      <td>INSBASAL</td>\n",
       "      <td>BASAL INSULIN</td>\n",
       "      <td>INSULIN</td>\n",
       "      <td>BASAL</td>\n",
       "      <td>11.0</td>\n",
       "      <td>U</td>\n",
       "      <td>2020-05-23 08:47:39</td>\n",
       "      <td>NaT</td>\n",
       "      <td>Injections</td>\n",
       "      <td>NaN</td>\n",
       "      <td>NaN</td>\n",
       "      <td>NaN</td>\n",
       "      <td>MULTIPLE DAILY INJECTIONS</td>\n",
       "      <td>True</td>\n",
       "      <td>2020-05-23</td>\n",
       "      <td>NaN</td>\n",
       "    </tr>\n",
       "    <tr>\n",
       "      <th>2116441</th>\n",
       "      <td>920</td>\n",
       "      <td>INSBASAL</td>\n",
       "      <td>BASAL INSULIN</td>\n",
       "      <td>INSULIN</td>\n",
       "      <td>BASAL</td>\n",
       "      <td>12.0</td>\n",
       "      <td>U</td>\n",
       "      <td>2020-05-24 08:16:34</td>\n",
       "      <td>NaT</td>\n",
       "      <td>Injections</td>\n",
       "      <td>NaN</td>\n",
       "      <td>NaN</td>\n",
       "      <td>NaN</td>\n",
       "      <td>MULTIPLE DAILY INJECTIONS</td>\n",
       "      <td>True</td>\n",
       "      <td>2020-05-24</td>\n",
       "      <td>NaN</td>\n",
       "    </tr>\n",
       "    <tr>\n",
       "      <th>2116442</th>\n",
       "      <td>920</td>\n",
       "      <td>INSBASAL</td>\n",
       "      <td>BASAL INSULIN</td>\n",
       "      <td>INSULIN</td>\n",
       "      <td>BASAL</td>\n",
       "      <td>12.0</td>\n",
       "      <td>U</td>\n",
       "      <td>2020-05-25 09:46:47</td>\n",
       "      <td>NaT</td>\n",
       "      <td>Injections</td>\n",
       "      <td>NaN</td>\n",
       "      <td>NaN</td>\n",
       "      <td>NaN</td>\n",
       "      <td>MULTIPLE DAILY INJECTIONS</td>\n",
       "      <td>True</td>\n",
       "      <td>2020-05-25</td>\n",
       "      <td>NaN</td>\n",
       "    </tr>\n",
       "    <tr>\n",
       "      <th>2116443</th>\n",
       "      <td>920</td>\n",
       "      <td>INSBASAL</td>\n",
       "      <td>BASAL INSULIN</td>\n",
       "      <td>INSULIN</td>\n",
       "      <td>BASAL</td>\n",
       "      <td>12.0</td>\n",
       "      <td>U</td>\n",
       "      <td>2020-05-26 09:06:34</td>\n",
       "      <td>NaT</td>\n",
       "      <td>Injections</td>\n",
       "      <td>NaN</td>\n",
       "      <td>NaN</td>\n",
       "      <td>NaN</td>\n",
       "      <td>MULTIPLE DAILY INJECTIONS</td>\n",
       "      <td>True</td>\n",
       "      <td>2020-05-26</td>\n",
       "      <td>NaN</td>\n",
       "    </tr>\n",
       "    <tr>\n",
       "      <th>2116444</th>\n",
       "      <td>920</td>\n",
       "      <td>INSBASAL</td>\n",
       "      <td>BASAL INSULIN</td>\n",
       "      <td>INSULIN</td>\n",
       "      <td>BASAL</td>\n",
       "      <td>12.0</td>\n",
       "      <td>U</td>\n",
       "      <td>2020-05-28 09:18:15</td>\n",
       "      <td>NaT</td>\n",
       "      <td>Injections</td>\n",
       "      <td>NaN</td>\n",
       "      <td>NaN</td>\n",
       "      <td>NaN</td>\n",
       "      <td>MULTIPLE DAILY INJECTIONS</td>\n",
       "      <td>True</td>\n",
       "      <td>2020-05-28</td>\n",
       "      <td>NaN</td>\n",
       "    </tr>\n",
       "  </tbody>\n",
       "</table>\n",
       "</div>"
      ],
      "text/plain": [
       "        USUBJID  FATESTCD         FATEST    FAOBJ  FACAT  FAORRES FAORRESU  \\\n",
       "2116440     920  INSBASAL  BASAL INSULIN  INSULIN  BASAL     11.0        U   \n",
       "2116441     920  INSBASAL  BASAL INSULIN  INSULIN  BASAL     12.0        U   \n",
       "2116442     920  INSBASAL  BASAL INSULIN  INSULIN  BASAL     12.0        U   \n",
       "2116443     920  INSBASAL  BASAL INSULIN  INSULIN  BASAL     12.0        U   \n",
       "2116444     920  INSBASAL  BASAL INSULIN  INSULIN  BASAL     12.0        U   \n",
       "\n",
       "                      FADTC FADUR    INSDVSRC INSSTYPE  INSNMBOL  INSEXBOL  \\\n",
       "2116440 2020-05-23 08:47:39   NaT  Injections      NaN       NaN       NaN   \n",
       "2116441 2020-05-24 08:16:34   NaT  Injections      NaN       NaN       NaN   \n",
       "2116442 2020-05-25 09:46:47   NaT  Injections      NaN       NaN       NaN   \n",
       "2116443 2020-05-26 09:06:34   NaT  Injections      NaN       NaN       NaN   \n",
       "2116444 2020-05-28 09:18:15   NaT  Injections      NaN       NaN       NaN   \n",
       "\n",
       "                             DXTRT  ISMDI         day  INSMNBL  \n",
       "2116440  MULTIPLE DAILY INJECTIONS   True  2020-05-23      NaN  \n",
       "2116441  MULTIPLE DAILY INJECTIONS   True  2020-05-24      NaN  \n",
       "2116442  MULTIPLE DAILY INJECTIONS   True  2020-05-25      NaN  \n",
       "2116443  MULTIPLE DAILY INJECTIONS   True  2020-05-26      NaN  \n",
       "2116444  MULTIPLE DAILY INJECTIONS   True  2020-05-28      NaN  "
      ]
     },
     "execution_count": 28,
     "metadata": {},
     "output_type": "execute_result"
    }
   ],
   "source": [
    "#show surrounding rows of NaN insulin type basal\n",
    "#this analysis assumes sorted by user and time\n",
    "#facm = facm.sort_values(['USUBJID','FADTC'])\n",
    "sample = excluded.sample(1)\n",
    "display(sample)\n",
    "iloc = facm.index.get_loc(sample.index[0])\n",
    "facm.iloc[iloc-2:iloc+3]"
   ]
  },
  {
   "cell_type": "code",
   "execution_count": 29,
   "metadata": {},
   "outputs": [
    {
     "data": {
      "text/plain": [
       "(-1.0, 50.0)"
      ]
     },
     "execution_count": 29,
     "metadata": {},
     "output_type": "execute_result"
    },
    {
     "data": {
      "image/png": "[encoded data removed]",
      "text/plain": [
       "<Figure size 800x200 with 1 Axes>"
      ]
     },
     "metadata": {},
     "output_type": "display_data"
    }
   ],
   "source": [
    "#compare distriubtion of basal insulin with and without insulin type\n",
    "plt.figure(figsize=(8,2)); ax=plt.gca()\n",
    "cdf.plot_cdf(excluded.FAORRES,ax=ax,label='NaN Insulin Type',color='red')\n",
    "cdf.plot_cdf(sub2.FAORRES,ax=ax,label='with Insulin Type',color='blue')\n",
    "plt.title('Basal Insulin'); plt.legend();plt.xlim(-1,50)"
   ]
  },
  {
   "cell_type": "markdown",
   "metadata": {},
   "source": [
    "### ... Summary:\n",
    " - The example rows were excludede from the specific search because INSTYPE is NaN.\n",
    " - Remember: The netiob script would have excluded those. \n",
    " - Most insulin comes from MDI\n",
    " - >16% of all basal insulin would have been missed\n",
    " - The distribution confirms that these are mostly bigger mdi injections\n",
    " - The examples don't give reason to believe that they should be excluded (no duplicates, )\n",
    "\n",
    " Conclusion: It appears that NaN Insulin Types should be includede (no filtering based on insulin type)"
   ]
  },
  {
   "cell_type": "markdown",
   "metadata": {},
   "source": [
    "### 3. Corrupt data?\n",
    "3. The script removes some patient and date combinations. \n",
    " - Which subjects and dates are being removed and why?\n"
   ]
  },
  {
   "cell_type": "code",
   "execution_count": 30,
   "metadata": {},
   "outputs": [],
   "source": [
    "#TODO: "
   ]
  },
  {
   "cell_type": "markdown",
   "metadata": {},
   "source": [
    "### 4. Basal Overlaps\n",
    "4. Basal Overlaps: We see that basal overlaps are removed. \n",
    "  - How do they remove basal overlaps? \n",
    "  - Why do these occur at all?\n",
    "  - How often do they occur?"
   ]
  },
  {
   "cell_type": "code",
   "execution_count": 96,
   "metadata": {},
   "outputs": [
    {
     "name": "stdout",
     "output_type": "stream",
     "text": [
      "721 overlapping basal flow rates\n",
      "0.07% the next flow rate starts before the previous ends\n"
     ]
    },
    {
     "data": {
      "text/plain": [
       "DXTRT\n",
       "INSULET OMNIPOD INSULIN MANAGEMENT SYSTEM    340\n",
       "TANDEM T:SLIM X2 WITH CONTROL IQ             264\n",
       "MEDTRONIC 670G IN AUTO MODE                   87\n",
       "MEDTRONIC 670G IN MANUAL MODE                 19\n",
       "TANDEM T:SLIM X2 WITH BASAL IQ                 8\n",
       "MEDTRONIC PARADIGM 723 (REVEL)                 2\n",
       "MEDTRONIC 630G                                 1\n",
       "Name: count, dtype: int64"
      ]
     },
     "execution_count": 96,
     "metadata": {},
     "output_type": "execute_result"
    }
   ],
   "source": [
    "#identify overlapping basal flow rates (here, we check only if one of the two next rows overlap)\n",
    "\n",
    "def overlaps(df):\n",
    "    assert df.FADTC.is_monotonic_increasing\n",
    "    end = df.FADTC + df.FADUR  \n",
    "    next = df.FADTC.shift(-1)\n",
    "    overlap = (next < end) & (next >= df.FADTC)\n",
    "    return overlap\n",
    "\n",
    "flow_rows = facm.loc[facm.FATEST=='BASAL FLOW RATE'].copy()\n",
    "flow_rows['overlaps'] = flow_rows.groupby('USUBJID').apply(overlaps, include_groups=False).droplevel(0)\n",
    "flow_rows['END'] = flow_rows.FADTC + flow_rows.FADUR\n",
    "\n",
    "print(f'{flow_rows.overlaps.sum()} overlapping basal flow rates')\n",
    "#how often does it happen?\n",
    "print(f'{flow_rows.overlaps.mean()*100:.2f}% the next flow rate starts before the previous ends')\n",
    "#which pumps are affected?\n",
    "flow_rows.loc[flow_rows.overlaps].DXTRT.value_counts()"
   ]
  },
  {
   "cell_type": "code",
   "execution_count": 100,
   "metadata": {},
   "outputs": [
    {
     "data": {
      "text/html": [
       "<div>\n",
       "<style scoped>\n",
       "    .dataframe tbody tr th:only-of-type {\n",
       "        vertical-align: middle;\n",
       "    }\n",
       "\n",
       "    .dataframe tbody tr th {\n",
       "        vertical-align: top;\n",
       "    }\n",
       "\n",
       "    .dataframe thead th {\n",
       "        text-align: right;\n",
       "    }\n",
       "</style>\n",
       "<table border=\"1\" class=\"dataframe\">\n",
       "  <thead>\n",
       "    <tr style=\"text-align: right;\">\n",
       "      <th></th>\n",
       "      <th>USUBJID</th>\n",
       "      <th>FATEST</th>\n",
       "      <th>FAORRES</th>\n",
       "      <th>FADTC</th>\n",
       "      <th>END</th>\n",
       "      <th>DXTRT</th>\n",
       "    </tr>\n",
       "  </thead>\n",
       "  <tbody>\n",
       "    <tr>\n",
       "      <th>1108779</th>\n",
       "      <td>1722</td>\n",
       "      <td>BASAL FLOW RATE</td>\n",
       "      <td>1.1</td>\n",
       "      <td>2020-10-01 05:00:00</td>\n",
       "      <td>2020-10-01 15:00:00</td>\n",
       "      <td>INSULET OMNIPOD INSULIN MANAGEMENT SYSTEM</td>\n",
       "    </tr>\n",
       "    <tr>\n",
       "      <th>1108780</th>\n",
       "      <td>1722</td>\n",
       "      <td>BASAL FLOW RATE</td>\n",
       "      <td>1.1</td>\n",
       "      <td>2020-10-01 05:02:57</td>\n",
       "      <td>2020-10-01 15:02:57</td>\n",
       "      <td>INSULET OMNIPOD INSULIN MANAGEMENT SYSTEM</td>\n",
       "    </tr>\n",
       "    <tr>\n",
       "      <th>1108781</th>\n",
       "      <td>1722</td>\n",
       "      <td>BASAL FLOW RATE</td>\n",
       "      <td>1.0</td>\n",
       "      <td>2020-10-01 15:00:00</td>\n",
       "      <td>2020-10-01 16:45:32</td>\n",
       "      <td>INSULET OMNIPOD INSULIN MANAGEMENT SYSTEM</td>\n",
       "    </tr>\n",
       "  </tbody>\n",
       "</table>\n",
       "</div>"
      ],
      "text/plain": [
       "        USUBJID           FATEST  FAORRES               FADTC  \\\n",
       "1108779    1722  BASAL FLOW RATE      1.1 2020-10-01 05:00:00   \n",
       "1108780    1722  BASAL FLOW RATE      1.1 2020-10-01 05:02:57   \n",
       "1108781    1722  BASAL FLOW RATE      1.0 2020-10-01 15:00:00   \n",
       "\n",
       "                        END                                      DXTRT  \n",
       "1108779 2020-10-01 15:00:00  INSULET OMNIPOD INSULIN MANAGEMENT SYSTEM  \n",
       "1108780 2020-10-01 15:02:57  INSULET OMNIPOD INSULIN MANAGEMENT SYSTEM  \n",
       "1108781 2020-10-01 16:45:32  INSULET OMNIPOD INSULIN MANAGEMENT SYSTEM  "
      ]
     },
     "metadata": {},
     "output_type": "display_data"
    }
   ],
   "source": [
    "#show examples\n",
    "def display_neighboring_rows_of_row(df, row,iprev,inext):\n",
    "    iloc = df.index.get_loc(row.Index)\n",
    "    display(df.iloc[iloc-iprev:iloc+inext+1])\n",
    "\n",
    "sample = flow_rows.loc[flow_rows.overlaps].sample(1)\n",
    "\n",
    "for row in sample.itertuples():\n",
    "    display_neighboring_rows_of_row(flow_rows[['USUBJID','FATEST','FAORRES','FADTC','END','DXTRT']], row, 0,2)"
   ]
  },
  {
   "cell_type": "code",
   "execution_count": 113,
   "metadata": {},
   "outputs": [
    {
     "data": {
      "text/html": [
       "<div>\n",
       "<style scoped>\n",
       "    .dataframe tbody tr th:only-of-type {\n",
       "        vertical-align: middle;\n",
       "    }\n",
       "\n",
       "    .dataframe tbody tr th {\n",
       "        vertical-align: top;\n",
       "    }\n",
       "\n",
       "    .dataframe thead th {\n",
       "        text-align: right;\n",
       "    }\n",
       "</style>\n",
       "<table border=\"1\" class=\"dataframe\">\n",
       "  <thead>\n",
       "    <tr style=\"text-align: right;\">\n",
       "      <th></th>\n",
       "      <th>USUBJID</th>\n",
       "      <th>FATESTCD</th>\n",
       "      <th>FATEST</th>\n",
       "      <th>FAOBJ</th>\n",
       "      <th>FACAT</th>\n",
       "      <th>FAORRES</th>\n",
       "      <th>FAORRESU</th>\n",
       "      <th>FADTC</th>\n",
       "      <th>FADUR</th>\n",
       "      <th>INSDVSRC</th>\n",
       "      <th>INSSTYPE</th>\n",
       "      <th>INSNMBOL</th>\n",
       "      <th>INSEXBOL</th>\n",
       "      <th>DXTRT</th>\n",
       "      <th>ISMDI</th>\n",
       "      <th>day</th>\n",
       "      <th>INSMNBL</th>\n",
       "    </tr>\n",
       "  </thead>\n",
       "  <tbody>\n",
       "    <tr>\n",
       "      <th>1108780</th>\n",
       "      <td>1722</td>\n",
       "      <td>BASFLRT</td>\n",
       "      <td>BASAL FLOW RATE</td>\n",
       "      <td>INSULIN</td>\n",
       "      <td>BASAL</td>\n",
       "      <td>1.100</td>\n",
       "      <td>U/hr</td>\n",
       "      <td>2020-10-01 05:02:57</td>\n",
       "      <td>0 days 10:00:00</td>\n",
       "      <td>NaN</td>\n",
       "      <td>NaN</td>\n",
       "      <td>NaN</td>\n",
       "      <td>NaN</td>\n",
       "      <td>INSULET OMNIPOD INSULIN MANAGEMENT SYSTEM</td>\n",
       "      <td>False</td>\n",
       "      <td>2020-10-01</td>\n",
       "      <td>NaN</td>\n",
       "    </tr>\n",
       "    <tr>\n",
       "      <th>1109023</th>\n",
       "      <td>1722</td>\n",
       "      <td>INSBASAL</td>\n",
       "      <td>BASAL INSULIN</td>\n",
       "      <td>INSULIN</td>\n",
       "      <td>BASAL</td>\n",
       "      <td>11.000</td>\n",
       "      <td>U</td>\n",
       "      <td>2020-10-01 05:02:57</td>\n",
       "      <td>0 days 10:00:00</td>\n",
       "      <td>Pump</td>\n",
       "      <td>scheduled</td>\n",
       "      <td>NaN</td>\n",
       "      <td>NaN</td>\n",
       "      <td>INSULET OMNIPOD INSULIN MANAGEMENT SYSTEM</td>\n",
       "      <td>False</td>\n",
       "      <td>2020-10-01</td>\n",
       "      <td>NaN</td>\n",
       "    </tr>\n",
       "    <tr>\n",
       "      <th>1108781</th>\n",
       "      <td>1722</td>\n",
       "      <td>BASFLRT</td>\n",
       "      <td>BASAL FLOW RATE</td>\n",
       "      <td>INSULIN</td>\n",
       "      <td>BASAL</td>\n",
       "      <td>1.000</td>\n",
       "      <td>U/hr</td>\n",
       "      <td>2020-10-01 15:00:00</td>\n",
       "      <td>0 days 01:45:32</td>\n",
       "      <td>NaN</td>\n",
       "      <td>NaN</td>\n",
       "      <td>NaN</td>\n",
       "      <td>NaN</td>\n",
       "      <td>INSULET OMNIPOD INSULIN MANAGEMENT SYSTEM</td>\n",
       "      <td>False</td>\n",
       "      <td>2020-10-01</td>\n",
       "      <td>NaN</td>\n",
       "    </tr>\n",
       "    <tr>\n",
       "      <th>1109024</th>\n",
       "      <td>1722</td>\n",
       "      <td>INSBASAL</td>\n",
       "      <td>BASAL INSULIN</td>\n",
       "      <td>INSULIN</td>\n",
       "      <td>BASAL</td>\n",
       "      <td>1.759</td>\n",
       "      <td>U</td>\n",
       "      <td>2020-10-01 15:00:00</td>\n",
       "      <td>0 days 01:45:32</td>\n",
       "      <td>Pump</td>\n",
       "      <td>scheduled</td>\n",
       "      <td>NaN</td>\n",
       "      <td>NaN</td>\n",
       "      <td>INSULET OMNIPOD INSULIN MANAGEMENT SYSTEM</td>\n",
       "      <td>False</td>\n",
       "      <td>2020-10-01</td>\n",
       "      <td>NaN</td>\n",
       "    </tr>\n",
       "  </tbody>\n",
       "</table>\n",
       "</div>"
      ],
      "text/plain": [
       "        USUBJID  FATESTCD           FATEST    FAOBJ  FACAT  FAORRES FAORRESU  \\\n",
       "1108780    1722   BASFLRT  BASAL FLOW RATE  INSULIN  BASAL    1.100     U/hr   \n",
       "1109023    1722  INSBASAL    BASAL INSULIN  INSULIN  BASAL   11.000        U   \n",
       "1108781    1722   BASFLRT  BASAL FLOW RATE  INSULIN  BASAL    1.000     U/hr   \n",
       "1109024    1722  INSBASAL    BASAL INSULIN  INSULIN  BASAL    1.759        U   \n",
       "\n",
       "                      FADTC           FADUR INSDVSRC   INSSTYPE  INSNMBOL  \\\n",
       "1108780 2020-10-01 05:02:57 0 days 10:00:00      NaN        NaN       NaN   \n",
       "1109023 2020-10-01 05:02:57 0 days 10:00:00     Pump  scheduled       NaN   \n",
       "1108781 2020-10-01 15:00:00 0 days 01:45:32      NaN        NaN       NaN   \n",
       "1109024 2020-10-01 15:00:00 0 days 01:45:32     Pump  scheduled       NaN   \n",
       "\n",
       "         INSEXBOL                                      DXTRT  ISMDI  \\\n",
       "1108780       NaN  INSULET OMNIPOD INSULIN MANAGEMENT SYSTEM  False   \n",
       "1109023       NaN  INSULET OMNIPOD INSULIN MANAGEMENT SYSTEM  False   \n",
       "1108781       NaN  INSULET OMNIPOD INSULIN MANAGEMENT SYSTEM  False   \n",
       "1109024       NaN  INSULET OMNIPOD INSULIN MANAGEMENT SYSTEM  False   \n",
       "\n",
       "                day  INSMNBL  \n",
       "1108780  2020-10-01      NaN  \n",
       "1109023  2020-10-01      NaN  \n",
       "1108781  2020-10-01      NaN  \n",
       "1109024  2020-10-01      NaN  "
      ]
     },
     "execution_count": 113,
     "metadata": {},
     "output_type": "execute_result"
    }
   ],
   "source": [
    "#Example for a patient with Omnipod and overlapping basal flow rates\n",
    "#Here we see that relying on the BASAL INSULIN would be wrong because the duration is not correct\n",
    "#instead, we need to take the flow rate, recalcualte the duration until the next flow rate starts\n",
    "facm.loc[(facm.USUBJID==sample.USUBJID.values[0]) & (facm.FADTC.dt.date == sample.FADTC.dt.date.values[0]) &(facm.FACAT=='BASAL')].sort_values('FADTC').iloc[8:12]"
   ]
  },
  {
   "cell_type": "markdown",
   "metadata": {},
   "source": [
    "### Duplicates\n",
    "we did see that often there are duplicated rows (in basal also with different durations altnerating between 0 and a bigger value). Let;s check how to get rid of them\n",
    "#inspect duplicates\n",
    "\n",
    "print(f\"{100*facm.duplicated(subset=['USUBJID','FADTC']).sum()/len(facm):.2f}% duplicates on USUBJID and FADTC\")\n",
    "print(f\"{100*facm.duplicated(subset=['USUBJID','FADTC','FATEST']).sum()/len(facm):.2f}% duplicates on USUBJID, FADTC and FATEST\")\n",
    "print(f\"{100*facm.duplicated(subset=['USUBJID','FADTC','FATEST','FADUR']).sum()/len(facm):.2f}% duplicates on USUBJID, FADTC and FATEST\")\n",
    "\n",
    "#check how many differences exist in each column\n",
    "dup_rows = facm.loc[facm.duplicated(subset=['USUBJID','FADTC'],keep=False)]\n",
    "print(f\"There are {len(dup_rows)} duplicated rows\")\n",
    "print(\"The number of differences in each column are:\")\n",
    "numDiffs = (dup_rows.groupby(['USUBJID','FADTC']).nunique().map(lambda x: max(x-1,0)))#.drop(columns=['USUBJID','FADTC'])\n",
    "display(numDiffs.sum())\n",
    "dup_rows.sort_values(['USUBJID','FADTC']).head(8)\n",
    "Findings\n",
    "- There are BASAL duplicates (subject, date, faorres) (they seem to alternate duration between 0 and more)\n",
    "    - 2 with the same duration\n",
    "\n",
    "2.\n",
    "\t\t- In 770G, the Basal (FACAT == Basal) duration (FADUR) is calculated as it it is missing for other pumps.\n",
    "\t\t\t- [ ] **Is FADUR empty for 770g and must be calculated?**\n",
    "\t\t\t- [ ] **Why check FACAT == BOLUS instead of FATEST?**\n",
    "\t\t\t- [ ] **Does INSTYPE further narrow down rows?**\n",
    "\t\t\t- [ ] **Why do we need to check `INSTYPE in scheduled,...`?**\n",
    "\t- Bolus\n",
    "\t\t- 670G, Tandem: FACAT == 'BOLUS' & INSSTYPE IN 'dual/square', 'square' & 'INSEXBOL' != 0\n",
    "\t\t- [ ] **DOES INSTYPE reduce the rows further?**"
   ]
  },
  {
   "cell_type": "markdown",
   "metadata": {},
   "source": [
    "### 5. FADUR in 770G\n",
    "5. In 770G, the Basal (FACAT == Basal) duration (FADUR) is calculated as it it is missing for other pumps.\n",
    "#TODO: "
   ]
  },
  {
   "cell_type": "markdown",
   "metadata": {},
   "source": [
    "### Duplicates\n",
    "we did see that often there are duplicated rows (in basal also with different durations altnerating between 0 and a bigger value). Let;s check how to get rid of them\n",
    "#inspect duplicates\n",
    "\n",
    "print(f\"{100*facm.duplicated(subset=['USUBJID','FADTC']).sum()/len(facm):.2f}% duplicates on USUBJID and FADTC\")\n",
    "print(f\"{100*facm.duplicated(subset=['USUBJID','FADTC','FATEST']).sum()/len(facm):.2f}% duplicates on USUBJID, FADTC and FATEST\")\n",
    "print(f\"{100*facm.duplicated(subset=['USUBJID','FADTC','FATEST','FADUR']).sum()/len(facm):.2f}% duplicates on USUBJID, FADTC and FATEST\")\n",
    "\n",
    "#check how many differences exist in each column\n",
    "dup_rows = facm.loc[facm.duplicated(subset=['USUBJID','FADTC'],keep=False)]\n",
    "print(f\"There are {len(dup_rows)} duplicated rows\")\n",
    "print(\"The number of differences in each column are:\")\n",
    "numDiffs = (dup_rows.groupby(['USUBJID','FADTC']).nunique().map(lambda x: max(x-1,0)))#.drop(columns=['USUBJID','FADTC'])\n",
    "display(numDiffs.sum())\n",
    "dup_rows.sort_values(['USUBJID','FADTC']).head(8)\n",
    "Findings\n",
    "- There are BASAL duplicates (subject, date, faorres) (they seem to alternate duration between 0 and more)\n",
    "    - 2 with the same duration\n",
    "\n",
    "2.\n",
    "\t\t- In 770G, the Basal (FACAT == Basal) duration (FADUR) is calculated as it it is missing for other pumps.\n",
    "\t\t\t- [ ] **Is FADUR empty for 770g and must be calculated?**\n",
    "\t\t\t- [ ] **Why check FACAT == BOLUS instead of FATEST?**\n",
    "\t\t\t- [ ] **Does INSTYPE further narrow down rows?**\n",
    "\t\t\t- [ ] **Why do we need to check `INSTYPE in scheduled,...`?**\n",
    "\t- Bolus\n",
    "\t\t- 670G, Tandem: FACAT == 'BOLUS' & INSSTYPE IN 'dual/square', 'square' & 'INSEXBOL' != 0\n",
    "\t\t- [ ] **DOES INSTYPE reduce the rows further?**"
   ]
  },
  {
   "cell_type": "markdown",
   "metadata": {},
   "source": [
    "## Collected Questions & Answers\n",
    "\n",
    "**Answered Questions**  \n",
    "- The script only considers FATEST == 'BASAL INSULIN' thus ignoring BASAL FLOW RATE. Is this correct?\n",
    "      - This is because flow rates are equivalent to the deliveries\n",
    "- Why is FASTRES Nan when FAORRESU is U/hr but not when it is U?\n",
    "  - This is because FASTRES represents a standard unit and U/hr is not supported, use the original unit FAORRESU instead.\n",
    "- There are no 0 FASTRESN values but many NaN. How are 0 basal rates reported?\n",
    "  - It appears as if NaN Basal Flow Rates (at least for Pump users) mark zero values. \n",
    "\n",
    "- Why are some boluses only in FAORRES but not in INSNMBOL and INSEXBOL\n",
    "  - It appears as if these boluses were not properly classified. This is true for at least 26% of the boluses\n",
    "  - However, it is unclear why.\n",
    "\n",
    "\n",
    "**Open Questions:**  \n",
    "- AID\n",
    "  - Why are `TANDEM T:SLIM X2 WITH BASAL IQ` not considered AID?\n",
    "  - How do we know if Pump was running AID or not?\n",
    "- BASAL\n",
    "    - Why are there many rows with NaN values in `FASTRESN` for FATEST being BASAL INSULIN or BASAL FLOW RATE?\n",
    "- Why are there MDI patients with basal flow Rates\n",
    "  - The values are NaN but we don't know why there are these empty rows.\n",
    "\n",
    "netiob specific:\n",
    "    - Why did netiob excluded basal rows without INSTYPE ? These are 16% of all basals, mostly MDI"
   ]
  },
  {
   "cell_type": "markdown",
   "metadata": {},
   "source": []
  }
 ],
 "metadata": {
  "kernelspec": {
   "display_name": "babelbetes",
   "language": "python",
   "name": "python3"
  },
  "language_info": {
   "codemirror_mode": {
    "name": "ipython",
    "version": 3
   },
   "file_extension": ".py",
   "mimetype": "text/x-python",
   "name": "python",
   "nbconvert_exporter": "python",
   "pygments_lexer": "ipython3",
   "version": "3.11.0"
  }
 },
 "nbformat": 4,
 "nbformat_minor": 2
}
