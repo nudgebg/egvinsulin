{
 "cells": [
  {
   "cell_type": "markdown",
   "metadata": {},
   "source": [
    "**Problem**:\n",
    "\n",
    "We need a good understanding of the T1DExi data. After having assessed the netiob script, and the study documentation some questions remain about how the columns relate. Especially the script often uses equivalent columns which makes it difficult. The analysis of the script output also leads to strong concerns about the validity of the output.\n",
    "\n",
    "- Do we need all the columns or are they mostly redundant?\n",
    "- Can we rely on the table as presented in T1DEXI ACRF_15Sept2022.pdf? or rather on the script?\n",
    "- The script sometimes uses FATEST (test) and FACAT (category) depending on which pump is being looked at 670g and 770g?\n",
    "- The script does not extract extended boluses in 770g, why?\n",
    "- Is FASTRESN just a copy of the value in INSEXBOL or INSNMBOL and FAORRES (Basal)?\n",
    "-  ...\n",
    "\n",
    "We want to take a close look at the data itself.\n",
    "\n",
    "**Goal**: Load xpt file into pandas in jupyter. Identify relevant columns and verify how they relate to another."
   ]
  },
  {
   "cell_type": "markdown",
   "metadata": {},
   "source": [
    "## Load the data"
   ]
  },
  {
   "cell_type": "code",
   "execution_count": 27,
   "metadata": {},
   "outputs": [],
   "source": [
    "#imports\n",
    "\n",
    "#notebook\n",
    "import os\n",
    "import sys\n",
    "sys.path.append('../..')\n",
    "import matplotlib.pyplot as plt\n",
    "from src import cdf\n",
    "\n",
    "# relevant for the class\n",
    "import numpy as np\n",
    "import pandas as pd\n",
    "from datetime import datetime, timedelta\n",
    "import isodate"
   ]
  },
  {
   "cell_type": "code",
   "execution_count": 28,
   "metadata": {},
   "outputs": [],
   "source": [
    "#define path\n",
    "t1dexi_path = os.path.join(os.getcwd(),'..','..','data','raw','T1DEXIP')"
   ]
  },
  {
   "cell_type": "markdown",
   "metadata": {},
   "source": [
    "### load device file"
   ]
  },
  {
   "cell_type": "code",
   "execution_count": 29,
   "metadata": {},
   "outputs": [
    {
     "name": "stdout",
     "output_type": "stream",
     "text": [
      "There are 262 unique subjects in the dx dataset\n",
      "These are broken down by devices as follows:\n",
      "|MULTIPLE DAILY INJECTIONS |MDI|37|\n",
      "|INSULET OMNIPOD DASH |CSII|42|\n",
      "|INSULET OMNIPOD INSULIN MANAGEMENT SYSTEM |CSII|29|\n",
      "|MEDTRONIC 770G IN MANUAL MODE |CSII|1|\n",
      "|TANDEM T:SLIM X2 |CSII|1|\n",
      "|TANDEM T:SLIM X2 WITH BASAL IQ |CSII|1|\n",
      "|TANDEM T:SLIM X2 WITH CONTROL IQ |AID|132|\n",
      "|INSULET OMNIPOD 5 |AID|12|\n",
      "|MEDTRONIC 770G IN AUTO MODE |AID|5|\n",
      "|MEDTRONIC 670G IN AUTO MODE |AID|1|\n",
      "|TANDEM T:SLIM X2 WITH BASAL IQ |AID|1|\n"
     ]
    },
    {
     "data": {
      "text/html": [
       "<div>\n",
       "<style scoped>\n",
       "    .dataframe tbody tr th:only-of-type {\n",
       "        vertical-align: middle;\n",
       "    }\n",
       "\n",
       "    .dataframe tbody tr th {\n",
       "        vertical-align: top;\n",
       "    }\n",
       "\n",
       "    .dataframe thead th {\n",
       "        text-align: right;\n",
       "    }\n",
       "</style>\n",
       "<table border=\"1\" class=\"dataframe\">\n",
       "  <thead>\n",
       "    <tr style=\"text-align: right;\">\n",
       "      <th></th>\n",
       "      <th>TRTMNT</th>\n",
       "      <th>DXTRT</th>\n",
       "      <th>Patients</th>\n",
       "    </tr>\n",
       "  </thead>\n",
       "  <tbody>\n",
       "    <tr>\n",
       "      <th>2</th>\n",
       "      <td>MDI</td>\n",
       "      <td>MULTIPLE DAILY INJECTIONS</td>\n",
       "      <td>37</td>\n",
       "    </tr>\n",
       "    <tr>\n",
       "      <th>1</th>\n",
       "      <td>CSII</td>\n",
       "      <td>INSULET OMNIPOD DASH</td>\n",
       "      <td>42</td>\n",
       "    </tr>\n",
       "    <tr>\n",
       "      <th>3</th>\n",
       "      <td>CSII</td>\n",
       "      <td>INSULET OMNIPOD INSULIN MANAGEMENT SYSTEM</td>\n",
       "      <td>29</td>\n",
       "    </tr>\n",
       "    <tr>\n",
       "      <th>8</th>\n",
       "      <td>CSII</td>\n",
       "      <td>MEDTRONIC 770G IN MANUAL MODE</td>\n",
       "      <td>1</td>\n",
       "    </tr>\n",
       "    <tr>\n",
       "      <th>9</th>\n",
       "      <td>CSII</td>\n",
       "      <td>TANDEM T:SLIM X2</td>\n",
       "      <td>1</td>\n",
       "    </tr>\n",
       "    <tr>\n",
       "      <th>10</th>\n",
       "      <td>CSII</td>\n",
       "      <td>TANDEM T:SLIM X2 WITH BASAL IQ</td>\n",
       "      <td>1</td>\n",
       "    </tr>\n",
       "    <tr>\n",
       "      <th>0</th>\n",
       "      <td>AID</td>\n",
       "      <td>TANDEM T:SLIM X2 WITH CONTROL IQ</td>\n",
       "      <td>132</td>\n",
       "    </tr>\n",
       "    <tr>\n",
       "      <th>4</th>\n",
       "      <td>AID</td>\n",
       "      <td>INSULET OMNIPOD 5</td>\n",
       "      <td>12</td>\n",
       "    </tr>\n",
       "    <tr>\n",
       "      <th>5</th>\n",
       "      <td>AID</td>\n",
       "      <td>MEDTRONIC 770G IN AUTO MODE</td>\n",
       "      <td>5</td>\n",
       "    </tr>\n",
       "    <tr>\n",
       "      <th>6</th>\n",
       "      <td>AID</td>\n",
       "      <td>MEDTRONIC 670G IN AUTO MODE</td>\n",
       "      <td>1</td>\n",
       "    </tr>\n",
       "    <tr>\n",
       "      <th>7</th>\n",
       "      <td>AID</td>\n",
       "      <td>TANDEM T:SLIM X2 WITH BASAL IQ</td>\n",
       "      <td>1</td>\n",
       "    </tr>\n",
       "  </tbody>\n",
       "</table>\n",
       "</div>"
      ],
      "text/plain": [
       "   TRTMNT                                      DXTRT  Patients\n",
       "2     MDI                  MULTIPLE DAILY INJECTIONS        37\n",
       "1    CSII                       INSULET OMNIPOD DASH        42\n",
       "3    CSII  INSULET OMNIPOD INSULIN MANAGEMENT SYSTEM        29\n",
       "8    CSII              MEDTRONIC 770G IN MANUAL MODE         1\n",
       "9    CSII                           TANDEM T:SLIM X2         1\n",
       "10   CSII             TANDEM T:SLIM X2 WITH BASAL IQ         1\n",
       "0     AID           TANDEM T:SLIM X2 WITH CONTROL IQ       132\n",
       "4     AID                          INSULET OMNIPOD 5        12\n",
       "5     AID                MEDTRONIC 770G IN AUTO MODE         5\n",
       "6     AID                MEDTRONIC 670G IN AUTO MODE         1\n",
       "7     AID             TANDEM T:SLIM X2 WITH BASAL IQ         1"
      ]
     },
     "metadata": {},
     "output_type": "display_data"
    }
   ],
   "source": [
    "#load and preprocess dx file\n",
    "dx = pd.read_sas(os.path.join(t1dexi_path,'DX.xpt'),encoding='latin-1').replace('', np.nan)\n",
    "dx = dx.drop(columns=['DXSCAT','DXPRESP','STUDYID','DOMAIN','SPDEVID','DXSEQ','DXCAT','DXSCAT','DXSTRTPT','DXDTC','DXENRTPT','DXEVINTX','VISIT'])\n",
    "\n",
    "#print dx value counts (subjects, devices)\n",
    "print(f'There are {dx.USUBJID.nunique()} unique subjects in the dx dataset')\n",
    "print('These are broken down by devices as follows:')\n",
    "#display(dx.value_counts('DXTRT'))\n",
    "\n",
    "#the duplicated 'INSULIN PUMP' or 'CLOSED LOOP INSULIN PUMP' values can be used to specify the pump type\n",
    "#pump_type = dx.loc[dx.DXTRT.isin(['INSULIN PUMP','CLOSED LOOP INSULIN PUMP'])][['USUBJID','DXTRT']]\n",
    "#mdi_type = dx.loc[dx.DXTRT.isin(['MULTIPLE DAILY INJECTIONS'])]\n",
    "#other_type = dx.loc[~dx.DXTRT.isin(['INSULIN PUMP','CLOSED LOOP INSULIN PUMP','MULTIPLE DAILY INJECTIONS'])]\n",
    "#print(f'Pump: {len(pump_type)}, MDI: {len(mdi_type)}, Other: {len(other_type)}')\n",
    "\n",
    "#use the redundant rows as treatment type and add those to new TRTMNT Colum (CSII, AID, MDI)\n",
    "temp = dx.loc[dx.DXTRT.isin(['INSULIN PUMP','CLOSED LOOP INSULIN PUMP','MULTIPLE DAILY INJECTIONS'])][['USUBJID','DXTRT']]\n",
    "temp['TRTMNT'] = temp.DXTRT.replace({'INSULIN PUMP':'CSII','CLOSED LOOP INSULIN PUMP':'AID','MULTIPLE DAILY INJECTIONS':'MDI'})\n",
    "temp.drop(columns=['DXTRT'],inplace=True)\n",
    "\n",
    "dx = pd.merge(dx.loc[~dx.DXTRT.isin(['INSULIN PUMP','CLOSED LOOP INSULIN PUMP'])], temp, on=['USUBJID'], how='inner')\n",
    "\n",
    "#display value counts by device type and number of patients\n",
    "temp = dx.value_counts(['TRTMNT','DXTRT']).reset_index().rename(columns={'count':'Patients'}).sort_values(by=['TRTMNT', 'Patients'], ascending=False)\n",
    "for row in temp.itertuples():\n",
    "    print(f'|{row.DXTRT} |{row.TRTMNT}|{row.Patients}|')\n",
    "\n",
    "display(temp)"
   ]
  },
  {
   "cell_type": "markdown",
   "metadata": {},
   "source": [
    "### Load FACM file"
   ]
  },
  {
   "cell_type": "code",
   "execution_count": 30,
   "metadata": {},
   "outputs": [
    {
     "name": "stdout",
     "output_type": "stream",
     "text": [
      "Number of % in facm: 0, dx: 0\n"
     ]
    },
    {
     "data": {
      "text/html": [
       "<div>\n",
       "<style scoped>\n",
       "    .dataframe tbody tr th:only-of-type {\n",
       "        vertical-align: middle;\n",
       "    }\n",
       "\n",
       "    .dataframe tbody tr th {\n",
       "        vertical-align: top;\n",
       "    }\n",
       "\n",
       "    .dataframe thead th {\n",
       "        text-align: right;\n",
       "    }\n",
       "</style>\n",
       "<table border=\"1\" class=\"dataframe\">\n",
       "  <thead>\n",
       "    <tr style=\"text-align: right;\">\n",
       "      <th></th>\n",
       "      <th>USUBJID</th>\n",
       "      <th>FATESTCD</th>\n",
       "      <th>FATEST</th>\n",
       "      <th>FAOBJ</th>\n",
       "      <th>FACAT</th>\n",
       "      <th>FAORRES</th>\n",
       "      <th>FAORRESU</th>\n",
       "      <th>FADTC</th>\n",
       "      <th>FADUR</th>\n",
       "      <th>INSDVSRC</th>\n",
       "      <th>INSSTYPE</th>\n",
       "      <th>INSNMBOL</th>\n",
       "      <th>INSEXBOL</th>\n",
       "      <th>FAGRPID</th>\n",
       "      <th>day</th>\n",
       "    </tr>\n",
       "  </thead>\n",
       "  <tbody>\n",
       "    <tr>\n",
       "      <th>441292</th>\n",
       "      <td>76</td>\n",
       "      <td>INSBASAL</td>\n",
       "      <td>BASAL INSULIN</td>\n",
       "      <td>INSULIN</td>\n",
       "      <td>BASAL</td>\n",
       "      <td>0.220</td>\n",
       "      <td>U</td>\n",
       "      <td>2022-01-31 10:39:44</td>\n",
       "      <td>0 days 00:05:01</td>\n",
       "      <td>Pump</td>\n",
       "      <td>automated</td>\n",
       "      <td>NaN</td>\n",
       "      <td>NaN</td>\n",
       "      <td>1.0</td>\n",
       "      <td>2022-01-31</td>\n",
       "    </tr>\n",
       "    <tr>\n",
       "      <th>89292</th>\n",
       "      <td>205</td>\n",
       "      <td>INSBASAL</td>\n",
       "      <td>BASAL INSULIN</td>\n",
       "      <td>INSULIN</td>\n",
       "      <td>BASAL</td>\n",
       "      <td>0.100</td>\n",
       "      <td>U</td>\n",
       "      <td>2021-10-27 23:07:44</td>\n",
       "      <td>0 days 00:14:57</td>\n",
       "      <td>Pump</td>\n",
       "      <td>automated</td>\n",
       "      <td>NaN</td>\n",
       "      <td>NaN</td>\n",
       "      <td>1.0</td>\n",
       "      <td>2021-10-27</td>\n",
       "    </tr>\n",
       "    <tr>\n",
       "      <th>170468</th>\n",
       "      <td>265</td>\n",
       "      <td>INSBASAL</td>\n",
       "      <td>BASAL INSULIN</td>\n",
       "      <td>INSULIN</td>\n",
       "      <td>BASAL</td>\n",
       "      <td>0.100</td>\n",
       "      <td>U</td>\n",
       "      <td>2021-09-08 03:06:20</td>\n",
       "      <td>0 days 00:05:00</td>\n",
       "      <td>Pump</td>\n",
       "      <td>automated</td>\n",
       "      <td>NaN</td>\n",
       "      <td>NaN</td>\n",
       "      <td>1.0</td>\n",
       "      <td>2021-09-08</td>\n",
       "    </tr>\n",
       "    <tr>\n",
       "      <th>429389</th>\n",
       "      <td>69</td>\n",
       "      <td>BASFLRT</td>\n",
       "      <td>BASAL FLOW RATE</td>\n",
       "      <td>INSULIN</td>\n",
       "      <td>BASAL</td>\n",
       "      <td>0.600</td>\n",
       "      <td>U/hr</td>\n",
       "      <td>2022-05-17 17:45:34</td>\n",
       "      <td>0 days 00:05:00</td>\n",
       "      <td>NaN</td>\n",
       "      <td>NaN</td>\n",
       "      <td>NaN</td>\n",
       "      <td>NaN</td>\n",
       "      <td>2.0</td>\n",
       "      <td>2022-05-17</td>\n",
       "    </tr>\n",
       "    <tr>\n",
       "      <th>140290</th>\n",
       "      <td>242</td>\n",
       "      <td>BASFLRT</td>\n",
       "      <td>BASAL FLOW RATE</td>\n",
       "      <td>INSULIN</td>\n",
       "      <td>BASAL</td>\n",
       "      <td>0.562</td>\n",
       "      <td>U/hr</td>\n",
       "      <td>2021-05-09 10:13:06</td>\n",
       "      <td>0 days 00:04:59</td>\n",
       "      <td>NaN</td>\n",
       "      <td>NaN</td>\n",
       "      <td>NaN</td>\n",
       "      <td>NaN</td>\n",
       "      <td>2.0</td>\n",
       "      <td>2021-05-09</td>\n",
       "    </tr>\n",
       "  </tbody>\n",
       "</table>\n",
       "</div>"
      ],
      "text/plain": [
       "       USUBJID  FATESTCD           FATEST    FAOBJ  FACAT  FAORRES FAORRESU  \\\n",
       "441292      76  INSBASAL    BASAL INSULIN  INSULIN  BASAL    0.220        U   \n",
       "89292      205  INSBASAL    BASAL INSULIN  INSULIN  BASAL    0.100        U   \n",
       "170468     265  INSBASAL    BASAL INSULIN  INSULIN  BASAL    0.100        U   \n",
       "429389      69   BASFLRT  BASAL FLOW RATE  INSULIN  BASAL    0.600     U/hr   \n",
       "140290     242   BASFLRT  BASAL FLOW RATE  INSULIN  BASAL    0.562     U/hr   \n",
       "\n",
       "                     FADTC           FADUR INSDVSRC   INSSTYPE  INSNMBOL  \\\n",
       "441292 2022-01-31 10:39:44 0 days 00:05:01     Pump  automated       NaN   \n",
       "89292  2021-10-27 23:07:44 0 days 00:14:57     Pump  automated       NaN   \n",
       "170468 2021-09-08 03:06:20 0 days 00:05:00     Pump  automated       NaN   \n",
       "429389 2022-05-17 17:45:34 0 days 00:05:00      NaN        NaN       NaN   \n",
       "140290 2021-05-09 10:13:06 0 days 00:04:59      NaN        NaN       NaN   \n",
       "\n",
       "        INSEXBOL  FAGRPID         day  \n",
       "441292       NaN      1.0  2022-01-31  \n",
       "89292        NaN      1.0  2021-10-27  \n",
       "170468       NaN      1.0  2021-09-08  \n",
       "429389       NaN      2.0  2022-05-17  \n",
       "140290       NaN      2.0  2021-05-09  "
      ]
     },
     "metadata": {},
     "output_type": "display_data"
    }
   ],
   "source": [
    "#load and preprocess facm file\n",
    "facm = pd.read_sas(os.path.join(t1dexi_path,'FACM.xpt'),encoding='latin-1',).replace('', np.nan)\n",
    "\n",
    "#'FAORRES','FASTRESC' and FASTRESN all show the finding (result) (however, 0 values show up as 5.397605e-79 in FASTRESN)\n",
    "#`FAORRES`: Result or Finding in Original Units\n",
    "#`FASTRESC`: Character Result/Finding in Std Format\n",
    "#`FASTRESN`: Numeric Result/Finding in Standard Unit\n",
    "facm['FAORRES'] = facm['FAORRES'].astype(float)\n",
    "\n",
    "#FAORRESU and FASTRESU refer to the Unit but since U/hr is not a standard unit it is NaN in FASTRESU\n",
    "#`FAORRESU`: Original Units\n",
    "#`FASTRESU`: Standard Units\n",
    "facm = facm.drop(columns=['STUDYID','DOMAIN','FASEQ',\n",
    "                          'FASTRESN','FASTRESC',# Numeric results are 5.397605e-79 for 0 values, therefore use FAORRES (original units),FASTRESC is just a string duplicated\n",
    "                          'FASTRESU', #standard units are NaN for U/hr , therefore use FAORRESU (original units)\n",
    "                          ]) \n",
    "\n",
    "#alternatively we could use \n",
    "facm['FADTC'] = facm['FADTC'].apply(lambda x: datetime(1960, 1, 1) + timedelta(seconds=x) if pd.notnull(x) else pd.NaT)\n",
    "facm['FADUR'] = facm.FADUR.dropna().apply(isodate.parse_duration, as_timedelta_if_possible=True)\n",
    "facm['day'] = facm.FADTC.dt.date\n",
    "\n",
    "#note, we didn't need to replace % signs and we didn't need xport as in the scripts\n",
    "percent_count_facm = facm.apply(lambda x: x.astype(str).str.contains('%').sum()).sum()\n",
    "percent_count_dx = dx.apply(lambda x: x.astype(str).str.contains('%').sum()).sum()\n",
    "print(f'Number of % in facm: {percent_count_facm}, dx: {percent_count_dx}')\n",
    "\n",
    "display(facm.sample(5))"
   ]
  },
  {
   "cell_type": "code",
   "execution_count": 31,
   "metadata": {},
   "outputs": [
    {
     "name": "stdout",
     "output_type": "stream",
     "text": [
      "The number of days per patient in average is 9.92\n",
      "Total number of days: 2569\n"
     ]
    }
   ],
   "source": [
    "# get number of days\n",
    "days_p_patient = facm.groupby('USUBJID').day.nunique()\n",
    "print(f'The number of days per patient in average is {days_p_patient.mean():.2f}')\n",
    "print('Total number of days:', days_p_patient.sum())"
   ]
  },
  {
   "cell_type": "code",
   "execution_count": 32,
   "metadata": {},
   "outputs": [
    {
     "data": {
      "text/plain": [
       "USUBJID          0\n",
       "FATESTCD         0\n",
       "FATEST           0\n",
       "FAOBJ            0\n",
       "FACAT            0\n",
       "FAORRES          0\n",
       "FAORRESU         0\n",
       "FADTC            0\n",
       "FADUR       -27649\n",
       "INSDVSRC   -222623\n",
       "INSSTYPE   -222959\n",
       "INSNMBOL   -447093\n",
       "INSEXBOL   -465923\n",
       "FAGRPID          0\n",
       "day              0\n",
       "dtype: int64"
      ]
     },
     "execution_count": 32,
     "metadata": {},
     "output_type": "execute_result"
    }
   ],
   "source": [
    "facm.count()-len(facm)"
   ]
  },
  {
   "cell_type": "code",
   "execution_count": 33,
   "metadata": {},
   "outputs": [
    {
     "name": "stdout",
     "output_type": "stream",
     "text": [
      "There are 0 duplicates in the facm dataset\n"
     ]
    }
   ],
   "source": [
    "## duplciates\n",
    "n =facm.duplicated().sum()\n",
    "print(f'There are {n} duplicates in the facm dataset')\n",
    "facm = facm.drop_duplicates()"
   ]
  },
  {
   "cell_type": "markdown",
   "metadata": {},
   "source": [
    "- FADUR is missing for boluses and basal deliveries (basal deliveries (non flow rates))\n",
    "- insulin type and source are often missing\n",
    "- INSNMBOL and INSEXBOL are often missing (probably mostly for all the basal values)"
   ]
  },
  {
   "cell_type": "markdown",
   "metadata": {},
   "source": [
    "## Load CGM File"
   ]
  },
  {
   "cell_type": "code",
   "execution_count": 440,
   "metadata": {},
   "outputs": [],
   "source": [
    "#lb = self._get_data('LB')[0][['USUBJID', 'LBORRES', 'LBORRESU', 'LBDTC']]\n",
    "lb = pd.read_sas(os.path.join(t1dexi_path,'LB.xpt'), encoding='latin-1')\n",
    "\n",
    "\n",
    "assert lb.isna().sum().sum()==0\n",
    "\n",
    "lb.isna().sum()\n",
    "lb['LBDTC'] = lb['LBDTC'].apply(lambda x: datetime(1960, 1, 1) + timedelta(seconds=x) if pd.notnull(x) else pd.NaT)\n",
    "lb.replace('', np.nan, inplace=True)\n",
    "#lb = lb[['USUBJID','LBCAT','LBORRES','LBDTC']]\n",
    "lb = lb.loc[lb.LBCAT=='CGM']\n",
    "lb.drop(columns='LBCAT',inplace=True)"
   ]
  },
  {
   "cell_type": "markdown",
   "metadata": {},
   "source": [
    "## Only keep aptients with data in all datasets"
   ]
  },
  {
   "cell_type": "code",
   "execution_count": 441,
   "metadata": {},
   "outputs": [
    {
     "name": "stdout",
     "output_type": "stream",
     "text": [
      "245 unique subjects in the facm dataset\n",
      "247 unique subjects in the lb dataset\n",
      "2449 patient days in the facm dataset\n",
      "2492 patient days in the lb dataset\n",
      "245 patients have data in all three datasets\n",
      "245 unique subjects in the facm dataset\n",
      "245 unique subjects in the lb dataset\n",
      "2449 patient days in the facm dataset\n",
      "2472 patient days in the lb dataset\n"
     ]
    }
   ],
   "source": [
    "print(f'{facm.USUBJID.nunique()} unique subjects in the facm dataset')\n",
    "print(f'{lb.USUBJID.nunique()} unique subjects in the lb dataset')\n",
    "\n",
    "#number of patient days \n",
    "print(f\"{facm.groupby('USUBJID').day.nunique().sum()} patient days in the facm dataset\")\n",
    "print(f\"{lb.groupby('USUBJID').apply(lambda x: x.LBDTC.dt.date.nunique()).sum()} patient days in the lb dataset\")\n",
    "\n",
    "#only keep patients that have data in all three datasets\n",
    "facm_patients = facm.USUBJID.unique()\n",
    "dx_patients = dx.USUBJID.unique()\n",
    "lb_patients = lb.USUBJID.unique()\n",
    "shared_patients = set(facm_patients) & set(dx_patients) & set(lb_patients)\n",
    "print(f'{len(shared_patients)} patients have data in all three datasets')\n",
    "facm = facm[facm['USUBJID'].isin(shared_patients)]\n",
    "dx = dx[dx['USUBJID'].isin(shared_patients)]\n",
    "lb = lb[lb['USUBJID'].isin(shared_patients)]\n",
    "print(f'{facm.USUBJID.nunique()} unique subjects in the facm dataset')\n",
    "print(f'{lb.USUBJID.nunique()} unique subjects in the lb dataset')\n",
    "\n",
    "#number of patient days \n",
    "print(f\"{facm.groupby('USUBJID').day.nunique().sum()} patient days in the facm dataset\")\n",
    "print(f\"{lb.groupby('USUBJID').apply(lambda x: x.LBDTC.dt.date.nunique()).sum()} patient days in the lb dataset\")"
   ]
  },
  {
   "cell_type": "markdown",
   "metadata": {},
   "source": [
    "### Merge devices to facm"
   ]
  },
  {
   "cell_type": "code",
   "execution_count": 34,
   "metadata": {},
   "outputs": [
    {
     "data": {
      "text/html": [
       "<div>\n",
       "<style scoped>\n",
       "    .dataframe tbody tr th:only-of-type {\n",
       "        vertical-align: middle;\n",
       "    }\n",
       "\n",
       "    .dataframe tbody tr th {\n",
       "        vertical-align: top;\n",
       "    }\n",
       "\n",
       "    .dataframe thead th {\n",
       "        text-align: right;\n",
       "    }\n",
       "</style>\n",
       "<table border=\"1\" class=\"dataframe\">\n",
       "  <thead>\n",
       "    <tr style=\"text-align: right;\">\n",
       "      <th></th>\n",
       "      <th>USUBJID</th>\n",
       "      <th>FATESTCD</th>\n",
       "      <th>FATEST</th>\n",
       "      <th>FAOBJ</th>\n",
       "      <th>FACAT</th>\n",
       "      <th>FAORRES</th>\n",
       "      <th>FAORRESU</th>\n",
       "      <th>FADTC</th>\n",
       "      <th>FADUR</th>\n",
       "      <th>INSDVSRC</th>\n",
       "      <th>INSSTYPE</th>\n",
       "      <th>INSNMBOL</th>\n",
       "      <th>INSEXBOL</th>\n",
       "      <th>FAGRPID</th>\n",
       "      <th>day</th>\n",
       "      <th>DXTRT</th>\n",
       "      <th>TRTMNT</th>\n",
       "    </tr>\n",
       "  </thead>\n",
       "  <tbody>\n",
       "    <tr>\n",
       "      <th>396920</th>\n",
       "      <td>530</td>\n",
       "      <td>BASFLRT</td>\n",
       "      <td>BASAL FLOW RATE</td>\n",
       "      <td>INSULIN</td>\n",
       "      <td>BASAL</td>\n",
       "      <td>0.282</td>\n",
       "      <td>U/hr</td>\n",
       "      <td>2021-03-07 05:21:14</td>\n",
       "      <td>0 days 00:05:00</td>\n",
       "      <td>NaN</td>\n",
       "      <td>NaN</td>\n",
       "      <td>NaN</td>\n",
       "      <td>NaN</td>\n",
       "      <td>2.0</td>\n",
       "      <td>2021-03-07</td>\n",
       "      <td>TANDEM T:SLIM X2 WITH CONTROL IQ</td>\n",
       "      <td>AID</td>\n",
       "    </tr>\n",
       "    <tr>\n",
       "      <th>224893</th>\n",
       "      <td>357</td>\n",
       "      <td>BASFLRT</td>\n",
       "      <td>BASAL FLOW RATE</td>\n",
       "      <td>INSULIN</td>\n",
       "      <td>BASAL</td>\n",
       "      <td>2.936</td>\n",
       "      <td>U/hr</td>\n",
       "      <td>2021-01-16 23:44:33</td>\n",
       "      <td>0 days 00:05:01</td>\n",
       "      <td>NaN</td>\n",
       "      <td>NaN</td>\n",
       "      <td>NaN</td>\n",
       "      <td>NaN</td>\n",
       "      <td>2.0</td>\n",
       "      <td>2021-01-16</td>\n",
       "      <td>TANDEM T:SLIM X2 WITH CONTROL IQ</td>\n",
       "      <td>AID</td>\n",
       "    </tr>\n",
       "  </tbody>\n",
       "</table>\n",
       "</div>"
      ],
      "text/plain": [
       "       USUBJID FATESTCD           FATEST    FAOBJ  FACAT  FAORRES FAORRESU  \\\n",
       "396920     530  BASFLRT  BASAL FLOW RATE  INSULIN  BASAL    0.282     U/hr   \n",
       "224893     357  BASFLRT  BASAL FLOW RATE  INSULIN  BASAL    2.936     U/hr   \n",
       "\n",
       "                     FADTC           FADUR INSDVSRC INSSTYPE  INSNMBOL  \\\n",
       "396920 2021-03-07 05:21:14 0 days 00:05:00      NaN      NaN       NaN   \n",
       "224893 2021-01-16 23:44:33 0 days 00:05:01      NaN      NaN       NaN   \n",
       "\n",
       "        INSEXBOL  FAGRPID         day                             DXTRT TRTMNT  \n",
       "396920       NaN      2.0  2021-03-07  TANDEM T:SLIM X2 WITH CONTROL IQ    AID  \n",
       "224893       NaN      2.0  2021-01-16  TANDEM T:SLIM X2 WITH CONTROL IQ    AID  "
      ]
     },
     "metadata": {},
     "output_type": "display_data"
    }
   ],
   "source": [
    "## merge devices to facm \n",
    "\n",
    "temp = dx.loc[~dx.DXTRT.isin(['INSULIN PUMP','CLOSED LOOP INSULIN PUMP'])]\n",
    "facm = pd.merge(facm, temp, on='USUBJID',how='left')\n",
    "display(facm.sample(2))"
   ]
  },
  {
   "cell_type": "markdown",
   "metadata": {},
   "source": [
    "## Understand Basal and Boluses"
   ]
  },
  {
   "cell_type": "markdown",
   "metadata": {},
   "source": [
    "### Inspect column hiarchy"
   ]
  },
  {
   "cell_type": "code",
   "execution_count": 37,
   "metadata": {},
   "outputs": [
    {
     "name": "stdout",
     "output_type": "stream",
     "text": [
      "Overall number of rows in FACM 466460\n"
     ]
    },
    {
     "data": {
      "text/plain": [
       "FAOBJ    FACAT  FATESTCD  FATEST           INSDVSRC  INSSTYPE   \n",
       "INSULIN  BASAL  BASFLRT   BASAL FLOW RATE  NaN       NaN            219138\n",
       "                INSBASAL  BASAL INSULIN    Pump      automated      205285\n",
       "                                                     scheduled        8327\n",
       "                                                     suspend          1392\n",
       "                                                     temp             3793\n",
       "                                                     temporary           4\n",
       "                                                     NaN               336\n",
       "                                           NaN       NaN               427\n",
       "         BOLUS  INSBOLUS  BOLUS INSULIN    Pump      automated        5826\n",
       "                                                     dual/square       476\n",
       "                                                     normal          18337\n",
       "                                                     square             61\n",
       "                                           NaN       NaN              3058\n",
       "Name: count, dtype: int64"
      ]
     },
     "metadata": {},
     "output_type": "display_data"
    },
    {
     "data": {
      "text/plain": [
       "FATEST           INSDVSRC  FAORRESU\n",
       "BASAL FLOW RATE  NaN       U/hr        219138\n",
       "BASAL INSULIN    Pump      U           219137\n",
       "                 NaN       U              427\n",
       "BOLUS INSULIN    Pump      U            24700\n",
       "                 NaN       U             3058\n",
       "Name: count, dtype: int64"
      ]
     },
     "metadata": {},
     "output_type": "display_data"
    },
    {
     "name": "stdout",
     "output_type": "stream",
     "text": [
      "BASAL FLOW RATE by pump:\n"
     ]
    },
    {
     "data": {
      "text/plain": [
       "FATEST           TRTMNT\n",
       "BASAL FLOW RATE  AID       214680\n",
       "                 CSII        4458\n",
       "BASAL INSULIN    AID       214682\n",
       "                 CSII        4457\n",
       "                 MDI          425\n",
       "BOLUS INSULIN    AID        21286\n",
       "                 CSII        5095\n",
       "                 MDI         1377\n",
       "Name: count, dtype: int64"
      ]
     },
     "metadata": {},
     "output_type": "display_data"
    },
    {
     "name": "stdout",
     "output_type": "stream",
     "text": [
      "Number of basal flow rate rows for which FAORRES and FADUR is NaN\n",
      "0.00% overall\n",
      "0.00% of durations are NaN\n"
     ]
    }
   ],
   "source": [
    "#print hierachical value counts of relevant columns\n",
    "print(f'Overall number of rows in FACM {facm.shape[0]}')\n",
    "\n",
    "vcounts= facm.value_counts(subset=['FAOBJ','FACAT','FATESTCD','FATEST','INSDVSRC','INSSTYPE'],sort=False,dropna=False)\n",
    "display(vcounts)\n",
    "\n",
    "#We see that source and sub type are NaN when fatest is basal flow rate. So do the units differ?\n",
    "vcounts = facm.value_counts(subset=['FATEST','INSDVSRC','FAORRESU'],sort=False,dropna=False)\n",
    "display(vcounts)\n",
    "\n",
    "\n",
    "#print value counts for pump FLOW RATE\n",
    "\n",
    "#Are BASAL FLOW RATEs and BASAL present in all devices?\n",
    "print('BASAL FLOW RATE by pump:')\n",
    "display(facm.value_counts(subset=['FATEST','TRTMNT'],sort=False,dropna=False))\n",
    "\n",
    "#NaN counts\n",
    "flow_rates = facm.loc[(facm.FATEST=='BASAL FLOW RATE') ]\n",
    "print('Number of basal flow rate rows for which FAORRES and FADUR is NaN')\n",
    "print(f'{flow_rates.FAORRES.isna().sum()/len(flow_rates)*100:.2f}% overall')\n",
    "print(f'{flow_rates.FADUR.isna().sum()/len(flow_rates)*100:.2f}% of durations are NaN')\n"
   ]
  },
  {
   "cell_type": "markdown",
   "metadata": {},
   "source": [
    " **Observations:**  \n",
    " In contrast to T1DExi\n",
    " - MDI has no flow rates\n",
    " - There are no NaN FAORRES or Durations"
   ]
  },
  {
   "cell_type": "markdown",
   "metadata": {},
   "source": [
    "## Basal Rates"
   ]
  },
  {
   "cell_type": "markdown",
   "metadata": {},
   "source": [
    "We see that the deliveries are much smaller indicating that these are the actual deliveries."
   ]
  },
  {
   "cell_type": "code",
   "execution_count": 43,
   "metadata": {},
   "outputs": [
    {
     "data": {
      "image/png": "[encoded data removed]",
      "text/plain": [
       "<Figure size 2000x300 with 2 Axes>"
      ]
     },
     "metadata": {},
     "output_type": "display_data"
    },
    {
     "data": {
      "image/png": "[encoded data removed]",
      "text/plain": [
       "<Figure size 2000x300 with 2 Axes>"
      ]
     },
     "metadata": {},
     "output_type": "display_data"
    }
   ],
   "source": [
    "#plot examples for basal flow rates and basal deliveries for \n",
    "from src import drawing\n",
    "from importlib import reload\n",
    "reload(drawing)\n",
    "\n",
    "#show an example of a flow rate and a basal within the same subject\n",
    "patient_ids = facm.loc[~facm.DXTRT.isin(['MULTIPLE DAILY INJECTIONS'])].USUBJID.sample(2).values\n",
    "for patient_id in patient_ids:\n",
    "\n",
    "    sub = facm.loc[(facm.USUBJID==patient_id)&(facm.FATEST.notna())].sort_values('FADTC')\n",
    "    start = sub.FADTC.min()+timedelta(days=1)\n",
    "    dur = timedelta(hours=48)\n",
    "    sub = sub.loc[(sub.FADTC>=start)&(sub.FADTC<=start+dur)]\n",
    "\n",
    "    sub_flow_rates = sub.loc[sub.FATEST=='BASAL FLOW RATE']\n",
    "    sub_basals = sub.loc[sub.FATEST=='BASAL INSULIN']\n",
    "    \n",
    "    #draw basal delivery rates\n",
    "    plt.figure(figsize=(20,3)); ax=plt.gca()\n",
    "    drawing.drawAbsoluteBasalRates(ax,sub_flow_rates.FADTC.values, sub_flow_rates.FAORRES.values,label='U/hr',hatch=None)\n",
    "    \n",
    "    #draw individual basal deliveries\n",
    "    twinx = ax.twinx()\n",
    "    drawing.drawBoluses(twinx,sub_basals.FADTC, sub_basals.FAORRES,label='U',width=timedelta(minutes=1))\n",
    "    plt.title(f'Basals rates of {patient_id} from {start} to {start+dur}'); \n",
    "    \n",
    "    # draw Nan deliveries as red xs at zero\n",
    "    nan_flow_rates = sub_flow_rates.loc[sub_flow_rates.FAORRES.isna()]\n",
    "    plt.scatter(nan_flow_rates.FADTC, [0]*len(nan_flow_rates), color='red', marker='v', s=100)\n",
    "    \n",
    "    # Set ylim to current limits but reduce minimum by 0.1\n",
    "    ylim = ax.get_ylim()\n",
    "    ax.set_ylim(ylim[0] - 0.1, ylim[1])\n",
    "\n",
    "    # Save the figure\n",
    "    file = os.path.join(os.getcwd(),'..','..','docs','data_sets','assets','t1dexi_basal_and_flow_rates'+patient_id+'.png')\n",
    "    plt.savefig(file)"
   ]
  },
  {
   "cell_type": "markdown",
   "metadata": {},
   "source": [
    "Above we saw that the NaN values happen in regions where flow rates are 0. Let's look at a few examples."
   ]
  },
  {
   "cell_type": "markdown",
   "metadata": {},
   "source": [
    "**Observations:**  \n",
    "- The basal deliveries modulrate the basal rate (U/hr)\n",
    "- No NaN Values in T1DEXip"
   ]
  },
  {
   "cell_type": "markdown",
   "metadata": {},
   "source": [
    "##### Comparing basal flow rate and deliveries sums"
   ]
  },
  {
   "cell_type": "code",
   "execution_count": 46,
   "metadata": {},
   "outputs": [
    {
     "name": "stdout",
     "output_type": "stream",
     "text": [
      "For 100.00% of flow rates (pump only) rows have a duration\n",
      "Total Daily Basal doses are 49652.72U (flow rates) 49747.42U (deliveries)\n",
      "The error is:\n"
     ]
    },
    {
     "data": {
      "text/plain": [
       "mean    -0.032853\n",
       "std      0.680985\n",
       "min    -22.700265\n",
       "max      0.028421\n",
       "sum    -68.695749\n",
       "dtype: float64"
      ]
     },
     "metadata": {},
     "output_type": "display_data"
    }
   ],
   "source": [
    "#compare sums of total basal doses between deliveries and flow rates\n",
    "\n",
    "pump_rows = facm.loc[~(facm.TRTMNT=='MDI')].copy()\n",
    "pump_rows['day'] = pump_rows.FADTC.dt.date\n",
    "\n",
    "# Check if for all Basal flow rates, there is a duration\n",
    "print(f\"For {100*pump_rows.loc[facm.FATEST=='BASAL FLOW RATE'].FADUR.notna().mean():.2f}% of flow rates (pump only) rows have a duration\")\n",
    "\n",
    "#calculate daily basal delivery as the product of duration and flow rate\n",
    "flow_rates_with_dur = pump_rows.loc[pump_rows.FATEST=='BASAL FLOW RATE'].dropna(subset=['FADUR'])\n",
    "pump_rows['basal_rate'] =  flow_rates_with_dur.FAORRES * flow_rates_with_dur.FADUR.dt.total_seconds()/3600\n",
    "daily_flowrate_sums = pump_rows.groupby(['USUBJID','day'])['basal_rate'].sum(min_count=1)\n",
    "\n",
    "#calculate daily basal delivery as the sum of all deliveries\n",
    "daily_delivery_sums = pump_rows.loc[pump_rows.FATEST=='BASAL INSULIN'].groupby(['USUBJID','day'])['FAORRES'].sum(min_count=1)\n",
    "\n",
    "#compare the daily deliveries\n",
    "print(f'Total Daily Basal doses are {daily_flowrate_sums.sum():.2f}U (flow rates) {daily_delivery_sums.sum():.2f}U (deliveries)')\n",
    "print(f\"The error is:\")\n",
    "display((daily_flowrate_sums-daily_delivery_sums).agg(['mean','std','min','max','sum']))"
   ]
  },
  {
   "cell_type": "markdown",
   "metadata": {},
   "source": [
    "### ... summary\n",
    "- Basal deliveries and flow rates are almost identical (a little more than in T1DExi)"
   ]
  },
  {
   "cell_type": "markdown",
   "metadata": {},
   "source": [
    "### MDI vs. Pump Doses (NaN Basals Flows)\n",
    "1. Check: Are BASAL FLOW RATES always zero in MDI? \n",
    "2. Check: Are BASAL in MDI much larger than in Pump?\n",
    "3. Check: all BASAL in MDI injections?"
   ]
  },
  {
   "cell_type": "code",
   "execution_count": 50,
   "metadata": {},
   "outputs": [
    {
     "name": "stdout",
     "output_type": "stream",
     "text": [
      "Which MDI columns contain valid values?\n"
     ]
    },
    {
     "data": {
      "text/html": [
       "<div>\n",
       "<style scoped>\n",
       "    .dataframe tbody tr th:only-of-type {\n",
       "        vertical-align: middle;\n",
       "    }\n",
       "\n",
       "    .dataframe tbody tr th {\n",
       "        vertical-align: top;\n",
       "    }\n",
       "\n",
       "    .dataframe thead tr th {\n",
       "        text-align: left;\n",
       "    }\n",
       "\n",
       "    .dataframe thead tr:last-of-type th {\n",
       "        text-align: right;\n",
       "    }\n",
       "</style>\n",
       "<table border=\"1\" class=\"dataframe\">\n",
       "  <thead>\n",
       "    <tr>\n",
       "      <th></th>\n",
       "      <th></th>\n",
       "      <th>FADTC</th>\n",
       "      <th>FADUR</th>\n",
       "      <th>INSSTYPE</th>\n",
       "      <th>INSNMBOL</th>\n",
       "      <th>INSEXBOL</th>\n",
       "      <th>FAORRES</th>\n",
       "    </tr>\n",
       "    <tr>\n",
       "      <th></th>\n",
       "      <th></th>\n",
       "      <th>count</th>\n",
       "      <th>count</th>\n",
       "      <th>count</th>\n",
       "      <th>count</th>\n",
       "      <th>count</th>\n",
       "      <th>count</th>\n",
       "    </tr>\n",
       "    <tr>\n",
       "      <th>FATEST</th>\n",
       "      <th>FAORRESU</th>\n",
       "      <th></th>\n",
       "      <th></th>\n",
       "      <th></th>\n",
       "      <th></th>\n",
       "      <th></th>\n",
       "      <th></th>\n",
       "    </tr>\n",
       "  </thead>\n",
       "  <tbody>\n",
       "    <tr>\n",
       "      <th>BASAL INSULIN</th>\n",
       "      <th>U</th>\n",
       "      <td>425</td>\n",
       "      <td>0</td>\n",
       "      <td>0</td>\n",
       "      <td>0</td>\n",
       "      <td>0</td>\n",
       "      <td>425</td>\n",
       "    </tr>\n",
       "    <tr>\n",
       "      <th>BOLUS INSULIN</th>\n",
       "      <th>U</th>\n",
       "      <td>1377</td>\n",
       "      <td>0</td>\n",
       "      <td>94</td>\n",
       "      <td>94</td>\n",
       "      <td>0</td>\n",
       "      <td>1377</td>\n",
       "    </tr>\n",
       "  </tbody>\n",
       "</table>\n",
       "</div>"
      ],
      "text/plain": [
       "                       FADTC FADUR INSSTYPE INSNMBOL INSEXBOL FAORRES\n",
       "                       count count    count    count    count   count\n",
       "FATEST        FAORRESU                                               \n",
       "BASAL INSULIN U          425     0        0        0        0     425\n",
       "BOLUS INSULIN U         1377     0       94       94        0    1377"
      ]
     },
     "metadata": {},
     "output_type": "display_data"
    },
    {
     "data": {
      "text/plain": [
       "FATEST\n",
       "BOLUS INSULIN    1377\n",
       "BASAL INSULIN     425\n",
       "Name: count, dtype: int64"
      ]
     },
     "metadata": {},
     "output_type": "display_data"
    }
   ],
   "source": [
    "#Where does the data sit in MDI\n",
    "print(\"Which MDI columns contain valid values?\")\n",
    "# def isna(x):\n",
    "#     return x.isna().sum()\n",
    "r = facm.loc[facm.TRTMNT=='MDI'].groupby(['FATEST','FAORRESU'])[['FADTC','FADUR','INSSTYPE','INSNMBOL','INSEXBOL','FAORRES']].agg(['count'])\n",
    "display(r)\n",
    "\n",
    "display(facm.loc[facm.TRTMNT=='MDI'].FATEST.value_counts())"
   ]
  },
  {
   "cell_type": "code",
   "execution_count": 51,
   "metadata": {},
   "outputs": [
    {
     "name": "stdout",
     "output_type": "stream",
     "text": [
      "There are 0 MDI patients with flow rates\n",
      " wich are 0.00% of the MDI data\n",
      " from these, 0 are not NaN\n"
     ]
    }
   ],
   "source": [
    "#Check how many BASAL FLOW RATES exists in MDI\n",
    "mdi_with_flow_rates= facm.loc[(facm.TRTMNT=='MDI') &(facm.FATEST=='BASAL FLOW RATE')]\n",
    "print(f'There are {len(mdi_with_flow_rates.USUBJID.unique())} MDI patients with flow rates')\n",
    "print(f\" wich are {100*len(mdi_with_flow_rates)/len(facm.loc[(facm.DXTRT=='MULTIPLE DAILY INJECTIONS')]):.2f}% of the MDI data\")\n",
    "print(f\" from these, {mdi_with_flow_rates.FAORRES.count()} are not NaN\")"
   ]
  },
  {
   "cell_type": "markdown",
   "metadata": {},
   "source": [
    "- Most MDI data is in FAORRES but not in INSMBOL"
   ]
  },
  {
   "cell_type": "markdown",
   "metadata": {},
   "source": [
    "#### MDI Basal durations? How often do patients inject?"
   ]
  },
  {
   "cell_type": "code",
   "execution_count": 53,
   "metadata": {},
   "outputs": [
    {
     "data": {
      "text/plain": [
       "(-5.0, 72.0)"
      ]
     },
     "execution_count": 53,
     "metadata": {},
     "output_type": "execute_result"
    },
    {
     "data": {
      "image/png": "[encoded data removed]",
      "text/plain": [
       "<Figure size 1000x200 with 2 Axes>"
      ]
     },
     "metadata": {},
     "output_type": "display_data"
    }
   ],
   "source": [
    "mdi_basal = facm.loc[facm.FATEST.isin(['BASAL INSULIN']) & (facm.DXTRT=='MULTIPLE DAILY INJECTIONS')]\n",
    "\n",
    "basal_dur = mdi_basal.groupby('USUBJID').FADTC.apply(lambda x: x.diff().dt.total_seconds()/3600)\n",
    "plt.figure(figsize=(10,2));ax=plt.gca(); twinx = ax.twinx()\n",
    "cdf.plot_cdf(basal_dur, label='MDI Basal Durations',ax=ax);\n",
    "ax.set_ylabel('Basal Durations CDF')\n",
    "ax.set_xlim(-5,72)\n",
    "#save = os.path.join(os.getcwd(),'..','..','docs','data_sets','assets','t1dexip_mdi_basal_durations.png')\n",
    "#plt.savefig(save)"
   ]
  },
  {
   "cell_type": "markdown",
   "metadata": {},
   "source": [
    "As we can see there are several groups:\n",
    " 1. around 0 hours (could be priming doses)\n",
    " 2. <102h (half day insulin like levimir)\n",
    " 3. around 24h (1 time injections like glargine)\n",
    " 4. some around 48 hours (degludec) and possibly missed doses \n",
    "\n",
    " This seems reasonable. While we might miss some doses (either no injection happened or not logged), this seems to be a fair approximation. Further investigation could be done to correlate these fundings based on the basal insulin type."
   ]
  },
  {
   "cell_type": "code",
   "execution_count": 82,
   "metadata": {},
   "outputs": [
    {
     "name": "stdout",
     "output_type": "stream",
     "text": [
      "There are 3 repeated injections in the MDI dataset\n",
      "Pandas(Index=318405, USUBJID='443', FATESTCD='INSBASAL', FATEST='BASAL INSULIN', FAOBJ='INSULIN', FACAT='BASAL', FAORRES=18.0, FAORRESU='U', FADTC=Timestamp('2021-07-19 21:45:00'), FADUR=Timedelta('0 days 00:17:00'), INSDVSRC=nan, INSSTYPE=nan, INSNMBOL=nan, INSEXBOL=nan, FAGRPID=3.0, day=datetime.date(2021, 7, 19), DXTRT='MULTIPLE DAILY INJECTIONS', TRTMNT='MDI')\n"
     ]
    },
    {
     "data": {
      "text/html": [
       "<div>\n",
       "<style scoped>\n",
       "    .dataframe tbody tr th:only-of-type {\n",
       "        vertical-align: middle;\n",
       "    }\n",
       "\n",
       "    .dataframe tbody tr th {\n",
       "        vertical-align: top;\n",
       "    }\n",
       "\n",
       "    .dataframe thead th {\n",
       "        text-align: right;\n",
       "    }\n",
       "</style>\n",
       "<table border=\"1\" class=\"dataframe\">\n",
       "  <thead>\n",
       "    <tr style=\"text-align: right;\">\n",
       "      <th></th>\n",
       "      <th>USUBJID</th>\n",
       "      <th>FATESTCD</th>\n",
       "      <th>FATEST</th>\n",
       "      <th>FAOBJ</th>\n",
       "      <th>FACAT</th>\n",
       "      <th>FAORRES</th>\n",
       "      <th>FAORRESU</th>\n",
       "      <th>FADTC</th>\n",
       "      <th>FADUR</th>\n",
       "      <th>INSDVSRC</th>\n",
       "      <th>INSSTYPE</th>\n",
       "      <th>INSNMBOL</th>\n",
       "      <th>INSEXBOL</th>\n",
       "      <th>FAGRPID</th>\n",
       "      <th>day</th>\n",
       "      <th>DXTRT</th>\n",
       "      <th>TRTMNT</th>\n",
       "    </tr>\n",
       "  </thead>\n",
       "  <tbody>\n",
       "    <tr>\n",
       "      <th>318405</th>\n",
       "      <td>443</td>\n",
       "      <td>INSBASAL</td>\n",
       "      <td>BASAL INSULIN</td>\n",
       "      <td>INSULIN</td>\n",
       "      <td>BASAL</td>\n",
       "      <td>18.0</td>\n",
       "      <td>U</td>\n",
       "      <td>2021-07-19 21:45:00</td>\n",
       "      <td>0 days 00:17:00</td>\n",
       "      <td>NaN</td>\n",
       "      <td>NaN</td>\n",
       "      <td>NaN</td>\n",
       "      <td>NaN</td>\n",
       "      <td>3.0</td>\n",
       "      <td>2021-07-19</td>\n",
       "      <td>MULTIPLE DAILY INJECTIONS</td>\n",
       "      <td>MDI</td>\n",
       "    </tr>\n",
       "    <tr>\n",
       "      <th>318406</th>\n",
       "      <td>443</td>\n",
       "      <td>INSBASAL</td>\n",
       "      <td>BASAL INSULIN</td>\n",
       "      <td>INSULIN</td>\n",
       "      <td>BASAL</td>\n",
       "      <td>10.0</td>\n",
       "      <td>U</td>\n",
       "      <td>2021-07-19 22:02:00</td>\n",
       "      <td>1 days 00:07:00</td>\n",
       "      <td>NaN</td>\n",
       "      <td>NaN</td>\n",
       "      <td>NaN</td>\n",
       "      <td>NaN</td>\n",
       "      <td>3.0</td>\n",
       "      <td>2021-07-19</td>\n",
       "      <td>MULTIPLE DAILY INJECTIONS</td>\n",
       "      <td>MDI</td>\n",
       "    </tr>\n",
       "  </tbody>\n",
       "</table>\n",
       "</div>"
      ],
      "text/plain": [
       "       USUBJID  FATESTCD         FATEST    FAOBJ  FACAT  FAORRES FAORRESU  \\\n",
       "318405     443  INSBASAL  BASAL INSULIN  INSULIN  BASAL     18.0        U   \n",
       "318406     443  INSBASAL  BASAL INSULIN  INSULIN  BASAL     10.0        U   \n",
       "\n",
       "                     FADTC           FADUR INSDVSRC INSSTYPE  INSNMBOL  \\\n",
       "318405 2021-07-19 21:45:00 0 days 00:17:00      NaN      NaN       NaN   \n",
       "318406 2021-07-19 22:02:00 1 days 00:07:00      NaN      NaN       NaN   \n",
       "\n",
       "        INSEXBOL  FAGRPID         day                      DXTRT TRTMNT  \n",
       "318405       NaN      3.0  2021-07-19  MULTIPLE DAILY INJECTIONS    MDI  \n",
       "318406       NaN      3.0  2021-07-19  MULTIPLE DAILY INJECTIONS    MDI  "
      ]
     },
     "metadata": {},
     "output_type": "display_data"
    },
    {
     "name": "stdout",
     "output_type": "stream",
     "text": [
      "Pandas(Index=200431, USUBJID='317', FATESTCD='INSBASAL', FATEST='BASAL INSULIN', FAOBJ='INSULIN', FACAT='BASAL', FAORRES=12.0, FAORRESU='U', FADTC=Timestamp('2022-03-23 20:24:29'), FADUR=Timedelta('0 days 00:05:31'), INSDVSRC=nan, INSSTYPE=nan, INSNMBOL=nan, INSEXBOL=nan, FAGRPID=3.0, day=datetime.date(2022, 3, 23), DXTRT='MULTIPLE DAILY INJECTIONS', TRTMNT='MDI')\n"
     ]
    },
    {
     "data": {
      "text/html": [
       "<div>\n",
       "<style scoped>\n",
       "    .dataframe tbody tr th:only-of-type {\n",
       "        vertical-align: middle;\n",
       "    }\n",
       "\n",
       "    .dataframe tbody tr th {\n",
       "        vertical-align: top;\n",
       "    }\n",
       "\n",
       "    .dataframe thead th {\n",
       "        text-align: right;\n",
       "    }\n",
       "</style>\n",
       "<table border=\"1\" class=\"dataframe\">\n",
       "  <thead>\n",
       "    <tr style=\"text-align: right;\">\n",
       "      <th></th>\n",
       "      <th>USUBJID</th>\n",
       "      <th>FATESTCD</th>\n",
       "      <th>FATEST</th>\n",
       "      <th>FAOBJ</th>\n",
       "      <th>FACAT</th>\n",
       "      <th>FAORRES</th>\n",
       "      <th>FAORRESU</th>\n",
       "      <th>FADTC</th>\n",
       "      <th>FADUR</th>\n",
       "      <th>INSDVSRC</th>\n",
       "      <th>INSSTYPE</th>\n",
       "      <th>INSNMBOL</th>\n",
       "      <th>INSEXBOL</th>\n",
       "      <th>FAGRPID</th>\n",
       "      <th>day</th>\n",
       "      <th>DXTRT</th>\n",
       "      <th>TRTMNT</th>\n",
       "    </tr>\n",
       "  </thead>\n",
       "  <tbody>\n",
       "    <tr>\n",
       "      <th>200431</th>\n",
       "      <td>317</td>\n",
       "      <td>INSBASAL</td>\n",
       "      <td>BASAL INSULIN</td>\n",
       "      <td>INSULIN</td>\n",
       "      <td>BASAL</td>\n",
       "      <td>12.0</td>\n",
       "      <td>U</td>\n",
       "      <td>2022-03-23 20:24:29</td>\n",
       "      <td>0 days 00:05:31</td>\n",
       "      <td>NaN</td>\n",
       "      <td>NaN</td>\n",
       "      <td>NaN</td>\n",
       "      <td>NaN</td>\n",
       "      <td>3.0</td>\n",
       "      <td>2022-03-23</td>\n",
       "      <td>MULTIPLE DAILY INJECTIONS</td>\n",
       "      <td>MDI</td>\n",
       "    </tr>\n",
       "    <tr>\n",
       "      <th>200432</th>\n",
       "      <td>317</td>\n",
       "      <td>INSBASAL</td>\n",
       "      <td>BASAL INSULIN</td>\n",
       "      <td>INSULIN</td>\n",
       "      <td>BASAL</td>\n",
       "      <td>11.0</td>\n",
       "      <td>U</td>\n",
       "      <td>2022-03-23 20:30:00</td>\n",
       "      <td>1 days 00:00:00</td>\n",
       "      <td>NaN</td>\n",
       "      <td>NaN</td>\n",
       "      <td>NaN</td>\n",
       "      <td>NaN</td>\n",
       "      <td>3.0</td>\n",
       "      <td>2022-03-23</td>\n",
       "      <td>MULTIPLE DAILY INJECTIONS</td>\n",
       "      <td>MDI</td>\n",
       "    </tr>\n",
       "  </tbody>\n",
       "</table>\n",
       "</div>"
      ],
      "text/plain": [
       "       USUBJID  FATESTCD         FATEST    FAOBJ  FACAT  FAORRES FAORRESU  \\\n",
       "200431     317  INSBASAL  BASAL INSULIN  INSULIN  BASAL     12.0        U   \n",
       "200432     317  INSBASAL  BASAL INSULIN  INSULIN  BASAL     11.0        U   \n",
       "\n",
       "                     FADTC           FADUR INSDVSRC INSSTYPE  INSNMBOL  \\\n",
       "200431 2022-03-23 20:24:29 0 days 00:05:31      NaN      NaN       NaN   \n",
       "200432 2022-03-23 20:30:00 1 days 00:00:00      NaN      NaN       NaN   \n",
       "\n",
       "        INSEXBOL  FAGRPID         day                      DXTRT TRTMNT  \n",
       "200431       NaN      3.0  2022-03-23  MULTIPLE DAILY INJECTIONS    MDI  \n",
       "200432       NaN      3.0  2022-03-23  MULTIPLE DAILY INJECTIONS    MDI  "
      ]
     },
     "metadata": {},
     "output_type": "display_data"
    },
    {
     "name": "stdout",
     "output_type": "stream",
     "text": [
      "Pandas(Index=22591, USUBJID='125', FATESTCD='INSBASAL', FATEST='BASAL INSULIN', FAOBJ='INSULIN', FACAT='BASAL', FAORRES=14.0, FAORRESU='U', FADTC=Timestamp('2022-06-22 20:42:08'), FADUR=Timedelta('0 days 00:46:52'), INSDVSRC=nan, INSSTYPE=nan, INSNMBOL=nan, INSEXBOL=nan, FAGRPID=3.0, day=datetime.date(2022, 6, 22), DXTRT='MULTIPLE DAILY INJECTIONS', TRTMNT='MDI')\n"
     ]
    },
    {
     "data": {
      "text/html": [
       "<div>\n",
       "<style scoped>\n",
       "    .dataframe tbody tr th:only-of-type {\n",
       "        vertical-align: middle;\n",
       "    }\n",
       "\n",
       "    .dataframe tbody tr th {\n",
       "        vertical-align: top;\n",
       "    }\n",
       "\n",
       "    .dataframe thead th {\n",
       "        text-align: right;\n",
       "    }\n",
       "</style>\n",
       "<table border=\"1\" class=\"dataframe\">\n",
       "  <thead>\n",
       "    <tr style=\"text-align: right;\">\n",
       "      <th></th>\n",
       "      <th>USUBJID</th>\n",
       "      <th>FATESTCD</th>\n",
       "      <th>FATEST</th>\n",
       "      <th>FAOBJ</th>\n",
       "      <th>FACAT</th>\n",
       "      <th>FAORRES</th>\n",
       "      <th>FAORRESU</th>\n",
       "      <th>FADTC</th>\n",
       "      <th>FADUR</th>\n",
       "      <th>INSDVSRC</th>\n",
       "      <th>INSSTYPE</th>\n",
       "      <th>INSNMBOL</th>\n",
       "      <th>INSEXBOL</th>\n",
       "      <th>FAGRPID</th>\n",
       "      <th>day</th>\n",
       "      <th>DXTRT</th>\n",
       "      <th>TRTMNT</th>\n",
       "    </tr>\n",
       "  </thead>\n",
       "  <tbody>\n",
       "    <tr>\n",
       "      <th>22591</th>\n",
       "      <td>125</td>\n",
       "      <td>INSBASAL</td>\n",
       "      <td>BASAL INSULIN</td>\n",
       "      <td>INSULIN</td>\n",
       "      <td>BASAL</td>\n",
       "      <td>14.0</td>\n",
       "      <td>U</td>\n",
       "      <td>2022-06-22 20:42:08</td>\n",
       "      <td>0 days 00:46:52</td>\n",
       "      <td>NaN</td>\n",
       "      <td>NaN</td>\n",
       "      <td>NaN</td>\n",
       "      <td>NaN</td>\n",
       "      <td>3.0</td>\n",
       "      <td>2022-06-22</td>\n",
       "      <td>MULTIPLE DAILY INJECTIONS</td>\n",
       "      <td>MDI</td>\n",
       "    </tr>\n",
       "    <tr>\n",
       "      <th>22592</th>\n",
       "      <td>125</td>\n",
       "      <td>INSBASAL</td>\n",
       "      <td>BASAL INSULIN</td>\n",
       "      <td>INSULIN</td>\n",
       "      <td>BASAL</td>\n",
       "      <td>14.0</td>\n",
       "      <td>U</td>\n",
       "      <td>2022-06-22 21:29:00</td>\n",
       "      <td>1 days 00:01:00</td>\n",
       "      <td>NaN</td>\n",
       "      <td>NaN</td>\n",
       "      <td>NaN</td>\n",
       "      <td>NaN</td>\n",
       "      <td>3.0</td>\n",
       "      <td>2022-06-22</td>\n",
       "      <td>MULTIPLE DAILY INJECTIONS</td>\n",
       "      <td>MDI</td>\n",
       "    </tr>\n",
       "  </tbody>\n",
       "</table>\n",
       "</div>"
      ],
      "text/plain": [
       "      USUBJID  FATESTCD         FATEST    FAOBJ  FACAT  FAORRES FAORRESU  \\\n",
       "22591     125  INSBASAL  BASAL INSULIN  INSULIN  BASAL     14.0        U   \n",
       "22592     125  INSBASAL  BASAL INSULIN  INSULIN  BASAL     14.0        U   \n",
       "\n",
       "                    FADTC           FADUR INSDVSRC INSSTYPE  INSNMBOL  \\\n",
       "22591 2022-06-22 20:42:08 0 days 00:46:52      NaN      NaN       NaN   \n",
       "22592 2022-06-22 21:29:00 1 days 00:01:00      NaN      NaN       NaN   \n",
       "\n",
       "       INSEXBOL  FAGRPID         day                      DXTRT TRTMNT  \n",
       "22591       NaN      3.0  2022-06-22  MULTIPLE DAILY INJECTIONS    MDI  \n",
       "22592       NaN      3.0  2022-06-22  MULTIPLE DAILY INJECTIONS    MDI  "
      ]
     },
     "metadata": {},
     "output_type": "display_data"
    }
   ],
   "source": [
    "#show examples for priming doses or duplicated injections\n",
    "\n",
    "#select a basal with short duration\n",
    "mdi_basal = mdi_basal.sort_values('FADTC')\n",
    "repeated_injections = mdi_basal.loc[mdi_basal.FADUR<timedelta(hours=1)]\n",
    "print(f'There are {len(repeated_injections)} repeated injections in the MDI dataset')\n",
    "\n",
    "\n",
    "for sample in repeated_injections.itertuples():\n",
    "    print(sample)\n",
    "    user = sample.USUBJID\n",
    "    index = sample.Index\n",
    "\n",
    "    #show the row and the next one for that patient\n",
    "    temp = mdi_basal.loc[mdi_basal.USUBJID==user]\n",
    "    i = temp.index.get_loc(index)\n",
    "    display(temp.iloc[i:i+2])"
   ]
  },
  {
   "cell_type": "markdown",
   "metadata": {},
   "source": [
    "**Observation**: \n",
    "- No MDI Flow rates\n",
    "- 3 repeated injections (probably split or recorded twice)"
   ]
  },
  {
   "cell_type": "markdown",
   "metadata": {},
   "source": [
    "#### MDI vs. Pump Doses"
   ]
  },
  {
   "cell_type": "code",
   "execution_count": 83,
   "metadata": {},
   "outputs": [
    {
     "data": {
      "text/plain": [
       "TRTMNT  FATEST       \n",
       "AID     BASAL INSULIN    25.201552\n",
       "        BOLUS INSULIN    35.068908\n",
       "CSII    BASAL INSULIN    20.835565\n",
       "        BOLUS INSULIN    30.330499\n",
       "MDI     BASAL INSULIN    24.947154\n",
       "        BOLUS INSULIN    27.818182\n",
       "dtype: float64"
      ]
     },
     "metadata": {},
     "output_type": "display_data"
    }
   ],
   "source": [
    "#calculate average total daily bolus and basal dose per group\n",
    "\n",
    "facm['day'] = facm.FADTC.dt.date\n",
    "\n",
    "#sum per FATEST type\n",
    "#remove BASAL FLOW RATES from the dataset assuming that they reflect the same as the sum of BASAL INSULIN deliveries for Pump users (they are Nan for MDI any way)\n",
    "temp = facm.loc[facm.FATEST!='BASAL FLOW RATE']\n",
    "r = temp.groupby(['TRTMNT','FATEST','USUBJID','day'])[['FAORRES']].agg('sum')\n",
    "#bolus, basal per day\n",
    "#display(r.sample(3))\n",
    "\n",
    "#sum per day\n",
    "daily_sum = r.sum(axis=1)\n",
    "#display(daily_sum.sample(3))\n",
    "\n",
    "#mean basal/bolus\n",
    "group_mean = daily_sum.groupby(level=[0, 1]).mean()\n",
    "display(group_mean)"
   ]
  },
  {
   "cell_type": "code",
   "execution_count": 84,
   "metadata": {},
   "outputs": [
    {
     "data": {
      "image/png": "[encoded data removed]",
      "text/plain": [
       "<Figure size 800x200 with 1 Axes>"
      ]
     },
     "metadata": {},
     "output_type": "display_data"
    },
    {
     "data": {
      "image/png": "[encoded data removed]",
      "text/plain": [
       "<Figure size 800x200 with 1 Axes>"
      ]
     },
     "metadata": {},
     "output_type": "display_data"
    }
   ],
   "source": [
    "#let's compare the dose sizes\n",
    "daily_sum_patient = daily_sum.groupby(level=[0,1,2]).mean()\n",
    "plt.figure(figsize=(8,2)); ax=plt.gca()\n",
    "cdf.plot_cdf(facm.loc[(~(facm.TRTMNT=='MDI'))&(facm.FATEST=='BOLUS INSULIN')].FAORRES,ax=ax,label='Pump',color='red')\n",
    "cdf.plot_cdf(facm.loc[((facm.TRTMNT=='MDI'))&(facm.FATEST=='BOLUS INSULIN')].FAORRES,ax=ax,label='MDI',color='blue')\n",
    "\n",
    "file = os.path.join(os.getcwd(),'..','..','docs','data_sets','assets','t1dexi_mdi_vs_pump_bolus_doses.png')\n",
    "plt.savefig(file)\n",
    "\n",
    "\n",
    "ax.legend(); ax.set_title('Boluses MDI vs. Pump')\n",
    "plt.figure(figsize=(8,2)); ax=plt.gca()\n",
    "cdf.plot_cdf(facm.loc[(~(facm.TRTMNT=='MDI'))&(facm.FATEST=='BASAL INSULIN')].FAORRES,ax=ax,label='Pump',color='red')\n",
    "cdf.plot_cdf(facm.loc[(facm.TRTMNT=='MDI')&(facm.FATEST=='BASAL INSULIN')].FAORRES,ax=ax,label='MDI',color='blue')\n",
    "ax.legend(); ax.set_title('Basals MDI vs. Pump');ax.set_xlim(-1,50)\n",
    "\n",
    "file = os.path.join(os.getcwd(),'..','..','docs','data_sets','assets','t1dexi_mdi_vs_pump_basal_doses.png')\n",
    "plt.savefig(file)\n"
   ]
  },
  {
   "cell_type": "markdown",
   "metadata": {},
   "source": [
    "### ... summary\n",
    "- All BASAL in MDI are of much larger value (indicating injections)"
   ]
  },
  {
   "cell_type": "markdown",
   "metadata": {},
   "source": [
    "### Bolus Columns\n",
    "\n",
    "We know that insulin boluses can end up in FAORRES but also in INSNMBOL (normal boluses) and INSEXBOL (extended boluses).\n",
    "\n",
    "The expectation is that FAORRES carries the sum of the INMBOL and INSEXBOL.  \n",
    "Can we rely on this or do some boluses not end up in here?"
   ]
  },
  {
   "cell_type": "code",
   "execution_count": 105,
   "metadata": {},
   "outputs": [
    {
     "name": "stdout",
     "output_type": "stream",
     "text": [
      "Number of values with values in more than one of the columns INSEXBOL, INSNMBOL, FAORRES\n",
      "\n",
      "PUMP:\n"
     ]
    },
    {
     "data": {
      "text/plain": [
       "1     7047\n",
       "2    18858\n",
       "3      476\n",
       "Name: count, dtype: int64"
      ]
     },
     "metadata": {},
     "output_type": "display_data"
    },
    {
     "name": "stdout",
     "output_type": "stream",
     "text": [
      "\n",
      "MDI:\n"
     ]
    },
    {
     "data": {
      "text/plain": [
       "1    1283\n",
       "2      94\n",
       "Name: count, dtype: int64"
      ]
     },
     "metadata": {},
     "output_type": "display_data"
    }
   ],
   "source": [
    "#How many of the 3 columns INSEXBOL INSNMBOL FAORRES carry values?\n",
    "print('Number of values with values in more than one of the columns INSEXBOL, INSNMBOL, FAORRES')\n",
    "\n",
    "temp = facm.loc[(facm.FATEST=='BOLUS INSULIN') & (facm.TRTMNT!='MDI')]\n",
    "print('\\nPUMP:')\n",
    "display(temp[['INSEXBOL','INSNMBOL','FAORRES']].notna().sum(axis=1).value_counts().sort_index())\n",
    "\n",
    "print('\\nMDI:')\n",
    "temp = facm.loc[(facm.FATEST=='BOLUS INSULIN') & (facm.TRTMNT=='MDI')]\n",
    "display(temp[['INSEXBOL','INSNMBOL','FAORRES']].notna().sum(axis=1).value_counts().sort_index())"
   ]
  },
  {
   "cell_type": "code",
   "execution_count": 111,
   "metadata": {},
   "outputs": [
    {
     "name": "stdout",
     "output_type": "stream",
     "text": [
      "30.01% of rows have 1 columns with values\n"
     ]
    },
    {
     "data": {
      "text/plain": [
       "INSEXBOL       0\n",
       "INSNMBOL       0\n",
       "FAORRES     8330\n",
       "dtype: int64"
      ]
     },
     "metadata": {},
     "output_type": "display_data"
    },
    {
     "name": "stdout",
     "output_type": "stream",
     "text": [
      "68.28% of rows have 2 columns with values\n"
     ]
    },
    {
     "data": {
      "text/plain": [
       "INSEXBOL       61\n",
       "INSNMBOL    18891\n",
       "FAORRES     18952\n",
       "dtype: int64"
      ]
     },
     "metadata": {},
     "output_type": "display_data"
    },
    {
     "name": "stdout",
     "output_type": "stream",
     "text": [
      "1.71% of rows have 3 columns with values\n"
     ]
    },
    {
     "data": {
      "text/plain": [
       "INSEXBOL    476\n",
       "INSNMBOL    476\n",
       "FAORRES     476\n",
       "dtype: int64"
      ]
     },
     "metadata": {},
     "output_type": "display_data"
    }
   ],
   "source": [
    "#check for Rows with only 1 value\n",
    "bolus_rows = facm.loc[(facm.FATEST=='BOLUS INSULIN') ]\n",
    "for num_vals in [1,2,3]:\n",
    "    temp = bolus_rows.loc[bolus_rows[['INSEXBOL','INSNMBOL','FAORRES']].notna().sum(axis=1) == num_vals]\n",
    "    print(f'{100*len(temp)/len(bolus_rows):.2f}% of rows have {num_vals} columns with values')\n",
    "    display(temp[['INSEXBOL','INSNMBOL','FAORRES']].count())"
   ]
  },
  {
   "cell_type": "code",
   "execution_count": 112,
   "metadata": {},
   "outputs": [
    {
     "name": "stdout",
     "output_type": "stream",
     "text": [
      "\n",
      "\n",
      "Rows with 1 columns carrying values: ..\n"
     ]
    },
    {
     "data": {
      "text/plain": [
       "FATEST         INSDVSRC  INSSTYPE\n",
       "BOLUS INSULIN  Pump      normal      5272\n",
       "               NaN       NaN         3058\n",
       "Name: count, dtype: int64"
      ]
     },
     "metadata": {},
     "output_type": "display_data"
    },
    {
     "name": "stdout",
     "output_type": "stream",
     "text": [
      "\n",
      "\n",
      "Rows with 2 columns carrying values: ..\n"
     ]
    },
    {
     "data": {
      "text/plain": [
       "FATEST         INSDVSRC  INSSTYPE \n",
       "BOLUS INSULIN  Pump      automated     5826\n",
       "                         normal       13065\n",
       "                         square          61\n",
       "Name: count, dtype: int64"
      ]
     },
     "metadata": {},
     "output_type": "display_data"
    },
    {
     "name": "stdout",
     "output_type": "stream",
     "text": [
      "\n",
      "\n",
      "Rows with 3 columns carrying values: ..\n"
     ]
    },
    {
     "data": {
      "text/plain": [
       "FATEST         INSDVSRC  INSSTYPE   \n",
       "BOLUS INSULIN  Pump      dual/square    476\n",
       "Name: count, dtype: int64"
      ]
     },
     "metadata": {},
     "output_type": "display_data"
    }
   ],
   "source": [
    "#check breakdown of source and insulin types\n",
    "for num_vals in [1,2,3]:\n",
    "    print(f'\\n\\nRows with {num_vals} columns carrying values: ..')\n",
    "    temp = bolus_rows.loc[bolus_rows[['INSEXBOL','INSNMBOL','FAORRES']].notna().sum(axis=1) == num_vals]\n",
    "    #display(temp.FATEST.value_counts())\n",
    "    display(temp.value_counts(['FATEST','INSDVSRC','INSSTYPE'],dropna=False,sort=False))"
   ]
  },
  {
   "cell_type": "code",
   "execution_count": null,
   "metadata": {},
   "outputs": [
    {
     "name": "stdout",
     "output_type": "stream",
     "text": [
      "count    19428.000000\n",
      "mean         0.000001\n",
      "std          0.000159\n",
      "min         -0.000490\n",
      "max          0.000500\n",
      "sum          0.020210\n",
      "dtype: float64\n"
     ]
    }
   ],
   "source": [
    "#Let's check if the sums match if there is at least one other value in the other columns\n",
    "temp = bolus_rows.loc[bolus_rows[['INSEXBOL','INSNMBOL','FAORRES']].notna().sum(axis=1) > 1].copy()\n",
    "temp = temp[['INSEXBOL','INSNMBOL','FAORRES']].fillna(0) # this makes sure the sum does not result in NaN if only ISNMBOL or INSEXBOL has a value\n",
    "r = temp.FAORRES - (temp.INSEXBOL+temp.INSNMBOL)\n",
    "print(r.agg(['count','mean','std','min','max','sum']))"
   ]
  },
  {
   "cell_type": "markdown",
   "metadata": {},
   "source": [
    "Yes, they match exactly. \n",
    "Last thought: could the rows that have only values in FAORRES be duplicated reports?"
   ]
  },
  {
   "cell_type": "code",
   "execution_count": 109,
   "metadata": {},
   "outputs": [
    {
     "name": "stdout",
     "output_type": "stream",
     "text": [
      "0 duplicated boluses\n"
     ]
    }
   ],
   "source": [
    "#check if there are any boluses reported multiple times. Since we know that FAORRESS always contians the sum, we need to check for duplicates on that column\n",
    "print(f\"{bolus_rows.duplicated(subset=['USUBJID','FADTC','FAORRES']).sum()} duplicated boluses\")"
   ]
  },
  {
   "cell_type": "markdown",
   "metadata": {},
   "source": [
    "### ... summary\n",
    "\n",
    "Same as in T1DEXI:\n",
    "- faorres always contains a value (total dose)\n",
    "- often these are split into the other two columns INSEXBOL or INSMBOL however not always!\n",
    "-  Many boluses don't end up in the INMBOL and INSEXBOL columns\n",
    "  - then only FAORRES contains a value\n",
    "  - the duration for these boluses is always Nan\n",
    "  - close to 100% are normal boluses (based on instype) \n",
    "    - (only 2 square part and 46 combination whatever those are)\n",
    "- There are no duplicated boluses"
   ]
  },
  {
   "cell_type": "code",
   "execution_count": 113,
   "metadata": {},
   "outputs": [],
   "source": [
    "#assign FAORRES values to INSNMBOL if there are no values in INSMBOL and INSEXBOL\n",
    "facm.loc[(facm.FATEST=='BOLUS INSULIN') & facm[['INSEXBOL','INSNMBOL']].isna().all(axis=1),'INSMNBL'] = facm.FAORRES"
   ]
  },
  {
   "cell_type": "markdown",
   "metadata": {},
   "source": [
    "## Open Questions to answer\n",
    "Baed on the script analysis, we found more inconsistencies that we need to check before moving forward.\n",
    "\n",
    "- Basal Overlaps: How should we deal with them?\n",
    "- Are there differences between pumps?\n",
    "- How should suspends be treated?"
   ]
  },
  {
   "cell_type": "markdown",
   "metadata": {},
   "source": [
    "### Basal Overlaps\n",
    "We see that basal overlaps are removed. \n",
    "  - How do they remove basal overlaps? \n",
    "  - Why do these occur at all?\n",
    "  - How often do they occur?"
   ]
  },
  {
   "cell_type": "code",
   "execution_count": 114,
   "metadata": {},
   "outputs": [
    {
     "name": "stdout",
     "output_type": "stream",
     "text": [
      "684 overlapping basal flow rates\n",
      "0.31% the next flow rate starts before the previous ends\n"
     ]
    },
    {
     "data": {
      "text/plain": [
       "DXTRT\n",
       "TANDEM T:SLIM X2 WITH CONTROL IQ             606\n",
       "INSULET OMNIPOD DASH                          74\n",
       "TANDEM T:SLIM X2 WITH BASAL IQ                 2\n",
       "INSULET OMNIPOD INSULIN MANAGEMENT SYSTEM      2\n",
       "Name: count, dtype: int64"
      ]
     },
     "execution_count": 114,
     "metadata": {},
     "output_type": "execute_result"
    }
   ],
   "source": [
    "#identify overlapping basal flow rates (here, we check only if one of the two next rows overlap)\n",
    "\n",
    "def overlaps(df):\n",
    "    assert df.FADTC.is_monotonic_increasing\n",
    "    end = df.FADTC + df.FADUR  \n",
    "    next = df.FADTC.shift(-1)\n",
    "    overlap = (next < end)\n",
    "    return overlap\n",
    "\n",
    "flow_rows = facm.loc[facm.FATEST=='BASAL FLOW RATE'].copy()\n",
    "flow_rows['overlaps'] = flow_rows.groupby('USUBJID').apply(overlaps, include_groups=False).droplevel(0)\n",
    "#flow_rows['END'] = flow_rows.FADTC + flow_rows.FADUR\n",
    "\n",
    "print(f'{flow_rows.overlaps.sum()} overlapping basal flow rates')\n",
    "#how often does it happen?\n",
    "print(f'{flow_rows.overlaps.mean()*100:.2f}% the next flow rate starts before the previous ends')\n",
    "#which pumps are affected?\n",
    "flow_rows.loc[flow_rows.overlaps].DXTRT.value_counts()"
   ]
  },
  {
   "cell_type": "code",
   "execution_count": 115,
   "metadata": {},
   "outputs": [
    {
     "data": {
      "text/html": [
       "<div>\n",
       "<style scoped>\n",
       "    .dataframe tbody tr th:only-of-type {\n",
       "        vertical-align: middle;\n",
       "    }\n",
       "\n",
       "    .dataframe tbody tr th {\n",
       "        vertical-align: top;\n",
       "    }\n",
       "\n",
       "    .dataframe thead th {\n",
       "        text-align: right;\n",
       "    }\n",
       "</style>\n",
       "<table border=\"1\" class=\"dataframe\">\n",
       "  <thead>\n",
       "    <tr style=\"text-align: right;\">\n",
       "      <th></th>\n",
       "      <th>USUBJID</th>\n",
       "      <th>FATEST</th>\n",
       "      <th>FAORRES</th>\n",
       "      <th>FADTC</th>\n",
       "      <th>FADUR</th>\n",
       "    </tr>\n",
       "  </thead>\n",
       "  <tbody>\n",
       "    <tr>\n",
       "      <th>103082</th>\n",
       "      <td>226</td>\n",
       "      <td>BASAL FLOW RATE</td>\n",
       "      <td>2.4</td>\n",
       "      <td>2021-02-11 09:17:33</td>\n",
       "      <td>0 days 00:05:02</td>\n",
       "    </tr>\n",
       "    <tr>\n",
       "      <th>103083</th>\n",
       "      <td>226</td>\n",
       "      <td>BASAL FLOW RATE</td>\n",
       "      <td>2.4</td>\n",
       "      <td>2021-02-11 09:20:53</td>\n",
       "      <td>0 days 00:05:01</td>\n",
       "    </tr>\n",
       "    <tr>\n",
       "      <th>103084</th>\n",
       "      <td>226</td>\n",
       "      <td>BASAL FLOW RATE</td>\n",
       "      <td>2.4</td>\n",
       "      <td>2021-02-11 09:22:35</td>\n",
       "      <td>0 days 00:05:01</td>\n",
       "    </tr>\n",
       "  </tbody>\n",
       "</table>\n",
       "</div>"
      ],
      "text/plain": [
       "       USUBJID           FATEST  FAORRES               FADTC           FADUR\n",
       "103082     226  BASAL FLOW RATE      2.4 2021-02-11 09:17:33 0 days 00:05:02\n",
       "103083     226  BASAL FLOW RATE      2.4 2021-02-11 09:20:53 0 days 00:05:01\n",
       "103084     226  BASAL FLOW RATE      2.4 2021-02-11 09:22:35 0 days 00:05:01"
      ]
     },
     "metadata": {},
     "output_type": "display_data"
    }
   ],
   "source": [
    "#show examples\n",
    "def display_neighboring_rows_of_row(df, row,iprev,inext):\n",
    "    iloc = df.index.get_loc(row.Index)\n",
    "    display(df.iloc[iloc-iprev:iloc+inext+1])\n",
    "\n",
    "sample = flow_rows.loc[flow_rows.overlaps].sample(1)\n",
    "\n",
    "for row in sample.itertuples():\n",
    "    display_neighboring_rows_of_row(flow_rows[['USUBJID','FATEST','FAORRES','FADTC','FADUR']], row, 0,2)"
   ]
  },
  {
   "cell_type": "markdown",
   "metadata": {},
   "source": [
    "### ... summary\n",
    "As in T1DEXi, basal overlaps happen extremely rarely. "
   ]
  },
  {
   "cell_type": "markdown",
   "metadata": {},
   "source": [
    "### Insulin types"
   ]
  },
  {
   "cell_type": "code",
   "execution_count": null,
   "metadata": {},
   "outputs": [
    {
     "name": "stdout",
     "output_type": "stream",
     "text": [
      "Percentage of suspend basal insulin by device\n"
     ]
    },
    {
     "data": {
      "image/png": "[encoded data removed]",
      "text/plain": [
       "<Figure size 800x200 with 1 Axes>"
      ]
     },
     "metadata": {},
     "output_type": "display_data"
    }
   ],
   "source": [
    "# insulin type per device\n",
    "#pump_rows = facm.loc[~(facm.TRTMNT=='MDI')].copy()\n",
    "r = facm.value_counts(['DXTRT','FATEST'],sort=False)\n",
    "print(\"Percentage of suspend basal insulin by device\")\n",
    "r = r.unstack(level=1)\n",
    "r = 100*r.div(r.sum(axis=1), axis=0)\n",
    "\n",
    "#sort by number of patients per platform\n",
    "patients_per_platform = facm.groupby('DXTRT').USUBJID.nunique().sort_values()\n",
    "r = r.loc[patients_per_platform.index]\n",
    "\n",
    "plt.figure(figsize=(8,2)); ax=plt.gca()\n",
    "r.plot(kind='bar', stacked=True, ax=ax)\n",
    "plt.title('Percentage of Insulin Types by Device')\n",
    "plt.ylabel('Percentage')\n",
    "plt.xlabel('Device')\n",
    "plt.legend(title='Insulin Type', loc='upper left', bbox_to_anchor=(1,1))\n",
    "plt.xticks(fontsize='x-small')\n",
    "\n",
    "# Make the font bold for the last five x-tick labels\n",
    "xticks = ax.get_xticklabels()\n",
    "for label in xticks[-5:]:\n",
    "    label.set_fontweight('bold')\n",
    "\n",
    "#save file \n",
    "file = os.path.join(os.getcwd(),'..','..','docs','data_sets','assets','t1dexi_insulin_types_by_device.png')\n",
    "plt.savefig(file)\n"
   ]
  },
  {
   "cell_type": "markdown",
   "metadata": {},
   "source": [
    "#### TDDs"
   ]
  },
  {
   "cell_type": "code",
   "execution_count": 140,
   "metadata": {},
   "outputs": [
    {
     "name": "stderr",
     "output_type": "stream",
     "text": [
      "/var/folders/m4/5d02b2xs0l52lbxzbk0t3vym0000gp/T/ipykernel_15578/1027715866.py:6: DeprecationWarning: DataFrameGroupBy.apply operated on the grouping columns. This behavior is deprecated, and in a future version of pandas the grouping columns will be excluded from the operation. Either pass `include_groups=False` to exclude the groupings or explicitly select the grouping columns after groupby to silence this warning.\n",
      "  tdds = facm.groupby(['DXTRT','USUBJID','day']).apply(tdd)\n"
     ]
    },
    {
     "data": {
      "image/png": "[encoded data removed]",
      "text/plain": [
       "<Figure size 800x200 with 1 Axes>"
      ]
     },
     "metadata": {},
     "output_type": "display_data"
    }
   ],
   "source": [
    "#TDDs\n",
    "def tdd(df):\n",
    "    bolus_tdd = df.loc[df.FATEST=='BOLUS INSULIN'].FAORRES.sum()\n",
    "    basal_tdd = df.loc[df.FATEST=='BASAL INSULIN'].FAORRES.sum()\n",
    "    return pd.Series({'Bolus TDD':bolus_tdd,'Basal TDD':basal_tdd})\n",
    "tdds = facm.groupby(['DXTRT','USUBJID','day']).apply(tdd)\n",
    "mean_tdds_by_pump = tdds.sum(axis=1).groupby('DXTRT').agg(['mean'])\n",
    "\n",
    "# Sort by the order of patients_per_platform\n",
    "mean_tdds_by_pump = mean_tdds_by_pump.loc[patients_per_platform.index]\n",
    "#display(mean_tdds_by_pump)\n",
    "\n",
    "#draw as bar char\n",
    "plt.figure(figsize=(8,2)); ax=plt.gca()\n",
    "mean_tdds_by_pump.plot(kind='bar',ax=ax)\n",
    "# draw std\n",
    "plt.title('Mean Total Daily Dose by Device')\n",
    "plt.ylabel('Mean TDD')\n",
    "plt.xlabel('Device')\n",
    "\n",
    "\n",
    "# Make the font bold for the last five x-tick labels\n",
    "xticks = ax.get_xticklabels()\n",
    "for label in xticks[-5:]:\n",
    "    label.set_fontweight('bold')\n",
    "plt.show()"
   ]
  },
  {
   "cell_type": "markdown",
   "metadata": {},
   "source": [
    "#### Inocrrect Pump Labels?\n",
    "\n",
    "The inconsistency observed above could also indicate incorret labeling of the pumps.\n",
    "Let's look at the distributions."
   ]
  },
  {
   "cell_type": "code",
   "execution_count": 205,
   "metadata": {},
   "outputs": [
    {
     "data": {
      "image/png": "[encoded data removed]",
      "text/plain": [
       "<Figure size 1200x600 with 1 Axes>"
      ]
     },
     "metadata": {},
     "output_type": "display_data"
    }
   ],
   "source": [
    "#get average daily event counts per device\n",
    "num_events = facm.groupby(['TRTMNT', 'DXTRT', 'USUBJID','day']).size()\n",
    "num_events = num_events.groupby(level=[0,1,2]).median()\n",
    "plt.figure(figsize=(12, 6))\n",
    "for i,dxtrt in enumerate(num_events.index.levels[1]):\n",
    "    subset = num_events.loc[:,dxtrt]\n",
    "    plt.scatter([dxtrt] * len(subset), subset, label=f'{i}:{dxtrt}',alpha=0.5)\n",
    "\n",
    "plt.xlabel('DXTRT')\n",
    "plt.ylabel('Number of Events')\n",
    "plt.title('Patients average number of daily events by DXTRT')\n",
    "xticks = np.arange(len(num_events.index.levels[0]))\n",
    "plt.xticks(xticks, xticks)\n",
    "plt.legend(title='DXTRT', bbox_to_anchor=(1.05, 1), loc='upper left')\n",
    "plt.yscale('log')\n",
    "plt.ylim(1,1000)\n",
    "\n",
    "#save figure\n",
    "file = os.path.join(os.getcwd(),'..','..','docs','data_sets','assets','t1dexip_daily_events_by_device.png')\n",
    "plt.savefig(file, bbox_inches='tight')"
   ]
  },
  {
   "cell_type": "markdown",
   "metadata": {},
   "source": [
    "In contrast to T1DEXi, we see many more pumps that show surprisingly little number of events for AID pumps."
   ]
  },
  {
   "cell_type": "markdown",
   "metadata": {},
   "source": [
    "Lets's compare the three AID pumps:"
   ]
  },
  {
   "cell_type": "code",
   "execution_count": 219,
   "metadata": {},
   "outputs": [
    {
     "data": {
      "text/plain": [
       "TRTMNT  DXTRT                                    \n",
       "AID     INSULET OMNIPOD 5                             12\n",
       "        MEDTRONIC 670G IN AUTO MODE                    1\n",
       "        MEDTRONIC 770G IN AUTO MODE                    5\n",
       "        TANDEM T:SLIM X2 WITH BASAL IQ                 1\n",
       "        TANDEM T:SLIM X2 WITH CONTROL IQ             131\n",
       "CSII    INSULET OMNIPOD DASH                          42\n",
       "        INSULET OMNIPOD INSULIN MANAGEMENT SYSTEM     27\n",
       "        MEDTRONIC 770G IN MANUAL MODE                  1\n",
       "        TANDEM T:SLIM X2                               1\n",
       "        TANDEM T:SLIM X2 WITH BASAL IQ                 1\n",
       "MDI     MULTIPLE DAILY INJECTIONS                     37\n",
       "Name: USUBJID, dtype: int64"
      ]
     },
     "execution_count": 219,
     "metadata": {},
     "output_type": "execute_result"
    }
   ],
   "source": [
    "facm.groupby(['TRTMNT','DXTRT']).USUBJID.nunique()"
   ]
  },
  {
   "cell_type": "code",
   "execution_count": 228,
   "metadata": {},
   "outputs": [
    {
     "name": "stderr",
     "output_type": "stream",
     "text": [
      "/var/folders/m4/5d02b2xs0l52lbxzbk0t3vym0000gp/T/ipykernel_15578/4114026827.py:9: UserWarning: No artists with labels found to put in legend.  Note that artists whose label start with an underscore are ignored when legend() is called with no argument.\n",
      "  ax.set_title('Bolus Amounts'); ax.legend();ax.set_xlim(-1,10)\n",
      "/var/folders/m4/5d02b2xs0l52lbxzbk0t3vym0000gp/T/ipykernel_15578/4114026827.py:15: UserWarning: No artists with labels found to put in legend.  Note that artists whose label start with an underscore are ignored when legend() is called with no argument.\n",
      "  plt.legend()\n"
     ]
    },
    {
     "data": {
      "text/plain": [
       "<matplotlib.legend.Legend at 0x369d2b790>"
      ]
     },
     "execution_count": 228,
     "metadata": {},
     "output_type": "execute_result"
    },
    {
     "data": {
      "image/png": "[encoded data removed]",
      "text/plain": [
       "<Figure size 800x400 with 2 Axes>"
      ]
     },
     "metadata": {},
     "output_type": "display_data"
    }
   ],
   "source": [
    "#CDFS for the top 3 AID pumps\n",
    "\n",
    "pumps= ['INSULET OMNIPOD 5','TANDEM T:SLIM X2 WITH CONTROL IQ','MEDTRONIC 770G IN AUTO MODE']\n",
    "\n",
    "#boluses\n",
    "f,AX= plt.subplots(2,1,figsize=(8,4));\n",
    "\n",
    "ax=AX[0]\n",
    "for i,pump in enumerate(pumps):\n",
    "    color = plt.cm.tab10(i)\n",
    "    temp = facm.loc[facm.DXTRT==pump]\n",
    "    cdf.plot_cdf(temp.loc[temp.FATEST=='BOLUS INSULIN'].FAORRES,label=pump, color=color,ax=ax)\n",
    "plt.legend()\n",
    "ax.set_title('Bolus Amounts'); ax.legend();ax.set_xlim(-1,10)\n",
    "\n",
    "#basals\n",
    "ax=AX[1]\n",
    "for i,pump in enumerate(['INSULET OMNIPOD 5','TANDEM T:SLIM X2 WITH CONTROL IQ','MEDTRONIC 770G IN AUTO MODE']):\n",
    "    color = plt.cm.tab10(i)\n",
    "    temp = facm.loc[facm.DXTRT==pump]\n",
    "    cdf.plot_cdf(temp.loc[temp.FATEST=='BASAL FLOW RATE'].FAORRES,ax=ax,label=pump, color=color)\n",
    "ax.set_title('Basal Amounts'); ax.legend();ax.set_xlim(-1,10)\n",
    "plt.legend()\n",
    "\n",
    "# save figure\n",
    "#file = os.path.join(os.getcwd(),'..','..','docs','data_sets','assets','t1dexi_p_bolus_amounts_AID_pumps.png')\n",
    "#plt.savefig(file)\n"
   ]
  },
  {
   "cell_type": "markdown",
   "metadata": {},
   "source": [
    "It looks like only the Tandem T:SLIM X2 with control IQ was really running in AID mode"
   ]
  },
  {
   "cell_type": "markdown",
   "metadata": {},
   "source": [
    "### Suspends?\n",
    "Now, we want to check how to deal with suspend events.\n",
    "\n",
    "We will look at how the suspend events look in context by plotting the surrounding data."
   ]
  },
  {
   "cell_type": "code",
   "execution_count": 236,
   "metadata": {},
   "outputs": [
    {
     "name": "stdout",
     "output_type": "stream",
     "text": [
      "Percentage of basal suspends\n"
     ]
    },
    {
     "name": "stderr",
     "output_type": "stream",
     "text": [
      "/var/folders/m4/5d02b2xs0l52lbxzbk0t3vym0000gp/T/ipykernel_15578/2720880989.py:3: DeprecationWarning: DataFrameGroupBy.apply operated on the grouping columns. This behavior is deprecated, and in a future version of pandas the grouping columns will be excluded from the operation. Either pass `include_groups=False` to exclude the groupings or explicitly select the grouping columns after groupby to silence this warning.\n",
      "  r = facm.groupby('DXTRT').apply(lambda x: 100*x.INSSTYPE.str.contains('suspend', na=False).sum()/(x.FACAT=='BASAL').sum())#.sort_values('INSSTYPE',ascending=False)\n"
     ]
    },
    {
     "data": {
      "image/png": "[encoded data removed]",
      "text/plain": [
       "<Figure size 800x200 with 1 Axes>"
      ]
     },
     "metadata": {},
     "output_type": "display_data"
    }
   ],
   "source": [
    "#suspends\n",
    "#pump_rows = facm.loc[facm.FACAT=='BASAL'].copy()\n",
    "r = facm.groupby('DXTRT').apply(lambda x: 100*x.INSSTYPE.str.contains('suspend', na=False).sum()/(x.FACAT=='BASAL').sum())#.sort_values('INSSTYPE',ascending=False)\n",
    "\n",
    "print(\"Percentage of basal suspends\")\n",
    "\n",
    "#sort by number of patients per platform\n",
    "r  = r.loc[patients_per_platform.index]\n",
    "\n",
    "plt.figure(figsize=(8,2)); ax=plt.gca()\n",
    "r.plot(kind='bar', legend=False,ax=ax)\n",
    "plt.ylabel('Percentage')\n",
    "plt.title('Percentage of basal suspends')\n",
    "\n",
    "\n",
    "# Make the font bold for the last five x-tick labels\n",
    "xticks = ax.get_xticklabels()\n",
    "for label in xticks[-5:]:\n",
    "    label.set_fontweight('bold')\n",
    "\n",
    "#save figure\n",
    "file = os.path.join(os.getcwd(),'..','..','docs','data_sets','assets','t1dexi_basal_suspends_by_device.png')\n",
    "plt.savefig(file, bbox_inches='tight')"
   ]
  },
  {
   "cell_type": "code",
   "execution_count": 240,
   "metadata": {},
   "outputs": [
    {
     "name": "stdout",
     "output_type": "stream",
     "text": [
      "FATEST types for suspend rows\n"
     ]
    },
    {
     "data": {
      "text/plain": [
       "FATEST         INSSTYPE\n",
       "BASAL INSULIN  suspend     1392\n",
       "Name: count, dtype: int64"
      ]
     },
     "metadata": {},
     "output_type": "display_data"
    },
    {
     "name": "stdout",
     "output_type": "stream",
     "text": [
      "Values for suspends\n"
     ]
    },
    {
     "data": {
      "text/plain": [
       "FATEST         FAORRES\n",
       "BASAL INSULIN  0.0        1392\n",
       "Name: count, dtype: int64"
      ]
     },
     "execution_count": 240,
     "metadata": {},
     "output_type": "execute_result"
    }
   ],
   "source": [
    "#do we have suspends in deliveries and flow rates?\n",
    "print('FATEST types for suspend rows')\n",
    "suspend_rows = facm.loc[facm.INSSTYPE.str.contains('suspend',na=False)]\n",
    "display(suspend_rows.value_counts(['FATEST','INSSTYPE'],sort=False))\n",
    "\n",
    "#what are the values for suspends?\n",
    "print('Values for suspends')\n",
    "suspend_rows.value_counts(subset=['FATEST','FAORRES'],dropna=False)"
   ]
  },
  {
   "cell_type": "code",
   "execution_count": 245,
   "metadata": {},
   "outputs": [
    {
     "data": {
      "text/html": [
       "<div>\n",
       "<style scoped>\n",
       "    .dataframe tbody tr th:only-of-type {\n",
       "        vertical-align: middle;\n",
       "    }\n",
       "\n",
       "    .dataframe tbody tr th {\n",
       "        vertical-align: top;\n",
       "    }\n",
       "\n",
       "    .dataframe thead th {\n",
       "        text-align: right;\n",
       "    }\n",
       "</style>\n",
       "<table border=\"1\" class=\"dataframe\">\n",
       "  <thead>\n",
       "    <tr style=\"text-align: right;\">\n",
       "      <th></th>\n",
       "      <th>FATEST</th>\n",
       "      <th>INSSTYPE</th>\n",
       "      <th>FADTC</th>\n",
       "      <th>FADUR</th>\n",
       "      <th>FAORRES</th>\n",
       "    </tr>\n",
       "  </thead>\n",
       "  <tbody>\n",
       "    <tr>\n",
       "      <th>221739</th>\n",
       "      <td>BASAL FLOW RATE</td>\n",
       "      <td>NaN</td>\n",
       "      <td>2020-11-27 07:56:42</td>\n",
       "      <td>0 days 00:04:59</td>\n",
       "      <td>0.482</td>\n",
       "    </tr>\n",
       "    <tr>\n",
       "      <th>221740</th>\n",
       "      <td>BASAL FLOW RATE</td>\n",
       "      <td>NaN</td>\n",
       "      <td>2020-11-27 08:01:41</td>\n",
       "      <td>0 days 00:04:20</td>\n",
       "      <td>0.450</td>\n",
       "    </tr>\n",
       "    <tr>\n",
       "      <th>221741</th>\n",
       "      <td>BASAL FLOW RATE</td>\n",
       "      <td>NaN</td>\n",
       "      <td>2020-11-27 08:06:01</td>\n",
       "      <td>0 days 00:08:34</td>\n",
       "      <td>0.000</td>\n",
       "    </tr>\n",
       "    <tr>\n",
       "      <th>221742</th>\n",
       "      <td>BASAL FLOW RATE</td>\n",
       "      <td>NaN</td>\n",
       "      <td>2020-11-27 08:14:35</td>\n",
       "      <td>0 days 00:39:55</td>\n",
       "      <td>0.450</td>\n",
       "    </tr>\n",
       "    <tr>\n",
       "      <th>222957</th>\n",
       "      <td>BASAL INSULIN</td>\n",
       "      <td>automated</td>\n",
       "      <td>2020-11-27 07:56:42</td>\n",
       "      <td>0 days 00:04:59</td>\n",
       "      <td>0.040</td>\n",
       "    </tr>\n",
       "    <tr>\n",
       "      <th>222958</th>\n",
       "      <td>BASAL INSULIN</td>\n",
       "      <td>automated</td>\n",
       "      <td>2020-11-27 08:01:41</td>\n",
       "      <td>0 days 00:04:20</td>\n",
       "      <td>0.033</td>\n",
       "    </tr>\n",
       "    <tr>\n",
       "      <th>222959</th>\n",
       "      <td>BASAL INSULIN</td>\n",
       "      <td>suspend</td>\n",
       "      <td>2020-11-27 08:06:01</td>\n",
       "      <td>0 days 00:08:34</td>\n",
       "      <td>0.000</td>\n",
       "    </tr>\n",
       "    <tr>\n",
       "      <th>222960</th>\n",
       "      <td>BASAL INSULIN</td>\n",
       "      <td>automated</td>\n",
       "      <td>2020-11-27 08:14:35</td>\n",
       "      <td>0 days 00:39:55</td>\n",
       "      <td>0.299</td>\n",
       "    </tr>\n",
       "  </tbody>\n",
       "</table>\n",
       "</div>"
      ],
      "text/plain": [
       "                 FATEST   INSSTYPE               FADTC           FADUR  \\\n",
       "221739  BASAL FLOW RATE        NaN 2020-11-27 07:56:42 0 days 00:04:59   \n",
       "221740  BASAL FLOW RATE        NaN 2020-11-27 08:01:41 0 days 00:04:20   \n",
       "221741  BASAL FLOW RATE        NaN 2020-11-27 08:06:01 0 days 00:08:34   \n",
       "221742  BASAL FLOW RATE        NaN 2020-11-27 08:14:35 0 days 00:39:55   \n",
       "222957    BASAL INSULIN  automated 2020-11-27 07:56:42 0 days 00:04:59   \n",
       "222958    BASAL INSULIN  automated 2020-11-27 08:01:41 0 days 00:04:20   \n",
       "222959    BASAL INSULIN    suspend 2020-11-27 08:06:01 0 days 00:08:34   \n",
       "222960    BASAL INSULIN  automated 2020-11-27 08:14:35 0 days 00:39:55   \n",
       "\n",
       "        FAORRES  \n",
       "221739    0.482  \n",
       "221740    0.450  \n",
       "221741    0.000  \n",
       "221742    0.450  \n",
       "222957    0.040  \n",
       "222958    0.033  \n",
       "222959    0.000  \n",
       "222960    0.299  "
      ]
     },
     "metadata": {},
     "output_type": "display_data"
    },
    {
     "data": {
      "text/plain": [
       "Text(0.5, 0.98, 'Basal for 350 around 2020-11-27 08:06:01')"
      ]
     },
     "execution_count": 245,
     "metadata": {},
     "output_type": "execute_result"
    },
    {
     "data": {
      "image/png": "[encoded data removed]",
      "text/plain": [
       "<Figure size 1200x500 with 2 Axes>"
      ]
     },
     "metadata": {},
     "output_type": "display_data"
    }
   ],
   "source": [
    "#draw basal and suspend events\n",
    "\n",
    "sample = suspend_rows.sample(1)\n",
    "\n",
    "subject = sample.USUBJID.values[0]\n",
    "datetime = pd.to_datetime(sample.FADTC.values[0])\n",
    "window = timedelta(hours=4)\n",
    "\n",
    "context = facm.loc[(facm.USUBJID==subject) & (facm.FACAT == 'BASAL') & (facm.FADTC >= (datetime-window)) & (facm.FADTC<=(datetime+window))].sort_values('FADTC')\n",
    "\n",
    "#plt.figure(figsize=(20,4)); ax=plt.gca(); twinx = ax.twinx()\n",
    "fig, AX = plt.subplots(2,1,figsize=(12, 5),sharey=True)\n",
    "ax=AX[0]; twinx = AX[1]\n",
    "\n",
    "#draw flow rates\n",
    "temp = context.loc[context.FATEST=='BASAL FLOW RATE']\n",
    "drawing.drawBasal(ax,temp.FADTC, temp.FAORRES,label='U/hr')\n",
    "\n",
    "# draw individual basal deliveries\n",
    "temp = context.loc[context.FATEST=='BASAL INSULIN']\n",
    "drawing.drawBasal(twinx,temp.FADTC, temp.FAORRES,label='U',color='red')\n",
    "\n",
    "#add suspend markers\n",
    "temp = temp.loc[temp.INSSTYPE.str.contains('suspend',na=False)]\n",
    "twinx.scatter(temp.FADTC, [0.1]*len(temp), color='red', marker='v', s=100,label='suspend')\n",
    "ax.legend(); twinx.legend()\n",
    "\n",
    "#show the events before and after the suspend\n",
    "iloc = context.index.get_loc(sample.index[0])\n",
    "display(context.iloc[iloc-4:iloc+4][['FATEST','INSSTYPE','FADTC','FADUR','FAORRES']].sort_values(['FATEST','FADTC']))\n",
    "plt.suptitle(f'Basal for {subject} around {datetime}')\n",
    "\n",
    "# save figure\n",
    "#file = os.path.join(os.getcwd(),'..','..','docs','data_sets','assets','t1dexi_suspend_example.png')\n",
    "#plt.savefig(file)"
   ]
  },
  {
   "cell_type": "markdown",
   "metadata": {},
   "source": [
    "### ... summary\n",
    "Again, basal insulin and flow rates already integrate suspends.\n",
    "\n",
    "Hpwever, in contrast to T1DEXi\n",
    "- suspend events are all zero values, and no NaNs\n",
    "- Only 2 pumps have suspend events\n",
    "\n",
    "Therefore, no NaN values need to be filled with zeros"
   ]
  },
  {
   "cell_type": "markdown",
   "metadata": {},
   "source": [
    "### Duplicates\n",
    "we did see that often there are duplicated rows (in basal also with different durations altnerating between 0 and a bigger value). Let;s check how to get rid of them\n",
    "#inspect duplicates"
   ]
  },
  {
   "cell_type": "code",
   "execution_count": 250,
   "metadata": {},
   "outputs": [
    {
     "name": "stdout",
     "output_type": "stream",
     "text": [
      "8 rows (0.00172)% of rows are duplicates\n"
     ]
    },
    {
     "data": {
      "text/plain": [
       "FATEST\n",
       "BASAL FLOW RATE    4\n",
       "BASAL INSULIN      4\n",
       "Name: count, dtype: int64"
      ]
     },
     "metadata": {},
     "output_type": "display_data"
    },
    {
     "data": {
      "text/html": [
       "<div>\n",
       "<style scoped>\n",
       "    .dataframe tbody tr th:only-of-type {\n",
       "        vertical-align: middle;\n",
       "    }\n",
       "\n",
       "    .dataframe tbody tr th {\n",
       "        vertical-align: top;\n",
       "    }\n",
       "\n",
       "    .dataframe thead th {\n",
       "        text-align: right;\n",
       "    }\n",
       "</style>\n",
       "<table border=\"1\" class=\"dataframe\">\n",
       "  <thead>\n",
       "    <tr style=\"text-align: right;\">\n",
       "      <th></th>\n",
       "      <th>FADTC</th>\n",
       "      <th>FADUR</th>\n",
       "      <th>FAORRES</th>\n",
       "      <th>FATEST</th>\n",
       "      <th>INSSTYPE</th>\n",
       "    </tr>\n",
       "  </thead>\n",
       "  <tbody>\n",
       "    <tr>\n",
       "      <th>338471</th>\n",
       "      <td>2022-01-10</td>\n",
       "      <td>0 days 00:00:00</td>\n",
       "      <td>0.570</td>\n",
       "      <td>BASAL FLOW RATE</td>\n",
       "      <td>NaN</td>\n",
       "    </tr>\n",
       "    <tr>\n",
       "      <th>338472</th>\n",
       "      <td>2022-01-10</td>\n",
       "      <td>0 days 00:20:21</td>\n",
       "      <td>0.750</td>\n",
       "      <td>BASAL FLOW RATE</td>\n",
       "      <td>NaN</td>\n",
       "    </tr>\n",
       "    <tr>\n",
       "      <th>338638</th>\n",
       "      <td>2022-01-10</td>\n",
       "      <td>0 days 00:00:00</td>\n",
       "      <td>0.000</td>\n",
       "      <td>BASAL INSULIN</td>\n",
       "      <td>temp</td>\n",
       "    </tr>\n",
       "    <tr>\n",
       "      <th>338639</th>\n",
       "      <td>2022-01-10</td>\n",
       "      <td>0 days 00:20:21</td>\n",
       "      <td>0.254</td>\n",
       "      <td>BASAL INSULIN</td>\n",
       "      <td>scheduled</td>\n",
       "    </tr>\n",
       "    <tr>\n",
       "      <th>338611</th>\n",
       "      <td>2022-01-18</td>\n",
       "      <td>0 days 00:00:00</td>\n",
       "      <td>1.310</td>\n",
       "      <td>BASAL FLOW RATE</td>\n",
       "      <td>NaN</td>\n",
       "    </tr>\n",
       "    <tr>\n",
       "      <th>338612</th>\n",
       "      <td>2022-01-18</td>\n",
       "      <td>0 days 02:30:00</td>\n",
       "      <td>0.750</td>\n",
       "      <td>BASAL FLOW RATE</td>\n",
       "      <td>NaN</td>\n",
       "    </tr>\n",
       "    <tr>\n",
       "      <th>338778</th>\n",
       "      <td>2022-01-18</td>\n",
       "      <td>0 days 00:00:00</td>\n",
       "      <td>0.000</td>\n",
       "      <td>BASAL INSULIN</td>\n",
       "      <td>temp</td>\n",
       "    </tr>\n",
       "    <tr>\n",
       "      <th>338779</th>\n",
       "      <td>2022-01-18</td>\n",
       "      <td>0 days 02:30:00</td>\n",
       "      <td>1.875</td>\n",
       "      <td>BASAL INSULIN</td>\n",
       "      <td>scheduled</td>\n",
       "    </tr>\n",
       "  </tbody>\n",
       "</table>\n",
       "</div>"
      ],
      "text/plain": [
       "            FADTC           FADUR  FAORRES           FATEST   INSSTYPE\n",
       "338471 2022-01-10 0 days 00:00:00    0.570  BASAL FLOW RATE        NaN\n",
       "338472 2022-01-10 0 days 00:20:21    0.750  BASAL FLOW RATE        NaN\n",
       "338638 2022-01-10 0 days 00:00:00    0.000    BASAL INSULIN       temp\n",
       "338639 2022-01-10 0 days 00:20:21    0.254    BASAL INSULIN  scheduled\n",
       "338611 2022-01-18 0 days 00:00:00    1.310  BASAL FLOW RATE        NaN\n",
       "338612 2022-01-18 0 days 02:30:00    0.750  BASAL FLOW RATE        NaN\n",
       "338778 2022-01-18 0 days 00:00:00    0.000    BASAL INSULIN       temp\n",
       "338779 2022-01-18 0 days 02:30:00    1.875    BASAL INSULIN  scheduled"
      ]
     },
     "metadata": {},
     "output_type": "display_data"
    }
   ],
   "source": [
    "#inspect duplicates\n",
    "dup_rows = facm.loc[facm.duplicated(subset=['USUBJID','FADTC','FATEST'],keep=False)]\n",
    "print(f\"{len(dup_rows)} rows ({100*len(dup_rows)/len(facm):.5f})% of rows are duplicates\")\n",
    "\n",
    "#type counts\n",
    "display(dup_rows.FATEST.value_counts())\n",
    "display(dup_rows[['FADTC','FADUR','FAORRES','FATEST','INSSTYPE']].sort_values('FADTC'))"
   ]
  },
  {
   "cell_type": "code",
   "execution_count": 252,
   "metadata": {},
   "outputs": [
    {
     "name": "stdout",
     "output_type": "stream",
     "text": [
      "338778\n"
     ]
    },
    {
     "data": {
      "text/html": [
       "<div>\n",
       "<style scoped>\n",
       "    .dataframe tbody tr th:only-of-type {\n",
       "        vertical-align: middle;\n",
       "    }\n",
       "\n",
       "    .dataframe tbody tr th {\n",
       "        vertical-align: top;\n",
       "    }\n",
       "\n",
       "    .dataframe thead th {\n",
       "        text-align: right;\n",
       "    }\n",
       "</style>\n",
       "<table border=\"1\" class=\"dataframe\">\n",
       "  <thead>\n",
       "    <tr style=\"text-align: right;\">\n",
       "      <th></th>\n",
       "      <th>USUBJID</th>\n",
       "      <th>FATESTCD</th>\n",
       "      <th>FATEST</th>\n",
       "      <th>FAOBJ</th>\n",
       "      <th>FACAT</th>\n",
       "      <th>FAORRES</th>\n",
       "      <th>FAORRESU</th>\n",
       "      <th>FADTC</th>\n",
       "      <th>FADUR</th>\n",
       "      <th>INSDVSRC</th>\n",
       "      <th>INSSTYPE</th>\n",
       "      <th>INSNMBOL</th>\n",
       "      <th>INSEXBOL</th>\n",
       "      <th>FAGRPID</th>\n",
       "      <th>day</th>\n",
       "      <th>DXTRT</th>\n",
       "      <th>TRTMNT</th>\n",
       "      <th>INSMNBL</th>\n",
       "    </tr>\n",
       "  </thead>\n",
       "  <tbody>\n",
       "    <tr>\n",
       "      <th>338611</th>\n",
       "      <td>467</td>\n",
       "      <td>BASFLRT</td>\n",
       "      <td>BASAL FLOW RATE</td>\n",
       "      <td>INSULIN</td>\n",
       "      <td>BASAL</td>\n",
       "      <td>1.310</td>\n",
       "      <td>U/hr</td>\n",
       "      <td>2022-01-18 00:00:00</td>\n",
       "      <td>0 days 00:00:00</td>\n",
       "      <td>NaN</td>\n",
       "      <td>NaN</td>\n",
       "      <td>NaN</td>\n",
       "      <td>NaN</td>\n",
       "      <td>2.0</td>\n",
       "      <td>2022-01-18</td>\n",
       "      <td>INSULET OMNIPOD DASH</td>\n",
       "      <td>CSII</td>\n",
       "      <td>NaN</td>\n",
       "    </tr>\n",
       "    <tr>\n",
       "      <th>338612</th>\n",
       "      <td>467</td>\n",
       "      <td>BASFLRT</td>\n",
       "      <td>BASAL FLOW RATE</td>\n",
       "      <td>INSULIN</td>\n",
       "      <td>BASAL</td>\n",
       "      <td>0.750</td>\n",
       "      <td>U/hr</td>\n",
       "      <td>2022-01-18 00:00:00</td>\n",
       "      <td>0 days 02:30:00</td>\n",
       "      <td>NaN</td>\n",
       "      <td>NaN</td>\n",
       "      <td>NaN</td>\n",
       "      <td>NaN</td>\n",
       "      <td>2.0</td>\n",
       "      <td>2022-01-18</td>\n",
       "      <td>INSULET OMNIPOD DASH</td>\n",
       "      <td>CSII</td>\n",
       "      <td>NaN</td>\n",
       "    </tr>\n",
       "    <tr>\n",
       "      <th>338779</th>\n",
       "      <td>467</td>\n",
       "      <td>INSBASAL</td>\n",
       "      <td>BASAL INSULIN</td>\n",
       "      <td>INSULIN</td>\n",
       "      <td>BASAL</td>\n",
       "      <td>1.875</td>\n",
       "      <td>U</td>\n",
       "      <td>2022-01-18 00:00:00</td>\n",
       "      <td>0 days 02:30:00</td>\n",
       "      <td>Pump</td>\n",
       "      <td>scheduled</td>\n",
       "      <td>NaN</td>\n",
       "      <td>NaN</td>\n",
       "      <td>1.0</td>\n",
       "      <td>2022-01-18</td>\n",
       "      <td>INSULET OMNIPOD DASH</td>\n",
       "      <td>CSII</td>\n",
       "      <td>NaN</td>\n",
       "    </tr>\n",
       "    <tr>\n",
       "      <th>338778</th>\n",
       "      <td>467</td>\n",
       "      <td>INSBASAL</td>\n",
       "      <td>BASAL INSULIN</td>\n",
       "      <td>INSULIN</td>\n",
       "      <td>BASAL</td>\n",
       "      <td>0.000</td>\n",
       "      <td>U</td>\n",
       "      <td>2022-01-18 00:00:00</td>\n",
       "      <td>0 days 00:00:00</td>\n",
       "      <td>Pump</td>\n",
       "      <td>temp</td>\n",
       "      <td>NaN</td>\n",
       "      <td>NaN</td>\n",
       "      <td>1.0</td>\n",
       "      <td>2022-01-18</td>\n",
       "      <td>INSULET OMNIPOD DASH</td>\n",
       "      <td>CSII</td>\n",
       "      <td>NaN</td>\n",
       "    </tr>\n",
       "    <tr>\n",
       "      <th>338613</th>\n",
       "      <td>467</td>\n",
       "      <td>BASFLRT</td>\n",
       "      <td>BASAL FLOW RATE</td>\n",
       "      <td>INSULIN</td>\n",
       "      <td>BASAL</td>\n",
       "      <td>0.650</td>\n",
       "      <td>U/hr</td>\n",
       "      <td>2022-01-18 02:30:00</td>\n",
       "      <td>0 days 01:41:38</td>\n",
       "      <td>NaN</td>\n",
       "      <td>NaN</td>\n",
       "      <td>NaN</td>\n",
       "      <td>NaN</td>\n",
       "      <td>2.0</td>\n",
       "      <td>2022-01-18</td>\n",
       "      <td>INSULET OMNIPOD DASH</td>\n",
       "      <td>CSII</td>\n",
       "      <td>NaN</td>\n",
       "    </tr>\n",
       "    <tr>\n",
       "      <th>338780</th>\n",
       "      <td>467</td>\n",
       "      <td>INSBASAL</td>\n",
       "      <td>BASAL INSULIN</td>\n",
       "      <td>INSULIN</td>\n",
       "      <td>BASAL</td>\n",
       "      <td>1.101</td>\n",
       "      <td>U</td>\n",
       "      <td>2022-01-18 02:30:00</td>\n",
       "      <td>0 days 01:41:38</td>\n",
       "      <td>Pump</td>\n",
       "      <td>scheduled</td>\n",
       "      <td>NaN</td>\n",
       "      <td>NaN</td>\n",
       "      <td>1.0</td>\n",
       "      <td>2022-01-18</td>\n",
       "      <td>INSULET OMNIPOD DASH</td>\n",
       "      <td>CSII</td>\n",
       "      <td>NaN</td>\n",
       "    </tr>\n",
       "    <tr>\n",
       "      <th>338781</th>\n",
       "      <td>467</td>\n",
       "      <td>INSBASAL</td>\n",
       "      <td>BASAL INSULIN</td>\n",
       "      <td>INSULIN</td>\n",
       "      <td>BASAL</td>\n",
       "      <td>0.911</td>\n",
       "      <td>U</td>\n",
       "      <td>2022-01-18 04:11:38</td>\n",
       "      <td>0 days 00:48:22</td>\n",
       "      <td>Pump</td>\n",
       "      <td>temp</td>\n",
       "      <td>NaN</td>\n",
       "      <td>NaN</td>\n",
       "      <td>1.0</td>\n",
       "      <td>2022-01-18</td>\n",
       "      <td>INSULET OMNIPOD DASH</td>\n",
       "      <td>CSII</td>\n",
       "      <td>NaN</td>\n",
       "    </tr>\n",
       "  </tbody>\n",
       "</table>\n",
       "</div>"
      ],
      "text/plain": [
       "       USUBJID  FATESTCD           FATEST    FAOBJ  FACAT  FAORRES FAORRESU  \\\n",
       "338611     467   BASFLRT  BASAL FLOW RATE  INSULIN  BASAL    1.310     U/hr   \n",
       "338612     467   BASFLRT  BASAL FLOW RATE  INSULIN  BASAL    0.750     U/hr   \n",
       "338779     467  INSBASAL    BASAL INSULIN  INSULIN  BASAL    1.875        U   \n",
       "338778     467  INSBASAL    BASAL INSULIN  INSULIN  BASAL    0.000        U   \n",
       "338613     467   BASFLRT  BASAL FLOW RATE  INSULIN  BASAL    0.650     U/hr   \n",
       "338780     467  INSBASAL    BASAL INSULIN  INSULIN  BASAL    1.101        U   \n",
       "338781     467  INSBASAL    BASAL INSULIN  INSULIN  BASAL    0.911        U   \n",
       "\n",
       "                     FADTC           FADUR INSDVSRC   INSSTYPE  INSNMBOL  \\\n",
       "338611 2022-01-18 00:00:00 0 days 00:00:00      NaN        NaN       NaN   \n",
       "338612 2022-01-18 00:00:00 0 days 02:30:00      NaN        NaN       NaN   \n",
       "338779 2022-01-18 00:00:00 0 days 02:30:00     Pump  scheduled       NaN   \n",
       "338778 2022-01-18 00:00:00 0 days 00:00:00     Pump       temp       NaN   \n",
       "338613 2022-01-18 02:30:00 0 days 01:41:38      NaN        NaN       NaN   \n",
       "338780 2022-01-18 02:30:00 0 days 01:41:38     Pump  scheduled       NaN   \n",
       "338781 2022-01-18 04:11:38 0 days 00:48:22     Pump       temp       NaN   \n",
       "\n",
       "        INSEXBOL  FAGRPID         day                 DXTRT TRTMNT  INSMNBL  \n",
       "338611       NaN      2.0  2022-01-18  INSULET OMNIPOD DASH   CSII      NaN  \n",
       "338612       NaN      2.0  2022-01-18  INSULET OMNIPOD DASH   CSII      NaN  \n",
       "338779       NaN      1.0  2022-01-18  INSULET OMNIPOD DASH   CSII      NaN  \n",
       "338778       NaN      1.0  2022-01-18  INSULET OMNIPOD DASH   CSII      NaN  \n",
       "338613       NaN      2.0  2022-01-18  INSULET OMNIPOD DASH   CSII      NaN  \n",
       "338780       NaN      1.0  2022-01-18  INSULET OMNIPOD DASH   CSII      NaN  \n",
       "338781       NaN      1.0  2022-01-18  INSULET OMNIPOD DASH   CSII      NaN  "
      ]
     },
     "metadata": {},
     "output_type": "display_data"
    }
   ],
   "source": [
    "#show examples for the basal flow rates\n",
    "\n",
    "#let's focus on basal flow rates\n",
    "#dup_basal_flows = dup_rows.loc[dup_rows.FATEST=='BASAL FLOW RATE']\n",
    "row = dup_rows.sample()\n",
    "\n",
    "subject = row.USUBJID.values[0]\n",
    "date = row.FADTC.dt.date.values[0]\n",
    "index = row.index[0]\n",
    "print(index)\n",
    "\n",
    "#display rows surrounding the duplicate\n",
    "context = facm.loc[(facm.USUBJID==subject) & (facm.FADTC.dt.date == date) & (facm.FACAT=='BASAL')].sort_values('FADTC')\n",
    "i = context.index.get_loc(index)\n",
    "display(context.iloc[i-3:i+4])"
   ]
  },
  {
   "cell_type": "markdown",
   "metadata": {},
   "source": [
    "### ... summary\n",
    " Even less temporal duplixates than in T1DExi\n",
    "  - No Bolus duplicates\n",
    "How to deal with duplicates?\n",
    " - Use the row with the maximum duration"
   ]
  },
  {
   "cell_type": "markdown",
   "metadata": {},
   "source": [
    "### Corrupt data?\n",
    "Checking distributions to spot outliers"
   ]
  },
  {
   "cell_type": "code",
   "execution_count": 255,
   "metadata": {},
   "outputs": [
    {
     "name": "stdout",
     "output_type": "stream",
     "text": [
      "Number of events for patients to remove\n"
     ]
    },
    {
     "data": {
      "image/png": "[encoded data removed]",
      "text/plain": [
       "<Figure size 800x150 with 1 Axes>"
      ]
     },
     "metadata": {},
     "output_type": "display_data"
    }
   ],
   "source": [
    "#draw cdf of number of events\n",
    "plt.figure(figsize=(8,1.5)); ax=plt.gca()\n",
    "print('Number of events for patients to remove')\n",
    "num_events_overall = facm.groupby('USUBJID').size()\n",
    "\n",
    "cdf.plot_cdf(num_events_overall, ax=ax,color='blue',label='all')\n",
    "plt.title('Number of events per patient'); plt.xlabel('Number of events'); plt.ylabel('Patients')\n",
    "plt.xscale('log')\n",
    "\n",
    "# save figure\n",
    "file = os.path.join(os.getcwd(),'..','..','docs','data_sets','assets','t1dexip_number_of_events_per_patient.png')\n",
    "plt.savefig(file, bbox_inches='tight')"
   ]
  },
  {
   "cell_type": "markdown",
   "metadata": {},
   "source": [
    "The daily maximum gaps are not particularly large for the users to be removed. "
   ]
  },
  {
   "cell_type": "code",
   "execution_count": null,
   "metadata": {},
   "outputs": [
    {
     "name": "stdout",
     "output_type": "stream",
     "text": [
      "Number of days for patients to remove\n"
     ]
    },
    {
     "data": {
      "image/png": "[encoded data removed]",
      "text/plain": [
       "<Figure size 800x150 with 1 Axes>"
      ]
     },
     "metadata": {},
     "output_type": "display_data"
    }
   ],
   "source": [
    "#cdf: number of days per patient\n",
    "plt.figure(figsize=(8,1.5)); ax=plt.gca()\n",
    "print('Number of days for patients to remove')\n",
    "num_days = facm.groupby(['USUBJID']).day.nunique()\n",
    "\n",
    "#draw distribution \n",
    "cdf.plot_cdf(num_days,ax=ax)\n",
    "plt.title('Number of days per patient')"
   ]
  },
  {
   "cell_type": "markdown",
   "metadata": {},
   "source": [
    "\n",
    "- T1DExip, also some patients have mych less datapoints due to less number of days than study duration (<10>)"
   ]
  },
  {
   "cell_type": "markdown",
   "metadata": {},
   "source": [
    "#### TDD distributions"
   ]
  },
  {
   "cell_type": "code",
   "execution_count": 314,
   "metadata": {},
   "outputs": [
    {
     "name": "stdout",
     "output_type": "stream",
     "text": [
      "Total Daily Dose for patients to remove\n"
     ]
    },
    {
     "data": {
      "image/png": "[encoded data removed]",
      "text/plain": [
       "<Figure size 800x150 with 1 Axes>"
      ]
     },
     "metadata": {},
     "output_type": "display_data"
    }
   ],
   "source": [
    "#tdd distribution\n",
    "plt.figure(figsize=(8,1.5)); ax=plt.gca()\n",
    "\n",
    "print('Total Daily Dose for patients to remove')\n",
    "cdf.plot_cdf(tdds.sum(axis=1), ax=ax)\n",
    "#plt.xscale('log')\n",
    "#save figure\n",
    "#file = os.path.join(os.getcwd(),'..','..','docs','data_sets','assets','t1dexi_tdd_per_patient.png')\n",
    "#plt.savefig(file, bbox_inches='tight')"
   ]
  },
  {
   "cell_type": "code",
   "execution_count": 328,
   "metadata": {},
   "outputs": [
    {
     "data": {
      "text/html": [
       "<div>\n",
       "<style scoped>\n",
       "    .dataframe tbody tr th:only-of-type {\n",
       "        vertical-align: middle;\n",
       "    }\n",
       "\n",
       "    .dataframe tbody tr th {\n",
       "        vertical-align: top;\n",
       "    }\n",
       "\n",
       "    .dataframe thead th {\n",
       "        text-align: right;\n",
       "    }\n",
       "</style>\n",
       "<table border=\"1\" class=\"dataframe\">\n",
       "  <thead>\n",
       "    <tr style=\"text-align: right;\">\n",
       "      <th></th>\n",
       "      <th></th>\n",
       "      <th></th>\n",
       "      <th>Bolus TDD</th>\n",
       "      <th>Basal TDD</th>\n",
       "      <th>total</th>\n",
       "    </tr>\n",
       "    <tr>\n",
       "      <th>DXTRT</th>\n",
       "      <th>USUBJID</th>\n",
       "      <th>day</th>\n",
       "      <th></th>\n",
       "      <th></th>\n",
       "      <th></th>\n",
       "    </tr>\n",
       "  </thead>\n",
       "  <tbody>\n",
       "    <tr>\n",
       "      <th>TANDEM T:SLIM X2 WITH CONTROL IQ</th>\n",
       "      <th>226</th>\n",
       "      <th>2021-02-11</th>\n",
       "      <td>125.28</td>\n",
       "      <td>85.127</td>\n",
       "      <td>210.407</td>\n",
       "    </tr>\n",
       "    <tr>\n",
       "      <th rowspan=\"9\" valign=\"top\">MULTIPLE DAILY INJECTIONS</th>\n",
       "      <th rowspan=\"9\" valign=\"top\">436</th>\n",
       "      <th>2022-08-09</th>\n",
       "      <td>230.50</td>\n",
       "      <td>0.000</td>\n",
       "      <td>230.500</td>\n",
       "    </tr>\n",
       "    <tr>\n",
       "      <th>2022-08-12</th>\n",
       "      <td>176.50</td>\n",
       "      <td>70.000</td>\n",
       "      <td>246.500</td>\n",
       "    </tr>\n",
       "    <tr>\n",
       "      <th>2022-08-13</th>\n",
       "      <td>184.00</td>\n",
       "      <td>70.000</td>\n",
       "      <td>254.000</td>\n",
       "    </tr>\n",
       "    <tr>\n",
       "      <th>2022-08-06</th>\n",
       "      <td>214.00</td>\n",
       "      <td>70.000</td>\n",
       "      <td>284.000</td>\n",
       "    </tr>\n",
       "    <tr>\n",
       "      <th>2022-08-11</th>\n",
       "      <td>227.00</td>\n",
       "      <td>70.000</td>\n",
       "      <td>297.000</td>\n",
       "    </tr>\n",
       "    <tr>\n",
       "      <th>2022-08-05</th>\n",
       "      <td>311.50</td>\n",
       "      <td>0.000</td>\n",
       "      <td>311.500</td>\n",
       "    </tr>\n",
       "    <tr>\n",
       "      <th>2022-08-10</th>\n",
       "      <td>261.00</td>\n",
       "      <td>70.000</td>\n",
       "      <td>331.000</td>\n",
       "    </tr>\n",
       "    <tr>\n",
       "      <th>2022-08-07</th>\n",
       "      <td>291.50</td>\n",
       "      <td>70.000</td>\n",
       "      <td>361.500</td>\n",
       "    </tr>\n",
       "    <tr>\n",
       "      <th>2022-08-08</th>\n",
       "      <td>341.00</td>\n",
       "      <td>70.000</td>\n",
       "      <td>411.000</td>\n",
       "    </tr>\n",
       "  </tbody>\n",
       "</table>\n",
       "</div>"
      ],
      "text/plain": [
       "                                                     Bolus TDD  Basal TDD  \\\n",
       "DXTRT                            USUBJID day                                \n",
       "TANDEM T:SLIM X2 WITH CONTROL IQ 226     2021-02-11     125.28     85.127   \n",
       "MULTIPLE DAILY INJECTIONS        436     2022-08-09     230.50      0.000   \n",
       "                                         2022-08-12     176.50     70.000   \n",
       "                                         2022-08-13     184.00     70.000   \n",
       "                                         2022-08-06     214.00     70.000   \n",
       "                                         2022-08-11     227.00     70.000   \n",
       "                                         2022-08-05     311.50      0.000   \n",
       "                                         2022-08-10     261.00     70.000   \n",
       "                                         2022-08-07     291.50     70.000   \n",
       "                                         2022-08-08     341.00     70.000   \n",
       "\n",
       "                                                       total  \n",
       "DXTRT                            USUBJID day                  \n",
       "TANDEM T:SLIM X2 WITH CONTROL IQ 226     2021-02-11  210.407  \n",
       "MULTIPLE DAILY INJECTIONS        436     2022-08-09  230.500  \n",
       "                                         2022-08-12  246.500  \n",
       "                                         2022-08-13  254.000  \n",
       "                                         2022-08-06  284.000  \n",
       "                                         2022-08-11  297.000  \n",
       "                                         2022-08-05  311.500  \n",
       "                                         2022-08-10  331.000  \n",
       "                                         2022-08-07  361.500  \n",
       "                                         2022-08-08  411.000  "
      ]
     },
     "execution_count": 328,
     "metadata": {},
     "output_type": "execute_result"
    }
   ],
   "source": [
    "tdds['total']= tdds.sum(axis=1)\n",
    "tdds.sort_values('total').tail(10)"
   ]
  },
  {
   "cell_type": "code",
   "execution_count": 338,
   "metadata": {},
   "outputs": [
    {
     "data": {
      "text/html": [
       "<div>\n",
       "<style scoped>\n",
       "    .dataframe tbody tr th:only-of-type {\n",
       "        vertical-align: middle;\n",
       "    }\n",
       "\n",
       "    .dataframe tbody tr th {\n",
       "        vertical-align: top;\n",
       "    }\n",
       "\n",
       "    .dataframe thead th {\n",
       "        text-align: right;\n",
       "    }\n",
       "</style>\n",
       "<table border=\"1\" class=\"dataframe\">\n",
       "  <thead>\n",
       "    <tr style=\"text-align: right;\">\n",
       "      <th></th>\n",
       "      <th>FATEST</th>\n",
       "      <th>FADTC</th>\n",
       "      <th>FAORRES</th>\n",
       "      <th>FADUR</th>\n",
       "    </tr>\n",
       "  </thead>\n",
       "  <tbody>\n",
       "    <tr>\n",
       "      <th>106046</th>\n",
       "      <td>BASAL INSULIN</td>\n",
       "      <td>2021-02-11 00:00:00</td>\n",
       "      <td>0.352</td>\n",
       "      <td>0 days 00:04:15</td>\n",
       "    </tr>\n",
       "    <tr>\n",
       "      <th>106047</th>\n",
       "      <td>BASAL INSULIN</td>\n",
       "      <td>2021-02-11 00:01:38</td>\n",
       "      <td>0.022</td>\n",
       "      <td>0 days 00:04:59</td>\n",
       "    </tr>\n",
       "    <tr>\n",
       "      <th>106048</th>\n",
       "      <td>BASAL INSULIN</td>\n",
       "      <td>2021-02-11 00:04:15</td>\n",
       "      <td>0.464</td>\n",
       "      <td>0 days 00:05:00</td>\n",
       "    </tr>\n",
       "    <tr>\n",
       "      <th>106049</th>\n",
       "      <td>BASAL INSULIN</td>\n",
       "      <td>2021-02-11 00:06:37</td>\n",
       "      <td>0.050</td>\n",
       "      <td>0 days 00:05:01</td>\n",
       "    </tr>\n",
       "    <tr>\n",
       "      <th>106050</th>\n",
       "      <td>BASAL INSULIN</td>\n",
       "      <td>2021-02-11 00:09:15</td>\n",
       "      <td>0.466</td>\n",
       "      <td>0 days 00:05:01</td>\n",
       "    </tr>\n",
       "    <tr>\n",
       "      <th>...</th>\n",
       "      <td>...</td>\n",
       "      <td>...</td>\n",
       "      <td>...</td>\n",
       "      <td>...</td>\n",
       "    </tr>\n",
       "    <tr>\n",
       "      <th>106553</th>\n",
       "      <td>BASAL INSULIN</td>\n",
       "      <td>2021-02-11 23:38:05</td>\n",
       "      <td>0.117</td>\n",
       "      <td>0 days 00:05:02</td>\n",
       "    </tr>\n",
       "    <tr>\n",
       "      <th>106554</th>\n",
       "      <td>BASAL INSULIN</td>\n",
       "      <td>2021-02-11 23:43:07</td>\n",
       "      <td>0.156</td>\n",
       "      <td>0 days 00:05:01</td>\n",
       "    </tr>\n",
       "    <tr>\n",
       "      <th>106555</th>\n",
       "      <td>BASAL INSULIN</td>\n",
       "      <td>2021-02-11 23:48:08</td>\n",
       "      <td>0.191</td>\n",
       "      <td>0 days 00:04:59</td>\n",
       "    </tr>\n",
       "    <tr>\n",
       "      <th>106556</th>\n",
       "      <td>BASAL INSULIN</td>\n",
       "      <td>2021-02-11 23:53:07</td>\n",
       "      <td>0.250</td>\n",
       "      <td>0 days 00:05:02</td>\n",
       "    </tr>\n",
       "    <tr>\n",
       "      <th>106557</th>\n",
       "      <td>BASAL INSULIN</td>\n",
       "      <td>2021-02-11 23:58:09</td>\n",
       "      <td>0.079</td>\n",
       "      <td>0 days 00:01:51</td>\n",
       "    </tr>\n",
       "  </tbody>\n",
       "</table>\n",
       "<p>512 rows × 4 columns</p>\n",
       "</div>"
      ],
      "text/plain": [
       "               FATEST               FADTC  FAORRES           FADUR\n",
       "106046  BASAL INSULIN 2021-02-11 00:00:00    0.352 0 days 00:04:15\n",
       "106047  BASAL INSULIN 2021-02-11 00:01:38    0.022 0 days 00:04:59\n",
       "106048  BASAL INSULIN 2021-02-11 00:04:15    0.464 0 days 00:05:00\n",
       "106049  BASAL INSULIN 2021-02-11 00:06:37    0.050 0 days 00:05:01\n",
       "106050  BASAL INSULIN 2021-02-11 00:09:15    0.466 0 days 00:05:01\n",
       "...               ...                 ...      ...             ...\n",
       "106553  BASAL INSULIN 2021-02-11 23:38:05    0.117 0 days 00:05:02\n",
       "106554  BASAL INSULIN 2021-02-11 23:43:07    0.156 0 days 00:05:01\n",
       "106555  BASAL INSULIN 2021-02-11 23:48:08    0.191 0 days 00:04:59\n",
       "106556  BASAL INSULIN 2021-02-11 23:53:07    0.250 0 days 00:05:02\n",
       "106557  BASAL INSULIN 2021-02-11 23:58:09    0.079 0 days 00:01:51\n",
       "\n",
       "[512 rows x 4 columns]"
      ]
     },
     "metadata": {},
     "output_type": "display_data"
    },
    {
     "data": {
      "text/html": [
       "<div>\n",
       "<style scoped>\n",
       "    .dataframe tbody tr th:only-of-type {\n",
       "        vertical-align: middle;\n",
       "    }\n",
       "\n",
       "    .dataframe tbody tr th {\n",
       "        vertical-align: top;\n",
       "    }\n",
       "\n",
       "    .dataframe thead th {\n",
       "        text-align: right;\n",
       "    }\n",
       "</style>\n",
       "<table border=\"1\" class=\"dataframe\">\n",
       "  <thead>\n",
       "    <tr style=\"text-align: right;\">\n",
       "      <th></th>\n",
       "      <th>FATEST</th>\n",
       "      <th>FAORRES</th>\n",
       "      <th>FADTC</th>\n",
       "      <th>FADUR</th>\n",
       "      <th>time_diff</th>\n",
       "    </tr>\n",
       "  </thead>\n",
       "  <tbody>\n",
       "    <tr>\n",
       "      <th>108340</th>\n",
       "      <td>BOLUS INSULIN</td>\n",
       "      <td>6.870</td>\n",
       "      <td>2021-02-11 08:58:13</td>\n",
       "      <td>NaT</td>\n",
       "      <td>NaT</td>\n",
       "    </tr>\n",
       "    <tr>\n",
       "      <th>108341</th>\n",
       "      <td>BOLUS INSULIN</td>\n",
       "      <td>15.080</td>\n",
       "      <td>2021-02-11 10:10:56</td>\n",
       "      <td>NaT</td>\n",
       "      <td>0 days 01:12:43</td>\n",
       "    </tr>\n",
       "    <tr>\n",
       "      <th>108342</th>\n",
       "      <td>BOLUS INSULIN</td>\n",
       "      <td>15.080</td>\n",
       "      <td>2021-02-11 10:13:40</td>\n",
       "      <td>NaT</td>\n",
       "      <td>0 days 00:02:44</td>\n",
       "    </tr>\n",
       "    <tr>\n",
       "      <th>108343</th>\n",
       "      <td>BOLUS INSULIN</td>\n",
       "      <td>2.500</td>\n",
       "      <td>2021-02-11 10:58:32</td>\n",
       "      <td>NaT</td>\n",
       "      <td>0 days 00:44:52</td>\n",
       "    </tr>\n",
       "    <tr>\n",
       "      <th>108344</th>\n",
       "      <td>BOLUS INSULIN</td>\n",
       "      <td>2.500</td>\n",
       "      <td>2021-02-11 11:20:00</td>\n",
       "      <td>NaT</td>\n",
       "      <td>0 days 00:21:28</td>\n",
       "    </tr>\n",
       "    <tr>\n",
       "      <th>108345</th>\n",
       "      <td>BOLUS INSULIN</td>\n",
       "      <td>2.500</td>\n",
       "      <td>2021-02-11 11:25:58</td>\n",
       "      <td>NaT</td>\n",
       "      <td>0 days 00:05:58</td>\n",
       "    </tr>\n",
       "    <tr>\n",
       "      <th>108346</th>\n",
       "      <td>BOLUS INSULIN</td>\n",
       "      <td>6.030</td>\n",
       "      <td>2021-02-11 11:30:05</td>\n",
       "      <td>NaT</td>\n",
       "      <td>0 days 00:04:07</td>\n",
       "    </tr>\n",
       "    <tr>\n",
       "      <th>108347</th>\n",
       "      <td>BOLUS INSULIN</td>\n",
       "      <td>1.000</td>\n",
       "      <td>2021-02-11 11:45:22</td>\n",
       "      <td>NaT</td>\n",
       "      <td>0 days 00:15:17</td>\n",
       "    </tr>\n",
       "    <tr>\n",
       "      <th>108348</th>\n",
       "      <td>BOLUS INSULIN</td>\n",
       "      <td>9.250</td>\n",
       "      <td>2021-02-11 11:50:51</td>\n",
       "      <td>NaT</td>\n",
       "      <td>0 days 00:05:29</td>\n",
       "    </tr>\n",
       "    <tr>\n",
       "      <th>108349</th>\n",
       "      <td>BOLUS INSULIN</td>\n",
       "      <td>9.250</td>\n",
       "      <td>2021-02-11 11:51:50</td>\n",
       "      <td>NaT</td>\n",
       "      <td>0 days 00:00:59</td>\n",
       "    </tr>\n",
       "    <tr>\n",
       "      <th>108350</th>\n",
       "      <td>BOLUS INSULIN</td>\n",
       "      <td>3.000</td>\n",
       "      <td>2021-02-11 11:51:53</td>\n",
       "      <td>NaT</td>\n",
       "      <td>0 days 00:00:03</td>\n",
       "    </tr>\n",
       "    <tr>\n",
       "      <th>108351</th>\n",
       "      <td>BOLUS INSULIN</td>\n",
       "      <td>2.500</td>\n",
       "      <td>2021-02-11 12:13:49</td>\n",
       "      <td>NaT</td>\n",
       "      <td>0 days 00:21:56</td>\n",
       "    </tr>\n",
       "    <tr>\n",
       "      <th>108352</th>\n",
       "      <td>BOLUS INSULIN</td>\n",
       "      <td>6.750</td>\n",
       "      <td>2021-02-11 12:55:08</td>\n",
       "      <td>NaT</td>\n",
       "      <td>0 days 00:41:19</td>\n",
       "    </tr>\n",
       "    <tr>\n",
       "      <th>108353</th>\n",
       "      <td>BOLUS INSULIN</td>\n",
       "      <td>0.207</td>\n",
       "      <td>2021-02-11 13:45:44</td>\n",
       "      <td>NaT</td>\n",
       "      <td>0 days 00:50:36</td>\n",
       "    </tr>\n",
       "    <tr>\n",
       "      <th>108354</th>\n",
       "      <td>BOLUS INSULIN</td>\n",
       "      <td>12.000</td>\n",
       "      <td>2021-02-11 14:19:14</td>\n",
       "      <td>NaT</td>\n",
       "      <td>0 days 00:33:30</td>\n",
       "    </tr>\n",
       "    <tr>\n",
       "      <th>108355</th>\n",
       "      <td>BOLUS INSULIN</td>\n",
       "      <td>2.900</td>\n",
       "      <td>2021-02-11 15:39:00</td>\n",
       "      <td>NaT</td>\n",
       "      <td>0 days 01:19:46</td>\n",
       "    </tr>\n",
       "    <tr>\n",
       "      <th>108356</th>\n",
       "      <td>BOLUS INSULIN</td>\n",
       "      <td>2.900</td>\n",
       "      <td>2021-02-11 15:39:55</td>\n",
       "      <td>NaT</td>\n",
       "      <td>0 days 00:00:55</td>\n",
       "    </tr>\n",
       "    <tr>\n",
       "      <th>108357</th>\n",
       "      <td>BOLUS INSULIN</td>\n",
       "      <td>2.070</td>\n",
       "      <td>2021-02-11 15:45:26</td>\n",
       "      <td>NaT</td>\n",
       "      <td>0 days 00:05:31</td>\n",
       "    </tr>\n",
       "    <tr>\n",
       "      <th>108358</th>\n",
       "      <td>BOLUS INSULIN</td>\n",
       "      <td>1.250</td>\n",
       "      <td>2021-02-11 15:53:08</td>\n",
       "      <td>NaT</td>\n",
       "      <td>0 days 00:07:42</td>\n",
       "    </tr>\n",
       "    <tr>\n",
       "      <th>108359</th>\n",
       "      <td>BOLUS INSULIN</td>\n",
       "      <td>0.060</td>\n",
       "      <td>2021-02-11 16:09:21</td>\n",
       "      <td>NaT</td>\n",
       "      <td>0 days 00:16:13</td>\n",
       "    </tr>\n",
       "    <tr>\n",
       "      <th>108360</th>\n",
       "      <td>BOLUS INSULIN</td>\n",
       "      <td>4.000</td>\n",
       "      <td>2021-02-11 16:28:28</td>\n",
       "      <td>NaT</td>\n",
       "      <td>0 days 00:19:07</td>\n",
       "    </tr>\n",
       "    <tr>\n",
       "      <th>108361</th>\n",
       "      <td>BOLUS INSULIN</td>\n",
       "      <td>1.254</td>\n",
       "      <td>2021-02-11 17:14:19</td>\n",
       "      <td>NaT</td>\n",
       "      <td>0 days 00:45:51</td>\n",
       "    </tr>\n",
       "    <tr>\n",
       "      <th>108362</th>\n",
       "      <td>BOLUS INSULIN</td>\n",
       "      <td>12.670</td>\n",
       "      <td>2021-02-11 17:33:03</td>\n",
       "      <td>NaT</td>\n",
       "      <td>0 days 00:18:44</td>\n",
       "    </tr>\n",
       "    <tr>\n",
       "      <th>108363</th>\n",
       "      <td>BOLUS INSULIN</td>\n",
       "      <td>3.659</td>\n",
       "      <td>2021-02-11 19:58:22</td>\n",
       "      <td>NaT</td>\n",
       "      <td>0 days 02:25:19</td>\n",
       "    </tr>\n",
       "  </tbody>\n",
       "</table>\n",
       "</div>"
      ],
      "text/plain": [
       "               FATEST  FAORRES               FADTC FADUR       time_diff\n",
       "108340  BOLUS INSULIN    6.870 2021-02-11 08:58:13   NaT             NaT\n",
       "108341  BOLUS INSULIN   15.080 2021-02-11 10:10:56   NaT 0 days 01:12:43\n",
       "108342  BOLUS INSULIN   15.080 2021-02-11 10:13:40   NaT 0 days 00:02:44\n",
       "108343  BOLUS INSULIN    2.500 2021-02-11 10:58:32   NaT 0 days 00:44:52\n",
       "108344  BOLUS INSULIN    2.500 2021-02-11 11:20:00   NaT 0 days 00:21:28\n",
       "108345  BOLUS INSULIN    2.500 2021-02-11 11:25:58   NaT 0 days 00:05:58\n",
       "108346  BOLUS INSULIN    6.030 2021-02-11 11:30:05   NaT 0 days 00:04:07\n",
       "108347  BOLUS INSULIN    1.000 2021-02-11 11:45:22   NaT 0 days 00:15:17\n",
       "108348  BOLUS INSULIN    9.250 2021-02-11 11:50:51   NaT 0 days 00:05:29\n",
       "108349  BOLUS INSULIN    9.250 2021-02-11 11:51:50   NaT 0 days 00:00:59\n",
       "108350  BOLUS INSULIN    3.000 2021-02-11 11:51:53   NaT 0 days 00:00:03\n",
       "108351  BOLUS INSULIN    2.500 2021-02-11 12:13:49   NaT 0 days 00:21:56\n",
       "108352  BOLUS INSULIN    6.750 2021-02-11 12:55:08   NaT 0 days 00:41:19\n",
       "108353  BOLUS INSULIN    0.207 2021-02-11 13:45:44   NaT 0 days 00:50:36\n",
       "108354  BOLUS INSULIN   12.000 2021-02-11 14:19:14   NaT 0 days 00:33:30\n",
       "108355  BOLUS INSULIN    2.900 2021-02-11 15:39:00   NaT 0 days 01:19:46\n",
       "108356  BOLUS INSULIN    2.900 2021-02-11 15:39:55   NaT 0 days 00:00:55\n",
       "108357  BOLUS INSULIN    2.070 2021-02-11 15:45:26   NaT 0 days 00:05:31\n",
       "108358  BOLUS INSULIN    1.250 2021-02-11 15:53:08   NaT 0 days 00:07:42\n",
       "108359  BOLUS INSULIN    0.060 2021-02-11 16:09:21   NaT 0 days 00:16:13\n",
       "108360  BOLUS INSULIN    4.000 2021-02-11 16:28:28   NaT 0 days 00:19:07\n",
       "108361  BOLUS INSULIN    1.254 2021-02-11 17:14:19   NaT 0 days 00:45:51\n",
       "108362  BOLUS INSULIN   12.670 2021-02-11 17:33:03   NaT 0 days 00:18:44\n",
       "108363  BOLUS INSULIN    3.659 2021-02-11 19:58:22   NaT 0 days 02:25:19"
      ]
     },
     "metadata": {},
     "output_type": "display_data"
    },
    {
     "data": {
      "image/png": "[encoded data removed]",
      "text/plain": [
       "<Figure size 2000x400 with 2 Axes>"
      ]
     },
     "metadata": {},
     "output_type": "display_data"
    }
   ],
   "source": [
    "reload(drawing)\n",
    "#inspect pump patient with highest TDD\n",
    "temp = facm.loc[(facm.USUBJID=='226') & (facm.day==datetime(2021,2,11).date())]\n",
    "\n",
    "basals = temp.loc[temp.FATEST=='BASAL INSULIN'].sort_values('FADTC')\n",
    "display(basals[['FATEST','FADTC','FAORRES','FADUR']])\n",
    "\n",
    "boluses = temp.loc[temp.FACAT=='BOLUS'][['FATEST','FAORRES','FADTC','FADUR']].sort_values('FADTC')\n",
    "boluses['time_diff'] = boluses.FADTC.diff()\n",
    "display(boluses)\n",
    "\n",
    "plt.figure(figsize=(20,4)); ax=plt.gca(); twinx = ax.twinx()\n",
    "drawing.drawBasal(ax,basals.FADTC, basals.FAORRES,label='U/hr')\n",
    "drawing.drawBoluses(twinx,boluses.FADTC, boluses.FAORRES,label='U',width=timedelta(minutes=5),alpha=0.2)\n",
    "#drawing.drawBoluses(twinx,boluses.FADTC, boluses.FAORRES,label='U',width=timedelta(minutes=1))\n",
    "##save figure\n",
    "#file = os.path.join(os.getcwd(),'..','..','docs','data_sets','assets','t1dexip_basals_317_2019-03-01.png')\n",
    "#plt.savefig(file, bbox_inches='tight')"
   ]
  },
  {
   "cell_type": "code",
   "execution_count": 442,
   "metadata": {},
   "outputs": [
    {
     "data": {
      "text/html": [
       "<div>\n",
       "<style scoped>\n",
       "    .dataframe tbody tr th:only-of-type {\n",
       "        vertical-align: middle;\n",
       "    }\n",
       "\n",
       "    .dataframe tbody tr th {\n",
       "        vertical-align: top;\n",
       "    }\n",
       "\n",
       "    .dataframe thead th {\n",
       "        text-align: right;\n",
       "    }\n",
       "</style>\n",
       "<table border=\"1\" class=\"dataframe\">\n",
       "  <thead>\n",
       "    <tr style=\"text-align: right;\">\n",
       "      <th></th>\n",
       "      <th>FATEST</th>\n",
       "      <th>FADTC</th>\n",
       "      <th>FAORRES</th>\n",
       "      <th>FADUR</th>\n",
       "    </tr>\n",
       "  </thead>\n",
       "  <tbody>\n",
       "    <tr>\n",
       "      <th>309976</th>\n",
       "      <td>BASAL INSULIN</td>\n",
       "      <td>2022-08-08 10:14:44</td>\n",
       "      <td>70.0</td>\n",
       "      <td>NaT</td>\n",
       "    </tr>\n",
       "  </tbody>\n",
       "</table>\n",
       "</div>"
      ],
      "text/plain": [
       "               FATEST               FADTC  FAORRES FADUR\n",
       "309976  BASAL INSULIN 2022-08-08 10:14:44     70.0   NaT"
      ]
     },
     "metadata": {},
     "output_type": "display_data"
    },
    {
     "data": {
      "text/html": [
       "<div>\n",
       "<style scoped>\n",
       "    .dataframe tbody tr th:only-of-type {\n",
       "        vertical-align: middle;\n",
       "    }\n",
       "\n",
       "    .dataframe tbody tr th {\n",
       "        vertical-align: top;\n",
       "    }\n",
       "\n",
       "    .dataframe thead th {\n",
       "        text-align: right;\n",
       "    }\n",
       "</style>\n",
       "<table border=\"1\" class=\"dataframe\">\n",
       "  <thead>\n",
       "    <tr style=\"text-align: right;\">\n",
       "      <th></th>\n",
       "      <th>FATEST</th>\n",
       "      <th>FAORRES</th>\n",
       "      <th>FADTC</th>\n",
       "      <th>time_diff</th>\n",
       "    </tr>\n",
       "  </thead>\n",
       "  <tbody>\n",
       "    <tr>\n",
       "      <th>310022</th>\n",
       "      <td>BOLUS INSULIN</td>\n",
       "      <td>23.5</td>\n",
       "      <td>2022-08-08 06:19:18</td>\n",
       "      <td>NaT</td>\n",
       "    </tr>\n",
       "    <tr>\n",
       "      <th>310023</th>\n",
       "      <td>BOLUS INSULIN</td>\n",
       "      <td>23.5</td>\n",
       "      <td>2022-08-08 06:26:39</td>\n",
       "      <td>0 days 00:07:21</td>\n",
       "    </tr>\n",
       "    <tr>\n",
       "      <th>310024</th>\n",
       "      <td>BOLUS INSULIN</td>\n",
       "      <td>20.0</td>\n",
       "      <td>2022-08-08 10:13:38</td>\n",
       "      <td>0 days 03:46:59</td>\n",
       "    </tr>\n",
       "    <tr>\n",
       "      <th>310025</th>\n",
       "      <td>BOLUS INSULIN</td>\n",
       "      <td>12.5</td>\n",
       "      <td>2022-08-08 10:13:54</td>\n",
       "      <td>0 days 00:00:16</td>\n",
       "    </tr>\n",
       "    <tr>\n",
       "      <th>310026</th>\n",
       "      <td>BOLUS INSULIN</td>\n",
       "      <td>32.5</td>\n",
       "      <td>2022-08-08 10:14:29</td>\n",
       "      <td>0 days 00:00:35</td>\n",
       "    </tr>\n",
       "    <tr>\n",
       "      <th>310027</th>\n",
       "      <td>BOLUS INSULIN</td>\n",
       "      <td>32.5</td>\n",
       "      <td>2022-08-08 10:14:52</td>\n",
       "      <td>0 days 00:00:23</td>\n",
       "    </tr>\n",
       "    <tr>\n",
       "      <th>310028</th>\n",
       "      <td>BOLUS INSULIN</td>\n",
       "      <td>12.0</td>\n",
       "      <td>2022-08-08 13:53:52</td>\n",
       "      <td>0 days 03:39:00</td>\n",
       "    </tr>\n",
       "    <tr>\n",
       "      <th>310029</th>\n",
       "      <td>BOLUS INSULIN</td>\n",
       "      <td>5.5</td>\n",
       "      <td>2022-08-08 15:01:06</td>\n",
       "      <td>0 days 01:07:14</td>\n",
       "    </tr>\n",
       "    <tr>\n",
       "      <th>310030</th>\n",
       "      <td>BOLUS INSULIN</td>\n",
       "      <td>17.5</td>\n",
       "      <td>2022-08-08 15:01:17</td>\n",
       "      <td>0 days 00:00:11</td>\n",
       "    </tr>\n",
       "    <tr>\n",
       "      <th>310031</th>\n",
       "      <td>BOLUS INSULIN</td>\n",
       "      <td>17.5</td>\n",
       "      <td>2022-08-08 15:01:27</td>\n",
       "      <td>0 days 00:00:10</td>\n",
       "    </tr>\n",
       "    <tr>\n",
       "      <th>310032</th>\n",
       "      <td>BOLUS INSULIN</td>\n",
       "      <td>20.0</td>\n",
       "      <td>2022-08-08 18:08:33</td>\n",
       "      <td>0 days 03:07:06</td>\n",
       "    </tr>\n",
       "    <tr>\n",
       "      <th>310033</th>\n",
       "      <td>BOLUS INSULIN</td>\n",
       "      <td>14.0</td>\n",
       "      <td>2022-08-08 18:08:49</td>\n",
       "      <td>0 days 00:00:16</td>\n",
       "    </tr>\n",
       "    <tr>\n",
       "      <th>310034</th>\n",
       "      <td>BOLUS INSULIN</td>\n",
       "      <td>34.0</td>\n",
       "      <td>2022-08-08 18:09:17</td>\n",
       "      <td>0 days 00:00:28</td>\n",
       "    </tr>\n",
       "    <tr>\n",
       "      <th>310035</th>\n",
       "      <td>BOLUS INSULIN</td>\n",
       "      <td>34.0</td>\n",
       "      <td>2022-08-08 18:09:25</td>\n",
       "      <td>0 days 00:00:08</td>\n",
       "    </tr>\n",
       "    <tr>\n",
       "      <th>310036</th>\n",
       "      <td>BOLUS INSULIN</td>\n",
       "      <td>21.0</td>\n",
       "      <td>2022-08-08 21:35:57</td>\n",
       "      <td>0 days 03:26:32</td>\n",
       "    </tr>\n",
       "    <tr>\n",
       "      <th>310037</th>\n",
       "      <td>BOLUS INSULIN</td>\n",
       "      <td>21.0</td>\n",
       "      <td>2022-08-08 22:44:11</td>\n",
       "      <td>0 days 01:08:14</td>\n",
       "    </tr>\n",
       "  </tbody>\n",
       "</table>\n",
       "</div>"
      ],
      "text/plain": [
       "               FATEST  FAORRES               FADTC       time_diff\n",
       "310022  BOLUS INSULIN     23.5 2022-08-08 06:19:18             NaT\n",
       "310023  BOLUS INSULIN     23.5 2022-08-08 06:26:39 0 days 00:07:21\n",
       "310024  BOLUS INSULIN     20.0 2022-08-08 10:13:38 0 days 03:46:59\n",
       "310025  BOLUS INSULIN     12.5 2022-08-08 10:13:54 0 days 00:00:16\n",
       "310026  BOLUS INSULIN     32.5 2022-08-08 10:14:29 0 days 00:00:35\n",
       "310027  BOLUS INSULIN     32.5 2022-08-08 10:14:52 0 days 00:00:23\n",
       "310028  BOLUS INSULIN     12.0 2022-08-08 13:53:52 0 days 03:39:00\n",
       "310029  BOLUS INSULIN      5.5 2022-08-08 15:01:06 0 days 01:07:14\n",
       "310030  BOLUS INSULIN     17.5 2022-08-08 15:01:17 0 days 00:00:11\n",
       "310031  BOLUS INSULIN     17.5 2022-08-08 15:01:27 0 days 00:00:10\n",
       "310032  BOLUS INSULIN     20.0 2022-08-08 18:08:33 0 days 03:07:06\n",
       "310033  BOLUS INSULIN     14.0 2022-08-08 18:08:49 0 days 00:00:16\n",
       "310034  BOLUS INSULIN     34.0 2022-08-08 18:09:17 0 days 00:00:28\n",
       "310035  BOLUS INSULIN     34.0 2022-08-08 18:09:25 0 days 00:00:08\n",
       "310036  BOLUS INSULIN     21.0 2022-08-08 21:35:57 0 days 03:26:32\n",
       "310037  BOLUS INSULIN     21.0 2022-08-08 22:44:11 0 days 01:08:14"
      ]
     },
     "metadata": {},
     "output_type": "display_data"
    },
    {
     "data": {
      "image/png": "[encoded data removed]",
      "text/plain": [
       "<Figure size 2000x400 with 2 Axes>"
      ]
     },
     "metadata": {},
     "output_type": "display_data"
    }
   ],
   "source": [
    "#inspect MDI with with highest TDD\n",
    "temp = facm.loc[(facm.USUBJID=='436') & (facm.day==datetime(2022,8,8).date())]\n",
    "\n",
    "basals = temp.loc[temp.FATEST=='BASAL INSULIN'].sort_values('FADTC')\n",
    "display(basals[['FATEST','FADTC','FAORRES','FADUR']])\n",
    "\n",
    "boluses = temp.loc[temp.FACAT=='BOLUS'][['FATEST','FAORRES','FADTC']].sort_values('FADTC')\n",
    "boluses['time_diff'] = boluses.FADTC.diff()\n",
    "display(boluses)\n",
    "\n",
    "plt.figure(figsize=(20,4)); ax=plt.gca(); twinx = ax.twinx()\n",
    "drawing.drawBasal(ax,basals.FADTC, basals.FAORRES,label='U/hr')\n",
    "drawing.drawBoluses(twinx,boluses.FADTC, boluses.FAORRES,label='U',width=timedelta(minutes=5),alpha=0.2)\n",
    "plt.title('MDI patient 436 on 2022-08-08')\n",
    "#save figur\n",
    "file = os.path.join(os.getcwd(),'..','..','docs','data_sets','assets','t1dexip_basals_436_2022-08-08.png')\n",
    "plt.savefig(file, bbox_inches='tight')"
   ]
  },
  {
   "cell_type": "markdown",
   "metadata": {},
   "source": [
    "Pump user: \n",
    "- basals durations overlapping\n",
    "\n",
    "MDI user:\n",
    " - a lot of equal boluses in close approximation, maybe split bolus or recorded twice?"
   ]
  },
  {
   "cell_type": "code",
   "execution_count": 444,
   "metadata": {},
   "outputs": [
    {
     "data": {
      "image/png": "[encoded data removed]",
      "text/plain": [
       "<Figure size 800x150 with 1 Axes>"
      ]
     },
     "metadata": {},
     "output_type": "display_data"
    }
   ],
   "source": [
    "basal_max_durs = facm.loc[(facm.FATEST=='BASAL FLOW RATE')].groupby('USUBJID').FADUR.max().dt.total_seconds()/3600\n",
    "#display(basal_max_durs.sort_values().tail(10))\n",
    "plt.figure(figsize=(8,1.5)); ax=plt.gca()\n",
    "cdf.plot_cdf(basal_max_durs, label='Basal Flow Rate Durations',ax=ax)\n",
    "plt.title('Max Basal Flow Rate Durations')\n",
    "\n",
    "#save figure\n",
    "file = os.path.join(os.getcwd(),'..','..','docs','data_sets','assets','t1dexip_basal_max_durations.png')\n",
    "plt.savefig(file, bbox_inches='tight')\n"
   ]
  },
  {
   "cell_type": "code",
   "execution_count": 443,
   "metadata": {},
   "outputs": [
    {
     "data": {
      "image/png": "[encoded data removed]",
      "text/plain": [
       "<Figure size 800x150 with 1 Axes>"
      ]
     },
     "metadata": {},
     "output_type": "display_data"
    }
   ],
   "source": [
    "basal_max_rates = facm.loc[(facm.FATEST=='BASAL FLOW RATE')].groupby('USUBJID').FAORRES.max()\n",
    "plt.figure(figsize=(8,1.5)); ax=plt.gca()\n",
    "cdf.plot_cdf(basal_max_rates, label='Basal Flow Rate Rates',ax=ax)\n",
    "plt.title('Max Basal Flow Rate Rates')\n",
    "\n",
    "## save figure\n",
    "file = os.path.join(os.getcwd(),'..','..','docs','data_sets','assets','t1dexip_basal_max_rates.png')\n",
    "plt.savefig(file, bbox_inches='tight')"
   ]
  },
  {
   "cell_type": "markdown",
   "metadata": {},
   "source": [
    "We see that \n",
    "- MDI patients with highest TDD appears to have duplicated bolus records \n",
    "- Pump users with overlapping basal durations\n",
    "- Pump patients with long durations but not extreme basal flow rates as in T1DExi"
   ]
  },
  {
   "cell_type": "markdown",
   "metadata": {},
   "source": [
    "## Glucose Data"
   ]
  },
  {
   "cell_type": "code",
   "execution_count": 372,
   "metadata": {},
   "outputs": [
    {
     "data": {
      "text/plain": [
       "Text(0.5, 1.0, 'Number of days equivalent of CGM data per patient')"
      ]
     },
     "execution_count": 372,
     "metadata": {},
     "output_type": "execute_result"
    },
    {
     "data": {
      "image/png": "[encoded data removed]",
      "text/plain": [
       "<Figure size 800x200 with 1 Axes>"
      ]
     },
     "metadata": {},
     "output_type": "display_data"
    }
   ],
   "source": [
    "## how many days worth of data do patients have?\n",
    "day_equivalent_num_cgms = (lb.groupby('USUBJID').size()/(24*12)).sort_values(ascending=False)\n",
    "plt.figure(figsize=(8,2)); ax=plt.gca()\n",
    "cdf.plot_cdf(day_equivalent_num_cgms,ax=ax)\n",
    "plt.title('Number of days equivalent of CGM data per patient')"
   ]
  },
  {
   "cell_type": "code",
   "execution_count": 374,
   "metadata": {},
   "outputs": [
    {
     "name": "stdout",
     "output_type": "stream",
     "text": [
      "0.13 % of the values are below 41\n",
      "0.58 % of the values are above 400\n"
     ]
    },
    {
     "data": {
      "text/plain": [
       "<matplotlib.collections.LineCollection at 0x381252a50>"
      ]
     },
     "execution_count": 374,
     "metadata": {},
     "output_type": "execute_result"
    },
    {
     "data": {
      "image/png": "[encoded data removed]",
      "text/plain": [
       "<Figure size 800x200 with 1 Axes>"
      ]
     },
     "metadata": {},
     "output_type": "display_data"
    }
   ],
   "source": [
    "## CGM distribution\n",
    "plt.figure(figsize=(8,2)); ax=plt.gca()\n",
    "cdf.plot_cdf(lb.LBORRES,ax=ax)\n",
    "print(f'{100*(lb.LBORRES<=41).sum()/len(lb):.2f} % of the values are below 41')\n",
    "print(f'{100*(lb.LBORRES>=400).sum()/len(lb):.2f} % of the values are above 400')\n",
    "plt.vlines([41,400],0,1,linestyles='dashed',colors='red')"
   ]
  },
  {
   "cell_type": "code",
   "execution_count": 408,
   "metadata": {},
   "outputs": [
    {
     "data": {
      "text/html": [
       "<div>\n",
       "<style scoped>\n",
       "    .dataframe tbody tr th:only-of-type {\n",
       "        vertical-align: middle;\n",
       "    }\n",
       "\n",
       "    .dataframe tbody tr th {\n",
       "        vertical-align: top;\n",
       "    }\n",
       "\n",
       "    .dataframe thead th {\n",
       "        text-align: right;\n",
       "    }\n",
       "</style>\n",
       "<table border=\"1\" class=\"dataframe\">\n",
       "  <thead>\n",
       "    <tr style=\"text-align: right;\">\n",
       "      <th></th>\n",
       "      <th>STUDYID</th>\n",
       "      <th>DOMAIN</th>\n",
       "      <th>USUBJID</th>\n",
       "      <th>LBSEQ</th>\n",
       "      <th>LBTESTCD</th>\n",
       "      <th>LBTEST</th>\n",
       "      <th>LBCAT</th>\n",
       "      <th>LBORRES</th>\n",
       "      <th>LBORRESU</th>\n",
       "      <th>LBSTRESC</th>\n",
       "      <th>LBSTRESN</th>\n",
       "      <th>LBSTRESU</th>\n",
       "      <th>LBDTC</th>\n",
       "      <th>LBSOURCE</th>\n",
       "      <th>LBCRNORD</th>\n",
       "      <th>LBSETTNG</th>\n",
       "      <th>LBTMINT</th>\n",
       "    </tr>\n",
       "  </thead>\n",
       "  <tbody>\n",
       "    <tr>\n",
       "      <th>590311</th>\n",
       "      <td>T1DEXI-P</td>\n",
       "      <td>LB</td>\n",
       "      <td>525</td>\n",
       "      <td>1.0</td>\n",
       "      <td>GLUC</td>\n",
       "      <td>Glucose</td>\n",
       "      <td>CGM</td>\n",
       "      <td>568.0</td>\n",
       "      <td>mg/dL</td>\n",
       "      <td>568</td>\n",
       "      <td>568.0</td>\n",
       "      <td>mg/dL</td>\n",
       "      <td>1.930503e+09</td>\n",
       "      <td></td>\n",
       "      <td></td>\n",
       "      <td></td>\n",
       "      <td></td>\n",
       "    </tr>\n",
       "  </tbody>\n",
       "</table>\n",
       "</div>"
      ],
      "text/plain": [
       "         STUDYID DOMAIN USUBJID  LBSEQ LBTESTCD   LBTEST LBCAT  LBORRES  \\\n",
       "590311  T1DEXI-P     LB     525    1.0     GLUC  Glucose   CGM    568.0   \n",
       "\n",
       "       LBORRESU LBSTRESC  LBSTRESN LBSTRESU         LBDTC LBSOURCE LBCRNORD  \\\n",
       "590311    mg/dL      568     568.0    mg/dL  1.930503e+09                     \n",
       "\n",
       "       LBSETTNG LBTMINT  \n",
       "590311                   "
      ]
     },
     "execution_count": 408,
     "metadata": {},
     "output_type": "execute_result"
    }
   ],
   "source": [
    "sample = lb.loc[lb.LBORRES>401]\n",
    "sample"
   ]
  },
  {
   "cell_type": "code",
   "execution_count": 401,
   "metadata": {},
   "outputs": [
    {
     "name": "stdout",
     "output_type": "stream",
     "text": [
      "There are 8 duplicated cgms\n"
     ]
    },
    {
     "data": {
      "text/html": [
       "<div>\n",
       "<style scoped>\n",
       "    .dataframe tbody tr th:only-of-type {\n",
       "        vertical-align: middle;\n",
       "    }\n",
       "\n",
       "    .dataframe tbody tr th {\n",
       "        vertical-align: top;\n",
       "    }\n",
       "\n",
       "    .dataframe thead th {\n",
       "        text-align: right;\n",
       "    }\n",
       "</style>\n",
       "<table border=\"1\" class=\"dataframe\">\n",
       "  <thead>\n",
       "    <tr style=\"text-align: right;\">\n",
       "      <th></th>\n",
       "      <th>STUDYID</th>\n",
       "      <th>DOMAIN</th>\n",
       "      <th>USUBJID</th>\n",
       "      <th>LBSEQ</th>\n",
       "      <th>LBTESTCD</th>\n",
       "      <th>LBTEST</th>\n",
       "      <th>LBORRES</th>\n",
       "      <th>LBORRESU</th>\n",
       "      <th>LBSTRESC</th>\n",
       "      <th>LBSTRESN</th>\n",
       "      <th>LBSTRESU</th>\n",
       "      <th>LBDTC</th>\n",
       "      <th>LBSOURCE</th>\n",
       "      <th>LBCRNORD</th>\n",
       "      <th>LBSETTNG</th>\n",
       "      <th>LBTMINT</th>\n",
       "    </tr>\n",
       "  </thead>\n",
       "  <tbody>\n",
       "    <tr>\n",
       "      <th>70316</th>\n",
       "      <td>T1DEXI-P</td>\n",
       "      <td>LB</td>\n",
       "      <td>150</td>\n",
       "      <td>2416.0</td>\n",
       "      <td>GLUC</td>\n",
       "      <td>Glucose</td>\n",
       "      <td>76.0</td>\n",
       "      <td>mg/dL</td>\n",
       "      <td>76</td>\n",
       "      <td>76.0</td>\n",
       "      <td>mg/dL</td>\n",
       "      <td>2021-12-04 22:32:48</td>\n",
       "      <td>NaN</td>\n",
       "      <td>NaN</td>\n",
       "      <td>NaN</td>\n",
       "      <td>NaN</td>\n",
       "    </tr>\n",
       "    <tr>\n",
       "      <th>70317</th>\n",
       "      <td>T1DEXI-P</td>\n",
       "      <td>LB</td>\n",
       "      <td>150</td>\n",
       "      <td>2417.0</td>\n",
       "      <td>GLUC</td>\n",
       "      <td>Glucose</td>\n",
       "      <td>76.0</td>\n",
       "      <td>mg/dL</td>\n",
       "      <td>76</td>\n",
       "      <td>76.0</td>\n",
       "      <td>mg/dL</td>\n",
       "      <td>2021-12-04 22:32:48</td>\n",
       "      <td>NaN</td>\n",
       "      <td>NaN</td>\n",
       "      <td>NaN</td>\n",
       "      <td>NaN</td>\n",
       "    </tr>\n",
       "    <tr>\n",
       "      <th>123732</th>\n",
       "      <td>T1DEXI-P</td>\n",
       "      <td>LB</td>\n",
       "      <td>202</td>\n",
       "      <td>98.0</td>\n",
       "      <td>GLUC</td>\n",
       "      <td>Glucose</td>\n",
       "      <td>127.0</td>\n",
       "      <td>mg/dL</td>\n",
       "      <td>127</td>\n",
       "      <td>127.0</td>\n",
       "      <td>mg/dL</td>\n",
       "      <td>2022-02-02 08:30:34</td>\n",
       "      <td>NaN</td>\n",
       "      <td>NaN</td>\n",
       "      <td>NaN</td>\n",
       "      <td>NaN</td>\n",
       "    </tr>\n",
       "    <tr>\n",
       "      <th>123733</th>\n",
       "      <td>T1DEXI-P</td>\n",
       "      <td>LB</td>\n",
       "      <td>202</td>\n",
       "      <td>99.0</td>\n",
       "      <td>GLUC</td>\n",
       "      <td>Glucose</td>\n",
       "      <td>127.0</td>\n",
       "      <td>mg/dL</td>\n",
       "      <td>127</td>\n",
       "      <td>127.0</td>\n",
       "      <td>mg/dL</td>\n",
       "      <td>2022-02-02 08:30:34</td>\n",
       "      <td>NaN</td>\n",
       "      <td>NaN</td>\n",
       "      <td>NaN</td>\n",
       "      <td>NaN</td>\n",
       "    </tr>\n",
       "  </tbody>\n",
       "</table>\n",
       "</div>"
      ],
      "text/plain": [
       "         STUDYID DOMAIN USUBJID   LBSEQ LBTESTCD   LBTEST  LBORRES LBORRESU  \\\n",
       "70316   T1DEXI-P     LB     150  2416.0     GLUC  Glucose     76.0    mg/dL   \n",
       "70317   T1DEXI-P     LB     150  2417.0     GLUC  Glucose     76.0    mg/dL   \n",
       "123732  T1DEXI-P     LB     202    98.0     GLUC  Glucose    127.0    mg/dL   \n",
       "123733  T1DEXI-P     LB     202    99.0     GLUC  Glucose    127.0    mg/dL   \n",
       "\n",
       "       LBSTRESC  LBSTRESN LBSTRESU               LBDTC LBSOURCE LBCRNORD  \\\n",
       "70316        76      76.0    mg/dL 2021-12-04 22:32:48      NaN      NaN   \n",
       "70317        76      76.0    mg/dL 2021-12-04 22:32:48      NaN      NaN   \n",
       "123732      127     127.0    mg/dL 2022-02-02 08:30:34      NaN      NaN   \n",
       "123733      127     127.0    mg/dL 2022-02-02 08:30:34      NaN      NaN   \n",
       "\n",
       "       LBSETTNG LBTMINT  \n",
       "70316       NaN     NaN  \n",
       "70317       NaN     NaN  \n",
       "123732      NaN     NaN  \n",
       "123733      NaN     NaN  "
      ]
     },
     "metadata": {},
     "output_type": "display_data"
    },
    {
     "data": {
      "text/plain": [
       "<matplotlib.collections.PathCollection at 0x37f32b3d0>"
      ]
     },
     "execution_count": 401,
     "metadata": {},
     "output_type": "execute_result"
    },
    {
     "data": {
      "image/png": "[encoded data removed]",
      "text/plain": [
       "<Figure size 500x300 with 1 Axes>"
      ]
     },
     "metadata": {},
     "output_type": "display_data"
    }
   ],
   "source": [
    "## duplicates\n",
    "temp = lb.loc[lb.duplicated(subset=['USUBJID','LBDTC'],keep=False)]\n",
    "print(f\"There are {len(temp)} duplicated cgms\")\n",
    "display(temp.head(4))\n",
    "\n",
    "def get_min_max_duplicates(df,dup_cols,val_col):\n",
    "    dups = df[df.duplicated(subset=dup_cols, keep=False)]\n",
    "    results = dups.groupby(dup_cols)[val_col].agg(['min','max'])\n",
    "    return results\n",
    "\n",
    "dup_min_max = get_min_max_duplicates(lb,['USUBJID','LBDTC'],'LBORRES')\n",
    "plt.figure(figsize=(5,3)); ax=plt.gca()\n",
    "ax.plot([40,300],[40,300], '--', color='gray')\n",
    "ax.scatter(dup_min_max['min'], dup_min_max['max'])\n"
   ]
  },
  {
   "cell_type": "markdown",
   "metadata": {},
   "source": [
    "They are more or less the same, also really few, drop using first"
   ]
  },
  {
   "cell_type": "code",
   "execution_count": 402,
   "metadata": {},
   "outputs": [],
   "source": [
    "## drop duplicates\n",
    "lb = lb.drop_duplicates(subset=['USUBJID','LBDTC'],keep='first')"
   ]
  },
  {
   "cell_type": "code",
   "execution_count": 445,
   "metadata": {},
   "outputs": [
    {
     "data": {
      "image/png": "[encoded data removed]",
      "text/plain": [
       "<Figure size 800x200 with 1 Axes>"
      ]
     },
     "metadata": {},
     "output_type": "display_data"
    }
   ],
   "source": [
    "## check for distribution of CGM values\n",
    "reload(drawing)\n",
    "plt.figure(figsize=(8,2)); ax=plt.gca()\n",
    "drawing.drawMovingAverage(ax,lb,'LBDTC','LBORRES')\n",
    "## save figure\n",
    "file = os.path.join(os.getcwd(),'..','..','docs','data_sets','assets','t1dexip_cgm_values.png')\n",
    "plt.savefig(file, bbox_inches='tight')"
   ]
  },
  {
   "cell_type": "markdown",
   "metadata": {},
   "source": [
    "### Summary Glucose\n",
    "LB is a very simple dataframe:  \n",
    "- Glucose is in local time\n",
    "- all in mg/dl\n",
    "- No nan values \n",
    "- Hb1A1c must be dropped\n",
    "- one value >401 should be dropped, many values reach 401 (unclear why not 400)\n",
    "- only a couple temporal duplicates which are dropped (using first) as they correlate perfectly"
   ]
  },
  {
   "cell_type": "markdown",
   "metadata": {},
   "source": [
    "## Differences T1DExi vs. T1DExip\n",
    "\n",
    "Overall, the T1DExiP dataset is much cleaner than the T1DExi:\n",
    " \n",
    " ### Basal Flow rates\n",
    " - MDI has no flow rates\n",
    " - No NaN FAORRES or NaN duraitons: no need to fill with zeros\n",
    " - basal flow rates and basal deliveries are almost identical but overall deivate a little more (70 Units overall)\n",
    "- There are no extreme basal durations (all below 24h) and no resulting extreme basal flow rates\n",
    " - These are likely true Basal rates that are set for a whole day \n",
    "\n",
    "### AID Labels\n",
    "- It looks like only the Tandem T:SLIM X2 with control IQ was really running in AID mode\n",
    "\n",
    "### Suspends\n",
    "- suspend events are all zero values, and no NaNs (no need to replace)\n",
    "\n",
    "### Duplicates\n",
    "- Basal\n",
    "    - Same, we see some alternating basals: use maximum duration\n",
    "- Bolus\n",
    "    - no complete duplicated bolus rows (instead of 2)\n",
    "    - Some MDI appear to have (close) duplicated recordings causing high TDDs\n",
    "\n",
    "### Number of Data Points\n",
    "- T1DExip, also some patients have much less datapoints due to less number of days than study duration (<10>)\n",
    "- MDI patients with highest TDD appears to have duplicated bolus records\n",
    "\n",
    "### Glucose\n",
    "- there is one sample with a value >401 mg/dl\n",
    "- some 8 temporal duplicates that can be dropped using first"
   ]
  }
 ],
 "metadata": {
  "kernelspec": {
   "display_name": "babelbetes",
   "language": "python",
   "name": "python3"
  },
  "language_info": {
   "codemirror_mode": {
    "name": "ipython",
    "version": 3
   },
   "file_extension": ".py",
   "mimetype": "text/x-python",
   "name": "python",
   "nbconvert_exporter": "python",
   "pygments_lexer": "ipython3",
   "version": "3.11.0"
  }
 },
 "nbformat": 4,
 "nbformat_minor": 2
}
