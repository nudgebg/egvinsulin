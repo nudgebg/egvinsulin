{
 "cells": [
  {
   "cell_type": "markdown",
   "metadata": {},
   "source": [
    "# Ideas to forward fill\n",
    "\n",
    "In This notebook we investigate how to do TDD calculation using forward filling. In particular, we discuss the problem of forward filling in cases where we have missing data and can't make a good judgement of which value to use to fill.\n",
    "\n",
    "**Note**: Sometimes we might now know if it is missing or the last data point is still valid."
   ]
  },
  {
   "cell_type": "code",
   "execution_count": 2,
   "metadata": {},
   "outputs": [],
   "source": [
    "#append partent directory to path\n",
    "import sys\n",
    "sys.path.append('..')\n",
    "from studies.studydataset import StudyDataset\n",
    "import numpy as np\n",
    "import pandas as pd\n",
    "import matplotlib.pyplot as plt\n",
    "from datetime import datetime, timedelta"
   ]
  },
  {
   "cell_type": "markdown",
   "metadata": {},
   "source": [
    "Let's start by creating a small test-dataset."
   ]
  },
  {
   "cell_type": "code",
   "execution_count": 3,
   "metadata": {},
   "outputs": [
    {
     "name": "stdout",
     "output_type": "stream",
     "text": [
      "13\n"
     ]
    },
    {
     "data": {
      "text/html": [
       "<div>\n",
       "<style scoped>\n",
       "    .dataframe tbody tr th:only-of-type {\n",
       "        vertical-align: middle;\n",
       "    }\n",
       "\n",
       "    .dataframe tbody tr th {\n",
       "        vertical-align: top;\n",
       "    }\n",
       "\n",
       "    .dataframe thead th {\n",
       "        text-align: right;\n",
       "    }\n",
       "</style>\n",
       "<table border=\"1\" class=\"dataframe\">\n",
       "  <thead>\n",
       "    <tr style=\"text-align: right;\">\n",
       "      <th></th>\n",
       "      <th>datetime</th>\n",
       "      <th>basal</th>\n",
       "      <th>date</th>\n",
       "    </tr>\n",
       "  </thead>\n",
       "  <tbody>\n",
       "    <tr>\n",
       "      <th>0</th>\n",
       "      <td>2024-06-20 01:00:00</td>\n",
       "      <td>1</td>\n",
       "      <td>2024-06-20</td>\n",
       "    </tr>\n",
       "    <tr>\n",
       "      <th>1</th>\n",
       "      <td>2024-06-20 07:00:00</td>\n",
       "      <td>2</td>\n",
       "      <td>2024-06-20</td>\n",
       "    </tr>\n",
       "    <tr>\n",
       "      <th>2</th>\n",
       "      <td>2024-06-20 13:00:00</td>\n",
       "      <td>1</td>\n",
       "      <td>2024-06-20</td>\n",
       "    </tr>\n",
       "    <tr>\n",
       "      <th>3</th>\n",
       "      <td>2024-06-20 19:00:00</td>\n",
       "      <td>2</td>\n",
       "      <td>2024-06-20</td>\n",
       "    </tr>\n",
       "    <tr>\n",
       "      <th>8</th>\n",
       "      <td>2024-06-22 01:00:00</td>\n",
       "      <td>1</td>\n",
       "      <td>2024-06-22</td>\n",
       "    </tr>\n",
       "    <tr>\n",
       "      <th>9</th>\n",
       "      <td>2024-06-22 07:00:00</td>\n",
       "      <td>2</td>\n",
       "      <td>2024-06-22</td>\n",
       "    </tr>\n",
       "    <tr>\n",
       "      <th>10</th>\n",
       "      <td>2024-06-22 13:00:00</td>\n",
       "      <td>1</td>\n",
       "      <td>2024-06-22</td>\n",
       "    </tr>\n",
       "    <tr>\n",
       "      <th>11</th>\n",
       "      <td>2024-06-22 19:00:00</td>\n",
       "      <td>2</td>\n",
       "      <td>2024-06-22</td>\n",
       "    </tr>\n",
       "    <tr>\n",
       "      <th>12</th>\n",
       "      <td>2024-06-23 01:00:00</td>\n",
       "      <td>1</td>\n",
       "      <td>2024-06-23</td>\n",
       "    </tr>\n",
       "  </tbody>\n",
       "</table>\n",
       "</div>"
      ],
      "text/plain": [
       "              datetime  basal        date\n",
       "0  2024-06-20 01:00:00      1  2024-06-20\n",
       "1  2024-06-20 07:00:00      2  2024-06-20\n",
       "2  2024-06-20 13:00:00      1  2024-06-20\n",
       "3  2024-06-20 19:00:00      2  2024-06-20\n",
       "8  2024-06-22 01:00:00      1  2024-06-22\n",
       "9  2024-06-22 07:00:00      2  2024-06-22\n",
       "10 2024-06-22 13:00:00      1  2024-06-22\n",
       "11 2024-06-22 19:00:00      2  2024-06-22\n",
       "12 2024-06-23 01:00:00      1  2024-06-23"
      ]
     },
     "metadata": {},
     "output_type": "display_data"
    },
    {
     "data": {
      "image/png": "[encoded data removed]",
      "text/plain": [
       "<Figure size 1000x200 with 1 Axes>"
      ]
     },
     "metadata": {},
     "output_type": "display_data"
    }
   ],
   "source": [
    "days = 3\n",
    "basalDuration=6\n",
    "\n",
    "#generate a pandas dataframe with datetime column with values over two days with random gaps of random hours between them\n",
    "datetimes = datetime(2024,6,20,1,0,0) + pd.to_timedelta(np.arange(0,days*24+basalDuration,basalDuration), unit='h')\n",
    "datetimes = sorted(datetimes)\n",
    "datetimes\n",
    "print(len(datetimes))\n",
    "\n",
    "#rotate basals using these values 0.25,0.5,1, 1.25\n",
    "basals = [1,2]\n",
    "basals = [basals[i%len(basals)] for i in range(0,len(datetimes))]\n",
    "\n",
    "df = pd.DataFrame({'datetime':datetimes, 'basal':basals})\n",
    "#drop the 4th to 8th value\n",
    "df = df.drop(df.index[4:8])\n",
    "\n",
    "#get the dates for which there is data\n",
    "start_date = df.datetime.min().date()\n",
    "end_date = df.datetime.max().date()\n",
    "\n",
    "dates = pd.date_range(start_date, end_date+pd.Timedelta(days=1), freq='D')\n",
    "\n",
    "plt.figure(figsize=(10,2))\n",
    "plt.stem(df['datetime'],df['basal'],basefmt=' ',markerfmt=' ',linefmt='r-')\n",
    "plt.stairs(df['basal'].values[:-1], df['datetime'],color='blue')\n",
    "\n",
    "#draw vertical lines for each date \n",
    "for date in dates:\n",
    "    plt.axvline(date, color='black', linestyle='--', lw=2)\n",
    "\n",
    "df['date'] = df.datetime.dt.date\n",
    "display(df)"
   ]
  },
  {
   "cell_type": "markdown",
   "metadata": {},
   "source": [
    "Create midnight support points for calculating TDD from midnight to midnight"
   ]
  },
  {
   "cell_type": "code",
   "execution_count": 4,
   "metadata": {},
   "outputs": [
    {
     "data": {
      "text/html": [
       "<div>\n",
       "<style scoped>\n",
       "    .dataframe tbody tr th:only-of-type {\n",
       "        vertical-align: middle;\n",
       "    }\n",
       "\n",
       "    .dataframe tbody tr th {\n",
       "        vertical-align: top;\n",
       "    }\n",
       "\n",
       "    .dataframe thead th {\n",
       "        text-align: right;\n",
       "    }\n",
       "</style>\n",
       "<table border=\"1\" class=\"dataframe\">\n",
       "  <thead>\n",
       "    <tr style=\"text-align: right;\">\n",
       "      <th></th>\n",
       "      <th>datetime</th>\n",
       "      <th>basal</th>\n",
       "      <th>date</th>\n",
       "    </tr>\n",
       "  </thead>\n",
       "  <tbody>\n",
       "    <tr>\n",
       "      <th>0</th>\n",
       "      <td>2024-06-20 00:00:00</td>\n",
       "      <td>NaN</td>\n",
       "      <td>NaN</td>\n",
       "    </tr>\n",
       "    <tr>\n",
       "      <th>1</th>\n",
       "      <td>2024-06-20 01:00:00</td>\n",
       "      <td>1.0</td>\n",
       "      <td>2024-06-20</td>\n",
       "    </tr>\n",
       "    <tr>\n",
       "      <th>2</th>\n",
       "      <td>2024-06-20 07:00:00</td>\n",
       "      <td>2.0</td>\n",
       "      <td>2024-06-20</td>\n",
       "    </tr>\n",
       "    <tr>\n",
       "      <th>3</th>\n",
       "      <td>2024-06-20 13:00:00</td>\n",
       "      <td>1.0</td>\n",
       "      <td>2024-06-20</td>\n",
       "    </tr>\n",
       "    <tr>\n",
       "      <th>4</th>\n",
       "      <td>2024-06-20 19:00:00</td>\n",
       "      <td>2.0</td>\n",
       "      <td>2024-06-20</td>\n",
       "    </tr>\n",
       "    <tr>\n",
       "      <th>5</th>\n",
       "      <td>2024-06-21 00:00:00</td>\n",
       "      <td>NaN</td>\n",
       "      <td>NaN</td>\n",
       "    </tr>\n",
       "    <tr>\n",
       "      <th>6</th>\n",
       "      <td>2024-06-22 00:00:00</td>\n",
       "      <td>NaN</td>\n",
       "      <td>NaN</td>\n",
       "    </tr>\n",
       "    <tr>\n",
       "      <th>7</th>\n",
       "      <td>2024-06-22 01:00:00</td>\n",
       "      <td>1.0</td>\n",
       "      <td>2024-06-22</td>\n",
       "    </tr>\n",
       "    <tr>\n",
       "      <th>8</th>\n",
       "      <td>2024-06-22 07:00:00</td>\n",
       "      <td>2.0</td>\n",
       "      <td>2024-06-22</td>\n",
       "    </tr>\n",
       "    <tr>\n",
       "      <th>9</th>\n",
       "      <td>2024-06-22 13:00:00</td>\n",
       "      <td>1.0</td>\n",
       "      <td>2024-06-22</td>\n",
       "    </tr>\n",
       "    <tr>\n",
       "      <th>10</th>\n",
       "      <td>2024-06-22 19:00:00</td>\n",
       "      <td>2.0</td>\n",
       "      <td>2024-06-22</td>\n",
       "    </tr>\n",
       "    <tr>\n",
       "      <th>11</th>\n",
       "      <td>2024-06-23 00:00:00</td>\n",
       "      <td>NaN</td>\n",
       "      <td>NaN</td>\n",
       "    </tr>\n",
       "    <tr>\n",
       "      <th>12</th>\n",
       "      <td>2024-06-23 01:00:00</td>\n",
       "      <td>1.0</td>\n",
       "      <td>2024-06-23</td>\n",
       "    </tr>\n",
       "    <tr>\n",
       "      <th>13</th>\n",
       "      <td>2024-06-24 00:00:00</td>\n",
       "      <td>NaN</td>\n",
       "      <td>NaN</td>\n",
       "    </tr>\n",
       "  </tbody>\n",
       "</table>\n",
       "</div>"
      ],
      "text/plain": [
       "              datetime  basal        date\n",
       "0  2024-06-20 00:00:00    NaN         NaN\n",
       "1  2024-06-20 01:00:00    1.0  2024-06-20\n",
       "2  2024-06-20 07:00:00    2.0  2024-06-20\n",
       "3  2024-06-20 13:00:00    1.0  2024-06-20\n",
       "4  2024-06-20 19:00:00    2.0  2024-06-20\n",
       "5  2024-06-21 00:00:00    NaN         NaN\n",
       "6  2024-06-22 00:00:00    NaN         NaN\n",
       "7  2024-06-22 01:00:00    1.0  2024-06-22\n",
       "8  2024-06-22 07:00:00    2.0  2024-06-22\n",
       "9  2024-06-22 13:00:00    1.0  2024-06-22\n",
       "10 2024-06-22 19:00:00    2.0  2024-06-22\n",
       "11 2024-06-23 00:00:00    NaN         NaN\n",
       "12 2024-06-23 01:00:00    1.0  2024-06-23\n",
       "13 2024-06-24 00:00:00    NaN         NaN"
      ]
     },
     "metadata": {},
     "output_type": "display_data"
    }
   ],
   "source": [
    "#create midnight support points\n",
    "supports = dates\n",
    "combined_df = pd.concat([df, pd.DataFrame({'datetime': supports})]).sort_values(by='datetime').reset_index(drop=True)\n",
    "display(combined_df)"
   ]
  },
  {
   "cell_type": "markdown",
   "metadata": {},
   "source": [
    "Combine and forward fill values"
   ]
  },
  {
   "cell_type": "code",
   "execution_count": 5,
   "metadata": {},
   "outputs": [
    {
     "data": {
      "image/png": "[encoded data removed]",
      "text/plain": [
       "<Figure size 800x100 with 1 Axes>"
      ]
     },
     "metadata": {},
     "output_type": "display_data"
    }
   ],
   "source": [
    "# Combine and forward-fill \n",
    "combined_df = pd.concat([df, pd.DataFrame({'datetime': supports})]).sort_values(by='datetime').reset_index(drop=True)\n",
    "combined_df['basal'] = combined_df.basal.ffill()\n",
    "combined_df['date'] = combined_df.datetime.dt.date\n",
    "\n",
    "#draw\n",
    "plt.figure(figsize=(8,1))\n",
    "plt.stem(combined_df['datetime'],combined_df['basal'],basefmt=' ',markerfmt=' ',linefmt='r-')\n",
    "plt.stairs(combined_df['basal'].values[:-1], combined_df['datetime'],color='blue')\n",
    "for date in dates:\n",
    "    plt.axvline(date, color='black', linestyle='--', lw=2)"
   ]
  },
  {
   "cell_type": "markdown",
   "metadata": {},
   "source": [
    "We now see that this method would assume the previous basal rate, even if there are no datapoints for a whole day. We don't want to do this because it is unlikely that there are no basal rates reported. Instead, basal rates were probably disabled. \n",
    "\n",
    "Instead, we only want to forward fill if the previous basal rate is within 2 hours."
   ]
  },
  {
   "cell_type": "code",
   "execution_count": 6,
   "metadata": {},
   "outputs": [
    {
     "data": {
      "image/png": "[encoded data removed]",
      "text/plain": [
       "<Figure size 800x100 with 1 Axes>"
      ]
     },
     "metadata": {},
     "output_type": "display_data"
    }
   ],
   "source": [
    "\n",
    "def durations_since_previous_valid_value(dates, values):\n",
    "    \"\"\"\n",
    "    Calculate the durations between each date and the previous date with a valid value (non NaN).\n",
    "\n",
    "    Parameters:\n",
    "    dates (list): A list of dates.\n",
    "    values (list): A list of values.\n",
    "\n",
    "    Returns:\n",
    "    list: A list of durations between each date and the previous valid date. NaN if there is no previous valid date.\n",
    "    \"\"\"\n",
    "    last_valid_date = None\n",
    "    durations = []\n",
    "    for (date, value) in zip(dates, values):\n",
    "        duration = np.NaN\n",
    "        if last_valid_date is not None:\n",
    "            duration = date - last_valid_date\n",
    "        if not np.isnan(value):\n",
    "            last_valid_date = date\n",
    "        durations.append(duration)\n",
    "    return durations\n",
    "\n",
    "def combine_and_forward_fill(datetimes, basals, gap=float('inf')):\n",
    "    df = pd.DataFrame({'datetime':datetimes, 'basal':basals})\n",
    "    #add support points around midnight\n",
    "    start_date = df.datetime.min().date()\n",
    "    end_date = df.datetime.max().date()\n",
    "    dates = pd.date_range(start_date, end_date+pd.Timedelta(days=1), freq='D')\n",
    "    supports = (dates-timedelta(microseconds=1)).append(dates+timedelta(microseconds=1))\n",
    "    combined_df = pd.concat([df, pd.DataFrame({'datetime': supports})]).sort_values(by='datetime').reset_index(drop=True)\n",
    "    \n",
    "    #forward fill, but only if duration between basal values is smaller than the threshold\n",
    "    durations = durations_since_previous_valid_value(combined_df['datetime'], combined_df['basal'])    \n",
    "    bSignificantGap = [True if pd.notna(duration) and duration >= gap else False for duration in np.array(durations)]\n",
    "    combined_df['basal'] = combined_df['basal'].where(bSignificantGap, combined_df['basal'].ffill())\n",
    "    return combined_df\n",
    "\n",
    "import matplotlib.pyplot as plt\n",
    "import matplotlib.dates as mdates\n",
    "\n",
    "def plot_basal_rates(datetimes, basals, by_date=True):\n",
    "    df= pd.DataFrame({'datetime':datetimes, 'basal': basals})\n",
    "    df['date'] = df.datetime.dt.date\n",
    "\n",
    "    plt.figure(figsize=(8,1))\n",
    "    if by_date:\n",
    "        for date, dateFrame in df.dropna(subset=['basal']).groupby('date'):\n",
    "            plt.stem(dateFrame['datetime'], dateFrame['basal'], basefmt=' ', markerfmt=' ', linefmt='r-')\n",
    "            plt.stairs(dateFrame['basal'].values[:-1], dateFrame['datetime'], color='blue')\n",
    "    else:\n",
    "        plt.stem(df['datetime'], df['basal'], basefmt=' ', markerfmt=' ', linefmt='r-')\n",
    "        plt.stairs(df['basal'].values[:-1], df['datetime'], color='blue')\n",
    "    \n",
    "    plt.vlines(df['date'].values, 0,5, color='black', linestyle='--', lw=0.5)\n",
    "\n",
    "    # Format x-axis tick labels\n",
    "    date_fmt = mdates.DateFormatter('%d.%m %H:%M')\n",
    "    plt.gca().xaxis.set_major_formatter(date_fmt)\n",
    "    plt.xticks(rotation=45, fontsize='x-small')\n",
    "    plt.xticks(df.datetime)\n",
    "\n",
    "combined = combine_and_forward_fill(df.datetime, df.basal, gap=timedelta(hours=8))\n",
    "combined\n",
    "plot_basal_rates(combined.datetime, combined.basal)\n"
   ]
  },
  {
   "cell_type": "code",
   "execution_count": 7,
   "metadata": {},
   "outputs": [
    {
     "data": {
      "text/plain": [
       "datetime\n",
       "2024-06-20    27.0\n",
       "2024-06-22    27.0\n",
       "2024-06-23     0.0\n",
       "dtype: float64"
      ]
     },
     "execution_count": 7,
     "metadata": {},
     "output_type": "execute_result"
    }
   ],
   "source": [
    "def integrate_basal(group):\n",
    "    return np.trapz(group['basal'], (group.datetime-group.datetime.min()).dt.total_seconds()/3600)\n",
    "\n",
    "#df['hour_since_start'] = df.groupby(df['datetime'].dt.date).datetime.apply(lambda x: x-x.min()).dt.total_seconds()/3600\n",
    "groups = df.groupby(df['datetime'].dt.date)\n",
    "integrals = groups.apply(integrate_basal)\n",
    "integrals"
   ]
  }
 ],
 "metadata": {
  "kernelspec": {
   "display_name": "nudgebg",
   "language": "python",
   "name": "python3"
  },
  "language_info": {
   "codemirror_mode": {
    "name": "ipython",
    "version": 3
   },
   "file_extension": ".py",
   "mimetype": "text/x-python",
   "name": "python",
   "nbconvert_exporter": "python",
   "pygments_lexer": "ipython3",
   "version": "3.9.6"
  }
 },
 "nbformat": 4,
 "nbformat_minor": 2
}
