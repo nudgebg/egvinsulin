{
 "cells": [
  {
   "cell_type": "markdown",
   "id": "5bd4efcc-9f0e-429e-b773-ac31d2d024ed",
   "metadata": {},
   "source": [
    "## Understanding IOBP2 Dataset\n",
    "This notebook tries provides details on the structure of the IOBP2 dataset and makes suggestions how to process the data."
   ]
  },
  {
   "cell_type": "markdown",
   "id": "4d666169-1254-44f4-a8ad-8097c9138e3d",
   "metadata": {},
   "source": [
    "## The IOBP2 study\n",
    "\n",
    "**Title**: The Insulin-Only Bionic Pancreas Pivotal Trial: Testing the iLet in Adults and Children with Type 1 Diabetes\n",
    "\n",
    "\n",
    "**Description**: This multi-center randomized control trial (RCT) will compare efficacy and safety endpoints using the insulin-only configuration of the iLet Bionic Pancreas (BP) System versus a control group using CGM during a 13-week study period.\n",
    "    \n",
    "**Devices**: iLet and Dexcom G6 system\n",
    "\n",
    "**Study Population**: People with T1D ages 6+"
   ]
  },
  {
   "cell_type": "markdown",
   "id": "594479e3-2114-4967-b764-edfe34e891ea",
   "metadata": {},
   "source": [
    "# Data\n",
    "The study data folder is named **IOBP2 RCT Public Dataset**\n",
    "\n",
    "From the DataGlossary.rtf file, the following relevant files were identified which are stored in the **Data Tables** subfolder.\n",
    "\n",
    "* **IOBP2DeviceiLet.txt**: All events logged on pump including CGM and insulin delivery \n",
    "* **PtRoster.txt**: Patient Roster\n",
    "\n",
    "These are csv files (\"|\" separator) and host many columns related to the Tandem pump events and the Dexcom cgm. The glossary provides information about each column. Each file contains a limited amount of columns compared to the FLAIR data. Below are **all** of the columns contained in each file\n",
    "\n",
    "## IOBP2DeviceiLet\n",
    "* **PtID**: Patient ID\n",
    "* **DeviceDtTm**: Local date and time on the device\n",
    "* **CGMVal**: CGM glucose value\n",
    "* **BGTarget**: Current target glucose level in mg/dl\n",
    "* **InsDelivPrev**: Delivered insulin dose (U) of the prior executed step\n",
    "\n",
    "## Questions\n"
   ]
  },
  {
   "cell_type": "code",
   "execution_count": 2,
   "id": "077ea435-e038-4a3b-ac65-30226fc10123",
   "metadata": {},
   "outputs": [],
   "source": [
    "import os, sys, time, random\n",
    "import pandas as pd\n",
    "from datetime import datetime, timedelta\n",
    "import numpy as np\n",
    "from matplotlib import pyplot as plt"
   ]
  },
  {
   "cell_type": "code",
   "execution_count": 3,
   "id": "2e0e1af2-cd6d-4f07-bc30-f7dcdc5aa50b",
   "metadata": {},
   "outputs": [],
   "source": [
    "#get the file path\n",
    "current_dir = os.getcwd(); \n",
    "original_data_path = os.path.join(current_dir, '..', 'data/raw')\n",
    "cleaned_data_path = os.path.join(current_dir,  '..', 'data/cleaned')\n",
    "path = os.path.join(original_data_path, 'IOBP2 RCT Public Dataset', 'Data Tables', 'IOBP2DeviceiLet.txt')"
   ]
  },
  {
   "cell_type": "code",
   "execution_count": 11,
   "id": "09f878dc-3182-43be-926f-a25998385f40",
   "metadata": {},
   "outputs": [],
   "source": [
    "df_all_events = pd.read_csv(path, sep=\"|\", low_memory=False,\n",
    "                           usecols=['PtID', 'DeviceDtTm', 'CGMVal', 'BGTarget', 'InsDelivPrev', 'BasalDelivPrev',\n",
    "                                    'BolusDelivPrev'])"
   ]
  },
  {
   "cell_type": "markdown",
   "id": "2568c888-0b2c-4a5e-bc95-41516c966d3e",
   "metadata": {},
   "source": [
    "## Check for DateTimes without Time part"
   ]
  },
  {
   "cell_type": "code",
   "execution_count": 12,
   "id": "4393a45f-d611-456b-886e-d3f2ec9259eb",
   "metadata": {},
   "outputs": [
    {
     "name": "stdout",
     "output_type": "stream",
     "text": [
      "Datetimes without time:  147\n"
     ]
    }
   ],
   "source": [
    "print('Datetimes without time: ', len(df_all_events[df_all_events['DeviceDtTm'].str.len() <= 10]))"
   ]
  },
  {
   "cell_type": "markdown",
   "id": "50a05584-5f6e-4b3d-8307-6a08f9b49739",
   "metadata": {},
   "source": [
    "## inspecting the event counts"
   ]
  },
  {
   "cell_type": "code",
   "execution_count": 15,
   "id": "982d4bb7-0606-4a01-bf1e-a8de9af3168b",
   "metadata": {},
   "outputs": [
    {
     "data": {
      "text/html": [
       "<div>\n",
       "<style scoped>\n",
       "    .dataframe tbody tr th:only-of-type {\n",
       "        vertical-align: middle;\n",
       "    }\n",
       "\n",
       "    .dataframe tbody tr th {\n",
       "        vertical-align: top;\n",
       "    }\n",
       "\n",
       "    .dataframe thead th {\n",
       "        text-align: right;\n",
       "    }\n",
       "</style>\n",
       "<table border=\"1\" class=\"dataframe\">\n",
       "  <thead>\n",
       "    <tr style=\"text-align: right;\">\n",
       "      <th></th>\n",
       "      <th>PtID</th>\n",
       "      <th>DeviceDtTm</th>\n",
       "      <th>CGMVal</th>\n",
       "      <th>BGTarget</th>\n",
       "      <th>InsDelivPrev</th>\n",
       "      <th>BasalDelivPrev</th>\n",
       "      <th>BolusDelivPrev</th>\n",
       "    </tr>\n",
       "  </thead>\n",
       "  <tbody>\n",
       "    <tr>\n",
       "      <th>0</th>\n",
       "      <td>183</td>\n",
       "      <td>8/14/2020 12:01:23 AM</td>\n",
       "      <td>91.0</td>\n",
       "      <td>120</td>\n",
       "      <td>0.0</td>\n",
       "      <td>0.0</td>\n",
       "      <td>0.0</td>\n",
       "    </tr>\n",
       "    <tr>\n",
       "      <th>1</th>\n",
       "      <td>183</td>\n",
       "      <td>8/14/2020 12:06:23 AM</td>\n",
       "      <td>102.0</td>\n",
       "      <td>120</td>\n",
       "      <td>0.0</td>\n",
       "      <td>0.0</td>\n",
       "      <td>0.0</td>\n",
       "    </tr>\n",
       "    <tr>\n",
       "      <th>2</th>\n",
       "      <td>183</td>\n",
       "      <td>8/14/2020 12:11:23 AM</td>\n",
       "      <td>105.0</td>\n",
       "      <td>120</td>\n",
       "      <td>0.0</td>\n",
       "      <td>0.0</td>\n",
       "      <td>0.0</td>\n",
       "    </tr>\n",
       "    <tr>\n",
       "      <th>3</th>\n",
       "      <td>183</td>\n",
       "      <td>8/14/2020 12:16:23 AM</td>\n",
       "      <td>103.0</td>\n",
       "      <td>120</td>\n",
       "      <td>0.0</td>\n",
       "      <td>0.0</td>\n",
       "      <td>0.0</td>\n",
       "    </tr>\n",
       "    <tr>\n",
       "      <th>4</th>\n",
       "      <td>183</td>\n",
       "      <td>8/14/2020 12:21:23 AM</td>\n",
       "      <td>98.0</td>\n",
       "      <td>120</td>\n",
       "      <td>0.0</td>\n",
       "      <td>0.0</td>\n",
       "      <td>0.0</td>\n",
       "    </tr>\n",
       "  </tbody>\n",
       "</table>\n",
       "</div>"
      ],
      "text/plain": [
       "   PtID             DeviceDtTm  CGMVal  BGTarget  InsDelivPrev  \\\n",
       "0   183  8/14/2020 12:01:23 AM    91.0       120           0.0   \n",
       "1   183  8/14/2020 12:06:23 AM   102.0       120           0.0   \n",
       "2   183  8/14/2020 12:11:23 AM   105.0       120           0.0   \n",
       "3   183  8/14/2020 12:16:23 AM   103.0       120           0.0   \n",
       "4   183  8/14/2020 12:21:23 AM    98.0       120           0.0   \n",
       "\n",
       "   BasalDelivPrev  BolusDelivPrev  \n",
       "0             0.0             0.0  \n",
       "1             0.0             0.0  \n",
       "2             0.0             0.0  \n",
       "3             0.0             0.0  \n",
       "4             0.0             0.0  "
      ]
     },
     "execution_count": 15,
     "metadata": {},
     "output_type": "execute_result"
    }
   ],
   "source": [
    "df_all_events.head()"
   ]
  },
  {
   "cell_type": "code",
   "execution_count": null,
   "id": "b4c14507-577a-4c7c-b555-119555d95af2",
   "metadata": {},
   "outputs": [],
   "source": []
  }
 ],
 "metadata": {
  "kernelspec": {
   "display_name": "Python 3 (ipykernel)",
   "language": "python",
   "name": "python3"
  },
  "language_info": {
   "codemirror_mode": {
    "name": "ipython",
    "version": 3
   },
   "file_extension": ".py",
   "mimetype": "text/x-python",
   "name": "python",
   "nbconvert_exporter": "python",
   "pygments_lexer": "ipython3",
   "version": "3.11.8"
  }
 },
 "nbformat": 4,
 "nbformat_minor": 5
}
