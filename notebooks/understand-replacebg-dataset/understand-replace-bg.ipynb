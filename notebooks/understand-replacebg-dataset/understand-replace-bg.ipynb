{
 "cells": [
  {
   "cell_type": "markdown",
   "metadata": {},
   "source": [
    "## Replace BG Study"
   ]
  },
  {
   "cell_type": "markdown",
   "metadata": {},
   "source": [
    "## Data"
   ]
  },
  {
   "cell_type": "markdown",
   "metadata": {},
   "source": [
    "### Files & Relvant Columns"
   ]
  },
  {
   "cell_type": "markdown",
   "metadata": {},
   "source": [
    "#### Files\n",
    "\n",
    "The study data folder is named **Loop study public dataset 2023-01-31**\n",
    "\n",
    "From the ReadMe.rtf file, the following relevant files were identified which are stored in the **Data Tables** subfolder.\n",
    "\n",
    "| File Name| Description| Note|\n",
    "|------|-----|-----|\n",
    "| HDeviceCGM,.txt| One record per CGM reading | Similar to what we've seen in Loop (Tidepool structure) |\n",
    "| HDeviceBasal.txt| | Not included in the JAEB file anymore. Similar to what we've seen in Loop (Tidepool structure)|\n",
    "| HDeviceBolus.txt| One record per bolus reading from a pump | Similar to what we've seen in Loop (Tidepool structure)|\n",
    "| HPtRoster.txt|One record per Protocol H PtID obtained |  |"
   ]
  },
  {
   "cell_type": "markdown",
   "metadata": {},
   "source": [
    "#### Relevant Columns:\n",
    "The following lists all relevant columns. Other columns were considered irrelevant. Some are still mentioned if they serve the discussion but crossed through.\n",
    "\n",
    "#### HDeviceCGM.txt\n",
    "| Field_Name | Description (Glossary) | Notes |\n",
    "|----|----|-|\n",
    "| DeviceDtTmDaysFromEnroll | Device date number of days from enrollment| convert to timedelta (unit='days'), add to DeviceTm and arbitrary study start date|\n",
    "| DeviceTm |Device time | convert to timedelta (H::M:S)|\n",
    "|DexInternalDtTmDaysFromEnroll|Internal date number of days from enrollment| Seems to be Dexcom time, Not missing as in Loop, let's check if needed.|\n",
    "|DexInternalTm|Internal time|Seems to be Dexcom time, Not missing as in Loop, let's check if needed.|\n",
    "| RecordType| Type of data (CGM, Calibration, etc)| Needed to drop calibrations|\n",
    "| GlucoseValue| Glucose value (units: mg/dL)| |\n",
    "\n",
    "#### HDeviceBolus.txt\n",
    "| Field_Name| Description (Glossary) | Notes |\n",
    "|-|-|-|\n",
    "| DeviceDtTmDaysFromEnroll | Device date number of days from enrollment| convert to timedelta (unit='days'), add to DeviceTm and arbitrary study start date|\n",
    "| DeviceTm |Device time | convert to timedelta (H::M:S)|\n",
    "| BolusType| Subtype of data (ex: \"Normal\" and \"Square\" are subtypes of \"Bolus\" type)||\n",
    "| Normal | Number of units of normal bolus |Likely the only relevant value.|\n",
    "| Extended | Number of units for extended delivery | We found that there are 0.4% extended boluses, probably triggered from the pump directly since Loop does not support these.|\n",
    "| Duration | Time span over which the bolus was delivered (milliseconds for Tidepool data, minutes for Diasend data) | Our analysis shows that Duration refers to the Extended part of a Bolus. However, unclear how to find out wether in ms or minutes. JAEB couldn't answer.|\n",
    "\n",
    "#### HDeviceBasal.txt\n",
    "Note: File not included in the JAEB file anymore!\n",
    "\n",
    "| Field_Name | Description (Glossary) |  Notes|\n",
    "|--|---|--|\n",
    "| PtID |  Participant ID | |\n",
    "| DeviceDtTmDaysFromEnroll | Device date number of days from enrollment| convert to timedelta (unit='days'), add to DeviceTm and arbitrary study start date|\n",
    "| DeviceTm |Device time | convert to timedelta (H::M:S)|\n",
    "| BasalType| Basal delivery type|used to find suspends|\n",
    "| Duration | Actual number of milliseconds basal will be in effect| Used as duration|\n",
    "| Rate | Number of units per hour |We use this as actual delivery rate|\n",
    "\n",
    "Note: As in the Loop study dataset, we assume that the Bolus columns: ExpectedNormal, ExpectedDuration, ExpectedExtended (Bolus) and the Basal columns: ExpectedDuration, Percent, SuprBasalType, SuprDuration, SuprRate can be ignored as they don't represent the actual deliveries but amounts that were suppressed. However, we will use them to investigate duplicates."
   ]
  },
  {
   "cell_type": "markdown",
   "metadata": {},
   "source": [
    "#### Summary\n",
    "The tables mostly follow the Tidepool structure \n",
    "Differences:\n",
    "- Timestamps are given relative to enrollment start\n",
    "- Insulin and InsValue columns exist, however always empty\n",
    "- CGM values in mgdl not mmol\n",
    "- Dexcom times seem to be present in all rows\n",
    "- No timezone offsets are present, probably all in local time\n",
    "\n",
    "#TODO:\n",
    " 1. Check if Dexcom times exist and if they are needed\n",
    " 2. Check if duration is in milliseconds (Bolus)"
   ]
  },
  {
   "cell_type": "code",
   "execution_count": 1,
   "metadata": {},
   "outputs": [],
   "source": [
    "import os, sys\n",
    "from datetime import datetime, timedelta, timezone\n",
    "import time\n",
    "import numpy as np\n",
    "import pandas as pd\n",
    "from dask import dataframe as dd\n",
    "import matplotlib\n",
    "\n",
    "%matplotlib inline\n",
    "import matplotlib.pyplot as plt\n",
    "\n",
    "sys.path.append(os.path.join(os.getcwd(),'..','..'))\n",
    "from src import pandas_helper, cdf, tdd, drawing\n",
    "import importlib\n",
    "\n",
    "def save_figure(name):\n",
    "   path = os.path.join(os.getcwd(), '..','..','docs','data_sets','assets',f'replacebg_{name}.png')\n",
    "   plt.savefig(path)"
   ]
  },
  {
   "cell_type": "markdown",
   "metadata": {},
   "source": [
    "## Load data"
   ]
  },
  {
   "cell_type": "code",
   "execution_count": 2,
   "metadata": {},
   "outputs": [],
   "source": [
    "#define path variables\n",
    "study_name = 'REPLACE-BG Dataset-79f6bdc8-3c51-4736-a39f-c4c0f71d45e5'\n",
    "raw_path = os.path.join(os.getcwd(), '..', '..', 'data', 'raw')\n",
    "out_path = os.path.join(os.getcwd(), '..', '..', 'data', 'out')\n",
    "study_path = os.path.join(raw_path, study_name)\n",
    "df_basal = pd.read_csv(os.path.join(study_path, 'Data Tables', 'HDeviceBasal.txt'), sep='|')\n",
    "df_bolus = pd.read_csv(os.path.join(study_path, 'Data Tables', 'HDeviceBolus.txt'), sep='|')\n",
    "df_patient = pd.read_csv(os.path.join(study_path, 'Data Tables', 'HPtRoster.txt'), sep='|')\n",
    "df_uploads = pd.read_csv(os.path.join(study_path, 'Data Tables', 'HDeviceUploads.txt'), sep='|')\n",
    "df_cgm = pd.read_csv(os.path.join(study_path, 'Data Tables', 'HDeviceCGM.txt'), sep='|')"
   ]
  },
  {
   "cell_type": "markdown",
   "metadata": {},
   "source": [
    "### Look at Days of Data"
   ]
  },
  {
   "cell_type": "code",
   "execution_count": 3,
   "metadata": {},
   "outputs": [
    {
     "data": {
      "image/png": "[encoded data removed]",
      "text/plain": [
       "<Figure size 800x200 with 1 Axes>"
      ]
     },
     "metadata": {},
     "output_type": "display_data"
    }
   ],
   "source": [
    "plt.figure(figsize=(8,2)); ax=plt.gca()\n",
    "cdf.plot_cdf(df_basal.DeviceDtTmDaysFromEnroll,ax=ax,color=drawing.colors['Basal'],label='Basal')\n",
    "cdf.plot_cdf(df_bolus.DeviceDtTmDaysFromEnroll,ax=ax,color=drawing.colors['Bolus'],label='Bolus')\n",
    "cdf.plot_cdf(df_cgm.DeviceDtTmDaysFromEnroll,ax=ax,color=drawing.colors['CGM'],label='CGM')\n",
    "ax.legend()\n",
    "plt.title('Days since Enroll')\n",
    "save_figure('DeviceDtTmDaysFromEnroll')"
   ]
  },
  {
   "cell_type": "markdown",
   "metadata": {},
   "source": [
    "### add data source information"
   ]
  },
  {
   "cell_type": "code",
   "execution_count": 4,
   "metadata": {},
   "outputs": [],
   "source": [
    "\n",
    "#bolus\n",
    "temp = df_uploads.rename(columns={'PtId':'PtID','RecID':'ParentHDeviceUploadsID'})\n",
    "df_bolus = pd.merge(df_bolus, temp[['PtID','ParentHDeviceUploadsID','DataSource']],\n",
    "         on=['PtID','ParentHDeviceUploadsID'],how='inner')\n",
    "\n",
    "#basal\n",
    "temp = df_uploads.rename(columns={'PtId':'PtID','RecID':'ParentHDeviceUploadsID'})\n",
    "df_basal = pd.merge(df_basal, temp[['PtID','ParentHDeviceUploadsID','DataSource']],\n",
    "         on=['PtID','ParentHDeviceUploadsID'],how='inner')"
   ]
  },
  {
   "cell_type": "markdown",
   "metadata": {},
   "source": [
    "### Convert Datetimes"
   ]
  },
  {
   "cell_type": "code",
   "execution_count": 5,
   "metadata": {},
   "outputs": [],
   "source": [
    "#convert datetimes and durations\n",
    "enrollment_start = datetime(2025,1,1)\n",
    "df_basal['datetime'] = enrollment_start+pd.to_timedelta(df_basal['DeviceDtTmDaysFromEnroll'],unit='D')+pd.to_timedelta(df_basal['DeviceTm'])\n",
    "df_bolus['datetime'] = enrollment_start+pd.to_timedelta(df_bolus['DeviceDtTmDaysFromEnroll'],unit='D')+pd.to_timedelta(df_bolus['DeviceTm'])\n",
    "df_cgm['datetime'] = enrollment_start+pd.to_timedelta(df_cgm['DeviceDtTmDaysFromEnroll'],unit='D')+pd.to_timedelta(df_cgm['DeviceTm'])\n",
    "\n",
    "df_basal['hour_of_day'] = df_basal.datetime.dt.hour\n",
    "df_bolus['hour_of_day'] = df_bolus.datetime.dt.hour\n",
    "df_cgm['hour_of_day'] = df_cgm.datetime.dt.hour\n",
    "\n",
    "df_bolus['day'] = df_bolus.datetime.dt.date\n",
    "df_basal['day'] = df_basal.datetime.dt.date\n",
    "df_cgm['day'] = df_cgm.datetime.dt.date\n",
    "\n",
    "\n",
    "#drop DeviceDtTmDaysFromEnroll and DeviceTm\n",
    "df_basal.drop(columns=['DeviceDtTmDaysFromEnroll', 'DeviceTm'], inplace=True)\n",
    "df_bolus.drop(columns=['DeviceDtTmDaysFromEnroll', 'DeviceTm'], inplace=True)\n",
    "df_cgm.drop(columns=['DeviceDtTmDaysFromEnroll', 'DeviceTm'], inplace=True)"
   ]
  },
  {
   "cell_type": "markdown",
   "metadata": {},
   "source": [
    "### Analyze Diasend Durations\n",
    "From the glossary we know that diasend durations are given in minutes instead of ms as in Tidepool"
   ]
  },
  {
   "cell_type": "code",
   "execution_count": 6,
   "metadata": {},
   "outputs": [
    {
     "data": {
      "text/plain": [
       "'Bolus:'"
      ]
     },
     "metadata": {},
     "output_type": "display_data"
    },
    {
     "data": {
      "text/plain": [
       "DataSource\n",
       "Tidepool    402666\n",
       "Diasend      13933\n",
       "Name: count, dtype: int64"
      ]
     },
     "metadata": {},
     "output_type": "display_data"
    },
    {
     "data": {
      "text/plain": [
       "'Basal:'"
      ]
     },
     "metadata": {},
     "output_type": "display_data"
    },
    {
     "data": {
      "text/plain": [
       "DataSource\n",
       "Tidepool    504017\n",
       "Name: count, dtype: int64"
      ]
     },
     "metadata": {},
     "output_type": "display_data"
    }
   ],
   "source": [
    "display(\"Bolus:\")\n",
    "display(df_bolus.DataSource.value_counts())\n",
    "\n",
    "display(\"Basal:\")\n",
    "display(df_basal.DataSource.value_counts())"
   ]
  },
  {
   "cell_type": "markdown",
   "metadata": {},
   "source": [
    "Only boluses are affected. Let's check how many extended parts are affected and if the duraitons are really in minutes."
   ]
  },
  {
   "cell_type": "code",
   "execution_count": 7,
   "metadata": {},
   "outputs": [
    {
     "data": {
      "text/plain": [
       "BolusType\n",
       "Normal         12873\n",
       "Combination     1060\n",
       "Name: count, dtype: int64"
      ]
     },
     "metadata": {},
     "output_type": "display_data"
    },
    {
     "data": {
      "text/plain": [
       "'Extended'"
      ]
     },
     "metadata": {},
     "output_type": "display_data"
    },
    {
     "data": {
      "text/html": [
       "<div>\n",
       "<style scoped>\n",
       "    .dataframe tbody tr th:only-of-type {\n",
       "        vertical-align: middle;\n",
       "    }\n",
       "\n",
       "    .dataframe tbody tr th {\n",
       "        vertical-align: top;\n",
       "    }\n",
       "\n",
       "    .dataframe thead th {\n",
       "        text-align: right;\n",
       "    }\n",
       "</style>\n",
       "<table border=\"1\" class=\"dataframe\">\n",
       "  <thead>\n",
       "    <tr style=\"text-align: right;\">\n",
       "      <th></th>\n",
       "      <th>BolusType</th>\n",
       "      <th>NaN Count</th>\n",
       "      <th>Non-NaN Count</th>\n",
       "      <th>Zero Count</th>\n",
       "    </tr>\n",
       "  </thead>\n",
       "  <tbody>\n",
       "    <tr>\n",
       "      <th>0</th>\n",
       "      <td>Combination</td>\n",
       "      <td>1056</td>\n",
       "      <td>4</td>\n",
       "      <td>0</td>\n",
       "    </tr>\n",
       "    <tr>\n",
       "      <th>1</th>\n",
       "      <td>Normal</td>\n",
       "      <td>12873</td>\n",
       "      <td>0</td>\n",
       "      <td>0</td>\n",
       "    </tr>\n",
       "  </tbody>\n",
       "</table>\n",
       "</div>"
      ],
      "text/plain": [
       "     BolusType  NaN Count  Non-NaN Count  Zero Count\n",
       "0  Combination       1056              4           0\n",
       "1       Normal      12873              0           0"
      ]
     },
     "metadata": {},
     "output_type": "display_data"
    },
    {
     "data": {
      "text/plain": [
       "BolusType\n",
       "Combination    1060\n",
       "Name: count, dtype: int64"
      ]
     },
     "metadata": {},
     "output_type": "display_data"
    },
    {
     "data": {
      "image/png": "[encoded data removed]",
      "text/plain": [
       "<Figure size 800x200 with 1 Axes>"
      ]
     },
     "metadata": {},
     "output_type": "display_data"
    }
   ],
   "source": [
    "#Diasend Bolus Types\n",
    "df_diasend = df_bolus.loc[df_bolus.DataSource=='Diasend']\n",
    "display(df_diasend.BolusType.value_counts())\n",
    "\n",
    "#display nan and null counts for extended boluses\n",
    "display('Extended')\n",
    "display(pandas_helper.grouped_value_counts(df_diasend,['BolusType'],'Extended'))\n",
    "\n",
    "#display diasend durations\n",
    "display(df_diasend.dropna(subset='Duration').BolusType.value_counts())\n",
    "cdf.plot_cdf(df_diasend.Duration, title='Bolus Durations <5000')"
   ]
  },
  {
   "cell_type": "markdown",
   "metadata": {},
   "source": [
    "### Summary Diasend\n",
    " - There are no Diasend Basals\n",
    " - all diasend boluses are 'Combination boluses' or Normal Boluses\n",
    " - all Combination boluses have a duration (**in minutes**)\n",
    " - But only 4 out of 1060 have an extended aprt\n",
    "\n",
    "Given that some of them have an extended part it seems more logical that the extended part is missing for the others.\n",
    "\n",
    "Therefore we treat Diasend imports as follows:\n",
    "1. Adjust from minutes to milliseconds\n",
    "2. Set Duration to 0 when extended part is missing\n"
   ]
  },
  {
   "cell_type": "markdown",
   "metadata": {},
   "source": [
    "### Convert Durations (ms to timedeltas)"
   ]
  },
  {
   "cell_type": "code",
   "execution_count": 8,
   "metadata": {},
   "outputs": [
    {
     "data": {
      "image/png": "[encoded data removed]",
      "text/plain": [
       "<Figure size 800x200 with 1 Axes>"
      ]
     },
     "metadata": {},
     "output_type": "display_data"
    },
    {
     "data": {
      "image/png": "[encoded data removed]",
      "text/plain": [
       "<Figure size 800x200 with 1 Axes>"
      ]
     },
     "metadata": {},
     "output_type": "display_data"
    }
   ],
   "source": [
    "#adjust diasend \n",
    " \n",
    "#convert diasend from minute to ms\n",
    "df_bolus.loc[df_bolus.DataSource=='Diasend','Duration'] *= 60*1000\n",
    "cdf.plot_cdf(df_bolus.loc[df_bolus.DataSource=='Diasend','Duration'], title='Durations converted')\n",
    "\n",
    "#Treat diasend boluses without extended aprt as normal boluses (set duration to nan)\n",
    "df_bolus.loc[(df_bolus.DataSource=='Diasend') & df_bolus.Extended.isna() & df_bolus.Duration.notna(),['Duration']] = np.nan\n",
    "cdf.plot_cdf(df_bolus.loc[df_bolus.DataSource=='Diasend','Duration'], title='Durations converted')\n"
   ]
  },
  {
   "cell_type": "code",
   "execution_count": 9,
   "metadata": {},
   "outputs": [],
   "source": [
    "#convert duraitons to timedeltas\n",
    "df_basal['Duration'] = pd.to_timedelta(df_basal['Duration'],unit='ms')\n",
    "df_basal['ExpectedDuration'] = pd.to_timedelta(df_basal['ExpectedDuration'],unit='ms')\n",
    "df_basal['SuprDuration'] = pd.to_timedelta(df_basal['SuprDuration'],unit='ms')\n",
    "df_bolus['Duration'] = pd.to_timedelta(df_bolus['Duration'],unit='ms')\n",
    "df_bolus['ExpectedDuration'] = pd.to_timedelta(df_bolus['ExpectedDuration'],unit='ms')\n"
   ]
  },
  {
   "cell_type": "markdown",
   "metadata": {},
   "source": [
    "### Drop Calibrations & Sort"
   ]
  },
  {
   "cell_type": "code",
   "execution_count": 10,
   "metadata": {},
   "outputs": [],
   "source": [
    "## drop calibrations\n",
    "df_cgm = df_cgm.loc[df_cgm.RecordType == 'CGM']"
   ]
  },
  {
   "cell_type": "code",
   "execution_count": 11,
   "metadata": {},
   "outputs": [],
   "source": [
    "## sort\n",
    "df_basal.sort_values(by=['PtID','datetime'], inplace=True)\n",
    "df_bolus.sort_values(by=['PtID','datetime'], inplace=True)\n",
    "df_cgm.sort_values(by=['PtID','datetime'], inplace=True)"
   ]
  },
  {
   "cell_type": "markdown",
   "metadata": {},
   "source": [
    "## Missing Data\n",
    "Check for Null Values"
   ]
  },
  {
   "cell_type": "code",
   "execution_count": 12,
   "metadata": {},
   "outputs": [
    {
     "data": {
      "text/plain": [
       "'Bolus:'"
      ]
     },
     "metadata": {},
     "output_type": "display_data"
    },
    {
     "data": {
      "text/plain": [
       "RecID                     100.000000\n",
       "ParentHDeviceUploadsID    100.000000\n",
       "PtID                      100.000000\n",
       "SiteID                    100.000000\n",
       "BolusType                 100.000000\n",
       "InjValue                    0.000000\n",
       "Insulin                     0.000000\n",
       "Normal                     98.769320\n",
       "ExpectedNormal              1.125063\n",
       "Extended                    5.221328\n",
       "ExpectedExtended            0.354778\n",
       "Duration                    5.221328\n",
       "ExpectedDuration            0.354778\n",
       "DataSource                100.000000\n",
       "datetime                  100.000000\n",
       "hour_of_day               100.000000\n",
       "day                       100.000000\n",
       "dtype: float64"
      ]
     },
     "metadata": {},
     "output_type": "display_data"
    },
    {
     "data": {
      "text/plain": [
       "'Basal:'"
      ]
     },
     "metadata": {},
     "output_type": "display_data"
    },
    {
     "data": {
      "text/plain": [
       "RecID                     100.000000\n",
       "ParentHDeviceUploadsID    100.000000\n",
       "PtID                      100.000000\n",
       "SiteID                    100.000000\n",
       "BasalType                 100.000000\n",
       "Duration                   99.916074\n",
       "ExpectedDuration           16.879589\n",
       "Percnt                      6.147610\n",
       "Rate                       91.929439\n",
       "SuprBasalType              12.718023\n",
       "SuprDuration               11.322436\n",
       "SuprRate                   12.710484\n",
       "DataSource                100.000000\n",
       "datetime                  100.000000\n",
       "hour_of_day               100.000000\n",
       "day                       100.000000\n",
       "dtype: float64"
      ]
     },
     "metadata": {},
     "output_type": "display_data"
    },
    {
     "data": {
      "text/plain": [
       "'CGM:'"
      ]
     },
     "metadata": {},
     "output_type": "display_data"
    },
    {
     "data": {
      "text/plain": [
       "RecID                            100.000000\n",
       "ParentHDeviceUploadsID           100.000000\n",
       "PtID                             100.000000\n",
       "SiteID                           100.000000\n",
       "DexInternalDtTmDaysFromEnroll     95.996795\n",
       "DexInternalTm                     95.996795\n",
       "RecordType                       100.000000\n",
       "GlucoseValue                     100.000000\n",
       "datetime                         100.000000\n",
       "hour_of_day                      100.000000\n",
       "day                              100.000000\n",
       "dtype: float64"
      ]
     },
     "metadata": {},
     "output_type": "display_data"
    }
   ],
   "source": [
    "#column counts  (%)\n",
    "display('Bolus:')\n",
    "display(100*df_bolus.count()/len(df_bolus))\n",
    "display('Basal:')\n",
    "display(100*df_basal.count()/len(df_basal))\n",
    "display('CGM:')\n",
    "display(100*df_cgm.count()/len(df_cgm))"
   ]
  },
  {
   "cell_type": "markdown",
   "metadata": {},
   "source": [
    "When are BasalRates 0?\n"
   ]
  },
  {
   "cell_type": "code",
   "execution_count": 13,
   "metadata": {},
   "outputs": [
    {
     "data": {
      "text/html": [
       "<div>\n",
       "<style scoped>\n",
       "    .dataframe tbody tr th:only-of-type {\n",
       "        vertical-align: middle;\n",
       "    }\n",
       "\n",
       "    .dataframe tbody tr th {\n",
       "        vertical-align: top;\n",
       "    }\n",
       "\n",
       "    .dataframe thead th {\n",
       "        text-align: right;\n",
       "    }\n",
       "</style>\n",
       "<table border=\"1\" class=\"dataframe\">\n",
       "  <thead>\n",
       "    <tr style=\"text-align: right;\">\n",
       "      <th></th>\n",
       "      <th>BasalType</th>\n",
       "      <th>NaN Count</th>\n",
       "      <th>Non-NaN Count</th>\n",
       "      <th>Zero Count</th>\n",
       "    </tr>\n",
       "  </thead>\n",
       "  <tbody>\n",
       "    <tr>\n",
       "      <th>0</th>\n",
       "      <td>scheduled</td>\n",
       "      <td>0</td>\n",
       "      <td>423696</td>\n",
       "      <td>101</td>\n",
       "    </tr>\n",
       "    <tr>\n",
       "      <th>1</th>\n",
       "      <td>suspend</td>\n",
       "      <td>40671</td>\n",
       "      <td>0</td>\n",
       "      <td>0</td>\n",
       "    </tr>\n",
       "    <tr>\n",
       "      <th>2</th>\n",
       "      <td>temp</td>\n",
       "      <td>6</td>\n",
       "      <td>39644</td>\n",
       "      <td>5868</td>\n",
       "    </tr>\n",
       "  </tbody>\n",
       "</table>\n",
       "</div>"
      ],
      "text/plain": [
       "   BasalType  NaN Count  Non-NaN Count  Zero Count\n",
       "0  scheduled          0         423696         101\n",
       "1    suspend      40671              0           0\n",
       "2       temp          6          39644        5868"
      ]
     },
     "execution_count": 13,
     "metadata": {},
     "output_type": "execute_result"
    }
   ],
   "source": [
    "importlib.reload(pandas_helper)\n",
    "pandas_helper.grouped_value_counts(df_basal, ['BasalType'],'Rate')"
   ]
  },
  {
   "cell_type": "markdown",
   "metadata": {},
   "source": [
    "NaNs in suspend events need to be replaced with zeros"
   ]
  },
  {
   "cell_type": "markdown",
   "metadata": {},
   "source": [
    "- Number of Extended and Duration don't match exactly\n",
    "- Some Dexcom times are missing."
   ]
  },
  {
   "cell_type": "markdown",
   "metadata": {},
   "source": [
    "## Duplicates"
   ]
  },
  {
   "cell_type": "markdown",
   "metadata": {},
   "source": [
    "#### Drop Actual Duplicates"
   ]
  },
  {
   "cell_type": "code",
   "execution_count": 14,
   "metadata": {},
   "outputs": [
    {
     "name": "stdout",
     "output_type": "stream",
     "text": [
      "8291 actual duplicates in bolus\n",
      "104091 actual duplicates in basal\n",
      "1840 actual duplicates in cgm\n"
     ]
    }
   ],
   "source": [
    "### duplicates (all rows)\n",
    "print(f\"{df_bolus.duplicated(subset=['PtID', 'datetime','BolusType','Normal','Extended','Duration'],keep=False).sum()} actual duplicates in bolus\")\n",
    "print(f\"{df_basal.duplicated(subset=['PtID', 'datetime','Rate','BasalType','Duration'],keep=False).sum()} actual duplicates in basal\")\n",
    "print(f\"{df_cgm.duplicated(subset=['PtID', 'datetime','RecordType','GlucoseValue'],keep=False).sum()} actual duplicates in cgm\")\n"
   ]
  },
  {
   "cell_type": "code",
   "execution_count": 15,
   "metadata": {},
   "outputs": [],
   "source": [
    "#drop these duplicates\n",
    "df_bolus = df_bolus.drop_duplicates(subset=['PtID', 'datetime','BolusType','Normal','Extended','Duration'])\n",
    "df_basal = df_basal.drop_duplicates(subset=['PtID', 'datetime','Rate','BasalType','Duration'])\n",
    "df_cgm = df_cgm.drop_duplicates(subset=['PtID', 'datetime','RecordType','GlucoseValue'])"
   ]
  },
  {
   "cell_type": "code",
   "execution_count": 16,
   "metadata": {},
   "outputs": [
    {
     "name": "stdout",
     "output_type": "stream",
     "text": [
      "1.13% temporal duplicates in basal\n",
      "0.06% temporal duplicates in bolus\n",
      "0.01% temporal duplicates in cgm\n"
     ]
    }
   ],
   "source": [
    "### duplicates (only on datetime)\n",
    "print(f\"{100*df_basal.duplicated(subset=['PtID', 'datetime'],keep=False).sum()/len(df_basal):.2f}% temporal duplicates in basal\")\n",
    "print(f\"{100*df_bolus.duplicated(subset=['PtID', 'datetime'],keep=False).sum()/len(df_bolus):.2f}% temporal duplicates in bolus\")\n",
    "print(f\"{100*df_cgm.duplicated(subset=['PtID', 'datetime'],keep=False).sum()/len(df_cgm):.2f}% temporal duplicates in cgm\")"
   ]
  },
  {
   "cell_type": "markdown",
   "metadata": {},
   "source": [
    "#### Basal Duplicates"
   ]
  },
  {
   "cell_type": "code",
   "execution_count": 17,
   "metadata": {},
   "outputs": [
    {
     "name": "stdout",
     "output_type": "stream",
     "text": [
      "5112 basal rows are datetime duplicates\n",
      "1624 basal rows are datetime and duration duplicates\n",
      "2610 basal rows are datetime and rate duplicates\n",
      "106 basal rows are datetime, duration and rate duplicates\n"
     ]
    }
   ],
   "source": [
    "#number of duplicates by combinations\n",
    "print(f\"{len(df_basal.loc[df_basal.duplicated(subset=['PtID', 'datetime'], keep=False)])} basal rows are datetime duplicates\")\n",
    "print(f\"{len(df_basal.loc[df_basal.duplicated(subset=['PtID', 'datetime','Duration'], keep=False)])} basal rows are datetime and duration duplicates\")\n",
    "print(f\"{len(df_basal.loc[df_basal.duplicated(subset=['PtID', 'datetime','Rate'], keep=False)])} basal rows are datetime and rate duplicates\")\n",
    "print(f\"{len(df_basal.loc[df_basal.duplicated(subset=['PtID', 'datetime','Duration','Rate'], keep=False)])} basal rows are datetime, duration and rate duplicates\")"
   ]
  },
  {
   "cell_type": "markdown",
   "metadata": {},
   "source": [
    "#### Inspecting Duplicates and surrounding Events"
   ]
  },
  {
   "cell_type": "code",
   "execution_count": 20,
   "metadata": {},
   "outputs": [
    {
     "data": {
      "application/vnd.jupyter.widget-view+json": {
       "model_id": "ce389636a1864cc7a346169639d0237b",
       "version_major": 2,
       "version_minor": 0
      },
      "text/plain": [
       "HBox(children=(Checkbox(value=True, description='datetime'), Checkbox(value=True, description='Duration'), Che…"
      ]
     },
     "metadata": {},
     "output_type": "display_data"
    },
    {
     "data": {
      "application/vnd.jupyter.widget-view+json": {
       "model_id": "82d48f08633d4a2b82f245df934c2bad",
       "version_major": 2,
       "version_minor": 0
      },
      "text/plain": [
       "HBox(children=(Button(description='<', style=ButtonStyle()), IntSlider(value=0, description='Index', max=1623)…"
      ]
     },
     "metadata": {},
     "output_type": "display_data"
    },
    {
     "data": {
      "application/vnd.jupyter.widget-view+json": {
       "model_id": "f7a0ee3bd55c42e9a600ec569687e292",
       "version_major": 2,
       "version_minor": 0
      },
      "text/plain": [
       "Output()"
      ]
     },
     "metadata": {},
     "output_type": "display_data"
    }
   ],
   "source": [
    "import ipywidgets as widgets\n",
    "from IPython.display import display\n",
    "import importlib\n",
    "\n",
    "importlib.reload(pandas_helper)\n",
    "\n",
    "# Define available columns for duplicates selection\n",
    "available_columns = [\n",
    "    ('datetime', True), \n",
    "    ('Duration', True), \n",
    "    ('Rate', False)\n",
    "]\n",
    "\n",
    "column_selector = widgets.HBox([\n",
    "    widgets.Checkbox(value=default, description=col) for col, default in available_columns\n",
    "])\n",
    "\n",
    "\n",
    "def get_selected_columns():\n",
    "    return [cb.description for cb in column_selector.children if cb.value]\n",
    "\n",
    "basal_temp_dups = df_basal.loc[df_basal.duplicated(subset=['PtID', 'datetime'])]\n",
    "def update_duplicates(*args):\n",
    "    global basal_temp_dups\n",
    "    selected_columns = get_selected_columns()\n",
    "    basal_temp_dups = df_basal.loc[df_basal.duplicated(subset=['PtID'] + selected_columns, keep=False)]\n",
    "    slider.max = max(len(basal_temp_dups) - 1, 0)\n",
    "    slider.value = slider.value\n",
    "\n",
    "\n",
    "# Attach update function to selection change\n",
    "for cb in column_selector.children:\n",
    "    cb.observe(update_duplicates, names='value')\n",
    "\n",
    "# Create slider\n",
    "slider = widgets.IntSlider(min=0, max=max(len(basal_temp_dups) - 1, 0), step=1, description='Index')\n",
    "\n",
    "# Initial duplicate detection\n",
    "update_duplicates()\n",
    "\n",
    "\n",
    "# Scroll through the duplicates and get the surrounding rows\n",
    "def display_surrounding_rows(i, parent_df, df):\n",
    "    if len(df) == 0:\n",
    "        print(\"No duplicates found based on selected columns.\")\n",
    "        return\n",
    "    index = df.index[i]\n",
    "    subframe = pandas_helper.extract_surrounding_rows(parent_df, index, 2, sort_by=['PtID', 'datetime'])\n",
    "    subframe['end'] = subframe['datetime'] + subframe['Duration']\n",
    "    subframe = subframe[['PtID', 'BasalType', 'RecID', 'datetime', 'Duration', 'end', 'Rate']]\n",
    "    display(subframe)\n",
    "\n",
    "\n",
    "# Create buttons\n",
    "prev_button = widgets.Button(description=\"<\")\n",
    "next_button = widgets.Button(description=\">\")\n",
    "\n",
    "\n",
    "# Button event handlers\n",
    "def on_button_clicked(b):\n",
    "    if b.description == \"<\":\n",
    "        slider.value = max(slider.value - 1, slider.min)\n",
    "    elif b.description == \">\":\n",
    "        slider.value = min(slider.value + 1, slider.max)\n",
    "\n",
    "\n",
    "# Attach event handlers\n",
    "prev_button.on_click(on_button_clicked)\n",
    "next_button.on_click(on_button_clicked)\n",
    "\n",
    "slider_controls = widgets.HBox([prev_button, slider, next_button])\n",
    "out = widgets.interactive_output(display_surrounding_rows, {'i': slider, 'parent_df': widgets.fixed(df_basal), 'df': widgets.fixed(basal_temp_dups)})\n",
    "\n",
    "# Display the UI\n",
    "display(column_selector, slider_controls, out)"
   ]
  },
  {
   "cell_type": "code",
   "execution_count": 21,
   "metadata": {},
   "outputs": [
    {
     "name": "stdout",
     "output_type": "stream",
     "text": [
      "This is where they differ:\n"
     ]
    },
    {
     "data": {
      "text/plain": [
       "RecID                     2539\n",
       "ParentHDeviceUploadsID    1925\n",
       "PtID                         0\n",
       "SiteID                       0\n",
       "BasalType                 1236\n",
       "Duration                  1727\n",
       "ExpectedDuration          2071\n",
       "Percnt                     197\n",
       "Rate                      1256\n",
       "SuprBasalType             1220\n",
       "SuprDuration              1119\n",
       "SuprRate                  1222\n",
       "DataSource                   0\n",
       "datetime                     0\n",
       "hour_of_day                  0\n",
       "day                          0\n",
       "dtype: int64"
      ]
     },
     "metadata": {},
     "output_type": "display_data"
    },
    {
     "data": {
      "text/plain": [
       "'some examples:'"
      ]
     },
     "metadata": {},
     "output_type": "display_data"
    },
    {
     "data": {
      "text/html": [
       "<div>\n",
       "<style scoped>\n",
       "    .dataframe tbody tr th:only-of-type {\n",
       "        vertical-align: middle;\n",
       "    }\n",
       "\n",
       "    .dataframe tbody tr th {\n",
       "        vertical-align: top;\n",
       "    }\n",
       "\n",
       "    .dataframe thead th {\n",
       "        text-align: right;\n",
       "    }\n",
       "</style>\n",
       "<table border=\"1\" class=\"dataframe\">\n",
       "  <thead>\n",
       "    <tr style=\"text-align: right;\">\n",
       "      <th></th>\n",
       "      <th>PtID</th>\n",
       "      <th>datetime</th>\n",
       "      <th>Duration</th>\n",
       "      <th>ExpectedDuration</th>\n",
       "      <th>Rate</th>\n",
       "      <th>BasalType</th>\n",
       "      <th>Percnt</th>\n",
       "      <th>SuprDuration</th>\n",
       "      <th>SuprRate</th>\n",
       "    </tr>\n",
       "  </thead>\n",
       "  <tbody>\n",
       "    <tr>\n",
       "      <th>301126</th>\n",
       "      <td>46</td>\n",
       "      <td>2025-04-13 22:36:11</td>\n",
       "      <td>0 days 01:23:49</td>\n",
       "      <td>NaT</td>\n",
       "      <td>NaN</td>\n",
       "      <td>suspend</td>\n",
       "      <td>NaN</td>\n",
       "      <td>0 days 01:23:49</td>\n",
       "      <td>1.00</td>\n",
       "    </tr>\n",
       "    <tr>\n",
       "      <th>301125</th>\n",
       "      <td>46</td>\n",
       "      <td>2025-04-13 22:36:11</td>\n",
       "      <td>0 days 00:00:00</td>\n",
       "      <td>0 days 01:23:49</td>\n",
       "      <td>1.00</td>\n",
       "      <td>scheduled</td>\n",
       "      <td>NaN</td>\n",
       "      <td>NaT</td>\n",
       "      <td>NaN</td>\n",
       "    </tr>\n",
       "    <tr>\n",
       "      <th>166899</th>\n",
       "      <td>141</td>\n",
       "      <td>2024-11-22 07:00:00</td>\n",
       "      <td>0 days 00:29:58</td>\n",
       "      <td>0 days 14:03:01</td>\n",
       "      <td>0.65</td>\n",
       "      <td>scheduled</td>\n",
       "      <td>NaN</td>\n",
       "      <td>NaT</td>\n",
       "      <td>NaN</td>\n",
       "    </tr>\n",
       "    <tr>\n",
       "      <th>166901</th>\n",
       "      <td>141</td>\n",
       "      <td>2024-11-22 07:00:00</td>\n",
       "      <td>0 days 00:49:30</td>\n",
       "      <td>0 days 14:52:38</td>\n",
       "      <td>0.65</td>\n",
       "      <td>scheduled</td>\n",
       "      <td>NaN</td>\n",
       "      <td>NaT</td>\n",
       "      <td>NaN</td>\n",
       "    </tr>\n",
       "    <tr>\n",
       "      <th>166903</th>\n",
       "      <td>141</td>\n",
       "      <td>2024-11-22 07:00:00</td>\n",
       "      <td>0 days 02:06:57</td>\n",
       "      <td>0 days 17:00:00</td>\n",
       "      <td>0.65</td>\n",
       "      <td>scheduled</td>\n",
       "      <td>NaN</td>\n",
       "      <td>NaT</td>\n",
       "      <td>NaN</td>\n",
       "    </tr>\n",
       "    <tr>\n",
       "      <th>166927</th>\n",
       "      <td>141</td>\n",
       "      <td>2024-11-19 15:24:31</td>\n",
       "      <td>0 days 00:00:00</td>\n",
       "      <td>0 days 08:35:29</td>\n",
       "      <td>0.65</td>\n",
       "      <td>scheduled</td>\n",
       "      <td>NaN</td>\n",
       "      <td>NaT</td>\n",
       "      <td>NaN</td>\n",
       "    </tr>\n",
       "    <tr>\n",
       "      <th>166928</th>\n",
       "      <td>141</td>\n",
       "      <td>2024-11-19 15:24:31</td>\n",
       "      <td>0 days 00:00:01</td>\n",
       "      <td>NaT</td>\n",
       "      <td>NaN</td>\n",
       "      <td>suspend</td>\n",
       "      <td>NaN</td>\n",
       "      <td>0 days 08:35:29</td>\n",
       "      <td>0.65</td>\n",
       "    </tr>\n",
       "  </tbody>\n",
       "</table>\n",
       "</div>"
      ],
      "text/plain": [
       "        PtID            datetime        Duration ExpectedDuration  Rate  \\\n",
       "301126    46 2025-04-13 22:36:11 0 days 01:23:49              NaT   NaN   \n",
       "301125    46 2025-04-13 22:36:11 0 days 00:00:00  0 days 01:23:49  1.00   \n",
       "166899   141 2024-11-22 07:00:00 0 days 00:29:58  0 days 14:03:01  0.65   \n",
       "166901   141 2024-11-22 07:00:00 0 days 00:49:30  0 days 14:52:38  0.65   \n",
       "166903   141 2024-11-22 07:00:00 0 days 02:06:57  0 days 17:00:00  0.65   \n",
       "166927   141 2024-11-19 15:24:31 0 days 00:00:00  0 days 08:35:29  0.65   \n",
       "166928   141 2024-11-19 15:24:31 0 days 00:00:01              NaT   NaN   \n",
       "\n",
       "        BasalType  Percnt    SuprDuration  SuprRate  \n",
       "301126    suspend     NaN 0 days 01:23:49      1.00  \n",
       "301125  scheduled     NaN             NaT       NaN  \n",
       "166899  scheduled     NaN             NaT       NaN  \n",
       "166901  scheduled     NaN             NaT       NaN  \n",
       "166903  scheduled     NaN             NaT       NaN  \n",
       "166927  scheduled     NaN             NaT       NaN  \n",
       "166928    suspend     NaN 0 days 08:35:29      0.65  "
      ]
     },
     "metadata": {},
     "output_type": "display_data"
    }
   ],
   "source": [
    "print('This is where they differ:')\n",
    "display(pandas_helper.count_differences_in_duplicates(df_basal, subset=['PtID', 'datetime']))\n",
    "\n",
    "#print some temporal duplicates\n",
    "display(\"some examples:\")\n",
    "display(df_basal.loc[[301126,301125,166899,166901,166903,166927,166928],['PtID', 'datetime', 'Duration','ExpectedDuration', 'Rate','BasalType','Percnt','SuprDuration','SuprRate']])"
   ]
  },
  {
   "cell_type": "markdown",
   "metadata": {},
   "source": [
    "It looks like \n",
    " - sometimes we see duplicates in all relevant columns\n",
    " - often we could argue that the suspendevents overwrite the scheduled event\n",
    " - sometimes, the durations are empty\n",
    " - sometimes there are different durations, and only one matches the next valid row\n",
    " "
   ]
  },
  {
   "cell_type": "markdown",
   "metadata": {},
   "source": [
    "#### Equal duration & rate\n",
    "When we have duplicates where datetime, duration and rate are equal, we don't care which one, we just keep one:\n"
   ]
  },
  {
   "cell_type": "code",
   "execution_count": 22,
   "metadata": {},
   "outputs": [
    {
     "data": {
      "text/html": [
       "<div>\n",
       "<style scoped>\n",
       "    .dataframe tbody tr th:only-of-type {\n",
       "        vertical-align: middle;\n",
       "    }\n",
       "\n",
       "    .dataframe tbody tr th {\n",
       "        vertical-align: top;\n",
       "    }\n",
       "\n",
       "    .dataframe thead th {\n",
       "        text-align: right;\n",
       "    }\n",
       "</style>\n",
       "<table border=\"1\" class=\"dataframe\">\n",
       "  <thead>\n",
       "    <tr style=\"text-align: right;\">\n",
       "      <th></th>\n",
       "      <th>PtID</th>\n",
       "      <th>datetime</th>\n",
       "      <th>Rate</th>\n",
       "      <th>Duration</th>\n",
       "      <th>BasalType</th>\n",
       "      <th>Percnt</th>\n",
       "      <th>SuprDuration</th>\n",
       "      <th>SuprRate</th>\n",
       "    </tr>\n",
       "  </thead>\n",
       "  <tbody>\n",
       "    <tr>\n",
       "      <th>162892</th>\n",
       "      <td>2</td>\n",
       "      <td>2024-09-01</td>\n",
       "      <td>0.108</td>\n",
       "      <td>1 days</td>\n",
       "      <td>scheduled</td>\n",
       "      <td>NaN</td>\n",
       "      <td>NaT</td>\n",
       "      <td>NaN</td>\n",
       "    </tr>\n",
       "    <tr>\n",
       "      <th>163155</th>\n",
       "      <td>2</td>\n",
       "      <td>2024-09-01</td>\n",
       "      <td>0.108</td>\n",
       "      <td>1 days</td>\n",
       "      <td>temp</td>\n",
       "      <td>0.12</td>\n",
       "      <td>NaT</td>\n",
       "      <td>0.9</td>\n",
       "    </tr>\n",
       "    <tr>\n",
       "      <th>162911</th>\n",
       "      <td>2</td>\n",
       "      <td>2024-09-02</td>\n",
       "      <td>0.108</td>\n",
       "      <td>1 days</td>\n",
       "      <td>scheduled</td>\n",
       "      <td>NaN</td>\n",
       "      <td>NaT</td>\n",
       "      <td>NaN</td>\n",
       "    </tr>\n",
       "    <tr>\n",
       "      <th>163170</th>\n",
       "      <td>2</td>\n",
       "      <td>2024-09-02</td>\n",
       "      <td>0.108</td>\n",
       "      <td>1 days</td>\n",
       "      <td>temp</td>\n",
       "      <td>0.12</td>\n",
       "      <td>NaT</td>\n",
       "      <td>0.9</td>\n",
       "    </tr>\n",
       "  </tbody>\n",
       "</table>\n",
       "</div>"
      ],
      "text/plain": [
       "        PtID   datetime   Rate Duration  BasalType  Percnt SuprDuration  \\\n",
       "162892     2 2024-09-01  0.108   1 days  scheduled     NaN          NaT   \n",
       "163155     2 2024-09-01  0.108   1 days       temp    0.12          NaT   \n",
       "162911     2 2024-09-02  0.108   1 days  scheduled     NaN          NaT   \n",
       "163170     2 2024-09-02  0.108   1 days       temp    0.12          NaT   \n",
       "\n",
       "        SuprRate  \n",
       "162892       NaN  \n",
       "163155       0.9  \n",
       "162911       NaN  \n",
       "163170       0.9  "
      ]
     },
     "metadata": {},
     "output_type": "display_data"
    },
    {
     "name": "stdout",
     "output_type": "stream",
     "text": [
      "From all duplicates in basal, 6.53% are duplicates in rate and duration\n"
     ]
    },
    {
     "data": {
      "text/plain": [
       "BasalType\n",
       "scheduled    53\n",
       "temp         53\n",
       "Name: count, dtype: int64"
      ]
     },
     "metadata": {},
     "output_type": "display_data"
    }
   ],
   "source": [
    "#obvious: duplicates: equal duration and rate\n",
    "temp = df_basal.loc[df_basal.duplicated(subset=['PtID', 'datetime','Rate','Duration'],keep=False)]\n",
    "temp = temp.sort_values(by=['PtID', 'datetime'])\n",
    "display(temp[['PtID','datetime','Rate','Duration','BasalType','Percnt','SuprDuration','SuprRate']].head(4))\n",
    "\n",
    "print(f\"From all duplicates in basal, {100*len(temp)/len(basal_temp_dups):.2f}% are duplicates in rate and duration\")\n",
    "display(temp.BasalType.value_counts())"
   ]
  },
  {
   "cell_type": "code",
   "execution_count": 23,
   "metadata": {},
   "outputs": [],
   "source": [
    "#drop\n",
    "#df_basal = df_basal.drop_duplicates(subset=['PtID', 'datetime','Rate', 'Duration'],keep='first')\n",
    "#basal_temp_dups = df_basal.loc[df_basal.duplicated(subset=['PtID','datetime'], keep=False)]\n",
    "#print(f\"{len(basal_temp_dups)} temporal duplicates are left after removing duplicates in rate and duration\")"
   ]
  },
  {
   "cell_type": "markdown",
   "metadata": {},
   "source": [
    "#### Equal duration, different rate\n",
    "Some duplicates have the same duration. Then the question is which one to pick:"
   ]
  },
  {
   "cell_type": "code",
   "execution_count": 24,
   "metadata": {},
   "outputs": [
    {
     "name": "stdout",
     "output_type": "stream",
     "text": [
      "These are the combinations:\n"
     ]
    },
    {
     "data": {
      "text/plain": [
       "{suspend, scheduled}    689\n",
       "{temp, scheduled}       103\n",
       "{scheduled}              17\n",
       "{temp, suspend}           3\n",
       "Name: count, dtype: int64"
      ]
     },
     "metadata": {},
     "output_type": "display_data"
    },
    {
     "data": {
      "text/plain": [
       "\"Examples for {'suspend', 'scheduled'}:\""
      ]
     },
     "metadata": {},
     "output_type": "display_data"
    },
    {
     "data": {
      "text/html": [
       "<div>\n",
       "<style scoped>\n",
       "    .dataframe tbody tr th:only-of-type {\n",
       "        vertical-align: middle;\n",
       "    }\n",
       "\n",
       "    .dataframe tbody tr th {\n",
       "        vertical-align: top;\n",
       "    }\n",
       "\n",
       "    .dataframe thead th {\n",
       "        text-align: right;\n",
       "    }\n",
       "</style>\n",
       "<table border=\"1\" class=\"dataframe\">\n",
       "  <thead>\n",
       "    <tr style=\"text-align: right;\">\n",
       "      <th></th>\n",
       "      <th>PtID</th>\n",
       "      <th>datetime</th>\n",
       "      <th>Rate</th>\n",
       "      <th>Duration</th>\n",
       "      <th>BasalType</th>\n",
       "      <th>Percnt</th>\n",
       "      <th>SuprDuration</th>\n",
       "      <th>SuprRate</th>\n",
       "    </tr>\n",
       "  </thead>\n",
       "  <tbody>\n",
       "    <tr>\n",
       "      <th>156181</th>\n",
       "      <td>24</td>\n",
       "      <td>2025-02-26 18:00:00</td>\n",
       "      <td>1.2</td>\n",
       "      <td>0 days 06:00:00</td>\n",
       "      <td>scheduled</td>\n",
       "      <td>NaN</td>\n",
       "      <td>NaT</td>\n",
       "      <td>NaN</td>\n",
       "    </tr>\n",
       "    <tr>\n",
       "      <th>156300</th>\n",
       "      <td>24</td>\n",
       "      <td>2025-02-26 18:00:00</td>\n",
       "      <td>NaN</td>\n",
       "      <td>0 days 06:00:00</td>\n",
       "      <td>suspend</td>\n",
       "      <td>NaN</td>\n",
       "      <td>0 days 06:00:00</td>\n",
       "      <td>1.1</td>\n",
       "    </tr>\n",
       "    <tr>\n",
       "      <th>156134</th>\n",
       "      <td>24</td>\n",
       "      <td>2025-02-27 03:00:00</td>\n",
       "      <td>0.9</td>\n",
       "      <td>0 days 03:00:00</td>\n",
       "      <td>scheduled</td>\n",
       "      <td>NaN</td>\n",
       "      <td>NaT</td>\n",
       "      <td>NaN</td>\n",
       "    </tr>\n",
       "    <tr>\n",
       "      <th>157355</th>\n",
       "      <td>24</td>\n",
       "      <td>2025-02-27 03:00:00</td>\n",
       "      <td>NaN</td>\n",
       "      <td>0 days 03:00:00</td>\n",
       "      <td>suspend</td>\n",
       "      <td>NaN</td>\n",
       "      <td>0 days 03:00:00</td>\n",
       "      <td>0.9</td>\n",
       "    </tr>\n",
       "  </tbody>\n",
       "</table>\n",
       "</div>"
      ],
      "text/plain": [
       "        PtID            datetime  Rate        Duration  BasalType  Percnt  \\\n",
       "156181    24 2025-02-26 18:00:00   1.2 0 days 06:00:00  scheduled     NaN   \n",
       "156300    24 2025-02-26 18:00:00   NaN 0 days 06:00:00    suspend     NaN   \n",
       "156134    24 2025-02-27 03:00:00   0.9 0 days 03:00:00  scheduled     NaN   \n",
       "157355    24 2025-02-27 03:00:00   NaN 0 days 03:00:00    suspend     NaN   \n",
       "\n",
       "          SuprDuration  SuprRate  \n",
       "156181             NaT       NaN  \n",
       "156300 0 days 06:00:00       1.1  \n",
       "156134             NaT       NaN  \n",
       "157355 0 days 03:00:00       0.9  "
      ]
     },
     "metadata": {},
     "output_type": "display_data"
    },
    {
     "data": {
      "text/plain": [
       "\"Examples for {'temp', 'scheduled'}:\""
      ]
     },
     "metadata": {},
     "output_type": "display_data"
    },
    {
     "data": {
      "text/html": [
       "<div>\n",
       "<style scoped>\n",
       "    .dataframe tbody tr th:only-of-type {\n",
       "        vertical-align: middle;\n",
       "    }\n",
       "\n",
       "    .dataframe tbody tr th {\n",
       "        vertical-align: top;\n",
       "    }\n",
       "\n",
       "    .dataframe thead th {\n",
       "        text-align: right;\n",
       "    }\n",
       "</style>\n",
       "<table border=\"1\" class=\"dataframe\">\n",
       "  <thead>\n",
       "    <tr style=\"text-align: right;\">\n",
       "      <th></th>\n",
       "      <th>PtID</th>\n",
       "      <th>datetime</th>\n",
       "      <th>Rate</th>\n",
       "      <th>Duration</th>\n",
       "      <th>BasalType</th>\n",
       "      <th>Percnt</th>\n",
       "      <th>SuprDuration</th>\n",
       "      <th>SuprRate</th>\n",
       "    </tr>\n",
       "  </thead>\n",
       "  <tbody>\n",
       "    <tr>\n",
       "      <th>162892</th>\n",
       "      <td>2</td>\n",
       "      <td>2024-09-01</td>\n",
       "      <td>0.108</td>\n",
       "      <td>1 days</td>\n",
       "      <td>scheduled</td>\n",
       "      <td>NaN</td>\n",
       "      <td>NaT</td>\n",
       "      <td>NaN</td>\n",
       "    </tr>\n",
       "    <tr>\n",
       "      <th>163155</th>\n",
       "      <td>2</td>\n",
       "      <td>2024-09-01</td>\n",
       "      <td>0.108</td>\n",
       "      <td>1 days</td>\n",
       "      <td>temp</td>\n",
       "      <td>0.12</td>\n",
       "      <td>NaT</td>\n",
       "      <td>0.9</td>\n",
       "    </tr>\n",
       "    <tr>\n",
       "      <th>162911</th>\n",
       "      <td>2</td>\n",
       "      <td>2024-09-02</td>\n",
       "      <td>0.108</td>\n",
       "      <td>1 days</td>\n",
       "      <td>scheduled</td>\n",
       "      <td>NaN</td>\n",
       "      <td>NaT</td>\n",
       "      <td>NaN</td>\n",
       "    </tr>\n",
       "    <tr>\n",
       "      <th>163170</th>\n",
       "      <td>2</td>\n",
       "      <td>2024-09-02</td>\n",
       "      <td>0.108</td>\n",
       "      <td>1 days</td>\n",
       "      <td>temp</td>\n",
       "      <td>0.12</td>\n",
       "      <td>NaT</td>\n",
       "      <td>0.9</td>\n",
       "    </tr>\n",
       "  </tbody>\n",
       "</table>\n",
       "</div>"
      ],
      "text/plain": [
       "        PtID   datetime   Rate Duration  BasalType  Percnt SuprDuration  \\\n",
       "162892     2 2024-09-01  0.108   1 days  scheduled     NaN          NaT   \n",
       "163155     2 2024-09-01  0.108   1 days       temp    0.12          NaT   \n",
       "162911     2 2024-09-02  0.108   1 days  scheduled     NaN          NaT   \n",
       "163170     2 2024-09-02  0.108   1 days       temp    0.12          NaT   \n",
       "\n",
       "        SuprRate  \n",
       "162892       NaN  \n",
       "163155       0.9  \n",
       "162911       NaN  \n",
       "163170       0.9  "
      ]
     },
     "metadata": {},
     "output_type": "display_data"
    },
    {
     "data": {
      "text/plain": [
       "\"Examples for {'scheduled'}:\""
      ]
     },
     "metadata": {},
     "output_type": "display_data"
    },
    {
     "data": {
      "text/html": [
       "<div>\n",
       "<style scoped>\n",
       "    .dataframe tbody tr th:only-of-type {\n",
       "        vertical-align: middle;\n",
       "    }\n",
       "\n",
       "    .dataframe tbody tr th {\n",
       "        vertical-align: top;\n",
       "    }\n",
       "\n",
       "    .dataframe thead th {\n",
       "        text-align: right;\n",
       "    }\n",
       "</style>\n",
       "<table border=\"1\" class=\"dataframe\">\n",
       "  <thead>\n",
       "    <tr style=\"text-align: right;\">\n",
       "      <th></th>\n",
       "      <th>PtID</th>\n",
       "      <th>datetime</th>\n",
       "      <th>Rate</th>\n",
       "      <th>Duration</th>\n",
       "      <th>BasalType</th>\n",
       "      <th>Percnt</th>\n",
       "      <th>SuprDuration</th>\n",
       "      <th>SuprRate</th>\n",
       "    </tr>\n",
       "  </thead>\n",
       "  <tbody>\n",
       "    <tr>\n",
       "      <th>259969</th>\n",
       "      <td>173</td>\n",
       "      <td>2025-01-30 00:00:00</td>\n",
       "      <td>0.900</td>\n",
       "      <td>0 days 05:00:00</td>\n",
       "      <td>scheduled</td>\n",
       "      <td>NaN</td>\n",
       "      <td>NaT</td>\n",
       "      <td>NaN</td>\n",
       "    </tr>\n",
       "    <tr>\n",
       "      <th>259979</th>\n",
       "      <td>173</td>\n",
       "      <td>2025-01-30 00:00:00</td>\n",
       "      <td>0.850</td>\n",
       "      <td>0 days 05:00:00</td>\n",
       "      <td>scheduled</td>\n",
       "      <td>NaN</td>\n",
       "      <td>NaT</td>\n",
       "      <td>NaN</td>\n",
       "    </tr>\n",
       "    <tr>\n",
       "      <th>243699</th>\n",
       "      <td>185</td>\n",
       "      <td>2025-07-14 20:30:00</td>\n",
       "      <td>0.025</td>\n",
       "      <td>0 days 03:30:00</td>\n",
       "      <td>scheduled</td>\n",
       "      <td>NaN</td>\n",
       "      <td>NaT</td>\n",
       "      <td>NaN</td>\n",
       "    </tr>\n",
       "    <tr>\n",
       "      <th>243700</th>\n",
       "      <td>185</td>\n",
       "      <td>2025-07-14 20:30:00</td>\n",
       "      <td>3.000</td>\n",
       "      <td>0 days 03:30:00</td>\n",
       "      <td>scheduled</td>\n",
       "      <td>NaN</td>\n",
       "      <td>NaT</td>\n",
       "      <td>NaN</td>\n",
       "    </tr>\n",
       "  </tbody>\n",
       "</table>\n",
       "</div>"
      ],
      "text/plain": [
       "        PtID            datetime   Rate        Duration  BasalType  Percnt  \\\n",
       "259969   173 2025-01-30 00:00:00  0.900 0 days 05:00:00  scheduled     NaN   \n",
       "259979   173 2025-01-30 00:00:00  0.850 0 days 05:00:00  scheduled     NaN   \n",
       "243699   185 2025-07-14 20:30:00  0.025 0 days 03:30:00  scheduled     NaN   \n",
       "243700   185 2025-07-14 20:30:00  3.000 0 days 03:30:00  scheduled     NaN   \n",
       "\n",
       "       SuprDuration  SuprRate  \n",
       "259969          NaT       NaN  \n",
       "259979          NaT       NaN  \n",
       "243699          NaT       NaN  \n",
       "243700          NaT       NaN  "
      ]
     },
     "metadata": {},
     "output_type": "display_data"
    },
    {
     "data": {
      "text/plain": [
       "\"Examples for {'temp', 'suspend'}:\""
      ]
     },
     "metadata": {},
     "output_type": "display_data"
    },
    {
     "data": {
      "text/html": [
       "<div>\n",
       "<style scoped>\n",
       "    .dataframe tbody tr th:only-of-type {\n",
       "        vertical-align: middle;\n",
       "    }\n",
       "\n",
       "    .dataframe tbody tr th {\n",
       "        vertical-align: top;\n",
       "    }\n",
       "\n",
       "    .dataframe thead th {\n",
       "        text-align: right;\n",
       "    }\n",
       "</style>\n",
       "<table border=\"1\" class=\"dataframe\">\n",
       "  <thead>\n",
       "    <tr style=\"text-align: right;\">\n",
       "      <th></th>\n",
       "      <th>PtID</th>\n",
       "      <th>datetime</th>\n",
       "      <th>Rate</th>\n",
       "      <th>Duration</th>\n",
       "      <th>BasalType</th>\n",
       "      <th>Percnt</th>\n",
       "      <th>SuprDuration</th>\n",
       "      <th>SuprRate</th>\n",
       "    </tr>\n",
       "  </thead>\n",
       "  <tbody>\n",
       "    <tr>\n",
       "      <th>157051</th>\n",
       "      <td>24</td>\n",
       "      <td>2025-03-28 03:00:00</td>\n",
       "      <td>0.45</td>\n",
       "      <td>0 days 03:00:00</td>\n",
       "      <td>temp</td>\n",
       "      <td>0.5</td>\n",
       "      <td>0 days 03:00:00</td>\n",
       "      <td>0.9</td>\n",
       "    </tr>\n",
       "    <tr>\n",
       "      <th>157156</th>\n",
       "      <td>24</td>\n",
       "      <td>2025-03-28 03:00:00</td>\n",
       "      <td>NaN</td>\n",
       "      <td>0 days 03:00:00</td>\n",
       "      <td>suspend</td>\n",
       "      <td>NaN</td>\n",
       "      <td>0 days 03:00:00</td>\n",
       "      <td>0.9</td>\n",
       "    </tr>\n",
       "    <tr>\n",
       "      <th>156026</th>\n",
       "      <td>24</td>\n",
       "      <td>2025-03-29 03:00:00</td>\n",
       "      <td>0.45</td>\n",
       "      <td>0 days 03:00:00</td>\n",
       "      <td>temp</td>\n",
       "      <td>0.5</td>\n",
       "      <td>0 days 03:00:00</td>\n",
       "      <td>0.9</td>\n",
       "    </tr>\n",
       "    <tr>\n",
       "      <th>159902</th>\n",
       "      <td>24</td>\n",
       "      <td>2025-03-29 03:00:00</td>\n",
       "      <td>NaN</td>\n",
       "      <td>0 days 03:00:00</td>\n",
       "      <td>suspend</td>\n",
       "      <td>NaN</td>\n",
       "      <td>0 days 03:00:00</td>\n",
       "      <td>0.9</td>\n",
       "    </tr>\n",
       "  </tbody>\n",
       "</table>\n",
       "</div>"
      ],
      "text/plain": [
       "        PtID            datetime  Rate        Duration BasalType  Percnt  \\\n",
       "157051    24 2025-03-28 03:00:00  0.45 0 days 03:00:00      temp     0.5   \n",
       "157156    24 2025-03-28 03:00:00   NaN 0 days 03:00:00   suspend     NaN   \n",
       "156026    24 2025-03-29 03:00:00  0.45 0 days 03:00:00      temp     0.5   \n",
       "159902    24 2025-03-29 03:00:00   NaN 0 days 03:00:00   suspend     NaN   \n",
       "\n",
       "          SuprDuration  SuprRate  \n",
       "157051 0 days 03:00:00       0.9  \n",
       "157156 0 days 03:00:00       0.9  \n",
       "156026 0 days 03:00:00       0.9  \n",
       "159902 0 days 03:00:00       0.9  "
      ]
     },
     "metadata": {},
     "output_type": "display_data"
    }
   ],
   "source": [
    "basal_temp_dur_dups = df_basal.loc[df_basal.duplicated(subset=['PtID', 'datetime', 'Duration'],keep=False)]\n",
    "basal_temp_dur_dups_grped = basal_temp_dur_dups.groupby(['PtID', 'datetime','Duration'],group_keys=False)\n",
    "\n",
    "print('These are the combinations:')\n",
    "combinations = basal_temp_dur_dups_grped.apply(lambda x: set(x.BasalType), include_groups=False)\n",
    "display(combinations.value_counts())\n",
    "\n",
    "#print examples for each combination\n",
    "for aset in combinations.value_counts().index:\n",
    "    display(f'Examples for {aset}:')\n",
    "    temp = basal_temp_dur_dups_grped.filter(lambda g: set(g['BasalType']) == aset)\n",
    "    display(temp.head(4)[['PtID','datetime','Rate','Duration','BasalType','Percnt','SuprDuration','SuprRate']])"
   ]
  },
  {
   "cell_type": "markdown",
   "metadata": {},
   "source": [
    "For duplicates on suspend/scheduled, it is difficult to say which one to use:\n",
    " - Sometimes suspend duration, sometimes scheduled duration match the next row\n",
    " - Many durations don't match the next next rows start time \n",
    "    - Sometimes (multiple scheduled durations) both match the next datetime\n",
    "\n",
    "From the exampels we believe the following assumptions should be made: When there are temporal duplicates in time and duration. Then the duplicates should be resolved as follows:\n",
    " 1. (scheduled or temp) and suspends: keep the suspend, set Rate to 0 (using fillna)\n",
    " 2. scheduled and temp: use temp over scheduled\n",
    " 3. Only scheduled: use the maximum value"
   ]
  },
  {
   "cell_type": "code",
   "execution_count": 25,
   "metadata": {},
   "outputs": [],
   "source": [
    "def filter_duplicates(grp):\n",
    "    basal_types = set(grp['BasalType'])\n",
    "    #(scheduled or temp) and suspends: keep the suspend, set Rate to 0 (using fillna)\n",
    "    if 'suspend' in basal_types:\n",
    "        return grp.loc[grp.BasalType == 'suspend']\n",
    "    #scheduled and temp: use temp over scheduled\n",
    "    elif basal_types == {'scheduled','temp'}:\n",
    "         return grp.loc[grp.BasalType == 'temp']\n",
    "    #Only scheduled: use the maximum value\n",
    "    elif basal_types == {'scheduled'}:\n",
    "         return grp.loc[[grp.Rate.idxmax()]]\n",
    "\n",
    "filtered = basal_temp_dur_dups.groupby(['PtID', 'datetime','Duration'], group_keys=False).apply(filter_duplicates, include_groups=False)\n",
    "indexes_to_drop = basal_temp_dur_dups.index.difference(filtered.index)\n",
    "#df_basal = df_basal.drop(index=indexes_to_drop)\n",
    "#print(f\"{len(df_basal.loc[df_basal.duplicated(subset=['PtID','datetime'], keep=False)])} duplicates left after resolving duration duplicates with different rates\")"
   ]
  },
  {
   "cell_type": "markdown",
   "metadata": {},
   "source": [
    "#### Different Durations"
   ]
  },
  {
   "cell_type": "markdown",
   "metadata": {},
   "source": [
    "We see that some duplicates have different durations and only one matches the next datetime. We should probably drop rows whose datetime+duration does not match the next row's datetime. "
   ]
  },
  {
   "cell_type": "code",
   "execution_count": 26,
   "metadata": {},
   "outputs": [
    {
     "name": "stderr",
     "output_type": "stream",
     "text": [
      "/var/folders/m4/5d02b2xs0l52lbxzbk0t3vym0000gp/T/ipykernel_42922/443791734.py:13: DeprecationWarning: DataFrameGroupBy.apply operated on the grouping columns. This behavior is deprecated, and in a future version of pandas the grouping columns will be excluded from the operation. Either pass `include_groups=False` to exclude the groupings or explicitly select the grouping columns after groupby to silence this warning.\n",
      "  next_row_datetime = grps.apply(get_index_next_non_duplicated_row, df_basal)\n"
     ]
    }
   ],
   "source": [
    "def get_index_next_non_duplicated_row(duplicates, parent_df):\n",
    "    #keep rows of the same patient\n",
    "    sub_parent_frame = parent_df.loc[parent_df.PtID==duplicates.PtID.values[0]].sort_values('datetime')\n",
    "    assert sub_parent_frame.datetime.is_monotonic_increasing\n",
    "    iloc_max = max([sub_parent_frame.index.get_loc(i) for i in duplicates.index])\n",
    "    if iloc_max+1 == len(sub_parent_frame):\n",
    "        return np.nan\n",
    "    else:\n",
    "        return sub_parent_frame.iloc[iloc_max+1].datetime\n",
    "    \n",
    "basal_temp_dups =  df_basal.loc[df_basal.duplicated(['PtID','datetime'])]\n",
    "grps = basal_temp_dups.groupby(['PtID','datetime'])\n",
    "next_row_datetime = grps.apply(get_index_next_non_duplicated_row, df_basal)\n",
    "next_row_datetime = next_row_datetime.reset_index().rename(columns={0:'datetime_next'})\n",
    "temp = pd.merge(basal_temp_dups, next_row_datetime, on=['PtID','datetime'], how='left')"
   ]
  },
  {
   "cell_type": "code",
   "execution_count": 27,
   "metadata": {},
   "outputs": [],
   "source": [
    "to_drop = temp.loc[(temp.datetime+temp.Duration) != temp.datetime_next]\n",
    "to_keep = temp.loc[(temp.datetime+temp.Duration) == temp.datetime_next]"
   ]
  },
  {
   "cell_type": "markdown",
   "metadata": {},
   "source": [
    "### Summary Duplicates:\n",
    "While the above approaches might seem plausible, we can't really say that it is correct. \n",
    "We don't know why there are duplicates\n",
    "We don't know if we can judge the right row by the duration\n",
    "We don't know if a suspend really overpowers a scheduled event\n",
    "\n",
    "Therefore, we go back to a simpler method in resolving duplicates: using the row with the Record ID maximum.\n",
    "\n",
    "Ultimately we are only taliing about 1% of the data, anyways."
   ]
  },
  {
   "cell_type": "code",
   "execution_count": 28,
   "metadata": {},
   "outputs": [],
   "source": [
    "i_dup,i_max,i_drop = pandas_helper.get_duplicated_max_indexes(df_basal, ['PtID', 'datetime'], 'RecID')\n",
    "df_basal = df_basal.drop(i_drop)\n",
    "df_basal.fillna({'Rate':0}, inplace=True)"
   ]
  },
  {
   "cell_type": "markdown",
   "metadata": {},
   "source": [
    "### Data hierachy"
   ]
  },
  {
   "cell_type": "code",
   "execution_count": 29,
   "metadata": {},
   "outputs": [
    {
     "data": {
      "text/plain": [
       "'Basal Types  (%):'"
      ]
     },
     "metadata": {},
     "output_type": "display_data"
    },
    {
     "data": {
      "text/plain": [
       "BasalType\n",
       "scheduled    84.339924\n",
       "suspend       7.904415\n",
       "temp          7.755662\n",
       "Name: count, dtype: float64"
      ]
     },
     "metadata": {},
     "output_type": "display_data"
    },
    {
     "data": {
      "text/plain": [
       "'Suspend Rate Values (%):'"
      ]
     },
     "metadata": {},
     "output_type": "display_data"
    },
    {
     "data": {
      "text/plain": [
       "Rate\n",
       "0.0    35443\n",
       "Name: count, dtype: int64"
      ]
     },
     "metadata": {},
     "output_type": "display_data"
    },
    {
     "data": {
      "text/plain": [
       "'Bolus Types (%):'"
      ]
     },
     "metadata": {},
     "output_type": "display_data"
    },
    {
     "data": {
      "text/plain": [
       "BolusType  \n",
       "normal         91.405282\n",
       "dual/square     3.998778\n",
       "Normal          3.116734\n",
       "square          1.222206\n",
       "Combination     0.257000\n",
       "Name: count, dtype: float64"
      ]
     },
     "metadata": {},
     "output_type": "display_data"
    },
    {
     "data": {
      "text/plain": [
       "'CGM Types (%):'"
      ]
     },
     "metadata": {},
     "output_type": "display_data"
    },
    {
     "data": {
      "text/plain": [
       "RecordType\n",
       "CGM           100.0\n",
       "Name: count, dtype: float64"
      ]
     },
     "metadata": {},
     "output_type": "display_data"
    }
   ],
   "source": [
    "#unique values (%)\n",
    "display('Basal Types  (%):')\n",
    "display(100*df_basal.value_counts(subset=['BasalType'],dropna=False)/df_basal.shape[0])\n",
    "\n",
    "display('Suspend Rate Values (%):')\n",
    "display(df_basal.loc[df_basal.BasalType=='suspend'].Rate.value_counts(dropna=False))\n",
    "\n",
    "display('Bolus Types (%):')\n",
    "display(100*df_bolus.value_counts(subset=['BolusType'],dropna=False)/df_bolus.shape[0])\n",
    "\n",
    "display('CGM Types (%):')\n",
    "display(100*df_cgm.value_counts(subset=['RecordType'],dropna=False)/df_cgm.shape[0])"
   ]
  },
  {
   "cell_type": "markdown",
   "metadata": {},
   "source": [
    "**Summary:**\n",
    "- Same structure as Loop Dataset\n",
    "- More suspends (8%) (all NaN), need to be filled with zero and checked if durations match\n",
    "- Some calibrations, need to be dropped\n",
    "TODO: \n",
    " 1. Check for overlapping durations\n",
    " 2. Check for Suspend durations match start of next basal"
   ]
  },
  {
   "cell_type": "markdown",
   "metadata": {},
   "source": [
    "## Uniqe Patients"
   ]
  },
  {
   "cell_type": "code",
   "execution_count": 30,
   "metadata": {},
   "outputs": [
    {
     "name": "stdout",
     "output_type": "stream",
     "text": [
      "There are 226 unique patients in the patient roster\n",
      "There are 224 unique patients in the bolus table\n",
      "There are 208 unique patients in the basal table\n",
      "There are 226 unique patients in the cgm table\n"
     ]
    }
   ],
   "source": [
    "#number of unique patients\n",
    "print(f\"There are {df_patient['PtID'].nunique()} unique patients in the patient roster\")\n",
    "print(f\"There are {df_bolus['PtID'].nunique()} unique patients in the bolus table\")\n",
    "print(f\"There are {df_basal['PtID'].nunique()} unique patients in the basal table\")\n",
    "print(f\"There are {df_cgm['PtID'].nunique()} unique patients in the cgm table\")"
   ]
  },
  {
   "cell_type": "markdown",
   "metadata": {},
   "source": [
    "## Data Distributions"
   ]
  },
  {
   "cell_type": "code",
   "execution_count": 31,
   "metadata": {},
   "outputs": [
    {
     "data": {
      "text/plain": [
       "Text(0.5, 1.0, 'CGM Glucose')"
      ]
     },
     "execution_count": 31,
     "metadata": {},
     "output_type": "execute_result"
    },
    {
     "data": {
      "image/png": "[encoded data removed]",
      "text/plain": [
       "<Figure size 800x200 with 1 Axes>"
      ]
     },
     "metadata": {},
     "output_type": "display_data"
    },
    {
     "data": {
      "image/png": "[encoded data removed]",
      "text/plain": [
       "<Figure size 800x200 with 1 Axes>"
      ]
     },
     "metadata": {},
     "output_type": "display_data"
    },
    {
     "data": {
      "image/png": "[encoded data removed]",
      "text/plain": [
       "<Figure size 800x200 with 1 Axes>"
      ]
     },
     "metadata": {},
     "output_type": "display_data"
    }
   ],
   "source": [
    "## distributions \n",
    "plt.figure(figsize=(8,2));ax=plt.gca()\n",
    "cdf.plot_cdf(df_basal['Rate'], ax=ax, label='Basal Rate',color=drawing.colors['Basal']); plt.title('Basal Rate')\n",
    "plt.figure(figsize=(8,2));ax=plt.gca()\n",
    "cdf.plot_cdf(df_bolus['Normal'], ax=ax, label='Normal Bolus',color=drawing.colors['Bolus']); plt.title('Normal Bolus')\n",
    "plt.figure(figsize=(8,2));ax=plt.gca()\n",
    "cdf.plot_cdf(df_cgm['GlucoseValue'], ax=ax, label='CGM Glucose',color=drawing.colors['CGM']); plt.title('CGM Glucose')"
   ]
  },
  {
   "cell_type": "code",
   "execution_count": 32,
   "metadata": {},
   "outputs": [
    {
     "data": {
      "image/png": "[encoded data removed]",
      "text/plain": [
       "<Figure size 900x200 with 1 Axes>"
      ]
     },
     "metadata": {},
     "output_type": "display_data"
    },
    {
     "data": {
      "image/png": "[encoded data removed]",
      "text/plain": [
       "<Figure size 900x200 with 2 Axes>"
      ]
     },
     "metadata": {},
     "output_type": "display_data"
    }
   ],
   "source": [
    "#number of datapoints per patient\n",
    "import importlib\n",
    "importlib.reload(cdf)\n",
    "#days per patient\n",
    "plt.figure(figsize=(9,2)); ax=plt.gca()\n",
    "cdf.plot_cdf(df_basal.groupby('PtID')['day'].nunique(),ax=ax, color=drawing.colors['Basal']); \n",
    "cdf.plot_cdf(df_bolus.groupby('PtID')['day'].nunique(),ax=ax, color=drawing.colors['Bolus']); \n",
    "cdf.plot_cdf(df_cgm.groupby('PtID')['day'].nunique(),ax=ax, color=drawing.colors['CGM']); \n",
    "plt.legend(['Basal','Bolus','CGM']); plt.title('Days of data per patient')\n",
    "\n",
    "#datapoints\n",
    "plt.figure(figsize=(9,2)); ax=plt.gca()\n",
    "cdf.plot_cdf(df_basal.groupby('PtID').size(),ax=ax, color=drawing.colors['Basal']); \n",
    "cdf.plot_cdf(df_bolus.groupby('PtID').size(),ax=ax, color=drawing.colors['Bolus']);\n",
    "plt.legend(['Basal','Bolus']); plt.title('Data points per patient')\n",
    "twiny = ax.twiny()\n",
    "cdf.plot_cdf(df_cgm.groupby('PtID').size(),ax=twiny, color=drawing.colors['CGM']);\n",
    "plt.legend(['CGM']); plt.title('Data points per patient')\n",
    "twiny.spines['top'].set_color(drawing.colors['CGM'])\n",
    "twiny.xaxis.label.set_color(drawing.colors['CGM'])\n",
    "twiny.set_xlabel('')\n",
    "#twiny.set_xlabel('Data points per patient')\n",
    "twiny.tick_params(axis='x', colors=drawing.colors['CGM'])"
   ]
  },
  {
   "cell_type": "markdown",
   "metadata": {},
   "source": [
    "## Daily Patterns"
   ]
  },
  {
   "cell_type": "markdown",
   "metadata": {},
   "source": [
    "### CGM"
   ]
  },
  {
   "cell_type": "code",
   "execution_count": 33,
   "metadata": {},
   "outputs": [
    {
     "data": {
      "image/png": "[encoded data removed]",
      "text/plain": [
       "<Figure size 800x200 with 3 Axes>"
      ]
     },
     "metadata": {},
     "output_type": "display_data"
    }
   ],
   "source": [
    "importlib.reload(drawing)\n",
    "plt.figure(figsize=(8,2)); ax=plt.gca()\n",
    "drawing.drawMovingAverage(ax, df_cgm, 'datetime', 'GlucoseValue', aggregator='mean', color=drawing.colors['CGM'], label='CGM')\n",
    "ax.legend(loc='upper left')\n",
    "\n",
    "# First twin axis (red)\n",
    "twinax = ax.twinx()\n",
    "drawing.drawMovingAverage(twinax, df_bolus.dropna(subset='Normal'), 'datetime', 'Normal', aggregator='mean', color='red', label='Bolus')\n",
    "twinax.legend(loc='upper right')\n",
    "twinax.spines['right'].set_color('red')\n",
    "twinax.tick_params(axis='y', colors='red')\n",
    "twinax.yaxis.label.set_color('red')\n",
    "\n",
    "# Second twin axis (blue)\n",
    "twinax2 = ax.twinx()\n",
    "twinax2.spines['right'].set_position(('outward', 60))\n",
    "drawing.drawMovingAverage(twinax2, df_basal, 'datetime', 'Rate', aggregator='mean', color='blue', label='Basal',s=1)\n",
    "twinax2.legend(loc='lower right')\n",
    "twinax2.spines['right'].set_color('blue')\n",
    "twinax2.tick_params(axis='y', colors='blue')\n",
    "twinax2.yaxis.label.set_color('blue')\n",
    "\n",
    "plt.title('Moving averages')\n",
    "save_figure('moving_averages')"
   ]
  },
  {
   "cell_type": "markdown",
   "metadata": {},
   "source": [
    "CGM and Boluses are as expected showing charcteristic peaks around breakfast, lunch dinner, night. \n",
    "However, basal rates show no specific pattern. Probably this is because we have CSII not AID. The spikes might be because more standard basal rates are adjusted at these times. \n",
    "One reason could be that the basal datetimes (e.g. the days) are not correct. Let's check by inspecting basal data"
   ]
  },
  {
   "cell_type": "markdown",
   "metadata": {},
   "source": [
    "### Inspecting Basal Rates "
   ]
  },
  {
   "cell_type": "code",
   "execution_count": 39,
   "metadata": {},
   "outputs": [
    {
     "name": "stdout",
     "output_type": "stream",
     "text": [
      "365\n"
     ]
    },
    {
     "data": {
      "application/vnd.jupyter.widget-view+json": {
       "model_id": "258b5574663249c68212999ab8e0550b",
       "version_major": 2,
       "version_minor": 0
      },
      "text/plain": [
       "Dropdown(description='Patient ID', options=(2, 3, 5, 7, 8, 10, 11, 14, 15, 16, 17, 18, 19, 20, 21, 23, 24, 26,…"
      ]
     },
     "metadata": {},
     "output_type": "display_data"
    },
    {
     "data": {
      "application/vnd.jupyter.widget-view+json": {
       "model_id": "fe0a05f0af2349fcab7c4b4028a55807",
       "version_major": 2,
       "version_minor": 0
      },
      "text/plain": [
       "IntSlider(value=0, description='Index', max=365)"
      ]
     },
     "metadata": {},
     "output_type": "display_data"
    },
    {
     "data": {
      "application/vnd.jupyter.widget-view+json": {
       "model_id": "b90520e95a694dc3a4720dfed4fcbd85",
       "version_major": 2,
       "version_minor": 0
      },
      "text/plain": [
       "Output()"
      ]
     },
     "metadata": {},
     "output_type": "display_data"
    },
    {
     "data": {
      "image/png": "[encoded data removed]",
      "text/plain": [
       "<Figure size 1200x300 with 1 Axes>"
      ]
     },
     "metadata": {},
     "output_type": "display_data"
    },
    {
     "name": "stdout",
     "output_type": "stream",
     "text": [
      "324\n"
     ]
    }
   ],
   "source": [
    "import ipywidgets as widgets\n",
    "from IPython.display import display\n",
    "import matplotlib.pyplot as plt\n",
    "from datetime import timedelta\n",
    "\n",
    "patient_ids = df_basal.PtID.unique()\n",
    "\n",
    "# Add dropdown \n",
    "dropdown = widgets.Dropdown(options=patient_ids, description='Patient ID')\n",
    "\n",
    "def update_slider(*args):\n",
    "    patient = dropdown.value\n",
    "    df = df_basal.loc[df_basal.PtID == patient]\n",
    "    num_days = (df['day'].max() - df['day'].min()).days\n",
    "    print(num_days)\n",
    "    slider.max = num_days\n",
    "\n",
    "dropdown.observe(update_slider, names='value')\n",
    "slider = widgets.IntSlider(min=0, max=0, step=1, description='Index')\n",
    "update_slider()\n",
    "\n",
    "f = plt.figure(figsize=(12,3)); ax=plt.gca()\n",
    "\n",
    "def plot_basal_data(patient, day):\n",
    "    ax.cla()\n",
    "    df = df_basal.loc[df_basal.PtID == patient]\n",
    "    start = df.datetime.min().normalize() + timedelta(days=day)\n",
    "    end = start + timedelta(days=1)\n",
    "    df = df.loc[(df.datetime >= start) & (df.datetime < end)]\n",
    "    print(f'Patient: {patient}, Day: {day} from ({start} - {end})')\n",
    "    if df.empty:\n",
    "        print('No data found for this patient and day.')\n",
    "        return\n",
    "    else:\n",
    "        drawing.drawBasal(ax, df.datetime, df.Rate)\n",
    "    display(f)\n",
    "    \n",
    "\n",
    "# Create an interactive output\n",
    "out = widgets.interactive_output(plot_basal_data, {'day': slider, 'patient': dropdown})\n",
    "\n",
    "# Display the slider and the output\n",
    "display(dropdown, slider, out)"
   ]
  },
  {
   "cell_type": "markdown",
   "metadata": {},
   "source": [
    "Yes, it looks like basal rates seem to fit one day to the next day "
   ]
  },
  {
   "cell_type": "markdown",
   "metadata": {},
   "source": [
    "#### Basal Durations\n",
    "We see some very high durations in basal rates (probably calculated as a result of data gaps)."
   ]
  },
  {
   "cell_type": "code",
   "execution_count": 35,
   "metadata": {},
   "outputs": [
    {
     "data": {
      "text/html": [
       "<div>\n",
       "<style scoped>\n",
       "    .dataframe tbody tr th:only-of-type {\n",
       "        vertical-align: middle;\n",
       "    }\n",
       "\n",
       "    .dataframe tbody tr th {\n",
       "        vertical-align: top;\n",
       "    }\n",
       "\n",
       "    .dataframe thead th {\n",
       "        text-align: right;\n",
       "    }\n",
       "</style>\n",
       "<table border=\"1\" class=\"dataframe\">\n",
       "  <thead>\n",
       "    <tr style=\"text-align: right;\">\n",
       "      <th></th>\n",
       "      <th>PtID</th>\n",
       "      <th>datetime</th>\n",
       "      <th>Rate</th>\n",
       "      <th>Duration</th>\n",
       "      <th>delivered</th>\n",
       "    </tr>\n",
       "  </thead>\n",
       "  <tbody>\n",
       "    <tr>\n",
       "      <th>46042</th>\n",
       "      <td>11</td>\n",
       "      <td>2025-07-09 15:30:00</td>\n",
       "      <td>0.6</td>\n",
       "      <td>1 days 08:30:00</td>\n",
       "      <td>19.500000</td>\n",
       "    </tr>\n",
       "    <tr>\n",
       "      <th>385915</th>\n",
       "      <td>40</td>\n",
       "      <td>2024-07-02 00:00:00</td>\n",
       "      <td>1.5</td>\n",
       "      <td>1 days 07:47:21</td>\n",
       "      <td>47.683750</td>\n",
       "    </tr>\n",
       "    <tr>\n",
       "      <th>385723</th>\n",
       "      <td>40</td>\n",
       "      <td>2024-10-22 00:00:00</td>\n",
       "      <td>1.5</td>\n",
       "      <td>1 days 00:05:06</td>\n",
       "      <td>36.127500</td>\n",
       "    </tr>\n",
       "    <tr>\n",
       "      <th>92957</th>\n",
       "      <td>45</td>\n",
       "      <td>2024-11-08 23:14:56</td>\n",
       "      <td>0.9</td>\n",
       "      <td>1 days 07:36:37</td>\n",
       "      <td>28.449250</td>\n",
       "    </tr>\n",
       "    <tr>\n",
       "      <th>94569</th>\n",
       "      <td>45</td>\n",
       "      <td>2025-08-26 00:00:00</td>\n",
       "      <td>0.8</td>\n",
       "      <td>278 days 15:43:10</td>\n",
       "      <td>5350.175556</td>\n",
       "    </tr>\n",
       "    <tr>\n",
       "      <th>90682</th>\n",
       "      <td>45</td>\n",
       "      <td>2025-09-24 00:00:00</td>\n",
       "      <td>0.8</td>\n",
       "      <td>249 days 16:43:10</td>\n",
       "      <td>4794.175556</td>\n",
       "    </tr>\n",
       "    <tr>\n",
       "      <th>500325</th>\n",
       "      <td>69</td>\n",
       "      <td>2025-01-17 11:23:46</td>\n",
       "      <td>2.0</td>\n",
       "      <td>1 days 12:36:14</td>\n",
       "      <td>73.207778</td>\n",
       "    </tr>\n",
       "    <tr>\n",
       "      <th>427429</th>\n",
       "      <td>79</td>\n",
       "      <td>2025-07-23 07:30:27</td>\n",
       "      <td>0.9</td>\n",
       "      <td>15 days 08:20:01</td>\n",
       "      <td>331.500250</td>\n",
       "    </tr>\n",
       "  </tbody>\n",
       "</table>\n",
       "</div>"
      ],
      "text/plain": [
       "        PtID            datetime  Rate          Duration    delivered\n",
       "46042     11 2025-07-09 15:30:00   0.6   1 days 08:30:00    19.500000\n",
       "385915    40 2024-07-02 00:00:00   1.5   1 days 07:47:21    47.683750\n",
       "385723    40 2024-10-22 00:00:00   1.5   1 days 00:05:06    36.127500\n",
       "92957     45 2024-11-08 23:14:56   0.9   1 days 07:36:37    28.449250\n",
       "94569     45 2025-08-26 00:00:00   0.8 278 days 15:43:10  5350.175556\n",
       "90682     45 2025-09-24 00:00:00   0.8 249 days 16:43:10  4794.175556\n",
       "500325    69 2025-01-17 11:23:46   2.0   1 days 12:36:14    73.207778\n",
       "427429    79 2025-07-23 07:30:27   0.9  15 days 08:20:01   331.500250"
      ]
     },
     "execution_count": 35,
     "metadata": {},
     "output_type": "execute_result"
    },
    {
     "data": {
      "image/png": "[encoded data removed]",
      "text/plain": [
       "<Figure size 800x200 with 1 Axes>"
      ]
     },
     "metadata": {},
     "output_type": "display_data"
    },
    {
     "data": {
      "image/png": "[encoded data removed]",
      "text/plain": [
       "<Figure size 800x200 with 1 Axes>"
      ]
     },
     "metadata": {},
     "output_type": "display_data"
    }
   ],
   "source": [
    "#cdfs\n",
    "plt.figure(figsize=(8,2));ax=plt.gca()\n",
    "cdf.plot_cdf(df_basal.Duration.dropna().dt.total_seconds()/3600,title='Basal Duration (hours)',ax=ax)\n",
    "plt.xscale('log')\n",
    "\n",
    "plt.figure(figsize=(8,2));ax=plt.gca()\n",
    "df_basal['delivered'] = df_basal['Duration'].dt.total_seconds()/3600 * df_basal['Rate']\n",
    "cdf.plot_cdf(df_basal.delivered.dropna(),title='Basal Deliveries',ax=ax)\n",
    "plt.xscale('log')\n",
    "\n",
    "df_basal.loc[(df_basal.Duration>timedelta(days=1)) & (df_basal.Rate>0)].head(8)[['PtID','datetime','Rate','Duration','delivered']]"
   ]
  },
  {
   "cell_type": "markdown",
   "metadata": {},
   "source": [
    "Let's look at data around a very long duration"
   ]
  },
  {
   "cell_type": "code",
   "execution_count": 36,
   "metadata": {},
   "outputs": [
    {
     "data": {
      "application/vnd.jupyter.widget-view+json": {
       "model_id": "89327f16361140a097d76e2cbcc52be4",
       "version_major": 2,
       "version_minor": 0
      },
      "text/plain": [
       "IntSlider(value=0, description='Index', max=65)"
      ]
     },
     "metadata": {},
     "output_type": "display_data"
    },
    {
     "data": {
      "application/vnd.jupyter.widget-view+json": {
       "model_id": "1eeec56f4f6e4d0bb7331420f13f24d4",
       "version_major": 2,
       "version_minor": 0
      },
      "text/plain": [
       "Output()"
      ]
     },
     "metadata": {},
     "output_type": "display_data"
    }
   ],
   "source": [
    "import ipywidgets as widgets\n",
    "from IPython.display import display\n",
    "\n",
    "long_durations = df_basal.loc[(df_basal.Duration>timedelta(days=1))]\n",
    "\n",
    "slider = widgets.IntSlider(min=0, max=len(long_durations) - 1, step=1, description='Index')\n",
    "def display_surrounding_rows(index):\n",
    "    sample = long_durations.iloc[index].name\n",
    "    subset = pandas_helper.extract_surrounding_rows(df_basal, sample, 2, sort_by=['PtID', 'datetime'])\n",
    "    subset = subset[['PtID', 'datetime', 'Rate', 'Duration']]\n",
    "    display(subset)\n",
    "\n",
    "# Create an interactive output\n",
    "out = widgets.interactive_output(display_surrounding_rows, {'index': slider})\n",
    "\n",
    "# Display the slider and the output\n",
    "display(slider, out)"
   ]
  },
  {
   "cell_type": "markdown",
   "metadata": {},
   "source": [
    "Observations\n",
    " - Most long durations have a zero basal rate\n",
    " - Mostly the duraitons match the data gap of 1 or more days until next basal rate\n",
    " - Sometimes they overlap with the next datetime\n",
    " - Some are excessive e.g. >250 days: In these cases, the data might not even fall within the study period\n",
    "\n"
   ]
  },
  {
   "cell_type": "markdown",
   "metadata": {},
   "source": [
    "Yes, in many cases the durations are extremely large and calculating the delivered amounts based on these would give extremely high values."
   ]
  },
  {
   "cell_type": "markdown",
   "metadata": {},
   "source": [
    "## Collected Todos\n",
    "- Why do extended and durations not match exactly?\n",
    "- Do we need Dexcom times? When are these missing\n",
    "- Are durations in ms or minutes, look at distributions\n",
    "\n",
    "\n",
    "## Collected Questions\n",
    "- How should we resolve basal duplicates with equal time and durations but different rates (e.g. scheduled)\n",
    "- Should we use suspends over other events? And then, is NaN equal to a 0 basal rate? This is how we treated them in T1DExi\n",
    "- Sometimes their durations don't match.\n",
    "- Why do durations of basal duplicates sometimes match next \n",
    "- Should we exclude data before and after study start?\n"
   ]
  },
  {
   "cell_type": "markdown",
   "metadata": {},
   "source": [
    "## Checklist Template\n",
    "\n",
    "- [ ] Things to check in every dataset\n",
    "0. [ ] Data\n",
    "\t1. [X] Glossary\n",
    "\t\t1. [X] List all relevant files and columns\n",
    "\t\t\t1. [X] check if exist\n",
    "\t\t\t2. [X] Check if there are more column names\n",
    "\t\t\t3. [X] Are there other files, not mentioned?\n",
    "\t2. [X] Missing data\n",
    "\t\t1. [X] Check for null values\n",
    "\t3. [ ] Handle Duplicated Rows (overall)\n",
    "\t\t1. [ ] Duplicates on special columns (e.g. patient id, datetime)\n",
    "\t\t\t1. [ ] How often?\n",
    "\t\t\t\t1. [ ] If often investigate?  Check for correlation (e.g. CGM dups)\n",
    "\t\t\t\t2. [ ] Drop (keep max (`test_get_duplicated_max_indexes`), sum, first?)\n",
    "\t4. [ ] Incomplete Patients\n",
    "\t\t1. [ ] Keep only patients with data in all datasets (`total_ids = reduce(np.intersect1d, (df_basal.PtID.unique(), df_bolus.PtID.unique(), df_cgm.PtID.unique()))`)\n",
    "2. [ ] Datetime Strings\n",
    "\t1. [ ] Datetestrings consistent?\n",
    "\t\t1. [ ] If not, check how to parse it efficiently and correctly. Use `parse_flair_dates` if applicable\n",
    "\t2. [ ] Adjustments made?\n",
    "\t\t1. [ ] Which one to use?\n",
    "\t\t2. [ ] Check if adjustments make sense \n",
    "\t\t\t1. [ ] Visually inspect gaps (sample)\n",
    "\t\t\t2. [ ] Check summary statistics (do gaps get smaller?)\n",
    "3. [ ] Timestamps\n",
    "\t1. [ ] All in local time?\n",
    "\t\t1. [ ] Glossary mentions UTC, timezones?\n",
    "\t2. [ ] Check distributions\n",
    "\t\t1. [ ] brekfast, lunch dinner peaks? \n",
    "\t\t2. [ ] Data consistent with bolus and CGM?\n",
    "4. [ ] CGMS\n",
    "\t1. [ ] Special Numbers\n",
    "\t\t1. [ ] Replaced?\n",
    "5. [ ] Boluses\n",
    "\t1. [ ] Requested vs. Delivered (check what timestamp means)\n",
    "\t2. [ ] Extended bolus part duration\n",
    "6. [ ] Basals\n",
    "\t1. [ ] Suspends?\n",
    "\t2. [ ] Temporary Basals\n"
   ]
  },
  {
   "cell_type": "markdown",
   "metadata": {},
   "source": []
  }
 ],
 "metadata": {
  "kernelspec": {
   "display_name": "babelbetes",
   "language": "python",
   "name": "python3"
  },
  "language_info": {
   "codemirror_mode": {
    "name": "ipython",
    "version": 3
   },
   "file_extension": ".py",
   "mimetype": "text/x-python",
   "name": "python",
   "nbconvert_exporter": "python",
   "pygments_lexer": "ipython3",
   "version": "3.11.0"
  }
 },
 "nbformat": 4,
 "nbformat_minor": 2
}
