{
 "cells": [
  {
   "cell_type": "markdown",
   "metadata": {},
   "source": [
    "## Replace BG Study"
   ]
  },
  {
   "cell_type": "code",
   "execution_count": 3,
   "metadata": {},
   "outputs": [],
   "source": [
    "import random\n",
    "import pandas as pd\n",
    "from datetime import datetime, timedelta\n",
    "import numpy as np\n",
    "from matplotlib import pyplot as plt\n",
    "\n",
    "import os; current_dir = os.getcwd(); \n",
    "import sys; sys.path.append('../..')\n",
    "from src import drawing, cdf, date_helper, logger, tdd, pandas_helper"
   ]
  },
  {
   "cell_type": "markdown",
   "metadata": {},
   "source": [
    "## Data\n",
    "Check number of patient, patient days, overlapping patients, demographics, insulin types, number of datapoints/days per patient (outliers?)"
   ]
  },
  {
   "cell_type": "markdown",
   "metadata": {},
   "source": [
    "## Checklist Template\n",
    "\n",
    "- [ ] Things to check in every dataset\n",
    "0. [ ] Data\n",
    "\t1. [ ] Glossary\n",
    "\t\t1. [ ] List all relevant files and columns\n",
    "\t\t\t1. [ ] check if exist\n",
    "\t\t\t2. [ ] Check if there are more column names\n",
    "\t\t\t3. [ ] Are there other files, not mentioned?\n",
    "\t2. [ ] Missing data\n",
    "\t\t1. [ ] Check for null values\n",
    "\t3. [ ] Handle Duplicated Rows (overall)\n",
    "\t\t1. [ ] Duplicates on special columns (e.g. patient id, datetime)\n",
    "\t\t\t1. [ ] How often?\n",
    "\t\t\t\t1. [ ] If often investigate?  Check for correlation (e.g. CGM dups)\n",
    "\t\t\t\t2. [ ] Drop (keep max (`test_get_duplicated_max_indexes`), sum, first?)\n",
    "\t4. [ ] Incomplete Patients\n",
    "\t\t1. [ ] Keep only patients with data in all datasets (`total_ids = reduce(np.intersect1d, (df_basal.PtID.unique(), df_bolus.PtID.unique(), df_cgm.PtID.unique()))`)\n",
    "2. [ ] Datetime Strings\n",
    "\t1. [ ] Datetestrings consistent?\n",
    "\t\t1. [ ] If not, check how to parse it efficiently and correctly. Use `parse_flair_dates` if applicable\n",
    "\t2. [ ] Adjustments made?\n",
    "\t\t1. [ ] Which one to use?\n",
    "\t\t2. [ ] Check if adjustments make sense \n",
    "\t\t\t1. [ ] Visually inspect gaps (sample)\n",
    "\t\t\t2. [ ] Check summary statistics (do gaps get smaller?)\n",
    "3. [ ] Timestamps\n",
    "\t1. [ ] All in local time?\n",
    "\t\t1. [ ] Glossary mentions UTC, timezones?\n",
    "\t2. [ ] Check distributions\n",
    "\t\t1. [ ] brekfast, lunch dinner peaks? \n",
    "\t\t2. [ ] Data consistent with bolus and CGM?\n",
    "4. [ ] CGMS\n",
    "\t1. [ ] Special Numbers\n",
    "\t\t1. [ ] Replaced?\n",
    "5. [ ] Boluses\n",
    "\t1. [ ] Requested vs. Delivered (check what timestamp means)\n",
    "\t2. [ ] Extended bolus part duration\n",
    "6. [ ] Basals\n",
    "\t1. [ ] Suspends?\n",
    "\t2. [ ] Temporary Basals\n"
   ]
  },
  {
   "cell_type": "markdown",
   "metadata": {},
   "source": []
  }
 ],
 "metadata": {
  "kernelspec": {
   "display_name": "babelbetes",
   "language": "python",
   "name": "python3"
  },
  "language_info": {
   "codemirror_mode": {
    "name": "ipython",
    "version": 3
   },
   "file_extension": ".py",
   "mimetype": "text/x-python",
   "name": "python",
   "nbconvert_exporter": "python",
   "pygments_lexer": "ipython3",
   "version": "3.11.0"
  }
 },
 "nbformat": 4,
 "nbformat_minor": 2
}
