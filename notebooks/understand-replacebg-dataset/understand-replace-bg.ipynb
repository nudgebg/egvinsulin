{
 "cells": [
  {
   "cell_type": "markdown",
   "metadata": {},
   "source": [
    "## Replace BG Study"
   ]
  },
  {
   "cell_type": "code",
   "execution_count": 1,
   "metadata": {},
   "outputs": [],
   "source": [
    "import os, sys\n",
    "from datetime import datetime, timedelta, timezone\n",
    "import time\n",
    "import numpy as np\n",
    "import pandas as pd\n",
    "from dask import dataframe as dd\n",
    "import matplotlib\n",
    "\n",
    "%matplotlib inline\n",
    "import matplotlib.pyplot as plt\n",
    "\n",
    "sys.path.append(os.path.join(os.getcwd(),'..','..'))\n",
    "from src import pandas_helper, cdf, tdd, drawing\n",
    "import importlib"
   ]
  },
  {
   "cell_type": "markdown",
   "metadata": {},
   "source": [
    "## Checklist Template\n",
    "\n",
    "- [ ] Things to check in every dataset\n",
    "0. [ ] Data\n",
    "\t1. [X] Glossary\n",
    "\t\t1. [X] List all relevant files and columns\n",
    "\t\t\t1. [X] check if exist\n",
    "\t\t\t2. [X] Check if there are more column names\n",
    "\t\t\t3. [X] Are there other files, not mentioned?\n",
    "\t2. [X] Missing data\n",
    "\t\t1. [X] Check for null values\n",
    "\t3. [ ] Handle Duplicated Rows (overall)\n",
    "\t\t1. [ ] Duplicates on special columns (e.g. patient id, datetime)\n",
    "\t\t\t1. [ ] How often?\n",
    "\t\t\t\t1. [ ] If often investigate?  Check for correlation (e.g. CGM dups)\n",
    "\t\t\t\t2. [ ] Drop (keep max (`test_get_duplicated_max_indexes`), sum, first?)\n",
    "\t4. [ ] Incomplete Patients\n",
    "\t\t1. [ ] Keep only patients with data in all datasets (`total_ids = reduce(np.intersect1d, (df_basal.PtID.unique(), df_bolus.PtID.unique(), df_cgm.PtID.unique()))`)\n",
    "2. [ ] Datetime Strings\n",
    "\t1. [ ] Datetestrings consistent?\n",
    "\t\t1. [ ] If not, check how to parse it efficiently and correctly. Use `parse_flair_dates` if applicable\n",
    "\t2. [ ] Adjustments made?\n",
    "\t\t1. [ ] Which one to use?\n",
    "\t\t2. [ ] Check if adjustments make sense \n",
    "\t\t\t1. [ ] Visually inspect gaps (sample)\n",
    "\t\t\t2. [ ] Check summary statistics (do gaps get smaller?)\n",
    "3. [ ] Timestamps\n",
    "\t1. [ ] All in local time?\n",
    "\t\t1. [ ] Glossary mentions UTC, timezones?\n",
    "\t2. [ ] Check distributions\n",
    "\t\t1. [ ] brekfast, lunch dinner peaks? \n",
    "\t\t2. [ ] Data consistent with bolus and CGM?\n",
    "4. [ ] CGMS\n",
    "\t1. [ ] Special Numbers\n",
    "\t\t1. [ ] Replaced?\n",
    "5. [ ] Boluses\n",
    "\t1. [ ] Requested vs. Delivered (check what timestamp means)\n",
    "\t2. [ ] Extended bolus part duration\n",
    "6. [ ] Basals\n",
    "\t1. [ ] Suspends?\n",
    "\t2. [ ] Temporary Basals\n"
   ]
  },
  {
   "cell_type": "markdown",
   "metadata": {},
   "source": [
    "## Data"
   ]
  },
  {
   "cell_type": "markdown",
   "metadata": {},
   "source": [
    "### Files & Relvant Columns"
   ]
  },
  {
   "cell_type": "markdown",
   "metadata": {},
   "source": [
    "#### Files\n",
    "\n",
    "The study data folder is named **Loop study public dataset 2023-01-31**\n",
    "\n",
    "From the ReadMe.rtf file, the following relevant files were identified which are stored in the **Data Tables** subfolder.\n",
    "\n",
    "| File Name| Description| Note|\n",
    "|------|-----|-----|\n",
    "| HDeviceCGM,.txt| One record per CGM reading | Similar to what we've seen in Loop (Tidepool structure) |\n",
    "| HDeviceBasal.txt| | Not included in the JAEB file anymore. Similar to what we've seen in Loop (Tidepool structure)|\n",
    "| HDeviceBolus.txt| One record per bolus reading from a pump | Similar to what we've seen in Loop (Tidepool structure)|\n",
    "| HPtRoster.txt|One record per Protocol H PtID obtained |  |"
   ]
  },
  {
   "cell_type": "markdown",
   "metadata": {},
   "source": [
    "#### Relevant Columns:\n",
    "The following lists all relevant columns. Other columns were considered irrelevant. Some are still mentioned if they serve the discussion but crossed through.\n",
    "\n",
    "#### HDeviceCGM.txt\n",
    "| Field_Name | Description (Glossary) | Notes |\n",
    "|----|----|-|\n",
    "| DeviceDtTmDaysFromEnroll | Device date number of days from enrollment| convert to timedelta (unit='days'), add to DeviceTm and arbitrary study start date|\n",
    "| DeviceTm |Device time | convert to timedelta (H::M:S)|\n",
    "|DexInternalDtTmDaysFromEnroll|Internal date number of days from enrollment| Seems to be Dexcom time, Not missing as in Loop, let's check if needed.|\n",
    "|DexInternalTm|Internal time|Seems to be Dexcom time, Not missing as in Loop, let's check if needed.|\n",
    "| RecordType| Type of data (CGM, Calibration, etc)| Needed to drop calibrations|\n",
    "| GlucoseValue| Glucose value (units: mg/dL)| |\n",
    "\n",
    "#### HDeviceBolus.txt\n",
    "| Field_Name| Description (Glossary) | Notes |\n",
    "|-|-|-|\n",
    "| DeviceDtTmDaysFromEnroll | Device date number of days from enrollment| convert to timedelta (unit='days'), add to DeviceTm and arbitrary study start date|\n",
    "| DeviceTm |Device time | convert to timedelta (H::M:S)|\n",
    "| BolusType| Subtype of data (ex: \"Normal\" and \"Square\" are subtypes of \"Bolus\" type)||\n",
    "| Normal | Number of units of normal bolus |Likely the only relevant value.|\n",
    "| Extended | Number of units for extended delivery | We found that there are 0.4% extended boluses, probably triggered from the pump directly since Loop does not support these.|\n",
    "| Duration | Time span over which the bolus was delivered (milliseconds for Tidepool data, minutes for Diasend data) | Our analysis shows that Duration refers to the Extended part of a Bolus. However, unclear how to find out wether in ms or minutes. JAEB couldn't answer.|\n",
    "\n",
    "#### HDeviceBasal.txt\n",
    "Note: File not included in the JAEB file anymore!\n",
    "\n",
    "| Field_Name | Description (Glossary) |  Notes|\n",
    "|--|---|--|\n",
    "| PtID |  Participant ID | |\n",
    "| DeviceDtTmDaysFromEnroll | Device date number of days from enrollment| convert to timedelta (unit='days'), add to DeviceTm and arbitrary study start date|\n",
    "| DeviceTm |Device time | convert to timedelta (H::M:S)|\n",
    "| BasalType| Basal delivery type|used to find suspends|\n",
    "| Duration | Actual number of milliseconds basal will be in effect| Used as duration|\n",
    "| Rate | Number of units per hour |We use this as actual delivery rate|\n",
    "\n",
    "Note: As in the Loop study dataset, we assume that the Bolus columns: ExpectedNormal, ExpectedDuration, ExpectedExtended (Bolus) and the Basal columns: ExpectedDuration, Percent, SuprBasalType, SuprDuration, SuprRate can be ignored as they don't represent the actual deliveries but amounts that were suppressed. However, we will use them to investigate duplicates."
   ]
  },
  {
   "cell_type": "markdown",
   "metadata": {},
   "source": [
    "#### Summary\n",
    "The tables mostly follow the Tidepool structure \n",
    "Differences:\n",
    "- Timestamps are given relative to enrollment start\n",
    "- Insulin and InsValue columns exist, however always empty\n",
    "- CGM values in mgdl not mmol\n",
    "- Dexcom times seem to be present in all rows\n",
    "- No timezone offsets are present, probably all in local time\n",
    "\n",
    "#TODO:\n",
    " 1. Check if Dexcom times exist and if they are needed\n",
    " 2. Check if duration is in milliseconds (Bolus)"
   ]
  },
  {
   "cell_type": "markdown",
   "metadata": {},
   "source": [
    "### Load data"
   ]
  },
  {
   "cell_type": "code",
   "execution_count": 2,
   "metadata": {},
   "outputs": [],
   "source": [
    "#define path variables\n",
    "study_name = 'REPLACE-BG Dataset-79f6bdc8-3c51-4736-a39f-c4c0f71d45e5'\n",
    "raw_path = os.path.join(os.getcwd(), '..', '..', 'data', 'raw')\n",
    "out_path = os.path.join(os.getcwd(), '..', '..', 'data', 'out')\n",
    "study_path = os.path.join(raw_path, study_name)\n",
    "df_basal = pd.read_csv(os.path.join(study_path, 'Data Tables', 'HDeviceBasal.txt'), sep='|')\n",
    "df_bolus = pd.read_csv(os.path.join(study_path, 'Data Tables', 'HDeviceBolus.txt'), sep='|')\n",
    "df_patient = pd.read_csv(os.path.join(study_path, 'Data Tables', 'HPtRoster.txt'), sep='|')\n",
    "df_cgm = pd.read_csv(os.path.join(study_path, 'Data Tables', 'HDeviceCGM.txt'), sep='|')"
   ]
  },
  {
   "cell_type": "code",
   "execution_count": 3,
   "metadata": {},
   "outputs": [],
   "source": [
    "#convert datetimes and durations\n",
    "enrollment_start = datetime(2025,1,1)\n",
    "df_basal['datetime'] = enrollment_start+pd.to_timedelta(df_basal['DeviceDtTmDaysFromEnroll'],unit='D')+pd.to_timedelta(df_basal['DeviceTm'])\n",
    "df_bolus['datetime'] = enrollment_start+pd.to_timedelta(df_bolus['DeviceDtTmDaysFromEnroll'],unit='D')+pd.to_timedelta(df_bolus['DeviceTm'])\n",
    "df_cgm['datetime'] = enrollment_start+pd.to_timedelta(df_cgm['DeviceDtTmDaysFromEnroll'],unit='D')+pd.to_timedelta(df_cgm['DeviceTm'])\n",
    "\n",
    "df_basal['hour_of_day'] = df_basal.datetime.dt.hour\n",
    "df_bolus['hour_of_day'] = df_bolus.datetime.dt.hour\n",
    "df_cgm['hour_of_day'] = df_cgm.datetime.dt.hour\n",
    "\n",
    "df_bolus['day'] = df_bolus.datetime.dt.date\n",
    "df_basal['day'] = df_basal.datetime.dt.date\n",
    "df_cgm['day'] = df_cgm.datetime.dt.date\n"
   ]
  },
  {
   "cell_type": "code",
   "execution_count": 4,
   "metadata": {},
   "outputs": [],
   "source": [
    "#drop DeviceDtTmDaysFromEnroll and DeviceTm\n",
    "df_basal.drop(columns=['DeviceDtTmDaysFromEnroll', 'DeviceTm'], inplace=True)\n",
    "df_bolus.drop(columns=['DeviceDtTmDaysFromEnroll', 'DeviceTm'], inplace=True)\n",
    "df_cgm.drop(columns=['DeviceDtTmDaysFromEnroll', 'DeviceTm'], inplace=True)"
   ]
  },
  {
   "cell_type": "code",
   "execution_count": 5,
   "metadata": {},
   "outputs": [],
   "source": [
    "#convert durations\n",
    "df_basal['Duration'] = pd.to_timedelta(df_basal['Duration'],unit='ms')\n",
    "df_basal['ExpectedDuration'] = pd.to_timedelta(df_basal['ExpectedDuration'],unit='ms')\n",
    "df_basal['SuprDuration'] = pd.to_timedelta(df_basal['SuprDuration'],unit='ms')\n",
    "df_bolus['Duration'] = pd.to_timedelta(df_bolus['Duration'],unit='ms')\n",
    "df_bolus['ExpectedDuration'] = pd.to_timedelta(df_bolus['ExpectedDuration'],unit='ms')\n"
   ]
  },
  {
   "cell_type": "code",
   "execution_count": 6,
   "metadata": {},
   "outputs": [],
   "source": [
    "## drop calibrations\n",
    "df_cgm = df_cgm.loc[df_cgm.RecordType == 'CGM']"
   ]
  },
  {
   "cell_type": "code",
   "execution_count": 7,
   "metadata": {},
   "outputs": [],
   "source": [
    "## sort\n",
    "df_basal.sort_values(by=['PtID','datetime'], inplace=True)\n",
    "df_bolus.sort_values(by=['PtID','datetime'], inplace=True)\n",
    "df_cgm.sort_values(by=['PtID','datetime'], inplace=True)"
   ]
  },
  {
   "cell_type": "markdown",
   "metadata": {},
   "source": [
    "### Missing Data\n",
    "Check for Null Values"
   ]
  },
  {
   "cell_type": "code",
   "execution_count": 8,
   "metadata": {},
   "outputs": [
    {
     "data": {
      "text/plain": [
       "'Bolus:'"
      ]
     },
     "metadata": {},
     "output_type": "display_data"
    },
    {
     "data": {
      "text/plain": [
       "RecID                     100.000000\n",
       "ParentHDeviceUploadsID    100.000000\n",
       "PtID                      100.000000\n",
       "SiteID                    100.000000\n",
       "BolusType                 100.000000\n",
       "InjValue                    0.000000\n",
       "Insulin                     0.000000\n",
       "Normal                     98.769320\n",
       "ExpectedNormal              1.125063\n",
       "Extended                    5.221328\n",
       "ExpectedExtended            0.354778\n",
       "Duration                    5.474809\n",
       "ExpectedDuration            0.354778\n",
       "datetime                  100.000000\n",
       "hour_of_day               100.000000\n",
       "day                       100.000000\n",
       "dtype: float64"
      ]
     },
     "metadata": {},
     "output_type": "display_data"
    },
    {
     "data": {
      "text/plain": [
       "'Basal:'"
      ]
     },
     "metadata": {},
     "output_type": "display_data"
    },
    {
     "data": {
      "text/plain": [
       "RecID                     100.000000\n",
       "ParentHDeviceUploadsID    100.000000\n",
       "PtID                      100.000000\n",
       "SiteID                    100.000000\n",
       "BasalType                 100.000000\n",
       "Duration                   99.916074\n",
       "ExpectedDuration           16.879589\n",
       "Percnt                      6.147610\n",
       "Rate                       91.929439\n",
       "SuprBasalType              12.718023\n",
       "SuprDuration               11.322436\n",
       "SuprRate                   12.710484\n",
       "datetime                  100.000000\n",
       "hour_of_day               100.000000\n",
       "day                       100.000000\n",
       "dtype: float64"
      ]
     },
     "metadata": {},
     "output_type": "display_data"
    },
    {
     "data": {
      "text/plain": [
       "'CGM:'"
      ]
     },
     "metadata": {},
     "output_type": "display_data"
    },
    {
     "data": {
      "text/plain": [
       "RecID                            100.000000\n",
       "ParentHDeviceUploadsID           100.000000\n",
       "PtID                             100.000000\n",
       "SiteID                           100.000000\n",
       "DexInternalDtTmDaysFromEnroll     95.996795\n",
       "DexInternalTm                     95.996795\n",
       "RecordType                       100.000000\n",
       "GlucoseValue                     100.000000\n",
       "datetime                         100.000000\n",
       "hour_of_day                      100.000000\n",
       "day                              100.000000\n",
       "dtype: float64"
      ]
     },
     "metadata": {},
     "output_type": "display_data"
    }
   ],
   "source": [
    "#column counts  (%)\n",
    "display('Bolus:')\n",
    "display(100*df_bolus.count()/len(df_bolus))\n",
    "display('Basal:')\n",
    "display(100*df_basal.count()/len(df_basal))\n",
    "display('CGM:')\n",
    "display(100*df_cgm.count()/len(df_cgm))"
   ]
  },
  {
   "cell_type": "markdown",
   "metadata": {},
   "source": [
    "- Number of Extended and Duration don't match exactly\n",
    "- Some Dexcom times are missing."
   ]
  },
  {
   "cell_type": "markdown",
   "metadata": {},
   "source": [
    "### Duplicates"
   ]
  },
  {
   "cell_type": "code",
   "execution_count": 9,
   "metadata": {},
   "outputs": [
    {
     "name": "stdout",
     "output_type": "stream",
     "text": [
      "8291 actual duplicates in bolus\n",
      "104091 actual duplicates in basal\n",
      "1840 actual duplicates in cgm\n"
     ]
    }
   ],
   "source": [
    "### duplicates (all rows)\n",
    "print(f\"{df_bolus.duplicated(subset=['PtID', 'datetime','BolusType','Normal','Extended','Duration'],keep=False).sum()} actual duplicates in bolus\")\n",
    "print(f\"{df_basal.duplicated(subset=['PtID', 'datetime','Rate','BasalType','Duration'],keep=False).sum()} actual duplicates in basal\")\n",
    "print(f\"{df_cgm.duplicated(subset=['PtID', 'datetime','RecordType','GlucoseValue'],keep=False).sum()} actual duplicates in cgm\")\n"
   ]
  },
  {
   "cell_type": "code",
   "execution_count": 10,
   "metadata": {},
   "outputs": [],
   "source": [
    "#drop these duplicates\n",
    "df_bolus = df_bolus.drop_duplicates(subset=['PtID', 'datetime','BolusType','Normal','Extended','Duration'])\n",
    "df_basal = df_basal.drop_duplicates(subset=['PtID', 'datetime','Rate','BasalType','Duration'])\n",
    "df_cgm = df_cgm.drop_duplicates(subset=['PtID', 'datetime','RecordType','GlucoseValue'])"
   ]
  },
  {
   "cell_type": "code",
   "execution_count": 11,
   "metadata": {},
   "outputs": [
    {
     "name": "stdout",
     "output_type": "stream",
     "text": [
      "1.13% temporal duplicates in basal\n",
      "0.06% temporal duplicates in bolus\n",
      "0.01% temporal duplicates in cgm\n"
     ]
    }
   ],
   "source": [
    "### duplicates (only on datetime)\n",
    "print(f\"{100*df_basal.duplicated(subset=['PtID', 'datetime'],keep=False).sum()/len(df_basal):.2f}% temporal duplicates in basal\")\n",
    "print(f\"{100*df_bolus.duplicated(subset=['PtID', 'datetime'],keep=False).sum()/len(df_bolus):.2f}% temporal duplicates in bolus\")\n",
    "print(f\"{100*df_cgm.duplicated(subset=['PtID', 'datetime'],keep=False).sum()/len(df_cgm):.2f}% temporal duplicates in cgm\")"
   ]
  },
  {
   "cell_type": "markdown",
   "metadata": {},
   "source": [
    "#### Basal Duplicates"
   ]
  },
  {
   "cell_type": "code",
   "execution_count": 68,
   "metadata": {},
   "outputs": [
    {
     "data": {
      "text/plain": [
       "'5006 basal rows are temporal duplicates'"
      ]
     },
     "metadata": {},
     "output_type": "display_data"
    },
    {
     "name": "stdout",
     "output_type": "stream",
     "text": [
      "This is where they differ:\n"
     ]
    },
    {
     "data": {
      "text/plain": [
       "RecID                     2486\n",
       "ParentHDeviceUploadsID    1872\n",
       "PtID                         0\n",
       "SiteID                       0\n",
       "BasalType                 1183\n",
       "Duration                  1727\n",
       "ExpectedDuration          2071\n",
       "Percnt                     144\n",
       "Rate                      1256\n",
       "SuprBasalType             1167\n",
       "SuprDuration              1119\n",
       "SuprRate                  1169\n",
       "datetime                     0\n",
       "hour_of_day                  0\n",
       "day                          0\n",
       "dtype: int64"
      ]
     },
     "metadata": {},
     "output_type": "display_data"
    },
    {
     "data": {
      "text/plain": [
       "'some examples:'"
      ]
     },
     "metadata": {},
     "output_type": "display_data"
    },
    {
     "data": {
      "text/html": [
       "<div>\n",
       "<style scoped>\n",
       "    .dataframe tbody tr th:only-of-type {\n",
       "        vertical-align: middle;\n",
       "    }\n",
       "\n",
       "    .dataframe tbody tr th {\n",
       "        vertical-align: top;\n",
       "    }\n",
       "\n",
       "    .dataframe thead th {\n",
       "        text-align: right;\n",
       "    }\n",
       "</style>\n",
       "<table border=\"1\" class=\"dataframe\">\n",
       "  <thead>\n",
       "    <tr style=\"text-align: right;\">\n",
       "      <th></th>\n",
       "      <th>PtID</th>\n",
       "      <th>datetime</th>\n",
       "      <th>Duration</th>\n",
       "      <th>ExpectedDuration</th>\n",
       "      <th>Rate</th>\n",
       "      <th>BasalType</th>\n",
       "      <th>Percnt</th>\n",
       "      <th>SuprDuration</th>\n",
       "      <th>SuprRate</th>\n",
       "    </tr>\n",
       "  </thead>\n",
       "  <tbody>\n",
       "    <tr>\n",
       "      <th>301126</th>\n",
       "      <td>46</td>\n",
       "      <td>2025-04-13 22:36:11</td>\n",
       "      <td>0 days 01:23:49</td>\n",
       "      <td>NaT</td>\n",
       "      <td>NaN</td>\n",
       "      <td>suspend</td>\n",
       "      <td>NaN</td>\n",
       "      <td>0 days 01:23:49</td>\n",
       "      <td>1.00</td>\n",
       "    </tr>\n",
       "    <tr>\n",
       "      <th>301125</th>\n",
       "      <td>46</td>\n",
       "      <td>2025-04-13 22:36:11</td>\n",
       "      <td>0 days 00:00:00</td>\n",
       "      <td>0 days 01:23:49</td>\n",
       "      <td>1.00</td>\n",
       "      <td>scheduled</td>\n",
       "      <td>NaN</td>\n",
       "      <td>NaT</td>\n",
       "      <td>NaN</td>\n",
       "    </tr>\n",
       "    <tr>\n",
       "      <th>166899</th>\n",
       "      <td>141</td>\n",
       "      <td>2024-11-22 07:00:00</td>\n",
       "      <td>0 days 00:29:58</td>\n",
       "      <td>0 days 14:03:01</td>\n",
       "      <td>0.65</td>\n",
       "      <td>scheduled</td>\n",
       "      <td>NaN</td>\n",
       "      <td>NaT</td>\n",
       "      <td>NaN</td>\n",
       "    </tr>\n",
       "    <tr>\n",
       "      <th>166901</th>\n",
       "      <td>141</td>\n",
       "      <td>2024-11-22 07:00:00</td>\n",
       "      <td>0 days 00:49:30</td>\n",
       "      <td>0 days 14:52:38</td>\n",
       "      <td>0.65</td>\n",
       "      <td>scheduled</td>\n",
       "      <td>NaN</td>\n",
       "      <td>NaT</td>\n",
       "      <td>NaN</td>\n",
       "    </tr>\n",
       "    <tr>\n",
       "      <th>166903</th>\n",
       "      <td>141</td>\n",
       "      <td>2024-11-22 07:00:00</td>\n",
       "      <td>0 days 02:06:57</td>\n",
       "      <td>0 days 17:00:00</td>\n",
       "      <td>0.65</td>\n",
       "      <td>scheduled</td>\n",
       "      <td>NaN</td>\n",
       "      <td>NaT</td>\n",
       "      <td>NaN</td>\n",
       "    </tr>\n",
       "    <tr>\n",
       "      <th>166927</th>\n",
       "      <td>141</td>\n",
       "      <td>2024-11-19 15:24:31</td>\n",
       "      <td>0 days 00:00:00</td>\n",
       "      <td>0 days 08:35:29</td>\n",
       "      <td>0.65</td>\n",
       "      <td>scheduled</td>\n",
       "      <td>NaN</td>\n",
       "      <td>NaT</td>\n",
       "      <td>NaN</td>\n",
       "    </tr>\n",
       "    <tr>\n",
       "      <th>166928</th>\n",
       "      <td>141</td>\n",
       "      <td>2024-11-19 15:24:31</td>\n",
       "      <td>0 days 00:00:01</td>\n",
       "      <td>NaT</td>\n",
       "      <td>NaN</td>\n",
       "      <td>suspend</td>\n",
       "      <td>NaN</td>\n",
       "      <td>0 days 08:35:29</td>\n",
       "      <td>0.65</td>\n",
       "    </tr>\n",
       "  </tbody>\n",
       "</table>\n",
       "</div>"
      ],
      "text/plain": [
       "        PtID            datetime        Duration ExpectedDuration  Rate  \\\n",
       "301126    46 2025-04-13 22:36:11 0 days 01:23:49              NaT   NaN   \n",
       "301125    46 2025-04-13 22:36:11 0 days 00:00:00  0 days 01:23:49  1.00   \n",
       "166899   141 2024-11-22 07:00:00 0 days 00:29:58  0 days 14:03:01  0.65   \n",
       "166901   141 2024-11-22 07:00:00 0 days 00:49:30  0 days 14:52:38  0.65   \n",
       "166903   141 2024-11-22 07:00:00 0 days 02:06:57  0 days 17:00:00  0.65   \n",
       "166927   141 2024-11-19 15:24:31 0 days 00:00:00  0 days 08:35:29  0.65   \n",
       "166928   141 2024-11-19 15:24:31 0 days 00:00:01              NaT   NaN   \n",
       "\n",
       "        BasalType  Percnt    SuprDuration  SuprRate  \n",
       "301126    suspend     NaN 0 days 01:23:49      1.00  \n",
       "301125  scheduled     NaN             NaT       NaN  \n",
       "166899  scheduled     NaN             NaT       NaN  \n",
       "166901  scheduled     NaN             NaT       NaN  \n",
       "166903  scheduled     NaN             NaT       NaN  \n",
       "166927  scheduled     NaN             NaT       NaN  \n",
       "166928    suspend     NaN 0 days 08:35:29      0.65  "
      ]
     },
     "metadata": {},
     "output_type": "display_data"
    }
   ],
   "source": [
    "#check where temporal duplicates differ\n",
    "basal_temp_dups = df_basal.loc[df_basal.duplicated(subset=['PtID', 'datetime'], keep=False)]\n",
    "\n",
    "display(f\"{len(basal_temp_dups)} basal rows are temporal duplicates\")\n",
    "\n",
    "print('This is where they differ:')\n",
    "display(pandas_helper.count_differences_in_duplicates(df_basal, subset=['PtID', 'datetime']))\n",
    "\n",
    "#print some temporal duplicates\n",
    "display(\"some examples:\")\n",
    "display(basal_temp_dups.loc[[301126,301125,166899,166901,166903,166927,166928],['PtID', 'datetime', 'Duration','ExpectedDuration', 'Rate','BasalType','Percnt','SuprDuration','SuprRate']])"
   ]
  },
  {
   "cell_type": "markdown",
   "metadata": {},
   "source": [
    "It looks like the suspend event overwrites the scheduled event. But it does not look very consistent. \n",
    " - Sometimes, Durations are empty\n",
    " - sometimes the Suppressed duration does not match the scheduled duration. \n",
    "Also, the SuprRate does not always match the scheduled rate exactly. In order to better udnerstand what is going on we need to take a look at the data in context."
   ]
  },
  {
   "cell_type": "markdown",
   "metadata": {},
   "source": [
    "#### Equal duration & rate\n",
    "When we have duplicates where datetime, duration and rate are equal, we don't care which one, we just keep one:\n"
   ]
  },
  {
   "cell_type": "code",
   "execution_count": 69,
   "metadata": {},
   "outputs": [
    {
     "data": {
      "text/html": [
       "<div>\n",
       "<style scoped>\n",
       "    .dataframe tbody tr th:only-of-type {\n",
       "        vertical-align: middle;\n",
       "    }\n",
       "\n",
       "    .dataframe tbody tr th {\n",
       "        vertical-align: top;\n",
       "    }\n",
       "\n",
       "    .dataframe thead th {\n",
       "        text-align: right;\n",
       "    }\n",
       "</style>\n",
       "<table border=\"1\" class=\"dataframe\">\n",
       "  <thead>\n",
       "    <tr style=\"text-align: right;\">\n",
       "      <th></th>\n",
       "      <th>PtID</th>\n",
       "      <th>datetime</th>\n",
       "      <th>Rate</th>\n",
       "      <th>Duration</th>\n",
       "      <th>BasalType</th>\n",
       "      <th>Percnt</th>\n",
       "      <th>SuprDuration</th>\n",
       "      <th>SuprRate</th>\n",
       "    </tr>\n",
       "  </thead>\n",
       "  <tbody>\n",
       "  </tbody>\n",
       "</table>\n",
       "</div>"
      ],
      "text/plain": [
       "Empty DataFrame\n",
       "Columns: [PtID, datetime, Rate, Duration, BasalType, Percnt, SuprDuration, SuprRate]\n",
       "Index: []"
      ]
     },
     "metadata": {},
     "output_type": "display_data"
    },
    {
     "name": "stdout",
     "output_type": "stream",
     "text": [
      "From all duplicates in basal, 0.00% are duplicates in rate and duration\n"
     ]
    },
    {
     "data": {
      "text/plain": [
       "Series([], Name: count, dtype: int64)"
      ]
     },
     "metadata": {},
     "output_type": "display_data"
    }
   ],
   "source": [
    "#obvious: duplicates: equal duration and rate\n",
    "temp = df_basal.loc[df_basal.duplicated(subset=['PtID', 'datetime','Rate','Duration'],keep=False)]\n",
    "temp = temp.sort_values(by=['PtID', 'datetime'])\n",
    "display(temp[['PtID','datetime','Rate','Duration','BasalType','Percnt','SuprDuration','SuprRate']].head(4))\n",
    "\n",
    "print(f\"From all duplicates in basal, {100*len(temp)/len(basal_temp_dups):.2f}% are duplicates in rate and duration\")\n",
    "display(temp.BasalType.value_counts())"
   ]
  },
  {
   "cell_type": "code",
   "execution_count": 70,
   "metadata": {},
   "outputs": [
    {
     "name": "stdout",
     "output_type": "stream",
     "text": [
      "5006 temporal duplicates are left after removing duplicates in rate and duration\n"
     ]
    }
   ],
   "source": [
    "#drop\n",
    "df_basal = df_basal.drop_duplicates(subset=['PtID', 'datetime','Rate', 'Duration'],keep='first')\n",
    "basal_temp_dups = df_basal.loc[df_basal.duplicated(subset=['PtID','datetime'], keep=False)]\n",
    "print(f\"{len(basal_temp_dups)} temporal duplicates are left after removing duplicates in rate and duration\")"
   ]
  },
  {
   "cell_type": "markdown",
   "metadata": {},
   "source": [
    "#### Inspecting Duplicates and surrounding Events"
   ]
  },
  {
   "cell_type": "code",
   "execution_count": 16,
   "metadata": {},
   "outputs": [
    {
     "data": {
      "application/vnd.jupyter.widget-view+json": {
       "model_id": "ae624fd0e22c4072bfff1e0c977cdb80",
       "version_major": 2,
       "version_minor": 0
      },
      "text/plain": [
       "HBox(children=(Button(description='Previous', style=ButtonStyle()), Button(description='Next', style=ButtonSty…"
      ]
     },
     "metadata": {},
     "output_type": "display_data"
    },
    {
     "data": {
      "application/vnd.jupyter.widget-view+json": {
       "model_id": "eebf02c899714898b130d89eb3c773a4",
       "version_major": 2,
       "version_minor": 0
      },
      "text/plain": [
       "IntSlider(value=0, description='Index', max=5005)"
      ]
     },
     "metadata": {},
     "output_type": "display_data"
    },
    {
     "data": {
      "application/vnd.jupyter.widget-view+json": {
       "model_id": "4078459244a54bcd8a853478cf6aeb2a",
       "version_major": 2,
       "version_minor": 0
      },
      "text/plain": [
       "Output()"
      ]
     },
     "metadata": {},
     "output_type": "display_data"
    }
   ],
   "source": [
    "import ipywidgets as widgets\n",
    "from IPython.display import display\n",
    "import importlib\n",
    "\n",
    "importlib.reload(pandas_helper)\n",
    "basal_temp_dups = df_basal.loc[df_basal.duplicated(subset=matching_cols, keep=False)]\n",
    "\n",
    "# Scroll through the duplicates and get the surrounding rows\n",
    "def display_surrounding_rows(i):\n",
    "    index = basal_temp_dups.index[i]\n",
    "    subframe = pandas_helper.extract_surrounding_rows(df_basal, index, 2, sort_by=['PtID', 'datetime'])\n",
    "    subframe['end']=subframe['datetime']+subframe['Duration']\n",
    "    print(subframe.ExpectedDuration.max())\n",
    "    display(subframe[['PtID','BasalType','datetime', 'Duration', 'end','Rate']])\n",
    "\n",
    "# Create slider\n",
    "slider = widgets.IntSlider(min=0, max=len(basal_temp_dups)-1, step=1, description='Index')\n",
    "\n",
    "# Create buttons\n",
    "prev_button = widgets.Button(description=\"Previous\")\n",
    "next_button = widgets.Button(description=\"Next\")\n",
    "step_buttons = widgets.HBox([prev_button, next_button])  # Put buttons in a row\n",
    "\n",
    "# Button event handlers\n",
    "def on_button_clicked(b):\n",
    "    if b.description == \"Previous\":\n",
    "        slider.value = max(slider.value - 1, slider.min)\n",
    "    elif b.description == \"Next\":\n",
    "        slider.value = min(slider.value + 1, slider.max)\n",
    "\n",
    "# Attach event handlers\n",
    "prev_button.on_click(on_button_clicked)\n",
    "next_button.on_click(on_button_clicked)\n",
    "\n",
    "# Output widget\n",
    "out = widgets.interactive_output(display_surrounding_rows, {'i': slider})\n",
    "\n",
    "# Display everything\n",
    "display(step_buttons, slider, out)"
   ]
  },
  {
   "cell_type": "markdown",
   "metadata": {},
   "source": [
    " For duplicates on suspend/scheduled, it is difficult to say which one to use:\n",
    " - Sometimes suspend duration, sometimes scheduled duration match the next row\n",
    " - Many durations don't match the next next rows start time \n",
    "    - Sometimes (multiple scheduled durations) both match the next datetime"
   ]
  },
  {
   "cell_type": "markdown",
   "metadata": {},
   "source": [
    "#### Equal duration, different rate\n",
    "Some duplicates have the same duration. Then the question is which one to pick:"
   ]
  },
  {
   "cell_type": "code",
   "execution_count": 73,
   "metadata": {},
   "outputs": [
    {
     "name": "stdout",
     "output_type": "stream",
     "text": [
      "These are the combinations:\n"
     ]
    },
    {
     "data": {
      "text/plain": [
       "{scheduled, suspend}    689\n",
       "{scheduled, temp}        50\n",
       "{scheduled}              17\n",
       "{temp, suspend}           3\n",
       "Name: count, dtype: int64"
      ]
     },
     "metadata": {},
     "output_type": "display_data"
    },
    {
     "data": {
      "text/plain": [
       "\"Examples for {'scheduled', 'suspend'}:\""
      ]
     },
     "metadata": {},
     "output_type": "display_data"
    },
    {
     "data": {
      "text/html": [
       "<div>\n",
       "<style scoped>\n",
       "    .dataframe tbody tr th:only-of-type {\n",
       "        vertical-align: middle;\n",
       "    }\n",
       "\n",
       "    .dataframe tbody tr th {\n",
       "        vertical-align: top;\n",
       "    }\n",
       "\n",
       "    .dataframe thead th {\n",
       "        text-align: right;\n",
       "    }\n",
       "</style>\n",
       "<table border=\"1\" class=\"dataframe\">\n",
       "  <thead>\n",
       "    <tr style=\"text-align: right;\">\n",
       "      <th></th>\n",
       "      <th>PtID</th>\n",
       "      <th>datetime</th>\n",
       "      <th>Rate</th>\n",
       "      <th>Duration</th>\n",
       "      <th>BasalType</th>\n",
       "      <th>Percnt</th>\n",
       "      <th>SuprDuration</th>\n",
       "      <th>SuprRate</th>\n",
       "    </tr>\n",
       "  </thead>\n",
       "  <tbody>\n",
       "    <tr>\n",
       "      <th>156181</th>\n",
       "      <td>24</td>\n",
       "      <td>2025-02-26 18:00:00</td>\n",
       "      <td>1.2</td>\n",
       "      <td>0 days 06:00:00</td>\n",
       "      <td>scheduled</td>\n",
       "      <td>NaN</td>\n",
       "      <td>NaT</td>\n",
       "      <td>NaN</td>\n",
       "    </tr>\n",
       "    <tr>\n",
       "      <th>156300</th>\n",
       "      <td>24</td>\n",
       "      <td>2025-02-26 18:00:00</td>\n",
       "      <td>NaN</td>\n",
       "      <td>0 days 06:00:00</td>\n",
       "      <td>suspend</td>\n",
       "      <td>NaN</td>\n",
       "      <td>0 days 06:00:00</td>\n",
       "      <td>1.1</td>\n",
       "    </tr>\n",
       "    <tr>\n",
       "      <th>156134</th>\n",
       "      <td>24</td>\n",
       "      <td>2025-02-27 03:00:00</td>\n",
       "      <td>0.9</td>\n",
       "      <td>0 days 03:00:00</td>\n",
       "      <td>scheduled</td>\n",
       "      <td>NaN</td>\n",
       "      <td>NaT</td>\n",
       "      <td>NaN</td>\n",
       "    </tr>\n",
       "    <tr>\n",
       "      <th>157355</th>\n",
       "      <td>24</td>\n",
       "      <td>2025-02-27 03:00:00</td>\n",
       "      <td>NaN</td>\n",
       "      <td>0 days 03:00:00</td>\n",
       "      <td>suspend</td>\n",
       "      <td>NaN</td>\n",
       "      <td>0 days 03:00:00</td>\n",
       "      <td>0.9</td>\n",
       "    </tr>\n",
       "  </tbody>\n",
       "</table>\n",
       "</div>"
      ],
      "text/plain": [
       "        PtID            datetime  Rate        Duration  BasalType  Percnt  \\\n",
       "156181    24 2025-02-26 18:00:00   1.2 0 days 06:00:00  scheduled     NaN   \n",
       "156300    24 2025-02-26 18:00:00   NaN 0 days 06:00:00    suspend     NaN   \n",
       "156134    24 2025-02-27 03:00:00   0.9 0 days 03:00:00  scheduled     NaN   \n",
       "157355    24 2025-02-27 03:00:00   NaN 0 days 03:00:00    suspend     NaN   \n",
       "\n",
       "          SuprDuration  SuprRate  \n",
       "156181             NaT       NaN  \n",
       "156300 0 days 06:00:00       1.1  \n",
       "156134             NaT       NaN  \n",
       "157355 0 days 03:00:00       0.9  "
      ]
     },
     "metadata": {},
     "output_type": "display_data"
    },
    {
     "data": {
      "text/plain": [
       "\"Examples for {'scheduled', 'temp'}:\""
      ]
     },
     "metadata": {},
     "output_type": "display_data"
    },
    {
     "data": {
      "text/html": [
       "<div>\n",
       "<style scoped>\n",
       "    .dataframe tbody tr th:only-of-type {\n",
       "        vertical-align: middle;\n",
       "    }\n",
       "\n",
       "    .dataframe tbody tr th {\n",
       "        vertical-align: top;\n",
       "    }\n",
       "\n",
       "    .dataframe thead th {\n",
       "        text-align: right;\n",
       "    }\n",
       "</style>\n",
       "<table border=\"1\" class=\"dataframe\">\n",
       "  <thead>\n",
       "    <tr style=\"text-align: right;\">\n",
       "      <th></th>\n",
       "      <th>PtID</th>\n",
       "      <th>datetime</th>\n",
       "      <th>Rate</th>\n",
       "      <th>Duration</th>\n",
       "      <th>BasalType</th>\n",
       "      <th>Percnt</th>\n",
       "      <th>SuprDuration</th>\n",
       "      <th>SuprRate</th>\n",
       "    </tr>\n",
       "  </thead>\n",
       "  <tbody>\n",
       "    <tr>\n",
       "      <th>456962</th>\n",
       "      <td>10</td>\n",
       "      <td>2023-11-06</td>\n",
       "      <td>0.570</td>\n",
       "      <td>0 days 00:03:15</td>\n",
       "      <td>scheduled</td>\n",
       "      <td>NaN</td>\n",
       "      <td>NaT</td>\n",
       "      <td>NaN</td>\n",
       "    </tr>\n",
       "    <tr>\n",
       "      <th>456963</th>\n",
       "      <td>10</td>\n",
       "      <td>2023-11-06</td>\n",
       "      <td>0.480</td>\n",
       "      <td>0 days 00:03:15</td>\n",
       "      <td>temp</td>\n",
       "      <td>1.2</td>\n",
       "      <td>NaT</td>\n",
       "      <td>0.4</td>\n",
       "    </tr>\n",
       "    <tr>\n",
       "      <th>456948</th>\n",
       "      <td>10</td>\n",
       "      <td>2023-11-07</td>\n",
       "      <td>0.522</td>\n",
       "      <td>0 days 00:01:23</td>\n",
       "      <td>scheduled</td>\n",
       "      <td>NaN</td>\n",
       "      <td>NaT</td>\n",
       "      <td>NaN</td>\n",
       "    </tr>\n",
       "    <tr>\n",
       "      <th>456949</th>\n",
       "      <td>10</td>\n",
       "      <td>2023-11-07</td>\n",
       "      <td>0.440</td>\n",
       "      <td>0 days 00:01:23</td>\n",
       "      <td>temp</td>\n",
       "      <td>1.1</td>\n",
       "      <td>NaT</td>\n",
       "      <td>0.4</td>\n",
       "    </tr>\n",
       "  </tbody>\n",
       "</table>\n",
       "</div>"
      ],
      "text/plain": [
       "        PtID   datetime   Rate        Duration  BasalType  Percnt  \\\n",
       "456962    10 2023-11-06  0.570 0 days 00:03:15  scheduled     NaN   \n",
       "456963    10 2023-11-06  0.480 0 days 00:03:15       temp     1.2   \n",
       "456948    10 2023-11-07  0.522 0 days 00:01:23  scheduled     NaN   \n",
       "456949    10 2023-11-07  0.440 0 days 00:01:23       temp     1.1   \n",
       "\n",
       "       SuprDuration  SuprRate  \n",
       "456962          NaT       NaN  \n",
       "456963          NaT       0.4  \n",
       "456948          NaT       NaN  \n",
       "456949          NaT       0.4  "
      ]
     },
     "metadata": {},
     "output_type": "display_data"
    },
    {
     "data": {
      "text/plain": [
       "\"Examples for {'scheduled'}:\""
      ]
     },
     "metadata": {},
     "output_type": "display_data"
    },
    {
     "data": {
      "text/html": [
       "<div>\n",
       "<style scoped>\n",
       "    .dataframe tbody tr th:only-of-type {\n",
       "        vertical-align: middle;\n",
       "    }\n",
       "\n",
       "    .dataframe tbody tr th {\n",
       "        vertical-align: top;\n",
       "    }\n",
       "\n",
       "    .dataframe thead th {\n",
       "        text-align: right;\n",
       "    }\n",
       "</style>\n",
       "<table border=\"1\" class=\"dataframe\">\n",
       "  <thead>\n",
       "    <tr style=\"text-align: right;\">\n",
       "      <th></th>\n",
       "      <th>PtID</th>\n",
       "      <th>datetime</th>\n",
       "      <th>Rate</th>\n",
       "      <th>Duration</th>\n",
       "      <th>BasalType</th>\n",
       "      <th>Percnt</th>\n",
       "      <th>SuprDuration</th>\n",
       "      <th>SuprRate</th>\n",
       "    </tr>\n",
       "  </thead>\n",
       "  <tbody>\n",
       "    <tr>\n",
       "      <th>259969</th>\n",
       "      <td>173</td>\n",
       "      <td>2025-01-30 00:00:00</td>\n",
       "      <td>0.900</td>\n",
       "      <td>0 days 05:00:00</td>\n",
       "      <td>scheduled</td>\n",
       "      <td>NaN</td>\n",
       "      <td>NaT</td>\n",
       "      <td>NaN</td>\n",
       "    </tr>\n",
       "    <tr>\n",
       "      <th>259979</th>\n",
       "      <td>173</td>\n",
       "      <td>2025-01-30 00:00:00</td>\n",
       "      <td>0.850</td>\n",
       "      <td>0 days 05:00:00</td>\n",
       "      <td>scheduled</td>\n",
       "      <td>NaN</td>\n",
       "      <td>NaT</td>\n",
       "      <td>NaN</td>\n",
       "    </tr>\n",
       "    <tr>\n",
       "      <th>243699</th>\n",
       "      <td>185</td>\n",
       "      <td>2025-07-14 20:30:00</td>\n",
       "      <td>0.025</td>\n",
       "      <td>0 days 03:30:00</td>\n",
       "      <td>scheduled</td>\n",
       "      <td>NaN</td>\n",
       "      <td>NaT</td>\n",
       "      <td>NaN</td>\n",
       "    </tr>\n",
       "    <tr>\n",
       "      <th>243700</th>\n",
       "      <td>185</td>\n",
       "      <td>2025-07-14 20:30:00</td>\n",
       "      <td>3.000</td>\n",
       "      <td>0 days 03:30:00</td>\n",
       "      <td>scheduled</td>\n",
       "      <td>NaN</td>\n",
       "      <td>NaT</td>\n",
       "      <td>NaN</td>\n",
       "    </tr>\n",
       "  </tbody>\n",
       "</table>\n",
       "</div>"
      ],
      "text/plain": [
       "        PtID            datetime   Rate        Duration  BasalType  Percnt  \\\n",
       "259969   173 2025-01-30 00:00:00  0.900 0 days 05:00:00  scheduled     NaN   \n",
       "259979   173 2025-01-30 00:00:00  0.850 0 days 05:00:00  scheduled     NaN   \n",
       "243699   185 2025-07-14 20:30:00  0.025 0 days 03:30:00  scheduled     NaN   \n",
       "243700   185 2025-07-14 20:30:00  3.000 0 days 03:30:00  scheduled     NaN   \n",
       "\n",
       "       SuprDuration  SuprRate  \n",
       "259969          NaT       NaN  \n",
       "259979          NaT       NaN  \n",
       "243699          NaT       NaN  \n",
       "243700          NaT       NaN  "
      ]
     },
     "metadata": {},
     "output_type": "display_data"
    },
    {
     "data": {
      "text/plain": [
       "\"Examples for {'temp', 'suspend'}:\""
      ]
     },
     "metadata": {},
     "output_type": "display_data"
    },
    {
     "data": {
      "text/html": [
       "<div>\n",
       "<style scoped>\n",
       "    .dataframe tbody tr th:only-of-type {\n",
       "        vertical-align: middle;\n",
       "    }\n",
       "\n",
       "    .dataframe tbody tr th {\n",
       "        vertical-align: top;\n",
       "    }\n",
       "\n",
       "    .dataframe thead th {\n",
       "        text-align: right;\n",
       "    }\n",
       "</style>\n",
       "<table border=\"1\" class=\"dataframe\">\n",
       "  <thead>\n",
       "    <tr style=\"text-align: right;\">\n",
       "      <th></th>\n",
       "      <th>PtID</th>\n",
       "      <th>datetime</th>\n",
       "      <th>Rate</th>\n",
       "      <th>Duration</th>\n",
       "      <th>BasalType</th>\n",
       "      <th>Percnt</th>\n",
       "      <th>SuprDuration</th>\n",
       "      <th>SuprRate</th>\n",
       "    </tr>\n",
       "  </thead>\n",
       "  <tbody>\n",
       "    <tr>\n",
       "      <th>157051</th>\n",
       "      <td>24</td>\n",
       "      <td>2025-03-28 03:00:00</td>\n",
       "      <td>0.45</td>\n",
       "      <td>0 days 03:00:00</td>\n",
       "      <td>temp</td>\n",
       "      <td>0.5</td>\n",
       "      <td>0 days 03:00:00</td>\n",
       "      <td>0.9</td>\n",
       "    </tr>\n",
       "    <tr>\n",
       "      <th>157156</th>\n",
       "      <td>24</td>\n",
       "      <td>2025-03-28 03:00:00</td>\n",
       "      <td>NaN</td>\n",
       "      <td>0 days 03:00:00</td>\n",
       "      <td>suspend</td>\n",
       "      <td>NaN</td>\n",
       "      <td>0 days 03:00:00</td>\n",
       "      <td>0.9</td>\n",
       "    </tr>\n",
       "    <tr>\n",
       "      <th>156026</th>\n",
       "      <td>24</td>\n",
       "      <td>2025-03-29 03:00:00</td>\n",
       "      <td>0.45</td>\n",
       "      <td>0 days 03:00:00</td>\n",
       "      <td>temp</td>\n",
       "      <td>0.5</td>\n",
       "      <td>0 days 03:00:00</td>\n",
       "      <td>0.9</td>\n",
       "    </tr>\n",
       "    <tr>\n",
       "      <th>159902</th>\n",
       "      <td>24</td>\n",
       "      <td>2025-03-29 03:00:00</td>\n",
       "      <td>NaN</td>\n",
       "      <td>0 days 03:00:00</td>\n",
       "      <td>suspend</td>\n",
       "      <td>NaN</td>\n",
       "      <td>0 days 03:00:00</td>\n",
       "      <td>0.9</td>\n",
       "    </tr>\n",
       "  </tbody>\n",
       "</table>\n",
       "</div>"
      ],
      "text/plain": [
       "        PtID            datetime  Rate        Duration BasalType  Percnt  \\\n",
       "157051    24 2025-03-28 03:00:00  0.45 0 days 03:00:00      temp     0.5   \n",
       "157156    24 2025-03-28 03:00:00   NaN 0 days 03:00:00   suspend     NaN   \n",
       "156026    24 2025-03-29 03:00:00  0.45 0 days 03:00:00      temp     0.5   \n",
       "159902    24 2025-03-29 03:00:00   NaN 0 days 03:00:00   suspend     NaN   \n",
       "\n",
       "          SuprDuration  SuprRate  \n",
       "157051 0 days 03:00:00       0.9  \n",
       "157156 0 days 03:00:00       0.9  \n",
       "156026 0 days 03:00:00       0.9  \n",
       "159902 0 days 03:00:00       0.9  "
      ]
     },
     "metadata": {},
     "output_type": "display_data"
    }
   ],
   "source": [
    "basal_temp_dur_dups = df_basal.loc[df_basal.duplicated(subset=['PtID', 'datetime', 'Duration'],keep=False)]\n",
    "basal_temp_dur_dups_grped = basal_temp_dur_dups.groupby(['PtID', 'datetime','Duration'],group_keys=False)\n",
    "\n",
    "print('These are the combinations:')\n",
    "combinations = basal_temp_dur_dups_grped.apply(lambda x: set(x.BasalType), include_groups=False)\n",
    "display(combinations.value_counts())\n",
    "\n",
    "#print examples for each combination\n",
    "for aset in combinations.value_counts().index:\n",
    "    display(f'Examples for {aset}:')\n",
    "    temp = basal_temp_dur_dups_grped.filter(lambda g: set(g['BasalType']) == aset)\n",
    "    display(temp.head(4)[['PtID','datetime','Rate','Duration','BasalType','Percnt','SuprDuration','SuprRate']])"
   ]
  },
  {
   "cell_type": "markdown",
   "metadata": {},
   "source": [
    "From the exampels we believe the following assumptions should be made: When there are temporal duplicates in time and duration. Then the duplicates should be resolved as follows:\n",
    " 1. (scheduled or temp) and suspends: keep the suspend, set Rate to 0 (using fillna)\n",
    " 2. scheduled and temp: use temp over scheduled\n",
    " 3. Only scheduled: use the maximum value"
   ]
  },
  {
   "cell_type": "code",
   "execution_count": 90,
   "metadata": {},
   "outputs": [
    {
     "name": "stdout",
     "output_type": "stream",
     "text": [
      "Dropping 759 indexes, removes 1518 duplicates. 3488 duplicated rows are left\n"
     ]
    },
    {
     "name": "stderr",
     "output_type": "stream",
     "text": [
      "/var/folders/m4/5d02b2xs0l52lbxzbk0t3vym0000gp/T/ipykernel_38720/3500514043.py:13: DeprecationWarning: DataFrameGroupBy.apply operated on the grouping columns. This behavior is deprecated, and in a future version of pandas the grouping columns will be excluded from the operation. Either pass `include_groups=False` to exclude the groupings or explicitly select the grouping columns after groupby to silence this warning.\n",
      "  filtered = basal_temp_dur_dups.groupby(['PtID', 'datetime','Duration'], group_keys=False).apply(filter_duplicates)\n"
     ]
    }
   ],
   "source": [
    "def filter_duplicates(grp):\n",
    "    basal_types = set(grp['BasalType'])\n",
    "    #(scheduled or temp) and suspends: keep the suspend, set Rate to 0 (using fillna)\n",
    "    if 'suspend' in basal_types:\n",
    "        return grp.loc[grp.BasalType == 'suspend']\n",
    "    #scheduled and temp: use temp over scheduled\n",
    "    elif basal_types == {'scheduled','temp'}:\n",
    "         return grp.loc[grp.BasalType == 'temp']\n",
    "    #Only scheduled: use the maximum value\n",
    "    elif basal_types == {'scheduled'}:\n",
    "         return grp.loc[[grp.Rate.idxmax()]]\n",
    "\n",
    "filtered = basal_temp_dur_dups.groupby(['PtID', 'datetime','Duration'], group_keys=False).apply(filter_duplicates)\n",
    "dups_to_remove = basal_temp_dur_dups.index.difference(filtered.index)\n",
    "\n",
    "df_basal = df_basal.drop(index=dups_to_remove)\n",
    "\n",
    "#re-generate temporal duplicates\n",
    "basal_temp_dups = df_basal.loc[df_basal.duplicated(subset=['PtID','datetime'], keep=False)]\n",
    "\n",
    "print(f'Dropping {len(dups_to_remove)} indexes, removes {len(basal_temp_dur_dups)} duplicates. {len(basal_temp_dups)} duplicated rows are left')"
   ]
  },
  {
   "cell_type": "markdown",
   "metadata": {},
   "source": [
    "Each duplicate were two rowsso we reduce the number by "
   ]
  },
  {
   "cell_type": "code",
   "execution_count": 88,
   "metadata": {},
   "outputs": [
    {
     "name": "stdout",
     "output_type": "stream",
     "text": [
      "5006\n",
      "759\n",
      "3488\n"
     ]
    }
   ],
   "source": [
    "print(df_basal.duplicated(subset=['PtID', 'datetime'], keep=False).sum())\n",
    "print(len(df_basal)-len(df_basal.drop(index=dups_to_remove)))\n",
    "print(df_basal.drop(index=dups_to_remove).duplicated(subset=['PtID', 'datetime'], keep=False).sum())"
   ]
  },
  {
   "cell_type": "code",
   "execution_count": 62,
   "metadata": {},
   "outputs": [
    {
     "data": {
      "text/html": [
       "<div>\n",
       "<style scoped>\n",
       "    .dataframe tbody tr th:only-of-type {\n",
       "        vertical-align: middle;\n",
       "    }\n",
       "\n",
       "    .dataframe tbody tr th {\n",
       "        vertical-align: top;\n",
       "    }\n",
       "\n",
       "    .dataframe thead th {\n",
       "        text-align: right;\n",
       "    }\n",
       "</style>\n",
       "<table border=\"1\" class=\"dataframe\">\n",
       "  <thead>\n",
       "    <tr style=\"text-align: right;\">\n",
       "      <th></th>\n",
       "      <th>RecID</th>\n",
       "      <th>ParentHDeviceUploadsID</th>\n",
       "      <th>PtID</th>\n",
       "      <th>SiteID</th>\n",
       "      <th>BasalType</th>\n",
       "      <th>Duration</th>\n",
       "      <th>ExpectedDuration</th>\n",
       "      <th>Percnt</th>\n",
       "      <th>Rate</th>\n",
       "      <th>SuprBasalType</th>\n",
       "      <th>SuprDuration</th>\n",
       "      <th>SuprRate</th>\n",
       "      <th>datetime</th>\n",
       "      <th>hour_of_day</th>\n",
       "      <th>day</th>\n",
       "    </tr>\n",
       "  </thead>\n",
       "  <tbody>\n",
       "    <tr>\n",
       "      <th>162862</th>\n",
       "      <td>484623</td>\n",
       "      <td>3768</td>\n",
       "      <td>2</td>\n",
       "      <td>14</td>\n",
       "      <td>scheduled</td>\n",
       "      <td>0 days 00:05:01</td>\n",
       "      <td>NaT</td>\n",
       "      <td>NaN</td>\n",
       "      <td>0.900</td>\n",
       "      <td>NaN</td>\n",
       "      <td>NaT</td>\n",
       "      <td>NaN</td>\n",
       "      <td>2024-08-31 21:02:33</td>\n",
       "      <td>21</td>\n",
       "      <td>2024-08-31</td>\n",
       "    </tr>\n",
       "    <tr>\n",
       "      <th>162948</th>\n",
       "      <td>484709</td>\n",
       "      <td>3768</td>\n",
       "      <td>2</td>\n",
       "      <td>14</td>\n",
       "      <td>temp</td>\n",
       "      <td>0 days 02:52:26</td>\n",
       "      <td>NaT</td>\n",
       "      <td>NaN</td>\n",
       "      <td>0.108</td>\n",
       "      <td>NaN</td>\n",
       "      <td>NaT</td>\n",
       "      <td>NaN</td>\n",
       "      <td>2024-08-31 21:07:34</td>\n",
       "      <td>21</td>\n",
       "      <td>2024-08-31</td>\n",
       "    </tr>\n",
       "    <tr>\n",
       "      <th>162892</th>\n",
       "      <td>484653</td>\n",
       "      <td>3768</td>\n",
       "      <td>2</td>\n",
       "      <td>14</td>\n",
       "      <td>scheduled</td>\n",
       "      <td>1 days 00:00:00</td>\n",
       "      <td>NaT</td>\n",
       "      <td>NaN</td>\n",
       "      <td>0.108</td>\n",
       "      <td>NaN</td>\n",
       "      <td>NaT</td>\n",
       "      <td>NaN</td>\n",
       "      <td>2024-09-01 00:00:00</td>\n",
       "      <td>0</td>\n",
       "      <td>2024-09-01</td>\n",
       "    </tr>\n",
       "    <tr>\n",
       "      <th>162911</th>\n",
       "      <td>484672</td>\n",
       "      <td>3768</td>\n",
       "      <td>2</td>\n",
       "      <td>14</td>\n",
       "      <td>scheduled</td>\n",
       "      <td>1 days 00:00:00</td>\n",
       "      <td>NaT</td>\n",
       "      <td>NaN</td>\n",
       "      <td>0.108</td>\n",
       "      <td>NaN</td>\n",
       "      <td>NaT</td>\n",
       "      <td>NaN</td>\n",
       "      <td>2024-09-02 00:00:00</td>\n",
       "      <td>0</td>\n",
       "      <td>2024-09-02</td>\n",
       "    </tr>\n",
       "    <tr>\n",
       "      <th>162839</th>\n",
       "      <td>484600</td>\n",
       "      <td>3768</td>\n",
       "      <td>2</td>\n",
       "      <td>14</td>\n",
       "      <td>scheduled</td>\n",
       "      <td>0 days 19:33:48</td>\n",
       "      <td>NaT</td>\n",
       "      <td>NaN</td>\n",
       "      <td>0.108</td>\n",
       "      <td>NaN</td>\n",
       "      <td>NaT</td>\n",
       "      <td>NaN</td>\n",
       "      <td>2024-09-03 00:00:00</td>\n",
       "      <td>0</td>\n",
       "      <td>2024-09-03</td>\n",
       "    </tr>\n",
       "    <tr>\n",
       "      <th>...</th>\n",
       "      <td>...</td>\n",
       "      <td>...</td>\n",
       "      <td>...</td>\n",
       "      <td>...</td>\n",
       "      <td>...</td>\n",
       "      <td>...</td>\n",
       "      <td>...</td>\n",
       "      <td>...</td>\n",
       "      <td>...</td>\n",
       "      <td>...</td>\n",
       "      <td>...</td>\n",
       "      <td>...</td>\n",
       "      <td>...</td>\n",
       "      <td>...</td>\n",
       "      <td>...</td>\n",
       "    </tr>\n",
       "    <tr>\n",
       "      <th>172399</th>\n",
       "      <td>189990</td>\n",
       "      <td>3272</td>\n",
       "      <td>293</td>\n",
       "      <td>10</td>\n",
       "      <td>scheduled</td>\n",
       "      <td>0 days 02:12:07</td>\n",
       "      <td>NaT</td>\n",
       "      <td>NaN</td>\n",
       "      <td>0.475</td>\n",
       "      <td>NaN</td>\n",
       "      <td>NaT</td>\n",
       "      <td>NaN</td>\n",
       "      <td>2025-07-11 21:47:53</td>\n",
       "      <td>21</td>\n",
       "      <td>2025-07-11</td>\n",
       "    </tr>\n",
       "    <tr>\n",
       "      <th>172398</th>\n",
       "      <td>189989</td>\n",
       "      <td>3272</td>\n",
       "      <td>293</td>\n",
       "      <td>10</td>\n",
       "      <td>scheduled</td>\n",
       "      <td>0 days 03:00:00</td>\n",
       "      <td>NaT</td>\n",
       "      <td>NaN</td>\n",
       "      <td>0.400</td>\n",
       "      <td>NaN</td>\n",
       "      <td>NaT</td>\n",
       "      <td>NaN</td>\n",
       "      <td>2025-07-12 00:00:00</td>\n",
       "      <td>0</td>\n",
       "      <td>2025-07-12</td>\n",
       "    </tr>\n",
       "    <tr>\n",
       "      <th>172397</th>\n",
       "      <td>189988</td>\n",
       "      <td>3272</td>\n",
       "      <td>293</td>\n",
       "      <td>10</td>\n",
       "      <td>scheduled</td>\n",
       "      <td>0 days 03:00:00</td>\n",
       "      <td>NaT</td>\n",
       "      <td>NaN</td>\n",
       "      <td>0.550</td>\n",
       "      <td>NaN</td>\n",
       "      <td>NaT</td>\n",
       "      <td>NaN</td>\n",
       "      <td>2025-07-12 03:00:00</td>\n",
       "      <td>3</td>\n",
       "      <td>2025-07-12</td>\n",
       "    </tr>\n",
       "    <tr>\n",
       "      <th>172396</th>\n",
       "      <td>189987</td>\n",
       "      <td>3272</td>\n",
       "      <td>293</td>\n",
       "      <td>10</td>\n",
       "      <td>scheduled</td>\n",
       "      <td>0 days 03:00:00</td>\n",
       "      <td>NaT</td>\n",
       "      <td>NaN</td>\n",
       "      <td>0.900</td>\n",
       "      <td>NaN</td>\n",
       "      <td>NaT</td>\n",
       "      <td>NaN</td>\n",
       "      <td>2025-07-12 06:00:00</td>\n",
       "      <td>6</td>\n",
       "      <td>2025-07-12</td>\n",
       "    </tr>\n",
       "    <tr>\n",
       "      <th>172395</th>\n",
       "      <td>189986</td>\n",
       "      <td>3272</td>\n",
       "      <td>293</td>\n",
       "      <td>10</td>\n",
       "      <td>scheduled</td>\n",
       "      <td>0 days 03:00:00</td>\n",
       "      <td>NaT</td>\n",
       "      <td>NaN</td>\n",
       "      <td>0.850</td>\n",
       "      <td>NaN</td>\n",
       "      <td>NaT</td>\n",
       "      <td>NaN</td>\n",
       "      <td>2025-07-12 09:00:00</td>\n",
       "      <td>9</td>\n",
       "      <td>2025-07-12</td>\n",
       "    </tr>\n",
       "  </tbody>\n",
       "</table>\n",
       "<p>450156 rows × 15 columns</p>\n",
       "</div>"
      ],
      "text/plain": [
       "         RecID  ParentHDeviceUploadsID  PtID  SiteID  BasalType  \\\n",
       "162862  484623                    3768     2      14  scheduled   \n",
       "162948  484709                    3768     2      14       temp   \n",
       "162892  484653                    3768     2      14  scheduled   \n",
       "162911  484672                    3768     2      14  scheduled   \n",
       "162839  484600                    3768     2      14  scheduled   \n",
       "...        ...                     ...   ...     ...        ...   \n",
       "172399  189990                    3272   293      10  scheduled   \n",
       "172398  189989                    3272   293      10  scheduled   \n",
       "172397  189988                    3272   293      10  scheduled   \n",
       "172396  189987                    3272   293      10  scheduled   \n",
       "172395  189986                    3272   293      10  scheduled   \n",
       "\n",
       "              Duration ExpectedDuration  Percnt   Rate SuprBasalType  \\\n",
       "162862 0 days 00:05:01              NaT     NaN  0.900           NaN   \n",
       "162948 0 days 02:52:26              NaT     NaN  0.108           NaN   \n",
       "162892 1 days 00:00:00              NaT     NaN  0.108           NaN   \n",
       "162911 1 days 00:00:00              NaT     NaN  0.108           NaN   \n",
       "162839 0 days 19:33:48              NaT     NaN  0.108           NaN   \n",
       "...                ...              ...     ...    ...           ...   \n",
       "172399 0 days 02:12:07              NaT     NaN  0.475           NaN   \n",
       "172398 0 days 03:00:00              NaT     NaN  0.400           NaN   \n",
       "172397 0 days 03:00:00              NaT     NaN  0.550           NaN   \n",
       "172396 0 days 03:00:00              NaT     NaN  0.900           NaN   \n",
       "172395 0 days 03:00:00              NaT     NaN  0.850           NaN   \n",
       "\n",
       "       SuprDuration  SuprRate            datetime  hour_of_day         day  \n",
       "162862          NaT       NaN 2024-08-31 21:02:33           21  2024-08-31  \n",
       "162948          NaT       NaN 2024-08-31 21:07:34           21  2024-08-31  \n",
       "162892          NaT       NaN 2024-09-01 00:00:00            0  2024-09-01  \n",
       "162911          NaT       NaN 2024-09-02 00:00:00            0  2024-09-02  \n",
       "162839          NaT       NaN 2024-09-03 00:00:00            0  2024-09-03  \n",
       "...             ...       ...                 ...          ...         ...  \n",
       "172399          NaT       NaN 2025-07-11 21:47:53           21  2025-07-11  \n",
       "172398          NaT       NaN 2025-07-12 00:00:00            0  2025-07-12  \n",
       "172397          NaT       NaN 2025-07-12 03:00:00            3  2025-07-12  \n",
       "172396          NaT       NaN 2025-07-12 06:00:00            6  2025-07-12  \n",
       "172395          NaT       NaN 2025-07-12 09:00:00            9  2025-07-12  \n",
       "\n",
       "[450156 rows x 15 columns]"
      ]
     },
     "execution_count": 62,
     "metadata": {},
     "output_type": "execute_result"
    }
   ],
   "source": [
    "temp"
   ]
  },
  {
   "cell_type": "markdown",
   "metadata": {},
   "source": [
    "#### Different Durations"
   ]
  },
  {
   "cell_type": "markdown",
   "metadata": {},
   "source": [
    "We see that within the duplicates, some rows duration don't match the next valid row. These are likely incorrect rows. Therefore, we should drop rows whose datetime+duration does not match the next row's datetime. "
   ]
  },
  {
   "cell_type": "code",
   "execution_count": 18,
   "metadata": {},
   "outputs": [
    {
     "name": "stderr",
     "output_type": "stream",
     "text": [
      "/var/folders/m4/5d02b2xs0l52lbxzbk0t3vym0000gp/T/ipykernel_38646/418117528.py:12: DeprecationWarning: DataFrameGroupBy.apply operated on the grouping columns. This behavior is deprecated, and in a future version of pandas the grouping columns will be excluded from the operation. Either pass `include_groups=False` to exclude the groupings or explicitly select the grouping columns after groupby to silence this warning.\n",
      "  next_row_datetime = grps.apply(get_index_next_non_duplicated_row, df_basal)\n"
     ]
    }
   ],
   "source": [
    "def get_index_next_non_duplicated_row(duplicates, parent_df):\n",
    "    #keep rows of the same patient\n",
    "    sub_parent_frame = parent_df.loc[parent_df.PtID==duplicates.PtID.values[0]].sort_values('datetime')\n",
    "    assert sub_parent_frame.datetime.is_monotonic_increasing\n",
    "    iloc_max = max([sub_parent_frame.index.get_loc(i) for i in duplicates.index])\n",
    "    if iloc_max+1 == len(sub_parent_frame):\n",
    "        return np.nan\n",
    "    else:\n",
    "        return sub_parent_frame.iloc[iloc_max+1].datetime\n",
    "    \n",
    "grps = basal_temp_dups.groupby(matching_cols)\n",
    "next_row_datetime = grps.apply(get_index_next_non_duplicated_row, df_basal)\n",
    "next_row_datetime = next_row_datetime.reset_index().rename(columns={0:'datetime_next'})\n",
    "#next_row_index['next_datetime']=df_basal.loc[next_row_index.next_index].datetime.values"
   ]
  },
  {
   "cell_type": "code",
   "execution_count": 19,
   "metadata": {},
   "outputs": [
    {
     "data": {
      "text/html": [
       "<div>\n",
       "<style scoped>\n",
       "    .dataframe tbody tr th:only-of-type {\n",
       "        vertical-align: middle;\n",
       "    }\n",
       "\n",
       "    .dataframe tbody tr th {\n",
       "        vertical-align: top;\n",
       "    }\n",
       "\n",
       "    .dataframe thead th {\n",
       "        text-align: right;\n",
       "    }\n",
       "</style>\n",
       "<table border=\"1\" class=\"dataframe\">\n",
       "  <thead>\n",
       "    <tr style=\"text-align: right;\">\n",
       "      <th></th>\n",
       "      <th>PtID</th>\n",
       "      <th>datetime</th>\n",
       "      <th>datetime_next</th>\n",
       "      <th>Rate</th>\n",
       "      <th>BasalType</th>\n",
       "      <th>Duration</th>\n",
       "    </tr>\n",
       "  </thead>\n",
       "  <tbody>\n",
       "    <tr>\n",
       "      <th>0</th>\n",
       "      <td>3</td>\n",
       "      <td>2025-05-12 14:00:00</td>\n",
       "      <td>2025-05-12 18:00:00</td>\n",
       "      <td>1.400</td>\n",
       "      <td>scheduled</td>\n",
       "      <td>0 days 04:00:00</td>\n",
       "    </tr>\n",
       "    <tr>\n",
       "      <th>2</th>\n",
       "      <td>5</td>\n",
       "      <td>2024-10-26 08:00:00</td>\n",
       "      <td>2024-10-26 12:00:00</td>\n",
       "      <td>1.250</td>\n",
       "      <td>scheduled</td>\n",
       "      <td>0 days 04:00:00</td>\n",
       "    </tr>\n",
       "    <tr>\n",
       "      <th>4</th>\n",
       "      <td>7</td>\n",
       "      <td>2025-02-11 06:14:50</td>\n",
       "      <td>2025-02-11 06:14:51</td>\n",
       "      <td>NaN</td>\n",
       "      <td>suspend</td>\n",
       "      <td>0 days 00:00:01</td>\n",
       "    </tr>\n",
       "    <tr>\n",
       "      <th>6</th>\n",
       "      <td>7</td>\n",
       "      <td>2025-03-09 13:00:00</td>\n",
       "      <td>2025-03-09 18:00:00</td>\n",
       "      <td>0.800</td>\n",
       "      <td>scheduled</td>\n",
       "      <td>0 days 05:00:00</td>\n",
       "    </tr>\n",
       "    <tr>\n",
       "      <th>9</th>\n",
       "      <td>8</td>\n",
       "      <td>2025-02-08 00:00:00</td>\n",
       "      <td>2025-02-08 00:04:15</td>\n",
       "      <td>0.700</td>\n",
       "      <td>scheduled</td>\n",
       "      <td>0 days 00:04:15</td>\n",
       "    </tr>\n",
       "    <tr>\n",
       "      <th>11</th>\n",
       "      <td>8</td>\n",
       "      <td>2025-02-09 00:00:00</td>\n",
       "      <td>2025-02-09 00:01:35</td>\n",
       "      <td>0.700</td>\n",
       "      <td>scheduled</td>\n",
       "      <td>0 days 00:01:35</td>\n",
       "    </tr>\n",
       "    <tr>\n",
       "      <th>13</th>\n",
       "      <td>8</td>\n",
       "      <td>2025-02-10 00:00:00</td>\n",
       "      <td>2025-02-10 00:03:55</td>\n",
       "      <td>0.700</td>\n",
       "      <td>scheduled</td>\n",
       "      <td>0 days 00:03:55</td>\n",
       "    </tr>\n",
       "    <tr>\n",
       "      <th>14</th>\n",
       "      <td>10</td>\n",
       "      <td>2023-11-06 00:00:00</td>\n",
       "      <td>2023-11-06 00:03:15</td>\n",
       "      <td>0.570</td>\n",
       "      <td>scheduled</td>\n",
       "      <td>0 days 00:03:15</td>\n",
       "    </tr>\n",
       "    <tr>\n",
       "      <th>15</th>\n",
       "      <td>10</td>\n",
       "      <td>2023-11-06 00:00:00</td>\n",
       "      <td>2023-11-06 00:03:15</td>\n",
       "      <td>0.480</td>\n",
       "      <td>temp</td>\n",
       "      <td>0 days 00:03:15</td>\n",
       "    </tr>\n",
       "    <tr>\n",
       "      <th>16</th>\n",
       "      <td>10</td>\n",
       "      <td>2023-11-07 00:00:00</td>\n",
       "      <td>2023-11-07 00:01:23</td>\n",
       "      <td>0.522</td>\n",
       "      <td>scheduled</td>\n",
       "      <td>0 days 00:01:23</td>\n",
       "    </tr>\n",
       "  </tbody>\n",
       "</table>\n",
       "</div>"
      ],
      "text/plain": [
       "    PtID            datetime       datetime_next   Rate  BasalType  \\\n",
       "0      3 2025-05-12 14:00:00 2025-05-12 18:00:00  1.400  scheduled   \n",
       "2      5 2024-10-26 08:00:00 2024-10-26 12:00:00  1.250  scheduled   \n",
       "4      7 2025-02-11 06:14:50 2025-02-11 06:14:51    NaN    suspend   \n",
       "6      7 2025-03-09 13:00:00 2025-03-09 18:00:00  0.800  scheduled   \n",
       "9      8 2025-02-08 00:00:00 2025-02-08 00:04:15  0.700  scheduled   \n",
       "11     8 2025-02-09 00:00:00 2025-02-09 00:01:35  0.700  scheduled   \n",
       "13     8 2025-02-10 00:00:00 2025-02-10 00:03:55  0.700  scheduled   \n",
       "14    10 2023-11-06 00:00:00 2023-11-06 00:03:15  0.570  scheduled   \n",
       "15    10 2023-11-06 00:00:00 2023-11-06 00:03:15  0.480       temp   \n",
       "16    10 2023-11-07 00:00:00 2023-11-07 00:01:23  0.522  scheduled   \n",
       "\n",
       "          Duration  \n",
       "0  0 days 04:00:00  \n",
       "2  0 days 04:00:00  \n",
       "4  0 days 00:00:01  \n",
       "6  0 days 05:00:00  \n",
       "9  0 days 00:04:15  \n",
       "11 0 days 00:01:35  \n",
       "13 0 days 00:03:55  \n",
       "14 0 days 00:03:15  \n",
       "15 0 days 00:03:15  \n",
       "16 0 days 00:01:23  "
      ]
     },
     "metadata": {},
     "output_type": "display_data"
    }
   ],
   "source": [
    "test = pd.merge(basal_temp_dups, next_row_datetime, on=['PtID','datetime'], how='inner').sort_values(['PtID','datetime'])\n",
    "#these are the rows to keep\n",
    "keep = test.loc[(test.datetime+test.Duration) == test.datetime_next]\n",
    "display(keep[['PtID','datetime','datetime_next','Rate','BasalType','Duration']].head(10))"
   ]
  },
  {
   "cell_type": "code",
   "execution_count": 20,
   "metadata": {},
   "outputs": [
    {
     "data": {
      "text/plain": [
       "Timedelta('305 days 07:00:40')"
      ]
     },
     "execution_count": 20,
     "metadata": {},
     "output_type": "execute_result"
    }
   ],
   "source": [
    "df_basal.ExpectedDuration.max()"
   ]
  },
  {
   "cell_type": "markdown",
   "metadata": {},
   "source": [
    "## Datetimes"
   ]
  },
  {
   "cell_type": "code",
   "execution_count": 21,
   "metadata": {},
   "outputs": [
    {
     "ename": "KeyError",
     "evalue": "Index(['DeviceTm', 'DeviceDtTmDaysFromEnroll'], dtype='object')",
     "output_type": "error",
     "traceback": [
      "\u001b[0;31m---------------------------------------------------------------------------\u001b[0m",
      "\u001b[0;31mKeyError\u001b[0m                                  Traceback (most recent call last)",
      "\u001b[0;32m/var/folders/m4/5d02b2xs0l52lbxzbk0t3vym0000gp/T/ipykernel_38646/1630069203.py\u001b[0m in \u001b[0;36m?\u001b[0;34m()\u001b[0m\n\u001b[1;32m      1\u001b[0m \u001b[0;31m### duplicates (datetime)\u001b[0m\u001b[0;34m\u001b[0m\u001b[0;34m\u001b[0m\u001b[0m\n\u001b[0;32m----> 2\u001b[0;31m \u001b[0mprint\u001b[0m\u001b[0;34m(\u001b[0m\u001b[0;34mf\"{100*df_basal.duplicated(subset=['PtID', 'DeviceDtTmDaysFromEnroll', 'DeviceTm']).sum()/len(df_basal):.2f}% temporal basal duplicates\"\u001b[0m\u001b[0;34m)\u001b[0m\u001b[0;34m\u001b[0m\u001b[0;34m\u001b[0m\u001b[0m\n\u001b[0m\u001b[1;32m      3\u001b[0m \u001b[0mprint\u001b[0m\u001b[0;34m(\u001b[0m\u001b[0;34mf\"{100*df_cgm.duplicated(subset=['PtID', 'DeviceDtTmDaysFromEnroll', 'DeviceTm']).sum()/len(df_cgm):.2f}% temporal cgm duplicates\"\u001b[0m\u001b[0;34m)\u001b[0m\u001b[0;34m\u001b[0m\u001b[0;34m\u001b[0m\u001b[0m\n\u001b[1;32m      4\u001b[0m \u001b[0mprint\u001b[0m\u001b[0;34m(\u001b[0m\u001b[0;34mf\"{100*df_bolus.duplicated(subset=['PtID', 'DeviceDtTmDaysFromEnroll', 'DeviceTm']).sum()/len(df_bolus):.2f}% temporal bolus duplicates\"\u001b[0m\u001b[0;34m)\u001b[0m\u001b[0;34m\u001b[0m\u001b[0;34m\u001b[0m\u001b[0m\n",
      "\u001b[0;32m~/.pyenv/versions/babelbetes/lib/python3.11/site-packages/pandas/core/frame.py\u001b[0m in \u001b[0;36m?\u001b[0;34m(self, subset, keep)\u001b[0m\n\u001b[1;32m   6946\u001b[0m         \u001b[0;31m# Otherwise, raise a KeyError, same as if you try to __getitem__ with a\u001b[0m\u001b[0;34m\u001b[0m\u001b[0;34m\u001b[0m\u001b[0m\n\u001b[1;32m   6947\u001b[0m         \u001b[0;31m# key that doesn't exist.\u001b[0m\u001b[0;34m\u001b[0m\u001b[0;34m\u001b[0m\u001b[0m\n\u001b[1;32m   6948\u001b[0m         \u001b[0mdiff\u001b[0m \u001b[0;34m=\u001b[0m \u001b[0mset\u001b[0m\u001b[0;34m(\u001b[0m\u001b[0msubset\u001b[0m\u001b[0;34m)\u001b[0m \u001b[0;34m-\u001b[0m \u001b[0mset\u001b[0m\u001b[0;34m(\u001b[0m\u001b[0mself\u001b[0m\u001b[0;34m.\u001b[0m\u001b[0mcolumns\u001b[0m\u001b[0;34m)\u001b[0m\u001b[0;34m\u001b[0m\u001b[0;34m\u001b[0m\u001b[0m\n\u001b[1;32m   6949\u001b[0m         \u001b[0;32mif\u001b[0m \u001b[0mdiff\u001b[0m\u001b[0;34m:\u001b[0m\u001b[0;34m\u001b[0m\u001b[0;34m\u001b[0m\u001b[0m\n\u001b[0;32m-> 6950\u001b[0;31m             \u001b[0;32mraise\u001b[0m \u001b[0mKeyError\u001b[0m\u001b[0;34m(\u001b[0m\u001b[0mIndex\u001b[0m\u001b[0;34m(\u001b[0m\u001b[0mdiff\u001b[0m\u001b[0;34m)\u001b[0m\u001b[0;34m)\u001b[0m\u001b[0;34m\u001b[0m\u001b[0;34m\u001b[0m\u001b[0m\n\u001b[0m\u001b[1;32m   6951\u001b[0m \u001b[0;34m\u001b[0m\u001b[0m\n\u001b[1;32m   6952\u001b[0m         \u001b[0;32mif\u001b[0m \u001b[0mlen\u001b[0m\u001b[0;34m(\u001b[0m\u001b[0msubset\u001b[0m\u001b[0;34m)\u001b[0m \u001b[0;34m==\u001b[0m \u001b[0;36m1\u001b[0m \u001b[0;32mand\u001b[0m \u001b[0mself\u001b[0m\u001b[0;34m.\u001b[0m\u001b[0mcolumns\u001b[0m\u001b[0;34m.\u001b[0m\u001b[0mis_unique\u001b[0m\u001b[0;34m:\u001b[0m\u001b[0;34m\u001b[0m\u001b[0;34m\u001b[0m\u001b[0m\n\u001b[1;32m   6953\u001b[0m             \u001b[0;31m# GH#45236 This is faster than get_group_index below\u001b[0m\u001b[0;34m\u001b[0m\u001b[0;34m\u001b[0m\u001b[0m\n",
      "\u001b[0;31mKeyError\u001b[0m: Index(['DeviceTm', 'DeviceDtTmDaysFromEnroll'], dtype='object')"
     ]
    }
   ],
   "source": [
    "### duplicates (datetime)\n",
    "print(f\"{100*df_basal.duplicated(subset=['PtID', 'DeviceDtTmDaysFromEnroll', 'DeviceTm']).sum()/len(df_basal):.2f}% temporal basal duplicates\")\n",
    "print(f\"{100*df_cgm.duplicated(subset=['PtID', 'DeviceDtTmDaysFromEnroll', 'DeviceTm']).sum()/len(df_cgm):.2f}% temporal cgm duplicates\")\n",
    "print(f\"{100*df_bolus.duplicated(subset=['PtID', 'DeviceDtTmDaysFromEnroll', 'DeviceTm']).sum()/len(df_bolus):.2f}% temporal bolus duplicates\")"
   ]
  },
  {
   "cell_type": "code",
   "execution_count": 110,
   "metadata": {},
   "outputs": [
    {
     "data": {
      "text/html": [
       "<div>\n",
       "<style scoped>\n",
       "    .dataframe tbody tr th:only-of-type {\n",
       "        vertical-align: middle;\n",
       "    }\n",
       "\n",
       "    .dataframe tbody tr th {\n",
       "        vertical-align: top;\n",
       "    }\n",
       "\n",
       "    .dataframe thead th {\n",
       "        text-align: right;\n",
       "    }\n",
       "</style>\n",
       "<table border=\"1\" class=\"dataframe\">\n",
       "  <thead>\n",
       "    <tr style=\"text-align: right;\">\n",
       "      <th></th>\n",
       "      <th>RecID</th>\n",
       "      <th>ParentHDeviceUploadsID</th>\n",
       "      <th>PtID</th>\n",
       "      <th>SiteID</th>\n",
       "      <th>DeviceDtTmDaysFromEnroll</th>\n",
       "      <th>DeviceTm</th>\n",
       "      <th>BasalType</th>\n",
       "      <th>Duration</th>\n",
       "      <th>ExpectedDuration</th>\n",
       "      <th>Percnt</th>\n",
       "      <th>Rate</th>\n",
       "      <th>SuprBasalType</th>\n",
       "      <th>SuprDuration</th>\n",
       "      <th>SuprRate</th>\n",
       "      <th>datetime</th>\n",
       "      <th>hour_of_day</th>\n",
       "      <th>day</th>\n",
       "    </tr>\n",
       "  </thead>\n",
       "  <tbody>\n",
       "    <tr>\n",
       "      <th>45524</th>\n",
       "      <td>224663</td>\n",
       "      <td>2346</td>\n",
       "      <td>11</td>\n",
       "      <td>15</td>\n",
       "      <td>2</td>\n",
       "      <td>10:00:00</td>\n",
       "      <td>scheduled</td>\n",
       "      <td>19800000.0</td>\n",
       "      <td>NaN</td>\n",
       "      <td>NaN</td>\n",
       "      <td>0.675</td>\n",
       "      <td>NaN</td>\n",
       "      <td>NaN</td>\n",
       "      <td>NaN</td>\n",
       "      <td>2025-01-03 10:00:00</td>\n",
       "      <td>10</td>\n",
       "      <td>2025-01-03</td>\n",
       "    </tr>\n",
       "    <tr>\n",
       "      <th>48291</th>\n",
       "      <td>227430</td>\n",
       "      <td>6266</td>\n",
       "      <td>11</td>\n",
       "      <td>15</td>\n",
       "      <td>2</td>\n",
       "      <td>10:00:00</td>\n",
       "      <td>scheduled</td>\n",
       "      <td>19800000.0</td>\n",
       "      <td>NaN</td>\n",
       "      <td>NaN</td>\n",
       "      <td>0.675</td>\n",
       "      <td>NaN</td>\n",
       "      <td>NaN</td>\n",
       "      <td>NaN</td>\n",
       "      <td>2025-01-03 10:00:00</td>\n",
       "      <td>10</td>\n",
       "      <td>2025-01-03</td>\n",
       "    </tr>\n",
       "    <tr>\n",
       "      <th>45523</th>\n",
       "      <td>224662</td>\n",
       "      <td>2346</td>\n",
       "      <td>11</td>\n",
       "      <td>15</td>\n",
       "      <td>2</td>\n",
       "      <td>15:30:00</td>\n",
       "      <td>scheduled</td>\n",
       "      <td>9000000.0</td>\n",
       "      <td>NaN</td>\n",
       "      <td>NaN</td>\n",
       "      <td>0.450</td>\n",
       "      <td>NaN</td>\n",
       "      <td>NaN</td>\n",
       "      <td>NaN</td>\n",
       "      <td>2025-01-03 15:30:00</td>\n",
       "      <td>15</td>\n",
       "      <td>2025-01-03</td>\n",
       "    </tr>\n",
       "    <tr>\n",
       "      <th>48290</th>\n",
       "      <td>227429</td>\n",
       "      <td>6266</td>\n",
       "      <td>11</td>\n",
       "      <td>15</td>\n",
       "      <td>2</td>\n",
       "      <td>15:30:00</td>\n",
       "      <td>scheduled</td>\n",
       "      <td>9000000.0</td>\n",
       "      <td>NaN</td>\n",
       "      <td>NaN</td>\n",
       "      <td>0.450</td>\n",
       "      <td>NaN</td>\n",
       "      <td>NaN</td>\n",
       "      <td>NaN</td>\n",
       "      <td>2025-01-03 15:30:00</td>\n",
       "      <td>15</td>\n",
       "      <td>2025-01-03</td>\n",
       "    </tr>\n",
       "    <tr>\n",
       "      <th>45522</th>\n",
       "      <td>224661</td>\n",
       "      <td>2346</td>\n",
       "      <td>11</td>\n",
       "      <td>15</td>\n",
       "      <td>2</td>\n",
       "      <td>18:00:00</td>\n",
       "      <td>scheduled</td>\n",
       "      <td>12600000.0</td>\n",
       "      <td>NaN</td>\n",
       "      <td>NaN</td>\n",
       "      <td>0.375</td>\n",
       "      <td>NaN</td>\n",
       "      <td>NaN</td>\n",
       "      <td>NaN</td>\n",
       "      <td>2025-01-03 18:00:00</td>\n",
       "      <td>18</td>\n",
       "      <td>2025-01-03</td>\n",
       "    </tr>\n",
       "    <tr>\n",
       "      <th>48289</th>\n",
       "      <td>227428</td>\n",
       "      <td>6266</td>\n",
       "      <td>11</td>\n",
       "      <td>15</td>\n",
       "      <td>2</td>\n",
       "      <td>18:00:00</td>\n",
       "      <td>scheduled</td>\n",
       "      <td>12600000.0</td>\n",
       "      <td>NaN</td>\n",
       "      <td>NaN</td>\n",
       "      <td>0.375</td>\n",
       "      <td>NaN</td>\n",
       "      <td>NaN</td>\n",
       "      <td>NaN</td>\n",
       "      <td>2025-01-03 18:00:00</td>\n",
       "      <td>18</td>\n",
       "      <td>2025-01-03</td>\n",
       "    </tr>\n",
       "    <tr>\n",
       "      <th>45521</th>\n",
       "      <td>224660</td>\n",
       "      <td>2346</td>\n",
       "      <td>11</td>\n",
       "      <td>15</td>\n",
       "      <td>2</td>\n",
       "      <td>21:30:00</td>\n",
       "      <td>scheduled</td>\n",
       "      <td>9000000.0</td>\n",
       "      <td>NaN</td>\n",
       "      <td>NaN</td>\n",
       "      <td>0.475</td>\n",
       "      <td>NaN</td>\n",
       "      <td>NaN</td>\n",
       "      <td>NaN</td>\n",
       "      <td>2025-01-03 21:30:00</td>\n",
       "      <td>21</td>\n",
       "      <td>2025-01-03</td>\n",
       "    </tr>\n",
       "    <tr>\n",
       "      <th>48288</th>\n",
       "      <td>227427</td>\n",
       "      <td>6266</td>\n",
       "      <td>11</td>\n",
       "      <td>15</td>\n",
       "      <td>2</td>\n",
       "      <td>21:30:00</td>\n",
       "      <td>scheduled</td>\n",
       "      <td>9000000.0</td>\n",
       "      <td>NaN</td>\n",
       "      <td>NaN</td>\n",
       "      <td>0.475</td>\n",
       "      <td>NaN</td>\n",
       "      <td>NaN</td>\n",
       "      <td>NaN</td>\n",
       "      <td>2025-01-03 21:30:00</td>\n",
       "      <td>21</td>\n",
       "      <td>2025-01-03</td>\n",
       "    </tr>\n",
       "    <tr>\n",
       "      <th>45520</th>\n",
       "      <td>224659</td>\n",
       "      <td>2346</td>\n",
       "      <td>11</td>\n",
       "      <td>15</td>\n",
       "      <td>3</td>\n",
       "      <td>00:00:00</td>\n",
       "      <td>scheduled</td>\n",
       "      <td>10800000.0</td>\n",
       "      <td>NaN</td>\n",
       "      <td>NaN</td>\n",
       "      <td>0.575</td>\n",
       "      <td>NaN</td>\n",
       "      <td>NaN</td>\n",
       "      <td>NaN</td>\n",
       "      <td>2025-01-04 00:00:00</td>\n",
       "      <td>0</td>\n",
       "      <td>2025-01-04</td>\n",
       "    </tr>\n",
       "    <tr>\n",
       "      <th>48287</th>\n",
       "      <td>227426</td>\n",
       "      <td>6266</td>\n",
       "      <td>11</td>\n",
       "      <td>15</td>\n",
       "      <td>3</td>\n",
       "      <td>00:00:00</td>\n",
       "      <td>scheduled</td>\n",
       "      <td>10800000.0</td>\n",
       "      <td>NaN</td>\n",
       "      <td>NaN</td>\n",
       "      <td>0.575</td>\n",
       "      <td>NaN</td>\n",
       "      <td>NaN</td>\n",
       "      <td>NaN</td>\n",
       "      <td>2025-01-04 00:00:00</td>\n",
       "      <td>0</td>\n",
       "      <td>2025-01-04</td>\n",
       "    </tr>\n",
       "  </tbody>\n",
       "</table>\n",
       "</div>"
      ],
      "text/plain": [
       "        RecID  ParentHDeviceUploadsID  PtID  SiteID  DeviceDtTmDaysFromEnroll  \\\n",
       "45524  224663                    2346    11      15                         2   \n",
       "48291  227430                    6266    11      15                         2   \n",
       "45523  224662                    2346    11      15                         2   \n",
       "48290  227429                    6266    11      15                         2   \n",
       "45522  224661                    2346    11      15                         2   \n",
       "48289  227428                    6266    11      15                         2   \n",
       "45521  224660                    2346    11      15                         2   \n",
       "48288  227427                    6266    11      15                         2   \n",
       "45520  224659                    2346    11      15                         3   \n",
       "48287  227426                    6266    11      15                         3   \n",
       "\n",
       "       DeviceTm  BasalType    Duration  ExpectedDuration  Percnt   Rate  \\\n",
       "45524  10:00:00  scheduled  19800000.0               NaN     NaN  0.675   \n",
       "48291  10:00:00  scheduled  19800000.0               NaN     NaN  0.675   \n",
       "45523  15:30:00  scheduled   9000000.0               NaN     NaN  0.450   \n",
       "48290  15:30:00  scheduled   9000000.0               NaN     NaN  0.450   \n",
       "45522  18:00:00  scheduled  12600000.0               NaN     NaN  0.375   \n",
       "48289  18:00:00  scheduled  12600000.0               NaN     NaN  0.375   \n",
       "45521  21:30:00  scheduled   9000000.0               NaN     NaN  0.475   \n",
       "48288  21:30:00  scheduled   9000000.0               NaN     NaN  0.475   \n",
       "45520  00:00:00  scheduled  10800000.0               NaN     NaN  0.575   \n",
       "48287  00:00:00  scheduled  10800000.0               NaN     NaN  0.575   \n",
       "\n",
       "      SuprBasalType  SuprDuration  SuprRate            datetime  hour_of_day  \\\n",
       "45524           NaN           NaN       NaN 2025-01-03 10:00:00           10   \n",
       "48291           NaN           NaN       NaN 2025-01-03 10:00:00           10   \n",
       "45523           NaN           NaN       NaN 2025-01-03 15:30:00           15   \n",
       "48290           NaN           NaN       NaN 2025-01-03 15:30:00           15   \n",
       "45522           NaN           NaN       NaN 2025-01-03 18:00:00           18   \n",
       "48289           NaN           NaN       NaN 2025-01-03 18:00:00           18   \n",
       "45521           NaN           NaN       NaN 2025-01-03 21:30:00           21   \n",
       "48288           NaN           NaN       NaN 2025-01-03 21:30:00           21   \n",
       "45520           NaN           NaN       NaN 2025-01-04 00:00:00            0   \n",
       "48287           NaN           NaN       NaN 2025-01-04 00:00:00            0   \n",
       "\n",
       "              day  \n",
       "45524  2025-01-03  \n",
       "48291  2025-01-03  \n",
       "45523  2025-01-03  \n",
       "48290  2025-01-03  \n",
       "45522  2025-01-03  \n",
       "48289  2025-01-03  \n",
       "45521  2025-01-03  \n",
       "48288  2025-01-03  \n",
       "45520  2025-01-04  \n",
       "48287  2025-01-04  "
      ]
     },
     "execution_count": 110,
     "metadata": {},
     "output_type": "execute_result"
    }
   ],
   "source": [
    "## look at basal duplicates\n",
    "temp = df_basal[df_basal.duplicated(subset=['PtID', 'DeviceDtTmDaysFromEnroll', 'DeviceTm'], keep=False)].sort_values(by=['PtID', 'DeviceDtTmDaysFromEnroll', 'DeviceTm'])\n",
    "#temp = temp[['PtID', 'BasalType','DeviceDtTmDaysFromEnroll', 'DeviceTm', 'Rate', 'Duration','Percnt', 'Rate','SuprRate']]\n",
    "temp.iloc[1100:1110]"
   ]
  },
  {
   "cell_type": "markdown",
   "metadata": {},
   "source": [
    "### data hierachy"
   ]
  },
  {
   "cell_type": "code",
   "execution_count": 89,
   "metadata": {},
   "outputs": [
    {
     "data": {
      "text/plain": [
       "'Basal Types  (%):'"
      ]
     },
     "metadata": {},
     "output_type": "display_data"
    },
    {
     "data": {
      "text/plain": [
       "BasalType\n",
       "scheduled    84.063831\n",
       "suspend       8.069371\n",
       "temp          7.866798\n",
       "Name: count, dtype: float64"
      ]
     },
     "metadata": {},
     "output_type": "display_data"
    },
    {
     "data": {
      "text/plain": [
       "'Suspend Rate Values (%):'"
      ]
     },
     "metadata": {},
     "output_type": "display_data"
    },
    {
     "data": {
      "text/plain": [
       "Rate\n",
       "NaN    40671\n",
       "Name: count, dtype: int64"
      ]
     },
     "metadata": {},
     "output_type": "display_data"
    },
    {
     "data": {
      "text/plain": [
       "'Bolus Types (%):'"
      ]
     },
     "metadata": {},
     "output_type": "display_data"
    },
    {
     "data": {
      "text/plain": [
       "BolusType  \n",
       "normal         91.435169\n",
       "dual/square     3.989688\n",
       "Normal          3.090022\n",
       "square          1.230680\n",
       "Combination     0.254441\n",
       "Name: count, dtype: float64"
      ]
     },
     "metadata": {},
     "output_type": "display_data"
    },
    {
     "data": {
      "text/plain": [
       "'CGM Types (%):'"
      ]
     },
     "metadata": {},
     "output_type": "display_data"
    },
    {
     "data": {
      "text/plain": [
       "RecordType \n",
       "CGM            99.042009\n",
       "Calibration     0.957991\n",
       "Name: count, dtype: float64"
      ]
     },
     "metadata": {},
     "output_type": "display_data"
    }
   ],
   "source": [
    "#unique values (%)\n",
    "display('Basal Types  (%):')\n",
    "display(100*df_basal.value_counts(subset=['BasalType'],dropna=False)/df_basal.shape[0])\n",
    "\n",
    "display('Suspend Rate Values (%):')\n",
    "display(df_basal.loc[df_basal.BasalType=='suspend'].Rate.value_counts(dropna=False))\n",
    "\n",
    "display('Bolus Types (%):')\n",
    "display(100*df_bolus.value_counts(subset=['BolusType'],dropna=False)/df_bolus.shape[0])\n",
    "\n",
    "display('CGM Types (%):')\n",
    "display(100*df_cgm.value_counts(subset=['RecordType'],dropna=False)/df_cgm.shape[0])"
   ]
  },
  {
   "cell_type": "markdown",
   "metadata": {},
   "source": [
    "**Summary:**\n",
    "- Same structure as Loop Dataset\n",
    "- More suspends (8%) (all NaN), need to be filled with zero and checked if durations match\n",
    "- Some calibrations, need to be dropped\n",
    "TODO: \n",
    " 1. Check for overlapping durations\n",
    " 2. Check for Suspend durations match start of next basal"
   ]
  },
  {
   "cell_type": "code",
   "execution_count": 93,
   "metadata": {},
   "outputs": [
    {
     "data": {
      "text/plain": [
       "0         19800000.0\n",
       "1         10800000.0\n",
       "2          7200000.0\n",
       "3         10800000.0\n",
       "4          7200000.0\n",
       "             ...    \n",
       "504012     3600000.0\n",
       "504013     5400000.0\n",
       "504014     3600000.0\n",
       "504015     3600000.0\n",
       "504016    16200000.0\n",
       "Name: Duration, Length: 504017, dtype: float64"
      ]
     },
     "execution_count": 93,
     "metadata": {},
     "output_type": "execute_result"
    }
   ],
   "source": [
    "df_basal.Duration"
   ]
  },
  {
   "cell_type": "code",
   "execution_count": 90,
   "metadata": {},
   "outputs": [
    {
     "data": {
      "text/plain": [
       "<module 'src.pandas_helper' from '/Users/jan/git/nudgebg/egvinsulin/notebooks/understand-replacebg-dataset/../../src/pandas_helper.py'>"
      ]
     },
     "execution_count": 90,
     "metadata": {},
     "output_type": "execute_result"
    }
   ],
   "source": [
    "importlib.reload(pandas_helper)\n",
    "pandas_helper.overlaps(df_basal,'datetime',)"
   ]
  },
  {
   "cell_type": "markdown",
   "metadata": {},
   "source": [
    "### Datetimes"
   ]
  },
  {
   "cell_type": "markdown",
   "metadata": {},
   "source": [
    "enrollment_start = datetime(2025,1,1)\n",
    "df_basal['datetime'] = enrollment_start+pd.to_timedelta(df_basal['DeviceDtTmDaysFromEnroll'],unit='D')+pd.to_timedelta(df_basal['DeviceTm'])\n",
    "df_bolus['datetime'] = enrollment_start+pd.to_timedelta(df_bolus['DeviceDtTmDaysFromEnroll'],unit='D')+pd.to_timedelta(df_bolus['DeviceTm'])\n",
    "df_cgm['datetime'] = enrollment_start+pd.to_timedelta(df_cgm['DeviceDtTmDaysFromEnroll'],unit='D')+pd.to_timedelta(df_cgm['DeviceTm'])\n",
    "\n",
    "df_basal['hour_of_day'] = df_basal.datetime.dt.hour\n",
    "df_bolus['hour_of_day'] = df_bolus.datetime.dt.hour\n",
    "df_cgm['hour_of_day'] = df_cgm.datetime.dt.hour\n",
    "\n",
    "df_bolus['day'] = df_bolus.datetime.dt.date\n",
    "df_basal['day'] = df_basal.datetime.dt.date\n",
    "df_cgm['day'] = df_cgm.datetime.dt.date"
   ]
  },
  {
   "cell_type": "code",
   "execution_count": null,
   "metadata": {},
   "outputs": [],
   "source": [
    "#drawing.drawMovingAverage(ax, df_basal.dropna(subset='Rate'), 'datetime', 'Rate', 'sum')"
   ]
  },
  {
   "cell_type": "code",
   "execution_count": 58,
   "metadata": {},
   "outputs": [
    {
     "name": "stdout",
     "output_type": "stream",
     "text": [
      "There are 226 unique patients in the patient roster\n",
      "There are 224 unique patients in the bolus table\n",
      "There are 208 unique patients in the basal table\n",
      "There are 226 unique patients in the cgm table\n"
     ]
    }
   ],
   "source": [
    "#number of unique patients\n",
    "print(f\"There are {df_patient['PtID'].nunique()} unique patients in the patient roster\")\n",
    "print(f\"There are {df_bolus['PtID'].nunique()} unique patients in the bolus table\")\n",
    "print(f\"There are {df_basal['PtID'].nunique()} unique patients in the basal table\")\n",
    "print(f\"There are {df_cgm['PtID'].nunique()} unique patients in the cgm table\")"
   ]
  },
  {
   "cell_type": "code",
   "execution_count": null,
   "metadata": {},
   "outputs": [
    {
     "data": {
      "text/plain": [
       "Text(0.5, 1.0, 'CGM Glucose')"
      ]
     },
     "metadata": {},
     "output_type": "display_data"
    },
    {
     "data": {
      "image/png": "[encoded data removed]",
      "text/plain": [
       "<Figure size 800x200 with 1 Axes>"
      ]
     },
     "metadata": {},
     "output_type": "display_data"
    },
    {
     "data": {
      "image/png": "[encoded data removed]",
      "text/plain": [
       "<Figure size 800x200 with 1 Axes>"
      ]
     },
     "metadata": {},
     "output_type": "display_data"
    },
    {
     "data": {
      "image/png": "[encoded data removed]",
      "text/plain": [
       "<Figure size 800x200 with 1 Axes>"
      ]
     },
     "metadata": {},
     "output_type": "display_data"
    }
   ],
   "source": [
    "## distributions \n",
    "plt.figure(figsize=(8,2));ax=plt.gca()\n",
    "cdf.plot_cdf(df_basal['Rate'], ax=ax, label='Basal Rate',color=drawing.colors['Basal']); plt.title('Basal Rate')\n",
    "plt.figure(figsize=(8,2));ax=plt.gca()\n",
    "cdf.plot_cdf(df_bolus['Normal'], ax=ax, label='Normal Bolus',color=drawing.colors['Bolus']); plt.title('Normal Bolus')\n",
    "plt.figure(figsize=(8,2));ax=plt.gca()\n",
    "cdf.plot_cdf(df_cgm['GlucoseValue'], ax=ax, label='CGM Glucose',color=drawing.colors['CGM']); plt.title('CGM Glucose')"
   ]
  },
  {
   "cell_type": "code",
   "execution_count": null,
   "metadata": {},
   "outputs": [
    {
     "data": {
      "image/png": "[encoded data removed]",
      "text/plain": [
       "<Figure size 900x200 with 1 Axes>"
      ]
     },
     "metadata": {},
     "output_type": "display_data"
    },
    {
     "data": {
      "image/png": "[encoded data removed]",
      "text/plain": [
       "<Figure size 900x200 with 2 Axes>"
      ]
     },
     "metadata": {},
     "output_type": "display_data"
    }
   ],
   "source": [
    "#number of datapoints per patient\n",
    "import importlib\n",
    "importlib.reload(cdf)\n",
    "#days per patient\n",
    "plt.figure(figsize=(9,2)); ax=plt.gca()\n",
    "cdf.plot_cdf(df_basal.groupby('PtID')['day'].nunique(),ax=ax, color=drawing.colors['Basal']); \n",
    "cdf.plot_cdf(df_bolus.groupby('PtID')['day'].nunique(),ax=ax, color=drawing.colors['Bolus']); \n",
    "cdf.plot_cdf(df_cgm.groupby('PtID')['day'].nunique(),ax=ax, color=drawing.colors['CGM']); \n",
    "plt.legend(['Basal','Bolus','CGM']); plt.title('Days of data per patient')\n",
    "\n",
    "#datapoints\n",
    "plt.figure(figsize=(9,2)); ax=plt.gca()\n",
    "cdf.plot_cdf(df_basal.groupby('PtID').size(),ax=ax, color=drawing.colors['Basal']); \n",
    "cdf.plot_cdf(df_bolus.groupby('PtID').size(),ax=ax, color=drawing.colors['Bolus']);\n",
    "plt.legend(['Basal','Bolus']); plt.title('Data points per patient')\n",
    "twiny = ax.twiny()\n",
    "cdf.plot_cdf(df_cgm.groupby('PtID').size(),ax=twiny, color=drawing.colors['CGM']);\n",
    "plt.legend(['CGM']); plt.title('Data points per patient')\n",
    "twiny.spines['top'].set_color(drawing.colors['CGM'])\n",
    "twiny.xaxis.label.set_color(drawing.colors['CGM'])\n",
    "twiny.set_xlabel('')\n",
    "#twiny.set_xlabel('Data points per patient')\n",
    "twiny.tick_params(axis='x', colors=drawing.colors['CGM'])"
   ]
  },
  {
   "cell_type": "markdown",
   "metadata": {},
   "source": []
  },
  {
   "cell_type": "markdown",
   "metadata": {},
   "source": []
  },
  {
   "cell_type": "markdown",
   "metadata": {},
   "source": [
    "## Collected Todos\n",
    "- Why do extended and durations not match exactly?\n",
    "- Do we need Dexcom times? When are these missing\n",
    "- Are durations in ms or minutes, look at distributions\n",
    "\n",
    "\n",
    "## Collected Questions\n",
    "- How should we resolve basal duplicates with equal time and durations but different rates (e.g. scheduled)\n",
    "- Should we use suspends over other events? And then, is NaN equal to a 0 basal rate? This is how we treated them in T1DExi\n",
    "- Sometimes their durations don't match.\n",
    "- Why do durations of basal duplicates sometimes match next \n"
   ]
  }
 ],
 "metadata": {
  "kernelspec": {
   "display_name": "babelbetes",
   "language": "python",
   "name": "python3"
  },
  "language_info": {
   "codemirror_mode": {
    "name": "ipython",
    "version": 3
   },
   "file_extension": ".py",
   "mimetype": "text/x-python",
   "name": "python",
   "nbconvert_exporter": "python",
   "pygments_lexer": "ipython3",
   "version": "3.11.0"
  }
 },
 "nbformat": 4,
 "nbformat_minor": 2
}
