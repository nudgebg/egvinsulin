{
 "cells": [
  {
   "cell_type": "markdown",
   "id": "ea0d44eb-0c72-41fc-b821-5d1532975aa5",
   "metadata": {},
   "source": [
    "## Understanding DCLP3 Dataset\n",
    "This notebook tries provides details on the structure of the DCLP3 dataset and makes suggestions how to process the data."
   ]
  },
  {
   "cell_type": "markdown",
   "id": "dff75a17-c70d-4a31-bf4c-073eb7e2b68d",
   "metadata": {},
   "source": [
    "## The DCLP3 study\n",
    "\n",
    "**Title**: The International Diabetes Closed Loop (iDCL) trial: Clinical Acceptance of \n",
    "the Artificial Pancreas - A Pivotal Study of t:slim X2 with Control-IQ Technology (DCLP3)\n",
    "\n",
    "**Description**: The objective of the study is to assess efficacy and safety of a \n",
    "closed loop system (t:slim X2 with Control-IQ Technology) in a large randomized controlled trial.\n",
    "    \n",
    "**Devices**: t:slim X2 with Control-IQ and Dexcom G6 system\n",
    "\n",
    "**Study Population**: Teens and adults aged 14 years or older"
   ]
  },
  {
   "cell_type": "markdown",
   "id": "9cdf33db-ebe9-4fa2-a814-d0383009c114",
   "metadata": {},
   "source": [
    "# Data\n",
    "The study data folder is named **DCLP3 Public Dataset - Release 3 - 2022-08-04**\n",
    "From the DataGlossary.rtf file, the following relevant files were identified which are stored in the **Data Tables** subfolder.\n",
    "\n",
    "* **Pump_BolusDelivered.txt**: List of pupm data downloaded (bolus data only)\n",
    "* **Pump_BasalRateChange.txt**: List of pump data dowloaded (basal data only)\n",
    "* **Pump_CGMGlucoseValue.txt**: List of cgm data dowloaded \n",
    "* **PtRoster.txt**: Patient Roster\n",
    "\n",
    "These are csv files (\"|\" separator) and host many columns related to the Tandem pump events and the Dexcom cgm. The glossary provides information about each column. Each file contains a limited amount of columns compared to the FLAIR data. Below are **all** of the columns contained in each file\n",
    "\n",
    "## Pump_BolusDelivered\n",
    "* **PtID**: Patient ID\n",
    "* **DataDtTm**: Date-time of delivered insulin\n",
    "* **BolusAmount**: the amount of bolus delivered **Need to find glossary to confirm if delivered or just programmed**\n",
    "* **DataDtTm_adjusted**: Adjusted value of DataDtTm \n",
    "* **BolusType**: The bolus insulin delivery type [Standard, Extended]\n",
    "## Pump_BasalRateChange\n",
    "* **PtID**: Patient ID\n",
    "* **DataDtTm**: Date-time of basal rate change\n",
    "* **CommandedBasalRate**: Basal Rate (U/h) - The active basal insulin delivery rate in units per hour\n",
    "* **DataDtTm_adjusted**: Adjusted value of DataDtTm \n",
    "## Pump_CGMGlucoseValue\n",
    "* **PtID**: Patient ID\n",
    "* **DataDtTm**: Date-time of basal rate change\n",
    "* **CGMValue**: CGM value in mg/dl\n",
    "* **DataDtTm_adjusted**: Adjusted value of DataDtTm \n",
    "\n",
    "## Questions\n",
    "* Do we need to track DataDtTm_adjusted or can we rely on DataDtTm?\n",
    "* How do we know if the bolus was fully completed?\n",
    "\n"
   ]
  },
  {
   "cell_type": "code",
   "execution_count": 1,
   "id": "886427dc-4961-4459-899d-6fd9b5851fc2",
   "metadata": {},
   "outputs": [],
   "source": [
    "import os, sys, time, random\n",
    "import pandas as pd\n",
    "from datetime import datetime, timedelta\n",
    "import numpy as np\n",
    "from matplotlib import pyplot as plt"
   ]
  },
  {
   "cell_type": "markdown",
   "id": "5d2fe84f-0f12-4e6c-9061-a0cca7a8f979",
   "metadata": {},
   "source": [
    "## Load the data"
   ]
  },
  {
   "cell_type": "code",
   "execution_count": 13,
   "id": "e895b76e-4fcf-4a0d-b5fc-11185ed133d6",
   "metadata": {},
   "outputs": [],
   "source": [
    "filepath_data = '/Users/rachelbrandt/egvinsulin/data/raw/DCLP3 Public Dataset - Release 3 - 2022-08-04/Data Files'\n",
    "df_bolus = pd.read_csv(os.path.join(filepath_data, 'Pump_BolusDelivered.txt'), sep=\"|\", low_memory=False,\n",
    "                         usecols=['RecID', 'PtID', 'DataDtTm', 'BolusAmount', 'BolusType', 'DataDtTm_adjusted'])\n",
    "\n",
    "df_basal = pd.read_csv(os.path.join(filepath_data, 'Pump_BasalRateChange.txt'), sep=\"|\", low_memory=False,\n",
    "                         usecols=['RecID', 'PtID', 'DataDtTm', 'CommandedBasalRate', 'DataDtTm_adjusted'])\n",
    "#load cgm data\n",
    "df_cgm = pd.read_csv(os.path.join(filepath_data, 'Pump_CGMGlucoseValue.txt'), sep=\"|\", low_memory=False,\n",
    "                         usecols=['RecID', 'PtID', 'DataDtTm', 'CGMValue', 'DataDtTm_adjusted'])"
   ]
  },
  {
   "cell_type": "markdown",
   "id": "580dba67-e697-436f-85a2-c473a59b6acc",
   "metadata": {},
   "source": [
    "## Check for DateTimes without Time part"
   ]
  },
  {
   "cell_type": "code",
   "execution_count": 12,
   "id": "fd39c659-547e-4964-b327-281afa21b95b",
   "metadata": {},
   "outputs": [
    {
     "name": "stdout",
     "output_type": "stream",
     "text": [
      "Date Time Counts:\n",
      "Bolus datetimes without time:  0\n",
      "Basal datetimes without time:  0\n",
      "CGM datetimes without time:  0\n"
     ]
    }
   ],
   "source": [
    "print('Date Time Counts:')\n",
    "print('Bolus datetimes without time: ', len(df_bolus[df_bolus['DataDtTm'].str.len() <= 10]))\n",
    "print('Basal datetimes without time: ', len(df_basal[df_basal['DataDtTm'].str.len() <= 10]))\n",
    "print('CGM datetimes without time: ', len(df_cgm[df_cgm['DataDtTm'].str.len() <= 10])) "
   ]
  },
  {
   "cell_type": "markdown",
   "id": "1d3f11a5-8c8d-48eb-8ce2-d0943fe060bc",
   "metadata": {},
   "source": [
    "## inspecting the event counts"
   ]
  },
  {
   "cell_type": "code",
   "execution_count": 19,
   "id": "5181d316-334e-4afb-b078-700eac6387fd",
   "metadata": {},
   "outputs": [
    {
     "data": {
      "text/html": [
       "<div>\n",
       "<style scoped>\n",
       "    .dataframe tbody tr th:only-of-type {\n",
       "        vertical-align: middle;\n",
       "    }\n",
       "\n",
       "    .dataframe tbody tr th {\n",
       "        vertical-align: top;\n",
       "    }\n",
       "\n",
       "    .dataframe thead th {\n",
       "        text-align: right;\n",
       "    }\n",
       "</style>\n",
       "<table border=\"1\" class=\"dataframe\">\n",
       "  <thead>\n",
       "    <tr style=\"text-align: right;\">\n",
       "      <th></th>\n",
       "      <th>PtID</th>\n",
       "      <th>RecID</th>\n",
       "      <th>DataDtTm</th>\n",
       "      <th>CGMValue</th>\n",
       "      <th>DataDtTm_adjusted</th>\n",
       "    </tr>\n",
       "  </thead>\n",
       "  <tbody>\n",
       "    <tr>\n",
       "      <th>0</th>\n",
       "      <td>22</td>\n",
       "      <td>1</td>\n",
       "      <td>2018-05-30 16:44:14</td>\n",
       "      <td>83</td>\n",
       "      <td>NaN</td>\n",
       "    </tr>\n",
       "    <tr>\n",
       "      <th>1</th>\n",
       "      <td>22</td>\n",
       "      <td>2</td>\n",
       "      <td>2018-05-30 16:59:15</td>\n",
       "      <td>117</td>\n",
       "      <td>NaN</td>\n",
       "    </tr>\n",
       "    <tr>\n",
       "      <th>2</th>\n",
       "      <td>22</td>\n",
       "      <td>3</td>\n",
       "      <td>2018-05-30 16:49:16</td>\n",
       "      <td>98</td>\n",
       "      <td>NaN</td>\n",
       "    </tr>\n",
       "    <tr>\n",
       "      <th>3</th>\n",
       "      <td>22</td>\n",
       "      <td>4</td>\n",
       "      <td>2018-05-30 16:54:16</td>\n",
       "      <td>111</td>\n",
       "      <td>NaN</td>\n",
       "    </tr>\n",
       "    <tr>\n",
       "      <th>4</th>\n",
       "      <td>22</td>\n",
       "      <td>5</td>\n",
       "      <td>2018-05-30 17:04:15</td>\n",
       "      <td>117</td>\n",
       "      <td>NaN</td>\n",
       "    </tr>\n",
       "  </tbody>\n",
       "</table>\n",
       "</div>"
      ],
      "text/plain": [
       "   PtID  RecID             DataDtTm  CGMValue DataDtTm_adjusted\n",
       "0    22      1  2018-05-30 16:44:14        83               NaN\n",
       "1    22      2  2018-05-30 16:59:15       117               NaN\n",
       "2    22      3  2018-05-30 16:49:16        98               NaN\n",
       "3    22      4  2018-05-30 16:54:16       111               NaN\n",
       "4    22      5  2018-05-30 17:04:15       117               NaN"
      ]
     },
     "metadata": {},
     "output_type": "display_data"
    },
    {
     "name": "stdout",
     "output_type": "stream",
     "text": [
      "overall data counts:\n",
      "PtID                 5677432\n",
      "RecID                5677432\n",
      "DataDtTm             5677432\n",
      "CGMValue             5677432\n",
      "DataDtTm_adjusted      85318\n",
      "dtype: int64 \n",
      "\n",
      "unique patient ids:  112\n"
     ]
    }
   ],
   "source": [
    "display(df_cgm.head());\n",
    "\n",
    "print(\"overall data counts:\")\n",
    "print(df_cgm.count(),\"\\n\");\n",
    "print(\"unique patient ids: \", len(df_cgm.PtID.unique()))"
   ]
  },
  {
   "cell_type": "markdown",
   "id": "4e4a33bc-ad93-4908-84f8-b1b32e8b08a8",
   "metadata": {},
   "source": [
    "<div class=\"alert alert-block alert-warning\">\n",
    "<b>Date Adjustments:</b> We see that there are ~85k adjusted datetimes (~1.5% of the data).\n",
    "</div>"
   ]
  },
  {
   "cell_type": "code",
   "execution_count": 20,
   "id": "42094c7a-83cb-4ab0-a539-ed0948264ac7",
   "metadata": {},
   "outputs": [
    {
     "data": {
      "text/html": [
       "<div>\n",
       "<style scoped>\n",
       "    .dataframe tbody tr th:only-of-type {\n",
       "        vertical-align: middle;\n",
       "    }\n",
       "\n",
       "    .dataframe tbody tr th {\n",
       "        vertical-align: top;\n",
       "    }\n",
       "\n",
       "    .dataframe thead th {\n",
       "        text-align: right;\n",
       "    }\n",
       "</style>\n",
       "<table border=\"1\" class=\"dataframe\">\n",
       "  <thead>\n",
       "    <tr style=\"text-align: right;\">\n",
       "      <th></th>\n",
       "      <th>PtID</th>\n",
       "      <th>RecID</th>\n",
       "      <th>DataDtTm</th>\n",
       "      <th>BolusAmount</th>\n",
       "      <th>DataDtTm_adjusted</th>\n",
       "      <th>BolusType</th>\n",
       "    </tr>\n",
       "  </thead>\n",
       "  <tbody>\n",
       "    <tr>\n",
       "      <th>0</th>\n",
       "      <td>79</td>\n",
       "      <td>10100</td>\n",
       "      <td>2018-04-29 04:45:44</td>\n",
       "      <td>0.645283</td>\n",
       "      <td>NaN</td>\n",
       "      <td>Standard</td>\n",
       "    </tr>\n",
       "    <tr>\n",
       "      <th>1</th>\n",
       "      <td>31</td>\n",
       "      <td>23863</td>\n",
       "      <td>2018-08-27 22:25:50</td>\n",
       "      <td>1.380000</td>\n",
       "      <td>NaN</td>\n",
       "      <td>Standard</td>\n",
       "    </tr>\n",
       "    <tr>\n",
       "      <th>2</th>\n",
       "      <td>88</td>\n",
       "      <td>111267</td>\n",
       "      <td>2018-06-12 08:16:17</td>\n",
       "      <td>2.000000</td>\n",
       "      <td>NaN</td>\n",
       "      <td>Standard</td>\n",
       "    </tr>\n",
       "    <tr>\n",
       "      <th>3</th>\n",
       "      <td>6</td>\n",
       "      <td>164032</td>\n",
       "      <td>2018-06-17 13:54:45</td>\n",
       "      <td>5.000000</td>\n",
       "      <td>NaN</td>\n",
       "      <td>Standard</td>\n",
       "    </tr>\n",
       "    <tr>\n",
       "      <th>4</th>\n",
       "      <td>139</td>\n",
       "      <td>191368</td>\n",
       "      <td>2019-01-01 21:03:02</td>\n",
       "      <td>9.000000</td>\n",
       "      <td>NaN</td>\n",
       "      <td>Standard</td>\n",
       "    </tr>\n",
       "  </tbody>\n",
       "</table>\n",
       "</div>"
      ],
      "text/plain": [
       "   PtID   RecID             DataDtTm  BolusAmount DataDtTm_adjusted BolusType\n",
       "0    79   10100  2018-04-29 04:45:44     0.645283               NaN  Standard\n",
       "1    31   23863  2018-08-27 22:25:50     1.380000               NaN  Standard\n",
       "2    88  111267  2018-06-12 08:16:17     2.000000               NaN  Standard\n",
       "3     6  164032  2018-06-17 13:54:45     5.000000               NaN  Standard\n",
       "4   139  191368  2019-01-01 21:03:02     9.000000               NaN  Standard"
      ]
     },
     "metadata": {},
     "output_type": "display_data"
    },
    {
     "name": "stdout",
     "output_type": "stream",
     "text": [
      "overall data counts:\n",
      "PtID                 221292\n",
      "RecID                221292\n",
      "DataDtTm             221292\n",
      "BolusAmount          221292\n",
      "DataDtTm_adjusted      3107\n",
      "BolusType            221292\n",
      "dtype: int64 \n",
      "\n",
      "bolus types:\n",
      "BolusType\n",
      "Standard    217035\n",
      "Extended      4257\n",
      "Name: count, dtype: int64 \n",
      "\n",
      "unique patient ids:  125\n"
     ]
    }
   ],
   "source": [
    "display(df_bolus.head())\n",
    "\n",
    "print(\"overall data counts:\")\n",
    "print(df_bolus.count(),\"\\n\")\n",
    "print(\"bolus types:\")\n",
    "print(df_bolus.BolusType.value_counts(),\"\\n\")\n",
    "print(\"unique patient ids: \", len(df_bolus.PtID.unique()))"
   ]
  },
  {
   "cell_type": "markdown",
   "id": "7fa93546-5fe5-4329-bd99-7816b43e9353",
   "metadata": {},
   "source": [
    "<div class=\"alert alert-block alert-warning\">\n",
    "<b>Extended Boluses:</b> There are 4257 extended boluses (~1.9% of the boluses). We do not have any data on how the boluses were extended. Users can set a % of the bolus to be delivered immediately and the remaining % will be delivered over a period of time the user sets. The time has to be <= 2 hours. The default extended bolus is 50% up front and 50% over 2 hours\n",
    "</div>"
   ]
  },
  {
   "cell_type": "code",
   "execution_count": 21,
   "id": "d5118dc1-0e3e-419c-850c-32e9255fa58b",
   "metadata": {},
   "outputs": [
    {
     "data": {
      "text/html": [
       "<div>\n",
       "<style scoped>\n",
       "    .dataframe tbody tr th:only-of-type {\n",
       "        vertical-align: middle;\n",
       "    }\n",
       "\n",
       "    .dataframe tbody tr th {\n",
       "        vertical-align: top;\n",
       "    }\n",
       "\n",
       "    .dataframe thead th {\n",
       "        text-align: right;\n",
       "    }\n",
       "</style>\n",
       "<table border=\"1\" class=\"dataframe\">\n",
       "  <thead>\n",
       "    <tr style=\"text-align: right;\">\n",
       "      <th></th>\n",
       "      <th>PtID</th>\n",
       "      <th>RecID</th>\n",
       "      <th>DataDtTm</th>\n",
       "      <th>CommandedBasalRate</th>\n",
       "      <th>DataDtTm_adjusted</th>\n",
       "    </tr>\n",
       "  </thead>\n",
       "  <tbody>\n",
       "    <tr>\n",
       "      <th>0</th>\n",
       "      <td>10</td>\n",
       "      <td>3</td>\n",
       "      <td>2018-04-04 12:52:41</td>\n",
       "      <td>2.00</td>\n",
       "      <td>NaN</td>\n",
       "    </tr>\n",
       "    <tr>\n",
       "      <th>1</th>\n",
       "      <td>10</td>\n",
       "      <td>4</td>\n",
       "      <td>2018-04-04 12:57:41</td>\n",
       "      <td>0.00</td>\n",
       "      <td>NaN</td>\n",
       "    </tr>\n",
       "    <tr>\n",
       "      <th>2</th>\n",
       "      <td>12</td>\n",
       "      <td>7</td>\n",
       "      <td>2018-05-17 12:43:45</td>\n",
       "      <td>0.55</td>\n",
       "      <td>NaN</td>\n",
       "    </tr>\n",
       "    <tr>\n",
       "      <th>3</th>\n",
       "      <td>12</td>\n",
       "      <td>8</td>\n",
       "      <td>2018-05-17 12:48:45</td>\n",
       "      <td>0.00</td>\n",
       "      <td>NaN</td>\n",
       "    </tr>\n",
       "    <tr>\n",
       "      <th>4</th>\n",
       "      <td>14</td>\n",
       "      <td>11</td>\n",
       "      <td>2018-07-08 14:49:22</td>\n",
       "      <td>1.10</td>\n",
       "      <td>NaN</td>\n",
       "    </tr>\n",
       "  </tbody>\n",
       "</table>\n",
       "</div>"
      ],
      "text/plain": [
       "   PtID  RecID             DataDtTm  CommandedBasalRate DataDtTm_adjusted\n",
       "0    10      3  2018-04-04 12:52:41                2.00               NaN\n",
       "1    10      4  2018-04-04 12:57:41                0.00               NaN\n",
       "2    12      7  2018-05-17 12:43:45                0.55               NaN\n",
       "3    12      8  2018-05-17 12:48:45                0.00               NaN\n",
       "4    14     11  2018-07-08 14:49:22                1.10               NaN"
      ]
     },
     "metadata": {},
     "output_type": "display_data"
    },
    {
     "name": "stdout",
     "output_type": "stream",
     "text": [
      "overall data counts:\n",
      "PtID                  2610772\n",
      "RecID                 2610772\n",
      "DataDtTm              2610772\n",
      "CommandedBasalRate    2610772\n",
      "DataDtTm_adjusted       38382\n",
      "dtype: int64 \n",
      "\n",
      "unique patient ids:  125\n"
     ]
    }
   ],
   "source": [
    "display(df_basal.head())\n",
    "\n",
    "print(\"overall data counts:\")\n",
    "print(df_basal.count(),\"\\n\")\n",
    "print(\"unique patient ids: \", len(df_basal.PtID.unique()))"
   ]
  },
  {
   "cell_type": "markdown",
   "id": "11cda26b-d68d-4781-a978-5339a3b99c7e",
   "metadata": {},
   "source": [
    "### Total Patient IDs with CGM, Basal and Bolus data"
   ]
  },
  {
   "cell_type": "code",
   "execution_count": 38,
   "id": "b60d26bf-8e5d-4e64-85f7-c24d479e61b4",
   "metadata": {},
   "outputs": [
    {
     "name": "stdout",
     "output_type": "stream",
     "text": [
      "Total PtIDs with all forms of data:  112\n"
     ]
    }
   ],
   "source": [
    "basal_ids = df_basal.PtID.unique()\n",
    "bolus_ids = df_bolus.PtID.unique()\n",
    "cgm_ids = df_cgm.PtID.unique()\n",
    "\n",
    "from functools import reduce\n",
    "total_ids = reduce(np.intersect1d, (basal_ids, bolus_ids, cgm_ids))\n",
    "\n",
    "print('Total PtIDs with all forms of data: ', len(total_ids))"
   ]
  },
  {
   "cell_type": "markdown",
   "id": "75b1e469-7123-4533-937a-de676602d91e",
   "metadata": {},
   "source": [
    "### Distribution of Commanded Basal Rates"
   ]
  },
  {
   "cell_type": "code",
   "execution_count": 35,
   "id": "e4114e50-1a45-460b-a701-70266f36a1ed",
   "metadata": {},
   "outputs": [
    {
     "name": "stdout",
     "output_type": "stream",
     "text": [
      "Commanded Basal Rate info: \n",
      "count    2.610772e+06\n",
      "mean     1.296549e+00\n",
      "std      1.201852e+00\n",
      "min      0.000000e+00\n",
      "25%      4.470000e-01\n",
      "50%      9.660000e-01\n",
      "75%      1.758000e+00\n",
      "max      1.500000e+01\n",
      "Name: CommandedBasalRate, dtype: float64\n"
     ]
    },
    {
     "data": {
      "image/png": "[encoded data removed]",
      "text/plain": [
       "<Figure size 600x200 with 1 Axes>"
      ]
     },
     "metadata": {},
     "output_type": "display_data"
    }
   ],
   "source": [
    "print('Commanded Basal Rate info: ')\n",
    "print(df_basal.CommandedBasalRate.describe())\n",
    "\n",
    "plt.figure(figsize=(6,2)); plt.xlabel(\"Rate\"); plt.title(\"Commanded Basal Rates\")\n",
    "plt.hist(df_basal.CommandedBasalRate, bins=np.arange(min(df_basal.CommandedBasalRate), max(df_basal.CommandedBasalRate) + 0.5, 0.5));"
   ]
  },
  {
   "cell_type": "markdown",
   "id": "b0554d37-c053-453d-b5ca-9e0e077ff225",
   "metadata": {},
   "source": [
    "<div class=\"alert alert-block alert-info\"> The maximum basal rate reached 15 U/h. This equates to 1.25 U every 5 minutes. This happend 17 times. Only 0.12% of commanded basal rates are > 8U/hr (0.67U per 5 min) </div>"
   ]
  },
  {
   "cell_type": "markdown",
   "id": "728bd2dd-bb77-4a87-bad6-b214bf876566",
   "metadata": {},
   "source": [
    "### Distribution of Bolus Amounts"
   ]
  },
  {
   "cell_type": "code",
   "execution_count": 36,
   "id": "53fd54c0-c32b-484e-a271-68cfa0050430",
   "metadata": {},
   "outputs": [
    {
     "name": "stdout",
     "output_type": "stream",
     "text": [
      "Commanded Basal Rate info: \n",
      "count    221292.000000\n",
      "mean          2.989165\n",
      "std           3.565708\n",
      "min           0.000000\n",
      "25%           0.801132\n",
      "50%           1.666667\n",
      "75%           3.890000\n",
      "max          25.000002\n",
      "Name: BolusAmount, dtype: float64\n"
     ]
    },
    {
     "data": {
      "image/png": "[encoded data removed]",
      "text/plain": [
       "<Figure size 600x200 with 1 Axes>"
      ]
     },
     "metadata": {},
     "output_type": "display_data"
    }
   ],
   "source": [
    "print('Commanded Basal Rate info: ')\n",
    "print(df_bolus.BolusAmount.describe())\n",
    "\n",
    "plt.figure(figsize=(6,2)); plt.xlabel(\"Bolus\"); plt.title(\"Bolus Amounts\")\n",
    "plt.hist(df_bolus.BolusAmount, bins=np.arange(min(df_bolus.BolusAmount), max(df_bolus.BolusAmount) + 0.5, 0.5));"
   ]
  },
  {
   "cell_type": "markdown",
   "id": "07773eb2-94ab-4534-94fa-2ca838b4c219",
   "metadata": {},
   "source": [
    "<div class=\"alert alert-block alert-warning\">\n",
    "Need to find glossary to confirm: We do not have any information on if this is the programmed bolus or the delivered bolus\n",
    "</div>"
   ]
  },
  {
   "cell_type": "code",
   "execution_count": null,
   "id": "982491d9-26bb-4494-9d8f-70c738a9f329",
   "metadata": {},
   "outputs": [],
   "source": []
  }
 ],
 "metadata": {
  "kernelspec": {
   "display_name": "Python 3 (ipykernel)",
   "language": "python",
   "name": "python3"
  },
  "language_info": {
   "codemirror_mode": {
    "name": "ipython",
    "version": 3
   },
   "file_extension": ".py",
   "mimetype": "text/x-python",
   "name": "python",
   "nbconvert_exporter": "python",
   "pygments_lexer": "ipython3",
   "version": "3.11.8"
  }
 },
 "nbformat": 4,
 "nbformat_minor": 5
}
