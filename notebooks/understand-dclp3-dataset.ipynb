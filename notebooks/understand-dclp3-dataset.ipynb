{
 "cells": [
  {
   "cell_type": "markdown",
   "id": "ea0d44eb-0c72-41fc-b821-5d1532975aa5",
   "metadata": {},
   "source": [
    "## Understanding DCLP3 Dataset\n",
    "This notebook tries provides details on the structure of the DCLP3 dataset and makes suggestions how to process the data.\n",
    "\n",
    "## The DCLP3 study\n",
    "\n",
    "**Title**: The International Diabetes Closed Loop (iDCL) trial: Clinical Acceptance of \n",
    "the Artificial Pancreas - A Pivotal Study of t:slim X2 with Control-IQ Technology (DCLP3)\n",
    "\n",
    "**Description**: The objective of the study is to assess efficacy and safety of a \n",
    "closed loop system (t:slim X2 with Control-IQ Technology) in a large randomized controlled trial.\n",
    "    \n",
    "**Devices**: t:slim X2 with Control-IQ and Dexcom G6 system\n",
    "\n",
    "**Study Population**: Teens and adults aged 14 years or older\n",
    "\n",
    "\n",
    "# Data\n",
    "The study data folder is named **DCLP3 Public Dataset - Release 3 - 2022-08-04**\n",
    "From the DataGlossary.rtf file, the following relevant files were identified which are stored in the **Data Tables** subfolder.\n",
    "\n",
    "* **Pump_BolusDelivered.txt**: List of pupm data downloaded (bolus data only)\n",
    "* **Pump_BasalRateChange.txt**: List of pump data dowloaded (basal data only)\n",
    "* **Pump_CGMGlucoseValue.txt**: List of cgm data dowloaded \n",
    "* **PtRoster.txt**: Patient Roster\n",
    "\n",
    "These are csv files (\"|\" separator) and host many columns related to the Tandem pump events and the Dexcom cgm. The glossary provides information about each column. Each file contains a limited amount of columns compared to the FLAIR data. Below are **all** of the columns contained in each file\n",
    "\n",
    "## Pump_BolusDelivered\n",
    "\n",
    "| Column| Description  | Comment |\n",
    "|--|--|--|--|\n",
    "| PtID               | Patient ID||\n",
    "| DataDtTm           | Local time of event||\n",
    "| BolusAmount        | Size of bolus **delivered** |Units|\n",
    "| DataDtTm_adjusted  | Local time of event -- Including adjustments made at Jaeb |*1|\n",
    "| BolusType          | The bolus insulin delivery type \"Standard or Extended\" |*2|\n",
    "\n",
    "## Pump_BasalRateChange\n",
    "\n",
    "| Column| Description | Comment |\n",
    "|--------------------|-----|-------|\n",
    "| PtID               | Patient ID|       |\n",
    "| DataDtTm           | Date-time of basal rate change|       |\n",
    "| CommandedBasalRate | The new basal rate| range: 0-25, unit = U/h, Glossary names this variable BasalRate|\n",
    "| DataDtTm_adjusted  | Local time of event -- Including adjustments made at Jaeb|*1|\n",
    "|RecID| Unique record ID in table | this data set comes from two tables, so there will be duplicate values in this column|\n",
    "\n",
    "## Pump_CGMGlucoseValue\n",
    "| Column             | Description| Comment |\n",
    "|--------------------|--|--|\n",
    "| PtID               | Patient ID |       |\n",
    "| DataDtTm           | Date-time of event ||\n",
    "| CGMValue           | CGM value in mg/dl| *3|\n",
    "| DataDtTm_adjusted  | Local time of event -- **Including adjustments made at Jaeb** |*1|\n",
    "\n",
    "\\* 1: Glossary does not explain this further, unclear which time should be used. Needs to be investigated.\n",
    "\n",
    "\\* 2: There is no information about when the extended duration or if the time refers to completion or start, needs to be checked.\n",
    "\n",
    "\\* 3: Glossary mentions *\"40-400 are legitimate glucose values. 0 is used when the reading is high or low. Use of this field depends on the glucoseValueStatus field.\"* but there is no `glucoseValueStatus` field.\n",
    "\n"
   ]
  },
  {
   "cell_type": "markdown",
   "id": "07773eb2-94ab-4534-94fa-2ca838b4c219",
   "metadata": {},
   "source": [
    "## Observations\n",
    "* We need to figure out how to deal with DataDtTm_adjusted\n",
    "* We need to make asusmptions about extended bolus durations \n",
    "* We should analyze if an extended boluses are reported upcon delivery or completion\n",
    "* We need to be aware that there will be duplicates in Record ids\n",
    "* 0 CGMs need to be handled (checking previous, value >0 to decide if <40, >400) \n",
    "\n",
    "**Differences to PEDAP:** PEDAP and DCLP are conducated on Tandem and therefore have similar data structures. \n",
    "But some differences exist:\n",
    " - Basal rate column in PEDAP is named `BasalRate`, in DCLP3 it is `CommandedBasalRate`\n",
    " - DCLP we have two date columns `DataDtTm` and `DataDtTm_adjusted`, in PEDAP there are no adjusted datetimes\n",
    " - In `PEDAP`, extended boluses come with duration and are reported at completion. `DCLP`, we only know if a bolus is extended, but miss the duration or if the extended portion is reported at the announcement or at the completion. \n",
    " - `DCLP` Bolus table does not come with `CarbAmount` column"
   ]
  },
  {
   "cell_type": "markdown",
   "id": "155e7d9b",
   "metadata": {},
   "source": [
    "## Load the Data"
   ]
  },
  {
   "cell_type": "code",
   "execution_count": 35,
   "id": "87715cb5",
   "metadata": {},
   "outputs": [],
   "source": [
    "import pandas as pd\n",
    "import matplotlib.pyplot as plt\n",
    "import numpy as np\n",
    "import os\n",
    "import sys\n",
    "from matplotlib import pyplot as plt\n",
    "sys.path.append(os.path.join(os.getcwd(), '..'))\n",
    "from src import date_helper\n",
    "from datetime import datetime, timedelta"
   ]
  },
  {
   "cell_type": "code",
   "execution_count": 36,
   "id": "6a421437",
   "metadata": {},
   "outputs": [
    {
     "name": "stdout",
     "output_type": "stream",
     "text": [
      "Execution time: 5.64 seconds\n"
     ]
    },
    {
     "data": {
      "text/html": [
       "<div>\n",
       "<style scoped>\n",
       "    .dataframe tbody tr th:only-of-type {\n",
       "        vertical-align: middle;\n",
       "    }\n",
       "\n",
       "    .dataframe tbody tr th {\n",
       "        vertical-align: top;\n",
       "    }\n",
       "\n",
       "    .dataframe thead th {\n",
       "        text-align: right;\n",
       "    }\n",
       "</style>\n",
       "<table border=\"1\" class=\"dataframe\">\n",
       "  <thead>\n",
       "    <tr style=\"text-align: right;\">\n",
       "      <th></th>\n",
       "      <th>PtID</th>\n",
       "      <th>RecID</th>\n",
       "      <th>DataDtTm</th>\n",
       "      <th>BolusAmount</th>\n",
       "      <th>DataDtTm_adjusted</th>\n",
       "      <th>BolusType</th>\n",
       "    </tr>\n",
       "  </thead>\n",
       "  <tbody>\n",
       "    <tr>\n",
       "      <th>0</th>\n",
       "      <td>79</td>\n",
       "      <td>10100</td>\n",
       "      <td>2018-04-29 04:45:44</td>\n",
       "      <td>0.645283</td>\n",
       "      <td>NaN</td>\n",
       "      <td>Standard</td>\n",
       "    </tr>\n",
       "  </tbody>\n",
       "</table>\n",
       "</div>"
      ],
      "text/plain": [
       "   PtID  RecID             DataDtTm  BolusAmount DataDtTm_adjusted BolusType\n",
       "0    79  10100  2018-04-29 04:45:44     0.645283               NaN  Standard"
      ]
     },
     "metadata": {},
     "output_type": "display_data"
    },
    {
     "data": {
      "text/html": [
       "<div>\n",
       "<style scoped>\n",
       "    .dataframe tbody tr th:only-of-type {\n",
       "        vertical-align: middle;\n",
       "    }\n",
       "\n",
       "    .dataframe tbody tr th {\n",
       "        vertical-align: top;\n",
       "    }\n",
       "\n",
       "    .dataframe thead th {\n",
       "        text-align: right;\n",
       "    }\n",
       "</style>\n",
       "<table border=\"1\" class=\"dataframe\">\n",
       "  <thead>\n",
       "    <tr style=\"text-align: right;\">\n",
       "      <th></th>\n",
       "      <th>PtID</th>\n",
       "      <th>RecID</th>\n",
       "      <th>DataDtTm</th>\n",
       "      <th>CommandedBasalRate</th>\n",
       "      <th>DataDtTm_adjusted</th>\n",
       "    </tr>\n",
       "  </thead>\n",
       "  <tbody>\n",
       "    <tr>\n",
       "      <th>0</th>\n",
       "      <td>10</td>\n",
       "      <td>3</td>\n",
       "      <td>2018-04-04 12:52:41</td>\n",
       "      <td>2.0</td>\n",
       "      <td>NaN</td>\n",
       "    </tr>\n",
       "  </tbody>\n",
       "</table>\n",
       "</div>"
      ],
      "text/plain": [
       "   PtID  RecID             DataDtTm  CommandedBasalRate DataDtTm_adjusted\n",
       "0    10      3  2018-04-04 12:52:41                 2.0               NaN"
      ]
     },
     "metadata": {},
     "output_type": "display_data"
    },
    {
     "data": {
      "text/html": [
       "<div>\n",
       "<style scoped>\n",
       "    .dataframe tbody tr th:only-of-type {\n",
       "        vertical-align: middle;\n",
       "    }\n",
       "\n",
       "    .dataframe tbody tr th {\n",
       "        vertical-align: top;\n",
       "    }\n",
       "\n",
       "    .dataframe thead th {\n",
       "        text-align: right;\n",
       "    }\n",
       "</style>\n",
       "<table border=\"1\" class=\"dataframe\">\n",
       "  <thead>\n",
       "    <tr style=\"text-align: right;\">\n",
       "      <th></th>\n",
       "      <th>PtID</th>\n",
       "      <th>RecID</th>\n",
       "      <th>DataDtTm</th>\n",
       "      <th>CGMValue</th>\n",
       "      <th>HighLowIndicator</th>\n",
       "      <th>DataDtTm_adjusted</th>\n",
       "    </tr>\n",
       "  </thead>\n",
       "  <tbody>\n",
       "    <tr>\n",
       "      <th>0</th>\n",
       "      <td>22</td>\n",
       "      <td>1</td>\n",
       "      <td>2018-05-30 16:44:14</td>\n",
       "      <td>83</td>\n",
       "      <td>0</td>\n",
       "      <td>NaN</td>\n",
       "    </tr>\n",
       "  </tbody>\n",
       "</table>\n",
       "</div>"
      ],
      "text/plain": [
       "   PtID  RecID             DataDtTm  CGMValue  HighLowIndicator  \\\n",
       "0    22      1  2018-05-30 16:44:14        83                 0   \n",
       "\n",
       "  DataDtTm_adjusted  \n",
       "0               NaN  "
      ]
     },
     "metadata": {},
     "output_type": "display_data"
    }
   ],
   "source": [
    "# load the raw data\n",
    " \n",
    "import time\n",
    "start_time = time.time()\n",
    "study_path = os.path.join(os.getcwd(), '../data/raw/DCLP3 Public Dataset - Release 3 - 2022-08-04/')\n",
    "df_bolus = pd.read_csv(os.path.join(study_path,'Data Files', 'Pump_BolusDelivered.txt'), sep='|', low_memory=False)\n",
    "                       #usecols=['RecID', 'PtID', 'DataDtTm', 'BolusAmount', 'BolusType', 'DataDtTm_adjusted'])\n",
    "\n",
    "df_basal = pd.read_csv(os.path.join(study_path, 'Data Files', 'Pump_BasalRateChange.txt'), sep='|', low_memory=False)\n",
    "#                       usecols=['RecID', 'PtID', 'DataDtTm', 'CommandedBasalRate', 'DataDtTm_adjusted'])\n",
    "\n",
    "df_cgm = pd.read_csv(os.path.join(study_path, 'Data Files', 'Pump_CGMGlucoseValue.txt'), sep='|', low_memory=False)\n",
    "#usecols=['RecID', 'PtID', 'DataDtTm', 'CGMValue', 'DataDtTm_adjusted'])\n",
    "\n",
    "end_time = time.time()\n",
    "print(f\"Execution time: {end_time - start_time:.2f} seconds\")\n",
    "\n",
    "display(df_bolus.head(1))\n",
    "display(df_basal.head(1))\n",
    "display(df_cgm.head(1))\n",
    "\n",
    "df_bolus.Name = 'Bolus'\n",
    "df_basal.Name = 'Basal'\n",
    "df_cgm.Name = 'CGM'"
   ]
  },
  {
   "cell_type": "markdown",
   "id": "f51adf9e",
   "metadata": {},
   "source": [
    "### Duplicates & Missing Data\n",
    "We see that there are many duplicated data points without additional information. Also, we see that some DateTime data is missing for the boluses. We also see that for manyu patients there is no basal data. For all these cases, we remove the data."
   ]
  },
  {
   "cell_type": "code",
   "execution_count": 37,
   "id": "64f903d5",
   "metadata": {},
   "outputs": [
    {
     "name": "stdout",
     "output_type": "stream",
     "text": [
      "CGM: 0 null values\n",
      "Bolus: 0 null values\n",
      "Basal: 0 null values\n"
     ]
    }
   ],
   "source": [
    "#check for NUll CGM, Boluses and Basals\n",
    "print(f\"CGM: {df_cgm.CGMValue.isnull().sum()} null values\")\n",
    "print(f\"Bolus: {df_bolus.BolusAmount.isnull().sum()} null values\")\n",
    "print(f\"Basal: {df_basal.CommandedBasalRate.isnull().sum()} null values\")"
   ]
  },
  {
   "cell_type": "code",
   "execution_count": 38,
   "id": "a33b1948",
   "metadata": {},
   "outputs": [
    {
     "name": "stdout",
     "output_type": "stream",
     "text": [
      "Duplicated rows in Bolus: 0\n",
      "Duplicated rows in Basal: 0\n",
      "Duplicated rows in CGM: 0\n"
     ]
    }
   ],
   "source": [
    "#check for row duplicates\n",
    "for dataset in [df_bolus, df_basal, df_cgm]:\n",
    "    print(f\"Duplicated rows in {dataset.Name}: {dataset.duplicated().sum()}\")"
   ]
  },
  {
   "cell_type": "code",
   "execution_count": 39,
   "id": "180e7851",
   "metadata": {},
   "outputs": [
    {
     "name": "stdout",
     "output_type": "stream",
     "text": [
      "Basal Duplicates (PtID, RecID): 0\n",
      "Basal Duplicates (PtID, DataDtTm): 22\n",
      "Basal Duplicates (PtID, DataDtTm, CommandedBasalRate): 0\n",
      "CGM Duplicates (PtID, RecID): 0\n",
      "CGM Duplicates (PtID, DataDtTm): 7110\n",
      "CGM Duplicates (PtID, DataDtTm, CGMValue): 7014\n",
      "Bolus Duplicates (PtID, RecID): 80\n",
      "Bolus Duplicates (PtID, DataDtTm): 94\n",
      "Bolus Duplicates (PtID, DataDtTm, BolusType): 0\n"
     ]
    }
   ],
   "source": [
    "print(f\"Basal Duplicates (PtID, RecID): {df_basal.duplicated(subset=['PtID', 'RecID'], keep=False).sum()}\")\n",
    "print(f\"Basal Duplicates (PtID, DataDtTm): {df_basal.duplicated(subset=['PtID', 'DataDtTm'], keep=False).sum()}\")\n",
    "print(f\"Basal Duplicates (PtID, DataDtTm, CommandedBasalRate): {df_basal.duplicated(subset=['PtID', 'DataDtTm', 'CommandedBasalRate'], keep=False).sum()}\")\n",
    "\n",
    "print(f\"CGM Duplicates (PtID, RecID): {df_cgm.duplicated(subset=['PtID', 'RecID'], keep=False).sum()}\")\n",
    "print(f\"CGM Duplicates (PtID, DataDtTm): {df_cgm.duplicated(subset=['PtID', 'DataDtTm'], keep=False).sum()}\")\n",
    "print(f\"CGM Duplicates (PtID, DataDtTm, CGMValue): {df_cgm.duplicated(subset=['PtID', 'DataDtTm', 'CGMValue'], keep=False).sum()}\")\n",
    "\n",
    "print(f\"Bolus Duplicates (PtID, RecID): {df_bolus.duplicated(subset=['PtID', 'RecID'], keep=False).sum()}\")\n",
    "print(f\"Bolus Duplicates (PtID, DataDtTm): {df_bolus.duplicated(subset=['PtID', 'DataDtTm'], keep=False).sum()}\")\n",
    "print(f\"Bolus Duplicates (PtID, DataDtTm, BolusType): {df_bolus.duplicated(subset=['PtID', 'DataDtTm', 'BolusType'], keep=False).sum()}\")\n"
   ]
  },
  {
   "cell_type": "markdown",
   "id": "946161b7",
   "metadata": {},
   "source": [
    "We see that \n",
    "* There are only 22 basal Duplicates and these have diffferent basal rates\n",
    "* There are only 94 bolus duplicates and these all have different Bolus Types (Standard vs. Extended)\n",
    "* most cgm duplicates share the same value\n",
    "\n",
    "Let's quickly check how CGM duplicates are correlated."
   ]
  },
  {
   "cell_type": "code",
   "execution_count": 40,
   "id": "18a52820",
   "metadata": {},
   "outputs": [
    {
     "name": "stdout",
     "output_type": "stream",
     "text": [
      "0.063% of the CGM data is duplicated\n"
     ]
    },
    {
     "data": {
      "image/png": "[encoded data removed]",
      "text/plain": [
       "<Figure size 640x480 with 1 Axes>"
      ]
     },
     "metadata": {},
     "output_type": "display_data"
    }
   ],
   "source": [
    "#show correlation between duplicated CGM values\n",
    "print(f\"{(df_cgm.duplicated(['PtID', 'DataDtTm']).sum()/len(df_cgm))*100:.3f}% of the CGM data is duplicated\")\n",
    "df_cgm.sort_values(['PtID', 'DataDtTm','RecID'], inplace=True)\n",
    "duplicates = df_cgm.loc[df_cgm.duplicated(['PtID', 'DataDtTm'], keep=False)]\n",
    "\n",
    "grps = duplicates.groupby(['PtID', 'DataDtTm'])\n",
    "first_rows = grps.first().reset_index()\n",
    "second_rows = grps.last().reset_index()\n",
    "plt.hexbin(first_rows.CGMValue, second_rows.CGMValue, gridsize=50, cmap='viridis')\n",
    "plt.plot([0, 400], [0, 400], color='red', linestyle='--')\n",
    "plt.title('[PtID, DataDtTm] duplicated CGM values');"
   ]
  },
  {
   "cell_type": "markdown",
   "id": "3c2a334c",
   "metadata": {},
   "source": [
    "In conclusion:\n",
    "* As the data glossary mentions, record duplicates are expected and should be ignored (data comes from multiple sources)\n",
    "* the number of duplicates is almost negligible (only CGM is of interest)\n",
    "* On inspection we see that CGM duplicates are almost equal\n",
    "\n",
    "We deal with duplicates as follows:\n",
    "* Basal: Taking the maximum value (we see some zero values)\n",
    "* CGM: Taking the first value\n",
    "* Bolus, we handle later in the Extended Bolus section"
   ]
  },
  {
   "cell_type": "code",
   "execution_count": 41,
   "id": "dae4f226",
   "metadata": {},
   "outputs": [],
   "source": [
    "#drop duplicates either taking max or first value\n",
    "from src import pandas_helper\n",
    "\n",
    "#_, _, drop_indexes = pandas_helper.get_duplicated_max_indexes(df_bolus, ['PtID', 'DataDtTm'], 'BolusAmount')\n",
    "#df_bolus.drop(drop_indexes, inplace=True)\n",
    "\n",
    "df_cgm.drop_duplicates(['PtID', 'DataDtTm'], keep='first', inplace=True)\n",
    "\n",
    "_, _, drop_indexes = pandas_helper.get_duplicated_max_indexes(df_basal, ['PtID', 'DataDtTm'], 'CommandedBasalRate')\n",
    "df_basal.drop(drop_indexes, inplace=True)"
   ]
  },
  {
   "cell_type": "markdown",
   "id": "aa44e433",
   "metadata": {},
   "source": [
    "### Keep only patients with complete data"
   ]
  },
  {
   "cell_type": "code",
   "execution_count": 42,
   "id": "d118b016",
   "metadata": {},
   "outputs": [
    {
     "name": "stdout",
     "output_type": "stream",
     "text": [
      "Unique patients: Basal: 125, Bolus: 125, CGM: 112\n",
      "Total PtIDs with all forms of data:  112\n"
     ]
    }
   ],
   "source": [
    "from functools import reduce\n",
    "\n",
    "print(f\"Unique patients: Basal: {len(df_basal.PtID.unique())}, Bolus: {len(df_bolus.PtID.unique())}, CGM: {len(df_cgm.PtID.unique())}\")\n",
    "\n",
    "#reduce to those with data in all datasets\n",
    "total_ids = reduce(np.intersect1d, (df_basal.PtID.unique(), df_bolus.PtID.unique(), df_cgm.PtID.unique()))\n",
    "print('Total PtIDs with all forms of data: ', len(total_ids))\n",
    "\n",
    "#filter out those without data in all datasets\n",
    "df_basal = df_basal[df_basal.PtID.isin(total_ids)]\n",
    "df_bolus = df_bolus[df_bolus.PtID.isin(total_ids)]\n",
    "df_cgm = df_cgm[df_cgm.PtID.isin(total_ids)]"
   ]
  },
  {
   "cell_type": "markdown",
   "id": "091aeb4f",
   "metadata": {},
   "source": [
    "### DateTime Strings\n",
    "In Flair and PEDAP datetime strings were reported in inconsistent time formats: time components were missing at midnights which required special handling."
   ]
  },
  {
   "cell_type": "code",
   "execution_count": 43,
   "id": "acefec48",
   "metadata": {},
   "outputs": [
    {
     "data": {
      "image/png": "[encoded data removed]",
      "text/plain": [
       "<Figure size 1200x300 with 3 Axes>"
      ]
     },
     "metadata": {},
     "output_type": "display_data"
    },
    {
     "name": "stdout",
     "output_type": "stream",
     "text": [
      "Example for 19 characters in Bolus: 2018-04-29 04:45:44\n",
      "Example for 19 characters in CGM: 2018-01-10 05:18:32\n",
      "Example for 19 characters in Basal: 2018-04-04 12:52:41\n",
      "Missing datetime values in bolus: 0\n",
      "Missing datetime values in basal: 0\n",
      "Missing datetime values in cgm: 0\n"
     ]
    }
   ],
   "source": [
    "#check datetime string lengths\n",
    "datetime_column = 'DataDtTm'\n",
    "df_bolus.Name = 'Bolus'\n",
    "df_basal.Name = 'Basal'\n",
    "df_cgm.Name = 'CGM'\n",
    "fig, axes = plt.subplots(nrows=1, ncols=3, figsize=(12, 3))\n",
    "df_bolus[datetime_column].str.len().value_counts().plot.bar(ax=axes[0], title='Bolus DeviceDtTm Lengths')\n",
    "df_cgm[datetime_column].str.len().value_counts().plot.bar(ax=axes[1], title='CGM DeviceDtTm Lengths')\n",
    "df_basal[datetime_column].str.len().value_counts().plot.bar(ax=axes[2], title='Basal DeviceDtTm Lengths')\n",
    "plt.show()\n",
    "\n",
    "#print examples of the different string lengths (if exists)\n",
    "for dataset in [df_bolus, df_cgm, df_basal]:\n",
    "    value_counts = dataset[datetime_column].str.len().value_counts()\n",
    "    for length, count in value_counts.items():\n",
    "        print(f\"Example for {length} characters in {dataset.Name}: {dataset[datetime_column][dataset[datetime_column].str.len() == length].iloc[0]}\")\n",
    "\n",
    "\n",
    "\n",
    "#check if there are missing datetime values\n",
    "print(f\"Missing datetime values in bolus: {df_bolus['DataDtTm'].isnull().sum()}\")\n",
    "print(f\"Missing datetime values in basal: {df_basal['DataDtTm'].isnull().sum()}\")\n",
    "print(f\"Missing datetime values in cgm: {df_cgm['DataDtTm'].isnull().sum()}\")"
   ]
  },
  {
   "cell_type": "markdown",
   "id": "8e922a52",
   "metadata": {},
   "source": [
    "As we can see\n",
    " - all datetime strings are consistent (19 charcters) indicating leading zeros. \n",
    " - there are no missing datetimes.\n",
    "\n",
    "We can therefore move forward using the pd.to_datetime without"
   ]
  },
  {
   "cell_type": "code",
   "execution_count": 44,
   "id": "44abacad",
   "metadata": {},
   "outputs": [
    {
     "name": "stderr",
     "output_type": "stream",
     "text": [
      "/var/folders/m4/5d02b2xs0l52lbxzbk0t3vym0000gp/T/ipykernel_18197/3499440189.py:2: SettingWithCopyWarning: \n",
      "A value is trying to be set on a copy of a slice from a DataFrame.\n",
      "Try using .loc[row_indexer,col_indexer] = value instead\n",
      "\n",
      "See the caveats in the documentation: https://pandas.pydata.org/pandas-docs/stable/user_guide/indexing.html#returning-a-view-versus-a-copy\n",
      "  df_bolus['DataDtTm'] = pd.to_datetime(df_bolus['DataDtTm'], errors='coerce')\n",
      "/var/folders/m4/5d02b2xs0l52lbxzbk0t3vym0000gp/T/ipykernel_18197/3499440189.py:3: SettingWithCopyWarning: \n",
      "A value is trying to be set on a copy of a slice from a DataFrame.\n",
      "Try using .loc[row_indexer,col_indexer] = value instead\n",
      "\n",
      "See the caveats in the documentation: https://pandas.pydata.org/pandas-docs/stable/user_guide/indexing.html#returning-a-view-versus-a-copy\n",
      "  df_basal['DataDtTm'] = pd.to_datetime(df_basal['DataDtTm'], errors='coerce')\n",
      "/var/folders/m4/5d02b2xs0l52lbxzbk0t3vym0000gp/T/ipykernel_18197/3499440189.py:7: SettingWithCopyWarning: \n",
      "A value is trying to be set on a copy of a slice from a DataFrame.\n",
      "Try using .loc[row_indexer,col_indexer] = value instead\n",
      "\n",
      "See the caveats in the documentation: https://pandas.pydata.org/pandas-docs/stable/user_guide/indexing.html#returning-a-view-versus-a-copy\n",
      "  df_basal['DataDtTm_adjusted'] = pd.to_datetime(df_basal['DataDtTm_adjusted'], errors='coerce')\n",
      "/var/folders/m4/5d02b2xs0l52lbxzbk0t3vym0000gp/T/ipykernel_18197/3499440189.py:8: SettingWithCopyWarning: \n",
      "A value is trying to be set on a copy of a slice from a DataFrame.\n",
      "Try using .loc[row_indexer,col_indexer] = value instead\n",
      "\n",
      "See the caveats in the documentation: https://pandas.pydata.org/pandas-docs/stable/user_guide/indexing.html#returning-a-view-versus-a-copy\n",
      "  df_bolus['DataDtTm_adjusted'] = pd.to_datetime(df_bolus['DataDtTm_adjusted'], errors='coerce')\n"
     ]
    }
   ],
   "source": [
    "#convert the datetime strings to datetime objects\n",
    "df_bolus['DataDtTm'] = pd.to_datetime(df_bolus['DataDtTm'], errors='coerce')\n",
    "df_basal['DataDtTm'] = pd.to_datetime(df_basal['DataDtTm'], errors='coerce')\n",
    "df_cgm['DataDtTm'] = pd.to_datetime(df_cgm['DataDtTm'], errors='coerce')\n",
    "\n",
    "df_cgm['DataDtTm_adjusted'] = pd.to_datetime(df_cgm['DataDtTm_adjusted'], errors='coerce')\n",
    "df_basal['DataDtTm_adjusted'] = pd.to_datetime(df_basal['DataDtTm_adjusted'], errors='coerce')\n",
    "df_bolus['DataDtTm_adjusted'] = pd.to_datetime(df_bolus['DataDtTm_adjusted'], errors='coerce')\n"
   ]
  },
  {
   "cell_type": "markdown",
   "id": "ee502d47",
   "metadata": {},
   "source": [
    "### Adjusted Datetimes\n",
    "\n",
    "We know there are datetime adjusted events, let's investigate:"
   ]
  },
  {
   "cell_type": "code",
   "execution_count": 45,
   "id": "d8f07026",
   "metadata": {},
   "outputs": [
    {
     "name": "stdout",
     "output_type": "stream",
     "text": [
      "Adjusted boluses: 1.48%\n",
      "Adjusted basals: 1.48%\n",
      "Adjusted cgms: 1.50%\n"
     ]
    },
    {
     "data": {
      "text/plain": [
       "count                          85188\n",
       "mean     128 days 18:54:26.383833408\n",
       "std      603 days 21:15:47.591760424\n",
       "min                -1 days +00:00:00\n",
       "25%                -1 days +00:00:00\n",
       "50%                -1 days +00:00:00\n",
       "75%                -1 days +18:00:00\n",
       "max               3904 days 09:56:00\n",
       "dtype: object"
      ]
     },
     "metadata": {},
     "output_type": "display_data"
    }
   ],
   "source": [
    "#check for adjusted datetime durations\n",
    "bolus_adjusted_percentage = df_bolus['DataDtTm_adjusted'].notna().mean() * 100\n",
    "basal_adjusted_percentage = df_basal['DataDtTm_adjusted'].notna().mean() * 100\n",
    "cgm_adjusted_percentage = df_cgm['DataDtTm_adjusted'].notna().mean() * 100\n",
    "\n",
    "print(f\"Adjusted boluses: {bolus_adjusted_percentage:.2f}%\")\n",
    "print(f\"Adjusted basals: {basal_adjusted_percentage:.2f}%\")\n",
    "print(f\"Adjusted cgms: {cgm_adjusted_percentage:.2f}%\")\n",
    "\n",
    "#describe the adjustment duration\n",
    "display((df_cgm.DataDtTm_adjusted-df_cgm.DataDtTm).describe())"
   ]
  },
  {
   "cell_type": "code",
   "execution_count": 46,
   "id": "0a8c9b98",
   "metadata": {},
   "outputs": [
    {
     "data": {
      "image/png": "[encoded data removed]",
      "text/plain": [
       "<Figure size 1500x300 with 6 Axes>"
      ]
     },
     "metadata": {},
     "output_type": "display_data"
    }
   ],
   "source": [
    "# plot cgm data using the adjusted vs. unadjusted datetime values\n",
    "\n",
    "def split_groups(x: pd.Series, threshold) -> pd.Series:\n",
    "   \"\"\"Assigns unique group IDs based on the distance between consecutive values.\n",
    "\n",
    "   Args:\n",
    "       x (pd.Series): Series of numerical values.\n",
    "       threshold : The maximum duration between two consecutive values to consider them in the same group.\n",
    "\n",
    "   Returns:\n",
    "       (pd.Series): The Series containing the data.\n",
    "   \"\"\"\n",
    "   \n",
    "   return (x.diff()>threshold).cumsum()\n",
    "\n",
    "# Example usage for the first three patients\n",
    "datetime_col = 'DataDtTm'\n",
    "adjusted_datetime_col = 'DataDtTm_adjusted'\n",
    "cgm_col = 'CGMValue'\n",
    "\n",
    "#get patient ids\n",
    "patients_with_adj_datetimes = df_cgm.loc[df_cgm[adjusted_datetime_col].notnull()]['PtID'].unique()\n",
    "\n",
    "#Plot the cgm data for the three patients\n",
    "f,AX = plt.subplots(2,3,figsize=(15,3),sharex='col')\n",
    "#([54,128,19])\n",
    "for i_patient,patient_id in enumerate(np.random.choice(patients_with_adj_datetimes,3)):\n",
    "    temp = df_cgm.loc[df_cgm.PtID == patient_id]\n",
    "    temp.loc[temp.DataDtTm_adjusted.isnull()].plot.scatter(x='DataDtTm', y='CGMValue',s=1, marker='.',ax=AX[0,i_patient],color='gray')\n",
    "    temp.loc[temp.DataDtTm_adjusted.isnull()].plot.scatter(x='DataDtTm', y='CGMValue',s=1, marker='.',ax=AX[1,i_patient],color='gray')\n",
    "\n",
    "    temp.loc[temp.DataDtTm_adjusted.notnull()].plot.scatter(x='DataDtTm', y='CGMValue',s=1, marker='.',ax=AX[0,i_patient],color='red')\n",
    "    temp.loc[temp.DataDtTm_adjusted.notnull()].plot.scatter(x='DataDtTm_adjusted', y='CGMValue',s=1, marker='.',ax=AX[1,i_patient],color='blue')\n",
    "\n",
    "    #limit the x-axis to the first group of adjusted datetime values\n",
    "    group_labels = split_groups(temp[adjusted_datetime_col].dropna(), timedelta(days=1))\n",
    "    first_group = temp.groupby(group_labels).get_group(0)\n",
    "    \n",
    "    start,end = first_group[datetime_col].agg(['min','max'])\n",
    "    start2,end2 = first_group[adjusted_datetime_col].agg(['min','max'])\n",
    "    \n",
    "    start,end = min(start,start2),max(end,end2)\n",
    "\n",
    "    AX[0][i_patient].set_xlim([start-timedelta(hours=12),end+timedelta(hours=12)])\n",
    "    AX[0][i_patient].set_title(\"PtID: \"+str(patient_id)); \n",
    "    AX[1][i_patient].set_xlabel(''); \n",
    "    AX[0][i_patient].set_ylabel('')\n",
    "    AX[1][i_patient].set_ylabel('')\n",
    "    \n",
    "    "
   ]
  },
  {
   "cell_type": "code",
   "execution_count": 47,
   "id": "9b8e5d9a",
   "metadata": {},
   "outputs": [
    {
     "data": {
      "text/html": [
       "<div>\n",
       "<style scoped>\n",
       "    .dataframe tbody tr th:only-of-type {\n",
       "        vertical-align: middle;\n",
       "    }\n",
       "\n",
       "    .dataframe tbody tr th {\n",
       "        vertical-align: top;\n",
       "    }\n",
       "\n",
       "    .dataframe thead th {\n",
       "        text-align: right;\n",
       "    }\n",
       "</style>\n",
       "<table border=\"1\" class=\"dataframe\">\n",
       "  <thead>\n",
       "    <tr style=\"text-align: right;\">\n",
       "      <th></th>\n",
       "      <th>Before</th>\n",
       "      <th>After</th>\n",
       "    </tr>\n",
       "  </thead>\n",
       "  <tbody>\n",
       "    <tr>\n",
       "      <th>count</th>\n",
       "      <td>5673765</td>\n",
       "      <td>5673765</td>\n",
       "    </tr>\n",
       "    <tr>\n",
       "      <th>mean</th>\n",
       "      <td>0 days 00:06:57.032272045</td>\n",
       "      <td>0 days 00:05:13.013477822</td>\n",
       "    </tr>\n",
       "    <tr>\n",
       "      <th>std</th>\n",
       "      <td>2 days 00:51:46.912755045</td>\n",
       "      <td>0 days 00:46:14.062200580</td>\n",
       "    </tr>\n",
       "    <tr>\n",
       "      <th>min</th>\n",
       "      <td>0 days 00:00:01</td>\n",
       "      <td>0 days 00:00:00</td>\n",
       "    </tr>\n",
       "    <tr>\n",
       "      <th>25%</th>\n",
       "      <td>0 days 00:04:59</td>\n",
       "      <td>0 days 00:04:59</td>\n",
       "    </tr>\n",
       "    <tr>\n",
       "      <th>50%</th>\n",
       "      <td>0 days 00:05:00</td>\n",
       "      <td>0 days 00:05:00</td>\n",
       "    </tr>\n",
       "    <tr>\n",
       "      <th>75%</th>\n",
       "      <td>0 days 00:05:01</td>\n",
       "      <td>0 days 00:05:01</td>\n",
       "    </tr>\n",
       "    <tr>\n",
       "      <th>max</th>\n",
       "      <td>3869 days 12:22:09</td>\n",
       "      <td>69 days 07:13:39</td>\n",
       "    </tr>\n",
       "  </tbody>\n",
       "</table>\n",
       "</div>"
      ],
      "text/plain": [
       "                          Before                      After\n",
       "count                    5673765                    5673765\n",
       "mean   0 days 00:06:57.032272045  0 days 00:05:13.013477822\n",
       "std    2 days 00:51:46.912755045  0 days 00:46:14.062200580\n",
       "min              0 days 00:00:01            0 days 00:00:00\n",
       "25%              0 days 00:04:59            0 days 00:04:59\n",
       "50%              0 days 00:05:00            0 days 00:05:00\n",
       "75%              0 days 00:05:01            0 days 00:05:01\n",
       "max           3869 days 12:22:09           69 days 07:13:39"
      ]
     },
     "execution_count": 47,
     "metadata": {},
     "output_type": "execute_result"
    }
   ],
   "source": [
    "#compare the time difference between consecutive values before and after the adjustment\n",
    "df_cgm['DataDtTmNew'] = df_cgm['DataDtTm_adjusted'].fillna(df_cgm['DataDtTm'])\n",
    "before = df_cgm.sort_values('DataDtTm').dropna(subset=['DataDtTm']).groupby('PtID').DataDtTm.agg('diff').describe()\n",
    "after = df_cgm.sort_values('DataDtTmNew').dropna(subset=['DataDtTmNew']).groupby('PtID').DataDtTmNew.agg('diff').describe()\n",
    "pd.DataFrame({'Before': before, 'After': after})\n"
   ]
  },
  {
   "cell_type": "markdown",
   "id": "e6ed38a0",
   "metadata": {},
   "source": [
    "**Conclusion**: As we can see, using the adjusted datetimes moves the cgm data in the right spot (mostly) and reduces the variation in time differences. "
   ]
  },
  {
   "cell_type": "code",
   "execution_count": 54,
   "id": "e722af6d",
   "metadata": {},
   "outputs": [
    {
     "data": {
      "text/html": [
       "<div>\n",
       "<style scoped>\n",
       "    .dataframe tbody tr th:only-of-type {\n",
       "        vertical-align: middle;\n",
       "    }\n",
       "\n",
       "    .dataframe tbody tr th {\n",
       "        vertical-align: top;\n",
       "    }\n",
       "\n",
       "    .dataframe thead th {\n",
       "        text-align: right;\n",
       "    }\n",
       "</style>\n",
       "<table border=\"1\" class=\"dataframe\">\n",
       "  <thead>\n",
       "    <tr style=\"text-align: right;\">\n",
       "      <th></th>\n",
       "      <th>PtID</th>\n",
       "      <th>RecID</th>\n",
       "      <th>CGMValue</th>\n",
       "      <th>HighLowIndicator</th>\n",
       "      <th>datetime</th>\n",
       "      <th>cgm</th>\n",
       "    </tr>\n",
       "  </thead>\n",
       "  <tbody>\n",
       "    <tr>\n",
       "      <th>7145</th>\n",
       "      <td>3</td>\n",
       "      <td>7149</td>\n",
       "      <td>98</td>\n",
       "      <td>0</td>\n",
       "      <td>2018-01-10 05:18:32</td>\n",
       "      <td>98</td>\n",
       "    </tr>\n",
       "  </tbody>\n",
       "</table>\n",
       "</div>"
      ],
      "text/plain": [
       "      PtID  RecID  CGMValue  HighLowIndicator            datetime  cgm\n",
       "7145     3   7149        98                 0 2018-01-10 05:18:32   98"
      ]
     },
     "metadata": {},
     "output_type": "display_data"
    },
    {
     "data": {
      "text/html": [
       "<div>\n",
       "<style scoped>\n",
       "    .dataframe tbody tr th:only-of-type {\n",
       "        vertical-align: middle;\n",
       "    }\n",
       "\n",
       "    .dataframe tbody tr th {\n",
       "        vertical-align: top;\n",
       "    }\n",
       "\n",
       "    .dataframe thead th {\n",
       "        text-align: right;\n",
       "    }\n",
       "</style>\n",
       "<table border=\"1\" class=\"dataframe\">\n",
       "  <thead>\n",
       "    <tr style=\"text-align: right;\">\n",
       "      <th></th>\n",
       "      <th>PtID</th>\n",
       "      <th>RecID</th>\n",
       "      <th>BolusAmount</th>\n",
       "      <th>BolusType</th>\n",
       "      <th>datetime</th>\n",
       "    </tr>\n",
       "  </thead>\n",
       "  <tbody>\n",
       "    <tr>\n",
       "      <th>0</th>\n",
       "      <td>79</td>\n",
       "      <td>10100</td>\n",
       "      <td>0.645283</td>\n",
       "      <td>Standard</td>\n",
       "      <td>2018-04-29 04:45:44</td>\n",
       "    </tr>\n",
       "  </tbody>\n",
       "</table>\n",
       "</div>"
      ],
      "text/plain": [
       "   PtID  RecID  BolusAmount BolusType            datetime\n",
       "0    79  10100     0.645283  Standard 2018-04-29 04:45:44"
      ]
     },
     "metadata": {},
     "output_type": "display_data"
    },
    {
     "data": {
      "text/html": [
       "<div>\n",
       "<style scoped>\n",
       "    .dataframe tbody tr th:only-of-type {\n",
       "        vertical-align: middle;\n",
       "    }\n",
       "\n",
       "    .dataframe tbody tr th {\n",
       "        vertical-align: top;\n",
       "    }\n",
       "\n",
       "    .dataframe thead th {\n",
       "        text-align: right;\n",
       "    }\n",
       "</style>\n",
       "<table border=\"1\" class=\"dataframe\">\n",
       "  <thead>\n",
       "    <tr style=\"text-align: right;\">\n",
       "      <th></th>\n",
       "      <th>PtID</th>\n",
       "      <th>RecID</th>\n",
       "      <th>CommandedBasalRate</th>\n",
       "      <th>datetime</th>\n",
       "    </tr>\n",
       "  </thead>\n",
       "  <tbody>\n",
       "    <tr>\n",
       "      <th>0</th>\n",
       "      <td>10</td>\n",
       "      <td>3</td>\n",
       "      <td>2.0</td>\n",
       "      <td>2018-04-04 12:52:41</td>\n",
       "    </tr>\n",
       "  </tbody>\n",
       "</table>\n",
       "</div>"
      ],
      "text/plain": [
       "   PtID  RecID  CommandedBasalRate            datetime\n",
       "0    10      3                 2.0 2018-04-04 12:52:41"
      ]
     },
     "metadata": {},
     "output_type": "display_data"
    }
   ],
   "source": [
    "# assign the adjusted datetime values to the datetime column, drop other columns\n",
    "df_cgm = df_cgm.drop(columns=['DataDtTm','DataDtTm_adjusted']).rename(columns={'DataDtTmNew':'datetime'})\n",
    "df_bolus = df_bolus.assign(datetime=df_bolus.DataDtTm_adjusted.fillna(df_bolus.DataDtTm)).drop(columns=['DataDtTm','DataDtTm_adjusted'])\n",
    "df_basal = df_basal.assign(datetime=df_basal.DataDtTm_adjusted.fillna(df_basal.DataDtTm)).drop(columns=['DataDtTm','DataDtTm_adjusted'])\n",
    "display(df_cgm.head(1))\n",
    "display(df_bolus.head(1))\n",
    "display(df_basal.head(1))"
   ]
  },
  {
   "cell_type": "markdown",
   "id": "539a5d58",
   "metadata": {},
   "source": [
    "### Check Data Overlaps"
   ]
  },
  {
   "cell_type": "code",
   "execution_count": 48,
   "id": "51344237",
   "metadata": {},
   "outputs": [],
   "source": [
    "# import importlib \n",
    "# from src import pandas_helper\n",
    "# importlib.reload(pandas_helper)   \n",
    "# from src.pandas_helper import split_groups\n",
    "# from tqdm import tqdm\n",
    "\n",
    "# def plot_sequence(starts, ends, y, ax, color = 'blue'):\n",
    "#     for (start,end) in zip(starts, ends):\n",
    "#         #print(start,end)\n",
    "#         if start == end:\n",
    "#             ax.plot(start, y, marker='o', color=color)\n",
    "#         else:\n",
    "#             ax.plot([start,end], [y,y], alpha=1, linewidth=1, color=color)\n",
    "\n",
    "# plt.figure(figsize=(15, 15))\n",
    "# ax = plt.gca()\n",
    "\n",
    "# colors = {'Bolus': 'red', 'Basal': 'green', 'CGM': 'blue'}\n",
    "\n",
    "# unique_patient_ids = df_cgm.PtID.unique()\n",
    "# for patient in tqdm(unique_patient_ids, desc=\"Plottin\", unit=\"patient\"):\n",
    "#     y = patient*10\n",
    "#     resolution=timedelta(days=10)\n",
    "\n",
    "#     temp_cgm = df_cgm.loc[df_cgm.PtID==patient].copy()\n",
    "#     temp_cgm['group'] = split_groups(temp_cgm['datetime'], resolution)\n",
    "#     cgm_minsmaxs = temp_cgm.groupby('group').datetime.agg(['min', 'max'])\n",
    "#     plot_sequence(cgm_minsmaxs['min'], cgm_minsmaxs['max'], y, ax, color=colors['CGM'])\n",
    "\n",
    "#     temp_bolus = df_bolus.loc[df_bolus.PtID==patient].copy()\n",
    "#     temp_bolus['group'] = split_groups(temp_bolus['datetime'], resolution)\n",
    "#     bolus_minsmaxs = temp_bolus.groupby('group').datetime.agg(['min', 'max'])\n",
    "#     plot_sequence(bolus_minsmaxs['min'], bolus_minsmaxs['max'], y+2, ax, color=colors['Bolus'])\n",
    "\n",
    "#     temp_basal = df_basal.loc[df_basal.PtID==patient].copy()\n",
    "#     temp_basal['group'] = split_groups(temp_basal['datetime'], resolution)\n",
    "#     basal_minsmaxs = temp_basal.groupby('group').datetime.agg(['min', 'max'])\n",
    "#     plot_sequence(basal_minsmaxs['min'], basal_minsmaxs['max'], y-2, ax, color=colors['Basal'])\n",
    "\n",
    "# #add color legend for the three colors\n",
    "# for label, color in colors.items():\n",
    "#     ax.plot([], [], color=color, label=label)\n",
    "# plt.legend(loc='upper right')"
   ]
  },
  {
   "cell_type": "markdown",
   "id": "65007066",
   "metadata": {},
   "source": [
    "## CGM data\n",
    "\n",
    "### Replace Zero CGMs\n",
    "From the data glossary we know that 0 cgm values are either below or above range. \n",
    ">0 =CGMValue contains the glucose reading  \n",
    ">1 =The glucose reading is high~ CGMValue set to 0  \n",
    ">2 =The glucose reading is low~ CGMValue set to 0\n",
    "\n",
    "Here, we quickly check the distribution and replace 0 CGMs with the measurement range."
   ]
  },
  {
   "cell_type": "code",
   "execution_count": 65,
   "id": "4fe27f1d",
   "metadata": {},
   "outputs": [
    {
     "data": {
      "text/plain": [
       "CGMValue\n",
       "0      0.294719\n",
       "400    0.005605\n",
       "Name: Percentage of CGM values, dtype: float64"
      ]
     },
     "metadata": {},
     "output_type": "display_data"
    },
    {
     "data": {
      "image/png": "[encoded data removed]",
      "text/plain": [
       "<Figure size 700x200 with 1 Axes>"
      ]
     },
     "metadata": {},
     "output_type": "display_data"
    },
    {
     "data": {
      "image/png": "[encoded data removed]",
      "text/plain": [
       "<Figure size 700x200 with 1 Axes>"
      ]
     },
     "metadata": {},
     "output_type": "display_data"
    }
   ],
   "source": [
    "#draw cgm distribution\n",
    "from src import cdf\n",
    "#describe\n",
    "temp = df_cgm.CGMValue[df_cgm.CGMValue.isin([0,400])].value_counts()/len(df_cgm)*100\n",
    "temp.name = 'Percentage of CGM values'\n",
    "display(temp)\n",
    "\n",
    "#cdf\n",
    "plt.figure(figsize=(7, 2)); ax=plt.gca()\n",
    "cdf.plot_cdf(df_cgm.CGMValue.sample(10000), title='CGM Value CDF', xlabel='CGM Value', ylabel='CDF', ax=ax, linewidth=0)\n",
    "plt.show()\n",
    "\n",
    "#histogram\n",
    "plt.figure(figsize=(7, 2))\n",
    "plt.hist(df_cgm.CGMValue, bins=100, range=(0,400));"
   ]
  },
  {
   "cell_type": "code",
   "execution_count": 56,
   "id": "0653aac2",
   "metadata": {
    "vscode": {
     "languageId": "javascript"
    }
   },
   "outputs": [],
   "source": [
    "#replace Zero CGMs with lower upper bounds\n",
    "df_cgm['cgm'] = df_cgm['CGMValue']\n",
    "i_zero = df_cgm.CGMValue == 0\n",
    "df_cgm.loc[i_zero, 'cgm'] = df_cgm.HighLowIndicator.loc[i_zero].replace({ 2: 40, 1: 400 })"
   ]
  },
  {
   "cell_type": "code",
   "execution_count": 76,
   "id": "3f792efd",
   "metadata": {
    "vscode": {
     "languageId": "javascript"
    }
   },
   "outputs": [
    {
     "data": {
      "image/png": "[encoded data removed]",
      "text/plain": [
       "<Figure size 800x200 with 1 Axes>"
      ]
     },
     "metadata": {},
     "output_type": "display_data"
    }
   ],
   "source": [
    "# draw an example\n",
    "(patient_id,zero_datetime) = df_cgm.loc[(df_cgm.CGMValue==0),['PtID','datetime']].sample().iloc[0]\n",
    "surrounding_cgms = df_cgm.loc[(df_cgm.PtID==patient_id) & \n",
    "                              df_cgm.datetime.between(zero_datetime-timedelta(hours=12), \n",
    "                                                      zero_datetime+timedelta(hours=12))].copy()\n",
    "\n",
    "plt.figure(figsize=(8, 2)); ax = plt.gca()\n",
    "surrounding_cgms.plot.scatter('datetime', 'cgm',ax=ax, marker='.')\n",
    "surrounding_cgms.loc[surrounding_cgms.CGMValue==0].plot.scatter('datetime', 'cgm',color='red',ax=ax, marker='.');\n"
   ]
  },
  {
   "cell_type": "markdown",
   "id": "49792464",
   "metadata": {},
   "source": [
    "## Datetimes are local and aligned\n",
    "We want to make sure that datetimes of all datasets are in local time.\n",
    "\n",
    "The DCLP3 data glossary makes no mention of UTC, timezone or zone. All datetime variables are described as local times. We want to verify by checking the distribution of mean CGM, basal rates and bolus doses to verify we see postprandial peaks in the morning, afternoon and evening as well as more stable glucose during the night."
   ]
  },
  {
   "cell_type": "code",
   "execution_count": 62,
   "id": "99a25a67",
   "metadata": {},
   "outputs": [
    {
     "data": {
      "text/plain": [
       "<matplotlib.legend.Legend at 0x1d21eed00>"
      ]
     },
     "execution_count": 62,
     "metadata": {},
     "output_type": "execute_result"
    },
    {
     "data": {
      "image/png": "[encoded data removed]",
      "text/plain": [
       "<Figure size 1000x200 with 3 Axes>"
      ]
     },
     "metadata": {},
     "output_type": "display_data"
    }
   ],
   "source": [
    "plt.figure(figsize=(10, 2)); ax=plt.gca()\n",
    "df_cgm['date'] = df_cgm.datetime.dt.date\n",
    "df_cgm['hour_of_day'] = df_cgm.datetime.dt.hour+df_cgm.datetime.dt.minute/60\n",
    "agg = df_cgm.groupby(['PtID','hour_of_day']).CGMValue.mean()\n",
    "agg.unstack().mean().plot(title='DCLP3 average statistics', xlabel='Hour of Day', ylabel='Average Glucose', ax=ax, color='gray')\n",
    "\n",
    "#bolus\n",
    "twin_ax = ax.twinx()\n",
    "df_bolus['date'] = df_bolus.datetime.dt.date\n",
    "df_bolus['hour_of_day'] = df_bolus.datetime.dt.hour\n",
    "agg = df_bolus.groupby(['PtID','date','hour_of_day']).BolusAmount.sum()\n",
    "agg.unstack().mean().plot(ax=twin_ax,color='orange')\n",
    "#twin_ax.set_ylabel('Units',color='orange')\n",
    "twin_ax.spines['right'].set_color('orange')\n",
    "twin_ax.tick_params(axis='y', colors='orange')\n",
    "\n",
    "#basal\n",
    "twin_ax2 = ax.twinx()\n",
    "df_basal['date'] = df_basal.datetime.dt.date\n",
    "df_basal['hour_of_day'] = df_basal.datetime.dt.hour\n",
    "agg = df_basal.groupby(['PtID','date','hour_of_day']).CommandedBasalRate.mean()\n",
    "agg.unstack().mean().plot(ax=twin_ax2,color='blue')\n",
    "#twin_ax2.set_ylabel('U/h', color='blue')\n",
    "twin_ax2.spines['right'].set_position(('outward', 40))\n",
    "twin_ax2.spines['right'].set_color('blue')\n",
    "twin_ax2.tick_params(axis='y', colors='blue')\n",
    "\n",
    "# Add color legend for the three plots\n",
    "ax.plot([], [], color='blue', label='Basal [U/h]')\n",
    "ax.plot([], [], color='orange', label='Bolus [U/h]')\n",
    "ax.plot([], [], color='gray', label='CGM [mg/dL]')\n",
    "ax.legend(loc='upper right')\n"
   ]
  },
  {
   "cell_type": "markdown",
   "id": "9a104a79",
   "metadata": {},
   "source": [
    "We see bolus peaks at around 7 oClock, noon and evening. Slightly delayed we see postprandial glucose peaks as expected. Bassal rates follow normal rhythm with the exception that due to Control IQ basal rates slowly degreade over night, to lower glucose after dinner as part of the closed loop control. From this we can safely assume that all datetimes are in local time. "
   ]
  },
  {
   "cell_type": "markdown",
   "id": "48412e81",
   "metadata": {},
   "source": [
    "## Boluses\n",
    "From JAEB we know that the `Extended Bolus Duration` variable, present in PEDAP is not shared by Tandem for the DCLP3/5 datasets. Therefoe we need to make an assumption about the duration. We could use PEDAP to estimate the distribution and either sample from it or take the mean value. \n"
   ]
  },
  {
   "cell_type": "markdown",
   "id": "6fdcdcdb",
   "metadata": {},
   "source": [
    "### Bolus Duplicates\n",
    "There are no bolus duplicates when including the BolusType column. The duplciates in boluses seem to be a result of Standard and Extended Bolus portions being reported at the same time. Is this true for all exteded boluses? Let's check."
   ]
  },
  {
   "cell_type": "code",
   "execution_count": 84,
   "id": "9baa05e5",
   "metadata": {},
   "outputs": [
    {
     "name": "stdout",
     "output_type": "stream",
     "text": [
      "Value Counts All Boluses: BolusType\n",
      "Standard    203689\n",
      "Extended      3993\n",
      "Name: count, dtype: int64\n",
      "\n",
      "Value Counts Duplicated Boluses: BolusType\n",
      "Standard    45\n",
      "Extended    45\n",
      "Name: count, dtype: int64\n"
     ]
    }
   ],
   "source": [
    "print(f\"Value Counts All Boluses: {df_bolus.BolusType.value_counts()}\\n\")\n",
    "duplicated = df_bolus.loc[df_bolus.duplicated(['PtID', 'datetime'], keep=False)].sort_values(['PtID', 'datetime'])\n",
    "print(f\"Value Counts Duplicated Boluses: {duplicated.BolusType.value_counts()}\")"
   ]
  },
  {
   "cell_type": "code",
   "execution_count": 269,
   "id": "f0b82131",
   "metadata": {},
   "outputs": [
    {
     "name": "stderr",
     "output_type": "stream",
     "text": [
      "/var/folders/m4/5d02b2xs0l52lbxzbk0t3vym0000gp/T/ipykernel_18197/4088016220.py:2: DeprecationWarning: DataFrameGroupBy.apply operated on the grouping columns. This behavior is deprecated, and in a future version of pandas the grouping columns will be excluded from the operation. Either pass `include_groups=False` to exclude the groupings or explicitly select the grouping columns after groupby to silence this warning.\n",
      "  periods = df_bolus.groupby('PtID').apply(lambda x: find_periods.find_periods(x,'BolusType','datetime',\n"
     ]
    },
    {
     "data": {
      "text/html": [
       "<div>\n",
       "<style scoped>\n",
       "    .dataframe tbody tr th:only-of-type {\n",
       "        vertical-align: middle;\n",
       "    }\n",
       "\n",
       "    .dataframe tbody tr th {\n",
       "        vertical-align: top;\n",
       "    }\n",
       "\n",
       "    .dataframe thead th {\n",
       "        text-align: right;\n",
       "    }\n",
       "</style>\n",
       "<table border=\"1\" class=\"dataframe\">\n",
       "  <thead>\n",
       "    <tr style=\"text-align: right;\">\n",
       "      <th></th>\n",
       "      <th>index_start</th>\n",
       "      <th>index_end</th>\n",
       "      <th>time_start</th>\n",
       "      <th>time_end</th>\n",
       "      <th>PtID</th>\n",
       "    </tr>\n",
       "  </thead>\n",
       "  <tbody>\n",
       "    <tr>\n",
       "      <th>586</th>\n",
       "      <td>113955</td>\n",
       "      <td>219813</td>\n",
       "      <td>2018-09-30 13:39:13</td>\n",
       "      <td>2018-09-30 14:22:22</td>\n",
       "      <td>25</td>\n",
       "    </tr>\n",
       "    <tr>\n",
       "      <th>1060</th>\n",
       "      <td>45625</td>\n",
       "      <td>220368</td>\n",
       "      <td>2018-11-09 19:15:28</td>\n",
       "      <td>2018-11-09 19:45:28</td>\n",
       "      <td>38</td>\n",
       "    </tr>\n",
       "  </tbody>\n",
       "</table>\n",
       "</div>"
      ],
      "text/plain": [
       "      index_start  index_end          time_start            time_end  PtID\n",
       "586        113955     219813 2018-09-30 13:39:13 2018-09-30 14:22:22    25\n",
       "1060        45625     220368 2018-11-09 19:15:28 2018-11-09 19:45:28    38"
      ]
     },
     "metadata": {},
     "output_type": "display_data"
    },
    {
     "data": {
      "text/html": [
       "<div>\n",
       "<style scoped>\n",
       "    .dataframe tbody tr th:only-of-type {\n",
       "        vertical-align: middle;\n",
       "    }\n",
       "\n",
       "    .dataframe tbody tr th {\n",
       "        vertical-align: top;\n",
       "    }\n",
       "\n",
       "    .dataframe thead th {\n",
       "        text-align: right;\n",
       "    }\n",
       "</style>\n",
       "<table border=\"1\" class=\"dataframe\">\n",
       "  <thead>\n",
       "    <tr style=\"text-align: right;\">\n",
       "      <th></th>\n",
       "      <th>PtID</th>\n",
       "      <th>RecID</th>\n",
       "      <th>BolusAmount</th>\n",
       "      <th>BolusType</th>\n",
       "      <th>datetime</th>\n",
       "      <th>date</th>\n",
       "      <th>hour_of_day</th>\n",
       "    </tr>\n",
       "  </thead>\n",
       "  <tbody>\n",
       "    <tr>\n",
       "      <th>60992</th>\n",
       "      <td>26</td>\n",
       "      <td>65689</td>\n",
       "      <td>3.000000</td>\n",
       "      <td>Standard</td>\n",
       "      <td>2018-01-25 19:29:02</td>\n",
       "      <td>2018-01-25</td>\n",
       "      <td>19</td>\n",
       "    </tr>\n",
       "    <tr>\n",
       "      <th>219817</th>\n",
       "      <td>26</td>\n",
       "      <td>1493</td>\n",
       "      <td>2.623512</td>\n",
       "      <td>Extended</td>\n",
       "      <td>2018-01-25 21:11:26</td>\n",
       "      <td>2018-01-25</td>\n",
       "      <td>21</td>\n",
       "    </tr>\n",
       "  </tbody>\n",
       "</table>\n",
       "</div>"
      ],
      "text/plain": [
       "        PtID  RecID  BolusAmount BolusType            datetime        date  \\\n",
       "60992     26  65689     3.000000  Standard 2018-01-25 19:29:02  2018-01-25   \n",
       "219817    26   1493     2.623512  Extended 2018-01-25 21:11:26  2018-01-25   \n",
       "\n",
       "        hour_of_day  \n",
       "60992            19  \n",
       "219817           21  "
      ]
     },
     "metadata": {},
     "output_type": "display_data"
    },
    {
     "data": {
      "text/html": [
       "<div>\n",
       "<style scoped>\n",
       "    .dataframe tbody tr th:only-of-type {\n",
       "        vertical-align: middle;\n",
       "    }\n",
       "\n",
       "    .dataframe tbody tr th {\n",
       "        vertical-align: top;\n",
       "    }\n",
       "\n",
       "    .dataframe thead th {\n",
       "        text-align: right;\n",
       "    }\n",
       "</style>\n",
       "<table border=\"1\" class=\"dataframe\">\n",
       "  <thead>\n",
       "    <tr style=\"text-align: right;\">\n",
       "      <th></th>\n",
       "      <th>PtID</th>\n",
       "      <th>RecID</th>\n",
       "      <th>BolusAmount</th>\n",
       "      <th>BolusType</th>\n",
       "      <th>datetime</th>\n",
       "      <th>date</th>\n",
       "      <th>hour_of_day</th>\n",
       "    </tr>\n",
       "  </thead>\n",
       "  <tbody>\n",
       "    <tr>\n",
       "      <th>60992</th>\n",
       "      <td>26</td>\n",
       "      <td>65689</td>\n",
       "      <td>3.000000</td>\n",
       "      <td>Standard</td>\n",
       "      <td>2018-01-25 19:29:02</td>\n",
       "      <td>2018-01-25</td>\n",
       "      <td>19</td>\n",
       "    </tr>\n",
       "    <tr>\n",
       "      <th>219817</th>\n",
       "      <td>26</td>\n",
       "      <td>1493</td>\n",
       "      <td>2.623512</td>\n",
       "      <td>Extended</td>\n",
       "      <td>2018-01-25 21:11:26</td>\n",
       "      <td>2018-01-25</td>\n",
       "      <td>21</td>\n",
       "    </tr>\n",
       "  </tbody>\n",
       "</table>\n",
       "</div>"
      ],
      "text/plain": [
       "        PtID  RecID  BolusAmount BolusType            datetime        date  \\\n",
       "60992     26  65689     3.000000  Standard 2018-01-25 19:29:02  2018-01-25   \n",
       "219817    26   1493     2.623512  Extended 2018-01-25 21:11:26  2018-01-25   \n",
       "\n",
       "        hour_of_day  \n",
       "60992            19  \n",
       "219817           21  "
      ]
     },
     "metadata": {},
     "output_type": "display_data"
    },
    {
     "name": "stdout",
     "output_type": "stream",
     "text": [
      "We found 3969 periods for 3993 extended boluses\n",
      "Mean (STD) [MEDIAN] of extended boluses: 59.02 (46.28), [55.42] minutes\n"
     ]
    },
    {
     "data": {
      "text/plain": [
       "(0.0, 500.0)"
      ]
     },
     "execution_count": 269,
     "metadata": {},
     "output_type": "execute_result"
    },
    {
     "data": {
      "image/png": "[encoded data removed]",
      "text/plain": [
       "<Figure size 600x200 with 1 Axes>"
      ]
     },
     "metadata": {},
     "output_type": "display_data"
    }
   ],
   "source": [
    "from src import find_periods\n",
    "periods = df_bolus.groupby('PtID').apply(lambda x: find_periods.find_periods(x,'BolusType','datetime',\n",
    "                          lambda x: x =='Standard', \n",
    "                          lambda x: x=='Extended', use_last_start_occurence=True))\n",
    "#drop rows with empty periods\n",
    "periods = periods[periods.apply(lambda x: len(x)>0)]\n",
    "\n",
    "#convert to dataframe, with one row per period\n",
    "periods = pd.DataFrame(periods.explode(),columns=['Periods'])\n",
    "PtIDs= periods.index\n",
    "periods = pd.DataFrame(periods.Periods.tolist(), columns=find_periods.Period._fields)\n",
    "periods['PtID'] = PtIDs\n",
    "\n",
    "#show a sample\n",
    "sample = periods.sample(2)\n",
    "display(sample)\n",
    "for index,row in sample.iterrows():\n",
    "    display(df_bolus.loc[[tuple.index_start,tuple.index_end]])\n",
    "\n",
    "print(f\"We found {len(periods)} periods for {(df_bolus.BolusType=='Extended').sum()} extended boluses\")\n",
    "\n",
    "#plot CDF\n",
    "durations = (periods.time_end-periods.time_start).dt.total_seconds()/60\n",
    "print(f\"Mean (STD) [MEDIAN] of extended boluses: {durations.mean():.2f} ({durations.std():.2f}), [{durations.median():.2f}] minutes\")\n",
    "plt.figure(figsize=(6,2)); ax = plt.gca()\n",
    "cdf.plot_cdf(durations, title='Bolus Duration CDF', xlabel='Duration (minutes)', ylabel='CDF', linewidth=0, ax = ax)\n",
    "plt.xlim(0,500)"
   ]
  },
  {
   "attachments": {
    "image.png": {
     "image/png": "[encoded data removed]"
    }
   },
   "cell_type": "markdown",
   "id": "4d4a49e3",
   "metadata": {},
   "source": [
    "In comparison **PEDAP**: \n",
    "Mean (STD) of extended boluses: 83.80 (45.53) minutes\n",
    "\n",
    "![image.png](attachment:image.png)"
   ]
  },
  {
   "cell_type": "code",
   "execution_count": 293,
   "id": "1d50514c",
   "metadata": {},
   "outputs": [
    {
     "name": "stdout",
     "output_type": "stream",
     "text": [
      "We found 7 periods >8h\n"
     ]
    }
   ],
   "source": [
    "# Durations >8h\n",
    "extremes = periods.loc[durations > 8*60]\n",
    "print(f\"We found {len(extremes)} periods >8h\")\n",
    "#examples = extremes.sample(2)\n",
    "#display(examples)\n",
    "\n",
    "#for index,row in examples.iterrows():\n",
    "#    display(df_bolus.loc[[row.index_start,row.index_end]])"
   ]
  },
  {
   "cell_type": "markdown",
   "id": "db057add",
   "metadata": {},
   "source": [
    "As we can see we won't be able to clearly separate dual wave boluses (standard followed by an extended part) from *orphan* extended boluses (without standard part): Orphan Extended boluses will be incorretly matched to the previus standard bolus.However, this will happen only to a small percentage (In PEDAP only ~2% (170 out of 6460)) extended boluses did not have a standard bolus part. The T-Slim X2 allows durations >=8 hours, therefore pairs matched with durations >8 hours are definitely wrong.\n",
    "\n",
    "Moving forward, we will \n",
    "1. assume that extended boluses are reported upon completion (as in PEDAP)\n",
    "2. Estimate delivery_duration: \n",
    "  - Standard boluses: set to 0\n",
    "  - Extended boluses: time difference to their matched standard boluses\n",
    "  - Durations >8h (those are definitely matched incorrectly) will be set to 55 minutes (median value) "
   ]
  },
  {
   "cell_type": "code",
   "execution_count": 270,
   "id": "a3fae6e1",
   "metadata": {},
   "outputs": [
    {
     "data": {
      "text/html": [
       "<div>\n",
       "<style scoped>\n",
       "    .dataframe tbody tr th:only-of-type {\n",
       "        vertical-align: middle;\n",
       "    }\n",
       "\n",
       "    .dataframe tbody tr th {\n",
       "        vertical-align: top;\n",
       "    }\n",
       "\n",
       "    .dataframe thead th {\n",
       "        text-align: right;\n",
       "    }\n",
       "</style>\n",
       "<table border=\"1\" class=\"dataframe\">\n",
       "  <thead>\n",
       "    <tr style=\"text-align: right;\">\n",
       "      <th></th>\n",
       "      <th>index_start</th>\n",
       "      <th>index_end</th>\n",
       "      <th>time_start</th>\n",
       "      <th>time_end</th>\n",
       "      <th>PtID</th>\n",
       "    </tr>\n",
       "  </thead>\n",
       "  <tbody>\n",
       "    <tr>\n",
       "      <th>0</th>\n",
       "      <td>4732</td>\n",
       "      <td>219854</td>\n",
       "      <td>2018-01-13 15:25:55</td>\n",
       "      <td>2018-01-13 15:41:18</td>\n",
       "      <td>3</td>\n",
       "    </tr>\n",
       "    <tr>\n",
       "      <th>1</th>\n",
       "      <td>191836</td>\n",
       "      <td>219855</td>\n",
       "      <td>2018-01-13 20:47:10</td>\n",
       "      <td>2018-01-13 21:48:40</td>\n",
       "      <td>3</td>\n",
       "    </tr>\n",
       "    <tr>\n",
       "      <th>2</th>\n",
       "      <td>13779</td>\n",
       "      <td>219856</td>\n",
       "      <td>2018-01-14 17:38:03</td>\n",
       "      <td>2018-01-14 17:43:24</td>\n",
       "      <td>3</td>\n",
       "    </tr>\n",
       "    <tr>\n",
       "      <th>3</th>\n",
       "      <td>88377</td>\n",
       "      <td>219857</td>\n",
       "      <td>2018-01-15 13:08:09</td>\n",
       "      <td>2018-01-15 13:08:09</td>\n",
       "      <td>3</td>\n",
       "    </tr>\n",
       "    <tr>\n",
       "      <th>4</th>\n",
       "      <td>149841</td>\n",
       "      <td>219858</td>\n",
       "      <td>2018-01-15 13:18:05</td>\n",
       "      <td>2018-01-15 15:14:13</td>\n",
       "      <td>3</td>\n",
       "    </tr>\n",
       "    <tr>\n",
       "      <th>...</th>\n",
       "      <td>...</td>\n",
       "      <td>...</td>\n",
       "      <td>...</td>\n",
       "      <td>...</td>\n",
       "      <td>...</td>\n",
       "    </tr>\n",
       "    <tr>\n",
       "      <th>3964</th>\n",
       "      <td>59571</td>\n",
       "      <td>219677</td>\n",
       "      <td>2018-09-21 19:47:09</td>\n",
       "      <td>2018-09-21 20:47:09</td>\n",
       "      <td>171</td>\n",
       "    </tr>\n",
       "    <tr>\n",
       "      <th>3965</th>\n",
       "      <td>60230</td>\n",
       "      <td>219678</td>\n",
       "      <td>2018-09-24 15:35:13</td>\n",
       "      <td>2018-09-24 16:35:13</td>\n",
       "      <td>171</td>\n",
       "    </tr>\n",
       "    <tr>\n",
       "      <th>3966</th>\n",
       "      <td>63087</td>\n",
       "      <td>219679</td>\n",
       "      <td>2018-09-24 18:31:22</td>\n",
       "      <td>2018-09-24 19:19:45</td>\n",
       "      <td>171</td>\n",
       "    </tr>\n",
       "    <tr>\n",
       "      <th>3967</th>\n",
       "      <td>91864</td>\n",
       "      <td>219680</td>\n",
       "      <td>2018-09-30 11:52:24</td>\n",
       "      <td>2018-09-30 12:52:24</td>\n",
       "      <td>171</td>\n",
       "    </tr>\n",
       "    <tr>\n",
       "      <th>3968</th>\n",
       "      <td>97808</td>\n",
       "      <td>219681</td>\n",
       "      <td>2018-10-01 16:41:46</td>\n",
       "      <td>2018-10-01 17:41:45</td>\n",
       "      <td>171</td>\n",
       "    </tr>\n",
       "  </tbody>\n",
       "</table>\n",
       "<p>3969 rows × 5 columns</p>\n",
       "</div>"
      ],
      "text/plain": [
       "      index_start  index_end          time_start            time_end  PtID\n",
       "0            4732     219854 2018-01-13 15:25:55 2018-01-13 15:41:18     3\n",
       "1          191836     219855 2018-01-13 20:47:10 2018-01-13 21:48:40     3\n",
       "2           13779     219856 2018-01-14 17:38:03 2018-01-14 17:43:24     3\n",
       "3           88377     219857 2018-01-15 13:08:09 2018-01-15 13:08:09     3\n",
       "4          149841     219858 2018-01-15 13:18:05 2018-01-15 15:14:13     3\n",
       "...           ...        ...                 ...                 ...   ...\n",
       "3964        59571     219677 2018-09-21 19:47:09 2018-09-21 20:47:09   171\n",
       "3965        60230     219678 2018-09-24 15:35:13 2018-09-24 16:35:13   171\n",
       "3966        63087     219679 2018-09-24 18:31:22 2018-09-24 19:19:45   171\n",
       "3967        91864     219680 2018-09-30 11:52:24 2018-09-30 12:52:24   171\n",
       "3968        97808     219681 2018-10-01 16:41:46 2018-10-01 17:41:45   171\n",
       "\n",
       "[3969 rows x 5 columns]"
      ]
     },
     "execution_count": 270,
     "metadata": {},
     "output_type": "execute_result"
    }
   ],
   "source": [
    "periods"
   ]
  },
  {
   "cell_type": "code",
   "execution_count": 294,
   "id": "18ff2807",
   "metadata": {},
   "outputs": [
    {
     "name": "stderr",
     "output_type": "stream",
     "text": [
      "/var/folders/m4/5d02b2xs0l52lbxzbk0t3vym0000gp/T/ipykernel_18197/1727644160.py:3: FutureWarning: Setting an item of incompatible dtype is deprecated and will raise an error in a future version of pandas. Value '[15.38333333 61.5         5.35       ... 48.38333333 60.\n",
      " 59.98333333]' has dtype incompatible with int64, please explicitly cast to a compatible dtype first.\n",
      "  df_bolus.loc[periods.index_end, 'Duration'] = ((periods.time_end - periods.time_start).dt.total_seconds() / 60).values\n"
     ]
    },
    {
     "data": {
      "text/html": [
       "<div>\n",
       "<style scoped>\n",
       "    .dataframe tbody tr th:only-of-type {\n",
       "        vertical-align: middle;\n",
       "    }\n",
       "\n",
       "    .dataframe tbody tr th {\n",
       "        vertical-align: top;\n",
       "    }\n",
       "\n",
       "    .dataframe thead th {\n",
       "        text-align: right;\n",
       "    }\n",
       "</style>\n",
       "<table border=\"1\" class=\"dataframe\">\n",
       "  <thead>\n",
       "    <tr style=\"text-align: right;\">\n",
       "      <th></th>\n",
       "      <th>PtID</th>\n",
       "      <th>RecID</th>\n",
       "      <th>BolusAmount</th>\n",
       "      <th>BolusType</th>\n",
       "      <th>datetime</th>\n",
       "      <th>date</th>\n",
       "      <th>hour_of_day</th>\n",
       "      <th>Duration</th>\n",
       "    </tr>\n",
       "  </thead>\n",
       "  <tbody>\n",
       "    <tr>\n",
       "      <th>0</th>\n",
       "      <td>79</td>\n",
       "      <td>10100</td>\n",
       "      <td>0.645283</td>\n",
       "      <td>Standard</td>\n",
       "      <td>2018-04-29 04:45:44</td>\n",
       "      <td>2018-04-29</td>\n",
       "      <td>4</td>\n",
       "      <td>0.000000</td>\n",
       "    </tr>\n",
       "    <tr>\n",
       "      <th>1</th>\n",
       "      <td>31</td>\n",
       "      <td>23863</td>\n",
       "      <td>1.380000</td>\n",
       "      <td>Standard</td>\n",
       "      <td>2018-08-27 22:25:50</td>\n",
       "      <td>2018-08-27</td>\n",
       "      <td>22</td>\n",
       "      <td>0.000000</td>\n",
       "    </tr>\n",
       "    <tr>\n",
       "      <th>2</th>\n",
       "      <td>88</td>\n",
       "      <td>111267</td>\n",
       "      <td>2.000000</td>\n",
       "      <td>Standard</td>\n",
       "      <td>2018-06-12 08:16:17</td>\n",
       "      <td>2018-06-12</td>\n",
       "      <td>8</td>\n",
       "      <td>0.000000</td>\n",
       "    </tr>\n",
       "    <tr>\n",
       "      <th>3</th>\n",
       "      <td>6</td>\n",
       "      <td>164032</td>\n",
       "      <td>5.000000</td>\n",
       "      <td>Standard</td>\n",
       "      <td>2018-06-17 13:54:45</td>\n",
       "      <td>2018-06-17</td>\n",
       "      <td>13</td>\n",
       "      <td>0.000000</td>\n",
       "    </tr>\n",
       "    <tr>\n",
       "      <th>5</th>\n",
       "      <td>10</td>\n",
       "      <td>2102</td>\n",
       "      <td>2.550000</td>\n",
       "      <td>Standard</td>\n",
       "      <td>2018-04-22 16:01:33</td>\n",
       "      <td>2018-04-22</td>\n",
       "      <td>16</td>\n",
       "      <td>0.000000</td>\n",
       "    </tr>\n",
       "    <tr>\n",
       "      <th>...</th>\n",
       "      <td>...</td>\n",
       "      <td>...</td>\n",
       "      <td>...</td>\n",
       "      <td>...</td>\n",
       "      <td>...</td>\n",
       "      <td>...</td>\n",
       "      <td>...</td>\n",
       "      <td>...</td>\n",
       "    </tr>\n",
       "    <tr>\n",
       "      <th>221287</th>\n",
       "      <td>98</td>\n",
       "      <td>3876</td>\n",
       "      <td>2.300000</td>\n",
       "      <td>Extended</td>\n",
       "      <td>2018-10-04 18:03:03</td>\n",
       "      <td>2018-10-04</td>\n",
       "      <td>18</td>\n",
       "      <td>30.000000</td>\n",
       "    </tr>\n",
       "    <tr>\n",
       "      <th>221288</th>\n",
       "      <td>98</td>\n",
       "      <td>3877</td>\n",
       "      <td>2.100000</td>\n",
       "      <td>Extended</td>\n",
       "      <td>2018-10-05 18:05:48</td>\n",
       "      <td>2018-10-05</td>\n",
       "      <td>18</td>\n",
       "      <td>30.000000</td>\n",
       "    </tr>\n",
       "    <tr>\n",
       "      <th>221289</th>\n",
       "      <td>98</td>\n",
       "      <td>3878</td>\n",
       "      <td>2.300000</td>\n",
       "      <td>Extended</td>\n",
       "      <td>2018-10-07 18:06:59</td>\n",
       "      <td>2018-10-07</td>\n",
       "      <td>18</td>\n",
       "      <td>30.000000</td>\n",
       "    </tr>\n",
       "    <tr>\n",
       "      <th>221290</th>\n",
       "      <td>98</td>\n",
       "      <td>3879</td>\n",
       "      <td>1.916667</td>\n",
       "      <td>Extended</td>\n",
       "      <td>2018-10-08 19:34:10</td>\n",
       "      <td>2018-10-08</td>\n",
       "      <td>19</td>\n",
       "      <td>82.300000</td>\n",
       "    </tr>\n",
       "    <tr>\n",
       "      <th>221291</th>\n",
       "      <td>98</td>\n",
       "      <td>3880</td>\n",
       "      <td>1.000000</td>\n",
       "      <td>Extended</td>\n",
       "      <td>2018-10-08 21:50:36</td>\n",
       "      <td>2018-10-08</td>\n",
       "      <td>21</td>\n",
       "      <td>119.983333</td>\n",
       "    </tr>\n",
       "  </tbody>\n",
       "</table>\n",
       "<p>207682 rows × 8 columns</p>\n",
       "</div>"
      ],
      "text/plain": [
       "        PtID   RecID  BolusAmount BolusType            datetime        date  \\\n",
       "0         79   10100     0.645283  Standard 2018-04-29 04:45:44  2018-04-29   \n",
       "1         31   23863     1.380000  Standard 2018-08-27 22:25:50  2018-08-27   \n",
       "2         88  111267     2.000000  Standard 2018-06-12 08:16:17  2018-06-12   \n",
       "3          6  164032     5.000000  Standard 2018-06-17 13:54:45  2018-06-17   \n",
       "5         10    2102     2.550000  Standard 2018-04-22 16:01:33  2018-04-22   \n",
       "...      ...     ...          ...       ...                 ...         ...   \n",
       "221287    98    3876     2.300000  Extended 2018-10-04 18:03:03  2018-10-04   \n",
       "221288    98    3877     2.100000  Extended 2018-10-05 18:05:48  2018-10-05   \n",
       "221289    98    3878     2.300000  Extended 2018-10-07 18:06:59  2018-10-07   \n",
       "221290    98    3879     1.916667  Extended 2018-10-08 19:34:10  2018-10-08   \n",
       "221291    98    3880     1.000000  Extended 2018-10-08 21:50:36  2018-10-08   \n",
       "\n",
       "        hour_of_day    Duration  \n",
       "0                 4    0.000000  \n",
       "1                22    0.000000  \n",
       "2                 8    0.000000  \n",
       "3                13    0.000000  \n",
       "5                16    0.000000  \n",
       "...             ...         ...  \n",
       "221287           18   30.000000  \n",
       "221288           18   30.000000  \n",
       "221289           18   30.000000  \n",
       "221290           19   82.300000  \n",
       "221291           21  119.983333  \n",
       "\n",
       "[207682 rows x 8 columns]"
      ]
     },
     "execution_count": 294,
     "metadata": {},
     "output_type": "execute_result"
    }
   ],
   "source": [
    "#setting the durations\n",
    "df_bolus['Duration'] = 0\n",
    "df_bolus.loc[periods.index_end, 'Duration'] = ((periods.time_end - periods.time_start).dt.total_seconds() / 60).values\n",
    "df_bolus.loc[df_bolus.Duration > 8 * 60, 'Duration'] = 55\n",
    "df_bolus"
   ]
  },
  {
   "cell_type": "code",
   "execution_count": 296,
   "id": "884d9fd2",
   "metadata": {},
   "outputs": [
    {
     "data": {
      "image/png": "[encoded data removed]",
      "text/plain": [
       "<Figure size 600x200 with 1 Axes>"
      ]
     },
     "metadata": {},
     "output_type": "display_data"
    }
   ],
   "source": [
    "#now to verify, add the duratiuon to the periods dataframe\n",
    "periods['Duration'] = (periods.time_end - periods.time_start).dt.total_seconds() / 60\n",
    "periods['Duration_test'] = df_bolus.loc[periods.index_end].Duration.values\n",
    "(periods.Duration_test- periods.Duration).sum()\n",
    "temp = df_bolus.loc[df_bolus.Duration>0]\n",
    "plt.figure(figsize=(6,2)); ax = plt.gca()\n",
    "cdf.plot_cdf(temp.Duration, title='Bolus Duration CDF', xlabel='Duration (minutes)', ylabel='CDF', linewidth=0, ax = ax)\n",
    "#plt.xlim(0,500)"
   ]
  },
  {
   "cell_type": "markdown",
   "id": "7b1bf677",
   "metadata": {},
   "source": [
    "\n",
    "<b>Extended Boluses:</b> There are 4257 extended boluses (~1.9% of the boluses). We do not have any data on how the boluses were extended. After contacting JAEB, we did not receive further details. Users can set a % of the bolus to be delivered immediately and the remaining % will be delivered over a period of time the user sets. The time has to be <= 2 hours. The default extended bolus is 50% up front and 50% over 2 hours\n",
    "</div>\n"
   ]
  }
 ],
 "metadata": {
  "kernelspec": {
   "display_name": "nudgebg",
   "language": "python",
   "name": "python3"
  },
  "language_info": {
   "codemirror_mode": {
    "name": "ipython",
    "version": 3
   },
   "file_extension": ".py",
   "mimetype": "text/x-python",
   "name": "python",
   "nbconvert_exporter": "python",
   "pygments_lexer": "ipython3",
   "version": "3.9.6"
  }
 },
 "nbformat": 4,
 "nbformat_minor": 5
}
