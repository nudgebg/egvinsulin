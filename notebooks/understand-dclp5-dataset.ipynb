{
 "cells": [
  {
   "cell_type": "markdown",
   "id": "ea0d44eb-0c72-41fc-b821-5d1532975aa5",
   "metadata": {},
   "source": [
    "## Understanding DCLP5 Dataset\n",
    "This notebook tries provides details on the structure of the DCLP5 dataset and makes suggestions how to process the data."
   ]
  },
  {
   "cell_type": "markdown",
   "id": "dff75a17-c70d-4a31-bf4c-073eb7e2b68d",
   "metadata": {},
   "source": [
    "## The DCLP5 study\n",
    "\n",
    "**Title**: The International Diabetes Closed Loop (iDCL) trial: Clinical Acceptance of \n",
    "the Artificial Pancreas in Pediatrics - A Pivotal Study of t:slim X2 with Control-IQ Technology\n",
    "\n",
    "**Description**: The objective of the study is to assess efficacy and safety of a closed loop control (CLC) system (t:slim X2 with Control-IQ Technology) in a randomized controlled trial with partial crossover.\n",
    "    \n",
    "**Devices**: t:slim X2 with Control-IQ and Dexcom G6 system\n",
    "\n",
    "**Study Population**: Children aged 6 - 13 years old"
   ]
  },
  {
   "cell_type": "markdown",
   "id": "9cdf33db-ebe9-4fa2-a814-d0383009c114",
   "metadata": {},
   "source": [
    "# Data\n",
    "The study data folder is named **DCLP5_Dataset_2022-01-20-5e0f3b16-c890-4ace-9e3b-531f3687cf53**\n",
    "\n",
    "While there is a data glossary (DataGlossary_Dits.rtf) file, the file names within the glossary do not match the file names of the data. However, the column names do match and those definitions are listed below.\n",
    "\n",
    "* **DCLP5TandemBolus_Completed_Combined_b.txt**: List of pupm data downloaded (bolus data only)\n",
    "* **DCLP5TandemBASALRATECHG_b.txt**: List of pump data dowloaded (basal data only)\n",
    "* **DCLP5TandemCGMDATAGXB_b.txt**: List of cgm data dowloaded \n",
    "* **PtRoster.txt**: Patient Roster\n",
    "\n",
    "These are csv files (\"|\" separator) and host many columns related to the Tandem pump events and the Dexcom cgm. The glossary provides information about each column. Each file contains a limited amount of columns compared to the FLAIR data. Below are **all** of the columns contained in each file\n",
    "\n",
    "## DCLP5TandemBolus_Completed_Combined_b\n",
    "* **PtID**: Patient ID\n",
    "* **DataDtTm**: Date-time of delivered insulin\n",
    "* **BolusAmount**: The amount of insulin actually delivered for this bolus\n",
    "* **BolusType**: The bolus insulin delivery type [Standard, Extended]\n",
    "* **DataDtTm_adjusted**: adjusted Date-time\n",
    "## DCLP5TandemBASALRATECHG_b\n",
    "* **PtID**: Patient ID\n",
    "* **DataDtTm**: Date-time of basal rate change\n",
    "* **CommandedBasalRate**: Basal Rate (U/h) - The active basal insulin delivery rate in units per hour\n",
    "* **DataDtTm_adjusted**: adjusted Date-time\n",
    "## DCLP5TandemCGMDATAGXB_b\n",
    "* **PtID**: Patient ID\n",
    "* **DataDtTm**: Date-time \n",
    "* **CGMValue**: 40-400 are legitimate glucose values. 0 is used when the reading is high or low\n",
    "* **DataDtTm_adjusted**: adjusted Date-time\n",
    "\n",
    "## Questions\n",
    "* Do we need to track DataDtTm_adjusted or can we rely on DataDtTm?\n"
   ]
  },
  {
   "cell_type": "code",
   "execution_count": 4,
   "id": "886427dc-4961-4459-899d-6fd9b5851fc2",
   "metadata": {},
   "outputs": [],
   "source": [
    "import os, sys, time, random\n",
    "import pandas as pd\n",
    "from datetime import datetime, timedelta\n",
    "import numpy as np\n",
    "from matplotlib import pyplot as plt"
   ]
  },
  {
   "cell_type": "markdown",
   "id": "5d2fe84f-0f12-4e6c-9061-a0cca7a8f979",
   "metadata": {},
   "source": [
    "## Load the data"
   ]
  },
  {
   "cell_type": "code",
   "execution_count": 7,
   "id": "e895b76e-4fcf-4a0d-b5fc-11185ed133d6",
   "metadata": {},
   "outputs": [],
   "source": [
    "filepath_data = '/Users/rachelbrandt/egvinsulin/data/raw/DCLP5_Dataset_2022-01-20-5e0f3b16-c890-4ace-9e3b-531f3687cf53'\n",
    "df_bolus = pd.read_csv(os.path.join(filepath_data, 'DCLP5TandemBolus_Completed_Combined_b.txt'), sep=\"|\", low_memory=False,\n",
    "                         usecols=['RecID', 'PtID', 'DataDtTm', 'BolusAmount', 'BolusType', 'DataDtTm_adjusted'])\n",
    "\n",
    "df_basal = pd.read_csv(os.path.join(filepath_data, 'DCLP5TandemBASALRATECHG_b.txt'), sep=\"|\", low_memory=False,\n",
    "                         usecols=['RecID', 'PtID', 'DataDtTm', 'CommandedBasalRate', 'DataDtTm_adjusted'])\n",
    "#load cgm data\n",
    "df_cgm = pd.read_csv(os.path.join(filepath_data, 'DCLP5TandemCGMDATAGXB_b.txt'), sep=\"|\", low_memory=False,\n",
    "                         usecols=['RecID', 'PtID', 'DataDtTm', 'CGMValue', 'DataDtTm_adjusted'])"
   ]
  },
  {
   "cell_type": "markdown",
   "id": "580dba67-e697-436f-85a2-c473a59b6acc",
   "metadata": {},
   "source": [
    "## Check for DateTimes without Time part"
   ]
  },
  {
   "cell_type": "code",
   "execution_count": 8,
   "id": "fd39c659-547e-4964-b327-281afa21b95b",
   "metadata": {},
   "outputs": [
    {
     "name": "stdout",
     "output_type": "stream",
     "text": [
      "Date Time Counts:\n",
      "Bolus datetimes without time:  0\n",
      "Basal datetimes without time:  33\n",
      "CGM datetimes without time:  60\n"
     ]
    }
   ],
   "source": [
    "print('Date Time Counts:')\n",
    "print('Bolus datetimes without time: ', len(df_bolus[df_bolus['DataDtTm'].str.len() <= 10]))\n",
    "print('Basal datetimes without time: ', len(df_basal[df_basal['DataDtTm'].str.len() <= 10]))\n",
    "print('CGM datetimes without time: ', len(df_cgm[df_cgm['DataDtTm'].str.len() <= 10])) "
   ]
  },
  {
   "cell_type": "markdown",
   "id": "1d3f11a5-8c8d-48eb-8ce2-d0943fe060bc",
   "metadata": {},
   "source": [
    "## inspecting the event counts"
   ]
  },
  {
   "cell_type": "code",
   "execution_count": 9,
   "id": "5181d316-334e-4afb-b078-700eac6387fd",
   "metadata": {},
   "outputs": [
    {
     "data": {
      "text/html": [
       "<div>\n",
       "<style scoped>\n",
       "    .dataframe tbody tr th:only-of-type {\n",
       "        vertical-align: middle;\n",
       "    }\n",
       "\n",
       "    .dataframe tbody tr th {\n",
       "        vertical-align: top;\n",
       "    }\n",
       "\n",
       "    .dataframe thead th {\n",
       "        text-align: right;\n",
       "    }\n",
       "</style>\n",
       "<table border=\"1\" class=\"dataframe\">\n",
       "  <thead>\n",
       "    <tr style=\"text-align: right;\">\n",
       "      <th></th>\n",
       "      <th>PtID</th>\n",
       "      <th>RecID</th>\n",
       "      <th>DataDtTm</th>\n",
       "      <th>CGMValue</th>\n",
       "      <th>DataDtTm_adjusted</th>\n",
       "    </tr>\n",
       "  </thead>\n",
       "  <tbody>\n",
       "    <tr>\n",
       "      <th>0</th>\n",
       "      <td>26</td>\n",
       "      <td>1</td>\n",
       "      <td>4/17/2019 12:07:54 PM</td>\n",
       "      <td>107</td>\n",
       "      <td>NaN</td>\n",
       "    </tr>\n",
       "    <tr>\n",
       "      <th>1</th>\n",
       "      <td>26</td>\n",
       "      <td>2</td>\n",
       "      <td>4/17/2019 12:12:55 PM</td>\n",
       "      <td>109</td>\n",
       "      <td>NaN</td>\n",
       "    </tr>\n",
       "    <tr>\n",
       "      <th>2</th>\n",
       "      <td>26</td>\n",
       "      <td>3</td>\n",
       "      <td>4/17/2019 12:17:53 PM</td>\n",
       "      <td>125</td>\n",
       "      <td>NaN</td>\n",
       "    </tr>\n",
       "    <tr>\n",
       "      <th>3</th>\n",
       "      <td>26</td>\n",
       "      <td>4</td>\n",
       "      <td>4/17/2019 12:22:58 PM</td>\n",
       "      <td>141</td>\n",
       "      <td>NaN</td>\n",
       "    </tr>\n",
       "    <tr>\n",
       "      <th>4</th>\n",
       "      <td>26</td>\n",
       "      <td>5</td>\n",
       "      <td>4/17/2019 12:32:57 PM</td>\n",
       "      <td>140</td>\n",
       "      <td>NaN</td>\n",
       "    </tr>\n",
       "  </tbody>\n",
       "</table>\n",
       "</div>"
      ],
      "text/plain": [
       "   PtID  RecID               DataDtTm  CGMValue DataDtTm_adjusted\n",
       "0    26      1  4/17/2019 12:07:54 PM       107               NaN\n",
       "1    26      2  4/17/2019 12:12:55 PM       109               NaN\n",
       "2    26      3  4/17/2019 12:17:53 PM       125               NaN\n",
       "3    26      4  4/17/2019 12:22:58 PM       141               NaN\n",
       "4    26      5  4/17/2019 12:32:57 PM       140               NaN"
      ]
     },
     "metadata": {},
     "output_type": "display_data"
    },
    {
     "name": "stdout",
     "output_type": "stream",
     "text": [
      "overall data counts:\n",
      "PtID                 5536760\n",
      "RecID                5536760\n",
      "DataDtTm             5536760\n",
      "CGMValue             5536760\n",
      "DataDtTm_adjusted     165513\n",
      "dtype: int64 \n",
      "\n",
      "unique patient ids:  100\n"
     ]
    }
   ],
   "source": [
    "display(df_cgm.head());\n",
    "\n",
    "print(\"overall data counts:\")\n",
    "print(df_cgm.count(),\"\\n\");\n",
    "print(\"unique patient ids: \", len(df_cgm.PtID.unique()))"
   ]
  },
  {
   "cell_type": "markdown",
   "id": "4e4a33bc-ad93-4908-84f8-b1b32e8b08a8",
   "metadata": {},
   "source": [
    "<div class=\"alert alert-block alert-warning\">\n",
    "<b>Date Adjustments:</b> We see that there are ~165k adjusted datetimes (~3% of the data).\n",
    "</div>"
   ]
  },
  {
   "cell_type": "code",
   "execution_count": 10,
   "id": "42094c7a-83cb-4ab0-a539-ed0948264ac7",
   "metadata": {},
   "outputs": [
    {
     "data": {
      "text/html": [
       "<div>\n",
       "<style scoped>\n",
       "    .dataframe tbody tr th:only-of-type {\n",
       "        vertical-align: middle;\n",
       "    }\n",
       "\n",
       "    .dataframe tbody tr th {\n",
       "        vertical-align: top;\n",
       "    }\n",
       "\n",
       "    .dataframe thead th {\n",
       "        text-align: right;\n",
       "    }\n",
       "</style>\n",
       "<table border=\"1\" class=\"dataframe\">\n",
       "  <thead>\n",
       "    <tr style=\"text-align: right;\">\n",
       "      <th></th>\n",
       "      <th>PtID</th>\n",
       "      <th>RecID</th>\n",
       "      <th>DataDtTm</th>\n",
       "      <th>BolusAmount</th>\n",
       "      <th>BolusType</th>\n",
       "      <th>DataDtTm_adjusted</th>\n",
       "    </tr>\n",
       "  </thead>\n",
       "  <tbody>\n",
       "    <tr>\n",
       "      <th>0</th>\n",
       "      <td>66</td>\n",
       "      <td>2525</td>\n",
       "      <td>8/2/2018 2:36:32 PM</td>\n",
       "      <td>0.530000</td>\n",
       "      <td>Standard</td>\n",
       "      <td>NaN</td>\n",
       "    </tr>\n",
       "    <tr>\n",
       "      <th>1</th>\n",
       "      <td>95</td>\n",
       "      <td>47569</td>\n",
       "      <td>5/2/2019 6:04:08 PM</td>\n",
       "      <td>1.302526</td>\n",
       "      <td>Standard</td>\n",
       "      <td>NaN</td>\n",
       "    </tr>\n",
       "    <tr>\n",
       "      <th>2</th>\n",
       "      <td>20</td>\n",
       "      <td>49750</td>\n",
       "      <td>12/19/2018 1:54:57 PM</td>\n",
       "      <td>1.078156</td>\n",
       "      <td>Standard</td>\n",
       "      <td>NaN</td>\n",
       "    </tr>\n",
       "    <tr>\n",
       "      <th>3</th>\n",
       "      <td>87</td>\n",
       "      <td>59787</td>\n",
       "      <td>2/7/2019 8:14:46 PM</td>\n",
       "      <td>0.360000</td>\n",
       "      <td>Standard</td>\n",
       "      <td>NaN</td>\n",
       "    </tr>\n",
       "    <tr>\n",
       "      <th>4</th>\n",
       "      <td>99</td>\n",
       "      <td>62812</td>\n",
       "      <td>7/25/2019 9:58:36 AM</td>\n",
       "      <td>0.628662</td>\n",
       "      <td>Standard</td>\n",
       "      <td>NaN</td>\n",
       "    </tr>\n",
       "  </tbody>\n",
       "</table>\n",
       "</div>"
      ],
      "text/plain": [
       "   PtID  RecID               DataDtTm  BolusAmount BolusType DataDtTm_adjusted\n",
       "0    66   2525    8/2/2018 2:36:32 PM     0.530000  Standard               NaN\n",
       "1    95  47569    5/2/2019 6:04:08 PM     1.302526  Standard               NaN\n",
       "2    20  49750  12/19/2018 1:54:57 PM     1.078156  Standard               NaN\n",
       "3    87  59787    2/7/2019 8:14:46 PM     0.360000  Standard               NaN\n",
       "4    99  62812   7/25/2019 9:58:36 AM     0.628662  Standard               NaN"
      ]
     },
     "metadata": {},
     "output_type": "display_data"
    },
    {
     "name": "stdout",
     "output_type": "stream",
     "text": [
      "overall data counts:\n",
      "PtID                 226685\n",
      "RecID                226685\n",
      "DataDtTm             226685\n",
      "BolusAmount          226685\n",
      "BolusType            226685\n",
      "DataDtTm_adjusted      6122\n",
      "dtype: int64 \n",
      "\n",
      "bolus types:\n",
      "BolusType\n",
      "Standard    223516\n",
      "Extended      3169\n",
      "Name: count, dtype: int64 \n",
      "\n",
      "unique patient ids:  100\n"
     ]
    }
   ],
   "source": [
    "display(df_bolus.head())\n",
    "\n",
    "print(\"overall data counts:\")\n",
    "print(df_bolus.count(),\"\\n\")\n",
    "print(\"bolus types:\")\n",
    "print(df_bolus.BolusType.value_counts(),\"\\n\")\n",
    "print(\"unique patient ids: \", len(df_bolus.PtID.unique()))"
   ]
  },
  {
   "cell_type": "markdown",
   "id": "7fa93546-5fe5-4329-bd99-7816b43e9353",
   "metadata": {},
   "source": [
    "<div class=\"alert alert-block alert-warning\">\n",
    "<b>Date Adjustments:</b> There are ~6k adjusted datetimes (~2.7% of the data)\n",
    "</div>"
   ]
  },
  {
   "cell_type": "markdown",
   "id": "a0f50e04-d9e8-49ce-b81e-125640ab0369",
   "metadata": {},
   "source": [
    "<div class=\"alert alert-block alert-warning\">\n",
    "<b>Extended Boluses:</b> There are 3169 extended boluses (~1.4% of the boluses). We do not have any data on how the boluses were extended. Users can set a % of the bolus to be delivered immediately and the remaining % will be delivered over a period of time the user sets. The time has to be <= 2 hours. The default extended bolus is 50% up front and 50% over 2 hours\n",
    "</div>"
   ]
  },
  {
   "cell_type": "code",
   "execution_count": 11,
   "id": "d5118dc1-0e3e-419c-850c-32e9255fa58b",
   "metadata": {},
   "outputs": [
    {
     "data": {
      "text/html": [
       "<div>\n",
       "<style scoped>\n",
       "    .dataframe tbody tr th:only-of-type {\n",
       "        vertical-align: middle;\n",
       "    }\n",
       "\n",
       "    .dataframe tbody tr th {\n",
       "        vertical-align: top;\n",
       "    }\n",
       "\n",
       "    .dataframe thead th {\n",
       "        text-align: right;\n",
       "    }\n",
       "</style>\n",
       "<table border=\"1\" class=\"dataframe\">\n",
       "  <thead>\n",
       "    <tr style=\"text-align: right;\">\n",
       "      <th></th>\n",
       "      <th>PtID</th>\n",
       "      <th>RecID</th>\n",
       "      <th>DataDtTm</th>\n",
       "      <th>CommandedBasalRate</th>\n",
       "      <th>DataDtTm_adjusted</th>\n",
       "    </tr>\n",
       "  </thead>\n",
       "  <tbody>\n",
       "    <tr>\n",
       "      <th>0</th>\n",
       "      <td>26</td>\n",
       "      <td>1</td>\n",
       "      <td>4/16/2019 2:37:45 PM</td>\n",
       "      <td>0.450</td>\n",
       "      <td>NaN</td>\n",
       "    </tr>\n",
       "    <tr>\n",
       "      <th>1</th>\n",
       "      <td>26</td>\n",
       "      <td>2</td>\n",
       "      <td>4/17/2019 12:24:17 PM</td>\n",
       "      <td>0.400</td>\n",
       "      <td>NaN</td>\n",
       "    </tr>\n",
       "    <tr>\n",
       "      <th>2</th>\n",
       "      <td>26</td>\n",
       "      <td>3</td>\n",
       "      <td>4/17/2019 12:30:32 PM</td>\n",
       "      <td>0.794</td>\n",
       "      <td>NaN</td>\n",
       "    </tr>\n",
       "    <tr>\n",
       "      <th>3</th>\n",
       "      <td>26</td>\n",
       "      <td>4</td>\n",
       "      <td>4/17/2019 12:35:32 PM</td>\n",
       "      <td>0.450</td>\n",
       "      <td>NaN</td>\n",
       "    </tr>\n",
       "    <tr>\n",
       "      <th>4</th>\n",
       "      <td>26</td>\n",
       "      <td>5</td>\n",
       "      <td>4/17/2019 1:30:37 PM</td>\n",
       "      <td>0.118</td>\n",
       "      <td>NaN</td>\n",
       "    </tr>\n",
       "  </tbody>\n",
       "</table>\n",
       "</div>"
      ],
      "text/plain": [
       "   PtID  RecID               DataDtTm  CommandedBasalRate DataDtTm_adjusted\n",
       "0    26      1   4/16/2019 2:37:45 PM               0.450               NaN\n",
       "1    26      2  4/17/2019 12:24:17 PM               0.400               NaN\n",
       "2    26      3  4/17/2019 12:30:32 PM               0.794               NaN\n",
       "3    26      4  4/17/2019 12:35:32 PM               0.450               NaN\n",
       "4    26      5   4/17/2019 1:30:37 PM               0.118               NaN"
      ]
     },
     "metadata": {},
     "output_type": "display_data"
    },
    {
     "name": "stdout",
     "output_type": "stream",
     "text": [
      "overall data counts:\n",
      "PtID                  2531963\n",
      "RecID                 2531963\n",
      "DataDtTm              2531963\n",
      "CommandedBasalRate    2531963\n",
      "DataDtTm_adjusted       65190\n",
      "dtype: int64 \n",
      "\n",
      "unique patient ids:  100\n"
     ]
    }
   ],
   "source": [
    "display(df_basal.head())\n",
    "\n",
    "print(\"overall data counts:\")\n",
    "print(df_basal.count(),\"\\n\")\n",
    "print(\"unique patient ids: \", len(df_basal.PtID.unique()))"
   ]
  },
  {
   "cell_type": "markdown",
   "id": "1b415337-cf58-4ac8-b5e9-08ff4723a1b0",
   "metadata": {},
   "source": [
    "<div class=\"alert alert-block alert-warning\">\n",
    "<b>Date Adjustments:</b> There are ~65k adjusted datetimes (~2.6% of the data)\n",
    "</div>"
   ]
  },
  {
   "cell_type": "markdown",
   "id": "b56fde19-8bd3-4277-8550-834bb24321f3",
   "metadata": {},
   "source": [
    "### Total Patient IDs with CGM, Basal and Bolus data"
   ]
  },
  {
   "cell_type": "code",
   "execution_count": 15,
   "id": "a27ea352-613f-4e25-9079-80429db0d61d",
   "metadata": {},
   "outputs": [
    {
     "name": "stdout",
     "output_type": "stream",
     "text": [
      "Total PtIDs with all forms of data:  100\n"
     ]
    }
   ],
   "source": [
    "basal_ids = df_basal.PtID.unique()\n",
    "bolus_ids = df_bolus.PtID.unique()\n",
    "cgm_ids = df_cgm.PtID.unique()\n",
    "\n",
    "from functools import reduce\n",
    "total_ids = reduce(np.intersect1d, (basal_ids, bolus_ids, cgm_ids))\n",
    "\n",
    "print('Total PtIDs with all forms of data: ', len(total_ids))"
   ]
  },
  {
   "cell_type": "markdown",
   "id": "75b1e469-7123-4533-937a-de676602d91e",
   "metadata": {},
   "source": [
    "### Distribution of Commanded Basal Rates"
   ]
  },
  {
   "cell_type": "code",
   "execution_count": 12,
   "id": "e4114e50-1a45-460b-a701-70266f36a1ed",
   "metadata": {},
   "outputs": [
    {
     "name": "stdout",
     "output_type": "stream",
     "text": [
      "Commanded Basal Rate info: \n",
      "count    2.531963e+06\n",
      "mean     1.034380e+00\n",
      "std      9.773415e-01\n",
      "min      0.000000e+00\n",
      "25%      3.790000e-01\n",
      "50%      7.600000e-01\n",
      "75%      1.400000e+00\n",
      "max      1.197800e+01\n",
      "Name: CommandedBasalRate, dtype: float64\n"
     ]
    },
    {
     "data": {
      "image/png": "[encoded data removed]",
      "text/plain": [
       "<Figure size 600x200 with 1 Axes>"
      ]
     },
     "metadata": {},
     "output_type": "display_data"
    }
   ],
   "source": [
    "print('Commanded Basal Rate info: ')\n",
    "print(df_basal.CommandedBasalRate.describe())\n",
    "\n",
    "plt.figure(figsize=(6,2)); plt.xlabel(\"Rate\"); plt.title(\"Commanded Basal Rates\")\n",
    "plt.hist(df_basal.CommandedBasalRate, bins=np.arange(min(df_basal.CommandedBasalRate), max(df_basal.CommandedBasalRate) + 0.5, 0.5));"
   ]
  },
  {
   "cell_type": "markdown",
   "id": "b0554d37-c053-453d-b5ca-9e0e077ff225",
   "metadata": {},
   "source": [
    "<div class=\"alert alert-block alert-info\"> The maximum basal rate reached ~12 U/h. This equates to 1 U every 5 minutes.  </div>"
   ]
  },
  {
   "cell_type": "markdown",
   "id": "728bd2dd-bb77-4a87-bad6-b214bf876566",
   "metadata": {},
   "source": [
    "### Distribution of Bolus Amounts"
   ]
  },
  {
   "cell_type": "code",
   "execution_count": 13,
   "id": "53fd54c0-c32b-484e-a271-68cfa0050430",
   "metadata": {},
   "outputs": [
    {
     "name": "stdout",
     "output_type": "stream",
     "text": [
      "Commanded Basal Rate info: \n",
      "count    226685.000000\n",
      "mean          2.140634\n",
      "std           2.563934\n",
      "min           0.000000\n",
      "25%           0.540000\n",
      "50%           1.215070\n",
      "75%           2.714080\n",
      "max          25.000002\n",
      "Name: BolusAmount, dtype: float64\n"
     ]
    },
    {
     "data": {
      "image/png": "[encoded data removed]",
      "text/plain": [
       "<Figure size 600x200 with 1 Axes>"
      ]
     },
     "metadata": {},
     "output_type": "display_data"
    }
   ],
   "source": [
    "print('Commanded Basal Rate info: ')\n",
    "print(df_bolus.BolusAmount.describe())\n",
    "\n",
    "plt.figure(figsize=(6,2)); plt.xlabel(\"Bolus\"); plt.title(\"Bolus Amounts\")\n",
    "plt.hist(df_bolus.BolusAmount, bins=np.arange(min(df_bolus.BolusAmount), max(df_bolus.BolusAmount) + 0.5, 0.5));"
   ]
  }
 ],
 "metadata": {
  "kernelspec": {
   "display_name": "Python 3 (ipykernel)",
   "language": "python",
   "name": "python3"
  },
  "language_info": {
   "codemirror_mode": {
    "name": "ipython",
    "version": 3
   },
   "file_extension": ".py",
   "mimetype": "text/x-python",
   "name": "python",
   "nbconvert_exporter": "python",
   "pygments_lexer": "ipython3",
   "version": "3.11.8"
  }
 },
 "nbformat": 4,
 "nbformat_minor": 5
}
