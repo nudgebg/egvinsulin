{
 "cells": [
  {
   "cell_type": "markdown",
   "id": "ea0d44eb-0c72-41fc-b821-5d1532975aa5",
   "metadata": {},
   "source": [
    "## Understanding Flair Dataset\n",
    "This notebook tries provides details on the structure of the flair dataset and makes suggestions how to process the data."
   ]
  },
  {
   "cell_type": "code",
   "execution_count": 147,
   "id": "886427dc-4961-4459-899d-6fd9b5851fc2",
   "metadata": {},
   "outputs": [],
   "source": [
    "import os, sys, time\n",
    "import pandas as pd\n",
    "from datetime import datetime, timedelta\n",
    "import numpy as np\n",
    "from matplotlib import pyplot as plt"
   ]
  },
  {
   "cell_type": "code",
   "execution_count": 6,
   "id": "ea6f1fd8-52dd-46ae-80fc-616699cd99f6",
   "metadata": {},
   "outputs": [],
   "source": [
    "def parse_flair_dates(df, date_column):\n",
    "    \"\"\"Parse date strings separately for those with/without time component, interpret those without as midnight (00AM)\n",
    "        Args:\n",
    "            df (pandas DataFrame): data frame holding data\n",
    "            date_column (string): column name that holds date time strings to be used for parsing\n",
    "\n",
    "        Returns:\n",
    "            df (pandas DataFrame): with new DateTime column holding datetime objects\n",
    "        \"\"\"\n",
    "    #\n",
    "    b_only_date = (df[date_column].str.len() <= 10)\n",
    "    print(sum(b_only_date))\n",
    "    df.loc[b_only_date, 'DateTime'] = pd.to_datetime(df.loc[b_only_date, date_column], format='%m/%d/%Y')\n",
    "    df.loc[~b_only_date, 'DateTime'] = pd.to_datetime(df.loc[~b_only_date, date_column], format='%m/%d/%Y %I:%M:%S %p')\n",
    "    return df"
   ]
  },
  {
   "cell_type": "markdown",
   "id": "5d2fe84f-0f12-4e6c-9061-a0cca7a8f979",
   "metadata": {},
   "source": [
    "## load the data"
   ]
  },
  {
   "cell_type": "code",
   "execution_count": 122,
   "id": "42094c7a-83cb-4ab0-a539-ed0948264ac7",
   "metadata": {},
   "outputs": [
    {
     "name": "stdout",
     "output_type": "stream",
     "text": [
      "/Users/jan/git/nudgebg/egvinsulin/notebooks\n",
      "/Users/jan/git/nudgebg/egvinsulin/notebooks/../data/raw\n",
      "/Users/jan/git/nudgebg/egvinsulin/notebooks/../data/raw/FLAIRPublicDataSet/Data Tables/FLAIRDevicePump.txt\n",
      "35150\n"
     ]
    },
    {
     "data": {
      "text/html": [
       "<div>\n",
       "<style scoped>\n",
       "    .dataframe tbody tr th:only-of-type {\n",
       "        vertical-align: middle;\n",
       "    }\n",
       "\n",
       "    .dataframe tbody tr th {\n",
       "        vertical-align: top;\n",
       "    }\n",
       "\n",
       "    .dataframe thead th {\n",
       "        text-align: right;\n",
       "    }\n",
       "</style>\n",
       "<table border=\"1\" class=\"dataframe\">\n",
       "  <thead>\n",
       "    <tr style=\"text-align: right;\">\n",
       "      <th></th>\n",
       "      <th>RecID</th>\n",
       "      <th>PtID</th>\n",
       "      <th>DataDtTm</th>\n",
       "      <th>BasalRt</th>\n",
       "      <th>TempBasalAmt</th>\n",
       "      <th>TempBasalType</th>\n",
       "      <th>TempBasalDur</th>\n",
       "      <th>BolusType</th>\n",
       "      <th>BolusDeliv</th>\n",
       "      <th>ExtendBolusDuration</th>\n",
       "      <th>DateTime</th>\n",
       "    </tr>\n",
       "  </thead>\n",
       "  <tbody>\n",
       "    <tr>\n",
       "      <th>0</th>\n",
       "      <td>1</td>\n",
       "      <td>26</td>\n",
       "      <td>5/15/2019 11:59:59 PM</td>\n",
       "      <td>NaN</td>\n",
       "      <td>NaN</td>\n",
       "      <td>NaN</td>\n",
       "      <td>NaN</td>\n",
       "      <td>NaN</td>\n",
       "      <td>NaN</td>\n",
       "      <td>NaN</td>\n",
       "      <td>2019-05-15 23:59:59</td>\n",
       "    </tr>\n",
       "    <tr>\n",
       "      <th>1</th>\n",
       "      <td>2</td>\n",
       "      <td>26</td>\n",
       "      <td>5/15/2019 11:58:26 PM</td>\n",
       "      <td>NaN</td>\n",
       "      <td>NaN</td>\n",
       "      <td>NaN</td>\n",
       "      <td>NaN</td>\n",
       "      <td>Normal</td>\n",
       "      <td>0.025</td>\n",
       "      <td>NaN</td>\n",
       "      <td>2019-05-15 23:58:26</td>\n",
       "    </tr>\n",
       "    <tr>\n",
       "      <th>2</th>\n",
       "      <td>3</td>\n",
       "      <td>26</td>\n",
       "      <td>5/15/2019 11:53:26 PM</td>\n",
       "      <td>NaN</td>\n",
       "      <td>NaN</td>\n",
       "      <td>NaN</td>\n",
       "      <td>NaN</td>\n",
       "      <td>Normal</td>\n",
       "      <td>0.050</td>\n",
       "      <td>NaN</td>\n",
       "      <td>2019-05-15 23:53:26</td>\n",
       "    </tr>\n",
       "    <tr>\n",
       "      <th>3</th>\n",
       "      <td>4</td>\n",
       "      <td>26</td>\n",
       "      <td>5/15/2019 11:48:28 PM</td>\n",
       "      <td>NaN</td>\n",
       "      <td>NaN</td>\n",
       "      <td>NaN</td>\n",
       "      <td>NaN</td>\n",
       "      <td>Normal</td>\n",
       "      <td>0.025</td>\n",
       "      <td>NaN</td>\n",
       "      <td>2019-05-15 23:48:28</td>\n",
       "    </tr>\n",
       "    <tr>\n",
       "      <th>4</th>\n",
       "      <td>5</td>\n",
       "      <td>26</td>\n",
       "      <td>5/15/2019 11:43:28 PM</td>\n",
       "      <td>NaN</td>\n",
       "      <td>NaN</td>\n",
       "      <td>NaN</td>\n",
       "      <td>NaN</td>\n",
       "      <td>Normal</td>\n",
       "      <td>0.025</td>\n",
       "      <td>NaN</td>\n",
       "      <td>2019-05-15 23:43:28</td>\n",
       "    </tr>\n",
       "  </tbody>\n",
       "</table>\n",
       "</div>"
      ],
      "text/plain": [
       "   RecID  PtID               DataDtTm  BasalRt  TempBasalAmt TempBasalType  \\\n",
       "0      1    26  5/15/2019 11:59:59 PM      NaN           NaN           NaN   \n",
       "1      2    26  5/15/2019 11:58:26 PM      NaN           NaN           NaN   \n",
       "2      3    26  5/15/2019 11:53:26 PM      NaN           NaN           NaN   \n",
       "3      4    26  5/15/2019 11:48:28 PM      NaN           NaN           NaN   \n",
       "4      5    26  5/15/2019 11:43:28 PM      NaN           NaN           NaN   \n",
       "\n",
       "  TempBasalDur BolusType  BolusDeliv ExtendBolusDuration            DateTime  \n",
       "0          NaN       NaN         NaN                 NaN 2019-05-15 23:59:59  \n",
       "1          NaN    Normal       0.025                 NaN 2019-05-15 23:58:26  \n",
       "2          NaN    Normal       0.050                 NaN 2019-05-15 23:53:26  \n",
       "3          NaN    Normal       0.025                 NaN 2019-05-15 23:48:28  \n",
       "4          NaN    Normal       0.025                 NaN 2019-05-15 23:43:28  "
      ]
     },
     "metadata": {},
     "output_type": "display_data"
    }
   ],
   "source": [
    "current_dir = os.getcwd(); \n",
    "print(current_dir)\n",
    "data_path = os.path.join(current_dir, '..', 'data/raw')\n",
    "print(data_path)\n",
    "insulin_path = os.path.join(data_path,'FLAIRPublicDataSet','Data Tables', 'FLAIRDevicePump.txt')\n",
    "print(insulin_path)\n",
    "\n",
    "df_insulin = pd.read_csv(insulin_path, sep=\"|\", low_memory=False,\n",
    "                         usecols=['RecID', 'PtID', 'DataDtTm', 'BasalRt', 'TempBasalAmt','TempBasalType', 'TempBasalDur','BolusType', 'BolusDeliv', 'ExtendBolusDuration'])\n",
    "df_insulin = parse_flair_dates(df_insulin,'DataDtTm')\n",
    "display(df_insulin.head())"
   ]
  },
  {
   "cell_type": "code",
   "execution_count": 133,
   "id": "5dfd0630-1238-472c-9dad-e96e21f149d3",
   "metadata": {},
   "outputs": [
    {
     "name": "stdout",
     "output_type": "stream",
     "text": [
      "overall data counts:\n",
      "RecID                  5100621\n",
      "PtID                   5100621\n",
      "DataDtTm               5100621\n",
      "BasalRt                  60668\n",
      "TempBasalAmt              1446\n",
      "TempBasalType             1446\n",
      "TempBasalDur              1446\n",
      "BolusType              3946622\n",
      "BolusDeliv             3555501\n",
      "ExtendBolusDuration        445\n",
      "DateTime               5100621\n",
      "dtype: int64 \n",
      "\n",
      "bolus types:\n",
      "Normal                3945345\n",
      "Dual (square part)        697\n",
      "Dual (normal part)        534\n",
      "Square                     46\n",
      "Name: BolusType, dtype: int64 \n",
      "\n",
      "**basal types**:\n",
      "Percent    1437\n",
      "Rate          9\n",
      "Name: TempBasalType, dtype: int64 \n",
      "\n"
     ]
    }
   ],
   "source": [
    "print(\"overall data counts:\")\n",
    "print(df_insulin.count(),\"\\n\")\n",
    "print(\"bolus types:\")\n",
    "print(df_insulin.BolusType.value_counts(),\"\\n\")\n",
    "print(\"temp basal types:\")\n",
    "print(df_insulin.TempBasalType.value_counts(),\"\\n\")"
   ]
  },
  {
   "cell_type": "markdown",
   "id": "7fa93546-5fe5-4329-bd99-7816b43e9353",
   "metadata": {},
   "source": [
    "* We also have (697 or 534) dual wave and 46 sqaure (extended) boluses\n",
    "* The dual wave boluses square/normal part) don't match\n",
    "* We have 1446 temp basal values\n",
    "* only 9 of these are set by insulin rate, the others are in percent"
   ]
  },
  {
   "cell_type": "markdown",
   "id": "75b1e469-7123-4533-937a-de676602d91e",
   "metadata": {},
   "source": [
    "### Are temp basal amounts always units?"
   ]
  },
  {
   "cell_type": "code",
   "execution_count": 137,
   "id": "6b6189ae-3141-4a8c-95ef-200cfba36c71",
   "metadata": {},
   "outputs": [
    {
     "data": {
      "text/html": [
       "<div>\n",
       "<style scoped>\n",
       "    .dataframe tbody tr th:only-of-type {\n",
       "        vertical-align: middle;\n",
       "    }\n",
       "\n",
       "    .dataframe tbody tr th {\n",
       "        vertical-align: top;\n",
       "    }\n",
       "\n",
       "    .dataframe thead th {\n",
       "        text-align: right;\n",
       "    }\n",
       "</style>\n",
       "<table border=\"1\" class=\"dataframe\">\n",
       "  <thead>\n",
       "    <tr style=\"text-align: right;\">\n",
       "      <th></th>\n",
       "      <th>DateTime</th>\n",
       "      <th>BasalRt</th>\n",
       "      <th>TempBasalAmt</th>\n",
       "      <th>TempBasalType</th>\n",
       "    </tr>\n",
       "  </thead>\n",
       "  <tbody>\n",
       "    <tr>\n",
       "      <th>16499</th>\n",
       "      <td>2019-03-11 12:46:39</td>\n",
       "      <td>NaN</td>\n",
       "      <td>100.0</td>\n",
       "      <td>Percent</td>\n",
       "    </tr>\n",
       "    <tr>\n",
       "      <th>29868</th>\n",
       "      <td>2019-03-10 23:59:21</td>\n",
       "      <td>NaN</td>\n",
       "      <td>50.0</td>\n",
       "      <td>Percent</td>\n",
       "    </tr>\n",
       "    <tr>\n",
       "      <th>29884</th>\n",
       "      <td>2019-03-10 15:43:56</td>\n",
       "      <td>NaN</td>\n",
       "      <td>0.0</td>\n",
       "      <td>Percent</td>\n",
       "    </tr>\n",
       "    <tr>\n",
       "      <th>29886</th>\n",
       "      <td>2019-03-10 15:42:57</td>\n",
       "      <td>NaN</td>\n",
       "      <td>0.0</td>\n",
       "      <td>Percent</td>\n",
       "    </tr>\n",
       "    <tr>\n",
       "      <th>41568</th>\n",
       "      <td>2019-06-05 11:08:18</td>\n",
       "      <td>NaN</td>\n",
       "      <td>0.0</td>\n",
       "      <td>Percent</td>\n",
       "    </tr>\n",
       "  </tbody>\n",
       "</table>\n",
       "</div>"
      ],
      "text/plain": [
       "                 DateTime  BasalRt  TempBasalAmt TempBasalType\n",
       "16499 2019-03-11 12:46:39      NaN         100.0       Percent\n",
       "29868 2019-03-10 23:59:21      NaN          50.0       Percent\n",
       "29884 2019-03-10 15:43:56      NaN           0.0       Percent\n",
       "29886 2019-03-10 15:42:57      NaN           0.0       Percent\n",
       "41568 2019-06-05 11:08:18      NaN           0.0       Percent"
      ]
     },
     "metadata": {},
     "output_type": "display_data"
    },
    {
     "data": {
      "text/html": [
       "<div>\n",
       "<style scoped>\n",
       "    .dataframe tbody tr th:only-of-type {\n",
       "        vertical-align: middle;\n",
       "    }\n",
       "\n",
       "    .dataframe tbody tr th {\n",
       "        vertical-align: top;\n",
       "    }\n",
       "\n",
       "    .dataframe thead th {\n",
       "        text-align: right;\n",
       "    }\n",
       "</style>\n",
       "<table border=\"1\" class=\"dataframe\">\n",
       "  <thead>\n",
       "    <tr style=\"text-align: right;\">\n",
       "      <th></th>\n",
       "      <th>DateTime</th>\n",
       "      <th>BasalRt</th>\n",
       "      <th>TempBasalAmt</th>\n",
       "      <th>TempBasalType</th>\n",
       "    </tr>\n",
       "  </thead>\n",
       "  <tbody>\n",
       "    <tr>\n",
       "      <th>58519</th>\n",
       "      <td>2019-06-24 11:47:55</td>\n",
       "      <td>NaN</td>\n",
       "      <td>0.1</td>\n",
       "      <td>Rate</td>\n",
       "    </tr>\n",
       "    <tr>\n",
       "      <th>498999</th>\n",
       "      <td>2019-05-17 08:04:58</td>\n",
       "      <td>NaN</td>\n",
       "      <td>1.6</td>\n",
       "      <td>Rate</td>\n",
       "    </tr>\n",
       "    <tr>\n",
       "      <th>500045</th>\n",
       "      <td>2019-05-06 11:44:36</td>\n",
       "      <td>NaN</td>\n",
       "      <td>1.3</td>\n",
       "      <td>Rate</td>\n",
       "    </tr>\n",
       "    <tr>\n",
       "      <th>500214</th>\n",
       "      <td>2019-05-04 21:16:36</td>\n",
       "      <td>NaN</td>\n",
       "      <td>1.0</td>\n",
       "      <td>Rate</td>\n",
       "    </tr>\n",
       "    <tr>\n",
       "      <th>500876</th>\n",
       "      <td>2019-04-24 20:01:41</td>\n",
       "      <td>NaN</td>\n",
       "      <td>1.1</td>\n",
       "      <td>Rate</td>\n",
       "    </tr>\n",
       "  </tbody>\n",
       "</table>\n",
       "</div>"
      ],
      "text/plain": [
       "                  DateTime  BasalRt  TempBasalAmt TempBasalType\n",
       "58519  2019-06-24 11:47:55      NaN           0.1          Rate\n",
       "498999 2019-05-17 08:04:58      NaN           1.6          Rate\n",
       "500045 2019-05-06 11:44:36      NaN           1.3          Rate\n",
       "500214 2019-05-04 21:16:36      NaN           1.0          Rate\n",
       "500876 2019-04-24 20:01:41      NaN           1.1          Rate"
      ]
     },
     "metadata": {},
     "output_type": "display_data"
    }
   ],
   "source": [
    "display(df_insulin.loc[df_insulin.TempBasalType ==\"Percent\",['DateTime','BasalRt', 'TempBasalAmt','TempBasalType']].head())\n",
    "display(df_insulin.loc[df_insulin.TempBasalType ==\"Rate\",['DateTime','BasalRt', 'TempBasalAmt','TempBasalType']].head())"
   ]
  },
  {
   "cell_type": "markdown",
   "id": "e5c6a11b-83e7-42d8-8ba1-61d7f874ab03",
   "metadata": {},
   "source": [
    "# What is temp Percent 100 mean?\n",
    "According to Lane, 100% refers to the normal basal rate. Medtronic allows setting temp basal percentages from 0 (shut off) to 200% (twice the basal rate). These values are confirmed by the histogram of the data:"
   ]
  },
  {
   "cell_type": "code",
   "execution_count": 163,
   "id": "e4114e50-1a45-460b-a701-70266f36a1ed",
   "metadata": {},
   "outputs": [
    {
     "data": {
      "image/png": "[encoded data removed]",
      "text/plain": [
       "<Figure size 600x200 with 1 Axes>"
      ]
     },
     "metadata": {},
     "output_type": "display_data"
    },
    {
     "data": {
      "image/png": "[encoded data removed]",
      "text/plain": [
       "<Figure size 600x200 with 1 Axes>"
      ]
     },
     "metadata": {},
     "output_type": "display_data"
    }
   ],
   "source": [
    "plt.figure(figsize=(6,2)); plt.xlabel(\"TempBasalAmt\"); plt.title(\"TempBasalType=Percent\")\n",
    "plt.hist(df_insulin.loc[df_insulin.TempBasalType ==\"Percent\",'TempBasalAmt']);\n",
    "\n",
    "plt.figure(figsize=(6,2)); plt.xlabel(\"TempBasalAmt\"); plt.title(\"TempBasalType=Rate\")\n",
    "plt.hist(df_insulin.loc[df_insulin.TempBasalType ==\"Rate\",'TempBasalAmt']);"
   ]
  },
  {
   "attachments": {},
   "cell_type": "markdown",
   "id": "d00d16b0-8819-4621-8d08-e07aaf189481",
   "metadata": {},
   "source": [
    "The Max basal rate is the maximum amount of basal insulin that the pump can deliver per hour. Set the Max basal rate as indicated by a healthcare professional. It is not possible to set a basal rate, a temp basal rate, or a preset temp basal rate that would exceed the Max basal rate limit. After the basal patterns or preset temp basal rates are set, the Max basal rate cannot be lower than any of the existing basal rates. The Max basal rate can be set from 0 to 35 units per hour.\n",
    "\n",
    "Temp basal rates\n",
    "The temp basal feature helps set and start a temporary basal rate that can be used immediately to manage BG for short-term activities or conditions.\n",
    "Preset temp basal rates can be set for recurring short term situations. For more information on Preset temp basal rates, see Preset temp basal rates, page 239. The duration of the temp basal rate can range from 30 minutes to 24 hours. After the temp basal rate delivery is completed or canceled, the programmed basal pattern resumes. The temp basal rates and preset temp basal rates can be defined using either a percentage of the current basal pattern or by setting a specific rate, as described in the following table:\n",
    "Temp basal rate type\n",
    "Percent\n",
    "Description\n",
    "Percent delivers a percentage of the basal rates pro‐ grammed in the active basal pattern for the duration of the temp basal rate. The temp basal amount is rounded down to the next 0.025 units if the basal rate is set at less than 1 unit per hour, or to the next 0.05 units if the basal rate is set at more than 1 unit per hour.\n",
    "Temp basal rates can be set to deliver from 0% to 200% of the scheduled basal rate. The percentage used is based on the largest basal rate scheduled during the temp basal rate duration and is limited by the Max basal rate.\n",
    "Rate delivers a fixed basal insulin rate in units per hour for the duration of the temp basal rate. The amount set is limited by the Max basal rate.\n",
    "\n",
    "<div>\n",
    "<img src=\"Bolus Types Medtronic.png\" width=\"500\"/>\n",
    "</div>\n",
    "\n",
    "Bolus types\n",
    "**Normal bolus**: provides a single immediate dose of insulin.\n",
    "**Square Wave bolus**: delivers a single bolus evenly over an extended period of time from 30 minutes up to 8 hours.\n",
    "**Dual Wave bolus**: delivers a combination of an immediate normal bo‐ lus followed by a Square Wave bolus.\n",
    "\n",
    "[1] MiniMed-780G-system-user-guide-with-Guardian-4-sensor.pdf"
   ]
  },
  {
   "cell_type": "code",
   "execution_count": null,
   "id": "20bcecc9-65d8-4c62-9911-3af85ba1020d",
   "metadata": {},
   "outputs": [],
   "source": [
    "display(df_insulin.loc[~df_insulin.TempBasalType.isna(),['DateTime','BasalRt', 'TempBasalAmt','TempBasalType']])"
   ]
  },
  {
   "cell_type": "code",
   "execution_count": 142,
   "id": "355e7b8d-57f2-45b7-b99f-5b05f1b041b2",
   "metadata": {},
   "outputs": [],
   "source": [
    "import random\n",
    "def first_days_random_patient(df,days=3):\n",
    "    random_id = random.choice(df_insulin.PtID.unique())\n",
    "    temp = df_insulin.loc[df_insulin.PtID==random_id]\n",
    "    return temp.loc[temp.DateTime<temp.DateTime.min()+timedelta(hours=72)]"
   ]
  },
  {
   "cell_type": "code",
   "execution_count": 155,
   "id": "6394081d-183f-44e7-a84b-5dce20a93eec",
   "metadata": {},
   "outputs": [
    {
     "data": {
      "text/plain": [
       "Text(0.5, 1.0, 'raw')"
      ]
     },
     "execution_count": 155,
     "metadata": {},
     "output_type": "execute_result"
    },
    {
     "data": {
      "image/png": "[encoded data removed]",
      "text/plain": [
       "<Figure size 1500x500 with 2 Axes>"
      ]
     },
     "metadata": {},
     "output_type": "display_data"
    }
   ],
   "source": [
    "sub_frame =first_days_random_patient(df_insulin, 5)\n",
    "boluses = sub_frame.dropna(subset=['BolusDeliv'],axis=0)\n",
    "basalRates = sub_frame.dropna(subset=['BasalRt'],axis=0)\n",
    "\n",
    "f = plt.figure(figsize=(15,5))\n",
    "ax = f.gca();\n",
    "\n",
    "sub_frame.sort_values(\"DateTime\",inplace=True)\n",
    "\n",
    "\n",
    "ax.bar(boluses.DateTime, boluses.BolusDeliv, width=timedelta(minutes=15), label='boluses')\n",
    "ax.legend(loc='upper left')\n",
    "\n",
    "twinax=plt.twinx()\n",
    "twinax.stem(basalRates.DateTime, basalRates.BasalRt, label='basal rates',markerfmt='None',linefmt='r-')\n",
    "twinax.stairs(basalRates.BasalRt.iloc[:-1],basalRates.DateTime, label='basal rates',color='red',fill=True,alpha=0.2,)\n",
    "\n",
    "plt.legend(loc=\"upper right\")\n",
    "\n",
    "ax.set_ylim([0,15]);\n",
    "twinax.set_ylim([0,15])\n",
    "\n",
    "plt.title(\"raw\")"
   ]
  }
 ],
 "metadata": {
  "kernelspec": {
   "display_name": "Python 3 (ipykernel)",
   "language": "python",
   "name": "python3"
  },
  "language_info": {
   "codemirror_mode": {
    "name": "ipython",
    "version": 3
   },
   "file_extension": ".py",
   "mimetype": "text/x-python",
   "name": "python",
   "nbconvert_exporter": "python",
   "pygments_lexer": "ipython3",
   "version": "3.9.6"
  }
 },
 "nbformat": 4,
 "nbformat_minor": 5
}
