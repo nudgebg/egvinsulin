{
 "cells": [
  {
   "cell_type": "markdown",
   "id": "ea0d44eb-0c72-41fc-b821-5d1532975aa5",
   "metadata": {},
   "source": [
    "# The FLAIR study\n",
    "This notebook tries provides details on the structure of the flair dataset and makes suggestions how to process the data.\n",
    "\n",
    "**Title**: A Crossover Study Comparing Two Automated Insulin Delivery System\n",
    "Algorithms (PID vs. PID + Fuzzy Logic) in Individuals with Type 1\n",
    "Diabetes (FLAIR- Fuzzy Logic Automated Insulin Regulation)\n",
    "\n",
    "**Description**: A randomized crossover trial will compare the efficacy and safety of an\n",
    "automated insulin delivery (AID) system with a proportional-integral-\n",
    "derivative (PID) algorithm versus an automatic insulin delivery (AID) system\n",
    "with a PID algorithm enhanced with a Fuzzy Logic algorithm.\n",
    "    \n",
    "**Devices**: The Minimed 670G 4.0 Advanced Hybrid Closed-Loop (AHCL) (PID +\n",
    "Fuzzy Logic) pump with the Guardian Sensor (3) continuous glucose\n",
    "monitoring sensor.\n",
    "\n",
    "\n",
    "## Data Description:\n",
    "The study data folder is named **FLAIRPublicDataSet**\n",
    "From the DataGlossary.rtf file, the following relevant files were identified which are stored in the **Data Tables** subfolder.\n",
    "\n",
    "* **FLAIRDeviceCGM.txt**: List of CGM data downloaded\n",
    "* **FLAIRDevicePump.txt**: List of pump data dowloaded \n",
    "* **PtRoster.txt**: Patient Roster\n",
    "\n",
    "These are csv files (\"|\" separator) and host many columns related to the Medtronic pump events and the guardian cgm. The glossary provides information about each column. While there are many columns, the following were identified as relevant.\n",
    "\n",
    "**FLAIRDeviceCGM**:\n",
    "\n",
    "* **PtID**: Patient ID\n",
    "* **DataDtTm**: Date-time of sensor glucose reading\n",
    "* **CGM**: Sensor glucose aka CGM - mdDl or mmol/L\n",
    "* **DataDtTm_adjusted**: Adjusted value of DataDtTm \n",
    "\n",
    "**FLAIRDevicePump**:\n",
    "\n",
    "* **PtID**: Patient ID\n",
    "* **DataDtTm**: Date-time of pump data\n",
    "* **NewDeviceDtTm**: The new date and time if this was changed in the device\n",
    "* **BolusType**: Bolus type - The bolus insulin delivery type [Normal, Square, Dual (normal part), or Dual (square part)]\n",
    "* **BolusDeliv**: Bolus volume delivered (U) - The number of insulin units actually delivered during the bolus insulin delivery\n",
    "* **ExtendBolusDuration**: Duration of the square portion of either a square bolus or a dual wave bolus\n",
    "* **BasalRt**: Basal Rate (U/h) - The active basal insulin delivery rate in units per hour\n",
    "* **BasalRtUnKnown**: Basal rate unknown as marked in the carelink file\n",
    "* **TempBasalAmt**: Temp basal amount - If a temp basal was applied on the pump, this value is the temp basal amount\n",
    "* **TempBasalType**: Temp basal type - The type of temporary basal adjustment (insulin rate or percent of basal)\n",
    "* **TempBasalDur**: Temp basal duration (h:mm:ss) - The length of time for the temporary basal insulin delivery\n",
    "* **Suspend**: State \"Suspend\" when the pump is suspended and \"Resumed\" when the pump is resumed \n",
    "\n",
    "**Questions**: \n",
    "* Do we need to track DataDtTm_adjusted or can we rely on DataDtTm?\n",
    "* How often do NewDeviceDtTm** events happen and do we need to account fo these or is DataDtTm sufficient?\n",
    "* How often do BasalRtUnKnown** events happen and how should we handle these?\n",
    "* Are TempBasalAmt reflected in the BasalRt? Is the value a rate (U/h) or depend on the TempBasalType (Percent/Rate)?\n",
    "* Do we have to keep track of temporary basal durations events (TempBasalDur) or do we get a normal basal rate at the end of the basal rate?\n",
    "* How do we know if the temp basal rate is ended earlier than programmed\n",
    "* How often does the pump suspend (Suspend)? Should we stop counting basal rates in this time?\n",
    "* Do suspend events stop bolus deliveries? Do we need to account for it?"
   ]
  },
  {
   "cell_type": "markdown",
   "id": "5d2fe84f-0f12-4e6c-9061-a0cca7a8f979",
   "metadata": {},
   "source": [
    "## Loading the data"
   ]
  },
  {
   "cell_type": "code",
   "execution_count": 1,
   "id": "886427dc-4961-4459-899d-6fd9b5851fc2",
   "metadata": {
    "ExecuteTime": {
     "end_time": "2024-05-27T11:51:05.906294Z",
     "start_time": "2024-05-27T11:51:05.472974Z"
    }
   },
   "outputs": [],
   "source": [
    "import os, random\n",
    "import pandas as pd\n",
    "from datetime import datetime, timedelta\n",
    "import numpy as np\n",
    "from matplotlib import pyplot as plt\n",
    "current_dir = os.getcwd(); "
   ]
  },
  {
   "cell_type": "markdown",
   "id": "1d4a0bd6",
   "metadata": {},
   "source": [
    "<div class=\"alert alert-block alert-warning\">\n",
    "<b>Date Time Strings</b> There are date time strings without time component. We treat those without as midnight (00AM).\n",
    "</div>"
   ]
  },
  {
   "cell_type": "code",
   "execution_count": 2,
   "id": "ea6f1fd8-52dd-46ae-80fc-616699cd99f6",
   "metadata": {
    "ExecuteTime": {
     "end_time": "2024-05-27T11:51:05.910547Z",
     "start_time": "2024-05-27T11:51:05.907535Z"
    }
   },
   "outputs": [
    {
     "data": {
      "text/html": [
       "<div>\n",
       "<style scoped>\n",
       "    .dataframe tbody tr th:only-of-type {\n",
       "        vertical-align: middle;\n",
       "    }\n",
       "\n",
       "    .dataframe tbody tr th {\n",
       "        vertical-align: top;\n",
       "    }\n",
       "\n",
       "    .dataframe thead th {\n",
       "        text-align: right;\n",
       "    }\n",
       "</style>\n",
       "<table border=\"1\" class=\"dataframe\">\n",
       "  <thead>\n",
       "    <tr style=\"text-align: right;\">\n",
       "      <th></th>\n",
       "      <th>PtID</th>\n",
       "      <th>DataDtTm</th>\n",
       "      <th>CGM</th>\n",
       "      <th>DataDtTm_adjusted</th>\n",
       "      <th>DateTime</th>\n",
       "      <th>DateTimeAdjusted</th>\n",
       "    </tr>\n",
       "  </thead>\n",
       "  <tbody>\n",
       "    <tr>\n",
       "      <th>0</th>\n",
       "      <td>26</td>\n",
       "      <td>5/15/2019 9:18:15 PM</td>\n",
       "      <td>136</td>\n",
       "      <td>NaN</td>\n",
       "      <td>2019-05-15 21:18:15</td>\n",
       "      <td>NaN</td>\n",
       "    </tr>\n",
       "    <tr>\n",
       "      <th>1</th>\n",
       "      <td>26</td>\n",
       "      <td>5/15/2019 9:13:15 PM</td>\n",
       "      <td>146</td>\n",
       "      <td>NaN</td>\n",
       "      <td>2019-05-15 21:13:15</td>\n",
       "      <td>NaN</td>\n",
       "    </tr>\n",
       "  </tbody>\n",
       "</table>\n",
       "</div>"
      ],
      "text/plain": [
       "   PtID              DataDtTm  CGM DataDtTm_adjusted             DateTime  \\\n",
       "0    26  5/15/2019 9:18:15 PM  136               NaN  2019-05-15 21:18:15   \n",
       "1    26  5/15/2019 9:13:15 PM  146               NaN  2019-05-15 21:13:15   \n",
       "\n",
       "  DateTimeAdjusted  \n",
       "0              NaN  \n",
       "1              NaN  "
      ]
     },
     "metadata": {},
     "output_type": "display_data"
    },
    {
     "data": {
      "text/html": [
       "<div>\n",
       "<style scoped>\n",
       "    .dataframe tbody tr th:only-of-type {\n",
       "        vertical-align: middle;\n",
       "    }\n",
       "\n",
       "    .dataframe tbody tr th {\n",
       "        vertical-align: top;\n",
       "    }\n",
       "\n",
       "    .dataframe thead th {\n",
       "        text-align: right;\n",
       "    }\n",
       "</style>\n",
       "<table border=\"1\" class=\"dataframe\">\n",
       "  <thead>\n",
       "    <tr style=\"text-align: right;\">\n",
       "      <th></th>\n",
       "      <th>PtID</th>\n",
       "      <th>DataDtTm</th>\n",
       "      <th>CGM</th>\n",
       "      <th>DataDtTm_adjusted</th>\n",
       "      <th>DateTime</th>\n",
       "      <th>DateTimeAdjusted</th>\n",
       "    </tr>\n",
       "  </thead>\n",
       "  <tbody>\n",
       "    <tr>\n",
       "      <th>1121607</th>\n",
       "      <td>108</td>\n",
       "      <td>10/28/2018 11:14:27 AM</td>\n",
       "      <td>148</td>\n",
       "      <td>10/24/2018 11:14:27 AM</td>\n",
       "      <td>2018-10-28 11:14:27</td>\n",
       "      <td>2018-10-24 11:14:27</td>\n",
       "    </tr>\n",
       "    <tr>\n",
       "      <th>1121609</th>\n",
       "      <td>108</td>\n",
       "      <td>10/28/2018 11:09:27 AM</td>\n",
       "      <td>144</td>\n",
       "      <td>10/24/2018 11:09:27 AM</td>\n",
       "      <td>2018-10-28 11:09:27</td>\n",
       "      <td>2018-10-24 11:09:27</td>\n",
       "    </tr>\n",
       "  </tbody>\n",
       "</table>\n",
       "</div>"
      ],
      "text/plain": [
       "         PtID                DataDtTm  CGM       DataDtTm_adjusted  \\\n",
       "1121607   108  10/28/2018 11:14:27 AM  148  10/24/2018 11:14:27 AM   \n",
       "1121609   108  10/28/2018 11:09:27 AM  144  10/24/2018 11:09:27 AM   \n",
       "\n",
       "                    DateTime     DateTimeAdjusted  \n",
       "1121607  2018-10-28 11:14:27  2018-10-24 11:14:27  \n",
       "1121609  2018-10-28 11:09:27  2018-10-24 11:09:27  "
      ]
     },
     "metadata": {},
     "output_type": "display_data"
    },
    {
     "data": {
      "text/html": [
       "<div>\n",
       "<style scoped>\n",
       "    .dataframe tbody tr th:only-of-type {\n",
       "        vertical-align: middle;\n",
       "    }\n",
       "\n",
       "    .dataframe tbody tr th {\n",
       "        vertical-align: top;\n",
       "    }\n",
       "\n",
       "    .dataframe thead th {\n",
       "        text-align: right;\n",
       "    }\n",
       "</style>\n",
       "<table border=\"1\" class=\"dataframe\">\n",
       "  <thead>\n",
       "    <tr style=\"text-align: right;\">\n",
       "      <th></th>\n",
       "      <th>PtID</th>\n",
       "      <th>DataDtTm</th>\n",
       "      <th>BasalRt</th>\n",
       "      <th>BasalRtUnKnown</th>\n",
       "      <th>TempBasalAmt</th>\n",
       "      <th>TempBasalType</th>\n",
       "      <th>TempBasalDur</th>\n",
       "      <th>BolusType</th>\n",
       "      <th>BolusSelected</th>\n",
       "      <th>BolusDeliv</th>\n",
       "      <th>ExtendBolusDuration</th>\n",
       "      <th>PrimeVolumeDeliv</th>\n",
       "      <th>Suspend</th>\n",
       "      <th>Rewind</th>\n",
       "      <th>BolusSource</th>\n",
       "      <th>DataDtTm_adjusted</th>\n",
       "      <th>DateTime</th>\n",
       "      <th>DateTimeAdjusted</th>\n",
       "    </tr>\n",
       "  </thead>\n",
       "  <tbody>\n",
       "    <tr>\n",
       "      <th>0</th>\n",
       "      <td>26</td>\n",
       "      <td>5/15/2019 11:59:59 PM</td>\n",
       "      <td>NaN</td>\n",
       "      <td>False</td>\n",
       "      <td>NaN</td>\n",
       "      <td>NaN</td>\n",
       "      <td>NaN</td>\n",
       "      <td>NaN</td>\n",
       "      <td>NaN</td>\n",
       "      <td>NaN</td>\n",
       "      <td>NaN</td>\n",
       "      <td>NaN</td>\n",
       "      <td>NaN</td>\n",
       "      <td>NaN</td>\n",
       "      <td>NaN</td>\n",
       "      <td>NaN</td>\n",
       "      <td>2019-05-15 23:59:59</td>\n",
       "      <td>NaN</td>\n",
       "    </tr>\n",
       "    <tr>\n",
       "      <th>1</th>\n",
       "      <td>26</td>\n",
       "      <td>5/15/2019 11:58:26 PM</td>\n",
       "      <td>NaN</td>\n",
       "      <td>False</td>\n",
       "      <td>NaN</td>\n",
       "      <td>NaN</td>\n",
       "      <td>NaN</td>\n",
       "      <td>Normal</td>\n",
       "      <td>0.025</td>\n",
       "      <td>0.025</td>\n",
       "      <td>NaN</td>\n",
       "      <td>NaN</td>\n",
       "      <td>NaN</td>\n",
       "      <td>NaN</td>\n",
       "      <td>CL_MICRO_BOLUS</td>\n",
       "      <td>NaN</td>\n",
       "      <td>2019-05-15 23:58:26</td>\n",
       "      <td>NaN</td>\n",
       "    </tr>\n",
       "  </tbody>\n",
       "</table>\n",
       "</div>"
      ],
      "text/plain": [
       "   PtID               DataDtTm  BasalRt  BasalRtUnKnown  TempBasalAmt  \\\n",
       "0    26  5/15/2019 11:59:59 PM      NaN           False           NaN   \n",
       "1    26  5/15/2019 11:58:26 PM      NaN           False           NaN   \n",
       "\n",
       "  TempBasalType TempBasalDur BolusType  BolusSelected  BolusDeliv  \\\n",
       "0           NaN          NaN       NaN            NaN         NaN   \n",
       "1           NaN          NaN    Normal          0.025       0.025   \n",
       "\n",
       "  ExtendBolusDuration  PrimeVolumeDeliv Suspend Rewind     BolusSource  \\\n",
       "0                 NaN               NaN     NaN    NaN             NaN   \n",
       "1                 NaN               NaN     NaN    NaN  CL_MICRO_BOLUS   \n",
       "\n",
       "   DataDtTm_adjusted             DateTime  DateTimeAdjusted  \n",
       "0                NaN  2019-05-15 23:59:59               NaN  \n",
       "1                NaN  2019-05-15 23:58:26               NaN  "
      ]
     },
     "metadata": {},
     "output_type": "display_data"
    }
   ],
   "source": [
    "def parse_flair_dates(dates):\n",
    "    \"\"\"Parse date strings separately for those with/without time component, interpret those without as midnight (00AM)\n",
    "        Args:\n",
    "            df (pandas DataFrame): data frame holding data\n",
    "            date_column (string): column name that holds date time strings to be used for parsing\n",
    "\n",
    "        Returns:\n",
    "            pandas series: with parsed dates\n",
    "        \"\"\"\n",
    "    #make sure to only parse dates if the value is not null\n",
    "    only_date = dates.apply(len) <=10\n",
    "    dates_copy = dates.copy()\n",
    "    dates_copy.loc[only_date] = pd.to_datetime(dates.loc[only_date], format='%m/%d/%Y')\n",
    "    dates_copy.loc[~only_date] = pd.to_datetime(dates.loc[~only_date], format='%m/%d/%Y %I:%M:%S %p')\n",
    "    return dates_copy\n",
    "\n",
    "def load_data(file_name, columns):\n",
    "    path = os.path.join(current_dir, '..', '..', 'data/raw', 'FLAIRPublicDataSet', 'Data Tables', file_name)\n",
    "    df = pd.read_csv(path, sep=\"|\", low_memory=False, usecols=columns)\n",
    "    df['DateTime'] = df.loc[df.DataDtTm.notna(),'DataDtTm'].transform(parse_flair_dates)\n",
    "    df['DateTimeAdjusted'] = df.loc[df.DataDtTm_adjusted.notna(),'DataDtTm_adjusted'].transform(parse_flair_dates)\n",
    "    return df\n",
    "\n",
    "df_cgm = load_data('FLAIRDeviceCGM.txt', columns=['PtID', 'DataDtTm', 'DataDtTm_adjusted', 'CGM'])\n",
    "df_insulin = load_data('FLAIRDevicePump.txt', columns=['PtID', 'DataDtTm', 'DataDtTm_adjusted', 'BasalRt', \n",
    "                                                       'TempBasalAmt','TempBasalType', 'TempBasalDur','BolusType', \n",
    "                                                       'BolusSource', 'BolusDeliv', 'BolusSelected', 'ExtendBolusDuration', 'BasalRtUnKnown', \n",
    "                                                       'Suspend','PrimeVolumeDeliv','Rewind'])\n",
    "display(df_cgm.head(2))\n",
    "display(df_cgm.loc[df_cgm.DataDtTm_adjusted.notna()].head(2))\n",
    "display(df_insulin.head(2))"
   ]
  },
  {
   "cell_type": "markdown",
   "id": "3bdb0170",
   "metadata": {},
   "source": [
    "## Data Description"
   ]
  },
  {
   "cell_type": "code",
   "execution_count": 69,
   "id": "6e5e0e13",
   "metadata": {},
   "outputs": [
    {
     "name": "stdout",
     "output_type": "stream",
     "text": [
      "There are 115 unique patient ids in insulin data and 113 in cgm data\n",
      "CGM counts:\n",
      "PtID                 5508985\n",
      "DataDtTm             5508985\n",
      "CGM                  5508985\n",
      "DataDtTm_adjusted      10655\n",
      "DateTime             5508985\n",
      "DateTimeAdjusted       10655\n",
      "dtype: int64 \n",
      "\n",
      "Insulin counts:\n",
      "PtID                   5100621\n",
      "DataDtTm               5100621\n",
      "BasalRt                  60668\n",
      "BasalRtUnKnown         5100621\n",
      "TempBasalAmt              1446\n",
      "TempBasalType             1446\n",
      "TempBasalDur              1446\n",
      "BolusType              3946622\n",
      "BolusSelected          3940693\n",
      "BolusDeliv             3555501\n",
      "ExtendBolusDuration        445\n",
      "PrimeVolumeDeliv         20363\n",
      "Suspend                  72424\n",
      "Rewind                    8938\n",
      "BolusSource            3940446\n",
      "DataDtTm_adjusted            0\n",
      "DateTime               5100621\n",
      "DateTimeAdjusted             0\n",
      "AbsoluteBasal            60677\n",
      "dtype: int64 \n",
      "\n"
     ]
    }
   ],
   "source": [
    "print(f\"There are {len(df_insulin.PtID.unique())} unique patient ids in insulin data and {len(df_cgm.PtID.unique())} in cgm data\")\n",
    "\n",
    "print(\"CGM counts:\")\n",
    "print(df_cgm.count(),\"\\n\");\n",
    "\n",
    "print(\"Insulin counts:\")\n",
    "print(df_insulin.count(),\"\\n\")"
   ]
  },
  {
   "cell_type": "markdown",
   "id": "419833e4",
   "metadata": {},
   "source": [
    "<div class=\"alert alert-block alert-warning\"> <b>Temp Basal:</b> We have 1446 temp basal values. only 9 of these are set by insulin rate, the others are in percent.</div>\n",
    "\n",
    "<div class=\"alert alert-block alert-warning\"> <b>Suspend:</b> We have 72424 suspend events. These need to be factored in.</div>\n",
    "\n",
    "<div class=\"alert alert-block alert-warning\"> <b>Date Adjustments:</b> There are many adjusted datetime events for CGM (none for Insulin). We need to understand how to factor them in./</div>"
   ]
  },
  {
   "cell_type": "markdown",
   "id": "b7259570",
   "metadata": {},
   "source": [
    "# Adjusted DateTimes\n",
    "We see that there are ~10k adjusted datetimes (~0.2% of the data).  Let's investigate."
   ]
  },
  {
   "cell_type": "code",
   "execution_count": 4,
   "id": "98e7adc6",
   "metadata": {},
   "outputs": [
    {
     "name": "stdout",
     "output_type": "stream",
     "text": [
      "Adjustment intervals and counts:\n"
     ]
    },
    {
     "data": {
      "text/plain": [
       "-6 days     5542\n",
       "4 days      3862\n",
       "-89 days    1251\n",
       "dtype: int64"
      ]
     },
     "metadata": {},
     "output_type": "display_data"
    },
    {
     "name": "stdout",
     "output_type": "stream",
     "text": [
      "3 users have adjusted datetimes: [108  40  98]\n"
     ]
    }
   ],
   "source": [
    "subFrame = df_cgm.loc[df_cgm.DateTimeAdjusted.notnull()]\n",
    "adjustmentInterval = subFrame.DateTime - subFrame.DateTimeAdjusted\n",
    "print(\"Adjustment intervals and counts:\")\n",
    "display(adjustmentInterval.value_counts())\n",
    "\n",
    "#how many users are there with adjusted datetimes?\n",
    "print(f\"{len(subFrame.PtID.unique())} users have adjusted datetimes: {subFrame.PtID.unique()}\")\n",
    "del subFrame, adjustmentInterval"
   ]
  },
  {
   "cell_type": "markdown",
   "id": "5f33a822",
   "metadata": {},
   "source": [
    "<div class=\"alert alert-block alert-info\"> Only 3 users have time adjusted data. The time shifts are significant (many days).</div>"
   ]
  },
  {
   "cell_type": "markdown",
   "id": "ef5355ca",
   "metadata": {},
   "source": [
    "Let's investigate these:"
   ]
  },
  {
   "cell_type": "code",
   "execution_count": 5,
   "id": "b7adad8c",
   "metadata": {},
   "outputs": [
    {
     "data": {
      "image/png": "[encoded data removed]",
      "text/plain": [
       "<Figure size 2000x250 with 9 Axes>"
      ]
     },
     "metadata": {},
     "output_type": "display_data"
    }
   ],
   "source": [
    "#Plot the cgm data for the three patients\n",
    "f,AX = plt.subplots(3,3,figsize=(20,2.5),sharex='col')\n",
    "for i_patient, patient_id in enumerate(df_cgm.loc[df_cgm.DateTimeAdjusted.notnull()].PtID.unique()):\n",
    "    temp = df_cgm.loc[df_cgm.PtID == patient_id]\n",
    "    temp.loc[temp.DateTimeAdjusted.isnull()].plot.scatter(x='DateTime', y='CGM',s=1, marker='.',ax=AX[0,i_patient],color='gray')\n",
    "    temp.loc[temp.DateTimeAdjusted.notnull()].plot.scatter(x='DateTime', y='CGM',s=1, marker='.',ax=AX[1,i_patient],color='blue')\n",
    "    temp.loc[temp.DateTimeAdjusted.notnull()].plot.scatter(x='DateTimeAdjusted', y='CGM',s=1, marker='.',ax=AX[2,i_patient],color='red')\n",
    "    AX[0][i_patient].set_title(\"PtID: \"+str(patient_id)); \n",
    "    AX[2][i_patient].set_xlabel(''); \n",
    "    "
   ]
  },
  {
   "cell_type": "markdown",
   "id": "04cd4600",
   "metadata": {},
   "source": [
    "<div class=\"alert alert-block alert-info\"> For the same time, there are rows with and without adjusted times. This means that the adjusted times overlap other rows and the adjusted times move the data in the right spot. Let's check on this.</div>"
   ]
  },
  {
   "cell_type": "markdown",
   "id": "ef5dd405",
   "metadata": {},
   "source": [
    "Let's check if the adjudted cgm traces make sense"
   ]
  },
  {
   "cell_type": "code",
   "execution_count": 6,
   "id": "c13f13c3",
   "metadata": {},
   "outputs": [
    {
     "data": {
      "image/png": "[encoded data removed]",
      "text/plain": [
       "<Figure size 2000x200 with 3 Axes>"
      ]
     },
     "metadata": {},
     "output_type": "display_data"
    }
   ],
   "source": [
    "f,AX = plt.subplots(1,3,figsize=(20,2),sharex='col')\n",
    "for i_patient, patient_id in enumerate(df_cgm.loc[df_cgm.DateTimeAdjusted.notnull()].PtID.unique()):\n",
    "    temp = df_cgm.loc[df_cgm.PtID == patient_id]    \n",
    "    \n",
    "    ax = AX[i_patient]\n",
    "    temp.loc[temp.DateTimeAdjusted.isnull()].plot.scatter(x='DateTime', y='CGM', s=2, marker='.', ax=ax, color='gray')\n",
    "    temp.loc[temp.DateTimeAdjusted.notnull()].plot.scatter(x='DateTimeAdjusted', y='CGM', s=1, marker='.', ax=ax, color='red')\n",
    "    \n",
    "    #zoom in around adjustement datetime\n",
    "    maxDate = temp.loc[temp.DateTimeAdjusted.notnull()].DateTimeAdjusted.max()\n",
    "    ax.set_xlim((maxDate-pd.Timedelta(days=1),maxDate+pd.Timedelta(days=1)))\n",
    "    ax.set_title(\"PtID: \"+str(patient_id))\n",
    "    ax.set_xlabel(None)"
   ]
  },
  {
   "cell_type": "markdown",
   "id": "4e4a33bc-ad93-4908-84f8-b1b32e8b08a8",
   "metadata": {},
   "source": [
    "As we can see, the time adjusted CGM data falls in place nicely.\n",
    "<div class=\"alert alert-block alert-warning\">\n",
    "<b>Date Adjustments:</b> We need to use the adjusted datetimes for cgm, when it exists.\n",
    "</div>"
   ]
  },
  {
   "attachments": {},
   "cell_type": "markdown",
   "id": "d00d16b0-8819-4621-8d08-e07aaf189481",
   "metadata": {},
   "source": [
    "# Understanding Basal Events\n",
    "According to Lane, 100% refers to the normal basal rate. Medtronic allows setting temp basal percentages from 0 (shut off) to 200% (twice the basal rate). These values are confirmed by the histogram of the data. This is confirmed by the *Medtronic Manual* [1]:\n",
    "\n",
    "**Temp basal rates:** \"The duration of the temp basal rate can range from 30 minutes to 24 hours. After the temp basal rate delivery is completed or canceled, the programmed basal pattern resumes. The temp basal rates and preset temp basal rates can be defined using either a **percentage** of the current basal pattern or by setting a *specific rate*, as described [...]\"\n",
    "\n",
    "**Percent:** \"Percent delivers a percentage of the basal rates programmed in the active basal pattern for the duration of the temp basal rate. The temp basal amount is rounded down to the next 0.025 units if the basal rate is set at less than 1 unit per hour, or to the next 0.05 units if the basal rate is set at more than 1 unit per hour. Temp basal rates can be set to deliver from *0% to 200%* of the scheduled basal rate. The *percentage used is based on the largest basal rate scheduled during the temp basal rate duration** and is **limited by the Max basal rate*.\"\n",
    "\n",
    "**Rate**: \"delivers a fixed basal insulin rate in *units per hour* for the duration of the temp basal rate. The amount set is *limited by the Max basal rate*\"\n",
    "\n",
    "\n",
    "[1] MiniMed-780G-system-user-guide-with-Guardian-4-sensor.pdf\n",
    "[2] user_guide_minimed_670g_pump-skompresowany.pdf"
   ]
  },
  {
   "cell_type": "markdown",
   "id": "75b1e469-7123-4533-937a-de676602d91e",
   "metadata": {},
   "source": [
    "<div class=\"alert alert-block alert-info\"> We now want to understand how temporary basal rates need to be processed. We don;t know if these are already reflected in the basal rates. We also want to confirm that the Rate and Percent values are Let's investigate.</div>\n"
   ]
  },
  {
   "cell_type": "markdown",
   "id": "8a67014a",
   "metadata": {},
   "source": [
    "Let's start by checking the event types"
   ]
  },
  {
   "cell_type": "code",
   "execution_count": 70,
   "id": "469fb93a",
   "metadata": {},
   "outputs": [
    {
     "name": "stdout",
     "output_type": "stream",
     "text": [
      "Temp basal types:"
     ]
    },
    {
     "data": {
      "text/plain": [
       "Percent    1437\n",
       "Rate          9\n",
       "Name: TempBasalType, dtype: int64"
      ]
     },
     "metadata": {},
     "output_type": "display_data"
    },
    {
     "name": "stdout",
     "output_type": "stream",
     "text": [
      "BasalRtUnKnown:\n",
      "There are 0 unknown basal rates, 115 patients are affected by this.\n"
     ]
    }
   ],
   "source": [
    "print(\"Temp basal types:\",end='')\n",
    "display(df_insulin.TempBasalType.value_counts())\n",
    "\n",
    "print(\"BasalRtUnKnown:\")\n",
    "print(f\"There are {df_insulin.BasalRtUnKnown.sum()} unknown basal rates, {len(df_insulin.PtID.unique())} patients are affected by this.\")"
   ]
  },
  {
   "cell_type": "markdown",
   "id": "78b4ea14",
   "metadata": {},
   "source": [
    "No unknown basals, good! Let's dig into Percent and Rate:"
   ]
  },
  {
   "cell_type": "code",
   "execution_count": 7,
   "id": "e4114e50-1a45-460b-a701-70266f36a1ed",
   "metadata": {
    "ExecuteTime": {
     "end_time": "2024-05-27T11:51:49.357080Z",
     "start_time": "2024-05-27T11:51:49.140930Z"
    }
   },
   "outputs": [
    {
     "data": {
      "text/html": [
       "<div>\n",
       "<style scoped>\n",
       "    .dataframe tbody tr th:only-of-type {\n",
       "        vertical-align: middle;\n",
       "    }\n",
       "\n",
       "    .dataframe tbody tr th {\n",
       "        vertical-align: top;\n",
       "    }\n",
       "\n",
       "    .dataframe thead th {\n",
       "        text-align: right;\n",
       "    }\n",
       "</style>\n",
       "<table border=\"1\" class=\"dataframe\">\n",
       "  <thead>\n",
       "    <tr style=\"text-align: right;\">\n",
       "      <th></th>\n",
       "      <th>DateTime</th>\n",
       "      <th>BasalRt</th>\n",
       "      <th>TempBasalAmt</th>\n",
       "      <th>TempBasalType</th>\n",
       "      <th>TempBasalDur</th>\n",
       "    </tr>\n",
       "  </thead>\n",
       "  <tbody>\n",
       "    <tr>\n",
       "      <th>16499</th>\n",
       "      <td>2019-03-11 12:46:39</td>\n",
       "      <td>NaN</td>\n",
       "      <td>100.0</td>\n",
       "      <td>Percent</td>\n",
       "      <td>0:00:00</td>\n",
       "    </tr>\n",
       "    <tr>\n",
       "      <th>29868</th>\n",
       "      <td>2019-03-10 23:59:21</td>\n",
       "      <td>NaN</td>\n",
       "      <td>50.0</td>\n",
       "      <td>Percent</td>\n",
       "      <td>12:00:00</td>\n",
       "    </tr>\n",
       "    <tr>\n",
       "      <th>29884</th>\n",
       "      <td>2019-03-10 15:43:56</td>\n",
       "      <td>NaN</td>\n",
       "      <td>0.0</td>\n",
       "      <td>Percent</td>\n",
       "      <td>8:15:00</td>\n",
       "    </tr>\n",
       "  </tbody>\n",
       "</table>\n",
       "</div>"
      ],
      "text/plain": [
       "                  DateTime  BasalRt  TempBasalAmt TempBasalType TempBasalDur\n",
       "16499  2019-03-11 12:46:39      NaN         100.0       Percent      0:00:00\n",
       "29868  2019-03-10 23:59:21      NaN          50.0       Percent     12:00:00\n",
       "29884  2019-03-10 15:43:56      NaN           0.0       Percent      8:15:00"
      ]
     },
     "metadata": {},
     "output_type": "display_data"
    },
    {
     "data": {
      "text/html": [
       "<div>\n",
       "<style scoped>\n",
       "    .dataframe tbody tr th:only-of-type {\n",
       "        vertical-align: middle;\n",
       "    }\n",
       "\n",
       "    .dataframe tbody tr th {\n",
       "        vertical-align: top;\n",
       "    }\n",
       "\n",
       "    .dataframe thead th {\n",
       "        text-align: right;\n",
       "    }\n",
       "</style>\n",
       "<table border=\"1\" class=\"dataframe\">\n",
       "  <thead>\n",
       "    <tr style=\"text-align: right;\">\n",
       "      <th></th>\n",
       "      <th>DateTime</th>\n",
       "      <th>BasalRt</th>\n",
       "      <th>TempBasalAmt</th>\n",
       "      <th>TempBasalType</th>\n",
       "      <th>TempBasalDur</th>\n",
       "    </tr>\n",
       "  </thead>\n",
       "  <tbody>\n",
       "    <tr>\n",
       "      <th>58519</th>\n",
       "      <td>2019-06-24 11:47:55</td>\n",
       "      <td>NaN</td>\n",
       "      <td>0.1</td>\n",
       "      <td>Rate</td>\n",
       "      <td>0:01:00</td>\n",
       "    </tr>\n",
       "    <tr>\n",
       "      <th>498999</th>\n",
       "      <td>2019-05-17 08:04:58</td>\n",
       "      <td>NaN</td>\n",
       "      <td>1.6</td>\n",
       "      <td>Rate</td>\n",
       "      <td>0:49:00</td>\n",
       "    </tr>\n",
       "    <tr>\n",
       "      <th>500045</th>\n",
       "      <td>2019-05-06 11:44:36</td>\n",
       "      <td>NaN</td>\n",
       "      <td>1.3</td>\n",
       "      <td>Rate</td>\n",
       "      <td>1:30:00</td>\n",
       "    </tr>\n",
       "  </tbody>\n",
       "</table>\n",
       "</div>"
      ],
      "text/plain": [
       "                   DateTime  BasalRt  TempBasalAmt TempBasalType TempBasalDur\n",
       "58519   2019-06-24 11:47:55      NaN           0.1          Rate      0:01:00\n",
       "498999  2019-05-17 08:04:58      NaN           1.6          Rate      0:49:00\n",
       "500045  2019-05-06 11:44:36      NaN           1.3          Rate      1:30:00"
      ]
     },
     "metadata": {},
     "output_type": "display_data"
    },
    {
     "name": "stdout",
     "output_type": "stream",
     "text": [
      "There are 1437 TempBasalType=Percent and 9 TempBasalType=Rate\n"
     ]
    },
    {
     "data": {
      "image/png": "[encoded data removed]",
      "text/plain": [
       "<Figure size 800x200 with 2 Axes>"
      ]
     },
     "metadata": {},
     "output_type": "display_data"
    }
   ],
   "source": [
    "display(df_insulin.loc[df_insulin.TempBasalType ==\"Percent\",['DateTime','BasalRt', 'TempBasalAmt','TempBasalType', 'TempBasalDur']].head(3))\n",
    "display(df_insulin.loc[df_insulin.TempBasalType ==\"Rate\",['DateTime','BasalRt', 'TempBasalAmt','TempBasalType', 'TempBasalDur']].head(3))\n",
    "\n",
    "fig, axs = plt.subplots(1,2, figsize=(8, 2))\n",
    "axs[0].hist(df_insulin.loc[df_insulin.TempBasalType ==\"Percent\",'TempBasalAmt'])\n",
    "axs[0].set_title('TempBasalType=Percent'); axs[0].set_xlabel('TempBasalAmt')\n",
    "axs[1].hist(df_insulin.loc[df_insulin.TempBasalType ==\"Rate\",'TempBasalAmt'])\n",
    "axs[1].set_title('TempBasalType=Rate'); axs[1].set_xlabel('TempBasalAmt')\n",
    "plt.tight_layout()\n",
    "\n",
    "numPercent = df_insulin.loc[df_insulin.TempBasalType ==\"Percent\"].shape[0]\n",
    "numRate = df_insulin.loc[df_insulin.TempBasalType == \"Rate\"].shape[0]\n",
    "print(f\"There are {numPercent} TempBasalType=Percent and {numRate} TempBasalType=Rate\")"
   ]
  },
  {
   "cell_type": "markdown",
   "id": "07773eb2-94ab-4534-94fa-2ca838b4c219",
   "metadata": {},
   "source": [
    "<div class=\"alert alert-block alert-info\"> We have no unknown basal rates.</div>\n",
    "\n",
    "<div class=\"alert alert-block alert-info\">TempBasalAmt contains a percentage value if TempBasalType=='Percent' or a rate U/h if TempBasalType=='Rate'. </div>\n",
    "\n",
    "<div class=\"alert alert-block alert-info\"> The maximum basal temp basal rate programmed using the \"Rate\" feature only reached 2U/h. While higher temp basal rates can be programmed, only 9 such event mean that this feature was only used by a few users.</div>\n",
    "\n",
    "<div class=\"alert alert-block alert-warning\">\n",
    "<b>Interpreting Temp Basal of 100 Percent:</b> The manual notices that *The percentage used is based on the largest basal rate scheduled during the temp basal rate duration*. So a value of 100% would change the basal rate to the highest standard basal rate, even if it occurs occurs within the duration of the temp basal rate.</div>"
   ]
  },
  {
   "cell_type": "markdown",
   "id": "c425b626-876b-4ba4-abe6-08db46ae3a9b",
   "metadata": {},
   "source": [
    "### Are temp basal rates reflected in the BasalRt?\n",
    "The TempBasalAmt tells us how much the standard rate is changed. It is unclear weather these changes are already reflected in the BasalRt. Do figure this out, we check what happens to BasalRt when somebody uses a fixed basal rate, or a basal rate that is set to zero or 0%."
   ]
  },
  {
   "cell_type": "code",
   "execution_count": 8,
   "id": "539fa1a4c061965",
   "metadata": {
    "ExecuteTime": {
     "end_time": "2024-05-27T13:15:09.053610Z",
     "start_time": "2024-05-27T13:15:08.852193Z"
    }
   },
   "outputs": [],
   "source": [
    "def parse_duration(duration_str):\n",
    "  hours, minutes, seconds = map(int, duration_str.split(\":\"))\n",
    "  return timedelta(hours=hours, minutes=minutes, seconds=seconds)\n",
    "\n",
    "def drawBasal(ax, datetimes, rates, color='lightblue'):\n",
    "    ax.stairs(rates[:-1],datetimes, label='basal rates',color=color,fill=True,alpha=1,edgecolor='blue')\n",
    "    #add stems for the rates without marker,\n",
    "    ax.stem(datetimes,rates,markerfmt=' ',basefmt=' ')\n",
    "def drawInsulinEvents(df, b_draw_boluses=True, b_draw_basal=True, b_draw_temp_basal=True):\n",
    "    f = plt.figure(figsize=(15,1.5))\n",
    "    ax = f.gca();\n",
    "    twinax=ax.twinx()\n",
    "    plt.title(f\"Patient {df.PtID.iloc[0]}\")\n",
    "\n",
    "    temp = df.copy()\n",
    "    temp = temp.sort_values(\"DateTime\")\n",
    "    boluses = temp.dropna(subset=['BolusDeliv'],axis=0)\n",
    "    basalRates = temp.dropna(subset=['BasalRt'],axis=0)\n",
    "    tmpBasals = temp.dropna(subset=['TempBasalAmt'],axis=0)\n",
    "\n",
    "    #boluses\n",
    "    if (len(boluses) > 0) & b_draw_boluses:\n",
    "        ax.bar(boluses.DateTime, boluses.BolusDeliv, width=timedelta(minutes=15), label='boluses')\n",
    "        \n",
    "    #basal rates\n",
    "    if (len(basalRates) > 0) & b_draw_basal:\n",
    "        drawBasal(ax,basalRates.DateTime,basalRates.BasalRt)\n",
    "    \n",
    "    if (len(tmpBasals) > 0) & b_draw_temp_basal:    \n",
    "        colors = tmpBasals.apply(lambda x: 'yellow' if x.TempBasalType == 'Percent' else 'orange',axis=1)\n",
    "        heights = tmpBasals.apply(lambda x: x.TempBasalAmt if  x.TempBasalType == 'Rate' else 2,axis=1)\n",
    "        widths = tmpBasals.TempBasalDur.apply(parse_duration)\n",
    "        ax.bar(tmpBasals.DateTime, 10, color=colors, width=widths, align='edge', label='temp basal amount', alpha=0.2, edgecolor='black')\n",
    "        # add the temp basal amount as text above the bars\n",
    "        for i, row in tmpBasals.iterrows():\n",
    "            ax.text(row.DateTime+parse_duration(row.TempBasalDur)/2, 5, f\"{row.TempBasalAmt} {row.TempBasalType}\", fontsize=8,color='gray',rotation=90)\n",
    "        \n",
    "    \n",
    "    ax.set_ylim([0,10]);\n",
    "    ax.legend(loc='upper left')\n",
    "    twinax.set_ylim([0,250])\n",
    "    twinax.legend(loc=\"upper right\")\n",
    "    return ax\n",
    "\n",
    "def selectRegionAroundEvent(df, patient_id, date_time, hours):\n",
    "    sub_frame = df.loc[(df.PtID==patient_id) & (df.DateTime>date_time-timedelta(hours=hours)) & (df.DateTime<date_time+timedelta(hours=hours))]\n",
    "    return sub_frame"
   ]
  },
  {
   "cell_type": "code",
   "execution_count": 9,
   "id": "d733ba61",
   "metadata": {},
   "outputs": [
    {
     "name": "stderr",
     "output_type": "stream",
     "text": [
      "No handles with labels found to put in legend.\n"
     ]
    },
    {
     "data": {
      "text/html": [
       "<div>\n",
       "<style scoped>\n",
       "    .dataframe tbody tr th:only-of-type {\n",
       "        vertical-align: middle;\n",
       "    }\n",
       "\n",
       "    .dataframe tbody tr th {\n",
       "        vertical-align: top;\n",
       "    }\n",
       "\n",
       "    .dataframe thead th {\n",
       "        text-align: right;\n",
       "    }\n",
       "</style>\n",
       "<table border=\"1\" class=\"dataframe\">\n",
       "  <thead>\n",
       "    <tr style=\"text-align: right;\">\n",
       "      <th></th>\n",
       "      <th>DateTime</th>\n",
       "      <th>BasalRt</th>\n",
       "      <th>TempBasalAmt</th>\n",
       "      <th>TempBasalDur</th>\n",
       "      <th>TempBasalType</th>\n",
       "    </tr>\n",
       "  </thead>\n",
       "  <tbody>\n",
       "    <tr>\n",
       "      <th>4155927</th>\n",
       "      <td>2018-09-21 12:42:39</td>\n",
       "      <td>NaN</td>\n",
       "      <td>0.0</td>\n",
       "      <td>00:30:00</td>\n",
       "      <td>Percent</td>\n",
       "    </tr>\n",
       "    <tr>\n",
       "      <th>963186</th>\n",
       "      <td>2018-09-21 12:42:39</td>\n",
       "      <td>NaN</td>\n",
       "      <td>0.0</td>\n",
       "      <td>0:30:00</td>\n",
       "      <td>Percent</td>\n",
       "    </tr>\n",
       "    <tr>\n",
       "      <th>963135</th>\n",
       "      <td>2018-09-21 12:43:00</td>\n",
       "      <td>1.10</td>\n",
       "      <td>NaN</td>\n",
       "      <td>NaN</td>\n",
       "      <td>NaN</td>\n",
       "    </tr>\n",
       "    <tr>\n",
       "      <th>963131</th>\n",
       "      <td>2018-09-21 13:13:00</td>\n",
       "      <td>1.10</td>\n",
       "      <td>NaN</td>\n",
       "      <td>NaN</td>\n",
       "      <td>NaN</td>\n",
       "    </tr>\n",
       "    <tr>\n",
       "      <th>963125</th>\n",
       "      <td>2018-09-21 14:00:00</td>\n",
       "      <td>1.00</td>\n",
       "      <td>NaN</td>\n",
       "      <td>NaN</td>\n",
       "      <td>NaN</td>\n",
       "    </tr>\n",
       "    <tr>\n",
       "      <th>963059</th>\n",
       "      <td>2018-09-21 17:44:07</td>\n",
       "      <td>NaN</td>\n",
       "      <td>0.0</td>\n",
       "      <td>0:30:00</td>\n",
       "      <td>Percent</td>\n",
       "    </tr>\n",
       "    <tr>\n",
       "      <th>4155915</th>\n",
       "      <td>2018-09-21 17:44:07</td>\n",
       "      <td>NaN</td>\n",
       "      <td>0.0</td>\n",
       "      <td>00:30:00</td>\n",
       "      <td>Percent</td>\n",
       "    </tr>\n",
       "    <tr>\n",
       "      <th>963058</th>\n",
       "      <td>2018-09-21 17:45:00</td>\n",
       "      <td>1.00</td>\n",
       "      <td>NaN</td>\n",
       "      <td>NaN</td>\n",
       "      <td>NaN</td>\n",
       "    </tr>\n",
       "    <tr>\n",
       "      <th>963057</th>\n",
       "      <td>2018-09-21 18:15:00</td>\n",
       "      <td>1.00</td>\n",
       "      <td>NaN</td>\n",
       "      <td>NaN</td>\n",
       "      <td>NaN</td>\n",
       "    </tr>\n",
       "    <tr>\n",
       "      <th>963056</th>\n",
       "      <td>2018-09-21 18:30:50</td>\n",
       "      <td>NaN</td>\n",
       "      <td>0.0</td>\n",
       "      <td>0:30:00</td>\n",
       "      <td>Percent</td>\n",
       "    </tr>\n",
       "    <tr>\n",
       "      <th>4155914</th>\n",
       "      <td>2018-09-21 18:30:50</td>\n",
       "      <td>NaN</td>\n",
       "      <td>0.0</td>\n",
       "      <td>00:30:00</td>\n",
       "      <td>Percent</td>\n",
       "    </tr>\n",
       "    <tr>\n",
       "      <th>963055</th>\n",
       "      <td>2018-09-21 18:31:00</td>\n",
       "      <td>1.00</td>\n",
       "      <td>NaN</td>\n",
       "      <td>NaN</td>\n",
       "      <td>NaN</td>\n",
       "    </tr>\n",
       "    <tr>\n",
       "      <th>963054</th>\n",
       "      <td>2018-09-21 19:01:00</td>\n",
       "      <td>1.00</td>\n",
       "      <td>NaN</td>\n",
       "      <td>NaN</td>\n",
       "      <td>NaN</td>\n",
       "    </tr>\n",
       "    <tr>\n",
       "      <th>963053</th>\n",
       "      <td>2018-09-21 19:37:44</td>\n",
       "      <td>NaN</td>\n",
       "      <td>0.0</td>\n",
       "      <td>0:30:00</td>\n",
       "      <td>Percent</td>\n",
       "    </tr>\n",
       "    <tr>\n",
       "      <th>4155913</th>\n",
       "      <td>2018-09-21 19:37:44</td>\n",
       "      <td>NaN</td>\n",
       "      <td>0.0</td>\n",
       "      <td>00:30:00</td>\n",
       "      <td>Percent</td>\n",
       "    </tr>\n",
       "    <tr>\n",
       "      <th>963052</th>\n",
       "      <td>2018-09-21 19:38:00</td>\n",
       "      <td>1.00</td>\n",
       "      <td>NaN</td>\n",
       "      <td>NaN</td>\n",
       "      <td>NaN</td>\n",
       "    </tr>\n",
       "    <tr>\n",
       "      <th>963051</th>\n",
       "      <td>2018-09-21 20:00:00</td>\n",
       "      <td>0.90</td>\n",
       "      <td>NaN</td>\n",
       "      <td>NaN</td>\n",
       "      <td>NaN</td>\n",
       "    </tr>\n",
       "    <tr>\n",
       "      <th>963050</th>\n",
       "      <td>2018-09-21 20:08:00</td>\n",
       "      <td>0.90</td>\n",
       "      <td>NaN</td>\n",
       "      <td>NaN</td>\n",
       "      <td>NaN</td>\n",
       "    </tr>\n",
       "    <tr>\n",
       "      <th>963045</th>\n",
       "      <td>2018-09-22 00:00:00</td>\n",
       "      <td>0.85</td>\n",
       "      <td>NaN</td>\n",
       "      <td>NaN</td>\n",
       "      <td>NaN</td>\n",
       "    </tr>\n",
       "    <tr>\n",
       "      <th>963044</th>\n",
       "      <td>2018-09-22 00:00:31</td>\n",
       "      <td>NaN</td>\n",
       "      <td>0.0</td>\n",
       "      <td>0:30:00</td>\n",
       "      <td>Percent</td>\n",
       "    </tr>\n",
       "    <tr>\n",
       "      <th>4155910</th>\n",
       "      <td>2018-09-22 00:00:31</td>\n",
       "      <td>NaN</td>\n",
       "      <td>0.0</td>\n",
       "      <td>00:30:00</td>\n",
       "      <td>Percent</td>\n",
       "    </tr>\n",
       "    <tr>\n",
       "      <th>963043</th>\n",
       "      <td>2018-09-22 00:01:00</td>\n",
       "      <td>0.85</td>\n",
       "      <td>NaN</td>\n",
       "      <td>NaN</td>\n",
       "      <td>NaN</td>\n",
       "    </tr>\n",
       "  </tbody>\n",
       "</table>\n",
       "</div>"
      ],
      "text/plain": [
       "                    DateTime  BasalRt  TempBasalAmt TempBasalDur TempBasalType\n",
       "4155927  2018-09-21 12:42:39      NaN           0.0     00:30:00       Percent\n",
       "963186   2018-09-21 12:42:39      NaN           0.0      0:30:00       Percent\n",
       "963135   2018-09-21 12:43:00     1.10           NaN          NaN           NaN\n",
       "963131   2018-09-21 13:13:00     1.10           NaN          NaN           NaN\n",
       "963125   2018-09-21 14:00:00     1.00           NaN          NaN           NaN\n",
       "963059   2018-09-21 17:44:07      NaN           0.0      0:30:00       Percent\n",
       "4155915  2018-09-21 17:44:07      NaN           0.0     00:30:00       Percent\n",
       "963058   2018-09-21 17:45:00     1.00           NaN          NaN           NaN\n",
       "963057   2018-09-21 18:15:00     1.00           NaN          NaN           NaN\n",
       "963056   2018-09-21 18:30:50      NaN           0.0      0:30:00       Percent\n",
       "4155914  2018-09-21 18:30:50      NaN           0.0     00:30:00       Percent\n",
       "963055   2018-09-21 18:31:00     1.00           NaN          NaN           NaN\n",
       "963054   2018-09-21 19:01:00     1.00           NaN          NaN           NaN\n",
       "963053   2018-09-21 19:37:44      NaN           0.0      0:30:00       Percent\n",
       "4155913  2018-09-21 19:37:44      NaN           0.0     00:30:00       Percent\n",
       "963052   2018-09-21 19:38:00     1.00           NaN          NaN           NaN\n",
       "963051   2018-09-21 20:00:00     0.90           NaN          NaN           NaN\n",
       "963050   2018-09-21 20:08:00     0.90           NaN          NaN           NaN\n",
       "963045   2018-09-22 00:00:00     0.85           NaN          NaN           NaN\n",
       "963044   2018-09-22 00:00:31      NaN           0.0      0:30:00       Percent\n",
       "4155910  2018-09-22 00:00:31      NaN           0.0     00:30:00       Percent\n",
       "963043   2018-09-22 00:01:00     0.85           NaN          NaN           NaN"
      ]
     },
     "metadata": {},
     "output_type": "display_data"
    },
    {
     "data": {
      "image/png": "[encoded data removed]",
      "text/plain": [
       "<Figure size 1500x150 with 2 Axes>"
      ]
     },
     "metadata": {},
     "output_type": "display_data"
    }
   ],
   "source": [
    "#Example with Percent = 0\n",
    "#random_index = random.choice(df_insulin.loc[(df_insulin.TempBasalAmt==0 ) & (df_insulin.TempBasalType==\"Percent\")].index)\n",
    "random_index = 963056 #for reproducibility\n",
    "subFrame = selectRegionAroundEvent(df_insulin, df_insulin.loc[random_index,'PtID'], df_insulin.loc[random_index,'DateTime'], 6)\n",
    "drawInsulinEvents(subFrame, b_draw_boluses=False); \n",
    "plt.title(f\"{plt.gca().get_title()} around event {random_index}\")\n",
    "\n",
    "subFrame = selectRegionAroundEvent(df_insulin, df_insulin.loc[random_index,'PtID'], df_insulin.loc[random_index,'DateTime'], 6)\n",
    "subFrame = subFrame.dropna(subset=['TempBasalAmt', 'BasalRt', 'TempBasalAmt', 'TempBasalDur'], how='all')\n",
    "display(subFrame.loc[:,['DateTime', 'BasalRt', 'TempBasalAmt','TempBasalDur','TempBasalType']].sort_values('DateTime',ascending=True))"
   ]
  },
  {
   "cell_type": "code",
   "execution_count": 10,
   "id": "3ba5f0d9",
   "metadata": {},
   "outputs": [
    {
     "name": "stderr",
     "output_type": "stream",
     "text": [
      "No handles with labels found to put in legend.\n"
     ]
    },
    {
     "data": {
      "text/html": [
       "<div>\n",
       "<style scoped>\n",
       "    .dataframe tbody tr th:only-of-type {\n",
       "        vertical-align: middle;\n",
       "    }\n",
       "\n",
       "    .dataframe tbody tr th {\n",
       "        vertical-align: top;\n",
       "    }\n",
       "\n",
       "    .dataframe thead th {\n",
       "        text-align: right;\n",
       "    }\n",
       "</style>\n",
       "<table border=\"1\" class=\"dataframe\">\n",
       "  <thead>\n",
       "    <tr style=\"text-align: right;\">\n",
       "      <th></th>\n",
       "      <th>DateTime</th>\n",
       "      <th>BasalRt</th>\n",
       "      <th>TempBasalAmt</th>\n",
       "      <th>TempBasalDur</th>\n",
       "      <th>TempBasalType</th>\n",
       "    </tr>\n",
       "  </thead>\n",
       "  <tbody>\n",
       "    <tr>\n",
       "      <th>688215</th>\n",
       "      <td>2019-03-30 00:00:00</td>\n",
       "      <td>1.05</td>\n",
       "      <td>NaN</td>\n",
       "      <td>NaN</td>\n",
       "      <td>NaN</td>\n",
       "    </tr>\n",
       "    <tr>\n",
       "      <th>688128</th>\n",
       "      <td>2019-03-30 14:39:40</td>\n",
       "      <td>NaN</td>\n",
       "      <td>0.0</td>\n",
       "      <td>0:17:00</td>\n",
       "      <td>Rate</td>\n",
       "    </tr>\n",
       "    <tr>\n",
       "      <th>688126</th>\n",
       "      <td>2019-03-30 14:57:00</td>\n",
       "      <td>1.05</td>\n",
       "      <td>NaN</td>\n",
       "      <td>NaN</td>\n",
       "      <td>NaN</td>\n",
       "    </tr>\n",
       "    <tr>\n",
       "      <th>688047</th>\n",
       "      <td>2019-03-30 23:03:11</td>\n",
       "      <td>NaN</td>\n",
       "      <td>50.0</td>\n",
       "      <td>4:00:00</td>\n",
       "      <td>Percent</td>\n",
       "    </tr>\n",
       "    <tr>\n",
       "      <th>688046</th>\n",
       "      <td>2019-03-30 23:04:00</td>\n",
       "      <td>1.05</td>\n",
       "      <td>NaN</td>\n",
       "      <td>NaN</td>\n",
       "      <td>NaN</td>\n",
       "    </tr>\n",
       "    <tr>\n",
       "      <th>687993</th>\n",
       "      <td>2019-03-31 00:00:00</td>\n",
       "      <td>1.05</td>\n",
       "      <td>NaN</td>\n",
       "      <td>NaN</td>\n",
       "      <td>NaN</td>\n",
       "    </tr>\n",
       "    <tr>\n",
       "      <th>687992</th>\n",
       "      <td>2019-03-31 03:04:00</td>\n",
       "      <td>1.05</td>\n",
       "      <td>NaN</td>\n",
       "      <td>NaN</td>\n",
       "      <td>NaN</td>\n",
       "    </tr>\n",
       "  </tbody>\n",
       "</table>\n",
       "</div>"
      ],
      "text/plain": [
       "                   DateTime  BasalRt  TempBasalAmt TempBasalDur TempBasalType\n",
       "688215  2019-03-30 00:00:00     1.05           NaN          NaN           NaN\n",
       "688128  2019-03-30 14:39:40      NaN           0.0      0:17:00          Rate\n",
       "688126  2019-03-30 14:57:00     1.05           NaN          NaN           NaN\n",
       "688047  2019-03-30 23:03:11      NaN          50.0      4:00:00       Percent\n",
       "688046  2019-03-30 23:04:00     1.05           NaN          NaN           NaN\n",
       "687993  2019-03-31 00:00:00     1.05           NaN          NaN           NaN\n",
       "687992  2019-03-31 03:04:00     1.05           NaN          NaN           NaN"
      ]
     },
     "metadata": {},
     "output_type": "display_data"
    },
    {
     "data": {
      "image/png": "[encoded data removed]",
      "text/plain": [
       "<Figure size 1500x150 with 2 Axes>"
      ]
     },
     "metadata": {},
     "output_type": "display_data"
    }
   ],
   "source": [
    "#Example with Rate = 0 \n",
    "random_index = random.choice(df_insulin.loc[(df_insulin.TempBasalAmt==0 ) & (df_insulin.TempBasalType==\"Rate\")].index)\n",
    "subFrame = selectRegionAroundEvent(df_insulin, df_insulin.loc[random_index,'PtID'], df_insulin.loc[random_index,'DateTime'], 24)\n",
    "drawInsulinEvents(subFrame, b_draw_boluses=False); \n",
    "plt.title(f\"{plt.gca().get_title()} around event {random_index}\")\n",
    "\n",
    "subFrame = selectRegionAroundEvent(df_insulin, df_insulin.loc[random_index,'PtID'], df_insulin.loc[random_index,'DateTime'], 24)\n",
    "subFrame = subFrame.dropna(subset=['TempBasalAmt', 'BasalRt', 'TempBasalAmt', 'TempBasalDur'], how='all')\n",
    "display(subFrame.loc[:,['DateTime', 'BasalRt','TempBasalAmt','TempBasalDur','TempBasalType']].sort_values('DateTime',ascending=True))"
   ]
  },
  {
   "cell_type": "code",
   "execution_count": 11,
   "id": "669fb75d",
   "metadata": {},
   "outputs": [
    {
     "name": "stderr",
     "output_type": "stream",
     "text": [
      "No handles with labels found to put in legend.\n"
     ]
    },
    {
     "data": {
      "text/html": [
       "<div>\n",
       "<style scoped>\n",
       "    .dataframe tbody tr th:only-of-type {\n",
       "        vertical-align: middle;\n",
       "    }\n",
       "\n",
       "    .dataframe tbody tr th {\n",
       "        vertical-align: top;\n",
       "    }\n",
       "\n",
       "    .dataframe thead th {\n",
       "        text-align: right;\n",
       "    }\n",
       "</style>\n",
       "<table border=\"1\" class=\"dataframe\">\n",
       "  <thead>\n",
       "    <tr style=\"text-align: right;\">\n",
       "      <th></th>\n",
       "      <th>DateTime</th>\n",
       "      <th>BasalRt</th>\n",
       "      <th>TempBasalAmt</th>\n",
       "      <th>TempBasalDur</th>\n",
       "      <th>TempBasalType</th>\n",
       "    </tr>\n",
       "  </thead>\n",
       "  <tbody>\n",
       "    <tr>\n",
       "      <th>825059</th>\n",
       "      <td>2019-04-07 00:00:00</td>\n",
       "      <td>1.0</td>\n",
       "      <td>NaN</td>\n",
       "      <td>NaN</td>\n",
       "      <td>NaN</td>\n",
       "    </tr>\n",
       "    <tr>\n",
       "      <th>824993</th>\n",
       "      <td>2019-04-07 02:00:00</td>\n",
       "      <td>1.1</td>\n",
       "      <td>NaN</td>\n",
       "      <td>NaN</td>\n",
       "      <td>NaN</td>\n",
       "    </tr>\n",
       "    <tr>\n",
       "      <th>824926</th>\n",
       "      <td>2019-04-07 03:23:36</td>\n",
       "      <td>NaN</td>\n",
       "      <td>150.0</td>\n",
       "      <td>0:30:00</td>\n",
       "      <td>Percent</td>\n",
       "    </tr>\n",
       "    <tr>\n",
       "      <th>824925</th>\n",
       "      <td>2019-04-07 03:24:00</td>\n",
       "      <td>1.1</td>\n",
       "      <td>NaN</td>\n",
       "      <td>NaN</td>\n",
       "      <td>NaN</td>\n",
       "    </tr>\n",
       "    <tr>\n",
       "      <th>824922</th>\n",
       "      <td>2019-04-07 03:54:00</td>\n",
       "      <td>1.1</td>\n",
       "      <td>NaN</td>\n",
       "      <td>NaN</td>\n",
       "      <td>NaN</td>\n",
       "    </tr>\n",
       "    <tr>\n",
       "      <th>824916</th>\n",
       "      <td>2019-04-07 08:00:00</td>\n",
       "      <td>1.5</td>\n",
       "      <td>NaN</td>\n",
       "      <td>NaN</td>\n",
       "      <td>NaN</td>\n",
       "    </tr>\n",
       "    <tr>\n",
       "      <th>824850</th>\n",
       "      <td>2019-04-07 09:38:48</td>\n",
       "      <td>NaN</td>\n",
       "      <td>130.0</td>\n",
       "      <td>0:26:00</td>\n",
       "      <td>Percent</td>\n",
       "    </tr>\n",
       "    <tr>\n",
       "      <th>824849</th>\n",
       "      <td>2019-04-07 09:39:00</td>\n",
       "      <td>1.5</td>\n",
       "      <td>NaN</td>\n",
       "      <td>NaN</td>\n",
       "      <td>NaN</td>\n",
       "    </tr>\n",
       "    <tr>\n",
       "      <th>824843</th>\n",
       "      <td>2019-04-07 10:00:00</td>\n",
       "      <td>1.4</td>\n",
       "      <td>NaN</td>\n",
       "      <td>NaN</td>\n",
       "      <td>NaN</td>\n",
       "    </tr>\n",
       "    <tr>\n",
       "      <th>824842</th>\n",
       "      <td>2019-04-07 10:05:00</td>\n",
       "      <td>1.4</td>\n",
       "      <td>NaN</td>\n",
       "      <td>NaN</td>\n",
       "      <td>NaN</td>\n",
       "    </tr>\n",
       "    <tr>\n",
       "      <th>824706</th>\n",
       "      <td>2019-04-07 16:00:00</td>\n",
       "      <td>1.5</td>\n",
       "      <td>NaN</td>\n",
       "      <td>NaN</td>\n",
       "      <td>NaN</td>\n",
       "    </tr>\n",
       "    <tr>\n",
       "      <th>824705</th>\n",
       "      <td>2019-04-07 16:31:37</td>\n",
       "      <td>NaN</td>\n",
       "      <td>135.0</td>\n",
       "      <td>0:45:00</td>\n",
       "      <td>Percent</td>\n",
       "    </tr>\n",
       "    <tr>\n",
       "      <th>824704</th>\n",
       "      <td>2019-04-07 16:32:00</td>\n",
       "      <td>1.5</td>\n",
       "      <td>NaN</td>\n",
       "      <td>NaN</td>\n",
       "      <td>NaN</td>\n",
       "    </tr>\n",
       "    <tr>\n",
       "      <th>824692</th>\n",
       "      <td>2019-04-07 17:17:00</td>\n",
       "      <td>1.5</td>\n",
       "      <td>NaN</td>\n",
       "      <td>NaN</td>\n",
       "      <td>NaN</td>\n",
       "    </tr>\n",
       "    <tr>\n",
       "      <th>824691</th>\n",
       "      <td>2019-04-07 17:30:44</td>\n",
       "      <td>NaN</td>\n",
       "      <td>2.0</td>\n",
       "      <td>0:45:00</td>\n",
       "      <td>Rate</td>\n",
       "    </tr>\n",
       "    <tr>\n",
       "      <th>824626</th>\n",
       "      <td>2019-04-07 18:16:00</td>\n",
       "      <td>1.5</td>\n",
       "      <td>NaN</td>\n",
       "      <td>NaN</td>\n",
       "      <td>NaN</td>\n",
       "    </tr>\n",
       "    <tr>\n",
       "      <th>824547</th>\n",
       "      <td>2019-04-08 00:00:00</td>\n",
       "      <td>1.0</td>\n",
       "      <td>NaN</td>\n",
       "      <td>NaN</td>\n",
       "      <td>NaN</td>\n",
       "    </tr>\n",
       "    <tr>\n",
       "      <th>824539</th>\n",
       "      <td>2019-04-08 02:00:00</td>\n",
       "      <td>1.1</td>\n",
       "      <td>NaN</td>\n",
       "      <td>NaN</td>\n",
       "      <td>NaN</td>\n",
       "    </tr>\n",
       "    <tr>\n",
       "      <th>824529</th>\n",
       "      <td>2019-04-08 08:00:00</td>\n",
       "      <td>1.5</td>\n",
       "      <td>NaN</td>\n",
       "      <td>NaN</td>\n",
       "      <td>NaN</td>\n",
       "    </tr>\n",
       "    <tr>\n",
       "      <th>824472</th>\n",
       "      <td>2019-04-08 10:00:00</td>\n",
       "      <td>1.4</td>\n",
       "      <td>NaN</td>\n",
       "      <td>NaN</td>\n",
       "      <td>NaN</td>\n",
       "    </tr>\n",
       "    <tr>\n",
       "      <th>824403</th>\n",
       "      <td>2019-04-08 11:39:00</td>\n",
       "      <td>NaN</td>\n",
       "      <td>145.0</td>\n",
       "      <td>0:45:00</td>\n",
       "      <td>Percent</td>\n",
       "    </tr>\n",
       "    <tr>\n",
       "      <th>824402</th>\n",
       "      <td>2019-04-08 11:40:00</td>\n",
       "      <td>1.4</td>\n",
       "      <td>NaN</td>\n",
       "      <td>NaN</td>\n",
       "      <td>NaN</td>\n",
       "    </tr>\n",
       "    <tr>\n",
       "      <th>824391</th>\n",
       "      <td>2019-04-08 12:25:00</td>\n",
       "      <td>1.4</td>\n",
       "      <td>NaN</td>\n",
       "      <td>NaN</td>\n",
       "      <td>NaN</td>\n",
       "    </tr>\n",
       "    <tr>\n",
       "      <th>824322</th>\n",
       "      <td>2019-04-08 15:42:42</td>\n",
       "      <td>NaN</td>\n",
       "      <td>130.0</td>\n",
       "      <td>0:45:00</td>\n",
       "      <td>Percent</td>\n",
       "    </tr>\n",
       "    <tr>\n",
       "      <th>824321</th>\n",
       "      <td>2019-04-08 15:43:00</td>\n",
       "      <td>1.4</td>\n",
       "      <td>NaN</td>\n",
       "      <td>NaN</td>\n",
       "      <td>NaN</td>\n",
       "    </tr>\n",
       "    <tr>\n",
       "      <th>824318</th>\n",
       "      <td>2019-04-08 16:00:00</td>\n",
       "      <td>1.5</td>\n",
       "      <td>NaN</td>\n",
       "      <td>NaN</td>\n",
       "      <td>NaN</td>\n",
       "    </tr>\n",
       "    <tr>\n",
       "      <th>824317</th>\n",
       "      <td>2019-04-08 16:28:00</td>\n",
       "      <td>1.5</td>\n",
       "      <td>NaN</td>\n",
       "      <td>NaN</td>\n",
       "      <td>NaN</td>\n",
       "    </tr>\n",
       "  </tbody>\n",
       "</table>\n",
       "</div>"
      ],
      "text/plain": [
       "                   DateTime  BasalRt  TempBasalAmt TempBasalDur TempBasalType\n",
       "825059  2019-04-07 00:00:00      1.0           NaN          NaN           NaN\n",
       "824993  2019-04-07 02:00:00      1.1           NaN          NaN           NaN\n",
       "824926  2019-04-07 03:23:36      NaN         150.0      0:30:00       Percent\n",
       "824925  2019-04-07 03:24:00      1.1           NaN          NaN           NaN\n",
       "824922  2019-04-07 03:54:00      1.1           NaN          NaN           NaN\n",
       "824916  2019-04-07 08:00:00      1.5           NaN          NaN           NaN\n",
       "824850  2019-04-07 09:38:48      NaN         130.0      0:26:00       Percent\n",
       "824849  2019-04-07 09:39:00      1.5           NaN          NaN           NaN\n",
       "824843  2019-04-07 10:00:00      1.4           NaN          NaN           NaN\n",
       "824842  2019-04-07 10:05:00      1.4           NaN          NaN           NaN\n",
       "824706  2019-04-07 16:00:00      1.5           NaN          NaN           NaN\n",
       "824705  2019-04-07 16:31:37      NaN         135.0      0:45:00       Percent\n",
       "824704  2019-04-07 16:32:00      1.5           NaN          NaN           NaN\n",
       "824692  2019-04-07 17:17:00      1.5           NaN          NaN           NaN\n",
       "824691  2019-04-07 17:30:44      NaN           2.0      0:45:00          Rate\n",
       "824626  2019-04-07 18:16:00      1.5           NaN          NaN           NaN\n",
       "824547  2019-04-08 00:00:00      1.0           NaN          NaN           NaN\n",
       "824539  2019-04-08 02:00:00      1.1           NaN          NaN           NaN\n",
       "824529  2019-04-08 08:00:00      1.5           NaN          NaN           NaN\n",
       "824472  2019-04-08 10:00:00      1.4           NaN          NaN           NaN\n",
       "824403  2019-04-08 11:39:00      NaN         145.0      0:45:00       Percent\n",
       "824402  2019-04-08 11:40:00      1.4           NaN          NaN           NaN\n",
       "824391  2019-04-08 12:25:00      1.4           NaN          NaN           NaN\n",
       "824322  2019-04-08 15:42:42      NaN         130.0      0:45:00       Percent\n",
       "824321  2019-04-08 15:43:00      1.4           NaN          NaN           NaN\n",
       "824318  2019-04-08 16:00:00      1.5           NaN          NaN           NaN\n",
       "824317  2019-04-08 16:28:00      1.5           NaN          NaN           NaN"
      ]
     },
     "metadata": {},
     "output_type": "display_data"
    },
    {
     "data": {
      "image/png": "[encoded data removed]",
      "text/plain": [
       "<Figure size 1500x150 with 2 Axes>"
      ]
     },
     "metadata": {},
     "output_type": "display_data"
    }
   ],
   "source": [
    "#Example with Rate/Percent = >0\n",
    "random_index = 824691 #for reproducibility\n",
    "subFrame = selectRegionAroundEvent(df_insulin, df_insulin.loc[random_index,'PtID'], df_insulin.loc[random_index,'DateTime'], 24)\n",
    "drawInsulinEvents(subFrame, b_draw_boluses=False); \n",
    "plt.title(f\"{plt.gca().get_title()} around event {random_index}\")\n",
    "subFrame = selectRegionAroundEvent(df_insulin, df_insulin.loc[random_index,'PtID'], df_insulin.loc[random_index,'DateTime'], 24)\n",
    "subFrame = subFrame.dropna(subset=['TempBasalAmt', 'BasalRt', 'TempBasalAmt', 'TempBasalDur'], how='all')\n",
    "display(subFrame.loc[:,['DateTime', 'BasalRt','TempBasalAmt','TempBasalDur','TempBasalType']].sort_values('DateTime',ascending=True))\n",
    "\n",
    "del random_index, subFrame"
   ]
  },
  {
   "cell_type": "markdown",
   "id": "25ed17d565912283",
   "metadata": {},
   "source": [
    "**For Percent events:**\n",
    "* Temp basal events are *sometimes* reported twice (at least in this example). The duration format differs with leading 0 or two leading zeros for the hour (e.g. 0:30:00 vs. 00:30:00)\n",
    "* When the temp basal starts and stops, BasalRt events are reported (~ one minute after) \n",
    "* However, the temp basal events are sometimes reported prior, sometimes after the BasalRt events\n",
    "* During temp basal duration BasalRt events are still being reported\n",
    "\n",
    "**For Rate Events:** The reporting for \"Rate\" events is slightly different. Temp basal rate is  \n",
    " * Basalrate is **not** reported shortly after the temp basal starts\n"
   ]
  },
  {
   "cell_type": "markdown",
   "id": "bfc57b11-24fe-40c2-9cea-54d79afd9e9c",
   "metadata": {},
   "source": [
    "\n",
    "## What we learned about basal rates\n",
    "* Standard basal rates do not reflect temporary basal rate changes\n",
    "* Temporary basal rates are either given as Percent (of the normal basal) or as Rate (replacing standard basal)\n",
    "* During temp basal rates are active, Standard BasalRt events can change and are reported\n",
    "\n",
    "**Percent**:\n",
    "\n",
    "* Standard Basal rates are reported shortly after temp basal start and stop\n",
    "* Temporary Basal Percent rates are reported **twice**, with the same timestamp but the duration format differs with leading 0 or without leading zeros for the hour (e.g. 00:15:00) vs.(0:15:00) \n",
    "\n",
    "**Rate:**\n",
    "* There are only 9 cases where temporary basal is \"Rate\", in these cases, standard basal rate is not reported shortly after the temp basal rate *starts*\n",
    "3. Temporary Basal Percent rates are reported **once**, without leading 0 for duration hour (0:15:00) \n",
    "\n",
    "**Takeaway:** \n",
    "\n",
    "To reconstruct true basal rates, we need to consider the TempBasalAmt and TempBasalType. We can use the BasalRt events as a basis and apply the TempBasalAmt for the duration of the TempBasalDur. Depending on the value of the TempBasalType, we either need to multiply the BasalRt by the TempBasalAmt (when TempBasalType is \"Percent\") or we can directly set the BasalRt to the TempBasalAmt (when TempBasalType is \"rate\"). \n",
    "\n",
    "To create the correct event history, we take advantage of the fact that basal rates are reported shortly after a Percent rate is set. Here, we simply multiply all basal rates within the temp basal duration period. After the temp basal duration, the standard basal rate is reported and automatically takes over. In the \"Rate\" case, we know that the standard basal rate is not reported shortly after the temp basal starts, so we need to treat the event as a new basal rate by copying the temp basal amount. While the temp basal Rate is set, standard basal rate changes should be ignored, we do this by setting all basal rates within the active duration to NaN (not 0!). As before, we take advantage of the fact that after the temp basal stops, a standard basal event is reported and automtaically takes over. \n",
    "    \n",
    "<div class=\"alert alert-block alert-warning\">\n",
    "<b>Temp Basal Not Reflected in Basal Rate:</b> As we can see, the temporary Basal Events do not affect the basal rate. Therefore, we need to do post-processing to obtain the real basal rate\n",
    "</div>"
   ]
  },
  {
   "cell_type": "markdown",
   "id": "9c92a712-2238-4f03-8113-e76ddb5ba26b",
   "metadata": {},
   "source": [
    "## Reconstructing True Basal Rates"
   ]
  },
  {
   "cell_type": "code",
   "execution_count": 12,
   "id": "dd15dfc0-4f4a-4eb9-86a0-4cf964facbe4",
   "metadata": {
    "ExecuteTime": {
     "end_time": "2024-05-27T13:21:05.230284Z",
     "start_time": "2024-05-27T13:21:05.227473Z"
    }
   },
   "outputs": [],
   "source": [
    "import numpy as np\n",
    "from datetime import timedelta\n",
    "def calculate_absolute_basal(df):\n",
    "    absolute_basal = df.BasalRt.copy().rename('AbsoluteBasal') #start with the Standard Basal Rates\n",
    "    df_sub_temp_basals = df.loc[df.TempBasalAmt.notna()]\n",
    "    df_sub_basals = df.loc[df.BasalRt.notna()]\n",
    "\n",
    "    for index, row in df_sub_temp_basals.iterrows():\n",
    "        #get basal events within temp basal active duration\n",
    "        temp_basal_interval = pd.Interval(row.DateTime, row.DateTime + convert_duration_to_timedelta(row.TempBasalDur))\n",
    "        affected_basal_indexes = df_sub_basals.index[df_sub_basals.DateTime.apply(lambda x: x in temp_basal_interval)]\n",
    "        \n",
    "        #multiply if Percent\n",
    "        if row.TempBasalType == 'Percent':\n",
    "            absolute_basal.loc[affected_basal_indexes] = df_sub_basals.BasalRt.loc[affected_basal_indexes]*row.TempBasalAmt/100\n",
    "        #replace if Rate (set to NaN if Rate is set)\n",
    "        else:\n",
    "            absolute_basal.loc[index] = row.TempBasalAmt\n",
    "            absolute_basal[affected_basal_indexes] = np.NaN\n",
    "    return absolute_basal\n",
    "\n",
    "def convert_duration_to_timedelta(duration):\n",
    "    hours, minutes, seconds = map(int, duration.split(':'))\n",
    "    return timedelta(hours=hours, minutes=minutes, seconds=seconds)\n",
    "\n",
    "def drawAbsoluteBasalRates(datetimes, rate, ax):\n",
    "    i_sorted = np.argsort(datetimes)\n",
    "    ax.stairs(rate[i_sorted][:-1], datetimes[i_sorted],  hatch='//', label='true basal rate', edgecolor='black')\n"
   ]
  },
  {
   "cell_type": "code",
   "execution_count": 13,
   "id": "0f20be24-b08b-4777-ae15-8cf23e618f8f",
   "metadata": {
    "ExecuteTime": {
     "end_time": "2024-05-27T13:21:06.835106Z",
     "start_time": "2024-05-27T13:21:06.656762Z"
    }
   },
   "outputs": [
    {
     "name": "stderr",
     "output_type": "stream",
     "text": [
      "No handles with labels found to put in legend.\n",
      "No handles with labels found to put in legend.\n",
      "No handles with labels found to put in legend.\n"
     ]
    },
    {
     "data": {
      "image/png": "[encoded data removed]",
      "text/plain": [
       "<Figure size 1500x150 with 2 Axes>"
      ]
     },
     "metadata": {},
     "output_type": "display_data"
    },
    {
     "data": {
      "image/png": "[encoded data removed]",
      "text/plain": [
       "<Figure size 1500x150 with 2 Axes>"
      ]
     },
     "metadata": {},
     "output_type": "display_data"
    },
    {
     "data": {
      "image/png": "[encoded data removed]",
      "text/plain": [
       "<Figure size 1500x150 with 2 Axes>"
      ]
     },
     "metadata": {},
     "output_type": "display_data"
    }
   ],
   "source": [
    "#for a single patient and region\n",
    "index = 824691\n",
    "subFrame = selectRegionAroundEvent(df_insulin, df_insulin.loc[index,'PtID'], df_insulin.loc[index,'DateTime'], 24).copy()\n",
    "subFrame = subFrame.sort_values('DateTime')\n",
    "subFrame['AbsoluteBasal'] = calculate_absolute_basal(subFrame)\n",
    "ax = drawInsulinEvents(subFrame)\n",
    "drawAbsoluteBasalRates(subFrame.DateTime.loc[subFrame.AbsoluteBasal.notna()].values, subFrame.AbsoluteBasal.loc[subFrame.AbsoluteBasal.notna()].values,ax)\n",
    "ax.legend()\n",
    "\n",
    "\n",
    "#for the whole dataset\n",
    "absolute_basal = df_insulin.groupby('PtID').apply(calculate_absolute_basal)\n",
    "absolute_basal = absolute_basal.reset_index(level=0,drop=True)\n",
    "df_insulin['AbsoluteBasal'] = df_insulin.index.map(absolute_basal)\n",
    "#two examples\n",
    "for index in [963056,824691]:\n",
    "    subFrame = selectRegionAroundEvent(df_insulin, df_insulin.loc[index,'PtID'], df_insulin.loc[index,'DateTime'], 24).copy()\n",
    "    subFrame = subFrame.sort_values('DateTime')\n",
    "    ax = drawInsulinEvents(subFrame)\n",
    "    drawAbsoluteBasalRates(subFrame.DateTime.loc[subFrame.AbsoluteBasal.notna()].values,\n",
    "                        subFrame.AbsoluteBasal.loc[subFrame.AbsoluteBasal.notna()].values,ax)\n",
    "    ax.legend()\n"
   ]
  },
  {
   "cell_type": "markdown",
   "id": "0cbabfb7",
   "metadata": {},
   "source": [
    "## Suspend Events"
   ]
  },
  {
   "cell_type": "markdown",
   "id": "cbc78fbb",
   "metadata": {},
   "source": [
    "Let's investigate suspend times: First, let's check if each start comes with an end-event. "
   ]
  },
  {
   "cell_type": "code",
   "execution_count": 14,
   "id": "b5a222c0",
   "metadata": {},
   "outputs": [
    {
     "data": {
      "text/plain": [
       "NORMAL_PUMPING                 36217\n",
       "USER_SUSPEND                   14890\n",
       "NOTSEATED_SUSPEND               9340\n",
       "SmartGuard_PREDICTED_LOW_SG     5306\n",
       "ALARM_SUSPEND                   4618\n",
       "PLGM_PREDICTED_LOW_SG           1297\n",
       "LOWSG_SUSPEND                    751\n",
       "AUTO_SUSPEND                       5\n",
       "Name: Suspend, dtype: int64"
      ]
     },
     "metadata": {},
     "output_type": "display_data"
    },
    {
     "name": "stdout",
     "output_type": "stream",
     "text": [
      "There are 36217 NORMAL_PUMPING events and 36207 other Suspend events.\n",
      "For 89 out of 115 users, the first suspend event is a NORMAL_PUMPING event.\n",
      "\n",
      "Average time of data before NORMAL_PUMPING is 0.2 hours, maximum is 10.9 hours.\n"
     ]
    }
   ],
   "source": [
    "#compare suspend start and end event counts\n",
    "counts = df_insulin.Suspend.value_counts()\n",
    "display(counts)\n",
    "print(f\"There are {counts['NORMAL_PUMPING']} NORMAL_PUMPING events and {counts.drop('NORMAL_PUMPING').sum()} other Suspend events.\")\n",
    "\n",
    "#check for how many users the first suspend event is NORMAL_PUMPING\n",
    "first_suspends = df_insulin.dropna(subset=['Suspend']).sort_values('DateTime').groupby('PtID').first()\n",
    "first_insulin = df_insulin.sort_values('DateTime').groupby('PtID').first()\n",
    "counts = first_suspends.Suspend.value_counts()\n",
    "print(f\"For {counts['NORMAL_PUMPING']} out of {counts.sum()} users, the first suspend event is a NORMAL_PUMPING event.\\n\")\n",
    "\n",
    "#get the users whose first suspend is NORMAL_PUMPING\n",
    "usersWithFirstSuspendIsNormalPumping = first_suspends.loc[first_suspends.Suspend=='NORMAL_PUMPING'].index\n",
    "time_before_first_suspend = first_suspends.DateTime.loc[usersWithFirstSuspendIsNormalPumping]-first_insulin.DateTime.loc[usersWithFirstSuspendIsNormalPumping]\n",
    "hours = time_before_first_suspend.dt.total_seconds()/(60*60)\n",
    "print(f\"Average time of data before NORMAL_PUMPING is {hours.mean():.1f} hours, maximum is {hours.max():.1f} hours.\")\n"
   ]
  },
  {
   "cell_type": "markdown",
   "id": "a5b1c672",
   "metadata": {},
   "source": [
    "<div class=\"alert alert-block alert-warning\"> <b>End suspend without start:</b>  The very small difference is likely due to glucose suspend events that were started before the observation period. But this makes matching a little **more difficult**. We want to make sure we match the right pairs!</div>\n",
    "\n",
    "<div class=\"alert alert-block alert-warning\">\n",
    "<b>Most users start with NORMAL_PUMPING:</b> For the majority of users we get a NORMAL_PUMPING event as the first Suspend event without a previous Suspend event. This could be because a) the pump was being set-up (e.g. catridge change etc.) and reported normal operation (to be verified) or b) there was a suspend event before the data collection started (unlikely because suspends are often short). \n",
    "</div>\n",
    "\n",
    "<div class=\"alert alert-block alert-warning\">\n",
    "For those users whose first suspend event is a resume to normal pumping event, we don't know how long before the pump was suspended. The average time between the first insulin event and this resume event is roughly 0.25 hours. However, the maximum time is >10 hours.\n",
    "</div>"
   ]
  },
  {
   "cell_type": "markdown",
   "id": "ae69a060",
   "metadata": {},
   "source": [
    "We could check what kind of events happen before the first NORMAL_PUMPING event to calify what was happening."
   ]
  },
  {
   "cell_type": "code",
   "execution_count": 15,
   "id": "b8c06fd6",
   "metadata": {},
   "outputs": [
    {
     "data": {
      "text/plain": [
       "BasalRt             80\n",
       "TempBasalAmt         2\n",
       "PrimeVolumeDeliv    21\n",
       "Suspend             26\n",
       "Rewind              15\n",
       "dtype: int64"
      ]
     },
     "execution_count": 15,
     "metadata": {},
     "output_type": "execute_result"
    }
   ],
   "source": [
    "#select the rows before the first NORMAL_PUMPING event\n",
    "# Find the first \"NORMAL_PUMPING\" suspend event for each patient\n",
    "first_suspend = df_insulin[df_insulin['Suspend'] == 'NORMAL_PUMPING'].groupby('PtID')['DateTime'].min()\n",
    "\n",
    "# Create a new DataFrame where for each PtID, only rows before the first suspend event are included\n",
    "df_filtered = pd.concat([df_insulin[(df_insulin['PtID'] == ptid) & (df_insulin['DateTime'] < suspend_time)] for ptid, suspend_time in first_suspend.items()])\n",
    "\n",
    "#convert BasalRt\tBasalRtUnKnown\tTempBasalAmt\tTempBasalType\tTempBasalDur\tBolusType\tBolusDeliv\tExtendBolusDuration\tPrimeVolumeDeliv\tSuspend\tRewind\tBolusSource\tDataDtTm_adjusted to string array:\n",
    "temp = df_filtered.dropna(subset=['BasalRt','TempBasalAmt','PrimeVolumeDeliv','Suspend','Rewind'],how='all').loc[:,['BasalRt','TempBasalAmt','PrimeVolumeDeliv','Suspend','Rewind']]\n",
    "temp.count()"
   ]
  },
  {
   "cell_type": "markdown",
   "id": "51bef4e5",
   "metadata": {},
   "source": [
    "<div class=\"alert alert-block alert-warning\">It's unclear what is happening. Some rewind, some priming, some suspend events. </div>"
   ]
  },
  {
   "cell_type": "markdown",
   "id": "68c7fdf6",
   "metadata": {},
   "source": [
    "### Suspend start and end times"
   ]
  },
  {
   "cell_type": "code",
   "execution_count": 16,
   "id": "db3f873a",
   "metadata": {},
   "outputs": [
    {
     "data": {
      "text/html": [
       "<div>\n",
       "<style scoped>\n",
       "    .dataframe tbody tr th:only-of-type {\n",
       "        vertical-align: middle;\n",
       "    }\n",
       "\n",
       "    .dataframe tbody tr th {\n",
       "        vertical-align: top;\n",
       "    }\n",
       "\n",
       "    .dataframe thead th {\n",
       "        text-align: right;\n",
       "    }\n",
       "</style>\n",
       "<table border=\"1\" class=\"dataframe\">\n",
       "  <thead>\n",
       "    <tr style=\"text-align: right;\">\n",
       "      <th></th>\n",
       "      <th>Suspend</th>\n",
       "      <th>DateTime</th>\n",
       "      <th>PreviousSuspend</th>\n",
       "      <th>DateTimePreviousSuspend</th>\n",
       "    </tr>\n",
       "  </thead>\n",
       "  <tbody>\n",
       "    <tr>\n",
       "      <th>372962</th>\n",
       "      <td>NORMAL_PUMPING</td>\n",
       "      <td>2018-10-03 10:08:34</td>\n",
       "      <td>NaN</td>\n",
       "      <td>NaN</td>\n",
       "    </tr>\n",
       "    <tr>\n",
       "      <th>372958</th>\n",
       "      <td>NOTSEATED_SUSPEND</td>\n",
       "      <td>2018-10-03 10:46:49</td>\n",
       "      <td>NORMAL_PUMPING</td>\n",
       "      <td>2018-10-03 10:08:34</td>\n",
       "    </tr>\n",
       "    <tr>\n",
       "      <th>372954</th>\n",
       "      <td>NORMAL_PUMPING</td>\n",
       "      <td>2018-10-03 10:49:36</td>\n",
       "      <td>NOTSEATED_SUSPEND</td>\n",
       "      <td>2018-10-03 10:46:49</td>\n",
       "    </tr>\n",
       "    <tr>\n",
       "      <th>372953</th>\n",
       "      <td>USER_SUSPEND</td>\n",
       "      <td>2018-10-03 10:54:31</td>\n",
       "      <td>NORMAL_PUMPING</td>\n",
       "      <td>2018-10-03 10:49:36</td>\n",
       "    </tr>\n",
       "    <tr>\n",
       "      <th>372950</th>\n",
       "      <td>NORMAL_PUMPING</td>\n",
       "      <td>2018-10-03 11:07:55</td>\n",
       "      <td>USER_SUSPEND</td>\n",
       "      <td>2018-10-03 10:54:31</td>\n",
       "    </tr>\n",
       "  </tbody>\n",
       "</table>\n",
       "</div>"
      ],
      "text/plain": [
       "                  Suspend             DateTime    PreviousSuspend  \\\n",
       "372962     NORMAL_PUMPING  2018-10-03 10:08:34                NaN   \n",
       "372958  NOTSEATED_SUSPEND  2018-10-03 10:46:49     NORMAL_PUMPING   \n",
       "372954     NORMAL_PUMPING  2018-10-03 10:49:36  NOTSEATED_SUSPEND   \n",
       "372953       USER_SUSPEND  2018-10-03 10:54:31     NORMAL_PUMPING   \n",
       "372950     NORMAL_PUMPING  2018-10-03 11:07:55       USER_SUSPEND   \n",
       "\n",
       "       DateTimePreviousSuspend  \n",
       "372962                     NaN  \n",
       "372958     2018-10-03 10:08:34  \n",
       "372954     2018-10-03 10:46:49  \n",
       "372953     2018-10-03 10:49:36  \n",
       "372950     2018-10-03 10:54:31  "
      ]
     },
     "metadata": {},
     "output_type": "display_data"
    },
    {
     "data": {
      "text/html": [
       "<div>\n",
       "<style scoped>\n",
       "    .dataframe tbody tr th:only-of-type {\n",
       "        vertical-align: middle;\n",
       "    }\n",
       "\n",
       "    .dataframe tbody tr th {\n",
       "        vertical-align: top;\n",
       "    }\n",
       "\n",
       "    .dataframe thead th {\n",
       "        text-align: right;\n",
       "    }\n",
       "</style>\n",
       "<table border=\"1\" class=\"dataframe\">\n",
       "  <thead>\n",
       "    <tr style=\"text-align: right;\">\n",
       "      <th></th>\n",
       "      <th>Suspend</th>\n",
       "      <th>DateTime</th>\n",
       "      <th>PreviousSuspend</th>\n",
       "      <th>DateTimePreviousSuspend</th>\n",
       "      <th>Duration</th>\n",
       "    </tr>\n",
       "  </thead>\n",
       "  <tbody>\n",
       "    <tr>\n",
       "      <th>372962</th>\n",
       "      <td>NORMAL_PUMPING</td>\n",
       "      <td>2018-10-03 10:08:34</td>\n",
       "      <td>NaN</td>\n",
       "      <td>NaN</td>\n",
       "      <td>NaT</td>\n",
       "    </tr>\n",
       "    <tr>\n",
       "      <th>372954</th>\n",
       "      <td>NORMAL_PUMPING</td>\n",
       "      <td>2018-10-03 10:49:36</td>\n",
       "      <td>NOTSEATED_SUSPEND</td>\n",
       "      <td>2018-10-03 10:46:49</td>\n",
       "      <td>0 days 00:02:47</td>\n",
       "    </tr>\n",
       "    <tr>\n",
       "      <th>372950</th>\n",
       "      <td>NORMAL_PUMPING</td>\n",
       "      <td>2018-10-03 11:07:55</td>\n",
       "      <td>USER_SUSPEND</td>\n",
       "      <td>2018-10-03 10:54:31</td>\n",
       "      <td>0 days 00:13:24</td>\n",
       "    </tr>\n",
       "    <tr>\n",
       "      <th>372845</th>\n",
       "      <td>NORMAL_PUMPING</td>\n",
       "      <td>2018-10-03 21:15:55</td>\n",
       "      <td>LOWSG_SUSPEND</td>\n",
       "      <td>2018-10-03 20:11:17</td>\n",
       "      <td>0 days 01:04:38</td>\n",
       "    </tr>\n",
       "    <tr>\n",
       "      <th>372807</th>\n",
       "      <td>NORMAL_PUMPING</td>\n",
       "      <td>2018-10-03 22:52:21</td>\n",
       "      <td>LOWSG_SUSPEND</td>\n",
       "      <td>2018-10-03 22:21:17</td>\n",
       "      <td>0 days 00:31:04</td>\n",
       "    </tr>\n",
       "  </tbody>\n",
       "</table>\n",
       "</div>"
      ],
      "text/plain": [
       "               Suspend             DateTime    PreviousSuspend  \\\n",
       "372962  NORMAL_PUMPING  2018-10-03 10:08:34                NaN   \n",
       "372954  NORMAL_PUMPING  2018-10-03 10:49:36  NOTSEATED_SUSPEND   \n",
       "372950  NORMAL_PUMPING  2018-10-03 11:07:55       USER_SUSPEND   \n",
       "372845  NORMAL_PUMPING  2018-10-03 21:15:55      LOWSG_SUSPEND   \n",
       "372807  NORMAL_PUMPING  2018-10-03 22:52:21      LOWSG_SUSPEND   \n",
       "\n",
       "       DateTimePreviousSuspend        Duration  \n",
       "372962                     NaN             NaT  \n",
       "372954     2018-10-03 10:46:49 0 days 00:02:47  \n",
       "372950     2018-10-03 10:54:31 0 days 00:13:24  \n",
       "372845     2018-10-03 20:11:17 0 days 01:04:38  \n",
       "372807     2018-10-03 22:21:17 0 days 00:31:04  "
      ]
     },
     "metadata": {},
     "output_type": "display_data"
    },
    {
     "data": {
      "text/plain": [
       "<matplotlib.legend.Legend at 0x1b444c8e0>"
      ]
     },
     "execution_count": 16,
     "metadata": {},
     "output_type": "execute_result"
    },
    {
     "data": {
      "image/png": "[encoded data removed]",
      "text/plain": [
       "<Figure size 1500x200 with 1 Axes>"
      ]
     },
     "metadata": {},
     "output_type": "display_data"
    }
   ],
   "source": [
    "#get a user with>10 Suspend and Temporary Basal events\n",
    "event_counts = df_insulin.groupby('PtID').agg({\"Suspend\":'count','TempBasalAmt':'count'})\n",
    "users_with_temp_and_suspends = event_counts.loc[(event_counts.Suspend>10) & (event_counts.TempBasalAmt>10)]\n",
    "random_user = random.choice(users_with_temp_and_suspends.index)\n",
    "\n",
    "random_user = 69 #for repoducibility\n",
    "subFrame = df_insulin.loc[df_insulin.PtID==69].copy()\n",
    "subFrame = subFrame.sort_values('DateTime')\n",
    "\n",
    "#reduce to first days\n",
    "subFrame = subFrame.loc[subFrame.DateTime< subFrame.DateTime.min()+pd.Timedelta(days=12)]\n",
    "\n",
    "#bring neighboring events side by side\n",
    "suspend_times = subFrame.loc[subFrame.Suspend.notna(),['Suspend','DateTime']].sort_values('DateTime').copy()\n",
    "suspend_times['PreviousSuspend'] = suspend_times.Suspend.shift(1)\n",
    "suspend_times['DateTimePreviousSuspend'] = suspend_times.DateTime.shift(1)\n",
    "display(suspend_times.head(5))\n",
    "\n",
    "#get the sessions by selecting the rows that start with a suspend event and end with a normal pumping event\n",
    "suspend_times = suspend_times.loc[(suspend_times.PreviousSuspend!='NORMAL_PUMPING') & (suspend_times.Suspend=='NORMAL_PUMPING')]\n",
    "suspend_times['Duration'] = suspend_times.DateTime-suspend_times.DateTimePreviousSuspend\n",
    "display(suspend_times.head(5))\n",
    "\n",
    "suspend_times.Duration.describe()\n",
    "\n",
    "\n",
    "#draw\n",
    "#drop first row of suspend_times\n",
    "suspend_times = suspend_times.iloc[1:]\n",
    "\n",
    "#ax = drawInsulinEvents(subFrame, b_draw_boluses=False)\n",
    "ax = plt.figure(figsize=(15,2)).gca()\n",
    "drawAbsoluteBasalRates(subFrame.DateTime.loc[subFrame.AbsoluteBasal.notna()].values,\n",
    "                       subFrame.AbsoluteBasal.loc[subFrame.AbsoluteBasal.notna()].values, ax)\n",
    "ax.bar(suspend_times.DateTimePreviousSuspend, 10, width=suspend_times.Duration, alpha=0.2, edgecolor='red',color='red')\n",
    "ax.legend(['Basal Rate','Suspend'],loc='upper right')  \n"
   ]
  },
  {
   "cell_type": "markdown",
   "id": "422b657b",
   "metadata": {},
   "source": [
    "### Suspend and Boluses"
   ]
  },
  {
   "cell_type": "markdown",
   "id": "990df056",
   "metadata": {},
   "source": [
    "### Does medtronic suspend impact ongoing boluses?\n",
    "\n",
    "**670g manual:**\n",
    "I checked the manual and found no clear evidence\n",
    "“SmartGuard suspend (Suspend before low and Suspend on low) features. SmartGuard suspend features can automatically stop and resume insulin delivery based on your SG values and low limit.”\n",
    ":arrow_right: So both?\n",
    "When a SmartGuard suspend event occurs, basal insulin delivery automatically resumes if your SG values are rising and have met the specified criteria,\n",
    ":arrow_right: Oh, just basal?\n",
    "\n",
    "\n",
    "**Medtronic FAQ:**\n",
    " I bolused for food I did not eat, will the system stop insulin delivery?\n",
    "If the system sees that the sensor glucose is falling it will decrease the insulin being delivered and/or stop insulin from being delivered. However, it is important that you eat the amount of carbohydrates that you bolused for because the bolus insulin that you gave will already be working in your body.\n",
    ":arrow_right: This indicates that boluses will in fact be stopped\n",
    "\n",
    "Can you deliver a Dual Wave™ or Square Wave™ bolus in SmartGuard™ technology?\n",
    "You cannot deliver a dual or square wave bolus in SmartGuard™ technology. The system is designed to compensate for a delayed rise in sensor glucose levels due to high fat, high carb meals. The auto basal adjustments every 5 minutes and auto corrections may eliminate the need for using the dual or squave wave bolus.\n",
    ":arrow_right: So it might not even be relevant for us. Question remains what happens during a suspend while a standard bolus is ongoing.\n",
    "\n",
    "\n",
    "**User Blog Post**\n",
    "https://littlet1d.blogspot.com/2015/03/smartguard-dual-wave-bolus-cancellation.html\n",
    "In this article from 2015 a user complains:\n",
    "The message in the data file (not the pump screen) is the same as before:-\n",
    "Suspend Before / At Low will suspend basal and cancel an extended bolus. \n",
    "\n",
    "The answer for us is the same: We need to manually go back in after basal has resumed and put in a revised Square Wave bolus if necessary.\n",
    "\n",
    "Ok, I get it, but I’m still concerned: We know and understand that we need to think about manually inputting a revised Square Wave bolus following a Suspend before Low.\n",
    "\n",
    "But - and this is, I think a big “but”, there’s no obvious warning / reminder message on Resume to prompt you (or whoever happens to be looking after Janki) to do this. There is an alarm in the pump log, but it doesn’t make it to the screen...\n",
    ":arrow_right: At least in 2015 boluses seem to be cancelled and not resumed automatically, only basal resumes.\n",
    "\n",
    "<div class=\"alert alert-block alert-info\">It appears so as if all dual wave or square boluses are manual or bolus wizard boluses and are not executed in closed loop mode. This is consistent with the manual of the 670g where extended boluses are not available when smartguard is enabled.</div>"
   ]
  },
  {
   "cell_type": "code",
   "execution_count": 17,
   "id": "32859863",
   "metadata": {},
   "outputs": [
    {
     "name": "stdout",
     "output_type": "stream",
     "text": [
      "bolus amounts for closed loop boluses:\n"
     ]
    },
    {
     "data": {
      "text/plain": [
       "BolusDeliv       425838.30\n",
       "BolusSelected    861319.58\n",
       "dtype: float64"
      ]
     },
     "metadata": {},
     "output_type": "display_data"
    },
    {
     "name": "stdout",
     "output_type": "stream",
     "text": [
      "bolus sources for Dual or Square boluses:\n"
     ]
    },
    {
     "data": {
      "text/plain": [
       "BOLUS_WIZARD    951\n",
       "MANUAL           77\n",
       "Name: BolusSource, dtype: int64"
      ]
     },
     "metadata": {},
     "output_type": "display_data"
    },
    {
     "name": "stdout",
     "output_type": "stream",
     "text": [
      "bolus amounts for Dual or Square boluses:\n"
     ]
    },
    {
     "data": {
      "text/plain": [
       "BolusDeliv       2590.63\n",
       "BolusSelected    5132.08\n",
       "dtype: float64"
      ]
     },
     "metadata": {},
     "output_type": "display_data"
    }
   ],
   "source": [
    "print(\"bolus amounts for closed loop boluses:\")\n",
    "display(df_insulin.loc[df_insulin.BolusSource.isin(['CLOSED_LOOP_BG_CORRECTION_AND_FOOD_BOLUS', 'CLOSED_LOOP_FOOD_BOLUS', 'CL_BG_CORRECTION_N_FOOD_BOLUS', 'CL_FOOD_BOLUS']), ['BolusDeliv', 'BolusSelected']].sum())\n",
    "\n",
    "print(\"bolus sources for Dual or Square boluses:\")\n",
    "display(df_insulin.loc[df_insulin.BolusType.str.contains('Dual|Square', na=False), 'BolusSource'].value_counts())\n",
    "\n",
    "print(\"bolus amounts for Dual or Square boluses:\")\n",
    "display(df_insulin.loc[df_insulin.BolusType.str.contains('Dual|Square', na=False), ['BolusDeliv', 'BolusSelected']].sum())"
   ]
  },
  {
   "cell_type": "markdown",
   "id": "4e4d2bbb",
   "metadata": {},
   "source": [
    "From the above we make the following assumptions:\n",
    "<div class=\"alert alert-block alert-info\">The smartguard feature automatically reduces boluses.</div>\n",
    "<div class=\"alert alert-block alert-info\">There are no unknown basal rates</div>\n",
    "<div class=\"alert alert-block alert-info\">It appears so as if all dual wave or square boluses are manual or bolus wizard boluses and are not executed in closed loop mode. This is consistent with the manual of the 670g where extended boluses are not available when smartguard is enabled.</div>"
   ]
  },
  {
   "cell_type": "markdown",
   "id": "c3eb0287",
   "metadata": {},
   "source": [
    "# Boluses:\n",
    "\n",
    "* **Normal bolus**: provides a single immediate dose of insulin.\n",
    "* **Square Wave bolus**: delivers a single bolus evenly over an extended period of time from 30 minutes up to 8 hours.\n",
    "* **Dual Wave bolus**: delivers a combination of an immediate normal bo‐ lus followed by a Square Wave bolus.\n",
    "\n",
    "<div>\n",
    "<img src=\"Bolus Types Medtronic.png\" width=\"500\"/>\n",
    "</div>"
   ]
  },
  {
   "cell_type": "code",
   "execution_count": 68,
   "id": "4ee57283",
   "metadata": {},
   "outputs": [
    {
     "name": "stdout",
     "output_type": "stream",
     "text": [
      "Bolus sources:"
     ]
    },
    {
     "data": {
      "text/plain": [
       "CLOSED_LOOP_MICRO_BOLUS                     2628112\n",
       "CL_MICRO_BOLUS                               542076\n",
       "CLOSED_LOOP_AUTO_BOLUS                       490478\n",
       "BOLUS_WIZARD                                  96003\n",
       "CLOSED_LOOP_BG_CORRECTION_AND_FOOD_BOLUS      84708\n",
       "CLOSED_LOOP_FOOD_BOLUS                        46554\n",
       "CL_BG_CORRECTION_N_FOOD_BOLUS                 17901\n",
       "CLOSED_LOOP_BG_CORRECTION                     15482\n",
       "CL_FOOD_BOLUS                                 11734\n",
       "MANUAL                                         4240\n",
       "CL_BG_CORRECTION                               3158\n",
       "Name: BolusSource, dtype: int64"
      ]
     },
     "metadata": {},
     "output_type": "display_data"
    },
    {
     "name": "stdout",
     "output_type": "stream",
     "text": [
      "Bolus types:"
     ]
    },
    {
     "data": {
      "text/plain": [
       "Normal                3945345\n",
       "Dual (square part)        697\n",
       "Dual (normal part)        534\n",
       "Square                     46\n",
       "Name: BolusType, dtype: int64"
      ]
     },
     "metadata": {},
     "output_type": "display_data"
    }
   ],
   "source": [
    "print(\"Bolus sources:\",end='')\n",
    "display(df_insulin.BolusSource.value_counts())\n",
    "\n",
    "print(\"Bolus types:\",end='')\n",
    "display(df_insulin.BolusType.value_counts())"
   ]
  },
  {
   "cell_type": "markdown",
   "id": "c8dae652",
   "metadata": {},
   "source": [
    "<div class=\"alert alert-block alert-warning\"> <b>Dual Wave Boluses:</b> There are (697 or 534) dual wave and 46 sqaure (extended) boluses (<0.02% of the boluses). The dual wave bolus events (square part) (normal part) should be equal in theory. But this could be because some boluses were stopped.</div>"
   ]
  },
  {
   "cell_type": "markdown",
   "id": "4ce42435",
   "metadata": {},
   "source": [
    "## Under-delivered Boluses\n",
    "Let's check if it is clear how much insulin was delivered for each part of the bolus\n",
    "When a bolus was not fully delivered, the delivery duration is likely shorter, this is especially cruicial for extended boluses. Let's check if the data tells us\n",
    "    "
   ]
  },
  {
   "cell_type": "code",
   "execution_count": 20,
   "id": "f51d5481",
   "metadata": {},
   "outputs": [
    {
     "data": {
      "text/html": [
       "<div>\n",
       "<style scoped>\n",
       "    .dataframe tbody tr th:only-of-type {\n",
       "        vertical-align: middle;\n",
       "    }\n",
       "\n",
       "    .dataframe tbody tr th {\n",
       "        vertical-align: top;\n",
       "    }\n",
       "\n",
       "    .dataframe thead th {\n",
       "        text-align: right;\n",
       "    }\n",
       "</style>\n",
       "<table border=\"1\" class=\"dataframe\">\n",
       "  <thead>\n",
       "    <tr style=\"text-align: right;\">\n",
       "      <th></th>\n",
       "      <th>BolusDeliv</th>\n",
       "      <th>BolusSelected</th>\n",
       "    </tr>\n",
       "  </thead>\n",
       "  <tbody>\n",
       "    <tr>\n",
       "      <th>sum</th>\n",
       "      <td>1272434.995</td>\n",
       "      <td>2140506.345</td>\n",
       "    </tr>\n",
       "    <tr>\n",
       "      <th>count</th>\n",
       "      <td>3555478.000</td>\n",
       "      <td>3940647.000</td>\n",
       "    </tr>\n",
       "  </tbody>\n",
       "</table>\n",
       "</div>"
      ],
      "text/plain": [
       "        BolusDeliv  BolusSelected\n",
       "sum    1272434.995    2140506.345\n",
       "count  3555478.000    3940647.000"
      ]
     },
     "execution_count": 20,
     "metadata": {},
     "output_type": "execute_result"
    }
   ],
   "source": [
    "#give me some rows where the delivered bolus is not equal to the selected bolus\n",
    "boluses = df_insulin.loc[df_insulin.BolusType.notna()]\n",
    "boluses.loc[:,['BolusDeliv','BolusSelected']].agg(['sum','count'])"
   ]
  },
  {
   "cell_type": "markdown",
   "id": "c35cd7fa",
   "metadata": {},
   "source": [
    "* There are boluses that were selected but not delivered.\n",
    "* There are some null values in BolusDeliv"
   ]
  },
  {
   "cell_type": "code",
   "execution_count": 25,
   "id": "a5779f07",
   "metadata": {},
   "outputs": [
    {
     "data": {
      "text/html": [
       "<div>\n",
       "<style scoped>\n",
       "    .dataframe tbody tr th:only-of-type {\n",
       "        vertical-align: middle;\n",
       "    }\n",
       "\n",
       "    .dataframe tbody tr th {\n",
       "        vertical-align: top;\n",
       "    }\n",
       "\n",
       "    .dataframe thead th {\n",
       "        text-align: right;\n",
       "    }\n",
       "</style>\n",
       "<table border=\"1\" class=\"dataframe\">\n",
       "  <thead>\n",
       "    <tr style=\"text-align: right;\">\n",
       "      <th></th>\n",
       "      <th>BolusDeliv</th>\n",
       "      <th>BolusSelected</th>\n",
       "    </tr>\n",
       "  </thead>\n",
       "  <tbody>\n",
       "    <tr>\n",
       "      <th>41</th>\n",
       "      <td>NaN</td>\n",
       "      <td>4.5</td>\n",
       "    </tr>\n",
       "    <tr>\n",
       "      <th>48</th>\n",
       "      <td>NaN</td>\n",
       "      <td>0.4</td>\n",
       "    </tr>\n",
       "  </tbody>\n",
       "</table>\n",
       "</div>"
      ],
      "text/plain": [
       "    BolusDeliv  BolusSelected\n",
       "41         NaN            4.5\n",
       "48         NaN            0.4"
      ]
     },
     "metadata": {},
     "output_type": "display_data"
    },
    {
     "data": {
      "text/html": [
       "<div>\n",
       "<style scoped>\n",
       "    .dataframe tbody tr th:only-of-type {\n",
       "        vertical-align: middle;\n",
       "    }\n",
       "\n",
       "    .dataframe tbody tr th {\n",
       "        vertical-align: top;\n",
       "    }\n",
       "\n",
       "    .dataframe thead th {\n",
       "        text-align: right;\n",
       "    }\n",
       "</style>\n",
       "<table border=\"1\" class=\"dataframe\">\n",
       "  <thead>\n",
       "    <tr style=\"text-align: right;\">\n",
       "      <th></th>\n",
       "      <th>BolusDeliv</th>\n",
       "      <th>BolusSelected</th>\n",
       "    </tr>\n",
       "  </thead>\n",
       "  <tbody>\n",
       "    <tr>\n",
       "      <th>9599</th>\n",
       "      <td>0.0</td>\n",
       "      <td>0.4</td>\n",
       "    </tr>\n",
       "    <tr>\n",
       "      <th>13257</th>\n",
       "      <td>0.0</td>\n",
       "      <td>0.1</td>\n",
       "    </tr>\n",
       "  </tbody>\n",
       "</table>\n",
       "</div>"
      ],
      "text/plain": [
       "       BolusDeliv  BolusSelected\n",
       "9599          0.0            0.4\n",
       "13257         0.0            0.1"
      ]
     },
     "metadata": {},
     "output_type": "display_data"
    },
    {
     "data": {
      "text/html": [
       "<div>\n",
       "<style scoped>\n",
       "    .dataframe tbody tr th:only-of-type {\n",
       "        vertical-align: middle;\n",
       "    }\n",
       "\n",
       "    .dataframe tbody tr th {\n",
       "        vertical-align: top;\n",
       "    }\n",
       "\n",
       "    .dataframe thead th {\n",
       "        text-align: right;\n",
       "    }\n",
       "</style>\n",
       "<table border=\"1\" class=\"dataframe\">\n",
       "  <thead>\n",
       "    <tr style=\"text-align: right;\">\n",
       "      <th></th>\n",
       "      <th>PtID</th>\n",
       "      <th>DataDtTm</th>\n",
       "      <th>BasalRt</th>\n",
       "      <th>BasalRtUnKnown</th>\n",
       "      <th>TempBasalAmt</th>\n",
       "      <th>TempBasalType</th>\n",
       "      <th>TempBasalDur</th>\n",
       "      <th>BolusType</th>\n",
       "      <th>BolusSelected</th>\n",
       "      <th>BolusDeliv</th>\n",
       "      <th>ExtendBolusDuration</th>\n",
       "      <th>PrimeVolumeDeliv</th>\n",
       "      <th>Suspend</th>\n",
       "      <th>Rewind</th>\n",
       "      <th>BolusSource</th>\n",
       "      <th>DataDtTm_adjusted</th>\n",
       "      <th>DateTime</th>\n",
       "      <th>DateTimeAdjusted</th>\n",
       "      <th>AbsoluteBasal</th>\n",
       "    </tr>\n",
       "  </thead>\n",
       "  <tbody>\n",
       "    <tr>\n",
       "      <th>16723</th>\n",
       "      <td>26</td>\n",
       "      <td>3/7/2019 7:38:30 AM</td>\n",
       "      <td>NaN</td>\n",
       "      <td>False</td>\n",
       "      <td>NaN</td>\n",
       "      <td>NaN</td>\n",
       "      <td>NaN</td>\n",
       "      <td>Dual (square part)</td>\n",
       "      <td>7.600</td>\n",
       "      <td>5.925</td>\n",
       "      <td>6:14:00</td>\n",
       "      <td>NaN</td>\n",
       "      <td>NaN</td>\n",
       "      <td>NaN</td>\n",
       "      <td>NaN</td>\n",
       "      <td>NaN</td>\n",
       "      <td>2019-03-07 07:38:30</td>\n",
       "      <td>NaN</td>\n",
       "      <td>NaN</td>\n",
       "    </tr>\n",
       "    <tr>\n",
       "      <th>17221</th>\n",
       "      <td>26</td>\n",
       "      <td>2/26/2019 2:16:54 PM</td>\n",
       "      <td>NaN</td>\n",
       "      <td>False</td>\n",
       "      <td>NaN</td>\n",
       "      <td>NaN</td>\n",
       "      <td>NaN</td>\n",
       "      <td>Dual (square part)</td>\n",
       "      <td>9.600</td>\n",
       "      <td>4.525</td>\n",
       "      <td>3:46:00</td>\n",
       "      <td>NaN</td>\n",
       "      <td>NaN</td>\n",
       "      <td>NaN</td>\n",
       "      <td>NaN</td>\n",
       "      <td>NaN</td>\n",
       "      <td>2019-02-26 14:16:54</td>\n",
       "      <td>NaN</td>\n",
       "      <td>NaN</td>\n",
       "    </tr>\n",
       "    <tr>\n",
       "      <th>17407</th>\n",
       "      <td>26</td>\n",
       "      <td>2/23/2019 3:36:27 PM</td>\n",
       "      <td>NaN</td>\n",
       "      <td>False</td>\n",
       "      <td>NaN</td>\n",
       "      <td>NaN</td>\n",
       "      <td>NaN</td>\n",
       "      <td>Dual (square part)</td>\n",
       "      <td>3.300</td>\n",
       "      <td>2.175</td>\n",
       "      <td>2:38:00</td>\n",
       "      <td>NaN</td>\n",
       "      <td>NaN</td>\n",
       "      <td>NaN</td>\n",
       "      <td>NaN</td>\n",
       "      <td>NaN</td>\n",
       "      <td>2019-02-23 15:36:27</td>\n",
       "      <td>NaN</td>\n",
       "      <td>NaN</td>\n",
       "    </tr>\n",
       "    <tr>\n",
       "      <th>56517</th>\n",
       "      <td>15</td>\n",
       "      <td>7/27/2019 7:27:38 PM</td>\n",
       "      <td>NaN</td>\n",
       "      <td>False</td>\n",
       "      <td>NaN</td>\n",
       "      <td>NaN</td>\n",
       "      <td>NaN</td>\n",
       "      <td>Dual (square part)</td>\n",
       "      <td>1.825</td>\n",
       "      <td>0.975</td>\n",
       "      <td>0:48:00</td>\n",
       "      <td>NaN</td>\n",
       "      <td>NaN</td>\n",
       "      <td>NaN</td>\n",
       "      <td>NaN</td>\n",
       "      <td>NaN</td>\n",
       "      <td>2019-07-27 19:27:38</td>\n",
       "      <td>NaN</td>\n",
       "      <td>NaN</td>\n",
       "    </tr>\n",
       "    <tr>\n",
       "      <th>58118</th>\n",
       "      <td>15</td>\n",
       "      <td>7/3/2019 1:30:37 PM</td>\n",
       "      <td>NaN</td>\n",
       "      <td>False</td>\n",
       "      <td>NaN</td>\n",
       "      <td>NaN</td>\n",
       "      <td>NaN</td>\n",
       "      <td>Dual (square part)</td>\n",
       "      <td>5.825</td>\n",
       "      <td>0.400</td>\n",
       "      <td>0:08:00</td>\n",
       "      <td>NaN</td>\n",
       "      <td>NaN</td>\n",
       "      <td>NaN</td>\n",
       "      <td>NaN</td>\n",
       "      <td>NaN</td>\n",
       "      <td>2019-07-03 13:30:37</td>\n",
       "      <td>NaN</td>\n",
       "      <td>NaN</td>\n",
       "    </tr>\n",
       "  </tbody>\n",
       "</table>\n",
       "</div>"
      ],
      "text/plain": [
       "       PtID              DataDtTm  BasalRt  BasalRtUnKnown  TempBasalAmt  \\\n",
       "16723    26   3/7/2019 7:38:30 AM      NaN           False           NaN   \n",
       "17221    26  2/26/2019 2:16:54 PM      NaN           False           NaN   \n",
       "17407    26  2/23/2019 3:36:27 PM      NaN           False           NaN   \n",
       "56517    15  7/27/2019 7:27:38 PM      NaN           False           NaN   \n",
       "58118    15   7/3/2019 1:30:37 PM      NaN           False           NaN   \n",
       "\n",
       "      TempBasalType TempBasalDur           BolusType  BolusSelected  \\\n",
       "16723           NaN          NaN  Dual (square part)          7.600   \n",
       "17221           NaN          NaN  Dual (square part)          9.600   \n",
       "17407           NaN          NaN  Dual (square part)          3.300   \n",
       "56517           NaN          NaN  Dual (square part)          1.825   \n",
       "58118           NaN          NaN  Dual (square part)          5.825   \n",
       "\n",
       "       BolusDeliv ExtendBolusDuration  PrimeVolumeDeliv Suspend Rewind  \\\n",
       "16723       5.925             6:14:00               NaN     NaN    NaN   \n",
       "17221       4.525             3:46:00               NaN     NaN    NaN   \n",
       "17407       2.175             2:38:00               NaN     NaN    NaN   \n",
       "56517       0.975             0:48:00               NaN     NaN    NaN   \n",
       "58118       0.400             0:08:00               NaN     NaN    NaN   \n",
       "\n",
       "      BolusSource  DataDtTm_adjusted             DateTime  DateTimeAdjusted  \\\n",
       "16723         NaN                NaN  2019-03-07 07:38:30               NaN   \n",
       "17221         NaN                NaN  2019-02-26 14:16:54               NaN   \n",
       "17407         NaN                NaN  2019-02-23 15:36:27               NaN   \n",
       "56517         NaN                NaN  2019-07-27 19:27:38               NaN   \n",
       "58118         NaN                NaN  2019-07-03 13:30:37               NaN   \n",
       "\n",
       "       AbsoluteBasal  \n",
       "16723            NaN  \n",
       "17221            NaN  \n",
       "17407            NaN  \n",
       "56517            NaN  \n",
       "58118            NaN  "
      ]
     },
     "metadata": {},
     "output_type": "display_data"
    }
   ],
   "source": [
    "display(boluses.loc[boluses.BolusDeliv.isna(),['BolusDeliv','BolusSelected']].head(2))\n",
    "display(boluses.loc[boluses.BolusDeliv==0,['BolusDeliv','BolusSelected']].head(2))\n",
    "display(boluses.loc[(boluses.BolusType == 'Dual (square part)') & (boluses.BolusDeliv<boluses.BolusSelected)].head())"
   ]
  },
  {
   "cell_type": "code",
   "execution_count": 65,
   "id": "10d980da",
   "metadata": {},
   "outputs": [
    {
     "name": "stdout",
     "output_type": "stream",
     "text": [
      "There are 75 underdelivered extended boluses.\n"
     ]
    },
    {
     "data": {
      "text/html": [
       "<div>\n",
       "<style scoped>\n",
       "    .dataframe tbody tr th:only-of-type {\n",
       "        vertical-align: middle;\n",
       "    }\n",
       "\n",
       "    .dataframe tbody tr th {\n",
       "        vertical-align: top;\n",
       "    }\n",
       "\n",
       "    .dataframe thead th {\n",
       "        text-align: right;\n",
       "    }\n",
       "</style>\n",
       "<table border=\"1\" class=\"dataframe\">\n",
       "  <thead>\n",
       "    <tr style=\"text-align: right;\">\n",
       "      <th></th>\n",
       "      <th>BolusType</th>\n",
       "      <th>BolusDeliv</th>\n",
       "      <th>BolusSelected</th>\n",
       "      <th>ExtendBolusDuration</th>\n",
       "    </tr>\n",
       "  </thead>\n",
       "  <tbody>\n",
       "    <tr>\n",
       "      <th>16723</th>\n",
       "      <td>Dual (square part)</td>\n",
       "      <td>5.925</td>\n",
       "      <td>7.600</td>\n",
       "      <td>6:14:00</td>\n",
       "    </tr>\n",
       "    <tr>\n",
       "      <th>17221</th>\n",
       "      <td>Dual (square part)</td>\n",
       "      <td>4.525</td>\n",
       "      <td>9.600</td>\n",
       "      <td>3:46:00</td>\n",
       "    </tr>\n",
       "    <tr>\n",
       "      <th>17407</th>\n",
       "      <td>Dual (square part)</td>\n",
       "      <td>2.175</td>\n",
       "      <td>3.300</td>\n",
       "      <td>2:38:00</td>\n",
       "    </tr>\n",
       "    <tr>\n",
       "      <th>56517</th>\n",
       "      <td>Dual (square part)</td>\n",
       "      <td>0.975</td>\n",
       "      <td>1.825</td>\n",
       "      <td>0:48:00</td>\n",
       "    </tr>\n",
       "    <tr>\n",
       "      <th>58118</th>\n",
       "      <td>Dual (square part)</td>\n",
       "      <td>0.400</td>\n",
       "      <td>5.825</td>\n",
       "      <td>0:08:00</td>\n",
       "    </tr>\n",
       "  </tbody>\n",
       "</table>\n",
       "</div>"
      ],
      "text/plain": [
       "                BolusType  BolusDeliv  BolusSelected ExtendBolusDuration\n",
       "16723  Dual (square part)       5.925          7.600             6:14:00\n",
       "17221  Dual (square part)       4.525          9.600             3:46:00\n",
       "17407  Dual (square part)       2.175          3.300             2:38:00\n",
       "56517  Dual (square part)       0.975          1.825             0:48:00\n",
       "58118  Dual (square part)       0.400          5.825             0:08:00"
      ]
     },
     "metadata": {},
     "output_type": "display_data"
    },
    {
     "data": {
      "text/html": [
       "<div>\n",
       "<style scoped>\n",
       "    .dataframe tbody tr th:only-of-type {\n",
       "        vertical-align: middle;\n",
       "    }\n",
       "\n",
       "    .dataframe tbody tr th {\n",
       "        vertical-align: top;\n",
       "    }\n",
       "\n",
       "    .dataframe thead th {\n",
       "        text-align: right;\n",
       "    }\n",
       "</style>\n",
       "<table border=\"1\" class=\"dataframe\">\n",
       "  <thead>\n",
       "    <tr style=\"text-align: right;\">\n",
       "      <th></th>\n",
       "      <th>BolusType</th>\n",
       "      <th>BolusDeliv</th>\n",
       "      <th>BolusSelected</th>\n",
       "      <th>ExtendBolusDuration</th>\n",
       "    </tr>\n",
       "  </thead>\n",
       "  <tbody>\n",
       "    <tr>\n",
       "      <th>16448</th>\n",
       "      <td>Dual (square part)</td>\n",
       "      <td>5.0</td>\n",
       "      <td>5.0</td>\n",
       "      <td>1:30:00</td>\n",
       "    </tr>\n",
       "    <tr>\n",
       "      <th>16626</th>\n",
       "      <td>Dual (square part)</td>\n",
       "      <td>4.5</td>\n",
       "      <td>4.5</td>\n",
       "      <td>7:59:00</td>\n",
       "    </tr>\n",
       "    <tr>\n",
       "      <th>16641</th>\n",
       "      <td>Dual (square part)</td>\n",
       "      <td>3.5</td>\n",
       "      <td>3.5</td>\n",
       "      <td>2:30:00</td>\n",
       "    </tr>\n",
       "    <tr>\n",
       "      <th>16675</th>\n",
       "      <td>Dual (square part)</td>\n",
       "      <td>4.3</td>\n",
       "      <td>4.3</td>\n",
       "      <td>7:59:00</td>\n",
       "    </tr>\n",
       "    <tr>\n",
       "      <th>16750</th>\n",
       "      <td>Dual (square part)</td>\n",
       "      <td>3.1</td>\n",
       "      <td>3.1</td>\n",
       "      <td>0:30:00</td>\n",
       "    </tr>\n",
       "  </tbody>\n",
       "</table>\n",
       "</div>"
      ],
      "text/plain": [
       "                BolusType  BolusDeliv  BolusSelected ExtendBolusDuration\n",
       "16448  Dual (square part)         5.0            5.0             1:30:00\n",
       "16626  Dual (square part)         4.5            4.5             7:59:00\n",
       "16641  Dual (square part)         3.5            3.5             2:30:00\n",
       "16675  Dual (square part)         4.3            4.3             7:59:00\n",
       "16750  Dual (square part)         3.1            3.1             0:30:00"
      ]
     },
     "metadata": {},
     "output_type": "display_data"
    }
   ],
   "source": [
    "extended_boluses = df_insulin.loc[df_insulin.BolusType.isin(['Square', 'Dual (square part)'])]\n",
    "duration_underdeliv = extended_boluses.loc[extended_boluses.BolusDeliv<extended_boluses.BolusSelected]\n",
    "#how many events are there?\n",
    "print(f\"There are {len(duration_underdeliv)} underdelivered extended boluses.\")\n",
    "#convert to minutes\n",
    "#duration_underdeliv = duration_underdeliv.apply(lambda x: x.total_seconds()/60)\n",
    "display(duration_underdeliv.loc[:, ['BolusType',\"BolusDeliv\",'BolusSelected','ExtendBolusDuration']].head(5))\n",
    "\n",
    "duration_full = extended_boluses.loc[extended_boluses.BolusDeliv==extended_boluses.BolusSelected]\n",
    "display(duration_full.loc[:, ['BolusType',\"BolusDeliv\",'BolusSelected','ExtendBolusDuration']].head(5))\n"
   ]
  },
  {
   "cell_type": "markdown",
   "id": "a3182a75",
   "metadata": {},
   "source": [
    "It looks like the durations for the underdelivered boluses are more \"random\", let's check:"
   ]
  },
  {
   "cell_type": "code",
   "execution_count": 66,
   "id": "6fd7d77b",
   "metadata": {},
   "outputs": [
    {
     "data": {
      "text/plain": [
       "4    13\n",
       "8    12\n",
       "3    11\n",
       "6     9\n",
       "1     9\n",
       "0     7\n",
       "7     4\n",
       "9     4\n",
       "5     3\n",
       "2     3\n",
       "Name: ExtendBolusDuration, dtype: int64"
      ]
     },
     "metadata": {},
     "output_type": "display_data"
    },
    {
     "data": {
      "text/plain": [
       "0    262\n",
       "5     62\n",
       "9     22\n",
       "4      1\n",
       "Name: ExtendBolusDuration, dtype: int64"
      ]
     },
     "metadata": {},
     "output_type": "display_data"
    }
   ],
   "source": [
    "display(duration_underdeliv.ExtendBolusDuration.apply(lambda x: x.split(':')[1][1]).value_counts())\n",
    "display(duration_full.ExtendBolusDuration.apply(lambda x: x.split(':')[1][1]).value_counts())"
   ]
  },
  {
   "cell_type": "markdown",
   "id": "8a2bdc35",
   "metadata": {},
   "source": [
    "<div class=\"alert alert-block alert-info\">The under-delivered boluses have a duration that is different from the delivered boluses. We can therefore assume that the duration was changed to the time until the bolus has been delivered.</div>"
   ]
  },
  {
   "cell_type": "markdown",
   "id": "e24e25aa",
   "metadata": {},
   "source": []
  }
 ],
 "metadata": {
  "kernelspec": {
   "display_name": "Python 3 (ipykernel)",
   "language": "python",
   "name": "python3"
  },
  "language_info": {
   "codemirror_mode": {
    "name": "ipython",
    "version": 3
   },
   "file_extension": ".py",
   "mimetype": "text/x-python",
   "name": "python",
   "nbconvert_exporter": "python",
   "pygments_lexer": "ipython3",
   "version": "3.9.6"
  }
 },
 "nbformat": 4,
 "nbformat_minor": 5
}
