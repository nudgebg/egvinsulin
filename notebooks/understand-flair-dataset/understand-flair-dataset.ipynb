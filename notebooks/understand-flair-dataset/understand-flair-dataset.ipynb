{
 "cells": [
  {
   "cell_type": "markdown",
   "id": "ea0d44eb-0c72-41fc-b821-5d1532975aa5",
   "metadata": {},
   "source": [
    "## Understanding Flair Dataset\n",
    "This notebook tries provides details on the structure of the flair dataset and makes suggestions how to process the data."
   ]
  },
  {
   "cell_type": "markdown",
   "id": "dff75a17-c70d-4a31-bf4c-073eb7e2b68d",
   "metadata": {},
   "source": [
    "## The FLAIR study\n",
    "\n",
    "**Title**: A Crossover Study Comparing Two Automated Insulin Delivery System\n",
    "Algorithms (PID vs. PID + Fuzzy Logic) in Individuals with Type 1\n",
    "Diabetes (FLAIR- Fuzzy Logic Automated Insulin Regulation)\n",
    "\n",
    "**Description**: A randomized crossover trial will compare the efficacy and safety of an\n",
    "automated insulin delivery (AID) system with a proportional-integral-\n",
    "derivative (PID) algorithm versus an automatic insulin delivery (AID) system\n",
    "with a PID algorithm enhanced with a Fuzzy Logic algorithm.\n",
    "    \n",
    "**Devices**: The Minimed 670G 4.0 Advanced Hybrid Closed-Loop (AHCL) (PID +\n",
    "Fuzzy Logic) pump with the Guardian Sensor (3) continuous glucose\n",
    "monitoring sensor."
   ]
  },
  {
   "cell_type": "markdown",
   "id": "9cdf33db-ebe9-4fa2-a814-d0383009c114",
   "metadata": {},
   "source": [
    "# Data\n",
    "The study data folder is named **FLAIRPublicDataSet**\n",
    "From the DataGlossary.rtf file, the following relevant files were identified which are stored in the **Data Tables** subfolder.\n",
    "\n",
    "* **FLAIRDeviceCGM.txt**: List of CGM data downloaded\n",
    "* **FLAIRDevicePump.txt**: List of pump data dowloaded \n",
    "* **PtRoster.txt**: Patient Roster\n",
    "\n",
    "These are csv files (\"|\" separator) and host many columns related to the Medtronic pump events and the guardian cgm. The glossary provides information about each column. While there are many columns, the following were identified as relevant.\n",
    "\n",
    "## FLAIRDeviceCGM\n",
    "* **PtID**: Patient ID\n",
    "* **DataDtTm**: Date-time of sensor glucose reading\n",
    "* **CGM**: Sensor glucose aka CGM - mdDl or mmol/L\n",
    "* **DataDtTm_adjusted**: Adjusted value of DataDtTm \n",
    "\n",
    "## FLAIRDevicePump\n",
    "* **PtID**: Patient ID\n",
    "### Time-Related\n",
    "* **DataDtTm**: Date-time of pump data\n",
    "* **NewDeviceDtTm**: The new date and time if this was changed in the device\n",
    "\n",
    "### Bolus related\n",
    "* **BolusType**: Bolus type - The bolus insulin delivery type [Normal, Square, Dual (normal part), or Dual (square part)]\n",
    "* **BolusDeliv**: Bolus volume delivered (U) - The number of insulin units actually delivered during the bolus insulin delivery\n",
    "* **ExtendBolusDuration**: Duration of the square portion of either a square bolus or a dual wave bolus\n",
    "\n",
    "### Basal Related\n",
    "* **BasalRt**: Basal Rate (U/h) - The active basal insulin delivery rate in units per hour\n",
    "* **BasalRtUnKnown**: Basal rate unknown as marked in the carelink file\n",
    "* **TempBasalAmt**: Temp basal amount - If a temp basal was applied on the pump, this value is the temp basal amount\n",
    "* **TempBasalType**: Temp basal type - The type of temporary basal adjustment (insulin rate or percent of basal)\n",
    "* **TempBasalDur**: Temp basal duration (h:mm:ss) - The length of time for the temporary basal insulin delivery\n",
    "\n",
    "### Other\n",
    "Suspend: State \"Suspend\" when the pump is suspended and \"Resumed\" when the pump is resumed \n",
    "\n",
    "## Questions\n",
    "* Do we need to track DataDtTm_adjusted or can we rely on DataDtTm?\n",
    "* How often do NewDeviceDtTm** events happen and do we need to account fo these or is DataDtTm sufficient?\n",
    "* How often do BasalRtUnKnown** events happen and how should we handle these?\n",
    "* Are TempBasalAmt reflected in the BasalRt? Is the value a rate (U/h) or depend on the TempBasalType (Percent/Rate)?\n",
    "* Do we have to keep track of temporary basal durations events (TempBasalDur) or do we get a normal basal rate at the end of the basal rate?\n",
    "* How often does the pump suspend (Suspend)? Should we stop counting basal rates in this time?\n",
    "\n"
   ]
  },
  {
   "cell_type": "code",
   "execution_count": 161,
   "id": "886427dc-4961-4459-899d-6fd9b5851fc2",
   "metadata": {},
   "outputs": [],
   "source": [
    "import os, sys, time, random\n",
    "import pandas as pd\n",
    "from datetime import datetime, timedelta\n",
    "import numpy as np\n",
    "from matplotlib import pyplot as plt"
   ]
  },
  {
   "cell_type": "markdown",
   "id": "5d2fe84f-0f12-4e6c-9061-a0cca7a8f979",
   "metadata": {},
   "source": [
    "## Load the data"
   ]
  },
  {
   "cell_type": "code",
   "execution_count": 2,
   "id": "ea6f1fd8-52dd-46ae-80fc-616699cd99f6",
   "metadata": {},
   "outputs": [],
   "source": [
    "def parse_flair_dates(df, date_column):\n",
    "    \"\"\"Parse date strings separately for those with/without time component, interpret those without as midnight (00AM)\n",
    "        Args:\n",
    "            df (pandas DataFrame): data frame holding data\n",
    "            date_column (string): column name that holds date time strings to be used for parsing\n",
    "\n",
    "        Returns:\n",
    "            df (pandas DataFrame): with new DateTime column holding datetime objects\n",
    "        \"\"\"\n",
    "    #\n",
    "    b_only_date = (df[date_column].str.len() <= 10)\n",
    "    print(sum(b_only_date))\n",
    "    df.loc[b_only_date, 'DateTime'] = pd.to_datetime(df.loc[b_only_date, date_column], format='%m/%d/%Y')\n",
    "    df.loc[~b_only_date, 'DateTime'] = pd.to_datetime(df.loc[~b_only_date, date_column], format='%m/%d/%Y %I:%M:%S %p')\n",
    "    return df"
   ]
  },
  {
   "cell_type": "markdown",
   "id": "1d3f11a5-8c8d-48eb-8ce2-d0943fe060bc",
   "metadata": {},
   "source": [
    "## inspecting the event counts"
   ]
  },
  {
   "cell_type": "code",
   "execution_count": 16,
   "id": "5181d316-334e-4afb-b078-700eac6387fd",
   "metadata": {},
   "outputs": [
    {
     "name": "stdout",
     "output_type": "stream",
     "text": [
      "60\n"
     ]
    },
    {
     "data": {
      "text/html": [
       "<div>\n",
       "<style scoped>\n",
       "    .dataframe tbody tr th:only-of-type {\n",
       "        vertical-align: middle;\n",
       "    }\n",
       "\n",
       "    .dataframe tbody tr th {\n",
       "        vertical-align: top;\n",
       "    }\n",
       "\n",
       "    .dataframe thead th {\n",
       "        text-align: right;\n",
       "    }\n",
       "</style>\n",
       "<table border=\"1\" class=\"dataframe\">\n",
       "  <thead>\n",
       "    <tr style=\"text-align: right;\">\n",
       "      <th></th>\n",
       "      <th>PtID</th>\n",
       "      <th>DataDtTm</th>\n",
       "      <th>CGM</th>\n",
       "      <th>DataDtTm_adjusted</th>\n",
       "      <th>DateTime</th>\n",
       "    </tr>\n",
       "  </thead>\n",
       "  <tbody>\n",
       "    <tr>\n",
       "      <th>0</th>\n",
       "      <td>26</td>\n",
       "      <td>5/15/2019 9:18:15 PM</td>\n",
       "      <td>136</td>\n",
       "      <td>NaN</td>\n",
       "      <td>2019-05-15 21:18:15</td>\n",
       "    </tr>\n",
       "    <tr>\n",
       "      <th>1</th>\n",
       "      <td>26</td>\n",
       "      <td>5/15/2019 9:13:15 PM</td>\n",
       "      <td>146</td>\n",
       "      <td>NaN</td>\n",
       "      <td>2019-05-15 21:13:15</td>\n",
       "    </tr>\n",
       "    <tr>\n",
       "      <th>2</th>\n",
       "      <td>26</td>\n",
       "      <td>5/15/2019 9:08:15 PM</td>\n",
       "      <td>157</td>\n",
       "      <td>NaN</td>\n",
       "      <td>2019-05-15 21:08:15</td>\n",
       "    </tr>\n",
       "    <tr>\n",
       "      <th>3</th>\n",
       "      <td>26</td>\n",
       "      <td>5/15/2019 9:03:15 PM</td>\n",
       "      <td>166</td>\n",
       "      <td>NaN</td>\n",
       "      <td>2019-05-15 21:03:15</td>\n",
       "    </tr>\n",
       "    <tr>\n",
       "      <th>4</th>\n",
       "      <td>26</td>\n",
       "      <td>5/15/2019 8:58:15 PM</td>\n",
       "      <td>174</td>\n",
       "      <td>NaN</td>\n",
       "      <td>2019-05-15 20:58:15</td>\n",
       "    </tr>\n",
       "  </tbody>\n",
       "</table>\n",
       "</div>"
      ],
      "text/plain": [
       "   PtID              DataDtTm  CGM DataDtTm_adjusted            DateTime\n",
       "0    26  5/15/2019 9:18:15 PM  136               NaN 2019-05-15 21:18:15\n",
       "1    26  5/15/2019 9:13:15 PM  146               NaN 2019-05-15 21:13:15\n",
       "2    26  5/15/2019 9:08:15 PM  157               NaN 2019-05-15 21:08:15\n",
       "3    26  5/15/2019 9:03:15 PM  166               NaN 2019-05-15 21:03:15\n",
       "4    26  5/15/2019 8:58:15 PM  174               NaN 2019-05-15 20:58:15"
      ]
     },
     "metadata": {},
     "output_type": "display_data"
    },
    {
     "name": "stdout",
     "output_type": "stream",
     "text": [
      "overall data counts:\n",
      "PtID                 5508985\n",
      "DataDtTm             5508985\n",
      "CGM                  5508985\n",
      "DataDtTm_adjusted      10655\n",
      "DateTime             5508985\n",
      "dtype: int64\n"
     ]
    }
   ],
   "source": [
    "current_dir = os.getcwd(); \n",
    "path = os.path.join(current_dir, '..', '..', 'data/raw','FLAIRPublicDataSet','Data Tables', 'FLAIRDeviceCGM.txt')\n",
    "df_cgm = pd.read_csv(path, sep=\"|\", low_memory=False, usecols=['PtID', 'DataDtTm', 'CGM', 'DataDtTm_adjusted'])\n",
    "df_cgm = parse_flair_dates(df_cgm,'DataDtTm')\n",
    "display(df_cgm.head());\n",
    "\n",
    "print(\"overall data counts:\")\n",
    "print(df_cgm.count());"
   ]
  },
  {
   "cell_type": "markdown",
   "id": "4e4a33bc-ad93-4908-84f8-b1b32e8b08a8",
   "metadata": {},
   "source": [
    "<div class=\"alert alert-block alert-warning\">\n",
    "<b>Date Adjustments:</b> We see that there are ~10k adjusted datetimes (~0.2% of the data).\n",
    "</div>"
   ]
  },
  {
   "cell_type": "code",
   "execution_count": 17,
   "id": "42094c7a-83cb-4ab0-a539-ed0948264ac7",
   "metadata": {},
   "outputs": [
    {
     "name": "stdout",
     "output_type": "stream",
     "text": [
      "35150\n"
     ]
    },
    {
     "data": {
      "text/html": [
       "<div>\n",
       "<style scoped>\n",
       "    .dataframe tbody tr th:only-of-type {\n",
       "        vertical-align: middle;\n",
       "    }\n",
       "\n",
       "    .dataframe tbody tr th {\n",
       "        vertical-align: top;\n",
       "    }\n",
       "\n",
       "    .dataframe thead th {\n",
       "        text-align: right;\n",
       "    }\n",
       "</style>\n",
       "<table border=\"1\" class=\"dataframe\">\n",
       "  <thead>\n",
       "    <tr style=\"text-align: right;\">\n",
       "      <th></th>\n",
       "      <th>PtID</th>\n",
       "      <th>DataDtTm</th>\n",
       "      <th>BasalRt</th>\n",
       "      <th>TempBasalAmt</th>\n",
       "      <th>TempBasalType</th>\n",
       "      <th>TempBasalDur</th>\n",
       "      <th>BolusType</th>\n",
       "      <th>BolusDeliv</th>\n",
       "      <th>ExtendBolusDuration</th>\n",
       "      <th>DateTime</th>\n",
       "    </tr>\n",
       "  </thead>\n",
       "  <tbody>\n",
       "    <tr>\n",
       "      <th>0</th>\n",
       "      <td>26</td>\n",
       "      <td>5/15/2019 11:59:59 PM</td>\n",
       "      <td>NaN</td>\n",
       "      <td>NaN</td>\n",
       "      <td>NaN</td>\n",
       "      <td>NaN</td>\n",
       "      <td>NaN</td>\n",
       "      <td>NaN</td>\n",
       "      <td>NaN</td>\n",
       "      <td>2019-05-15 23:59:59</td>\n",
       "    </tr>\n",
       "    <tr>\n",
       "      <th>1</th>\n",
       "      <td>26</td>\n",
       "      <td>5/15/2019 11:58:26 PM</td>\n",
       "      <td>NaN</td>\n",
       "      <td>NaN</td>\n",
       "      <td>NaN</td>\n",
       "      <td>NaN</td>\n",
       "      <td>Normal</td>\n",
       "      <td>0.025</td>\n",
       "      <td>NaN</td>\n",
       "      <td>2019-05-15 23:58:26</td>\n",
       "    </tr>\n",
       "    <tr>\n",
       "      <th>2</th>\n",
       "      <td>26</td>\n",
       "      <td>5/15/2019 11:53:26 PM</td>\n",
       "      <td>NaN</td>\n",
       "      <td>NaN</td>\n",
       "      <td>NaN</td>\n",
       "      <td>NaN</td>\n",
       "      <td>Normal</td>\n",
       "      <td>0.050</td>\n",
       "      <td>NaN</td>\n",
       "      <td>2019-05-15 23:53:26</td>\n",
       "    </tr>\n",
       "    <tr>\n",
       "      <th>3</th>\n",
       "      <td>26</td>\n",
       "      <td>5/15/2019 11:48:28 PM</td>\n",
       "      <td>NaN</td>\n",
       "      <td>NaN</td>\n",
       "      <td>NaN</td>\n",
       "      <td>NaN</td>\n",
       "      <td>Normal</td>\n",
       "      <td>0.025</td>\n",
       "      <td>NaN</td>\n",
       "      <td>2019-05-15 23:48:28</td>\n",
       "    </tr>\n",
       "    <tr>\n",
       "      <th>4</th>\n",
       "      <td>26</td>\n",
       "      <td>5/15/2019 11:43:28 PM</td>\n",
       "      <td>NaN</td>\n",
       "      <td>NaN</td>\n",
       "      <td>NaN</td>\n",
       "      <td>NaN</td>\n",
       "      <td>Normal</td>\n",
       "      <td>0.025</td>\n",
       "      <td>NaN</td>\n",
       "      <td>2019-05-15 23:43:28</td>\n",
       "    </tr>\n",
       "  </tbody>\n",
       "</table>\n",
       "</div>"
      ],
      "text/plain": [
       "   PtID               DataDtTm  BasalRt  TempBasalAmt TempBasalType  \\\n",
       "0    26  5/15/2019 11:59:59 PM      NaN           NaN           NaN   \n",
       "1    26  5/15/2019 11:58:26 PM      NaN           NaN           NaN   \n",
       "2    26  5/15/2019 11:53:26 PM      NaN           NaN           NaN   \n",
       "3    26  5/15/2019 11:48:28 PM      NaN           NaN           NaN   \n",
       "4    26  5/15/2019 11:43:28 PM      NaN           NaN           NaN   \n",
       "\n",
       "  TempBasalDur BolusType  BolusDeliv ExtendBolusDuration            DateTime  \n",
       "0          NaN       NaN         NaN                 NaN 2019-05-15 23:59:59  \n",
       "1          NaN    Normal       0.025                 NaN 2019-05-15 23:58:26  \n",
       "2          NaN    Normal       0.050                 NaN 2019-05-15 23:53:26  \n",
       "3          NaN    Normal       0.025                 NaN 2019-05-15 23:48:28  \n",
       "4          NaN    Normal       0.025                 NaN 2019-05-15 23:43:28  "
      ]
     },
     "metadata": {},
     "output_type": "display_data"
    },
    {
     "name": "stdout",
     "output_type": "stream",
     "text": [
      "overall data counts:\n",
      "PtID                   5100621\n",
      "DataDtTm               5100621\n",
      "BasalRt                  60668\n",
      "TempBasalAmt              1446\n",
      "TempBasalType             1446\n",
      "TempBasalDur              1446\n",
      "BolusType              3946622\n",
      "BolusDeliv             3555501\n",
      "ExtendBolusDuration        445\n",
      "DateTime               5100621\n",
      "dtype: int64 \n",
      "\n",
      "bolus types:\n",
      "Normal                3945345\n",
      "Dual (square part)        697\n",
      "Dual (normal part)        534\n",
      "Square                     46\n",
      "Name: BolusType, dtype: int64 \n",
      "\n",
      "temp basal types:\n",
      "Percent    1437\n",
      "Rate          9\n",
      "Name: TempBasalType, dtype: int64 \n",
      "\n"
     ]
    }
   ],
   "source": [
    "current_dir = os.getcwd(); \n",
    "path = os.path.join(current_dir, '..', '..', 'data/raw','FLAIRPublicDataSet','Data Tables', 'FLAIRDevicePump.txt')\n",
    "df_insulin = pd.read_csv(path, sep=\"|\", low_memory=False,\n",
    "                         usecols=['PtID', 'DataDtTm', 'BasalRt', 'TempBasalAmt','TempBasalType', 'TempBasalDur','BolusType', 'BolusDeliv', 'ExtendBolusDuration'])\n",
    "df_insulin = parse_flair_dates(df_insulin,'DataDtTm')\n",
    "display(df_insulin.head())\n",
    "\n",
    "print(\"overall data counts:\")\n",
    "print(df_insulin.count(),\"\\n\")\n",
    "print(\"bolus types:\")\n",
    "print(df_insulin.BolusType.value_counts(),\"\\n\")\n",
    "print(\"temp basal types:\")\n",
    "print(df_insulin.TempBasalType.value_counts(),\"\\n\")"
   ]
  },
  {
   "cell_type": "markdown",
   "id": "7fa93546-5fe5-4329-bd99-7816b43e9353",
   "metadata": {},
   "source": [
    "<div class=\"alert alert-block alert-warning\">\n",
    "<b>Dual Wave Boluses:</b> There are (697 or 534) dual wave and 46 sqaure (extended) boluses (<0.02% of the boluses). The dual wave bolus events (square part) (normal part) should be equal in theory.\n",
    "</div>\n",
    "\n",
    "<div class=\"alert alert-block alert-warning\">\n",
    "<b>Temp Basal:</b> We have 1446 temp basal values. only 9 of these are set by insulin rate, the others are in percent.\n",
    "</div>"
   ]
  },
  {
   "attachments": {},
   "cell_type": "markdown",
   "id": "d00d16b0-8819-4621-8d08-e07aaf189481",
   "metadata": {},
   "source": [
    "# Understanding Insulin Events\n",
    "According to Lane, 100% refers to the normal basal rate. Medtronic allows setting temp basal percentages from 0 (shut off) to 200% (twice the basal rate). These values are confirmed by the histogram of the data. This is confirmed by the manual:\n",
    "\n",
    "## From the Medtronic Manual\n",
    "\n",
    "### Temp basal rates\n",
    "The duration of the temp basal rate can range from 30 minutes to 24 hours. After the temp basal rate delivery is completed or canceled, the programmed basal pattern resumes. The temp basal rates and preset temp basal rates can be defined using either a **percentage** of the current basal pattern or by setting a **specific rate**, as described [...]\n",
    "\n",
    "#### Percent\n",
    "Percent delivers a percentage of the basal rates programmed in the active basal pattern for the duration of the temp basal rate. The temp basal amount is rounded down to the next 0.025 units if the basal rate is set at less than 1 unit per hour, or to the next 0.05 units if the basal rate is set at more than 1 unit per hour. Temp basal rates can be set to deliver from **0% to 200%** of the scheduled basal rate. The **percentage used is based on the largest basal rate scheduled during the temp basal rate duration** and is **limited by the Max basal rate**.\n",
    "\n",
    "#### Rate\n",
    "delivers a fixed basal insulin rate in **units per hour** for the duration of the temp basal rate. The amount set is **limited by the Max basal rate**.\n",
    "\n",
    "### Bolus types\n",
    "* **Normal bolus**: provides a single immediate dose of insulin.\n",
    "* **Square Wave bolus**: delivers a single bolus evenly over an extended period of time from 30 minutes up to 8 hours.\n",
    "* **Dual Wave bolus**: delivers a combination of an immediate normal bo‐ lus followed by a Square Wave bolus.\n",
    "\n",
    "\n",
    "<div>\n",
    "<img src=\"Bolus Types Medtronic.png\" width=\"500\"/>\n",
    "</div>\n",
    "\n",
    "\n",
    "[1] MiniMed-780G-system-user-guide-with-Guardian-4-sensor.pdf\n",
    "[2] user_guide_minimed_670g_pump-skompresowany.pdf"
   ]
  },
  {
   "cell_type": "markdown",
   "id": "75b1e469-7123-4533-937a-de676602d91e",
   "metadata": {},
   "source": [
    "### What is stored in the TempBasalAmt?"
   ]
  },
  {
   "cell_type": "code",
   "execution_count": 28,
   "id": "e4114e50-1a45-460b-a701-70266f36a1ed",
   "metadata": {},
   "outputs": [
    {
     "data": {
      "text/html": [
       "<div>\n",
       "<style scoped>\n",
       "    .dataframe tbody tr th:only-of-type {\n",
       "        vertical-align: middle;\n",
       "    }\n",
       "\n",
       "    .dataframe tbody tr th {\n",
       "        vertical-align: top;\n",
       "    }\n",
       "\n",
       "    .dataframe thead th {\n",
       "        text-align: right;\n",
       "    }\n",
       "</style>\n",
       "<table border=\"1\" class=\"dataframe\">\n",
       "  <thead>\n",
       "    <tr style=\"text-align: right;\">\n",
       "      <th></th>\n",
       "      <th>DateTime</th>\n",
       "      <th>BasalRt</th>\n",
       "      <th>TempBasalAmt</th>\n",
       "      <th>TempBasalType</th>\n",
       "      <th>TempBasalDur</th>\n",
       "    </tr>\n",
       "  </thead>\n",
       "  <tbody>\n",
       "    <tr>\n",
       "      <th>16499</th>\n",
       "      <td>2019-03-11 12:46:39</td>\n",
       "      <td>NaN</td>\n",
       "      <td>100.0</td>\n",
       "      <td>Percent</td>\n",
       "      <td>0:00:00</td>\n",
       "    </tr>\n",
       "    <tr>\n",
       "      <th>29868</th>\n",
       "      <td>2019-03-10 23:59:21</td>\n",
       "      <td>NaN</td>\n",
       "      <td>50.0</td>\n",
       "      <td>Percent</td>\n",
       "      <td>12:00:00</td>\n",
       "    </tr>\n",
       "    <tr>\n",
       "      <th>29884</th>\n",
       "      <td>2019-03-10 15:43:56</td>\n",
       "      <td>NaN</td>\n",
       "      <td>0.0</td>\n",
       "      <td>Percent</td>\n",
       "      <td>8:15:00</td>\n",
       "    </tr>\n",
       "  </tbody>\n",
       "</table>\n",
       "</div>"
      ],
      "text/plain": [
       "                 DateTime  BasalRt  TempBasalAmt TempBasalType TempBasalDur\n",
       "16499 2019-03-11 12:46:39      NaN         100.0       Percent      0:00:00\n",
       "29868 2019-03-10 23:59:21      NaN          50.0       Percent     12:00:00\n",
       "29884 2019-03-10 15:43:56      NaN           0.0       Percent      8:15:00"
      ]
     },
     "metadata": {},
     "output_type": "display_data"
    },
    {
     "data": {
      "image/png": "[encoded data removed]",
      "text/plain": [
       "<Figure size 600x200 with 1 Axes>"
      ]
     },
     "metadata": {},
     "output_type": "display_data"
    }
   ],
   "source": [
    "display(df_insulin.loc[df_insulin.TempBasalType ==\"Percent\",['DateTime','BasalRt', 'TempBasalAmt','TempBasalType', 'TempBasalDur']].head(3))\n",
    "plt.figure(figsize=(6,2)); plt.xlabel(\"TempBasalAmt\"); plt.title(\"TempBasalType=Percent\")\n",
    "plt.hist(df_insulin.loc[df_insulin.TempBasalType ==\"Percent\",'TempBasalAmt']);"
   ]
  },
  {
   "cell_type": "code",
   "execution_count": 30,
   "id": "751ab538-03a4-46ce-8f67-5bb753060424",
   "metadata": {},
   "outputs": [
    {
     "data": {
      "text/html": [
       "<div>\n",
       "<style scoped>\n",
       "    .dataframe tbody tr th:only-of-type {\n",
       "        vertical-align: middle;\n",
       "    }\n",
       "\n",
       "    .dataframe tbody tr th {\n",
       "        vertical-align: top;\n",
       "    }\n",
       "\n",
       "    .dataframe thead th {\n",
       "        text-align: right;\n",
       "    }\n",
       "</style>\n",
       "<table border=\"1\" class=\"dataframe\">\n",
       "  <thead>\n",
       "    <tr style=\"text-align: right;\">\n",
       "      <th></th>\n",
       "      <th>DateTime</th>\n",
       "      <th>BasalRt</th>\n",
       "      <th>TempBasalAmt</th>\n",
       "      <th>TempBasalType</th>\n",
       "      <th>TempBasalDur</th>\n",
       "    </tr>\n",
       "  </thead>\n",
       "  <tbody>\n",
       "    <tr>\n",
       "      <th>58519</th>\n",
       "      <td>2019-06-24 11:47:55</td>\n",
       "      <td>NaN</td>\n",
       "      <td>0.1</td>\n",
       "      <td>Rate</td>\n",
       "      <td>0:01:00</td>\n",
       "    </tr>\n",
       "    <tr>\n",
       "      <th>498999</th>\n",
       "      <td>2019-05-17 08:04:58</td>\n",
       "      <td>NaN</td>\n",
       "      <td>1.6</td>\n",
       "      <td>Rate</td>\n",
       "      <td>0:49:00</td>\n",
       "    </tr>\n",
       "    <tr>\n",
       "      <th>500045</th>\n",
       "      <td>2019-05-06 11:44:36</td>\n",
       "      <td>NaN</td>\n",
       "      <td>1.3</td>\n",
       "      <td>Rate</td>\n",
       "      <td>1:30:00</td>\n",
       "    </tr>\n",
       "  </tbody>\n",
       "</table>\n",
       "</div>"
      ],
      "text/plain": [
       "                  DateTime  BasalRt  TempBasalAmt TempBasalType TempBasalDur\n",
       "58519  2019-06-24 11:47:55      NaN           0.1          Rate      0:01:00\n",
       "498999 2019-05-17 08:04:58      NaN           1.6          Rate      0:49:00\n",
       "500045 2019-05-06 11:44:36      NaN           1.3          Rate      1:30:00"
      ]
     },
     "metadata": {},
     "output_type": "display_data"
    },
    {
     "data": {
      "image/png": "[encoded data removed]",
      "text/plain": [
       "<Figure size 600x200 with 1 Axes>"
      ]
     },
     "metadata": {},
     "output_type": "display_data"
    }
   ],
   "source": [
    "display(df_insulin.loc[df_insulin.TempBasalType ==\"Rate\",['DateTime','BasalRt', 'TempBasalAmt','TempBasalType', 'TempBasalDur']].head(3))\n",
    "plt.figure(figsize=(6,2)); plt.xlabel(\"TempBasalAmt\"); plt.title(\"TempBasalType=Rate\")\n",
    "plt.hist(df_insulin.loc[df_insulin.TempBasalType ==\"Rate\",'TempBasalAmt']);"
   ]
  },
  {
   "cell_type": "markdown",
   "id": "07773eb2-94ab-4534-94fa-2ca838b4c219",
   "metadata": {},
   "source": [
    "<div class=\"alert alert-block alert-info\">TempBasalAmt contains a percentage value if TempBasalType=='Percent' or a rate U/h if TempBasalType=='Rate'. </div>\n",
    "\n",
    "<div class=\"alert alert-block alert-info\"> The maximum basal temp basal rate programmed using the \"Rate\" feature only reached 2U/h. While higher temp basal rates can be programmed, only 9 such event mean that this feature was only used by a few users.</div>\n",
    "\n",
    "<div class=\"alert alert-block alert-warning\">\n",
    "<b>Interpreting Temp Basal of 100 Percent:</b> The manual notices that *The percentage used is based on the largest basal rate scheduled during the temp basal rate duration*, a value of 100 still changes the basl rate to the highest standard basal rate that would occur within the duration of the temp basal rate. \n",
    "</div>"
   ]
  },
  {
   "cell_type": "markdown",
   "id": "c425b626-876b-4ba4-abe6-08db46ae3a9b",
   "metadata": {},
   "source": [
    "### Are temp basal rates reflected in the BasalRt?\n",
    "The TempBasalAmt tells us how much the standard rate is changed. It is unclear weather these changes are already reflected in the BasalRt. Do figure this out we can check what happens to BasalRt when somebody uses a fixed basal rate or 0%."
   ]
  },
  {
   "cell_type": "code",
   "execution_count": 157,
   "id": "feb70ad0-3c9b-4885-b727-4c08bfe4fdc2",
   "metadata": {},
   "outputs": [],
   "source": [
    "def parse_duration(duration_str):\n",
    "  \"\"\"\n",
    "  Parses a duration string in format \"HH:MM:SS\" to timedelta.\n",
    "\n",
    "  Args:\n",
    "      duration_str: The duration string to parse.\n",
    "\n",
    "  Returns:\n",
    "      A timedelta object representing the parsed duration.\n",
    "  \"\"\"\n",
    "  hours, minutes, seconds = map(int, duration_str.split(\":\"))\n",
    "  return timedelta(hours=hours, minutes=minutes, seconds=seconds)\n",
    "    \n",
    "def drawInsulinEvents(df):\n",
    "    f = plt.figure(figsize=(15,3))\n",
    "    ax = f.gca();\n",
    "    twinax=ax.twinx()\n",
    "\n",
    "    plt.title(f\"Patient {df.PtID.iloc[0]}\")\n",
    "\n",
    "    temp = df.copy()\n",
    "    temp = temp.sort_values(\"DateTime\")\n",
    "    boluses = temp.dropna(subset=['BolusDeliv'],axis=0)\n",
    "    basalRates = temp.dropna(subset=['BasalRt'],axis=0)\n",
    "    tmpBasals = temp.dropna(subset=['TempBasalAmt'],axis=0)\n",
    "\n",
    "    #boluses\n",
    "    if len(boluses) > 0:\n",
    "        ax.bar(boluses.DateTime, boluses.BolusDeliv, width=timedelta(minutes=15), label='boluses')\n",
    "        \n",
    "    #basal rates\n",
    "    if len(basalRates) > 0:\n",
    "        ax.stem(basalRates.DateTime, basalRates.BasalRt, label='basal rates',markerfmt='None',linefmt='r-')\n",
    "        ax.stairs(basalRates.BasalRt.iloc[:-1],basalRates.DateTime, label='basal rates',color='red',fill=True,alpha=0.2,)\n",
    "    \n",
    "    \n",
    "    if len(tmpBasals) > 0:\n",
    "        #temp basal rates\n",
    "        \n",
    "        #ax.stem(tmpBasals.DateTime, tmpBasals.TempBasalAmt, label='temp basal amount',markerfmt='None',linefmt='r-')\n",
    "        #ax.stairs(basalRates.BasalRt.iloc[:-1],basalRates.DateTime, label='basal rates',color='red',fill=True,alpha=0.2,)\n",
    "        plt.bar(tmpBasals.DateTime, tmpBasals.TempBasalAmt.apply(lambda x: 5 if x==0 else x), \n",
    "                width=tmpBasals.TempBasalDur.apply(parse_duration), \n",
    "                align='edge', label='temp basal amount',color='yellow');\n",
    "        \n",
    "    ax.set_ylim([0,10]);\n",
    "    ax.legend(loc='upper left')\n",
    "    twinax.set_ylim([0,250])\n",
    "    twinax.legend(loc=\"upper right\")\n",
    "    return ax"
   ]
  },
  {
   "cell_type": "markdown",
   "id": "0e9b5639-7c60-42a2-b2b1-c4fe987bd02d",
   "metadata": {},
   "source": [
    "## Investigate when temp basal was set to 0"
   ]
  },
  {
   "cell_type": "code",
   "execution_count": 162,
   "id": "2ee61117-ec64-418a-a87b-cb9ebf919884",
   "metadata": {},
   "outputs": [
    {
     "data": {
      "image/png": "[encoded data removed]",
      "text/plain": [
       "<Figure size 1500x300 with 2 Axes>"
      ]
     },
     "metadata": {},
     "output_type": "display_data"
    },
    {
     "data": {
      "image/png": "[encoded data removed]",
      "text/plain": [
       "<Figure size 1500x300 with 2 Axes>"
      ]
     },
     "metadata": {},
     "output_type": "display_data"
    }
   ],
   "source": [
    "def selectRegionAroundEvent(df, patient_id, date_time, hours):\n",
    "    sub_frame = df.loc[(df.PtID==patient_id) & (df.DateTime>date_time-timedelta(hours=hours)) & (df.DateTime<date_time+timedelta(hours=hours))]\n",
    "    return sub_frame\n",
    "\n",
    "#we select a random temp basal event with temp basal set to zero and some data around it\n",
    "zeroRateEvents = df_insulin.loc[df_insulin.TempBasalAmt==0]\n",
    "random_index = random.choice(zeroRateEvents.index)\n",
    "subFrame = selectRegionAroundEvent(df_insulin, \n",
    "                                   zeroRateEvents.loc[random_index,'PtID'], \n",
    "                                   zeroRateEvents.loc[random_index,'DateTime'], 12)\n",
    "drawInsulinEvents(subFrame)\n",
    "\n",
    "#same just with a fixed event (for reproducibility)\n",
    "subFrame = selectRegionAroundEvent(df_insulin, \n",
    "                                   zeroRateEvents.loc[1044474,'PtID'], \n",
    "                                   zeroRateEvents.loc[1044474,'DateTime'], 12)\n",
    "drawInsulinEvents(subFrame);"
   ]
  },
  {
   "cell_type": "markdown",
   "id": "bfc57b11-24fe-40c2-9cea-54d79afd9e9c",
   "metadata": {},
   "source": [
    "<div class=\"alert alert-block alert-warning\">\n",
    "<b>Temp Basal Not Reflected in Basal Rate:</b> As we can see, the temporary Basal Events do not affect the basal rate. Therefore, we need to do post-processing to obtain the real basal rate\n",
    "</div>"
   ]
  },
  {
   "cell_type": "code",
   "execution_count": 169,
   "id": "917801a8-c4d1-4bda-ab0b-a3aa7f58571c",
   "metadata": {},
   "outputs": [
    {
     "name": "stderr",
     "output_type": "stream",
     "text": [
      "No handles with labels found to put in legend.\n"
     ]
    },
    {
     "data": {
      "text/plain": [
       "<AxesSubplot:>"
      ]
     },
     "execution_count": 169,
     "metadata": {},
     "output_type": "execute_result"
    },
    {
     "data": {
      "image/png": "[encoded data removed]",
      "text/plain": [
       "<Figure size 1500x300 with 2 Axes>"
      ]
     },
     "metadata": {},
     "output_type": "display_data"
    },
    {
     "data": {
      "image/png": "[encoded data removed]",
      "text/plain": [
       "<Figure size 1500x300 with 2 Axes>"
      ]
     },
     "metadata": {},
     "output_type": "display_data"
    }
   ],
   "source": [
    "def first_days_random_patient(df,days=3, patient_id=None):\n",
    "    if not patient_id:\n",
    "        patient_id = random.choice(df_insulin.PtID.unique())\n",
    "    temp = df_insulin.loc[df_insulin.PtID==patient_id]\n",
    "    return temp.loc[temp.DateTime<temp.DateTime.min()+timedelta(hours=72)]\n",
    "\n",
    "patient_id = random.choice(df_insulin.PtID.unique())\n",
    "sub_frame = first_days_random_patient(df_insulin, days=5, patient_id=patient_id)\n",
    "drawInsulinEvents(sub_frame)\n",
    "\n",
    "#for reproducibility for a fixed patient\n",
    "sub_frame = first_days_random_patient(df_insulin, days=5, patient_id=100)\n",
    "drawInsulinEvents(sub_frame)"
   ]
  }
 ],
 "metadata": {
  "kernelspec": {
   "display_name": "Python 3 (ipykernel)",
   "language": "python",
   "name": "python3"
  },
  "language_info": {
   "codemirror_mode": {
    "name": "ipython",
    "version": 3
   },
   "file_extension": ".py",
   "mimetype": "text/x-python",
   "name": "python",
   "nbconvert_exporter": "python",
   "pygments_lexer": "ipython3",
   "version": "3.9.6"
  }
 },
 "nbformat": 4,
 "nbformat_minor": 5
}
