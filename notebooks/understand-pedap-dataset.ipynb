{
 "cells": [
  {
   "cell_type": "markdown",
   "id": "ea0d44eb-0c72-41fc-b821-5d1532975aa5",
   "metadata": {},
   "source": [
    "## Understanding PEDAP Dataset\n",
    "This notebook tries provides details on the structure of the PEDAP dataset and makes suggestions how to process the data."
   ]
  },
  {
   "cell_type": "markdown",
   "id": "dff75a17-c70d-4a31-bf4c-073eb7e2b68d",
   "metadata": {},
   "source": [
    "## The PEDAP study\n",
    "\n",
    "**Title**: The Pediatric Artificial Pancreas (PEDAP) trial: A Randomized Controlled Comparison of the Control- IQ technology \n",
    "Versus Standard of Care in Young Children in Type 1 Diabetes\n",
    "\n",
    "\n",
    "**Description**: The objective of the study is to assess efficacy, quality of life, and safety of a closed loop control (CLC) system (t:slim X2 with Control-IQ Technology) in a randomized controlled trial with partial crossover.\n",
    "    \n",
    "**Devices**: t:slim X2 with Control-IQ and Dexcom G6 system\n",
    "\n",
    "**Study Population**: Children aged 2 - 5 years old"
   ]
  },
  {
   "cell_type": "markdown",
   "id": "9cdf33db-ebe9-4fa2-a814-d0383009c114",
   "metadata": {},
   "source": [
    "# Data\n",
    "The study data folder is named **PEDAP Public Dataset - Release 1 - 2024-04-16**\n",
    "\n",
    "From the DataGlossary.rtf file, the following relevant files were identified which are stored in the **Data Files** subfolder.\n",
    "\n",
    "* **PEDAPTandemBOLUSDELIVERED.txt**: Event logged on pump when delivery of an insulin bolus (Standard, Extended, or Automatic) is completed\n",
    "* **PEDAPTandemBASALRATECHG.txt**: Event logged on pump when insulin basal rate changes due to pumping events\n",
    "* **PEDAPTandemCGMDataGXB.txt**: List of cgm data dowloaded \n",
    "* **PtRoster.txt**: Patient Roster\n",
    "\n",
    "These are csv files (\"|\" separator) and host many columns related to the Tandem pump events and the Dexcom cgm. The glossary provides information about each column. Each file contains a limited amount of columns compared to the FLAIR data. Below are **all** of the columns contained in each file\n",
    "\n",
    "## PEDAPTandemBOLUSDELIVERED\n",
    "* **PtID**: Patient ID\n",
    "* **DeviceDtTm**: Date-time of completion of bolus delivery\n",
    "* **BolusAmount**: size of completed bolus\n",
    "* **CarbAmount**: grams of carbs announced to the pump\n",
    "* **BolusType**: The bolus insulin delivery type [Standard, Extended, Automatic]\n",
    "* **Duration**: For extended boluses, the requested bolus duration in minutes\n",
    "* **ExtendedBolusPortion**: Flag distinguishing the immediate (Now) portion of the bolus (if any) from the extended (Later) portion [Now, Later]\n",
    "## PEDAPTandemBASALRATECHG\n",
    "* **PtID**: Patient ID\n",
    "* **DeviceDtTm**: Date-time of basal rate change\n",
    "* **BasalRate**: Basal Rate (U/h) - The active basal insulin delivery rate in units per hour\n",
    "## PEDAPTandemCGMDataGXB\n",
    "* **PtID**: Patient ID\n",
    "* **DeviceDtTm**: Date-time \n",
    "* **CGMValue**: Value of CGM reading, in mg/dL; 0 indicates a below-range reading (<40) or above-range reading (>400)\n",
    "* **HighLowIndicator**: Flag indicating presence of an in-range reading (0), below-range reading (2), or above-range reading (1)\n",
    "\n"
   ]
  },
  {
   "cell_type": "markdown",
   "id": "6aaf392d",
   "metadata": {},
   "source": [
    "## Questions\n",
    "- Is the smaller number of unique patient ids in basal due to the algorithm used? Check patient Roster\n",
    "- "
   ]
  },
  {
   "cell_type": "code",
   "execution_count": 1,
   "id": "886427dc-4961-4459-899d-6fd9b5851fc2",
   "metadata": {},
   "outputs": [],
   "source": [
    "import os, sys, time, random\n",
    "import pandas as pd\n",
    "from datetime import datetime, timedelta\n",
    "import numpy as np\n",
    "from matplotlib import pyplot as plt"
   ]
  },
  {
   "cell_type": "markdown",
   "id": "5d2fe84f-0f12-4e6c-9061-a0cca7a8f979",
   "metadata": {},
   "source": [
    "## Load the data"
   ]
  },
  {
   "cell_type": "code",
   "execution_count": 2,
   "id": "e895b76e-4fcf-4a0d-b5fc-11185ed133d6",
   "metadata": {},
   "outputs": [],
   "source": [
    "filepath = os.getcwd()\n",
    "study_path = os.path.join(filepath, '../data/raw/PEDAP Public Dataset - Release 3 - 2024-09-25')\n",
    "\n",
    "df_bolus = pd.read_csv(os.path.join(study_path, 'Data Files', 'PEDAPTandemBOLUSDELIVERED.txt'), sep=\"|\", low_memory=False,\n",
    "                         usecols=['RecID', 'PtID', 'DeviceDtTm', 'BolusAmount', 'BolusType','CarbAmount','Duration','ExtendedBolusPortion'])\n",
    "df_basal = pd.read_csv(os.path.join(study_path, 'Data Files', 'PEDAPTandemBASALRATECHG.txt'), sep=\"|\", low_memory=False,\n",
    "                         usecols=['RecID', 'PtID', 'DeviceDtTm', 'BasalRate'])\n",
    "df_cgm = pd.read_csv(os.path.join(study_path, 'Data Files', 'PEDAPTandemCGMDataGXB.txt'), sep=\"|\", low_memory=False,\n",
    "                         usecols=['RecID', 'PtID', 'DeviceDtTm', 'CGMValue'])\n",
    "df_patient = pd.read_csv(os.path.join(study_path, 'Data Files', 'PtRoster.txt'), sep=\"|\")"
   ]
  },
  {
   "cell_type": "markdown",
   "id": "f4581016",
   "metadata": {},
   "source": [
    "## Inspecting the Data"
   ]
  },
  {
   "cell_type": "code",
   "execution_count": 3,
   "id": "f6f7ba8a",
   "metadata": {},
   "outputs": [
    {
     "name": "stdout",
     "output_type": "stream",
     "text": [
      "CGM counts: \n"
     ]
    },
    {
     "data": {
      "text/plain": [
       "PtID          6623237\n",
       "RecID         6623237\n",
       "DeviceDtTm    6623237\n",
       "CGMValue      6623237\n",
       "dtype: int64"
      ]
     },
     "metadata": {},
     "output_type": "display_data"
    },
    {
     "name": "stdout",
     "output_type": "stream",
     "text": [
      "Bolus counts: \n"
     ]
    },
    {
     "data": {
      "text/plain": [
       "PtID                    263080\n",
       "RecID                   263076\n",
       "DeviceDtTm              263076\n",
       "BolusAmount             263076\n",
       "CarbAmount              263080\n",
       "BolusType               263080\n",
       "Duration                263080\n",
       "ExtendedBolusPortion     16868\n",
       "dtype: int64"
      ]
     },
     "metadata": {},
     "output_type": "display_data"
    },
    {
     "name": "stdout",
     "output_type": "stream",
     "text": [
      "Basal counts: \n"
     ]
    },
    {
     "data": {
      "text/plain": [
       "PtID          898874\n",
       "RecID         898874\n",
       "DeviceDtTm    898874\n",
       "BasalRate     898874\n",
       "dtype: int64"
      ]
     },
     "metadata": {},
     "output_type": "display_data"
    },
    {
     "name": "stdout",
     "output_type": "stream",
     "text": [
      "unique CGM patient ids:  99\n",
      "unique bolus patient ids:  99\n",
      "unique basal patient ids:  65\n"
     ]
    }
   ],
   "source": [
    "print(\"CGM counts: \" )\n",
    "display(df_cgm.count())\n",
    "print(\"Bolus counts: \" )\n",
    "display(df_bolus.count())\n",
    "print(\"Basal counts: \" )\n",
    "display(df_basal.count())\n",
    "\n",
    "print(\"unique CGM patient ids: \", len(df_cgm.PtID.unique()))\n",
    "print(\"unique bolus patient ids: \", len(df_bolus.PtID.unique()))\n",
    "print(\"unique basal patient ids: \", len(df_basal.PtID.unique()))\n"
   ]
  },
  {
   "cell_type": "markdown",
   "id": "36d29b31",
   "metadata": {},
   "source": [
    "- ~6.5% extended boluses --> handle\n",
    "- some mismatching counts for bolus (some nan values?) --> inspect\n",
    "- many patients without basal data --> intersect the data"
   ]
  },
  {
   "cell_type": "code",
   "execution_count": 4,
   "id": "8efbaf12",
   "metadata": {},
   "outputs": [],
   "source": [
    "#drop all rows of patients not in all 3 datasets\n",
    "intersecting_patient_ids = set(df_cgm.PtID.unique()).intersection(set(df_bolus.PtID.unique())).intersection(set(df_basal.PtID.unique()))\n",
    "df_cgm = df_cgm[df_cgm.PtID.isin(intersecting_patient_ids)]\n",
    "df_bolus = df_bolus[df_bolus.PtID.isin(intersecting_patient_ids)]\n",
    "df_basal = df_basal[df_basal.PtID.isin(intersecting_patient_ids)]"
   ]
  },
  {
   "cell_type": "markdown",
   "id": "b61bba4a",
   "metadata": {},
   "source": [
    "### Duplicates & Missing Data\n",
    "We see that there are many duplicated data points without additional information. Also, we see that some DateTime data is missing for the boluses. We also see that for manyu patients there is no basal data. For all these cases, we remove the data."
   ]
  },
  {
   "cell_type": "code",
   "execution_count": 5,
   "id": "adece446",
   "metadata": {},
   "outputs": [
    {
     "name": "stdout",
     "output_type": "stream",
     "text": [
      "\n",
      "There are 0 duplicated rows in the bolus dataset\n",
      "There are 75139 duplicated rows in the basal dataset\n",
      "There are 677 duplicated rows in the cgm dataset\n",
      "\n",
      "There are 0 missing values in the basal data\n",
      "There are 3 missing values in the bolus data\n",
      "There are 0 missing values in the cgm data\n",
      "\n",
      "Example of duplicated rows in the basal dataset\n"
     ]
    },
    {
     "data": {
      "text/html": [
       "<div>\n",
       "<style scoped>\n",
       "    .dataframe tbody tr th:only-of-type {\n",
       "        vertical-align: middle;\n",
       "    }\n",
       "\n",
       "    .dataframe tbody tr th {\n",
       "        vertical-align: top;\n",
       "    }\n",
       "\n",
       "    .dataframe thead th {\n",
       "        text-align: right;\n",
       "    }\n",
       "</style>\n",
       "<table border=\"1\" class=\"dataframe\">\n",
       "  <thead>\n",
       "    <tr style=\"text-align: right;\">\n",
       "      <th></th>\n",
       "      <th>PtID</th>\n",
       "      <th>RecID</th>\n",
       "      <th>DeviceDtTm</th>\n",
       "      <th>BasalRate</th>\n",
       "    </tr>\n",
       "  </thead>\n",
       "  <tbody>\n",
       "    <tr>\n",
       "      <th>5973</th>\n",
       "      <td>8</td>\n",
       "      <td>5986</td>\n",
       "      <td>1/1/2021 12:14:52 AM</td>\n",
       "      <td>0.0</td>\n",
       "    </tr>\n",
       "    <tr>\n",
       "      <th>5974</th>\n",
       "      <td>8</td>\n",
       "      <td>5987</td>\n",
       "      <td>1/1/2021 12:14:52 AM</td>\n",
       "      <td>0.0</td>\n",
       "    </tr>\n",
       "  </tbody>\n",
       "</table>\n",
       "</div>"
      ],
      "text/plain": [
       "      PtID  RecID            DeviceDtTm  BasalRate\n",
       "5973     8   5986  1/1/2021 12:14:52 AM        0.0\n",
       "5974     8   5987  1/1/2021 12:14:52 AM        0.0"
      ]
     },
     "metadata": {},
     "output_type": "display_data"
    },
    {
     "name": "stdout",
     "output_type": "stream",
     "text": [
      "Example of duplicated rows in the bolus dataset\n"
     ]
    },
    {
     "data": {
      "text/html": [
       "<div>\n",
       "<style scoped>\n",
       "    .dataframe tbody tr th:only-of-type {\n",
       "        vertical-align: middle;\n",
       "    }\n",
       "\n",
       "    .dataframe tbody tr th {\n",
       "        vertical-align: top;\n",
       "    }\n",
       "\n",
       "    .dataframe thead th {\n",
       "        text-align: right;\n",
       "    }\n",
       "</style>\n",
       "<table border=\"1\" class=\"dataframe\">\n",
       "  <thead>\n",
       "    <tr style=\"text-align: right;\">\n",
       "      <th></th>\n",
       "      <th>PtID</th>\n",
       "      <th>RecID</th>\n",
       "      <th>DeviceDtTm</th>\n",
       "      <th>BolusAmount</th>\n",
       "      <th>CarbAmount</th>\n",
       "      <th>BolusType</th>\n",
       "      <th>Duration</th>\n",
       "      <th>ExtendedBolusPortion</th>\n",
       "    </tr>\n",
       "  </thead>\n",
       "  <tbody>\n",
       "  </tbody>\n",
       "</table>\n",
       "</div>"
      ],
      "text/plain": [
       "Empty DataFrame\n",
       "Columns: [PtID, RecID, DeviceDtTm, BolusAmount, CarbAmount, BolusType, Duration, ExtendedBolusPortion]\n",
       "Index: []"
      ]
     },
     "metadata": {},
     "output_type": "display_data"
    },
    {
     "name": "stdout",
     "output_type": "stream",
     "text": [
      "Example of duplicated rows in the cgm dataset\n"
     ]
    },
    {
     "data": {
      "text/html": [
       "<div>\n",
       "<style scoped>\n",
       "    .dataframe tbody tr th:only-of-type {\n",
       "        vertical-align: middle;\n",
       "    }\n",
       "\n",
       "    .dataframe tbody tr th {\n",
       "        vertical-align: top;\n",
       "    }\n",
       "\n",
       "    .dataframe thead th {\n",
       "        text-align: right;\n",
       "    }\n",
       "</style>\n",
       "<table border=\"1\" class=\"dataframe\">\n",
       "  <thead>\n",
       "    <tr style=\"text-align: right;\">\n",
       "      <th></th>\n",
       "      <th>PtID</th>\n",
       "      <th>RecID</th>\n",
       "      <th>DeviceDtTm</th>\n",
       "      <th>CGMValue</th>\n",
       "    </tr>\n",
       "  </thead>\n",
       "  <tbody>\n",
       "    <tr>\n",
       "      <th>1605944</th>\n",
       "      <td>3</td>\n",
       "      <td>1865679</td>\n",
       "      <td>10/31/2021 4:54:24 AM</td>\n",
       "      <td>126</td>\n",
       "    </tr>\n",
       "    <tr>\n",
       "      <th>1613058</th>\n",
       "      <td>3</td>\n",
       "      <td>1872793</td>\n",
       "      <td>10/31/2021 4:54:24 AM</td>\n",
       "      <td>126</td>\n",
       "    </tr>\n",
       "  </tbody>\n",
       "</table>\n",
       "</div>"
      ],
      "text/plain": [
       "         PtID    RecID             DeviceDtTm  CGMValue\n",
       "1605944     3  1865679  10/31/2021 4:54:24 AM       126\n",
       "1613058     3  1872793  10/31/2021 4:54:24 AM       126"
      ]
     },
     "metadata": {},
     "output_type": "display_data"
    },
    {
     "name": "stdout",
     "output_type": "stream",
     "text": [
      "\n",
      "Example of missing values in the bolus dataset\n"
     ]
    },
    {
     "data": {
      "text/html": [
       "<div>\n",
       "<style scoped>\n",
       "    .dataframe tbody tr th:only-of-type {\n",
       "        vertical-align: middle;\n",
       "    }\n",
       "\n",
       "    .dataframe tbody tr th {\n",
       "        vertical-align: top;\n",
       "    }\n",
       "\n",
       "    .dataframe thead th {\n",
       "        text-align: right;\n",
       "    }\n",
       "</style>\n",
       "<table border=\"1\" class=\"dataframe\">\n",
       "  <thead>\n",
       "    <tr style=\"text-align: right;\">\n",
       "      <th></th>\n",
       "      <th>PtID</th>\n",
       "      <th>RecID</th>\n",
       "      <th>DeviceDtTm</th>\n",
       "      <th>BolusAmount</th>\n",
       "      <th>CarbAmount</th>\n",
       "      <th>BolusType</th>\n",
       "      <th>Duration</th>\n",
       "      <th>ExtendedBolusPortion</th>\n",
       "    </tr>\n",
       "  </thead>\n",
       "  <tbody>\n",
       "    <tr>\n",
       "      <th>11873</th>\n",
       "      <td>4</td>\n",
       "      <td>NaN</td>\n",
       "      <td>NaN</td>\n",
       "      <td>NaN</td>\n",
       "      <td>0</td>\n",
       "      <td>Automatic</td>\n",
       "      <td>0</td>\n",
       "      <td>NaN</td>\n",
       "    </tr>\n",
       "    <tr>\n",
       "      <th>258932</th>\n",
       "      <td>40</td>\n",
       "      <td>NaN</td>\n",
       "      <td>NaN</td>\n",
       "      <td>NaN</td>\n",
       "      <td>27</td>\n",
       "      <td>Extended</td>\n",
       "      <td>120</td>\n",
       "      <td>Later</td>\n",
       "    </tr>\n",
       "  </tbody>\n",
       "</table>\n",
       "</div>"
      ],
      "text/plain": [
       "        PtID  RecID DeviceDtTm  BolusAmount  CarbAmount  BolusType  Duration  \\\n",
       "11873      4    NaN        NaN          NaN           0  Automatic         0   \n",
       "258932    40    NaN        NaN          NaN          27   Extended       120   \n",
       "\n",
       "       ExtendedBolusPortion  \n",
       "11873                   NaN  \n",
       "258932                Later  "
      ]
     },
     "metadata": {},
     "output_type": "display_data"
    }
   ],
   "source": [
    "print()\n",
    "print(f\"There are {df_bolus.duplicated(subset=['PtID','DeviceDtTm','BolusAmount','CarbAmount','BolusType','Duration']).sum()} duplicated rows in the bolus dataset\")\n",
    "print(f\"There are {df_basal.duplicated(subset=['PtID','DeviceDtTm','BasalRate']).sum()} duplicated rows in the basal dataset\")\n",
    "print(f\"There are {df_cgm.duplicated(subset=['PtID','DeviceDtTm']).sum()} duplicated rows in the cgm dataset\")\n",
    "print()\n",
    "print(f\"There are {df_basal.DeviceDtTm.isna().sum()} missing values in the basal data\")\n",
    "print(f\"There are {df_bolus.DeviceDtTm.isna().sum()} missing values in the bolus data\")\n",
    "print(f\"There are {df_cgm.DeviceDtTm.isna().sum()} missing values in the cgm data\")\n",
    "print()\n",
    "\n",
    "print(\"Example of duplicated rows in the basal dataset\")\n",
    "display(df_basal.loc[df_basal.duplicated(subset=['PtID','DeviceDtTm','BasalRate'], keep=False)].sort_values(by=['PtID','DeviceDtTm']).head(2))\n",
    "print(\"Example of duplicated rows in the bolus dataset\")\n",
    "display(df_bolus.loc[df_bolus.duplicated(subset=['PtID','DeviceDtTm','BolusAmount','CarbAmount','BolusType','Duration'], keep=False)].sort_values(by=['PtID','DeviceDtTm']).head(2))\n",
    "print(\"Example of duplicated rows in the cgm dataset\")\n",
    "display(df_cgm.loc[df_cgm.duplicated(subset=['PtID','DeviceDtTm'], keep=False)].sort_values(by=['PtID','DeviceDtTm']).head(2))\n",
    "\n",
    "print()\n",
    "print(\"Example of missing values in the bolus dataset\")\n",
    "display(df_bolus.loc[df_bolus.DeviceDtTm.isna()].head(2))"
   ]
  },
  {
   "cell_type": "code",
   "execution_count": 6,
   "id": "a4146cf2",
   "metadata": {},
   "outputs": [],
   "source": [
    "# remove duplicated rows\n",
    "df_basal = df_basal.drop_duplicates(subset=['PtID','DeviceDtTm','BasalRate'])\n",
    "df_bolus = df_bolus.drop_duplicates(subset=['PtID','DeviceDtTm','BolusAmount','CarbAmount','BolusType','Duration'])\n",
    "df_cgm = df_cgm.drop_duplicates(subset=['PtID','DeviceDtTm'])\n",
    "#remove missing DeviceDtTm for the bolus dataset\n",
    "df_bolus = df_bolus.dropna(subset=['DeviceDtTm'])"
   ]
  },
  {
   "cell_type": "markdown",
   "id": "580dba67-e697-436f-85a2-c473a59b6acc",
   "metadata": {},
   "source": [
    "## Parsing DateTimes\n",
    "First, we check for datetime format:"
   ]
  },
  {
   "cell_type": "code",
   "execution_count": 7,
   "id": "fd39c659-547e-4964-b327-281afa21b95b",
   "metadata": {},
   "outputs": [
    {
     "data": {
      "image/png": "[encoded data removed]",
      "text/plain": [
       "<Figure size 1200x300 with 3 Axes>"
      ]
     },
     "metadata": {},
     "output_type": "display_data"
    },
    {
     "name": "stdout",
     "output_type": "stream",
     "text": [
      "Example for 22 characters: 12/28/2020 10:04:21 PM\n",
      "Example for 21 characters: 12/28/2020 1:26:18 PM\n",
      "Example for 20 characters: 1/1/2021 12:03:19 AM\n",
      "Example for 19 characters: 1/1/2021 1:03:12 AM\n",
      "Example for 10 characters: 11/29/2020\n",
      "Example for 9 characters: 12/1/2020\n",
      "Example for 8 characters: 9/5/2020\n",
      "\n",
      "Example for midnight datetime: \n"
     ]
    },
    {
     "data": {
      "text/html": [
       "<div>\n",
       "<style scoped>\n",
       "    .dataframe tbody tr th:only-of-type {\n",
       "        vertical-align: middle;\n",
       "    }\n",
       "\n",
       "    .dataframe tbody tr th {\n",
       "        vertical-align: top;\n",
       "    }\n",
       "\n",
       "    .dataframe thead th {\n",
       "        text-align: right;\n",
       "    }\n",
       "</style>\n",
       "<table border=\"1\" class=\"dataframe\">\n",
       "  <thead>\n",
       "    <tr style=\"text-align: right;\">\n",
       "      <th></th>\n",
       "      <th>PtID</th>\n",
       "      <th>RecID</th>\n",
       "      <th>DeviceDtTm</th>\n",
       "      <th>BasalRate</th>\n",
       "    </tr>\n",
       "  </thead>\n",
       "  <tbody>\n",
       "    <tr>\n",
       "      <th>155475</th>\n",
       "      <td>20</td>\n",
       "      <td>158975</td>\n",
       "      <td>9/4/2020 10:04:48 PM</td>\n",
       "      <td>1.250</td>\n",
       "    </tr>\n",
       "    <tr>\n",
       "      <th>155476</th>\n",
       "      <td>20</td>\n",
       "      <td>158976</td>\n",
       "      <td>9/4/2020 11:55:01 PM</td>\n",
       "      <td>0.239</td>\n",
       "    </tr>\n",
       "    <tr>\n",
       "      <th>155477</th>\n",
       "      <td>20</td>\n",
       "      <td>158977</td>\n",
       "      <td>9/5/2020</td>\n",
       "      <td>1.250</td>\n",
       "    </tr>\n",
       "    <tr>\n",
       "      <th>155478</th>\n",
       "      <td>20</td>\n",
       "      <td>158978</td>\n",
       "      <td>9/5/2020 12:05:00 AM</td>\n",
       "      <td>1.000</td>\n",
       "    </tr>\n",
       "    <tr>\n",
       "      <th>155479</th>\n",
       "      <td>20</td>\n",
       "      <td>158979</td>\n",
       "      <td>9/5/2020 12:24:58 AM</td>\n",
       "      <td>0.640</td>\n",
       "    </tr>\n",
       "  </tbody>\n",
       "</table>\n",
       "</div>"
      ],
      "text/plain": [
       "        PtID   RecID            DeviceDtTm  BasalRate\n",
       "155475    20  158975  9/4/2020 10:04:48 PM      1.250\n",
       "155476    20  158976  9/4/2020 11:55:01 PM      0.239\n",
       "155477    20  158977              9/5/2020      1.250\n",
       "155478    20  158978  9/5/2020 12:05:00 AM      1.000\n",
       "155479    20  158979  9/5/2020 12:24:58 AM      0.640"
      ]
     },
     "metadata": {},
     "output_type": "display_data"
    }
   ],
   "source": [
    "fig, axes = plt.subplots(nrows=1, ncols=3, figsize=(12, 3))\n",
    "df_bolus['DeviceDtTm'].str.len().value_counts().plot.bar(ax=axes[0], title='Bolus DeviceDtTm Lengths')\n",
    "df_cgm['DeviceDtTm'].str.len().value_counts().plot.bar(ax=axes[1], title='CGM DeviceDtTm Lengths')\n",
    "df_basal['DeviceDtTm'].str.len().value_counts().plot.bar(ax=axes[2], title='Basal DeviceDtTm Lengths')\n",
    "plt.show()\n",
    "\n",
    "print(f\"Example for 22 characters: {df_basal.DeviceDtTm[df_basal['DeviceDtTm'].str.len() == 22].iloc[0]}\")  \n",
    "print(f\"Example for 21 characters: {df_basal.DeviceDtTm[df_basal['DeviceDtTm'].str.len() == 21].iloc[0]}\")\n",
    "print(f\"Example for 20 characters: {df_basal.DeviceDtTm[df_basal['DeviceDtTm'].str.len() == 20].iloc[0]}\")\n",
    "print(f\"Example for 19 characters: {df_basal.DeviceDtTm[df_basal['DeviceDtTm'].str.len() == 19].iloc[0]}\")\n",
    "print(f\"Example for 10 characters: {df_basal.DeviceDtTm[df_basal['DeviceDtTm'].str.len() == 10].iloc[0]}\")\n",
    "print(f\"Example for 9 characters: {df_basal.DeviceDtTm[df_basal['DeviceDtTm'].str.len() == 9].iloc[0]}\")\n",
    "print(f\"Example for 8 characters: {df_basal.DeviceDtTm[df_basal['DeviceDtTm'].str.len() == 8].iloc[0]}\")\n",
    "\n",
    "print()\n",
    "temp = df_basal.index[df_basal['DeviceDtTm'].str.len() == 8][0]\n",
    "print(f\"Example for midnight datetime: \")\n",
    "display(df_basal.loc[temp-2:temp+2])"
   ]
  },
  {
   "cell_type": "code",
   "execution_count": 8,
   "id": "029ea915",
   "metadata": {},
   "outputs": [
    {
     "name": "stdout",
     "output_type": "stream",
     "text": [
      "Example for 8 characters: 9/5/2020 -> 2020-09-05 00:00:00\n",
      "Example for 9 characters: 9/5/2020 -> 2020-09-05 00:00:00\n",
      "Example for 10 characters: 9/5/2020 -> 2020-09-05 00:00:00\n",
      "Example for 19 characters: 9/5/2020 -> 2020-09-05 00:00:00\n",
      "Example for 20 characters: 9/5/2020 -> 2020-09-05 00:00:00\n",
      "Example for 21 characters: 9/5/2020 -> 2020-09-05 00:00:00\n",
      "Example for 22 characters: 9/5/2020 -> 2020-09-05 00:00:00\n"
     ]
    }
   ],
   "source": [
    "def parse_flair_dates(dates):\n",
    "    \"\"\"Parse date strings separately for those with/without time component, interpret those without as midnight (00AM)\n",
    "    Args:\n",
    "        df (pandas DataFrame): data frame holding data date_column (string): \n",
    "        column name that holds date time strings to be used for parsing either in in the %m/%d/%Y or %m/%d/%Y %I:%M:%S %p format\n",
    "    Returns:\n",
    "        pandas series: with parsed dates\n",
    "    \"\"\"\n",
    "    #make sure to only parse dates if the value is not null\n",
    "    only_date = dates.apply(len) <=10\n",
    "    dates_copy = dates.copy()\n",
    "    dates_copy.loc[only_date] = pd.to_datetime(dates.loc[only_date], format='%m/%d/%Y')\n",
    "    dates_copy.loc[~only_date] = pd.to_datetime(dates.loc[~only_date], format='%m/%d/%Y %I:%M:%S %p')\n",
    "    return dates_copy\n",
    "\n",
    "df_bolus['DeviceDtTm_parsed'] = parse_flair_dates(df_bolus['DeviceDtTm'])\n",
    "df_cgm['DeviceDtTm_parsed'] = parse_flair_dates(df_cgm['DeviceDtTm'])\n",
    "df_basal['DeviceDtTm_parsed'] = parse_flair_dates(df_basal['DeviceDtTm'])\n",
    "\n",
    "lengths = [8, 9, 10, 19, 20, 21, 22]\n",
    "for length in lengths:\n",
    "    example_row = df_basal[df_basal['DeviceDtTm'].str.len() == 8].iloc[0]\n",
    "    print(f\"Example for {length} characters: {example_row['DeviceDtTm']} -> {example_row['DeviceDtTm_parsed']}\")\n"
   ]
  },
  {
   "cell_type": "markdown",
   "id": "e49a81d2",
   "metadata": {},
   "source": [
    "### Drop Non-Tandem Patients (No Basal data)\n",
    "We know that there are only 65 unique pt ids with basal data? This is because basal rate changes are only recorded for CLC (Tandem Control IQ) users while Standard Care (SC) group either is on MDI or a different pump system. We don't have information about the actual basal rates for these patients except for the screening form."
   ]
  },
  {
   "cell_type": "code",
   "execution_count": 9,
   "id": "2598bf27",
   "metadata": {},
   "outputs": [
    {
     "name": "stdout",
     "output_type": "stream",
     "text": [
      "Percentage of CLC patient IDs with bolus data: 95.59%\n",
      "Percentage of CLC patient IDs with basal data: 95.59%\n",
      "Percentage of SC patient IDs with bolus data: 0.00%\n",
      "Percentage of SC patient IDs with basal data: 0.00%\n"
     ]
    }
   ],
   "source": [
    "treatment_groups = df_patient.groupby('TrtGroup')\n",
    "clc_pt_ids = treatment_groups.get_group('CLC').PtID.unique()\n",
    "\n",
    "clc_w_basal = np.intersect1d(clc_pt_ids, df_basal.PtID.unique())\n",
    "clc_w_bolus = np.intersect1d(clc_pt_ids, df_bolus.PtID.unique())\n",
    "clc_bolus_percentage = len(clc_w_bolus) / len(clc_pt_ids) * 100\n",
    "clc_basal_percentage = len(clc_w_basal) / len(clc_pt_ids) * 100\n",
    "print(f\"Percentage of CLC patient IDs with bolus data: {clc_bolus_percentage:.2f}%\")\n",
    "print(f\"Percentage of CLC patient IDs with basal data: {clc_basal_percentage:.2f}%\")\n",
    "\n",
    "sc_pt_ids = treatment_groups.get_group('SC').PtID.unique()\n",
    "sc_w_basal = np.intersect1d(sc_pt_ids, df_basal.PtID.unique())\n",
    "sc_w_bolus = np.intersect1d(sc_pt_ids, df_bolus.PtID.unique())\n",
    "sc_bolus_percentage = len(sc_w_bolus) / len(sc_pt_ids) * 100\n",
    "sc_basal_percentage = len(sc_w_basal) / len(sc_pt_ids) * 100\n",
    "print(f\"Percentage of SC patient IDs with bolus data: {sc_bolus_percentage:.2f}%\")\n",
    "print(f\"Percentage of SC patient IDs with basal data: {sc_basal_percentage:.2f}%\")\n"
   ]
  },
  {
   "cell_type": "code",
   "execution_count": 10,
   "id": "d0cc548f",
   "metadata": {},
   "outputs": [
    {
     "name": "stdout",
     "output_type": "stream",
     "text": [
      "68\n"
     ]
    }
   ],
   "source": [
    "#drop all SC patients\n",
    "clc_pt_ids = df_patient.groupby('TrtGroup').get_group('CLC').PtID.unique()\n",
    "print(len(clc_pt_ids))\n",
    "#intersect with all other ids to remove patients that are not in all datasets\n",
    "pt_ids_to_keep = set(clc_pt_ids).intersection(set(df_bolus.PtID.unique())).intersection(set(df_basal.PtID.unique())).intersection(set(df_cgm.PtID.unique()))\n",
    "\n",
    "df_bolus = df_bolus[df_bolus.PtID.isin(pt_ids_to_keep)]\n",
    "df_basal = df_basal[df_basal.PtID.isin(pt_ids_to_keep)]\n",
    "df_cgm = df_cgm[df_cgm.PtID.isin(pt_ids_to_keep)]\n",
    "df_patient = df_patient[df_patient.PtID.isin(pt_ids_to_keep)]"
   ]
  },
  {
   "cell_type": "markdown",
   "id": "11bd788f-dbcb-4aad-a32f-466c2db1827c",
   "metadata": {},
   "source": [
    "## extended boluses"
   ]
  },
  {
   "cell_type": "markdown",
   "id": "a0f50e04-d9e8-49ce-b81e-125640ab0369",
   "metadata": {},
   "source": [
    "<div class=\"alert alert-block alert-warning\">\n",
    "<b>Extended Boluses:</b> There are 16868 extended boluses (~6.4% of the boluses). We are given the duration the extended portion was delivered in minutes in the Duration column\n",
    "</div>"
   ]
  },
  {
   "cell_type": "code",
   "execution_count": 11,
   "id": "c6ae037e-99b6-4cf7-9a10-1a70ef7b2fd6",
   "metadata": {},
   "outputs": [
    {
     "data": {
      "text/html": [
       "<div>\n",
       "<style scoped>\n",
       "    .dataframe tbody tr th:only-of-type {\n",
       "        vertical-align: middle;\n",
       "    }\n",
       "\n",
       "    .dataframe tbody tr th {\n",
       "        vertical-align: top;\n",
       "    }\n",
       "\n",
       "    .dataframe thead th {\n",
       "        text-align: right;\n",
       "    }\n",
       "</style>\n",
       "<table border=\"1\" class=\"dataframe\">\n",
       "  <thead>\n",
       "    <tr style=\"text-align: right;\">\n",
       "      <th></th>\n",
       "      <th>PtID</th>\n",
       "      <th>RecID</th>\n",
       "      <th>DeviceDtTm</th>\n",
       "      <th>BolusAmount</th>\n",
       "      <th>CarbAmount</th>\n",
       "      <th>BolusType</th>\n",
       "      <th>Duration</th>\n",
       "      <th>ExtendedBolusPortion</th>\n",
       "      <th>DeviceDtTm_parsed</th>\n",
       "    </tr>\n",
       "  </thead>\n",
       "  <tbody>\n",
       "    <tr>\n",
       "      <th>126</th>\n",
       "      <td>27</td>\n",
       "      <td>178.0</td>\n",
       "      <td>1/4/2021 5:34:59 PM</td>\n",
       "      <td>0.705</td>\n",
       "      <td>35</td>\n",
       "      <td>Extended</td>\n",
       "      <td>120</td>\n",
       "      <td>Now</td>\n",
       "      <td>2021-01-04 17:34:59</td>\n",
       "    </tr>\n",
       "    <tr>\n",
       "      <th>178</th>\n",
       "      <td>27</td>\n",
       "      <td>204.0</td>\n",
       "      <td>1/7/2021 3:09:20 PM</td>\n",
       "      <td>0.480</td>\n",
       "      <td>23</td>\n",
       "      <td>Extended</td>\n",
       "      <td>60</td>\n",
       "      <td>Now</td>\n",
       "      <td>2021-01-07 15:09:20</td>\n",
       "    </tr>\n",
       "    <tr>\n",
       "      <th>397</th>\n",
       "      <td>4</td>\n",
       "      <td>680.0</td>\n",
       "      <td>1/30/2021 5:32:43 PM</td>\n",
       "      <td>0.345</td>\n",
       "      <td>23</td>\n",
       "      <td>Extended</td>\n",
       "      <td>60</td>\n",
       "      <td>Now</td>\n",
       "      <td>2021-01-30 17:32:43</td>\n",
       "    </tr>\n",
       "    <tr>\n",
       "      <th>685</th>\n",
       "      <td>4</td>\n",
       "      <td>784.0</td>\n",
       "      <td>2/6/2021 5:15:13 PM</td>\n",
       "      <td>0.570</td>\n",
       "      <td>25</td>\n",
       "      <td>Extended</td>\n",
       "      <td>60</td>\n",
       "      <td>Now</td>\n",
       "      <td>2021-02-06 17:15:13</td>\n",
       "    </tr>\n",
       "    <tr>\n",
       "      <th>695</th>\n",
       "      <td>4</td>\n",
       "      <td>794.0</td>\n",
       "      <td>2/7/2021 6:39:47 PM</td>\n",
       "      <td>0.405</td>\n",
       "      <td>26</td>\n",
       "      <td>Extended</td>\n",
       "      <td>60</td>\n",
       "      <td>Now</td>\n",
       "      <td>2021-02-07 18:39:47</td>\n",
       "    </tr>\n",
       "  </tbody>\n",
       "</table>\n",
       "</div>"
      ],
      "text/plain": [
       "     PtID  RecID            DeviceDtTm  BolusAmount  CarbAmount BolusType  \\\n",
       "126    27  178.0   1/4/2021 5:34:59 PM        0.705          35  Extended   \n",
       "178    27  204.0   1/7/2021 3:09:20 PM        0.480          23  Extended   \n",
       "397     4  680.0  1/30/2021 5:32:43 PM        0.345          23  Extended   \n",
       "685     4  784.0   2/6/2021 5:15:13 PM        0.570          25  Extended   \n",
       "695     4  794.0   2/7/2021 6:39:47 PM        0.405          26  Extended   \n",
       "\n",
       "     Duration ExtendedBolusPortion    DeviceDtTm_parsed  \n",
       "126       120                  Now  2021-01-04 17:34:59  \n",
       "178        60                  Now  2021-01-07 15:09:20  \n",
       "397        60                  Now  2021-01-30 17:32:43  \n",
       "685        60                  Now  2021-02-06 17:15:13  \n",
       "695        60                  Now  2021-02-07 18:39:47  "
      ]
     },
     "metadata": {},
     "output_type": "display_data"
    },
    {
     "name": "stdout",
     "output_type": "stream",
     "text": [
      "ExtendedBolusPortion volues:\n",
      "ExtendedBolusPortion\n",
      "Later    6631\n",
      "Now      6460\n",
      "Name: count, dtype: int64 \n",
      "\n"
     ]
    },
    {
     "data": {
      "text/html": [
       "<div>\n",
       "<style scoped>\n",
       "    .dataframe tbody tr th:only-of-type {\n",
       "        vertical-align: middle;\n",
       "    }\n",
       "\n",
       "    .dataframe tbody tr th {\n",
       "        vertical-align: top;\n",
       "    }\n",
       "\n",
       "    .dataframe thead th {\n",
       "        text-align: right;\n",
       "    }\n",
       "</style>\n",
       "<table border=\"1\" class=\"dataframe\">\n",
       "  <thead>\n",
       "    <tr style=\"text-align: right;\">\n",
       "      <th></th>\n",
       "      <th>PtID</th>\n",
       "      <th>RecID</th>\n",
       "      <th>DeviceDtTm</th>\n",
       "      <th>BolusAmount</th>\n",
       "      <th>CarbAmount</th>\n",
       "      <th>BolusType</th>\n",
       "      <th>Duration</th>\n",
       "      <th>ExtendedBolusPortion</th>\n",
       "      <th>DeviceDtTm_parsed</th>\n",
       "    </tr>\n",
       "  </thead>\n",
       "  <tbody>\n",
       "    <tr>\n",
       "      <th>254446</th>\n",
       "      <td>27</td>\n",
       "      <td>1.0</td>\n",
       "      <td>1/4/2021 7:35:04 PM</td>\n",
       "      <td>0.675</td>\n",
       "      <td>35</td>\n",
       "      <td>Extended</td>\n",
       "      <td>120</td>\n",
       "      <td>Later</td>\n",
       "      <td>2021-01-04 19:35:04</td>\n",
       "    </tr>\n",
       "    <tr>\n",
       "      <th>254447</th>\n",
       "      <td>27</td>\n",
       "      <td>2.0</td>\n",
       "      <td>1/7/2021 4:09:19 PM</td>\n",
       "      <td>0.480</td>\n",
       "      <td>23</td>\n",
       "      <td>Extended</td>\n",
       "      <td>60</td>\n",
       "      <td>Later</td>\n",
       "      <td>2021-01-07 16:09:19</td>\n",
       "    </tr>\n",
       "    <tr>\n",
       "      <th>254448</th>\n",
       "      <td>4</td>\n",
       "      <td>3.0</td>\n",
       "      <td>1/27/2021 6:56:58 PM</td>\n",
       "      <td>1.100</td>\n",
       "      <td>22</td>\n",
       "      <td>Extended</td>\n",
       "      <td>30</td>\n",
       "      <td>Later</td>\n",
       "      <td>2021-01-27 18:56:58</td>\n",
       "    </tr>\n",
       "    <tr>\n",
       "      <th>254449</th>\n",
       "      <td>4</td>\n",
       "      <td>5.0</td>\n",
       "      <td>1/28/2021 8:23:22 AM</td>\n",
       "      <td>1.200</td>\n",
       "      <td>27</td>\n",
       "      <td>Extended</td>\n",
       "      <td>20</td>\n",
       "      <td>Later</td>\n",
       "      <td>2021-01-28 08:23:22</td>\n",
       "    </tr>\n",
       "    <tr>\n",
       "      <th>254450</th>\n",
       "      <td>4</td>\n",
       "      <td>6.0</td>\n",
       "      <td>1/30/2021 6:32:42 PM</td>\n",
       "      <td>0.345</td>\n",
       "      <td>23</td>\n",
       "      <td>Extended</td>\n",
       "      <td>60</td>\n",
       "      <td>Later</td>\n",
       "      <td>2021-01-30 18:32:42</td>\n",
       "    </tr>\n",
       "  </tbody>\n",
       "</table>\n",
       "</div>"
      ],
      "text/plain": [
       "        PtID  RecID            DeviceDtTm  BolusAmount  CarbAmount BolusType  \\\n",
       "254446    27    1.0   1/4/2021 7:35:04 PM        0.675          35  Extended   \n",
       "254447    27    2.0   1/7/2021 4:09:19 PM        0.480          23  Extended   \n",
       "254448     4    3.0  1/27/2021 6:56:58 PM        1.100          22  Extended   \n",
       "254449     4    5.0  1/28/2021 8:23:22 AM        1.200          27  Extended   \n",
       "254450     4    6.0  1/30/2021 6:32:42 PM        0.345          23  Extended   \n",
       "\n",
       "        Duration ExtendedBolusPortion    DeviceDtTm_parsed  \n",
       "254446       120                Later  2021-01-04 19:35:04  \n",
       "254447        60                Later  2021-01-07 16:09:19  \n",
       "254448        30                Later  2021-01-27 18:56:58  \n",
       "254449        20                Later  2021-01-28 08:23:22  \n",
       "254450        60                Later  2021-01-30 18:32:42  "
      ]
     },
     "metadata": {},
     "output_type": "display_data"
    }
   ],
   "source": [
    "extended_boluses = df_bolus[df_bolus.BolusType=='Extended']\n",
    "display(extended_boluses.head())\n",
    "\n",
    "print(\"ExtendedBolusPortion volues:\")\n",
    "print(extended_boluses.ExtendedBolusPortion.value_counts(),\"\\n\")\n",
    "\n",
    "later = extended_boluses[extended_boluses.ExtendedBolusPortion=='Later']\n",
    "display(later.head())\n"
   ]
  },
  {
   "cell_type": "markdown",
   "id": "8d2cb348-492e-4c95-97de-ac561ecf2300",
   "metadata": {},
   "source": [
    "## Comments:\n",
    "* 400 boluses (~4.6%) only have an extended portion\n",
    "* The duration appears in both the 'Now' and 'Later' labels\n",
    "* When BolusType == 'Extended' & ExtendedBolusPortion == 'Now' it should be treated as a standard bolus"
   ]
  },
  {
   "cell_type": "code",
   "execution_count": 12,
   "id": "d5118dc1-0e3e-419c-850c-32e9255fa58b",
   "metadata": {},
   "outputs": [
    {
     "data": {
      "text/html": [
       "<div>\n",
       "<style scoped>\n",
       "    .dataframe tbody tr th:only-of-type {\n",
       "        vertical-align: middle;\n",
       "    }\n",
       "\n",
       "    .dataframe tbody tr th {\n",
       "        vertical-align: top;\n",
       "    }\n",
       "\n",
       "    .dataframe thead th {\n",
       "        text-align: right;\n",
       "    }\n",
       "</style>\n",
       "<table border=\"1\" class=\"dataframe\">\n",
       "  <thead>\n",
       "    <tr style=\"text-align: right;\">\n",
       "      <th></th>\n",
       "      <th>PtID</th>\n",
       "      <th>RecID</th>\n",
       "      <th>DeviceDtTm</th>\n",
       "      <th>BasalRate</th>\n",
       "      <th>DeviceDtTm_parsed</th>\n",
       "    </tr>\n",
       "  </thead>\n",
       "  <tbody>\n",
       "    <tr>\n",
       "      <th>0</th>\n",
       "      <td>27</td>\n",
       "      <td>3</td>\n",
       "      <td>12/28/2020 1:26:18 PM</td>\n",
       "      <td>0.300</td>\n",
       "      <td>2020-12-28 13:26:18</td>\n",
       "    </tr>\n",
       "    <tr>\n",
       "      <th>1</th>\n",
       "      <td>27</td>\n",
       "      <td>4</td>\n",
       "      <td>12/28/2020 2:21:15 PM</td>\n",
       "      <td>0.000</td>\n",
       "      <td>2020-12-28 14:21:15</td>\n",
       "    </tr>\n",
       "    <tr>\n",
       "      <th>2</th>\n",
       "      <td>27</td>\n",
       "      <td>5</td>\n",
       "      <td>12/28/2020 2:26:14 PM</td>\n",
       "      <td>0.300</td>\n",
       "      <td>2020-12-28 14:26:14</td>\n",
       "    </tr>\n",
       "    <tr>\n",
       "      <th>3</th>\n",
       "      <td>27</td>\n",
       "      <td>6</td>\n",
       "      <td>12/28/2020 2:36:14 PM</td>\n",
       "      <td>0.151</td>\n",
       "      <td>2020-12-28 14:36:14</td>\n",
       "    </tr>\n",
       "    <tr>\n",
       "      <th>4</th>\n",
       "      <td>27</td>\n",
       "      <td>7</td>\n",
       "      <td>12/28/2020 2:41:32 PM</td>\n",
       "      <td>0.148</td>\n",
       "      <td>2020-12-28 14:41:32</td>\n",
       "    </tr>\n",
       "  </tbody>\n",
       "</table>\n",
       "</div>"
      ],
      "text/plain": [
       "   PtID  RecID             DeviceDtTm  BasalRate    DeviceDtTm_parsed\n",
       "0    27      3  12/28/2020 1:26:18 PM      0.300  2020-12-28 13:26:18\n",
       "1    27      4  12/28/2020 2:21:15 PM      0.000  2020-12-28 14:21:15\n",
       "2    27      5  12/28/2020 2:26:14 PM      0.300  2020-12-28 14:26:14\n",
       "3    27      6  12/28/2020 2:36:14 PM      0.151  2020-12-28 14:36:14\n",
       "4    27      7  12/28/2020 2:41:32 PM      0.148  2020-12-28 14:41:32"
      ]
     },
     "metadata": {},
     "output_type": "display_data"
    },
    {
     "name": "stdout",
     "output_type": "stream",
     "text": [
      "overall data counts:\n",
      "PtID                 823735\n",
      "RecID                823735\n",
      "DeviceDtTm           823735\n",
      "BasalRate            823735\n",
      "DeviceDtTm_parsed    823735\n",
      "dtype: int64 \n",
      "\n",
      "unique patient ids:  65\n"
     ]
    }
   ],
   "source": [
    "display(df_basal.head())\n",
    "\n",
    "print(\"overall data counts:\")\n",
    "print(df_basal.count(),\"\\n\")\n",
    "print(\"unique patient ids: \", len(df_basal.PtID.unique()))"
   ]
  }
 ],
 "metadata": {
  "kernelspec": {
   "display_name": "Python 3 (ipykernel)",
   "language": "python",
   "name": "python3"
  },
  "language_info": {
   "codemirror_mode": {
    "name": "ipython",
    "version": 3
   },
   "file_extension": ".py",
   "mimetype": "text/x-python",
   "name": "python",
   "nbconvert_exporter": "python",
   "pygments_lexer": "ipython3",
   "version": "3.9.6"
  }
 },
 "nbformat": 4,
 "nbformat_minor": 5
}
