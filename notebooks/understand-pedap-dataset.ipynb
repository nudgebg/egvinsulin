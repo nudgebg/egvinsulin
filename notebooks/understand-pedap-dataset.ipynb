{
 "cells": [
  {
   "cell_type": "markdown",
   "id": "ea0d44eb-0c72-41fc-b821-5d1532975aa5",
   "metadata": {},
   "source": [
    "## Understanding PEDAP Dataset\n",
    "This notebook tries provides details on the structure of the PEDAP dataset and makes suggestions how to process the data."
   ]
  },
  {
   "cell_type": "markdown",
   "id": "dff75a17-c70d-4a31-bf4c-073eb7e2b68d",
   "metadata": {},
   "source": [
    "## The PEDAP study\n",
    "\n",
    "**Title**: The Pediatric Artificial Pancreas (PEDAP) trial: A Randomized Controlled Comparison of the Control- IQ technology \n",
    "Versus Standard of Care in Young Children in Type 1 Diabetes\n",
    "\n",
    "\n",
    "**Description**: The objective of the study is to assess efficacy, quality of life, and safety of a closed loop control (CLC) system (t:slim X2 with Control-IQ Technology) in a randomized controlled trial with partial crossover.\n",
    "    \n",
    "**Devices**: t:slim X2 with Control-IQ and Dexcom G6 system\n",
    "\n",
    "**Study Population**: Children aged 2 - 5 years old"
   ]
  },
  {
   "cell_type": "markdown",
   "id": "03b59924-e786-4dad-8ab5-c0204a250a4f",
   "metadata": {},
   "source": [
    "<div class=\"alert alert-block alert-danger\">\n",
    "<b>Patient IDs:</b> The patient ids are in a different format across the files. As of now, we cannot use this data. In the Bolus data and patinet roster the PtID is in a 'PEDAP-###-###' format. This id is used by Jaeb to denote StudyName-StudySite-PatientID. In the basal data and cgm data the PtID is an integer. We do not know the conversion from PEDAP-###-### to the PtID integer and cannot confidently combine the basal and CGM data to the correct Bolus data\n",
    "</div>"
   ]
  },
  {
   "cell_type": "markdown",
   "id": "9cdf33db-ebe9-4fa2-a814-d0383009c114",
   "metadata": {},
   "source": [
    "# Data\n",
    "The study data folder is named **PEDAP Public Dataset - Release 1 - 2024-04-16**\n",
    "\n",
    "From the DataGlossary.rtf file, the following relevant files were identified which are stored in the **Data Files** subfolder.\n",
    "\n",
    "* **PEDAPTandemBOLUSDELIVERED.txt**: Event logged on pump when delivery of an insulin bolus (Standard, Extended, or Automatic) is completed\n",
    "* **PEDAPTandemBASALRATECHG.txt**: Event logged on pump when insulin basal rate changes due to pumping events\n",
    "* **PEDAPTandemCGMDataGXB.txt**: List of cgm data dowloaded \n",
    "* **PtRoster.txt**: Patient Roster\n",
    "\n",
    "These are csv files (\"|\" separator) and host many columns related to the Tandem pump events and the Dexcom cgm. The glossary provides information about each column. Each file contains a limited amount of columns compared to the FLAIR data. Below are **all** of the columns contained in each file\n",
    "\n",
    "## PEDAPTandemBOLUSDELIVERED\n",
    "* **PtID**: Patient ID\n",
    "* **DeviceDtTm**: Date-time of completion of bolus delivery\n",
    "* **BolusAmount**: size of completed bolus\n",
    "* **CarbAmount**: grams of carbs announced to the pump\n",
    "* **BolusType**: The bolus insulin delivery type [Standard, Extended, Automatic]\n",
    "* **Duration**: For extended boluses, the requested bolus duration in minutes\n",
    "* **ExtendedBolusPortion**: Flag distinguishing the immediate (Now) portion of the bolus (if any) from the extended (Later) portion [Now, Later]\n",
    "## PEDAPTandemBASALRATECHG\n",
    "* **PtID**: Patient ID\n",
    "* **DeviceDtTm**: Date-time of basal rate change\n",
    "* **BasalRate**: Basal Rate (U/h) - The active basal insulin delivery rate in units per hour\n",
    "## PEDAPTandemCGMDataGXB\n",
    "* **PtID**: Patient ID\n",
    "* **DeviceDtTm**: Date-time \n",
    "* **CGMValue**: Value of CGM reading, in mg/dL; 0 indicates a below-range reading (<40) or above-range reading (>400)\n",
    "* **HighLowIndicator**: Flag indicating presence of an in-range reading (0), below-range reading (2), or above-range reading (1)\n",
    "\n",
    "## Questions\n"
   ]
  },
  {
   "cell_type": "code",
   "execution_count": 1,
   "id": "886427dc-4961-4459-899d-6fd9b5851fc2",
   "metadata": {},
   "outputs": [],
   "source": [
    "import os, sys, time, random\n",
    "import pandas as pd\n",
    "from datetime import datetime, timedelta\n",
    "import numpy as np\n",
    "from matplotlib import pyplot as plt"
   ]
  },
  {
   "cell_type": "markdown",
   "id": "5d2fe84f-0f12-4e6c-9061-a0cca7a8f979",
   "metadata": {},
   "source": [
    "## Load the data"
   ]
  },
  {
   "cell_type": "code",
   "execution_count": 3,
   "id": "e895b76e-4fcf-4a0d-b5fc-11185ed133d6",
   "metadata": {},
   "outputs": [],
   "source": [
    "filepath_data = '/Users/rachelbrandt/egvinsulin/data/raw/PEDAP Public Dataset - Release 1 - 2024-04-16/Data Files'\n",
    "df_bolus = pd.read_csv(os.path.join(filepath_data, 'PEDAPTandemBOLUSDELIVERED.txt'), sep=\"|\", low_memory=False,\n",
    "                         usecols=['RecID', 'PtID', 'DeviceDtTm', 'BolusAmount', 'BolusType','CarbAmount','Duration','ExtendedBolusPortion'])\n",
    "df_basal = pd.read_csv(os.path.join(filepath_data, 'PEDAPTandemBASALRATECHG.txt'), sep=\"|\", low_memory=False,\n",
    "                         usecols=['RecID', 'PtID', 'DeviceDtTm', 'BasalRate'])\n",
    "df_cgm = pd.read_csv(os.path.join(filepath_data, 'PEDAPTandemCGMDataGXB.txt'), sep=\"|\", low_memory=False,\n",
    "                         usecols=['RecID', 'PtID', 'DeviceDtTm', 'CGMValue'])"
   ]
  },
  {
   "cell_type": "markdown",
   "id": "580dba67-e697-436f-85a2-c473a59b6acc",
   "metadata": {},
   "source": [
    "## Check for DateTimes without Time part"
   ]
  },
  {
   "cell_type": "code",
   "execution_count": 4,
   "id": "fd39c659-547e-4964-b327-281afa21b95b",
   "metadata": {},
   "outputs": [
    {
     "name": "stdout",
     "output_type": "stream",
     "text": [
      "Date Time Counts:\n",
      "Bolus datetimes without time:  1\n",
      "Basal datetimes without time:  10\n",
      "CGM datetimes without time:  63\n"
     ]
    }
   ],
   "source": [
    "print('Date Time Counts:')\n",
    "print('Bolus datetimes without time: ', len(df_bolus[df_bolus['DeviceDtTm'].str.len() <= 10]))\n",
    "print('Basal datetimes without time: ', len(df_basal[df_basal['DeviceDtTm'].str.len() <= 10]))\n",
    "print('CGM datetimes without time: ', len(df_cgm[df_cgm['DeviceDtTm'].str.len() <= 10])) "
   ]
  },
  {
   "cell_type": "markdown",
   "id": "1d3f11a5-8c8d-48eb-8ce2-d0943fe060bc",
   "metadata": {},
   "source": [
    "## inspecting the event counts"
   ]
  },
  {
   "cell_type": "code",
   "execution_count": 5,
   "id": "5181d316-334e-4afb-b078-700eac6387fd",
   "metadata": {},
   "outputs": [
    {
     "data": {
      "text/html": [
       "<div>\n",
       "<style scoped>\n",
       "    .dataframe tbody tr th:only-of-type {\n",
       "        vertical-align: middle;\n",
       "    }\n",
       "\n",
       "    .dataframe tbody tr th {\n",
       "        vertical-align: top;\n",
       "    }\n",
       "\n",
       "    .dataframe thead th {\n",
       "        text-align: right;\n",
       "    }\n",
       "</style>\n",
       "<table border=\"1\" class=\"dataframe\">\n",
       "  <thead>\n",
       "    <tr style=\"text-align: right;\">\n",
       "      <th></th>\n",
       "      <th>PtID</th>\n",
       "      <th>RecID</th>\n",
       "      <th>DeviceDtTm</th>\n",
       "      <th>CGMValue</th>\n",
       "    </tr>\n",
       "  </thead>\n",
       "  <tbody>\n",
       "    <tr>\n",
       "      <th>0</th>\n",
       "      <td>27</td>\n",
       "      <td>1</td>\n",
       "      <td>12/28/2020 2:17:16 PM</td>\n",
       "      <td>83</td>\n",
       "    </tr>\n",
       "    <tr>\n",
       "      <th>1</th>\n",
       "      <td>27</td>\n",
       "      <td>2</td>\n",
       "      <td>12/28/2020 2:22:16 PM</td>\n",
       "      <td>104</td>\n",
       "    </tr>\n",
       "    <tr>\n",
       "      <th>2</th>\n",
       "      <td>27</td>\n",
       "      <td>3</td>\n",
       "      <td>12/28/2020 2:27:16 PM</td>\n",
       "      <td>99</td>\n",
       "    </tr>\n",
       "    <tr>\n",
       "      <th>3</th>\n",
       "      <td>27</td>\n",
       "      <td>4</td>\n",
       "      <td>12/28/2020 2:32:16 PM</td>\n",
       "      <td>95</td>\n",
       "    </tr>\n",
       "    <tr>\n",
       "      <th>4</th>\n",
       "      <td>27</td>\n",
       "      <td>5</td>\n",
       "      <td>12/28/2020 2:37:17 PM</td>\n",
       "      <td>84</td>\n",
       "    </tr>\n",
       "  </tbody>\n",
       "</table>\n",
       "</div>"
      ],
      "text/plain": [
       "   PtID  RecID             DeviceDtTm  CGMValue\n",
       "0    27      1  12/28/2020 2:17:16 PM        83\n",
       "1    27      2  12/28/2020 2:22:16 PM       104\n",
       "2    27      3  12/28/2020 2:27:16 PM        99\n",
       "3    27      4  12/28/2020 2:32:16 PM        95\n",
       "4    27      5  12/28/2020 2:37:17 PM        84"
      ]
     },
     "metadata": {},
     "output_type": "display_data"
    },
    {
     "name": "stdout",
     "output_type": "stream",
     "text": [
      "overall data counts:\n",
      "PtID          6623237\n",
      "RecID         6623237\n",
      "DeviceDtTm    6623237\n",
      "CGMValue      6623237\n",
      "dtype: int64 \n",
      "\n",
      "unique patient ids:  99\n"
     ]
    }
   ],
   "source": [
    "display(df_cgm.head());\n",
    "\n",
    "print(\"overall data counts:\")\n",
    "print(df_cgm.count(),\"\\n\");\n",
    "print(\"unique patient ids: \", len(df_cgm.PtID.unique()))"
   ]
  },
  {
   "cell_type": "code",
   "execution_count": 6,
   "id": "42094c7a-83cb-4ab0-a539-ed0948264ac7",
   "metadata": {},
   "outputs": [
    {
     "data": {
      "text/html": [
       "<div>\n",
       "<style scoped>\n",
       "    .dataframe tbody tr th:only-of-type {\n",
       "        vertical-align: middle;\n",
       "    }\n",
       "\n",
       "    .dataframe tbody tr th {\n",
       "        vertical-align: top;\n",
       "    }\n",
       "\n",
       "    .dataframe thead th {\n",
       "        text-align: right;\n",
       "    }\n",
       "</style>\n",
       "<table border=\"1\" class=\"dataframe\">\n",
       "  <thead>\n",
       "    <tr style=\"text-align: right;\">\n",
       "      <th></th>\n",
       "      <th>PtID</th>\n",
       "      <th>RecID</th>\n",
       "      <th>DeviceDtTm</th>\n",
       "      <th>BolusAmount</th>\n",
       "      <th>CarbAmount</th>\n",
       "      <th>BolusType</th>\n",
       "      <th>Duration</th>\n",
       "      <th>ExtendedBolusPortion</th>\n",
       "    </tr>\n",
       "  </thead>\n",
       "  <tbody>\n",
       "    <tr>\n",
       "      <th>0</th>\n",
       "      <td>PEDAP-006-001</td>\n",
       "      <td>1.0</td>\n",
       "      <td>12/28/2020 1:28:01 PM</td>\n",
       "      <td>1.110000</td>\n",
       "      <td>22</td>\n",
       "      <td>Standard</td>\n",
       "      <td>0</td>\n",
       "      <td>NaN</td>\n",
       "    </tr>\n",
       "    <tr>\n",
       "      <th>1</th>\n",
       "      <td>PEDAP-006-001</td>\n",
       "      <td>2.0</td>\n",
       "      <td>12/28/2020 2:41:32 PM</td>\n",
       "      <td>0.080000</td>\n",
       "      <td>2</td>\n",
       "      <td>Standard</td>\n",
       "      <td>0</td>\n",
       "      <td>NaN</td>\n",
       "    </tr>\n",
       "    <tr>\n",
       "      <th>2</th>\n",
       "      <td>PEDAP-006-001</td>\n",
       "      <td>3.0</td>\n",
       "      <td>12/28/2020 4:22:16 PM</td>\n",
       "      <td>0.261078</td>\n",
       "      <td>0</td>\n",
       "      <td>Automatic</td>\n",
       "      <td>0</td>\n",
       "      <td>NaN</td>\n",
       "    </tr>\n",
       "    <tr>\n",
       "      <th>3</th>\n",
       "      <td>PEDAP-006-001</td>\n",
       "      <td>4.0</td>\n",
       "      <td>12/28/2020 4:25:40 PM</td>\n",
       "      <td>0.090000</td>\n",
       "      <td>0</td>\n",
       "      <td>Standard</td>\n",
       "      <td>0</td>\n",
       "      <td>NaN</td>\n",
       "    </tr>\n",
       "    <tr>\n",
       "      <th>4</th>\n",
       "      <td>PEDAP-006-001</td>\n",
       "      <td>5.0</td>\n",
       "      <td>12/28/2020 5:28:41 PM</td>\n",
       "      <td>0.130000</td>\n",
       "      <td>12</td>\n",
       "      <td>Standard</td>\n",
       "      <td>0</td>\n",
       "      <td>NaN</td>\n",
       "    </tr>\n",
       "  </tbody>\n",
       "</table>\n",
       "</div>"
      ],
      "text/plain": [
       "            PtID  RecID             DeviceDtTm  BolusAmount  CarbAmount  \\\n",
       "0  PEDAP-006-001    1.0  12/28/2020 1:28:01 PM     1.110000          22   \n",
       "1  PEDAP-006-001    2.0  12/28/2020 2:41:32 PM     0.080000           2   \n",
       "2  PEDAP-006-001    3.0  12/28/2020 4:22:16 PM     0.261078           0   \n",
       "3  PEDAP-006-001    4.0  12/28/2020 4:25:40 PM     0.090000           0   \n",
       "4  PEDAP-006-001    5.0  12/28/2020 5:28:41 PM     0.130000          12   \n",
       "\n",
       "   BolusType  Duration ExtendedBolusPortion  \n",
       "0   Standard         0                  NaN  \n",
       "1   Standard         0                  NaN  \n",
       "2  Automatic         0                  NaN  \n",
       "3   Standard         0                  NaN  \n",
       "4   Standard         0                  NaN  "
      ]
     },
     "metadata": {},
     "output_type": "display_data"
    },
    {
     "name": "stdout",
     "output_type": "stream",
     "text": [
      "overall data counts:\n",
      "PtID                    263080\n",
      "RecID                   263076\n",
      "DeviceDtTm              263076\n",
      "BolusAmount             263076\n",
      "CarbAmount              263080\n",
      "BolusType               263080\n",
      "Duration                263080\n",
      "ExtendedBolusPortion     16868\n",
      "dtype: int64 \n",
      "\n",
      "bolus types:\n",
      "BolusType\n",
      "Standard     150927\n",
      "Automatic     95285\n",
      "Extended      16868\n",
      "Name: count, dtype: int64 \n",
      "\n",
      "unique patient ids:  99\n"
     ]
    }
   ],
   "source": [
    "display(df_bolus.head())\n",
    "\n",
    "print(\"overall data counts:\")\n",
    "print(df_bolus.count(),\"\\n\")\n",
    "print(\"bolus types:\")\n",
    "print(df_bolus.BolusType.value_counts(),\"\\n\")\n",
    "print(\"unique patient ids: \", len(df_bolus.PtID.unique()))"
   ]
  },
  {
   "cell_type": "markdown",
   "id": "a0f50e04-d9e8-49ce-b81e-125640ab0369",
   "metadata": {},
   "source": [
    "<div class=\"alert alert-block alert-warning\">\n",
    "<b>Extended Boluses:</b> There are 16868 extended boluses (~6.4% of the boluses). We are given the duration the extended portion was delivered in minutes in the Duration column\n",
    "</div>"
   ]
  },
  {
   "cell_type": "markdown",
   "id": "11bd788f-dbcb-4aad-a32f-466c2db1827c",
   "metadata": {},
   "source": [
    "## extended boluses"
   ]
  },
  {
   "cell_type": "code",
   "execution_count": 9,
   "id": "c6ae037e-99b6-4cf7-9a10-1a70ef7b2fd6",
   "metadata": {},
   "outputs": [
    {
     "data": {
      "text/html": [
       "<div>\n",
       "<style scoped>\n",
       "    .dataframe tbody tr th:only-of-type {\n",
       "        vertical-align: middle;\n",
       "    }\n",
       "\n",
       "    .dataframe tbody tr th {\n",
       "        vertical-align: top;\n",
       "    }\n",
       "\n",
       "    .dataframe thead th {\n",
       "        text-align: right;\n",
       "    }\n",
       "</style>\n",
       "<table border=\"1\" class=\"dataframe\">\n",
       "  <thead>\n",
       "    <tr style=\"text-align: right;\">\n",
       "      <th></th>\n",
       "      <th>PtID</th>\n",
       "      <th>RecID</th>\n",
       "      <th>DeviceDtTm</th>\n",
       "      <th>BolusAmount</th>\n",
       "      <th>CarbAmount</th>\n",
       "      <th>BolusType</th>\n",
       "      <th>Duration</th>\n",
       "      <th>ExtendedBolusPortion</th>\n",
       "    </tr>\n",
       "  </thead>\n",
       "  <tbody>\n",
       "    <tr>\n",
       "      <th>126</th>\n",
       "      <td>PEDAP-006-001</td>\n",
       "      <td>178.0</td>\n",
       "      <td>1/4/2021 5:34:59 PM</td>\n",
       "      <td>0.705</td>\n",
       "      <td>35</td>\n",
       "      <td>Extended</td>\n",
       "      <td>120</td>\n",
       "      <td>Now</td>\n",
       "    </tr>\n",
       "    <tr>\n",
       "      <th>178</th>\n",
       "      <td>PEDAP-006-001</td>\n",
       "      <td>204.0</td>\n",
       "      <td>1/7/2021 3:09:20 PM</td>\n",
       "      <td>0.480</td>\n",
       "      <td>23</td>\n",
       "      <td>Extended</td>\n",
       "      <td>60</td>\n",
       "      <td>Now</td>\n",
       "    </tr>\n",
       "    <tr>\n",
       "      <th>397</th>\n",
       "      <td>PEDAP-006-005</td>\n",
       "      <td>680.0</td>\n",
       "      <td>1/30/2021 5:32:43 PM</td>\n",
       "      <td>0.345</td>\n",
       "      <td>23</td>\n",
       "      <td>Extended</td>\n",
       "      <td>60</td>\n",
       "      <td>Now</td>\n",
       "    </tr>\n",
       "    <tr>\n",
       "      <th>685</th>\n",
       "      <td>PEDAP-006-005</td>\n",
       "      <td>784.0</td>\n",
       "      <td>2/6/2021 5:15:13 PM</td>\n",
       "      <td>0.570</td>\n",
       "      <td>25</td>\n",
       "      <td>Extended</td>\n",
       "      <td>60</td>\n",
       "      <td>Now</td>\n",
       "    </tr>\n",
       "    <tr>\n",
       "      <th>695</th>\n",
       "      <td>PEDAP-006-005</td>\n",
       "      <td>794.0</td>\n",
       "      <td>2/7/2021 6:39:47 PM</td>\n",
       "      <td>0.405</td>\n",
       "      <td>26</td>\n",
       "      <td>Extended</td>\n",
       "      <td>60</td>\n",
       "      <td>Now</td>\n",
       "    </tr>\n",
       "  </tbody>\n",
       "</table>\n",
       "</div>"
      ],
      "text/plain": [
       "              PtID  RecID            DeviceDtTm  BolusAmount  CarbAmount  \\\n",
       "126  PEDAP-006-001  178.0   1/4/2021 5:34:59 PM        0.705          35   \n",
       "178  PEDAP-006-001  204.0   1/7/2021 3:09:20 PM        0.480          23   \n",
       "397  PEDAP-006-005  680.0  1/30/2021 5:32:43 PM        0.345          23   \n",
       "685  PEDAP-006-005  784.0   2/6/2021 5:15:13 PM        0.570          25   \n",
       "695  PEDAP-006-005  794.0   2/7/2021 6:39:47 PM        0.405          26   \n",
       "\n",
       "    BolusType  Duration ExtendedBolusPortion  \n",
       "126  Extended       120                  Now  \n",
       "178  Extended        60                  Now  \n",
       "397  Extended        60                  Now  \n",
       "685  Extended        60                  Now  \n",
       "695  Extended        60                  Now  "
      ]
     },
     "metadata": {},
     "output_type": "display_data"
    },
    {
     "name": "stdout",
     "output_type": "stream",
     "text": [
      "ExtendedBolusPortion volues:\n",
      "ExtendedBolusPortion\n",
      "Later    8634\n",
      "Now      8234\n",
      "Name: count, dtype: int64 \n",
      "\n"
     ]
    },
    {
     "data": {
      "text/html": [
       "<div>\n",
       "<style scoped>\n",
       "    .dataframe tbody tr th:only-of-type {\n",
       "        vertical-align: middle;\n",
       "    }\n",
       "\n",
       "    .dataframe tbody tr th {\n",
       "        vertical-align: top;\n",
       "    }\n",
       "\n",
       "    .dataframe thead th {\n",
       "        text-align: right;\n",
       "    }\n",
       "</style>\n",
       "<table border=\"1\" class=\"dataframe\">\n",
       "  <thead>\n",
       "    <tr style=\"text-align: right;\">\n",
       "      <th></th>\n",
       "      <th>PtID</th>\n",
       "      <th>RecID</th>\n",
       "      <th>DeviceDtTm</th>\n",
       "      <th>BolusAmount</th>\n",
       "      <th>CarbAmount</th>\n",
       "      <th>BolusType</th>\n",
       "      <th>Duration</th>\n",
       "      <th>ExtendedBolusPortion</th>\n",
       "    </tr>\n",
       "  </thead>\n",
       "  <tbody>\n",
       "    <tr>\n",
       "      <th>254446</th>\n",
       "      <td>PEDAP-006-001</td>\n",
       "      <td>1.0</td>\n",
       "      <td>1/4/2021 7:35:04 PM</td>\n",
       "      <td>0.675</td>\n",
       "      <td>35</td>\n",
       "      <td>Extended</td>\n",
       "      <td>120</td>\n",
       "      <td>Later</td>\n",
       "    </tr>\n",
       "    <tr>\n",
       "      <th>254447</th>\n",
       "      <td>PEDAP-006-001</td>\n",
       "      <td>2.0</td>\n",
       "      <td>1/7/2021 4:09:19 PM</td>\n",
       "      <td>0.480</td>\n",
       "      <td>23</td>\n",
       "      <td>Extended</td>\n",
       "      <td>60</td>\n",
       "      <td>Later</td>\n",
       "    </tr>\n",
       "    <tr>\n",
       "      <th>254448</th>\n",
       "      <td>PEDAP-006-005</td>\n",
       "      <td>3.0</td>\n",
       "      <td>1/27/2021 6:56:58 PM</td>\n",
       "      <td>1.100</td>\n",
       "      <td>22</td>\n",
       "      <td>Extended</td>\n",
       "      <td>30</td>\n",
       "      <td>Later</td>\n",
       "    </tr>\n",
       "    <tr>\n",
       "      <th>254449</th>\n",
       "      <td>PEDAP-006-005</td>\n",
       "      <td>5.0</td>\n",
       "      <td>1/28/2021 8:23:22 AM</td>\n",
       "      <td>1.200</td>\n",
       "      <td>27</td>\n",
       "      <td>Extended</td>\n",
       "      <td>20</td>\n",
       "      <td>Later</td>\n",
       "    </tr>\n",
       "    <tr>\n",
       "      <th>254450</th>\n",
       "      <td>PEDAP-006-005</td>\n",
       "      <td>6.0</td>\n",
       "      <td>1/30/2021 6:32:42 PM</td>\n",
       "      <td>0.345</td>\n",
       "      <td>23</td>\n",
       "      <td>Extended</td>\n",
       "      <td>60</td>\n",
       "      <td>Later</td>\n",
       "    </tr>\n",
       "  </tbody>\n",
       "</table>\n",
       "</div>"
      ],
      "text/plain": [
       "                 PtID  RecID            DeviceDtTm  BolusAmount  CarbAmount  \\\n",
       "254446  PEDAP-006-001    1.0   1/4/2021 7:35:04 PM        0.675          35   \n",
       "254447  PEDAP-006-001    2.0   1/7/2021 4:09:19 PM        0.480          23   \n",
       "254448  PEDAP-006-005    3.0  1/27/2021 6:56:58 PM        1.100          22   \n",
       "254449  PEDAP-006-005    5.0  1/28/2021 8:23:22 AM        1.200          27   \n",
       "254450  PEDAP-006-005    6.0  1/30/2021 6:32:42 PM        0.345          23   \n",
       "\n",
       "       BolusType  Duration ExtendedBolusPortion  \n",
       "254446  Extended       120                Later  \n",
       "254447  Extended        60                Later  \n",
       "254448  Extended        30                Later  \n",
       "254449  Extended        20                Later  \n",
       "254450  Extended        60                Later  "
      ]
     },
     "metadata": {},
     "output_type": "display_data"
    }
   ],
   "source": [
    "extended_boluses = df_bolus[df_bolus.BolusType=='Extended']\n",
    "display(extended_boluses.head())\n",
    "\n",
    "print(\"ExtendedBolusPortion volues:\")\n",
    "print(extended_boluses.ExtendedBolusPortion.value_counts(),\"\\n\")\n",
    "\n",
    "later = extended_boluses[extended_boluses.ExtendedBolusPortion=='Later']\n",
    "display(later.head())\n"
   ]
  },
  {
   "cell_type": "markdown",
   "id": "8d2cb348-492e-4c95-97de-ac561ecf2300",
   "metadata": {},
   "source": [
    "## Comments:\n",
    "* 400 boluses (~4.6%) only have an extended portion\n",
    "* The duration appears in both the 'Now' and 'Later' labels\n",
    "* When BolusType == 'Extended' & ExtendedBolusPortion == 'Now' it should be treated as a standard bolus"
   ]
  },
  {
   "cell_type": "code",
   "execution_count": 10,
   "id": "d5118dc1-0e3e-419c-850c-32e9255fa58b",
   "metadata": {},
   "outputs": [
    {
     "data": {
      "text/html": [
       "<div>\n",
       "<style scoped>\n",
       "    .dataframe tbody tr th:only-of-type {\n",
       "        vertical-align: middle;\n",
       "    }\n",
       "\n",
       "    .dataframe tbody tr th {\n",
       "        vertical-align: top;\n",
       "    }\n",
       "\n",
       "    .dataframe thead th {\n",
       "        text-align: right;\n",
       "    }\n",
       "</style>\n",
       "<table border=\"1\" class=\"dataframe\">\n",
       "  <thead>\n",
       "    <tr style=\"text-align: right;\">\n",
       "      <th></th>\n",
       "      <th>PtID</th>\n",
       "      <th>RecID</th>\n",
       "      <th>DeviceDtTm</th>\n",
       "      <th>BasalRate</th>\n",
       "    </tr>\n",
       "  </thead>\n",
       "  <tbody>\n",
       "    <tr>\n",
       "      <th>0</th>\n",
       "      <td>27</td>\n",
       "      <td>3</td>\n",
       "      <td>12/28/2020 1:26:18 PM</td>\n",
       "      <td>0.300</td>\n",
       "    </tr>\n",
       "    <tr>\n",
       "      <th>1</th>\n",
       "      <td>27</td>\n",
       "      <td>4</td>\n",
       "      <td>12/28/2020 2:21:15 PM</td>\n",
       "      <td>0.000</td>\n",
       "    </tr>\n",
       "    <tr>\n",
       "      <th>2</th>\n",
       "      <td>27</td>\n",
       "      <td>5</td>\n",
       "      <td>12/28/2020 2:26:14 PM</td>\n",
       "      <td>0.300</td>\n",
       "    </tr>\n",
       "    <tr>\n",
       "      <th>3</th>\n",
       "      <td>27</td>\n",
       "      <td>6</td>\n",
       "      <td>12/28/2020 2:36:14 PM</td>\n",
       "      <td>0.151</td>\n",
       "    </tr>\n",
       "    <tr>\n",
       "      <th>4</th>\n",
       "      <td>27</td>\n",
       "      <td>7</td>\n",
       "      <td>12/28/2020 2:41:32 PM</td>\n",
       "      <td>0.148</td>\n",
       "    </tr>\n",
       "  </tbody>\n",
       "</table>\n",
       "</div>"
      ],
      "text/plain": [
       "   PtID  RecID             DeviceDtTm  BasalRate\n",
       "0    27      3  12/28/2020 1:26:18 PM      0.300\n",
       "1    27      4  12/28/2020 2:21:15 PM      0.000\n",
       "2    27      5  12/28/2020 2:26:14 PM      0.300\n",
       "3    27      6  12/28/2020 2:36:14 PM      0.151\n",
       "4    27      7  12/28/2020 2:41:32 PM      0.148"
      ]
     },
     "metadata": {},
     "output_type": "display_data"
    },
    {
     "name": "stdout",
     "output_type": "stream",
     "text": [
      "overall data counts:\n",
      "PtID          898874\n",
      "RecID         898874\n",
      "DeviceDtTm    898874\n",
      "BasalRate     898874\n",
      "dtype: int64 \n",
      "\n",
      "unique patient ids:  65\n"
     ]
    }
   ],
   "source": [
    "display(df_basal.head())\n",
    "\n",
    "print(\"overall data counts:\")\n",
    "print(df_basal.count(),\"\\n\")\n",
    "print(\"unique patient ids: \", len(df_basal.PtID.unique()))"
   ]
  },
  {
   "cell_type": "markdown",
   "id": "1b415337-cf58-4ac8-b5e9-08ff4723a1b0",
   "metadata": {},
   "source": [
    "<div class=\"alert alert-block alert-warning\">\n",
    "<b>Patient IDs:</b> These patient ids are in a different format and a large number are missing. As of now, we do not know the conversion from PEDAP-###-### to the PtID integer\n",
    "</div>"
   ]
  },
  {
   "cell_type": "markdown",
   "id": "75b1e469-7123-4533-937a-de676602d91e",
   "metadata": {},
   "source": [
    "### Distribution of Basal Rates"
   ]
  },
  {
   "cell_type": "code",
   "execution_count": 12,
   "id": "e4114e50-1a45-460b-a701-70266f36a1ed",
   "metadata": {},
   "outputs": [
    {
     "name": "stdout",
     "output_type": "stream",
     "text": [
      "Basal Rate info: \n",
      "count    898874.000000\n",
      "mean          0.271933\n",
      "std           0.316357\n",
      "min           0.000000\n",
      "25%           0.100000\n",
      "50%           0.199000\n",
      "75%           0.380000\n",
      "max           7.290000\n",
      "Name: BasalRate, dtype: float64\n"
     ]
    },
    {
     "data": {
      "image/png": "[encoded data removed]",
      "text/plain": [
       "<Figure size 600x200 with 1 Axes>"
      ]
     },
     "metadata": {},
     "output_type": "display_data"
    }
   ],
   "source": [
    "print('Basal Rate info: ')\n",
    "print(df_basal.BasalRate.describe())\n",
    "\n",
    "plt.figure(figsize=(6,2)); plt.xlabel(\"Rate\"); plt.title(\"Basal Rates\")\n",
    "plt.hist(df_basal.BasalRate, bins=np.arange(min(df_basal.BasalRate), max(df_basal.BasalRate) + 0.5, 0.5));"
   ]
  },
  {
   "cell_type": "markdown",
   "id": "b0554d37-c053-453d-b5ca-9e0e077ff225",
   "metadata": {},
   "source": [
    "<div class=\"alert alert-block alert-info\"> The maximum basal rate reached ~7.3 U/h.  </div>"
   ]
  },
  {
   "cell_type": "markdown",
   "id": "728bd2dd-bb77-4a87-bad6-b214bf876566",
   "metadata": {},
   "source": [
    "### Distribution of Bolus Amounts"
   ]
  },
  {
   "cell_type": "code",
   "execution_count": 13,
   "id": "53fd54c0-c32b-484e-a271-68cfa0050430",
   "metadata": {},
   "outputs": [
    {
     "name": "stdout",
     "output_type": "stream",
     "text": [
      "Commanded Basal Rate info: \n",
      "count    226685.000000\n",
      "mean          2.140634\n",
      "std           2.563934\n",
      "min           0.000000\n",
      "25%           0.540000\n",
      "50%           1.215070\n",
      "75%           2.714080\n",
      "max          25.000002\n",
      "Name: BolusAmount, dtype: float64\n"
     ]
    },
    {
     "data": {
      "image/png": "[encoded data removed]",
      "text/plain": [
       "<Figure size 600x200 with 1 Axes>"
      ]
     },
     "metadata": {},
     "output_type": "display_data"
    }
   ],
   "source": [
    "print('Commanded Basal Rate info: ')\n",
    "print(df_bolus.BolusAmount.describe())\n",
    "\n",
    "plt.figure(figsize=(6,2)); plt.xlabel(\"Bolus\"); plt.title(\"Bolus Amounts\")\n",
    "plt.hist(df_bolus.BolusAmount, bins=np.arange(min(df_bolus.BolusAmount), max(df_bolus.BolusAmount) + 0.5, 0.5));"
   ]
  }
 ],
 "metadata": {
  "kernelspec": {
   "display_name": "Python 3 (ipykernel)",
   "language": "python",
   "name": "python3"
  },
  "language_info": {
   "codemirror_mode": {
    "name": "ipython",
    "version": 3
   },
   "file_extension": ".py",
   "mimetype": "text/x-python",
   "name": "python",
   "nbconvert_exporter": "python",
   "pygments_lexer": "ipython3",
   "version": "3.11.8"
  }
 },
 "nbformat": 4,
 "nbformat_minor": 5
}
