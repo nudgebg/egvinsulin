{
 "cells": [
  {
   "cell_type": "markdown",
   "id": "ea0d44eb-0c72-41fc-b821-5d1532975aa5",
   "metadata": {},
   "source": [
    "## Understanding Loop Dataset\n",
    "This notebook tries provides details on the structure of the Loop dataset and makes suggestions how to process the data."
   ]
  },
  {
   "cell_type": "markdown",
   "id": "47eefff9",
   "metadata": {},
   "source": [
    "## Loop"
   ]
  },
  {
   "cell_type": "markdown",
   "id": "9cdf33db-ebe9-4fa2-a814-d0383009c114",
   "metadata": {},
   "source": [
    "### The study\n",
    "**Title**: An Observational Study of Individuals with Type 1 Diabetes Using the Loop System for Automated Insulin Delivery: The Loop Observational Study (LOS)\n",
    "\n",
    "**Description**: Passive data collection to collect data on the efficacy, safety, usability, and quality of life/ psychosocial effects of the Loop System\n",
    "    \n",
    "**Devices**: insulin pump and a Dexcom or Medtronic CGM\n",
    "\n",
    "**Study Population**: People of any age with Type 1 Diabetes"
   ]
  },
  {
   "cell_type": "markdown",
   "id": "1ec401d2",
   "metadata": {},
   "source": [
    "### Data\n",
    "The study data folder is named **Loop study public dataset 2023-01-31**\n",
    "\n",
    "From the DataGlossary.rtf file, the following relevant files were identified which are stored in the **Data Tables** subfolder.\n",
    "\n",
    "| File Name                     | Description                               | Note                                                                                           |\n",
    "|-------------------------------|-------------------------------------------|-----------------------------------------------------------------------------------------------|\n",
    "| **LOOPDeviceBasal<i>.txt**    | i=1-3, basal data exported from Tidepool | 3 files: 2.9GB, 2.9GB, and 1.35GB                                                             |\n",
    "| **LOOPDeviceCGM<i>.txt**      | i=1-6, CGM data exported from Tidepool   | 6 files: 2.14GB, 2.24GB, 2.3GB, 2.31GB, 2.33GB, and 1.53GB.  Contains more patient IDs than Basal and Bolus files |\n",
    "| **LOOPDeviceBolus.txt**       | Bolus data exported from Tidepool        | 1 file: 349MB                                                                                 |\n",
    "| **PtRoster.txt**              | Patient Roster                           | Contains fixed UTC offsets which we need                                                     |\n",
    "\n",
    "### Relevant Columns:\n",
    "The following lists all relevant columns. Other columns were considered irrelevant. Some are still mentioned if they serve the discussion but crossed through.\n",
    "\n",
    "#### LOOPDeviceCGM1-6\n",
    "| Field_Name | Description | Note |\n",
    "|----|----|-|\n",
    "| **UTCDtTm** | Device date and time adjusted with timezone offset| These are UTC, the description is misleading! *1 |\n",
    "| **RecordType**| Type of data (CGM, Calibration, etc)| Needed to drop calibrations|\n",
    "| **CGMVal**| Glucose reading from the CGM (in mmol/L from Tidepool)| Convert to convert to mg/dl|\n",
    "| ~~DeviceDtTm~~| Local device date and time; note not present in most rows because unavailable in Tidepool data source | *1 |\n",
    "| ~~TmZnOffset~~| Timezone offset | *1 | \n",
    "| ~~Units~~ | Glucose reading units | all CGMs are in mmol/| \n",
    "\n",
    "\n",
    "#### LOOPDeviceBasal1-3\n",
    "\n",
    "| Field Name | Glossary Description| Notes |\n",
    "|-|-|-|\n",
    "|**PtID**| Patient ID| Was not mentioned in glossary|\n",
    "| **UTCDtTm**| Date and time with timezone offset| *1|\n",
    "| **Rate** | Number of units per hour| **This is likely the only relevant value here**|\n",
    "| ~~DeviceDtTm~~ | ~~Local device date and time; note not present in most rows because unavailable in Tidepool data source~~ |*1|\n",
    "| ~~TmZnOffset~~ | ~~Timezone offset~~ | *1 | \n",
    "| BasalType| Basal delivery type | Unclear|\n",
    "| Duration | Actual number of milliseconds basal will be in effect | Unclear |\n",
    "| ExpectedDuration | Expected number of milliseconds basal will be in effect | Unclear|\n",
    "| Percnt | Percentage of suppressed basal that should be delivered | Unclear|\n",
    "| SuprBasalType| Suppressed basal delivery type (suppressed basal = basal event not being delivered because this one is active) | Unclear, Ambiguous description. JAEB did not use these values (see Q&A with JAEB below) |\n",
    "| SuprDuration | Suppressed duration |Unclear|\n",
    "| SuprRate | Suppressed rate | Unclear|\n",
    "\n",
    "Example (first row):  \n",
    "| PtID   | UTCDtTm| **BasalType** | Duration | ExpectedDuration | Percnt | Rate  | **SuprBasalType** | SuprDuration | SuprRate | TmZnOffset | \n",
    "|---|---|---|---|---|---|---|---|---|---|---|\n",
    "| 1082 | 2018-05-29 10:02:56| **temp**| 244000   ||| 1.475 | **scheduled**|| 1.600|| \n",
    "\n",
    "\n",
    "#### LOOPDeviceBolus\n",
    "| Field_Name| Description | Note |\n",
    "|-|-|-|\n",
    "| **UTCDtTm**| Device date and time (with timezone offset) |*1|\n",
    "| **BolusType**| Subtype of data (ex: \"Normal\" and \"Square\" are subtypes of \"Bolus\" type)||\n",
    "| **Normal** | Number of units of normal bolus |Likely the only relevant value.|\n",
    "| ~~DeviceDtTm~~ | Local device date and time; note not present in most rows because unavailable in Tidepool data source |*1|\n",
    "| ~~TmZnOffset~~ | Timezone offset |*1|\n",
    "| ExpectedNormal | Expected number of units of normal bolus|Unclear|\n",
    "| Extended | Number of units for extended delivery | We found that there are 0.4% extended boluses, probably triggered from the pump directly since Loop does not support these.|\n",
    "| ExpectedExtended | Expected number of units for extended delivery|\n",
    "| Duration | Time span over which the bolus was delivered (milliseconds for Tidepool data, minutes for Diasend data) | Our analysis shows that Duration refers to the Extended part of a Bolus. However, unclear how to find out wether in ms or minutes. JAEB couldn't answer.|\n",
    "| ExpectedDuration | Expected time span over which the bolus should have been delivered (milliseconds for Tidepool data, minutes for Diasend data) |\n",
    "\n",
    "We asked JAEB:\n",
    "\n",
    "**Suppressed Deliveries:** What are suppressed deliveries in the context of basal data?    \n",
    "> Answer: **We do not know** what the suppressed deliveries represent in this context, and we did not use this information for our analyses.  We calculated TDI using the Rate and Duration variables.  We suggest reaching out to Tidepool for information on suppressed deliveries.\n",
    "\n",
    "**Patient IDs Discrepancy:** Why are there more patient IDs in the CGM files than in the Basal and Bolus files?  \n",
    "> If available, CGM data from the participant’s personal CGM was collected for the 3 months prior to enrollment. A number of participants provided the retrospective personal CGM data but did not use Loop/provide us with their Loop data.\n",
    "\n",
    "**Time Zones:** The UTCDtTm field does not include timezone information and TmZnOffset is only available when DeviceDtTm exists, which is rare. Local time might need to be extrapolated using backward / forward filling or using PtTimezoneOffset of the patient roster, which may not be reliable over long periods. How can local times be obtained for all patients, given the limited availability of DeviceDtTm and the potential inaccuracy of PtTimezoneOffset? \n",
    ">When we did the analysis, we used participant zip codes to estimate a local time. However, the zip code is not available in the public dataset. Instead, the variable PTTimezoneOffset in the PtRoster dataset can be applied to all UTC times to obtain a local time. During daylight savings, the offset should be reduced by 1.  This won’t be a perfect measure of the local time but should be a close approximation.\n",
    "\n",
    "**Dexcom Times:** Are Dexcom DexInternalDtTm times in local time or UTC?  \n",
    "> We did not use this variable because it is missing for the majority of cases.  We believe that it was only available in downloads from personal CGMs but not available in the data uploaded by Tidepool.  It may be the local time but may need to reach out to Dexcom to confirm this.\n",
    "\n",
    "**Data Source Identification:** How can we determine if the data is uploaded from Tidepool or Diasend, especially since this affects the interpretation of extended boluses?  \n",
    "> In most cases (perhaps all), Tidepool uploads are indicated by the OriginName field being equal to ‘.com.apple.HealthKit’.  However, we suggest reaching out to Tidepool as there might be scenarios where Diasend was involved in the data chain.\n",
    "\n",
    " - [1]:DeviceDtTm and TmZnOffset are only available for a fraction of patients. Therefore, we rely on UTCDtTm and patient roster PtTimezoneOffset to obtain local time. \n",
    " - [2]: Loop has no extended boluses, check what this is\n",
    "\n",
    "### Todos:  \n",
    "Boluses:  \n",
    " - Need to check if the Normal portion is the actual delivered by comparing the values (<= in all cases would prove this to be true).\n",
    " - Check if there are extended boluses\n",
    " - Can we determine the delivery duration (ms or minutes) based on the data source?\n",
    "Basals:\n",
    " - Need to double check if the Suppressed values are already factored in and if standard basal rates are reported as well.\n",
    " - Check potential values for columns like basal type (value-counts)\n"
   ]
  },
  {
   "cell_type": "markdown",
   "id": "81d579f8",
   "metadata": {},
   "source": [
    "## Import"
   ]
  },
  {
   "cell_type": "code",
   "execution_count": 1,
   "id": "7f97f654",
   "metadata": {},
   "outputs": [
    {
     "data": {
      "text/html": [
       "<div>\n",
       "    <div style=\"width: 24px; height: 24px; background-color: #e1e1e1; border: 3px solid #9D9D9D; border-radius: 5px; position: absolute;\"> </div>\n",
       "    <div style=\"margin-left: 48px;\">\n",
       "        <h3 style=\"margin-bottom: 0px;\">Client</h3>\n",
       "        <p style=\"color: #9D9D9D; margin-bottom: 0px;\">Client-830434e8-bca3-11ef-84be-ae6796a0642a</p>\n",
       "        <table style=\"width: 100%; text-align: left;\">\n",
       "\n",
       "        <tr>\n",
       "        \n",
       "            <td style=\"text-align: left;\"><strong>Connection method:</strong> Cluster object</td>\n",
       "            <td style=\"text-align: left;\"><strong>Cluster type:</strong> distributed.LocalCluster</td>\n",
       "        \n",
       "        </tr>\n",
       "\n",
       "        \n",
       "            <tr>\n",
       "                <td style=\"text-align: left;\">\n",
       "                    <strong>Dashboard: </strong> <a href=\"http://127.0.0.1:8787/status\" target=\"_blank\">http://127.0.0.1:8787/status</a>\n",
       "                </td>\n",
       "                <td style=\"text-align: left;\"></td>\n",
       "            </tr>\n",
       "        \n",
       "\n",
       "        </table>\n",
       "\n",
       "        \n",
       "\n",
       "        \n",
       "            <details>\n",
       "            <summary style=\"margin-bottom: 20px;\"><h3 style=\"display: inline;\">Cluster Info</h3></summary>\n",
       "            <div class=\"jp-RenderedHTMLCommon jp-RenderedHTML jp-mod-trusted jp-OutputArea-output\">\n",
       "    <div style=\"width: 24px; height: 24px; background-color: #e1e1e1; border: 3px solid #9D9D9D; border-radius: 5px; position: absolute;\">\n",
       "    </div>\n",
       "    <div style=\"margin-left: 48px;\">\n",
       "        <h3 style=\"margin-bottom: 0px; margin-top: 0px;\">LocalCluster</h3>\n",
       "        <p style=\"color: #9D9D9D; margin-bottom: 0px;\">c9d61150</p>\n",
       "        <table style=\"width: 100%; text-align: left;\">\n",
       "            <tr>\n",
       "                <td style=\"text-align: left;\">\n",
       "                    <strong>Dashboard:</strong> <a href=\"http://127.0.0.1:8787/status\" target=\"_blank\">http://127.0.0.1:8787/status</a>\n",
       "                </td>\n",
       "                <td style=\"text-align: left;\">\n",
       "                    <strong>Workers:</strong> 4\n",
       "                </td>\n",
       "            </tr>\n",
       "            <tr>\n",
       "                <td style=\"text-align: left;\">\n",
       "                    <strong>Total threads:</strong> 12\n",
       "                </td>\n",
       "                <td style=\"text-align: left;\">\n",
       "                    <strong>Total memory:</strong> 36.00 GiB\n",
       "                </td>\n",
       "            </tr>\n",
       "            \n",
       "            <tr>\n",
       "    <td style=\"text-align: left;\"><strong>Status:</strong> running</td>\n",
       "    <td style=\"text-align: left;\"><strong>Using processes:</strong> True</td>\n",
       "</tr>\n",
       "\n",
       "            \n",
       "        </table>\n",
       "\n",
       "        <details>\n",
       "            <summary style=\"margin-bottom: 20px;\">\n",
       "                <h3 style=\"display: inline;\">Scheduler Info</h3>\n",
       "            </summary>\n",
       "\n",
       "            <div style=\"\">\n",
       "    <div>\n",
       "        <div style=\"width: 24px; height: 24px; background-color: #FFF7E5; border: 3px solid #FF6132; border-radius: 5px; position: absolute;\"> </div>\n",
       "        <div style=\"margin-left: 48px;\">\n",
       "            <h3 style=\"margin-bottom: 0px;\">Scheduler</h3>\n",
       "            <p style=\"color: #9D9D9D; margin-bottom: 0px;\">Scheduler-653afe71-0b9d-49b1-98de-64a304a67062</p>\n",
       "            <table style=\"width: 100%; text-align: left;\">\n",
       "                <tr>\n",
       "                    <td style=\"text-align: left;\">\n",
       "                        <strong>Comm:</strong> tcp://127.0.0.1:50208\n",
       "                    </td>\n",
       "                    <td style=\"text-align: left;\">\n",
       "                        <strong>Workers:</strong> 4\n",
       "                    </td>\n",
       "                </tr>\n",
       "                <tr>\n",
       "                    <td style=\"text-align: left;\">\n",
       "                        <strong>Dashboard:</strong> <a href=\"http://127.0.0.1:8787/status\" target=\"_blank\">http://127.0.0.1:8787/status</a>\n",
       "                    </td>\n",
       "                    <td style=\"text-align: left;\">\n",
       "                        <strong>Total threads:</strong> 12\n",
       "                    </td>\n",
       "                </tr>\n",
       "                <tr>\n",
       "                    <td style=\"text-align: left;\">\n",
       "                        <strong>Started:</strong> Just now\n",
       "                    </td>\n",
       "                    <td style=\"text-align: left;\">\n",
       "                        <strong>Total memory:</strong> 36.00 GiB\n",
       "                    </td>\n",
       "                </tr>\n",
       "            </table>\n",
       "        </div>\n",
       "    </div>\n",
       "\n",
       "    <details style=\"margin-left: 48px;\">\n",
       "        <summary style=\"margin-bottom: 20px;\">\n",
       "            <h3 style=\"display: inline;\">Workers</h3>\n",
       "        </summary>\n",
       "\n",
       "        \n",
       "        <div style=\"margin-bottom: 20px;\">\n",
       "            <div style=\"width: 24px; height: 24px; background-color: #DBF5FF; border: 3px solid #4CC9FF; border-radius: 5px; position: absolute;\"> </div>\n",
       "            <div style=\"margin-left: 48px;\">\n",
       "            <details>\n",
       "                <summary>\n",
       "                    <h4 style=\"margin-bottom: 0px; display: inline;\">Worker: 0</h4>\n",
       "                </summary>\n",
       "                <table style=\"width: 100%; text-align: left;\">\n",
       "                    <tr>\n",
       "                        <td style=\"text-align: left;\">\n",
       "                            <strong>Comm: </strong> tcp://127.0.0.1:50221\n",
       "                        </td>\n",
       "                        <td style=\"text-align: left;\">\n",
       "                            <strong>Total threads: </strong> 3\n",
       "                        </td>\n",
       "                    </tr>\n",
       "                    <tr>\n",
       "                        <td style=\"text-align: left;\">\n",
       "                            <strong>Dashboard: </strong> <a href=\"http://127.0.0.1:50224/status\" target=\"_blank\">http://127.0.0.1:50224/status</a>\n",
       "                        </td>\n",
       "                        <td style=\"text-align: left;\">\n",
       "                            <strong>Memory: </strong> 9.00 GiB\n",
       "                        </td>\n",
       "                    </tr>\n",
       "                    <tr>\n",
       "                        <td style=\"text-align: left;\">\n",
       "                            <strong>Nanny: </strong> tcp://127.0.0.1:50211\n",
       "                        </td>\n",
       "                        <td style=\"text-align: left;\"></td>\n",
       "                    </tr>\n",
       "                    <tr>\n",
       "                        <td colspan=\"2\" style=\"text-align: left;\">\n",
       "                            <strong>Local directory: </strong> /var/folders/m4/5d02b2xs0l52lbxzbk0t3vym0000gp/T/dask-scratch-space/worker-4s1y87sf\n",
       "                        </td>\n",
       "                    </tr>\n",
       "\n",
       "                    \n",
       "\n",
       "                    \n",
       "\n",
       "                </table>\n",
       "            </details>\n",
       "            </div>\n",
       "        </div>\n",
       "        \n",
       "        <div style=\"margin-bottom: 20px;\">\n",
       "            <div style=\"width: 24px; height: 24px; background-color: #DBF5FF; border: 3px solid #4CC9FF; border-radius: 5px; position: absolute;\"> </div>\n",
       "            <div style=\"margin-left: 48px;\">\n",
       "            <details>\n",
       "                <summary>\n",
       "                    <h4 style=\"margin-bottom: 0px; display: inline;\">Worker: 1</h4>\n",
       "                </summary>\n",
       "                <table style=\"width: 100%; text-align: left;\">\n",
       "                    <tr>\n",
       "                        <td style=\"text-align: left;\">\n",
       "                            <strong>Comm: </strong> tcp://127.0.0.1:50222\n",
       "                        </td>\n",
       "                        <td style=\"text-align: left;\">\n",
       "                            <strong>Total threads: </strong> 3\n",
       "                        </td>\n",
       "                    </tr>\n",
       "                    <tr>\n",
       "                        <td style=\"text-align: left;\">\n",
       "                            <strong>Dashboard: </strong> <a href=\"http://127.0.0.1:50223/status\" target=\"_blank\">http://127.0.0.1:50223/status</a>\n",
       "                        </td>\n",
       "                        <td style=\"text-align: left;\">\n",
       "                            <strong>Memory: </strong> 9.00 GiB\n",
       "                        </td>\n",
       "                    </tr>\n",
       "                    <tr>\n",
       "                        <td style=\"text-align: left;\">\n",
       "                            <strong>Nanny: </strong> tcp://127.0.0.1:50212\n",
       "                        </td>\n",
       "                        <td style=\"text-align: left;\"></td>\n",
       "                    </tr>\n",
       "                    <tr>\n",
       "                        <td colspan=\"2\" style=\"text-align: left;\">\n",
       "                            <strong>Local directory: </strong> /var/folders/m4/5d02b2xs0l52lbxzbk0t3vym0000gp/T/dask-scratch-space/worker-e3wpm_tw\n",
       "                        </td>\n",
       "                    </tr>\n",
       "\n",
       "                    \n",
       "\n",
       "                    \n",
       "\n",
       "                </table>\n",
       "            </details>\n",
       "            </div>\n",
       "        </div>\n",
       "        \n",
       "        <div style=\"margin-bottom: 20px;\">\n",
       "            <div style=\"width: 24px; height: 24px; background-color: #DBF5FF; border: 3px solid #4CC9FF; border-radius: 5px; position: absolute;\"> </div>\n",
       "            <div style=\"margin-left: 48px;\">\n",
       "            <details>\n",
       "                <summary>\n",
       "                    <h4 style=\"margin-bottom: 0px; display: inline;\">Worker: 2</h4>\n",
       "                </summary>\n",
       "                <table style=\"width: 100%; text-align: left;\">\n",
       "                    <tr>\n",
       "                        <td style=\"text-align: left;\">\n",
       "                            <strong>Comm: </strong> tcp://127.0.0.1:50227\n",
       "                        </td>\n",
       "                        <td style=\"text-align: left;\">\n",
       "                            <strong>Total threads: </strong> 3\n",
       "                        </td>\n",
       "                    </tr>\n",
       "                    <tr>\n",
       "                        <td style=\"text-align: left;\">\n",
       "                            <strong>Dashboard: </strong> <a href=\"http://127.0.0.1:50229/status\" target=\"_blank\">http://127.0.0.1:50229/status</a>\n",
       "                        </td>\n",
       "                        <td style=\"text-align: left;\">\n",
       "                            <strong>Memory: </strong> 9.00 GiB\n",
       "                        </td>\n",
       "                    </tr>\n",
       "                    <tr>\n",
       "                        <td style=\"text-align: left;\">\n",
       "                            <strong>Nanny: </strong> tcp://127.0.0.1:50213\n",
       "                        </td>\n",
       "                        <td style=\"text-align: left;\"></td>\n",
       "                    </tr>\n",
       "                    <tr>\n",
       "                        <td colspan=\"2\" style=\"text-align: left;\">\n",
       "                            <strong>Local directory: </strong> /var/folders/m4/5d02b2xs0l52lbxzbk0t3vym0000gp/T/dask-scratch-space/worker-nagx36xx\n",
       "                        </td>\n",
       "                    </tr>\n",
       "\n",
       "                    \n",
       "\n",
       "                    \n",
       "\n",
       "                </table>\n",
       "            </details>\n",
       "            </div>\n",
       "        </div>\n",
       "        \n",
       "        <div style=\"margin-bottom: 20px;\">\n",
       "            <div style=\"width: 24px; height: 24px; background-color: #DBF5FF; border: 3px solid #4CC9FF; border-radius: 5px; position: absolute;\"> </div>\n",
       "            <div style=\"margin-left: 48px;\">\n",
       "            <details>\n",
       "                <summary>\n",
       "                    <h4 style=\"margin-bottom: 0px; display: inline;\">Worker: 3</h4>\n",
       "                </summary>\n",
       "                <table style=\"width: 100%; text-align: left;\">\n",
       "                    <tr>\n",
       "                        <td style=\"text-align: left;\">\n",
       "                            <strong>Comm: </strong> tcp://127.0.0.1:50228\n",
       "                        </td>\n",
       "                        <td style=\"text-align: left;\">\n",
       "                            <strong>Total threads: </strong> 3\n",
       "                        </td>\n",
       "                    </tr>\n",
       "                    <tr>\n",
       "                        <td style=\"text-align: left;\">\n",
       "                            <strong>Dashboard: </strong> <a href=\"http://127.0.0.1:50231/status\" target=\"_blank\">http://127.0.0.1:50231/status</a>\n",
       "                        </td>\n",
       "                        <td style=\"text-align: left;\">\n",
       "                            <strong>Memory: </strong> 9.00 GiB\n",
       "                        </td>\n",
       "                    </tr>\n",
       "                    <tr>\n",
       "                        <td style=\"text-align: left;\">\n",
       "                            <strong>Nanny: </strong> tcp://127.0.0.1:50214\n",
       "                        </td>\n",
       "                        <td style=\"text-align: left;\"></td>\n",
       "                    </tr>\n",
       "                    <tr>\n",
       "                        <td colspan=\"2\" style=\"text-align: left;\">\n",
       "                            <strong>Local directory: </strong> /var/folders/m4/5d02b2xs0l52lbxzbk0t3vym0000gp/T/dask-scratch-space/worker-7izo4g2c\n",
       "                        </td>\n",
       "                    </tr>\n",
       "\n",
       "                    \n",
       "\n",
       "                    \n",
       "\n",
       "                </table>\n",
       "            </details>\n",
       "            </div>\n",
       "        </div>\n",
       "        \n",
       "\n",
       "    </details>\n",
       "</div>\n",
       "\n",
       "        </details>\n",
       "    </div>\n",
       "</div>\n",
       "            </details>\n",
       "        \n",
       "\n",
       "    </div>\n",
       "</div>"
      ],
      "text/plain": [
       "<Client: 'tcp://127.0.0.1:50208' processes=4 threads=12, memory=36.00 GiB>"
      ]
     },
     "execution_count": 1,
     "metadata": {},
     "output_type": "execute_result"
    }
   ],
   "source": [
    "import os, sys\n",
    "from datetime import datetime, timedelta, timezone\n",
    "import time\n",
    "import numpy as np\n",
    "import pandas as pd\n",
    "from dask import dataframe as dd\n",
    "\n",
    "%matplotlib inline\n",
    "import matplotlib.pyplot as plt\n",
    "\n",
    "sys.path.append(os.path.join(os.getcwd(),'..'))\n",
    "from src import cdf\n",
    "from src import postprocessing\n",
    "from dask.distributed import Client\n",
    "client = None\n",
    "if not client:\n",
    "    client = Client()\n",
    "client"
   ]
  },
  {
   "cell_type": "code",
   "execution_count": 3,
   "id": "fbf15fd5",
   "metadata": {},
   "outputs": [],
   "source": [
    "#define path variables\n",
    "study_name = 'Loop study public dataset 2023-01-31'\n",
    "raw_path = os.path.join(os.getcwd(), '..', 'data', 'raw')\n",
    "out_path = os.path.join(os.getcwd(), '..', 'data', 'out')\n",
    "loop_path = os.path.join(raw_path, study_name)\n",
    "df_patient= pd.read_csv(os.path.join(loop_path, 'Data Tables', 'PtRoster.txt'), sep='|')\n",
    "loop_paquet_path = os.path.join(raw_path, 'paquet', study_name) "
   ]
  },
  {
   "cell_type": "markdown",
   "id": "88a8962c",
   "metadata": {},
   "source": [
    "## Datetime Analysis (using CGM subset)\n",
    "We start by working with CGM data to understand how to obtain local datetimes. \n",
    "\n",
    "As we can see below, \n",
    "- **Datetimes:** DeviceDtTm and TmznOffset are mostly NaN, as discussed with JAEB, these are the only cases where we have true (int the sense of device reported) information about local datetime and the actual time zone offset.\n",
    " - **Memory usage:** 1GB for a single CGM file is too much. The patient data is spread accross various files which requires out of memory approaches."
   ]
  },
  {
   "cell_type": "code",
   "execution_count": 6,
   "id": "9fe75cfd",
   "metadata": {},
   "outputs": [
    {
     "name": "stderr",
     "output_type": "stream",
     "text": [
      "/var/folders/m4/5d02b2xs0l52lbxzbk0t3vym0000gp/T/ipykernel_48568/3485888083.py:2: DtypeWarning: Columns (3) have mixed types. Specify dtype option on import or set low_memory=False.\n",
      "  df_cgm = pd.read_csv(os.path.join(loop_path, 'Data Tables', 'LOOPDeviceCGM1.txt'), sep='|',\n"
     ]
    },
    {
     "name": "stdout",
     "output_type": "stream",
     "text": [
      "Memory usage: 1010.96 MB (before optimization)\n",
      "Memory usage: 865.75 MB (after optimization)\n"
     ]
    },
    {
     "data": {
      "text/html": [
       "<div>\n",
       "<style scoped>\n",
       "    .dataframe tbody tr th:only-of-type {\n",
       "        vertical-align: middle;\n",
       "    }\n",
       "\n",
       "    .dataframe tbody tr th {\n",
       "        vertical-align: top;\n",
       "    }\n",
       "\n",
       "    .dataframe thead th {\n",
       "        text-align: right;\n",
       "    }\n",
       "</style>\n",
       "<table border=\"1\" class=\"dataframe\">\n",
       "  <thead>\n",
       "    <tr style=\"text-align: right;\">\n",
       "      <th></th>\n",
       "      <th>count</th>\n",
       "      <th>count_na</th>\n",
       "      <th>nunique</th>\n",
       "    </tr>\n",
       "  </thead>\n",
       "  <tbody>\n",
       "    <tr>\n",
       "      <th>PtID</th>\n",
       "      <td>18912614</td>\n",
       "      <td>0</td>\n",
       "      <td>589</td>\n",
       "    </tr>\n",
       "    <tr>\n",
       "      <th>DeviceDtTm</th>\n",
       "      <td>6128194</td>\n",
       "      <td>12784420</td>\n",
       "      <td>5629581</td>\n",
       "    </tr>\n",
       "    <tr>\n",
       "      <th>UTCDtTm</th>\n",
       "      <td>18912614</td>\n",
       "      <td>0</td>\n",
       "      <td>14581839</td>\n",
       "    </tr>\n",
       "    <tr>\n",
       "      <th>CGMVal</th>\n",
       "      <td>18912614</td>\n",
       "      <td>0</td>\n",
       "      <td>315660</td>\n",
       "    </tr>\n",
       "    <tr>\n",
       "      <th>TmZnOffset</th>\n",
       "      <td>5917165</td>\n",
       "      <td>12995449</td>\n",
       "      <td>15</td>\n",
       "    </tr>\n",
       "  </tbody>\n",
       "</table>\n",
       "</div>"
      ],
      "text/plain": [
       "               count  count_na   nunique\n",
       "PtID        18912614         0       589\n",
       "DeviceDtTm   6128194  12784420   5629581\n",
       "UTCDtTm     18912614         0  14581839\n",
       "CGMVal      18912614         0    315660\n",
       "TmZnOffset   5917165  12995449        15"
      ]
     },
     "metadata": {},
     "output_type": "display_data"
    }
   ],
   "source": [
    "#inspect LOOPDeviceCGM1.txt, one of 6 CGM files.\n",
    "df_cgm = pd.read_csv(os.path.join(loop_path, 'Data Tables', 'LOOPDeviceCGM1.txt'), sep='|',\n",
    "                     usecols=['PtID', 'DeviceDtTm', 'TmZnOffset', 'UTCDtTm', 'RecordType', 'CGMVal', 'Units'])\n",
    "\n",
    "memory_usage = df_cgm.memory_usage().sum() / 1024**2\n",
    "print(f\"Memory usage: {memory_usage:.2f} MB (before optimization)\")\n",
    "\n",
    "#optimize data by storage size\n",
    "df_cgm['UTCDtTm'] = pd.to_datetime(df_cgm.UTCDtTm, format='%Y-%m-%d %H:%M:%S')\n",
    "df_cgm['DeviceDtTm'] = pd.to_datetime(df_cgm.DeviceDtTm, format='%Y-%m-%d %H:%M:%S')\n",
    "df_cgm['TmZnOffset'] = pd.to_timedelta(df_cgm.TmZnOffset, unit='minute')\n",
    "\n",
    "df_cgm = df_cgm.loc[df_cgm.RecordType == 'CGM'].drop(columns=['RecordType'])\n",
    "df_cgm = df_cgm.drop(columns=['Units'])\n",
    "\n",
    "memory_usage = df_cgm.memory_usage().sum() / 1024**2\n",
    "print(f\"Memory usage: {memory_usage:.2f} MB (after optimization)\")\n",
    "\n",
    "def count_na(series):\n",
    "    return series.isna().sum()\n",
    "display(df_cgm.agg(['count', count_na, 'nunique']).T)"
   ]
  },
  {
   "cell_type": "markdown",
   "id": "aeddab9e",
   "metadata": {},
   "source": [
    "### Understanding Datetimes\n",
    "Are these local times? This is what the glossary says:\n",
    " - `DeviceDtTm`: Local device date and time; note not present in most rows because unavailable in Tidepool data source\n",
    " - `UTCDtTm`: Device date and time adjusted with timezone offset\n",
    " -`DexInternalDtTm` Dexcom Internal date and time\n",
    " -`TmZnOffset`: Timezone offset\n",
    "\n",
    "While we assume ```DeviceDtTm = UTCDtTm + TmZnOffset``` the glossary is a little ambiguous so we plot patient data and the distribution.\n"
   ]
  },
  {
   "cell_type": "code",
   "execution_count": null,
   "id": "a41a0be2",
   "metadata": {},
   "outputs": [
    {
     "data": {
      "image/png": "[encoded data removed]",
      "text/plain": [
       "<Figure size 1000x300 with 2 Axes>"
      ]
     },
     "metadata": {},
     "output_type": "display_data"
    }
   ],
   "source": [
    "#ploting a single patient's CGM data\n",
    "pt_grps = df_cgm.groupby('PtID', observed=False)\n",
    "subframe = pt_grps.get_group(1173).copy()\n",
    "subframe['AdjustedDtTm'] = subframe.UTCDtTm + pd.to_timedelta(subframe.TmZnOffset, unit='minute')\n",
    "\n",
    "temp = subframe.dropna(subset=['DeviceDtTm']).sort_values(['DeviceDtTm'])\n",
    "\n",
    "fig, ax = plt.subplots(figsize=(10, 3)); twinx = ax.twinx()\n",
    "offset=4.5\n",
    "\n",
    "ax.scatter(temp.DeviceDtTm, temp.CGMVal, label='DeviceDtTm', marker='o',alpha=1, color='darkgray')\n",
    "ax.scatter(temp.AdjustedDtTm, temp.CGMVal, label='UTCDtTm + TmZnOffset', marker='x', alpha=0.5,color='blue')\n",
    "\n",
    "temp = subframe.dropna(subset=['UTCDtTm']).sort_values(['UTCDtTm'])\n",
    "ax.scatter(temp.UTCDtTm, temp.CGMVal, label='UTCDtTm', marker='.',alpha=0.5,color='red')\n",
    "twinx.plot(temp.UTCDtTm, temp.TmZnOffset, label='TmZnOffset')\n",
    "\n",
    "ax.set_xlim(temp.UTCDtTm.min()+timedelta(days=offset), temp.UTCDtTm.min()+timedelta(days=offset+1))\n",
    "twinx.set_ylim(-1000, 1000); ax.legend(); plt.tight_layout()\n",
    "plt.show()\n",
    "del subframe, temp"
   ]
  },
  {
   "cell_type": "code",
   "execution_count": null,
   "id": "ba0781ca",
   "metadata": {},
   "outputs": [
    {
     "data": {
      "image/png": "[encoded data removed]",
      "text/plain": [
       "<Figure size 800x200 with 1 Axes>"
      ]
     },
     "metadata": {},
     "output_type": "display_data"
    }
   ],
   "source": [
    "# plot the difference between UTCDtTm + TmZnOffset and DeviceDtTm\n",
    "temp = df_cgm.sample(10000).dropna(subset=['UTCDtTm','DeviceDtTm','TmZnOffset'],how='any').copy()\n",
    "temp['UTCDtTm'] = pd.to_datetime(temp.UTCDtTm)\n",
    "temp['DeviceDtTm'] = pd.to_datetime(temp.DeviceDtTm)\n",
    "\n",
    "temp.loc[:,'Diff'] = (temp.DeviceDtTm - (temp.UTCDtTm + pd.to_timedelta(temp.TmZnOffset, unit='minute'))).dt.total_seconds()/3600\n",
    "\n",
    "plt.figure(figsize=(8, 2)); ax = plt.gca()\n",
    "cdf.plot_cdf(temp.Diff.abs(), xlabel='Difference between UTCDtTm + TmZnOffset and DeviceDtTm (hours)', ax=ax)"
   ]
  },
  {
   "cell_type": "markdown",
   "id": "f0247559",
   "metadata": {},
   "source": [
    "(Note: We see that some differences are not equal to zero. In these cases, the time shift is a fraction of hours. We don't know why that is.)"
   ]
  },
  {
   "cell_type": "code",
   "execution_count": 7,
   "id": "36f1d749",
   "metadata": {},
   "outputs": [
    {
     "data": {
      "image/png": "[encoded data removed]",
      "text/plain": [
       "<Figure size 1000x200 with 1 Axes>"
      ]
     },
     "metadata": {},
     "output_type": "display_data"
    }
   ],
   "source": [
    "#plot daytime average CGM values\n",
    "\n",
    "#reduce data to those with values in both timestamp columns\n",
    "temp = df_cgm.sample(100000).dropna(subset=['UTCDtTm','DeviceDtTm','TmZnOffset'],how='any').copy()\n",
    "temp['DeviceDtTm'] = pd.to_datetime(temp.DeviceDtTm)\n",
    "temp['UTCDtTm'] = pd.to_datetime(temp.UTCDtTm)\n",
    "temp['datetime'] = pd.to_datetime(temp.UTCDtTm) + pd.to_timedelta(temp.TmZnOffset, unit='minute')\n",
    "\n",
    "#calculate the hour of day for each timestamp\n",
    "temp['DeviceDtTm_hod'] = temp.DeviceDtTm.dt.hour+temp.DeviceDtTm.dt.minute/60+temp.DeviceDtTm.dt.second/3600\n",
    "temp['UTCDtTm_hod'] = temp.UTCDtTm.dt.hour+temp.UTCDtTm.dt.minute/60+temp.UTCDtTm.dt.second/3600\n",
    "temp['datetime_hod'] = temp.datetime.dt.hour+temp.datetime.dt.minute/60+temp.datetime.dt.second/3600\n",
    "\n",
    "#calcualte centered moving average\n",
    "window = 2000\n",
    "ma_DeviceDtTm  = temp[['CGMVal','DeviceDtTm_hod']].sort_values('DeviceDtTm_hod').rolling(window=window, min_periods=window, on='DeviceDtTm_hod', center=True).mean().sample(1000)\n",
    "ma_UTCDtTm  = temp[['CGMVal','UTCDtTm_hod']].sort_values('UTCDtTm_hod').rolling(window=window, min_periods=window, on='UTCDtTm_hod', center=True).mean().sample(1000)\n",
    "ma_datetime  = temp[['CGMVal','datetime_hod']].sort_values('datetime_hod').rolling(window=window, min_periods=window, on='datetime_hod', center=True).mean().sample(1000)\n",
    "\n",
    "#draw\n",
    "plt.figure(figsize=(10,2)); \n",
    "plt.scatter(ma_DeviceDtTm.DeviceDtTm_hod, ma_DeviceDtTm.CGMVal, label='DeviceDtTm', color='darkgray', marker='o',s=20)\n",
    "plt.scatter(ma_UTCDtTm.UTCDtTm_hod, ma_UTCDtTm.CGMVal, label='UTCDtTm', color='blue', marker='x',s=2)\n",
    "plt.scatter(ma_datetime.datetime_hod, ma_datetime.CGMVal, label='UTCDtTm + TmZnOffset', color='red', marker='.',s=2)\n",
    "\n",
    "plt.plot([10,15],[7.6,7.6], color='black', linestyle='--', marker='<')\n",
    "plt.plot([15],[7.6], color='black', marker='o')\n",
    "plt.legend(); plt.tight_layout()\n"
   ]
  },
  {
   "cell_type": "markdown",
   "id": "67158fb3",
   "metadata": {},
   "source": [
    "From this we can clearly see that \n",
    "\n",
    "1. DeviceDtTm and the offset compensated utc aligns with expected diurnal, postprandial patterns (pronounced peak in the morning, noon and evening). \n",
    "2. Using UTC alone (blue), the peaks are less pronounced and roughly offset by 5 hours (black arrow) (At UTC 15:00 we see the morning peak, which really is at around 10:00 (-5h). This is in line with the fact that the majority of time zone offsets is around -300 minutes (-5hours). Note that just compensating UTC by 5 hours does not give the same pronounced peaks, since there are users with other offsets, the peaks are washed out.\n",
    "\n",
    "We can conclude that ```DeviceDtTm = UTCDtTm + TmZnOffset``` with DeviceDtTm being the local time. And that the glossary description *\"UTCDtTm : Device date and time (with timezone offset)\"* is misleading.\n",
    "\n",
    "\n",
    "However, we can **not rely** on DeviceDtTm and TmZnOffset because it only exists for a fraction of the data. Therefore we need to rely on UTCDtTm and either  \n",
    " * extrapolate TmZnOffset\n",
    " * use the patient roster time zone offsets"
   ]
  },
  {
   "cell_type": "markdown",
   "id": "4e2ab885",
   "metadata": {},
   "source": [
    "### Which Offset to use?\n",
    "\n",
    "One option would be to extrapolate the `TmZnOffset` (bfill/ffill)? To check if this is a viable option we check how many patients have TmZnOffset data.  We do this by checking the fraction of patients with at least one TmZnOffset value. As we can see below, this is clearly not enough. "
   ]
  },
  {
   "cell_type": "code",
   "execution_count": null,
   "id": "a230efbe",
   "metadata": {},
   "outputs": [
    {
     "name": "stdout",
     "output_type": "stream",
     "text": [
      "37.18% of patients have at least one timezone offset\n"
     ]
    },
    {
     "data": {
      "text/plain": [
       "Text(0.5, 1.0, 'Availability of timezone offsets for patients with at least one')"
      ]
     },
     "execution_count": 13,
     "metadata": {},
     "output_type": "execute_result"
    },
    {
     "data": {
      "image/png": "[encoded data removed]",
      "text/plain": [
       "<Figure size 800x200 with 1 Axes>"
      ]
     },
     "metadata": {},
     "output_type": "display_data"
    }
   ],
   "source": [
    "#check fraction of patients with at least one timezone offset\n",
    "frac = (df_cgm.groupby('PtID').TmZnOffset.count()>1).sum()/df_cgm.PtID.nunique()\n",
    "print(f'{frac:.2%} of patients have at least one timezone offset')\n",
    "\n",
    "#check fraction of non NaN offsets for patients with at least one\n",
    "pts_with_data = df_cgm.dropna(subset=['TmZnOffset'] ).PtID.unique()\n",
    "temp = df_cgm.loc[df_cgm.PtID.isin(pts_with_data)]\n",
    "temp = temp.groupby('PtID').TmZnOffset.agg(lambda x: x.notna().mean())\n",
    "\n",
    "plt.figure(figsize=(8,2)); ax = plt.gca()\n",
    "cdf.plot_cdf(temp,ax=ax)\n",
    "plt.title('Availability of timezone offsets for patients with at least one')"
   ]
  },
  {
   "cell_type": "markdown",
   "id": "90519ed7",
   "metadata": {},
   "source": [
    "Instead, we could use the `PtTimezoneOffset` (utc offset in hours) from the patient roster. To understand if using this *static* value is acceptable, we want to understand how often the actual timezone changes."
   ]
  },
  {
   "cell_type": "code",
   "execution_count": 8,
   "id": "abeff71c",
   "metadata": {},
   "outputs": [
    {
     "data": {
      "image/png": "[encoded data removed]",
      "text/plain": [
       "<Figure size 800x200 with 1 Axes>"
      ]
     },
     "metadata": {},
     "output_type": "display_data"
    },
    {
     "name": "stdout",
     "output_type": "stream",
     "text": [
      "65.3% of patients have 2 unique time zones or less\n"
     ]
    },
    {
     "data": {
      "image/png": "[encoded data removed]",
      "text/plain": [
       "<Figure size 800x200 with 1 Axes>"
      ]
     },
     "metadata": {},
     "output_type": "display_data"
    },
    {
     "name": "stdout",
     "output_type": "stream",
     "text": [
      "63.0% of patients have shifts of 1 hours or less\n"
     ]
    }
   ],
   "source": [
    "#report time zone offsets and changes within patients\n",
    "def timedetla_formatter(td):\n",
    "    return f\"{td.seconds // 3600 + td.days * 24:02d}:{(td.seconds % 3600) // 60:02d}\"\n",
    "\n",
    "#number of time zones per patient\n",
    "number_time_zones = df_cgm.dropna(subset=['TmZnOffset']).groupby('PtID', observed=False).TmZnOffset.nunique()\n",
    "number_time_zones = number_time_zones.value_counts().sort_index()\n",
    "\n",
    "plt.figure(figsize=(8, 2)); ax=plt.gca()\n",
    "number_time_zones.plot(kind='bar', ax=ax)\n",
    "plt.xlabel('Number of Unique Time Zones')\n",
    "plt.ylabel('Count')\n",
    "plt.title('Distribution of Unique Time Zones per Patient')\n",
    "plt.tight_layout(); plt.show()\n",
    "\n",
    "print(f'{100*number_time_zones.loc[0:2].sum()/number_time_zones.sum():2.1f}% of patients have 2 unique time zones or less')\n",
    "\n",
    "\n",
    "#max difference within a patient\n",
    "tzdiff_within = df_cgm.dropna(subset=['TmZnOffset']).groupby('PtID', observed=False).TmZnOffset.agg(lambda x: x.max()-x.min())\n",
    "tzdiff_within = tzdiff_within.value_counts().sort_index()\n",
    "\n",
    "plt.figure(figsize=(8, 2)); ax=plt.gca()\n",
    "tzdiff_within.plot(kind='bar', ax=ax)\n",
    "tick_labels = [timedetla_formatter(x) for x in tzdiff_within.index]\n",
    "ax.set_xticklabels(tick_labels, rotation=45,fontsize='small')\n",
    "plt.xlabel('Max Time Zone Difference');plt.ylabel('Count')\n",
    "plt.title('Max Time Zone Difference Within Each Patient')\n",
    "plt.tight_layout();plt.show()\n",
    "\n",
    "print(f'{100*tzdiff_within[tzdiff_within.index<=timedelta(hours=1)].sum()/tzdiff_within.sum():2.1f}% of patients have shifts of 1 hours or less')\n",
    "\n",
    "\n",
    "# #Which time zones exist?\n",
    "# all_time_zones = df_cgm.dropna(subset=['TmZnOffset']).groupby('PtID', observed=False).TmZnOffset.unique().explode()\n",
    "# plt.figure(figsize=(8, 2)); ax=plt.gca()\n",
    "# all_time_zones= all_time_zones.value_counts().sort_index()\n",
    "# all_time_zones.plot(kind='bar', logy=True, ax=ax)\n",
    "# tick_labels = [timedetla_formatter(x) for x in all_time_zones.index]\n",
    "# ax.set_xticklabels(tick_labels, rotation=45,fontsize='small')\n",
    "\n",
    "# plt.xticks(rotation=45, fontsize='small')\n",
    "# plt.xlabel('Time Zone Offset'); plt.ylabel('Count'); plt.title('Distribution of Time Zone Offsets')\n",
    "# plt.tight_layout();plt.show()"
   ]
  },
  {
   "cell_type": "markdown",
   "id": "a299b3a6",
   "metadata": {},
   "source": [
    "#### Estimate static time zone error\n",
    "\n",
    "We see that \n",
    " - Majority of most patients experience more than 1 time zones.\n",
    " - The majority is a change of 1 hour. Likely the result of daylight saving times. \n",
    "- But, a significant fraction experiences changes of 2,3 or 4 hours or more. This is nothing, that we could account for. While we can remove patients with more frequent changes in `TmZnOffset`, almost 2/3 of the patients have no data in that column. \n",
    "\n",
    "However, these time zone changes are likely infrequent as most patients will travel for short periods only. Let's estimate the expected error. To estimate the error, we compare the static offsets from the patient roster with the device reported offsets for those user that have it."
   ]
  },
  {
   "cell_type": "code",
   "execution_count": 9,
   "id": "94806742",
   "metadata": {},
   "outputs": [],
   "source": [
    "## obtaining local times from utc and patient roster offsets\n",
    "\n",
    "# joining tables\n",
    "df_patient['PtTimezoneOffset'] = pd.to_timedelta(df_patient.PtTimezoneOffset, unit='hour')\n",
    "df_cgm = df_cgm.join(df_patient[['PtID','PtTimezoneOffset']].set_index('PtID'), on='PtID', how='left')\n",
    "\n",
    "# converting to localized datetime\n",
    "#method 1: getting localized datetimes (much slower)\n",
    "#df_cgm['datetime'] = pd.to_datetime(df_cgm.UTCDtTm, utc=True)\n",
    "#df_cgm['datetime'] = df_cgm.apply(lambda x: x.datetime.tz_convert(timezone(offset=x.PtTimezoneOffset)), axis=1)\n",
    "\n",
    "#method 2: or as naive datetime (simply adding the offset)\n",
    "df_cgm['datetime']= df_cgm.UTCDtTm+ df_cgm.TmZnOffset\n",
    "#display(df_cgm.dropna(subset=['TmZnOffset']).sample(3))"
   ]
  },
  {
   "cell_type": "code",
   "execution_count": 10,
   "id": "684d17b2",
   "metadata": {},
   "outputs": [
    {
     "data": {
      "image/png": "[encoded data removed]",
      "text/plain": [
       "<Figure size 800x200 with 1 Axes>"
      ]
     },
     "metadata": {},
     "output_type": "display_data"
    }
   ],
   "source": [
    "#plotting the difference between CGM TmZnOffset and PtTimezoneOffset\n",
    "\n",
    "diff = df_cgm.TmZnOffset - df_cgm.PtTimezoneOffset\n",
    "diff = abs(diff.dropna().dt.total_seconds()/3600)\n",
    "\n",
    "plt.figure(figsize=(8, 2)); ax = plt.gca()\n",
    "cdf.plot_cdf(diff,ax=ax); plt.xlabel('Difference (hours)');\n",
    "plt.title('Abs Difference between TmZnOffset and PtTimezoneOffset');\n",
    "plt.xticks([0,1,2,4,8,12,16]); #plt.tight_layout(); plt.show()\n",
    "\n",
    "#get cumulative stats\n",
    "# print(f'{(diff>=2).mean():.1%} of time zone differences are >2 hours')\n",
    "# error_counts = diff.value_counts(bins=[-1, 0, 1, 2, 3, 4, float('inf')], sort=False)\n",
    "# error_percentages = (error_counts / error_counts.sum()) * 100\n",
    "# error_percentages.name = 'Percentage'\n",
    "# cumsum_report = error_percentages.cumsum()\n",
    "# cumsum_report.name = 'Cumulative Percentage'\n",
    "# cumsum_report.index = [f'<={x.right:.0f}' for x in error_counts.index]\n",
    "# display(cumsum_report)"
   ]
  },
  {
   "cell_type": "markdown",
   "id": "94eafe74",
   "metadata": {},
   "source": [
    "This doesn't look too bad.  When using the static patient roster utc offset, the local time error will be <2 hours for >96% of the cases."
   ]
  },
  {
   "cell_type": "markdown",
   "id": "6c849452",
   "metadata": {},
   "source": [
    "### Conclusion\n",
    "Local datetimes can be obtained with a small estimated error (<2 hours for >96% of the cases) by using the patient roster static time zone utc offsets PtTimezoneOffset and UTCDtTm utc timestamps. \n",
    "\n",
    "```local_time = UTCDtTm + PtTimezoneOffset```"
   ]
  },
  {
   "cell_type": "markdown",
   "id": "916b523d",
   "metadata": {},
   "source": [
    "## CGM"
   ]
  },
  {
   "cell_type": "markdown",
   "id": "37d914ba",
   "metadata": {},
   "source": [
    "### Loading using dask\n",
    "\n",
    "\n",
    "Processing patient data requires us to load all files into memory at once because the patient data is spread accross all CGM files. While we could use dask on the csvs directly, this would create a lot of overhead (shuffling to perform grouped conversions). \n",
    "Instead, we convert the data into a paquet format, splitting it by patient id. This allows us to process patients iteratively and in parallel."
   ]
  },
  {
   "cell_type": "code",
   "execution_count": 16,
   "id": "3a3ffcce",
   "metadata": {},
   "outputs": [
    {
     "name": "stdout",
     "output_type": "stream",
     "text": [
      "Parquet files already exist in /Users/jan/git/nudgebg/egvinsulin/notebooks/../data/raw/paquet/Loop study public dataset 2023-01-31\n"
     ]
    }
   ],
   "source": [
    "## export CGM to parquet if not already done\n",
    "re_export = False\n",
    "cgm_parquet_path = os.path.join(loop_paquet_path, 'cgm')\n",
    "\n",
    "if not os.path.exists(cgm_parquet_path):\n",
    "    temp = dd.read_csv(os.path.join(loop_path, 'Data Tables', 'LOOPDeviceCGM*.txt'), sep='|', \n",
    "                parse_dates=['UTCDtTm'], date_format='%Y-%m-%d %H:%M:%S', \n",
    "                usecols=['PtID', 'UTCDtTm', 'RecordType', 'CGMVal'])\n",
    "    temp.to_parquet(os.path.join(loop_paquet_path,'cgm'), partition_on='PtID')\n",
    "else:\n",
    "    print(f'Parquet files already exist in {loop_paquet_path}')"
   ]
  },
  {
   "cell_type": "code",
   "execution_count": 4,
   "id": "94f28a09",
   "metadata": {},
   "outputs": [
    {
     "name": "stderr",
     "output_type": "stream",
     "text": [
      "/Users/jan/.pyenv/versions/3.9.6/envs/nudgebg/lib/python3.9/site-packages/distributed/client.py:3362: UserWarning: Sending large graph of size 9.80 MiB.\n",
      "This may cause some slowdown.\n",
      "Consider loading the data with Dask directly\n",
      " or using futures or delayed objects to embed the data into the graph without repetition.\n",
      "See also https://docs.dask.org/en/stable/best-practices.html#load-data-with-dask for more information.\n",
      "  warnings.warn(\n",
      "/Users/jan/.pyenv/versions/3.9.6/envs/nudgebg/lib/python3.9/site-packages/distributed/client.py:3362: UserWarning: Sending large graph of size 14.34 MiB.\n",
      "This may cause some slowdown.\n",
      "Consider loading the data with Dask directly\n",
      " or using futures or delayed objects to embed the data into the graph without repetition.\n",
      "See also https://docs.dask.org/en/stable/best-practices.html#load-data-with-dask for more information.\n",
      "  warnings.warn(\n"
     ]
    }
   ],
   "source": [
    "#load parquet and a subset\n",
    "ddf_cgm = dd.read_parquet(os.path.join(loop_paquet_path,'cgm'), aggregate_files='PtID')\n",
    "df_cgm_sample = ddf_cgm.sample(frac=0.1).compute().reset_index()"
   ]
  },
  {
   "cell_type": "code",
   "execution_count": 41,
   "id": "d310ca6a",
   "metadata": {},
   "outputs": [
    {
     "name": "stdout",
     "output_type": "stream",
     "text": [
      "COLUMNS:\n",
      "Index(['index', 'UTCDtTm', 'RecordType', 'CGMVal', 'PtID'], dtype='object')\n"
     ]
    }
   ],
   "source": [
    "#display the COLUMNS\n",
    "print('COLUMNS:')\n",
    "print(df_cgm_sample.columns)"
   ]
  },
  {
   "cell_type": "markdown",
   "id": "6a577535",
   "metadata": {},
   "source": [
    "### Check for Magic CGM Values"
   ]
  },
  {
   "cell_type": "markdown",
   "id": "afbef8cc",
   "metadata": {},
   "source": [
    "Let's check on CGM distribution. As we can see below, 0 and 400 CGM values are capped (as expected) but no 0 values exist."
   ]
  },
  {
   "cell_type": "code",
   "execution_count": 32,
   "id": "a3817ce1",
   "metadata": {},
   "outputs": [
    {
     "name": "stdout",
     "output_type": "stream",
     "text": [
      "Number of values around 0: 0\n"
     ]
    },
    {
     "data": {
      "image/png": "[encoded data removed]",
      "text/plain": [
       "<Figure size 700x200 with 1 Axes>"
      ]
     },
     "metadata": {},
     "output_type": "display_data"
    },
    {
     "data": {
      "image/png": "[encoded data removed]",
      "text/plain": [
       "<Figure size 700x200 with 1 Axes>"
      ]
     },
     "metadata": {},
     "output_type": "display_data"
    }
   ],
   "source": [
    "#Visualize CGM Distribution\n",
    "#R = ddf_cgm.map_partitions(lambda x: x.CGMVal.sample(n=min(1000,len(x)))).compute()\n",
    "print(f\"Number of values around 0: {((df_cgm_sample.CGMVal<1) & (df_cgm_sample.CGMVal>-1)).sum()}\")\n",
    "plt.figure(figsize=(7, 2)); ax = plt.gca()\n",
    "cdf.plot_cdf(df_cgm_sample.CGMVal*18, xlabel='CGM Value', ylabel='CDF', title='CGM Value Distribution',ax=ax)\n",
    "plt.xticks([0,40,70,180,400]);\n",
    "\n",
    "plt.figure(figsize=(7, 2)); ax = plt.gca()\n",
    "vc = (df_cgm_sample.CGMVal*18).round().value_counts(normalize=True).sort_index()\n",
    "plt.bar(vc.index,vc.values, width=1, alpha=0.5);\n",
    "del vc"
   ]
  },
  {
   "cell_type": "markdown",
   "id": "ae903b16",
   "metadata": {},
   "source": [
    "### Duplicates"
   ]
  },
  {
   "cell_type": "code",
   "execution_count": 38,
   "id": "e5e1c646",
   "metadata": {},
   "outputs": [
    {
     "name": "stderr",
     "output_type": "stream",
     "text": [
      "/Users/jan/.pyenv/versions/3.9.6/envs/nudgebg/lib/python3.9/site-packages/distributed/client.py:3362: UserWarning: Sending large graph of size 12.31 MiB.\n",
      "This may cause some slowdown.\n",
      "Consider loading the data with Dask directly\n",
      " or using futures or delayed objects to embed the data into the graph without repetition.\n",
      "See also https://docs.dask.org/en/stable/best-practices.html#load-data-with-dask for more information.\n",
      "  warnings.warn(\n"
     ]
    },
    {
     "name": "stdout",
     "output_type": "stream",
     "text": [
      "19628647 duplicates (17.66%)\n",
      "21857113 duplicates (19.67%) ['UTCDtTm']\n"
     ]
    },
    {
     "data": {
      "text/html": [
       "<div>\n",
       "<style scoped>\n",
       "    .dataframe tbody tr th:only-of-type {\n",
       "        vertical-align: middle;\n",
       "    }\n",
       "\n",
       "    .dataframe tbody tr th {\n",
       "        vertical-align: top;\n",
       "    }\n",
       "\n",
       "    .dataframe thead th {\n",
       "        text-align: right;\n",
       "    }\n",
       "</style>\n",
       "<table border=\"1\" class=\"dataframe\">\n",
       "  <thead>\n",
       "    <tr style=\"text-align: right;\">\n",
       "      <th></th>\n",
       "      <th>UTCDtTm</th>\n",
       "      <th>RecordType</th>\n",
       "      <th>CGMVal</th>\n",
       "      <th>PtID</th>\n",
       "    </tr>\n",
       "  </thead>\n",
       "  <tbody>\n",
       "    <tr>\n",
       "      <th>143914</th>\n",
       "      <td>2018-10-14 17:03:08</td>\n",
       "      <td>CGM</td>\n",
       "      <td>6.93843</td>\n",
       "      <td>3</td>\n",
       "    </tr>\n",
       "    <tr>\n",
       "      <th>143915</th>\n",
       "      <td>2018-10-14 17:03:08</td>\n",
       "      <td>CGM</td>\n",
       "      <td>6.93843</td>\n",
       "      <td>3</td>\n",
       "    </tr>\n",
       "  </tbody>\n",
       "</table>\n",
       "</div>"
      ],
      "text/plain": [
       "                   UTCDtTm RecordType   CGMVal PtID\n",
       "143914 2018-10-14 17:03:08        CGM  6.93843    3\n",
       "143915 2018-10-14 17:03:08        CGM  6.93843    3"
      ]
     },
     "metadata": {},
     "output_type": "display_data"
    }
   ],
   "source": [
    "#print duplicates\n",
    "def report_duplicates(ddf, subset, sort_by):\n",
    "    # Combine duplicated counts into a single computation\n",
    "    def count_duplicates(df, subset=None):\n",
    "        return df.duplicated(subset=subset).sum()\n",
    "\n",
    "    # Map partitions once and compute all duplicates\n",
    "    duplicate_counts = ddf.map_partitions(lambda x: {\n",
    "        \"all\": count_duplicates(x),\n",
    "        \"subset\": count_duplicates(x, subset=subset)\n",
    "    }).compute()\n",
    "\n",
    "    # Aggregate results\n",
    "    total_duplicates_all = sum(d[\"all\"] for d in duplicate_counts)\n",
    "    total_duplicates_subset = sum(d[\"subset\"] for d in duplicate_counts)\n",
    "\n",
    "    # Print results\n",
    "    print(f'{total_duplicates_all} duplicates ({100 * total_duplicates_all / len(ddf):.2f}%)')\n",
    "    print(f'{total_duplicates_subset} duplicates ({100 * total_duplicates_subset / len(ddf):.2f}%) {subset}')\n",
    "\n",
    "    # Sample first partition for display\n",
    "    df = ddf.partitions[0].compute()\n",
    "    bDuplicated = df.duplicated(keep=False)\n",
    "    display(df[bDuplicated].sort_values(sort_by).head(2))\n",
    " \n",
    "report_duplicates(ddf_cgm, ['UTCDtTm'], ['UTCDtTm'])"
   ]
  },
  {
   "cell_type": "markdown",
   "id": "84bb2016",
   "metadata": {},
   "source": [
    "#### Check for correlation"
   ]
  },
  {
   "cell_type": "code",
   "execution_count": null,
   "id": "b839216f",
   "metadata": {},
   "outputs": [],
   "source": [
    "duplicated_cgms = ddf_cgm.map_partitions(lambda x: x[x.duplicated(subset=['UTCDtTm'], keep=False)].sort_values('UTCDtTm').head(100)).compute()"
   ]
  },
  {
   "cell_type": "code",
   "execution_count": 89,
   "id": "f596763e",
   "metadata": {},
   "outputs": [
    {
     "data": {
      "image/png": "[encoded data removed]",
      "text/plain": [
       "<Figure size 900x250 with 2 Axes>"
      ]
     },
     "metadata": {},
     "output_type": "display_data"
    }
   ],
   "source": [
    "duplicated_cgms['PtID'] = duplicated_cgms.PtID.astype('str')\n",
    "duplicated_cgms = duplicated_cgms.sort_values(['PtID','UTCDtTm'])\n",
    "results = duplicated_cgms.groupby(['PtID','UTCDtTm']).CGMVal.agg(['min','max'])\n",
    "fig, (ax1, ax2) = plt.subplots(1, 2, figsize=(9, 2.5))\n",
    "\n",
    "# Scatter plot\n",
    "ax1.hexbin(results['min'], results['max'], gridsize=100, cmap='viridis')\n",
    "ax1.set_xlabel('Min CGM Value')\n",
    "ax1.set_ylabel('Max CGM Value')\n",
    "ax1.set_title('Min vs Max CGM Values')\n",
    "\n",
    "# Box plot\n",
    "d = (results['max'] - results['min'])\n",
    "d.plot.box(vert=False, ax=ax2, showfliers=False)\n",
    "ax2.set_title('Difference between Max and Min CGM Values')\n",
    "ax2.set_xlabel('Difference')\n",
    "\n",
    "plt.tight_layout()\n",
    "plt.show()"
   ]
  },
  {
   "cell_type": "markdown",
   "id": "3e3eb6b2",
   "metadata": {},
   "source": [
    "### Missing Data"
   ]
  },
  {
   "cell_type": "code",
   "execution_count": 47,
   "id": "bb4d09b6",
   "metadata": {},
   "outputs": [
    {
     "name": "stdout",
     "output_type": "stream",
     "text": [
      "NAN VALUES:\n",
      "overall nan values = 0\n"
     ]
    },
    {
     "data": {
      "text/plain": [
       "index         0.0\n",
       "UTCDtTm       0.0\n",
       "RecordType    0.0\n",
       "CGMVal        0.0\n",
       "PtID          0.0\n",
       "dtype: float64"
      ]
     },
     "metadata": {},
     "output_type": "display_data"
    },
    {
     "name": "stdout",
     "output_type": "stream",
     "text": [
      "Record Type:\n"
     ]
    },
    {
     "data": {
      "text/plain": [
       "RecordType \n",
       "CGM            99.947317\n",
       "Calibration     0.052683\n",
       "Name: count, dtype: float64"
      ]
     },
     "metadata": {},
     "output_type": "display_data"
    }
   ],
   "source": [
    "#print NaNs and Record Type fractions\n",
    "print('NAN VALUES:')\n",
    "temp = df_cgm_sample.isna().sum()\n",
    "print(f\"overall nan values = {temp.sum()}\")\n",
    "display(100*temp/len(df_cgm_sample))\n",
    "\n",
    "print('Record Type:')\n",
    "display(df_cgm_sample.value_counts(subset=['RecordType'])*100/len(df_cgm_sample))\n",
    "del temp"
   ]
  },
  {
   "cell_type": "markdown",
   "id": "3ef2dd18",
   "metadata": {},
   "source": [
    "### CGM Conclusion\n",
    "- Many duplicates that need to be dropped\n",
    " - CGM Data must be converted from mmols to mg/dl\n",
    " - There are no NaN values\n",
    " - Calibrations need to be dropped\n",
    " \n"
   ]
  },
  {
   "cell_type": "markdown",
   "id": "b8e08835",
   "metadata": {},
   "source": [
    "### Extract CGM based on learnings"
   ]
  },
  {
   "cell_type": "code",
   "execution_count": 48,
   "id": "4ff9fa7b",
   "metadata": {},
   "outputs": [],
   "source": [
    "# Extract CGM data based on what we learned using Dask\n",
    "#read CGM files, partitioned by PtID\n",
    "ddf_cgm_extract = ddf_cgm.rename(columns={'PtID': 'patient_id', 'UTCDtTm': 'UTCDtTm', 'RecordType': 'RecordType', 'CGMVal': 'cgm'})\n",
    "ddf_cgm_extract = ddf_cgm_extract.set_index('patient_id')#,drop=False) # make sure divisions are set correctly, keep patient_id as column\n",
    "\n",
    "#drop calibrations\n",
    "ddf_cgm_extract = ddf_cgm_extract.loc[ddf_cgm_extract.RecordType == 'CGM']\n",
    "ddf_cgm_extract.index = ddf_cgm_extract.index.astype('int') #a workaround to obmit error occuring when there were no rows left\n",
    "ddf_cgm_extract = ddf_cgm_extract.drop(columns=['RecordType'])\n",
    "\n",
    "#convert to mg/dL\n",
    "ddf_cgm_extract['cgm'] = ddf_cgm_extract.cgm*18.018 \n",
    "\n",
    "#convert utc to local datetime\n",
    "#TODO: When i do not rename PTID here, then result = ddf.groupby(by='patient_id').apply(postprocessing.cgm_transform); result.loc[3].compute().head(10); \n",
    "# will fail with 'KeyError: 'patient_id' this is weird because ddf.index.name still yields patient_id\n",
    "patient_roster = df_patient[['PtID','PtTimezoneOffset']].rename(columns={'PtID':'patient_id'}).set_index('patient_id')\n",
    "ddf_cgm_extract = ddf_cgm_extract.join(patient_roster, how='left')\n",
    "ddf_cgm_extract['datetime'] = ddf_cgm_extract.UTCDtTm + dd.to_timedelta(ddf_cgm_extract.PtTimezoneOffset, unit='hour')\n",
    "ddf_cgm_extract = ddf_cgm_extract.drop(columns=['UTCDtTm', 'PtTimezoneOffset'])\n"
   ]
  },
  {
   "cell_type": "code",
   "execution_count": 40,
   "id": "1edf1791",
   "metadata": {},
   "outputs": [
    {
     "name": "stderr",
     "output_type": "stream",
     "text": [
      "/Users/jan/.pyenv/versions/3.9.6/envs/nudgebg/lib/python3.9/site-packages/distributed/client.py:3362: UserWarning: Sending large graph of size 12.34 MiB.\n",
      "This may cause some slowdown.\n",
      "Consider loading the data with Dask directly\n",
      " or using futures or delayed objects to embed the data into the graph without repetition.\n",
      "See also https://docs.dask.org/en/stable/best-practices.html#load-data-with-dask for more information.\n",
      "  warnings.warn(\n",
      "[16:43:10] \u001b[33mThe index is not sorted. Sorting the index.\u001b[0m\n"
     ]
    },
    {
     "data": {
      "text/html": [
       "<div>\n",
       "<style scoped>\n",
       "    .dataframe tbody tr th:only-of-type {\n",
       "        vertical-align: middle;\n",
       "    }\n",
       "\n",
       "    .dataframe tbody tr th {\n",
       "        vertical-align: top;\n",
       "    }\n",
       "\n",
       "    .dataframe thead th {\n",
       "        text-align: right;\n",
       "    }\n",
       "</style>\n",
       "<table border=\"1\" class=\"dataframe\">\n",
       "  <thead>\n",
       "    <tr style=\"text-align: right;\">\n",
       "      <th></th>\n",
       "      <th></th>\n",
       "      <th>datetime</th>\n",
       "      <th>cgm</th>\n",
       "    </tr>\n",
       "    <tr>\n",
       "      <th>patient_id</th>\n",
       "      <th></th>\n",
       "      <th></th>\n",
       "      <th></th>\n",
       "    </tr>\n",
       "  </thead>\n",
       "  <tbody>\n",
       "    <tr>\n",
       "      <th rowspan=\"5\" valign=\"top\">3</th>\n",
       "      <th>0</th>\n",
       "      <td>2018-06-15 19:00:00</td>\n",
       "      <td>396.516721</td>\n",
       "    </tr>\n",
       "    <tr>\n",
       "      <th>1</th>\n",
       "      <td>2018-06-15 19:05:00</td>\n",
       "      <td>394.273480</td>\n",
       "    </tr>\n",
       "    <tr>\n",
       "      <th>2</th>\n",
       "      <td>2018-06-15 19:10:00</td>\n",
       "      <td>387.947360</td>\n",
       "    </tr>\n",
       "    <tr>\n",
       "      <th>3</th>\n",
       "      <td>2018-06-15 19:15:00</td>\n",
       "      <td>NaN</td>\n",
       "    </tr>\n",
       "    <tr>\n",
       "      <th>4</th>\n",
       "      <td>2018-06-15 19:20:00</td>\n",
       "      <td>338.812274</td>\n",
       "    </tr>\n",
       "  </tbody>\n",
       "</table>\n",
       "</div>"
      ],
      "text/plain": [
       "                        datetime         cgm\n",
       "patient_id                                  \n",
       "3          0 2018-06-15 19:00:00  396.516721\n",
       "           1 2018-06-15 19:05:00  394.273480\n",
       "           2 2018-06-15 19:10:00  387.947360\n",
       "           3 2018-06-15 19:15:00         NaN\n",
       "           4 2018-06-15 19:20:00  338.812274"
      ]
     },
     "metadata": {},
     "output_type": "display_data"
    }
   ],
   "source": [
    "# Resample subset of CGM data using dask\n",
    "\n",
    "#Method 1: using groupby: this works but only if we previously renamed the PtID of the patient roster index to 'patient_id' before the join\n",
    "meta={'datetime': 'datetime64[ns]', 'cgm': 'float64'}\n",
    "result = ddf_cgm_extract.groupby(by='patient_id').apply(postprocessing.cgm_transform, meta=meta)\n",
    "display(result.loc[3].compute().head(5))\n",
    "\n",
    "del meta, result\n",
    "\n",
    "#Method 2: using map_partitions: this works but we loose the patient index, workaround:\n",
    "# def wrapper(df):\n",
    "#     assert df.index.nunique() == 1\n",
    "#     r= postprocessing.cgm_transform(df)\n",
    "#     r.assign('patient_id', df.index[0])\n",
    "\n",
    "# start_time = time.time()    \n",
    "# loop_cgm_transformed = ddf_cgm.map_partitions(postprocessing.cgm_transform, meta=meta)\n",
    "# transformed_partition = loop_cgm_transformed.get_partition(0).compute()\n",
    "# display(transformed_partition.head(10))\n",
    "# end_time = time.time()\n",
    "# print(f\"Execution time: {end_time - start_time} seconds\")\n"
   ]
  },
  {
   "cell_type": "markdown",
   "id": "f4c19a53",
   "metadata": {},
   "source": [
    "## Boluses"
   ]
  },
  {
   "cell_type": "code",
   "execution_count": 128,
   "id": "4bf518c6",
   "metadata": {},
   "outputs": [
    {
     "name": "stderr",
     "output_type": "stream",
     "text": [
      "/var/folders/m4/5d02b2xs0l52lbxzbk0t3vym0000gp/T/ipykernel_50366/3861500938.py:2: DtypeWarning: Columns (3,17) have mixed types. Specify dtype option on import or set low_memory=False.\n",
      "  df_bolus = pd.read_csv(os.path.join(loop_path, 'Data Tables', 'LOOPDeviceBolus.txt'), sep='|',\n"
     ]
    }
   ],
   "source": [
    "#read bolus as pandas dataframe (it is small enough)\n",
    "df_bolus = pd.read_csv(os.path.join(loop_path, 'Data Tables', 'LOOPDeviceBolus.txt'), sep='|', \n",
    "                        parse_dates=['UTCDtTm'], date_format='%Y-%m-%d %H:%M:%S')\n",
    "df_bolus = df_bolus.drop(columns=['RecID'])"
   ]
  },
  {
   "cell_type": "code",
   "execution_count": 120,
   "id": "a4efc800",
   "metadata": {},
   "outputs": [
    {
     "name": "stdout",
     "output_type": "stream",
     "text": [
      "COLUMNS:\n",
      "Index(['PtID', 'ParentLOOPDeviceUploadsID', 'DeviceDtTm', 'UTCDtTm',\n",
      "       'BolusType', 'Normal', 'ExpectedNormal', 'Extended', 'ExpectedExtended',\n",
      "       'Duration', 'ExpectedDuration', 'TmZnOffset', 'OriginName',\n",
      "       'OriginVers', 'OriginType', 'OriginDeviceFirmwrVer',\n",
      "       'OriginDeviceHardwrVer', 'OriginDeviceManufact', 'OriginDeviceModel',\n",
      "       'OriginOperatingSystVer', 'OriginProductType'],\n",
      "      dtype='object')\n",
      "VALUE FRACTIONS:\n"
     ]
    },
    {
     "data": {
      "text/plain": [
       "BolusType  \n",
       "normal         99.572622\n",
       "dual/square     0.362914\n",
       "square          0.064464\n",
       "Name: count, dtype: float64"
      ]
     },
     "metadata": {},
     "output_type": "display_data"
    },
    {
     "name": "stdout",
     "output_type": "stream",
     "text": [
      "NAN FRACTIONS\n"
     ]
    },
    {
     "data": {
      "text/plain": [
       "PtID                          0.000000\n",
       "ParentLOOPDeviceUploadsID     0.000000\n",
       "DeviceDtTm                   93.685623\n",
       "UTCDtTm                       0.000000\n",
       "BolusType                     0.000000\n",
       "Normal                        0.064464\n",
       "ExpectedNormal               99.442838\n",
       "Extended                     99.572622\n",
       "ExpectedExtended             99.926316\n",
       "Duration                     99.572622\n",
       "ExpectedDuration             99.926316\n",
       "TmZnOffset                   93.685623\n",
       "OriginName                    6.314377\n",
       "OriginVers                    6.314499\n",
       "OriginType                    6.314377\n",
       "OriginDeviceFirmwrVer        10.168242\n",
       "OriginDeviceHardwrVer        99.903264\n",
       "OriginDeviceManufact          7.290022\n",
       "OriginDeviceModel             7.290022\n",
       "OriginOperatingSystVer        6.314377\n",
       "OriginProductType             6.314377\n",
       "dtype: float64"
      ]
     },
     "metadata": {},
     "output_type": "display_data"
    },
    {
     "name": "stdout",
     "output_type": "stream",
     "text": [
      "DUPLICATES:\n",
      "0 duplicates (0.00%)\n",
      "Duplicated rows:\n"
     ]
    },
    {
     "data": {
      "text/html": [
       "<div>\n",
       "<style scoped>\n",
       "    .dataframe tbody tr th:only-of-type {\n",
       "        vertical-align: middle;\n",
       "    }\n",
       "\n",
       "    .dataframe tbody tr th {\n",
       "        vertical-align: top;\n",
       "    }\n",
       "\n",
       "    .dataframe thead th {\n",
       "        text-align: right;\n",
       "    }\n",
       "</style>\n",
       "<table border=\"1\" class=\"dataframe\">\n",
       "  <thead>\n",
       "    <tr style=\"text-align: right;\">\n",
       "      <th></th>\n",
       "      <th>PtID</th>\n",
       "      <th>ParentLOOPDeviceUploadsID</th>\n",
       "      <th>DeviceDtTm</th>\n",
       "      <th>UTCDtTm</th>\n",
       "      <th>BolusType</th>\n",
       "      <th>Normal</th>\n",
       "      <th>ExpectedNormal</th>\n",
       "      <th>Extended</th>\n",
       "      <th>ExpectedExtended</th>\n",
       "      <th>Duration</th>\n",
       "      <th>...</th>\n",
       "      <th>TmZnOffset</th>\n",
       "      <th>OriginName</th>\n",
       "      <th>OriginVers</th>\n",
       "      <th>OriginType</th>\n",
       "      <th>OriginDeviceFirmwrVer</th>\n",
       "      <th>OriginDeviceHardwrVer</th>\n",
       "      <th>OriginDeviceManufact</th>\n",
       "      <th>OriginDeviceModel</th>\n",
       "      <th>OriginOperatingSystVer</th>\n",
       "      <th>OriginProductType</th>\n",
       "    </tr>\n",
       "  </thead>\n",
       "  <tbody>\n",
       "  </tbody>\n",
       "</table>\n",
       "<p>0 rows × 21 columns</p>\n",
       "</div>"
      ],
      "text/plain": [
       "Empty DataFrame\n",
       "Columns: [PtID, ParentLOOPDeviceUploadsID, DeviceDtTm, UTCDtTm, BolusType, Normal, ExpectedNormal, Extended, ExpectedExtended, Duration, ExpectedDuration, TmZnOffset, OriginName, OriginVers, OriginType, OriginDeviceFirmwrVer, OriginDeviceHardwrVer, OriginDeviceManufact, OriginDeviceModel, OriginOperatingSystVer, OriginProductType]\n",
       "Index: []\n",
       "\n",
       "[0 rows x 21 columns]"
      ]
     },
     "metadata": {},
     "output_type": "display_data"
    },
    {
     "name": "stdout",
     "output_type": "stream",
     "text": [
      "72891 duplicates (2.97%) ['UTCDtTm', 'PtID']\n",
      "Duplicated rows subset ['UTCDtTm', 'PtID']:\n"
     ]
    },
    {
     "data": {
      "text/html": [
       "<div>\n",
       "<style scoped>\n",
       "    .dataframe tbody tr th:only-of-type {\n",
       "        vertical-align: middle;\n",
       "    }\n",
       "\n",
       "    .dataframe tbody tr th {\n",
       "        vertical-align: top;\n",
       "    }\n",
       "\n",
       "    .dataframe thead th {\n",
       "        text-align: right;\n",
       "    }\n",
       "</style>\n",
       "<table border=\"1\" class=\"dataframe\">\n",
       "  <thead>\n",
       "    <tr style=\"text-align: right;\">\n",
       "      <th></th>\n",
       "      <th>PtID</th>\n",
       "      <th>ParentLOOPDeviceUploadsID</th>\n",
       "      <th>UTCDtTm</th>\n",
       "      <th>BolusType</th>\n",
       "    </tr>\n",
       "  </thead>\n",
       "  <tbody>\n",
       "    <tr>\n",
       "      <th>1909538</th>\n",
       "      <td>993</td>\n",
       "      <td>1166915</td>\n",
       "      <td>2017-11-14 18:37:40</td>\n",
       "      <td>normal</td>\n",
       "    </tr>\n",
       "    <tr>\n",
       "      <th>1909540</th>\n",
       "      <td>993</td>\n",
       "      <td>1166915</td>\n",
       "      <td>2017-11-14 18:37:40</td>\n",
       "      <td>normal</td>\n",
       "    </tr>\n",
       "  </tbody>\n",
       "</table>\n",
       "</div>"
      ],
      "text/plain": [
       "         PtID  ParentLOOPDeviceUploadsID             UTCDtTm BolusType\n",
       "1909538   993                    1166915 2017-11-14 18:37:40    normal\n",
       "1909540   993                    1166915 2017-11-14 18:37:40    normal"
      ]
     },
     "metadata": {},
     "output_type": "display_data"
    },
    {
     "name": "stdout",
     "output_type": "stream",
     "text": [
      "BOPLUS TYPES:\n"
     ]
    },
    {
     "data": {
      "text/plain": [
       "BolusType\n",
       "normal         2440519\n",
       "dual/square       8895\n",
       "square            1580\n",
       "Name: count, dtype: int64"
      ]
     },
     "metadata": {},
     "output_type": "display_data"
    }
   ],
   "source": [
    "## Report Columns, Nans, Duplicates, \n",
    "def report_duplicates(df, subset, sort_by):    \n",
    "    bDuplicated = df.duplicated(keep=False)\n",
    "    print(f'{bDuplicated.sum()} duplicates ({100*bDuplicated.sum()/len(df):.2f}%)')\n",
    "    print('Duplicated rows:')\n",
    "    display(df[bDuplicated].dropna(axis=1).sort_values(sort_by).head(2))\n",
    "    \n",
    "\n",
    "    bDuplicated = df.duplicated(subset=subset, keep=False)\n",
    "    print(f'{bDuplicated.sum()} duplicates ({100*bDuplicated.sum()/len(df):.2f}%) {subset}')\n",
    "    print(f'Duplicated rows subset {subset}:')\n",
    "    display(df[bDuplicated].dropna(axis=1).sort_values(sort_by).head(2))\n",
    "    \n",
    "\n",
    "#print stats for bolus dataframe\n",
    "print('COLUMNS:')\n",
    "print(df_bolus.columns)\n",
    "\n",
    "#display the value counts\n",
    "print('VALUE FRACTIONS:')\n",
    "display(df_bolus.value_counts(subset=['BolusType'])*100/len(df_bolus))\n",
    "\n",
    "#display the nan values\n",
    "print('NAN FRACTIONS')\n",
    "display(100*df_bolus.isna().sum()/len(df_bolus))\n",
    "\n",
    "print('DUPLICATES:')\n",
    "report_duplicates(df_bolus, ['UTCDtTm', 'PtID'], ['UTCDtTm'])\n"
   ]
  },
  {
   "cell_type": "markdown",
   "id": "7df84964",
   "metadata": {},
   "source": [
    "### Duplicates\n",
    "As we can see above, there are significant amount of duplicates and that most duplicated rows are completely identical (except for the record id). \n",
    "However, we also see slightly more duplicates when using ['UTCDtTm', 'PtID'] as subset. This means that there are rows that have equal  ['UTCDtTm', 'PtID'] but vary otherwise. Let's check when this happens:"
   ]
  },
  {
   "cell_type": "code",
   "execution_count": 104,
   "id": "df6041d7",
   "metadata": {},
   "outputs": [],
   "source": [
    "df_bolus = df_bolus.drop_duplicates()\n",
    "b_duplicated_subset = df_bolus.duplicated(subset=['UTCDtTm','PtID'], keep=False)\n",
    "print(f'{b_duplicated_subset.sum()} duplicates ({100*b_duplicated_subset.sum()/len(df_bolus):.2f}%) UTCDtM, PtID')\n",
    "del b_duplicated_subset"
   ]
  },
  {
   "cell_type": "code",
   "execution_count": 141,
   "id": "b2371a32",
   "metadata": {},
   "outputs": [
    {
     "data": {
      "text/html": [
       "<div>\n",
       "<style scoped>\n",
       "    .dataframe tbody tr th:only-of-type {\n",
       "        vertical-align: middle;\n",
       "    }\n",
       "\n",
       "    .dataframe tbody tr th {\n",
       "        vertical-align: top;\n",
       "    }\n",
       "\n",
       "    .dataframe thead th {\n",
       "        text-align: right;\n",
       "    }\n",
       "</style>\n",
       "<table border=\"1\" class=\"dataframe\">\n",
       "  <thead>\n",
       "    <tr style=\"text-align: right;\">\n",
       "      <th></th>\n",
       "      <th>PtID</th>\n",
       "      <th>ParentLOOPDeviceUploadsID</th>\n",
       "      <th>UTCDtTm</th>\n",
       "      <th>BolusType</th>\n",
       "      <th>Normal</th>\n",
       "      <th>OriginName</th>\n",
       "      <th>OriginVers</th>\n",
       "      <th>OriginType</th>\n",
       "      <th>OriginDeviceFirmwrVer</th>\n",
       "      <th>OriginDeviceManufact</th>\n",
       "      <th>OriginDeviceModel</th>\n",
       "      <th>OriginOperatingSystVer</th>\n",
       "      <th>OriginProductType</th>\n",
       "    </tr>\n",
       "  </thead>\n",
       "  <tbody>\n",
       "    <tr>\n",
       "      <th>437671</th>\n",
       "      <td>3</td>\n",
       "      <td>1300475</td>\n",
       "      <td>2018-10-16 13:56:29</td>\n",
       "      <td>normal</td>\n",
       "      <td>0.3</td>\n",
       "      <td>com.apple.HealthKit</td>\n",
       "      <td>55</td>\n",
       "      <td>service</td>\n",
       "      <td>2.7.0</td>\n",
       "      <td>Insulet</td>\n",
       "      <td>Eros</td>\n",
       "      <td>12.2.0</td>\n",
       "      <td>iPhone10,4</td>\n",
       "    </tr>\n",
       "    <tr>\n",
       "      <th>1705687</th>\n",
       "      <td>3</td>\n",
       "      <td>1300475</td>\n",
       "      <td>2018-10-16 13:56:29</td>\n",
       "      <td>normal</td>\n",
       "      <td>0.3</td>\n",
       "      <td>com.apple.HealthKit</td>\n",
       "      <td>55</td>\n",
       "      <td>service</td>\n",
       "      <td>2.8.0</td>\n",
       "      <td>Insulet</td>\n",
       "      <td>Eros</td>\n",
       "      <td>12.2.0</td>\n",
       "      <td>iPhone10,4</td>\n",
       "    </tr>\n",
       "  </tbody>\n",
       "</table>\n",
       "</div>"
      ],
      "text/plain": [
       "         PtID  ParentLOOPDeviceUploadsID             UTCDtTm BolusType  \\\n",
       "437671      3                    1300475 2018-10-16 13:56:29    normal   \n",
       "1705687     3                    1300475 2018-10-16 13:56:29    normal   \n",
       "\n",
       "         Normal           OriginName OriginVers OriginType  \\\n",
       "437671      0.3  com.apple.HealthKit         55    service   \n",
       "1705687     0.3  com.apple.HealthKit         55    service   \n",
       "\n",
       "        OriginDeviceFirmwrVer OriginDeviceManufact OriginDeviceModel  \\\n",
       "437671                  2.7.0              Insulet              Eros   \n",
       "1705687                 2.8.0              Insulet              Eros   \n",
       "\n",
       "        OriginOperatingSystVer OriginProductType  \n",
       "437671                  12.2.0        iPhone10,4  \n",
       "1705687                 12.2.0        iPhone10,4  "
      ]
     },
     "execution_count": 141,
     "metadata": {},
     "output_type": "execute_result"
    }
   ],
   "source": [
    "df_bolus[b_duplicated_subset].sort_values(['PtID', 'UTCDtTm']).head(2).dropna(axis=1, how='all')"
   ]
  },
  {
   "cell_type": "markdown",
   "id": "1e852423",
   "metadata": {},
   "source": [
    "Here we see differences in the firmware. But are there also duplicates with different bolus doses?"
   ]
  },
  {
   "cell_type": "code",
   "execution_count": 142,
   "id": "2240e29c",
   "metadata": {},
   "outputs": [
    {
     "data": {
      "text/html": [
       "<div>\n",
       "<style scoped>\n",
       "    .dataframe tbody tr th:only-of-type {\n",
       "        vertical-align: middle;\n",
       "    }\n",
       "\n",
       "    .dataframe tbody tr th {\n",
       "        vertical-align: top;\n",
       "    }\n",
       "\n",
       "    .dataframe thead th {\n",
       "        text-align: right;\n",
       "    }\n",
       "</style>\n",
       "<table border=\"1\" class=\"dataframe\">\n",
       "  <thead>\n",
       "    <tr style=\"text-align: right;\">\n",
       "      <th></th>\n",
       "      <th>PtID</th>\n",
       "      <th>ParentLOOPDeviceUploadsID</th>\n",
       "      <th>UTCDtTm</th>\n",
       "      <th>BolusType</th>\n",
       "      <th>Normal</th>\n",
       "      <th>OriginName</th>\n",
       "      <th>OriginVers</th>\n",
       "      <th>OriginType</th>\n",
       "      <th>OriginDeviceFirmwrVer</th>\n",
       "      <th>OriginDeviceManufact</th>\n",
       "      <th>OriginDeviceModel</th>\n",
       "      <th>OriginOperatingSystVer</th>\n",
       "      <th>OriginProductType</th>\n",
       "    </tr>\n",
       "  </thead>\n",
       "  <tbody>\n",
       "    <tr>\n",
       "      <th>583713</th>\n",
       "      <td>4</td>\n",
       "      <td>1312477</td>\n",
       "      <td>2019-01-10 01:22:31</td>\n",
       "      <td>normal</td>\n",
       "      <td>15.0</td>\n",
       "      <td>com.apple.HealthKit</td>\n",
       "      <td>54</td>\n",
       "      <td>service</td>\n",
       "      <td>subg_rfspy 0.9</td>\n",
       "      <td>Medtronic</td>\n",
       "      <td>722</td>\n",
       "      <td>12.2.0</td>\n",
       "      <td>iPhone11,6</td>\n",
       "    </tr>\n",
       "    <tr>\n",
       "      <th>583714</th>\n",
       "      <td>4</td>\n",
       "      <td>1312477</td>\n",
       "      <td>2019-01-10 01:22:31</td>\n",
       "      <td>normal</td>\n",
       "      <td>9.2</td>\n",
       "      <td>com.apple.HealthKit</td>\n",
       "      <td>54</td>\n",
       "      <td>service</td>\n",
       "      <td>subg_rfspy 0.9</td>\n",
       "      <td>Medtronic</td>\n",
       "      <td>722</td>\n",
       "      <td>12.2.0</td>\n",
       "      <td>iPhone11,6</td>\n",
       "    </tr>\n",
       "  </tbody>\n",
       "</table>\n",
       "</div>"
      ],
      "text/plain": [
       "        PtID  ParentLOOPDeviceUploadsID             UTCDtTm BolusType  Normal  \\\n",
       "583713     4                    1312477 2019-01-10 01:22:31    normal    15.0   \n",
       "583714     4                    1312477 2019-01-10 01:22:31    normal     9.2   \n",
       "\n",
       "                 OriginName OriginVers OriginType OriginDeviceFirmwrVer  \\\n",
       "583713  com.apple.HealthKit         54    service        subg_rfspy 0.9   \n",
       "583714  com.apple.HealthKit         54    service        subg_rfspy 0.9   \n",
       "\n",
       "       OriginDeviceManufact OriginDeviceModel OriginOperatingSystVer  \\\n",
       "583713            Medtronic               722                 12.2.0   \n",
       "583714            Medtronic               722                 12.2.0   \n",
       "\n",
       "       OriginProductType  \n",
       "583713        iPhone11,6  \n",
       "583714        iPhone11,6  "
      ]
     },
     "metadata": {},
     "output_type": "display_data"
    }
   ],
   "source": [
    "# Print some duplicated rows with different boluses\n",
    "duplicated_rows = df_bolus[df_bolus.duplicated(subset=['PtID', 'UTCDtTm'], keep=False)]\n",
    "different_normal = duplicated_rows.groupby(['PtID', 'UTCDtTm']).filter(lambda x: x['Normal'].nunique() > 1)\n",
    "display(different_normal.sort_values(['PtID', 'UTCDtTm']).head(2).dropna(axis=1, how='all'))\n",
    "del duplicated_rows"
   ]
  },
  {
   "cell_type": "markdown",
   "id": "6e02aa54",
   "metadata": {},
   "source": [
    "We see that there are instances where we have temporal duplicates with different values and it is unclear which one to trust."
   ]
  },
  {
   "cell_type": "markdown",
   "id": "426d023d",
   "metadata": {},
   "source": [
    "#### Check for Correlation"
   ]
  },
  {
   "cell_type": "code",
   "execution_count": 100,
   "id": "a277b68c",
   "metadata": {},
   "outputs": [
    {
     "data": {
      "text/plain": [
       "count    365740.000000\n",
       "mean          0.001341\n",
       "std           0.084520\n",
       "min           0.000000\n",
       "25%           0.000000\n",
       "50%           0.000000\n",
       "75%           0.000000\n",
       "max          24.600000\n",
       "dtype: float64"
      ]
     },
     "execution_count": 100,
     "metadata": {},
     "output_type": "execute_result"
    },
    {
     "data": {
      "image/png": "[encoded data removed]",
      "text/plain": [
       "<Figure size 900x250 with 2 Axes>"
      ]
     },
     "metadata": {},
     "output_type": "display_data"
    }
   ],
   "source": [
    "duplicated_boluses = df_bolus[df_bolus.duplicated(subset=['UTCDtTm'], keep=False)].sort_values('UTCDtTm')\n",
    "\n",
    "results = duplicated_boluses.groupby(['PtID','UTCDtTm']).Normal.agg(['min','max'])\n",
    "fig, (ax1, ax2) = plt.subplots(1, 2, figsize=(9, 2.5))\n",
    "\n",
    "# Scatter plot\n",
    "ax1.scatter(results['min'], results['max'],alpha=0.5,s=1,marker='.')\n",
    "ax1.set_xlabel('Min CGM Value')\n",
    "ax1.set_ylabel('Max CGM Value')\n",
    "ax1.set_title('Min vs Max Normal Bolus duplicates')\n",
    "\n",
    "# Box plot\n",
    "d = (results['max'] - results['min'])\n",
    "d.plot.box(vert=False, ax=ax2, showfliers=False)\n",
    "ax2.set_title('Difference between Normal Bolus duplicates')\n",
    "ax2.set_xlabel('Difference')\n",
    "\n",
    "d.describe()"
   ]
  },
  {
   "cell_type": "markdown",
   "id": "086c9819",
   "metadata": {},
   "source": [
    "We see that sometimes boluses are drastically different. We don't know why that is and we wouldn't know which value to pick."
   ]
  },
  {
   "cell_type": "markdown",
   "id": "9ee6850c",
   "metadata": {},
   "source": [
    "### Dual wave Boluses\n",
    "We know there are some dual wave and extended boluses. Since loop does not support these natively, these were likey initiated from the pump or during open loop mode."
   ]
  },
  {
   "cell_type": "code",
   "execution_count": 121,
   "id": "f92b0530",
   "metadata": {},
   "outputs": [
    {
     "name": "stdout",
     "output_type": "stream",
     "text": [
      "0.43% of boluses are extended\n",
      "In 100.0% of all rows, it is either extended and duration are filled or neither\n"
     ]
    },
    {
     "data": {
      "text/html": [
       "<div>\n",
       "<style scoped>\n",
       "    .dataframe tbody tr th:only-of-type {\n",
       "        vertical-align: middle;\n",
       "    }\n",
       "\n",
       "    .dataframe tbody tr th {\n",
       "        vertical-align: top;\n",
       "    }\n",
       "\n",
       "    .dataframe thead th {\n",
       "        text-align: right;\n",
       "    }\n",
       "</style>\n",
       "<table border=\"1\" class=\"dataframe\">\n",
       "  <thead>\n",
       "    <tr style=\"text-align: right;\">\n",
       "      <th></th>\n",
       "      <th>PtID</th>\n",
       "      <th>ParentLOOPDeviceUploadsID</th>\n",
       "      <th>DeviceDtTm</th>\n",
       "      <th>UTCDtTm</th>\n",
       "      <th>BolusType</th>\n",
       "      <th>Normal</th>\n",
       "      <th>Extended</th>\n",
       "      <th>Duration</th>\n",
       "      <th>TmZnOffset</th>\n",
       "    </tr>\n",
       "  </thead>\n",
       "  <tbody>\n",
       "    <tr>\n",
       "      <th>31932</th>\n",
       "      <td>982</td>\n",
       "      <td>335722</td>\n",
       "      <td>2018-10-28 19:06:49</td>\n",
       "      <td>2018-10-29 00:06:49</td>\n",
       "      <td>dual/square</td>\n",
       "      <td>7.5</td>\n",
       "      <td>3.2</td>\n",
       "      <td>9900000.0</td>\n",
       "      <td>-300.0</td>\n",
       "    </tr>\n",
       "    <tr>\n",
       "      <th>31942</th>\n",
       "      <td>982</td>\n",
       "      <td>335722</td>\n",
       "      <td>2018-11-11 18:07:34</td>\n",
       "      <td>2018-11-11 23:07:34</td>\n",
       "      <td>dual/square</td>\n",
       "      <td>4.8</td>\n",
       "      <td>5.9</td>\n",
       "      <td>9000000.0</td>\n",
       "      <td>-300.0</td>\n",
       "    </tr>\n",
       "    <tr>\n",
       "      <th>32305</th>\n",
       "      <td>982</td>\n",
       "      <td>335723</td>\n",
       "      <td>2018-09-30 20:13:16</td>\n",
       "      <td>2018-10-01 00:13:16</td>\n",
       "      <td>dual/square</td>\n",
       "      <td>6.8</td>\n",
       "      <td>4.6</td>\n",
       "      <td>7200000.0</td>\n",
       "      <td>-240.0</td>\n",
       "    </tr>\n",
       "  </tbody>\n",
       "</table>\n",
       "</div>"
      ],
      "text/plain": [
       "       PtID  ParentLOOPDeviceUploadsID           DeviceDtTm  \\\n",
       "31932   982                     335722  2018-10-28 19:06:49   \n",
       "31942   982                     335722  2018-11-11 18:07:34   \n",
       "32305   982                     335723  2018-09-30 20:13:16   \n",
       "\n",
       "                  UTCDtTm    BolusType  Normal  Extended   Duration  \\\n",
       "31932 2018-10-29 00:06:49  dual/square     7.5       3.2  9900000.0   \n",
       "31942 2018-11-11 23:07:34  dual/square     4.8       5.9  9000000.0   \n",
       "32305 2018-10-01 00:13:16  dual/square     6.8       4.6  7200000.0   \n",
       "\n",
       "       TmZnOffset  \n",
       "31932      -300.0  \n",
       "31942      -300.0  \n",
       "32305      -240.0  "
      ]
     },
     "metadata": {},
     "output_type": "display_data"
    }
   ],
   "source": [
    "#print the fraction of extended boluses\n",
    "print(f'{100*df_bolus.Extended.notna().mean():.2f}% of boluses are extended')\n",
    "print(f'In {(df_bolus.Extended.notna() == df_bolus.Duration.notna()).mean():.1%} of all rows, it is either extended and duration are filled or neither')\n",
    "display(df_bolus.loc[df_bolus.Extended.notna()].head(3).dropna(axis=1,how='all'))"
   ]
  },
  {
   "cell_type": "markdown",
   "id": "6be9f2c6",
   "metadata": {},
   "source": [
    "From the glossary we know that the duration is either in ms or minutes.  Let's try to figure out if duration is milliseconds or minutes from the distributions."
   ]
  },
  {
   "cell_type": "code",
   "execution_count": 146,
   "id": "0e44262d",
   "metadata": {},
   "outputs": [
    {
     "data": {
      "image/png": "[encoded data removed]",
      "text/plain": [
       "<Figure size 1000x160 with 1 Axes>"
      ]
     },
     "metadata": {},
     "output_type": "display_data"
    },
    {
     "data": {
      "image/png": "[encoded data removed]",
      "text/plain": [
       "<Figure size 1000x200 with 2 Axes>"
      ]
     },
     "metadata": {},
     "output_type": "display_data"
    },
    {
     "name": "stdout",
     "output_type": "stream",
     "text": [
      "EXAMPLES of durations <0.01:\n"
     ]
    },
    {
     "data": {
      "text/html": [
       "<div>\n",
       "<style scoped>\n",
       "    .dataframe tbody tr th:only-of-type {\n",
       "        vertical-align: middle;\n",
       "    }\n",
       "\n",
       "    .dataframe tbody tr th {\n",
       "        vertical-align: top;\n",
       "    }\n",
       "\n",
       "    .dataframe thead th {\n",
       "        text-align: right;\n",
       "    }\n",
       "</style>\n",
       "<table border=\"1\" class=\"dataframe\">\n",
       "  <thead>\n",
       "    <tr style=\"text-align: right;\">\n",
       "      <th></th>\n",
       "      <th>PtID</th>\n",
       "      <th>ParentLOOPDeviceUploadsID</th>\n",
       "      <th>DeviceDtTm</th>\n",
       "      <th>UTCDtTm</th>\n",
       "      <th>BolusType</th>\n",
       "      <th>Normal</th>\n",
       "      <th>ExpectedNormal</th>\n",
       "      <th>Extended</th>\n",
       "      <th>ExpectedExtended</th>\n",
       "      <th>Duration</th>\n",
       "      <th>...</th>\n",
       "      <th>TmZnOffset</th>\n",
       "      <th>OriginName</th>\n",
       "      <th>OriginVers</th>\n",
       "      <th>OriginType</th>\n",
       "      <th>OriginDeviceFirmwrVer</th>\n",
       "      <th>OriginDeviceHardwrVer</th>\n",
       "      <th>OriginDeviceManufact</th>\n",
       "      <th>OriginDeviceModel</th>\n",
       "      <th>OriginOperatingSystVer</th>\n",
       "      <th>OriginProductType</th>\n",
       "    </tr>\n",
       "  </thead>\n",
       "  <tbody>\n",
       "    <tr>\n",
       "      <th>1025711</th>\n",
       "      <td>270</td>\n",
       "      <td>959525</td>\n",
       "      <td>2019-07-23 07:35:00</td>\n",
       "      <td>2019-07-23 14:35:00</td>\n",
       "      <td>dual/square</td>\n",
       "      <td>0.5</td>\n",
       "      <td>NaN</td>\n",
       "      <td>0.42</td>\n",
       "      <td>0.5</td>\n",
       "      <td>0.0</td>\n",
       "      <td>...</td>\n",
       "      <td>-420.0</td>\n",
       "      <td>NaN</td>\n",
       "      <td>NaN</td>\n",
       "      <td>NaN</td>\n",
       "      <td>NaN</td>\n",
       "      <td>NaN</td>\n",
       "      <td>NaN</td>\n",
       "      <td>NaN</td>\n",
       "      <td>NaN</td>\n",
       "      <td>NaN</td>\n",
       "    </tr>\n",
       "    <tr>\n",
       "      <th>1066762</th>\n",
       "      <td>270</td>\n",
       "      <td>959525</td>\n",
       "      <td>2019-07-31 10:35:00</td>\n",
       "      <td>2019-07-31 17:35:00</td>\n",
       "      <td>dual/square</td>\n",
       "      <td>0.5</td>\n",
       "      <td>NaN</td>\n",
       "      <td>0.16</td>\n",
       "      <td>0.5</td>\n",
       "      <td>0.0</td>\n",
       "      <td>...</td>\n",
       "      <td>-420.0</td>\n",
       "      <td>NaN</td>\n",
       "      <td>NaN</td>\n",
       "      <td>NaN</td>\n",
       "      <td>NaN</td>\n",
       "      <td>NaN</td>\n",
       "      <td>NaN</td>\n",
       "      <td>NaN</td>\n",
       "      <td>NaN</td>\n",
       "      <td>NaN</td>\n",
       "    </tr>\n",
       "  </tbody>\n",
       "</table>\n",
       "<p>2 rows × 21 columns</p>\n",
       "</div>"
      ],
      "text/plain": [
       "         PtID  ParentLOOPDeviceUploadsID           DeviceDtTm  \\\n",
       "1025711   270                     959525  2019-07-23 07:35:00   \n",
       "1066762   270                     959525  2019-07-31 10:35:00   \n",
       "\n",
       "                    UTCDtTm    BolusType  Normal  ExpectedNormal  Extended  \\\n",
       "1025711 2019-07-23 14:35:00  dual/square     0.5             NaN      0.42   \n",
       "1066762 2019-07-31 17:35:00  dual/square     0.5             NaN      0.16   \n",
       "\n",
       "         ExpectedExtended  Duration  ...  TmZnOffset  OriginName OriginVers  \\\n",
       "1025711               0.5       0.0  ...      -420.0         NaN        NaN   \n",
       "1066762               0.5       0.0  ...      -420.0         NaN        NaN   \n",
       "\n",
       "        OriginType OriginDeviceFirmwrVer OriginDeviceHardwrVer  \\\n",
       "1025711        NaN                   NaN                   NaN   \n",
       "1066762        NaN                   NaN                   NaN   \n",
       "\n",
       "        OriginDeviceManufact OriginDeviceModel OriginOperatingSystVer  \\\n",
       "1025711                  NaN               NaN                    NaN   \n",
       "1066762                  NaN               NaN                    NaN   \n",
       "\n",
       "        OriginProductType  \n",
       "1025711               NaN  \n",
       "1066762               NaN  \n",
       "\n",
       "[2 rows x 21 columns]"
      ]
     },
     "metadata": {},
     "output_type": "display_data"
    }
   ],
   "source": [
    "#draw distributions assuming Duration is in milliseconds\n",
    "durations = df_bolus.Duration.dropna().values/(1000*3600)\n",
    "plt.figure(figsize=(10, 1.6)); ax = plt.gca()\n",
    "cdf.plot_cdf(durations, xlabel='Duration (hours)',ax=ax)\n",
    "plt.title('Histogram of Bolus Durations (assuming milliseconds)')\n",
    "plt.show()\n",
    "\n",
    "fig, (ax1, ax2) = plt.subplots(1, 2, figsize=(10, 2), sharey=True)\n",
    "ax1.hist(durations, bins=100, alpha=0.5, rwidth=0.8, color='blue')\n",
    "ax1.set_yscale('log')\n",
    "ax1.set_xlabel('Duration (hours)')\n",
    "ax1.set_ylabel('Count')\n",
    "ax1.set_title('Histogram of Bolus Durations (assuming milliseconds)')\n",
    "\n",
    "ax2.hist(durations[durations < 0.1], bins=100, alpha=0.5, rwidth=0.8, color='blue')\n",
    "#ax2.set_xlim(0, 0.1)\n",
    "ax2.set_yscale('log'); ax2.set_xlabel('Duration (hours)')\n",
    "ax2.set_title('Histogram of Bolus Durations (zoomed in)')\n",
    "plt.tight_layout()\n",
    "plt.show()\n",
    "\n",
    "print('EXAMPLES of durations <0.01:')\n",
    "display(df_bolus.loc[(df_bolus.Extended>0) & (df_bolus.Duration<0.01)].head(2))\n",
    "del durations"
   ]
  },
  {
   "cell_type": "markdown",
   "id": "7ded4d1a",
   "metadata": {},
   "source": [
    "It doe not look like the data would be split in ms and minutes (there is no skewed peak around 0). And duration values in the graph above, of 0.1h, would originate from a Duration of 60.000 if it were minutes. \n",
    "\n",
    "Now we know that Duration is the extended bolus duration. We need to split the row in an immediate and a extended part.\n",
    "We could do this efficiently by just creating new rows for the Extended parts. Normal parts get assigned duration of 0 while the Extended part becomes a bolus keeping the duration. "
   ]
  },
  {
   "cell_type": "code",
   "execution_count": 147,
   "id": "9d231a29",
   "metadata": {},
   "outputs": [
    {
     "name": "stderr",
     "output_type": "stream",
     "text": [
      "/var/folders/m4/5d02b2xs0l52lbxzbk0t3vym0000gp/T/ipykernel_48568/2075177681.py:12: SettingWithCopyWarning: \n",
      "A value is trying to be set on a copy of a slice from a DataFrame.\n",
      "Try using .loc[row_indexer,col_indexer] = value instead\n",
      "\n",
      "See the caveats in the documentation: https://pandas.pydata.org/pandas-docs/stable/user_guide/indexing.html#returning-a-view-versus-a-copy\n",
      "  normal.loc[:,'Duration'] = 0\n"
     ]
    }
   ],
   "source": [
    "# Example how to concatenate the normal and extended boluses\n",
    "data = {\n",
    "    \"Datetime\": [\"2024-01-01 00:00\", \"2024-01-01 01:00\", \"2024-01-01 02:00\"],\n",
    "    \"Normal\": [10, 15, 20],\n",
    "    \"Extended\": [np.NaN, 5, np.NaN],\n",
    "    \"Duration\": [np.NaN, 30, np.NaN]\n",
    "}\n",
    "df = pd.DataFrame(data)\n",
    "df[\"Datetime\"] = pd.to_datetime(df[\"Datetime\"])\n",
    "\n",
    "normal = df[[\"Datetime\", \"Normal\"]]\n",
    "normal.loc[:,'Duration'] = 0\n",
    "\n",
    "extended = df.dropna(subset=['Extended'])[[\"Datetime\", \"Extended\", 'Duration']].rename(columns={\"Extended\": \"Normal\"})\n",
    "\n",
    "pd.concat([normal, extended], axis=0).sort_values('Datetime')\n",
    "del data, df, normal, extended"
   ]
  },
  {
   "cell_type": "markdown",
   "id": "927d49c7",
   "metadata": {},
   "source": [
    "### Local Time Verification"
   ]
  },
  {
   "cell_type": "code",
   "execution_count": null,
   "id": "e62faeee",
   "metadata": {},
   "outputs": [],
   "source": [
    "df_bolus = df_bolus.merge(df_patient[['PtID','PtTimezoneOffset']], on='PtID', how='left')\n",
    "df_bolus['datetime'] = df_bolus.UTCDtTm + pd.to_timedelta(df_bolus.PtTimezoneOffset, unit='hour')"
   ]
  },
  {
   "cell_type": "code",
   "execution_count": 137,
   "id": "12973925",
   "metadata": {},
   "outputs": [
    {
     "name": "stderr",
     "output_type": "stream",
     "text": [
      "/var/folders/m4/5d02b2xs0l52lbxzbk0t3vym0000gp/T/ipykernel_50366/815972233.py:6: FutureWarning: The default of observed=False is deprecated and will be changed to True in a future version of pandas. Pass observed=False to retain current behavior or observed=True to adopt the future default and silence this warning.\n",
      "  temp.groupby('cuts').Normal.mean().plot()\n"
     ]
    },
    {
     "data": {
      "text/plain": [
       "<Axes: xlabel='cuts'>"
      ]
     },
     "execution_count": 137,
     "metadata": {},
     "output_type": "execute_result"
    },
    {
     "data": {
      "image/png": "[encoded data removed]",
      "text/plain": [
       "<Figure size 1000x200 with 1 Axes>"
      ]
     },
     "metadata": {},
     "output_type": "display_data"
    }
   ],
   "source": [
    "def get_hour_of_day(datetime_series):\n",
    "    return datetime_series.dt.hour + datetime_series.dt.minute/60 + datetime_series.dt.second/3600\n",
    "temp = df_bolus.sample(frac=0.5)\n",
    "temp['cuts'] = pd.cut(get_hour_of_day(df_bolus.datetime), np.arange(0,25,0.3))\n",
    "plt.figure(figsize=(10, 2)); ax = plt.gca()\n",
    "temp.groupby('cuts').Normal.mean().plot()"
   ]
  },
  {
   "cell_type": "code",
   "execution_count": 105,
   "id": "6f38accf",
   "metadata": {},
   "outputs": [
    {
     "data": {
      "text/html": [
       "<div>\n",
       "<style scoped>\n",
       "    .dataframe tbody tr th:only-of-type {\n",
       "        vertical-align: middle;\n",
       "    }\n",
       "\n",
       "    .dataframe tbody tr th {\n",
       "        vertical-align: top;\n",
       "    }\n",
       "\n",
       "    .dataframe thead th {\n",
       "        text-align: right;\n",
       "    }\n",
       "</style>\n",
       "<table border=\"1\" class=\"dataframe\">\n",
       "  <thead>\n",
       "    <tr style=\"text-align: right;\">\n",
       "      <th></th>\n",
       "      <th>PtID</th>\n",
       "      <th>ParentLOOPDeviceUploadsID</th>\n",
       "      <th>DeviceDtTm</th>\n",
       "      <th>UTCDtTm</th>\n",
       "      <th>BolusType</th>\n",
       "      <th>Normal</th>\n",
       "      <th>ExpectedNormal</th>\n",
       "      <th>Extended</th>\n",
       "      <th>ExpectedExtended</th>\n",
       "      <th>Duration</th>\n",
       "      <th>...</th>\n",
       "      <th>OriginType</th>\n",
       "      <th>OriginDeviceFirmwrVer</th>\n",
       "      <th>OriginDeviceHardwrVer</th>\n",
       "      <th>OriginDeviceManufact</th>\n",
       "      <th>OriginDeviceModel</th>\n",
       "      <th>OriginOperatingSystVer</th>\n",
       "      <th>OriginProductType</th>\n",
       "      <th>PtTimezoneOffset</th>\n",
       "      <th>datetime</th>\n",
       "      <th>hour_of_day</th>\n",
       "    </tr>\n",
       "  </thead>\n",
       "  <tbody>\n",
       "    <tr>\n",
       "      <th>0</th>\n",
       "      <td>1082</td>\n",
       "      <td>22460</td>\n",
       "      <td>NaN</td>\n",
       "      <td>2018-04-20 06:01:58</td>\n",
       "      <td>normal</td>\n",
       "      <td>1.50</td>\n",
       "      <td>NaN</td>\n",
       "      <td>NaN</td>\n",
       "      <td>NaN</td>\n",
       "      <td>NaN</td>\n",
       "      <td>...</td>\n",
       "      <td>service</td>\n",
       "      <td>subg_rfspy 0.9</td>\n",
       "      <td>NaN</td>\n",
       "      <td>Medtronic</td>\n",
       "      <td>722</td>\n",
       "      <td>12.1.0</td>\n",
       "      <td>iPhone11,8</td>\n",
       "      <td>-5.0</td>\n",
       "      <td>2018-04-20 01:01:58</td>\n",
       "      <td>1.032778</td>\n",
       "    </tr>\n",
       "    <tr>\n",
       "      <th>1</th>\n",
       "      <td>1082</td>\n",
       "      <td>22460</td>\n",
       "      <td>NaN</td>\n",
       "      <td>2018-04-20 00:43:53</td>\n",
       "      <td>normal</td>\n",
       "      <td>0.80</td>\n",
       "      <td>NaN</td>\n",
       "      <td>NaN</td>\n",
       "      <td>NaN</td>\n",
       "      <td>NaN</td>\n",
       "      <td>...</td>\n",
       "      <td>service</td>\n",
       "      <td>subg_rfspy 0.9</td>\n",
       "      <td>NaN</td>\n",
       "      <td>Medtronic</td>\n",
       "      <td>722</td>\n",
       "      <td>12.1.0</td>\n",
       "      <td>iPhone11,8</td>\n",
       "      <td>-5.0</td>\n",
       "      <td>2018-04-19 19:43:53</td>\n",
       "      <td>19.731389</td>\n",
       "    </tr>\n",
       "    <tr>\n",
       "      <th>2</th>\n",
       "      <td>1082</td>\n",
       "      <td>22460</td>\n",
       "      <td>NaN</td>\n",
       "      <td>2018-04-19 22:56:56</td>\n",
       "      <td>normal</td>\n",
       "      <td>1.80</td>\n",
       "      <td>NaN</td>\n",
       "      <td>NaN</td>\n",
       "      <td>NaN</td>\n",
       "      <td>NaN</td>\n",
       "      <td>...</td>\n",
       "      <td>service</td>\n",
       "      <td>subg_rfspy 0.9</td>\n",
       "      <td>NaN</td>\n",
       "      <td>Medtronic</td>\n",
       "      <td>722</td>\n",
       "      <td>12.1.0</td>\n",
       "      <td>iPhone11,8</td>\n",
       "      <td>-5.0</td>\n",
       "      <td>2018-04-19 17:56:56</td>\n",
       "      <td>17.948889</td>\n",
       "    </tr>\n",
       "    <tr>\n",
       "      <th>3</th>\n",
       "      <td>1082</td>\n",
       "      <td>22460</td>\n",
       "      <td>NaN</td>\n",
       "      <td>2018-04-19 22:36:08</td>\n",
       "      <td>normal</td>\n",
       "      <td>1.50</td>\n",
       "      <td>NaN</td>\n",
       "      <td>NaN</td>\n",
       "      <td>NaN</td>\n",
       "      <td>NaN</td>\n",
       "      <td>...</td>\n",
       "      <td>service</td>\n",
       "      <td>subg_rfspy 0.9</td>\n",
       "      <td>NaN</td>\n",
       "      <td>Medtronic</td>\n",
       "      <td>722</td>\n",
       "      <td>12.1.0</td>\n",
       "      <td>iPhone11,8</td>\n",
       "      <td>-5.0</td>\n",
       "      <td>2018-04-19 17:36:08</td>\n",
       "      <td>17.602222</td>\n",
       "    </tr>\n",
       "    <tr>\n",
       "      <th>4</th>\n",
       "      <td>1082</td>\n",
       "      <td>22460</td>\n",
       "      <td>NaN</td>\n",
       "      <td>2018-04-19 19:58:50</td>\n",
       "      <td>normal</td>\n",
       "      <td>3.50</td>\n",
       "      <td>NaN</td>\n",
       "      <td>NaN</td>\n",
       "      <td>NaN</td>\n",
       "      <td>NaN</td>\n",
       "      <td>...</td>\n",
       "      <td>service</td>\n",
       "      <td>subg_rfspy 0.9</td>\n",
       "      <td>NaN</td>\n",
       "      <td>Medtronic</td>\n",
       "      <td>722</td>\n",
       "      <td>12.1.0</td>\n",
       "      <td>iPhone11,8</td>\n",
       "      <td>-5.0</td>\n",
       "      <td>2018-04-19 14:58:50</td>\n",
       "      <td>14.980556</td>\n",
       "    </tr>\n",
       "    <tr>\n",
       "      <th>...</th>\n",
       "      <td>...</td>\n",
       "      <td>...</td>\n",
       "      <td>...</td>\n",
       "      <td>...</td>\n",
       "      <td>...</td>\n",
       "      <td>...</td>\n",
       "      <td>...</td>\n",
       "      <td>...</td>\n",
       "      <td>...</td>\n",
       "      <td>...</td>\n",
       "      <td>...</td>\n",
       "      <td>...</td>\n",
       "      <td>...</td>\n",
       "      <td>...</td>\n",
       "      <td>...</td>\n",
       "      <td>...</td>\n",
       "      <td>...</td>\n",
       "      <td>...</td>\n",
       "      <td>...</td>\n",
       "      <td>...</td>\n",
       "      <td>...</td>\n",
       "    </tr>\n",
       "    <tr>\n",
       "      <th>2722508</th>\n",
       "      <td>1121</td>\n",
       "      <td>1468818</td>\n",
       "      <td>NaN</td>\n",
       "      <td>2019-12-17 12:14:46</td>\n",
       "      <td>normal</td>\n",
       "      <td>9.90</td>\n",
       "      <td>NaN</td>\n",
       "      <td>NaN</td>\n",
       "      <td>NaN</td>\n",
       "      <td>NaN</td>\n",
       "      <td>...</td>\n",
       "      <td>service</td>\n",
       "      <td>2.9.0</td>\n",
       "      <td>NaN</td>\n",
       "      <td>Insulet</td>\n",
       "      <td>Eros</td>\n",
       "      <td>13.3.0</td>\n",
       "      <td>iPhone9,1</td>\n",
       "      <td>-5.0</td>\n",
       "      <td>2019-12-17 07:14:46</td>\n",
       "      <td>7.246111</td>\n",
       "    </tr>\n",
       "    <tr>\n",
       "      <th>2722509</th>\n",
       "      <td>1121</td>\n",
       "      <td>1468818</td>\n",
       "      <td>NaN</td>\n",
       "      <td>2019-12-16 03:17:08</td>\n",
       "      <td>normal</td>\n",
       "      <td>0.50</td>\n",
       "      <td>NaN</td>\n",
       "      <td>NaN</td>\n",
       "      <td>NaN</td>\n",
       "      <td>NaN</td>\n",
       "      <td>...</td>\n",
       "      <td>service</td>\n",
       "      <td>2.9.0</td>\n",
       "      <td>NaN</td>\n",
       "      <td>Insulet</td>\n",
       "      <td>Eros</td>\n",
       "      <td>13.3.0</td>\n",
       "      <td>iPhone9,1</td>\n",
       "      <td>-5.0</td>\n",
       "      <td>2019-12-15 22:17:08</td>\n",
       "      <td>22.285556</td>\n",
       "    </tr>\n",
       "    <tr>\n",
       "      <th>2722510</th>\n",
       "      <td>1121</td>\n",
       "      <td>1468818</td>\n",
       "      <td>NaN</td>\n",
       "      <td>2019-12-14 00:08:18</td>\n",
       "      <td>normal</td>\n",
       "      <td>7.75</td>\n",
       "      <td>NaN</td>\n",
       "      <td>NaN</td>\n",
       "      <td>NaN</td>\n",
       "      <td>NaN</td>\n",
       "      <td>...</td>\n",
       "      <td>service</td>\n",
       "      <td>2.9.0</td>\n",
       "      <td>NaN</td>\n",
       "      <td>Insulet</td>\n",
       "      <td>Eros</td>\n",
       "      <td>13.3.0</td>\n",
       "      <td>iPhone9,1</td>\n",
       "      <td>-5.0</td>\n",
       "      <td>2019-12-13 19:08:18</td>\n",
       "      <td>19.138333</td>\n",
       "    </tr>\n",
       "    <tr>\n",
       "      <th>2722511</th>\n",
       "      <td>1121</td>\n",
       "      <td>1468818</td>\n",
       "      <td>NaN</td>\n",
       "      <td>2019-12-12 04:12:45</td>\n",
       "      <td>normal</td>\n",
       "      <td>0.60</td>\n",
       "      <td>NaN</td>\n",
       "      <td>NaN</td>\n",
       "      <td>NaN</td>\n",
       "      <td>NaN</td>\n",
       "      <td>...</td>\n",
       "      <td>service</td>\n",
       "      <td>2.9.0</td>\n",
       "      <td>NaN</td>\n",
       "      <td>Insulet</td>\n",
       "      <td>Eros</td>\n",
       "      <td>13.3.0</td>\n",
       "      <td>iPhone9,1</td>\n",
       "      <td>-5.0</td>\n",
       "      <td>2019-12-11 23:12:45</td>\n",
       "      <td>23.212500</td>\n",
       "    </tr>\n",
       "    <tr>\n",
       "      <th>2722512</th>\n",
       "      <td>1121</td>\n",
       "      <td>1468818</td>\n",
       "      <td>NaN</td>\n",
       "      <td>2019-12-12 01:56:38</td>\n",
       "      <td>normal</td>\n",
       "      <td>6.20</td>\n",
       "      <td>NaN</td>\n",
       "      <td>NaN</td>\n",
       "      <td>NaN</td>\n",
       "      <td>NaN</td>\n",
       "      <td>...</td>\n",
       "      <td>service</td>\n",
       "      <td>2.9.0</td>\n",
       "      <td>NaN</td>\n",
       "      <td>Insulet</td>\n",
       "      <td>Eros</td>\n",
       "      <td>13.3.0</td>\n",
       "      <td>iPhone9,1</td>\n",
       "      <td>-5.0</td>\n",
       "      <td>2019-12-11 20:56:38</td>\n",
       "      <td>20.943889</td>\n",
       "    </tr>\n",
       "  </tbody>\n",
       "</table>\n",
       "<p>2722513 rows × 24 columns</p>\n",
       "</div>"
      ],
      "text/plain": [
       "         PtID  ParentLOOPDeviceUploadsID DeviceDtTm             UTCDtTm  \\\n",
       "0        1082                      22460        NaN 2018-04-20 06:01:58   \n",
       "1        1082                      22460        NaN 2018-04-20 00:43:53   \n",
       "2        1082                      22460        NaN 2018-04-19 22:56:56   \n",
       "3        1082                      22460        NaN 2018-04-19 22:36:08   \n",
       "4        1082                      22460        NaN 2018-04-19 19:58:50   \n",
       "...       ...                        ...        ...                 ...   \n",
       "2722508  1121                    1468818        NaN 2019-12-17 12:14:46   \n",
       "2722509  1121                    1468818        NaN 2019-12-16 03:17:08   \n",
       "2722510  1121                    1468818        NaN 2019-12-14 00:08:18   \n",
       "2722511  1121                    1468818        NaN 2019-12-12 04:12:45   \n",
       "2722512  1121                    1468818        NaN 2019-12-12 01:56:38   \n",
       "\n",
       "        BolusType  Normal  ExpectedNormal  Extended  ExpectedExtended  \\\n",
       "0          normal    1.50             NaN       NaN               NaN   \n",
       "1          normal    0.80             NaN       NaN               NaN   \n",
       "2          normal    1.80             NaN       NaN               NaN   \n",
       "3          normal    1.50             NaN       NaN               NaN   \n",
       "4          normal    3.50             NaN       NaN               NaN   \n",
       "...           ...     ...             ...       ...               ...   \n",
       "2722508    normal    9.90             NaN       NaN               NaN   \n",
       "2722509    normal    0.50             NaN       NaN               NaN   \n",
       "2722510    normal    7.75             NaN       NaN               NaN   \n",
       "2722511    normal    0.60             NaN       NaN               NaN   \n",
       "2722512    normal    6.20             NaN       NaN               NaN   \n",
       "\n",
       "         Duration  ...  OriginType  OriginDeviceFirmwrVer  \\\n",
       "0             NaN  ...     service         subg_rfspy 0.9   \n",
       "1             NaN  ...     service         subg_rfspy 0.9   \n",
       "2             NaN  ...     service         subg_rfspy 0.9   \n",
       "3             NaN  ...     service         subg_rfspy 0.9   \n",
       "4             NaN  ...     service         subg_rfspy 0.9   \n",
       "...           ...  ...         ...                    ...   \n",
       "2722508       NaN  ...     service                  2.9.0   \n",
       "2722509       NaN  ...     service                  2.9.0   \n",
       "2722510       NaN  ...     service                  2.9.0   \n",
       "2722511       NaN  ...     service                  2.9.0   \n",
       "2722512       NaN  ...     service                  2.9.0   \n",
       "\n",
       "        OriginDeviceHardwrVer OriginDeviceManufact OriginDeviceModel  \\\n",
       "0                         NaN            Medtronic               722   \n",
       "1                         NaN            Medtronic               722   \n",
       "2                         NaN            Medtronic               722   \n",
       "3                         NaN            Medtronic               722   \n",
       "4                         NaN            Medtronic               722   \n",
       "...                       ...                  ...               ...   \n",
       "2722508                   NaN              Insulet              Eros   \n",
       "2722509                   NaN              Insulet              Eros   \n",
       "2722510                   NaN              Insulet              Eros   \n",
       "2722511                   NaN              Insulet              Eros   \n",
       "2722512                   NaN              Insulet              Eros   \n",
       "\n",
       "        OriginOperatingSystVer OriginProductType PtTimezoneOffset  \\\n",
       "0                       12.1.0        iPhone11,8             -5.0   \n",
       "1                       12.1.0        iPhone11,8             -5.0   \n",
       "2                       12.1.0        iPhone11,8             -5.0   \n",
       "3                       12.1.0        iPhone11,8             -5.0   \n",
       "4                       12.1.0        iPhone11,8             -5.0   \n",
       "...                        ...               ...              ...   \n",
       "2722508                 13.3.0         iPhone9,1             -5.0   \n",
       "2722509                 13.3.0         iPhone9,1             -5.0   \n",
       "2722510                 13.3.0         iPhone9,1             -5.0   \n",
       "2722511                 13.3.0         iPhone9,1             -5.0   \n",
       "2722512                 13.3.0         iPhone9,1             -5.0   \n",
       "\n",
       "                   datetime hour_of_day  \n",
       "0       2018-04-20 01:01:58    1.032778  \n",
       "1       2018-04-19 19:43:53   19.731389  \n",
       "2       2018-04-19 17:56:56   17.948889  \n",
       "3       2018-04-19 17:36:08   17.602222  \n",
       "4       2018-04-19 14:58:50   14.980556  \n",
       "...                     ...         ...  \n",
       "2722508 2019-12-17 07:14:46    7.246111  \n",
       "2722509 2019-12-15 22:17:08   22.285556  \n",
       "2722510 2019-12-13 19:08:18   19.138333  \n",
       "2722511 2019-12-11 23:12:45   23.212500  \n",
       "2722512 2019-12-11 20:56:38   20.943889  \n",
       "\n",
       "[2722513 rows x 24 columns]"
      ]
     },
     "execution_count": 105,
     "metadata": {},
     "output_type": "execute_result"
    }
   ],
   "source": [
    "#calcualte centered moving average\n",
    "window = 2000\n",
    "ma  = temp[['Normal','hour_of_day']].sort_values('datetime_hod').rolling(window=window, min_periods=window, on='datetime_hod', center=True).mean().sample(1000)\n",
    "\n",
    "#draw\n",
    "plt.figure(figsize=(10,2)); \n",
    "plt.scatter(ma_DeviceDtTm.DeviceDtTm_hod, ma_DeviceDtTm.CGMVal, label='DeviceDtTm', color='darkgray', marker='o',s=20)\n",
    "plt.scatter(ma_UTCDtTm.UTCDtTm_hod, ma_UTCDtTm.CGMVal, label='UTCDtTm', color='blue', marker='x',s=2)\n",
    "plt.scatter(ma_datetime.datetime_hod, ma_datetime.CGMVal, label='UTCDtTm + TmZnOffset', color='red', marker='.',s=2)\n",
    "\n",
    "plt.plot([10,15],[7.6,7.6], color='black', linestyle='--', marker='<')\n",
    "plt.plot([15],[7.6], color='black', marker='o')\n",
    "plt.legend(); plt.tight_layout()\n"
   ]
  },
  {
   "cell_type": "markdown",
   "id": "a88187ba",
   "metadata": {},
   "source": [
    "### Conclusion \n",
    "\n",
    "* There are some duplicated temporal Boluses ~3% \n",
    "* These boluses are mostly equal but in rare cases significantly different (reason unclear)\n",
    "* Extended boluses exist and should be separted, it appears that Duration is always given in milliseconds\n"
   ]
  },
  {
   "cell_type": "markdown",
   "id": "a8cb86b3",
   "metadata": {},
   "source": [
    "## Basal"
   ]
  },
  {
   "cell_type": "code",
   "execution_count": 148,
   "id": "08e82e93",
   "metadata": {},
   "outputs": [
    {
     "name": "stdout",
     "output_type": "stream",
     "text": [
      "Parquet files already exist in /Users/jan/git/nudgebg/egvinsulin/notebooks/../data/raw/paquet/Loop study public dataset 2023-01-31/basal\n"
     ]
    }
   ],
   "source": [
    "## export Basal to parquet if not already done\n",
    "basal_parquet_path = os.path.join(loop_paquet_path, 'basal')\n",
    "\n",
    "if not os.path.exists(basal_parquet_path):\n",
    "    basal_columns = ['PtID', 'UTCDtTm', 'BasalType', 'Duration', 'ExpectedDuration', 'Percnt', 'Rate', 'SuprBasalType', 'SuprDuration', 'SuprRate', 'TmZnOffset']\n",
    "    ddf_basal = dd.read_csv(os.path.join(loop_path, 'Data Tables', 'LOOPDeviceBasal*.txt'), sep='|', \n",
    "                        parse_dates=['UTCDtTm'], date_format='%Y-%m-%d %H:%M:%S', \n",
    "                        usecols=basal_columns)\n",
    "    ddf_basal.to_parquet(os.path.join(basal_parquet_path, 'basal'), partition_on='PtID')\n",
    "else:\n",
    "    print(f'Parquet files already exist in {basal_parquet_path}')"
   ]
  },
  {
   "cell_type": "code",
   "execution_count": 151,
   "id": "2411fe2a",
   "metadata": {},
   "outputs": [
    {
     "name": "stderr",
     "output_type": "stream",
     "text": [
      "/Users/jan/.pyenv/versions/3.9.6/envs/nudgebg/lib/python3.9/site-packages/distributed/client.py:3362: UserWarning: Sending large graph of size 9.81 MiB.\n",
      "This may cause some slowdown.\n",
      "Consider loading the data with Dask directly\n",
      " or using futures or delayed objects to embed the data into the graph without repetition.\n",
      "See also https://docs.dask.org/en/stable/best-practices.html#load-data-with-dask for more information.\n",
      "  warnings.warn(\n"
     ]
    }
   ],
   "source": [
    "#load parquet and a subset\n",
    "ddf_basal = dd.read_parquet(basal_parquet_path, aggregate_files='PtID')\n",
    "df_basal_sample = ddf_basal.sample(frac=0.1).compute().reset_index()"
   ]
  },
  {
   "cell_type": "code",
   "execution_count": 155,
   "id": "829c5ac9",
   "metadata": {},
   "outputs": [
    {
     "name": "stdout",
     "output_type": "stream",
     "text": [
      "COLUMNS:\n",
      "Index(['index', 'UTCDtTm', 'BasalType', 'Duration', 'ExpectedDuration',\n",
      "       'Percnt', 'Rate', 'SuprBasalType', 'SuprDuration', 'SuprRate',\n",
      "       'TmZnOffset', 'PtID'],\n",
      "      dtype='object')\n",
      "NAN FRACTIONS\n"
     ]
    },
    {
     "data": {
      "text/plain": [
       "index                0.000000\n",
       "UTCDtTm              0.000000\n",
       "BasalType            0.000000\n",
       "Duration             0.000000\n",
       "ExpectedDuration    99.799592\n",
       "Percnt              99.914309\n",
       "Rate                 0.038881\n",
       "SuprBasalType       24.145759\n",
       "SuprDuration        99.963189\n",
       "SuprRate            24.145863\n",
       "TmZnOffset          99.213293\n",
       "PtID                 0.000000\n",
       "dtype: float64"
      ]
     },
     "metadata": {},
     "output_type": "display_data"
    },
    {
     "name": "stdout",
     "output_type": "stream",
     "text": [
      "DUPLICATES:\n",
      "0 duplicates (0.00%)\n",
      "Duplicated rows:\n"
     ]
    },
    {
     "data": {
      "text/html": [
       "<div>\n",
       "<style scoped>\n",
       "    .dataframe tbody tr th:only-of-type {\n",
       "        vertical-align: middle;\n",
       "    }\n",
       "\n",
       "    .dataframe tbody tr th {\n",
       "        vertical-align: top;\n",
       "    }\n",
       "\n",
       "    .dataframe thead th {\n",
       "        text-align: right;\n",
       "    }\n",
       "</style>\n",
       "<table border=\"1\" class=\"dataframe\">\n",
       "  <thead>\n",
       "    <tr style=\"text-align: right;\">\n",
       "      <th></th>\n",
       "      <th>index</th>\n",
       "      <th>UTCDtTm</th>\n",
       "      <th>BasalType</th>\n",
       "      <th>Duration</th>\n",
       "      <th>ExpectedDuration</th>\n",
       "      <th>Percnt</th>\n",
       "      <th>Rate</th>\n",
       "      <th>SuprBasalType</th>\n",
       "      <th>SuprDuration</th>\n",
       "      <th>SuprRate</th>\n",
       "      <th>TmZnOffset</th>\n",
       "      <th>PtID</th>\n",
       "    </tr>\n",
       "  </thead>\n",
       "  <tbody>\n",
       "  </tbody>\n",
       "</table>\n",
       "</div>"
      ],
      "text/plain": [
       "Empty DataFrame\n",
       "Columns: [index, UTCDtTm, BasalType, Duration, ExpectedDuration, Percnt, Rate, SuprBasalType, SuprDuration, SuprRate, TmZnOffset, PtID]\n",
       "Index: []"
      ]
     },
     "metadata": {},
     "output_type": "display_data"
    },
    {
     "name": "stdout",
     "output_type": "stream",
     "text": [
      "4642 duplicates (0.10%) ['UTCDtTm', 'PtID']\n",
      "Duplicated rows subset ['UTCDtTm', 'PtID']:\n"
     ]
    },
    {
     "data": {
      "text/html": [
       "<div>\n",
       "<style scoped>\n",
       "    .dataframe tbody tr th:only-of-type {\n",
       "        vertical-align: middle;\n",
       "    }\n",
       "\n",
       "    .dataframe tbody tr th {\n",
       "        vertical-align: top;\n",
       "    }\n",
       "\n",
       "    .dataframe thead th {\n",
       "        text-align: right;\n",
       "    }\n",
       "</style>\n",
       "<table border=\"1\" class=\"dataframe\">\n",
       "  <thead>\n",
       "    <tr style=\"text-align: right;\">\n",
       "      <th></th>\n",
       "      <th>index</th>\n",
       "      <th>UTCDtTm</th>\n",
       "      <th>BasalType</th>\n",
       "      <th>Duration</th>\n",
       "      <th>PtID</th>\n",
       "    </tr>\n",
       "  </thead>\n",
       "  <tbody>\n",
       "    <tr>\n",
       "      <th>3808711</th>\n",
       "      <td>331360</td>\n",
       "      <td>2017-11-24 08:26:27</td>\n",
       "      <td>temp</td>\n",
       "      <td>300000</td>\n",
       "      <td>993</td>\n",
       "    </tr>\n",
       "    <tr>\n",
       "      <th>3803932</th>\n",
       "      <td>331359</td>\n",
       "      <td>2017-11-24 08:26:27</td>\n",
       "      <td>temp</td>\n",
       "      <td>300000</td>\n",
       "      <td>993</td>\n",
       "    </tr>\n",
       "  </tbody>\n",
       "</table>\n",
       "</div>"
      ],
      "text/plain": [
       "          index             UTCDtTm BasalType  Duration PtID\n",
       "3808711  331360 2017-11-24 08:26:27      temp    300000  993\n",
       "3803932  331359 2017-11-24 08:26:27      temp    300000  993"
      ]
     },
     "metadata": {},
     "output_type": "display_data"
    },
    {
     "name": "stdout",
     "output_type": "stream",
     "text": [
      "VALUE FRACTIONS:\n"
     ]
    },
    {
     "data": {
      "text/plain": [
       "BasalType\n",
       "temp         99.498875\n",
       "scheduled     0.271090\n",
       "automated     0.191154\n",
       "suspend       0.038881\n",
       "Name: count, dtype: float64"
      ]
     },
     "metadata": {},
     "output_type": "display_data"
    },
    {
     "data": {
      "text/plain": [
       "SuprBasalType\n",
       "scheduled        75.851839\n",
       "temp              0.001242\n",
       "automated         0.001159\n",
       "Name: count, dtype: float64"
      ]
     },
     "metadata": {},
     "output_type": "display_data"
    },
    {
     "name": "stdout",
     "output_type": "stream",
     "text": [
      "DESCRIPTIONS:\n"
     ]
    },
    {
     "data": {
      "text/plain": [
       "count    4139.000000\n",
       "mean        1.118751\n",
       "std         0.718900\n",
       "min         0.000000\n",
       "25%         0.500000\n",
       "50%         1.150000\n",
       "75%         1.551500\n",
       "max         7.550000\n",
       "Name: Percnt, dtype: float64"
      ]
     },
     "metadata": {},
     "output_type": "display_data"
    },
    {
     "data": {
      "text/plain": [
       "count    4.828258e+06\n",
       "mean     1.076148e+00\n",
       "std      1.505409e+00\n",
       "min      0.000000e+00\n",
       "25%      0.000000e+00\n",
       "50%      6.040000e-01\n",
       "75%      1.742000e+00\n",
       "max      4.000000e+01\n",
       "Name: Rate, dtype: float64"
      ]
     },
     "metadata": {},
     "output_type": "display_data"
    }
   ],
   "source": [
    "## Report Columns, Nans, Duplicates, \n",
    "\n",
    "print('COLUMNS:')\n",
    "print(df_basal_sample.columns)\n",
    "\n",
    "print('NAN FRACTIONS')\n",
    "display(100*df_basal_sample.isna().sum()/len(df_basal_sample))\n",
    "\n",
    "print('DUPLICATES:')\n",
    "report_duplicates(df_basal_sample, ['UTCDtTm', 'PtID'], ['UTCDtTm'])\n",
    "\n",
    "print('VALUE FRACTIONS:')\n",
    "display(df_basal_sample.value_counts(subset=['BasalType'])*100/len(df_basal_sample))\n",
    "display(df_basal_sample.value_counts(subset=['SuprBasalType'])*100/len(df_basal_sample))\n",
    "\n",
    "print('DESCRIPTIONS:')\n",
    "display(df_basal_sample.Percnt.describe())\n",
    "display(df_basal_sample.Rate.describe())"
   ]
  },
  {
   "cell_type": "markdown",
   "id": "cf6898b4",
   "metadata": {},
   "source": [
    "In very few cases, the suppressed basal rate is a temporary or automated basal rate. It is unclear where these come from, potentially set on the pump itself."
   ]
  },
  {
   "cell_type": "code",
   "execution_count": 156,
   "id": "274d0221",
   "metadata": {},
   "outputs": [
    {
     "data": {
      "text/html": [
       "<div>\n",
       "<style scoped>\n",
       "    .dataframe tbody tr th:only-of-type {\n",
       "        vertical-align: middle;\n",
       "    }\n",
       "\n",
       "    .dataframe tbody tr th {\n",
       "        vertical-align: top;\n",
       "    }\n",
       "\n",
       "    .dataframe thead th {\n",
       "        text-align: right;\n",
       "    }\n",
       "</style>\n",
       "<table border=\"1\" class=\"dataframe\">\n",
       "  <thead>\n",
       "    <tr style=\"text-align: right;\">\n",
       "      <th></th>\n",
       "      <th>index</th>\n",
       "      <th>UTCDtTm</th>\n",
       "      <th>BasalType</th>\n",
       "      <th>Duration</th>\n",
       "      <th>ExpectedDuration</th>\n",
       "      <th>Percnt</th>\n",
       "      <th>Rate</th>\n",
       "      <th>SuprBasalType</th>\n",
       "      <th>SuprDuration</th>\n",
       "      <th>SuprRate</th>\n",
       "      <th>TmZnOffset</th>\n",
       "      <th>PtID</th>\n",
       "    </tr>\n",
       "  </thead>\n",
       "  <tbody>\n",
       "    <tr>\n",
       "      <th>74657</th>\n",
       "      <td>23075</td>\n",
       "      <td>2018-09-25 19:54:18</td>\n",
       "      <td>temp</td>\n",
       "      <td>3600000</td>\n",
       "      <td>NaN</td>\n",
       "      <td>1.95</td>\n",
       "      <td>0.48</td>\n",
       "      <td>scheduled</td>\n",
       "      <td>3600000.0</td>\n",
       "      <td>0.25</td>\n",
       "      <td>-360.0</td>\n",
       "      <td>18</td>\n",
       "    </tr>\n",
       "    <tr>\n",
       "      <th>74826</th>\n",
       "      <td>23336</td>\n",
       "      <td>2018-10-02 16:31:36</td>\n",
       "      <td>temp</td>\n",
       "      <td>3600000</td>\n",
       "      <td>NaN</td>\n",
       "      <td>1.95</td>\n",
       "      <td>0.48</td>\n",
       "      <td>scheduled</td>\n",
       "      <td>3600000.0</td>\n",
       "      <td>0.25</td>\n",
       "      <td>-300.0</td>\n",
       "      <td>18</td>\n",
       "    </tr>\n",
       "    <tr>\n",
       "      <th>74972</th>\n",
       "      <td>5467</td>\n",
       "      <td>2018-08-05 03:34:04</td>\n",
       "      <td>temp</td>\n",
       "      <td>1556000</td>\n",
       "      <td>3600000.0</td>\n",
       "      <td>0.25</td>\n",
       "      <td>0.11</td>\n",
       "      <td>scheduled</td>\n",
       "      <td>3600000.0</td>\n",
       "      <td>0.44</td>\n",
       "      <td>-300.0</td>\n",
       "      <td>18</td>\n",
       "    </tr>\n",
       "    <tr>\n",
       "      <th>75076</th>\n",
       "      <td>23436</td>\n",
       "      <td>2018-11-12 04:05:49</td>\n",
       "      <td>temp</td>\n",
       "      <td>3251000</td>\n",
       "      <td>3600000.0</td>\n",
       "      <td>1.50</td>\n",
       "      <td>0.52</td>\n",
       "      <td>scheduled</td>\n",
       "      <td>3600000.0</td>\n",
       "      <td>0.35</td>\n",
       "      <td>-300.0</td>\n",
       "      <td>18</td>\n",
       "    </tr>\n",
       "    <tr>\n",
       "      <th>75573</th>\n",
       "      <td>5746</td>\n",
       "      <td>2018-08-01 03:16:54</td>\n",
       "      <td>temp</td>\n",
       "      <td>2586000</td>\n",
       "      <td>3600000.0</td>\n",
       "      <td>1.95</td>\n",
       "      <td>0.87</td>\n",
       "      <td>scheduled</td>\n",
       "      <td>3600000.0</td>\n",
       "      <td>0.45</td>\n",
       "      <td>-300.0</td>\n",
       "      <td>18</td>\n",
       "    </tr>\n",
       "    <tr>\n",
       "      <th>...</th>\n",
       "      <td>...</td>\n",
       "      <td>...</td>\n",
       "      <td>...</td>\n",
       "      <td>...</td>\n",
       "      <td>...</td>\n",
       "      <td>...</td>\n",
       "      <td>...</td>\n",
       "      <td>...</td>\n",
       "      <td>...</td>\n",
       "      <td>...</td>\n",
       "      <td>...</td>\n",
       "      <td>...</td>\n",
       "    </tr>\n",
       "    <tr>\n",
       "      <th>4810576</th>\n",
       "      <td>388129</td>\n",
       "      <td>2019-03-21 00:23:38</td>\n",
       "      <td>temp</td>\n",
       "      <td>3600000</td>\n",
       "      <td>NaN</td>\n",
       "      <td>1.50</td>\n",
       "      <td>0.22</td>\n",
       "      <td>scheduled</td>\n",
       "      <td>3600000.0</td>\n",
       "      <td>0.15</td>\n",
       "      <td>-420.0</td>\n",
       "      <td>1209</td>\n",
       "    </tr>\n",
       "    <tr>\n",
       "      <th>4812615</th>\n",
       "      <td>387389</td>\n",
       "      <td>2019-03-26 02:19:13</td>\n",
       "      <td>temp</td>\n",
       "      <td>3600000</td>\n",
       "      <td>NaN</td>\n",
       "      <td>1.50</td>\n",
       "      <td>0.30</td>\n",
       "      <td>scheduled</td>\n",
       "      <td>3600000.0</td>\n",
       "      <td>0.20</td>\n",
       "      <td>-420.0</td>\n",
       "      <td>1209</td>\n",
       "    </tr>\n",
       "    <tr>\n",
       "      <th>4812677</th>\n",
       "      <td>387180</td>\n",
       "      <td>2019-03-22 05:09:26</td>\n",
       "      <td>temp</td>\n",
       "      <td>609000</td>\n",
       "      <td>660000.0</td>\n",
       "      <td>1.50</td>\n",
       "      <td>0.22</td>\n",
       "      <td>scheduled</td>\n",
       "      <td>660000.0</td>\n",
       "      <td>0.15</td>\n",
       "      <td>-420.0</td>\n",
       "      <td>1209</td>\n",
       "    </tr>\n",
       "    <tr>\n",
       "      <th>4812873</th>\n",
       "      <td>387163</td>\n",
       "      <td>2019-03-22 23:06:42</td>\n",
       "      <td>temp</td>\n",
       "      <td>3600000</td>\n",
       "      <td>NaN</td>\n",
       "      <td>1.25</td>\n",
       "      <td>0.18</td>\n",
       "      <td>scheduled</td>\n",
       "      <td>3600000.0</td>\n",
       "      <td>0.14</td>\n",
       "      <td>-420.0</td>\n",
       "      <td>1209</td>\n",
       "    </tr>\n",
       "    <tr>\n",
       "      <th>4812965</th>\n",
       "      <td>388149</td>\n",
       "      <td>2019-03-20 02:10:34</td>\n",
       "      <td>temp</td>\n",
       "      <td>3840000</td>\n",
       "      <td>NaN</td>\n",
       "      <td>1.50</td>\n",
       "      <td>0.30</td>\n",
       "      <td>scheduled</td>\n",
       "      <td>3840000.0</td>\n",
       "      <td>0.20</td>\n",
       "      <td>-420.0</td>\n",
       "      <td>1209</td>\n",
       "    </tr>\n",
       "  </tbody>\n",
       "</table>\n",
       "<p>4139 rows × 12 columns</p>\n",
       "</div>"
      ],
      "text/plain": [
       "          index             UTCDtTm BasalType  Duration  ExpectedDuration  \\\n",
       "74657     23075 2018-09-25 19:54:18      temp   3600000               NaN   \n",
       "74826     23336 2018-10-02 16:31:36      temp   3600000               NaN   \n",
       "74972      5467 2018-08-05 03:34:04      temp   1556000         3600000.0   \n",
       "75076     23436 2018-11-12 04:05:49      temp   3251000         3600000.0   \n",
       "75573      5746 2018-08-01 03:16:54      temp   2586000         3600000.0   \n",
       "...         ...                 ...       ...       ...               ...   \n",
       "4810576  388129 2019-03-21 00:23:38      temp   3600000               NaN   \n",
       "4812615  387389 2019-03-26 02:19:13      temp   3600000               NaN   \n",
       "4812677  387180 2019-03-22 05:09:26      temp    609000          660000.0   \n",
       "4812873  387163 2019-03-22 23:06:42      temp   3600000               NaN   \n",
       "4812965  388149 2019-03-20 02:10:34      temp   3840000               NaN   \n",
       "\n",
       "         Percnt  Rate SuprBasalType  SuprDuration  SuprRate  TmZnOffset  PtID  \n",
       "74657      1.95  0.48     scheduled     3600000.0      0.25      -360.0    18  \n",
       "74826      1.95  0.48     scheduled     3600000.0      0.25      -300.0    18  \n",
       "74972      0.25  0.11     scheduled     3600000.0      0.44      -300.0    18  \n",
       "75076      1.50  0.52     scheduled     3600000.0      0.35      -300.0    18  \n",
       "75573      1.95  0.87     scheduled     3600000.0      0.45      -300.0    18  \n",
       "...         ...   ...           ...           ...       ...         ...   ...  \n",
       "4810576    1.50  0.22     scheduled     3600000.0      0.15      -420.0  1209  \n",
       "4812615    1.50  0.30     scheduled     3600000.0      0.20      -420.0  1209  \n",
       "4812677    1.50  0.22     scheduled      660000.0      0.15      -420.0  1209  \n",
       "4812873    1.25  0.18     scheduled     3600000.0      0.14      -420.0  1209  \n",
       "4812965    1.50  0.30     scheduled     3840000.0      0.20      -420.0  1209  \n",
       "\n",
       "[4139 rows x 12 columns]"
      ]
     },
     "execution_count": 156,
     "metadata": {},
     "output_type": "execute_result"
    }
   ],
   "source": [
    "df_basal_sample.dropna(subset=['Percnt'])"
   ]
  },
  {
   "cell_type": "markdown",
   "id": "af0dfcd0",
   "metadata": {},
   "source": [
    "## Todos\n",
    "* Check if Datetime+duration > next Datetime --> \n",
    "* Look at distributions for basal, bolus to check local time assumptions"
   ]
  },
  {
   "cell_type": "markdown",
   "id": "10cb9bf8",
   "metadata": {},
   "source": []
  }
 ],
 "metadata": {
  "kernelspec": {
   "display_name": "nudgebg",
   "language": "python",
   "name": "python3"
  },
  "language_info": {
   "codemirror_mode": {
    "name": "ipython",
    "version": 3
   },
   "file_extension": ".py",
   "mimetype": "text/x-python",
   "name": "python",
   "nbconvert_exporter": "python",
   "pygments_lexer": "ipython3",
   "version": "3.9.6"
  }
 },
 "nbformat": 4,
 "nbformat_minor": 5
}
