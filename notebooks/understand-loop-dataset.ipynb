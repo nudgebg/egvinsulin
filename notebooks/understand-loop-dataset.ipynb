{
 "cells": [
  {
   "cell_type": "markdown",
   "id": "ea0d44eb-0c72-41fc-b821-5d1532975aa5",
   "metadata": {},
   "source": [
    "## Understanding Loop Dataset\n",
    "This notebook tries provides details on the structure of the Loop dataset and makes suggestions how to process the data."
   ]
  },
  {
   "cell_type": "markdown",
   "id": "9cdf33db-ebe9-4fa2-a814-d0383009c114",
   "metadata": {},
   "source": [
    "## The Loop study\n",
    "\n",
    "**Title**: An Observational Study of Individuals with Type 1 Diabetes Using the Loop System for Automated Insulin Delivery: The Loop Observational Study (LOS)\n",
    "\n",
    "\n",
    "**Description**: Passive data collection to collect data on the efficacy, safety, usability, and quality of life/ psychosocial effects of the Loop System\n",
    "    \n",
    "**Devices**: insulin pump and a Dexcom or Medtronic CGM\n",
    "\n",
    "**Study Population**: People of any age with Type 1 Diabetes"
   ]
  },
  {
   "cell_type": "markdown",
   "id": "90e93645",
   "metadata": {},
   "source": [
    "## Checklist Template\n",
    "- [x] Things to check in every dataset\n",
    "0. [ ] Data\n",
    "\t1. [ ] Glossary\n",
    "\t\t1. [ ] List all relevant files and columns\n",
    "\t\t\t1. [ ] check if exist\n",
    "\t\t\t2. [ ] Check if there are more column names\n",
    "\t\t\t3. [ ] Are there other files, not mentioned?\n",
    "\t2. [ ] Missing data\n",
    "\t\t1. [ ] Check for null values\n",
    "\t3. [ ] Handle Duplicated Rows (overall)\n",
    "\t\t1. [ ] Duplicates on special columns (e.g. patient id, datetime)\n",
    "\t\t\t1. [ ] How often?\n",
    "\t\t\t\t1. [ ] If often investigate?  Check for correlation (e.g. CGM dups)\n",
    "\t\t\t\t2. [ ] Drop (keep max (`test_get_duplicated_max_indexes`), sum, first?)\n",
    "\t4. [ ] Incomplete Patients\n",
    "\t\t1. [ ] Keep only patients with data in all datasets (`total_ids = reduce(np.intersect1d, (df_basal.PtID.unique(), df_bolus.PtID.unique(), df_cgm.PtID.unique()))`)\n",
    "2. [ ] Datetime Strings\n",
    "\t1. [ ] Datetestrings consistent?\n",
    "\t\t1. [ ] If not, check how to parse it efficiently and correctly. Use `parse_flair_dates` if applicable\n",
    "\t2. [ ] Adjustments made?\n",
    "\t\t1. [ ] Which one to use?\n",
    "\t\t2. [ ] Check if adjustments make sense \n",
    "\t\t\t1. [ ] Visually inspect gaps (sample)\n",
    "\t\t\t2. [ ] Check summary statistics (do gaps get smaller?)\n",
    "3. [ ] Timestamps\n",
    "\t1. [ ] All in local time?\n",
    "\t\t1. [ ] Glossary mentions UTC, timezones?\n",
    "\t2. [ ] Check distributions\n",
    "\t\t1. [ ] brekfast, lunch dinner peaks? \n",
    "\t\t2. [ ] Data consistent with bolus and CGM?\n",
    "4. [ ] CGMS\n",
    "\t1. [ ] Special Numbers\n",
    "\t\t1. [ ] Replaced?\n",
    "5. [ ] Boluses\n",
    "\t1. [ ] Requested vs. Delivered (check what timestamp means)\n",
    "\t2. [ ] Extended bolus part duration\n",
    "6. [ ] Basals\n",
    "\t1. [ ] Suspends?\n",
    "\t2. [ ] Temporary Basals"
   ]
  },
  {
   "cell_type": "markdown",
   "id": "1ec401d2",
   "metadata": {},
   "source": [
    "### Data\n",
    "The study data folder is named **Loop study public dataset 2023-01-31**\n",
    "\n",
    "From the DataGlossary.rtf file, the following relevant files were identified which are stored in the **Data Tables** subfolder.\n",
    "\n",
    "| File Name                     | Description                               | Note                                                                                           |\n",
    "|-------------------------------|-------------------------------------------|-----------------------------------------------------------------------------------------------|\n",
    "| **LOOPDeviceBasal<i>.txt**    | i=1-3, basal data exported from Tidepool | 3 files: 2.9GB, 2.9GB, and 1.35GB                                                             |\n",
    "| **LOOPDeviceCGM<i>.txt**      | i=1-6, CGM data exported from Tidepool   | 6 files: 2.14GB, 2.24GB, 2.3GB, 2.31GB, 2.33GB, and 1.53GB.  Contains more patient IDs than Basal and Bolus files |\n",
    "| **LOOPDeviceBolus.txt**       | Bolus data exported from Tidepool        | 1 file: 349MB                                                                                 |\n",
    "| **PtRoster.txt**              | Patient Roster                           | Contains fixed UTC offsets which we need                                                     |\n",
    "\n",
    "### Relevant Columns:\n",
    "The following lists all relevant columns. Other columns were considered irrelevant. Some are still mentioned if they serve the discussion but crossed through.\n",
    "\n",
    "#### LOOPDeviceCGM1-6\n",
    "| Field_Name | Description | Note |\n",
    "|----|----|-|\n",
    "| **UTCDtTm** | Device date and time adjusted with timezone offset| These are UTC, the description is misleading! *1 |\n",
    "| **RecordType**| Type of data (CGM, Calibration, etc)| Needed to drop calibrations|\n",
    "| **CGMVal**| Glucose reading from the CGM (in mmol/L from Tidepool)| Convert to convert to mg/dl|\n",
    "| ~~DeviceDtTm~~| Local device date and time; note not present in most rows because unavailable in Tidepool data source | *1 |\n",
    "| ~~TmZnOffset~~| Timezone offset | *1 | \n",
    "| ~~Units~~ | Glucose reading units | all CGMs are in mmol/| \n",
    "\n",
    "\n",
    "#### LOOPDeviceBasal1-3\n",
    "\n",
    "| Field Name | Glossary Description| Notes |\n",
    "|-|-|-|\n",
    "|**PtID**| Patient ID| Was not mentioned in glossary|\n",
    "| **UTCDtTm**| Date and time with timezone offset| *1|\n",
    "| **Rate** | Number of units per hour| **This is likely the only relevant value here**|\n",
    "| ~~DeviceDtTm~~ | ~~Local device date and time; note not present in most rows because unavailable in Tidepool data source~~ |*1|\n",
    "| ~~TmZnOffset~~ | ~~Timezone offset~~ | *1 | \n",
    "| BasalType| Basal delivery type | Unclear|\n",
    "| Duration | Actual number of milliseconds basal will be in effect | Unclear |\n",
    "| ExpectedDuration | Expected number of milliseconds basal will be in effect | Unclear|\n",
    "| Percnt | Percentage of suppressed basal that should be delivered | Unclear|\n",
    "| SuprBasalType| Suppressed basal delivery type (suppressed basal = basal event not being delivered because this one is active) | Unclear, Ambiguous description. JAEB did not use these values (see Q&A with JAEB below) |\n",
    "| SuprDuration | Suppressed duration |Unclear|\n",
    "| SuprRate | Suppressed rate | Unclear|\n",
    "\n",
    "Example (first row):  \n",
    "| PtID   | UTCDtTm| **BasalType** | Duration | ExpectedDuration | Percnt | Rate  | **SuprBasalType** | SuprDuration | SuprRate | TmZnOffset | \n",
    "|---|---|---|---|---|---|---|---|---|---|---|\n",
    "| 1082 | 2018-05-29 10:02:56| **temp**| 244000   ||| 1.475 | **scheduled**|| 1.600|| \n",
    "\n",
    "\n",
    "#### LOOPDeviceBolus\n",
    "| Field_Name| Description | Note |\n",
    "|-|-|-|\n",
    "| **UTCDtTm**| Device date and time (with timezone offset) |*1|\n",
    "| **BolusType**| Subtype of data (ex: \"Normal\" and \"Square\" are subtypes of \"Bolus\" type)||\n",
    "| **Normal** | Number of units of normal bolus |Likely the only relevant value.|\n",
    "| ~~DeviceDtTm~~ | Local device date and time; note not present in most rows because unavailable in Tidepool data source |*1|\n",
    "| ~~TmZnOffset~~ | Timezone offset |*1|\n",
    "| ExpectedNormal | Expected number of units of normal bolus|Unclear|\n",
    "| Extended | Number of units for extended delivery | We found that there are 0.4% extended boluses, probably triggered from the pump directly since Loop does not support these.|\n",
    "| ExpectedExtended | Expected number of units for extended delivery|\n",
    "| Duration | Time span over which the bolus was delivered (milliseconds for Tidepool data, minutes for Diasend data) | Our analysis shows that Duration refers to the Extended part of a Bolus. However, unclear how to find out wether in ms or minutes. JAEB couldn't answer.|\n",
    "| ExpectedDuration | Expected time span over which the bolus should have been delivered (milliseconds for Tidepool data, minutes for Diasend data) |\n",
    "\n",
    "We asked JAEB:\n",
    "\n",
    "**Suppressed Deliveries:** What are suppressed deliveries in the context of basal data?    \n",
    "> Answer: **We do not know** what the suppressed deliveries represent in this context, and we did not use this information for our analyses.  We calculated TDI using the Rate and Duration variables.  We suggest reaching out to Tidepool for information on suppressed deliveries.\n",
    "\n",
    "**Patient IDs Discrepancy:** Why are there more patient IDs in the CGM files than in the Basal and Bolus files?  \n",
    "> If available, CGM data from the participant’s personal CGM was collected for the 3 months prior to enrollment. A number of participants provided the retrospective personal CGM data but did not use Loop/provide us with their Loop data.\n",
    "\n",
    "**Time Zones:** The UTCDtTm field does not include timezone information and TmZnOffset is only available when DeviceDtTm exists, which is rare. Local time might need to be extrapolated using backward / forward filling or using PtTimezoneOffset of the patient roster, which may not be reliable over long periods. How can local times be obtained for all patients, given the limited availability of DeviceDtTm and the potential inaccuracy of PtTimezoneOffset? \n",
    ">When we did the analysis, we used participant zip codes to estimate a local time. However, the zip code is not available in the public dataset. Instead, the variable PTTimezoneOffset in the PtRoster dataset can be applied to all UTC times to obtain a local time. During daylight savings, the offset should be reduced by 1.  This won’t be a perfect measure of the local time but should be a close approximation.\n",
    "\n",
    "**Dexcom Times:** Are Dexcom DexInternalDtTm times in local time or UTC?  \n",
    "> We did not use this variable because it is missing for the majority of cases.  We believe that it was only available in downloads from personal CGMs but not available in the data uploaded by Tidepool.  It may be the local time but may need to reach out to Dexcom to confirm this.\n",
    "\n",
    "**Data Source Identification:** How can we determine if the data is uploaded from Tidepool or Diasend, especially since this affects the interpretation of extended boluses?  \n",
    "> In most cases (perhaps all), Tidepool uploads are indicated by the OriginName field being equal to ‘.com.apple.HealthKit’.  However, we suggest reaching out to Tidepool as there might be scenarios where Diasend was involved in the data chain.\n",
    "\n",
    " - [1]:DeviceDtTm and TmZnOffset are only available for a fraction of patients. Therefore, we rely on UTCDtTm and patient roster PtTimezoneOffset to obtain local time. \n",
    " - [2]: Loop has no extended boluses, check what this is\n",
    "\n",
    "### Todos:  \n",
    "Boluses:  \n",
    " - Need to check if the Normal portion is the actual delivered by comparing the values (<= in all cases would prove this to be true).\n",
    " - Check if there are extended boluses\n",
    " - Can we determine the delivery duration (ms or minutes) based on the data source?\n",
    "Basals:\n",
    " - Need to double check if the Suppressed values are already factored in and if standard basal rates are reported as well.\n",
    " - Check potential values for columns like basal type (value-counts)\n"
   ]
  },
  {
   "cell_type": "markdown",
   "id": "81d579f8",
   "metadata": {},
   "source": [
    "## Import"
   ]
  },
  {
   "cell_type": "code",
   "execution_count": 95,
   "id": "7f97f654",
   "metadata": {},
   "outputs": [],
   "source": [
    "import os, sys\n",
    "from datetime import datetime, timedelta, timezone\n",
    "import numpy as np\n",
    "import pandas as pd\n",
    "from dask import dataframe as dd\n",
    "\n",
    "%matplotlib inline\n",
    "import matplotlib.pyplot as plt\n",
    "\n",
    "sys.path.append(os.path.join(os.getcwd(),'..'))\n",
    "from src import cdf\n",
    "from src import postprocessing"
   ]
  },
  {
   "cell_type": "code",
   "execution_count": 96,
   "id": "fbf15fd5",
   "metadata": {},
   "outputs": [],
   "source": [
    "#define path variables\n",
    "study_name = 'Loop study public dataset 2023-01-31'\n",
    "raw_path = os.path.join(os.getcwd(), '..', 'data', 'raw')\n",
    "out_path = os.path.join(os.getcwd(), '..', 'data', 'out')\n",
    "loop_path = os.path.join(raw_path, study_name)\n",
    "df_patient= pd.read_csv(os.path.join(loop_path, 'Data Tables', 'PtRoster.txt'), sep='|')"
   ]
  },
  {
   "cell_type": "markdown",
   "id": "88a8962c",
   "metadata": {},
   "source": [
    "## Inspecting CGM Data\n",
    "We start by working with CGM data and understanding the datetimes. Since the data files are huge, we start with **LOOPDeviceCGM1.txt**, one of 6 CGM files, each of which are approximately 1 GB of size."
   ]
  },
  {
   "cell_type": "code",
   "execution_count": 94,
   "id": "9fe75cfd",
   "metadata": {},
   "outputs": [
    {
     "ename": "KeyboardInterrupt",
     "evalue": "",
     "output_type": "error",
     "traceback": [
      "\u001b[0;31m---------------------------------------------------------------------------\u001b[0m",
      "\u001b[0;31mKeyboardInterrupt\u001b[0m                         Traceback (most recent call last)",
      "Cell \u001b[0;32mIn[94], line 2\u001b[0m\n\u001b[1;32m      1\u001b[0m \u001b[38;5;66;03m#inspect LOOPDeviceCGM1.txt, one of 6 CGM files.\u001b[39;00m\n\u001b[0;32m----> 2\u001b[0m df_cgm \u001b[38;5;241m=\u001b[39m \u001b[43mpd\u001b[49m\u001b[38;5;241;43m.\u001b[39;49m\u001b[43mread_csv\u001b[49m\u001b[43m(\u001b[49m\u001b[43mos\u001b[49m\u001b[38;5;241;43m.\u001b[39;49m\u001b[43mpath\u001b[49m\u001b[38;5;241;43m.\u001b[39;49m\u001b[43mjoin\u001b[49m\u001b[43m(\u001b[49m\u001b[43mloop_path\u001b[49m\u001b[43m,\u001b[49m\u001b[43m \u001b[49m\u001b[38;5;124;43m'\u001b[39;49m\u001b[38;5;124;43mData Tables\u001b[39;49m\u001b[38;5;124;43m'\u001b[39;49m\u001b[43m,\u001b[49m\u001b[43m \u001b[49m\u001b[38;5;124;43m'\u001b[39;49m\u001b[38;5;124;43mLOOPDeviceCGM1.txt\u001b[39;49m\u001b[38;5;124;43m'\u001b[39;49m\u001b[43m)\u001b[49m\u001b[43m,\u001b[49m\u001b[43m \u001b[49m\u001b[43msep\u001b[49m\u001b[38;5;241;43m=\u001b[39;49m\u001b[38;5;124;43m'\u001b[39;49m\u001b[38;5;124;43m|\u001b[39;49m\u001b[38;5;124;43m'\u001b[39;49m\u001b[43m,\u001b[49m\n\u001b[1;32m      3\u001b[0m \u001b[43m                     \u001b[49m\u001b[43musecols\u001b[49m\u001b[38;5;241;43m=\u001b[39;49m\u001b[43m[\u001b[49m\u001b[38;5;124;43m'\u001b[39;49m\u001b[38;5;124;43mPtID\u001b[39;49m\u001b[38;5;124;43m'\u001b[39;49m\u001b[43m,\u001b[49m\u001b[43m \u001b[49m\u001b[38;5;124;43m'\u001b[39;49m\u001b[38;5;124;43mDeviceDtTm\u001b[39;49m\u001b[38;5;124;43m'\u001b[39;49m\u001b[43m,\u001b[49m\u001b[43m \u001b[49m\u001b[38;5;124;43m'\u001b[39;49m\u001b[38;5;124;43mTmZnOffset\u001b[39;49m\u001b[38;5;124;43m'\u001b[39;49m\u001b[43m,\u001b[49m\u001b[43m \u001b[49m\u001b[38;5;124;43m'\u001b[39;49m\u001b[38;5;124;43mUTCDtTm\u001b[39;49m\u001b[38;5;124;43m'\u001b[39;49m\u001b[43m,\u001b[49m\u001b[43m \u001b[49m\u001b[38;5;124;43m'\u001b[39;49m\u001b[38;5;124;43mRecordType\u001b[39;49m\u001b[38;5;124;43m'\u001b[39;49m\u001b[43m,\u001b[49m\u001b[43m \u001b[49m\u001b[38;5;124;43m'\u001b[39;49m\u001b[38;5;124;43mCGMVal\u001b[39;49m\u001b[38;5;124;43m'\u001b[39;49m\u001b[43m,\u001b[49m\u001b[43m \u001b[49m\u001b[38;5;124;43m'\u001b[39;49m\u001b[38;5;124;43mUnits\u001b[39;49m\u001b[38;5;124;43m'\u001b[39;49m\u001b[43m]\u001b[49m\u001b[43m)\u001b[49m\n\u001b[1;32m      5\u001b[0m display(df_patient\u001b[38;5;241m.\u001b[39mhead(\u001b[38;5;241m3\u001b[39m))\n\u001b[1;32m      6\u001b[0m display(df_patient\u001b[38;5;241m.\u001b[39mPtTimezoneOffset\u001b[38;5;241m.\u001b[39mvalue_counts())\n",
      "File \u001b[0;32m~/.pyenv/versions/3.9.6/envs/nudgebg/lib/python3.9/site-packages/pandas/io/parsers/readers.py:1026\u001b[0m, in \u001b[0;36mread_csv\u001b[0;34m(filepath_or_buffer, sep, delimiter, header, names, index_col, usecols, dtype, engine, converters, true_values, false_values, skipinitialspace, skiprows, skipfooter, nrows, na_values, keep_default_na, na_filter, verbose, skip_blank_lines, parse_dates, infer_datetime_format, keep_date_col, date_parser, date_format, dayfirst, cache_dates, iterator, chunksize, compression, thousands, decimal, lineterminator, quotechar, quoting, doublequote, escapechar, comment, encoding, encoding_errors, dialect, on_bad_lines, delim_whitespace, low_memory, memory_map, float_precision, storage_options, dtype_backend)\u001b[0m\n\u001b[1;32m   1013\u001b[0m kwds_defaults \u001b[38;5;241m=\u001b[39m _refine_defaults_read(\n\u001b[1;32m   1014\u001b[0m     dialect,\n\u001b[1;32m   1015\u001b[0m     delimiter,\n\u001b[0;32m   (...)\u001b[0m\n\u001b[1;32m   1022\u001b[0m     dtype_backend\u001b[38;5;241m=\u001b[39mdtype_backend,\n\u001b[1;32m   1023\u001b[0m )\n\u001b[1;32m   1024\u001b[0m kwds\u001b[38;5;241m.\u001b[39mupdate(kwds_defaults)\n\u001b[0;32m-> 1026\u001b[0m \u001b[38;5;28;01mreturn\u001b[39;00m \u001b[43m_read\u001b[49m\u001b[43m(\u001b[49m\u001b[43mfilepath_or_buffer\u001b[49m\u001b[43m,\u001b[49m\u001b[43m \u001b[49m\u001b[43mkwds\u001b[49m\u001b[43m)\u001b[49m\n",
      "File \u001b[0;32m~/.pyenv/versions/3.9.6/envs/nudgebg/lib/python3.9/site-packages/pandas/io/parsers/readers.py:626\u001b[0m, in \u001b[0;36m_read\u001b[0;34m(filepath_or_buffer, kwds)\u001b[0m\n\u001b[1;32m    623\u001b[0m     \u001b[38;5;28;01mreturn\u001b[39;00m parser\n\u001b[1;32m    625\u001b[0m \u001b[38;5;28;01mwith\u001b[39;00m parser:\n\u001b[0;32m--> 626\u001b[0m     \u001b[38;5;28;01mreturn\u001b[39;00m \u001b[43mparser\u001b[49m\u001b[38;5;241;43m.\u001b[39;49m\u001b[43mread\u001b[49m\u001b[43m(\u001b[49m\u001b[43mnrows\u001b[49m\u001b[43m)\u001b[49m\n",
      "File \u001b[0;32m~/.pyenv/versions/3.9.6/envs/nudgebg/lib/python3.9/site-packages/pandas/io/parsers/readers.py:1923\u001b[0m, in \u001b[0;36mTextFileReader.read\u001b[0;34m(self, nrows)\u001b[0m\n\u001b[1;32m   1916\u001b[0m nrows \u001b[38;5;241m=\u001b[39m validate_integer(\u001b[38;5;124m\"\u001b[39m\u001b[38;5;124mnrows\u001b[39m\u001b[38;5;124m\"\u001b[39m, nrows)\n\u001b[1;32m   1917\u001b[0m \u001b[38;5;28;01mtry\u001b[39;00m:\n\u001b[1;32m   1918\u001b[0m     \u001b[38;5;66;03m# error: \"ParserBase\" has no attribute \"read\"\u001b[39;00m\n\u001b[1;32m   1919\u001b[0m     (\n\u001b[1;32m   1920\u001b[0m         index,\n\u001b[1;32m   1921\u001b[0m         columns,\n\u001b[1;32m   1922\u001b[0m         col_dict,\n\u001b[0;32m-> 1923\u001b[0m     ) \u001b[38;5;241m=\u001b[39m \u001b[38;5;28;43mself\u001b[39;49m\u001b[38;5;241;43m.\u001b[39;49m\u001b[43m_engine\u001b[49m\u001b[38;5;241;43m.\u001b[39;49m\u001b[43mread\u001b[49m\u001b[43m(\u001b[49m\u001b[43m  \u001b[49m\u001b[38;5;66;43;03m# type: ignore[attr-defined]\u001b[39;49;00m\n\u001b[1;32m   1924\u001b[0m \u001b[43m        \u001b[49m\u001b[43mnrows\u001b[49m\n\u001b[1;32m   1925\u001b[0m \u001b[43m    \u001b[49m\u001b[43m)\u001b[49m\n\u001b[1;32m   1926\u001b[0m \u001b[38;5;28;01mexcept\u001b[39;00m \u001b[38;5;167;01mException\u001b[39;00m:\n\u001b[1;32m   1927\u001b[0m     \u001b[38;5;28mself\u001b[39m\u001b[38;5;241m.\u001b[39mclose()\n",
      "File \u001b[0;32m~/.pyenv/versions/3.9.6/envs/nudgebg/lib/python3.9/site-packages/pandas/io/parsers/c_parser_wrapper.py:234\u001b[0m, in \u001b[0;36mCParserWrapper.read\u001b[0;34m(self, nrows)\u001b[0m\n\u001b[1;32m    232\u001b[0m \u001b[38;5;28;01mtry\u001b[39;00m:\n\u001b[1;32m    233\u001b[0m     \u001b[38;5;28;01mif\u001b[39;00m \u001b[38;5;28mself\u001b[39m\u001b[38;5;241m.\u001b[39mlow_memory:\n\u001b[0;32m--> 234\u001b[0m         chunks \u001b[38;5;241m=\u001b[39m \u001b[38;5;28;43mself\u001b[39;49m\u001b[38;5;241;43m.\u001b[39;49m\u001b[43m_reader\u001b[49m\u001b[38;5;241;43m.\u001b[39;49m\u001b[43mread_low_memory\u001b[49m\u001b[43m(\u001b[49m\u001b[43mnrows\u001b[49m\u001b[43m)\u001b[49m\n\u001b[1;32m    235\u001b[0m         \u001b[38;5;66;03m# destructive to chunks\u001b[39;00m\n\u001b[1;32m    236\u001b[0m         data \u001b[38;5;241m=\u001b[39m _concatenate_chunks(chunks)\n",
      "File \u001b[0;32mparsers.pyx:838\u001b[0m, in \u001b[0;36mpandas._libs.parsers.TextReader.read_low_memory\u001b[0;34m()\u001b[0m\n",
      "File \u001b[0;32mparsers.pyx:921\u001b[0m, in \u001b[0;36mpandas._libs.parsers.TextReader._read_rows\u001b[0;34m()\u001b[0m\n",
      "File \u001b[0;32mparsers.pyx:1083\u001b[0m, in \u001b[0;36mpandas._libs.parsers.TextReader._convert_column_data\u001b[0;34m()\u001b[0m\n",
      "File \u001b[0;32mparsers.pyx:1456\u001b[0m, in \u001b[0;36mpandas._libs.parsers._maybe_upcast\u001b[0;34m()\u001b[0m\n",
      "File \u001b[0;32m~/.pyenv/versions/3.9.6/envs/nudgebg/lib/python3.9/site-packages/numpy/core/multiarray.py:1131\u001b[0m, in \u001b[0;36mputmask\u001b[0;34m(a, mask, values)\u001b[0m\n\u001b[1;32m   1082\u001b[0m \u001b[38;5;250m    \u001b[39m\u001b[38;5;124;03m\"\"\"\u001b[39;00m\n\u001b[1;32m   1083\u001b[0m \u001b[38;5;124;03m    copyto(dst, src, casting='same_kind', where=True)\u001b[39;00m\n\u001b[1;32m   1084\u001b[0m \n\u001b[0;32m   (...)\u001b[0m\n\u001b[1;32m   1126\u001b[0m \n\u001b[1;32m   1127\u001b[0m \u001b[38;5;124;03m    \"\"\"\u001b[39;00m\n\u001b[1;32m   1128\u001b[0m     \u001b[38;5;28;01mreturn\u001b[39;00m (dst, src, where)\n\u001b[0;32m-> 1131\u001b[0m \u001b[38;5;129m@array_function_from_c_func_and_dispatcher\u001b[39m(_multiarray_umath\u001b[38;5;241m.\u001b[39mputmask)\n\u001b[1;32m   1132\u001b[0m \u001b[38;5;28;01mdef\u001b[39;00m \u001b[38;5;21mputmask\u001b[39m(a, \u001b[38;5;241m/\u001b[39m, mask, values):\n\u001b[1;32m   1133\u001b[0m \u001b[38;5;250m    \u001b[39m\u001b[38;5;124;03m\"\"\"\u001b[39;00m\n\u001b[1;32m   1134\u001b[0m \u001b[38;5;124;03m    putmask(a, mask, values)\u001b[39;00m\n\u001b[1;32m   1135\u001b[0m \n\u001b[0;32m   (...)\u001b[0m\n\u001b[1;32m   1171\u001b[0m \n\u001b[1;32m   1172\u001b[0m \u001b[38;5;124;03m    \"\"\"\u001b[39;00m\n\u001b[1;32m   1173\u001b[0m     \u001b[38;5;28;01mreturn\u001b[39;00m (a, mask, values)\n",
      "\u001b[0;31mKeyboardInterrupt\u001b[0m: "
     ]
    }
   ],
   "source": [
    "#inspect LOOPDeviceCGM1.txt, one of 6 CGM files.\n",
    "df_cgm = pd.read_csv(os.path.join(loop_path, 'Data Tables', 'LOOPDeviceCGM1.txt'), sep='|',\n",
    "                     usecols=['PtID', 'DeviceDtTm', 'TmZnOffset', 'UTCDtTm', 'RecordType', 'CGMVal', 'Units'])\n",
    "\n",
    "display(df_patient.head(3))\n",
    "display(df_patient.PtTimezoneOffset.value_counts())\n",
    "\n",
    "memory_usage = df_cgm.memory_usage().sum() / 1024**2\n",
    "print(f\"Memory usage: {memory_usage:.2f} MB (before optimization)\")\n",
    "\n",
    "#optimize data by storage size\n",
    "df_cgm['UTCDtTm'] = pd.to_datetime(df_cgm.UTCDtTm, format='%Y-%m-%d %H:%M:%S')\n",
    "df_cgm['DeviceDtTm'] = pd.to_datetime(df_cgm.DeviceDtTm, format='%Y-%m-%d %H:%M:%S')\n",
    "df_cgm['TmZnOffset'] = pd.to_timedelta(df_cgm.TmZnOffset, unit='minute')\n",
    "\n",
    "df_cgm = df_cgm.loc[df_cgm.RecordType == 'CGM'].drop(columns=['RecordType'])\n",
    "df_cgm = df_cgm.drop(columns=['Units'])\n",
    "\n",
    "memory_usage = df_cgm.memory_usage().sum() / 1024**2\n",
    "print(f\"Memory usage: {memory_usage:.2f} MB (after optimization)\")\n",
    "\n",
    "def count_na(series):\n",
    "    return series.isna().sum()\n",
    "display(df_cgm.agg(['count', count_na, 'nunique']).T)"
   ]
  },
  {
   "cell_type": "markdown",
   "id": "a899bee4",
   "metadata": {},
   "source": [
    "Observations:  \n",
    " - **Memory usage:** 1GB for a single CGM file is too much. The patient data is spread accross various files which requires out of memory approaches.\n",
    " - **Datetimes:** DeviceDtTm and TmznOffset are mostly NaN, as discussed with JAEB, these are the only cases where we have true (int the sense of device reported) information about local datetime and the actual time zone offset.\n",
    "\n",
    " Let's dive deeper into the Datetimes..."
   ]
  },
  {
   "cell_type": "markdown",
   "id": "aeddab9e",
   "metadata": {},
   "source": [
    "### Understanding Datetimes\n",
    "Are these local times? This is what the glossary says:\n",
    " - `DeviceDtTm`: Local device date and time; note not present in most rows because unavailable in Tidepool data source\n",
    " - `UTCDtTm`: Device date and time adjusted with timezone offset\n",
    " -`DexInternalDtTm` Dexcom Internal date and time\n",
    " -`TmZnOffset`: Timezone offset\n",
    "\n",
    "It is unclear how to obtain local times and which data to trust. \n",
    "\n",
    "We therefore asked JAEB: The `UTCDtTm` field does not include timezone information and `TmZnOffset` is only available when DeviceDtTm exists, which is rare. Local time might need to be extrapolated using backward / forward filling or using PtTimezoneOffset of the patient roster, which may not be reliable over long periods. How can local times be obtained for all patients, given the limited availability of `DeviceDtTm` and the potential inaccuracy of `PtTimezoneOffset` \n",
    "> **Answer**: When we did the analysis, we used participant zip codes to estimate a local time. However, the zip code is not available in the public dataset. Instead, the variable PTTimezoneOffset in the PtRoster dataset can be applied to all UTC times to obtain a local time. During daylight savings, the offset should be reduced by 1.  This won’t be a perfect measure of the local time but should be a close approximation.\n",
    "\n",
    "\n",
    "To confirm which one is which, let's plot the distribution of CGM values over the course of a day using a sample of 10.000 values. (We checked and all datetimes have a length 0f 19 characters, following this format `2018-06-06 03:52:32`)"
   ]
  },
  {
   "cell_type": "code",
   "execution_count": null,
   "id": "a41a0be2",
   "metadata": {},
   "outputs": [
    {
     "data": {
      "image/png": "[encoded data removed]",
      "text/plain": [
       "<Figure size 1000x300 with 2 Axes>"
      ]
     },
     "metadata": {},
     "output_type": "display_data"
    }
   ],
   "source": [
    "#ploting a single patient's CGM data\n",
    "pt_grps = df_cgm.groupby('PtID', observed=False)\n",
    "subframe = pt_grps.get_group(1173).copy()\n",
    "subframe['AdjustedDtTm'] = subframe.UTCDtTm + pd.to_timedelta(subframe.TmZnOffset, unit='minute')\n",
    "\n",
    "temp = subframe.dropna(subset=['DeviceDtTm']).sort_values(['DeviceDtTm'])\n",
    "\n",
    "fig, ax = plt.subplots(figsize=(10, 3)); twinx = ax.twinx()\n",
    "offset=4.5\n",
    "\n",
    "ax.scatter(temp.DeviceDtTm, temp.CGMVal, label='DeviceDtTm', marker='o',alpha=1, color='darkgray')\n",
    "ax.scatter(temp.AdjustedDtTm, temp.CGMVal, label='UTCDtTm + TmZnOffset', marker='x', alpha=0.5,color='blue')\n",
    "\n",
    "temp = subframe.dropna(subset=['UTCDtTm']).sort_values(['UTCDtTm'])\n",
    "ax.scatter(temp.UTCDtTm, temp.CGMVal, label='UTCDtTm', marker='.',alpha=0.5,color='red')\n",
    "twinx.plot(temp.UTCDtTm, temp.TmZnOffset, label='TmZnOffset')\n",
    "\n",
    "ax.set_xlim(temp.UTCDtTm.min()+timedelta(days=offset), temp.UTCDtTm.min()+timedelta(days=offset+1))\n",
    "twinx.set_ylim(-1000, 1000); ax.legend(); plt.tight_layout()\n",
    "plt.show()\n",
    "del subframe, temp"
   ]
  },
  {
   "cell_type": "code",
   "execution_count": null,
   "id": "ba0781ca",
   "metadata": {},
   "outputs": [
    {
     "data": {
      "image/png": "[encoded data removed]",
      "text/plain": [
       "<Figure size 800x200 with 1 Axes>"
      ]
     },
     "metadata": {},
     "output_type": "display_data"
    }
   ],
   "source": [
    "# plot the difference between UTCDtTm + TmZnOffset and DeviceDtTm\n",
    "temp = df_cgm.sample(10000).dropna(subset=['UTCDtTm','DeviceDtTm','TmZnOffset'],how='any').copy()\n",
    "temp['UTCDtTm'] = pd.to_datetime(temp.UTCDtTm)\n",
    "temp['DeviceDtTm'] = pd.to_datetime(temp.DeviceDtTm)\n",
    "\n",
    "temp.loc[:,'Diff'] = (temp.DeviceDtTm - (temp.UTCDtTm + pd.to_timedelta(temp.TmZnOffset, unit='minute'))).dt.total_seconds()/3600\n",
    "\n",
    "plt.figure(figsize=(8, 2)); ax = plt.gca()\n",
    "cdf.plot_cdf(temp.Diff.abs(), xlabel='Difference between UTCDtTm + TmZnOffset and DeviceDtTm (hours)', ax=ax)"
   ]
  },
  {
   "cell_type": "markdown",
   "id": "008ae5d4",
   "metadata": {},
   "source": [
    "We see that By adjusting UTCDtTm with the offset we obtain DeviceDtTm\n",
    "\n",
    "```DeviceDtTm = UTCDtTm + TmZnOffset```\n",
    "\n",
    "This indicates that DeviceDtTm is local and UTCDtTm is in fact UTC and not time zone compensated as stated in the glossary. However, we can not rely on DeviceDtTm and TmZnOffset because it only exists for a fraction of the data. Therefore we need to rely on  UTCDtTm and convert it to local time (and we need to infer or extrapolate the TmZnOffset).\n",
    "\n",
    "Before we do this we need to **confirm, once and for all if UTCDtTm column are really utc** because the glossary is raising some doubts. We do this by **plotting the distributions** of cgm values for both and compare. We do this using mean and std of rolling hour of day (centered). When we see clearly pronounced postprandial morning, lunch and dinner spikes, we know they are local.\n",
    "\n",
    "(Note: We see that some differences are not equal to zero. In these cases, the time shift is a fraction of hours. We don't know why that is.)"
   ]
  },
  {
   "cell_type": "code",
   "execution_count": null,
   "id": "92dd6bbc",
   "metadata": {},
   "outputs": [
    {
     "data": {
      "image/png": "[encoded data removed]",
      "text/plain": [
       "<Figure size 1000x200 with 1 Axes>"
      ]
     },
     "metadata": {},
     "output_type": "display_data"
    }
   ],
   "source": [
    "#plot daytime average CGM values\n",
    "\n",
    "#reduce data to those with values in both timestamp columns\n",
    "temp = df_cgm.sample(100000).dropna(subset=['UTCDtTm','DeviceDtTm','TmZnOffset'],how='any').copy()\n",
    "temp['DeviceDtTm'] = pd.to_datetime(temp.DeviceDtTm)\n",
    "temp['UTCDtTm'] = pd.to_datetime(temp.UTCDtTm)\n",
    "temp['datetime'] = pd.to_datetime(temp.UTCDtTm) + pd.to_timedelta(temp.TmZnOffset, unit='minute')\n",
    "\n",
    "#calculate the hour of day for each timestamp\n",
    "temp['DeviceDtTm_hod'] = temp.DeviceDtTm.dt.hour+temp.DeviceDtTm.dt.minute/60+temp.DeviceDtTm.dt.second/3600\n",
    "temp['UTCDtTm_hod'] = temp.UTCDtTm.dt.hour+temp.UTCDtTm.dt.minute/60+temp.UTCDtTm.dt.second/3600\n",
    "temp['datetime_hod'] = temp.datetime.dt.hour+temp.datetime.dt.minute/60+temp.datetime.dt.second/3600\n",
    "\n",
    "#calcualte centered moving average\n",
    "window = 2000\n",
    "ma_DeviceDtTm  = temp[['CGMVal','DeviceDtTm_hod']].sort_values('DeviceDtTm_hod').rolling(window=window, min_periods=window, on='DeviceDtTm_hod', center=True).mean().sample(1000)\n",
    "ma_UTCDtTm  = temp[['CGMVal','UTCDtTm_hod']].sort_values('UTCDtTm_hod').rolling(window=window, min_periods=window, on='UTCDtTm_hod', center=True).mean().sample(1000)\n",
    "ma_datetime  = temp[['CGMVal','datetime_hod']].sort_values('datetime_hod').rolling(window=window, min_periods=window, on='datetime_hod', center=True).mean().sample(1000)\n",
    "\n",
    "#draw\n",
    "plt.figure(figsize=(10,2)); \n",
    "plt.scatter(ma_DeviceDtTm.DeviceDtTm_hod, ma_DeviceDtTm.CGMVal, label='DeviceDtTm', color='darkgray', marker='o',s=20)\n",
    "plt.scatter(ma_UTCDtTm.UTCDtTm_hod, ma_UTCDtTm.CGMVal, label='UTCDtTm', color='blue', marker='x',s=2)\n",
    "plt.scatter(ma_datetime.datetime_hod, ma_datetime.CGMVal, label='UTCDtTm + TmZnOffset', color='red', marker='.',s=2)\n",
    "\n",
    "plt.plot([10,15],[7.6,7.6], color='black', linestyle='--', marker='<')\n",
    "plt.plot([15],[7.6], color='black', marker='o')\n",
    "plt.legend(); plt.tight_layout()\n"
   ]
  },
  {
   "cell_type": "markdown",
   "id": "67158fb3",
   "metadata": {},
   "source": [
    "From this we can clearly see \n",
    "1. DeviceDtTm and the offset compensated utc aligns with expected diurnal, postprandial patterns (pronounced peak in the morning, noon and evening). \n",
    "2. Using UTC alone (blue), the peaks are less pronounced and roughly offset by 5 hours (black arrow) (At UTC 15:00 we see the morning peak, which really is at around 10:00 (-5h). This is in line with the fact that the majority of time zone offsets is around -300 minutes (-5hours). Note that just compensating UTC by 5 hours does not give the same pronounced peaks, since there are users with other offsets, the peaks are washed out.\n",
    "\n",
    "Note: The glossary description is misleading.\n",
    "> UTCDtTm : Device date and time (with timezone offset)  "
   ]
  },
  {
   "cell_type": "markdown",
   "id": "4e2ab885",
   "metadata": {},
   "source": [
    "### Which Offset to use?\n",
    "\n",
    "One option would be to extrapolate the `TmZnOffset` (bfill/ffill)? To check if this is a viable option we check how many patients have TmZnOffset data.  We do this by checking the fraction of patients with at least one TmZnOffset value. "
   ]
  },
  {
   "cell_type": "code",
   "execution_count": null,
   "id": "a230efbe",
   "metadata": {},
   "outputs": [
    {
     "name": "stdout",
     "output_type": "stream",
     "text": [
      "37.18% of patients have at least one timezone offset\n"
     ]
    },
    {
     "data": {
      "text/plain": [
       "Text(0.5, 1.0, 'Availability of timezone offsets for patients with at least one')"
      ]
     },
     "execution_count": 13,
     "metadata": {},
     "output_type": "execute_result"
    },
    {
     "data": {
      "image/png": "[encoded data removed]",
      "text/plain": [
       "<Figure size 800x200 with 1 Axes>"
      ]
     },
     "metadata": {},
     "output_type": "display_data"
    }
   ],
   "source": [
    "#check fraction of patients with at least one timezone offset\n",
    "frac = (df_cgm.groupby('PtID').TmZnOffset.count()>1).sum()/df_cgm.PtID.nunique()\n",
    "print(f'{frac:.2%} of patients have at least one timezone offset')\n",
    "\n",
    "#check fraction of non NaN offsets for patients with at least one\n",
    "pts_with_data = df_cgm.dropna(subset=['TmZnOffset'] ).PtID.unique()\n",
    "temp = df_cgm.loc[df_cgm.PtID.isin(pts_with_data)]\n",
    "temp = temp.groupby('PtID').TmZnOffset.agg(lambda x: x.notna().mean())\n",
    "\n",
    "plt.figure(figsize=(8,2)); ax = plt.gca()\n",
    "cdf.plot_cdf(temp,ax=ax)\n",
    "plt.title('Availability of timezone offsets for patients with at least one')"
   ]
  },
  {
   "cell_type": "markdown",
   "id": "2eb715d4",
   "metadata": {},
   "source": [
    "This is clearly not enough. "
   ]
  },
  {
   "cell_type": "markdown",
   "id": "90519ed7",
   "metadata": {},
   "source": [
    "#### Understand how often time zones change\n",
    "Instead, (as JAEB mentioned) we could use the `PtTimezoneOffset` (utc offset in hours) from the patient roster. To understand if using this *static* value is acceptable, we need to understand  how often the actual timezone changes."
   ]
  },
  {
   "cell_type": "code",
   "execution_count": null,
   "id": "abeff71c",
   "metadata": {},
   "outputs": [
    {
     "data": {
      "image/png": "[encoded data removed]",
      "text/plain": [
       "<Figure size 800x200 with 1 Axes>"
      ]
     },
     "metadata": {},
     "output_type": "display_data"
    },
    {
     "name": "stdout",
     "output_type": "stream",
     "text": [
      "65.3% of patients have 2 unique time zones or less\n"
     ]
    },
    {
     "data": {
      "image/png": "[encoded data removed]",
      "text/plain": [
       "<Figure size 800x200 with 1 Axes>"
      ]
     },
     "metadata": {},
     "output_type": "display_data"
    },
    {
     "name": "stdout",
     "output_type": "stream",
     "text": [
      "63.0% of patients have shifts of 1 hours or less\n"
     ]
    },
    {
     "data": {
      "image/png": "[encoded data removed]",
      "text/plain": [
       "<Figure size 800x200 with 1 Axes>"
      ]
     },
     "metadata": {},
     "output_type": "display_data"
    }
   ],
   "source": [
    "#report time zone offsets and changes within patients\n",
    "def timedetla_formatter(td):\n",
    "    return f\"{td.seconds // 3600 + td.days * 24:02d}:{(td.seconds % 3600) // 60:02d}\"\n",
    "\n",
    "#number of time zones per patient\n",
    "number_time_zones = df_cgm.dropna(subset=['TmZnOffset']).groupby('PtID', observed=False).TmZnOffset.nunique()\n",
    "number_time_zones = number_time_zones.value_counts().sort_index()\n",
    "\n",
    "plt.figure(figsize=(8, 2)); ax=plt.gca()\n",
    "number_time_zones.plot(kind='bar', ax=ax)\n",
    "plt.xlabel('Number of Unique Time Zones')\n",
    "plt.ylabel('Count')\n",
    "plt.title('Distribution of Unique Time Zones per Patient')\n",
    "plt.tight_layout(); plt.show()\n",
    "\n",
    "print(f'{100*number_time_zones.loc[0:2].sum()/number_time_zones.sum():2.1f}% of patients have 2 unique time zones or less')\n",
    "\n",
    "\n",
    "#max difference within a patient\n",
    "tzdiff_within = df_cgm.dropna(subset=['TmZnOffset']).groupby('PtID', observed=False).TmZnOffset.agg(lambda x: x.max()-x.min())\n",
    "tzdiff_within = tzdiff_within.value_counts().sort_index()\n",
    "\n",
    "plt.figure(figsize=(8, 2)); ax=plt.gca()\n",
    "tzdiff_within.plot(kind='bar', ax=ax)\n",
    "tick_labels = [timedetla_formatter(x) for x in tzdiff_within.index]\n",
    "ax.set_xticklabels(tick_labels, rotation=45,fontsize='small')\n",
    "plt.xlabel('Max Time Zone Difference');plt.ylabel('Count')\n",
    "plt.title('Max Time Zone Difference Within Each Patient')\n",
    "plt.tight_layout();plt.show()\n",
    "\n",
    "print(f'{100*tzdiff_within[tzdiff_within.index<=timedelta(hours=1)].sum()/tzdiff_within.sum():2.1f}% of patients have shifts of 1 hours or less')\n",
    "\n",
    "\n",
    "#Which time zones exist?\n",
    "all_time_zones = df_cgm.dropna(subset=['TmZnOffset']).groupby('PtID', observed=False).TmZnOffset.unique().explode()\n",
    "plt.figure(figsize=(8, 2)); ax=plt.gca()\n",
    "all_time_zones= all_time_zones.value_counts().sort_index()\n",
    "all_time_zones.plot(kind='bar', logy=True, ax=ax)\n",
    "tick_labels = [timedetla_formatter(x) for x in all_time_zones.index]\n",
    "ax.set_xticklabels(tick_labels, rotation=45,fontsize='small')\n",
    "\n",
    "plt.xticks(rotation=45, fontsize='small')\n",
    "plt.xlabel('Time Zone Offset'); plt.ylabel('Count'); plt.title('Distribution of Time Zone Offsets')\n",
    "plt.tight_layout();plt.show()"
   ]
  },
  {
   "cell_type": "markdown",
   "id": "a299b3a6",
   "metadata": {},
   "source": [
    "We see that \n",
    " - Majority of most patients experience more than 1 time zones.\n",
    " - The majority is a change of 1 hour. Likely the result of daylight saving times. \n",
    "- But, a significant fraction experiences changes of 2,3 or 4 hours or more. This is nothing, that we could account for. While we can remove patients with more frequent changes in `TmZnOffset`, almost 2/3 of the patients have no data in that column. \n",
    "\n",
    "However, these time zone changes are likely infrequent as most patients will travel for short periods only. Let's estimate the expected error."
   ]
  },
  {
   "cell_type": "markdown",
   "id": "8b1ef423",
   "metadata": {},
   "source": [
    "#### Estimate static time zone error\n",
    "\n",
    "To estimate the error, we compare the static offsets from the patient roster with the device reported offsets for those user that have it."
   ]
  },
  {
   "cell_type": "code",
   "execution_count": null,
   "id": "94806742",
   "metadata": {},
   "outputs": [],
   "source": [
    "## obtaining local times from utc and patient roster offsets\n",
    "\n",
    "# joining tables\n",
    "df_patient['PtTimezoneOffset'] = pd.to_timedelta(df_patient.PtTimezoneOffset, unit='hour')\n",
    "df_cgm = df_cgm.join(df_patient[['PtID','PtTimezoneOffset']].set_index('PtID'), on='PtID', how='left')\n",
    "\n",
    "# converting to localized datetime\n",
    "#method 1: getting localized datetimes (much slower)\n",
    "#df_cgm['datetime'] = pd.to_datetime(df_cgm.UTCDtTm, utc=True)\n",
    "#df_cgm['datetime'] = df_cgm.apply(lambda x: x.datetime.tz_convert(timezone(offset=x.PtTimezoneOffset)), axis=1)\n",
    "\n",
    "#method 2: or as naive datetime (simply adding the offset)\n",
    "df_cgm['datetime']= df_cgm.UTCDtTm+ df_cgm.TmZnOffset\n",
    "#display(df_cgm.dropna(subset=['TmZnOffset']).sample(3))"
   ]
  },
  {
   "cell_type": "code",
   "execution_count": null,
   "id": "684d17b2",
   "metadata": {},
   "outputs": [
    {
     "name": "stdout",
     "output_type": "stream",
     "text": [
      "5.3% of time zone differences are >2 hours\n"
     ]
    },
    {
     "data": {
      "text/plain": [
       "<=0       39.958037\n",
       "<=1       94.671925\n",
       "<=2       96.943519\n",
       "<=3       98.296482\n",
       "<=4       99.120356\n",
       "<=inf    100.000000\n",
       "Name: Cumulative Percentage, dtype: float64"
      ]
     },
     "metadata": {},
     "output_type": "display_data"
    },
    {
     "data": {
      "image/png": "[encoded data removed]",
      "text/plain": [
       "<Figure size 800x200 with 1 Axes>"
      ]
     },
     "metadata": {},
     "output_type": "display_data"
    }
   ],
   "source": [
    "#plotting the difference between CGM TmZnOffset and PtTimezoneOffset\n",
    "\n",
    "diff = df_cgm.TmZnOffset - df_cgm.PtTimezoneOffset\n",
    "diff = abs(diff.dropna().dt.total_seconds()/3600)\n",
    "\n",
    "plt.figure(figsize=(8, 2)); ax = plt.gca()\n",
    "cdf.plot_cdf(diff,ax=ax); plt.xlabel('Difference (hours)');\n",
    "plt.title('Abs Difference between TmZnOffset and PtTimezoneOffset');\n",
    "plt.xticks([0,1,2,4,8,12,16]); #plt.tight_layout(); plt.show()\n",
    "\n",
    "#get cumulative stats\n",
    "print(f'{(diff>=2).mean():.1%} of time zone differences are >2 hours')\n",
    "error_counts = diff.value_counts(bins=[-1, 0, 1, 2, 3, 4, float('inf')], sort=False)\n",
    "error_percentages = (error_counts / error_counts.sum()) * 100\n",
    "error_percentages.name = 'Percentage'\n",
    "cumsum_report = error_percentages.cumsum()\n",
    "cumsum_report.name = 'Cumulative Percentage'\n",
    "cumsum_report.index = [f'<={x.right:.0f}' for x in error_counts.index]\n",
    "display(cumsum_report)"
   ]
  },
  {
   "cell_type": "markdown",
   "id": "6c849452",
   "metadata": {},
   "source": [
    "#### Conclusion\n",
    "When using the static patient roster utc offset, the local time error will be <2 hours for >96% of the cases."
   ]
  },
  {
   "cell_type": "markdown",
   "id": "916b523d",
   "metadata": {},
   "source": [
    "## Managing File Sizes"
   ]
  },
  {
   "cell_type": "markdown",
   "id": "90fcb433",
   "metadata": {},
   "source": [
    "Processing patient data requires us to load all files into memory at once because the patient data is spread accross all CGM files. While we could use dask and load patient data iteratively, this would create a lot of overhead. Instead, we convert the data into a paquet format, splitting it by patient id. This allows us to process patients iteratively without requiring all data to be in memory making this a more preformant option overall."
   ]
  },
  {
   "cell_type": "code",
   "execution_count": 6,
   "id": "3a3ffcce",
   "metadata": {},
   "outputs": [],
   "source": [
    "from dask.distributed import Client\n",
    "client = Client()\n",
    "loop_paquet_path = os.path.join(raw_path, 'paquet', study_name) "
   ]
  },
  {
   "cell_type": "code",
   "execution_count": 13,
   "id": "cefd4ec8",
   "metadata": {},
   "outputs": [
    {
     "data": {
      "text/html": [
       "<div>\n",
       "    <div style=\"width: 24px; height: 24px; background-color: #e1e1e1; border: 3px solid #9D9D9D; border-radius: 5px; position: absolute;\"> </div>\n",
       "    <div style=\"margin-left: 48px;\">\n",
       "        <h3 style=\"margin-bottom: 0px;\">Client</h3>\n",
       "        <p style=\"color: #9D9D9D; margin-bottom: 0px;\">Client-263c22fa-b971-11ef-9896-ae6796a0642a</p>\n",
       "        <table style=\"width: 100%; text-align: left;\">\n",
       "\n",
       "        <tr>\n",
       "        \n",
       "            <td style=\"text-align: left;\"><strong>Connection method:</strong> Cluster object</td>\n",
       "            <td style=\"text-align: left;\"><strong>Cluster type:</strong> distributed.LocalCluster</td>\n",
       "        \n",
       "        </tr>\n",
       "\n",
       "        \n",
       "            <tr>\n",
       "                <td style=\"text-align: left;\">\n",
       "                    <strong>Dashboard: </strong> <a href=\"http://127.0.0.1:8787/status\" target=\"_blank\">http://127.0.0.1:8787/status</a>\n",
       "                </td>\n",
       "                <td style=\"text-align: left;\"></td>\n",
       "            </tr>\n",
       "        \n",
       "\n",
       "        </table>\n",
       "\n",
       "        \n",
       "\n",
       "        \n",
       "            <details>\n",
       "            <summary style=\"margin-bottom: 20px;\"><h3 style=\"display: inline;\">Cluster Info</h3></summary>\n",
       "            <div class=\"jp-RenderedHTMLCommon jp-RenderedHTML jp-mod-trusted jp-OutputArea-output\">\n",
       "    <div style=\"width: 24px; height: 24px; background-color: #e1e1e1; border: 3px solid #9D9D9D; border-radius: 5px; position: absolute;\">\n",
       "    </div>\n",
       "    <div style=\"margin-left: 48px;\">\n",
       "        <h3 style=\"margin-bottom: 0px; margin-top: 0px;\">LocalCluster</h3>\n",
       "        <p style=\"color: #9D9D9D; margin-bottom: 0px;\">bcbbf464</p>\n",
       "        <table style=\"width: 100%; text-align: left;\">\n",
       "            <tr>\n",
       "                <td style=\"text-align: left;\">\n",
       "                    <strong>Dashboard:</strong> <a href=\"http://127.0.0.1:8787/status\" target=\"_blank\">http://127.0.0.1:8787/status</a>\n",
       "                </td>\n",
       "                <td style=\"text-align: left;\">\n",
       "                    <strong>Workers:</strong> 4\n",
       "                </td>\n",
       "            </tr>\n",
       "            <tr>\n",
       "                <td style=\"text-align: left;\">\n",
       "                    <strong>Total threads:</strong> 12\n",
       "                </td>\n",
       "                <td style=\"text-align: left;\">\n",
       "                    <strong>Total memory:</strong> 36.00 GiB\n",
       "                </td>\n",
       "            </tr>\n",
       "            \n",
       "            <tr>\n",
       "    <td style=\"text-align: left;\"><strong>Status:</strong> running</td>\n",
       "    <td style=\"text-align: left;\"><strong>Using processes:</strong> True</td>\n",
       "</tr>\n",
       "\n",
       "            \n",
       "        </table>\n",
       "\n",
       "        <details>\n",
       "            <summary style=\"margin-bottom: 20px;\">\n",
       "                <h3 style=\"display: inline;\">Scheduler Info</h3>\n",
       "            </summary>\n",
       "\n",
       "            <div style=\"\">\n",
       "    <div>\n",
       "        <div style=\"width: 24px; height: 24px; background-color: #FFF7E5; border: 3px solid #FF6132; border-radius: 5px; position: absolute;\"> </div>\n",
       "        <div style=\"margin-left: 48px;\">\n",
       "            <h3 style=\"margin-bottom: 0px;\">Scheduler</h3>\n",
       "            <p style=\"color: #9D9D9D; margin-bottom: 0px;\">Scheduler-8410b812-c95f-4ef3-900f-4df0674554ee</p>\n",
       "            <table style=\"width: 100%; text-align: left;\">\n",
       "                <tr>\n",
       "                    <td style=\"text-align: left;\">\n",
       "                        <strong>Comm:</strong> tcp://127.0.0.1:52508\n",
       "                    </td>\n",
       "                    <td style=\"text-align: left;\">\n",
       "                        <strong>Workers:</strong> 4\n",
       "                    </td>\n",
       "                </tr>\n",
       "                <tr>\n",
       "                    <td style=\"text-align: left;\">\n",
       "                        <strong>Dashboard:</strong> <a href=\"http://127.0.0.1:8787/status\" target=\"_blank\">http://127.0.0.1:8787/status</a>\n",
       "                    </td>\n",
       "                    <td style=\"text-align: left;\">\n",
       "                        <strong>Total threads:</strong> 12\n",
       "                    </td>\n",
       "                </tr>\n",
       "                <tr>\n",
       "                    <td style=\"text-align: left;\">\n",
       "                        <strong>Started:</strong> 3 minutes ago\n",
       "                    </td>\n",
       "                    <td style=\"text-align: left;\">\n",
       "                        <strong>Total memory:</strong> 36.00 GiB\n",
       "                    </td>\n",
       "                </tr>\n",
       "            </table>\n",
       "        </div>\n",
       "    </div>\n",
       "\n",
       "    <details style=\"margin-left: 48px;\">\n",
       "        <summary style=\"margin-bottom: 20px;\">\n",
       "            <h3 style=\"display: inline;\">Workers</h3>\n",
       "        </summary>\n",
       "\n",
       "        \n",
       "        <div style=\"margin-bottom: 20px;\">\n",
       "            <div style=\"width: 24px; height: 24px; background-color: #DBF5FF; border: 3px solid #4CC9FF; border-radius: 5px; position: absolute;\"> </div>\n",
       "            <div style=\"margin-left: 48px;\">\n",
       "            <details>\n",
       "                <summary>\n",
       "                    <h4 style=\"margin-bottom: 0px; display: inline;\">Worker: 0</h4>\n",
       "                </summary>\n",
       "                <table style=\"width: 100%; text-align: left;\">\n",
       "                    <tr>\n",
       "                        <td style=\"text-align: left;\">\n",
       "                            <strong>Comm: </strong> tcp://127.0.0.1:52519\n",
       "                        </td>\n",
       "                        <td style=\"text-align: left;\">\n",
       "                            <strong>Total threads: </strong> 3\n",
       "                        </td>\n",
       "                    </tr>\n",
       "                    <tr>\n",
       "                        <td style=\"text-align: left;\">\n",
       "                            <strong>Dashboard: </strong> <a href=\"http://127.0.0.1:52521/status\" target=\"_blank\">http://127.0.0.1:52521/status</a>\n",
       "                        </td>\n",
       "                        <td style=\"text-align: left;\">\n",
       "                            <strong>Memory: </strong> 9.00 GiB\n",
       "                        </td>\n",
       "                    </tr>\n",
       "                    <tr>\n",
       "                        <td style=\"text-align: left;\">\n",
       "                            <strong>Nanny: </strong> tcp://127.0.0.1:52511\n",
       "                        </td>\n",
       "                        <td style=\"text-align: left;\"></td>\n",
       "                    </tr>\n",
       "                    <tr>\n",
       "                        <td colspan=\"2\" style=\"text-align: left;\">\n",
       "                            <strong>Local directory: </strong> /var/folders/m4/5d02b2xs0l52lbxzbk0t3vym0000gp/T/dask-scratch-space/worker-6tblixou\n",
       "                        </td>\n",
       "                    </tr>\n",
       "\n",
       "                    \n",
       "\n",
       "                    \n",
       "\n",
       "                </table>\n",
       "            </details>\n",
       "            </div>\n",
       "        </div>\n",
       "        \n",
       "        <div style=\"margin-bottom: 20px;\">\n",
       "            <div style=\"width: 24px; height: 24px; background-color: #DBF5FF; border: 3px solid #4CC9FF; border-radius: 5px; position: absolute;\"> </div>\n",
       "            <div style=\"margin-left: 48px;\">\n",
       "            <details>\n",
       "                <summary>\n",
       "                    <h4 style=\"margin-bottom: 0px; display: inline;\">Worker: 1</h4>\n",
       "                </summary>\n",
       "                <table style=\"width: 100%; text-align: left;\">\n",
       "                    <tr>\n",
       "                        <td style=\"text-align: left;\">\n",
       "                            <strong>Comm: </strong> tcp://127.0.0.1:52583\n",
       "                        </td>\n",
       "                        <td style=\"text-align: left;\">\n",
       "                            <strong>Total threads: </strong> 3\n",
       "                        </td>\n",
       "                    </tr>\n",
       "                    <tr>\n",
       "                        <td style=\"text-align: left;\">\n",
       "                            <strong>Dashboard: </strong> <a href=\"http://127.0.0.1:52584/status\" target=\"_blank\">http://127.0.0.1:52584/status</a>\n",
       "                        </td>\n",
       "                        <td style=\"text-align: left;\">\n",
       "                            <strong>Memory: </strong> 9.00 GiB\n",
       "                        </td>\n",
       "                    </tr>\n",
       "                    <tr>\n",
       "                        <td style=\"text-align: left;\">\n",
       "                            <strong>Nanny: </strong> tcp://127.0.0.1:52512\n",
       "                        </td>\n",
       "                        <td style=\"text-align: left;\"></td>\n",
       "                    </tr>\n",
       "                    <tr>\n",
       "                        <td colspan=\"2\" style=\"text-align: left;\">\n",
       "                            <strong>Local directory: </strong> /var/folders/m4/5d02b2xs0l52lbxzbk0t3vym0000gp/T/dask-scratch-space/worker-nmcw49x9\n",
       "                        </td>\n",
       "                    </tr>\n",
       "\n",
       "                    \n",
       "\n",
       "                    \n",
       "\n",
       "                </table>\n",
       "            </details>\n",
       "            </div>\n",
       "        </div>\n",
       "        \n",
       "        <div style=\"margin-bottom: 20px;\">\n",
       "            <div style=\"width: 24px; height: 24px; background-color: #DBF5FF; border: 3px solid #4CC9FF; border-radius: 5px; position: absolute;\"> </div>\n",
       "            <div style=\"margin-left: 48px;\">\n",
       "            <details>\n",
       "                <summary>\n",
       "                    <h4 style=\"margin-bottom: 0px; display: inline;\">Worker: 2</h4>\n",
       "                </summary>\n",
       "                <table style=\"width: 100%; text-align: left;\">\n",
       "                    <tr>\n",
       "                        <td style=\"text-align: left;\">\n",
       "                            <strong>Comm: </strong> tcp://127.0.0.1:52574\n",
       "                        </td>\n",
       "                        <td style=\"text-align: left;\">\n",
       "                            <strong>Total threads: </strong> 3\n",
       "                        </td>\n",
       "                    </tr>\n",
       "                    <tr>\n",
       "                        <td style=\"text-align: left;\">\n",
       "                            <strong>Dashboard: </strong> <a href=\"http://127.0.0.1:52575/status\" target=\"_blank\">http://127.0.0.1:52575/status</a>\n",
       "                        </td>\n",
       "                        <td style=\"text-align: left;\">\n",
       "                            <strong>Memory: </strong> 9.00 GiB\n",
       "                        </td>\n",
       "                    </tr>\n",
       "                    <tr>\n",
       "                        <td style=\"text-align: left;\">\n",
       "                            <strong>Nanny: </strong> tcp://127.0.0.1:52513\n",
       "                        </td>\n",
       "                        <td style=\"text-align: left;\"></td>\n",
       "                    </tr>\n",
       "                    <tr>\n",
       "                        <td colspan=\"2\" style=\"text-align: left;\">\n",
       "                            <strong>Local directory: </strong> /var/folders/m4/5d02b2xs0l52lbxzbk0t3vym0000gp/T/dask-scratch-space/worker-y8ha320a\n",
       "                        </td>\n",
       "                    </tr>\n",
       "\n",
       "                    \n",
       "\n",
       "                    \n",
       "\n",
       "                </table>\n",
       "            </details>\n",
       "            </div>\n",
       "        </div>\n",
       "        \n",
       "        <div style=\"margin-bottom: 20px;\">\n",
       "            <div style=\"width: 24px; height: 24px; background-color: #DBF5FF; border: 3px solid #4CC9FF; border-radius: 5px; position: absolute;\"> </div>\n",
       "            <div style=\"margin-left: 48px;\">\n",
       "            <details>\n",
       "                <summary>\n",
       "                    <h4 style=\"margin-bottom: 0px; display: inline;\">Worker: 3</h4>\n",
       "                </summary>\n",
       "                <table style=\"width: 100%; text-align: left;\">\n",
       "                    <tr>\n",
       "                        <td style=\"text-align: left;\">\n",
       "                            <strong>Comm: </strong> tcp://127.0.0.1:52526\n",
       "                        </td>\n",
       "                        <td style=\"text-align: left;\">\n",
       "                            <strong>Total threads: </strong> 3\n",
       "                        </td>\n",
       "                    </tr>\n",
       "                    <tr>\n",
       "                        <td style=\"text-align: left;\">\n",
       "                            <strong>Dashboard: </strong> <a href=\"http://127.0.0.1:52529/status\" target=\"_blank\">http://127.0.0.1:52529/status</a>\n",
       "                        </td>\n",
       "                        <td style=\"text-align: left;\">\n",
       "                            <strong>Memory: </strong> 9.00 GiB\n",
       "                        </td>\n",
       "                    </tr>\n",
       "                    <tr>\n",
       "                        <td style=\"text-align: left;\">\n",
       "                            <strong>Nanny: </strong> tcp://127.0.0.1:52514\n",
       "                        </td>\n",
       "                        <td style=\"text-align: left;\"></td>\n",
       "                    </tr>\n",
       "                    <tr>\n",
       "                        <td colspan=\"2\" style=\"text-align: left;\">\n",
       "                            <strong>Local directory: </strong> /var/folders/m4/5d02b2xs0l52lbxzbk0t3vym0000gp/T/dask-scratch-space/worker-z92fwaik\n",
       "                        </td>\n",
       "                    </tr>\n",
       "\n",
       "                    \n",
       "\n",
       "                    \n",
       "\n",
       "                </table>\n",
       "            </details>\n",
       "            </div>\n",
       "        </div>\n",
       "        \n",
       "\n",
       "    </details>\n",
       "</div>\n",
       "\n",
       "        </details>\n",
       "    </div>\n",
       "</div>\n",
       "            </details>\n",
       "        \n",
       "\n",
       "    </div>\n",
       "</div>"
      ],
      "text/plain": [
       "<Client: 'tcp://127.0.0.1:52508' processes=4 threads=12, memory=36.00 GiB>"
      ]
     },
     "execution_count": 13,
     "metadata": {},
     "output_type": "execute_result"
    }
   ],
   "source": [
    "client"
   ]
  },
  {
   "cell_type": "code",
   "execution_count": null,
   "id": "1739cb07",
   "metadata": {},
   "outputs": [
    {
     "name": "stderr",
     "output_type": "stream",
     "text": [
      "/Users/jan/.pyenv/versions/3.9.6/envs/nudgebg/lib/python3.9/site-packages/distributed/node.py:182: UserWarning: Port 8787 is already in use.\n",
      "Perhaps you already have a cluster running?\n",
      "Hosting the HTTP server on port 50109 instead\n",
      "  warnings.warn(\n"
     ]
    }
   ],
   "source": [
    "re_export = False\n",
    "\n",
    "#Convert CSVs to parquet\n",
    "if re_export:\n",
    "    ddf = dd.read_csv(os.path.join(loop_path, 'Data Tables', 'LOOPDeviceCGM*.txt'), sep='|', \n",
    "                    parse_dates=['UTCDtTm'], date_format='%Y-%m-%d %H:%M:%S', \n",
    "                    usecols=['PtID', 'UTCDtTm', 'RecordType', 'CGMVal'])\n",
    "    ddf.to_parquet(os.path.join(loop_paquet_path,'cgm'), partition_on='PtID')"
   ]
  },
  {
   "cell_type": "code",
   "execution_count": 97,
   "id": "aba6c0d1",
   "metadata": {},
   "outputs": [],
   "source": [
    "# Read parquet files into dask dataframe and perform operations without executing them\n",
    "\n",
    "#read CGM files, partitioned by PtID\n",
    "ddf = dd.read_parquet(os.path.join(loop_paquet_path,'cgm'), aggregate_files='PtID')\n",
    "ddf = ddf.rename(columns={'PtID': 'patient_id', 'UTCDtTm': 'UTCDtTm', 'RecordType': 'RecordType', 'CGMVal': 'cgm'})\n",
    "ddf = ddf.set_index('patient_id')#,drop=False) # make sure divisions are set correctly, keep patient_id as column\n",
    "\n",
    "#drop calibrations\n",
    "ddf = ddf.loc[ddf.RecordType == 'CGM']\n",
    "ddf.index = ddf.index.astype('int') #a workaround to obmit error occuring when there were no rows left\n",
    "ddf = ddf.drop(columns=['RecordType'])\n",
    "\n",
    "#convert to mg/dL\n",
    "ddf['cgm'] = ddf.cgm*18.018 \n",
    "\n",
    "#convert utc to local datetime\n",
    "#TODO: When i do not rename PTID here, then result = ddf.groupby(by='patient_id').apply(postprocessing.cgm_transform); result.loc[3].compute().head(10); \n",
    "# will fail with 'KeyError: 'patient_id' this is weird because ddf.index.name still yields patient_id\n",
    "patient_roster = df_patient[['PtID','PtTimezoneOffset']].rename(columns={'PtID':'patient_id'}).set_index('patient_id')\n",
    "ddf = ddf.join(patient_roster, how='left')\n",
    "ddf['datetime'] = ddf.UTCDtTm + dd.to_timedelta(ddf.PtTimezoneOffset, unit='hour')\n",
    "ddf = ddf.drop(columns=['UTCDtTm', 'PtTimezoneOffset'])"
   ]
  },
  {
   "cell_type": "code",
   "execution_count": 100,
   "id": "a76c021e",
   "metadata": {},
   "outputs": [
    {
     "data": {
      "text/html": [
       "<div><strong>Dask DataFrame Structure:</strong></div>\n",
       "<table border=\"1\" class=\"dataframe\">\n",
       "  <thead>\n",
       "    <tr style=\"text-align: right;\">\n",
       "      <th></th>\n",
       "      <th>cgm</th>\n",
       "      <th>datetime</th>\n",
       "    </tr>\n",
       "    <tr>\n",
       "      <th>npartitions=2</th>\n",
       "      <th></th>\n",
       "      <th></th>\n",
       "    </tr>\n",
       "  </thead>\n",
       "  <tbody>\n",
       "    <tr>\n",
       "      <th>3</th>\n",
       "      <td>float64</td>\n",
       "      <td>datetime64[ns]</td>\n",
       "    </tr>\n",
       "    <tr>\n",
       "      <th>4</th>\n",
       "      <td>...</td>\n",
       "      <td>...</td>\n",
       "    </tr>\n",
       "    <tr>\n",
       "      <th>5</th>\n",
       "      <td>...</td>\n",
       "      <td>...</td>\n",
       "    </tr>\n",
       "  </tbody>\n",
       "</table>\n",
       "<div>Dask Name: partitions, 22 expressions</div>"
      ],
      "text/plain": [
       "Dask DataFrame Structure:\n",
       "                   cgm        datetime\n",
       "npartitions=2                         \n",
       "3              float64  datetime64[ns]\n",
       "4                  ...             ...\n",
       "5                  ...             ...\n",
       "Dask Name: partitions, 22 expressions\n",
       "Expr=Partitions(frame=Drop(frame=Assign(frame=Merge(2c0d051)), columns=['UTCDtTm', 'PtTimezoneOffset']), partitions=[0, 1])"
      ]
     },
     "execution_count": 100,
     "metadata": {},
     "output_type": "execute_result"
    }
   ],
   "source": [
    "ddf.partitions[0:2]"
   ]
  },
  {
   "cell_type": "markdown",
   "id": "65a578fb",
   "metadata": {},
   "source": [
    "### post process all CGM data using dask map_partition"
   ]
  },
  {
   "cell_type": "code",
   "execution_count": 19,
   "id": "22f52ece",
   "metadata": {},
   "outputs": [
    {
     "name": "stderr",
     "output_type": "stream",
     "text": [
      "/Users/jan/.pyenv/versions/3.9.6/envs/nudgebg/lib/python3.9/site-packages/distributed/client.py:3362: UserWarning: Sending large graph of size 14.16 MiB.\n",
      "This may cause some slowdown.\n",
      "Consider loading the data with Dask directly\n",
      " or using futures or delayed objects to embed the data into the graph without repetition.\n",
      "See also https://docs.dask.org/en/stable/best-practices.html#load-data-with-dask for more information.\n",
      "  warnings.warn(\n",
      "/Users/jan/.pyenv/versions/3.9.6/envs/nudgebg/lib/python3.9/site-packages/distributed/client.py:3362: UserWarning: Sending large graph of size 12.01 MiB.\n",
      "This may cause some slowdown.\n",
      "Consider loading the data with Dask directly\n",
      " or using futures or delayed objects to embed the data into the graph without repetition.\n",
      "See also https://docs.dask.org/en/stable/best-practices.html#load-data-with-dask for more information.\n",
      "  warnings.warn(\n"
     ]
    },
    {
     "data": {
      "text/html": [
       "<div>\n",
       "<style scoped>\n",
       "    .dataframe tbody tr th:only-of-type {\n",
       "        vertical-align: middle;\n",
       "    }\n",
       "\n",
       "    .dataframe tbody tr th {\n",
       "        vertical-align: top;\n",
       "    }\n",
       "\n",
       "    .dataframe thead th {\n",
       "        text-align: right;\n",
       "    }\n",
       "</style>\n",
       "<table border=\"1\" class=\"dataframe\">\n",
       "  <thead>\n",
       "    <tr style=\"text-align: right;\">\n",
       "      <th></th>\n",
       "      <th></th>\n",
       "      <th>datetime</th>\n",
       "      <th>cgm</th>\n",
       "    </tr>\n",
       "    <tr>\n",
       "      <th>patient_id</th>\n",
       "      <th></th>\n",
       "      <th></th>\n",
       "      <th></th>\n",
       "    </tr>\n",
       "  </thead>\n",
       "  <tbody>\n",
       "    <tr>\n",
       "      <th rowspan=\"10\" valign=\"top\">3</th>\n",
       "      <th>0</th>\n",
       "      <td>2018-06-15 19:00:00</td>\n",
       "      <td>396.516721</td>\n",
       "    </tr>\n",
       "    <tr>\n",
       "      <th>1</th>\n",
       "      <td>2018-06-15 19:05:00</td>\n",
       "      <td>394.273480</td>\n",
       "    </tr>\n",
       "    <tr>\n",
       "      <th>2</th>\n",
       "      <td>2018-06-15 19:10:00</td>\n",
       "      <td>387.947360</td>\n",
       "    </tr>\n",
       "    <tr>\n",
       "      <th>3</th>\n",
       "      <td>2018-06-15 19:15:00</td>\n",
       "      <td>NaN</td>\n",
       "    </tr>\n",
       "    <tr>\n",
       "      <th>4</th>\n",
       "      <td>2018-06-15 19:20:00</td>\n",
       "      <td>338.812274</td>\n",
       "    </tr>\n",
       "    <tr>\n",
       "      <th>5</th>\n",
       "      <td>2018-06-15 19:25:00</td>\n",
       "      <td>331.772641</td>\n",
       "    </tr>\n",
       "    <tr>\n",
       "      <th>6</th>\n",
       "      <td>2018-06-15 19:30:00</td>\n",
       "      <td>325.617692</td>\n",
       "    </tr>\n",
       "    <tr>\n",
       "      <th>7</th>\n",
       "      <td>2018-06-15 19:35:00</td>\n",
       "      <td>NaN</td>\n",
       "    </tr>\n",
       "    <tr>\n",
       "      <th>8</th>\n",
       "      <td>2018-06-15 19:40:00</td>\n",
       "      <td>345.612267</td>\n",
       "    </tr>\n",
       "    <tr>\n",
       "      <th>9</th>\n",
       "      <td>2018-06-15 19:45:00</td>\n",
       "      <td>351.902351</td>\n",
       "    </tr>\n",
       "  </tbody>\n",
       "</table>\n",
       "</div>"
      ],
      "text/plain": [
       "                        datetime         cgm\n",
       "patient_id                                  \n",
       "3          0 2018-06-15 19:00:00  396.516721\n",
       "           1 2018-06-15 19:05:00  394.273480\n",
       "           2 2018-06-15 19:10:00  387.947360\n",
       "           3 2018-06-15 19:15:00         NaN\n",
       "           4 2018-06-15 19:20:00  338.812274\n",
       "           5 2018-06-15 19:25:00  331.772641\n",
       "           6 2018-06-15 19:30:00  325.617692\n",
       "           7 2018-06-15 19:35:00         NaN\n",
       "           8 2018-06-15 19:40:00  345.612267\n",
       "           9 2018-06-15 19:45:00  351.902351"
      ]
     },
     "metadata": {},
     "output_type": "display_data"
    },
    {
     "name": "stdout",
     "output_type": "stream",
     "text": [
      "Execution time: 23.396004915237427 seconds\n"
     ]
    },
    {
     "name": "stderr",
     "output_type": "stream",
     "text": [
      "/Users/jan/.pyenv/versions/3.9.6/envs/nudgebg/lib/python3.9/site-packages/distributed/client.py:3362: UserWarning: Sending large graph of size 12.01 MiB.\n",
      "This may cause some slowdown.\n",
      "Consider loading the data with Dask directly\n",
      " or using futures or delayed objects to embed the data into the graph without repetition.\n",
      "See also https://docs.dask.org/en/stable/best-practices.html#load-data-with-dask for more information.\n",
      "  warnings.warn(\n"
     ]
    },
    {
     "data": {
      "text/html": [
       "<div>\n",
       "<style scoped>\n",
       "    .dataframe tbody tr th:only-of-type {\n",
       "        vertical-align: middle;\n",
       "    }\n",
       "\n",
       "    .dataframe tbody tr th {\n",
       "        vertical-align: top;\n",
       "    }\n",
       "\n",
       "    .dataframe thead th {\n",
       "        text-align: right;\n",
       "    }\n",
       "</style>\n",
       "<table border=\"1\" class=\"dataframe\">\n",
       "  <thead>\n",
       "    <tr style=\"text-align: right;\">\n",
       "      <th></th>\n",
       "      <th>datetime</th>\n",
       "      <th>cgm</th>\n",
       "    </tr>\n",
       "  </thead>\n",
       "  <tbody>\n",
       "    <tr>\n",
       "      <th>0</th>\n",
       "      <td>2018-06-15 19:00:00</td>\n",
       "      <td>396.516721</td>\n",
       "    </tr>\n",
       "    <tr>\n",
       "      <th>1</th>\n",
       "      <td>2018-06-15 19:05:00</td>\n",
       "      <td>394.273480</td>\n",
       "    </tr>\n",
       "    <tr>\n",
       "      <th>2</th>\n",
       "      <td>2018-06-15 19:10:00</td>\n",
       "      <td>387.947360</td>\n",
       "    </tr>\n",
       "    <tr>\n",
       "      <th>3</th>\n",
       "      <td>2018-06-15 19:15:00</td>\n",
       "      <td>NaN</td>\n",
       "    </tr>\n",
       "    <tr>\n",
       "      <th>4</th>\n",
       "      <td>2018-06-15 19:20:00</td>\n",
       "      <td>338.812274</td>\n",
       "    </tr>\n",
       "    <tr>\n",
       "      <th>5</th>\n",
       "      <td>2018-06-15 19:25:00</td>\n",
       "      <td>331.772641</td>\n",
       "    </tr>\n",
       "    <tr>\n",
       "      <th>6</th>\n",
       "      <td>2018-06-15 19:30:00</td>\n",
       "      <td>325.617692</td>\n",
       "    </tr>\n",
       "    <tr>\n",
       "      <th>7</th>\n",
       "      <td>2018-06-15 19:35:00</td>\n",
       "      <td>NaN</td>\n",
       "    </tr>\n",
       "    <tr>\n",
       "      <th>8</th>\n",
       "      <td>2018-06-15 19:40:00</td>\n",
       "      <td>345.612267</td>\n",
       "    </tr>\n",
       "    <tr>\n",
       "      <th>9</th>\n",
       "      <td>2018-06-15 19:45:00</td>\n",
       "      <td>351.902351</td>\n",
       "    </tr>\n",
       "  </tbody>\n",
       "</table>\n",
       "</div>"
      ],
      "text/plain": [
       "             datetime         cgm\n",
       "0 2018-06-15 19:00:00  396.516721\n",
       "1 2018-06-15 19:05:00  394.273480\n",
       "2 2018-06-15 19:10:00  387.947360\n",
       "3 2018-06-15 19:15:00         NaN\n",
       "4 2018-06-15 19:20:00  338.812274\n",
       "5 2018-06-15 19:25:00  331.772641\n",
       "6 2018-06-15 19:30:00  325.617692\n",
       "7 2018-06-15 19:35:00         NaN\n",
       "8 2018-06-15 19:40:00  345.612267\n",
       "9 2018-06-15 19:45:00  351.902351"
      ]
     },
     "metadata": {},
     "output_type": "display_data"
    },
    {
     "name": "stdout",
     "output_type": "stream",
     "text": [
      "Execution time: 1.8903381824493408 seconds\n"
     ]
    }
   ],
   "source": [
    "import time\n",
    "\n",
    "start_time = time.time()\n",
    "meta={'datetime': 'datetime64[ns]', 'cgm': 'float64'}\n",
    "\n",
    "#Method 1: using groupby: this works but only if we previously renamed the PtID of the patient roster index to 'patient_id' before the join\n",
    "result = ddf.groupby(by='patient_id').apply(postprocessing.cgm_transform, meta=meta)\n",
    "display(result.loc[3].compute().head(10))\n",
    "end_time = time.time()\n",
    "print(f\"Execution time: {end_time - start_time} seconds\")\n",
    "\n",
    "\n",
    "start_time = time.time()\n",
    "#Method 2: using map_partitions: this works but we loose the patient index, workaround:\n",
    "def wrapper(df):\n",
    "    assert df.index.nunique() == 1\n",
    "    r= postprocessing.cgm_transform(df)\n",
    "    r.assign('patient_id', df.index[0])\n",
    "    \n",
    "loop_cgm_transformed = ddf.map_partitions(postprocessing.cgm_transform, meta=meta)\n",
    "transformed_partition = loop_cgm_transformed.get_partition(0).compute()\n",
    "display(transformed_partition.head(10))\n",
    "end_time = time.time()\n",
    "print(f\"Execution time: {end_time - start_time} seconds\")\n",
    "\n",
    "#this however, does not work: after doing map_partition, using .loc[3] returns only a single row\n",
    "#loop_cgm_transformed = ddf.map_partitions(postprocessing.cgm_transform, meta=meta)\n",
    "#transformed_partition = loop_cgm_transformed.loc[3].compute()\n",
    "#display(transformed_partition.head(10))"
   ]
  },
  {
   "cell_type": "code",
   "execution_count": 21,
   "id": "d5e6b242",
   "metadata": {},
   "outputs": [],
   "source": [
    "# export as CSV and parquet\n",
    "# loop_parquet_out_path = os.path.join(out_path, 'parquet', study_name)\n",
    "# loop_cgm_transformed.to_parquet(os.path.join(loop_parquet_out_path, 'cgm_transformed'))\n",
    "# loop_cgm_transformed.to_csv(os.path.join(loop_parquet_out_path, 'cgm_transformed.csv'));"
   ]
  },
  {
   "cell_type": "code",
   "execution_count": null,
   "id": "bb9f12d3",
   "metadata": {},
   "outputs": [],
   "source": [
    "ddf_basal = dd.read_parquet(os.path.join(loop_paquet_path, 'basal'), aggregate_files='PtID')\n",
    "ddf_cgm = dd.read_parquet(os.path.join(loop_paquet_path, 'cgm'), aggregate_files='PtID')\n",
    "\n",
    "ddf_basal = ddf_basal.set_index('PtID')\n",
    "ddf_cgm = ddf_cgm.set_index('PtID')"
   ]
  },
  {
   "cell_type": "code",
   "execution_count": null,
   "id": "e5e1c646",
   "metadata": {},
   "outputs": [
    {
     "name": "stdout",
     "output_type": "stream",
     "text": [
      "Bolus\n",
      "300879 duplicates (11.05%)\n",
      "308982 duplicates (11.35%) ['UTCDtTm', 'PtID']\n"
     ]
    },
    {
     "data": {
      "text/html": [
       "<div>\n",
       "<style scoped>\n",
       "    .dataframe tbody tr th:only-of-type {\n",
       "        vertical-align: middle;\n",
       "    }\n",
       "\n",
       "    .dataframe tbody tr th {\n",
       "        vertical-align: top;\n",
       "    }\n",
       "\n",
       "    .dataframe thead th {\n",
       "        text-align: right;\n",
       "    }\n",
       "</style>\n",
       "<table border=\"1\" class=\"dataframe\">\n",
       "  <thead>\n",
       "    <tr style=\"text-align: right;\">\n",
       "      <th></th>\n",
       "      <th>UTCDtTm</th>\n",
       "      <th>BolusType</th>\n",
       "      <th>Normal</th>\n",
       "      <th>ExpectedNormal</th>\n",
       "      <th>Extended</th>\n",
       "      <th>ExpectedExtended</th>\n",
       "      <th>Duration</th>\n",
       "      <th>ExpectedDuration</th>\n",
       "      <th>OriginName</th>\n",
       "      <th>PtID</th>\n",
       "    </tr>\n",
       "  </thead>\n",
       "  <tbody>\n",
       "    <tr>\n",
       "      <th>425148</th>\n",
       "      <td>2018-10-14 11:08:08</td>\n",
       "      <td>normal</td>\n",
       "      <td>2.1</td>\n",
       "      <td>NaN</td>\n",
       "      <td>NaN</td>\n",
       "      <td>NaN</td>\n",
       "      <td>NaN</td>\n",
       "      <td>NaN</td>\n",
       "      <td>com.apple.HealthKit</td>\n",
       "      <td>3</td>\n",
       "    </tr>\n",
       "    <tr>\n",
       "      <th>70229</th>\n",
       "      <td>2018-10-14 11:08:08</td>\n",
       "      <td>normal</td>\n",
       "      <td>2.1</td>\n",
       "      <td>NaN</td>\n",
       "      <td>NaN</td>\n",
       "      <td>NaN</td>\n",
       "      <td>NaN</td>\n",
       "      <td>NaN</td>\n",
       "      <td>com.apple.HealthKit</td>\n",
       "      <td>3</td>\n",
       "    </tr>\n",
       "  </tbody>\n",
       "</table>\n",
       "</div>"
      ],
      "text/plain": [
       "                   UTCDtTm BolusType  Normal  ExpectedNormal  Extended  \\\n",
       "425148 2018-10-14 11:08:08    normal     2.1             NaN       NaN   \n",
       "70229  2018-10-14 11:08:08    normal     2.1             NaN       NaN   \n",
       "\n",
       "        ExpectedExtended  Duration  ExpectedDuration           OriginName PtID  \n",
       "425148               NaN       NaN               NaN  com.apple.HealthKit    3  \n",
       "70229                NaN       NaN               NaN  com.apple.HealthKit    3  "
      ]
     },
     "metadata": {},
     "output_type": "display_data"
    },
    {
     "name": "stdout",
     "output_type": "stream",
     "text": [
      "Basal\n",
      "108138 duplicates (0.22%)\n",
      "220815 duplicates (0.46%) ['UTCDtTm', 'PtID']\n"
     ]
    },
    {
     "data": {
      "text/html": [
       "<div>\n",
       "<style scoped>\n",
       "    .dataframe tbody tr th:only-of-type {\n",
       "        vertical-align: middle;\n",
       "    }\n",
       "\n",
       "    .dataframe tbody tr th {\n",
       "        vertical-align: top;\n",
       "    }\n",
       "\n",
       "    .dataframe thead th {\n",
       "        text-align: right;\n",
       "    }\n",
       "</style>\n",
       "<table border=\"1\" class=\"dataframe\">\n",
       "  <thead>\n",
       "    <tr style=\"text-align: right;\">\n",
       "      <th></th>\n",
       "      <th>UTCDtTm</th>\n",
       "      <th>BasalType</th>\n",
       "      <th>Duration</th>\n",
       "      <th>ExpectedDuration</th>\n",
       "      <th>Percnt</th>\n",
       "      <th>Rate</th>\n",
       "      <th>SuprBasalType</th>\n",
       "      <th>SuprDuration</th>\n",
       "      <th>SuprRate</th>\n",
       "      <th>TmZnOffset</th>\n",
       "      <th>PtID</th>\n",
       "    </tr>\n",
       "  </thead>\n",
       "  <tbody>\n",
       "  </tbody>\n",
       "</table>\n",
       "</div>"
      ],
      "text/plain": [
       "Empty DataFrame\n",
       "Columns: [UTCDtTm, BasalType, Duration, ExpectedDuration, Percnt, Rate, SuprBasalType, SuprDuration, SuprRate, TmZnOffset, PtID]\n",
       "Index: []"
      ]
     },
     "metadata": {},
     "output_type": "display_data"
    },
    {
     "name": "stdout",
     "output_type": "stream",
     "text": [
      "CGM\n"
     ]
    },
    {
     "name": "stderr",
     "output_type": "stream",
     "text": [
      "/Users/jan/.pyenv/versions/3.9.6/envs/nudgebg/lib/python3.9/site-packages/distributed/client.py:3362: UserWarning: Sending large graph of size 12.31 MiB.\n",
      "This may cause some slowdown.\n",
      "Consider loading the data with Dask directly\n",
      " or using futures or delayed objects to embed the data into the graph without repetition.\n",
      "See also https://docs.dask.org/en/stable/best-practices.html#load-data-with-dask for more information.\n",
      "  warnings.warn(\n"
     ]
    },
    {
     "name": "stdout",
     "output_type": "stream",
     "text": [
      "19628647 duplicates (17.66%)\n"
     ]
    },
    {
     "name": "stderr",
     "output_type": "stream",
     "text": [
      "/Users/jan/.pyenv/versions/3.9.6/envs/nudgebg/lib/python3.9/site-packages/distributed/client.py:3362: UserWarning: Sending large graph of size 12.31 MiB.\n",
      "This may cause some slowdown.\n",
      "Consider loading the data with Dask directly\n",
      " or using futures or delayed objects to embed the data into the graph without repetition.\n",
      "See also https://docs.dask.org/en/stable/best-practices.html#load-data-with-dask for more information.\n",
      "  warnings.warn(\n"
     ]
    },
    {
     "name": "stdout",
     "output_type": "stream",
     "text": [
      "21857113 duplicates (19.67%) ['UTCDtTm', 'PtID']\n"
     ]
    },
    {
     "data": {
      "text/html": [
       "<div>\n",
       "<style scoped>\n",
       "    .dataframe tbody tr th:only-of-type {\n",
       "        vertical-align: middle;\n",
       "    }\n",
       "\n",
       "    .dataframe tbody tr th {\n",
       "        vertical-align: top;\n",
       "    }\n",
       "\n",
       "    .dataframe thead th {\n",
       "        text-align: right;\n",
       "    }\n",
       "</style>\n",
       "<table border=\"1\" class=\"dataframe\">\n",
       "  <thead>\n",
       "    <tr style=\"text-align: right;\">\n",
       "      <th></th>\n",
       "      <th>UTCDtTm</th>\n",
       "      <th>RecordType</th>\n",
       "      <th>CGMVal</th>\n",
       "      <th>PtID</th>\n",
       "    </tr>\n",
       "  </thead>\n",
       "  <tbody>\n",
       "    <tr>\n",
       "      <th>143914</th>\n",
       "      <td>2018-10-14 17:03:08</td>\n",
       "      <td>CGM</td>\n",
       "      <td>6.93843</td>\n",
       "      <td>3</td>\n",
       "    </tr>\n",
       "    <tr>\n",
       "      <th>143915</th>\n",
       "      <td>2018-10-14 17:03:08</td>\n",
       "      <td>CGM</td>\n",
       "      <td>6.93843</td>\n",
       "      <td>3</td>\n",
       "    </tr>\n",
       "  </tbody>\n",
       "</table>\n",
       "</div>"
      ],
      "text/plain": [
       "                   UTCDtTm RecordType   CGMVal PtID\n",
       "143914 2018-10-14 17:03:08        CGM  6.93843    3\n",
       "143915 2018-10-14 17:03:08        CGM  6.93843    3"
      ]
     },
     "metadata": {},
     "output_type": "display_data"
    }
   ],
   "source": [
    "\n",
    "print('Basal')\n",
    "report_duplicates(ddf_basal, ['UTCDtTm', 'PtID'], ['UTCDtTm'])\n",
    "print('CGM')\n",
    "report_duplicates(ddf_cgm, ['UTCDtTm', 'PtID'], ['UTCDtTm'])"
   ]
  },
  {
   "cell_type": "code",
   "execution_count": null,
   "id": "0c66c002",
   "metadata": {},
   "outputs": [
    {
     "data": {
      "text/html": [
       "<div>\n",
       "<style scoped>\n",
       "    .dataframe tbody tr th:only-of-type {\n",
       "        vertical-align: middle;\n",
       "    }\n",
       "\n",
       "    .dataframe tbody tr th {\n",
       "        vertical-align: top;\n",
       "    }\n",
       "\n",
       "    .dataframe thead th {\n",
       "        text-align: right;\n",
       "    }\n",
       "</style>\n",
       "<table border=\"1\" class=\"dataframe\">\n",
       "  <thead>\n",
       "    <tr style=\"text-align: right;\">\n",
       "      <th></th>\n",
       "      <th>UTCDtTm</th>\n",
       "      <th>BolusType</th>\n",
       "      <th>Normal</th>\n",
       "      <th>ExpectedNormal</th>\n",
       "      <th>Extended</th>\n",
       "      <th>ExpectedExtended</th>\n",
       "      <th>Duration</th>\n",
       "      <th>ExpectedDuration</th>\n",
       "      <th>OriginName</th>\n",
       "    </tr>\n",
       "    <tr>\n",
       "      <th>PtID</th>\n",
       "      <th></th>\n",
       "      <th></th>\n",
       "      <th></th>\n",
       "      <th></th>\n",
       "      <th></th>\n",
       "      <th></th>\n",
       "      <th></th>\n",
       "      <th></th>\n",
       "      <th></th>\n",
       "    </tr>\n",
       "  </thead>\n",
       "  <tbody>\n",
       "    <tr>\n",
       "      <th>4</th>\n",
       "      <td>2019-01-10 01:22:31</td>\n",
       "      <td>normal</td>\n",
       "      <td>15.0</td>\n",
       "      <td>NaN</td>\n",
       "      <td>NaN</td>\n",
       "      <td>NaN</td>\n",
       "      <td>NaN</td>\n",
       "      <td>NaN</td>\n",
       "      <td>com.apple.HealthKit</td>\n",
       "    </tr>\n",
       "    <tr>\n",
       "      <th>4</th>\n",
       "      <td>2019-01-10 01:22:31</td>\n",
       "      <td>normal</td>\n",
       "      <td>9.2</td>\n",
       "      <td>NaN</td>\n",
       "      <td>NaN</td>\n",
       "      <td>NaN</td>\n",
       "      <td>NaN</td>\n",
       "      <td>NaN</td>\n",
       "      <td>com.apple.HealthKit</td>\n",
       "    </tr>\n",
       "  </tbody>\n",
       "</table>\n",
       "</div>"
      ],
      "text/plain": [
       "                 UTCDtTm BolusType  Normal  ExpectedNormal  Extended  \\\n",
       "PtID                                                                   \n",
       "4    2019-01-10 01:22:31    normal    15.0             NaN       NaN   \n",
       "4    2019-01-10 01:22:31    normal     9.2             NaN       NaN   \n",
       "\n",
       "      ExpectedExtended  Duration  ExpectedDuration           OriginName  \n",
       "PtID                                                                     \n",
       "4                  NaN       NaN               NaN  com.apple.HealthKit  \n",
       "4                  NaN       NaN               NaN  com.apple.HealthKit  "
      ]
     },
     "metadata": {},
     "output_type": "display_data"
    }
   ],
   "source": [
    "# Example for duplciates on UTCDtTm which are not duplicates when considering all columns\n",
    "first_partition = ddf_bolus.partitions[1].compute()\n",
    "duplicates_subset = first_partition.duplicated(subset=['UTCDtTm'], keep=False)\n",
    "duplicates_all = first_partition.duplicated(keep=False)\n",
    "\n",
    "# Show rows that are duplicated based on PtID and UTCDtTm but not duplicated when considering all columns\n",
    "unique_duplicates = duplicates_subset & ~duplicates_all\n",
    "\n",
    "# Compute and display the result\n",
    "df_unique_duplicates = first_partition[unique_duplicates]\n",
    "display(df_unique_duplicates)"
   ]
  },
  {
   "cell_type": "markdown",
   "id": "3b8af0ca",
   "metadata": {},
   "source": [
    "We see that there are instances where we have temporal duplicates with different values and it is unclear which one to trust."
   ]
  },
  {
   "cell_type": "code",
   "execution_count": null,
   "id": "bc11ca6b",
   "metadata": {},
   "outputs": [
    {
     "name": "stderr",
     "output_type": "stream",
     "text": [
      "/Users/jan/.pyenv/versions/3.9.6/envs/nudgebg/lib/python3.9/site-packages/distributed/client.py:3362: UserWarning: Sending large graph of size 14.40 MiB.\n",
      "This may cause some slowdown.\n",
      "Consider loading the data with Dask directly\n",
      " or using futures or delayed objects to embed the data into the graph without repetition.\n",
      "See also https://docs.dask.org/en/stable/best-practices.html#load-data-with-dask for more information.\n",
      "  warnings.warn(\n",
      "/Users/jan/.pyenv/versions/3.9.6/envs/nudgebg/lib/python3.9/site-packages/distributed/client.py:3362: UserWarning: Sending large graph of size 9.87 MiB.\n",
      "This may cause some slowdown.\n",
      "Consider loading the data with Dask directly\n",
      " or using futures or delayed objects to embed the data into the graph without repetition.\n",
      "See also https://docs.dask.org/en/stable/best-practices.html#load-data-with-dask for more information.\n",
      "  warnings.warn(\n"
     ]
    }
   ],
   "source": [
    "df_cgm_sample = ddf_cgm.sample(frac=0.1).compute().reset_index()\n",
    "\n",
    "df_basal_sample = ddf_basal.sample(frac=0.1).compute().reset_index()"
   ]
  },
  {
   "cell_type": "markdown",
   "id": "606f6965",
   "metadata": {},
   "source": [
    "#### Null values"
   ]
  },
  {
   "cell_type": "code",
   "execution_count": null,
   "id": "35f93883",
   "metadata": {},
   "outputs": [
    {
     "name": "stdout",
     "output_type": "stream",
     "text": [
      "Index(['PtID', 'UTCDtTm', 'BolusType', 'Normal', 'ExpectedNormal', 'Extended',\n",
      "       'ExpectedExtended', 'Duration', 'ExpectedDuration', 'OriginName'],\n",
      "      dtype='object')\n",
      "Index(['PtID', 'UTCDtTm', 'BasalType', 'Duration', 'ExpectedDuration',\n",
      "       'Percnt', 'Rate', 'SuprBasalType', 'SuprDuration', 'SuprRate',\n",
      "       'TmZnOffset'],\n",
      "      dtype='object')\n",
      "Index(['PtID', 'UTCDtTm', 'RecordType', 'CGMVal'], dtype='object')\n"
     ]
    }
   ],
   "source": [
    "\n",
    "print(df_basal_sample.columns)\n",
    "print(df_cgm_sample.columns)"
   ]
  },
  {
   "cell_type": "code",
   "execution_count": null,
   "id": "31cb5037",
   "metadata": {},
   "outputs": [
    {
     "name": "stdout",
     "output_type": "stream",
     "text": [
      "VALUE FRACTIONS:\n"
     ]
    },
    {
     "data": {
      "text/plain": [
       "BasalType  SuprBasalType\n",
       "temp       scheduled        75.881427\n",
       "suspend    scheduled         0.002225\n",
       "           automated         0.000957\n",
       "           temp              0.000645\n",
       "Name: count, dtype: float64"
      ]
     },
     "metadata": {},
     "output_type": "display_data"
    },
    {
     "data": {
      "text/plain": [
       "BolusType  \n",
       "normal         99.591468\n",
       "dual/square     0.347625\n",
       "square          0.060907\n",
       "Name: count, dtype: float64"
      ]
     },
     "metadata": {},
     "output_type": "display_data"
    },
    {
     "data": {
      "text/plain": [
       "RecordType \n",
       "CGM            99.935672\n",
       "Calibration     0.064328\n",
       "Name: count, dtype: float64"
      ]
     },
     "metadata": {},
     "output_type": "display_data"
    },
    {
     "name": "stdout",
     "output_type": "stream",
     "text": [
      "NAN FRACTIONS\n"
     ]
    },
    {
     "data": {
      "text/plain": [
       "PtID                 0.000000\n",
       "UTCDtTm              0.000000\n",
       "BasalType            0.000000\n",
       "Duration             0.000000\n",
       "ExpectedDuration    99.899315\n",
       "Percnt              99.914414\n",
       "Rate                 0.037624\n",
       "SuprBasalType       24.114746\n",
       "SuprDuration        99.964830\n",
       "SuprRate            24.114808\n",
       "TmZnOffset          99.345848\n",
       "dtype: float64"
      ]
     },
     "metadata": {},
     "output_type": "display_data"
    },
    {
     "data": {
      "text/plain": [
       "PtID                 0.000000\n",
       "UTCDtTm              0.000000\n",
       "BolusType            0.000000\n",
       "Normal               0.060907\n",
       "ExpectedNormal      99.596854\n",
       "Extended            99.591468\n",
       "ExpectedExtended    99.938679\n",
       "Duration            99.591468\n",
       "ExpectedDuration    99.938679\n",
       "OriginName           6.094832\n",
       "dtype: float64"
      ]
     },
     "metadata": {},
     "output_type": "display_data"
    },
    {
     "data": {
      "text/plain": [
       "PtID          0.0\n",
       "UTCDtTm       0.0\n",
       "RecordType    0.0\n",
       "CGMVal        0.0\n",
       "dtype: float64"
      ]
     },
     "metadata": {},
     "output_type": "display_data"
    }
   ],
   "source": [
    "#display the value counts\n",
    "print('VALUE FRACTIONS:')\n",
    "display(df_bolus_sample.value_counts(subset=['BolusType'])*100/len(df_bolus_sample))\n",
    "\n",
    "display(df_basal_sample.value_counts(subset=['BasalType','SuprBasalType'])*100/len(df_basal_sample))\n",
    "\n",
    "display(df_cgm_sample.value_counts(subset=['RecordType'])*100/len(df_cgm_sample))\n",
    "\n",
    "#display the nan values\n",
    "print('NAN FRACTIONS')\n",
    "display(100*df_basal_sample.isna().sum()/len(df_basal_sample))\n",
    "display(100*df_bolus_sample.isna().sum()/len(df_bolus_sample))\n",
    "display(100*df_cgm_sample.isna().sum()/len(df_cgm_sample))"
   ]
  },
  {
   "cell_type": "markdown",
   "id": "2e3104ba",
   "metadata": {},
   "source": [
    "let's read the whole dataframe with all columns to check why it could be Dual Wave Boluses. As we can see, tehre is no information that would allow us to understand where the extended part comes from. Maybe this is during open loop mode or initiated from the pump directly. "
   ]
  },
  {
   "cell_type": "markdown",
   "id": "f4c19a53",
   "metadata": {},
   "source": [
    "## Boluses"
   ]
  },
  {
   "cell_type": "code",
   "execution_count": 152,
   "id": "4bf518c6",
   "metadata": {},
   "outputs": [
    {
     "name": "stderr",
     "output_type": "stream",
     "text": [
      "/var/folders/m4/5d02b2xs0l52lbxzbk0t3vym0000gp/T/ipykernel_88214/3481925287.py:2: DtypeWarning: Columns (3,17) have mixed types. Specify dtype option on import or set low_memory=False.\n",
      "  df_bolus = pd.read_csv(os.path.join(loop_path, 'Data Tables', 'LOOPDeviceBolus.txt'), sep='|',\n"
     ]
    }
   ],
   "source": [
    "#read bolus and data frame\n",
    "df_bolus = pd.read_csv(os.path.join(loop_path, 'Data Tables', 'LOOPDeviceBolus.txt'), sep='|', \n",
    "                        parse_dates=['UTCDtTm'], date_format='%Y-%m-%d %H:%M:%S');"
   ]
  },
  {
   "cell_type": "markdown",
   "id": "7df84964",
   "metadata": {},
   "source": [
    "### Duplicates\n",
    "\n",
    "Let's check for duplicates. As we can see below, there are significant amount of duplicates. Potentially due to different imports. \n",
    "\n",
    "On further inspection of one example, we see that the two duplicated rows are completely identical (except for the record id). So, the data source is not the problem but probbaly the import.\n",
    "\n",
    "Example from LoopDeviceBolus.txt\n",
    "```\n",
    "PtID|RecID|ParentLOOPDeviceUploadsID|DeviceDtTm|UTCDtTm|BolusType|Normal|ExpectedNormal|Extended|ExpectedExtended|Duration|ExpectedDuration|TmZnOffset|OriginName|OriginVers|OriginType|OriginDeviceFirmwrVer|OriginDeviceHardwrVer|OriginDeviceManufact|OriginDeviceModel|OriginOperatingSystVer|OriginProductType\n",
    "3|1799993|1300475||2018-10-14 11:08:08|normal|2.10|||||||com.apple.HealthKit|55|service|2.7.0||Insulet|Eros|12.2.0|iPhone10,4\n",
    "3|497101|1300475||2018-10-14 11:08:08|normal|2.10|||||||com.apple.HealthKit|55|service|2.7.0||Insulet|Eros|12.2.0|iPhone10,4\n",
    "```"
   ]
  },
  {
   "cell_type": "code",
   "execution_count": null,
   "id": "a7ded2db",
   "metadata": {},
   "outputs": [
    {
     "name": "stdout",
     "output_type": "stream",
     "text": [
      "0 duplicates (0.00%)\n",
      "308982 duplicates (11.35%) ['UTCDtTm', 'PtID']\n"
     ]
    },
    {
     "data": {
      "text/html": [
       "<div>\n",
       "<style scoped>\n",
       "    .dataframe tbody tr th:only-of-type {\n",
       "        vertical-align: middle;\n",
       "    }\n",
       "\n",
       "    .dataframe tbody tr th {\n",
       "        vertical-align: top;\n",
       "    }\n",
       "\n",
       "    .dataframe thead th {\n",
       "        text-align: right;\n",
       "    }\n",
       "</style>\n",
       "<table border=\"1\" class=\"dataframe\">\n",
       "  <thead>\n",
       "    <tr style=\"text-align: right;\">\n",
       "      <th></th>\n",
       "      <th>PtID</th>\n",
       "      <th>RecID</th>\n",
       "      <th>ParentLOOPDeviceUploadsID</th>\n",
       "      <th>DeviceDtTm</th>\n",
       "      <th>UTCDtTm</th>\n",
       "      <th>BolusType</th>\n",
       "      <th>Normal</th>\n",
       "      <th>ExpectedNormal</th>\n",
       "      <th>Extended</th>\n",
       "      <th>ExpectedExtended</th>\n",
       "      <th>...</th>\n",
       "      <th>TmZnOffset</th>\n",
       "      <th>OriginName</th>\n",
       "      <th>OriginVers</th>\n",
       "      <th>OriginType</th>\n",
       "      <th>OriginDeviceFirmwrVer</th>\n",
       "      <th>OriginDeviceHardwrVer</th>\n",
       "      <th>OriginDeviceManufact</th>\n",
       "      <th>OriginDeviceModel</th>\n",
       "      <th>OriginOperatingSystVer</th>\n",
       "      <th>OriginProductType</th>\n",
       "    </tr>\n",
       "  </thead>\n",
       "  <tbody>\n",
       "  </tbody>\n",
       "</table>\n",
       "<p>0 rows × 22 columns</p>\n",
       "</div>"
      ],
      "text/plain": [
       "Empty DataFrame\n",
       "Columns: [PtID, RecID, ParentLOOPDeviceUploadsID, DeviceDtTm, UTCDtTm, BolusType, Normal, ExpectedNormal, Extended, ExpectedExtended, Duration, ExpectedDuration, TmZnOffset, OriginName, OriginVers, OriginType, OriginDeviceFirmwrVer, OriginDeviceHardwrVer, OriginDeviceManufact, OriginDeviceModel, OriginOperatingSystVer, OriginProductType]\n",
       "Index: []\n",
       "\n",
       "[0 rows x 22 columns]"
      ]
     },
     "metadata": {},
     "output_type": "display_data"
    }
   ],
   "source": [
    "def report_duplicates(df, subset, sort_by):    \n",
    "    num_duplicated = df.duplicated().sum()\n",
    "    print(f'{num_duplicated} duplicates ({100*num_duplicated/len(df):.2f}%)')\n",
    "\n",
    "    num_duplicated = df.duplicated(subset=subset).sum()\n",
    "    print(f'{num_duplicated} duplicates ({100*num_duplicated/len(df):.2f}%) {subset}')\n",
    "\n",
    "    bDuplicated = df.duplicated(keep=False)\n",
    "    display(df[bDuplicated].sort_values(sort_by).head(2))\n",
    "\n",
    "    \n",
    "\n",
    "report_duplicates(df_bolus, ['UTCDtTm', 'PtID'], ['UTCDtTm'])"
   ]
  },
  {
   "cell_type": "markdown",
   "id": "9ee6850c",
   "metadata": {},
   "source": [
    "### NaN values"
   ]
  },
  {
   "cell_type": "code",
   "execution_count": null,
   "id": "feb22c21",
   "metadata": {},
   "outputs": [
    {
     "name": "stdout",
     "output_type": "stream",
     "text": [
      "COLUMNS:\n",
      "Index(['PtID', 'RecID', 'ParentLOOPDeviceUploadsID', 'DeviceDtTm', 'UTCDtTm',\n",
      "       'BolusType', 'Normal', 'ExpectedNormal', 'Extended', 'ExpectedExtended',\n",
      "       'Duration', 'ExpectedDuration', 'TmZnOffset', 'OriginName',\n",
      "       'OriginVers', 'OriginType', 'OriginDeviceFirmwrVer',\n",
      "       'OriginDeviceHardwrVer', 'OriginDeviceManufact', 'OriginDeviceModel',\n",
      "       'OriginOperatingSystVer', 'OriginProductType'],\n",
      "      dtype='object')\n",
      "VALUE FRACTIONS:\n"
     ]
    },
    {
     "data": {
      "text/plain": [
       "BolusType  \n",
       "normal         99.615245\n",
       "dual/square     0.326720\n",
       "square          0.058035\n",
       "Name: count, dtype: float64"
      ]
     },
     "metadata": {},
     "output_type": "display_data"
    },
    {
     "name": "stdout",
     "output_type": "stream",
     "text": [
      "NAN FRACTIONS\n"
     ]
    },
    {
     "data": {
      "text/plain": [
       "PtID                          0.000000\n",
       "RecID                         0.000000\n",
       "ParentLOOPDeviceUploadsID     0.000000\n",
       "DeviceDtTm                   94.315252\n",
       "UTCDtTm                       0.000000\n",
       "BolusType                     0.000000\n",
       "Normal                        0.058035\n",
       "ExpectedNormal               99.498294\n",
       "Extended                     99.615245\n",
       "ExpectedExtended             99.933664\n",
       "Duration                     99.615245\n",
       "ExpectedDuration             99.933664\n",
       "TmZnOffset                   94.315252\n",
       "OriginName                    5.684748\n",
       "OriginVers                    5.684858\n",
       "OriginType                    5.684748\n",
       "OriginDeviceFirmwrVer        10.654054\n",
       "OriginDeviceHardwrVer        99.912875\n",
       "OriginDeviceManufact          7.744095\n",
       "OriginDeviceModel             7.744095\n",
       "OriginOperatingSystVer        5.684748\n",
       "OriginProductType             5.684748\n",
       "dtype: float64"
      ]
     },
     "metadata": {},
     "output_type": "display_data"
    }
   ],
   "source": [
    "#print stats for bolus dataframe\n",
    "print('COLUMNS:')\n",
    "print(df_bolus.columns)\n",
    "\n",
    "#display the value counts\n",
    "print('VALUE FRACTIONS:')\n",
    "display(df_bolus.value_counts(subset=['BolusType'])*100/len(df_bolus))\n",
    "\n",
    "#display the nan values\n",
    "print('NAN FRACTIONS')\n",
    "display(100*df_bolus.isna().sum()/len(df_bolus))\n",
    "\n",
    "print('DUPLICATES:')\n",
    "report_duplicates(df_bolus, ['UTCDtTm', 'PtID'], ['UTCDtTm'])"
   ]
  },
  {
   "cell_type": "code",
   "execution_count": 148,
   "id": "f92b0530",
   "metadata": {},
   "outputs": [
    {
     "name": "stdout",
     "output_type": "stream",
     "text": [
      "0.38% of boluses are extended\n",
      "In 100.0% of all rows, it is either extended and duration are filled or neither\n"
     ]
    },
    {
     "data": {
      "text/html": [
       "<div>\n",
       "<style scoped>\n",
       "    .dataframe tbody tr th:only-of-type {\n",
       "        vertical-align: middle;\n",
       "    }\n",
       "\n",
       "    .dataframe tbody tr th {\n",
       "        vertical-align: top;\n",
       "    }\n",
       "\n",
       "    .dataframe thead th {\n",
       "        text-align: right;\n",
       "    }\n",
       "</style>\n",
       "<table border=\"1\" class=\"dataframe\">\n",
       "  <thead>\n",
       "    <tr style=\"text-align: right;\">\n",
       "      <th></th>\n",
       "      <th>PtID</th>\n",
       "      <th>RecID</th>\n",
       "      <th>ParentLOOPDeviceUploadsID</th>\n",
       "      <th>DeviceDtTm</th>\n",
       "      <th>UTCDtTm</th>\n",
       "      <th>BolusType</th>\n",
       "      <th>Normal</th>\n",
       "      <th>Extended</th>\n",
       "      <th>Duration</th>\n",
       "      <th>TmZnOffset</th>\n",
       "    </tr>\n",
       "  </thead>\n",
       "  <tbody>\n",
       "    <tr>\n",
       "      <th>31932</th>\n",
       "      <td>982</td>\n",
       "      <td>53838</td>\n",
       "      <td>335722</td>\n",
       "      <td>2018-10-28 19:06:49</td>\n",
       "      <td>2018-10-29 00:06:49</td>\n",
       "      <td>dual/square</td>\n",
       "      <td>7.5</td>\n",
       "      <td>3.2</td>\n",
       "      <td>9900000.0</td>\n",
       "      <td>-300.0</td>\n",
       "    </tr>\n",
       "    <tr>\n",
       "      <th>31942</th>\n",
       "      <td>982</td>\n",
       "      <td>53848</td>\n",
       "      <td>335722</td>\n",
       "      <td>2018-11-11 18:07:34</td>\n",
       "      <td>2018-11-11 23:07:34</td>\n",
       "      <td>dual/square</td>\n",
       "      <td>4.8</td>\n",
       "      <td>5.9</td>\n",
       "      <td>9000000.0</td>\n",
       "      <td>-300.0</td>\n",
       "    </tr>\n",
       "    <tr>\n",
       "      <th>32305</th>\n",
       "      <td>982</td>\n",
       "      <td>54211</td>\n",
       "      <td>335723</td>\n",
       "      <td>2018-09-30 20:13:16</td>\n",
       "      <td>2018-10-01 00:13:16</td>\n",
       "      <td>dual/square</td>\n",
       "      <td>6.8</td>\n",
       "      <td>4.6</td>\n",
       "      <td>7200000.0</td>\n",
       "      <td>-240.0</td>\n",
       "    </tr>\n",
       "  </tbody>\n",
       "</table>\n",
       "</div>"
      ],
      "text/plain": [
       "       PtID  RecID  ParentLOOPDeviceUploadsID           DeviceDtTm  \\\n",
       "31932   982  53838                     335722  2018-10-28 19:06:49   \n",
       "31942   982  53848                     335722  2018-11-11 18:07:34   \n",
       "32305   982  54211                     335723  2018-09-30 20:13:16   \n",
       "\n",
       "                  UTCDtTm    BolusType  Normal  Extended   Duration  \\\n",
       "31932 2018-10-29 00:06:49  dual/square     7.5       3.2  9900000.0   \n",
       "31942 2018-11-11 23:07:34  dual/square     4.8       5.9  9000000.0   \n",
       "32305 2018-10-01 00:13:16  dual/square     6.8       4.6  7200000.0   \n",
       "\n",
       "       TmZnOffset  \n",
       "31932      -300.0  \n",
       "31942      -300.0  \n",
       "32305      -240.0  "
      ]
     },
     "metadata": {},
     "output_type": "display_data"
    }
   ],
   "source": [
    "#print the fraction of extended boluses\n",
    "print(f'{100*df_bolus.Extended.notna().mean():.2f}% of boluses are extended')\n",
    "print(f'In {(df_bolus.Extended.notna() == df_bolus.Duration.notna()).mean():.1%} of all rows, it is either extended and duration are filled or neither')\n",
    "display(df_bolus.loc[df_bolus.Extended.notna()].head(3).dropna(axis=1,how='all'))"
   ]
  },
  {
   "cell_type": "code",
   "execution_count": 149,
   "id": "80212a67",
   "metadata": {},
   "outputs": [
    {
     "name": "stderr",
     "output_type": "stream",
     "text": [
      "/var/folders/m4/5d02b2xs0l52lbxzbk0t3vym0000gp/T/ipykernel_88214/530583255.py:12: SettingWithCopyWarning: \n",
      "A value is trying to be set on a copy of a slice from a DataFrame.\n",
      "Try using .loc[row_indexer,col_indexer] = value instead\n",
      "\n",
      "See the caveats in the documentation: https://pandas.pydata.org/pandas-docs/stable/user_guide/indexing.html#returning-a-view-versus-a-copy\n",
      "  normal.loc[:,'Duration'] = 0\n"
     ]
    },
    {
     "data": {
      "text/html": [
       "<div>\n",
       "<style scoped>\n",
       "    .dataframe tbody tr th:only-of-type {\n",
       "        vertical-align: middle;\n",
       "    }\n",
       "\n",
       "    .dataframe tbody tr th {\n",
       "        vertical-align: top;\n",
       "    }\n",
       "\n",
       "    .dataframe thead th {\n",
       "        text-align: right;\n",
       "    }\n",
       "</style>\n",
       "<table border=\"1\" class=\"dataframe\">\n",
       "  <thead>\n",
       "    <tr style=\"text-align: right;\">\n",
       "      <th></th>\n",
       "      <th>Datetime</th>\n",
       "      <th>Normal</th>\n",
       "      <th>Duration</th>\n",
       "    </tr>\n",
       "  </thead>\n",
       "  <tbody>\n",
       "    <tr>\n",
       "      <th>0</th>\n",
       "      <td>2024-01-01 00:00:00</td>\n",
       "      <td>10.0</td>\n",
       "      <td>0.0</td>\n",
       "    </tr>\n",
       "    <tr>\n",
       "      <th>1</th>\n",
       "      <td>2024-01-01 01:00:00</td>\n",
       "      <td>15.0</td>\n",
       "      <td>0.0</td>\n",
       "    </tr>\n",
       "    <tr>\n",
       "      <th>1</th>\n",
       "      <td>2024-01-01 01:00:00</td>\n",
       "      <td>5.0</td>\n",
       "      <td>30.0</td>\n",
       "    </tr>\n",
       "    <tr>\n",
       "      <th>2</th>\n",
       "      <td>2024-01-01 02:00:00</td>\n",
       "      <td>20.0</td>\n",
       "      <td>0.0</td>\n",
       "    </tr>\n",
       "  </tbody>\n",
       "</table>\n",
       "</div>"
      ],
      "text/plain": [
       "             Datetime  Normal  Duration\n",
       "0 2024-01-01 00:00:00    10.0       0.0\n",
       "1 2024-01-01 01:00:00    15.0       0.0\n",
       "1 2024-01-01 01:00:00     5.0      30.0\n",
       "2 2024-01-01 02:00:00    20.0       0.0"
      ]
     },
     "execution_count": 149,
     "metadata": {},
     "output_type": "execute_result"
    }
   ],
   "source": [
    "# Example how to concatenate the normal and extended boluses\n",
    "data = {\n",
    "    \"Datetime\": [\"2024-01-01 00:00\", \"2024-01-01 01:00\", \"2024-01-01 02:00\"],\n",
    "    \"Normal\": [10, 15, 20],\n",
    "    \"Extended\": [np.NaN, 5, np.NaN],\n",
    "    \"Duration\": [np.NaN, 30, np.NaN]\n",
    "}\n",
    "df = pd.DataFrame(data)\n",
    "df[\"Datetime\"] = pd.to_datetime(df[\"Datetime\"])\n",
    "\n",
    "normal = df[[\"Datetime\", \"Normal\"]]\n",
    "normal.loc[:,'Duration'] = 0\n",
    "\n",
    "extended = df.dropna(subset=['Extended'])[[\"Datetime\", \"Extended\", 'Duration']].rename(columns={\"Extended\": \"Normal\"})\n",
    "\n",
    "pd.concat([normal, extended], axis=0).sort_values('Datetime')\n"
   ]
  },
  {
   "cell_type": "markdown",
   "id": "ed79e128",
   "metadata": {},
   "source": [
    "## Basal"
   ]
  },
  {
   "cell_type": "code",
   "execution_count": null,
   "id": "a8940ded",
   "metadata": {},
   "outputs": [],
   "source": [
    "#example for duplicates in boluses\n",
    "def report_duplicates(ddf, subset, sort_by):    \n",
    "    num_duplicated = ddf.map_partitions(lambda x: x.duplicated().sum()).compute().sum()\n",
    "    print(f'{num_duplicated} duplicates ({100*num_duplicated/len(ddf):.2f}%)')\n",
    "\n",
    "    num_duplicated = ddf.map_partitions(lambda x: x.duplicated(subset=subset).sum()).compute().sum()\n",
    "    print(f'{num_duplicated} duplicates ({100*num_duplicated/len(ddf):.2f}%) {subset}')\n",
    "\n",
    "    df = ddf.partitions[0].compute()\n",
    "    bDuplicated = df.duplicated(keep=False)\n",
    "    display(df[bDuplicated].sort_values(sort_by).head(2))\n",
    "\n",
    "print('Bolus')\n",
    "report_duplicates(ddf_bolus, ['UTCDtTm', 'PtID'], ['UTCDtTm'])"
   ]
  },
  {
   "cell_type": "code",
   "execution_count": null,
   "id": "1598229f",
   "metadata": {},
   "outputs": [],
   "source": [
    "# Basal to parquet\n",
    "basal_columns = ['PtID', 'UTCDtTm', 'BasalType', 'Duration', 'ExpectedDuration', 'Percnt', 'Rate', 'SuprBasalType', 'SuprDuration', 'SuprRate', 'TmZnOffset']\n",
    "ddf_basal = dd.read_csv(os.path.join(loop_path, 'Data Tables', 'LOOPDeviceBasal*.txt'), sep='|', \n",
    "                        parse_dates=['UTCDtTm'], date_format='%Y-%m-%d %H:%M:%S', \n",
    "                        usecols=basal_columns)\n",
    "ddf_basal.to_parquet(os.path.join(loop_paquet_path, 'basal'), partition_on='PtID')"
   ]
  },
  {
   "cell_type": "markdown",
   "id": "02afa22d",
   "metadata": {},
   "source": [
    "Todos:\n",
    "Check if Datetime+duration > next Datetime --> "
   ]
  },
  {
   "cell_type": "markdown",
   "id": "2ab39e25",
   "metadata": {},
   "source": [
    "## CGM"
   ]
  },
  {
   "cell_type": "code",
   "execution_count": 92,
   "id": "3275df8d",
   "metadata": {},
   "outputs": [
    {
     "data": {
      "image/png": "[encoded data removed]",
      "text/plain": [
       "<Figure size 800x200 with 1 Axes>"
      ]
     },
     "metadata": {},
     "output_type": "display_data"
    },
    {
     "data": {
      "image/png": "[encoded data removed]",
      "text/plain": [
       "<Figure size 800x200 with 1 Axes>"
      ]
     },
     "metadata": {},
     "output_type": "display_data"
    }
   ],
   "source": [
    "durations = df_bolus.Duration.dropna().values/(1000*3600)\n",
    "plt.figure(figsize=(8, 2)); ax = plt.gca()\n",
    "cdf.plot_cdf(durations, xlabel='Duration',ax=ax)\n",
    "plt.figure(figsize=(8, 2)); ax = plt.gca()\n",
    "ax.hist(durations, bins=100, alpha=0.5, color='blue');"
   ]
  },
  {
   "cell_type": "markdown",
   "id": "c129f325",
   "metadata": {},
   "source": [
    "Now we know that Duration is the extended bolus duration. We need to split the row in an immediate and a extended part.\n",
    "We could do this efficiently by just creating new rows for the Extended parts."
   ]
  },
  {
   "cell_type": "markdown",
   "id": "da3c9f80",
   "metadata": {},
   "source": [
    "#### Special CGM Values"
   ]
  },
  {
   "cell_type": "markdown",
   "id": "e838efec",
   "metadata": {},
   "source": [
    "Let's check on CGM distribution. As we can see below, 0 and 400 CGM values are capped (as expected) but no 0 values exist."
   ]
  },
  {
   "cell_type": "code",
   "execution_count": null,
   "id": "14638807",
   "metadata": {},
   "outputs": [
    {
     "name": "stdout",
     "output_type": "stream",
     "text": [
      "Number of values around 0: 0\n"
     ]
    },
    {
     "data": {
      "image/png": "[encoded data removed]",
      "text/plain": [
       "<Figure size 700x200 with 1 Axes>"
      ]
     },
     "metadata": {},
     "output_type": "display_data"
    },
    {
     "data": {
      "image/png": "[encoded data removed]",
      "text/plain": [
       "<Figure size 700x200 with 1 Axes>"
      ]
     },
     "metadata": {},
     "output_type": "display_data"
    }
   ],
   "source": [
    "#Visualize CGM Distribution\n",
    "R = ddf_cgm.map_partitions(lambda x: x.CGMVal.sample(n=min(1000,len(x)))).compute()\n",
    "print(f\"Number of values around 0: {((R<1) & (R>-1)).sum()}\")\n",
    "plt.figure(figsize=(7, 2)); ax = plt.gca()\n",
    "cdf.plot_cdf(R*18, xlabel='CGM Value', ylabel='CDF', title='CGM Value Distribution',ax=ax)\n",
    "plt.xticks([0,40,70,180,400]);\n",
    "\n",
    "plt.figure(figsize=(7, 2)); ax = plt.gca()\n",
    "vc = (R*18).round().value_counts(normalize=True).sort_index()\n",
    "plt.bar(vc.index,vc.values, width=1, alpha=0.5);"
   ]
  },
  {
   "cell_type": "code",
   "execution_count": null,
   "id": "b5749c9d",
   "metadata": {},
   "outputs": [
    {
     "ename": "NameError",
     "evalue": "name 'ddf' is not defined",
     "output_type": "error",
     "traceback": [
      "\u001b[0;31m---------------------------------------------------------------------------\u001b[0m",
      "\u001b[0;31mNameError\u001b[0m                                 Traceback (most recent call last)",
      "Cell \u001b[0;32mIn[93], line 1\u001b[0m\n\u001b[0;32m----> 1\u001b[0m \u001b[43mddf\u001b[49m\n",
      "\u001b[0;31mNameError\u001b[0m: name 'ddf' is not defined"
     ]
    }
   ],
   "source": []
  },
  {
   "cell_type": "markdown",
   "id": "27767a6e",
   "metadata": {},
   "source": [
    "## Test Class"
   ]
  },
  {
   "cell_type": "code",
   "execution_count": null,
   "id": "d0b48244",
   "metadata": {},
   "outputs": [],
   "source": [
    "import os, sys\n",
    "sys.path.append(os.path.join(os.getcwd(),'..'))\n",
    "from src import cdf\n",
    "from studies import loop\n",
    "from studies.studydataset import StudyDataset\n",
    "from dask.distributed import Client\n",
    "#client = Client()\n",
    "import importlib\n",
    "importlib.reload(loop)\n",
    "\n",
    "#get the file path\n",
    "study: StudyDataset = loop.Loop(study_path=os.path.join(os.getcwd(), '..', 'data', 'raw', 'Loop study public dataset 2023-01-31'))\n",
    "r = study.extract_cgm_history()\n",
    "memory_size = r.memory_usage().sum() / 1024**2\n",
    "print(f\"Memory size of r: {memory_size:.2f} MB\");\n"
   ]
  }
 ],
 "metadata": {
  "kernelspec": {
   "display_name": "nudgebg",
   "language": "python",
   "name": "python3"
  },
  "language_info": {
   "codemirror_mode": {
    "name": "ipython",
    "version": 3
   },
   "file_extension": ".py",
   "mimetype": "text/x-python",
   "name": "python",
   "nbconvert_exporter": "python",
   "pygments_lexer": "ipython3",
   "version": "3.9.6"
  }
 },
 "nbformat": 4,
 "nbformat_minor": 5
}
