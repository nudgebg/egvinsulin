{
 "cells": [
  {
   "cell_type": "markdown",
   "id": "ea0d44eb-0c72-41fc-b821-5d1532975aa5",
   "metadata": {},
   "source": [
    "## Understanding Loop Dataset\n",
    "This notebook tries provides details on the structure of the Loop dataset and makes suggestions how to process the data."
   ]
  },
  {
   "cell_type": "markdown",
   "id": "dff75a17-c70d-4a31-bf4c-073eb7e2b68d",
   "metadata": {},
   "source": [
    "## The Loop study\n",
    "\n",
    "**Title**: An Observational Study of Individuals with Type 1 Diabetes Using the Loop System for Automated Insulin Delivery: The Loop Observational Study (LOS)\n",
    "\n",
    "\n",
    "**Description**: Passive data collection to collect data on the efficacy, safety, usability, and quality of life/ psychosocial effects of the Loop System\n",
    "    \n",
    "**Devices**: insulin pump and a Dexcom or Medtronic CGM\n",
    "\n",
    "**Study Population**: People of any age with Type 1 Diabetes"
   ]
  },
  {
   "cell_type": "markdown",
   "id": "9cdf33db-ebe9-4fa2-a814-d0383009c114",
   "metadata": {},
   "source": [
    "# Data\n",
    "The study data folder is named **Loop study public dataset 2023-01-31**\n",
    "\n",
    "From the DataGlossary.rtf file, the following relevant files were identified which are stored in the **Data Tables** subfolder.\n",
    "\n",
    "* **LOOPDeviceBasal#.txt**: #:1-3. LOOP study Basal data exported from Tidepool\n",
    "* **LOOPDeviceBolus.txt**: Bolus data exported from Tidepool\n",
    "* **LOOPDeviceCGM#.txt**: #;1-6. List of cgm data dowloaded \n",
    "* **PtRoster.txt**: Patient Roster\n",
    "\n",
    "These are csv files (\"|\" separator) and host many columns related to the Tandem pump events and the Dexcom cgm. The glossary provides information about each column. Each file contains a limited amount of columns compared to the FLAIR data. Below are **all** of the columns contained in each file\n",
    "\n",
    "## LOOPDeviceBasal1-3\n",
    "* **PtID**: Patient ID\n",
    "* **DeviceDtTm**: Local device date and time; note not present in most rows because unavailable in Tidepool data source\n",
    "* **UTCDtTm**: Date and time with timezone offset\n",
    "* **Duration**: Actual number of milliseconds basal will be in effect\n",
    "* **ExpectedDuration**: Expected number of milliseconds basal will be in effect\n",
    "* **Percnt**: Percentage of suppressed basal that should be delivered\n",
    "* **Rate**: Number of units per hour\n",
    "* **ExtendedBolusPortion**: Flag distinguishing the immediate (Now) portion of the bolus (if any) from the extended (Later) portion [Now, Later]\n",
    "* **SuprBasalType**: Suppressed basal delivery type (suppressed basal = basal event not being delivered because this one is active)\n",
    "* **SuprDuration**: Suppressed duration\n",
    "* **SuprRate**: Suppressed rate\n",
    "* **TmZnOffset**: Timezone offset\n",
    "\n",
    "## LOOPDeviceBolus\n",
    "* **PtID**: Patient ID\n",
    "* **DeviceDtTm**: Local device date and time; note not present in most rows because unavailable in Tidepool data source\n",
    "* **UTCDtTm**: Device date and time (with timezone offset)\n",
    "* **BolusType**: Subtype of data (ex: \"Normal\" and \"Square\" are subtypes of \"Bolus\" type)\n",
    "* **Normal**: Number of units of normal bolus\n",
    "* **ExpectedNormal**: Expected number of units of normal bolus\n",
    "* **Extended**: Number of units for extended delivery\n",
    "* **ExpectedExtended**: Expected number of units for extended delivery\n",
    "* **Duration**: Time span over which the bolus was delivered (milliseconds for Tidepool data, minutes for Diasend data)\n",
    "* **ExpectedDuration**: Expected time span over which the bolus should have been delivered (milliseconds for Tidepool data, minutes for Diasend data)\n",
    "* **TmZnOffset**: Timezone offset\n",
    "* **OriginName**: Data origin name\n",
    "* **OriginType**: Data origin type\n",
    "\n",
    "## LOOPDeviceCGM1-6\n",
    "* **PtID**: Patient ID\n",
    "* **DeviceDtTm**: Local device date and time; note not present in most rows because unavailable in Tidepool data source\n",
    "* **UTCDtTm**: Device date and time (with timezone offset)\n",
    "* **CGMVal**: Glucose reading from the CGM (in mmol/L from Tidepool)\n",
    "* **Units**: Glucose reading units\n",
    "* **DexInternalDtTm**: Dexcom Internal date and time\n",
    "* **DexTrend**: Dexcom trend\n",
    "* **TmZnOffset**: Timezone offset\n",
    "\n",
    "\n",
    "## Notes\n",
    "* There are 3 Basal files, 1 Bolus file, and 6 CGM files\n",
    "* The Basal files are 2.9GB, 2.9GB, and 1.35GB in size\n",
    "* The bolus file is 349 MB\n",
    "* The CGM files are 2.14, 2.24, 2.3, 2.31, 2.33, and 1.53 GB\n",
    "* There is exercise data contained within LOOPDeviceExercise\n",
    "* There is food data within LOOPDeviceFood\n",
    "## Questions\n",
    "* how do we determine if the data is uploaded from Tidepool of Diasend? This effects the extended boluses\n",
    "  "
   ]
  },
  {
   "cell_type": "code",
   "execution_count": 1,
   "id": "886427dc-4961-4459-899d-6fd9b5851fc2",
   "metadata": {},
   "outputs": [],
   "source": [
    "import os, sys, time, random\n",
    "import pandas as pd\n",
    "from datetime import datetime, timedelta\n",
    "import numpy as np\n",
    "from matplotlib import pyplot as plt\n",
    "import dask.dataframe as dd"
   ]
  },
  {
   "cell_type": "markdown",
   "id": "99ac96f8-5ae6-44b9-abbc-2c208e8d3283",
   "metadata": {},
   "source": [
    "## Determine best way to load large files"
   ]
  },
  {
   "cell_type": "code",
   "execution_count": 2,
   "id": "5d58d4f0-8420-4bcb-9e5a-c467e2195d69",
   "metadata": {},
   "outputs": [],
   "source": [
    "#get the file path\n",
    "current_dir = os.getcwd(); \n",
    "original_data_path = os.path.join(current_dir, '..', 'data/raw')\n",
    "cleaned_data_path = os.path.join(current_dir,  '..', 'data/cleaned')\n",
    "path = os.path.join(original_data_path, 'Loop study public dataset 2023-01-31', 'Data Tables', 'LOOPDeviceBasal1.txt')"
   ]
  },
  {
   "cell_type": "code",
   "execution_count": 4,
   "id": "8bbef60b-0144-4ab0-88ac-ba29d4ef4a2c",
   "metadata": {},
   "outputs": [
    {
     "name": "stdout",
     "output_type": "stream",
     "text": [
      "Loading one file of the Loop basal data (no optimizations) takes 675.51s\n"
     ]
    }
   ],
   "source": [
    "t = time.time()\n",
    "df_insulin = pd.read_csv(path, sep=\"|\", low_memory=False)\n",
    "elapsed = time.time() - t\n",
    "print(f\"Loading one file of the Loop basal data (no optimizations) takes {elapsed:.2f}s\")"
   ]
  },
  {
   "cell_type": "code",
   "execution_count": 5,
   "id": "4a576c4a-4a39-44b2-898f-3f7333edcf1a",
   "metadata": {},
   "outputs": [
    {
     "data": {
      "text/plain": [
       "Index(['PtID', 'RecID', 'ParentLOOPDeviceUploadsID', 'DeviceDtTm', 'UTCDtTm',\n",
       "       'BasalType', 'Duration', 'ExpectedDuration', 'Percnt', 'Rate',\n",
       "       'SuprBasalType', 'SuprDuration', 'SuprRate', 'TmZnOffset', 'OriginName',\n",
       "       'OriginVers', 'OriginType', 'OriginDeviceFirmwrVer',\n",
       "       'OriginDeviceHardwrVer', 'OriginDeviceManufact', 'OriginDeviceModel',\n",
       "       'OriginOperatingSystVer', 'OriginProductType'],\n",
       "      dtype='object')"
      ]
     },
     "execution_count": 5,
     "metadata": {},
     "output_type": "execute_result"
    }
   ],
   "source": [
    "df_insulin.columns"
   ]
  },
  {
   "cell_type": "code",
   "execution_count": 4,
   "id": "905e13b0-ca36-4441-a7b6-6b99bfd97341",
   "metadata": {},
   "outputs": [
    {
     "name": "stdout",
     "output_type": "stream",
     "text": [
      "Loading the Loop basal data (with reduced columns) takes 507.86s\n"
     ]
    }
   ],
   "source": [
    "t = time.time()\n",
    "df_insulin = pd.read_csv(path, sep=\"|\", low_memory=False,\n",
    "                         usecols=['PtID', 'UTCDtTm', 'BasalType', 'ExpectedDuration', 'Percnt', 'ExpectedDuration', 'Percnt', 'Rate',\n",
    "                         'SuprBasalType', 'SuprDuration', 'SuprRate', 'TmZnOffset','OriginName', 'OriginVers', 'OriginType'])\n",
    "elapsed = time.time() - t\n",
    "print(f\"Loading the Loop basal data (with reduced columns) takes {elapsed:.2f}s\")"
   ]
  },
  {
   "cell_type": "markdown",
   "id": "31725e69-95af-4ea0-a7f6-e259a4e6c68c",
   "metadata": {},
   "source": [
    "### Try dask for improved load times"
   ]
  },
  {
   "cell_type": "code",
   "execution_count": 59,
   "id": "db0cae15-b32f-4511-9223-89a800d41754",
   "metadata": {},
   "outputs": [
    {
     "name": "stdout",
     "output_type": "stream",
     "text": [
      "Loading one file of the Loop basal data with Dask while parsing dates takes 0.05s\n"
     ]
    }
   ],
   "source": [
    "t = time.time()\n",
    "df = dd.read_csv(path, sep=\"|\",\n",
    "                 usecols=['PtID', 'UTCDtTm', 'BasalType', 'ExpectedDuration', 'Percnt', 'ExpectedDuration', 'Percnt', 'Rate',\n",
    "                         'SuprBasalType', 'SuprDuration', 'SuprRate', 'TmZnOffset'],\n",
    "                 dtype={'DeviceDtTm': 'object',\n",
    "                       },\n",
    "                parse_dates=[1])\n",
    "elapsed = time.time() - t\n",
    "print(f\"Loading one file of the Loop basal data with Dask while parsing dates takes {elapsed:.2f}s\")"
   ]
  },
  {
   "cell_type": "code",
   "execution_count": 36,
   "id": "20ef9900-0248-4b0d-a435-a93fdf421015",
   "metadata": {},
   "outputs": [
    {
     "data": {
      "text/html": [
       "<div>\n",
       "<style scoped>\n",
       "    .dataframe tbody tr th:only-of-type {\n",
       "        vertical-align: middle;\n",
       "    }\n",
       "\n",
       "    .dataframe tbody tr th {\n",
       "        vertical-align: top;\n",
       "    }\n",
       "\n",
       "    .dataframe thead th {\n",
       "        text-align: right;\n",
       "    }\n",
       "</style>\n",
       "<table border=\"1\" class=\"dataframe\">\n",
       "  <thead>\n",
       "    <tr style=\"text-align: right;\">\n",
       "      <th></th>\n",
       "      <th>PtID</th>\n",
       "      <th>UTCDtTm</th>\n",
       "      <th>BasalType</th>\n",
       "      <th>ExpectedDuration</th>\n",
       "      <th>Percnt</th>\n",
       "      <th>Rate</th>\n",
       "      <th>SuprBasalType</th>\n",
       "      <th>SuprDuration</th>\n",
       "      <th>SuprRate</th>\n",
       "      <th>TmZnOffset</th>\n",
       "    </tr>\n",
       "  </thead>\n",
       "  <tbody>\n",
       "    <tr>\n",
       "      <th>0</th>\n",
       "      <td>1082</td>\n",
       "      <td>2018-05-29 10:02:56</td>\n",
       "      <td>temp</td>\n",
       "      <td>NaN</td>\n",
       "      <td>NaN</td>\n",
       "      <td>1.475</td>\n",
       "      <td>scheduled</td>\n",
       "      <td>NaN</td>\n",
       "      <td>1.6</td>\n",
       "      <td>NaN</td>\n",
       "    </tr>\n",
       "    <tr>\n",
       "      <th>1</th>\n",
       "      <td>1082</td>\n",
       "      <td>2018-05-29 09:57:55</td>\n",
       "      <td>temp</td>\n",
       "      <td>NaN</td>\n",
       "      <td>NaN</td>\n",
       "      <td>1.196</td>\n",
       "      <td>scheduled</td>\n",
       "      <td>NaN</td>\n",
       "      <td>1.6</td>\n",
       "      <td>NaN</td>\n",
       "    </tr>\n",
       "    <tr>\n",
       "      <th>2</th>\n",
       "      <td>1082</td>\n",
       "      <td>2018-05-29 09:54:04</td>\n",
       "      <td>temp</td>\n",
       "      <td>NaN</td>\n",
       "      <td>NaN</td>\n",
       "      <td>1.558</td>\n",
       "      <td>scheduled</td>\n",
       "      <td>NaN</td>\n",
       "      <td>1.6</td>\n",
       "      <td>NaN</td>\n",
       "    </tr>\n",
       "    <tr>\n",
       "      <th>3</th>\n",
       "      <td>1082</td>\n",
       "      <td>2018-05-29 09:49:44</td>\n",
       "      <td>temp</td>\n",
       "      <td>NaN</td>\n",
       "      <td>NaN</td>\n",
       "      <td>1.385</td>\n",
       "      <td>scheduled</td>\n",
       "      <td>NaN</td>\n",
       "      <td>1.6</td>\n",
       "      <td>NaN</td>\n",
       "    </tr>\n",
       "    <tr>\n",
       "      <th>4</th>\n",
       "      <td>1082</td>\n",
       "      <td>2018-05-29 09:45:42</td>\n",
       "      <td>temp</td>\n",
       "      <td>NaN</td>\n",
       "      <td>NaN</td>\n",
       "      <td>1.488</td>\n",
       "      <td>scheduled</td>\n",
       "      <td>NaN</td>\n",
       "      <td>1.6</td>\n",
       "      <td>NaN</td>\n",
       "    </tr>\n",
       "  </tbody>\n",
       "</table>\n",
       "</div>"
      ],
      "text/plain": [
       "   PtID             UTCDtTm BasalType  ExpectedDuration  Percnt   Rate  \\\n",
       "0  1082 2018-05-29 10:02:56      temp               NaN     NaN  1.475   \n",
       "1  1082 2018-05-29 09:57:55      temp               NaN     NaN  1.196   \n",
       "2  1082 2018-05-29 09:54:04      temp               NaN     NaN  1.558   \n",
       "3  1082 2018-05-29 09:49:44      temp               NaN     NaN  1.385   \n",
       "4  1082 2018-05-29 09:45:42      temp               NaN     NaN  1.488   \n",
       "\n",
       "  SuprBasalType  SuprDuration  SuprRate  TmZnOffset  \n",
       "0     scheduled           NaN       1.6         NaN  \n",
       "1     scheduled           NaN       1.6         NaN  \n",
       "2     scheduled           NaN       1.6         NaN  \n",
       "3     scheduled           NaN       1.6         NaN  \n",
       "4     scheduled           NaN       1.6         NaN  "
      ]
     },
     "metadata": {},
     "output_type": "display_data"
    },
    {
     "name": "stdout",
     "output_type": "stream",
     "text": [
      "Length of Dataframe:  19156089\n"
     ]
    }
   ],
   "source": [
    "display(df.head());\n",
    "print('Length of Dataframe: ',len(df.PtID.to_dask_array(lengths=True)))"
   ]
  },
  {
   "cell_type": "markdown",
   "id": "71ec3ae6-9aa5-4c19-95cc-24abdaf1ce93",
   "metadata": {},
   "source": [
    "* Dask should allow us to quickly load these data sets and the dataframes are used in the same way as pandas.\n",
    "* Documentation: https://docs.dask.org/en/stable/dataframe.html"
   ]
  },
  {
   "cell_type": "markdown",
   "id": "5d2fe84f-0f12-4e6c-9061-a0cca7a8f979",
   "metadata": {},
   "source": [
    "## Load the data"
   ]
  },
  {
   "cell_type": "code",
   "execution_count": 28,
   "id": "e895b76e-4fcf-4a0d-b5fc-11185ed133d6",
   "metadata": {},
   "outputs": [],
   "source": [
    "path = os.path.join(original_data_path, 'Loop study public dataset 2023-01-31', 'Data Tables', 'LOOPDeviceBasal1.txt')\n",
    "df_basal = dd.read_csv(path, sep=\"|\",\n",
    "                 usecols=['PtID', 'UTCDtTm', 'BasalType', 'ExpectedDuration', 'Percnt', 'ExpectedDuration', 'Percnt', 'Rate'],\n",
    "                 dtype={'DeviceDtTm': 'object',\n",
    "                       },\n",
    "                parse_dates=[1])\n",
    "\n",
    "path = os.path.join(original_data_path, 'Loop study public dataset 2023-01-31', 'Data Tables', 'LOOPDeviceBolus.txt')\n",
    "df_bolus = dd.read_csv(path, sep=\"|\",\n",
    "                 usecols=['PtID', 'UTCDtTm', 'BolusType', 'Normal', 'Extended', 'Duration'],\n",
    "                 dtype={'DeviceDtTm': 'object',\n",
    "                       },\n",
    "                parse_dates=[1])\n",
    "\n",
    "path = os.path.join(original_data_path, 'Loop study public dataset 2023-01-31', 'Data Tables', 'LOOPDeviceCGM1.txt')\n",
    "df_cgm = dd.read_csv(path, sep=\"|\",\n",
    "                 usecols=['PtID', 'UTCDtTm', 'CGMVal', 'Units', 'DexInternalDtTm'],\n",
    "                 dtype={'DeviceDtTm': 'object',\n",
    "                       'DexInternalDtTm': 'object'},\n",
    "                parse_dates=[1])"
   ]
  },
  {
   "cell_type": "markdown",
   "id": "1d3f11a5-8c8d-48eb-8ce2-d0943fe060bc",
   "metadata": {},
   "source": [
    "## inspecting the Dask dataframe"
   ]
  },
  {
   "cell_type": "markdown",
   "id": "c1cb5041-2647-4982-893f-9b2a6c8ac64e",
   "metadata": {},
   "source": [
    "### data is partitioned into multiple pandas data frame"
   ]
  },
  {
   "cell_type": "code",
   "execution_count": 42,
   "id": "cee1037f-90e1-4fa2-9a86-bf19248469c4",
   "metadata": {},
   "outputs": [
    {
     "name": "stdout",
     "output_type": "stream",
     "text": [
      "There are 33 partitions in the CGM data\n"
     ]
    }
   ],
   "source": [
    "partitions = df_cgm.npartitions \n",
    "print(f'There are {partitions:d} partitions in the CGM data')"
   ]
  },
  {
   "cell_type": "code",
   "execution_count": 47,
   "id": "d9beee35-e81b-4658-8bb1-6c5de7fed8fa",
   "metadata": {},
   "outputs": [
    {
     "name": "stdout",
     "output_type": "stream",
     "text": [
      "There are 580069 rows in the first partition of the CGM data\n"
     ]
    }
   ],
   "source": [
    "length = len(df_cgm.partitions[0])\n",
    "print(f'There are {length:d} rows in the first partition of the CGM data')"
   ]
  },
  {
   "cell_type": "markdown",
   "id": "7b69644f-dc54-43ed-ba59-62995f33eb84",
   "metadata": {},
   "source": [
    "### number of unique values across the entire dataframe"
   ]
  },
  {
   "cell_type": "code",
   "execution_count": 62,
   "id": "25a61a65-db1d-474b-823f-d4814bbb0f74",
   "metadata": {},
   "outputs": [
    {
     "data": {
      "text/plain": [
       "variable\n",
       "CGMVal               315691\n",
       "DexInternalDtTm      123994\n",
       "PtID                    589\n",
       "UTCDtTm            14592206\n",
       "Units                     1\n",
       "Name: value, dtype: int64"
      ]
     },
     "execution_count": 62,
     "metadata": {},
     "output_type": "execute_result"
    }
   ],
   "source": [
    "df_cgm.melt().groupby('variable')['value'].nunique().compute()"
   ]
  },
  {
   "cell_type": "markdown",
   "id": "7be8a2bf-cf68-41de-b3d7-0e06a0933872",
   "metadata": {},
   "source": [
    "### number of unique values in the first partition"
   ]
  },
  {
   "cell_type": "code",
   "execution_count": 64,
   "id": "1557b0ef-6197-46eb-8acb-5fd0b97bfaa9",
   "metadata": {},
   "outputs": [
    {
     "data": {
      "text/plain": [
       "variable\n",
       "CGMVal              25351\n",
       "DexInternalDtTm      8659\n",
       "PtID                   24\n",
       "UTCDtTm            558881\n",
       "Units                   1\n",
       "Name: value, dtype: int64"
      ]
     },
     "execution_count": 64,
     "metadata": {},
     "output_type": "execute_result"
    }
   ],
   "source": [
    "df_cgm.partitions[0].melt().groupby('variable')['value'].nunique().compute()"
   ]
  },
  {
   "cell_type": "code",
   "execution_count": 70,
   "id": "acbdbed7-34a4-40f1-9408-0f170235ee85",
   "metadata": {},
   "outputs": [
    {
     "data": {
      "text/plain": [
       "0     1082\n",
       "1     1173\n",
       "2      296\n",
       "3     1152\n",
       "4     1013\n",
       "5      829\n",
       "6      104\n",
       "7      942\n",
       "8      105\n",
       "9      960\n",
       "10     467\n",
       "11     458\n",
       "12     589\n",
       "13     407\n",
       "14     856\n",
       "15     605\n",
       "16     738\n",
       "17     787\n",
       "18     691\n",
       "19     763\n",
       "20     653\n",
       "21     511\n",
       "22      85\n",
       "23     164\n",
       "Name: PtID, dtype: int64"
      ]
     },
     "execution_count": 70,
     "metadata": {},
     "output_type": "execute_result"
    }
   ],
   "source": [
    "df_cgm.partitions[0].PtID.unique().compute()"
   ]
  },
  {
   "cell_type": "code",
   "execution_count": 71,
   "id": "f13ce4a3-a56f-49c3-9f5e-60212ec51af4",
   "metadata": {},
   "outputs": [
    {
     "data": {
      "text/plain": [
       "0      164\n",
       "1      425\n",
       "2      213\n",
       "3     1080\n",
       "4      153\n",
       "5      621\n",
       "6      462\n",
       "7      543\n",
       "8      607\n",
       "9      826\n",
       "10      67\n",
       "11     961\n",
       "12     970\n",
       "13     456\n",
       "14    1082\n",
       "15    1173\n",
       "16     296\n",
       "17    1152\n",
       "18    1013\n",
       "19     104\n",
       "20     942\n",
       "21     105\n",
       "22     960\n",
       "23     467\n",
       "24     605\n",
       "25     458\n",
       "26     589\n",
       "27     407\n",
       "28     856\n",
       "29     738\n",
       "30     787\n",
       "31     691\n",
       "32     763\n",
       "33     653\n",
       "34     511\n",
       "35      85\n",
       "36     920\n",
       "37     936\n",
       "38    1079\n",
       "39    1081\n",
       "40     968\n",
       "41    1138\n",
       "42     125\n",
       "43     644\n",
       "44     859\n",
       "45     650\n",
       "46     587\n",
       "47     212\n",
       "Name: PtID, dtype: int64"
      ]
     },
     "execution_count": 71,
     "metadata": {},
     "output_type": "execute_result"
    }
   ],
   "source": [
    "df_cgm.partitions[1].PtID.unique().compute()"
   ]
  },
  {
   "cell_type": "markdown",
   "id": "329b3a33-bbfc-48be-8e06-86c94d90af29",
   "metadata": {},
   "source": [
    "### There are multiple crossovers between each partition on patient IDs\n",
    " how do we ensure there are only unique ids in each partition?"
   ]
  },
  {
   "cell_type": "code",
   "execution_count": 74,
   "id": "64ffd0bb-f884-47ef-af74-c128878d4804",
   "metadata": {},
   "outputs": [
    {
     "name": "stdout",
     "output_type": "stream",
     "text": [
      "Partition 1 date range:  2017-10-20 15:11:26  to  2019-01-13 03:49:46\n"
     ]
    }
   ],
   "source": [
    "print('Partition 1 date range: ', df_cgm.partitions[0].UTCDtTm.min().compute(),' to ', df_cgm.partitions[0].UTCDtTm.max().compute())"
   ]
  },
  {
   "cell_type": "code",
   "execution_count": 75,
   "id": "4bc76fa1-5b6e-4a4c-90bd-e80609fff24f",
   "metadata": {},
   "outputs": [
    {
     "name": "stdout",
     "output_type": "stream",
     "text": [
      "Partition 2 date range:  2017-10-23 19:44:45  to  2019-01-17 04:39:34\n"
     ]
    }
   ],
   "source": [
    "print('Partition 2 date range: ', df_cgm.partitions[1].UTCDtTm.min().compute(),' to ', df_cgm.partitions[1].UTCDtTm.max().compute())"
   ]
  },
  {
   "cell_type": "code",
   "execution_count": 76,
   "id": "60024821-977c-4d7f-82a2-72ab2e38e2f9",
   "metadata": {},
   "outputs": [
    {
     "name": "stdout",
     "output_type": "stream",
     "text": [
      "Partition 1 CGM range:  2.10928  to  22.2585\n"
     ]
    }
   ],
   "source": [
    "print('Partition 1 CGM range: ', df_cgm.partitions[0].CGMVal.min().compute(),' to ', df_cgm.partitions[0].CGMVal.max().compute())"
   ]
  },
  {
   "cell_type": "code",
   "execution_count": 77,
   "id": "fcb5d4f7-ca44-40d4-b14e-307e13f3d8da",
   "metadata": {},
   "outputs": [
    {
     "name": "stdout",
     "output_type": "stream",
     "text": [
      "Partition 1 CGM range:  1.77624  to  22.2585\n"
     ]
    }
   ],
   "source": [
    "print('Partition 1 CGM range: ', df_cgm.partitions[1].CGMVal.min().compute(),' to ', df_cgm.partitions[1].CGMVal.max().compute())"
   ]
  },
  {
   "cell_type": "code",
   "execution_count": 3,
   "id": "5e9dbf11-8c72-4468-98b9-a3944466f155",
   "metadata": {},
   "outputs": [
    {
     "name": "stdout",
     "output_type": "stream",
     "text": [
      "Loading Loop CGM data with Dask while parsing dates takes 0.03s\n"
     ]
    }
   ],
   "source": [
    "path = os.path.join(original_data_path, 'Loop study public dataset 2023-01-31', 'Data Tables', 'LOOPDeviceCGM1.txt')\n",
    "t = time.time()\n",
    "df_cgm = dd.read_csv(path, sep=\"|\",\n",
    "                 usecols=['PtID', 'UTCDtTm', 'CGMVal', 'Units', 'DexInternalDtTm'],\n",
    "                 dtype={'DeviceDtTm': 'object',\n",
    "                       'DexInternalDtTm': 'object'},\n",
    "                parse_dates=[1])\n",
    "elapsed = time.time() - t\n",
    "print(f\"Loading Loop CGM data with Dask while parsing dates takes {elapsed:.2f}s\")"
   ]
  },
  {
   "cell_type": "code",
   "execution_count": 8,
   "id": "d8f15f92-0308-4720-8d50-5c63aabca3d9",
   "metadata": {},
   "outputs": [
    {
     "name": "stdout",
     "output_type": "stream",
     "text": [
      "Repartitioning data takes 141.12s\n"
     ]
    }
   ],
   "source": [
    "t = time.time()\n",
    "df_cgm_dt = df_cgm.set_index(df_cgm.UTCDtTm, sorted=False)\n",
    "df_cgm_dt = df_cgm_dt.repartition(npartitions=25)\n",
    "elapsed = time.time() - t\n",
    "print(f\"Repartitioning data takes {elapsed:.2f}s\")"
   ]
  },
  {
   "cell_type": "code",
   "execution_count": 82,
   "id": "544ae5d5-a91a-4bbe-bb6a-fb5afafda6ca",
   "metadata": {},
   "outputs": [
    {
     "name": "stdout",
     "output_type": "stream",
     "text": [
      "Partition 1 date range:  2017-03-05 06:21:42  to  2018-01-23 18:34:48\n"
     ]
    }
   ],
   "source": [
    "print('Partition 1 date range: ', df_cgm_dt.partitions[0].UTCDtTm.min().compute(),' to ', df_cgm_dt.partitions[0].UTCDtTm.max().compute())"
   ]
  },
  {
   "cell_type": "code",
   "execution_count": 83,
   "id": "1224fc86-ec15-42ab-a7ff-e93dfc74d160",
   "metadata": {},
   "outputs": [
    {
     "name": "stdout",
     "output_type": "stream",
     "text": [
      "Partition 2 date range:  2018-01-23 18:34:50  to  2018-03-01 17:03:59\n"
     ]
    }
   ],
   "source": [
    "print('Partition 2 date range: ', df_cgm_dt.partitions[1].UTCDtTm.min().compute(),' to ', df_cgm_dt.partitions[1].UTCDtTm.max().compute())"
   ]
  },
  {
   "cell_type": "code",
   "execution_count": 5,
   "id": "64b79864-a3b8-4c8f-b683-6ca4c52bf9e0",
   "metadata": {},
   "outputs": [
    {
     "name": "stdout",
     "output_type": "stream",
     "text": [
      "Repartitioning data takes 137.21s\n"
     ]
    }
   ],
   "source": [
    "t = time.time()\n",
    "df_cgm_id = df_cgm.set_index(df_cgm.PtID, sorted=False)\n",
    "df_cgm_id = df_cgm_id.repartition(npartitions=589)\n",
    "elapsed = time.time() - t\n",
    "print(f\"Repartitioning data takes {elapsed:.2f}s\")"
   ]
  },
  {
   "cell_type": "code",
   "execution_count": 89,
   "id": "cba7049d-b23e-43df-8a6b-59b1fe400c7c",
   "metadata": {},
   "outputs": [
    {
     "data": {
      "text/plain": [
       "0    3\n",
       "Name: PtID, dtype: int64"
      ]
     },
     "execution_count": 89,
     "metadata": {},
     "output_type": "execute_result"
    }
   ],
   "source": [
    "df_cgm_id.partitions[0].PtID.unique().compute()"
   ]
  },
  {
   "cell_type": "code",
   "execution_count": 90,
   "id": "188b7541-1632-4d4b-b1e2-c50218962b8d",
   "metadata": {},
   "outputs": [
    {
     "data": {
      "text/plain": [
       "0    4\n",
       "Name: PtID, dtype: int64"
      ]
     },
     "execution_count": 90,
     "metadata": {},
     "output_type": "execute_result"
    }
   ],
   "source": [
    "df_cgm_id.partitions[1].PtID.unique().compute()"
   ]
  },
  {
   "cell_type": "code",
   "execution_count": 91,
   "id": "6efe1aea-df86-40c9-874c-ecdf95a470cc",
   "metadata": {},
   "outputs": [
    {
     "data": {
      "text/html": [
       "<div>\n",
       "<style scoped>\n",
       "    .dataframe tbody tr th:only-of-type {\n",
       "        vertical-align: middle;\n",
       "    }\n",
       "\n",
       "    .dataframe tbody tr th {\n",
       "        vertical-align: top;\n",
       "    }\n",
       "\n",
       "    .dataframe thead th {\n",
       "        text-align: right;\n",
       "    }\n",
       "</style>\n",
       "<table border=\"1\" class=\"dataframe\">\n",
       "  <thead>\n",
       "    <tr style=\"text-align: right;\">\n",
       "      <th></th>\n",
       "      <th>PtID</th>\n",
       "      <th>UTCDtTm</th>\n",
       "      <th>CGMVal</th>\n",
       "      <th>Units</th>\n",
       "      <th>DexInternalDtTm</th>\n",
       "    </tr>\n",
       "    <tr>\n",
       "      <th>PtID</th>\n",
       "      <th></th>\n",
       "      <th></th>\n",
       "      <th></th>\n",
       "      <th></th>\n",
       "      <th></th>\n",
       "    </tr>\n",
       "  </thead>\n",
       "  <tbody>\n",
       "    <tr>\n",
       "      <th>3</th>\n",
       "      <td>3</td>\n",
       "      <td>2018-10-20 12:12:57</td>\n",
       "      <td>9.71381</td>\n",
       "      <td>mmol/L</td>\n",
       "      <td>&lt;NA&gt;</td>\n",
       "    </tr>\n",
       "    <tr>\n",
       "      <th>3</th>\n",
       "      <td>3</td>\n",
       "      <td>2018-10-12 08:25:18</td>\n",
       "      <td>15.15350</td>\n",
       "      <td>mmol/L</td>\n",
       "      <td>&lt;NA&gt;</td>\n",
       "    </tr>\n",
       "    <tr>\n",
       "      <th>3</th>\n",
       "      <td>3</td>\n",
       "      <td>2018-10-12 08:20:17</td>\n",
       "      <td>15.54210</td>\n",
       "      <td>mmol/L</td>\n",
       "      <td>&lt;NA&gt;</td>\n",
       "    </tr>\n",
       "    <tr>\n",
       "      <th>3</th>\n",
       "      <td>3</td>\n",
       "      <td>2018-10-12 08:15:18</td>\n",
       "      <td>15.93070</td>\n",
       "      <td>mmol/L</td>\n",
       "      <td>&lt;NA&gt;</td>\n",
       "    </tr>\n",
       "    <tr>\n",
       "      <th>3</th>\n",
       "      <td>3</td>\n",
       "      <td>2018-10-12 08:10:18</td>\n",
       "      <td>16.09720</td>\n",
       "      <td>mmol/L</td>\n",
       "      <td>&lt;NA&gt;</td>\n",
       "    </tr>\n",
       "  </tbody>\n",
       "</table>\n",
       "</div>"
      ],
      "text/plain": [
       "      PtID             UTCDtTm    CGMVal   Units DexInternalDtTm\n",
       "PtID                                                            \n",
       "3        3 2018-10-20 12:12:57   9.71381  mmol/L            <NA>\n",
       "3        3 2018-10-12 08:25:18  15.15350  mmol/L            <NA>\n",
       "3        3 2018-10-12 08:20:17  15.54210  mmol/L            <NA>\n",
       "3        3 2018-10-12 08:15:18  15.93070  mmol/L            <NA>\n",
       "3        3 2018-10-12 08:10:18  16.09720  mmol/L            <NA>"
      ]
     },
     "metadata": {},
     "output_type": "display_data"
    }
   ],
   "source": [
    "display(df_cgm_id.partitions[0].head());"
   ]
  },
  {
   "cell_type": "code",
   "execution_count": 6,
   "id": "9774ab1f-574a-4efa-9de0-0ee1f6e21939",
   "metadata": {},
   "outputs": [
    {
     "data": {
      "text/html": [
       "<div><strong>Dask DataFrame Structure:</strong></div>\n",
       "<div>\n",
       "<style scoped>\n",
       "    .dataframe tbody tr th:only-of-type {\n",
       "        vertical-align: middle;\n",
       "    }\n",
       "\n",
       "    .dataframe tbody tr th {\n",
       "        vertical-align: top;\n",
       "    }\n",
       "\n",
       "    .dataframe thead th {\n",
       "        text-align: right;\n",
       "    }\n",
       "</style>\n",
       "<table border=\"1\" class=\"dataframe\">\n",
       "  <thead>\n",
       "    <tr style=\"text-align: right;\">\n",
       "      <th></th>\n",
       "      <th>PtID</th>\n",
       "      <th>UTCDtTm</th>\n",
       "      <th>CGMVal</th>\n",
       "      <th>Units</th>\n",
       "      <th>DexInternalDtTm</th>\n",
       "    </tr>\n",
       "    <tr>\n",
       "      <th>npartitions=589</th>\n",
       "      <th></th>\n",
       "      <th></th>\n",
       "      <th></th>\n",
       "      <th></th>\n",
       "      <th></th>\n",
       "    </tr>\n",
       "  </thead>\n",
       "  <tbody>\n",
       "    <tr>\n",
       "      <th>3</th>\n",
       "      <td>int64</td>\n",
       "      <td>datetime64[ns]</td>\n",
       "      <td>float64</td>\n",
       "      <td>string</td>\n",
       "      <td>string</td>\n",
       "    </tr>\n",
       "    <tr>\n",
       "      <th>4</th>\n",
       "      <td>...</td>\n",
       "      <td>...</td>\n",
       "      <td>...</td>\n",
       "      <td>...</td>\n",
       "      <td>...</td>\n",
       "    </tr>\n",
       "    <tr>\n",
       "      <th>...</th>\n",
       "      <td>...</td>\n",
       "      <td>...</td>\n",
       "      <td>...</td>\n",
       "      <td>...</td>\n",
       "      <td>...</td>\n",
       "    </tr>\n",
       "    <tr>\n",
       "      <th>1209</th>\n",
       "      <td>...</td>\n",
       "      <td>...</td>\n",
       "      <td>...</td>\n",
       "      <td>...</td>\n",
       "      <td>...</td>\n",
       "    </tr>\n",
       "    <tr>\n",
       "      <th>1211</th>\n",
       "      <td>...</td>\n",
       "      <td>...</td>\n",
       "      <td>...</td>\n",
       "      <td>...</td>\n",
       "      <td>...</td>\n",
       "    </tr>\n",
       "  </tbody>\n",
       "</table>\n",
       "</div>\n",
       "<div>Dask Name: repartition-merge, 10 graph layers</div>"
      ],
      "text/plain": [
       "Dask DataFrame Structure:\n",
       "                  PtID         UTCDtTm   CGMVal   Units DexInternalDtTm\n",
       "npartitions=589                                                        \n",
       "3                int64  datetime64[ns]  float64  string          string\n",
       "4                  ...             ...      ...     ...             ...\n",
       "...                ...             ...      ...     ...             ...\n",
       "1209               ...             ...      ...     ...             ...\n",
       "1211               ...             ...      ...     ...             ...\n",
       "Dask Name: repartition-merge, 10 graph layers"
      ]
     },
     "execution_count": 6,
     "metadata": {},
     "output_type": "execute_result"
    }
   ],
   "source": [
    "df_cgm_id"
   ]
  },
  {
   "cell_type": "code",
   "execution_count": 3,
   "id": "ae25be45-76b2-4e45-a65f-8d96e64fe3ba",
   "metadata": {},
   "outputs": [
    {
     "name": "stdout",
     "output_type": "stream",
     "text": [
      "Loading all 6 Loop CGM data files with Dask while parsing dates takes 0.04s\n"
     ]
    }
   ],
   "source": [
    "path = os.path.join(original_data_path, 'Loop study public dataset 2023-01-31', 'Data Tables', 'LOOPDeviceCGM*.txt')\n",
    "t = time.time()\n",
    "df_cgm = dd.read_csv(path, sep=\"|\",\n",
    "                 usecols=['PtID', 'UTCDtTm', 'CGMVal', 'Units'],\n",
    "                 dtype={'DeviceDtTm': 'object',\n",
    "                       'DexInternalDtTm': 'object'},\n",
    "                parse_dates=[1])\n",
    "elapsed = time.time() - t\n",
    "print(f\"Loading all 6 Loop CGM data files with Dask while parsing dates takes {elapsed:.2f}s\")"
   ]
  },
  {
   "cell_type": "code",
   "execution_count": 8,
   "id": "11a90f04-97bb-4b52-acf8-0a29206199a9",
   "metadata": {},
   "outputs": [
    {
     "data": {
      "text/plain": [
       "variable\n",
       "CGMVal               346237\n",
       "DexInternalDtTm      343999\n",
       "PtID                    851\n",
       "UTCDtTm            45095186\n",
       "Units                     1\n",
       "Name: value, dtype: int64"
      ]
     },
     "execution_count": 8,
     "metadata": {},
     "output_type": "execute_result"
    }
   ],
   "source": [
    "df_cgm.melt().groupby('variable')['value'].nunique().compute()"
   ]
  },
  {
   "cell_type": "code",
   "execution_count": 4,
   "id": "23b2b5a3-89ec-49d6-b83b-0a72a0dbf4f6",
   "metadata": {},
   "outputs": [
    {
     "name": "stdout",
     "output_type": "stream",
     "text": [
      "Repartitioning CGM data into individual PtID partitions takes 796.21s\n"
     ]
    }
   ],
   "source": [
    "t = time.time()\n",
    "df_cgm_id = df_cgm.set_index(df_cgm.PtID, sorted=False)\n",
    "df_cgm_id = df_cgm_id.repartition(npartitions=851)\n",
    "elapsed = time.time() - t\n",
    "print(f\"Repartitioning CGM data into individual PtID partitions takes {elapsed:.2f}s\")"
   ]
  },
  {
   "cell_type": "code",
   "execution_count": 6,
   "id": "6bc8579a-a0cb-47a3-a13b-f9bfaa94419c",
   "metadata": {},
   "outputs": [
    {
     "data": {
      "text/html": [
       "<div>\n",
       "<style scoped>\n",
       "    .dataframe tbody tr th:only-of-type {\n",
       "        vertical-align: middle;\n",
       "    }\n",
       "\n",
       "    .dataframe tbody tr th {\n",
       "        vertical-align: top;\n",
       "    }\n",
       "\n",
       "    .dataframe thead th {\n",
       "        text-align: right;\n",
       "    }\n",
       "</style>\n",
       "<table border=\"1\" class=\"dataframe\">\n",
       "  <thead>\n",
       "    <tr style=\"text-align: right;\">\n",
       "      <th></th>\n",
       "      <th>PtID</th>\n",
       "      <th>UTCDtTm</th>\n",
       "      <th>CGMVal</th>\n",
       "      <th>Units</th>\n",
       "      <th>DexInternalDtTm</th>\n",
       "    </tr>\n",
       "    <tr>\n",
       "      <th>PtID</th>\n",
       "      <th></th>\n",
       "      <th></th>\n",
       "      <th></th>\n",
       "      <th></th>\n",
       "      <th></th>\n",
       "    </tr>\n",
       "  </thead>\n",
       "  <tbody>\n",
       "    <tr>\n",
       "      <th>1211</th>\n",
       "      <td>1211</td>\n",
       "      <td>2018-10-06 02:30:26</td>\n",
       "      <td>6.93843</td>\n",
       "      <td>mmol/L</td>\n",
       "      <td>&lt;NA&gt;</td>\n",
       "    </tr>\n",
       "    <tr>\n",
       "      <th>1211</th>\n",
       "      <td>1211</td>\n",
       "      <td>2018-09-09 11:03:08</td>\n",
       "      <td>6.82742</td>\n",
       "      <td>mmol/L</td>\n",
       "      <td>&lt;NA&gt;</td>\n",
       "    </tr>\n",
       "    <tr>\n",
       "      <th>1211</th>\n",
       "      <td>1211</td>\n",
       "      <td>2018-09-09 11:03:08</td>\n",
       "      <td>6.82742</td>\n",
       "      <td>mmol/L</td>\n",
       "      <td>&lt;NA&gt;</td>\n",
       "    </tr>\n",
       "    <tr>\n",
       "      <th>1211</th>\n",
       "      <td>1211</td>\n",
       "      <td>2018-09-09 10:58:08</td>\n",
       "      <td>6.60539</td>\n",
       "      <td>mmol/L</td>\n",
       "      <td>&lt;NA&gt;</td>\n",
       "    </tr>\n",
       "    <tr>\n",
       "      <th>1211</th>\n",
       "      <td>1211</td>\n",
       "      <td>2018-09-09 10:58:08</td>\n",
       "      <td>6.60539</td>\n",
       "      <td>mmol/L</td>\n",
       "      <td>&lt;NA&gt;</td>\n",
       "    </tr>\n",
       "    <tr>\n",
       "      <th>1211</th>\n",
       "      <td>1211</td>\n",
       "      <td>2018-09-09 10:53:08</td>\n",
       "      <td>6.16133</td>\n",
       "      <td>mmol/L</td>\n",
       "      <td>&lt;NA&gt;</td>\n",
       "    </tr>\n",
       "    <tr>\n",
       "      <th>1211</th>\n",
       "      <td>1211</td>\n",
       "      <td>2018-08-21 05:04:11</td>\n",
       "      <td>9.93584</td>\n",
       "      <td>mmol/L</td>\n",
       "      <td>&lt;NA&gt;</td>\n",
       "    </tr>\n",
       "    <tr>\n",
       "      <th>1211</th>\n",
       "      <td>1211</td>\n",
       "      <td>2018-08-21 04:59:11</td>\n",
       "      <td>9.93584</td>\n",
       "      <td>mmol/L</td>\n",
       "      <td>&lt;NA&gt;</td>\n",
       "    </tr>\n",
       "    <tr>\n",
       "      <th>1211</th>\n",
       "      <td>1211</td>\n",
       "      <td>2018-08-21 04:59:11</td>\n",
       "      <td>9.93584</td>\n",
       "      <td>mmol/L</td>\n",
       "      <td>&lt;NA&gt;</td>\n",
       "    </tr>\n",
       "    <tr>\n",
       "      <th>1211</th>\n",
       "      <td>1211</td>\n",
       "      <td>2018-08-21 04:54:12</td>\n",
       "      <td>10.04690</td>\n",
       "      <td>mmol/L</td>\n",
       "      <td>&lt;NA&gt;</td>\n",
       "    </tr>\n",
       "    <tr>\n",
       "      <th>1211</th>\n",
       "      <td>1211</td>\n",
       "      <td>2018-08-21 04:54:12</td>\n",
       "      <td>10.04680</td>\n",
       "      <td>mmol/L</td>\n",
       "      <td>&lt;NA&gt;</td>\n",
       "    </tr>\n",
       "    <tr>\n",
       "      <th>1211</th>\n",
       "      <td>1211</td>\n",
       "      <td>2018-08-21 04:49:12</td>\n",
       "      <td>10.15790</td>\n",
       "      <td>mmol/L</td>\n",
       "      <td>&lt;NA&gt;</td>\n",
       "    </tr>\n",
       "    <tr>\n",
       "      <th>1211</th>\n",
       "      <td>1211</td>\n",
       "      <td>2018-08-21 04:49:12</td>\n",
       "      <td>10.15790</td>\n",
       "      <td>mmol/L</td>\n",
       "      <td>&lt;NA&gt;</td>\n",
       "    </tr>\n",
       "    <tr>\n",
       "      <th>1211</th>\n",
       "      <td>1211</td>\n",
       "      <td>2018-08-21 04:44:13</td>\n",
       "      <td>10.32440</td>\n",
       "      <td>mmol/L</td>\n",
       "      <td>&lt;NA&gt;</td>\n",
       "    </tr>\n",
       "    <tr>\n",
       "      <th>1211</th>\n",
       "      <td>1211</td>\n",
       "      <td>2018-08-21 04:44:13</td>\n",
       "      <td>10.32440</td>\n",
       "      <td>mmol/L</td>\n",
       "      <td>&lt;NA&gt;</td>\n",
       "    </tr>\n",
       "  </tbody>\n",
       "</table>\n",
       "</div>"
      ],
      "text/plain": [
       "      PtID             UTCDtTm    CGMVal   Units DexInternalDtTm\n",
       "PtID                                                            \n",
       "1211  1211 2018-10-06 02:30:26   6.93843  mmol/L            <NA>\n",
       "1211  1211 2018-09-09 11:03:08   6.82742  mmol/L            <NA>\n",
       "1211  1211 2018-09-09 11:03:08   6.82742  mmol/L            <NA>\n",
       "1211  1211 2018-09-09 10:58:08   6.60539  mmol/L            <NA>\n",
       "1211  1211 2018-09-09 10:58:08   6.60539  mmol/L            <NA>\n",
       "1211  1211 2018-09-09 10:53:08   6.16133  mmol/L            <NA>\n",
       "1211  1211 2018-08-21 05:04:11   9.93584  mmol/L            <NA>\n",
       "1211  1211 2018-08-21 04:59:11   9.93584  mmol/L            <NA>\n",
       "1211  1211 2018-08-21 04:59:11   9.93584  mmol/L            <NA>\n",
       "1211  1211 2018-08-21 04:54:12  10.04690  mmol/L            <NA>\n",
       "1211  1211 2018-08-21 04:54:12  10.04680  mmol/L            <NA>\n",
       "1211  1211 2018-08-21 04:49:12  10.15790  mmol/L            <NA>\n",
       "1211  1211 2018-08-21 04:49:12  10.15790  mmol/L            <NA>\n",
       "1211  1211 2018-08-21 04:44:13  10.32440  mmol/L            <NA>\n",
       "1211  1211 2018-08-21 04:44:13  10.32440  mmol/L            <NA>"
      ]
     },
     "metadata": {},
     "output_type": "display_data"
    }
   ],
   "source": [
    "display(df_cgm_id.partitions[800].head(15));"
   ]
  },
  {
   "cell_type": "code",
   "execution_count": null,
   "id": "a8e616ce-c8fc-41d0-b74f-7f506196302b",
   "metadata": {},
   "outputs": [],
   "source": [
    "\n"
   ]
  }
 ],
 "metadata": {
  "kernelspec": {
   "display_name": "Python 3 (ipykernel)",
   "language": "python",
   "name": "python3"
  },
  "language_info": {
   "codemirror_mode": {
    "name": "ipython",
    "version": 3
   },
   "file_extension": ".py",
   "mimetype": "text/x-python",
   "name": "python",
   "nbconvert_exporter": "python",
   "pygments_lexer": "ipython3",
   "version": "3.11.8"
  }
 },
 "nbformat": 4,
 "nbformat_minor": 5
}
